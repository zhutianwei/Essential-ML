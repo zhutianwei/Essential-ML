{
 "cells": [
  {
   "cell_type": "markdown",
   "metadata": {
    "toc": true
   },
   "source": [
    "<h1>Table of Contents<span class=\"tocSkip\"></span></h1>\n",
    "<div class=\"toc\"><ul class=\"toc-item\"><li><span><a href=\"#Data-Structure-and-Algorithm\" data-toc-modified-id=\"Data-Structure-and-Algorithm-1\"><span class=\"toc-item-num\">1&nbsp;&nbsp;</span>Data Structure and Algorithm</a></span><ul class=\"toc-item\"><li><span><a href=\"#Chapter-4:-Recursion\" data-toc-modified-id=\"Chapter-4:-Recursion-1.1\"><span class=\"toc-item-num\">1.1&nbsp;&nbsp;</span>Chapter 4: Recursion</a></span></li><li><span><a href=\"#Chapter-12:-Sorting\" data-toc-modified-id=\"Chapter-12:-Sorting-1.2\"><span class=\"toc-item-num\">1.2&nbsp;&nbsp;</span>Chapter 12: Sorting</a></span></li><li><span><a href=\"#1.-Two-Sum\" data-toc-modified-id=\"1.-Two-Sum-1.3\"><span class=\"toc-item-num\">1.3&nbsp;&nbsp;</span>1. Two Sum</a></span></li><li><span><a href=\"#2.-Add-Two-Numbers\" data-toc-modified-id=\"2.-Add-Two-Numbers-1.4\"><span class=\"toc-item-num\">1.4&nbsp;&nbsp;</span>2. Add Two Numbers</a></span></li><li><span><a href=\"#3.-Longest-Substring-Without-Repeating-Characters\" data-toc-modified-id=\"3.-Longest-Substring-Without-Repeating-Characters-1.5\"><span class=\"toc-item-num\">1.5&nbsp;&nbsp;</span>3. Longest Substring Without Repeating Characters</a></span></li><li><span><a href=\"#4.-Median-of-Two-Sorted-Arrays\" data-toc-modified-id=\"4.-Median-of-Two-Sorted-Arrays-1.6\"><span class=\"toc-item-num\">1.6&nbsp;&nbsp;</span>4. Median of Two Sorted Arrays</a></span></li><li><span><a href=\"#5.-Longest-Palindromic-Substring\" data-toc-modified-id=\"5.-Longest-Palindromic-Substring-1.7\"><span class=\"toc-item-num\">1.7&nbsp;&nbsp;</span>5. Longest Palindromic Substring</a></span></li><li><span><a href=\"#15.-3Sum\" data-toc-modified-id=\"15.-3Sum-1.8\"><span class=\"toc-item-num\">1.8&nbsp;&nbsp;</span>15. 3Sum</a></span></li><li><span><a href=\"#6.-Letter-Combinations\" data-toc-modified-id=\"6.-Letter-Combinations-1.9\"><span class=\"toc-item-num\">1.9&nbsp;&nbsp;</span>6. Letter Combinations</a></span></li><li><span><a href=\"#146.-LRU-cache\" data-toc-modified-id=\"146.-LRU-cache-1.10\"><span class=\"toc-item-num\">1.10&nbsp;&nbsp;</span>146. LRU cache</a></span></li><li><span><a href=\"#20.-Valid-Parentheses\" data-toc-modified-id=\"20.-Valid-Parentheses-1.11\"><span class=\"toc-item-num\">1.11&nbsp;&nbsp;</span>20. Valid Parentheses</a></span></li><li><span><a href=\"#21-Merge-Two-Sorted-Lists\" data-toc-modified-id=\"21-Merge-Two-Sorted-Lists-1.12\"><span class=\"toc-item-num\">1.12&nbsp;&nbsp;</span>21 Merge Two Sorted Lists</a></span></li><li><span><a href=\"#200.-Number-of-Island\" data-toc-modified-id=\"200.-Number-of-Island-1.13\"><span class=\"toc-item-num\">1.13&nbsp;&nbsp;</span>200. Number of Island</a></span></li></ul></li></ul></div>"
   ]
  },
  {
   "cell_type": "markdown",
   "metadata": {},
   "source": [
    "# Data Structure and Algorithm\n",
    "\n",
    "* Introduction and Efficiency\n",
    "* Course Introduction\n",
    "* Syntax\n",
    "* Efficiency\n",
    "* Notation of Efficiency\n",
    "* List-Based Collections\n",
    "    * Lists/Arrays\n",
    "    * Linked Lists\n",
    "    * Stacks\n",
    "    * Queues\n",
    "* Searching and Sorting\n",
    "    * Binary Search\n",
    "    * Recursion\n",
    "    * Bubble Sort\n",
    "    * Merge Sort\n",
    "    * Quick Sort\n",
    "* Maps and Hashing\n",
    "    * Maps\n",
    "    * Hashing\n",
    "    * Collisions\n",
    "    * Hashing Conventions\n",
    "* Trees\n",
    "    * Trees\n",
    "    * Tree Traversal\n",
    "    * Binary Trees\n",
    "    * Binary Search Trees\n",
    "    * Heaps\n",
    "    * Self-Balancing Trees\n",
    "* Graphs\n",
    "    * Graphs\n",
    "    * Graph Properties\n",
    "    * Graph Representation\n",
    "    * Graph Traversal\n",
    "    * Graph Paths\n",
    "* Case Studies in Algorithms\n",
    "* Shortest Path Problem\n",
    "* Knapsack Problem\n",
    "* Traveling Salesman Problem\n",
    "* Technical Interview Tips\n",
    "* Mock Interview Breakdown\n",
    "* Additional Tips\n",
    "* Practice with Pramp"
   ]
  },
  {
   "cell_type": "code",
   "execution_count": null,
   "metadata": {},
   "outputs": [],
   "source": [
    "class NewList(list):\n",
    "    pass\n",
    "        \n",
    "a = NewList()\n",
    "print(a)"
   ]
  },
  {
   "cell_type": "code",
   "execution_count": null,
   "metadata": {},
   "outputs": [],
   "source": []
  },
  {
   "cell_type": "markdown",
   "metadata": {},
   "source": [
    "## Chapter 4: Recursion"
   ]
  },
  {
   "cell_type": "code",
   "execution_count": 1,
   "metadata": {},
   "outputs": [],
   "source": [
    "def factorial(n):\n",
    "    if n == 0:\n",
    "        return 1\n",
    "    else:\n",
    "        return n * factorial(n-1)"
   ]
  },
  {
   "cell_type": "code",
   "execution_count": null,
   "metadata": {},
   "outputs": [],
   "source": [
    "def binary_search(data, target, low, high):\n",
    "    \"\"\"Return True if target is found in indicated portion of a Python list.\n",
    "\n",
    "    The search only considers the portion from data[low] to data[high] inclusive.\n",
    "    \"\"\"\n",
    "    if low > high:\n",
    "        return False                    # interval is empty; no match\n",
    "    else:\n",
    "        mid = (low + high) // 2\n",
    "        if target == data[mid]:         # found a match\n",
    "            return True\n",
    "        elif target < data[mid]:\n",
    "        # recur on the portion left of the middle\n",
    "            return binary_search(data, target, low, mid - 1)\n",
    "        else:\n",
    "        # recur on the portion right of the middle\n",
    "            return binary_search(data, target, mid + 1, high)"
   ]
  },
  {
   "cell_type": "code",
   "execution_count": null,
   "metadata": {},
   "outputs": [],
   "source": [
    "# def bad_fibonacci(n):\n",
    "#   \"\"\"Return the nth Fibonacci number.\"\"\"\n",
    "#   if n <= 1:\n",
    "#     return n\n",
    "#   else:\n",
    "#     return bad_fibonacci(n-2) + bad_fibonacci(n-1)\n",
    "\n",
    "def good_fibonacci(n):\n",
    "    \"\"\"Return pair of Fibonacci numbers, F(n) and F(n-1).\"\"\"\n",
    "    if n <= 1:\n",
    "        return (n,0)\n",
    "    else:\n",
    "        (a, b) = good_fibonacci(n-1)\n",
    "        return (a+b, a)"
   ]
  },
  {
   "cell_type": "code",
   "execution_count": null,
   "metadata": {},
   "outputs": [],
   "source": [
    "def linear_sum(S, n):\n",
    "    \"\"\"Return the sum of the first n numbers of sequence S.\"\"\"\n",
    "    if n == 0:\n",
    "        return 0\n",
    "    else:\n",
    "        return linear_sum(S, n-1) + S[n-1]\n",
    "\n",
    "linear_sum([4, 3, 6, 2, 8], 5)"
   ]
  },
  {
   "cell_type": "code",
   "execution_count": null,
   "metadata": {},
   "outputs": [],
   "source": [
    "def reverse(S, start, stop):\n",
    "    \"\"\"Reverse elements in implicit slice S[start:stop].\"\"\"\n",
    "    if start < stop - 1:                         # if at least 2 elements:\n",
    "        S[start], S[stop-1] = S[stop-1], S[start]  # swap first and last\n",
    "        reverse(S, start+1, stop-1)                # recur on rest\n",
    "\n",
    "S = [4,3,6,2,8,9,5]\n",
    "reverse(S,0,7)\n",
    "S"
   ]
  },
  {
   "cell_type": "code",
   "execution_count": null,
   "metadata": {},
   "outputs": [],
   "source": [
    "# # power slow\n",
    "# def power(x, n):\n",
    "#     \"\"\"Compute the value x**n for integer n.\"\"\"\n",
    "#     if n == 0:\n",
    "#         return 1\n",
    "#     else:\n",
    "#         return x * power(x, n-1)\n",
    "\n",
    "# power fast\n",
    "def power(x, n):\n",
    "    \"\"\"Compute the value x**n for integer n.\"\"\"\n",
    "    if n == 0:\n",
    "        return 1\n",
    "    else:\n",
    "        partial = power(x, n // 2)          # rely on truncated division\n",
    "        result = partial * partial\n",
    "        if n % 2 == 1:                      # if n odd, include extra factor of x\n",
    "            result *= x                       \n",
    "        return result\n",
    "    \n",
    "power(3,2)"
   ]
  },
  {
   "cell_type": "code",
   "execution_count": null,
   "metadata": {},
   "outputs": [],
   "source": [
    "def binary_sum(S, start, stop):\n",
    "    \"\"\"Return the sum of the numbers in implicit slice S[start:stop].\"\"\"\n",
    "    if start >= stop:                      # zero elements in slice\n",
    "        return 0\n",
    "    elif start == stop-1:                  # one element in slice\n",
    "        return S[start]\n",
    "    else:                                  # two or more elements in slice\n",
    "        mid = (start + stop) // 2\n",
    "        return binary_sum(S, start, mid) + binary_sum(S, mid, stop)"
   ]
  },
  {
   "cell_type": "markdown",
   "metadata": {},
   "source": [
    "## Chapter 12: Sorting\n",
    "\n",
    "• Insertion-sort (see Sections 5.5.2, 7.5, and 9.4.1)  \n",
    "• Selection-sort (see Section 9.4.1)  \n",
    "• Bubble-sort (see Exercise C-7.38)  \n",
    "• Heap-sort (see Section 9.4.2)"
   ]
  },
  {
   "cell_type": "code",
   "execution_count": null,
   "metadata": {},
   "outputs": [],
   "source": [
    "def insertion_sort(A):\n",
    "    \"\"\"Sort list of comparable elements into nondecreasing order.\"\"\"\n",
    "    for k in range(1, len(A)):         # from 1 to n-1\n",
    "        cur = A[k]                       # current element to be inserted\n",
    "        j = k                            # find correct index j for current\n",
    "        while j > 0 and A[j-1] > cur:    # element A[j-1] must be after current\n",
    "            A[j] = A[j-1]\n",
    "            j -= 1\n",
    "        A[j] = cur                       # cur is now in the right place\n",
    "        \n",
    "A = [3,2,4,5,7]\n",
    "insertion_sort(A)\n",
    "A"
   ]
  },
  {
   "cell_type": "code",
   "execution_count": null,
   "metadata": {},
   "outputs": [],
   "source": [
    "def merge(S1, S2, S):\n",
    "    \"\"\"Merge two sorted Python lists S1 and S2 into properly sized list S.\"\"\"\n",
    "    i = j = 0\n",
    "    while i + j < len(S):\n",
    "        if j == len(S2) or (i < len(S1) and S1[i] < S2[j]):\n",
    "            S[i+j] = S1[i]      # copy ith element of S1 as next item of S\n",
    "            i += 1\n",
    "        else:\n",
    "            S[i+j] = S2[j]      # copy jth element of S2 as next item of S\n",
    "            j += 1\n",
    "\n",
    "def merge_sort(S):\n",
    "    \"\"\"Sort the elements of Python list S using the merge-sort algorithm.\"\"\"\n",
    "    n = len(S)\n",
    "    if n < 2:\n",
    "        return                # list is already sorted\n",
    "  \n",
    "    # divide\n",
    "    mid = n // 2\n",
    "    S1 = S[0:mid]           # copy of first half\n",
    "    S2 = S[mid:n]           # copy of second half\n",
    "    # conquer (with recursion)\n",
    "    merge_sort(S1)          # sort copy of first half\n",
    "    merge_sort(S2)          # sort copy of second half\n",
    "    # merge results\n",
    "    merge(S1, S2, S)        # merge sorted halves back into S\n",
    "    \n",
    "S = [85,24,63,45,17,31,96,50]\n",
    "merge_sort(S)\n",
    "S"
   ]
  },
  {
   "cell_type": "code",
   "execution_count": null,
   "metadata": {},
   "outputs": [],
   "source": [
    "def quick_sort(S):\n",
    "    \"\"\"Sort the elements of queue S using the quick-sort algorithm.\"\"\"\n",
    "    n = len(S)\n",
    "    if n < 2:\n",
    "        return                            # list is already sorted\n",
    "    # divide\n",
    "    p = S.first()                       # using first as arbitrary pivot\n",
    "    L = LinkedQueue()\n",
    "    E = LinkedQueue()\n",
    "    G = LinkedQueue()\n",
    "    while not S.is_empty():             # divide S into L, E, and G\n",
    "        if S.first() < p:\n",
    "            L.enqueue(S.dequeue())\n",
    "        elif p < S.first():\n",
    "            G.enqueue(S.dequeue())\n",
    "        else:                             # S.first() must equal pivot\n",
    "            E.enqueue(S.dequeue())\n",
    "    # conquer (with recursion)\n",
    "    quick_sort(L)                       # sort elements less than p\n",
    "    quick_sort(G)                       # sort elements greater than p\n",
    "        # concatenate results\n",
    "    while not L.is_empty():\n",
    "        S.enqueue(L.dequeue())\n",
    "    while not E.is_empty():\n",
    "        S.enqueue(E.dequeue())\n",
    "    while not G.is_empty():\n",
    "        S.enqueue(G.dequeue()) \n",
    "        \n",
    "[85,24,63,45,17,31,96,50]\n",
    "S = ArrayQueue()\n",
    "S.enqueue(85)\n",
    "S.enqueue(24)\n",
    "S.enqueue(63)\n",
    "S.__len__()\n",
    "quick_sort(S)\n",
    "S"
   ]
  },
  {
   "cell_type": "code",
   "execution_count": null,
   "metadata": {},
   "outputs": [],
   "source": [
    "# Python program to check if the input number is prime or not\n",
    "\n",
    "num = 407\n",
    "\n",
    "# take input from the user\n",
    "# num = int(input(\"Enter a number: \"))\n",
    "\n",
    "# prime numbers are greater than 1\n",
    "if num > 1:\n",
    "   # check for factors\n",
    "   for i in range(2,num):\n",
    "       if (num % i) == 0:\n",
    "           print(num,\"is not a prime number\")\n",
    "           print(i,\"times\",num//i,\"is\",num)\n",
    "           break\n",
    "   else:\n",
    "       print(num,\"is a prime number\")\n",
    "       \n",
    "# if input number is less than\n",
    "# or equal to 1, it is not prime\n",
    "else:\n",
    "   print(num,\"is not a prime number\")"
   ]
  },
  {
   "cell_type": "markdown",
   "metadata": {},
   "source": [
    "## 1. Two Sum"
   ]
  },
  {
   "cell_type": "code",
   "execution_count": 167,
   "metadata": {},
   "outputs": [
    {
     "data": {
      "text/plain": [
       "[0, 2]"
      ]
     },
     "execution_count": 167,
     "metadata": {},
     "output_type": "execute_result"
    }
   ],
   "source": [
    "# class Solution(object):\n",
    "#     def twoSum(self, nums, target):\n",
    "#         \"\"\"\n",
    "#         :type nums: List[int]\n",
    "#         :type target: int\n",
    "#         :rtype: List[int]\n",
    "#         \"\"\"\n",
    "#         for i in range(len(nums)):\n",
    "#             for j in range(i+1, len(nums)):\n",
    "#                 if nums[i] + nums[j] == target:\n",
    "#                     return [i, j]\n",
    "\n",
    "# def twoSum(nums, target):\n",
    "#     \"\"\"\n",
    "#     :type nums: List[int]\n",
    "#     :type target: int\n",
    "#     :rtype: List[int]\n",
    "#     \"\"\"\n",
    "#     dict = {}\n",
    "#     for i in range(len(nums)):\n",
    "#         if target-nums[i] not in dict:\n",
    "#             dict[nums[i]]=i\n",
    "#         else:\n",
    "#             return [dict[target-nums[i]],i]\n",
    "            \n",
    "# twoSum([2,7,11,15],9) \n",
    "\n",
    "class Solution:\n",
    "    def twoSum(self, nums, target):\n",
    "        \"\"\"\n",
    "        :type nums: List[int]\n",
    "        :type target: int\n",
    "        :rtype: List[int]\n",
    "        \"\"\"\n",
    "        dic = {}\n",
    "        for i, num in enumerate(nums):\n",
    "            n = target - num\n",
    "            if n not in dic:\n",
    "                dic[num] = i\n",
    "            else:\n",
    "                return [dic[n], i]\n",
    "            \n",
    "x = Solution()\n",
    "x.twoSum([2,7,11,15],13)"
   ]
  },
  {
   "cell_type": "code",
   "execution_count": 11,
   "metadata": {},
   "outputs": [
    {
     "name": "stdout",
     "output_type": "stream",
     "text": [
      "<enumerate object at 0x10f1a25a0>\n"
     ]
    }
   ],
   "source": [
    "x = enumerate([2,7,11,15])\n",
    "print(x)"
   ]
  },
  {
   "cell_type": "markdown",
   "metadata": {},
   "source": [
    "## 2. Add Two Numbers"
   ]
  },
  {
   "cell_type": "code",
   "execution_count": 19,
   "metadata": {},
   "outputs": [],
   "source": [
    "# Definition for singly-linked list.\n",
    "# class ListNode:\n",
    "#     def __init__(self, x):\n",
    "#         self.val = x\n",
    "#         self.next = None\n",
    "\n",
    "class Solution:\n",
    "    def addTwoNumbers(self, l1, l2, c = 0):\n",
    "        \"\"\"\n",
    "        :type l1: ListNode\n",
    "        :type l2: ListNode\n",
    "        :rtype: ListNode\n",
    "        \"\"\"\n",
    "        val = l1.val + l2.val + c\n",
    "        c = val // 10\n",
    "        ret = ListNode(val % 10 ) \n",
    "        \n",
    "        if (l1.next != None or l2.next != None or c != 0):\n",
    "            if l1.next == None:\n",
    "                l1.next = ListNode(0)\n",
    "            if l2.next == None:\n",
    "                l2.next = ListNode(0)\n",
    "                \n",
    "            ret.next = self.addTwoNumbers(l1.next, l2.next, c)\n",
    "        return ret\n",
    "    \n",
    "class Solution:\n",
    "    def addTwoNumbers(self, l1, l2):\n",
    "        \"\"\"\n",
    "        :type l1: ListNode\n",
    "        :type l2: ListNode\n",
    "        :rtype: ListNode\n",
    "        \"\"\"     \n",
    "        # 因为处理到最后的时候，可能输入的 l1 和 l2 都不是一个 ListNode 而是 None 了\n",
    "        if not l1 and not l2: \n",
    "            return \n",
    "        elif not (l1 and l2): # l1 和 l2 其中一个是 None \n",
    "            return l1 or l2\n",
    "        else: # l1 和 l2 都不是 None \n",
    "            if l1.val + l2.val < 10: # 个位数相加没有进位\n",
    "                l3 = ListNode(l1.val+l2.val)\n",
    "                l3.next = self.addTwoNumbers(l1.next, l2.next) # 递归调用\n",
    "            else: # # 个位数相加有进位\n",
    "                l3 = ListNode(l1.val+l2.val-10)\n",
    "                # 递归调用，记得加上进位\n",
    "                l3.next = self.addTwoNumbers(l1.next, self.addTwoNumbers(l2.next, ListNode(1)))\n",
    "        return l3"
   ]
  },
  {
   "cell_type": "code",
   "execution_count": 17,
   "metadata": {},
   "outputs": [
    {
     "data": {
      "text/plain": [
       "2"
      ]
     },
     "execution_count": 17,
     "metadata": {},
     "output_type": "execute_result"
    }
   ],
   "source": [
    "%10"
   ]
  },
  {
   "cell_type": "markdown",
   "metadata": {},
   "source": [
    "## 3. Longest Substring Without Repeating Characters"
   ]
  },
  {
   "cell_type": "code",
   "execution_count": 102,
   "metadata": {},
   "outputs": [
    {
     "name": "stdout",
     "output_type": "stream",
     "text": [
      "0 0 1\n",
      "0 0 2\n",
      "0 0 3\n",
      "1 1 3\n",
      "2 2 3\n",
      "3 3 3\n",
      "5 5 3\n",
      "7 7 3\n"
     ]
    },
    {
     "data": {
      "text/plain": [
       "3"
      ]
     },
     "execution_count": 102,
     "metadata": {},
     "output_type": "execute_result"
    }
   ],
   "source": [
    "class Solution:\n",
    "    def lengthOfLongestSubstring(self, s):\n",
    "        \"\"\"\n",
    "        :type s: str\n",
    "        :rtype: int\n",
    "        \"\"\"\n",
    "        # start 指针指向的是当前子串首字符在 input 中对应的index\n",
    "        res = 0\n",
    "        start = 0 \n",
    "        n = len(s) \n",
    "        maps = {}\n",
    "        for i in range(n):\n",
    "            start = max(start, maps.get(s[i], -1) + 1) # 找到当前子串新的起点\n",
    "            res = max(res, i - start + 1) # 当前子串满足条件了，更新结果\n",
    "            print(maps.get(s[i],-1)+1,start,res)\n",
    "            maps[s[i]] = i # 将当前字符与其在 input 中的 index 记录下来\n",
    "        return res\n",
    "\n",
    "s = Solution()\n",
    "s.lengthOfLongestSubstring('abcabcbb')"
   ]
  },
  {
   "cell_type": "code",
   "execution_count": 103,
   "metadata": {},
   "outputs": [
    {
     "data": {
      "text/plain": [
       "-1"
      ]
     },
     "execution_count": 103,
     "metadata": {},
     "output_type": "execute_result"
    }
   ],
   "source": [
    "d = {'a':0,\n",
    "     'b':1,\n",
    "     'c':3,\n",
    "     'd':4,\n",
    "     'e':5}\n",
    "\n",
    "d.get('g', -1)"
   ]
  },
  {
   "cell_type": "markdown",
   "metadata": {},
   "source": [
    "## 4. Median of Two Sorted Arrays"
   ]
  },
  {
   "cell_type": "code",
   "execution_count": 54,
   "metadata": {},
   "outputs": [
    {
     "name": "stdout",
     "output_type": "stream",
     "text": [
      "5\n",
      "yes\n"
     ]
    },
    {
     "data": {
      "text/plain": [
       "4"
      ]
     },
     "execution_count": 54,
     "metadata": {},
     "output_type": "execute_result"
    }
   ],
   "source": [
    "class Solution(object):\n",
    "    def findMedianSortedArrays(self, nums1, nums2):\n",
    "        \"\"\"\n",
    "        :type nums1: List[int]\n",
    "        :type nums2: List[int]\n",
    "        :rtype: float\n",
    "        \"\"\"\n",
    "        def findKth(A, pa, B, pb, k):\n",
    "            res = 0\n",
    "            m = 0\n",
    "            while pa < len(A) and pb < len(B) and m < k:\n",
    "                if A[pa] < B[pb]:\n",
    "                    res = A[pa]\n",
    "                    pa += 1\n",
    "                else:\n",
    "                    res = B[pb]\n",
    "                    pb += 1\n",
    "                m += 1\n",
    "\n",
    "            while pa < len(A) and m < k:\n",
    "                res = A[pa]\n",
    "                pa += 1\n",
    "                m += 1\n",
    "\n",
    "            while pb < len(B) and m < k:\n",
    "                res = B[pb]\n",
    "                pb += 1\n",
    "                m += 1\n",
    "\n",
    "            return res\n",
    "\n",
    "        n = len(nums1) + len(nums2)\n",
    "        print(n)\n",
    "        if n % 2 == 1:\n",
    "            print('yes')\n",
    "            return findKth(nums1, 0, nums2, 0, n // 2 + 1)\n",
    "        else:\n",
    "            smaller = findKth(nums1, 0, nums2, 0, n // 2)\n",
    "            bigger = findKth(nums1, 0, nums2, 0, n // 2 + 1)\n",
    "            return (smaller + bigger) / 2.0\n",
    "        \n",
    "a = Solution()\n",
    "a.findMedianSortedArrays([1,4,5],[2,6])"
   ]
  },
  {
   "cell_type": "code",
   "execution_count": 65,
   "metadata": {},
   "outputs": [
    {
     "data": {
      "text/plain": [
       "6"
      ]
     },
     "execution_count": 65,
     "metadata": {},
     "output_type": "execute_result"
    }
   ],
   "source": [
    "def findKth(A, pa, B, pb, k):\n",
    "    res = 0\n",
    "    m = 0\n",
    "    while pa < len(A) and pb < len(B) and m < k:\n",
    "        if A[pa] < B[pb]:\n",
    "            res = A[pa]\n",
    "            pa += 1\n",
    "        else:\n",
    "            res = B[pb]\n",
    "            pb += 1\n",
    "        m += 1\n",
    "\n",
    "    while pa < len(A) and m < k:\n",
    "        res = A[pa]\n",
    "        pa += 1\n",
    "        m += 1\n",
    "\n",
    "    while pb < len(B) and m < k:\n",
    "        res = B[pb]\n",
    "        pb += 1\n",
    "        m += 1\n",
    "\n",
    "    return res\n",
    "\n",
    "findKth([1,4,5],0,[2,6],0,5)"
   ]
  },
  {
   "cell_type": "code",
   "execution_count": 47,
   "metadata": {},
   "outputs": [
    {
     "data": {
      "text/plain": [
       "1"
      ]
     },
     "execution_count": 47,
     "metadata": {},
     "output_type": "execute_result"
    }
   ],
   "source": [
    "5//3"
   ]
  },
  {
   "cell_type": "code",
   "execution_count": 64,
   "metadata": {},
   "outputs": [
    {
     "data": {
      "text/plain": [
       "3"
      ]
     },
     "execution_count": 64,
     "metadata": {},
     "output_type": "execute_result"
    }
   ],
   "source": [
    "def findKth(A, B, k):\n",
    "    if len(A) == 0: # A 为空，第 k 小的数就是 B 中第k个数\n",
    "        return B[k-1]\n",
    "    if len(B) == 0: # B 为空，第 k 小的数就是 A 中第k个数\n",
    "        return A[k-1]\n",
    "    if k == 1: # k 为 1 就是求最小的数\n",
    "        return min(A[0], B[0])\n",
    "\n",
    "    a = A[k // 2 - 1] if len(A) >= k // 2 else None\n",
    "    b = B[k // 2 - 1] if len(B) >= k // 2 else None\n",
    "\n",
    "    # 如果 A 总共都没有 k // 2 个数字，那么 B 中 前 k // 2 个数字肯定在前 k 个数字中（升序排序）\n",
    "    # 令 i == k // 2， n < k//2\n",
    "    # 再令 B1 <= B2 <= B3 ... Bi\n",
    "    # \n",
    "    #                      A1 <= A2 <= A3 ... An, \n",
    "    #           B1 -> Bi\n",
    "    #             .... B1 -> Bi\n",
    "    #                     .....  B1 -> Bi\n",
    "    #                                  .....  B1 -> Bi\n",
    "    #                                               .....  B1 -> Bi\n",
    "    # 我们发现 B1 -> Bi 窗口无论怎么滑动，他们永远在前 k 个数字中\n",
    "\n",
    "    if a is None: \n",
    "        return findKth(A, B[k // 2:], k - k // 2) # 这里要注意：因为 k//2 不一定等于 (k - k//2)\n",
    "    if b is None:\n",
    "        return findKth(A[k // 2:], B, k - k // 2)\n",
    "    if a < b:\n",
    "        return findKth(A[k // 2:], B, k - k // 2)\n",
    "    else:\n",
    "        return findKth(A, B[k // 2:], k - k // 2)\n",
    "\n",
    "\n",
    "    if b is None or (a is not None and a < b):\n",
    "        return findKth(A[k // 2:], B, k - k // 2)\n",
    "    return findKth(A, B[k // 2:], k - k // 2)\n",
    "\n",
    "findKth([4,2,3],[5,6],3)"
   ]
  },
  {
   "cell_type": "markdown",
   "metadata": {},
   "source": [
    "## 5. Longest Palindromic Substring"
   ]
  },
  {
   "cell_type": "code",
   "execution_count": null,
   "metadata": {},
   "outputs": [],
   "source": [
    "class Solution:\n",
    "    def longestPalindrome(self, s: str) -> str:\n",
    "        res = ''\n",
    "        dp = [[False] * len(s) for i in range(len(s))]\n",
    "        for i in range(len(s)-1, -1, -1):\n",
    "            for j in range(i, len(s)):\n",
    "                dp[i][j] = (s[i] == s[j]) and (j - i < 3 or dp[i+1][j-1])\n",
    "                if dp[i][j] and (j - i + 1 > len(res)):\n",
    "                    res = s[i:j+1]\n",
    "        return res\n",
    "    \n",
    "class Solution:\n",
    "    def longestPalindrome(self, s: str) -> str:\n",
    "        m = ''  # Memory to remember a palindrome\n",
    "        for i in range(len(s)):  # i = start, O = n\n",
    "            for j in range(len(s), i, -1):  # j = end, O = n^2\n",
    "                if len(m) >= j-i:  # To reduce time\n",
    "                    break\n",
    "                elif s[i:j] == s[i:j][::-1]:\n",
    "                    m = s[i:j]\n",
    "                    break\n",
    "        return m"
   ]
  },
  {
   "cell_type": "code",
   "execution_count": 21,
   "metadata": {},
   "outputs": [
    {
     "data": {
      "text/plain": [
       "'o'"
      ]
     },
     "execution_count": 21,
     "metadata": {},
     "output_type": "execute_result"
    }
   ],
   "source": [
    "s = 'love'\n",
    "s[1:2]"
   ]
  },
  {
   "cell_type": "code",
   "execution_count": 27,
   "metadata": {},
   "outputs": [
    {
     "name": "stdout",
     "output_type": "stream",
     "text": [
      "babbad\n",
      "babba\n",
      "babb\n",
      "bab\n",
      "ba\n",
      "b\n",
      "abbad\n",
      "abba\n",
      "abb\n",
      "ab\n",
      "a\n",
      "bbad\n",
      "bba\n",
      "bb\n",
      "b\n",
      "bad\n",
      "ba\n",
      "b\n",
      "ad\n",
      "a\n",
      "d\n"
     ]
    }
   ],
   "source": [
    "s = 'babbad'\n",
    "for i in range(len(s)):\n",
    "    for j in range(len(s),i,-1):\n",
    "#         print(i,j)\n",
    "        print(s[i:j])"
   ]
  },
  {
   "cell_type": "markdown",
   "metadata": {},
   "source": [
    "## 15. 3Sum"
   ]
  },
  {
   "cell_type": "code",
   "execution_count": null,
   "metadata": {},
   "outputs": [],
   "source": [
    "class Solution:\n",
    "    def threeSum(self, nums):\n",
    "        res = []\n",
    "        nums.sort()\n",
    "        \n",
    "        for i in range(len(nums)):\n",
    "            if i > 0 and nums[i] == nums[i-1]:\n",
    "                continue\n",
    "        \n",
    "            l = i+1\n",
    "            r = len(nums)-1\n",
    "            \n",
    "            while l < r:\n",
    "                s = nums[i] + nums[l] + nums[r]\n",
    "                if s < 0:\n",
    "                    l += 1 \n",
    "                elif s > 0:\n",
    "                    r -= 1\n",
    "                else: # s == 0\n",
    "                    res.append((nums[i], nums[l], nums[r]))\n",
    "                    l += 1\n",
    "                    r -= 1\n",
    "                    \n",
    "                    while l < r and nums[l] == nums[l+1]:\n",
    "                        l += 1\n",
    "                    \n",
    "                    while l < r and nums[r] == nums[r-1]:\n",
    "                        r -= 1\n",
    "        return res"
   ]
  },
  {
   "cell_type": "code",
   "execution_count": null,
   "metadata": {},
   "outputs": [],
   "source": [
    "class Solution:\n",
    "    def threeSum(self, nums: List[int]) -> List[List[int]]:\n",
    "        nums.sort()\n",
    "        res =[]\n",
    "        i = 0\n",
    "        for i in range(len(nums)):\n",
    "            if i == 0 or nums[i] > nums[i-1]:\n",
    "                l = i+1\n",
    "                r = len(nums)-1\n",
    "                while l < r:\n",
    "                    s = nums[i] + nums[l] + nums[r]\n",
    "                    if s ==0:\n",
    "                        res.append([nums[i], nums[l], nums[r]])\n",
    "                        l +=1\n",
    "                        r -=1\n",
    "                        while l < r and nums[l] == nums[l-1]:\n",
    "                            l += 1\n",
    "                        while r > l and nums[r] == nums[r+1]:\n",
    "                            r -= 1\n",
    "                    elif s>0:\n",
    "                        r -=1\n",
    "                    else :\n",
    "                        l +=1\n",
    "        return res"
   ]
  },
  {
   "cell_type": "code",
   "execution_count": 29,
   "metadata": {},
   "outputs": [
    {
     "name": "stdout",
     "output_type": "stream",
     "text": [
      "-4 -4 -4\n",
      "-4 -4 -1\n",
      "-4 -4 -1\n",
      "-4 -4 0\n",
      "-4 -4 1\n",
      "-4 -4 2\n",
      "-4 -1 -1\n",
      "-4 -1 -1\n",
      "-4 -1 0\n",
      "-4 -1 1\n",
      "-4 -1 2\n",
      "-4 -1 -1\n",
      "-4 -1 0\n",
      "-4 -1 1\n",
      "-4 -1 2\n",
      "-4 0 0\n",
      "-4 0 1\n",
      "-4 0 2\n",
      "-4 1 1\n",
      "-4 1 2\n",
      "-4 2 2\n",
      "-1 -1 -1\n",
      "-1 -1 -1\n",
      "-1 -1 0\n",
      "-1 -1 1\n",
      "-1 -1 2\n",
      "-1 -1 -1\n",
      "-1 -1 0\n",
      "-1 -1 1\n",
      "-1 -1 2\n",
      "-1 0 0\n",
      "-1 0 1\n",
      "-1 0 2\n",
      "-1 1 1\n",
      "-1 1 2\n",
      "-1 2 2\n",
      "-1 -1 -1\n",
      "-1 -1 0\n",
      "-1 -1 1\n",
      "-1 -1 2\n",
      "-1 0 0\n",
      "-1 0 1\n",
      "-1 0 2\n",
      "-1 1 1\n",
      "-1 1 2\n",
      "-1 2 2\n",
      "0 0 0\n",
      "0 0 1\n",
      "0 0 2\n",
      "0 1 1\n",
      "0 1 2\n",
      "0 2 2\n",
      "1 1 1\n",
      "1 1 2\n",
      "1 2 2\n",
      "2 2 2\n"
     ]
    }
   ],
   "source": [
    "nums = [-4,-1,-1,0,1,2]\n",
    "for i in range(len(nums)):\n",
    "    for j in range(i,len(nums)):\n",
    "        for k in range(j,len(nums)):\n",
    "            print(nums[i],nums[j],nums[k])"
   ]
  },
  {
   "cell_type": "markdown",
   "metadata": {},
   "source": [
    "## 6. Letter Combinations"
   ]
  },
  {
   "cell_type": "code",
   "execution_count": null,
   "metadata": {},
   "outputs": [],
   "source": [
    "class Solution(object):\n",
    "    def letterCombinations(self, digits):\n",
    "        \"\"\"\n",
    "        :type digits: str\n",
    "        :rtype: List[str]\n",
    "        \"\"\"\n",
    "        lookup = {\n",
    "            '2':['a','b','c'],\n",
    "            '3':['d','e','f'],\n",
    "            '4':['g','h','i'],\n",
    "            '5':['j','k','l'],\n",
    "            '6':['m','n','o'],\n",
    "            '7':['p','q','r','s'],\n",
    "            '8':['t','u','v'],\n",
    "            '9':['w','x','y','z']\n",
    "        }\n",
    "        res = []\n",
    "\n",
    "        def helper(s, digits):\n",
    "            if len(digits) == 0:\n",
    "                res.append(s)\n",
    "            else:\n",
    "                cur_digit = digits[0]\n",
    "                for char in lookup[cur_digit]:\n",
    "                    helper(s+char, digits[1:])\n",
    "\n",
    "        if not digits or len(digits) == 0:\n",
    "            return res\n",
    "        helper('', digits)\n",
    "        return res"
   ]
  },
  {
   "cell_type": "markdown",
   "metadata": {},
   "source": [
    "## 146. LRU cache"
   ]
  },
  {
   "cell_type": "code",
   "execution_count": null,
   "metadata": {},
   "outputs": [],
   "source": [
    "from collections import OrderedDict\n",
    "class LRUCache(OrderedDict):\n",
    "\n",
    "    def __init__(self, capacity):\n",
    "        \"\"\"\n",
    "        :type capacity: int\n",
    "        \"\"\"\n",
    "        self.capacity = capacity\n",
    "\n",
    "    def get(self, key):\n",
    "        \"\"\"\n",
    "        :type key: int\n",
    "        :rtype: int\n",
    "        \"\"\"\n",
    "        if key not in self:\n",
    "            return - 1\n",
    "        \n",
    "        self.move_to_end(key)\n",
    "        return self[key]\n",
    "\n",
    "    def put(self, key, value):\n",
    "        \"\"\"\n",
    "        :type key: int\n",
    "        :type value: int\n",
    "        :rtype: void\n",
    "        \"\"\"\n",
    "        if key in self:\n",
    "            self.move_to_end(key)\n",
    "        self[key] = value\n",
    "        if len(self) > self.capacity:\n",
    "            self.popitem(last = False)\n",
    "\n",
    "# Your LRUCache object will be instantiated and called as such:\n",
    "# obj = LRUCache(capacity)\n",
    "# param_1 = obj.get(key)\n",
    "# obj.put(key,value)"
   ]
  },
  {
   "cell_type": "markdown",
   "metadata": {},
   "source": [
    "## 20. Valid Parentheses "
   ]
  },
  {
   "cell_type": "code",
   "execution_count": 166,
   "metadata": {},
   "outputs": [],
   "source": [
    "class Solution(object):\n",
    "    def isValid(self, s):\n",
    "        while \"()\" in s or \"{}\" in s or '[]' in s:\n",
    "            s = s.replace(\"()\", \"\").replace('{}', \"\").replace('[]', \"\")\n",
    "        return s == ''"
   ]
  },
  {
   "cell_type": "markdown",
   "metadata": {},
   "source": [
    "## 21 Merge Two Sorted Lists"
   ]
  },
  {
   "cell_type": "code",
   "execution_count": 124,
   "metadata": {},
   "outputs": [],
   "source": [
    "class ListNode:\n",
    "    def __init__(self, x):\n",
    "        self.val = x\n",
    "        self.next = None\n",
    "\n",
    "class Solution:\n",
    "    def mergeTwoLists(self, l1, l2):\n",
    "#         if not l1 or not l2:\n",
    "#             return l1 or l2\n",
    "        \n",
    "        if l1 == None:\n",
    "            return l2\n",
    "        elif l2 == None:\n",
    "            return l1\n",
    "        \n",
    "        if l1.val < l2.val:\n",
    "            l1.next = self.mergeTwoLists(l1.next, l2)\n",
    "            return l1\n",
    "        else:\n",
    "            l2.next = self.mergeTwoLists(l1, l2.next)\n",
    "            return l2\n",
    "    \n"
   ]
  },
  {
   "cell_type": "code",
   "execution_count": 123,
   "metadata": {},
   "outputs": [
    {
     "ename": "AttributeError",
     "evalue": "'NoneType' object has no attribute 'val'",
     "output_type": "error",
     "traceback": [
      "\u001b[0;31m---------------------------------------------------------------------------\u001b[0m",
      "\u001b[0;31mAttributeError\u001b[0m                            Traceback (most recent call last)",
      "\u001b[0;32m<ipython-input-123-49b6632b8b78>\u001b[0m in \u001b[0;36m<module>\u001b[0;34m\u001b[0m\n\u001b[1;32m      6\u001b[0m \u001b[0mx\u001b[0m\u001b[0;34m.\u001b[0m\u001b[0mval\u001b[0m\u001b[0;34m\u001b[0m\u001b[0;34m\u001b[0m\u001b[0m\n\u001b[1;32m      7\u001b[0m \u001b[0mx\u001b[0m\u001b[0;34m.\u001b[0m\u001b[0mnext\u001b[0m\u001b[0;34m.\u001b[0m\u001b[0mval\u001b[0m\u001b[0;34m\u001b[0m\u001b[0;34m\u001b[0m\u001b[0m\n\u001b[0;32m----> 8\u001b[0;31m \u001b[0mx\u001b[0m\u001b[0;34m.\u001b[0m\u001b[0mnext\u001b[0m\u001b[0;34m.\u001b[0m\u001b[0mnext\u001b[0m\u001b[0;34m.\u001b[0m\u001b[0mval\u001b[0m\u001b[0;34m\u001b[0m\u001b[0;34m\u001b[0m\u001b[0m\n\u001b[0m",
      "\u001b[0;31mAttributeError\u001b[0m: 'NoneType' object has no attribute 'val'"
     ]
    }
   ],
   "source": [
    "l1 = ListNode(1)\n",
    "l2 = ListNode(2)\n",
    "\n",
    "s = Solution()\n",
    "x = s.mergeTwoLists(l1,l2)\n",
    "x.val\n",
    "x.next.val"
   ]
  },
  {
   "cell_type": "code",
   "execution_count": 165,
   "metadata": {},
   "outputs": [
    {
     "name": "stdout",
     "output_type": "stream",
     "text": [
      "1\n"
     ]
    },
    {
     "data": {
      "text/plain": [
       "False"
      ]
     },
     "execution_count": 165,
     "metadata": {},
     "output_type": "execute_result"
    }
   ],
   "source": [
    "# def x(l1,l2):\n",
    "#     if l1 == None:\n",
    "#         return l2\n",
    "#     elif l2 == None:\n",
    "#         return l1\n",
    "    \n",
    "def x(l1, l2):\n",
    "    if not l1 or not l2:\n",
    "        return l1 or l2\n",
    "\n",
    "a = None\n",
    "b = ListNode(1)\n",
    "c = x(a,b)\n",
    "print(c.val)\n"
   ]
  },
  {
   "cell_type": "markdown",
   "metadata": {},
   "source": [
    "## 200. Number of Island "
   ]
  },
  {
   "cell_type": "code",
   "execution_count": null,
   "metadata": {},
   "outputs": [],
   "source": [
    "def numIslands(self, grid):\n",
    "    if not grid:\n",
    "        return 0\n",
    "        \n",
    "    count = 0\n",
    "    for i in range(len(grid)):\n",
    "        for j in range(len(grid[0])):\n",
    "            if grid[i][j] == '1':\n",
    "                self.dfs(grid, i, j)\n",
    "                count += 1\n",
    "    return count\n",
    "\n",
    "def dfs(self, grid, i, j):\n",
    "    if i<0 or j<0 or i>=len(grid) or j>=len(grid[0]) or grid[i][j] != '1':\n",
    "        return\n",
    "    grid[i][j] = '#'\n",
    "    self.dfs(grid, i+1, j)\n",
    "    self.dfs(grid, i-1, j)\n",
    "    self.dfs(grid, i, j+1)\n",
    "    self.dfs(grid, i, j-1)"
   ]
  },
  {
   "cell_type": "code",
   "execution_count": 71,
   "metadata": {},
   "outputs": [
    {
     "name": "stdout",
     "output_type": "stream",
     "text": [
      "4\n",
      "1\n",
      "1\n",
      "0\n",
      "0\n",
      "0\n",
      "1\n",
      "1\n",
      "0\n",
      "0\n",
      "0\n",
      "0\n",
      "0\n",
      "1\n",
      "0\n",
      "0\n",
      "0\n",
      "0\n",
      "0\n",
      "1\n",
      "1\n"
     ]
    }
   ],
   "source": [
    "grid = [[1,1,0,0,0],\n",
    "        [1,1,0,0,0],\n",
    "        [0,0,1,0,0],\n",
    "        [0,0,0,1,1]]\n",
    "\n",
    "print(len(grid))\n",
    "\n",
    "for i in range(len(grid)):\n",
    "    for j in range(len(grid[0])):\n",
    "        print(grid[i][j])"
   ]
  },
  {
   "cell_type": "code",
   "execution_count": 169,
   "metadata": {},
   "outputs": [],
   "source": [
    "class Solution:\n",
    "    def productExceptSelf(self, nums):\n",
    "        \n",
    "        # The length of the input array \n",
    "        length = len(nums)\n",
    "        \n",
    "        # The left and right arrays as described in the algorithm\n",
    "        L, R, answer = [0]*length, [0]*length, [0]*length\n",
    "        \n",
    "        # L[i] contains the product of all the elements to the left\n",
    "        # Note: for the element at index '0', there are no elements to the left,\n",
    "        # so the L[0] would be 1\n",
    "        L[0] = 1\n",
    "        for i in range(1, length):\n",
    "            \n",
    "            # L[i - 1] already contains the product of elements to the left of 'i - 1'\n",
    "            # Simply multiplying it with nums[i - 1] would give the product of all \n",
    "            # elements to the left of index 'i'\n",
    "            L[i] = nums[i - 1] * L[i - 1]\n",
    "        \n",
    "        # R[i] contains the product of all the elements to the right\n",
    "        # Note: for the element at index 'length - 1', there are no elements to the right,\n",
    "        # so the R[length - 1] would be 1\n",
    "        R[length - 1] = 1\n",
    "        for i in reversed(range(length - 1)):\n",
    "            \n",
    "            # R[i + 1] already contains the product of elements to the right of 'i + 1'\n",
    "            # Simply multiplying it with nums[i + 1] would give the product of all \n",
    "            # elements to the right of index 'i'\n",
    "            R[i] = nums[i + 1] * R[i + 1]\n",
    "        \n",
    "        # Constructing the answer array\n",
    "        for i in range(length):\n",
    "            # For the first element, R[i] would be product except self\n",
    "            # For the last element of the array, product except self would be L[i]\n",
    "            # Else, multiple product of all elements to the left and to the right\n",
    "            answer[i] = L[i] * R[i]\n",
    "        \n",
    "        return answer"
   ]
  },
  {
   "cell_type": "code",
   "execution_count": 171,
   "metadata": {},
   "outputs": [
    {
     "data": {
      "text/plain": [
       "[24, 12, 8, 6]"
      ]
     },
     "execution_count": 171,
     "metadata": {},
     "output_type": "execute_result"
    }
   ],
   "source": [
    "s = Solution()\n",
    "s.productExceptSelf([1,2,3,4])"
   ]
  },
  {
   "cell_type": "code",
   "execution_count": 172,
   "metadata": {},
   "outputs": [
    {
     "data": {
      "text/plain": [
       "[0, 0, 0]"
      ]
     },
     "execution_count": 172,
     "metadata": {},
     "output_type": "execute_result"
    }
   ],
   "source": [
    "[0]*3"
   ]
  },
  {
   "cell_type": "code",
   "execution_count": 175,
   "metadata": {},
   "outputs": [
    {
     "data": {
      "text/plain": [
       "[2, 4]"
      ]
     },
     "execution_count": 175,
     "metadata": {},
     "output_type": "execute_result"
    }
   ],
   "source": [
    "l1 = [0,2,4]\n",
    "l1.pop(0)\n",
    "l1"
   ]
  },
  {
   "cell_type": "code",
   "execution_count": null,
   "metadata": {},
   "outputs": [],
   "source": []
  }
 ],
 "metadata": {
  "kernelspec": {
   "display_name": "Python 3",
   "language": "python",
   "name": "python3"
  },
  "language_info": {
   "codemirror_mode": {
    "name": "ipython",
    "version": 3
   },
   "file_extension": ".py",
   "mimetype": "text/x-python",
   "name": "python",
   "nbconvert_exporter": "python",
   "pygments_lexer": "ipython3",
   "version": "3.6.8"
  },
  "toc": {
   "base_numbering": 1,
   "nav_menu": {
    "height": "194px",
    "width": "267px"
   },
   "number_sections": true,
   "sideBar": false,
   "skip_h1_title": false,
   "title_cell": "Table of Contents",
   "title_sidebar": "Contents",
   "toc_cell": true,
   "toc_position": {},
   "toc_section_display": true,
   "toc_window_display": false
  }
 },
 "nbformat": 4,
 "nbformat_minor": 2
}
