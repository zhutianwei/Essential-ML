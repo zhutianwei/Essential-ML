{
 "cells": [
  {
   "cell_type": "markdown",
   "metadata": {
    "toc-hr-collapsed": false
   },
   "source": [
    "# Data Structure and Algorithm\n",
    "\n",
    "* Introduction and Efficiency\n",
    "* Course Introduction\n",
    "* Syntax\n",
    "* Efficiency\n",
    "* Notation of Efficiency\n",
    "* List-Based Collections\n",
    "    * Lists/Arrays\n",
    "    * Linked Lists\n",
    "    * Stacks\n",
    "    * Queues\n",
    "* Searching and Sorting\n",
    "    * Binary Search\n",
    "    * Recursion\n",
    "    * Bubble Sort\n",
    "    * Merge Sort\n",
    "    * Quick Sort\n",
    "* Maps and Hashing\n",
    "    * Maps\n",
    "    * Hashing\n",
    "    * Collisions\n",
    "    * Hashing Conventions\n",
    "* Trees\n",
    "    * Trees\n",
    "    * Tree Traversal\n",
    "    * Binary Trees\n",
    "    * Binary Search Trees\n",
    "    * Heaps\n",
    "    * Self-Balancing Trees\n",
    "* Graphs\n",
    "    * Graphs\n",
    "    * Graph Properties\n",
    "    * Graph Representation\n",
    "    * Graph Traversal\n",
    "    * Graph Paths\n",
    "* Case Studies in Algorithms\n",
    "* Shortest Path Problem\n",
    "* Knapsack Problem\n",
    "* Traveling Salesman Problem\n",
    "* Technical Interview Tips\n",
    "* Mock Interview Breakdown\n",
    "* Additional Tips\n",
    "* Practice with Pramp"
   ]
  },
  {
   "cell_type": "code",
   "execution_count": 19,
   "metadata": {},
   "outputs": [],
   "source": [
    "from IPython.core.interactiveshell import InteractiveShell\n",
    "InteractiveShell.ast_node_interactivity = \"all\""
   ]
  },
  {
   "cell_type": "markdown",
   "metadata": {},
   "source": [
    "# Complexity Analysis"
   ]
  },
  {
   "cell_type": "markdown",
   "metadata": {},
   "source": [
    "微信读书\n",
    "web\n",
    "udacity"
   ]
  },
  {
   "cell_type": "markdown",
   "metadata": {},
   "source": [
    "# LinkedList"
   ]
  },
  {
   "cell_type": "code",
   "execution_count": 3,
   "metadata": {},
   "outputs": [
    {
     "name": "stdout",
     "output_type": "stream",
     "text": [
      "3\n",
      "3\n",
      "4\n",
      "2\n",
      "4\n",
      "3\n"
     ]
    }
   ],
   "source": [
    "\"\"\"The LinkedList code from before is provided below.\n",
    "Add three functions to the LinkedList.\n",
    "\"get_position\" returns the element at a certain position.\n",
    "The \"insert\" function will add an element to a particular\n",
    "spot in the list.\n",
    "\"delete\" will delete the first element with that\n",
    "particular value.\n",
    "Then, use \"Test Run\" and \"Submit\" to run the test cases\n",
    "at the bottom.\"\"\"\n",
    "\n",
    "class Element(object):\n",
    "    def __init__(self, value):\n",
    "        self.value = value\n",
    "        self.next = None\n",
    "        \n",
    "class LinkedList(object):\n",
    "    def __init__(self, head=None):\n",
    "        self.head = head\n",
    "        \n",
    "    def append(self, new_element):\n",
    "        current = self.head\n",
    "        if self.head:\n",
    "            while current.next:\n",
    "                current = current.next\n",
    "            current.next = new_element\n",
    "        else:\n",
    "            self.head = new_element\n",
    "            \n",
    "    def get_position(self, position):\n",
    "        \"\"\"Get an element from a particular position.\n",
    "        Assume the first position is \"1\".\n",
    "        Return \"None\" if position is not in the list.\"\"\"\n",
    "        counter = 1\n",
    "        current = self.head\n",
    "        if position < 1:\n",
    "            return None\n",
    "        while current and counter <= position:\n",
    "            if counter == position:\n",
    "                return current\n",
    "            current = current.next\n",
    "            counter += 1\n",
    "        return None\n",
    "    \n",
    "    def insert(self, new_element, position):\n",
    "        \"\"\"Insert a new node at the given position.\n",
    "        Assume the first position is \"1\".\n",
    "        Inserting at position 3 means between\n",
    "        the 2nd and 3rd elements.\"\"\"\n",
    "        counter = 1\n",
    "        current = self.head\n",
    "        if position > 1:\n",
    "            while current and counter < position:\n",
    "                if counter == position - 1:\n",
    "                    new_element.next = current.next\n",
    "                    current.next = new_element\n",
    "                current = current.next\n",
    "                counter += 1\n",
    "        elif position == 1:\n",
    "            new_element.next = self.head\n",
    "            self.head = new_element\n",
    "    \n",
    "    \n",
    "    def delete(self, value):\n",
    "        \"\"\"Delete the first node with a given value.\"\"\"\n",
    "        current = self.head\n",
    "        previous = None\n",
    "        while current.value != value and current.next:\n",
    "            previous = current\n",
    "            current = current.next\n",
    "        if current.value == value:\n",
    "            if previous:\n",
    "                previous.next = current.next\n",
    "            else:\n",
    "                self.head = current.next\n",
    "\n",
    "# Test cases\n",
    "# Set up some Elements\n",
    "e1 = Element(1)\n",
    "e2 = Element(2)\n",
    "e3 = Element(3)\n",
    "e4 = Element(4)\n",
    "\n",
    "# Start setting up a LinkedList\n",
    "ll = LinkedList(e1)\n",
    "ll.append(e2)\n",
    "ll.append(e3)\n",
    "\n",
    "# Test get_position\n",
    "# Should print 3\n",
    "print(ll.head.next.next.value)\n",
    "# Should also print 3\n",
    "print(ll.get_position(3).value)\n",
    "\n",
    "# Test insert\n",
    "ll.insert(e4,3)\n",
    "# Should print 4 now\n",
    "print(ll.get_position(3).value)\n",
    "\n",
    "# Test delete\n",
    "ll.delete(1)\n",
    "# Should print 2 now\n",
    "print(ll.get_position(1).value)\n",
    "# Should print 4 now\n",
    "print(ll.get_position(2).value)\n",
    "# Should print 3 now\n",
    "print(ll.get_position(3).value)"
   ]
  },
  {
   "cell_type": "markdown",
   "metadata": {},
   "source": [
    "# Stack"
   ]
  },
  {
   "cell_type": "code",
   "execution_count": null,
   "metadata": {},
   "outputs": [],
   "source": [
    "class Stack(object):\n",
    "    def __init__(self,top=None):\n",
    "        self.ll = LinkedList(top)\n",
    "\n",
    "    def push(self, new_element):\n",
    "        \"Push (add) a new element onto the top of the stack\"\n",
    "        \n",
    "\n",
    "    def pop(self):\n",
    "        \"Pop (remove) the first element off the top of the stack and return it\"\n",
    "        \n",
    "# Test cases\n",
    "# Set up some Elements\n",
    "e1 = Element(1)\n",
    "e2 = Element(2)\n",
    "e3 = Element(3)\n",
    "e4 = Element(4)\n",
    "\n",
    "# Start setting up a Stack\n",
    "stack = Stack(e1)\n",
    "\n",
    "# Test stack functionality\n",
    "stack.push(e2)\n",
    "stack.push(e3)\n",
    "print stack.pop().value\n",
    "print stack.pop().value\n",
    "print stack.pop().value\n",
    "print stack.pop()\n",
    "stack.push(e4)\n",
    "print stack.pop().value"
   ]
  },
  {
   "cell_type": "code",
   "execution_count": 8,
   "metadata": {},
   "outputs": [
    {
     "data": {
      "text/plain": [
       "5"
      ]
     },
     "execution_count": 8,
     "metadata": {},
     "output_type": "execute_result"
    }
   ],
   "source": [
    "class Stack:\n",
    "    def __init__(self):\n",
    "        self.items = []\n",
    "\n",
    "    def is_empty(self):\n",
    "        return self.items == []\n",
    "\n",
    "    def push(self, item):\n",
    "        self.items.append(item)\n",
    "\n",
    "    def pop(self):\n",
    "        return self.items.pop()\n",
    "\n",
    "    def peek(self):\n",
    "        return self.items[len(self.items)-1]\n",
    "\n",
    "    def size(self):\n",
    "        return len(self.items)\n",
    "\n",
    "s = Stack()\n",
    "s.push(4)\n",
    "s.push(5)\n",
    "s.peek()"
   ]
  },
  {
   "cell_type": "code",
   "execution_count": null,
   "metadata": {},
   "outputs": [],
   "source": [
    "from ..exceptions import Empty\n",
    "\n",
    "class ArrayStack:\n",
    "  \"\"\"LIFO Stack implementation using a Python list as underlying storage.\"\"\"\n",
    "\n",
    "  def __init__(self):\n",
    "    \"\"\"Create an empty stack.\"\"\"\n",
    "    self._data = []                       # nonpublic list instance\n",
    "\n",
    "  def __len__(self):\n",
    "    \"\"\"Return the number of elements in the stack.\"\"\"\n",
    "    return len(self._data)\n",
    "\n",
    "  def is_empty(self):\n",
    "    \"\"\"Return True if the stack is empty.\"\"\"\n",
    "    return len(self._data) == 0\n",
    "\n",
    "  def push(self, e):\n",
    "    \"\"\"Add element e to the top of the stack.\"\"\"\n",
    "    self._data.append(e)                  # new item stored at end of list\n",
    "\n",
    "  def top(self):\n",
    "    \"\"\"Return (but do not remove) the element at the top of the stack.\n",
    "\n",
    "    Raise Empty exception if the stack is empty.\n",
    "    \"\"\"\n",
    "    if self.is_empty():\n",
    "      raise Empty('Stack is empty')\n",
    "    return self._data[-1]                 # the last item in the list\n",
    "\n",
    "  def pop(self):\n",
    "    \"\"\"Remove and return the element from the top of the stack (i.e., LIFO).\n",
    "\n",
    "    Raise Empty exception if the stack is empty.\n",
    "    \"\"\"\n",
    "    if self.is_empty():\n",
    "      raise Empty('Stack is empty')\n",
    "    return self._data.pop()               # remove last item from list"
   ]
  },
  {
   "cell_type": "code",
   "execution_count": null,
   "metadata": {},
   "outputs": [],
   "source": [
    "S = ArrayStack()                 # contents: [ ]\n",
    "S.push(5)                        # contents: [5]\n",
    "S.push(3)                        # contents: [5, 3]\n",
    "print(len(S))                    # contents: [5, 3];    outputs 2\n",
    "print(S.pop())                   # contents: [5];       outputs 3\n",
    "print(S.is_empty())              # contents: [5];       outputs False\n",
    "print(S.pop())                   # contents: [ ];       outputs 5\n",
    "print(S.is_empty())              # contents: [ ];       outputs True\n",
    "S.push(7)                        # contents: [7]\n",
    "S.push(9)                        # contents: [7, 9]\n",
    "print(S.top())                   # contents: [7, 9];    outputs 9\n",
    "S.push(4)                        # contents: [7, 9, 4]\n",
    "print(len(S))                    # contents: [7, 9, 4]; outputs 3\n",
    "print(S.pop())                   # contents: [7, 9];    outputs 4\n",
    "S.push(6)                        # contents: [7, 9, 6]\n",
    "S.push(8)                        # contents: [7, 9, 6, 8]\n",
    "print(S.pop())                   # contents: [7, 9, 6]; outputs 8"
   ]
  },
  {
   "cell_type": "markdown",
   "metadata": {},
   "source": [
    "# Queues"
   ]
  },
  {
   "cell_type": "code",
   "execution_count": 10,
   "metadata": {},
   "outputs": [],
   "source": [
    "class ArrayQueue:\n",
    "    \"\"\"FIFO queue implementation using a Python list as underlying storage.\"\"\"\n",
    "    DEFAULT_CAPACITY = 10          # moderate capacity for all new queues\n",
    "\n",
    "    def __init__(self):\n",
    "        \"\"\"Create an empty queue.\"\"\"\n",
    "        self._data = [None] * ArrayQueue.DEFAULT_CAPACITY\n",
    "        self._size = 0\n",
    "        self._front = 0\n",
    "\n",
    "    def __len__(self):\n",
    "        \"\"\"Return the number of elements in the queue.\"\"\"\n",
    "        return self._size\n",
    "\n",
    "    def is_empty(self):\n",
    "        \"\"\"Return True if the queue is empty.\"\"\"\n",
    "        return self._size == 0\n",
    "\n",
    "    def first(self):\n",
    "        \"\"\"Return (but do not remove) the element at the front of the queue.\n",
    "\n",
    "        Raise Empty exception if the queue is empty.\n",
    "        \"\"\"\n",
    "        if self.is_empty():\n",
    "            raise Empty('Queue is empty')\n",
    "        return self._data[self._front]\n",
    "\n",
    "    def dequeue(self):\n",
    "        \"\"\"Remove and return the first element of the queue (i.e., FIFO).\n",
    "\n",
    "        Raise Empty exception if the queue is empty.\n",
    "        \"\"\"\n",
    "        if self.is_empty():\n",
    "            raise Empty('Queue is empty')\n",
    "        answer = self._data[self._front]\n",
    "        self._data[self._front] = None         # help garbage collection\n",
    "        self._front = (self._front + 1) % len(self._data)\n",
    "        self._size -= 1\n",
    "        return answer\n",
    "\n",
    "    def enqueue(self, e):\n",
    "        \"\"\"Add an element to the back of queue.\"\"\"\n",
    "        if self._size == len(self._data):\n",
    "            self._resize(2 * len(self.data))     # double the array size\n",
    "        avail = (self._front + self._size) % len(self._data)\n",
    "        self._data[avail] = e\n",
    "        self._size += 1\n",
    "\n",
    "    def _resize(self, cap):                  # we assume cap >= len(self)\n",
    "        \"\"\"Resize to a new list of capacity >= len(self).\"\"\"\n",
    "        old = self._data                       # keep track of existing list\n",
    "        self._data = [None] * cap              # allocate list with new capacity\n",
    "        walk = self._front\n",
    "        for k in range(self._size):            # only consider existing elements\n",
    "            self._data[k] = old[walk]            # intentionally shift indices\n",
    "            walk = (1 + walk) % len(old)         # use old size as modulus\n",
    "        self._front = 0                        # front has been realigned"
   ]
  },
  {
   "cell_type": "code",
   "execution_count": null,
   "metadata": {},
   "outputs": [],
   "source": [
    "class Queue:\n",
    "    def __init__(self):\n",
    "        self.items = []\n",
    "\n",
    "    def isEmpty(self):\n",
    "        return self.items == []\n",
    "\n",
    "    def enqueue(self, item):\n",
    "        self.items.insert(0,item)\n",
    "\n",
    "    def dequeue(self):\n",
    "        return self.items.pop()\n",
    "\n",
    "    def size(self):\n",
    "        return len(self.items)"
   ]
  },
  {
   "cell_type": "code",
   "execution_count": 12,
   "metadata": {},
   "outputs": [
    {
     "data": {
      "text/plain": [
       "3"
      ]
     },
     "execution_count": 12,
     "metadata": {},
     "output_type": "execute_result"
    }
   ],
   "source": [
    "20 // "
   ]
  },
  {
   "cell_type": "markdown",
   "metadata": {},
   "source": [
    "## deque\n",
    "\n",
    "https://docs.python.org/3/library/collections.html#collections.deque"
   ]
  },
  {
   "cell_type": "code",
   "execution_count": 7,
   "metadata": {},
   "outputs": [
    {
     "data": {
      "text/plain": [
       "deque([1, 2, 3, 4])"
      ]
     },
     "execution_count": 7,
     "metadata": {},
     "output_type": "execute_result"
    }
   ],
   "source": [
    "from collections import deque\n",
    "x = deque([1,2,3])\n",
    "x\n",
    "x.append(4)\n",
    "x"
   ]
  },
  {
   "cell_type": "markdown",
   "metadata": {},
   "source": [
    "## Priority Queue"
   ]
  },
  {
   "cell_type": "code",
   "execution_count": 47,
   "metadata": {},
   "outputs": [
    {
     "name": "stdout",
     "output_type": "stream",
     "text": [
      "1\n",
      "5\n",
      "10\n"
     ]
    }
   ],
   "source": [
    "from queue import PriorityQueue\n",
    "\n",
    "q = PriorityQueue()\n",
    "q.put(10)\n",
    "q.put(1)\n",
    "q.put(5)\n",
    "\n",
    "while not q.empty():\n",
    "\tprint(q.get())"
   ]
  },
  {
   "cell_type": "markdown",
   "metadata": {},
   "source": [
    "## Heap"
   ]
  },
  {
   "cell_type": "code",
   "execution_count": null,
   "metadata": {},
   "outputs": [],
   "source": [
    "import heapq #模块提供了如下几个函数：\n",
    "heapq.heappush(heap, item) #把item添加到heap中（heap是一个列表）\n",
    "heapq.heappop(heap) #把堆顶元素弹出，返回的就是堆顶\n",
    "heapq.heappushpop(heap, item) #先把item加入到堆中，然后再pop，比heappush()再heappop()要快得多\n",
    "heapq.heapreplace(heap, item) #先pop，然后再把item加入到堆中，比heappop()再heappush()要快得多\n",
    "heapq.heapify(list) #将列表进行堆调整\n",
    "heapq.merge(*iterables) #将多个列表合并，并进行堆调整，返回的是合并后的列表的迭代器\n",
    "heapq.nlargest(n, iterable, key=None) #返回最大的n个元素（Top-K问题）\n",
    "heapq.nsmallest(n, iterable, key=None) #返回最小的n个元素（Top-K问题）"
   ]
  },
  {
   "cell_type": "code",
   "execution_count": 164,
   "metadata": {},
   "outputs": [
    {
     "data": {
      "text/plain": [
       "1"
      ]
     },
     "execution_count": 164,
     "metadata": {},
     "output_type": "execute_result"
    },
    {
     "data": {
      "text/plain": [
       "[3, 4, 5, 6, 8, 7]"
      ]
     },
     "execution_count": 164,
     "metadata": {},
     "output_type": "execute_result"
    }
   ],
   "source": [
    "import heapq\n",
    "heap = [1,3,6,4,8,7]\n",
    "heapq.heappush(heap, 5)\n",
    "heapq.heappop(heap)\n",
    "heap"
   ]
  },
  {
   "cell_type": "markdown",
   "metadata": {},
   "source": [
    "# Trees"
   ]
  },
  {
   "cell_type": "markdown",
   "metadata": {},
   "source": [
    "n个节点的二叉树一共有((2n)!)/(n!*(n+1)!)种 \n",
    "\n",
    "递推公式：\n",
    "\n",
    "递推时每次固定根节点再考虑\n",
    "\n",
    "规定f(0)=1\n",
    "\n",
    "f(n) = f(n-1)f(0) + f(n-2)f(1)...f(0)f(n-1)\n",
    "\n",
    "解：\n",
    "\n",
    "f(1) = 1\n",
    "\n",
    "f(2) = f(1)f(0) + f(0)f(1) = 2\n",
    "\n",
    "f(3) = f(2)f(0) + f(1)f(1) + f(0)f(2) = 5\n",
    "\n",
    "f(4) = f(3)f(0) + f(2)f(1) + f(1)f(2) + f(0)f(3) = 14"
   ]
  },
  {
   "cell_type": "markdown",
   "metadata": {},
   "source": [
    "# Graph"
   ]
  },
  {
   "cell_type": "code",
   "execution_count": 14,
   "metadata": {},
   "outputs": [
    {
     "name": "stdout",
     "output_type": "stream",
     "text": [
      "recursive dfs  ['A', 'B', 'D', 'E', 'C', 'F', 'G']\n",
      "iterative dfs  ['A', 'B', 'D', 'E', 'C', 'F', 'G']\n",
      "iterative bfs  ['A', 'B', 'C', 'D', 'E', 'F', 'G']\n"
     ]
    }
   ],
   "source": [
    "def recursive_dfs(graph, start, path=[]):\n",
    "    '''recursive depth first search from start'''\n",
    "    path=path+[start]\n",
    "    for node in graph[start]:\n",
    "        if not node in path:\n",
    "            path=recursive_dfs(graph, node, path)\n",
    "    return path\n",
    "\n",
    "def iterative_dfs(graph, start, path=[]):\n",
    "    '''iterative depth first search from start'''\n",
    "    q=[start]\n",
    "    while q:\n",
    "        v=q.pop(0)\n",
    "        if v not in path:\n",
    "            path=path+[v]\n",
    "            q=graph[v]+q\n",
    "    return path\n",
    "\n",
    "def iterative_bfs(graph, start, path=[]):\n",
    "    '''iterative breadth first search from start'''\n",
    "    q=[start]\n",
    "    while q:\n",
    "        v=q.pop(0)\n",
    "        if not v in path:\n",
    "            path=path+[v]\n",
    "            q=q+graph[v]\n",
    "    return path\n",
    "\n",
    "'''\n",
    "   +---- A\n",
    "   |   /   \\\n",
    "   |  B--D--C\n",
    "   |   \\ | /\n",
    "   +---- E\n",
    "'''\n",
    "# graph = {'A':['B','C'],'B':['D','E'],'C':['D','E'],'D':['E'],'E':['A']}\n",
    "graph = {'A':['B','C'],'B':['A','D','E'],'C':['A','F','G'],'D':['B'],'E':['B'],'F':['C'],'G':['C']}\n",
    "print('recursive dfs ', recursive_dfs(graph, 'A'))\n",
    "print('iterative dfs ', iterative_dfs(graph, 'A'))\n",
    "print('iterative bfs ', iterative_bfs(graph, 'A'))\n"
   ]
  },
  {
   "cell_type": "code",
   "execution_count": 19,
   "metadata": {},
   "outputs": [
    {
     "ename": "TypeError",
     "evalue": "unsupported operand type(s) for -: 'str' and 'str'",
     "output_type": "error",
     "traceback": [
      "\u001b[0;31m---------------------------------------------------------------------------\u001b[0m",
      "\u001b[0;31mTypeError\u001b[0m                                 Traceback (most recent call last)",
      "\u001b[0;32m<ipython-input-19-ec0c093487f7>\u001b[0m in \u001b[0;36m<module>\u001b[0;34m\u001b[0m\n\u001b[1;32m      1\u001b[0m \u001b[0mgraph\u001b[0m \u001b[0;34m=\u001b[0m \u001b[0;34m{\u001b[0m\u001b[0;34m'A'\u001b[0m\u001b[0;34m:\u001b[0m\u001b[0;34m[\u001b[0m\u001b[0;34m{\u001b[0m\u001b[0;34m'a'\u001b[0m\u001b[0;34m:\u001b[0m\u001b[0;34m'--'\u001b[0m\u001b[0;34m}\u001b[0m\u001b[0;34m,\u001b[0m\u001b[0;34m'C'\u001b[0m\u001b[0;34m]\u001b[0m\u001b[0;34m,\u001b[0m\u001b[0;34m'B'\u001b[0m\u001b[0;34m:\u001b[0m\u001b[0;34m[\u001b[0m\u001b[0;34m'D'\u001b[0m\u001b[0;34m,\u001b[0m\u001b[0;34m'E'\u001b[0m\u001b[0;34m]\u001b[0m\u001b[0;34m,\u001b[0m\u001b[0;34m'C'\u001b[0m\u001b[0;34m:\u001b[0m\u001b[0;34m[\u001b[0m\u001b[0;34m'D'\u001b[0m\u001b[0;34m,\u001b[0m\u001b[0;34m'E'\u001b[0m\u001b[0;34m]\u001b[0m\u001b[0;34m,\u001b[0m\u001b[0;34m'D'\u001b[0m\u001b[0;34m:\u001b[0m\u001b[0;34m[\u001b[0m\u001b[0;34m'E'\u001b[0m\u001b[0;34m]\u001b[0m\u001b[0;34m,\u001b[0m\u001b[0;34m'E'\u001b[0m\u001b[0;34m:\u001b[0m\u001b[0;34m[\u001b[0m\u001b[0;34m'A'\u001b[0m\u001b[0;34m]\u001b[0m\u001b[0;34m}\u001b[0m\u001b[0;34m\u001b[0m\u001b[0;34m\u001b[0m\u001b[0m\n\u001b[1;32m      2\u001b[0m \u001b[0;34m\u001b[0m\u001b[0m\n\u001b[0;32m----> 3\u001b[0;31m \u001b[0;34m'abc'\u001b[0m \u001b[0;34m-\u001b[0m \u001b[0;34m'bc'\u001b[0m\u001b[0;34m\u001b[0m\u001b[0;34m\u001b[0m\u001b[0m\n\u001b[0m",
      "\u001b[0;31mTypeError\u001b[0m: unsupported operand type(s) for -: 'str' and 'str'"
     ]
    }
   ],
   "source": [
    "graph = {'A':[{'a':'--'},'C'],'B':['D','E'],'C':['D','E'],'D':['E'],'E':['A']}\n",
    "\n"
   ]
  },
  {
   "cell_type": "markdown",
   "metadata": {},
   "source": [
    "# Chapter 4: Recursion"
   ]
  },
  {
   "cell_type": "code",
   "execution_count": 1,
   "metadata": {},
   "outputs": [],
   "source": [
    "def factorial(n):\n",
    "    if n == 0:\n",
    "        return 1\n",
    "    else:\n",
    "        return n * factorial(n-1)"
   ]
  },
  {
   "cell_type": "code",
   "execution_count": null,
   "metadata": {},
   "outputs": [],
   "source": [
    "def binary_search(data, target, low, high):\n",
    "    \"\"\"Return True if target is found in indicated portion of a Python list.\n",
    "\n",
    "    The search only considers the portion from data[low] to data[high] inclusive.\n",
    "    \"\"\"\n",
    "    if low > high:\n",
    "        return False                    # interval is empty; no match\n",
    "    else:\n",
    "        mid = (low + high) // 2\n",
    "        if target == data[mid]:         # found a match\n",
    "            return True\n",
    "        elif target < data[mid]:\n",
    "        # recur on the portion left of the middle\n",
    "            return binary_search(data, target, low, mid - 1)\n",
    "        else:\n",
    "        # recur on the portion right of the middle\n",
    "            return binary_search(data, target, mid + 1, high)"
   ]
  },
  {
   "cell_type": "code",
   "execution_count": null,
   "metadata": {},
   "outputs": [],
   "source": [
    "# def bad_fibonacci(n):\n",
    "#   \"\"\"Return the nth Fibonacci number.\"\"\"\n",
    "#   if n <= 1:\n",
    "#     return n\n",
    "#   else:\n",
    "#     return bad_fibonacci(n-2) + bad_fibonacci(n-1)\n",
    "\n",
    "def good_fibonacci(n):\n",
    "    \"\"\"Return pair of Fibonacci numbers, F(n) and F(n-1).\"\"\"\n",
    "    if n <= 1:\n",
    "        return (n,0)\n",
    "    else:\n",
    "        (a, b) = good_fibonacci(n-1)\n",
    "        return (a+b, a)"
   ]
  },
  {
   "cell_type": "code",
   "execution_count": null,
   "metadata": {},
   "outputs": [],
   "source": [
    "def linear_sum(S, n):\n",
    "    \"\"\"Return the sum of the first n numbers of sequence S.\"\"\"\n",
    "    if n == 0:\n",
    "        return 0\n",
    "    else:\n",
    "        return linear_sum(S, n-1) + S[n-1]\n",
    "\n",
    "linear_sum([4, 3, 6, 2, 8], 5)"
   ]
  },
  {
   "cell_type": "code",
   "execution_count": null,
   "metadata": {},
   "outputs": [],
   "source": [
    "def reverse(S, start, stop):\n",
    "    \"\"\"Reverse elements in implicit slice S[start:stop].\"\"\"\n",
    "    if start < stop - 1:                         # if at least 2 elements:\n",
    "        S[start], S[stop-1] = S[stop-1], S[start]  # swap first and last\n",
    "        reverse(S, start+1, stop-1)                # recur on rest\n",
    "\n",
    "S = [4,3,6,2,8,9,5]\n",
    "reverse(S,0,7)\n",
    "S"
   ]
  },
  {
   "cell_type": "code",
   "execution_count": null,
   "metadata": {},
   "outputs": [],
   "source": [
    "# # power slow\n",
    "# def power(x, n):\n",
    "#     \"\"\"Compute the value x**n for integer n.\"\"\"\n",
    "#     if n == 0:\n",
    "#         return 1\n",
    "#     else:\n",
    "#         return x * power(x, n-1)\n",
    "\n",
    "# power fast\n",
    "def power(x, n):\n",
    "    \"\"\"Compute the value x**n for integer n.\"\"\"\n",
    "    if n == 0:\n",
    "        return 1\n",
    "    else:\n",
    "        partial = power(x, n // 2)          # rely on truncated division\n",
    "        result = partial * partial\n",
    "        if n % 2 == 1:                      # if n odd, include extra factor of x\n",
    "            result *= x                       \n",
    "        return result\n",
    "    \n",
    "power(3,2)"
   ]
  },
  {
   "cell_type": "code",
   "execution_count": null,
   "metadata": {},
   "outputs": [],
   "source": [
    "def binary_sum(S, start, stop):\n",
    "    \"\"\"Return the sum of the numbers in implicit slice S[start:stop].\"\"\"\n",
    "    if start >= stop:                      # zero elements in slice\n",
    "        return 0\n",
    "    elif start == stop-1:                  # one element in slice\n",
    "        return S[start]\n",
    "    else:                                  # two or more elements in slice\n",
    "        mid = (start + stop) // 2\n",
    "        return binary_sum(S, start, mid) + binary_sum(S, mid, stop)"
   ]
  },
  {
   "cell_type": "markdown",
   "metadata": {},
   "source": [
    "# Chapter 12: Sorting\n",
    "\n",
    "• Insertion-sort (see Sections 5.5.2, 7.5, and 9.4.1)  \n",
    "• Selection-sort (see Section 9.4.1)  \n",
    "• Bubble-sort (see Exercise C-7.38)  \n",
    "• Heap-sort (see Section 9.4.2)"
   ]
  },
  {
   "cell_type": "code",
   "execution_count": null,
   "metadata": {},
   "outputs": [],
   "source": [
    "def insertion_sort(A):\n",
    "    \"\"\"Sort list of comparable elements into nondecreasing order.\"\"\"\n",
    "    for k in range(1, len(A)):         # from 1 to n-1\n",
    "        cur = A[k]                       # current element to be inserted\n",
    "        j = k                            # find correct index j for current\n",
    "        while j > 0 and A[j-1] > cur:    # element A[j-1] must be after current\n",
    "            A[j] = A[j-1]\n",
    "            j -= 1\n",
    "        A[j] = cur                       # cur is now in the right place\n",
    "        \n",
    "A = [3,2,4,5,7]\n",
    "insertion_sort(A)\n",
    "A"
   ]
  },
  {
   "cell_type": "code",
   "execution_count": null,
   "metadata": {},
   "outputs": [],
   "source": [
    "def merge(S1, S2, S):\n",
    "    \"\"\"Merge two sorted Python lists S1 and S2 into properly sized list S.\"\"\"\n",
    "    i = j = 0\n",
    "    while i + j < len(S):\n",
    "        if j == len(S2) or (i < len(S1) and S1[i] < S2[j]):\n",
    "            S[i+j] = S1[i]      # copy ith element of S1 as next item of S\n",
    "            i += 1\n",
    "        else:\n",
    "            S[i+j] = S2[j]      # copy jth element of S2 as next item of S\n",
    "            j += 1\n",
    "\n",
    "def merge_sort(S):\n",
    "    \"\"\"Sort the elements of Python list S using the merge-sort algorithm.\"\"\"\n",
    "    n = len(S)\n",
    "    if n < 2:\n",
    "        return                # list is already sorted\n",
    "  \n",
    "    # divide\n",
    "    mid = n // 2\n",
    "    S1 = S[0:mid]           # copy of first half\n",
    "    S2 = S[mid:n]           # copy of second half\n",
    "    # conquer (with recursion)\n",
    "    merge_sort(S1)          # sort copy of first half\n",
    "    merge_sort(S2)          # sort copy of second half\n",
    "    # merge results\n",
    "    merge(S1, S2, S)        # merge sorted halves back into S\n",
    "    \n",
    "S = [85,24,63,45,17,31,96,50]\n",
    "merge_sort(S)\n",
    "S"
   ]
  },
  {
   "cell_type": "code",
   "execution_count": null,
   "metadata": {},
   "outputs": [],
   "source": [
    "def quick_sort(S):\n",
    "    \"\"\"Sort the elements of queue S using the quick-sort algorithm.\"\"\"\n",
    "    n = len(S)\n",
    "    if n < 2:\n",
    "        return                            # list is already sorted\n",
    "    # divide\n",
    "    p = S.first()                       # using first as arbitrary pivot\n",
    "    L = LinkedQueue()\n",
    "    E = LinkedQueue()\n",
    "    G = LinkedQueue()\n",
    "    while not S.is_empty():             # divide S into L, E, and G\n",
    "        if S.first() < p:\n",
    "            L.enqueue(S.dequeue())\n",
    "        elif p < S.first():\n",
    "            G.enqueue(S.dequeue())\n",
    "        else:                             # S.first() must equal pivot\n",
    "            E.enqueue(S.dequeue())\n",
    "    # conquer (with recursion)\n",
    "    quick_sort(L)                       # sort elements less than p\n",
    "    quick_sort(G)                       # sort elements greater than p\n",
    "        # concatenate results\n",
    "    while not L.is_empty():\n",
    "        S.enqueue(L.dequeue())\n",
    "    while not E.is_empty():\n",
    "        S.enqueue(E.dequeue())\n",
    "    while not G.is_empty():\n",
    "        S.enqueue(G.dequeue()) \n",
    "        \n",
    "[85,24,63,45,17,31,96,50]\n",
    "S = ArrayQueue()\n",
    "S.enqueue(85)\n",
    "S.enqueue(24)\n",
    "S.enqueue(63)\n",
    "S.__len__()\n",
    "quick_sort(S)\n",
    "S"
   ]
  },
  {
   "cell_type": "code",
   "execution_count": null,
   "metadata": {},
   "outputs": [],
   "source": [
    "# Python program to check if the input number is prime or not\n",
    "\n",
    "num = 407\n",
    "\n",
    "# take input from the user\n",
    "# num = int(input(\"Enter a number: \"))\n",
    "\n",
    "# prime numbers are greater than 1\n",
    "if num > 1:\n",
    "   # check for factors\n",
    "   for i in range(2,num):\n",
    "       if (num % i) == 0:\n",
    "           print(num,\"is not a prime number\")\n",
    "           print(i,\"times\",num//i,\"is\",num)\n",
    "           break\n",
    "   else:\n",
    "       print(num,\"is a prime number\")\n",
    "       \n",
    "# if input number is less than\n",
    "# or equal to 1, it is not prime\n",
    "else:\n",
    "   print(num,\"is not a prime number\")"
   ]
  },
  {
   "cell_type": "markdown",
   "metadata": {},
   "source": [
    "Binary Search  \n",
    "Recursion  \n",
    "Backtracking  \n",
    "DFS  "
   ]
  },
  {
   "cell_type": "markdown",
   "metadata": {},
   "source": [
    "# Leetcode"
   ]
  },
  {
   "cell_type": "markdown",
   "metadata": {},
   "source": [
    "~ means revert every bit.  \n",
    "Therefore, ~x means -x-1.  \n",
    "An elegant (but confusing) way to choose the rightest element of the middle part."
   ]
  },
  {
   "cell_type": "markdown",
   "metadata": {},
   "source": [
    "### Arrays and Strings"
   ]
  },
  {
   "cell_type": "markdown",
   "metadata": {},
   "source": [
    "## 1. Two Sum (List, Dictionary)\n",
    "\n",
    "时间复杂度: O(N)"
   ]
  },
  {
   "cell_type": "code",
   "execution_count": 167,
   "metadata": {},
   "outputs": [
    {
     "data": {
      "text/plain": [
       "[0, 2]"
      ]
     },
     "execution_count": 167,
     "metadata": {},
     "output_type": "execute_result"
    }
   ],
   "source": [
    "# class Solution(object):\n",
    "#     def twoSum(self, nums, target):\n",
    "#         \"\"\"\n",
    "#         :type nums: List[int]\n",
    "#         :type target: int\n",
    "#         :rtype: List[int]\n",
    "#         \"\"\"\n",
    "#         for i in range(len(nums)):\n",
    "#             for j in range(i+1, len(nums)):\n",
    "#                 if nums[i] + nums[j] == target:\n",
    "#                     return [i, j]\n",
    "\n",
    "# def twoSum(nums, target):\n",
    "#     \"\"\"\n",
    "#     :type nums: List[int]\n",
    "#     :type target: int\n",
    "#     :rtype: List[int]\n",
    "#     \"\"\"\n",
    "#     dict = {}\n",
    "#     for i in range(len(nums)):\n",
    "#         if target-nums[i] not in dict:\n",
    "#             dict[nums[i]]=i\n",
    "#         else:\n",
    "#             return [dict[target-nums[i]],i]\n",
    "            \n",
    "# twoSum([2,7,11,15],9) \n",
    "\n",
    "class Solution:\n",
    "    def twoSum(self, nums, target):\n",
    "        \"\"\"\n",
    "        :type nums: List[int]\n",
    "        :type target: int\n",
    "        :rtype: List[int]\n",
    "        \"\"\"\n",
    "        dic = {}\n",
    "        for i, n in enumerate(nums):\n",
    "            tmp = target - n\n",
    "            if tmp not in dic:\n",
    "                dic[n] = i\n",
    "            else:\n",
    "                return [dic[tmp], i]\n",
    "            \n",
    "x = Solution()\n",
    "x.twoSum([2,7,11,15],13)"
   ]
  },
  {
   "cell_type": "markdown",
   "metadata": {},
   "source": [
    "## 3. Longest Substring Without Repeating Characters (Dict)\n",
    "\n",
    "时间复杂度: O(N)"
   ]
  },
  {
   "cell_type": "code",
   "execution_count": 102,
   "metadata": {},
   "outputs": [
    {
     "name": "stdout",
     "output_type": "stream",
     "text": [
      "0 0 1\n",
      "0 0 2\n",
      "0 0 3\n",
      "1 1 3\n",
      "2 2 3\n",
      "3 3 3\n",
      "5 5 3\n",
      "7 7 3\n"
     ]
    },
    {
     "data": {
      "text/plain": [
       "3"
      ]
     },
     "execution_count": 102,
     "metadata": {},
     "output_type": "execute_result"
    }
   ],
   "source": [
    "class Solution:\n",
    "    def lengthOfLongestSubstring(self, s):\n",
    "        \"\"\"\n",
    "        :type s: str\n",
    "        :rtype: int\n",
    "        \"\"\"\n",
    "        # start 指针指向的是当前子串首字符在 input 中对应的index\n",
    "        res = 0\n",
    "        start = 0 \n",
    "        dic = {}\n",
    "        \n",
    "        for i, c in enumerate(s):\n",
    "            start = max(start, dic.get(c, -1) + 1) # 找到当前子串新的起点\n",
    "            res = max(res, i - start + 1) # 当前子串满足条件了，更新结果\n",
    "#             print(dic.get(s[i],-1)+1,start,res)\n",
    "            dic[c] = i # 将当前字符与其在 input 中的 index 记录下来\n",
    "        return res\n",
    "\n",
    "s = Solution()\n",
    "s.lengthOfLongestSubstring('abcabcbb')"
   ]
  },
  {
   "cell_type": "code",
   "execution_count": 103,
   "metadata": {},
   "outputs": [
    {
     "data": {
      "text/plain": [
       "-1"
      ]
     },
     "execution_count": 103,
     "metadata": {},
     "output_type": "execute_result"
    }
   ],
   "source": [
    "d = {'a':0,\n",
    "     'b':1,\n",
    "     'c':3,\n",
    "     'd':4,\n",
    "     'e':5}\n",
    "\n",
    "d.get('g', -1)"
   ]
  },
  {
   "cell_type": "markdown",
   "metadata": {},
   "source": [
    "## String to Integer(atoi) (String)\n",
    "\n",
    "O(N)"
   ]
  },
  {
   "cell_type": "code",
   "execution_count": null,
   "metadata": {},
   "outputs": [],
   "source": [
    "class Solution:\n",
    "    # @param str, a string\n",
    "    # @return an integer\n",
    "    def myAtoi(self, str):\n",
    "        \"\"\"\n",
    "        :type str: str\n",
    "        :rtype: int\n",
    "        \"\"\"\n",
    "        str = str.strip(' ')\n",
    "        num = ''\n",
    "        \n",
    "        if not str:\n",
    "            return 0\n",
    "        \n",
    "        if str[0] == '-' or str[0] == '+':\n",
    "            num = str[0]\n",
    "            str = str[1:]\n",
    "            \n",
    "        for c in str:\n",
    "            if c.isdigit():\n",
    "                num += c\n",
    "            else:\n",
    "                break\n",
    "                \n",
    "        try: \n",
    "            value = int(num)\n",
    "            if value > 2**31 - 1:\n",
    "                return 2**31 - 1 \n",
    "            elif value < -2**31:\n",
    "                return -2**31\n",
    "        \n",
    "            return value\n",
    "        \n",
    "#             try: \n",
    "#             value = int(num)\n",
    "#             #check overflow\n",
    "#             if value.bit_length() >= 32:\n",
    "#                 return (2**31-1) if value > 0 else -2**31\n",
    "#             return value\n",
    "         \n",
    "        except ValueError:\n",
    "            return 0"
   ]
  },
  {
   "cell_type": "code",
   "execution_count": 60,
   "metadata": {},
   "outputs": [
    {
     "data": {
      "text/plain": [
       "4"
      ]
     },
     "execution_count": 60,
     "metadata": {},
     "output_type": "execute_result"
    }
   ],
   "source": [
    "int('+4')"
   ]
  },
  {
   "cell_type": "code",
   "execution_count": 2,
   "metadata": {},
   "outputs": [
    {
     "data": {
      "text/plain": [
       "True"
      ]
     },
     "execution_count": 2,
     "metadata": {},
     "output_type": "execute_result"
    }
   ],
   "source": [
    "ch = '3'\n",
    "ch.isdigit()"
   ]
  },
  {
   "cell_type": "code",
   "execution_count": null,
   "metadata": {},
   "outputs": [],
   "source": [
    "class Solution:\n",
    "    def myAtoi(self, str):\n",
    "        \"\"\"\n",
    "        :type str: str\n",
    "        :rtype: int\n",
    "        \"\"\"\n",
    "        str = str.strip()\n",
    "        \n",
    "        if len(str) == 0: # 空字符串\n",
    "            return 0\n",
    "\n",
    "        positive = True\n",
    "        if str[0] == '+' or str[0] == '-': # 记录正负号\n",
    "            if str[0] == '-':\n",
    "                positive = False\n",
    "            str = str[1:]\n",
    "        elif str[0] < '0' or str[0] > '9': # 如果第一位不是数字也不是正负号，那么按照 example 4 返回 0\n",
    "            return 0\n",
    "\n",
    "        strNum = 0\n",
    "        for char in str:\n",
    "            if char >= '0' and char <= '9':\n",
    "                strNum = strNum * 10 + ord(char) - ord('0')\n",
    "            if char < '0' or char > '9': # 一旦不是数字了就不需要继续了\n",
    "                break\n",
    "\n",
    "        if strNum > 2 ** 31 - 1: # 数字越界情况\n",
    "            if positive == False:\n",
    "                return -(2 ** 31)\n",
    "            else:\n",
    "                return 2 ** 31 - 1\n",
    "\n",
    "        if not positive: # 根据之前的正负号结果返回对应数值\n",
    "            strNum = 0 - strNum\n",
    "        return strNum"
   ]
  },
  {
   "cell_type": "markdown",
   "metadata": {},
   "source": [
    "## Integer to Roman"
   ]
  },
  {
   "cell_type": "code",
   "execution_count": 50,
   "metadata": {},
   "outputs": [],
   "source": [
    "class Solution(object):\n",
    "    def intToRoman(self, num):\n",
    "        \"\"\"\n",
    "        :type num: int\n",
    "        :rtype: str\n",
    "        \"\"\"\n",
    "        M = [\"\", \"M\", \"MM\", \"MMM\"];\n",
    "        C = [\"\", \"C\", \"CC\", \"CCC\", \"CD\", \"D\", \"DC\", \"DCC\", \"DCCC\", \"CM\"]\n",
    "        X = [\"\", \"X\", \"XX\", \"XXX\", \"XL\", \"L\", \"LX\", \"LXX\", \"LXXX\", \"XC\"]\n",
    "        I = [\"\", \"I\", \"II\", \"III\", \"IV\", \"V\", \"VI\", \"VII\", \"VIII\", \"IX\"]\n",
    "        return M[num//1000] + C[(num%1000)//100] + X[(num%100)//10] + I[num%10]"
   ]
  },
  {
   "cell_type": "code",
   "execution_count": 52,
   "metadata": {},
   "outputs": [
    {
     "data": {
      "text/plain": [
       "'MMMCMXCIX'"
      ]
     },
     "execution_count": 52,
     "metadata": {},
     "output_type": "execute_result"
    }
   ],
   "source": [
    "s = Solution()\n",
    "num = 3999\n",
    "s.intToRoman(num)"
   ]
  },
  {
   "cell_type": "code",
   "execution_count": 54,
   "metadata": {},
   "outputs": [
    {
     "data": {
      "text/plain": [
       "9"
      ]
     },
     "execution_count": 54,
     "metadata": {},
     "output_type": "execute_result"
    }
   ],
   "source": [
    "3999%10"
   ]
  },
  {
   "cell_type": "code",
   "execution_count": 33,
   "metadata": {},
   "outputs": [],
   "source": [
    "class Solution(object):\n",
    "    def intToRoman(self, num):\n",
    "        \"\"\"\n",
    "        :type num: int\n",
    "        :rtype: str\n",
    "        \"\"\"\n",
    "        lookup = {\n",
    "            'M': 1000, \n",
    "            'CM': 900, \n",
    "            'D': 500, \n",
    "            'CD': 400, \n",
    "            'C': 100, \n",
    "            'XC': 90, \n",
    "            'L': 50, \n",
    "            'XL': 40, \n",
    "            'X': 10, \n",
    "            'IX': 9, \n",
    "            'V': 5, \n",
    "            'IV': 4, \n",
    "            'I': 1 \n",
    "        }\n",
    "        res = ''\n",
    "        slookup = sorted(lookup.items(), key = lambda x: x[1])[::-1]\n",
    "        print('slookup=', slookup)\n",
    "        for key, val in slookup:\n",
    "            while num >= val:\n",
    "                res += key\n",
    "                num -= val\n",
    "        return res"
   ]
  },
  {
   "cell_type": "code",
   "execution_count": 34,
   "metadata": {},
   "outputs": [
    {
     "name": "stdout",
     "output_type": "stream",
     "text": [
      "slookup= [('M', 1000), ('CM', 900), ('D', 500), ('CD', 400), ('C', 100), ('XC', 90), ('L', 50), ('XL', 40), ('X', 10), ('IX', 9), ('V', 5), ('IV', 4), ('I', 1)]\n"
     ]
    },
    {
     "data": {
      "text/plain": [
       "'IV'"
      ]
     },
     "execution_count": 34,
     "metadata": {},
     "output_type": "execute_result"
    }
   ],
   "source": [
    "s = Solution()\n",
    "s.intToRoman(4)"
   ]
  },
  {
   "cell_type": "markdown",
   "metadata": {},
   "source": [
    "## 13. Roman to Integer\n",
    "\n",
    "O(N)"
   ]
  },
  {
   "cell_type": "code",
   "execution_count": null,
   "metadata": {},
   "outputs": [],
   "source": [
    "class Solution(object):\n",
    "    def romanToInt(self, s):\n",
    "        \"\"\"\n",
    "        :type s: str\n",
    "        :rtype: int\n",
    "        \"\"\"\n",
    "        lookup = {\n",
    "            'I': 1,\n",
    "            'V': 5,\n",
    "            'X': 10,\n",
    "            'L': 50,\n",
    "            'C': 100,\n",
    "            'D': 500,\n",
    "            'M': 1000\n",
    "        }\n",
    "        res = 0\n",
    "        for i in range(len(s)):\n",
    "            if i > 0 and lookup[s[i]] > lookup[s[i-1]]:\n",
    "                res += lookup[s[i]] - 2 * lookup[s[i-1]]\n",
    "            else:\n",
    "                res += lookup[s[i]]\n",
    "        return res"
   ]
  },
  {
   "cell_type": "markdown",
   "metadata": {},
   "source": [
    "## 151. Reverse Words in String (String)\n",
    "\n",
    "时间复杂度: O(N)"
   ]
  },
  {
   "cell_type": "code",
   "execution_count": 48,
   "metadata": {},
   "outputs": [],
   "source": [
    "class Solution(object):\n",
    "    def reverseWords(self, s):\n",
    "        \"\"\"\n",
    "        :type s: str\n",
    "        :rtype: str\n",
    "        \"\"\"\n",
    "        return ' '.join(s.split()[::-1])"
   ]
  },
  {
   "cell_type": "code",
   "execution_count": 1,
   "metadata": {},
   "outputs": [
    {
     "data": {
      "text/plain": [
       "['sjdksf', 'ksdjkf']"
      ]
     },
     "execution_count": 1,
     "metadata": {},
     "output_type": "execute_result"
    }
   ],
   "source": [
    "s = 'sjdksf ksdjkf'\n",
    "s.split()"
   ]
  },
  {
   "cell_type": "markdown",
   "metadata": {},
   "source": [
    "## 186. Reverse Words in String II"
   ]
  },
  {
   "cell_type": "code",
   "execution_count": 18,
   "metadata": {},
   "outputs": [],
   "source": [
    "class Solution(object):\n",
    "    def reverseWords(self, s):\n",
    "        \"\"\"\n",
    "        :type s: a list of 1 length strings (List[str])\n",
    "        :rtype: nothing\n",
    "        \"\"\"\n",
    "        s.reverse()\n",
    "\n",
    "        index = 0\n",
    "        for i, c in enumerate(s):\n",
    "            if c == \" \":\n",
    "                s[index: i] = reversed(s[index: i])\n",
    "                index = i + 1\n",
    "\n",
    "        s[index: ] = reversed(s[index: ])"
   ]
  },
  {
   "cell_type": "code",
   "execution_count": 22,
   "metadata": {},
   "outputs": [
    {
     "name": "stdout",
     "output_type": "stream",
     "text": [
      "['t', 'h', 'e', ' ', 's', 'k', 'y', ' ', 'i', 's', ' ', 'b', 'l', 'u', 'e']\n"
     ]
    }
   ],
   "source": [
    "x = Solution()\n",
    "s = [\"t\",\"h\",\"e\",\" \",\"s\",\"k\",\"y\",\" \",\"i\",\"s\",\" \",\"b\",\"l\",\"u\",\"e\"]\n",
    "# x.reverseWords(s)\n",
    "\n",
    "print(s[0:])"
   ]
  },
  {
   "cell_type": "markdown",
   "metadata": {},
   "source": [
    "## 344. Reverse String\n",
    "\n",
    "O(N)"
   ]
  },
  {
   "cell_type": "code",
   "execution_count": null,
   "metadata": {},
   "outputs": [],
   "source": [
    "class Solution(object):\n",
    "    def reverseString(self, s):\n",
    "        \"\"\"\n",
    "        :type s: str\n",
    "        :rtype: str\n",
    "        \"\"\"\n",
    "        lst = list(s)\n",
    "        l = 0\n",
    "        r = len(lst) - 1\n",
    "        while l < r:\n",
    "            lst[r], lst[l] = lst[l], lst[r]\n",
    "            l += 1\n",
    "            end -= 1\n",
    "        return ''.join(lst)"
   ]
  },
  {
   "cell_type": "code",
   "execution_count": null,
   "metadata": {},
   "outputs": [],
   "source": [
    "class Solution(object):\n",
    "    def reverseString(self, s):\n",
    "        return s[::-1]"
   ]
  },
  {
   "cell_type": "markdown",
   "metadata": {},
   "source": [
    "## 15. 3Sum\n",
    "\n",
    " O(N^2)"
   ]
  },
  {
   "cell_type": "code",
   "execution_count": null,
   "metadata": {},
   "outputs": [],
   "source": [
    "# right\n",
    "class Solution:\n",
    "    def threeSum(self, nums):\n",
    "        \"\"\"\n",
    "        :type nums: List[int]\n",
    "        :rtype: List[List[int]]\n",
    "        \"\"\"\n",
    "        nums.sort()\n",
    "        res =[]\n",
    "#         i = 0\n",
    "        \n",
    "        for i in range(len(nums)):\n",
    "            if i == 0 or nums[i] > nums[i-1]:\n",
    "                l = i+1\n",
    "                r = len(nums)-1\n",
    "                \n",
    "                while l < r:\n",
    "                    s = nums[i] + nums[l] + nums[r]\n",
    "                    if s ==0:\n",
    "                        res.append([nums[i], nums[l], nums[r]])\n",
    "                        l +=1\n",
    "                        r -=1\n",
    "                        \n",
    "                        while l < r and nums[l] == nums[l-1]:\n",
    "                            l += 1\n",
    "                        while l < r and nums[r] == nums[r+1]:\n",
    "                            r -= 1\n",
    "                    elif s > 0:\n",
    "                        r -=1\n",
    "                    else :\n",
    "                        l +=1\n",
    "        return res"
   ]
  },
  {
   "cell_type": "code",
   "execution_count": 29,
   "metadata": {},
   "outputs": [
    {
     "name": "stdout",
     "output_type": "stream",
     "text": [
      "-4 -4 -4\n",
      "-4 -4 -1\n",
      "-4 -4 -1\n",
      "-4 -4 0\n",
      "-4 -4 1\n",
      "-4 -4 2\n",
      "-4 -1 -1\n",
      "-4 -1 -1\n",
      "-4 -1 0\n",
      "-4 -1 1\n",
      "-4 -1 2\n",
      "-4 -1 -1\n",
      "-4 -1 0\n",
      "-4 -1 1\n",
      "-4 -1 2\n",
      "-4 0 0\n",
      "-4 0 1\n",
      "-4 0 2\n",
      "-4 1 1\n",
      "-4 1 2\n",
      "-4 2 2\n",
      "-1 -1 -1\n",
      "-1 -1 -1\n",
      "-1 -1 0\n",
      "-1 -1 1\n",
      "-1 -1 2\n",
      "-1 -1 -1\n",
      "-1 -1 0\n",
      "-1 -1 1\n",
      "-1 -1 2\n",
      "-1 0 0\n",
      "-1 0 1\n",
      "-1 0 2\n",
      "-1 1 1\n",
      "-1 1 2\n",
      "-1 2 2\n",
      "-1 -1 -1\n",
      "-1 -1 0\n",
      "-1 -1 1\n",
      "-1 -1 2\n",
      "-1 0 0\n",
      "-1 0 1\n",
      "-1 0 2\n",
      "-1 1 1\n",
      "-1 1 2\n",
      "-1 2 2\n",
      "0 0 0\n",
      "0 0 1\n",
      "0 0 2\n",
      "0 1 1\n",
      "0 1 2\n",
      "0 2 2\n",
      "1 1 1\n",
      "1 1 2\n",
      "1 2 2\n",
      "2 2 2\n"
     ]
    }
   ],
   "source": [
    "nums = [-4,-1,-1,0,1,2]\n",
    "for i in range(len(nums)):\n",
    "    for j in range(i,len(nums)):\n",
    "        for k in range(j,len(nums)):\n",
    "            print(nums[i],nums[j],nums[k])"
   ]
  },
  {
   "cell_type": "markdown",
   "metadata": {},
   "source": [
    "## 16. 3Sum Closest"
   ]
  },
  {
   "cell_type": "code",
   "execution_count": null,
   "metadata": {},
   "outputs": [],
   "source": [
    "class Solution(object):\n",
    "    def threeSumClosest(self, nums, target):\n",
    "        \"\"\"\n",
    "        :type nums: List[int]\n",
    "        :rtype: List[List[int]]\n",
    "        \"\"\"\n",
    "        nums.sort()\n",
    "        res = None\n",
    "        diff = float('inf')\n",
    "        for i in range(len(nums)):\n",
    "            if i == 0 or nums[i] > nums[i-1]:\n",
    "                l = i+1 \n",
    "                r = len(nums)-1\n",
    "                \n",
    "            while l < r:\n",
    "                s = nums[i] + nums[l] + nums[r]\n",
    "                if s == target:\n",
    "                    return target\n",
    "                elif s > target:\n",
    "                    r -= 1\n",
    "                    if abs(s-target) < diff:\n",
    "                        diff = abs(s-target)\n",
    "                        res = s\n",
    "                    while l < r and nums[r] == nums[r+1]:\n",
    "                        r -= 1    \n",
    "                else:\n",
    "                    l += 1\n",
    "                    if abs(s-target) < diff:\n",
    "                        diff = abs(s-target)\n",
    "                        res = s\n",
    "                    while l < r and nums[l] == nums[l-1]:\n",
    "                        l += 1 \n",
    "        return res"
   ]
  },
  {
   "cell_type": "markdown",
   "metadata": {},
   "source": [
    "## 4Sum"
   ]
  },
  {
   "cell_type": "code",
   "execution_count": null,
   "metadata": {},
   "outputs": [],
   "source": [
    "class Solution:\n",
    "    def fourSum(self, nums, target):\n",
    "        \"\"\"\n",
    "        :type nums: List[int]\n",
    "        :type target: int\n",
    "        :rtype: List[List[int]]\n",
    "        \"\"\"\n",
    "        nums.sort()\n",
    "        res = []\n",
    "        for i in range(len(nums)):\n",
    "            for j in range(i + 1, len(nums)):\n",
    "                l = j + 1\n",
    "                r = len(nums) - 1\n",
    "                while l < r:\n",
    "                    s = nums[i] + nums[j] + nums[l] + nums[r]\n",
    "                    if s == target:\n",
    "                        if [nums[i], nums[j], nums[l], nums[r]] not in res:\n",
    "                            res.append([nums[i], nums[j], nums[l], nums[r]])\n",
    "                        l += 1\n",
    "                        r -= 1\n",
    "                    elif s > target:\n",
    "                        r -= 1\n",
    "                    else:\n",
    "                        l += 1\n",
    "        return res"
   ]
  },
  {
   "cell_type": "markdown",
   "metadata": {},
   "source": [
    "## 49. Group Anagrams (List)\n",
    "\n",
    "O(N)"
   ]
  },
  {
   "cell_type": "code",
   "execution_count": null,
   "metadata": {},
   "outputs": [],
   "source": [
    "from collections import defaultdict\n",
    "class Solution(object):\n",
    "    def groupAnagrams(self, strs):\n",
    "        \"\"\"\n",
    "        :type strs: List[str]\n",
    "        :rtype: List[List[str]]\n",
    "        \"\"\"\n",
    "        dic = defaultdict(list)\n",
    "        for s in strs:\n",
    "            tmp = ''.join(sorted(list(s)))\n",
    "            dic[tmp].append(s)\n",
    "        return dic.values()"
   ]
  },
  {
   "cell_type": "code",
   "execution_count": null,
   "metadata": {},
   "outputs": [],
   "source": [
    "class Solution(object):\n",
    "    def groupAnagrams(self, strs):\n",
    "        \"\"\"\n",
    "        :type strs: List[str]\n",
    "        :rtype: List[List[str]]\n",
    "        \"\"\"\n",
    "        dic = {}\n",
    "        for s in strs:\n",
    "            tmp = ''.join(sorted(list(s)))\n",
    "            if tmp in dic:\n",
    "                dic[tmp].append(s)\n",
    "            else:\n",
    "                dic[tmp] = [s]\n",
    "        return dic.values()"
   ]
  },
  {
   "cell_type": "markdown",
   "metadata": {},
   "source": [
    "## 54. Spiral Matrix"
   ]
  },
  {
   "cell_type": "code",
   "execution_count": 11,
   "metadata": {},
   "outputs": [],
   "source": [
    "class Solution(object):\n",
    "    def spiralOrder(self, matrix):\n",
    "        \"\"\"\n",
    "        :type matrix: List[List[int]]\n",
    "        :rtype: List[int]\n",
    "        \"\"\"\n",
    "        return matrix and list(matrix.pop(0)) + self.spiralOrder(list(zip(*matrix))[::-1])"
   ]
  },
  {
   "cell_type": "code",
   "execution_count": 12,
   "metadata": {},
   "outputs": [
    {
     "name": "stdout",
     "output_type": "stream",
     "text": [
      "[1, 2, 3]\n",
      "matrix2 = [(6, 9), (5, 8), (4, 7)]\n",
      "(6, 9)\n",
      "matrix3 = [(8, 7), (5, 4)]\n",
      "(8, 7)\n",
      "matrix4 = [(4,), (5,)]\n",
      "(4,)\n",
      "matrix5 = [(5,)]\n",
      "(5,)\n",
      "matrix6 = []\n",
      "[]\n"
     ]
    }
   ],
   "source": [
    "s = Solution()\n",
    "matrix = [[1, 2, 3],\n",
    "          [4, 5, 6],\n",
    "          [7, 8, 9]]\n",
    "\n",
    "print(matrix and matrix.pop(0))\n",
    "\n",
    "matrix2 = list(zip(*matrix))[::-1]\n",
    "print('matrix2 =', matrix2)\n",
    "print(matrix2 and matrix2.pop(0))\n",
    "\n",
    "\n",
    "matrix3 = list(zip(*matrix2))[::-1]\n",
    "print('matrix3 =', matrix3)\n",
    "print(matrix3 and matrix3.pop(0))\n",
    "\n",
    "matrix4 = list(zip(*matrix3))[::-1]\n",
    "print('matrix4 =', matrix4)\n",
    "print(matrix4 and matrix4.pop(0))\n",
    "\n",
    "matrix5 = list(zip(*matrix4))[::-1]\n",
    "print('matrix5 =', matrix5)\n",
    "print(matrix5 and matrix5.pop(0))\n",
    "\n",
    "matrix6 = list(zip(*matrix5))[::-1]\n",
    "print('matrix6 =', matrix6)\n",
    "print(matrix5 and matrix6.pop(0))\n",
    "\n",
    "# s.spiralOrder(matrix)\n"
   ]
  },
  {
   "cell_type": "code",
   "execution_count": 4,
   "metadata": {},
   "outputs": [
    {
     "data": {
      "text/plain": [
       "32"
      ]
     },
     "execution_count": 4,
     "metadata": {},
     "output_type": "execute_result"
    }
   ],
   "source": [
    "1 and 32"
   ]
  },
  {
   "cell_type": "code",
   "execution_count": 78,
   "metadata": {},
   "outputs": [
    {
     "ename": "TypeError",
     "evalue": "'int' object is not iterable",
     "output_type": "error",
     "traceback": [
      "\u001b[0;31m---------------------------------------------------------------------------\u001b[0m",
      "\u001b[0;31mTypeError\u001b[0m                                 Traceback (most recent call last)",
      "\u001b[0;32m<ipython-input-78-3f7e674a3af5>\u001b[0m in \u001b[0;36m<module>\u001b[0;34m\u001b[0m\n\u001b[1;32m      1\u001b[0m \u001b[0ml1\u001b[0m \u001b[0;34m=\u001b[0m \u001b[0;34m[\u001b[0m\u001b[0;36m1\u001b[0m\u001b[0;34m,\u001b[0m\u001b[0;36m2\u001b[0m\u001b[0;34m,\u001b[0m\u001b[0;36m3\u001b[0m\u001b[0;34m]\u001b[0m\u001b[0;34m\u001b[0m\u001b[0;34m\u001b[0m\u001b[0m\n\u001b[0;32m----> 2\u001b[0;31m \u001b[0ml1\u001b[0m \u001b[0;34m+=\u001b[0m \u001b[0;36m1\u001b[0m\u001b[0;34m\u001b[0m\u001b[0;34m\u001b[0m\u001b[0m\n\u001b[0m",
      "\u001b[0;31mTypeError\u001b[0m: 'int' object is not iterable"
     ]
    }
   ],
   "source": [
    "l1 = [1,2,3]\n",
    "l1 += 1"
   ]
  },
  {
   "cell_type": "markdown",
   "metadata": {},
   "source": [
    "## Rotate Image\n",
    "\n",
    "O(row*col)"
   ]
  },
  {
   "cell_type": "code",
   "execution_count": 20,
   "metadata": {},
   "outputs": [],
   "source": [
    "class Solution:\n",
    "    def rotate(self, matrix):\n",
    "        \"\"\"\n",
    "        :type matrix: List[List[int]]\n",
    "        :rtype: void Do not return anything, modify matrix in-place instead.\n",
    "        \"\"\"\n",
    "        matrix[:] = zip(*matrix[::-1])"
   ]
  },
  {
   "cell_type": "code",
   "execution_count": 21,
   "metadata": {},
   "outputs": [
    {
     "data": {
      "text/plain": [
       "[[1, 2, 3], [4, 5, 6], [7, 8, 9]]"
      ]
     },
     "execution_count": 21,
     "metadata": {},
     "output_type": "execute_result"
    },
    {
     "data": {
      "text/plain": [
       "[(7, 4, 1), (8, 5, 2), (9, 6, 3)]"
      ]
     },
     "execution_count": 21,
     "metadata": {},
     "output_type": "execute_result"
    }
   ],
   "source": [
    "s = Solution()\n",
    "matrix = [\n",
    "  [1,2,3],\n",
    "  [4,5,6],\n",
    "  [7,8,9]\n",
    "]\n",
    "matrix[:]\n",
    "s.rotate(matrix)\n",
    "matrix"
   ]
  },
  {
   "cell_type": "code",
   "execution_count": 24,
   "metadata": {},
   "outputs": [
    {
     "data": {
      "text/plain": [
       "[(9, 8, 7), (6, 5, 4), (3, 2, 1)]"
      ]
     },
     "execution_count": 24,
     "metadata": {},
     "output_type": "execute_result"
    }
   ],
   "source": [
    "list(zip(*matrix[::-1]))"
   ]
  },
  {
   "cell_type": "markdown",
   "metadata": {},
   "source": [
    "## 76. Minimum Window Substring (Counter)\n",
    "\n",
    "O(s+t)"
   ]
  },
  {
   "cell_type": "code",
   "execution_count": 93,
   "metadata": {},
   "outputs": [],
   "source": [
    "from collections import Counter\n",
    "class Solution:\n",
    "    def minWindow(self, s, t):\n",
    "        \"\"\"\n",
    "        :type s: str\n",
    "        :type t: str\n",
    "        :rtype: str\n",
    "        \"\"\"\n",
    "\n",
    "        if not t or not s:\n",
    "            return \"\"\n",
    "\n",
    "        dict_t = Counter(t)\n",
    "#         print('dict_t=', dict_t)\n",
    "        required = len(dict_t)\n",
    "#         print('required=', required)\n",
    "\n",
    "        l, r = 0, 0\n",
    "        formed = 0\n",
    "        window_counts = {}\n",
    "        ans = float(\"inf\"), None, None\n",
    "\n",
    "        while r < len(s):\n",
    "\n",
    "            character = s[r]\n",
    "#             print('character=', character)\n",
    "            window_counts[character] = window_counts.get(character, 0) + 1\n",
    "#             print('window_counts=', window_counts)\n",
    "\n",
    "            if character in dict_t and window_counts[character] == dict_t[character]:\n",
    "                formed += 1\n",
    "#                 print('formed=',formed)\n",
    "\n",
    "            while l <= r and formed == required:\n",
    "                character = s[l]\n",
    "                if r - l + 1 < ans[0]:\n",
    "                    ans = (r - l + 1, l, r)\n",
    "#                     print('ans=', ans)\n",
    "\n",
    "                window_counts[character] -= 1\n",
    "                \n",
    "                if character in dict_t and window_counts[character] < dict_t[character]:\n",
    "                    formed -= 1\n",
    "\n",
    "                l += 1  \n",
    "\n",
    "            r += 1 \n",
    "#             print()\n",
    "    \n",
    "        return \"\" if ans[0] == float(\"inf\") else s[ans[1] : ans[2] + 1]"
   ]
  },
  {
   "cell_type": "code",
   "execution_count": 94,
   "metadata": {},
   "outputs": [
    {
     "name": "stdout",
     "output_type": "stream",
     "text": [
      "dict_t= Counter({'A': 1, 'B': 1, 'C': 1})\n",
      "required= 3\n",
      "character= A\n",
      "window_counts= {'A': 1}\n",
      "formed= 1\n",
      "\n",
      "character= D\n",
      "window_counts= {'A': 1, 'D': 1}\n",
      "\n",
      "character= O\n",
      "window_counts= {'A': 1, 'D': 1, 'O': 1}\n",
      "\n",
      "character= B\n",
      "window_counts= {'A': 1, 'D': 1, 'O': 1, 'B': 1}\n",
      "formed= 2\n",
      "\n",
      "character= E\n",
      "window_counts= {'A': 1, 'D': 1, 'O': 1, 'B': 1, 'E': 1}\n",
      "\n",
      "character= C\n",
      "window_counts= {'A': 1, 'D': 1, 'O': 1, 'B': 1, 'E': 1, 'C': 1}\n",
      "formed= 3\n",
      "ans= (6, 0, 5)\n",
      "\n",
      "character= O\n",
      "window_counts= {'A': 0, 'D': 1, 'O': 2, 'B': 1, 'E': 1, 'C': 1}\n",
      "\n",
      "character= D\n",
      "window_counts= {'A': 0, 'D': 2, 'O': 2, 'B': 1, 'E': 1, 'C': 1}\n",
      "\n",
      "character= E\n",
      "window_counts= {'A': 0, 'D': 2, 'O': 2, 'B': 1, 'E': 2, 'C': 1}\n",
      "\n",
      "character= B\n",
      "window_counts= {'A': 0, 'D': 2, 'O': 2, 'B': 2, 'E': 2, 'C': 1}\n",
      "\n",
      "character= A\n",
      "window_counts= {'A': 1, 'D': 2, 'O': 2, 'B': 2, 'E': 2, 'C': 1}\n",
      "formed= 3\n",
      "\n",
      "character= N\n",
      "window_counts= {'A': 1, 'D': 1, 'O': 1, 'B': 1, 'E': 1, 'C': 0, 'N': 1}\n",
      "\n",
      "character= C\n",
      "window_counts= {'A': 1, 'D': 1, 'O': 1, 'B': 1, 'E': 1, 'C': 1, 'N': 1}\n",
      "formed= 3\n",
      "ans= (5, 8, 12)\n",
      "ans= (4, 9, 12)\n",
      "\n"
     ]
    },
    {
     "data": {
      "text/plain": [
       "'BANC'"
      ]
     },
     "execution_count": 94,
     "metadata": {},
     "output_type": "execute_result"
    }
   ],
   "source": [
    "a = Solution()\n",
    "s = \"ADOBECODEBANC\"\n",
    "t = \"ABC\"\n",
    "a.minWindow(s,t)"
   ]
  },
  {
   "cell_type": "markdown",
   "metadata": {},
   "source": [
    "## 125. Valid Palindrome\n",
    "\n",
    "O(N)"
   ]
  },
  {
   "cell_type": "code",
   "execution_count": 51,
   "metadata": {},
   "outputs": [],
   "source": [
    "class Solution:\n",
    "    def isPalindrome(self, s):\n",
    "        \"\"\"\n",
    "        :type s: str\n",
    "        :rtype: bool\n",
    "        \"\"\"\n",
    "        s = ''.join(c for c in s if c.isalnum()).lower()\n",
    "        print(s)\n",
    "        return s==s[::-1]\n",
    "    \n",
    "#         s = s.lower()\n",
    "#         n = ''\n",
    "#         for c in s:\n",
    "#             if c.isalnum():\n",
    "#                 n += c\n",
    "                \n",
    "#         print(n)\n",
    "#         return n == n[::-1]\n",
    "\n",
    "#         s = s.lower()\n",
    "#         for c in s:\n",
    "#             if not c.isalnum():\n",
    "#                 s = s.replace(c, '')\n",
    "                \n",
    "#         print(s)\n",
    "#         return s == s[::-1]"
   ]
  },
  {
   "cell_type": "code",
   "execution_count": 52,
   "metadata": {},
   "outputs": [
    {
     "name": "stdout",
     "output_type": "stream",
     "text": [
      "amanaplanacanalpanama\n"
     ]
    },
    {
     "data": {
      "text/plain": [
       "True"
      ]
     },
     "execution_count": 52,
     "metadata": {},
     "output_type": "execute_result"
    }
   ],
   "source": [
    "d = \"A man, a plan, a canal: Panama\"\n",
    "s = Solution()\n",
    "s.isPalindrome(d)"
   ]
  },
  {
   "cell_type": "code",
   "execution_count": 53,
   "metadata": {},
   "outputs": [
    {
     "name": "stdout",
     "output_type": "stream",
     "text": [
      "A\n",
      " \n",
      "m\n",
      "a\n",
      "n\n",
      ",\n",
      " \n",
      "a\n",
      " \n",
      "p\n",
      "l\n",
      "a\n",
      "n\n",
      ",\n",
      " \n",
      "a\n",
      " \n",
      "c\n",
      "a\n",
      "n\n",
      "a\n",
      "l\n",
      ":\n",
      " \n",
      "P\n",
      "a\n",
      "n\n",
      "a\n",
      "m\n",
      "a\n"
     ]
    }
   ],
   "source": [
    "for n in d:\n",
    "    print(n)"
   ]
  },
  {
   "cell_type": "markdown",
   "metadata": {},
   "source": [
    "## 229. Majority Element II"
   ]
  },
  {
   "cell_type": "code",
   "execution_count": 71,
   "metadata": {},
   "outputs": [],
   "source": [
    "class Solution:\n",
    "# @param {integer[]} nums\n",
    "# @return {integer[]}\n",
    "    def majorityElement(self, nums):\n",
    "        if not nums:\n",
    "            return []\n",
    "        \n",
    "        count1 = 0\n",
    "        count2 = 0\n",
    "        candidate1 = 0\n",
    "        candidate2 = 1\n",
    "        for n in nums:\n",
    "            if n == candidate1:\n",
    "                count1 += 1\n",
    "#                 print('case1 count1=', count1)\n",
    "            elif n == candidate2:\n",
    "                count2 += 1\n",
    "#                 print('case2 count2=', count2)\n",
    "            elif count1 == 0:\n",
    "                candidate1 = n \n",
    "                count1 = 1\n",
    "#                 print('case3 candidate1=', candidate1)\n",
    "#                 print('case3 count1=', count1)\n",
    "            elif count2 == 0:\n",
    "                candidate2 = n \n",
    "                count2 = 1\n",
    "#                 print('case4 candidate2=', candidate2)\n",
    "#                 print('case4 count2=', count2)\n",
    "            else:\n",
    "                count1 -= 1\n",
    "                count2 -= 1\n",
    "#                 print('x')\n",
    "#         print(candidate1,candidate2)\n",
    "        return [n for n in (candidate1, candidate2)\n",
    "                        if nums.count(n) > len(nums) // 3]"
   ]
  },
  {
   "cell_type": "code",
   "execution_count": 72,
   "metadata": {},
   "outputs": [
    {
     "name": "stdout",
     "output_type": "stream",
     "text": [
      "case2 count2= 1\n",
      "case2 count2= 2\n",
      "case2 count2= 3\n",
      "case3 candidate1= 3\n",
      "case3 count1= 1\n",
      "case1 count1= 2\n",
      "x\n",
      "x\n",
      "case3 candidate1= 2\n",
      "case3 count1= 1\n",
      "2 1\n"
     ]
    },
    {
     "data": {
      "text/plain": [
       "[2, 1]"
      ]
     },
     "execution_count": 72,
     "metadata": {},
     "output_type": "execute_result"
    }
   ],
   "source": [
    "s = Solution()\n",
    "nums = [1,1,1,3,3,2,2,2]\n",
    "s.majorityElement(nums)"
   ]
  },
  {
   "cell_type": "markdown",
   "metadata": {},
   "source": [
    "## 238. Product of Array Except Self (List)\n",
    "\n",
    "时间复杂度: O(N)"
   ]
  },
  {
   "cell_type": "code",
   "execution_count": 53,
   "metadata": {},
   "outputs": [],
   "source": [
    "class Solution:\n",
    "    def productExceptSelf(self, nums):\n",
    "        \n",
    "        # The length of the input array \n",
    "        length = len(nums)\n",
    "        \n",
    "        # The left and right arrays as described in the algorithm\n",
    "        L, R, answer = [0]*length, [0]*length, [0]*length\n",
    "        \n",
    "        # L[i] contains the product of all the elements to the left\n",
    "        # Note: for the element at index '0', there are no elements to the left,\n",
    "        # so the L[0] would be 1\n",
    "        L[0] = 1\n",
    "        for i in range(1, length):\n",
    "            \n",
    "            # L[i - 1] already contains the product of elements to the left of 'i - 1'\n",
    "            # Simply multiplying it with nums[i - 1] would give the product of all \n",
    "            # elements to the left of index 'i'\n",
    "            L[i] = nums[i - 1] * L[i - 1]\n",
    "            \n",
    "#         print('L =', L)\n",
    "        # R[i] contains the product of all the elements to the right\n",
    "        # Note: for the element at index 'length - 1', there are no elements to the right,\n",
    "        # so the R[length - 1] would be 1\n",
    "        R[length - 1] = 1\n",
    "        for i in range(length - 2, -1, -1):\n",
    "            \n",
    "            # R[i + 1] already contains the product of elements to the right of 'i + 1'\n",
    "            # Simply multiplying it with nums[i + 1] would give the product of all \n",
    "            # elements to the right of index 'i'\n",
    "            R[i] = nums[i + 1] * R[i + 1]\n",
    "        \n",
    "#         print('R =', R)\n",
    "        # Constructing the answer array\n",
    "        for i in range(length):\n",
    "            # For the first element, R[i] would be product except self\n",
    "            # For the last element of the array, product except self would be L[i]\n",
    "            # Else, multiple product of all elements to the left and to the right\n",
    "            answer[i] = L[i] * R[i]\n",
    "        \n",
    "        return answer"
   ]
  },
  {
   "cell_type": "code",
   "execution_count": 14,
   "metadata": {},
   "outputs": [
    {
     "name": "stdout",
     "output_type": "stream",
     "text": [
      "3\n",
      "2\n",
      "1\n",
      "0\n"
     ]
    }
   ],
   "source": [
    "for i in reversed(range(4)):\n",
    "    print(i)"
   ]
  },
  {
   "cell_type": "code",
   "execution_count": 54,
   "metadata": {},
   "outputs": [
    {
     "name": "stdout",
     "output_type": "stream",
     "text": [
      "L = [1, 1, 2, 6]\n",
      "R = [24, 12, 4, 1]\n"
     ]
    },
    {
     "data": {
      "text/plain": [
       "[24, 12, 8, 6]"
      ]
     },
     "execution_count": 54,
     "metadata": {},
     "output_type": "execute_result"
    }
   ],
   "source": [
    "s = Solution()\n",
    "s.productExceptSelf([1,2,3,4])"
   ]
  },
  {
   "cell_type": "code",
   "execution_count": 172,
   "metadata": {},
   "outputs": [
    {
     "data": {
      "text/plain": [
       "[0, 0, 0]"
      ]
     },
     "execution_count": 172,
     "metadata": {},
     "output_type": "execute_result"
    }
   ],
   "source": [
    "[0]*3"
   ]
  },
  {
   "cell_type": "code",
   "execution_count": 175,
   "metadata": {},
   "outputs": [
    {
     "data": {
      "text/plain": [
       "[2, 4]"
      ]
     },
     "execution_count": 175,
     "metadata": {},
     "output_type": "execute_result"
    }
   ],
   "source": [
    "l1 = [0,2,4]\n",
    "l1.pop(0)\n",
    "l1"
   ]
  },
  {
   "cell_type": "code",
   "execution_count": 57,
   "metadata": {},
   "outputs": [
    {
     "name": "stdout",
     "output_type": "stream",
     "text": [
      "3\n",
      "2\n",
      "1\n",
      "0\n"
     ]
    }
   ],
   "source": [
    "length = 5\n",
    "for i in reversed(range(length - 1)):\n",
    "    print(i)"
   ]
  },
  {
   "cell_type": "code",
   "execution_count": 59,
   "metadata": {},
   "outputs": [
    {
     "name": "stdout",
     "output_type": "stream",
     "text": [
      "5\n",
      "4\n",
      "3\n",
      "2\n",
      "1\n",
      "0\n"
     ]
    }
   ],
   "source": [
    "for i in range(5, -1, -1):\n",
    "    print(i)"
   ]
  },
  {
   "cell_type": "markdown",
   "metadata": {},
   "source": [
    "## 268. Missing Number\n",
    "\n",
    "O(N)"
   ]
  },
  {
   "cell_type": "code",
   "execution_count": null,
   "metadata": {},
   "outputs": [],
   "source": [
    "class Solution(object):\n",
    "    def missingNumber(self, nums):\n",
    "        \"\"\"\n",
    "        :type nums: List[int]\n",
    "        :rtype: int\n",
    "        \"\"\"\n",
    "        set1 = set(nums)\n",
    "        for n in range(len(nums)+1):\n",
    "            if n not in set1:\n",
    "                return n"
   ]
  },
  {
   "cell_type": "markdown",
   "metadata": {},
   "source": [
    "## 387. First Unique Character in a String (Counter)\n",
    "\n",
    "O(N)"
   ]
  },
  {
   "cell_type": "code",
   "execution_count": null,
   "metadata": {},
   "outputs": [],
   "source": [
    "from collections import Counter\n",
    "class Solution:\n",
    "    def firstUniqChar(self, s):\n",
    "        \"\"\"\n",
    "        :type s: str\n",
    "        :rtype: int\n",
    "        \"\"\"\n",
    "        # build hash map : character and how often it appears\n",
    "        count = Counter(s)\n",
    "        \n",
    "        # find the index\n",
    "        for i, c in enumerate(s):\n",
    "            if count[c] == 1:\n",
    "                return i     \n",
    "        return -1"
   ]
  },
  {
   "cell_type": "markdown",
   "metadata": {},
   "source": [
    "## 560. Subarray Sum Equals K (Counter)"
   ]
  },
  {
   "cell_type": "markdown",
   "metadata": {},
   "source": [
    "Let's remember count[V], the number of previous prefix sums with value V. If our newest prefix sum has value W, and W-V == K, then we add count[V] to our answer.\n",
    "\n",
    "This is because at time t, nums[0] + nums[1] + ... + nums[t-1] = W, and there are count[V] indices j with j < t-1 and nums[0] + nums[1] + ... + nums[j] = V. Thus, there are count[V] subarrays nums[j+1] + nums[j+2] + ... + nums[t-1] = K."
   ]
  },
  {
   "cell_type": "code",
   "execution_count": 38,
   "metadata": {},
   "outputs": [],
   "source": [
    "from collections import Counter\n",
    "class Solution:\n",
    "    def subarraySum(self, nums, k):\n",
    "        count = Counter()\n",
    "        count[0] = 1\n",
    "        ans = sums = 0\n",
    "        \n",
    "        for n in nums:\n",
    "            sums += n\n",
    "#             print('sums =', sums)\n",
    "            ans += count[sums-k]\n",
    "#             print('ans =', ans)\n",
    "            count[sums] += 1\n",
    "#             print(f'count{sums}', count[sums])\n",
    "        return ans\n",
    "        "
   ]
  },
  {
   "cell_type": "code",
   "execution_count": 39,
   "metadata": {},
   "outputs": [
    {
     "name": "stdout",
     "output_type": "stream",
     "text": [
      "sums = 1\n",
      "ans = 0\n",
      "count1 1\n",
      "sums = 3\n",
      "ans = 1\n",
      "count3 1\n",
      "sums = 6\n",
      "ans = 2\n",
      "count6 1\n"
     ]
    },
    {
     "data": {
      "text/plain": [
       "2"
      ]
     },
     "execution_count": 39,
     "metadata": {},
     "output_type": "execute_result"
    }
   ],
   "source": [
    "s = Solution()\n",
    "nums = [1,2,3]\n",
    "k = 3\n",
    "s.subarraySum(nums, k)"
   ]
  },
  {
   "cell_type": "markdown",
   "metadata": {},
   "source": [
    "## 977. Squares of a Sorted Array\n",
    "\n",
    "O(N)"
   ]
  },
  {
   "cell_type": "code",
   "execution_count": 15,
   "metadata": {},
   "outputs": [],
   "source": [
    "class Solution:\n",
    "    def sortedSquares(self, A):\n",
    "        answer = [0] * len(A)\n",
    "        l = 0 \n",
    "        r = len(A) - 1\n",
    "        while l <= r:\n",
    "            left = abs(A[l])\n",
    "            right = abs(A[r])\n",
    "            if left < right:\n",
    "                answer[r - l] = right**2\n",
    "                r -= 1\n",
    "            else:\n",
    "                answer[r - l] = left**2\n",
    "                l += 1\n",
    "        return answer"
   ]
  },
  {
   "cell_type": "markdown",
   "metadata": {},
   "source": [
    "## 20. Valid Parentheses (String)\n",
    "\n",
    "O(N^2)"
   ]
  },
  {
   "cell_type": "code",
   "execution_count": 166,
   "metadata": {},
   "outputs": [],
   "source": [
    "class Solution(object):\n",
    "    def isValid(self, s):\n",
    "        while \"()\" in s or \"{}\" in s or '[]' in s:\n",
    "            s = s.replace(\"()\", \"\").replace('{}', \"\").replace('[]', \"\")\n",
    "        return s == ''"
   ]
  },
  {
   "cell_type": "code",
   "execution_count": 39,
   "metadata": {},
   "outputs": [
    {
     "data": {
      "text/plain": [
       "''"
      ]
     },
     "execution_count": 39,
     "metadata": {},
     "output_type": "execute_result"
    }
   ],
   "source": [
    "s = 'sh'\n",
    "s = s.replace('sh', '')\n",
    "s\n"
   ]
  },
  {
   "cell_type": "code",
   "execution_count": null,
   "metadata": {},
   "outputs": [],
   "source": [
    "#O(N)\n",
    "class Solution(object):\n",
    "    def isValid(self, s):\n",
    "        \"\"\"\n",
    "        :type s: str\n",
    "        :rtype: bool\n",
    "        \"\"\"\n",
    "        # The stack to keep track of opening brackets.\n",
    "        stack = []\n",
    "\n",
    "        # Hash map for keeping track of mappings. This keeps the code very clean.\n",
    "        # Also makes adding more types of parenthesis easier\n",
    "        dic = {\")\": \"(\", \"}\": \"{\", \"]\": \"[\"}\n",
    "\n",
    "        # For every bracket in the expression.\n",
    "        for c in s:\n",
    "\n",
    "            # If the character is an closing bracket\n",
    "            if c in dic:\n",
    "\n",
    "                # Pop the topmost element from the stack, if it is non empty\n",
    "                # Otherwise assign a dummy value of '#' to the top_element variable\n",
    "                top = stack.pop() if stack else '#'\n",
    "\n",
    "                # The mapping for the opening bracket in our hash and the top\n",
    "                # element of the stack don't match, return False\n",
    "                if dic[c] != top:\n",
    "                    return False\n",
    "            else:\n",
    "                # We have an opening bracket, simply push it onto the stack.\n",
    "                stack.append(c)\n",
    "\n",
    "        # In the end, if the stack is empty, then we have a valid expression.\n",
    "        # The stack won't be empty for cases like ((()\n",
    "        return not stack"
   ]
  },
  {
   "cell_type": "markdown",
   "metadata": {},
   "source": [
    "## 311. Sparse Matrix Multiplication\n",
    "\n",
    "O(N^2)"
   ]
  },
  {
   "cell_type": "code",
   "execution_count": 16,
   "metadata": {},
   "outputs": [],
   "source": [
    "class Solution(object):\n",
    "    def multiply(self, A, B):\n",
    "        mA = len(A)\n",
    "#         print('mA=', mA)\n",
    "        nA = len(A[0])\n",
    "#         print('nA=', nA)\n",
    "        nB = len(B[0])\n",
    "#         print('nB=', nB)\n",
    "        res = [[0]*nB for n in range(mA)]\n",
    "#         print('res=', res)\n",
    "        for i in range(mA):\n",
    "            for j in range(nA):\n",
    "                if A[i][j]:\n",
    "                    for k in range(nB):\n",
    "                        res[i][k] += A[i][j]*B[j][k]\n",
    "        return res"
   ]
  },
  {
   "cell_type": "code",
   "execution_count": 21,
   "metadata": {},
   "outputs": [
    {
     "data": {
      "text/plain": [
       "-1"
      ]
     },
     "execution_count": 21,
     "metadata": {},
     "output_type": "execute_result"
    },
    {
     "name": "stdout",
     "output_type": "stream",
     "text": [
      "mA= 2\n",
      "nA= 3\n",
      "nB= 3\n",
      "res= [[0, 0, 0], [0, 0, 0]]\n"
     ]
    },
    {
     "data": {
      "text/plain": [
       "[[7, 0, 0], [-7, 0, 3]]"
      ]
     },
     "execution_count": 21,
     "metadata": {},
     "output_type": "execute_result"
    }
   ],
   "source": [
    "s = Solution()\n",
    "A = [\n",
    "  [ 1, 0, 0],\n",
    "  [-1, 0, 3]\n",
    "]\n",
    "\n",
    "B = [\n",
    "  [ 7, 0, 0 ],\n",
    "  [ 0, 0, 0 ],\n",
    "  [ 0, 0, 1 ]\n",
    "]\n",
    "\n",
    "A[1][0]\n",
    "\n",
    "s.multiply(A,B)"
   ]
  },
  {
   "cell_type": "code",
   "execution_count": 9,
   "metadata": {},
   "outputs": [
    {
     "data": {
      "text/plain": [
       "array([[ 7,  0,  0],\n",
       "       [-7,  0,  3]])"
      ]
     },
     "execution_count": 9,
     "metadata": {},
     "output_type": "execute_result"
    }
   ],
   "source": [
    "import numpy as np\n",
    "x = np.array(A)\n",
    "y = np.array(B)\n",
    "z = x @ y"
   ]
  },
  {
   "cell_type": "markdown",
   "metadata": {},
   "source": [
    "## 73. Set Matrix Zeroes\n",
    "\n",
    "时间复杂度: O(m * n)  \n",
    "空间复杂度: O(1)"
   ]
  },
  {
   "cell_type": "code",
   "execution_count": null,
   "metadata": {},
   "outputs": [],
   "source": [
    "class Solution(object):\n",
    "    def setZeroes(self, matrix):\n",
    "        \"\"\"\n",
    "        :type matrix: List[List[int]]\n",
    "        :rtype: void Do not return anything, modify matrix in-place instead.\n",
    "        \"\"\"\n",
    "        is_col = False\n",
    "        m = len(matrix)\n",
    "        n = len(matrix[0])\n",
    "        for i in range(m):\n",
    "            # Since first cell for both first row and first column is the same i.e. matrix[0][0]\n",
    "            # We can use an additional variable for either the first row/column.\n",
    "            # For this solution we are using an additional variable for the first column\n",
    "            # and using matrix[0][0] for the first row.\n",
    "            if matrix[i][0] == 0:\n",
    "                is_col = True\n",
    "            for j in range(1, n):\n",
    "                # If an element is zero, we set the first element of the corresponding row and column to 0\n",
    "                if matrix[i][j]  == 0:\n",
    "                    matrix[0][j] = 0\n",
    "                    matrix[i][0] = 0\n",
    "\n",
    "        # Iterate over the array once again and using the first row and first column, update the elements.\n",
    "        for i in range(1, m):\n",
    "            for j in range(1, n):\n",
    "                if not matrix[i][0] or not matrix[0][j]:\n",
    "                    matrix[i][j] = 0\n",
    "\n",
    "        # See if the first row needs to be set to zero as well\n",
    "        if matrix[0][0] == 0:\n",
    "            for j in range(n):\n",
    "                matrix[0][j] = 0\n",
    "\n",
    "        # See if the first column needs to be set to zero as well        \n",
    "        if is_col:\n",
    "            for i in range(m):\n",
    "                matrix[i][0] = 0"
   ]
  },
  {
   "cell_type": "markdown",
   "metadata": {},
   "source": [
    "## 11. Container With Most Water\n",
    "\n",
    "O(N)"
   ]
  },
  {
   "cell_type": "code",
   "execution_count": null,
   "metadata": {},
   "outputs": [],
   "source": [
    "class Solution(object):\n",
    "    def maxArea(self, height):\n",
    "        \"\"\"\n",
    "        :type height: List[int]\n",
    "        :rtype: int\n",
    "        \"\"\"\n",
    "        l = 0\n",
    "        r = len(height) - 1\n",
    "        res = 0\n",
    "        while l < r:\n",
    "            water = min(height[l], height[r]) * (r - l) \n",
    "            res = max(res, water)\n",
    "            if height[l] <= height[r]:\n",
    "                l += 1\n",
    "            elif height[l] > height[r]:\n",
    "                r -= 1\n",
    "#             else:\n",
    "#                 left += 1\n",
    "#                 right -= 1\n",
    "        return res     "
   ]
  },
  {
   "cell_type": "markdown",
   "metadata": {},
   "source": [
    "## 42. Trapping Rain Water"
   ]
  },
  {
   "cell_type": "code",
   "execution_count": 184,
   "metadata": {},
   "outputs": [],
   "source": [
    "class Solution(object):\n",
    "    def trap(self, height):\n",
    "        \"\"\"\n",
    "        :type height: List[int]\n",
    "        :rtype: int\n",
    "        \"\"\"        \n",
    "        l = 0\n",
    "        r = len(height) - 1\n",
    "        water = 0\n",
    "        \n",
    "        while l < r:\n",
    "            min_height = min(height[l], height[r])\n",
    "#             print('min =', min_height)\n",
    "            while l < r and min_height >= height[l]:\n",
    "                water += min_height - height[l] \n",
    "#                 print('water =', water)\n",
    "                l += 1\n",
    "#                 print('l =', l)\n",
    "\n",
    "            while l < r and min_height >= height[r]:\n",
    "                water += min_height - height[r]\n",
    "#                 print('water =', water)\n",
    "                r -= 1\n",
    "#                 print('r =', r)\n",
    "                \n",
    "#             print()\n",
    "        return water"
   ]
  },
  {
   "cell_type": "code",
   "execution_count": 185,
   "metadata": {},
   "outputs": [
    {
     "name": "stdout",
     "output_type": "stream",
     "text": [
      "min = 0\n",
      "water = 0\n",
      "l = 1\n",
      "\n",
      "min = 1\n",
      "water = 0\n",
      "l = 2\n",
      "water = 1\n",
      "l = 3\n",
      "water = 1\n",
      "r = 10\n",
      "\n",
      "min = 2\n",
      "water = 1\n",
      "l = 4\n",
      "water = 2\n",
      "l = 5\n",
      "water = 4\n",
      "l = 6\n",
      "water = 5\n",
      "l = 7\n",
      "water = 5\n",
      "r = 9\n",
      "water = 6\n",
      "r = 8\n",
      "water = 6\n",
      "r = 7\n",
      "\n"
     ]
    },
    {
     "data": {
      "text/plain": [
       "6"
      ]
     },
     "execution_count": 185,
     "metadata": {},
     "output_type": "execute_result"
    }
   ],
   "source": [
    "s = Solution()\n",
    "s.trap([0,1,0,2,1,0,1,3,2,1,2,1])"
   ]
  },
  {
   "cell_type": "markdown",
   "metadata": {},
   "source": [
    "## 165. Compare Version Numbers (List)\n",
    "\n",
    "O(N)"
   ]
  },
  {
   "cell_type": "code",
   "execution_count": 316,
   "metadata": {},
   "outputs": [],
   "source": [
    "class Solution:\n",
    "    def compareVersion(self, version1, version2):\n",
    "        \"\"\"\n",
    "        :type version1: str\n",
    "        :type version2: str\n",
    "        :rtype: int\n",
    "        \"\"\"\n",
    "        \n",
    "        versions1 = [int(v) for v in version1.split(\".\")]\n",
    "#             print('versions1 =', versions1)\n",
    "        versions2 = [int(v) for v in version2.split(\".\")]\n",
    "#             print('versions2 =', versions2)\n",
    "\n",
    "        for i in range(max(len(versions1),len(versions2))):\n",
    "#                 print('i =',i)\n",
    "            v1 = versions1[i] if i < len(versions1) else 0\n",
    "#                 print('v1 =',v1)\n",
    "            v2 = versions2[i] if i < len(versions2) else 0\n",
    "#                 print('v2 =', v2)\n",
    "\n",
    "            if v1 > v2:\n",
    "                return 1\n",
    "            elif v1 < v2:\n",
    "                return -1;\n",
    "\n",
    "        return 0;"
   ]
  },
  {
   "cell_type": "code",
   "execution_count": 317,
   "metadata": {},
   "outputs": [
    {
     "name": "stdout",
     "output_type": "stream",
     "text": [
      "versions1 = [0, 1]\n",
      "versions2 = [1, 1]\n",
      "i = 0\n",
      "v1 = 0\n",
      "v2 = 1\n"
     ]
    },
    {
     "data": {
      "text/plain": [
       "-1"
      ]
     },
     "execution_count": 317,
     "metadata": {},
     "output_type": "execute_result"
    }
   ],
   "source": [
    "s = Solution()\n",
    "s.compareVersion('0.1', '1.1')"
   ]
  },
  {
   "cell_type": "markdown",
   "metadata": {},
   "source": [
    "## 28. Implement strStr()\n",
    "\n",
    "*- 时间复杂度: O(m * n)- 空间复杂度: O(1)*\n",
    "\n",
    "m = len(haystack)\n",
    "n = len(needle)\n",
    "作弊，python str.find() 底层实现是 Boyer–Moore–Horspool 算法\n",
    "\n",
    "The time complexity is O(N) on average, O(NM) worst case (N being the length of the longer string, M, the shorter string you search for)."
   ]
  },
  {
   "cell_type": "code",
   "execution_count": null,
   "metadata": {},
   "outputs": [],
   "source": [
    "class Solution(object):\n",
    "    def strStr(self, haystack, needle):\n",
    "        \"\"\"\n",
    "        :type haystack: str\n",
    "        :type needle: str\n",
    "        :rtype: int\n",
    "        \"\"\"\n",
    "        return haystack.find(needle)"
   ]
  },
  {
   "cell_type": "markdown",
   "metadata": {},
   "source": [
    "## 819. Most Common Word (String)\n",
    "\n",
    "O(N)"
   ]
  },
  {
   "cell_type": "code",
   "execution_count": 182,
   "metadata": {},
   "outputs": [],
   "source": [
    "class Solution:\n",
    "    def mostCommonWord(self, paragraph, banned):    \n",
    "        for c in \"!?',;.\": \n",
    "            paragraph = paragraph.replace(c, \" \")\n",
    "        \n",
    "        d = {}\n",
    "        res = '' \n",
    "        count = 0\n",
    "        \n",
    "        for word in paragraph.lower().split():\n",
    "            if word in banned:\n",
    "                continue;\n",
    "                \n",
    "            elif word in d:\n",
    "                d[word] += 1\n",
    "            else:\n",
    "                d[word] = 1\n",
    "                \n",
    "            if d[word] > count:\n",
    "                count = d[word]\n",
    "                res = word\n",
    "        return res\n",
    "        "
   ]
  },
  {
   "cell_type": "code",
   "execution_count": 183,
   "metadata": {},
   "outputs": [
    {
     "data": {
      "text/plain": [
       "'ball'"
      ]
     },
     "execution_count": 183,
     "metadata": {},
     "output_type": "execute_result"
    }
   ],
   "source": [
    "s = Solution()\n",
    "paragraph = \"Bob hit a ball, the hit BALL flew far after it was hit.\"\n",
    "banned = [\"hit\"]\n",
    "s.mostCommonWord(paragraph, banned)"
   ]
  },
  {
   "cell_type": "code",
   "execution_count": 20,
   "metadata": {},
   "outputs": [
    {
     "data": {
      "text/plain": [
       "'Sjks'"
      ]
     },
     "execution_count": 20,
     "metadata": {},
     "output_type": "execute_result"
    }
   ],
   "source": [
    "s = 'Sjks'\n",
    "s.split()\n",
    "s"
   ]
  },
  {
   "cell_type": "code",
   "execution_count": 28,
   "metadata": {},
   "outputs": [
    {
     "data": {
      "text/plain": [
       "['Bob',\n",
       " 'hit',\n",
       " 'a',\n",
       " 'ball',\n",
       " 'the',\n",
       " 'hit',\n",
       " 'BALL',\n",
       " 'flew',\n",
       " 'far',\n",
       " 'after',\n",
       " 'it',\n",
       " 'was',\n",
       " 'hit']"
      ]
     },
     "execution_count": 28,
     "metadata": {},
     "output_type": "execute_result"
    }
   ],
   "source": [
    "paragraph = \"Bob hit a ball, the hit BALL flew far after it was hit.\"\n",
    "for c in \"!?',;.\": \n",
    "    paragraph = paragraph.replace(c, \"\")\n",
    "    \n",
    "paragraph.split()"
   ]
  },
  {
   "cell_type": "markdown",
   "metadata": {},
   "source": [
    "## 937. Reorder Log Files\n",
    "\n",
    "O(Alog(A))  \n",
    "O(A)"
   ]
  },
  {
   "cell_type": "code",
   "execution_count": null,
   "metadata": {},
   "outputs": [],
   "source": [
    "class Solution(object):\n",
    "    def reorderLogFiles(self, logs):\n",
    "        \"\"\"\n",
    "        :type logs: List[str]\n",
    "        :rtype: List[str]\n",
    "        \"\"\"\n",
    "        \n",
    "        def f(log):\n",
    "            id_, rest = log.split(\" \", 1)\n",
    "            return (0, rest, id_) if rest[0].isalpha() else (1,)\n",
    "\n",
    "        return sorted(logs, key = f)"
   ]
  },
  {
   "cell_type": "code",
   "execution_count": 171,
   "metadata": {},
   "outputs": [
    {
     "name": "stdout",
     "output_type": "stream",
     "text": [
      "a1 , 9 2 3 1\n",
      "g1 , act car\n",
      "zo4 , 4 7\n",
      "ab1 , off key dog\n",
      "a8 , act zoo\n"
     ]
    }
   ],
   "source": [
    "logs = [\"a1 9 2 3 1\",\"g1 act car\",\"zo4 4 7\",\"ab1 off key dog\",\"a8 act zoo\"]\n",
    "\n",
    "for log in logs:\n",
    "    ids, rest = log.split(' ', 1)\n",
    "    print(ids, ',', rest)"
   ]
  },
  {
   "cell_type": "code",
   "execution_count": 247,
   "metadata": {},
   "outputs": [
    {
     "name": "stdout",
     "output_type": "stream",
     "text": [
      "['a1', '9 2 3 1']\n",
      "['g1', 'act car']\n",
      "['zo4', '4 7']\n",
      "['ab1', 'off key dog']\n",
      "['a8', 'act zoo']\n"
     ]
    }
   ],
   "source": [
    "logs = [\"a1 9 2 3 1\",\"g1 act car\",\"zo4 4 7\",\"ab1 off key dog\",\"a8 act zoo\"]\n",
    "\n",
    "for log in logs:\n",
    "    ids = log.split(' ', 1)\n",
    "    print(ids)"
   ]
  },
  {
   "cell_type": "markdown",
   "metadata": {},
   "source": [
    "### Linked Lists"
   ]
  },
  {
   "cell_type": "markdown",
   "metadata": {},
   "source": [
    "## 141. Linked List Cycle\n",
    "\n",
    "O(N)  \n",
    "O(1)"
   ]
  },
  {
   "cell_type": "code",
   "execution_count": null,
   "metadata": {},
   "outputs": [],
   "source": [
    "class Solution(object):\n",
    "    def hasCycle(self, head):\n",
    "        \"\"\"\n",
    "        :type head: ListNode\n",
    "        :rtype: bool\n",
    "        \"\"\"\n",
    "        slow = head\n",
    "        fast = head\n",
    "        while fast and fast.next:\n",
    "            slow = slow.next\n",
    "            fast = fast.next.next\n",
    "            if slow == fast:\n",
    "                return True\n",
    "        return False"
   ]
  },
  {
   "cell_type": "markdown",
   "metadata": {},
   "source": [
    "## 2. Add Two Numbers (Linked List)\n",
    "\n",
    "时间复杂度: O(N)  \n",
    "因为时间复杂度无法减小，我们一定得遍历完l1和l2的每一位才能得到最终的结果，O(N)没得商量"
   ]
  },
  {
   "cell_type": "code",
   "execution_count": 19,
   "metadata": {},
   "outputs": [],
   "source": [
    "# Definition for singly-linked list.\n",
    "# class ListNode:\n",
    "#     def __init__(self, x):\n",
    "#         self.val = x\n",
    "#         self.next = None\n",
    "\n",
    "class Solution:\n",
    "    def addTwoNumbers(self, l1, l2, c = 0):\n",
    "        \"\"\"\n",
    "        :type l1: ListNode\n",
    "        :type l2: ListNode\n",
    "        :rtype: ListNode\n",
    "        \"\"\"\n",
    "        val = l1.val + l2.val + c\n",
    "        c = val // 10\n",
    "        res = ListNode(val % 10) \n",
    "        \n",
    "        if l1.next or l2.next or c != 0:\n",
    "            if not l1.next:\n",
    "                l1.next = ListNode(0)\n",
    "            if not l2.next:\n",
    "                l2.next = ListNode(0)\n",
    "                \n",
    "            res.next = self.addTwoNumbers(l1.next, l2.next, c)\n",
    "        return res\n",
    "    \n",
    "# class Solution:\n",
    "#     def addTwoNumbers(self, l1, l2):\n",
    "#         \"\"\"\n",
    "#         :type l1: ListNode\n",
    "#         :type l2: ListNode\n",
    "#         :rtype: ListNode\n",
    "#         \"\"\"     \n",
    "#         # 因为处理到最后的时候，可能输入的 l1 和 l2 都不是一个 ListNode 而是 None 了\n",
    "#         if not l1 and not l2: \n",
    "#             return \n",
    "#         elif not (l1 and l2): # l1 和 l2 其中一个是 None \n",
    "#             return l1 or l2\n",
    "#         else: # l1 和 l2 都不是 None \n",
    "#             if l1.val + l2.val < 10: # 个位数相加没有进位\n",
    "#                 l3 = ListNode(l1.val+l2.val)\n",
    "#                 l3.next = self.addTwoNumbers(l1.next, l2.next) # 递归调用\n",
    "#             else: # # 个位数相加有进位\n",
    "#                 l3 = ListNode(l1.val+l2.val-10)\n",
    "#                 # 递归调用，记得加上进位\n",
    "#                 l3.next = self.addTwoNumbers(l1.next, self.addTwoNumbers(l2.next, ListNode(1)))\n",
    "#         return l3"
   ]
  },
  {
   "cell_type": "code",
   "execution_count": 17,
   "metadata": {},
   "outputs": [
    {
     "data": {
      "text/plain": [
       "2"
      ]
     },
     "execution_count": 17,
     "metadata": {},
     "output_type": "execute_result"
    }
   ],
   "source": [
    "%10"
   ]
  },
  {
   "cell_type": "markdown",
   "metadata": {},
   "source": [
    "## 445. Add Two Numbers II (Linked List)"
   ]
  },
  {
   "cell_type": "code",
   "execution_count": 64,
   "metadata": {},
   "outputs": [
    {
     "data": {
      "text/plain": [
       "7"
      ]
     },
     "execution_count": 64,
     "metadata": {},
     "output_type": "execute_result"
    }
   ],
   "source": [
    "class ListNode:\n",
    "    def __init__(self, x):\n",
    "        self.val = x\n",
    "        self.next = None\n",
    "        \n",
    "head = ListNode(0)\n",
    "head.next = ListNode(7)"
   ]
  },
  {
   "cell_type": "code",
   "execution_count": null,
   "metadata": {},
   "outputs": [],
   "source": [
    "class Solution:\n",
    "    def addTwoNumbers(self, l1: 'ListNode', l2: 'ListNode') -> 'ListNode':\n",
    "\n",
    "        x1 = 0\n",
    "        while l1:\n",
    "            x1 = x1 * 10 + l1.val\n",
    "            l1 = l1.next\n",
    "\n",
    "        x2 = 0\n",
    "        while l2:\n",
    "            x2 = x2 * 10 + l2.val\n",
    "            l2 = l2.next\n",
    "\n",
    "        x = x1 + x2\n",
    "\n",
    "        head = ListNode(0)\n",
    "        cur = head\n",
    "        for c in str(x):\n",
    "            cur.next = ListNode(int(c))\n",
    "            cur = cur.next\n",
    "\n",
    "        return head.next"
   ]
  },
  {
   "cell_type": "markdown",
   "metadata": {},
   "source": [
    "## 21. Merge Two Sorted Lists (LinkedList)"
   ]
  },
  {
   "cell_type": "code",
   "execution_count": 124,
   "metadata": {},
   "outputs": [],
   "source": [
    "class ListNode:\n",
    "    def __init__(self, x):\n",
    "        self.val = x\n",
    "        self.next = None\n",
    "\n",
    "class Solution:\n",
    "    def mergeTwoLists(self, l1, l2):\n",
    "#         if not l1 or not l2:\n",
    "#             return l1 or l2\n",
    "        \n",
    "#         if l1 == None:\n",
    "#             return l2\n",
    "#         elif l2 == None:\n",
    "#             return l1\n",
    "        \n",
    "        if not l1:\n",
    "            return l2\n",
    "        if not l2:\n",
    "            return l1\n",
    "        \n",
    "        if l1.val < l2.val:\n",
    "            l1.next = self.mergeTwoLists(l1.next, l2)\n",
    "            return l1\n",
    "        else:\n",
    "            l2.next = self.mergeTwoLists(l1, l2.next)\n",
    "            return l2\n",
    "    \n"
   ]
  },
  {
   "cell_type": "code",
   "execution_count": 123,
   "metadata": {},
   "outputs": [
    {
     "ename": "AttributeError",
     "evalue": "'NoneType' object has no attribute 'val'",
     "output_type": "error",
     "traceback": [
      "\u001b[0;31m---------------------------------------------------------------------------\u001b[0m",
      "\u001b[0;31mAttributeError\u001b[0m                            Traceback (most recent call last)",
      "\u001b[0;32m<ipython-input-123-49b6632b8b78>\u001b[0m in \u001b[0;36m<module>\u001b[0;34m\u001b[0m\n\u001b[1;32m      6\u001b[0m \u001b[0mx\u001b[0m\u001b[0;34m.\u001b[0m\u001b[0mval\u001b[0m\u001b[0;34m\u001b[0m\u001b[0;34m\u001b[0m\u001b[0m\n\u001b[1;32m      7\u001b[0m \u001b[0mx\u001b[0m\u001b[0;34m.\u001b[0m\u001b[0mnext\u001b[0m\u001b[0;34m.\u001b[0m\u001b[0mval\u001b[0m\u001b[0;34m\u001b[0m\u001b[0;34m\u001b[0m\u001b[0m\n\u001b[0;32m----> 8\u001b[0;31m \u001b[0mx\u001b[0m\u001b[0;34m.\u001b[0m\u001b[0mnext\u001b[0m\u001b[0;34m.\u001b[0m\u001b[0mnext\u001b[0m\u001b[0;34m.\u001b[0m\u001b[0mval\u001b[0m\u001b[0;34m\u001b[0m\u001b[0;34m\u001b[0m\u001b[0m\n\u001b[0m",
      "\u001b[0;31mAttributeError\u001b[0m: 'NoneType' object has no attribute 'val'"
     ]
    }
   ],
   "source": [
    "l1 = ListNode(1)\n",
    "l2 = ListNode(2)\n",
    "\n",
    "s = Solution()\n",
    "x = s.mergeTwoLists(l1,l2)\n",
    "x.val\n",
    "x.next.val"
   ]
  },
  {
   "cell_type": "code",
   "execution_count": 165,
   "metadata": {},
   "outputs": [
    {
     "name": "stdout",
     "output_type": "stream",
     "text": [
      "1\n"
     ]
    },
    {
     "data": {
      "text/plain": [
       "False"
      ]
     },
     "execution_count": 165,
     "metadata": {},
     "output_type": "execute_result"
    }
   ],
   "source": [
    "# def x(l1,l2):\n",
    "#     if l1 == None:\n",
    "#         return l2\n",
    "#     elif l2 == None:\n",
    "#         return l1\n",
    "    \n",
    "def x(l1, l2):\n",
    "    if not l1 or not l2:\n",
    "        return l1 or l2\n",
    "\n",
    "a = None\n",
    "b = ListNode(1)\n",
    "c = x(a,b)\n",
    "print(c.val)\n"
   ]
  },
  {
   "cell_type": "markdown",
   "metadata": {},
   "source": [
    "## 23. Merge k Sorted Lists (LinkedList)\n",
    "\n"
   ]
  },
  {
   "cell_type": "code",
   "execution_count": null,
   "metadata": {},
   "outputs": [],
   "source": [
    "# Definition for singly-linked list.\n",
    "# class ListNode:\n",
    "#     def __init__(self, x):\n",
    "#         self.val = x\n",
    "#         self.next = None\n",
    "\n",
    "class Solution:\n",
    "    \"\"\"\n",
    "    :type lists: List[ListNode]\n",
    "    :rtype: ListNode\n",
    "    \"\"\"\n",
    "    \n",
    "    def mergeKLists(self, lists):\n",
    "        if not lists:\n",
    "            return \n",
    "        return self.merge(lists, 0, len(lists) -1)\n",
    "    \n",
    "    def merge(self,lists, left, right):\n",
    "        if left == right:\n",
    "            return lists[left]\n",
    "        mid = left + (right - left) // 2\n",
    "        l1 = self.merge(lists, left, mid)\n",
    "        l2 = self.merge(lists, mid+1, right)\n",
    "        return self.mergeTwoLists(l1, l2)\n",
    "    \n",
    "    def mergeTwoLists(self,l1, l2):\n",
    "        if not l1:\n",
    "            return l2\n",
    "        if not l2:\n",
    "            return l1\n",
    "        \n",
    "        if l1.val < l2.val:\n",
    "            l1.next = self.mergeTwoLists(l1.next, l2)\n",
    "            return l1\n",
    "        else:\n",
    "            l2.next = self.mergeTwoLists(l1, l2.next)\n",
    "            return l2\n",
    "        "
   ]
  },
  {
   "cell_type": "markdown",
   "metadata": {},
   "source": [
    "## 206. Reverse Linked List (LinkedList)"
   ]
  },
  {
   "cell_type": "code",
   "execution_count": null,
   "metadata": {},
   "outputs": [],
   "source": [
    "# Definition for singly-linked list.\n",
    "# class ListNode:\n",
    "#     def __init__(self, x):\n",
    "#         self.val = x\n",
    "#         self.next = None\n",
    "\n",
    "class Solution(object):        \n",
    "    def reverseList(self, head):  # Iterative\n",
    "        cur = head\n",
    "        prev = None\n",
    "        while cur:\n",
    "            cur.next = prev\n",
    "            prev = cur\n",
    "            cur = cur.next\n",
    "        return prev"
   ]
  },
  {
   "cell_type": "code",
   "execution_count": null,
   "metadata": {},
   "outputs": [],
   "source": [
    "class Solution(object):\n",
    "    def reverseList(self, head): # Recursive\n",
    "        \"\"\"\n",
    "        :type head: ListNode\n",
    "        :rtype: ListNode\n",
    "        \"\"\"\n",
    "        def helper(head, new_head):\n",
    "            if head:\n",
    "                nxt = head.next\n",
    "                head.next = new_head\n",
    "                return helper(nxt, head)\n",
    "            else:\n",
    "                return new_head\n",
    "\n",
    "        return helper(head, None)"
   ]
  },
  {
   "cell_type": "markdown",
   "metadata": {},
   "source": [
    "## 160. Intersection of Two Linked List"
   ]
  },
  {
   "cell_type": "code",
   "execution_count": null,
   "metadata": {},
   "outputs": [],
   "source": [
    "class Solution(object):\n",
    "    def getIntersectionNode(self, headA, headB):\n",
    "        \"\"\"\n",
    "        :type head1, head1: ListNode\n",
    "        :rtype: ListNode\n",
    "        \"\"\"\n",
    "        pA = headA\n",
    "        pB = headB\n",
    "        while pA is not pB:\n",
    "            pA = pA.next if pA else headB\n",
    "            pB = pB.next if pB else headA\n",
    "        return pA"
   ]
  },
  {
   "cell_type": "markdown",
   "metadata": {},
   "source": [
    "## 138. Copy List with Random Pointer (List + Recursion)\n",
    "\n",
    "时间复杂度: O(N)"
   ]
  },
  {
   "cell_type": "code",
   "execution_count": null,
   "metadata": {},
   "outputs": [],
   "source": [
    "class Solution(object):\n",
    "    \"\"\"\n",
    "    :type head: Node\n",
    "    :rtype: Node\n",
    "    \"\"\"\n",
    "    \n",
    "    # Dictionary which holds old nodes as keys and new nodes as its values.\n",
    "    dic = {}\n",
    "\n",
    "    def copyRandomList(self, head):\n",
    "        if not head:\n",
    "            return None\n",
    "\n",
    "        # If we have already processed the current node, then we simply return the cloned version of it.\n",
    "        if head in dic:\n",
    "            return dic[head]\n",
    "\n",
    "        # create a new node\n",
    "        # with the value same as old node.\n",
    "        node = Node(head.val, None, None)\n",
    "\n",
    "        # Save this value in the hash map. This is needed since there might be\n",
    "        # loops during traversal due to randomness of random pointers and this would help us avoid them.\n",
    "        dic[head] = node\n",
    "\n",
    "        # Recursively copy the remaining linked list starting once from the next pointer and then from the random pointer.\n",
    "        # Thus we have two independent recursive calls.\n",
    "        # Finally we update the next and random pointers for the new node created.\n",
    "        node.next = self.copyRandomList(head.next)\n",
    "        node.random = self.copyRandomList(head.random)\n",
    "\n",
    "        return node"
   ]
  },
  {
   "cell_type": "markdown",
   "metadata": {},
   "source": [
    "### Trees and Graphs"
   ]
  },
  {
   "cell_type": "markdown",
   "metadata": {},
   "source": [
    "## 100. Same Tree\n",
    "\n",
    "O(N)"
   ]
  },
  {
   "cell_type": "code",
   "execution_count": null,
   "metadata": {},
   "outputs": [],
   "source": [
    "class Solution:\n",
    "    def isSameTree(self, p, q):\n",
    "        \"\"\"\n",
    "        :type p: TreeNode\n",
    "        :type q: TreeNode\n",
    "        :rtype: bool\n",
    "        \"\"\"    \n",
    "        # p and q are both None\n",
    "        if not p and not q:\n",
    "            return True\n",
    "        # one of p and q is None\n",
    "        if not q or not p:\n",
    "            return False\n",
    "        if p.val != q.val:\n",
    "            return False\n",
    "        return self.isSameTree(p.right, q.right) and self.isSameTree(p.left, q.left)"
   ]
  },
  {
   "cell_type": "markdown",
   "metadata": {},
   "source": [
    "## 104. Maximum Depth of Binary Tree\n",
    "\n",
    "O(N)"
   ]
  },
  {
   "cell_type": "code",
   "execution_count": null,
   "metadata": {},
   "outputs": [],
   "source": [
    "class Solution:\n",
    "    def maxDepth(self, root):\n",
    "        \"\"\"\n",
    "        :type root: TreeNode\n",
    "        :rtype: int\n",
    "        \"\"\" \n",
    "        if not root: \n",
    "            return 0 \n",
    "\n",
    "        left_height = self.maxDepth(root.left) \n",
    "        right_height = self.maxDepth(root.right) \n",
    "        return max(left_height, right_height) + 1 "
   ]
  },
  {
   "cell_type": "markdown",
   "metadata": {},
   "source": [
    "## 133. Clone Graph"
   ]
  },
  {
   "cell_type": "code",
   "execution_count": null,
   "metadata": {},
   "outputs": [],
   "source": [
    "\"\"\"\n",
    "# Definition for a Node.\n",
    "class Node:\n",
    "    def __init__(self, val, neighbors):\n",
    "        self.val = val\n",
    "        self.neighbors = neighbors\n",
    "\"\"\"\n",
    "class Solution:\n",
    "    # @param node, a undirected graph node\n",
    "    # @return a undirected graph node\n",
    "    def cloneGraph(self, node):\n",
    "        if not node:\n",
    "            return\n",
    "\n",
    "        def dfs(node):\n",
    "            if node.val in visited:\n",
    "                return visited[node.val]\n",
    "            new_node = Node(node.val, node.neighbors)\n",
    "            visited[new_node.val] = new_node\n",
    "            new_node.neighbors = [dfs(n) for n in node.neighbors]\n",
    "            return new_node\n",
    "\n",
    "        visited = {}\n",
    "        return dfs(node)"
   ]
  },
  {
   "cell_type": "markdown",
   "metadata": {},
   "source": [
    "## 200. Number of Island  (DFS, Recursion)\n",
    "\n",
    "O(N*M)"
   ]
  },
  {
   "cell_type": "code",
   "execution_count": null,
   "metadata": {},
   "outputs": [],
   "source": [
    "class Solution:\n",
    "    def numIslands(self, grid):\n",
    "        if not grid:\n",
    "            return 0\n",
    "\n",
    "        def dfs(grid, i, j):\n",
    "            if i<0 or j<0 or i>=len(grid) or j>=len(grid[0]) or grid[i][j] != '1':\n",
    "                return\n",
    "        \n",
    "            grid[i][j] = '#'\n",
    "            dfs(grid, i+1, j)\n",
    "            dfs(grid, i-1, j)\n",
    "            dfs(grid, i, j+1)\n",
    "            dfs(grid, i, j-1)\n",
    "        \n",
    "        count = 0\n",
    "        for i in range(len(grid)):\n",
    "            for j in range(len(grid[0])):\n",
    "                if grid[i][j] == '1':\n",
    "                    dfs(grid, i, j)\n",
    "                    count += 1\n",
    "        return count"
   ]
  },
  {
   "cell_type": "code",
   "execution_count": null,
   "metadata": {},
   "outputs": [],
   "source": [
    "class Solution():\n",
    "\n",
    "    def numIslands(self, grid):\n",
    "        if not grid:\n",
    "            return 0\n",
    "\n",
    "        count = 0\n",
    "        for i in range(len(grid)):\n",
    "            for j in range(len(grid[0])):\n",
    "                if grid[i][j] == '1':\n",
    "                    self.dfs(grid, i, j)\n",
    "                    count += 1\n",
    "        return count\n",
    "\n",
    "    def dfs(self, grid, i, j):\n",
    "        if i<0 or j<0 or i>=len(grid) or j>=len(grid[0]) or grid[i][j] != '1':\n",
    "            return\n",
    "\n",
    "        grid[i][j] = '#'\n",
    "        self.dfs(grid, i+1, j)\n",
    "        self.dfs(grid, i-1, j)\n",
    "        self.dfs(grid, i, j+1)\n",
    "        self.dfs(grid, i, j-1)"
   ]
  },
  {
   "cell_type": "code",
   "execution_count": 71,
   "metadata": {},
   "outputs": [
    {
     "name": "stdout",
     "output_type": "stream",
     "text": [
      "4\n",
      "1\n",
      "1\n",
      "0\n",
      "0\n",
      "0\n",
      "1\n",
      "1\n",
      "0\n",
      "0\n",
      "0\n",
      "0\n",
      "0\n",
      "1\n",
      "0\n",
      "0\n",
      "0\n",
      "0\n",
      "0\n",
      "1\n",
      "1\n"
     ]
    }
   ],
   "source": [
    "grid = [[1,1,0,0,0],\n",
    "        [1,1,0,0,0],\n",
    "        [0,0,1,0,0],\n",
    "        [0,0,0,1,1]]\n",
    "\n",
    "print(len(grid))\n",
    "\n",
    "for i in range(len(grid)):\n",
    "    for j in range(len(grid[0])):\n",
    "        print(grid[i][j])"
   ]
  },
  {
   "cell_type": "markdown",
   "metadata": {},
   "source": [
    "## 236. Lowest Common Ancestor of a Binary Tree\n",
    "\n",
    "O(N)"
   ]
  },
  {
   "cell_type": "code",
   "execution_count": null,
   "metadata": {},
   "outputs": [],
   "source": [
    "class Solution:\n",
    "    def lowestCommonAncestor(self, root, p, q):\n",
    "        \"\"\"\n",
    "        :type root: TreeNode\n",
    "        :type p: TreeNode\n",
    "        :type q: TreeNode\n",
    "        :rtype: TreeNode\n",
    "        \"\"\"\n",
    "        if not root or root == p or root == q:\n",
    "            return root\n",
    "        left = self.lowestCommonAncestor(root.left, p, q)\n",
    "        right = self.lowestCommonAncestor(root.right, p, q)\n",
    "        if left and right:\n",
    "            return root\n",
    "        return left or right"
   ]
  },
  {
   "cell_type": "markdown",
   "metadata": {},
   "source": [
    "## 329. Longest Increasing Path in a Matrix\n"
   ]
  },
  {
   "cell_type": "code",
   "execution_count": 29,
   "metadata": {},
   "outputs": [],
   "source": [
    "class Solution:\n",
    "    def longestIncreasingPath(self, matrix):\n",
    "        def dfs(i, j):\n",
    "            if not tmp[i][j]:\n",
    "                val = matrix[i][j]\n",
    "                \n",
    "                tmp[i][j] = 1 + max(\n",
    "                    dfs(i - 1, j) if i and val > matrix[i - 1][j] else 0,\n",
    "                    dfs(i + 1, j) if i < m - 1 and val > matrix[i + 1][j] else 0,\n",
    "                    dfs(i, j - 1) if j and val > matrix[i][j - 1] else 0,\n",
    "                    dfs(i, j + 1) if j < n - 1 and val > matrix[i][j + 1] else 0)\n",
    "            \n",
    "            return tmp[i][j]\n",
    "\n",
    "        if not matrix: \n",
    "            return 0\n",
    "        \n",
    "        m = len(matrix)\n",
    "        n = len(matrix[0])\n",
    "        tmp = [[0] * n for i in range(m)]\n",
    "#         print('dp=',dp)\n",
    "        return max(dfs(x, y) for x in range(m) for y in range(n))"
   ]
  },
  {
   "cell_type": "code",
   "execution_count": 30,
   "metadata": {},
   "outputs": [
    {
     "name": "stdout",
     "output_type": "stream",
     "text": [
      "dp= [[0, 0, 0], [0, 0, 0], [0, 0, 0]]\n"
     ]
    },
    {
     "data": {
      "text/plain": [
       "4"
      ]
     },
     "execution_count": 30,
     "metadata": {},
     "output_type": "execute_result"
    }
   ],
   "source": [
    "s = Solution()\n",
    "\n",
    "matrix = [\n",
    "  [9,9,4],\n",
    "  [6,6,8],\n",
    "  [2,1,1]\n",
    "] \n",
    "\n",
    "s.longestIncreasingPath(matrix)"
   ]
  },
  {
   "cell_type": "markdown",
   "metadata": {},
   "source": [
    "## 543. Diameter of Binary Tree (DFS)\n",
    "\n",
    "O(N)"
   ]
  },
  {
   "cell_type": "code",
   "execution_count": null,
   "metadata": {},
   "outputs": [],
   "source": [
    "class Solution(object):\n",
    "    def diameterOfBinaryTree(self, root):\n",
    "        ans = 1\n",
    "        \n",
    "        def depth(node):\n",
    "            if not node: \n",
    "                return 0\n",
    "            \n",
    "            l = depth(node.left)\n",
    "            r = depth(node.right)\n",
    "            ans = max(ans, l+r+1)\n",
    "            return max(l, r) + 1\n",
    "\n",
    "        depth(root)\n",
    "        return ans - 1"
   ]
  },
  {
   "cell_type": "markdown",
   "metadata": {},
   "source": [
    "## 951. Flip Equivalent Binary Trees\n",
    "\n",
    "O(min(len(root1), len(root2)))"
   ]
  },
  {
   "cell_type": "code",
   "execution_count": null,
   "metadata": {},
   "outputs": [],
   "source": [
    "class Solution(object):\n",
    "    def flipEquiv(self, root1, root2):\n",
    "        if root1 is root2:\n",
    "            return True\n",
    "        if not root1 or not root2 or root1.val != root2.val:\n",
    "            return False\n",
    "\n",
    "        return (self.flipEquiv(root1.left, root2.left) and\n",
    "                self.flipEquiv(root1.right, root2.right) or\n",
    "                self.flipEquiv(root1.left, root2.right) and\n",
    "                self.flipEquiv(root1.right, root2.left))"
   ]
  },
  {
   "cell_type": "markdown",
   "metadata": {},
   "source": [
    "## 98. Validate Binary Search Tree\n",
    "\n",
    "O(N)"
   ]
  },
  {
   "cell_type": "code",
   "execution_count": null,
   "metadata": {},
   "outputs": [],
   "source": [
    "# Definition for a binary tree node.\n",
    "# class TreeNode(object):\n",
    "#     def __init__(self, x):\n",
    "#         self.val = x\n",
    "#         self.left = None\n",
    "#         self.right = None\n",
    "\n",
    "class Solution:\n",
    "    def isValidBST(self, root):\n",
    "        \"\"\"\n",
    "        :type root: TreeNode\n",
    "        :rtype: bool\n",
    "        \"\"\"\n",
    "        def dfs(node, lower = float('-inf'), upper = float('inf')):\n",
    "            if not node:\n",
    "                return True\n",
    "            \n",
    "            if node.val <= lower or node.val >= upper:\n",
    "                return False\n",
    "\n",
    "            if not dfs(node.right, node.val, upper):\n",
    "                return False\n",
    "            if not dfs(node.left, lower, node.val):\n",
    "                return False\n",
    "            return True\n",
    "\n",
    "        return dfs(root)"
   ]
  },
  {
   "cell_type": "markdown",
   "metadata": {},
   "source": [
    "## 94. Binary Tree Inorder Traversal\n",
    "\n",
    "O(N)"
   ]
  },
  {
   "cell_type": "code",
   "execution_count": null,
   "metadata": {},
   "outputs": [],
   "source": [
    "class Solution(object):\n",
    "    def inorderTraversal(self, root):\n",
    "        \"\"\"\n",
    "        :type root: TreeNode\n",
    "        :rtype: List[int]\n",
    "        \"\"\"\n",
    "        res = []\n",
    "        \n",
    "        if not root:\n",
    "            return res\n",
    "        if root.left: \n",
    "            res.extend(self.inorderTraversal(root.left))\n",
    "            \n",
    "        res.append(root.val)\n",
    "        \n",
    "        if root.right:\n",
    "            res.extend(self.inorderTraversal(root.right))\n",
    "        return res"
   ]
  },
  {
   "cell_type": "markdown",
   "metadata": {},
   "source": [
    "## 102. Binary Tree Level Order Traversal\n",
    "\n",
    "O(N)"
   ]
  },
  {
   "cell_type": "code",
   "execution_count": null,
   "metadata": {},
   "outputs": [],
   "source": [
    "# Definition for a binary tree node.\n",
    "# class TreeNode:\n",
    "#     def __init__(self, x):\n",
    "#         self.val = x\n",
    "#         self.left = None\n",
    "#         self.right = None\n",
    "\n",
    "class Solution:\n",
    "    def levelOrder(self, root):\n",
    "        \"\"\"\n",
    "        :type root: TreeNode\n",
    "        :rtype: List[List[int]]\n",
    "        \"\"\"\n",
    "        levels = []\n",
    "        if not root:\n",
    "            return levels\n",
    "        \n",
    "        levels = []\n",
    "        def dfs(node, level):\n",
    "            # start the current level\n",
    "            if len(levels) == level:\n",
    "                levels.append([])\n",
    "\n",
    "            # append the current node value\n",
    "            levels[level].append(node.val)\n",
    "\n",
    "            # process child nodes for the next level\n",
    "            if node.left:\n",
    "                dfs(node.left, level + 1)\n",
    "            if node.right:\n",
    "                dfs(node.right, level + 1)\n",
    "            \n",
    "        dfs(root, 0)\n",
    "        return levels"
   ]
  },
  {
   "cell_type": "markdown",
   "metadata": {},
   "source": [
    "## 103. Binary Tree Zigzag Level Order Transversal (List)\n",
    "\n",
    "时间复杂度: O(N)"
   ]
  },
  {
   "cell_type": "code",
   "execution_count": 10,
   "metadata": {},
   "outputs": [],
   "source": [
    "class Solution:\n",
    "    def zigzagLevelOrder(self, root):\n",
    "        \"\"\"\n",
    "        :type root: TreeNode\n",
    "        :rtype: List[List[int]]\n",
    "        \"\"\"\n",
    "        \n",
    "        if not root:\n",
    "            return []\n",
    "        \n",
    "        res = []\n",
    "        cur = [root]\n",
    "        level = 0\n",
    "        \n",
    "        while cur:\n",
    "            tmp = []\n",
    "            nextl = []\n",
    "            \n",
    "            for node in cur:\n",
    "                tmp.append(node.val)\n",
    "                if node.left:\n",
    "                    nextl.append(node.left)\n",
    "                if node.right:\n",
    "                    nextl.append(node.right)\n",
    "            \n",
    "            if level % 2 == 0:\n",
    "                res.append(tmp)  \n",
    "            else:\n",
    "                tmp.reverse()\n",
    "                res.append(tmp)\n",
    "            \n",
    "            cur = nextl\n",
    "            level += 1\n",
    "        return res"
   ]
  },
  {
   "cell_type": "code",
   "execution_count": 33,
   "metadata": {},
   "outputs": [],
   "source": [
    "s = [1,2,3]\n",
    "s = s.reverse()\n",
    "s"
   ]
  },
  {
   "cell_type": "code",
   "execution_count": 295,
   "metadata": {},
   "outputs": [],
   "source": [
    "# Definition for a binary tree node.\n",
    "class TreeNode:\n",
    "    def __init__(self, x):\n",
    "        self.val = x\n",
    "        self.left = None\n",
    "        self.right = None\n",
    "\n",
    "class Solution:\n",
    "    def zigzagLevelOrder(self, root):\n",
    "        if not root:\n",
    "            return []\n",
    "        \n",
    "        res = []\n",
    "        cur_level = [root]\n",
    "        level_count = 0\n",
    "        \n",
    "        while cur_level:\n",
    "            next_level = []\n",
    "            tmp_res = []\n",
    "            \n",
    "            for node in cur_level:\n",
    "                tmp_res.append(node.val)\n",
    "                print('tmp_res =', tmp_res)\n",
    "                if node.left:\n",
    "                    next_level.append(node.left)\n",
    "                    print('next_level =', next_level[-1].val, len(next_level))\n",
    "                if node.right:\n",
    "                    next_level.append(node.right)\n",
    "                    print('next_level =', next_level[-1].val, len(next_level))\n",
    "            \n",
    "            if level_count % 2 == 0:\n",
    "                res.append(tmp_res)  \n",
    "                print('res =', res)\n",
    "            else:\n",
    "                tmp_res.reverse()\n",
    "                print('tmp_res =', tmp_res)\n",
    "                res.append(tmp_res)\n",
    "                print('res =', res)\n",
    "            \n",
    "            level_count += 1\n",
    "            cur_level = next_level\n",
    "            print('level_count =', level_count)\n",
    "            \n",
    "            if cur_level != None:\n",
    "                print('cur_level =', len(cur_level))\n",
    "            else:\n",
    "                print('cur_level is empty')\n",
    "                \n",
    "            print()\n",
    "\n",
    "        return res"
   ]
  },
  {
   "cell_type": "code",
   "execution_count": 296,
   "metadata": {},
   "outputs": [
    {
     "name": "stdout",
     "output_type": "stream",
     "text": [
      "tmp_res = [3]\n",
      "next_level = 9 1\n",
      "next_level = 20 2\n",
      "res = [[3]]\n",
      "level_count = 1\n",
      "cur_level = 2\n",
      "\n",
      "tmp_res = [9]\n",
      "tmp_res = [9, 20]\n",
      "next_level = 15 1\n",
      "next_level = 7 2\n",
      "tmp_res = [20, 9]\n",
      "res = [[3], [20, 9]]\n",
      "level_count = 2\n",
      "cur_level = 2\n",
      "\n",
      "tmp_res = [15]\n",
      "tmp_res = [15, 7]\n",
      "res = [[3], [20, 9], [15, 7]]\n",
      "level_count = 3\n",
      "cur_level = 0\n",
      "\n"
     ]
    },
    {
     "data": {
      "text/plain": [
       "[[3], [20, 9], [15, 7]]"
      ]
     },
     "execution_count": 296,
     "metadata": {},
     "output_type": "execute_result"
    }
   ],
   "source": [
    "root = TreeNode(3)\n",
    "root.left = TreeNode(9)\n",
    "root.right = TreeNode(20)\n",
    "root.right.left = TreeNode(15)\n",
    "root.right.right = TreeNode(7)\n",
    "\n",
    "s = Solution()\n",
    "s.zigzagLevelOrder(root)"
   ]
  },
  {
   "cell_type": "markdown",
   "metadata": {},
   "source": [
    "## 117. Populating Next Right Pointers in Each Node II\n",
    "\n",
    "The algorithm is a BFS or level order traversal. We go through the tree level by level. node is the pointer in the parent level, tail is the tail pointer in the child level.\n",
    "The parent level can be view as a singly linked list or queue, which we can traversal easily with a pointer.\n",
    "Connect the tail with every one of the possible nodes in child level, update it only if the connected node is not nil.\n",
    "Do this one level by one level. The whole thing is quite straightforward.\n",
    "\n"
   ]
  },
  {
   "cell_type": "code",
   "execution_count": null,
   "metadata": {},
   "outputs": [],
   "source": [
    "class Solution:\n",
    "    # @param root, a tree link node\n",
    "    # @return nothing\n",
    "    def connect(self, node):\n",
    "        tail = dummy = Node(0)\n",
    "        while node:\n",
    "            tail.next = node.left\n",
    "            if tail.next:\n",
    "                tail = tail.next\n",
    "            tail.next = node.right\n",
    "            if tail.next:\n",
    "                tail = tail.next\n",
    "            node = node.next\n",
    "            if not node:\n",
    "                tail = dummy\n",
    "                node = dummy.next"
   ]
  },
  {
   "cell_type": "markdown",
   "metadata": {},
   "source": [
    "## 101. Symmetric Tree\n",
    "\n",
    "O(N)"
   ]
  },
  {
   "cell_type": "code",
   "execution_count": null,
   "metadata": {},
   "outputs": [],
   "source": [
    "# Definition for a binary tree node.\n",
    "# class TreeNode(object):\n",
    "#     def __init__(self, x):\n",
    "#         self.val = x\n",
    "#         self.left = None\n",
    "#         self.right = None\n",
    "\n",
    "class Solution(object):\n",
    "    def isSymmetric(self, root):\n",
    "        \"\"\"\n",
    "        :type root: TreeNode\n",
    "        :rtype: bool\n",
    "        \"\"\"\n",
    "        if not root:\n",
    "            return True\n",
    "        \n",
    "        def dfs(l1, l2):\n",
    "            if not l1 or not l2:\n",
    "                if not l1 and not l2:\n",
    "                    return True\n",
    "                else:\n",
    "                    return False\n",
    "                \n",
    "            if l1.val == l2.val:\n",
    "                return dfs(l1.left, l2.right) and dfs(l1.right, l2.left)\n",
    "            else:\n",
    "                return False\n",
    "        \n",
    "        return dfs(root.left, root.right)"
   ]
  },
  {
   "cell_type": "markdown",
   "metadata": {},
   "source": [
    "## 124. Binary Tree Maximum Path Sum (Recursion)\n",
    "\n",
    "O(N)\n",
    "O(log(N))\n",
    "\n",
    "Algorithm\n",
    "Initiate max_sum as the smallest possible integer and call max_gain(node = root).  \n",
    "Implement max_gain(node) with a check to continue the old path/to start a new path:  \n",
    "Base case : if node is null, the max gain is 0.  \n",
    "Call max_gain recursively for the node children to compute max gain from the left and right subtrees : left_gain = max(max_gain(node.left), 0) and right_gain = max(max_gain(node.right), 0).  \n",
    "Now check to continue the old path or to start a new path. To start a new path would cost price_newpath = node.val + left_gain + right_gain. Update max_sum if it's better to start a new path.  \n",
    "For the recursion return the max gain the node and one/zero of its subtrees could add to the current path : node.val + max(left_gain, right_gain).  \n"
   ]
  },
  {
   "cell_type": "code",
   "execution_count": null,
   "metadata": {},
   "outputs": [],
   "source": [
    "# Definition for a binary tree node.\n",
    "# class TreeNode:\n",
    "#     def __init__(self, x):\n",
    "#         self.val = x\n",
    "#         self.left = None\n",
    "#         self.right = None\n",
    "\n",
    "class Solution:\n",
    "    def maxPathSum(self, root):\n",
    "        \"\"\"\n",
    "        :type root: TreeNode\n",
    "        :rtype: int\n",
    "        \"\"\"\n",
    "        max_sum = float('-inf')\n",
    "        def max_gain(node):\n",
    "            nonlocal max_sum\n",
    "            if not node:\n",
    "                return 0\n",
    "\n",
    "            # max sum on the left and right sub-trees of node\n",
    "            l = max(max_gain(node.left), 0)\n",
    "            r = max(max_gain(node.right), 0)\n",
    "            \n",
    "            # the price to start a new path where `node` is a highest node\n",
    "            sums  = node.val + l + r\n",
    "            \n",
    "            # update max_sum if it's better to start a new path\n",
    "            max_sum = max(max_sum, sums)\n",
    "        \n",
    "            # for recursion :\n",
    "            # return the max gain if continue the same path\n",
    "            return node.val + max(l, r)\n",
    "   \n",
    "        \n",
    "        max_gain(root)\n",
    "        return max_sum"
   ]
  },
  {
   "cell_type": "markdown",
   "metadata": {},
   "source": [
    "## 207. Course Schedule\n",
    "\n",
    "if node v has not been visited, then mark it as 0.  \n",
    "if node v is being visited, then mark it as -1. If we find a vertex marked as -1 in DFS, then their is a ring.  \n",
    "if node v has been visited, then mark it as 1. If a vertex was marked as 1, then no ring contains v or its successors."
   ]
  },
  {
   "cell_type": "code",
   "execution_count": null,
   "metadata": {},
   "outputs": [],
   "source": [
    "class Solution:\n",
    "    def canFinish(self, num, prerequisites):\n",
    "        graph = [[] for i in range(num)]\n",
    "        visit = [0 for i in range(num)]\n",
    "        \n",
    "        for x, y in prerequisites:\n",
    "            graph[x].append(y)\n",
    "            \n",
    "        def dfs(i):\n",
    "            if visit[i] == -1:\n",
    "                return False\n",
    "            if visit[i] == 1:\n",
    "                return True\n",
    "            visit[i] = -1\n",
    "            for j in graph[i]:\n",
    "                if not dfs(j):\n",
    "                    return False\n",
    "            visit[i] = 1\n",
    "            return True\n",
    "        \n",
    "        for i in range(num):\n",
    "            if not dfs(i):\n",
    "                return False\n",
    "        return True"
   ]
  },
  {
   "cell_type": "markdown",
   "metadata": {},
   "source": [
    "## 127 Word Ladder"
   ]
  },
  {
   "cell_type": "code",
   "execution_count": 187,
   "metadata": {},
   "outputs": [
    {
     "data": {
      "text/plain": [
       "[('hit', 1)]"
      ]
     },
     "execution_count": 187,
     "metadata": {},
     "output_type": "execute_result"
    }
   ],
   "source": [
    "beginWord = 'hit'\n",
    "queue = [(beginWord, 1)]\n",
    "queue"
   ]
  },
  {
   "cell_type": "code",
   "execution_count": 193,
   "metadata": {},
   "outputs": [
    {
     "data": {
      "text/plain": [
       "{'hit'}"
      ]
     },
     "execution_count": 193,
     "metadata": {},
     "output_type": "execute_result"
    }
   ],
   "source": [
    "visited = set(['hit'])\n",
    "visited"
   ]
  },
  {
   "cell_type": "code",
   "execution_count": 67,
   "metadata": {},
   "outputs": [
    {
     "data": {
      "text/plain": [
       "5"
      ]
     },
     "execution_count": 67,
     "metadata": {},
     "output_type": "execute_result"
    }
   ],
   "source": [
    "from collections import defaultdict\n",
    "\n",
    "def ladderLength(beginWord, endWord, wordList):\n",
    "    \"\"\"\n",
    "    :type beginWord: str\n",
    "    :type endWord: str\n",
    "    :type wordList: List[str]\n",
    "    :rtype: int\n",
    "    \"\"\"\n",
    "\n",
    "    if endWord not in wordList or not endWord or not beginWord or not wordList:\n",
    "        return 0\n",
    "\n",
    "    # Since all words are of same length.\n",
    "    L = len(beginWord)\n",
    "\n",
    "    # Dictionary to hold combination of words that can be formed,\n",
    "    # from any given word. By changing one letter at a time.\n",
    "    all_combo_dict = defaultdict(list)\n",
    "    for word in wordList:\n",
    "        for i in range(L):\n",
    "            # Key is the generic word\n",
    "            # Value is a list of words which have the same intermediate generic word.\n",
    "            all_combo_dict[word[:i] + \"*\" + word[i+1:]].append(word)\n",
    "\n",
    "\n",
    "    # Queue for BFS\n",
    "    queue = [(beginWord, 1)]\n",
    "    # Visited to make sure we don't repeat processing same word.\n",
    "    visited = {beginWord: True}\n",
    "    while queue:\n",
    "        current_word, level = queue.pop(0)      \n",
    "        for i in range(L):\n",
    "            # Intermediate words for current word\n",
    "            intermediate_word = current_word[:i] + \"*\" + current_word[i+1:]\n",
    "\n",
    "            # Next states are all the words which share the same intermediate state.\n",
    "            for word in all_combo_dict[intermediate_word]:\n",
    "                # If at any point if we find what we are looking for\n",
    "                # i.e. the end word - we can return with the answer.\n",
    "                if word == endWord:\n",
    "                    return level + 1\n",
    "\n",
    "                # Otherwise, add it to the BFS Queue. Also mark it visited\n",
    "                if word not in visited:\n",
    "                    visited[word] = True\n",
    "                    queue.append((word, level + 1))\n",
    "\n",
    "            all_combo_dict[intermediate_word] = []\n",
    "    return 0\n",
    "\n",
    "ladderLength(\"hit\",\"cog\", [\"hot\",\"dot\",\"dog\",\"lot\",\"log\",\"cog\"])"
   ]
  },
  {
   "cell_type": "markdown",
   "metadata": {},
   "source": [
    "### Recursion and Backtracking"
   ]
  },
  {
   "cell_type": "markdown",
   "metadata": {},
   "source": [
    "## 17. Letter Combinations (Dict)\n",
    "\n",
    "O(N)"
   ]
  },
  {
   "cell_type": "code",
   "execution_count": null,
   "metadata": {},
   "outputs": [],
   "source": [
    "class Solution(object):\n",
    "    def letterCombinations(self, digits):\n",
    "        \"\"\"\n",
    "        :type digits: str\n",
    "        :rtype: List[str]\n",
    "        \"\"\"\n",
    "        lookup = {\n",
    "            '2':['a','b','c'],\n",
    "            '3':['d','e','f'],\n",
    "            '4':['g','h','i'],\n",
    "            '5':['j','k','l'],\n",
    "            '6':['m','n','o'],\n",
    "            '7':['p','q','r','s'],\n",
    "            '8':['t','u','v'],\n",
    "            '9':['w','x','y','z']\n",
    "        }\n",
    "        \n",
    "        \n",
    "        res = []\n",
    "        \n",
    "        if not digits:\n",
    "            return res\n",
    "        \n",
    "        def adder(s, digits):\n",
    "            if not digits:\n",
    "                res.append(s)\n",
    "            else:\n",
    "                for c in lookup[digits[0]]:\n",
    "                    adder(s+c, digits[1:])\n",
    "        \n",
    "        adder('', digits)\n",
    "        return res"
   ]
  },
  {
   "cell_type": "markdown",
   "metadata": {},
   "source": [
    "## 22. Generate Parenthesis\n",
    "\n",
    "时间复杂度: O(4^N / sqrt(N))\n",
    "\n",
    "以Generate Parentheses为例，backtrack的题到底该怎么去思考？\n",
    "所谓Backtracking都是这样的思路：在当前局面下，你有若干种选择。那么尝试每一种选择。如果已经发现某种选择肯定不行（因为违反了某些限定条件），就返回；如果某种选择试到最后发现是正确解，就将其加入解集\n",
    "\n",
    "所以你思考递归题时，只要明确三点就行：选择 (Options)，限制 (Restraints)，结束条件 (Termination)。即“ORT原则”（这个是我自己编的）\n",
    "\n",
    "对于这道题，在任何时刻，你都有两种选择：\n",
    "\n",
    "加左括号。\n",
    "加右括号。\n",
    "同时有以下限制：\n",
    "\n",
    "如果左括号已经用完了，则不能再加左括号了。\n",
    "如果已经出现的右括号和左括号一样多，则不能再加右括号了。因为那样的话新加入的右括号一定无法匹配。\n",
    "结束条件是：\n",
    "左右括号都已经用完。\n",
    "\n",
    "结束后的正确性：\n",
    "左右括号用完以后，一定是正确解。因为1. 左右括号一样多，2. 每个右括号都一定有与之配对的左括号。因此一旦结束就可以加入解集（有时也可能出现结束以后不一定是正确解的情况，这时要多一步判断）。\n",
    "\n",
    "递归函数传入参数：\n",
    "限制和结束条件中有“用完”和“一样多”字样，因此你需要知道左右括号的数目。\n",
    "当然你还需要知道当前局面sublist和解集res。\n",
    "\n"
   ]
  },
  {
   "cell_type": "code",
   "execution_count": null,
   "metadata": {},
   "outputs": [],
   "source": [
    "class Solution(object):\n",
    "    def generateParenthesis(self, n):\n",
    "        \"\"\"\n",
    "        :type n: int\n",
    "        :rtype: List[str]\n",
    "        \"\"\"\n",
    "        \n",
    "        ans = []\n",
    "        \n",
    "        def backtrack(s, l, r):\n",
    "            if len(s) == 2 * n:\n",
    "                ans.append(s)\n",
    "            if l < n:\n",
    "                backtrack(s + '(', l + 1, r)\n",
    "            if r < l:\n",
    "                backtrack(s + ')', l, r + 1)\n",
    "\n",
    "        backtrack('', 0, 0)\n",
    "        return ans"
   ]
  },
  {
   "cell_type": "code",
   "execution_count": null,
   "metadata": {},
   "outputs": [],
   "source": [
    "class Solution:\n",
    "    def generateParenthesis(self, n):\n",
    "        \"\"\"\n",
    "        :type n: int\n",
    "        :rtype: List[str]\n",
    "        \"\"\"\n",
    "        self.res = []\n",
    "        self.singleStr('', 0, 0, n)\n",
    "        return self.res\n",
    "\n",
    "    def singleStr(self, s, left, right, n):\n",
    "        if left == n and right == n:\n",
    "            self.res.append(s)\n",
    "        if left < n:\n",
    "            self.singleStr(s + '(',left + 1, right, n)\n",
    "        if right < left:\n",
    "            self.singleStr(s + ')',left, right + 1, n)"
   ]
  },
  {
   "cell_type": "markdown",
   "metadata": {},
   "source": [
    "## 39. Combination Sum (List, Recursion)\n",
    "\n",
    "O(2^N)"
   ]
  },
  {
   "cell_type": "code",
   "execution_count": null,
   "metadata": {},
   "outputs": [],
   "source": [
    "class Solution:\n",
    "    def combinationSum(self, candidates, target):\n",
    "        \"\"\"\n",
    "        :type candidates: List[int]\n",
    "        :type target: int\n",
    "        :rtype: List[List[int]]\n",
    "        \"\"\"\n",
    "        res = []\n",
    "        \n",
    "        def dfs(target, index, path):\n",
    "            if target < 0:\n",
    "                return  # backtracking\n",
    "            if target == 0:\n",
    "                res.append(path)\n",
    "                return \n",
    "            for i in range(index, len(candidates)):\n",
    "                dfs(target-candidates[i], i, path+[candidates[i]])\n",
    "        \n",
    "        dfs(target, 0, [])\n",
    "        return res"
   ]
  },
  {
   "cell_type": "markdown",
   "metadata": {},
   "source": [
    "## 46. Permutations"
   ]
  },
  {
   "cell_type": "code",
   "execution_count": null,
   "metadata": {},
   "outputs": [],
   "source": [
    "class Solution:\n",
    "    def permute(self, nums):\n",
    "        \"\"\"\n",
    "        :type nums: List[int]\n",
    "        :rtype: List[List[int]]\n",
    "        \"\"\"\n",
    "        res = []\n",
    "        \n",
    "        def backtrack(first = 0):\n",
    "            # if all integers are used up\n",
    "            if first == len(nums):  \n",
    "                res.append(nums[:])\n",
    "                \n",
    "            for i in range(first, len(nums)):\n",
    "                # place i-th integer first \n",
    "                # in the current permutation\n",
    "                nums[first], nums[i] = nums[i], nums[first]\n",
    "                # use next integers to complete the permutations\n",
    "                backtrack(first + 1)\n",
    "                # backtrack\n",
    "                nums[first], nums[i] = nums[i], nums[first]\n",
    "        \n",
    "        backtrack()\n",
    "        return res"
   ]
  },
  {
   "cell_type": "code",
   "execution_count": 4,
   "metadata": {},
   "outputs": [
    {
     "data": {
      "text/plain": [
       "[1, 2, 3, [4, 5, 6]]"
      ]
     },
     "execution_count": 4,
     "metadata": {},
     "output_type": "execute_result"
    }
   ],
   "source": [
    "nums = [1,2,3]\n",
    "nums2 = [4,5,6]\n",
    "nums.append(nums2)\n",
    "nums"
   ]
  },
  {
   "cell_type": "markdown",
   "metadata": {},
   "source": [
    "## 78. Subsets\n",
    "\n",
    "O(N^2)"
   ]
  },
  {
   "cell_type": "code",
   "execution_count": 31,
   "metadata": {},
   "outputs": [],
   "source": [
    "class Solution(object):\n",
    "    def subsets(self, nums):\n",
    "        \"\"\"\n",
    "        :type nums: List[int]\n",
    "        :rtype: List[List[int]]\n",
    "        \"\"\"\n",
    "        res = [[]]\n",
    "        for n in nums:\n",
    "            res.extend([[n]+tmp for tmp in res])\n",
    "        return res "
   ]
  },
  {
   "cell_type": "code",
   "execution_count": 32,
   "metadata": {},
   "outputs": [
    {
     "data": {
      "text/plain": [
       "[[], [1], [2], [1, 2], [3], [1, 3], [2, 3], [1, 2, 3]]"
      ]
     },
     "execution_count": 32,
     "metadata": {},
     "output_type": "execute_result"
    }
   ],
   "source": [
    "nums = [1,2,3]\n",
    "s = Solution()\n",
    "s.subsets(nums)"
   ]
  },
  {
   "cell_type": "markdown",
   "metadata": {},
   "source": [
    "## 79. Word Search"
   ]
  },
  {
   "cell_type": "code",
   "execution_count": null,
   "metadata": {},
   "outputs": [],
   "source": [
    "class Solution:\n",
    "    def exist(self, board, word):\n",
    "        \"\"\"\n",
    "        :type board: List[List[str]]\n",
    "        :type word: str\n",
    "        :rtype: bool\n",
    "        \"\"\"\n",
    "        if not board:\n",
    "            return False\n",
    "        if not word:\n",
    "            return True\n",
    "\n",
    "        m = len(board)\n",
    "        n = len(board[0]) \n",
    "\n",
    "        def dfs(i, j, idx):\n",
    "            if not 0 <= i < m or not 0 <= j < n or board[i][j] != word[idx]:\n",
    "                return False\n",
    "            \n",
    "            if idx == len(word) - 1:\n",
    "                return True\n",
    "            \n",
    "            board[i][j] = '*'\n",
    "            res = dfs(i+1, j, idx+1) or dfs(i, j+1, idx+1) or dfs(i-1, j, idx+1) or dfs(i, j-1, idx+1)\n",
    "            board[i][j] = word[idx]\n",
    "            return res\n",
    "\n",
    "        return any(dfs(i, j, 0) for i in range(m) for j in range(n))"
   ]
  },
  {
   "cell_type": "markdown",
   "metadata": {},
   "source": [
    "## 212. Word Search II\n",
    "\n",
    "时间复杂度: O(row * col * max_len(words))  \n",
    "空间复杂度: O(len(words) * word_len)"
   ]
  },
  {
   "cell_type": "code",
   "execution_count": 15,
   "metadata": {},
   "outputs": [],
   "source": [
    "class Solution(object):\n",
    "    def findWords(self, board, words):\n",
    "        \"\"\"\n",
    "        :type board: List[List[str]]\n",
    "        :type words: List[str]\n",
    "        :rtype: List[str]\n",
    "        \"\"\"\n",
    "        if not board or not words:\n",
    "            return []\n",
    "\n",
    "        # build trie \n",
    "        trie = {}\n",
    "        for word in words:\n",
    "            t = trie\n",
    "            for c in word:\n",
    "                if c not in t:\n",
    "                    t[c] = {}\n",
    "                t = t[c]\n",
    "            t['#'] = '#'\n",
    "#         print('trie=',trie)\n",
    "\n",
    "        res = set()\n",
    "        m = len(board)\n",
    "        n = len(board[0])\n",
    "\n",
    "        def dfs(i, j, trie, path):\n",
    "            if '#' in trie:\n",
    "                res.add(path)\n",
    "            if i < 0 or i >= m or j < 0 or j >= n:\n",
    "                return\n",
    "            if board[i][j] in trie:\n",
    "                c = board[i][j]\n",
    "                board[i][j] = '*' # backtracking\n",
    "                dfs(i + 1, j, trie[c], path + c)\n",
    "                dfs(i - 1, j, trie[c], path + c)\n",
    "                dfs(i, j + 1, trie[c], path + c)\n",
    "                dfs(i, j - 1, trie[c], path + c)\n",
    "                board[i][j] = c\n",
    "\n",
    "        for i in range(m):\n",
    "            for j in range(n):\n",
    "                dfs(i, j, trie, '')\n",
    "\n",
    "        return list(res)"
   ]
  },
  {
   "cell_type": "code",
   "execution_count": 16,
   "metadata": {},
   "outputs": [
    {
     "name": "stdout",
     "output_type": "stream",
     "text": [
      "trie= {'o': {'a': {'t': {'h': {'#': '#'}}}}, 'p': {'e': {'a': {'#': '#'}}}, 'e': {'a': {'t': {'#': '#'}}}, 'r': {'a': {'i': {'n': {'#': '#'}}}}}\n"
     ]
    },
    {
     "data": {
      "text/plain": [
       "['oath', 'eat']"
      ]
     },
     "execution_count": 16,
     "metadata": {},
     "output_type": "execute_result"
    }
   ],
   "source": [
    "board = [\n",
    "  ['o','a','a','n'],\n",
    "  ['e','t','a','e'],\n",
    "  ['i','h','k','r'],\n",
    "  ['i','f','l','v']\n",
    "]\n",
    "words = [\"oath\",\"pea\",\"eat\",\"rain\"]\n",
    "s = Solution()\n",
    "s.findWords(board, words)"
   ]
  },
  {
   "cell_type": "markdown",
   "metadata": {},
   "source": [
    "## 733. Flood Fill\n",
    "\n",
    "O(N)  \n",
    "O(N)"
   ]
  },
  {
   "cell_type": "code",
   "execution_count": null,
   "metadata": {},
   "outputs": [],
   "source": [
    "class Solution(object):\n",
    "    def floodFill(self, image, sr, sc, newColor):\n",
    "        m, n = len(image), len(image[0])\n",
    "        color = image[sr][sc]\n",
    "        if color == newColor: \n",
    "            return image\n",
    "        \n",
    "        def dfs(r, c):\n",
    "            if image[r][c] == color:\n",
    "                image[r][c] = newColor\n",
    "                if r >= 1: dfs(r-1, c)\n",
    "                if r+1 < m: dfs(r+1, c)\n",
    "                if c >= 1: dfs(r, c-1)\n",
    "                if c+1 < n: dfs(r, c+1)\n",
    "\n",
    "        dfs(sr, sc)\n",
    "        return image"
   ]
  },
  {
   "cell_type": "markdown",
   "metadata": {},
   "source": [
    "## 675. Cut Off Trees for Golf Event"
   ]
  },
  {
   "cell_type": "code",
   "execution_count": null,
   "metadata": {},
   "outputs": [],
   "source": [
    "from collections import deque\n",
    "\n",
    "class Solution:\n",
    "    def cutOffTree(self, forest):\n",
    "        trees = sorted((v, r, c) for r, row in enumerate(forest)\n",
    "                       for c, v in enumerate(row) if v > 1)\n",
    "        sr = sc = ans = 0\n",
    "        \n",
    "        def bfs(forest, sr, sc, tr, tc):\n",
    "            R, C = len(forest), len(forest[0])\n",
    "            queue = deque([(sr, sc, 0)])\n",
    "            seen = {(sr, sc)}\n",
    "            while queue:\n",
    "                r, c, d = queue.popleft()\n",
    "                if r == tr and c == tc:\n",
    "                    return d\n",
    "                for nr, nc in ((r-1, c), (r+1, c), (r, c-1), (r, c+1)):\n",
    "                    if (0 <= nr < R and 0 <= nc < C and\n",
    "                            (nr, nc) not in seen and forest[nr][nc]):\n",
    "                        seen.add((nr, nc))\n",
    "                        queue.append((nr, nc, d+1))\n",
    "            return -1\n",
    "\n",
    "        \n",
    "        for _, tr, tc in trees:\n",
    "            d = bfs(forest, sr, sc, tr, tc)\n",
    "            if d < 0: \n",
    "                return -1\n",
    "            ans += d\n",
    "            sr, sc = tr, tc\n",
    "        return ans"
   ]
  },
  {
   "cell_type": "markdown",
   "metadata": {},
   "source": [
    "### Sorting and Searching"
   ]
  },
  {
   "cell_type": "markdown",
   "metadata": {},
   "source": [
    "## 4. Median of Two Sorted Arrays"
   ]
  },
  {
   "cell_type": "code",
   "execution_count": 54,
   "metadata": {},
   "outputs": [
    {
     "name": "stdout",
     "output_type": "stream",
     "text": [
      "5\n",
      "yes\n"
     ]
    },
    {
     "data": {
      "text/plain": [
       "4"
      ]
     },
     "execution_count": 54,
     "metadata": {},
     "output_type": "execute_result"
    }
   ],
   "source": [
    "class Solution(object):\n",
    "    def findMedianSortedArrays(self, nums1, nums2):\n",
    "        \"\"\"\n",
    "        :type nums1: List[int]\n",
    "        :type nums2: List[int]\n",
    "        :rtype: float\n",
    "        \"\"\"\n",
    "        def findKth(A, p1, B, p2, k):\n",
    "            res = 0\n",
    "            m = 0\n",
    "            while p1 < len(A) and p2 < len(B) and m < k:\n",
    "                if A[p1] < B[p2]:\n",
    "                    res = A[p1]\n",
    "                    p1 += 1\n",
    "                else:\n",
    "                    res = B[p2]\n",
    "                    p2 += 1\n",
    "                m += 1\n",
    "\n",
    "            while p1 < len(A) and m < k:\n",
    "                res = A[p1]\n",
    "                p1 += 1\n",
    "                m += 1\n",
    "\n",
    "            while p2 < len(B) and m < k:\n",
    "                res = B[p2]\n",
    "                p2 += 1\n",
    "                m += 1\n",
    "\n",
    "            return res\n",
    "\n",
    "        n = len(nums1) + len(nums2)\n",
    "#         print(n)\n",
    "        if n % 2 == 1:\n",
    "#             print('yes')\n",
    "            return findKth(nums1, 0, nums2, 0, n // 2 + 1)\n",
    "        else:\n",
    "            smaller = findKth(nums1, 0, nums2, 0, n // 2)\n",
    "            bigger = findKth(nums1, 0, nums2, 0, n // 2 + 1)\n",
    "            return (smaller + bigger) / 2.0\n",
    "        \n",
    "a = Solution()\n",
    "a.findMedianSortedArrays([1,4,5],[2,6])"
   ]
  },
  {
   "cell_type": "code",
   "execution_count": 7,
   "metadata": {},
   "outputs": [
    {
     "data": {
      "text/plain": [
       "6"
      ]
     },
     "execution_count": 7,
     "metadata": {},
     "output_type": "execute_result"
    }
   ],
   "source": [
    "def findKth(A, p1, B, p2, k):\n",
    "    res = 0\n",
    "    m = 0\n",
    "    while p1 < len(A) and p2 < len(B) and m < k:\n",
    "        if A[p1] < B[p2]:\n",
    "            res = A[p1]\n",
    "            p1 += 1\n",
    "        else:\n",
    "            res = B[p2]\n",
    "            p2 += 1\n",
    "        m += 1\n",
    "\n",
    "    while p1 < len(A) and m < k:\n",
    "        res = A[p1]\n",
    "        p1 += 1\n",
    "        m += 1\n",
    "\n",
    "    while p2 < len(B) and m < k:\n",
    "        res = B[p2]\n",
    "        p2 += 1\n",
    "        m += 1\n",
    "\n",
    "    return res\n",
    "\n",
    "findKth([1,4,5],0,[2,6],0,5)"
   ]
  },
  {
   "cell_type": "code",
   "execution_count": 47,
   "metadata": {},
   "outputs": [
    {
     "data": {
      "text/plain": [
       "1"
      ]
     },
     "execution_count": 47,
     "metadata": {},
     "output_type": "execute_result"
    }
   ],
   "source": [
    "5//3"
   ]
  },
  {
   "cell_type": "code",
   "execution_count": 64,
   "metadata": {},
   "outputs": [
    {
     "data": {
      "text/plain": [
       "3"
      ]
     },
     "execution_count": 64,
     "metadata": {},
     "output_type": "execute_result"
    }
   ],
   "source": [
    "def findKth(A, B, k):\n",
    "    if len(A) == 0: # A 为空，第 k 小的数就是 B 中第k个数\n",
    "        return B[k-1]\n",
    "    if len(B) == 0: # B 为空，第 k 小的数就是 A 中第k个数\n",
    "        return A[k-1]\n",
    "    if k == 1: # k 为 1 就是求最小的数\n",
    "        return min(A[0], B[0])\n",
    "\n",
    "    a = A[k // 2 - 1] if len(A) >= k // 2 else None\n",
    "    b = B[k // 2 - 1] if len(B) >= k // 2 else None\n",
    "\n",
    "    # 如果 A 总共都没有 k // 2 个数字，那么 B 中 前 k // 2 个数字肯定在前 k 个数字中（升序排序）\n",
    "    # 令 i == k // 2， n < k//2\n",
    "    # 再令 B1 <= B2 <= B3 ... Bi\n",
    "    # \n",
    "    #                      A1 <= A2 <= A3 ... An, \n",
    "    #           B1 -> Bi\n",
    "    #             .... B1 -> Bi\n",
    "    #                     .....  B1 -> Bi\n",
    "    #                                  .....  B1 -> Bi\n",
    "    #                                               .....  B1 -> Bi\n",
    "    # 我们发现 B1 -> Bi 窗口无论怎么滑动，他们永远在前 k 个数字中\n",
    "\n",
    "    if a is None: \n",
    "        return findKth(A, B[k // 2:], k - k // 2) # 这里要注意：因为 k//2 不一定等于 (k - k//2)\n",
    "    if b is None:\n",
    "        return findKth(A[k // 2:], B, k - k // 2)\n",
    "    if a < b:\n",
    "        return findKth(A[k // 2:], B, k - k // 2)\n",
    "    else:\n",
    "        return findKth(A, B[k // 2:], k - k // 2)\n",
    "\n",
    "\n",
    "    if b is None or (a is not None and a < b):\n",
    "        return findKth(A[k // 2:], B, k - k // 2)\n",
    "    return findKth(A, B[k // 2:], k - k // 2)\n",
    "\n",
    "findKth([4,2,3],[5,6],3)"
   ]
  },
  {
   "cell_type": "markdown",
   "metadata": {},
   "source": [
    "## 33. Search in Rotated Sorted Array\n",
    "\n",
    "时间复杂度: O(lgN)"
   ]
  },
  {
   "cell_type": "code",
   "execution_count": 18,
   "metadata": {},
   "outputs": [],
   "source": [
    "class Solution:\n",
    "    \"\"\"\n",
    "    :type nums: List[int]\n",
    "    :type target: int\n",
    "    :rtype: int\n",
    "    \"\"\"\n",
    "    def search(self, nums, target):\n",
    "        if not nums:\n",
    "            return -1\n",
    "\n",
    "        l = 0 \n",
    "        r = len(nums) - 1\n",
    "\n",
    "        while l <= r:\n",
    "            mid = (l + r) // 2\n",
    "            \n",
    "#             print('mid =', mid)\n",
    "            \n",
    "            if nums[mid] == target:\n",
    "                return mid\n",
    "\n",
    "            if nums[l] <= nums[mid]:\n",
    "                if nums[l] <= target <= nums[mid]:\n",
    "#                     print('1')\n",
    "                    r = mid - 1\n",
    "                else:\n",
    "#                     print('2')\n",
    "                    l = mid + 1\n",
    "            else: # nums[mid] <= nums[low]\n",
    "                if nums[mid] <= target <= nums[r]:\n",
    "#                     print('3')\n",
    "                    l = mid + 1\n",
    "                else:\n",
    "#                     print('4')\n",
    "                    r = mid - 1\n",
    "        return -1"
   ]
  },
  {
   "cell_type": "code",
   "execution_count": 19,
   "metadata": {},
   "outputs": [
    {
     "name": "stdout",
     "output_type": "stream",
     "text": [
      "mid = 3\n",
      "2\n",
      "mid = 5\n",
      "1\n",
      "mid = 4\n"
     ]
    },
    {
     "data": {
      "text/plain": [
       "4"
      ]
     },
     "execution_count": 19,
     "metadata": {},
     "output_type": "execute_result"
    }
   ],
   "source": [
    "s = Solution()\n",
    "nums = [4,5,6,7,0,1,2]\n",
    "target = 0\n",
    "s.search(nums, target)"
   ]
  },
  {
   "cell_type": "markdown",
   "metadata": {},
   "source": [
    "## 56. Merge Intervals\n",
    "\n",
    "O(N)"
   ]
  },
  {
   "cell_type": "code",
   "execution_count": 120,
   "metadata": {},
   "outputs": [],
   "source": [
    "class Solution(object):\n",
    "    def merge(self, intervals):\n",
    "        \"\"\"\n",
    "        :type intervals: List[List[int]]\n",
    "        :rtype: List[List[int]]\n",
    "        \"\"\"\n",
    "        res = []\n",
    "        intervals.sort(key = lambda x: x[0])\n",
    "#         print('new =', new)\n",
    "        for n in intervals:\n",
    "#             print('i =', i)\n",
    "            if res and n[0] <= res[-1][-1]:\n",
    "                res[-1][-1] = max(res[-1][-1], n[-1])\n",
    "#                 print('res1 =', res)\n",
    "            else:\n",
    "                res.append(n)\n",
    "#                 print('res2 =', res)\n",
    "#             print()\n",
    "        return res"
   ]
  },
  {
   "cell_type": "code",
   "execution_count": 121,
   "metadata": {},
   "outputs": [
    {
     "name": "stdout",
     "output_type": "stream",
     "text": [
      "new = [[1, 3], [2, 6], [8, 10], [15, 18]]\n",
      "i = [1, 3]\n",
      "res2 = [[1, 3]]\n",
      "\n",
      "i = [2, 6]\n",
      "res1 = [[1, 6]]\n",
      "\n",
      "i = [8, 10]\n",
      "res2 = [[1, 6], [8, 10]]\n",
      "\n",
      "i = [15, 18]\n",
      "res2 = [[1, 6], [8, 10], [15, 18]]\n",
      "\n"
     ]
    },
    {
     "data": {
      "text/plain": [
       "[[1, 6], [8, 10], [15, 18]]"
      ]
     },
     "execution_count": 121,
     "metadata": {},
     "output_type": "execute_result"
    }
   ],
   "source": [
    "s = Solution()\n",
    "s.merge([[1,3],[2,6],[8,10],[15,18]])"
   ]
  },
  {
   "cell_type": "markdown",
   "metadata": {},
   "source": [
    "## 75. Sort Colors\n",
    "\n",
    "O(N)"
   ]
  },
  {
   "cell_type": "code",
   "execution_count": null,
   "metadata": {},
   "outputs": [],
   "source": [
    "class Solution(object):\n",
    "    def sortColors(self, nums):\n",
    "        \"\"\"\n",
    "        :type nums: List[int]\n",
    "        :rtype: void Do not return anything, modify nums in-place instead.\n",
    "        \"\"\"\n",
    "        l = 0\n",
    "        cur = 0\n",
    "        r = len(nums) - 1\n",
    "\n",
    "        while cur <= r:\n",
    "            if nums[cur] == 0:\n",
    "                nums[l], nums[cur] = nums[cur], nums[l]\n",
    "                cur += 1\n",
    "                l += 1\n",
    "            elif nums[cur] == 1:\n",
    "                cur += 1\n",
    "            else: # nums[cur] == 2\n",
    "                nums[cur], nums[r] = nums[r], nums[cur]\n",
    "                r -= 1"
   ]
  },
  {
   "cell_type": "markdown",
   "metadata": {},
   "source": [
    "## 153. Find Minimum in Rotated Sorted Array\n",
    "\n",
    "O(logN), binary search  \n",
    "O(1)"
   ]
  },
  {
   "cell_type": "code",
   "execution_count": null,
   "metadata": {},
   "outputs": [],
   "source": [
    "class Solution(object):\n",
    "    def findMin(self, nums):\n",
    "        \"\"\"\n",
    "        :type nums: List[int]\n",
    "        :rtype: int\n",
    "        \"\"\"\n",
    "        l = 0\n",
    "        r = len(nums) - 1\n",
    "        while l < r:\n",
    "            m = l + (r - l) // 2\n",
    "            if nums[m] > nums[r]:\n",
    "                l = m + 1\n",
    "            else:\n",
    "                r = m\n",
    "        return nums[l]"
   ]
  },
  {
   "cell_type": "markdown",
   "metadata": {},
   "source": [
    "## 154. Find Minimum in Rotated Sorted Array II  \n",
    "O(logN)~O(N)"
   ]
  },
  {
   "cell_type": "code",
   "execution_count": null,
   "metadata": {},
   "outputs": [],
   "source": [
    "class Solution(object):\n",
    "    def findMin(self, nums):\n",
    "        l = 0\n",
    "        r = len(nums) - 1\n",
    "        while l < r:\n",
    "            m = l + (r -l) // 2\n",
    "            if nums[m] > nums[r]:\n",
    "                l = m + 1\n",
    "            elif nums[m] < nums[r]:\n",
    "                r = m \n",
    "            else:\n",
    "                r -= 1\n",
    "        return nums[l]"
   ]
  },
  {
   "cell_type": "markdown",
   "metadata": {},
   "source": [
    "## 74. Search a 2D Matrix"
   ]
  },
  {
   "cell_type": "code",
   "execution_count": null,
   "metadata": {},
   "outputs": [],
   "source": [
    "class Solution:\n",
    "    def searchMatrix(self, matrix, target):\n",
    "        \"\"\"\n",
    "        :type matrix: List[List[int]]\n",
    "        :type target: int\n",
    "        :rtype: bool\n",
    "        \"\"\"\n",
    "        m = len(matrix)\n",
    "        if m == 0:\n",
    "            return False\n",
    "        n = len(matrix[0])\n",
    "        \n",
    "        # binary search\n",
    "        l = 0\n",
    "        r = m * n - 1\n",
    "        while l <= r:\n",
    "                i = (l + r) // 2\n",
    "                num = matrix[i // n][i % n]\n",
    "                if target == num:\n",
    "                    return True\n",
    "                else:\n",
    "                    if target < num:\n",
    "                        r = i - 1\n",
    "                    else:\n",
    "                        l = i + 1\n",
    "        return False"
   ]
  },
  {
   "cell_type": "markdown",
   "metadata": {},
   "source": [
    "## 242. Valid Anagram (Counter)\n",
    "\n",
    "时间复杂度: O(N)"
   ]
  },
  {
   "cell_type": "code",
   "execution_count": 2,
   "metadata": {},
   "outputs": [],
   "source": [
    "import collections\n",
    "class Solution:\n",
    "    def isAnagram(self, s, t):\n",
    "        return collections.Counter(s) == collections.Counter(t)"
   ]
  },
  {
   "cell_type": "code",
   "execution_count": 3,
   "metadata": {},
   "outputs": [
    {
     "data": {
      "text/plain": [
       "Counter({'a': 1, 'n': 2, 'c': 1})"
      ]
     },
     "execution_count": 3,
     "metadata": {},
     "output_type": "execute_result"
    }
   ],
   "source": [
    "collections.Counter('ancn')"
   ]
  },
  {
   "cell_type": "markdown",
   "metadata": {},
   "source": [
    "## 349. Intersection of Two Arrays\n",
    "\n",
    "O(M+N)"
   ]
  },
  {
   "cell_type": "code",
   "execution_count": null,
   "metadata": {},
   "outputs": [],
   "source": [
    "class Solution:\n",
    "    def intersection(self, nums1, nums2):\n",
    "        \"\"\"\n",
    "        :type nums1: List[int]\n",
    "        :type nums2: List[int]\n",
    "        :rtype: List[int]\n",
    "        \"\"\"  \n",
    "        set1 = set(nums1)\n",
    "        set2 = set(nums2)\n",
    "        return list(set2 & set1)"
   ]
  },
  {
   "cell_type": "markdown",
   "metadata": {},
   "source": [
    "## 350. Intersection of Two Arrays II"
   ]
  },
  {
   "cell_type": "code",
   "execution_count": null,
   "metadata": {},
   "outputs": [],
   "source": [
    "import collections\n",
    "class Solution(object):\n",
    "    def intersect(self, nums1, nums2):\n",
    "        counts = collections.Counter(nums1)\n",
    "        res = []\n",
    "        \n",
    "        for n in nums2:\n",
    "            if counts[n] > 0:\n",
    "                res.append(n)\n",
    "                counts[n] -= 1\n",
    "\n",
    "        return res"
   ]
  },
  {
   "cell_type": "markdown",
   "metadata": {},
   "source": [
    "## 692. Top K Frequent Words"
   ]
  },
  {
   "cell_type": "code",
   "execution_count": 4,
   "metadata": {},
   "outputs": [],
   "source": [
    "from collections import Counter\n",
    "class Solution(object):\n",
    "    def topKFrequent(self, words, k):\n",
    "        count = Counter(words)\n",
    "        candidates = sorted(count.keys(), key = lambda x: (-count[x], x))\n",
    "#         print('candidates=', candidates)\n",
    "        return candidates[:k] "
   ]
  },
  {
   "cell_type": "code",
   "execution_count": 5,
   "metadata": {},
   "outputs": [
    {
     "data": {
      "text/plain": [
       "['i', 'love']"
      ]
     },
     "execution_count": 5,
     "metadata": {},
     "output_type": "execute_result"
    }
   ],
   "source": [
    "words = [\"i\", \"love\", \"leetcode\", \"i\", \"love\", \"coding\"]\n",
    "k = 2\n",
    "s = Solution()\n",
    "s.topKFrequent(words, k)"
   ]
  },
  {
   "cell_type": "markdown",
   "metadata": {},
   "source": [
    "## 347. Top K Frequent Elements\n",
    "\n",
    "O(Nlog(K))"
   ]
  },
  {
   "cell_type": "code",
   "execution_count": null,
   "metadata": {},
   "outputs": [],
   "source": [
    "import heapq\n",
    "from collections import Counter\n",
    "class Solution:\n",
    "    def topKFrequent(self, nums, k):\n",
    "        \"\"\"\n",
    "        :type nums: List[int]\n",
    "        :type k: int\n",
    "        :rtype: List[int]\n",
    "        \"\"\" \n",
    "        count = Counter(nums)   \n",
    "        return heapq.nlargest(k, count.keys(), key=count.get) "
   ]
  },
  {
   "cell_type": "markdown",
   "metadata": {},
   "source": [
    "## 973. K Closest Point to Origin"
   ]
  },
  {
   "cell_type": "code",
   "execution_count": null,
   "metadata": {},
   "outputs": [],
   "source": [
    "class Solution(object):\n",
    "    def kClosest(self, points, k):\n",
    "        points.sort(key = lambda p: p[0]**2 + p[1]**2)\n",
    "        return points[:k]"
   ]
  },
  {
   "cell_type": "markdown",
   "metadata": {},
   "source": [
    "## 215. Kth Largest Element in an Array (Recursion)\n",
    "\n",
    "时间复杂度: O(N)"
   ]
  },
  {
   "cell_type": "code",
   "execution_count": null,
   "metadata": {},
   "outputs": [],
   "source": [
    "class Solution(object):\n",
    "    def findKthLargest(self, nums, k):\n",
    "        \"\"\"\n",
    "        :type nums: List[int]\n",
    "        :type k: int\n",
    "        :rtype: int\n",
    "        \"\"\"\n",
    "        pivot = nums[0]\n",
    "        smaller  = [n for n in nums if n < pivot]\n",
    "        equal = [n for n in nums if n == pivot]\n",
    "        greater = [n for n in nums if n > pivot]\n",
    "\n",
    "        if len(greater) >= k:\n",
    "            return self.findKthLargest(greater, k) #k may be there\n",
    "        elif len(equal) >= (k - len(greater)): # k may be in equal or smaller\n",
    "            return equal[0] # any number from equal\n",
    "        else:\n",
    "            return self.findKthLargest(smaller, k - len(greater) - len(equal))"
   ]
  },
  {
   "cell_type": "markdown",
   "metadata": {},
   "source": [
    "## 253. Meeting Room II （Heap)\n",
    "\n",
    "时间复杂度: O(N)  \n",
    "\n",
    "想象一下，现实生活中，先开始的会议还没结束前我们就又要开始一个会议的话，此时我们需要一个新的会议室\n",
    "\n",
    "如果前面一堆先开始的会议都先于我们的新会议开始之前结束了，我们不需要新会议室\n",
    "\n",
    "换句话说，如果前面一堆新开始的会议中结束最早的那个会议如果在新开始的会议之前结束了的话，我们不需要会议室\n",
    "\n",
    "所以我们的思路是，先按照会议开始的时间排序，然后维护一个会议结束时间的最小堆，堆顶就是前面结束最早的那个会议的结束时间\n",
    "\n",
    "那么对于一个新的会议出现时：\n",
    "\n",
    "如果堆顶元素比新会议的开始时间更小的话，我们不需要新会议室。同时因为后面出现的新会议的开始时间更大了，\n",
    "所以目前最先结束的会议永远不可能比后面新出现的会议的开始时间更大，因此我们可以pop目前最先结束的会议，即pop堆顶元素，并且将新会议的结束时间放进堆中\n",
    "\n",
    "如果堆顶元素比新会议的开始时间更大的话，我们知道我们需要一个新的会议室，此时直接将新会议的结束时间放进堆中\n",
    "\n",
    "最终堆的size就是我们需要的会议室数量"
   ]
  },
  {
   "cell_type": "code",
   "execution_count": 131,
   "metadata": {},
   "outputs": [],
   "source": [
    "import heapq\n",
    "class Solution(object):\n",
    "    def minMeetingRooms(self, intervals):\n",
    "        \"\"\"\n",
    "        :type intervals: List[Interval]\n",
    "        :rtype: int\n",
    "        \"\"\"\n",
    "\n",
    "        intervals.sort(key=lambda x:x[0])\n",
    "\n",
    "        heap = []  # stores the end time of intervals\n",
    "    \n",
    "        for i in intervals:\n",
    "#             print('i =', i)\n",
    "            if heap and i[0] >= heap[0]: \n",
    "                # means two intervals can use the same room\n",
    "                heapq.heapreplace(heap, i[-1])\n",
    "#                 print('heap1 =', heap)\n",
    "\n",
    "            else:\n",
    "                # a new room is allocated\n",
    "                heapq.heappush(heap, i[-1])\n",
    "#                 print('heap2 =', heap)\n",
    "            \n",
    "#             print()\n",
    "\n",
    "        return len(heap)"
   ]
  },
  {
   "cell_type": "code",
   "execution_count": 134,
   "metadata": {},
   "outputs": [
    {
     "name": "stdout",
     "output_type": "stream",
     "text": [
      "i = [0, 30]\n",
      "heap2 = [30]\n",
      "\n",
      "i = [5, 10]\n",
      "heap2 = [10, 30]\n",
      "\n",
      "i = [15, 20]\n",
      "heap1 = [20, 30]\n",
      "\n"
     ]
    },
    {
     "data": {
      "text/plain": [
       "2"
      ]
     },
     "execution_count": 134,
     "metadata": {},
     "output_type": "execute_result"
    }
   ],
   "source": [
    "s = Solution()\n",
    "intervals = [[0, 30],[5, 10],[15, 20]]\n",
    "s.minMeetingRooms(intervals)"
   ]
  },
  {
   "cell_type": "code",
   "execution_count": 168,
   "metadata": {},
   "outputs": [
    {
     "data": {
      "text/plain": [
       "0"
      ]
     },
     "execution_count": 168,
     "metadata": {},
     "output_type": "execute_result"
    },
    {
     "data": {
      "text/plain": [
       "{'yes': 1}"
      ]
     },
     "execution_count": 168,
     "metadata": {},
     "output_type": "execute_result"
    }
   ],
   "source": [
    "dic = {'yes':1}\n",
    "dic.pop('s', 0)\n",
    "dic"
   ]
  },
  {
   "cell_type": "code",
   "execution_count": 167,
   "metadata": {},
   "outputs": [
    {
     "ename": "IndexError",
     "evalue": "list assignment index out of range",
     "output_type": "error",
     "traceback": [
      "\u001b[0;31m---------------------------------------------------------------------------\u001b[0m",
      "\u001b[0;31mIndexError\u001b[0m                                Traceback (most recent call last)",
      "\u001b[0;32m<ipython-input-167-ca1df0ec8ca0>\u001b[0m in \u001b[0;36m<module>\u001b[0;34m\u001b[0m\n\u001b[1;32m      1\u001b[0m \u001b[0ml1\u001b[0m \u001b[0;34m=\u001b[0m \u001b[0;34m[\u001b[0m\u001b[0;36m0\u001b[0m\u001b[0;34m]\u001b[0m\u001b[0;34m\u001b[0m\u001b[0;34m\u001b[0m\u001b[0m\n\u001b[0;32m----> 2\u001b[0;31m \u001b[0ml1\u001b[0m\u001b[0;34m[\u001b[0m\u001b[0;36m1\u001b[0m\u001b[0;34m]\u001b[0m \u001b[0;34m=\u001b[0m \u001b[0;36m2\u001b[0m\u001b[0;34m\u001b[0m\u001b[0;34m\u001b[0m\u001b[0m\n\u001b[0m",
      "\u001b[0;31mIndexError\u001b[0m: list assignment index out of range"
     ]
    }
   ],
   "source": [
    "l1 = [0]\n",
    "l1[1] = 2"
   ]
  },
  {
   "cell_type": "markdown",
   "metadata": {},
   "source": [
    "### Dynamic Programming"
   ]
  },
  {
   "cell_type": "markdown",
   "metadata": {},
   "source": [
    "## 5. Longest Palindromic Substring (String)\n",
    "\n",
    "O(N)"
   ]
  },
  {
   "cell_type": "code",
   "execution_count": null,
   "metadata": {},
   "outputs": [],
   "source": [
    "class Solution:\n",
    "    def longestPalindrome(self, s):\n",
    "        \n",
    "        res = ''  # Memory to remember a palindrome\n",
    "        for i in range(len(s)):  # i = start, O = n\n",
    "            for j in range(len(s), i, -1):  # j = end, O = n^2\n",
    "                if len(res) >= j-i:  # To reduce time\n",
    "                    break\n",
    "                    \n",
    "                elif s[i:j] == s[i:j][::-1]:\n",
    "                    res = s[i:j]\n",
    "                    break\n",
    "        return res"
   ]
  },
  {
   "cell_type": "code",
   "execution_count": 180,
   "metadata": {},
   "outputs": [
    {
     "name": "stdout",
     "output_type": "stream",
     "text": [
      "babad\n",
      "baba\n",
      "bab\n",
      "ba\n",
      "b\n",
      "\n",
      "abad\n",
      "aba\n",
      "ab\n",
      "a\n",
      "\n",
      "bad\n",
      "ba\n",
      "b\n",
      "\n",
      "ad\n",
      "a\n",
      "\n",
      "d\n",
      "\n"
     ]
    }
   ],
   "source": [
    "s = 'babad'\n",
    "for i in range(len(s)):\n",
    "    for j in range(len(s),i,-1):\n",
    "#         print(i,j)\n",
    "        print(s[i:j])\n",
    "    print()"
   ]
  },
  {
   "cell_type": "markdown",
   "metadata": {},
   "source": [
    "## 53. Maximum Subarray (List)\n",
    "\n",
    "O(N)"
   ]
  },
  {
   "cell_type": "code",
   "execution_count": 76,
   "metadata": {},
   "outputs": [],
   "source": [
    "class Solution(object):\n",
    "    def maxSubArray(self, nums):\n",
    "        \"\"\"\n",
    "        :type nums: List[int]\n",
    "        :rtype: int\n",
    "        \"\"\"\n",
    "        maxSum = [nums[0] for i in range(len(nums))]\n",
    "#         print('maxSum =', maxSum)\n",
    "        \n",
    "        for i in range(1, len(nums)):\n",
    "#             print('i=', i)\n",
    "            maxSum[i] = max(maxSum[i - 1] + nums[i], nums[i])\n",
    "#             print(f'maxSum [{i}] =', maxSum[i])\n",
    "        return max(maxSum)"
   ]
  },
  {
   "cell_type": "code",
   "execution_count": 77,
   "metadata": {},
   "outputs": [
    {
     "name": "stdout",
     "output_type": "stream",
     "text": [
      "maxSum = [-2, -2, -2, -2, -2, -2, -2, -2, -2]\n",
      "i= 1\n",
      "maxSum [1] = 1\n",
      "i= 2\n",
      "maxSum [2] = -2\n",
      "i= 3\n",
      "maxSum [3] = 4\n",
      "i= 4\n",
      "maxSum [4] = 3\n",
      "i= 5\n",
      "maxSum [5] = 5\n",
      "i= 6\n",
      "maxSum [6] = 6\n",
      "i= 7\n",
      "maxSum [7] = 1\n",
      "i= 8\n",
      "maxSum [8] = 5\n"
     ]
    },
    {
     "data": {
      "text/plain": [
       "6"
      ]
     },
     "execution_count": 77,
     "metadata": {},
     "output_type": "execute_result"
    }
   ],
   "source": [
    "s = Solution()\n",
    "nums = [-2,1,-3,4,-1,2,1,-5,4]\n",
    "s.maxSubArray(nums)"
   ]
  },
  {
   "cell_type": "code",
   "execution_count": 8,
   "metadata": {},
   "outputs": [
    {
     "data": {
      "text/plain": [
       "[2, 2, 2, 2]"
      ]
     },
     "execution_count": 8,
     "metadata": {},
     "output_type": "execute_result"
    }
   ],
   "source": [
    "nums = [2,3,4,5]\n",
    "maxSum = [nums[0] for i in nums]\n",
    "maxSum"
   ]
  },
  {
   "cell_type": "code",
   "execution_count": 16,
   "metadata": {},
   "outputs": [],
   "source": [
    "maxsum = [2] * 4"
   ]
  },
  {
   "cell_type": "markdown",
   "metadata": {},
   "source": [
    "## 121. Best Time to Buy and Sell Stock"
   ]
  },
  {
   "cell_type": "code",
   "execution_count": null,
   "metadata": {},
   "outputs": [],
   "source": [
    "class Solution:\n",
    "    def maxProfit(self, prices):\n",
    "        min_price = float('inf')\n",
    "        max_profit = 0\n",
    "        \n",
    "        for price in prices:\n",
    "            min_price = min(min_price, price)\n",
    "            profit = price - min_price\n",
    "            max_profit = max(max_profit, profit)\n",
    "            \n",
    "        return max_profit"
   ]
  },
  {
   "cell_type": "markdown",
   "metadata": {},
   "source": [
    "## 139. Word Break (List)\n",
    "\n",
    "O(N^2)"
   ]
  },
  {
   "cell_type": "code",
   "execution_count": 45,
   "metadata": {},
   "outputs": [],
   "source": [
    "class Solution:\n",
    "    def wordBreak(self, s, words):\n",
    "        \"\"\"\n",
    "        :type s: str\n",
    "        :type wordDict: List[str]\n",
    "        :rtype: bool\n",
    "        \"\"\"\n",
    "        res = [True]\n",
    "        for i in range(1, len(s)+1):\n",
    "#             print('i =', i)\n",
    "            res.append(any(res[j] and s[j:i] in words for j in range(i)))\n",
    "#             print('ok =', ok)\n",
    "        return res[-1]"
   ]
  },
  {
   "cell_type": "code",
   "execution_count": 44,
   "metadata": {},
   "outputs": [
    {
     "name": "stdout",
     "output_type": "stream",
     "text": [
      "i = 1\n",
      "ok = [True, False]\n",
      "i = 2\n",
      "ok = [True, False, False]\n",
      "i = 3\n",
      "ok = [True, False, False, False]\n",
      "i = 4\n",
      "ok = [True, False, False, False, True]\n",
      "i = 5\n",
      "ok = [True, False, False, False, True, False]\n",
      "i = 6\n",
      "ok = [True, False, False, False, True, False, False]\n",
      "i = 7\n",
      "ok = [True, False, False, False, True, False, False, False]\n",
      "i = 8\n",
      "ok = [True, False, False, False, True, False, False, False, True]\n"
     ]
    },
    {
     "data": {
      "text/plain": [
       "True"
      ]
     },
     "execution_count": 44,
     "metadata": {},
     "output_type": "execute_result"
    }
   ],
   "source": [
    "s = \"leetcode\"\n",
    "words = [\"leet\", \"code\"]\n",
    "\n",
    "x = Solution()\n",
    "x.wordBreak(s, words)"
   ]
  },
  {
   "cell_type": "code",
   "execution_count": 50,
   "metadata": {},
   "outputs": [
    {
     "data": {
      "text/plain": [
       "3"
      ]
     },
     "execution_count": 50,
     "metadata": {},
     "output_type": "execute_result"
    }
   ],
   "source": [
    "'l' or 'lee'\n",
    "2 and 3"
   ]
  },
  {
   "cell_type": "code",
   "execution_count": 32,
   "metadata": {},
   "outputs": [
    {
     "data": {
      "text/plain": [
       "False"
      ]
     },
     "execution_count": 32,
     "metadata": {},
     "output_type": "execute_result"
    }
   ],
   "source": [
    "'l' in ['leet', 'code']"
   ]
  },
  {
   "cell_type": "markdown",
   "metadata": {},
   "source": [
    "## 300. Longest Incresing Subsequence\n",
    "\n",
    "O(N^2)"
   ]
  },
  {
   "cell_type": "code",
   "execution_count": 29,
   "metadata": {},
   "outputs": [],
   "source": [
    "class Solution(object):\n",
    "    def lengthOfLIS(self, nums):\n",
    "        \"\"\"\n",
    "        :type nums: List[int]\n",
    "        :rtype: int\n",
    "        \"\"\"\n",
    "        if not nums:\n",
    "            return 0\n",
    "        \n",
    "        dp = [1] * len(nums)\n",
    "        for i in range(len(nums)):\n",
    "            for j in range(i):\n",
    "                if nums[i] > nums[j]:\n",
    "                    dp[i] = max(dp[j]+1, dp[i])\n",
    "#                     print('dp[i]=', dp[i])\n",
    "        return max(dp)"
   ]
  },
  {
   "cell_type": "code",
   "execution_count": 30,
   "metadata": {},
   "outputs": [
    {
     "name": "stdout",
     "output_type": "stream",
     "text": [
      "dp[i]= 2\n",
      "dp[i]= 2\n",
      "dp[i]= 2\n",
      "dp[i]= 3\n",
      "dp[i]= 3\n",
      "dp[i]= 2\n",
      "dp[i]= 2\n",
      "dp[i]= 2\n",
      "dp[i]= 3\n",
      "dp[i]= 3\n",
      "dp[i]= 4\n",
      "dp[i]= 2\n",
      "dp[i]= 2\n",
      "dp[i]= 2\n",
      "dp[i]= 3\n",
      "dp[i]= 3\n",
      "dp[i]= 4\n"
     ]
    },
    {
     "data": {
      "text/plain": [
       "4"
      ]
     },
     "execution_count": 30,
     "metadata": {},
     "output_type": "execute_result"
    }
   ],
   "source": [
    "nums = [10,9,2,5,3,7,101,18]\n",
    "s = Solution()\n",
    "s.lengthOfLIS(nums)"
   ]
  },
  {
   "cell_type": "markdown",
   "metadata": {},
   "source": [
    "### Design"
   ]
  },
  {
   "cell_type": "markdown",
   "metadata": {},
   "source": [
    "## 146. LRU cache (OrderedDict)\n",
    "时间复杂度: O(1)"
   ]
  },
  {
   "cell_type": "code",
   "execution_count": null,
   "metadata": {},
   "outputs": [],
   "source": [
    "from collections import OrderedDict\n",
    "class LRUCache(OrderedDict):\n",
    "\n",
    "    def __init__(self, capacity):\n",
    "        \"\"\"\n",
    "        :type capacity: int\n",
    "        \"\"\"\n",
    "        self.capacity = capacity\n",
    "\n",
    "    def get(self, key):\n",
    "        \"\"\"\n",
    "        :type key: int\n",
    "        :rtype: int\n",
    "        \"\"\"\n",
    "        if key not in self:\n",
    "            return -1\n",
    "        \n",
    "        self.move_to_end(key)\n",
    "        return self[key]\n",
    "\n",
    "    def put(self, key, value):\n",
    "        \"\"\"\n",
    "        :type key: int\n",
    "        :type value: int\n",
    "        :rtype: void\n",
    "        \"\"\"\n",
    "        if key in self:\n",
    "            self.move_to_end(key)\n",
    "        self[key] = value\n",
    "        \n",
    "        if len(self) > self.capacity:\n",
    "            self.popitem(last = False)\n",
    "\n",
    "# Your LRUCache object will be instantiated and called as such:\n",
    "# obj = LRUCache(capacity)\n",
    "# param_1 = obj.get(key)\n",
    "# obj.put(key,value)"
   ]
  },
  {
   "cell_type": "markdown",
   "metadata": {},
   "source": [
    "## 208. Implement Trie\n",
    "\n",
    "O(N)"
   ]
  },
  {
   "cell_type": "code",
   "execution_count": null,
   "metadata": {},
   "outputs": [],
   "source": [
    "class TrieNode(object):\n",
    "    def __init__(self):\n",
    "        \"\"\"\n",
    "        Initialize your data structure here.\n",
    "        \"\"\"\n",
    "        self.childs = dict()\n",
    "        self.isWord = False\n",
    "\n",
    "\n",
    "\n",
    "class Trie(object):\n",
    "\n",
    "    def __init__(self):\n",
    "        self.root = TrieNode()\n",
    "\n",
    "    def insert(self, word):\n",
    "        \"\"\"\n",
    "        Inserts a word into the trie.\n",
    "        :type word: str\n",
    "        :rtype: void\n",
    "        \"\"\"\n",
    "        node = self.root\n",
    "        for letter in word:\n",
    "            child = node.childs.get(letter)\n",
    "            if child is None:\n",
    "                child = TrieNode()\n",
    "                node.childs[letter] = child\n",
    "            node = child\n",
    "        node.isWord = True\n",
    "\n",
    "    def search(self, word):\n",
    "        \"\"\"\n",
    "        Returns if the word is in the trie.\n",
    "        :type word: str\n",
    "        :rtype: bool\n",
    "        \"\"\"\n",
    "        node = self.root\n",
    "        for i in word:\n",
    "            child = node.childs.get(i)\n",
    "            if child is None:\n",
    "                return False\n",
    "            node = child\n",
    "        return node.isWord\n",
    "\n",
    "\n",
    "    def startsWith(self, prefix):\n",
    "        \"\"\"\n",
    "        Returns if there is any word in the trie\n",
    "        that starts with the given prefix.\n",
    "        :type prefix: str\n",
    "        :rtype: bool\n",
    "        \"\"\"\n",
    "        node = self.root\n",
    "        for letter in prefix:\n",
    "            child = node.childs.get(letter)\n",
    "            if child is None:\n",
    "                return False\n",
    "            node = child\n",
    "        return True\n",
    "\n",
    "\n",
    "\n",
    "# Your Trie object will be instantiated and called as such:\n",
    "# obj = Trie()\n",
    "# obj.insert(word)\n",
    "# param_2 = obj.search(word)\n",
    "# param_3 = obj.startsWith(prefix)"
   ]
  },
  {
   "cell_type": "markdown",
   "metadata": {},
   "source": [
    "## 155. Min Stack (List and heapq)\n",
    "\n",
    "O(1)"
   ]
  },
  {
   "cell_type": "code",
   "execution_count": null,
   "metadata": {},
   "outputs": [],
   "source": [
    "from heapq import *\n",
    "\n",
    "class MinStack:\n",
    "\n",
    "    def __init__(self):\n",
    "        \"\"\"\n",
    "        initialize your data structure here.\n",
    "        \"\"\"\n",
    "        self.l = []\n",
    "        self.h = []\n",
    "\n",
    "    def push(self, x: int) -> None:\n",
    "        self.l.append(x)\n",
    "        heappush(self.h,x)\n",
    "\n",
    "    def pop(self) -> None:\n",
    "        val = self.l.pop()\n",
    "        self.h.remove(val)\n",
    "        heapify(self.h)\n",
    "\n",
    "    def top(self) -> int:\n",
    "        return self.l[-1]\n",
    "\n",
    "    def getMin(self) -> int:\n",
    "        return self.h[0]\n",
    "\n",
    "# Your MinStack object will be instantiated and called as such:\n",
    "# obj = MinStack()\n",
    "# obj.push(x)\n",
    "# obj.pop()\n",
    "# param_3 = obj.top()\n",
    "# param_4 = obj.getMin()"
   ]
  },
  {
   "cell_type": "code",
   "execution_count": null,
   "metadata": {},
   "outputs": [],
   "source": [
    "class MinStack {\n",
    "    int min = Integer.MAX_VALUE;\n",
    "    Stack<Integer> stack = new Stack<Integer>();\n",
    "    public void push(int x) {\n",
    "        // only push the old minimum value when the current \n",
    "        // minimum value changes after pushing the new value x\n",
    "        if(x <= min){          \n",
    "            stack.push(min);\n",
    "            min=x;\n",
    "        }\n",
    "        stack.push(x);\n",
    "    }\n",
    "\n",
    "    public void pop() {\n",
    "        // if pop operation could result in the changing of the current minimum value, \n",
    "        // pop twice and change the current minimum value to the last minimum value.\n",
    "        if(stack.pop() == min) min=stack.pop();\n",
    "    }\n",
    "\n",
    "    public int top() {\n",
    "        return stack.peek();\n",
    "    }\n",
    "\n",
    "    public int getMin() {\n",
    "        return min;\n",
    "    }\n",
    "}"
   ]
  },
  {
   "cell_type": "markdown",
   "metadata": {},
   "source": [
    "## 341. Flatten Nested List Iterator"
   ]
  },
  {
   "cell_type": "code",
   "execution_count": null,
   "metadata": {},
   "outputs": [],
   "source": [
    "# \"\"\"\n",
    "# This is the interface that allows for creating nested lists.\n",
    "# You should not implement it, or speculate about its implementation\n",
    "# \"\"\"\n",
    "#class NestedInteger(object):\n",
    "#    def isInteger(self):\n",
    "#        \"\"\"\n",
    "#        @return True if this NestedInteger holds a single integer, rather than a nested list.\n",
    "#        :rtype bool\n",
    "#        \"\"\"\n",
    "#\n",
    "#    def getInteger(self):\n",
    "#        \"\"\"\n",
    "#        @return the single integer that this NestedInteger holds, if it holds a single integer\n",
    "#        Return None if this NestedInteger holds a nested list\n",
    "#        :rtype int\n",
    "#        \"\"\"\n",
    "#\n",
    "#    def getList(self):\n",
    "#        \"\"\"\n",
    "#        @return the nested list that this NestedInteger holds, if it holds a nested list\n",
    "#        Return None if this NestedInteger holds a single integer\n",
    "#        :rtype List[NestedInteger]\n",
    "#        \"\"\"\n",
    "\n",
    "class NestedIterator(object):\n",
    "\n",
    "    def __init__(self, nestedList):\n",
    "        \"\"\"\n",
    "        Initialize your data structure here.\n",
    "        :type nestedList: List[NestedInteger]\n",
    "        \"\"\"\n",
    "        self.stack = nestedList[::-1]\n",
    "        \n",
    "    def next(self):\n",
    "        \"\"\"\n",
    "        :rtype: int\n",
    "        \"\"\"\n",
    "        return self.stack.pop().getInteger()\n",
    "        \n",
    "    def hasNext(self):\n",
    "        \"\"\"\n",
    "        :rtype: bool\n",
    "        \"\"\"\n",
    "        while self.stack:\n",
    "            top = self.stack[-1]\n",
    "            if top.isInteger():\n",
    "                return True\n",
    "            self.stack = self.stack[:-1] + top.getList()[::-1]\n",
    "        return False\n",
    "        \n",
    "\n",
    "# Your NestedIterator object will be instantiated and called as such:\n",
    "# i, v = NestedIterator(nestedList), []\n",
    "# while i.hasNext(): v.append(i.next())"
   ]
  },
  {
   "cell_type": "markdown",
   "metadata": {},
   "source": [
    "## 380. Insert Delete GetRandom O(1) (List, Dict)"
   ]
  },
  {
   "cell_type": "code",
   "execution_count": null,
   "metadata": {},
   "outputs": [],
   "source": [
    "import random\n",
    "class RandomizedSet(object):\n",
    "\n",
    "    def __init__(self):\n",
    "        \"\"\"\n",
    "        Initialize your data structure here.\n",
    "        \"\"\"\n",
    "        self.nums = [] \n",
    "        self.pos = {}\n",
    "        \n",
    "\n",
    "    def insert(self, val):\n",
    "        \"\"\"\n",
    "        Inserts a value to the set. Returns true if the set did not already contain the specified element.\n",
    "        :type val: int\n",
    "        :rtype: bool\n",
    "        \"\"\"\n",
    "        if val not in self.pos:\n",
    "            self.nums.append(val)\n",
    "            self.pos[val] = len(self.nums) - 1\n",
    "            return True\n",
    "        return False\n",
    "        \n",
    "\n",
    "    def remove(self, val):\n",
    "        \"\"\"\n",
    "        Removes a value from the set. Returns true if the set contained the specified element.\n",
    "        :type val: int\n",
    "        :rtype: bool\n",
    "        \"\"\"\n",
    "        if val in self.pos:\n",
    "            idx = self.pos[val] \n",
    "            last = self.nums[-1]\n",
    "            self.nums[idx] = last\n",
    "            self.pos[last] = idx\n",
    "            self.nums.pop()\n",
    "            self.pos.pop(val, 0)\n",
    "            return True\n",
    "        return False\n",
    "\n",
    "    def getRandom(self):\n",
    "        \"\"\"\n",
    "        Get a random element from the set.\n",
    "        :rtype: int\n",
    "        \"\"\"\n",
    "        return self.nums[random.randint(0, len(self.nums) - 1)]\n",
    "\n",
    "\n",
    "# Your RandomizedSet object will be instantiated and called as such:\n",
    "# obj = RandomizedSet()\n",
    "# param_1 = obj.insert(val)\n",
    "# param_2 = obj.remove(val)\n",
    "# param_3 = obj.getRandom()"
   ]
  },
  {
   "cell_type": "code",
   "execution_count": 17,
   "metadata": {},
   "outputs": [
    {
     "data": {
      "text/plain": [
       "{2: 3}"
      ]
     },
     "execution_count": 17,
     "metadata": {},
     "output_type": "execute_result"
    }
   ],
   "source": [
    "dic = {1:2, 2:3}\n",
    "dic.pop(1, 0)\n",
    "dic"
   ]
  },
  {
   "cell_type": "markdown",
   "metadata": {},
   "source": [
    "## 449. Serialize and Deserialize BST\n",
    "\n",
    "O(N)"
   ]
  },
  {
   "cell_type": "code",
   "execution_count": null,
   "metadata": {},
   "outputs": [],
   "source": [
    "class Codec: \n",
    "    def serialize(self, root):\n",
    "        \"\"\"Encodes a tree to a single string.\n",
    "        \n",
    "        :type root: TreeNode\n",
    "        :rtype: str\n",
    "        \"\"\"\n",
    "        def postorder(root):\n",
    "            return postorder(root.left) + postorder(root.right) + [root.val] if root else []\n",
    "        return ' '.join(map(str, postorder(root)))\n",
    "\n",
    "    def deserialize(self, data):\n",
    "        \"\"\"Decodes your encoded data to tree.\n",
    "        \n",
    "        :type data: str\n",
    "        :rtype: TreeNode\n",
    "        \"\"\"\n",
    "        def helper(lower = float('-inf'), upper = float('inf')):\n",
    "            if not data or data[-1] < lower or data[-1] > upper:\n",
    "                return None\n",
    "            \n",
    "            val = data.pop()\n",
    "            root = TreeNode(val)\n",
    "            root.right = helper(val, upper)\n",
    "            root.left = helper(lower, val)\n",
    "            return root\n",
    "        \n",
    "        data = [int(x) for x in data.split(' ') if x]\n",
    "        return helper()"
   ]
  },
  {
   "cell_type": "code",
   "execution_count": 8,
   "metadata": {},
   "outputs": [
    {
     "data": {
      "text/plain": [
       "'a'"
      ]
     },
     "execution_count": 8,
     "metadata": {},
     "output_type": "execute_result"
    }
   ],
   "source": [
    "''.join(['a'])"
   ]
  },
  {
   "cell_type": "code",
   "execution_count": 11,
   "metadata": {},
   "outputs": [
    {
     "data": {
      "text/plain": [
       "[1, 2]"
      ]
     },
     "execution_count": 11,
     "metadata": {},
     "output_type": "execute_result"
    }
   ],
   "source": [
    "[1] + [2]"
   ]
  },
  {
   "cell_type": "code",
   "execution_count": 12,
   "metadata": {},
   "outputs": [
    {
     "data": {
      "text/plain": [
       "'[4, 3, 2]'"
      ]
     },
     "execution_count": 12,
     "metadata": {},
     "output_type": "execute_result"
    }
   ],
   "source": [
    "str([4,3,2])"
   ]
  },
  {
   "cell_type": "code",
   "execution_count": 15,
   "metadata": {},
   "outputs": [
    {
     "data": {
      "text/plain": [
       "['4', '3', '2']"
      ]
     },
     "execution_count": 15,
     "metadata": {},
     "output_type": "execute_result"
    }
   ],
   "source": [
    "list(map(str, [4,3,2]))"
   ]
  },
  {
   "cell_type": "code",
   "execution_count": 13,
   "metadata": {},
   "outputs": [
    {
     "data": {
      "text/plain": [
       "'4 3 2'"
      ]
     },
     "execution_count": 13,
     "metadata": {},
     "output_type": "execute_result"
    }
   ],
   "source": [
    "' '.join(map(str, [4,3,2]))"
   ]
  },
  {
   "cell_type": "markdown",
   "metadata": {},
   "source": [
    "## 297. Serialize and Deserialize Binary Tree (Tree)\n",
    "\n",
    "O(N)"
   ]
  },
  {
   "cell_type": "code",
   "execution_count": null,
   "metadata": {},
   "outputs": [],
   "source": [
    "# Definition for a binary tree node.\n",
    "# class TreeNode(object):\n",
    "#     def __init__(self, x):\n",
    "#         self.val = x\n",
    "#         self.left = None\n",
    "#         self.right = None\n",
    "\n",
    "class Codec:\n",
    "    def serialize(self, root):\n",
    "        \"\"\"Encodes a tree to a single string.\n",
    "        \n",
    "        :type root: TreeNode\n",
    "        :rtype: str\n",
    "        \"\"\"\n",
    "\n",
    "        s = \"\"\n",
    "        queue = []\n",
    "        queue.append(root)\n",
    "        while queue:\n",
    "            root = queue.pop(0)\n",
    "            if root:\n",
    "                s += str(root.val)\n",
    "                queue.append(root.left)\n",
    "                queue.append(root.right)\n",
    "            else:\n",
    "                s += \"n\"\n",
    "            s += \" \"        \n",
    "        return s\n",
    "\n",
    "    def deserialize(self, data):\n",
    "        \"\"\"Decodes your encoded data to tree.\n",
    "        \n",
    "        :type data: str\n",
    "        :rtype: TreeNode\n",
    "        \"\"\"\n",
    " \n",
    "        tree = data.split()\n",
    "#         print(tree)\n",
    "        if tree[0] == \"n\":\n",
    "            return None\n",
    "        \n",
    "        queue = []\n",
    "        root = TreeNode(int(tree[0]))\n",
    "        queue.append(root)\n",
    "        i = 1\n",
    "        \n",
    "        while queue:\n",
    "            cur = queue.pop(0)\n",
    "            if cur == None:\n",
    "                continue\n",
    "                \n",
    "            cur.left = TreeNode(int(tree[i])) if tree[i] != \"n\" else None\n",
    "            cur.right = TreeNode(int(tree[i + 1])) if tree[i + 1] != \"n\" else None\n",
    "            i += 2\n",
    "            \n",
    "            queue.append(cur.left)\n",
    "            queue.append(cur.right)\n",
    "        return root\n",
    "        \n",
    "\n",
    "# Your Codec object will be instantiated and called as such:\n",
    "# codec = Codec()\n",
    "# codec.deserialize(codec.serialize(root))"
   ]
  },
  {
   "cell_type": "markdown",
   "metadata": {},
   "source": [
    "## 295. Find Median From Data Stream"
   ]
  },
  {
   "cell_type": "code",
   "execution_count": null,
   "metadata": {},
   "outputs": [],
   "source": [
    "from heapq import *\n",
    "class MedianFinder:\n",
    "    def __init__(self):\n",
    "        self.small = []  # the smaller half of the list, max heap (invert min-heap)\n",
    "        self.large = []  # the larger half of the list, min heap\n",
    "\n",
    "    def addNum(self, num):\n",
    "        if len(self.small) == len(self.large):\n",
    "            heappush(self.large, -heappushpop(self.small, -num))\n",
    "        else:\n",
    "            heappush(self.small, -heappushpop(self.large, num))\n",
    "\n",
    "    def findMedian(self):\n",
    "        if len(self.small) == len(self.large):\n",
    "            return float(self.large[0] - self.small[0]) / 2.0\n",
    "        else:\n",
    "            return float(self.large[0])\n",
    "        \n",
    "# Your MedianFinder object will be instantiated and called as such:\n",
    "# obj = MedianFinder()\n",
    "# obj.addNum(num)\n",
    "# param_2 = obj.findMedian()"
   ]
  },
  {
   "cell_type": "markdown",
   "metadata": {},
   "source": [
    "### Others"
   ]
  },
  {
   "cell_type": "markdown",
   "metadata": {},
   "source": [
    "## 7. Reverse Integer\n",
    "\n",
    "时间复杂度: O(lgx)"
   ]
  },
  {
   "cell_type": "code",
   "execution_count": 3,
   "metadata": {},
   "outputs": [],
   "source": [
    "class Solution(object):\n",
    "    def reverse(self, x):\n",
    "        \"\"\"\n",
    "        :type x: int\n",
    "        :rtype: int\n",
    "        \"\"\"\n",
    "        if x < 0:\n",
    "            return -self.reverse(-x)\n",
    "        \n",
    "        res = 0\n",
    "        while x:\n",
    "            res = res * 10 + x % 10\n",
    "            x //= 10\n",
    "            \n",
    "        return res if res <= 0x7fffffff else 0"
   ]
  },
  {
   "cell_type": "code",
   "execution_count": 4,
   "metadata": {},
   "outputs": [
    {
     "data": {
      "text/plain": [
       "-32"
      ]
     },
     "execution_count": 4,
     "metadata": {},
     "output_type": "execute_result"
    }
   ],
   "source": [
    "a = Solution()\n",
    "a.reverse(-23)"
   ]
  },
  {
   "cell_type": "code",
   "execution_count": 6,
   "metadata": {},
   "outputs": [
    {
     "data": {
      "text/plain": [
       "2147483648"
      ]
     },
     "execution_count": 6,
     "metadata": {},
     "output_type": "execute_result"
    }
   ],
   "source": [
    "0x7fffffff + 1"
   ]
  },
  {
   "cell_type": "markdown",
   "metadata": {},
   "source": [
    "## 36. Valid Sudoku"
   ]
  },
  {
   "cell_type": "code",
   "execution_count": 45,
   "metadata": {},
   "outputs": [],
   "source": [
    "class Solution:\n",
    "    def isValidSudoku(self, board):\n",
    "        return (self.is_row_valid(board) and\n",
    "                self.is_col_valid(board) and\n",
    "                self.is_square_valid(board))\n",
    "\n",
    "    def is_row_valid(self, board):\n",
    "        for row in board:\n",
    "            if not self.is_unit_valid(row):\n",
    "                return False\n",
    "        return True\n",
    "\n",
    "    def is_col_valid(self, board):\n",
    "        for col in zip(*board):\n",
    "            if not self.is_unit_valid(col):\n",
    "                return False\n",
    "        return True\n",
    "\n",
    "    def is_square_valid(self, board):\n",
    "        for i in (0, 3, 6):\n",
    "            for j in (0, 3, 6):\n",
    "                square = [board[x][y] for x in range(i, i + 3) for y in range(j, j + 3)]\n",
    "                print(square)\n",
    "                print()\n",
    "                if not self.is_unit_valid(square):\n",
    "                    return False\n",
    "        return True\n",
    "\n",
    "    def is_unit_valid(self, unit):\n",
    "        unit = [i for i in unit if i != '.']\n",
    "        return len(set(unit)) == len(unit)\n",
    "        "
   ]
  },
  {
   "cell_type": "code",
   "execution_count": 46,
   "metadata": {},
   "outputs": [
    {
     "name": "stdout",
     "output_type": "stream",
     "text": [
      "['5', '3', '.', '6', '.', '.', '.', '9', '8']\n",
      "\n",
      "['.', '7', '.', '1', '9', '5', '.', '.', '.']\n",
      "\n",
      "['.', '.', '.', '.', '.', '.', '.', '6', '.']\n",
      "\n",
      "['8', '.', '.', '4', '.', '.', '7', '.', '.']\n",
      "\n",
      "['.', '6', '.', '8', '.', '3', '.', '2', '.']\n",
      "\n",
      "['.', '.', '3', '.', '.', '1', '.', '.', '6']\n",
      "\n",
      "['.', '6', '.', '.', '.', '.', '.', '.', '.']\n",
      "\n",
      "['.', '.', '.', '4', '1', '9', '.', '8', '.']\n",
      "\n",
      "['2', '8', '.', '.', '.', '5', '.', '7', '9']\n",
      "\n"
     ]
    },
    {
     "data": {
      "text/plain": [
       "True"
      ]
     },
     "execution_count": 46,
     "metadata": {},
     "output_type": "execute_result"
    }
   ],
   "source": [
    "board = [\n",
    "  [\"5\",\"3\",\".\",\".\",\"7\",\".\",\".\",\".\",\".\"],\n",
    "  [\"6\",\".\",\".\",\"1\",\"9\",\"5\",\".\",\".\",\".\"],\n",
    "  [\".\",\"9\",\"8\",\".\",\".\",\".\",\".\",\"6\",\".\"],\n",
    "  [\"8\",\".\",\".\",\".\",\"6\",\".\",\".\",\".\",\"3\"],\n",
    "  [\"4\",\".\",\".\",\"8\",\".\",\"3\",\".\",\".\",\"1\"],\n",
    "  [\"7\",\".\",\".\",\".\",\"2\",\".\",\".\",\".\",\"6\"],\n",
    "  [\".\",\"6\",\".\",\".\",\".\",\".\",\"2\",\"8\",\".\"],\n",
    "  [\".\",\".\",\".\",\"4\",\"1\",\"9\",\".\",\".\",\"5\"],\n",
    "  [\".\",\".\",\".\",\".\",\"8\",\".\",\".\",\"7\",\"9\"]\n",
    "]\n",
    "s = Solution()\n",
    "s.isValidSudoku(board)"
   ]
  },
  {
   "cell_type": "code",
   "execution_count": null,
   "metadata": {},
   "outputs": [],
   "source": [
    "class Solution:\n",
    "    def isValidSudoku(self, board):\n",
    "        \"\"\"\n",
    "        :type board: List[List[str]]\n",
    "        :rtype: bool\n",
    "        \"\"\"\n",
    "        # init data\n",
    "        rows = [{} for i in range(9)]\n",
    "        columns = [{} for i in range(9)]\n",
    "        boxes = [{} for i in range(9)]\n",
    "\n",
    "        # validate a board\n",
    "        for i in range(9):\n",
    "            for j in range(9):\n",
    "                num = board[i][j]\n",
    "                if num != '.':\n",
    "                    num = int(num)\n",
    "                    box_index = (i // 3 ) * 3 + j // 3\n",
    "                    \n",
    "                    # keep the current cell value\n",
    "                    rows[i][num] = rows[i].get(num, 0) + 1\n",
    "                    columns[j][num] = columns[j].get(num, 0) + 1\n",
    "                    boxes[box_index][num] = boxes[box_index].get(num, 0) + 1\n",
    "                    \n",
    "                    # check if this value has been already seen before\n",
    "                    if rows[i][num] > 1 or columns[j][num] > 1 or boxes[box_index][num] > 1:\n",
    "                        return False         \n",
    "        return True"
   ]
  },
  {
   "cell_type": "markdown",
   "metadata": {},
   "source": [
    "## 202. Happy Number\n",
    "\n",
    "O(N)"
   ]
  },
  {
   "cell_type": "code",
   "execution_count": 47,
   "metadata": {},
   "outputs": [],
   "source": [
    "class Solution:\n",
    "    def isHappy(self, n):\n",
    "        seen = set()\n",
    "        while n not in seen:\n",
    "            seen.add(n)\n",
    "            n = sum([int(x) **2 for x in str(n)])\n",
    "        return n == 1"
   ]
  },
  {
   "cell_type": "markdown",
   "metadata": {},
   "source": [
    "## 412. Fizz Buzz\n",
    "\n",
    "O(N)"
   ]
  },
  {
   "cell_type": "code",
   "execution_count": null,
   "metadata": {},
   "outputs": [],
   "source": [
    "class Solution:\n",
    "    def fizzBuzz(self, n):\n",
    "        \"\"\"\n",
    "        :type n: int\n",
    "        :rtype: List[str]\n",
    "        \"\"\"\n",
    "        # ans list\n",
    "        ans = []\n",
    "\n",
    "        for num in range(1,n+1):\n",
    "\n",
    "            # divisible_by_3 = (num % 3 == 0)\n",
    "            # divisible_by_5 = (num % 5 == 0)\n",
    "\n",
    "            if num % 3 == 0 and num % 5 == 0:\n",
    "                # Divides by both 3 and 5, add FizzBuzz\n",
    "                ans.append(\"FizzBuzz\")\n",
    "            elif num % 3 == 0:\n",
    "                # Divides by 3, add Fizz\n",
    "                ans.append(\"Fizz\")\n",
    "            elif num % 5 == 0:\n",
    "                # Divides by 5, add Buzz\n",
    "                ans.append(\"Buzz\")\n",
    "            else:\n",
    "                # Not divisible by 3 or 5, add the number\n",
    "                ans.append(str(num))\n",
    "\n",
    "        return ans"
   ]
  },
  {
   "cell_type": "markdown",
   "metadata": {},
   "source": [
    "## 771. Jewesl and Stones (List)\n",
    "\n",
    "O(J+S)"
   ]
  },
  {
   "cell_type": "code",
   "execution_count": 308,
   "metadata": {},
   "outputs": [
    {
     "data": {
      "text/plain": [
       "3"
      ]
     },
     "execution_count": 308,
     "metadata": {},
     "output_type": "execute_result"
    }
   ],
   "source": [
    "class Solution(object):\n",
    "    def numJewelsInStones(self, J, S):\n",
    "        \"\"\"\n",
    "        :type J: str\n",
    "        :type S: str\n",
    "        :rtype: int\n",
    "        \"\"\"\n",
    "        Jset = set(J)\n",
    "        return sum(s in Jset for s in S)\n",
    "    \n",
    "s = Solution()\n",
    "s.numJewelsInStones(\"aA\", \"aAAbbbb\")"
   ]
  },
  {
   "cell_type": "code",
   "execution_count": 41,
   "metadata": {},
   "outputs": [
    {
     "data": {
      "text/plain": [
       "{'A', 'a'}"
      ]
     },
     "execution_count": 41,
     "metadata": {},
     "output_type": "execute_result"
    }
   ],
   "source": [
    "J = 'aA'\n",
    "S = 'aAAbbbb'\n",
    "[s in J for s in S]\n",
    "\n",
    "Jset = set(J)\n",
    "Jset"
   ]
  },
  {
   "cell_type": "markdown",
   "metadata": {},
   "source": [
    "## 136. Single Number\n",
    "\n",
    "O(N)"
   ]
  },
  {
   "cell_type": "code",
   "execution_count": null,
   "metadata": {},
   "outputs": [],
   "source": [
    "class Solution(object):\n",
    "    def singleNumber(self, nums):\n",
    "        \"\"\"\n",
    "        :type nums: List[int]\n",
    "        :rtype: int\n",
    "        \"\"\"\n",
    "        dic = {}\n",
    "        for i in nums:\n",
    "            if i in dic:\n",
    "                dic.pop(i)\n",
    "            else:\n",
    "                dic[i] = 1\n",
    "        return dic.popitem()[0]"
   ]
  },
  {
   "cell_type": "markdown",
   "metadata": {},
   "source": [
    "## 277. Find the Celebrity\n",
    "\n",
    "O(N) O(1)"
   ]
  },
  {
   "cell_type": "code",
   "execution_count": null,
   "metadata": {},
   "outputs": [],
   "source": [
    "class Solution(object):\n",
    "    def findCelebrity(self, n):\n",
    "        \"\"\"\n",
    "        :type n: int\n",
    "        :rtype: int\n",
    "        \"\"\"\n",
    "        res = 0\n",
    "        \n",
    "        # if celebrity > candidate, candidate must change to the celebrity, cause (knows(candidate, celebrity) == True)\n",
    "        # if candidate == celebrity: candidate won't change, cause celebrity knows nobody.\n",
    "        # after the loop, candidate is the only one can be the celebrity\n",
    "        for i in range(1, n):\n",
    "            if knows(res, i):\n",
    "                res = i\n",
    "                \n",
    "        # check people < candidate\n",
    "        for i in range(res):\n",
    "            if knows(res, i) or not(knows(i, res)):\n",
    "                return -1\n",
    "        \n",
    "        # check if people > candidate are all knows the candidate\n",
    "        for i in range(res+1, n):\n",
    "            if not knows(i, res):\n",
    "                return -1\n",
    "            \n",
    "        return res"
   ]
  },
  {
   "cell_type": "markdown",
   "metadata": {},
   "source": [
    "## 171. Excel Sheet Column Number\n",
    "\n",
    "This reverses the string, starts a sum at 0, creates a list of tuples of the index of each character in the reversed string (which corresponds to the exponent) and character itself. Add them up. We take ord(char) to turn the character to an integer, subtract 65 = ord('A') from it, and add one because we want A to equal 1, not 0."
   ]
  },
  {
   "cell_type": "code",
   "execution_count": null,
   "metadata": {},
   "outputs": [],
   "source": [
    "def titleToNumber(s):\n",
    "    s = s[::-1]\n",
    "    sum = 0\n",
    "    for exp, c in enumerate(s):\n",
    "        sum += (ord(c) - 65 + 1) * (26 ** exp)\n",
    "    return sum"
   ]
  },
  {
   "cell_type": "code",
   "execution_count": 4,
   "metadata": {},
   "outputs": [
    {
     "data": {
      "text/plain": [
       "65"
      ]
     },
     "execution_count": 4,
     "metadata": {},
     "output_type": "execute_result"
    }
   ],
   "source": [
    "chr(9)\n",
    "ord('A')"
   ]
  },
  {
   "cell_type": "markdown",
   "metadata": {},
   "source": [
    "## 947. Most Stones Removed with Same Row or Column\n",
    "\n",
    "O(N)\n",
    "https://www.jianshu.com/p/30d2058db7f7"
   ]
  },
  {
   "cell_type": "code",
   "execution_count": 28,
   "metadata": {},
   "outputs": [],
   "source": [
    "import collections\n",
    "class Solution:\n",
    "    def removeStones(self, points):\n",
    "            index = collections.defaultdict(set)\n",
    "            for i, j in points:\n",
    "                index[i].add(j + 10000)\n",
    "                index[j + 10000].add(i)\n",
    "\n",
    "            print(index)    \n",
    "\n",
    "            def dfs(i):\n",
    "                seen.add(i)\n",
    "                for j in index[i]:\n",
    "                    if j not in seen:\n",
    "                        dfs(j)\n",
    "\n",
    "            seen = set()\n",
    "            islands = 0\n",
    "            for i, j in points:\n",
    "                if i not in seen:\n",
    "                    islands += 1\n",
    "                    dfs(i)\n",
    "                    dfs(j + 10000)\n",
    "            return len(points) - islands"
   ]
  },
  {
   "cell_type": "code",
   "execution_count": 29,
   "metadata": {},
   "outputs": [
    {
     "name": "stdout",
     "output_type": "stream",
     "text": [
      "defaultdict(<class 'set'>, {0: {10000, 10001}, 10000: {0, 1}, 10001: {0, 2}, 1: {10000, 10002}, 10002: {1, 2}, 2: {10001, 10002}})\n"
     ]
    },
    {
     "data": {
      "text/plain": [
       "5"
      ]
     },
     "execution_count": 29,
     "metadata": {},
     "output_type": "execute_result"
    }
   ],
   "source": [
    "s = Solution()\n",
    "stones = [[0,0],[0,1],[1,0],[1,2],[2,1],[2,2]]\n",
    "s.removeStones(stones)"
   ]
  },
  {
   "cell_type": "markdown",
   "metadata": {},
   "source": [
    "## 763. Partition Labels (Dict, List)\n",
    "\n",
    "Time Complexity: O(N), where N is the length of S."
   ]
  },
  {
   "cell_type": "code",
   "execution_count": 265,
   "metadata": {},
   "outputs": [],
   "source": [
    "class Solution(object):\n",
    "    def partitionLabels(self, S):\n",
    "        last = {c: i for i, c in enumerate(S)}\n",
    "#         print('last=', last)\n",
    "        j = 0\n",
    "        anchor = 0\n",
    "        ans = []\n",
    "        for i, c in enumerate(S):\n",
    "#             print('i=', i, 'c=', c)\n",
    "            j = max(j, last[c])\n",
    "#             print('j=', j)\n",
    "#             print('last[c]=', last[c])\n",
    "            if i == j:\n",
    "                ans.append(i - anchor + 1)\n",
    "#                 print('ans=', ans)\n",
    "                anchor = i + 1\n",
    "#                 print('anchor=', anchor)\n",
    "#             print()\n",
    "        return ans"
   ]
  },
  {
   "cell_type": "code",
   "execution_count": 266,
   "metadata": {},
   "outputs": [
    {
     "name": "stdout",
     "output_type": "stream",
     "text": [
      "last= {'a': 8, 'b': 5, 'c': 7, 'd': 14, 'e': 15, 'f': 11, 'g': 13, 'h': 19, 'i': 22, 'j': 23, 'k': 20, 'l': 21}\n",
      "i= 0 c= a\n",
      "j= 8\n",
      "last[c]= 8\n",
      "\n",
      "i= 1 c= b\n",
      "j= 8\n",
      "last[c]= 5\n",
      "\n",
      "i= 2 c= a\n",
      "j= 8\n",
      "last[c]= 8\n",
      "\n",
      "i= 3 c= b\n",
      "j= 8\n",
      "last[c]= 5\n",
      "\n",
      "i= 4 c= c\n",
      "j= 8\n",
      "last[c]= 7\n",
      "\n",
      "i= 5 c= b\n",
      "j= 8\n",
      "last[c]= 5\n",
      "\n",
      "i= 6 c= a\n",
      "j= 8\n",
      "last[c]= 8\n",
      "\n",
      "i= 7 c= c\n",
      "j= 8\n",
      "last[c]= 7\n",
      "\n",
      "i= 8 c= a\n",
      "j= 8\n",
      "last[c]= 8\n",
      "ans= [9]\n",
      "anchor= 9\n",
      "\n",
      "i= 9 c= d\n",
      "j= 14\n",
      "last[c]= 14\n",
      "\n",
      "i= 10 c= e\n",
      "j= 15\n",
      "last[c]= 15\n",
      "\n",
      "i= 11 c= f\n",
      "j= 15\n",
      "last[c]= 11\n",
      "\n",
      "i= 12 c= e\n",
      "j= 15\n",
      "last[c]= 15\n",
      "\n",
      "i= 13 c= g\n",
      "j= 15\n",
      "last[c]= 13\n",
      "\n",
      "i= 14 c= d\n",
      "j= 15\n",
      "last[c]= 14\n",
      "\n",
      "i= 15 c= e\n",
      "j= 15\n",
      "last[c]= 15\n",
      "ans= [9, 7]\n",
      "anchor= 16\n",
      "\n",
      "i= 16 c= h\n",
      "j= 19\n",
      "last[c]= 19\n",
      "\n",
      "i= 17 c= i\n",
      "j= 22\n",
      "last[c]= 22\n",
      "\n",
      "i= 18 c= j\n",
      "j= 23\n",
      "last[c]= 23\n",
      "\n",
      "i= 19 c= h\n",
      "j= 23\n",
      "last[c]= 19\n",
      "\n",
      "i= 20 c= k\n",
      "j= 23\n",
      "last[c]= 20\n",
      "\n",
      "i= 21 c= l\n",
      "j= 23\n",
      "last[c]= 21\n",
      "\n",
      "i= 22 c= i\n",
      "j= 23\n",
      "last[c]= 22\n",
      "\n",
      "i= 23 c= j\n",
      "j= 23\n",
      "last[c]= 23\n",
      "ans= [9, 7, 8]\n",
      "anchor= 24\n",
      "\n"
     ]
    },
    {
     "data": {
      "text/plain": [
       "[9, 7, 8]"
      ]
     },
     "execution_count": 266,
     "metadata": {},
     "output_type": "execute_result"
    }
   ],
   "source": [
    "s = Solution()\n",
    "s.partitionLabels(\"ababcbacadefegdehijhklij\")\n"
   ]
  },
  {
   "cell_type": "markdown",
   "metadata": {},
   "source": [
    "## 957. Prison Cells After N Days (Dict, List)\n",
    "\n",
    "时间复杂度: O(1)"
   ]
  },
  {
   "cell_type": "code",
   "execution_count": 6,
   "metadata": {},
   "outputs": [],
   "source": [
    "class Solution:\n",
    "    def prisonAfterNDays(self, cells, N):\n",
    "        \"\"\"\n",
    "        :type cells: List[int]\n",
    "        :type N: int\n",
    "        :rtype: List[int]\n",
    "        \"\"\"\n",
    "        cache = {str(cells): 0}\n",
    "        states = [cells]\n",
    "\n",
    "        for i in range(1, N+1):\n",
    "            cells = [0] + [int(cells[i - 1] == cells[i + 1]) for i in range(1, 7)] + [0]\n",
    "#             print('cells =', cells)\n",
    "#             print('i =', i)\n",
    "            \n",
    "            if str(cells) in cache:\n",
    "                \n",
    "                idx = cache[str(cells)]\n",
    "                return states[idx+(N-idx)%(i-idx)] # why?\n",
    "            \n",
    "            cache[str(cells)] = i\n",
    "            states.append(cells)\n",
    "        return cells"
   ]
  },
  {
   "cell_type": "code",
   "execution_count": 9,
   "metadata": {},
   "outputs": [
    {
     "name": "stdout",
     "output_type": "stream",
     "text": [
      "cells = [0, 0, 0, 1, 0, 0, 1, 0]\n",
      "i = 1\n",
      "cells = [0, 1, 0, 1, 0, 0, 1, 0]\n",
      "i = 2\n",
      "cells = [0, 1, 1, 1, 0, 0, 1, 0]\n",
      "i = 3\n",
      "cells = [0, 0, 1, 0, 0, 0, 1, 0]\n",
      "i = 4\n",
      "cells = [0, 0, 1, 0, 1, 0, 1, 0]\n",
      "i = 5\n",
      "cells = [0, 0, 1, 1, 1, 1, 1, 0]\n",
      "i = 6\n",
      "cells = [0, 0, 0, 1, 1, 1, 0, 0]\n",
      "i = 7\n",
      "cells = [0, 1, 0, 0, 1, 0, 0, 0]\n",
      "i = 8\n",
      "cells = [0, 1, 0, 0, 1, 0, 1, 0]\n",
      "i = 9\n",
      "cells = [0, 1, 0, 0, 1, 1, 1, 0]\n",
      "i = 10\n",
      "cells = [0, 1, 0, 0, 0, 1, 0, 0]\n",
      "i = 11\n",
      "cells = [0, 1, 0, 1, 0, 1, 0, 0]\n",
      "i = 12\n",
      "cells = [0, 1, 1, 1, 1, 1, 0, 0]\n",
      "i = 13\n",
      "cells = [0, 0, 1, 1, 1, 0, 0, 0]\n",
      "i = 14\n",
      "cells = [0, 0, 0, 1, 0, 0, 1, 0]\n",
      "i = 15\n"
     ]
    },
    {
     "data": {
      "text/plain": [
       "[0, 1, 0, 1, 0, 0, 1, 0]"
      ]
     },
     "execution_count": 9,
     "metadata": {},
     "output_type": "execute_result"
    }
   ],
   "source": [
    "cells = [1,0,0,1,0,0,1,0]\n",
    "N = 16\n",
    "\n",
    "s = Solution()\n",
    "s.prisonAfterNDays(cells, N)"
   ]
  },
  {
   "cell_type": "code",
   "execution_count": null,
   "metadata": {},
   "outputs": [],
   "source": [
    "1 + (1000000000 - 1) % (15 - 1)"
   ]
  },
  {
   "cell_type": "markdown",
   "metadata": {},
   "source": [
    "## 88. Merge Sorted Arrays"
   ]
  },
  {
   "cell_type": "code",
   "execution_count": 10,
   "metadata": {},
   "outputs": [],
   "source": [
    "class Solution:\n",
    "    def merge(self, nums1, m, nums2, n):\n",
    "        \"\"\"\n",
    "        :type nums1: List[int]\n",
    "        :type m: int\n",
    "        :type nums2: List[int]\n",
    "        :type n: int\n",
    "        :rtype: void Do not return anything, modify nums1 in-place instead.\n",
    "        \"\"\"\n",
    "        while m > 0 and n > 0:\n",
    "#             print('m =', m, 'n =', n)\n",
    "            if nums1[m-1] > nums2[n-1]:\n",
    "                nums1[m+n-1] = nums1[m-1]\n",
    "#                 print('nums1 =', nums1)\n",
    "                m -= 1\n",
    "                print('m =', m)\n",
    "            else:\n",
    "                nums1[m+n-1] = nums2[n-1]\n",
    "#                 print('nums1 =', nums1)\n",
    "                n -= 1\n",
    "#                 print('n =', n)\n",
    "                \n",
    "#             print()\n",
    "        if n > 0:\n",
    "            nums1[:n] = nums2[:n]"
   ]
  },
  {
   "cell_type": "code",
   "execution_count": 11,
   "metadata": {},
   "outputs": [
    {
     "name": "stdout",
     "output_type": "stream",
     "text": [
      "m = 3 n = 3\n",
      "nums1 = [1, 2, 3, 0, 0, 6]\n",
      "n = 2\n",
      "\n",
      "m = 3 n = 2\n",
      "nums1 = [1, 2, 3, 0, 5, 6]\n",
      "n = 1\n",
      "\n",
      "m = 3 n = 1\n",
      "nums1 = [1, 2, 3, 3, 5, 6]\n",
      "m = 2\n",
      "\n",
      "m = 2 n = 1\n",
      "nums1 = [1, 2, 2, 3, 5, 6]\n",
      "n = 0\n",
      "\n"
     ]
    },
    {
     "data": {
      "text/plain": [
       "[1, 2, 2, 3, 5, 6]"
      ]
     },
     "execution_count": 11,
     "metadata": {},
     "output_type": "execute_result"
    }
   ],
   "source": [
    "s = Solution()\n",
    "nums1 = [1,2,3,0,0,0]\n",
    "nums2 = [2,5,6]\n",
    "s.merge(nums1,3,nums2,3)\n",
    "nums1"
   ]
  },
  {
   "cell_type": "markdown",
   "metadata": {},
   "source": [
    "## 929. Unique Email Adress (String, Set)\n",
    "\n",
    "O(N)"
   ]
  },
  {
   "cell_type": "code",
   "execution_count": null,
   "metadata": {},
   "outputs": [],
   "source": [
    "class Solution(object):\n",
    "    def numUniqueEmails(self, emails):\n",
    "        \"\"\"\n",
    "        :type emails: List[str]\n",
    "        :rtype: int\n",
    "        \"\"\"\n",
    "        seen = set()\n",
    "        for email in emails:\n",
    "            local, domain = email.split('@')\n",
    "            if '+' in local:\n",
    "                local = local[:local.index('+')]\n",
    "            seen.add(local.replace('.','') + '@' + domain)\n",
    "        return len(seen)"
   ]
  },
  {
   "cell_type": "markdown",
   "metadata": {},
   "source": [
    "## 91. Decode Ways\n",
    "\n",
    "O(1)\n",
    "\n",
    "w tells the number of ways  \n",
    "v tells the previous number of ways  \n",
    "d is the current digit  \n",
    "p is the previous digit  "
   ]
  },
  {
   "cell_type": "code",
   "execution_count": null,
   "metadata": {},
   "outputs": [],
   "source": [
    "def numDecodings(self, s):\n",
    "    pw, w, p = 0, int(s>''), ''\n",
    "    for d in s:\n",
    "        pw, w, p = w, (d>'0')*w + (9<int(p+d)<27)*pw, d\n",
    "    return w"
   ]
  },
  {
   "cell_type": "code",
   "execution_count": 32,
   "metadata": {},
   "outputs": [
    {
     "data": {
      "text/plain": [
       "2"
      ]
     },
     "execution_count": 32,
     "metadata": {},
     "output_type": "execute_result"
    }
   ],
   "source": [
    "int(5/2)"
   ]
  },
  {
   "cell_type": "markdown",
   "metadata": {},
   "source": [
    "## 222. Count Complete Tree Nodes\n",
    "\n",
    "时间复杂度: O(lgN * lgN)  \n",
    "\n",
    "求出正常的左右子树的高度lh和rh，然后\n",
    "\n",
    "如果相等的话就知道左边子树肯定是满的，一共有2 ** lh个node，先算出来然后递归计算右边子树的node个数；\n",
    "同理lh和rh不相等的话，就知道右边子树是满的，一共有2 ** rh个node，先算出来然后递归计算右边子树的node个数；"
   ]
  },
  {
   "cell_type": "code",
   "execution_count": null,
   "metadata": {},
   "outputs": [],
   "source": [
    "class Solution:\n",
    "    def countNodes(self, root):\n",
    "        \"\"\"\n",
    "        :type root: TreeNode\n",
    "        :rtype: int\n",
    "        \"\"\"\n",
    "        if not root:\n",
    "            return 0\n",
    "        lh = self.height(root.left)\n",
    "        rh = self.height(root.right)\n",
    "        if lh == rh:\n",
    "            return 2 ** lh + self.countNodes(root.right)\n",
    "        else:\n",
    "            return 2 ** rh + self.countNodes(root.left)\n",
    "\n",
    "    def height(self, root):\n",
    "        if not root:\n",
    "            return 0\n",
    "        return 1 + max(self.height(root.left), self.height(root.right))"
   ]
  },
  {
   "cell_type": "markdown",
   "metadata": {},
   "source": [
    "## 482. License Key Formatting"
   ]
  },
  {
   "cell_type": "code",
   "execution_count": null,
   "metadata": {},
   "outputs": [],
   "source": [
    "class Solution:\n",
    "    def licenseKeyFormatting(self, S, K):\n",
    "        \"\"\"\n",
    "        :type S: str\n",
    "        :type K: int\n",
    "        :rtype: str\n",
    "        \"\"\"\n",
    "        S = S.replace(\"-\", \"\").upper()[::-1]\n",
    "        return '-'.join(S[i:i+K] for i in range(0, len(S), K))[::-1]"
   ]
  },
  {
   "cell_type": "code",
   "execution_count": 5,
   "metadata": {},
   "outputs": [
    {
     "data": {
      "text/plain": [
       "'5f32-3e9w'"
      ]
     },
     "execution_count": 5,
     "metadata": {},
     "output_type": "execute_result"
    }
   ],
   "source": [
    "'-'.join(['w9e3','23f5'])[::-1]"
   ]
  },
  {
   "cell_type": "markdown",
   "metadata": {},
   "source": [
    "## Fruit Into Baskets\n",
    "O(N)\n",
    "\n",
    "What is the length of longest subarray that contains up to two distinct integers?"
   ]
  },
  {
   "cell_type": "code",
   "execution_count": null,
   "metadata": {},
   "outputs": [],
   "source": [
    "class Solution(object):\n",
    "    def totalFruit(self, tree):\n",
    "        ans = i = 0\n",
    "        count = collections.Counter()\n",
    "        for j, x in enumerate(tree):\n",
    "            count[x] += 1\n",
    "            while len(count) >= 3:\n",
    "                count[tree[i]] -= 1\n",
    "                if count[tree[i]] == 0:\n",
    "                    del count[tree[i]]\n",
    "                i += 1\n",
    "            ans = max(ans, j - i + 1)\n",
    "        return ans"
   ]
  },
  {
   "cell_type": "markdown",
   "metadata": {},
   "source": [
    "## 489. Robot Room Cleaner"
   ]
  },
  {
   "cell_type": "code",
   "execution_count": null,
   "metadata": {},
   "outputs": [],
   "source": [
    "# \"\"\"\n",
    "# This is the robot's control interface.\n",
    "# You should not implement it, or speculate about its implementation\n",
    "# \"\"\"\n",
    "#class Robot:\n",
    "#    def move(self):\n",
    "#        \"\"\"\n",
    "#        Returns true if the cell in front is open and robot moves into the cell.\n",
    "#        Returns false if the cell in front is blocked and robot stays in the current cell.\n",
    "#        :rtype bool\n",
    "#        \"\"\"\n",
    "#\n",
    "#    def turnLeft(self):\n",
    "#        \"\"\"\n",
    "#        Robot will stay in the same cell after calling turnLeft/turnRight.\n",
    "#        Each turn will be 90 degrees.\n",
    "#        :rtype void\n",
    "#        \"\"\"\n",
    "#\n",
    "#    def turnRight(self):\n",
    "#        \"\"\"\n",
    "#        Robot will stay in the same cell after calling turnLeft/turnRight.\n",
    "#        Each turn will be 90 degrees.\n",
    "#        :rtype void\n",
    "#        \"\"\"\n",
    "#\n",
    "#    def clean(self):\n",
    "#        \"\"\"\n",
    "#        Clean the current cell.\n",
    "#        :rtype void\n",
    "#        \"\"\"\n",
    "\n",
    "class Solution(object):\n",
    "    def cleanRoom(self, robot):\n",
    "        \"\"\"\n",
    "        :type robot: Robot\n",
    "        :rtype: None\n",
    "        \"\"\"\n",
    "        self.dfs(robot, 0, 0, 0, 1, set())\n",
    "    \n",
    "    def dfs(self, robot, x, y, direction_x, direction_y, visited):\n",
    "        robot.clean()\n",
    "        visited.add((x, y))\n",
    "        \n",
    "        for k in range(4):\n",
    "            neighbor_x = x + direction_x\n",
    "            neighbor_y = y + direction_y\n",
    "            if (neighbor_x, neighbor_y) not in visited and robot.move():\n",
    "                self.dfs(robot, neighbor_x, neighbor_y, direction_x, direction_y, visited)\n",
    "                robot.turnLeft()\n",
    "                robot.turnLeft()\n",
    "                robot.move()\n",
    "                robot.turnLeft()\n",
    "                robot.turnLeft()\n",
    "                `\n",
    "            robot.turnLeft()\n",
    "            direction_x = -direction_y\n",
    "            direction_y = direction_x"
   ]
  },
  {
   "cell_type": "markdown",
   "metadata": {},
   "source": []
  },
  {
   "cell_type": "markdown",
   "metadata": {},
   "source": [
    "## 844. Backspace String Compare"
   ]
  },
  {
   "cell_type": "code",
   "execution_count": null,
   "metadata": {},
   "outputs": [],
   "source": [
    "class Solution(object):\n",
    "    def backspaceCompare(self, S, T):\n",
    "        def build(S):\n",
    "            ans = []\n",
    "            for c in S:\n",
    "                if c != '#':\n",
    "                    ans.append(c)\n",
    "                elif ans:\n",
    "                    ans.pop()\n",
    "            return \"\".join(ans)\n",
    "        return build(S) == build(T)"
   ]
  },
  {
   "cell_type": "markdown",
   "metadata": {},
   "source": [
    "## 289 Game of Tree\n",
    "\n",
    "O(N^2)"
   ]
  },
  {
   "cell_type": "code",
   "execution_count": null,
   "metadata": {},
   "outputs": [],
   "source": [
    "class Solution:\n",
    "    def gameOfLife(self, board) -> None:\n",
    "        \"\"\"\n",
    "        Do not return anything, modify board in-place instead.\n",
    "        \"\"\"\n",
    "        for i in range(len(board)):\n",
    "            for j in range(len(board[i])):\n",
    "                live=0\n",
    "                try:\n",
    "                    l_1=board[i-1][j-1]\n",
    "                    if l_1>0 and i>0 and j>0:\n",
    "                        live+=1\n",
    "                except IndexError:\n",
    "                    pass\n",
    "                \n",
    "                try:\n",
    "                    l_2=board[i-1][j]\n",
    "                    if l_2>0 and i>0:\n",
    "                        live+=1\n",
    "                except IndexError:\n",
    "                    pass\n",
    "                \n",
    "                try:\n",
    "                    l_3=board[i-1][j+1]\n",
    "                    if l_3>0 and i>0:\n",
    "                        live+=1\n",
    "                except IndexError:\n",
    "                    pass\n",
    "                \n",
    "                try:\n",
    "                    l_4=board[i][j-1]\n",
    "                    if l_4>0 and j>0:\n",
    "                        live+=1\n",
    "                except IndexError:\n",
    "                    pass\n",
    "                \n",
    "                try:\n",
    "                    l_5=board[i][j+1]\n",
    "                    if l_5>0:\n",
    "                        live+=1\n",
    "                except IndexError:\n",
    "                    pass\n",
    "                try:\n",
    "                    l_6=board[i+1][j-1]\n",
    "                    if l_6>0 and j>0:\n",
    "                        live+=1\n",
    "                except IndexError:\n",
    "                    pass\n",
    "                \n",
    "                try:\n",
    "                    l_7=board[i+1][j]\n",
    "                    if l_7>0:\n",
    "                        live+=1\n",
    "                except IndexError:\n",
    "                    pass\n",
    "                \n",
    "                try:\n",
    "                    l_8=board[i+1][j+1]\n",
    "                    if l_8>0:\n",
    "                        live+=1\n",
    "                except IndexError:\n",
    "                    pass  \n",
    "                \n",
    "                if board[i][j]>0:\n",
    "                    if live<2 or live>3:\n",
    "                        board[i][j]=2\n",
    "                    elif live==2 or live==3:\n",
    "                        board[i][j]=1\n",
    "                else:\n",
    "                    if live==3:\n",
    "                        board[i][j]=-1\n",
    "                        \n",
    "        for i in range(len(board)):\n",
    "            for j in range(len(board[i])):\n",
    "                if board[i][j]==2:\n",
    "                    board[i][j]=0\n",
    "                if board[i][j]==-1:\n",
    "                    board[i][j]=1\n"
   ]
  },
  {
   "cell_type": "markdown",
   "metadata": {},
   "source": [
    "## 226. Invert Binary Tree\n",
    "O(N)"
   ]
  },
  {
   "cell_type": "code",
   "execution_count": null,
   "metadata": {},
   "outputs": [],
   "source": [
    "class Solution(object):\n",
    "    def invertTree(self, root):\n",
    "        \"\"\"\n",
    "        :type root: TreeNode\n",
    "        :rtype: TreeNode\n",
    "        \"\"\"\n",
    "        if not root:\n",
    "            return root\n",
    "        root.left, root.right = root.right, root.left\n",
    "        self.invertTree(root.left)\n",
    "        self.invertTree(root.right)\n",
    "        return root"
   ]
  },
  {
   "cell_type": "code",
   "execution_count": null,
   "metadata": {},
   "outputs": [],
   "source": [
    "def invertTree(self, root):\n",
    "    stack = [root]\n",
    "    while stack:\n",
    "        node = stack.pop()\n",
    "        if node:\n",
    "            node.left = node.right\n",
    "            node.right = node.left\n",
    "            stack += node.left, node.right\n",
    "    return root"
   ]
  },
  {
   "cell_type": "markdown",
   "metadata": {},
   "source": [
    "## 24. Swap Node in Pair （Recursion)\n",
    "\n",
    "O(N)"
   ]
  },
  {
   "cell_type": "code",
   "execution_count": null,
   "metadata": {},
   "outputs": [],
   "source": [
    "class Solution:\n",
    "    def swapPairs(self, head):\n",
    "        \"\"\"\n",
    "        :type head: ListNode\n",
    "        :rtype: ListNode\n",
    "        \"\"\"\n",
    "        if not head or not head.next:\n",
    "            return head\n",
    "        tmp = head.next\n",
    "        head.next = self.swapPairs(head.next.next)\n",
    "        tmp.next = head\n",
    "        return tmp"
   ]
  },
  {
   "cell_type": "markdown",
   "metadata": {},
   "source": [
    "## 704. Binary Search \n",
    "\n",
    "O(logN)"
   ]
  },
  {
   "cell_type": "code",
   "execution_count": null,
   "metadata": {},
   "outputs": [],
   "source": [
    "class Solution:\n",
    "    def search(self, nums: List[int], target: int) -> int:\n",
    "        left, right = 0, len(nums) - 1\n",
    "        while left <= right:\n",
    "            pivot = (left + right) // 2\n",
    "            if nums[pivot] == target:\n",
    "                return pivot\n",
    "            else:\n",
    "                if target < nums[pivot]:\n",
    "                    right = pivot - 1\n",
    "                else:\n",
    "                    left = pivot + 1\n",
    "        return -1"
   ]
  },
  {
   "cell_type": "markdown",
   "metadata": {},
   "source": [
    "## Odd Even Jump"
   ]
  },
  {
   "cell_type": "code",
   "execution_count": null,
   "metadata": {},
   "outputs": [],
   "source": [
    "# O(N*logN)\n",
    "class Solution:\n",
    "    def oddEvenJumps(self, A):\n",
    "        \"\"\"\n",
    "        :type A: List[int]\n",
    "        :rtype: int\n",
    "        \"\"\"\n",
    "        def make(B):\n",
    "            res = [-1] * N\n",
    "            stack = [] # invariant: stack is decreasing\n",
    "            for i in B:\n",
    "                while stack and i > stack[-1]:\n",
    "                    res[stack.pop()] = i\n",
    "                stack.append(i)\n",
    "            return res\n",
    "\n",
    "        N = len(A) # A = [10,13,12,14,15]\n",
    "\n",
    "        B = sorted(list(range(N)), key = lambda i : A[i]) # [0, 2, 1, 3, 4]\n",
    "        odd_nxt = make(B)\n",
    "\n",
    "        B = sorted(list(range(N)), key = lambda i : -A[i]) # [4, 3, 1, 2, 0]\n",
    "        even_nxt = make(B)\n",
    "\n",
    "        odd, even = [False] * N, [False] * N\n",
    "        odd[-1], even[-1] = True, True\n",
    "\n",
    "        for i in range(N-2, -1, -1):\n",
    "            if odd_nxt[i] != -1:\n",
    "                odd[i] = even[odd_nxt[i]]\n",
    "            if even_nxt[i] != -1:\n",
    "                even[i] = odd[even_nxt[i]]\n",
    "\n",
    "        return sum(odd)"
   ]
  },
  {
   "cell_type": "code",
   "execution_count": 40,
   "metadata": {},
   "outputs": [
    {
     "name": "stdout",
     "output_type": "stream",
     "text": [
      "3\n",
      "2\n",
      "1\n",
      "0\n"
     ]
    }
   ],
   "source": [
    "for i in range(3,-1,-1):\n",
    "    print(i)"
   ]
  },
  {
   "cell_type": "markdown",
   "metadata": {},
   "source": [
    "## 43. Multiply String\n",
    "\n",
    "O(N)"
   ]
  },
  {
   "cell_type": "code",
   "execution_count": null,
   "metadata": {},
   "outputs": [],
   "source": [
    "class Solution(object):\n",
    "    def multiply(self, num1, num2):\n",
    "        \"\"\"\n",
    "        :type num1: str\n",
    "        :type num2: str\n",
    "        :rtype: str\n",
    "        \"\"\"\n",
    "        def str2int(num):\n",
    "            res = 0\n",
    "            for i in range(len(num)-1, -1, -1):\n",
    "                res += int(num[i]) * pow(10, len(num)-1-i)\n",
    "            return res\n",
    "        return str(str2int(num1) * str2int(num2))"
   ]
  },
  {
   "cell_type": "code",
   "execution_count": 42,
   "metadata": {},
   "outputs": [
    {
     "data": {
      "text/plain": [
       "34"
      ]
     },
     "execution_count": 42,
     "metadata": {},
     "output_type": "execute_result"
    }
   ],
   "source": [
    "def str2int(num):\n",
    "            res = 0\n",
    "            for i in range(len(num)-1, -1, -1):\n",
    "                res += int(num[i]) * pow(10, len(num)-1-i)\n",
    "            return res\n",
    "        \n",
    "str2int('34')"
   ]
  },
  {
   "cell_type": "markdown",
   "metadata": {},
   "source": [
    "## Jump Game\n",
    "\n",
    "m tells the maximum index we can reach so far."
   ]
  },
  {
   "cell_type": "code",
   "execution_count": 60,
   "metadata": {},
   "outputs": [],
   "source": [
    "class Solution:\n",
    "    def canJump(self, nums):\n",
    "        m = 0\n",
    "        for i, n in enumerate(nums):\n",
    "#             print('i=',i,'n=',n) \n",
    "            if i > m:\n",
    "                return False\n",
    "            m = max(m, i+n)\n",
    "#             print('m=',m)\n",
    "        return True"
   ]
  },
  {
   "cell_type": "code",
   "execution_count": 61,
   "metadata": {},
   "outputs": [
    {
     "name": "stdout",
     "output_type": "stream",
     "text": [
      "i= 0 n= 2\n",
      "m= 2\n",
      "i= 1 n= 3\n",
      "m= 4\n",
      "i= 2 n= 1\n",
      "m= 4\n",
      "i= 3 n= 1\n",
      "m= 4\n",
      "i= 4 n= 4\n",
      "m= 8\n"
     ]
    },
    {
     "data": {
      "text/plain": [
       "True"
      ]
     },
     "execution_count": 61,
     "metadata": {},
     "output_type": "execute_result"
    }
   ],
   "source": [
    "s = Solution()\n",
    "nums = [2,3,1,1,4]\n",
    "s.canJump(nums)"
   ]
  },
  {
   "cell_type": "code",
   "execution_count": 62,
   "metadata": {},
   "outputs": [
    {
     "name": "stdout",
     "output_type": "stream",
     "text": [
      "i= 0 n= 3\n",
      "m= 3\n",
      "i= 1 n= 2\n",
      "m= 3\n",
      "i= 2 n= 1\n",
      "m= 3\n",
      "i= 3 n= 0\n",
      "m= 3\n",
      "i= 4 n= 4\n"
     ]
    },
    {
     "data": {
      "text/plain": [
       "False"
      ]
     },
     "execution_count": 62,
     "metadata": {},
     "output_type": "execute_result"
    }
   ],
   "source": [
    "s = Solution()\n",
    "nums = [3,2,1,0,4]\n",
    "s.canJump(nums)"
   ]
  },
  {
   "cell_type": "markdown",
   "metadata": {},
   "source": [
    "## 66. Plus One"
   ]
  },
  {
   "cell_type": "code",
   "execution_count": 78,
   "metadata": {},
   "outputs": [],
   "source": [
    "class Solution:\n",
    "    def plusOne(self, digits):\n",
    "        \"\"\"\n",
    "        :type digits: List[int]\n",
    "        :rtype: List[int]\n",
    "        \"\"\"\n",
    "        carry = 1\n",
    "        for i in range(len(digits)-1, -1, -1):\n",
    "            digits[i] += carry\n",
    "            if digits[i] < 10:\n",
    "                carry = 0\n",
    "                break\n",
    "            else:\n",
    "                digits[i] = 0\n",
    "                \n",
    "            print(digits)\n",
    "        return [1] + digits if carry == 1 else digits"
   ]
  },
  {
   "cell_type": "code",
   "execution_count": 79,
   "metadata": {},
   "outputs": [
    {
     "name": "stdout",
     "output_type": "stream",
     "text": [
      "[1, 0]\n"
     ]
    },
    {
     "data": {
      "text/plain": [
       "[2, 0]"
      ]
     },
     "execution_count": 79,
     "metadata": {},
     "output_type": "execute_result"
    }
   ],
   "source": [
    "s = Solution()\n",
    "digits = [1,9]\n",
    "s.plusOne(digits)"
   ]
  },
  {
   "cell_type": "code",
   "execution_count": 84,
   "metadata": {},
   "outputs": [
    {
     "data": {
      "text/plain": [
       "[1, 1, 0]"
      ]
     },
     "execution_count": 84,
     "metadata": {},
     "output_type": "execute_result"
    }
   ],
   "source": [
    "digits = [1,0]\n",
    "def x():\n",
    "    return [1] + digits\n",
    "\n",
    "x()"
   ]
  },
  {
   "cell_type": "markdown",
   "metadata": {},
   "source": [
    "## 158. Read N Characters Given Read4 II - Call multiple times"
   ]
  },
  {
   "cell_type": "code",
   "execution_count": 95,
   "metadata": {},
   "outputs": [],
   "source": [
    "class Solution(object):\n",
    "    head, tail, buffer = 0, 0, [''] * 4 ## 定义全局变量\n",
    "\n",
    "    def read(self, buf, n):\n",
    "        \"\"\"\n",
    "        :type buf: Destination buffer (List[str])\n",
    "        :type n: Maximum number of characters to read (int)\n",
    "        :rtype: The number of characters read (int)\n",
    "        \"\"\"\n",
    "        i = 0\n",
    "        while i < n:\n",
    "            if self.head == self.tail: ## read4 的缓存区为空的时候\n",
    "                self.head = 0\n",
    "                self.tail = read4(self.buffer) ## 开始进缓存区\n",
    "                if self.tail == 0:\n",
    "                    break\n",
    "            while i < n and self.head < self.tail:\n",
    "                buf[i] = self.buffer[self.head] ## 读出缓存区的变量\n",
    "                i += 1\n",
    "                self.head += 1\n",
    "        return i"
   ]
  },
  {
   "cell_type": "code",
   "execution_count": 99,
   "metadata": {},
   "outputs": [
    {
     "data": {
      "text/plain": [
       "['', 'b', 'c']"
      ]
     },
     "execution_count": 99,
     "metadata": {},
     "output_type": "execute_result"
    }
   ],
   "source": [
    "buf = ['a','b','c']\n",
    "buf[0] = ''\n",
    "buf"
   ]
  },
  {
   "cell_type": "markdown",
   "metadata": {},
   "source": [
    "## 159. Longest Substring with At Most Two Distinct Characters (Sliding Window)\n",
    "\n",
    "O(N)"
   ]
  },
  {
   "cell_type": "code",
   "execution_count": null,
   "metadata": {},
   "outputs": [],
   "source": [
    "from collections import defaultdict\n",
    "class Solution:\n",
    "    def lengthOfLongestSubstringTwoDistinct(self, s: 'str') -> 'int':\n",
    "        n = len(s) \n",
    "        if n < 3:\n",
    "            return n\n",
    "        \n",
    "        # sliding window left and right pointers\n",
    "        left, right = 0, 0\n",
    "        # hashmap character -> its rightmost position \n",
    "        # in the sliding window\n",
    "        hashmap = defaultdict()\n",
    "\n",
    "        max_len = 2\n",
    "        \n",
    "        while right < n:\n",
    "            # slidewindow contains less than 3 characters\n",
    "            if len(hashmap) < 3:\n",
    "                hashmap[s[right]] = right\n",
    "                right += 1\n",
    "\n",
    "            # slidewindow contains 3 characters\n",
    "            if len(hashmap) == 3:\n",
    "                # delete the leftmost character\n",
    "                del_idx = min(hashmap.values())\n",
    "                del hashmap[s[del_idx]]\n",
    "                # move left pointer of the slidewindow\n",
    "                left = del_idx + 1\n",
    "\n",
    "            max_len = max(max_len, right - left)\n",
    "\n",
    "        return max_len"
   ]
  },
  {
   "cell_type": "markdown",
   "metadata": {},
   "source": [
    "## 163. Missing Ranges \n",
    "\n",
    "O(N)"
   ]
  },
  {
   "cell_type": "code",
   "execution_count": 104,
   "metadata": {},
   "outputs": [],
   "source": [
    "class Solution:\n",
    "    def findMissingRanges(self, nums, lower, upper):\n",
    "        result = []\n",
    "        nums.append(upper+1)\n",
    "        pre = lower - 1\n",
    "        \n",
    "        for i in nums:\n",
    "            if i == pre + 2:\n",
    "                result.append(str(i-1))\n",
    "#                 print('result1=', result)\n",
    "            elif i > pre + 2:\n",
    "                result.append(str(pre + 1) + \"->\" + str(i -1))\n",
    "#                 print('result2=', result)\n",
    "            pre = i\n",
    "#             print('pre=', pre)\n",
    "#             print()\n",
    "        return result"
   ]
  },
  {
   "cell_type": "code",
   "execution_count": 105,
   "metadata": {},
   "outputs": [
    {
     "name": "stdout",
     "output_type": "stream",
     "text": [
      "pre= 0\n",
      "\n",
      "pre= 1\n",
      "\n",
      "result1= ['2']\n",
      "pre= 3\n",
      "\n",
      "result2= ['2', '4->49']\n",
      "pre= 50\n",
      "\n",
      "result2= ['2', '4->49', '51->74']\n",
      "pre= 75\n",
      "\n",
      "result2= ['2', '4->49', '51->74', '76->99']\n",
      "pre= 100\n",
      "\n"
     ]
    },
    {
     "data": {
      "text/plain": [
       "['2', '4->49', '51->74', '76->99']"
      ]
     },
     "execution_count": 105,
     "metadata": {},
     "output_type": "execute_result"
    }
   ],
   "source": [
    "s = Solution()\n",
    "nums = [0, 1, 3, 50, 75]\n",
    "s.findMissingRanges(nums, 0, 99)"
   ]
  },
  {
   "cell_type": "markdown",
   "metadata": {},
   "source": [
    "## 681. Next Closest Time\n",
    "\n",
    "O(1)"
   ]
  },
  {
   "cell_type": "code",
   "execution_count": 108,
   "metadata": {},
   "outputs": [],
   "source": [
    "class Solution(object):\n",
    "    def nextClosestTime(self, time):\n",
    "        cur = 60 * int(time[:2]) + int(time[3:])\n",
    "#         print('cur=', cur)\n",
    "        allowed = {int(x) for x in time if x != ':'}\n",
    "#         print('allowed=', allowed)\n",
    "        while True:\n",
    "            cur = (cur + 1) % (24 * 60)\n",
    "#             print('cur=', cur)\n",
    "            if all(digit in allowed\n",
    "                    for block in divmod(cur, 60)\n",
    "                    for digit in divmod(block, 10)):\n",
    "                return \"{:02d}:{:02d}\".format(*divmod(cur, 60))"
   ]
  },
  {
   "cell_type": "code",
   "execution_count": 109,
   "metadata": {},
   "outputs": [
    {
     "name": "stdout",
     "output_type": "stream",
     "text": [
      "cur= 1174\n",
      "allowed= {1, 3, 4, 9}\n",
      "cur= 1175\n",
      "cur= 1176\n",
      "cur= 1177\n",
      "cur= 1178\n",
      "cur= 1179\n"
     ]
    },
    {
     "data": {
      "text/plain": [
       "'19:39'"
      ]
     },
     "execution_count": 109,
     "metadata": {},
     "output_type": "execute_result"
    }
   ],
   "source": [
    "s = Solution()\n",
    "time = \"19:34\"\n",
    "s.nextClosestTime(time)"
   ]
  },
  {
   "cell_type": "code",
   "execution_count": 111,
   "metadata": {},
   "outputs": [
    {
     "data": {
      "text/plain": [
       "(2, 0)"
      ]
     },
     "execution_count": 111,
     "metadata": {},
     "output_type": "execute_result"
    }
   ],
   "source": [
    "divmod(120, 60)"
   ]
  },
  {
   "cell_type": "markdown",
   "metadata": {},
   "source": [
    "Linked List"
   ]
  },
  {
   "cell_type": "markdown",
   "metadata": {},
   "source": [
    "## 19. Remove Nth Node From End of List"
   ]
  },
  {
   "cell_type": "code",
   "execution_count": null,
   "metadata": {},
   "outputs": [],
   "source": [
    "# Definition for singly-linked list.\n",
    "# class ListNode:\n",
    "#     def __init__(self, x):\n",
    "#         self.val = x\n",
    "#         self.next = None\n",
    "\n",
    "class Solution(object):\n",
    "    def removeNthFromEnd(self, head, n):\n",
    "        \"\"\"\n",
    "        :type head: ListNode\n",
    "        :type n: int\n",
    "        :rtype: ListNode\n",
    "        \"\"\"\n",
    "        slow = fast = dummy = ListNode(-1)\n",
    "        dummy.next = head\n",
    "        for i in range(n):\n",
    "            fast = fast.next\n",
    "        while fast.next:\n",
    "            fast = fast.next\n",
    "            slow = slow.next\n",
    "        slow.next = slow.next.next\n",
    "        return dummy.next"
   ]
  },
  {
   "cell_type": "markdown",
   "metadata": {},
   "source": [
    "Tree"
   ]
  },
  {
   "cell_type": "markdown",
   "metadata": {},
   "source": [
    "## 399. Evaluate Division\n",
    "\n",
    "Although this looks like a math problem, we can easily model it with graph.\n",
    "\n",
    "For example:\n",
    "Given:\n",
    "a/b = 2.0, b/c = 3.0\n",
    "We can build a directed graph:\n",
    "a -- 2.0 --> b -- 3.0 --> c\n",
    "If we were asked to find a/c, we have:\n",
    "a/c = a/b * b/c = 2.0 * 3.0\n",
    "In the graph, it is the product of costs of edges.\n",
    "\n",
    "Do notice that, 2 edges need to added into the graph with one given equation,\n",
    "because with a/b we also get result of b/a, which is the reciprocal of a/b.\n",
    "\n",
    "so the previous example also gives edges:\n",
    "c -- 0.333 --> b -- 0.5 --> a\n",
    "\n",
    "Now we know how to model this problem, what we need to do is simply build the\n",
    "graph with given equations, and traverse the graph, either DFS or BFS, to find a path\n",
    "for a given query, and the result is the product of costs of edges on the path.\n",
    "\n",
    "One optimization, which is not implemented in the code, is to \"compress\" paths for\n",
    "past queries, which will make future searches faster. This is the same idea used in\n",
    "compressing paths in union find set. So after a query is conducted and a result is found,\n",
    "we add two edges for this query if these edges are not already in the graph.\n",
    "\n",
    "Given the number of variables N, and number of equations E,\n",
    "building the graph takes O(E), each query takes O(N), space for graph takes O(E)\n",
    "\n",
    "I think if we start to compress paths, the graph will grow to O(N^2), and we\n",
    "can optimize the query to O(1), please correct me if I'm wrong.\n",
    "\n"
   ]
  },
  {
   "cell_type": "code",
   "execution_count": 116,
   "metadata": {},
   "outputs": [],
   "source": [
    "class Solution(object):\n",
    "    def calcEquation(self, equations, values, queries):\n",
    "\n",
    "        graph = {}\n",
    "        \n",
    "        def build_graph(equations, values):\n",
    "            def add_edge(f, t, value):\n",
    "                if f in graph:\n",
    "                    graph[f].append((t, value))\n",
    "                else:\n",
    "                    graph[f] = [(t, value)]\n",
    "            \n",
    "            for vertices, value in zip(equations, values):\n",
    "                f, t = vertices\n",
    "                add_edge(f, t, value)\n",
    "                add_edge(t, f, 1/value)\n",
    "        \n",
    "        def find_path(query):\n",
    "            b, e = query\n",
    "            \n",
    "            if b not in graph or e not in graph:\n",
    "                return -1.0\n",
    "                \n",
    "            q = [(b, 1.0)]\n",
    "            visited = set()\n",
    "            \n",
    "            while q:\n",
    "                front, cur_product = q.pop(0)\n",
    "                if front == e:\n",
    "                    return cur_product\n",
    "                visited.add(front)\n",
    "                for neighbor, value in graph[front]:\n",
    "                    if neighbor not in visited:\n",
    "                        q.append((neighbor, cur_product*value))\n",
    "            \n",
    "            return -1.0\n",
    "        \n",
    "        build_graph(equations, values)\n",
    "        return [find_path(q) for q in queries]"
   ]
  },
  {
   "cell_type": "code",
   "execution_count": 118,
   "metadata": {},
   "outputs": [
    {
     "name": "stdout",
     "output_type": "stream",
     "text": [
      "vertices= ['a', 'b']\n",
      "value= 2.0\n",
      "vertices= ['b', 'c']\n",
      "value= 3.0\n"
     ]
    },
    {
     "data": {
      "text/plain": [
       "{'a': [('b', 2.0)],\n",
       " 'b': [('a', 0.5), ('c', 3.0)],\n",
       " 'c': [('b', 0.3333333333333333)]}"
      ]
     },
     "execution_count": 118,
     "metadata": {},
     "output_type": "execute_result"
    }
   ],
   "source": [
    "graph = {}\n",
    "        \n",
    "def build_graph(equations, values):\n",
    "    def add_edge(f, t, value):\n",
    "        if f in graph:\n",
    "            graph[f].append((t, value))\n",
    "        else:\n",
    "            graph[f] = [(t, value)]\n",
    "\n",
    "    for vertices, value in zip(equations, values):\n",
    "        print('vertices=', vertices)\n",
    "        print('value=', value)\n",
    "        f, t = vertices\n",
    "        add_edge(f, t, value)\n",
    "        add_edge(t, f, 1/value)\n",
    "        \n",
    "equations = [ [\"a\", \"b\"], [\"b\", \"c\"] ]\n",
    "values = [2.0, 3.0]\n",
    "build_graph(equations, values)\n",
    "graph"
   ]
  },
  {
   "cell_type": "code",
   "execution_count": 125,
   "metadata": {},
   "outputs": [
    {
     "name": "stdout",
     "output_type": "stream",
     "text": [
      "front= a\n",
      "cur_product= 1.0\n",
      "visited {'a'}\n",
      "neighbor= b\n",
      "value= 2.0\n",
      "q= [('b', 2.0)]\n",
      "\n",
      "front= b\n",
      "cur_product= 2.0\n",
      "visited {'b', 'a'}\n",
      "neighbor= a\n",
      "value= 0.5\n",
      "neighbor= c\n",
      "value= 3.0\n",
      "q= [('c', 6.0)]\n",
      "\n",
      "front= c\n",
      "cur_product= 6.0\n"
     ]
    },
    {
     "data": {
      "text/plain": [
       "6.0"
      ]
     },
     "execution_count": 125,
     "metadata": {},
     "output_type": "execute_result"
    }
   ],
   "source": [
    "def find_path(query):\n",
    "            b, e = query\n",
    "            \n",
    "            if b not in graph or e not in graph:\n",
    "                return -1.0\n",
    "                \n",
    "            q = [(b, 1.0)]\n",
    "            visited = set()\n",
    "            \n",
    "            while q:\n",
    "                front, cur_product = q.pop(0)\n",
    "#                 print('front=', front)\n",
    "#                 print('cur_product=', cur_product)\n",
    "                \n",
    "                if front == e:\n",
    "                    return cur_product\n",
    "\n",
    "                visited.add(front)\n",
    "#                 print('visited', visited)\n",
    "                \n",
    "                for neighbor, value in graph[front]:\n",
    "#                     print('neighbor=', neighbor)\n",
    "#                     print('value=', value)\n",
    "                    if neighbor not in visited:\n",
    "                        q.append((neighbor, cur_product*value))\n",
    "#                         print('q=', q) \n",
    "                print()          \n",
    "            return -1.0    \n",
    "query = ['a','c']\n",
    "find_path(query)"
   ]
  },
  {
   "cell_type": "markdown",
   "metadata": {},
   "source": [
    "Recursion"
   ]
  },
  {
   "cell_type": "markdown",
   "metadata": {},
   "source": [
    "## 425. Word Square"
   ]
  },
  {
   "cell_type": "code",
   "execution_count": 142,
   "metadata": {},
   "outputs": [],
   "source": [
    "from collections import defaultdict\n",
    "\n",
    "class Solution:\n",
    "    def wordSquares(self, words):\n",
    "        \"\"\"\n",
    "        :type words: List[str]\n",
    "        :rtype: List[List[str]]\n",
    "        \"\"\"\n",
    "        \n",
    "        n = len(words[0]) # all words same length\n",
    "        output = []\n",
    "        prefixes = defaultdict(list)\n",
    "        \n",
    "        for word in words:\n",
    "            for i in range(len(word)):\n",
    "                prefixes[word[:i]].append(word)\n",
    "                \n",
    "        print(prefixes)        \n",
    "        \n",
    "        def helper(cur):\n",
    "            if len(cur) == n:\n",
    "                print('len=', len(cur))\n",
    "                output.append(cur)\n",
    "                return\n",
    "        \n",
    "            prefix = ''\n",
    "            for word in cur:\n",
    "                prefix += word[len(cur)]\n",
    "                print('prefix=', prefix)\n",
    "\n",
    "            for word in prefixes[prefix]:\n",
    "                helper(cur + [word])\n",
    "                \n",
    "            print()\n",
    "        for word in words:\n",
    "            helper([word])\n",
    "            \n",
    "        return output"
   ]
  },
  {
   "cell_type": "code",
   "execution_count": 143,
   "metadata": {},
   "outputs": [
    {
     "name": "stdout",
     "output_type": "stream",
     "text": [
      "defaultdict(<class 'list'>, {'': ['area', 'lead', 'wall', 'lady', 'ball'], 'a': ['area'], 'ar': ['area'], 'are': ['area'], 'l': ['lead', 'lady'], 'le': ['lead'], 'lea': ['lead'], 'w': ['wall'], 'wa': ['wall'], 'wal': ['wall'], 'la': ['lady'], 'lad': ['lady'], 'b': ['ball'], 'ba': ['ball'], 'bal': ['ball']})\n",
      "prefix= r\n",
      "\n",
      "prefix= e\n",
      "\n",
      "prefix= a\n",
      "prefix= l\n",
      "prefix= le\n",
      "prefix= l\n",
      "prefix= la\n",
      "prefix= lad\n",
      "len= 4\n",
      "\n",
      "\n",
      "\n",
      "prefix= a\n",
      "prefix= d\n",
      "prefix= de\n",
      "\n",
      "\n",
      "prefix= a\n",
      "prefix= l\n",
      "prefix= le\n",
      "prefix= l\n",
      "prefix= la\n",
      "prefix= lad\n",
      "len= 4\n",
      "\n",
      "\n",
      "\n"
     ]
    },
    {
     "data": {
      "text/plain": [
       "[['wall', 'area', 'lead', 'lady'], ['ball', 'area', 'lead', 'lady']]"
      ]
     },
     "execution_count": 143,
     "metadata": {},
     "output_type": "execute_result"
    }
   ],
   "source": [
    "words = [\"area\",\"lead\",\"wall\",\"lady\",\"ball\"]\n",
    "s = Solution()\n",
    "s.wordSquares(words)"
   ]
  },
  {
   "cell_type": "markdown",
   "metadata": {},
   "source": [
    "## Strobogrammatic Number II"
   ]
  },
  {
   "cell_type": "code",
   "execution_count": 8,
   "metadata": {},
   "outputs": [],
   "source": [
    "class Solution:\n",
    "    def findStrobogrammatic(self, n):\n",
    "        nums = n%2 * list('018') or ['']\n",
    "        print('nums=', nums)\n",
    "        while n > 1:\n",
    "            n -= 2\n",
    "            for a, b in '00 11 88 69 96'.split()[n<2:]:\n",
    "                print(a, b)\n",
    "            nums = [a + num + b for a, b in '00 11 88 69 96'.split()[n<2:] for num in nums]\n",
    "        return nums\n",
    "        "
   ]
  },
  {
   "cell_type": "code",
   "execution_count": 9,
   "metadata": {},
   "outputs": [
    {
     "name": "stdout",
     "output_type": "stream",
     "text": [
      "nums= ['']\n",
      "1 1\n",
      "8 8\n",
      "6 9\n",
      "9 6\n"
     ]
    },
    {
     "data": {
      "text/plain": [
       "['11', '88', '69', '96']"
      ]
     },
     "execution_count": 9,
     "metadata": {},
     "output_type": "execute_result"
    }
   ],
   "source": [
    "s = Solution()\n",
    "s.findStrobogrammatic(2)"
   ]
  },
  {
   "cell_type": "code",
   "execution_count": 12,
   "metadata": {},
   "outputs": [
    {
     "data": {
      "text/plain": [
       "['11', '88', '69', '96']"
      ]
     },
     "execution_count": 12,
     "metadata": {},
     "output_type": "execute_result"
    }
   ],
   "source": [
    "'00 11 88 69 96'.split()[1:]"
   ]
  },
  {
   "cell_type": "markdown",
   "metadata": {},
   "source": [
    "## 410. Split Array Largest Sum\n",
    "\n",
    "O(N)"
   ]
  },
  {
   "cell_type": "code",
   "execution_count": 132,
   "metadata": {},
   "outputs": [],
   "source": [
    "class Solution:\n",
    "    def splitArray(self, nums, m):\n",
    "        l = max(max(nums), sum(nums) // m) \n",
    "#         print('l=',l)\n",
    "        r = sum(nums)\n",
    "#         print('r=',r)\n",
    "        while l < r:\n",
    "            mid = l + (r-l) // 2\n",
    "#             print('mid=',mid)\n",
    "            buckets = 1 \n",
    "            sums = 0\n",
    "            for n in nums:\n",
    "                if sums + n > mid:\n",
    "                    buckets += 1\n",
    "                    sums = 0\n",
    "                sums += n\n",
    "                \n",
    "#             print('buckets=', buckets)\n",
    "#             print('sums=', sums)\n",
    "                \n",
    "            if buckets <= m:\n",
    "                r = mid\n",
    "            else:\n",
    "                l = mid + 1\n",
    "        return l"
   ]
  },
  {
   "cell_type": "code",
   "execution_count": 133,
   "metadata": {},
   "outputs": [
    {
     "name": "stdout",
     "output_type": "stream",
     "text": [
      "l= 16\n",
      "r= 32\n",
      "mid= 24\n",
      "buckets= 2\n",
      "sums= 8\n",
      "mid= 20\n",
      "buckets= 2\n",
      "sums= 18\n",
      "mid= 18\n",
      "buckets= 2\n",
      "sums= 18\n",
      "mid= 17\n",
      "buckets= 3\n",
      "sums= 8\n"
     ]
    },
    {
     "data": {
      "text/plain": [
       "18"
      ]
     },
     "execution_count": 133,
     "metadata": {},
     "output_type": "execute_result"
    }
   ],
   "source": [
    "s = Solution()\n",
    "nums = [7,2,5,10,8]\n",
    "m = 2\n",
    "s.splitArray(nums, m)"
   ]
  },
  {
   "cell_type": "markdown",
   "metadata": {},
   "source": [
    "## 34. Find First and Last Position of Element in Sorted Array\n",
    "\n",
    "O(logN)"
   ]
  },
  {
   "cell_type": "code",
   "execution_count": null,
   "metadata": {},
   "outputs": [],
   "source": [
    "class Solution:\n",
    "    # returns leftmost (or rightmost) index at which `target` should be inserted in sorted\n",
    "    # array `nums` via binary search.\n",
    "    def extreme_insertion_index(self, nums, target, left):\n",
    "        lo = 0\n",
    "        hi = len(nums)\n",
    "\n",
    "        while lo < hi:\n",
    "            mid = (lo + hi) // 2\n",
    "            if nums[mid] > target or (left and target == nums[mid]):\n",
    "                hi = mid\n",
    "            else:\n",
    "                lo = mid+1\n",
    "\n",
    "        return lo\n",
    "\n",
    "\n",
    "    def searchRange(self, nums, target):\n",
    "        left_idx = self.extreme_insertion_index(nums, target, True)\n",
    "\n",
    "        # assert that `left_idx` is within the array bounds and that `target`\n",
    "        # is actually in `nums`.\n",
    "        if left_idx == len(nums) or nums[left_idx] != target:\n",
    "            return [-1, -1]\n",
    "\n",
    "        return [left_idx, self.extreme_insertion_index(nums, target, False)-1]"
   ]
  },
  {
   "cell_type": "markdown",
   "metadata": {},
   "source": [
    "## 57. Insert Interval"
   ]
  },
  {
   "cell_type": "code",
   "execution_count": 30,
   "metadata": {},
   "outputs": [],
   "source": [
    "class Solution:\n",
    "    def insert(self, intervals, newInterval):\n",
    "        s, e = newInterval[0], newInterval[-1]\n",
    "        left = [i for i in intervals if i[-1] < s]\n",
    "        print('left=', left)\n",
    "        right = [i for i in intervals if i[0] > e]\n",
    "        print('right=', right)\n",
    "        if left + right != intervals:\n",
    "            s = min(s, intervals[len(left)][0])\n",
    "            print('s=', s)\n",
    "            e = max(e, intervals[~len(right)][-1])\n",
    "            print('e=', e)\n",
    "            print(intervals[~len(right)][-1])\n",
    "            \n",
    "        return left + [[s, e]] + right"
   ]
  },
  {
   "cell_type": "code",
   "execution_count": 31,
   "metadata": {},
   "outputs": [
    {
     "name": "stdout",
     "output_type": "stream",
     "text": [
      "left= []\n",
      "right= [[6, 9]]\n",
      "s= 1\n",
      "e= 5\n",
      "3\n"
     ]
    },
    {
     "data": {
      "text/plain": [
       "[[1, 5], [6, 9]]"
      ]
     },
     "execution_count": 31,
     "metadata": {},
     "output_type": "execute_result"
    }
   ],
   "source": [
    "intervals = [[1,3],[6,9]]\n",
    "newInterval = [2, 5]\n",
    "s = Solution()\n",
    "s.insert(intervals, newInterval)"
   ]
  },
  {
   "cell_type": "code",
   "execution_count": null,
   "metadata": {},
   "outputs": [],
   "source": [
    "def insert(self, intervals, newInterval):\n",
    "    s, e = newInterval.start, newInterval.end\n",
    "    left, right = [], []\n",
    "    for i in intervals:\n",
    "        if i.end < s:\n",
    "            left += i,\n",
    "        elif i.start > e:\n",
    "            right += i,\n",
    "        else:\n",
    "            s = min(s, i.start)\n",
    "            e = max(e, i.end)\n",
    "    return left + [Interval(s, e)] + right"
   ]
  },
  {
   "cell_type": "markdown",
   "metadata": {},
   "source": [
    "## 315. Count of Smaller Numbers After Self\n",
    "\n",
    "https://docs.python.org/3.0/library/bisect.html\n",
    "\n",
    "O(N^2)"
   ]
  },
  {
   "cell_type": "code",
   "execution_count": 25,
   "metadata": {},
   "outputs": [],
   "source": [
    "import bisect\n",
    "class Solution:\n",
    "    def countSmaller(self, nums):\n",
    "        counts = []\n",
    "        done = []\n",
    "        for num in nums[::-1]:\n",
    "            counts.append(bisect.bisect_left(done, num))\n",
    "            print('counts=', counts)\n",
    "            bisect.insort(done, num)\n",
    "            print('done=', done)\n",
    "        return counts[::-1]"
   ]
  },
  {
   "cell_type": "code",
   "execution_count": 26,
   "metadata": {},
   "outputs": [
    {
     "name": "stdout",
     "output_type": "stream",
     "text": [
      "counts= [0]\n",
      "done= [1]\n",
      "counts= [0, 1]\n",
      "done= [1, 6]\n",
      "counts= [0, 1, 1]\n",
      "done= [1, 2, 6]\n",
      "counts= [0, 1, 1, 2]\n",
      "done= [1, 2, 5, 6]\n"
     ]
    },
    {
     "data": {
      "text/plain": [
       "[2, 1, 1, 0]"
      ]
     },
     "execution_count": 26,
     "metadata": {},
     "output_type": "execute_result"
    }
   ],
   "source": [
    "s = Solution()\n",
    "nums = [5,2,6,1]\n",
    "s.countSmaller(nums)"
   ]
  },
  {
   "cell_type": "markdown",
   "metadata": {},
   "source": [
    "## 852. Peak Index in a Mountain Array\n",
    "\n",
    "N(logN)"
   ]
  },
  {
   "cell_type": "code",
   "execution_count": null,
   "metadata": {},
   "outputs": [],
   "source": [
    "class Solution(object):\n",
    "    def peakIndexInMountainArray(self, A):\n",
    "        l = 0\n",
    "        r = len(A) - 1\n",
    "        while l < r:\n",
    "            mid = (l + r) // 2\n",
    "            if A[mid] < A[mid + 1]:\n",
    "                l = mid + 1\n",
    "            else:\n",
    "                r = mid\n",
    "        return l"
   ]
  }
 ],
 "metadata": {
  "kernelspec": {
   "display_name": "Python 3",
   "language": "python",
   "name": "python3"
  },
  "language_info": {
   "codemirror_mode": {
    "name": "ipython",
    "version": 3
   },
   "file_extension": ".py",
   "mimetype": "text/x-python",
   "name": "python",
   "nbconvert_exporter": "python",
   "pygments_lexer": "ipython3",
   "version": "3.6.8"
  },
  "toc": {
   "base_numbering": 1,
   "nav_menu": {
    "height": "654px",
    "width": "421px"
   },
   "number_sections": true,
   "sideBar": false,
   "skip_h1_title": false,
   "title_cell": "Table of Contents",
   "title_sidebar": "Contents",
   "toc_cell": true,
   "toc_position": {},
   "toc_section_display": true,
   "toc_window_display": false
  },
  "toc-autonumbering": true,
  "toc-showtags": false
 },
 "nbformat": 4,
 "nbformat_minor": 2
}
