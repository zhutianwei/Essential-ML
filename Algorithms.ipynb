{
 "cells": [
  {
   "cell_type": "markdown",
   "metadata": {
    "toc": true
   },
   "source": [
    "<h1>Table of Contents<span class=\"tocSkip\"></span></h1>\n",
    "<div class=\"toc\"><ul class=\"toc-item\"><li><span><a href=\"#Data-Structure-and-Algorithm\" data-toc-modified-id=\"Data-Structure-and-Algorithm-1\"><span class=\"toc-item-num\">1&nbsp;&nbsp;</span>Data Structure and Algorithm</a></span><ul class=\"toc-item\"><li><span><a href=\"#LinkedList\" data-toc-modified-id=\"LinkedList-1.1\"><span class=\"toc-item-num\">1.1&nbsp;&nbsp;</span>LinkedList</a></span></li><li><span><a href=\"#Stack\" data-toc-modified-id=\"Stack-1.2\"><span class=\"toc-item-num\">1.2&nbsp;&nbsp;</span>Stack</a></span></li><li><span><a href=\"#Queues\" data-toc-modified-id=\"Queues-1.3\"><span class=\"toc-item-num\">1.3&nbsp;&nbsp;</span>Queues</a></span></li><li><span><a href=\"#Heap\" data-toc-modified-id=\"Heap-1.4\"><span class=\"toc-item-num\">1.4&nbsp;&nbsp;</span>Heap</a></span></li><li><span><a href=\"#Trees\" data-toc-modified-id=\"Trees-1.5\"><span class=\"toc-item-num\">1.5&nbsp;&nbsp;</span>Trees</a></span></li><li><span><a href=\"#Graph\" data-toc-modified-id=\"Graph-1.6\"><span class=\"toc-item-num\">1.6&nbsp;&nbsp;</span>Graph</a></span></li><li><span><a href=\"#Chapter-4:-Recursion\" data-toc-modified-id=\"Chapter-4:-Recursion-1.7\"><span class=\"toc-item-num\">1.7&nbsp;&nbsp;</span>Chapter 4: Recursion</a></span></li><li><span><a href=\"#Chapter-12:-Sorting\" data-toc-modified-id=\"Chapter-12:-Sorting-1.8\"><span class=\"toc-item-num\">1.8&nbsp;&nbsp;</span>Chapter 12: Sorting</a></span></li><li><span><a href=\"#1.-Two-Sum\" data-toc-modified-id=\"1.-Two-Sum-1.9\"><span class=\"toc-item-num\">1.9&nbsp;&nbsp;</span>1. Two Sum</a></span></li><li><span><a href=\"#2.-Add-Two-Numbers\" data-toc-modified-id=\"2.-Add-Two-Numbers-1.10\"><span class=\"toc-item-num\">1.10&nbsp;&nbsp;</span>2. Add Two Numbers</a></span></li><li><span><a href=\"#Add-Two-Numbers-II\" data-toc-modified-id=\"Add-Two-Numbers-II-1.11\"><span class=\"toc-item-num\">1.11&nbsp;&nbsp;</span>Add Two Numbers II</a></span></li><li><span><a href=\"#3.-Longest-Substring-Without-Repeating-Characters\" data-toc-modified-id=\"3.-Longest-Substring-Without-Repeating-Characters-1.12\"><span class=\"toc-item-num\">1.12&nbsp;&nbsp;</span>3. Longest Substring Without Repeating Characters</a></span></li><li><span><a href=\"#4.-Median-of-Two-Sorted-Arrays\" data-toc-modified-id=\"4.-Median-of-Two-Sorted-Arrays-1.13\"><span class=\"toc-item-num\">1.13&nbsp;&nbsp;</span>4. Median of Two Sorted Arrays</a></span></li><li><span><a href=\"#5.-Longest-Palindromic-Substring\" data-toc-modified-id=\"5.-Longest-Palindromic-Substring-1.14\"><span class=\"toc-item-num\">1.14&nbsp;&nbsp;</span>5. Longest Palindromic Substring</a></span></li><li><span><a href=\"#6.-Letter-Combinations\" data-toc-modified-id=\"6.-Letter-Combinations-1.15\"><span class=\"toc-item-num\">1.15&nbsp;&nbsp;</span>6. Letter Combinations</a></span></li><li><span><a href=\"#15.-3Sum\" data-toc-modified-id=\"15.-3Sum-1.16\"><span class=\"toc-item-num\">1.16&nbsp;&nbsp;</span>15. 3Sum</a></span></li><li><span><a href=\"#20.-Valid-Parentheses\" data-toc-modified-id=\"20.-Valid-Parentheses-1.17\"><span class=\"toc-item-num\">1.17&nbsp;&nbsp;</span>20. Valid Parentheses</a></span></li><li><span><a href=\"#21-Merge-Two-Sorted-Lists\" data-toc-modified-id=\"21-Merge-Two-Sorted-Lists-1.18\"><span class=\"toc-item-num\">1.18&nbsp;&nbsp;</span>21 Merge Two Sorted Lists</a></span></li><li><span><a href=\"#42.-Trapping-Rain-Water\" data-toc-modified-id=\"42.-Trapping-Rain-Water-1.19\"><span class=\"toc-item-num\">1.19&nbsp;&nbsp;</span>42. Trapping Rain Water</a></span></li><li><span><a href=\"#49.-Group-Anagrams\" data-toc-modified-id=\"49.-Group-Anagrams-1.20\"><span class=\"toc-item-num\">1.20&nbsp;&nbsp;</span>49. Group Anagrams</a></span></li><li><span><a href=\"#53.-Maximum-Subarray\" data-toc-modified-id=\"53.-Maximum-Subarray-1.21\"><span class=\"toc-item-num\">1.21&nbsp;&nbsp;</span>53. Maximum Subarray</a></span></li><li><span><a href=\"#54.-Spiral-Matrix\" data-toc-modified-id=\"54.-Spiral-Matrix-1.22\"><span class=\"toc-item-num\">1.22&nbsp;&nbsp;</span>54. Spiral Matrix</a></span></li><li><span><a href=\"#88.-Merge-Sorted-Arrays\" data-toc-modified-id=\"88.-Merge-Sorted-Arrays-1.23\"><span class=\"toc-item-num\">1.23&nbsp;&nbsp;</span>88. Merge Sorted Arrays</a></span></li><li><span><a href=\"#103.-Binary-Tree-Zigzag-Level-Order-Transversal\" data-toc-modified-id=\"103.-Binary-Tree-Zigzag-Level-Order-Transversal-1.24\"><span class=\"toc-item-num\">1.24&nbsp;&nbsp;</span>103. Binary Tree Zigzag Level Order Transversal</a></span></li><li><span><a href=\"#121.-Best-Time-to-Buy-and-Sell-Stock\" data-toc-modified-id=\"121.-Best-Time-to-Buy-and-Sell-Stock-1.25\"><span class=\"toc-item-num\">1.25&nbsp;&nbsp;</span>121. Best Time to Buy and Sell Stock</a></span></li><li><span><a href=\"#127-Word-Ladder\" data-toc-modified-id=\"127-Word-Ladder-1.26\"><span class=\"toc-item-num\">1.26&nbsp;&nbsp;</span>127 Word Ladder</a></span></li><li><span><a href=\"#138.-Copy-List-with-Random-Pointer\" data-toc-modified-id=\"138.-Copy-List-with-Random-Pointer-1.27\"><span class=\"toc-item-num\">1.27&nbsp;&nbsp;</span>138. Copy List with Random Pointer</a></span></li><li><span><a href=\"#146.-LRU-cache\" data-toc-modified-id=\"146.-LRU-cache-1.28\"><span class=\"toc-item-num\">1.28&nbsp;&nbsp;</span>146. LRU cache</a></span></li><li><span><a href=\"#151.-Reverse-Words-in-String\" data-toc-modified-id=\"151.-Reverse-Words-in-String-1.29\"><span class=\"toc-item-num\">1.29&nbsp;&nbsp;</span>151. Reverse Words in String</a></span></li><li><span><a href=\"#165.-Compare-Version-Numbers\" data-toc-modified-id=\"165.-Compare-Version-Numbers-1.30\"><span class=\"toc-item-num\">1.30&nbsp;&nbsp;</span>165. Compare Version Numbers</a></span></li><li><span><a href=\"#200.-Number-of-Island\" data-toc-modified-id=\"200.-Number-of-Island-1.31\"><span class=\"toc-item-num\">1.31&nbsp;&nbsp;</span>200. Number of Island</a></span></li><li><span><a href=\"#206.-Reverse-Linked-List\" data-toc-modified-id=\"206.-Reverse-Linked-List-1.32\"><span class=\"toc-item-num\">1.32&nbsp;&nbsp;</span>206. Reverse Linked List</a></span></li><li><span><a href=\"#215.-Kth-Largest-Element-in-an-Array\" data-toc-modified-id=\"215.-Kth-Largest-Element-in-an-Array-1.33\"><span class=\"toc-item-num\">1.33&nbsp;&nbsp;</span>215. Kth Largest Element in an Array</a></span></li><li><span><a href=\"#238.-Product-of-Array-Except-Self\" data-toc-modified-id=\"238.-Product-of-Array-Except-Self-1.34\"><span class=\"toc-item-num\">1.34&nbsp;&nbsp;</span>238. Product of Array Except Self</a></span></li><li><span><a href=\"#253.-Meeting-Room-II\" data-toc-modified-id=\"253.-Meeting-Room-II-1.35\"><span class=\"toc-item-num\">1.35&nbsp;&nbsp;</span>253. Meeting Room II</a></span></li><li><span><a href=\"#297.-Serialize-and-Deserialize-Binary-Tree\" data-toc-modified-id=\"297.-Serialize-and-Deserialize-Binary-Tree-1.36\"><span class=\"toc-item-num\">1.36&nbsp;&nbsp;</span>297. Serialize and Deserialize Binary Tree</a></span></li><li><span><a href=\"#308.-Insert-Delete-GetRandom-O(1)\" data-toc-modified-id=\"308.-Insert-Delete-GetRandom-O(1)-1.37\"><span class=\"toc-item-num\">1.37&nbsp;&nbsp;</span>308. Insert Delete GetRandom O(1)</a></span></li><li><span><a href=\"#763.-Partition-Labels\" data-toc-modified-id=\"763.-Partition-Labels-1.38\"><span class=\"toc-item-num\">1.38&nbsp;&nbsp;</span>763. Partition Labels</a></span></li><li><span><a href=\"#771.-Jewesl-and-Stones\" data-toc-modified-id=\"771.-Jewesl-and-Stones-1.39\"><span class=\"toc-item-num\">1.39&nbsp;&nbsp;</span>771. Jewesl and Stones</a></span></li><li><span><a href=\"#819.-Most-Common-Word\" data-toc-modified-id=\"819.-Most-Common-Word-1.40\"><span class=\"toc-item-num\">1.40&nbsp;&nbsp;</span>819. Most Common Word</a></span></li><li><span><a href=\"#929.-Unique-Email-Adress\" data-toc-modified-id=\"929.-Unique-Email-Adress-1.41\"><span class=\"toc-item-num\">1.41&nbsp;&nbsp;</span>929. Unique Email Adress</a></span></li><li><span><a href=\"#937.-Reorder-Log-Files\" data-toc-modified-id=\"937.-Reorder-Log-Files-1.42\"><span class=\"toc-item-num\">1.42&nbsp;&nbsp;</span>937. Reorder Log Files</a></span></li><li><span><a href=\"#957.-Prison-Cells-After-N-Days\" data-toc-modified-id=\"957.-Prison-Cells-After-N-Days-1.43\"><span class=\"toc-item-num\">1.43&nbsp;&nbsp;</span>957. Prison Cells After N Days</a></span></li><li><span><a href=\"#973.-K-Closest-Point-to-Origin\" data-toc-modified-id=\"973.-K-Closest-Point-to-Origin-1.44\"><span class=\"toc-item-num\">1.44&nbsp;&nbsp;</span>973. K Closest Point to Origin</a></span></li></ul></li></ul></div>"
   ]
  },
  {
   "cell_type": "markdown",
   "metadata": {
    "toc-hr-collapsed": false
   },
   "source": [
    "# Data Structure and Algorithm\n",
    "\n",
    "* Introduction and Efficiency\n",
    "* Course Introduction\n",
    "* Syntax\n",
    "* Efficiency\n",
    "* Notation of Efficiency\n",
    "* List-Based Collections\n",
    "    * Lists/Arrays\n",
    "    * Linked Lists\n",
    "    * Stacks\n",
    "    * Queues\n",
    "* Searching and Sorting\n",
    "    * Binary Search\n",
    "    * Recursion\n",
    "    * Bubble Sort\n",
    "    * Merge Sort\n",
    "    * Quick Sort\n",
    "* Maps and Hashing\n",
    "    * Maps\n",
    "    * Hashing\n",
    "    * Collisions\n",
    "    * Hashing Conventions\n",
    "* Trees\n",
    "    * Trees\n",
    "    * Tree Traversal\n",
    "    * Binary Trees\n",
    "    * Binary Search Trees\n",
    "    * Heaps\n",
    "    * Self-Balancing Trees\n",
    "* Graphs\n",
    "    * Graphs\n",
    "    * Graph Properties\n",
    "    * Graph Representation\n",
    "    * Graph Traversal\n",
    "    * Graph Paths\n",
    "* Case Studies in Algorithms\n",
    "* Shortest Path Problem\n",
    "* Knapsack Problem\n",
    "* Traveling Salesman Problem\n",
    "* Technical Interview Tips\n",
    "* Mock Interview Breakdown\n",
    "* Additional Tips\n",
    "* Practice with Pramp"
   ]
  },
  {
   "cell_type": "code",
   "execution_count": 68,
   "metadata": {},
   "outputs": [],
   "source": [
    "from IPython.core.interactiveshell import InteractiveShell\n",
    "InteractiveShell.ast_node_interactivity = \"all\""
   ]
  },
  {
   "cell_type": "markdown",
   "metadata": {},
   "source": [
    "## LinkedList"
   ]
  },
  {
   "cell_type": "code",
   "execution_count": 3,
   "metadata": {},
   "outputs": [
    {
     "name": "stdout",
     "output_type": "stream",
     "text": [
      "3\n",
      "3\n",
      "4\n",
      "2\n",
      "4\n",
      "3\n"
     ]
    }
   ],
   "source": [
    "\"\"\"The LinkedList code from before is provided below.\n",
    "Add three functions to the LinkedList.\n",
    "\"get_position\" returns the element at a certain position.\n",
    "The \"insert\" function will add an element to a particular\n",
    "spot in the list.\n",
    "\"delete\" will delete the first element with that\n",
    "particular value.\n",
    "Then, use \"Test Run\" and \"Submit\" to run the test cases\n",
    "at the bottom.\"\"\"\n",
    "\n",
    "class Element(object):\n",
    "    def __init__(self, value):\n",
    "        self.value = value\n",
    "        self.next = None\n",
    "        \n",
    "class LinkedList(object):\n",
    "    def __init__(self, head=None):\n",
    "        self.head = head\n",
    "        \n",
    "    def append(self, new_element):\n",
    "        current = self.head\n",
    "        if self.head:\n",
    "            while current.next:\n",
    "                current = current.next\n",
    "            current.next = new_element\n",
    "        else:\n",
    "            self.head = new_element\n",
    "            \n",
    "    def get_position(self, position):\n",
    "        \"\"\"Get an element from a particular position.\n",
    "        Assume the first position is \"1\".\n",
    "        Return \"None\" if position is not in the list.\"\"\"\n",
    "        counter = 1\n",
    "        current = self.head\n",
    "        if position < 1:\n",
    "            return None\n",
    "        while current and counter <= position:\n",
    "            if counter == position:\n",
    "                return current\n",
    "            current = current.next\n",
    "            counter += 1\n",
    "        return None\n",
    "    \n",
    "    def insert(self, new_element, position):\n",
    "        \"\"\"Insert a new node at the given position.\n",
    "        Assume the first position is \"1\".\n",
    "        Inserting at position 3 means between\n",
    "        the 2nd and 3rd elements.\"\"\"\n",
    "        counter = 1\n",
    "        current = self.head\n",
    "        if position > 1:\n",
    "            while current and counter < position:\n",
    "                if counter == position - 1:\n",
    "                    new_element.next = current.next\n",
    "                    current.next = new_element\n",
    "                current = current.next\n",
    "                counter += 1\n",
    "        elif position == 1:\n",
    "            new_element.next = self.head\n",
    "            self.head = new_element\n",
    "    \n",
    "    \n",
    "    def delete(self, value):\n",
    "        \"\"\"Delete the first node with a given value.\"\"\"\n",
    "        current = self.head\n",
    "        previous = None\n",
    "        while current.value != value and current.next:\n",
    "            previous = current\n",
    "            current = current.next\n",
    "        if current.value == value:\n",
    "            if previous:\n",
    "                previous.next = current.next\n",
    "            else:\n",
    "                self.head = current.next\n",
    "\n",
    "# Test cases\n",
    "# Set up some Elements\n",
    "e1 = Element(1)\n",
    "e2 = Element(2)\n",
    "e3 = Element(3)\n",
    "e4 = Element(4)\n",
    "\n",
    "# Start setting up a LinkedList\n",
    "ll = LinkedList(e1)\n",
    "ll.append(e2)\n",
    "ll.append(e3)\n",
    "\n",
    "# Test get_position\n",
    "# Should print 3\n",
    "print(ll.head.next.next.value)\n",
    "# Should also print 3\n",
    "print(ll.get_position(3).value)\n",
    "\n",
    "# Test insert\n",
    "ll.insert(e4,3)\n",
    "# Should print 4 now\n",
    "print(ll.get_position(3).value)\n",
    "\n",
    "# Test delete\n",
    "ll.delete(1)\n",
    "# Should print 2 now\n",
    "print(ll.get_position(1).value)\n",
    "# Should print 4 now\n",
    "print(ll.get_position(2).value)\n",
    "# Should print 3 now\n",
    "print(ll.get_position(3).value)"
   ]
  },
  {
   "cell_type": "markdown",
   "metadata": {},
   "source": [
    "## Stack"
   ]
  },
  {
   "cell_type": "code",
   "execution_count": null,
   "metadata": {},
   "outputs": [],
   "source": [
    "class Stack(object):\n",
    "    def __init__(self,top=None):\n",
    "        self.ll = LinkedList(top)\n",
    "\n",
    "    def push(self, new_element):\n",
    "        \"Push (add) a new element onto the top of the stack\"\n",
    "        \n",
    "\n",
    "    def pop(self):\n",
    "        \"Pop (remove) the first element off the top of the stack and return it\"\n",
    "        \n",
    "# Test cases\n",
    "# Set up some Elements\n",
    "e1 = Element(1)\n",
    "e2 = Element(2)\n",
    "e3 = Element(3)\n",
    "e4 = Element(4)\n",
    "\n",
    "# Start setting up a Stack\n",
    "stack = Stack(e1)\n",
    "\n",
    "# Test stack functionality\n",
    "stack.push(e2)\n",
    "stack.push(e3)\n",
    "print stack.pop().value\n",
    "print stack.pop().value\n",
    "print stack.pop().value\n",
    "print stack.pop()\n",
    "stack.push(e4)\n",
    "print stack.pop().value"
   ]
  },
  {
   "cell_type": "code",
   "execution_count": 8,
   "metadata": {},
   "outputs": [
    {
     "data": {
      "text/plain": [
       "5"
      ]
     },
     "execution_count": 8,
     "metadata": {},
     "output_type": "execute_result"
    }
   ],
   "source": [
    "class Stack:\n",
    "    def __init__(self):\n",
    "        self.items = []\n",
    "\n",
    "    def is_empty(self):\n",
    "        return self.items == []\n",
    "\n",
    "    def push(self, item):\n",
    "        self.items.append(item)\n",
    "\n",
    "    def pop(self):\n",
    "        return self.items.pop()\n",
    "\n",
    "    def peek(self):\n",
    "        return self.items[len(self.items)-1]\n",
    "\n",
    "    def size(self):\n",
    "        return len(self.items)\n",
    "\n",
    "s = Stack()\n",
    "s.push(4)\n",
    "s.push(5)\n",
    "s.peek()"
   ]
  },
  {
   "cell_type": "code",
   "execution_count": null,
   "metadata": {},
   "outputs": [],
   "source": [
    "from ..exceptions import Empty\n",
    "\n",
    "class ArrayStack:\n",
    "  \"\"\"LIFO Stack implementation using a Python list as underlying storage.\"\"\"\n",
    "\n",
    "  def __init__(self):\n",
    "    \"\"\"Create an empty stack.\"\"\"\n",
    "    self._data = []                       # nonpublic list instance\n",
    "\n",
    "  def __len__(self):\n",
    "    \"\"\"Return the number of elements in the stack.\"\"\"\n",
    "    return len(self._data)\n",
    "\n",
    "  def is_empty(self):\n",
    "    \"\"\"Return True if the stack is empty.\"\"\"\n",
    "    return len(self._data) == 0\n",
    "\n",
    "  def push(self, e):\n",
    "    \"\"\"Add element e to the top of the stack.\"\"\"\n",
    "    self._data.append(e)                  # new item stored at end of list\n",
    "\n",
    "  def top(self):\n",
    "    \"\"\"Return (but do not remove) the element at the top of the stack.\n",
    "\n",
    "    Raise Empty exception if the stack is empty.\n",
    "    \"\"\"\n",
    "    if self.is_empty():\n",
    "      raise Empty('Stack is empty')\n",
    "    return self._data[-1]                 # the last item in the list\n",
    "\n",
    "  def pop(self):\n",
    "    \"\"\"Remove and return the element from the top of the stack (i.e., LIFO).\n",
    "\n",
    "    Raise Empty exception if the stack is empty.\n",
    "    \"\"\"\n",
    "    if self.is_empty():\n",
    "      raise Empty('Stack is empty')\n",
    "    return self._data.pop()               # remove last item from list"
   ]
  },
  {
   "cell_type": "code",
   "execution_count": null,
   "metadata": {},
   "outputs": [],
   "source": [
    "S = ArrayStack()                 # contents: [ ]\n",
    "S.push(5)                        # contents: [5]\n",
    "S.push(3)                        # contents: [5, 3]\n",
    "print(len(S))                    # contents: [5, 3];    outputs 2\n",
    "print(S.pop())                   # contents: [5];       outputs 3\n",
    "print(S.is_empty())              # contents: [5];       outputs False\n",
    "print(S.pop())                   # contents: [ ];       outputs 5\n",
    "print(S.is_empty())              # contents: [ ];       outputs True\n",
    "S.push(7)                        # contents: [7]\n",
    "S.push(9)                        # contents: [7, 9]\n",
    "print(S.top())                   # contents: [7, 9];    outputs 9\n",
    "S.push(4)                        # contents: [7, 9, 4]\n",
    "print(len(S))                    # contents: [7, 9, 4]; outputs 3\n",
    "print(S.pop())                   # contents: [7, 9];    outputs 4\n",
    "S.push(6)                        # contents: [7, 9, 6]\n",
    "S.push(8)                        # contents: [7, 9, 6, 8]\n",
    "print(S.pop())                   # contents: [7, 9, 6]; outputs 8"
   ]
  },
  {
   "cell_type": "markdown",
   "metadata": {},
   "source": [
    "## Queues"
   ]
  },
  {
   "cell_type": "code",
   "execution_count": 10,
   "metadata": {},
   "outputs": [],
   "source": [
    "class ArrayQueue:\n",
    "    \"\"\"FIFO queue implementation using a Python list as underlying storage.\"\"\"\n",
    "    DEFAULT_CAPACITY = 10          # moderate capacity for all new queues\n",
    "\n",
    "    def __init__(self):\n",
    "        \"\"\"Create an empty queue.\"\"\"\n",
    "        self._data = [None] * ArrayQueue.DEFAULT_CAPACITY\n",
    "        self._size = 0\n",
    "        self._front = 0\n",
    "\n",
    "    def __len__(self):\n",
    "        \"\"\"Return the number of elements in the queue.\"\"\"\n",
    "        return self._size\n",
    "\n",
    "    def is_empty(self):\n",
    "        \"\"\"Return True if the queue is empty.\"\"\"\n",
    "        return self._size == 0\n",
    "\n",
    "    def first(self):\n",
    "        \"\"\"Return (but do not remove) the element at the front of the queue.\n",
    "\n",
    "        Raise Empty exception if the queue is empty.\n",
    "        \"\"\"\n",
    "        if self.is_empty():\n",
    "            raise Empty('Queue is empty')\n",
    "        return self._data[self._front]\n",
    "\n",
    "    def dequeue(self):\n",
    "        \"\"\"Remove and return the first element of the queue (i.e., FIFO).\n",
    "\n",
    "        Raise Empty exception if the queue is empty.\n",
    "        \"\"\"\n",
    "        if self.is_empty():\n",
    "            raise Empty('Queue is empty')\n",
    "        answer = self._data[self._front]\n",
    "        self._data[self._front] = None         # help garbage collection\n",
    "        self._front = (self._front + 1) % len(self._data)\n",
    "        self._size -= 1\n",
    "        return answer\n",
    "\n",
    "    def enqueue(self, e):\n",
    "        \"\"\"Add an element to the back of queue.\"\"\"\n",
    "        if self._size == len(self._data):\n",
    "            self._resize(2 * len(self.data))     # double the array size\n",
    "        avail = (self._front + self._size) % len(self._data)\n",
    "        self._data[avail] = e\n",
    "        self._size += 1\n",
    "\n",
    "    def _resize(self, cap):                  # we assume cap >= len(self)\n",
    "        \"\"\"Resize to a new list of capacity >= len(self).\"\"\"\n",
    "        old = self._data                       # keep track of existing list\n",
    "        self._data = [None] * cap              # allocate list with new capacity\n",
    "        walk = self._front\n",
    "        for k in range(self._size):            # only consider existing elements\n",
    "            self._data[k] = old[walk]            # intentionally shift indices\n",
    "            walk = (1 + walk) % len(old)         # use old size as modulus\n",
    "        self._front = 0                        # front has been realigned"
   ]
  },
  {
   "cell_type": "code",
   "execution_count": null,
   "metadata": {},
   "outputs": [],
   "source": [
    "class Queue:\n",
    "    def __init__(self):\n",
    "        self.items = []\n",
    "\n",
    "    def isEmpty(self):\n",
    "        return self.items == []\n",
    "\n",
    "    def enqueue(self, item):\n",
    "        self.items.insert(0,item)\n",
    "\n",
    "    def dequeue(self):\n",
    "        return self.items.pop()\n",
    "\n",
    "    def size(self):\n",
    "        return len(self.items)"
   ]
  },
  {
   "cell_type": "code",
   "execution_count": 12,
   "metadata": {},
   "outputs": [
    {
     "data": {
      "text/plain": [
       "3"
      ]
     },
     "execution_count": 12,
     "metadata": {},
     "output_type": "execute_result"
    }
   ],
   "source": [
    "20 // "
   ]
  },
  {
   "cell_type": "markdown",
   "metadata": {},
   "source": [
    "## Heap"
   ]
  },
  {
   "cell_type": "code",
   "execution_count": null,
   "metadata": {},
   "outputs": [],
   "source": [
    "import heapq #模块提供了如下几个函数：\n",
    "heapq.heappush(heap, item) #把item添加到heap中（heap是一个列表）\n",
    "heapq.heappop(heap) #把堆顶元素弹出，返回的就是堆顶\n",
    "heapq.heappushpop(heap, item) #先把item加入到堆中，然后再pop，比heappush()再heappop()要快得多\n",
    "heapq.heapreplace(heap, item) #先pop，然后再把item加入到堆中，比heappop()再heappush()要快得多\n",
    "heapq.heapify(list) #将列表进行堆调整\n",
    "heapq.merge(*iterables) #将多个列表合并，并进行堆调整，返回的是合并后的列表的迭代器\n",
    "heapq.nlargest(n, iterable, key=None) #返回最大的n个元素（Top-K问题）\n",
    "heapq.nsmallest(n, iterable, key=None) #返回最小的n个元素（Top-K问题）"
   ]
  },
  {
   "cell_type": "code",
   "execution_count": 164,
   "metadata": {},
   "outputs": [
    {
     "data": {
      "text/plain": [
       "1"
      ]
     },
     "execution_count": 164,
     "metadata": {},
     "output_type": "execute_result"
    },
    {
     "data": {
      "text/plain": [
       "[3, 4, 5, 6, 8, 7]"
      ]
     },
     "execution_count": 164,
     "metadata": {},
     "output_type": "execute_result"
    }
   ],
   "source": [
    "import heapq\n",
    "heap = [1,3,6,4,8,7]\n",
    "heapq.heappush(heap, 5)\n",
    "heapq.heappop(heap)\n",
    "heap"
   ]
  },
  {
   "cell_type": "markdown",
   "metadata": {},
   "source": [
    "## Trees"
   ]
  },
  {
   "cell_type": "markdown",
   "metadata": {},
   "source": [
    "n个节点的二叉树一共有((2n)!)/(n!*(n+1)!)种 \n",
    "\n",
    "递推公式：\n",
    "\n",
    "递推时每次固定根节点再考虑\n",
    "\n",
    "规定f(0)=1\n",
    "\n",
    "f(n) = f(n-1)f(0) + f(n-2)f(1)...f(0)f(n-1)\n",
    "\n",
    "解：\n",
    "\n",
    "f(1) = 1\n",
    "\n",
    "f(2) = f(1)f(0) + f(0)f(1) = 2\n",
    "\n",
    "f(3) = f(2)f(0) + f(1)f(1) + f(0)f(2) = 5\n",
    "\n",
    "f(4) = f(3)f(0) + f(2)f(1) + f(1)f(2) + f(0)f(3) = 14"
   ]
  },
  {
   "cell_type": "markdown",
   "metadata": {},
   "source": [
    "## Graph"
   ]
  },
  {
   "cell_type": "code",
   "execution_count": 14,
   "metadata": {},
   "outputs": [
    {
     "name": "stdout",
     "output_type": "stream",
     "text": [
      "recursive dfs  ['A', 'B', 'D', 'E', 'C', 'F', 'G']\n",
      "iterative dfs  ['A', 'B', 'D', 'E', 'C', 'F', 'G']\n",
      "iterative bfs  ['A', 'B', 'C', 'D', 'E', 'F', 'G']\n"
     ]
    }
   ],
   "source": [
    "def recursive_dfs(graph, start, path=[]):\n",
    "    '''recursive depth first search from start'''\n",
    "    path=path+[start]\n",
    "    for node in graph[start]:\n",
    "        if not node in path:\n",
    "            path=recursive_dfs(graph, node, path)\n",
    "    return path\n",
    "\n",
    "def iterative_dfs(graph, start, path=[]):\n",
    "    '''iterative depth first search from start'''\n",
    "    q=[start]\n",
    "    while q:\n",
    "        v=q.pop(0)\n",
    "        if v not in path:\n",
    "            path=path+[v]\n",
    "            q=graph[v]+q\n",
    "    return path\n",
    "\n",
    "def iterative_bfs(graph, start, path=[]):\n",
    "    '''iterative breadth first search from start'''\n",
    "    q=[start]\n",
    "    while q:\n",
    "        v=q.pop(0)\n",
    "        if not v in path:\n",
    "            path=path+[v]\n",
    "            q=q+graph[v]\n",
    "    return path\n",
    "\n",
    "'''\n",
    "   +---- A\n",
    "   |   /   \\\n",
    "   |  B--D--C\n",
    "   |   \\ | /\n",
    "   +---- E\n",
    "'''\n",
    "# graph = {'A':['B','C'],'B':['D','E'],'C':['D','E'],'D':['E'],'E':['A']}\n",
    "graph = {'A':['B','C'],'B':['A','D','E'],'C':['A','F','G'],'D':['B'],'E':['B'],'F':['C'],'G':['C']}\n",
    "print('recursive dfs ', recursive_dfs(graph, 'A'))\n",
    "print('iterative dfs ', iterative_dfs(graph, 'A'))\n",
    "print('iterative bfs ', iterative_bfs(graph, 'A'))\n"
   ]
  },
  {
   "cell_type": "code",
   "execution_count": 19,
   "metadata": {},
   "outputs": [
    {
     "ename": "TypeError",
     "evalue": "unsupported operand type(s) for -: 'str' and 'str'",
     "output_type": "error",
     "traceback": [
      "\u001b[0;31m---------------------------------------------------------------------------\u001b[0m",
      "\u001b[0;31mTypeError\u001b[0m                                 Traceback (most recent call last)",
      "\u001b[0;32m<ipython-input-19-ec0c093487f7>\u001b[0m in \u001b[0;36m<module>\u001b[0;34m\u001b[0m\n\u001b[1;32m      1\u001b[0m \u001b[0mgraph\u001b[0m \u001b[0;34m=\u001b[0m \u001b[0;34m{\u001b[0m\u001b[0;34m'A'\u001b[0m\u001b[0;34m:\u001b[0m\u001b[0;34m[\u001b[0m\u001b[0;34m{\u001b[0m\u001b[0;34m'a'\u001b[0m\u001b[0;34m:\u001b[0m\u001b[0;34m'--'\u001b[0m\u001b[0;34m}\u001b[0m\u001b[0;34m,\u001b[0m\u001b[0;34m'C'\u001b[0m\u001b[0;34m]\u001b[0m\u001b[0;34m,\u001b[0m\u001b[0;34m'B'\u001b[0m\u001b[0;34m:\u001b[0m\u001b[0;34m[\u001b[0m\u001b[0;34m'D'\u001b[0m\u001b[0;34m,\u001b[0m\u001b[0;34m'E'\u001b[0m\u001b[0;34m]\u001b[0m\u001b[0;34m,\u001b[0m\u001b[0;34m'C'\u001b[0m\u001b[0;34m:\u001b[0m\u001b[0;34m[\u001b[0m\u001b[0;34m'D'\u001b[0m\u001b[0;34m,\u001b[0m\u001b[0;34m'E'\u001b[0m\u001b[0;34m]\u001b[0m\u001b[0;34m,\u001b[0m\u001b[0;34m'D'\u001b[0m\u001b[0;34m:\u001b[0m\u001b[0;34m[\u001b[0m\u001b[0;34m'E'\u001b[0m\u001b[0;34m]\u001b[0m\u001b[0;34m,\u001b[0m\u001b[0;34m'E'\u001b[0m\u001b[0;34m:\u001b[0m\u001b[0;34m[\u001b[0m\u001b[0;34m'A'\u001b[0m\u001b[0;34m]\u001b[0m\u001b[0;34m}\u001b[0m\u001b[0;34m\u001b[0m\u001b[0;34m\u001b[0m\u001b[0m\n\u001b[1;32m      2\u001b[0m \u001b[0;34m\u001b[0m\u001b[0m\n\u001b[0;32m----> 3\u001b[0;31m \u001b[0;34m'abc'\u001b[0m \u001b[0;34m-\u001b[0m \u001b[0;34m'bc'\u001b[0m\u001b[0;34m\u001b[0m\u001b[0;34m\u001b[0m\u001b[0m\n\u001b[0m",
      "\u001b[0;31mTypeError\u001b[0m: unsupported operand type(s) for -: 'str' and 'str'"
     ]
    }
   ],
   "source": [
    "graph = {'A':[{'a':'--'},'C'],'B':['D','E'],'C':['D','E'],'D':['E'],'E':['A']}\n",
    "\n"
   ]
  },
  {
   "cell_type": "markdown",
   "metadata": {},
   "source": [
    "## Chapter 4: Recursion"
   ]
  },
  {
   "cell_type": "code",
   "execution_count": 1,
   "metadata": {},
   "outputs": [],
   "source": [
    "def factorial(n):\n",
    "    if n == 0:\n",
    "        return 1\n",
    "    else:\n",
    "        return n * factorial(n-1)"
   ]
  },
  {
   "cell_type": "code",
   "execution_count": null,
   "metadata": {},
   "outputs": [],
   "source": [
    "def binary_search(data, target, low, high):\n",
    "    \"\"\"Return True if target is found in indicated portion of a Python list.\n",
    "\n",
    "    The search only considers the portion from data[low] to data[high] inclusive.\n",
    "    \"\"\"\n",
    "    if low > high:\n",
    "        return False                    # interval is empty; no match\n",
    "    else:\n",
    "        mid = (low + high) // 2\n",
    "        if target == data[mid]:         # found a match\n",
    "            return True\n",
    "        elif target < data[mid]:\n",
    "        # recur on the portion left of the middle\n",
    "            return binary_search(data, target, low, mid - 1)\n",
    "        else:\n",
    "        # recur on the portion right of the middle\n",
    "            return binary_search(data, target, mid + 1, high)"
   ]
  },
  {
   "cell_type": "code",
   "execution_count": null,
   "metadata": {},
   "outputs": [],
   "source": [
    "# def bad_fibonacci(n):\n",
    "#   \"\"\"Return the nth Fibonacci number.\"\"\"\n",
    "#   if n <= 1:\n",
    "#     return n\n",
    "#   else:\n",
    "#     return bad_fibonacci(n-2) + bad_fibonacci(n-1)\n",
    "\n",
    "def good_fibonacci(n):\n",
    "    \"\"\"Return pair of Fibonacci numbers, F(n) and F(n-1).\"\"\"\n",
    "    if n <= 1:\n",
    "        return (n,0)\n",
    "    else:\n",
    "        (a, b) = good_fibonacci(n-1)\n",
    "        return (a+b, a)"
   ]
  },
  {
   "cell_type": "code",
   "execution_count": null,
   "metadata": {},
   "outputs": [],
   "source": [
    "def linear_sum(S, n):\n",
    "    \"\"\"Return the sum of the first n numbers of sequence S.\"\"\"\n",
    "    if n == 0:\n",
    "        return 0\n",
    "    else:\n",
    "        return linear_sum(S, n-1) + S[n-1]\n",
    "\n",
    "linear_sum([4, 3, 6, 2, 8], 5)"
   ]
  },
  {
   "cell_type": "code",
   "execution_count": null,
   "metadata": {},
   "outputs": [],
   "source": [
    "def reverse(S, start, stop):\n",
    "    \"\"\"Reverse elements in implicit slice S[start:stop].\"\"\"\n",
    "    if start < stop - 1:                         # if at least 2 elements:\n",
    "        S[start], S[stop-1] = S[stop-1], S[start]  # swap first and last\n",
    "        reverse(S, start+1, stop-1)                # recur on rest\n",
    "\n",
    "S = [4,3,6,2,8,9,5]\n",
    "reverse(S,0,7)\n",
    "S"
   ]
  },
  {
   "cell_type": "code",
   "execution_count": null,
   "metadata": {},
   "outputs": [],
   "source": [
    "# # power slow\n",
    "# def power(x, n):\n",
    "#     \"\"\"Compute the value x**n for integer n.\"\"\"\n",
    "#     if n == 0:\n",
    "#         return 1\n",
    "#     else:\n",
    "#         return x * power(x, n-1)\n",
    "\n",
    "# power fast\n",
    "def power(x, n):\n",
    "    \"\"\"Compute the value x**n for integer n.\"\"\"\n",
    "    if n == 0:\n",
    "        return 1\n",
    "    else:\n",
    "        partial = power(x, n // 2)          # rely on truncated division\n",
    "        result = partial * partial\n",
    "        if n % 2 == 1:                      # if n odd, include extra factor of x\n",
    "            result *= x                       \n",
    "        return result\n",
    "    \n",
    "power(3,2)"
   ]
  },
  {
   "cell_type": "code",
   "execution_count": null,
   "metadata": {},
   "outputs": [],
   "source": [
    "def binary_sum(S, start, stop):\n",
    "    \"\"\"Return the sum of the numbers in implicit slice S[start:stop].\"\"\"\n",
    "    if start >= stop:                      # zero elements in slice\n",
    "        return 0\n",
    "    elif start == stop-1:                  # one element in slice\n",
    "        return S[start]\n",
    "    else:                                  # two or more elements in slice\n",
    "        mid = (start + stop) // 2\n",
    "        return binary_sum(S, start, mid) + binary_sum(S, mid, stop)"
   ]
  },
  {
   "cell_type": "markdown",
   "metadata": {},
   "source": [
    "## Chapter 12: Sorting\n",
    "\n",
    "• Insertion-sort (see Sections 5.5.2, 7.5, and 9.4.1)  \n",
    "• Selection-sort (see Section 9.4.1)  \n",
    "• Bubble-sort (see Exercise C-7.38)  \n",
    "• Heap-sort (see Section 9.4.2)"
   ]
  },
  {
   "cell_type": "code",
   "execution_count": null,
   "metadata": {},
   "outputs": [],
   "source": [
    "def insertion_sort(A):\n",
    "    \"\"\"Sort list of comparable elements into nondecreasing order.\"\"\"\n",
    "    for k in range(1, len(A)):         # from 1 to n-1\n",
    "        cur = A[k]                       # current element to be inserted\n",
    "        j = k                            # find correct index j for current\n",
    "        while j > 0 and A[j-1] > cur:    # element A[j-1] must be after current\n",
    "            A[j] = A[j-1]\n",
    "            j -= 1\n",
    "        A[j] = cur                       # cur is now in the right place\n",
    "        \n",
    "A = [3,2,4,5,7]\n",
    "insertion_sort(A)\n",
    "A"
   ]
  },
  {
   "cell_type": "code",
   "execution_count": null,
   "metadata": {},
   "outputs": [],
   "source": [
    "def merge(S1, S2, S):\n",
    "    \"\"\"Merge two sorted Python lists S1 and S2 into properly sized list S.\"\"\"\n",
    "    i = j = 0\n",
    "    while i + j < len(S):\n",
    "        if j == len(S2) or (i < len(S1) and S1[i] < S2[j]):\n",
    "            S[i+j] = S1[i]      # copy ith element of S1 as next item of S\n",
    "            i += 1\n",
    "        else:\n",
    "            S[i+j] = S2[j]      # copy jth element of S2 as next item of S\n",
    "            j += 1\n",
    "\n",
    "def merge_sort(S):\n",
    "    \"\"\"Sort the elements of Python list S using the merge-sort algorithm.\"\"\"\n",
    "    n = len(S)\n",
    "    if n < 2:\n",
    "        return                # list is already sorted\n",
    "  \n",
    "    # divide\n",
    "    mid = n // 2\n",
    "    S1 = S[0:mid]           # copy of first half\n",
    "    S2 = S[mid:n]           # copy of second half\n",
    "    # conquer (with recursion)\n",
    "    merge_sort(S1)          # sort copy of first half\n",
    "    merge_sort(S2)          # sort copy of second half\n",
    "    # merge results\n",
    "    merge(S1, S2, S)        # merge sorted halves back into S\n",
    "    \n",
    "S = [85,24,63,45,17,31,96,50]\n",
    "merge_sort(S)\n",
    "S"
   ]
  },
  {
   "cell_type": "code",
   "execution_count": null,
   "metadata": {},
   "outputs": [],
   "source": [
    "def quick_sort(S):\n",
    "    \"\"\"Sort the elements of queue S using the quick-sort algorithm.\"\"\"\n",
    "    n = len(S)\n",
    "    if n < 2:\n",
    "        return                            # list is already sorted\n",
    "    # divide\n",
    "    p = S.first()                       # using first as arbitrary pivot\n",
    "    L = LinkedQueue()\n",
    "    E = LinkedQueue()\n",
    "    G = LinkedQueue()\n",
    "    while not S.is_empty():             # divide S into L, E, and G\n",
    "        if S.first() < p:\n",
    "            L.enqueue(S.dequeue())\n",
    "        elif p < S.first():\n",
    "            G.enqueue(S.dequeue())\n",
    "        else:                             # S.first() must equal pivot\n",
    "            E.enqueue(S.dequeue())\n",
    "    # conquer (with recursion)\n",
    "    quick_sort(L)                       # sort elements less than p\n",
    "    quick_sort(G)                       # sort elements greater than p\n",
    "        # concatenate results\n",
    "    while not L.is_empty():\n",
    "        S.enqueue(L.dequeue())\n",
    "    while not E.is_empty():\n",
    "        S.enqueue(E.dequeue())\n",
    "    while not G.is_empty():\n",
    "        S.enqueue(G.dequeue()) \n",
    "        \n",
    "[85,24,63,45,17,31,96,50]\n",
    "S = ArrayQueue()\n",
    "S.enqueue(85)\n",
    "S.enqueue(24)\n",
    "S.enqueue(63)\n",
    "S.__len__()\n",
    "quick_sort(S)\n",
    "S"
   ]
  },
  {
   "cell_type": "code",
   "execution_count": null,
   "metadata": {},
   "outputs": [],
   "source": [
    "# Python program to check if the input number is prime or not\n",
    "\n",
    "num = 407\n",
    "\n",
    "# take input from the user\n",
    "# num = int(input(\"Enter a number: \"))\n",
    "\n",
    "# prime numbers are greater than 1\n",
    "if num > 1:\n",
    "   # check for factors\n",
    "   for i in range(2,num):\n",
    "       if (num % i) == 0:\n",
    "           print(num,\"is not a prime number\")\n",
    "           print(i,\"times\",num//i,\"is\",num)\n",
    "           break\n",
    "   else:\n",
    "       print(num,\"is a prime number\")\n",
    "       \n",
    "# if input number is less than\n",
    "# or equal to 1, it is not prime\n",
    "else:\n",
    "   print(num,\"is not a prime number\")"
   ]
  },
  {
   "cell_type": "markdown",
   "metadata": {},
   "source": [
    "## 973. K Closest Point to Origin"
   ]
  },
  {
   "cell_type": "code",
   "execution_count": null,
   "metadata": {},
   "outputs": [],
   "source": [
    "class Solution(object):\n",
    "    def kClosest(self, points, K):\n",
    "        points.sort(key = lambda P: P[0]**2 + P[1]**2)\n",
    "        return points[:K]"
   ]
  },
  {
   "cell_type": "markdown",
   "metadata": {},
   "source": [
    "## 937. Reorder Log Files"
   ]
  },
  {
   "cell_type": "code",
   "execution_count": null,
   "metadata": {},
   "outputs": [],
   "source": [
    "class Solution(object):\n",
    "    def reorderLogFiles(self, logs):\n",
    "        \"\"\"\n",
    "        :type logs: List[str]\n",
    "        :rtype: List[str]\n",
    "        \"\"\"\n",
    "        \n",
    "        def f(log):\n",
    "            id_, rest = log.split(\" \", 1)\n",
    "            return (0, rest, id_) if rest[0].isalpha() else (1,)\n",
    "\n",
    "        return sorted(logs, key = f)"
   ]
  },
  {
   "cell_type": "code",
   "execution_count": 171,
   "metadata": {},
   "outputs": [
    {
     "name": "stdout",
     "output_type": "stream",
     "text": [
      "a1 , 9 2 3 1\n",
      "g1 , act car\n",
      "zo4 , 4 7\n",
      "ab1 , off key dog\n",
      "a8 , act zoo\n"
     ]
    }
   ],
   "source": [
    "logs = [\"a1 9 2 3 1\",\"g1 act car\",\"zo4 4 7\",\"ab1 off key dog\",\"a8 act zoo\"]\n",
    "\n",
    "for log in logs:\n",
    "    ids, rest = log.split(' ', 1)\n",
    "    print(ids, ',', rest)"
   ]
  },
  {
   "cell_type": "code",
   "execution_count": 247,
   "metadata": {},
   "outputs": [
    {
     "name": "stdout",
     "output_type": "stream",
     "text": [
      "['a1', '9 2 3 1']\n",
      "['g1', 'act car']\n",
      "['zo4', '4 7']\n",
      "['ab1', 'off key dog']\n",
      "['a8', 'act zoo']\n"
     ]
    }
   ],
   "source": [
    "logs = [\"a1 9 2 3 1\",\"g1 act car\",\"zo4 4 7\",\"ab1 off key dog\",\"a8 act zoo\"]\n",
    "\n",
    "for log in logs:\n",
    "    ids = log.split(' ', 1)\n",
    "    print(ids)"
   ]
  },
  {
   "cell_type": "markdown",
   "metadata": {},
   "source": [
    "## 1. Two Sum (List, Dictionary)\n",
    "\n",
    "时间复杂度: O(N)"
   ]
  },
  {
   "cell_type": "code",
   "execution_count": 167,
   "metadata": {},
   "outputs": [
    {
     "data": {
      "text/plain": [
       "[0, 2]"
      ]
     },
     "execution_count": 167,
     "metadata": {},
     "output_type": "execute_result"
    }
   ],
   "source": [
    "# class Solution(object):\n",
    "#     def twoSum(self, nums, target):\n",
    "#         \"\"\"\n",
    "#         :type nums: List[int]\n",
    "#         :type target: int\n",
    "#         :rtype: List[int]\n",
    "#         \"\"\"\n",
    "#         for i in range(len(nums)):\n",
    "#             for j in range(i+1, len(nums)):\n",
    "#                 if nums[i] + nums[j] == target:\n",
    "#                     return [i, j]\n",
    "\n",
    "# def twoSum(nums, target):\n",
    "#     \"\"\"\n",
    "#     :type nums: List[int]\n",
    "#     :type target: int\n",
    "#     :rtype: List[int]\n",
    "#     \"\"\"\n",
    "#     dict = {}\n",
    "#     for i in range(len(nums)):\n",
    "#         if target-nums[i] not in dict:\n",
    "#             dict[nums[i]]=i\n",
    "#         else:\n",
    "#             return [dict[target-nums[i]],i]\n",
    "            \n",
    "# twoSum([2,7,11,15],9) \n",
    "\n",
    "class Solution:\n",
    "    def twoSum(self, nums, target):\n",
    "        \"\"\"\n",
    "        :type nums: List[int]\n",
    "        :type target: int\n",
    "        :rtype: List[int]\n",
    "        \"\"\"\n",
    "        dic = {}\n",
    "        for i, num in enumerate(nums):\n",
    "            n = target - num\n",
    "            if n not in dic:\n",
    "                dic[num] = i\n",
    "            else:\n",
    "                return [dic[n], i]\n",
    "            \n",
    "x = Solution()\n",
    "x.twoSum([2,7,11,15],13)"
   ]
  },
  {
   "cell_type": "markdown",
   "metadata": {},
   "source": [
    "## 2. Add Two Numbers (Linked List)\n",
    "\n",
    "时间复杂度: O(N)  \n",
    "因为时间复杂度无法减小，我们一定得遍历完l1和l2的每一位才能得到最终的结果，O(N)没得商量"
   ]
  },
  {
   "cell_type": "code",
   "execution_count": 19,
   "metadata": {},
   "outputs": [],
   "source": [
    "# Definition for singly-linked list.\n",
    "# class ListNode:\n",
    "#     def __init__(self, x):\n",
    "#         self.val = x\n",
    "#         self.next = None\n",
    "\n",
    "class Solution:\n",
    "    def addTwoNumbers(self, l1, l2, c = 0):\n",
    "        \"\"\"\n",
    "        :type l1: ListNode\n",
    "        :type l2: ListNode\n",
    "        :rtype: ListNode\n",
    "        \"\"\"\n",
    "        val = l1.val + l2.val + c\n",
    "        c = val // 10\n",
    "        ret = ListNode(val % 10 ) \n",
    "        \n",
    "        if l1.next != None or l2.next != None or c != 0:\n",
    "            if l1.next == None:\n",
    "                l1.next = ListNode(0)\n",
    "            if l2.next == None:\n",
    "                l2.next = ListNode(0)\n",
    "                \n",
    "            ret.next = self.addTwoNumbers(l1.next, l2.next, c)\n",
    "        return ret\n",
    "    \n",
    "# class Solution:\n",
    "#     def addTwoNumbers(self, l1, l2):\n",
    "#         \"\"\"\n",
    "#         :type l1: ListNode\n",
    "#         :type l2: ListNode\n",
    "#         :rtype: ListNode\n",
    "#         \"\"\"     \n",
    "#         # 因为处理到最后的时候，可能输入的 l1 和 l2 都不是一个 ListNode 而是 None 了\n",
    "#         if not l1 and not l2: \n",
    "#             return \n",
    "#         elif not (l1 and l2): # l1 和 l2 其中一个是 None \n",
    "#             return l1 or l2\n",
    "#         else: # l1 和 l2 都不是 None \n",
    "#             if l1.val + l2.val < 10: # 个位数相加没有进位\n",
    "#                 l3 = ListNode(l1.val+l2.val)\n",
    "#                 l3.next = self.addTwoNumbers(l1.next, l2.next) # 递归调用\n",
    "#             else: # # 个位数相加有进位\n",
    "#                 l3 = ListNode(l1.val+l2.val-10)\n",
    "#                 # 递归调用，记得加上进位\n",
    "#                 l3.next = self.addTwoNumbers(l1.next, self.addTwoNumbers(l2.next, ListNode(1)))\n",
    "#         return l3"
   ]
  },
  {
   "cell_type": "code",
   "execution_count": 17,
   "metadata": {},
   "outputs": [
    {
     "data": {
      "text/plain": [
       "2"
      ]
     },
     "execution_count": 17,
     "metadata": {},
     "output_type": "execute_result"
    }
   ],
   "source": [
    "%10"
   ]
  },
  {
   "cell_type": "markdown",
   "metadata": {},
   "source": [
    "## 445. Add Two Numbers II (Linked List)"
   ]
  },
  {
   "cell_type": "code",
   "execution_count": 64,
   "metadata": {},
   "outputs": [
    {
     "data": {
      "text/plain": [
       "7"
      ]
     },
     "execution_count": 64,
     "metadata": {},
     "output_type": "execute_result"
    }
   ],
   "source": [
    "class ListNode:\n",
    "    def __init__(self, x):\n",
    "        self.val = x\n",
    "        self.next = None\n",
    "        \n",
    "head = ListNode(0)\n",
    "head.next = ListNode(7)"
   ]
  },
  {
   "cell_type": "code",
   "execution_count": 65,
   "metadata": {},
   "outputs": [],
   "source": [
    "class Solution:\n",
    "    def addTwoNumbers(self, l1, l2):\n",
    "        \"\"\"\n",
    "        :type l1: ListNode\n",
    "        :type l2: ListNode\n",
    "        :rtype: ListNode\n",
    "        \"\"\"\n",
    "        \n",
    "        x1 = 0\n",
    "        x2 = 0\n",
    "        while l1:\n",
    "            x1 = x1*10 + l1.val\n",
    "            l1 = l1.next\n",
    "        while l2:\n",
    "            x2 = x2*10 + l2.val\n",
    "            l2 = l2.next\n",
    "        \n",
    "        x = x1 + x2\n",
    "        head = ListNode(0)\n",
    "        \n",
    "        if x == 0: \n",
    "            return head\n",
    "        \n",
    "        while x:\n",
    "            x = x // 10\n",
    "            modulo = x % 10\n",
    "            head.next = ListNode(modulo) \n",
    "            head.next.next = head.next\n",
    "            \n",
    "        return head.next"
   ]
  },
  {
   "cell_type": "markdown",
   "metadata": {},
   "source": [
    "## 5. Longest Palindromic Substring (String)"
   ]
  },
  {
   "cell_type": "code",
   "execution_count": null,
   "metadata": {},
   "outputs": [],
   "source": [
    "class Solution:\n",
    "    def longestPalindrome(self, s: str) -> str:\n",
    "        m = ''  # Memory to remember a palindrome\n",
    "        for i in range(len(s)):  # i = start, O = n\n",
    "            for j in range(len(s), i, -1):  # j = end, O = n^2\n",
    "                if len(m) >= j-i:  # To reduce time\n",
    "                    break\n",
    "                elif s[i:j] == s[i:j][::-1]:\n",
    "                    m = s[i:j]\n",
    "                    break\n",
    "        return m"
   ]
  },
  {
   "cell_type": "code",
   "execution_count": 180,
   "metadata": {},
   "outputs": [
    {
     "name": "stdout",
     "output_type": "stream",
     "text": [
      "babad\n",
      "baba\n",
      "bab\n",
      "ba\n",
      "b\n",
      "\n",
      "abad\n",
      "aba\n",
      "ab\n",
      "a\n",
      "\n",
      "bad\n",
      "ba\n",
      "b\n",
      "\n",
      "ad\n",
      "a\n",
      "\n",
      "d\n",
      "\n"
     ]
    }
   ],
   "source": [
    "s = 'babad'\n",
    "for i in range(len(s)):\n",
    "    for j in range(len(s),i,-1):\n",
    "#         print(i,j)\n",
    "        print(s[i:j])\n",
    "    print()"
   ]
  },
  {
   "cell_type": "markdown",
   "metadata": {},
   "source": [
    "## 819. Most Common Word (String)\n",
    "\n",
    "O(N)"
   ]
  },
  {
   "cell_type": "code",
   "execution_count": 182,
   "metadata": {},
   "outputs": [],
   "source": [
    "class Solution:\n",
    "    def mostCommonWord(self, paragraph, banned):    \n",
    "        for c in \"!?',;.\": \n",
    "            paragraph = paragraph.replace(c, \" \")\n",
    "        \n",
    "        d = {} \n",
    "        res = '' \n",
    "        count = 0\n",
    "        \n",
    "        for word in paragraph.lower().split():\n",
    "            if word in banned:\n",
    "                continue;\n",
    "            elif word in d:\n",
    "                d[word] += 1\n",
    "            else:\n",
    "                d[word] = 1\n",
    "                \n",
    "            if d[word] > count:\n",
    "                count = d[word]\n",
    "                res = word\n",
    "        return res\n",
    "        "
   ]
  },
  {
   "cell_type": "code",
   "execution_count": 183,
   "metadata": {},
   "outputs": [
    {
     "data": {
      "text/plain": [
       "'ball'"
      ]
     },
     "execution_count": 183,
     "metadata": {},
     "output_type": "execute_result"
    }
   ],
   "source": [
    "s = Solution()\n",
    "paragraph = \"Bob hit a ball, the hit BALL flew far after it was hit.\"\n",
    "banned = [\"hit\"]\n",
    "s.mostCommonWord(paragraph, banned)"
   ]
  },
  {
   "cell_type": "markdown",
   "metadata": {},
   "source": [
    "## 146. LRU cache (OrderedDict)\n",
    "时间复杂度: O(1)"
   ]
  },
  {
   "cell_type": "code",
   "execution_count": null,
   "metadata": {},
   "outputs": [],
   "source": [
    "from collections import OrderedDict\n",
    "class LRUCache(OrderedDict):\n",
    "\n",
    "    def __init__(self, capacity):\n",
    "        \"\"\"\n",
    "        :type capacity: int\n",
    "        \"\"\"\n",
    "        self.capacity = capacity\n",
    "\n",
    "    def get(self, key):\n",
    "        \"\"\"\n",
    "        :type key: int\n",
    "        :rtype: int\n",
    "        \"\"\"\n",
    "        if key not in self:\n",
    "            return -1\n",
    "        \n",
    "        self.move_to_end(key)\n",
    "        return self[key]\n",
    "\n",
    "    def put(self, key, value):\n",
    "        \"\"\"\n",
    "        :type key: int\n",
    "        :type value: int\n",
    "        :rtype: void\n",
    "        \"\"\"\n",
    "        if key in self:\n",
    "            self.move_to_end(key)\n",
    "        self[key] = value\n",
    "        if len(self) > self.capacity:\n",
    "            self.popitem(last = False)\n",
    "\n",
    "# Your LRUCache object will be instantiated and called as such:\n",
    "# obj = LRUCache(capacity)\n",
    "# param_1 = obj.get(key)\n",
    "# obj.put(key,value)"
   ]
  },
  {
   "cell_type": "markdown",
   "metadata": {},
   "source": [
    "## 200. Number of Island "
   ]
  },
  {
   "cell_type": "code",
   "execution_count": null,
   "metadata": {},
   "outputs": [],
   "source": [
    "def numIslands(self, grid):\n",
    "    if not grid:\n",
    "        return 0\n",
    "        \n",
    "    count = 0\n",
    "    for i in range(len(grid)):\n",
    "        for j in range(len(grid[0])):\n",
    "            if grid[i][j] == '1':\n",
    "                self.dfs(grid, i, j)\n",
    "                count += 1\n",
    "    return count\n",
    "\n",
    "def dfs(self, grid, i, j):\n",
    "    if i<0 or j<0 or i>=len(grid) or j>=len(grid[0]) or grid[i][j] != '1':\n",
    "        return\n",
    "    grid[i][j] = '#'\n",
    "    self.dfs(grid, i+1, j)\n",
    "    self.dfs(grid, i-1, j)\n",
    "    self.dfs(grid, i, j+1)\n",
    "    self.dfs(grid, i, j-1)"
   ]
  },
  {
   "cell_type": "code",
   "execution_count": 71,
   "metadata": {},
   "outputs": [
    {
     "name": "stdout",
     "output_type": "stream",
     "text": [
      "4\n",
      "1\n",
      "1\n",
      "0\n",
      "0\n",
      "0\n",
      "1\n",
      "1\n",
      "0\n",
      "0\n",
      "0\n",
      "0\n",
      "0\n",
      "1\n",
      "0\n",
      "0\n",
      "0\n",
      "0\n",
      "0\n",
      "1\n",
      "1\n"
     ]
    }
   ],
   "source": [
    "grid = [[1,1,0,0,0],\n",
    "        [1,1,0,0,0],\n",
    "        [0,0,1,0,0],\n",
    "        [0,0,0,1,1]]\n",
    "\n",
    "print(len(grid))\n",
    "\n",
    "for i in range(len(grid)):\n",
    "    for j in range(len(grid[0])):\n",
    "        print(grid[i][j])"
   ]
  },
  {
   "cell_type": "markdown",
   "metadata": {},
   "source": [
    "## 763. Partition Labels (Dict, List)\n",
    "\n",
    "Time Complexity: O(N), where N is the length of S."
   ]
  },
  {
   "cell_type": "code",
   "execution_count": 265,
   "metadata": {},
   "outputs": [],
   "source": [
    "class Solution(object):\n",
    "    def partitionLabels(self, S):\n",
    "        last = {c: i for i, c in enumerate(S)}\n",
    "#         print('last=', last)\n",
    "        j = 0\n",
    "        anchor = 0\n",
    "        ans = []\n",
    "        for i, c in enumerate(S):\n",
    "#             print('i=', i, 'c=', c)\n",
    "            j = max(j, last[c])\n",
    "#             print('j=', j)\n",
    "#             print('last[c]=', last[c])\n",
    "            if i == j:\n",
    "                ans.append(i - anchor + 1)\n",
    "#                 print('ans=', ans)\n",
    "                anchor = i + 1\n",
    "#                 print('anchor=', anchor)\n",
    "#             print()\n",
    "        return ans"
   ]
  },
  {
   "cell_type": "code",
   "execution_count": 266,
   "metadata": {},
   "outputs": [
    {
     "name": "stdout",
     "output_type": "stream",
     "text": [
      "last= {'a': 8, 'b': 5, 'c': 7, 'd': 14, 'e': 15, 'f': 11, 'g': 13, 'h': 19, 'i': 22, 'j': 23, 'k': 20, 'l': 21}\n",
      "i= 0 c= a\n",
      "j= 8\n",
      "last[c]= 8\n",
      "\n",
      "i= 1 c= b\n",
      "j= 8\n",
      "last[c]= 5\n",
      "\n",
      "i= 2 c= a\n",
      "j= 8\n",
      "last[c]= 8\n",
      "\n",
      "i= 3 c= b\n",
      "j= 8\n",
      "last[c]= 5\n",
      "\n",
      "i= 4 c= c\n",
      "j= 8\n",
      "last[c]= 7\n",
      "\n",
      "i= 5 c= b\n",
      "j= 8\n",
      "last[c]= 5\n",
      "\n",
      "i= 6 c= a\n",
      "j= 8\n",
      "last[c]= 8\n",
      "\n",
      "i= 7 c= c\n",
      "j= 8\n",
      "last[c]= 7\n",
      "\n",
      "i= 8 c= a\n",
      "j= 8\n",
      "last[c]= 8\n",
      "ans= [9]\n",
      "anchor= 9\n",
      "\n",
      "i= 9 c= d\n",
      "j= 14\n",
      "last[c]= 14\n",
      "\n",
      "i= 10 c= e\n",
      "j= 15\n",
      "last[c]= 15\n",
      "\n",
      "i= 11 c= f\n",
      "j= 15\n",
      "last[c]= 11\n",
      "\n",
      "i= 12 c= e\n",
      "j= 15\n",
      "last[c]= 15\n",
      "\n",
      "i= 13 c= g\n",
      "j= 15\n",
      "last[c]= 13\n",
      "\n",
      "i= 14 c= d\n",
      "j= 15\n",
      "last[c]= 14\n",
      "\n",
      "i= 15 c= e\n",
      "j= 15\n",
      "last[c]= 15\n",
      "ans= [9, 7]\n",
      "anchor= 16\n",
      "\n",
      "i= 16 c= h\n",
      "j= 19\n",
      "last[c]= 19\n",
      "\n",
      "i= 17 c= i\n",
      "j= 22\n",
      "last[c]= 22\n",
      "\n",
      "i= 18 c= j\n",
      "j= 23\n",
      "last[c]= 23\n",
      "\n",
      "i= 19 c= h\n",
      "j= 23\n",
      "last[c]= 19\n",
      "\n",
      "i= 20 c= k\n",
      "j= 23\n",
      "last[c]= 20\n",
      "\n",
      "i= 21 c= l\n",
      "j= 23\n",
      "last[c]= 21\n",
      "\n",
      "i= 22 c= i\n",
      "j= 23\n",
      "last[c]= 22\n",
      "\n",
      "i= 23 c= j\n",
      "j= 23\n",
      "last[c]= 23\n",
      "ans= [9, 7, 8]\n",
      "anchor= 24\n",
      "\n"
     ]
    },
    {
     "data": {
      "text/plain": [
       "[9, 7, 8]"
      ]
     },
     "execution_count": 266,
     "metadata": {},
     "output_type": "execute_result"
    }
   ],
   "source": [
    "s = Solution()\n",
    "s.partitionLabels(\"ababcbacadefegdehijhklij\")\n"
   ]
  },
  {
   "cell_type": "markdown",
   "metadata": {},
   "source": [
    "## 957. Prison Cells After N Days (Dict, List)\n",
    "\n",
    "时间复杂度: O(1)"
   ]
  },
  {
   "cell_type": "code",
   "execution_count": 6,
   "metadata": {},
   "outputs": [],
   "source": [
    "class Solution:\n",
    "    def prisonAfterNDays(self, cells, N):\n",
    "        \"\"\"\n",
    "        :type cells: List[int]\n",
    "        :type N: int\n",
    "        :rtype: List[int]\n",
    "        \"\"\"\n",
    "        cache = {str(cells): 0}\n",
    "        states = [cells]\n",
    "\n",
    "        for i in range(1, N+1):\n",
    "            cells = [0] + [int(cells[i - 1] == cells[i + 1]) for i in range(1, 7)] + [0]\n",
    "#             print('cells =', cells)\n",
    "#             print('i =', i)\n",
    "            \n",
    "            if str(cells) in cache:\n",
    "                \n",
    "                idx = cache[str(cells)]\n",
    "                return states[idx+(N-idx)%(i-idx)] # why?\n",
    "            \n",
    "            cache[str(cells)] = i\n",
    "            states.append(cells)\n",
    "        return cells"
   ]
  },
  {
   "cell_type": "code",
   "execution_count": 9,
   "metadata": {},
   "outputs": [
    {
     "name": "stdout",
     "output_type": "stream",
     "text": [
      "cells = [0, 0, 0, 1, 0, 0, 1, 0]\n",
      "i = 1\n",
      "cells = [0, 1, 0, 1, 0, 0, 1, 0]\n",
      "i = 2\n",
      "cells = [0, 1, 1, 1, 0, 0, 1, 0]\n",
      "i = 3\n",
      "cells = [0, 0, 1, 0, 0, 0, 1, 0]\n",
      "i = 4\n",
      "cells = [0, 0, 1, 0, 1, 0, 1, 0]\n",
      "i = 5\n",
      "cells = [0, 0, 1, 1, 1, 1, 1, 0]\n",
      "i = 6\n",
      "cells = [0, 0, 0, 1, 1, 1, 0, 0]\n",
      "i = 7\n",
      "cells = [0, 1, 0, 0, 1, 0, 0, 0]\n",
      "i = 8\n",
      "cells = [0, 1, 0, 0, 1, 0, 1, 0]\n",
      "i = 9\n",
      "cells = [0, 1, 0, 0, 1, 1, 1, 0]\n",
      "i = 10\n",
      "cells = [0, 1, 0, 0, 0, 1, 0, 0]\n",
      "i = 11\n",
      "cells = [0, 1, 0, 1, 0, 1, 0, 0]\n",
      "i = 12\n",
      "cells = [0, 1, 1, 1, 1, 1, 0, 0]\n",
      "i = 13\n",
      "cells = [0, 0, 1, 1, 1, 0, 0, 0]\n",
      "i = 14\n",
      "cells = [0, 0, 0, 1, 0, 0, 1, 0]\n",
      "i = 15\n"
     ]
    },
    {
     "data": {
      "text/plain": [
       "[0, 1, 0, 1, 0, 0, 1, 0]"
      ]
     },
     "execution_count": 9,
     "metadata": {},
     "output_type": "execute_result"
    }
   ],
   "source": [
    "cells = [1,0,0,1,0,0,1,0]\n",
    "N = 16\n",
    "\n",
    "s = Solution()\n",
    "s.prisonAfterNDays(cells, N)"
   ]
  },
  {
   "cell_type": "code",
   "execution_count": null,
   "metadata": {},
   "outputs": [],
   "source": [
    "1 + (1000000000 - 1) % (15 - 1)"
   ]
  },
  {
   "cell_type": "markdown",
   "metadata": {},
   "source": [
    "## 138. Copy List with Random Pointer (List + Recursion)\n",
    "\n",
    "时间复杂度: O(N)"
   ]
  },
  {
   "cell_type": "code",
   "execution_count": null,
   "metadata": {},
   "outputs": [],
   "source": [
    "class Solution(object):\n",
    "    \"\"\"\n",
    "    :type head: Node\n",
    "    :rtype: Node\n",
    "    \"\"\"\n",
    "    def __init__(self):\n",
    "        # Dictionary which holds old nodes as keys and new nodes as its values.\n",
    "        self.visitedHash = {}\n",
    "\n",
    "    def copyRandomList(self, head):\n",
    "        if head == None:\n",
    "            return None\n",
    "\n",
    "        # If we have already processed the current node, then we simply return the cloned version of it.\n",
    "        if head in self.visitedHash:\n",
    "            return self.visitedHash[head]\n",
    "\n",
    "        # create a new node\n",
    "        # with the value same as old node.\n",
    "        node = Node(head.val, None, None)\n",
    "\n",
    "        # Save this value in the hash map. This is needed since there might be\n",
    "        # loops during traversal due to randomness of random pointers and this would help us avoid them.\n",
    "        self.visitedHash[head] = node\n",
    "\n",
    "        # Recursively copy the remaining linked list starting once from the next pointer and then from the random pointer.\n",
    "        # Thus we have two independent recursive calls.\n",
    "        # Finally we update the next and random pointers for the new node created.\n",
    "        node.next = self.copyRandomList(head.next)\n",
    "        node.random = self.copyRandomList(head.random)\n",
    "\n",
    "        return node"
   ]
  },
  {
   "cell_type": "markdown",
   "metadata": {},
   "source": [
    "## 103. Binary Tree Zigzag Level Order Transversal"
   ]
  },
  {
   "cell_type": "code",
   "execution_count": 10,
   "metadata": {},
   "outputs": [],
   "source": [
    "class Solution:\n",
    "    def zigzagLevelOrder(self, root):\n",
    "        if not root:\n",
    "            return []\n",
    "        \n",
    "        res = []\n",
    "        cur_level = [root]\n",
    "        level_count = 0\n",
    "        \n",
    "        while cur_level:\n",
    "            tmp_res = []\n",
    "            next_level = []\n",
    "            \n",
    "            for node in cur_level:\n",
    "                tmp_res.append(node.val)\n",
    "                if node.left:\n",
    "                    next_level.append(node.left)\n",
    "                if node.right:\n",
    "                    next_level.append(node.right)\n",
    "            \n",
    "            if level_count % 2 == 0:\n",
    "                res.append(tmp_res)  \n",
    "            else:\n",
    "                tmp_res.reverse()\n",
    "                res.append(tmp_res)\n",
    "            \n",
    "            cur_level = next_level\n",
    "            level_count += 1\n",
    "        return res"
   ]
  },
  {
   "cell_type": "code",
   "execution_count": 295,
   "metadata": {},
   "outputs": [],
   "source": [
    "# Definition for a binary tree node.\n",
    "class TreeNode:\n",
    "    def __init__(self, x):\n",
    "        self.val = x\n",
    "        self.left = None\n",
    "        self.right = None\n",
    "\n",
    "class Solution:\n",
    "    def zigzagLevelOrder(self, root):\n",
    "        if not root:\n",
    "            return []\n",
    "        \n",
    "        res = []\n",
    "        cur_level = [root]\n",
    "        level_count = 0\n",
    "        \n",
    "        while cur_level:\n",
    "            next_level = []\n",
    "            tmp_res = []\n",
    "            \n",
    "            for node in cur_level:\n",
    "                tmp_res.append(node.val)\n",
    "                print('tmp_res =', tmp_res)\n",
    "                if node.left:\n",
    "                    next_level.append(node.left)\n",
    "                    print('next_level =', next_level[-1].val, len(next_level))\n",
    "                if node.right:\n",
    "                    next_level.append(node.right)\n",
    "                    print('next_level =', next_level[-1].val, len(next_level))\n",
    "            \n",
    "            if level_count % 2 == 0:\n",
    "                res.append(tmp_res)  \n",
    "                print('res =', res)\n",
    "            else:\n",
    "                tmp_res.reverse()\n",
    "                print('tmp_res =', tmp_res)\n",
    "                res.append(tmp_res)\n",
    "                print('res =', res)\n",
    "            \n",
    "            level_count += 1\n",
    "            cur_level = next_level\n",
    "            print('level_count =', level_count)\n",
    "            \n",
    "            if cur_level != None:\n",
    "                print('cur_level =', len(cur_level))\n",
    "            else:\n",
    "                print('cur_level is empty')\n",
    "                \n",
    "            print()\n",
    "\n",
    "        return res"
   ]
  },
  {
   "cell_type": "code",
   "execution_count": 296,
   "metadata": {},
   "outputs": [
    {
     "name": "stdout",
     "output_type": "stream",
     "text": [
      "tmp_res = [3]\n",
      "next_level = 9 1\n",
      "next_level = 20 2\n",
      "res = [[3]]\n",
      "level_count = 1\n",
      "cur_level = 2\n",
      "\n",
      "tmp_res = [9]\n",
      "tmp_res = [9, 20]\n",
      "next_level = 15 1\n",
      "next_level = 7 2\n",
      "tmp_res = [20, 9]\n",
      "res = [[3], [20, 9]]\n",
      "level_count = 2\n",
      "cur_level = 2\n",
      "\n",
      "tmp_res = [15]\n",
      "tmp_res = [15, 7]\n",
      "res = [[3], [20, 9], [15, 7]]\n",
      "level_count = 3\n",
      "cur_level = 0\n",
      "\n"
     ]
    },
    {
     "data": {
      "text/plain": [
       "[[3], [20, 9], [15, 7]]"
      ]
     },
     "execution_count": 296,
     "metadata": {},
     "output_type": "execute_result"
    }
   ],
   "source": [
    "root = TreeNode(3)\n",
    "root.left = TreeNode(9)\n",
    "root.right = TreeNode(20)\n",
    "root.right.left = TreeNode(15)\n",
    "root.right.right = TreeNode(7)\n",
    "\n",
    "s = Solution()\n",
    "s.zigzagLevelOrder(root)"
   ]
  },
  {
   "cell_type": "markdown",
   "metadata": {},
   "source": [
    "## 295. Find Median From Data Stream"
   ]
  },
  {
   "cell_type": "code",
   "execution_count": null,
   "metadata": {},
   "outputs": [],
   "source": [
    "from heapq import *\n",
    "class MedianFinder:\n",
    "    def __init__(self):\n",
    "        self.small = []  # the smaller half of the list, max heap (invert min-heap)\n",
    "        self.large = []  # the larger half of the list, min heap\n",
    "\n",
    "    def addNum(self, num):\n",
    "        if len(self.small) == len(self.large):\n",
    "            heappush(self.large, -heappushpop(self.small, -num))\n",
    "        else:\n",
    "            heappush(self.small, -heappushpop(self.large, num))\n",
    "\n",
    "    def findMedian(self):\n",
    "        if len(self.small) == len(self.large):\n",
    "            return float(self.large[0] - self.small[0]) / 2.0\n",
    "        else:\n",
    "            return float(self.large[0])\n",
    "        \n",
    "# Your MedianFinder object will be instantiated and called as such:\n",
    "# obj = MedianFinder()\n",
    "# obj.addNum(num)\n",
    "# param_2 = obj.findMedian()"
   ]
  },
  {
   "cell_type": "markdown",
   "metadata": {},
   "source": [
    "## 42. Trapping Rain Water"
   ]
  },
  {
   "cell_type": "code",
   "execution_count": 184,
   "metadata": {},
   "outputs": [],
   "source": [
    "class Solution(object):\n",
    "    def trap(self, height):\n",
    "        \"\"\"\n",
    "        :type height: List[int]\n",
    "        :rtype: int\n",
    "        \"\"\"        \n",
    "        l = 0\n",
    "        r = len(height) - 1\n",
    "        water = 0\n",
    "        min_height = 0\n",
    "        \n",
    "        while l < r:\n",
    "            min_height = min(height[l], height[r])\n",
    "#             print('min =', min_height)\n",
    "            while l < r and min_height >= height[l]:\n",
    "                water += min_height - height[l] \n",
    "#                 print('water =', water)\n",
    "                l += 1\n",
    "#                 print('l =', l)\n",
    "\n",
    "            while l < r and min_height >= height[r]:\n",
    "                water += min_height - height[r]\n",
    "#                 print('water =', water)\n",
    "                r -= 1\n",
    "#                 print('r =', r)\n",
    "                \n",
    "#             print()\n",
    "        return water"
   ]
  },
  {
   "cell_type": "code",
   "execution_count": 185,
   "metadata": {},
   "outputs": [
    {
     "name": "stdout",
     "output_type": "stream",
     "text": [
      "min = 0\n",
      "water = 0\n",
      "l = 1\n",
      "\n",
      "min = 1\n",
      "water = 0\n",
      "l = 2\n",
      "water = 1\n",
      "l = 3\n",
      "water = 1\n",
      "r = 10\n",
      "\n",
      "min = 2\n",
      "water = 1\n",
      "l = 4\n",
      "water = 2\n",
      "l = 5\n",
      "water = 4\n",
      "l = 6\n",
      "water = 5\n",
      "l = 7\n",
      "water = 5\n",
      "r = 9\n",
      "water = 6\n",
      "r = 8\n",
      "water = 6\n",
      "r = 7\n",
      "\n"
     ]
    },
    {
     "data": {
      "text/plain": [
       "6"
      ]
     },
     "execution_count": 185,
     "metadata": {},
     "output_type": "execute_result"
    }
   ],
   "source": [
    "s = Solution()\n",
    "s.trap([0,1,0,2,1,0,1,3,2,1,2,1])"
   ]
  },
  {
   "cell_type": "markdown",
   "metadata": {},
   "source": [
    "## 3. Longest Substring Without Repeating Characters (Dictionary)"
   ]
  },
  {
   "cell_type": "code",
   "execution_count": 102,
   "metadata": {},
   "outputs": [
    {
     "name": "stdout",
     "output_type": "stream",
     "text": [
      "0 0 1\n",
      "0 0 2\n",
      "0 0 3\n",
      "1 1 3\n",
      "2 2 3\n",
      "3 3 3\n",
      "5 5 3\n",
      "7 7 3\n"
     ]
    },
    {
     "data": {
      "text/plain": [
       "3"
      ]
     },
     "execution_count": 102,
     "metadata": {},
     "output_type": "execute_result"
    }
   ],
   "source": [
    "class Solution:\n",
    "    def lengthOfLongestSubstring(self, s):\n",
    "        \"\"\"\n",
    "        :type s: str\n",
    "        :rtype: int\n",
    "        \"\"\"\n",
    "        # start 指针指向的是当前子串首字符在 input 中对应的index\n",
    "        res = 0\n",
    "        start = 0 \n",
    "        n = len(s) \n",
    "        maps = {}\n",
    "        for i in range(n):\n",
    "            start = max(start, maps.get(s[i], -1) + 1) # 找到当前子串新的起点\n",
    "            res = max(res, i - start + 1) # 当前子串满足条件了，更新结果\n",
    "            print(maps.get(s[i],-1)+1,start,res)\n",
    "            maps[s[i]] = i # 将当前字符与其在 input 中的 index 记录下来\n",
    "        return res\n",
    "\n",
    "s = Solution()\n",
    "s.lengthOfLongestSubstring('abcabcbb')"
   ]
  },
  {
   "cell_type": "code",
   "execution_count": 103,
   "metadata": {},
   "outputs": [
    {
     "data": {
      "text/plain": [
       "-1"
      ]
     },
     "execution_count": 103,
     "metadata": {},
     "output_type": "execute_result"
    }
   ],
   "source": [
    "d = {'a':0,\n",
    "     'b':1,\n",
    "     'c':3,\n",
    "     'd':4,\n",
    "     'e':5}\n",
    "\n",
    "d.get('g', -1)"
   ]
  },
  {
   "cell_type": "markdown",
   "metadata": {},
   "source": [
    "## 253. Meeting Room II\n",
    "\n",
    "时间复杂度: O(N)  \n",
    "\n",
    "想象一下，现实生活中，先开始的会议还没结束前我们就又要开始一个会议的话，此时我们需要一个新的会议室\n",
    "\n",
    "如果前面一堆先开始的会议都先于我们的新会议开始之前结束了，我们不需要新会议室\n",
    "\n",
    "换句话说，如果前面一堆新开始的会议中结束最早的那个会议如果在新开始的会议之前结束了的话，我们不需要会议室\n",
    "\n",
    "所以我们的思路是，先按照会议开始的时间排序，然后维护一个会议结束时间的最小堆，堆顶就是前面结束最早的那个会议的结束时间\n",
    "\n",
    "那么对于一个新的会议出现时：\n",
    "\n",
    "如果堆顶元素比新会议的开始时间更小的话，我们不需要新会议室。同时因为后面出现的新会议的开始时间更大了，\n",
    "所以目前最先结束的会议永远不可能比后面新出现的会议的开始时间更大，因此我们可以pop目前最先结束的会议，即pop堆顶元素，并且将新会议的结束时间放进堆中\n",
    "\n",
    "如果堆顶元素比新会议的开始时间更大的话，我们知道我们需要一个新的会议室，此时直接将新会议的结束时间放进堆中\n",
    "\n",
    "最终堆的size就是我们需要的会议室数量"
   ]
  },
  {
   "cell_type": "code",
   "execution_count": 131,
   "metadata": {},
   "outputs": [],
   "source": [
    "import heapq\n",
    "class Solution(object):\n",
    "    def minMeetingRooms(self, intervals):\n",
    "        \"\"\"\n",
    "        :type intervals: List[Interval]\n",
    "        :rtype: int\n",
    "        \"\"\"\n",
    "\n",
    "        intervals.sort(key=lambda x:x[0])\n",
    "\n",
    "        heap = []  # stores the end time of intervals\n",
    "    \n",
    "        for i in intervals:\n",
    "#             print('i =', i)\n",
    "            if heap and i[0] >= heap[0]: \n",
    "                # means two intervals can use the same room\n",
    "                heapq.heapreplace(heap, i[-1])\n",
    "#                 print('heap1 =', heap)\n",
    "\n",
    "            else:\n",
    "                # a new room is allocated\n",
    "                heapq.heappush(heap, i[-1])\n",
    "#                 print('heap2 =', heap)\n",
    "            \n",
    "#             print()\n",
    "\n",
    "        return len(heap)"
   ]
  },
  {
   "cell_type": "code",
   "execution_count": 134,
   "metadata": {},
   "outputs": [
    {
     "name": "stdout",
     "output_type": "stream",
     "text": [
      "i = [0, 30]\n",
      "heap2 = [30]\n",
      "\n",
      "i = [5, 10]\n",
      "heap2 = [10, 30]\n",
      "\n",
      "i = [15, 20]\n",
      "heap1 = [20, 30]\n",
      "\n"
     ]
    },
    {
     "data": {
      "text/plain": [
       "2"
      ]
     },
     "execution_count": 134,
     "metadata": {},
     "output_type": "execute_result"
    }
   ],
   "source": [
    "s = Solution()\n",
    "intervals = [[0, 30],[5, 10],[15, 20]]\n",
    "s.minMeetingRooms(intervals)"
   ]
  },
  {
   "cell_type": "code",
   "execution_count": 168,
   "metadata": {},
   "outputs": [
    {
     "data": {
      "text/plain": [
       "0"
      ]
     },
     "execution_count": 168,
     "metadata": {},
     "output_type": "execute_result"
    },
    {
     "data": {
      "text/plain": [
       "{'yes': 1}"
      ]
     },
     "execution_count": 168,
     "metadata": {},
     "output_type": "execute_result"
    }
   ],
   "source": [
    "dic = {'yes':1}\n",
    "dic.pop('s', 0)\n",
    "dic"
   ]
  },
  {
   "cell_type": "code",
   "execution_count": 167,
   "metadata": {},
   "outputs": [
    {
     "ename": "IndexError",
     "evalue": "list assignment index out of range",
     "output_type": "error",
     "traceback": [
      "\u001b[0;31m---------------------------------------------------------------------------\u001b[0m",
      "\u001b[0;31mIndexError\u001b[0m                                Traceback (most recent call last)",
      "\u001b[0;32m<ipython-input-167-ca1df0ec8ca0>\u001b[0m in \u001b[0;36m<module>\u001b[0;34m\u001b[0m\n\u001b[1;32m      1\u001b[0m \u001b[0ml1\u001b[0m \u001b[0;34m=\u001b[0m \u001b[0;34m[\u001b[0m\u001b[0;36m0\u001b[0m\u001b[0;34m]\u001b[0m\u001b[0;34m\u001b[0m\u001b[0;34m\u001b[0m\u001b[0m\n\u001b[0;32m----> 2\u001b[0;31m \u001b[0ml1\u001b[0m\u001b[0;34m[\u001b[0m\u001b[0;36m1\u001b[0m\u001b[0;34m]\u001b[0m \u001b[0;34m=\u001b[0m \u001b[0;36m2\u001b[0m\u001b[0;34m\u001b[0m\u001b[0;34m\u001b[0m\u001b[0m\n\u001b[0m",
      "\u001b[0;31mIndexError\u001b[0m: list assignment index out of range"
     ]
    }
   ],
   "source": [
    "l1 = [0]\n",
    "l1[1] = 2"
   ]
  },
  {
   "cell_type": "markdown",
   "metadata": {},
   "source": [
    "## 139. Word Break"
   ]
  },
  {
   "cell_type": "code",
   "execution_count": 45,
   "metadata": {},
   "outputs": [],
   "source": [
    "class Solution:\n",
    "    def wordBreak(self, s, words):\n",
    "        \"\"\"\n",
    "        :type s: str\n",
    "        :type wordDict: List[str]\n",
    "        :rtype: bool\n",
    "        \"\"\"\n",
    "        ok = [True]\n",
    "        for i in range(1, len(s)+1):\n",
    "#             print('i =', i)\n",
    "            ok.append(any(ok[j] and s[j:i] in words for j in range(i)))\n",
    "#             print('ok =', ok)\n",
    "        return ok[-1]"
   ]
  },
  {
   "cell_type": "code",
   "execution_count": 44,
   "metadata": {},
   "outputs": [
    {
     "name": "stdout",
     "output_type": "stream",
     "text": [
      "i = 1\n",
      "ok = [True, False]\n",
      "i = 2\n",
      "ok = [True, False, False]\n",
      "i = 3\n",
      "ok = [True, False, False, False]\n",
      "i = 4\n",
      "ok = [True, False, False, False, True]\n",
      "i = 5\n",
      "ok = [True, False, False, False, True, False]\n",
      "i = 6\n",
      "ok = [True, False, False, False, True, False, False]\n",
      "i = 7\n",
      "ok = [True, False, False, False, True, False, False, False]\n",
      "i = 8\n",
      "ok = [True, False, False, False, True, False, False, False, True]\n"
     ]
    },
    {
     "data": {
      "text/plain": [
       "True"
      ]
     },
     "execution_count": 44,
     "metadata": {},
     "output_type": "execute_result"
    }
   ],
   "source": [
    "s = \"leetcode\"\n",
    "words = [\"leet\", \"code\"]\n",
    "\n",
    "x = Solution()\n",
    "x.wordBreak(s, words)"
   ]
  },
  {
   "cell_type": "code",
   "execution_count": 50,
   "metadata": {},
   "outputs": [
    {
     "data": {
      "text/plain": [
       "3"
      ]
     },
     "execution_count": 50,
     "metadata": {},
     "output_type": "execute_result"
    }
   ],
   "source": [
    "'l' or 'lee'\n",
    "2 and 3"
   ]
  },
  {
   "cell_type": "markdown",
   "metadata": {},
   "source": [
    "## 165. Compare Version Numbers"
   ]
  },
  {
   "cell_type": "code",
   "execution_count": 316,
   "metadata": {},
   "outputs": [],
   "source": [
    "class Solution:\n",
    "    def compareVersion(self, version1, version2):\n",
    "        \"\"\"\n",
    "        :type version1: str\n",
    "        :type version2: str\n",
    "        :rtype: int\n",
    "        \"\"\"\n",
    "        \n",
    "        versions1 = [int(v) for v in version1.split(\".\")]\n",
    "#             print('versions1 =', versions1)\n",
    "        versions2 = [int(v) for v in version2.split(\".\")]\n",
    "#             print('versions2 =', versions2)\n",
    "\n",
    "        for i in range(max(len(versions1),len(versions2))):\n",
    "#                 print('i =',i)\n",
    "            v1 = versions1[i] if i < len(versions1) else 0\n",
    "#                 print('v1 =',v1)\n",
    "            v2 = versions2[i] if i < len(versions2) else 0\n",
    "#                 print('v2 =', v2)\n",
    "\n",
    "            if v1 > v2:\n",
    "                return 1\n",
    "            elif v1 < v2:\n",
    "                return -1;\n",
    "\n",
    "        return 0;"
   ]
  },
  {
   "cell_type": "code",
   "execution_count": 317,
   "metadata": {},
   "outputs": [
    {
     "name": "stdout",
     "output_type": "stream",
     "text": [
      "versions1 = [0, 1]\n",
      "versions2 = [1, 1]\n",
      "i = 0\n",
      "v1 = 0\n",
      "v2 = 1\n"
     ]
    },
    {
     "data": {
      "text/plain": [
       "-1"
      ]
     },
     "execution_count": 317,
     "metadata": {},
     "output_type": "execute_result"
    }
   ],
   "source": [
    "s = Solution()\n",
    "s.compareVersion('0.1', '1.1')"
   ]
  },
  {
   "cell_type": "markdown",
   "metadata": {},
   "source": [
    "## 4. Median of Two Sorted Arrays"
   ]
  },
  {
   "cell_type": "code",
   "execution_count": 54,
   "metadata": {},
   "outputs": [
    {
     "name": "stdout",
     "output_type": "stream",
     "text": [
      "5\n",
      "yes\n"
     ]
    },
    {
     "data": {
      "text/plain": [
       "4"
      ]
     },
     "execution_count": 54,
     "metadata": {},
     "output_type": "execute_result"
    }
   ],
   "source": [
    "class Solution(object):\n",
    "    def findMedianSortedArrays(self, nums1, nums2):\n",
    "        \"\"\"\n",
    "        :type nums1: List[int]\n",
    "        :type nums2: List[int]\n",
    "        :rtype: float\n",
    "        \"\"\"\n",
    "        def findKth(A, pa, B, pb, k):\n",
    "            res = 0\n",
    "            m = 0\n",
    "            while pa < len(A) and pb < len(B) and m < k:\n",
    "                if A[pa] < B[pb]:\n",
    "                    res = A[pa]\n",
    "                    pa += 1\n",
    "                else:\n",
    "                    res = B[pb]\n",
    "                    pb += 1\n",
    "                m += 1\n",
    "\n",
    "            while pa < len(A) and m < k:\n",
    "                res = A[pa]\n",
    "                pa += 1\n",
    "                m += 1\n",
    "\n",
    "            while pb < len(B) and m < k:\n",
    "                res = B[pb]\n",
    "                pb += 1\n",
    "                m += 1\n",
    "\n",
    "            return res\n",
    "\n",
    "        n = len(nums1) + len(nums2)\n",
    "        print(n)\n",
    "        if n % 2 == 1:\n",
    "            print('yes')\n",
    "            return findKth(nums1, 0, nums2, 0, n // 2 + 1)\n",
    "        else:\n",
    "            smaller = findKth(nums1, 0, nums2, 0, n // 2)\n",
    "            bigger = findKth(nums1, 0, nums2, 0, n // 2 + 1)\n",
    "            return (smaller + bigger) / 2.0\n",
    "        \n",
    "a = Solution()\n",
    "a.findMedianSortedArrays([1,4,5],[2,6])"
   ]
  },
  {
   "cell_type": "code",
   "execution_count": 65,
   "metadata": {},
   "outputs": [
    {
     "data": {
      "text/plain": [
       "6"
      ]
     },
     "execution_count": 65,
     "metadata": {},
     "output_type": "execute_result"
    }
   ],
   "source": [
    "def findKth(A, pa, B, pb, k):\n",
    "    res = 0\n",
    "    m = 0\n",
    "    while pa < len(A) and pb < len(B) and m < k:\n",
    "        if A[pa] < B[pb]:\n",
    "            res = A[pa]\n",
    "            pa += 1\n",
    "        else:\n",
    "            res = B[pb]\n",
    "            pb += 1\n",
    "        m += 1\n",
    "\n",
    "    while pa < len(A) and m < k:\n",
    "        res = A[pa]\n",
    "        pa += 1\n",
    "        m += 1\n",
    "\n",
    "    while pb < len(B) and m < k:\n",
    "        res = B[pb]\n",
    "        pb += 1\n",
    "        m += 1\n",
    "\n",
    "    return res\n",
    "\n",
    "findKth([1,4,5],0,[2,6],0,5)"
   ]
  },
  {
   "cell_type": "code",
   "execution_count": 47,
   "metadata": {},
   "outputs": [
    {
     "data": {
      "text/plain": [
       "1"
      ]
     },
     "execution_count": 47,
     "metadata": {},
     "output_type": "execute_result"
    }
   ],
   "source": [
    "5//3"
   ]
  },
  {
   "cell_type": "code",
   "execution_count": 64,
   "metadata": {},
   "outputs": [
    {
     "data": {
      "text/plain": [
       "3"
      ]
     },
     "execution_count": 64,
     "metadata": {},
     "output_type": "execute_result"
    }
   ],
   "source": [
    "def findKth(A, B, k):\n",
    "    if len(A) == 0: # A 为空，第 k 小的数就是 B 中第k个数\n",
    "        return B[k-1]\n",
    "    if len(B) == 0: # B 为空，第 k 小的数就是 A 中第k个数\n",
    "        return A[k-1]\n",
    "    if k == 1: # k 为 1 就是求最小的数\n",
    "        return min(A[0], B[0])\n",
    "\n",
    "    a = A[k // 2 - 1] if len(A) >= k // 2 else None\n",
    "    b = B[k // 2 - 1] if len(B) >= k // 2 else None\n",
    "\n",
    "    # 如果 A 总共都没有 k // 2 个数字，那么 B 中 前 k // 2 个数字肯定在前 k 个数字中（升序排序）\n",
    "    # 令 i == k // 2， n < k//2\n",
    "    # 再令 B1 <= B2 <= B3 ... Bi\n",
    "    # \n",
    "    #                      A1 <= A2 <= A3 ... An, \n",
    "    #           B1 -> Bi\n",
    "    #             .... B1 -> Bi\n",
    "    #                     .....  B1 -> Bi\n",
    "    #                                  .....  B1 -> Bi\n",
    "    #                                               .....  B1 -> Bi\n",
    "    # 我们发现 B1 -> Bi 窗口无论怎么滑动，他们永远在前 k 个数字中\n",
    "\n",
    "    if a is None: \n",
    "        return findKth(A, B[k // 2:], k - k // 2) # 这里要注意：因为 k//2 不一定等于 (k - k//2)\n",
    "    if b is None:\n",
    "        return findKth(A[k // 2:], B, k - k // 2)\n",
    "    if a < b:\n",
    "        return findKth(A[k // 2:], B, k - k // 2)\n",
    "    else:\n",
    "        return findKth(A, B[k // 2:], k - k // 2)\n",
    "\n",
    "\n",
    "    if b is None or (a is not None and a < b):\n",
    "        return findKth(A[k // 2:], B, k - k // 2)\n",
    "    return findKth(A, B[k // 2:], k - k // 2)\n",
    "\n",
    "findKth([4,2,3],[5,6],3)"
   ]
  },
  {
   "cell_type": "markdown",
   "metadata": {},
   "source": [
    "## 6. Letter Combinations"
   ]
  },
  {
   "cell_type": "code",
   "execution_count": null,
   "metadata": {},
   "outputs": [],
   "source": [
    "class Solution(object):\n",
    "    def letterCombinations(self, digits):\n",
    "        \"\"\"\n",
    "        :type digits: str\n",
    "        :rtype: List[str]\n",
    "        \"\"\"\n",
    "        lookup = {\n",
    "            '2':['a','b','c'],\n",
    "            '3':['d','e','f'],\n",
    "            '4':['g','h','i'],\n",
    "            '5':['j','k','l'],\n",
    "            '6':['m','n','o'],\n",
    "            '7':['p','q','r','s'],\n",
    "            '8':['t','u','v'],\n",
    "            '9':['w','x','y','z']\n",
    "        }\n",
    "        \n",
    "        res = []\n",
    "\n",
    "        def helper(s, digits):\n",
    "            if len(digits) == 0:\n",
    "                res.append(s)\n",
    "            else:\n",
    "                cur_digit = digits[0]\n",
    "                for char in lookup[cur_digit]:\n",
    "                    helper(s+char, digits[1:])\n",
    "\n",
    "        if not digits or len(digits) == 0:\n",
    "            return res\n",
    "        helper('', digits)\n",
    "        return res"
   ]
  },
  {
   "cell_type": "markdown",
   "metadata": {},
   "source": [
    "## 15. 3Sum"
   ]
  },
  {
   "cell_type": "code",
   "execution_count": null,
   "metadata": {},
   "outputs": [],
   "source": [
    "# partially wrong\n",
    "class Solution:\n",
    "    def threeSum(self, nums):\n",
    "        res = []\n",
    "        nums.sort()\n",
    "        \n",
    "        for i in range(len(nums)):\n",
    "            if i > 0 and nums[i] == nums[i-1]:\n",
    "                continue\n",
    "        \n",
    "            l = i+1\n",
    "            r = len(nums)-1\n",
    "            \n",
    "            while l < r:\n",
    "                s = nums[i] + nums[l] + nums[r]\n",
    "                if s < 0:\n",
    "                    l += 1 \n",
    "                elif s > 0:\n",
    "                    r -= 1\n",
    "                else: # s == 0\n",
    "                    res.append((nums[i], nums[l], nums[r]))\n",
    "                    l += 1\n",
    "                    r -= 1\n",
    "                    \n",
    "                    while l < r and nums[l] == nums[l+1]:\n",
    "                        l += 1\n",
    "                    \n",
    "                    while l < r and nums[r] == nums[r-1]:\n",
    "                        r -= 1\n",
    "        return res"
   ]
  },
  {
   "cell_type": "code",
   "execution_count": null,
   "metadata": {},
   "outputs": [],
   "source": [
    "# right\n",
    "class Solution:\n",
    "    def threeSum(self, nums: List[int]) -> List[List[int]]:\n",
    "        nums.sort()\n",
    "        res =[]\n",
    "        i = 0\n",
    "        \n",
    "        for i in range(len(nums)):\n",
    "            if i == 0 or nums[i] > nums[i-1]:\n",
    "                l = i+1\n",
    "                r = len(nums)-1\n",
    "                \n",
    "                while l < r:\n",
    "                    s = nums[i] + nums[l] + nums[r]\n",
    "                    if s ==0:\n",
    "                        res.append([nums[i], nums[l], nums[r]])\n",
    "                        l +=1\n",
    "                        r -=1\n",
    "                        \n",
    "                        while l < r and nums[l] == nums[l-1]:\n",
    "                            l += 1\n",
    "                        while r > l and nums[r] == nums[r+1]:\n",
    "                            r -= 1\n",
    "                    elif s > 0:\n",
    "                        r -=1\n",
    "                    else :\n",
    "                        l +=1\n",
    "        return res"
   ]
  },
  {
   "cell_type": "code",
   "execution_count": 29,
   "metadata": {},
   "outputs": [
    {
     "name": "stdout",
     "output_type": "stream",
     "text": [
      "-4 -4 -4\n",
      "-4 -4 -1\n",
      "-4 -4 -1\n",
      "-4 -4 0\n",
      "-4 -4 1\n",
      "-4 -4 2\n",
      "-4 -1 -1\n",
      "-4 -1 -1\n",
      "-4 -1 0\n",
      "-4 -1 1\n",
      "-4 -1 2\n",
      "-4 -1 -1\n",
      "-4 -1 0\n",
      "-4 -1 1\n",
      "-4 -1 2\n",
      "-4 0 0\n",
      "-4 0 1\n",
      "-4 0 2\n",
      "-4 1 1\n",
      "-4 1 2\n",
      "-4 2 2\n",
      "-1 -1 -1\n",
      "-1 -1 -1\n",
      "-1 -1 0\n",
      "-1 -1 1\n",
      "-1 -1 2\n",
      "-1 -1 -1\n",
      "-1 -1 0\n",
      "-1 -1 1\n",
      "-1 -1 2\n",
      "-1 0 0\n",
      "-1 0 1\n",
      "-1 0 2\n",
      "-1 1 1\n",
      "-1 1 2\n",
      "-1 2 2\n",
      "-1 -1 -1\n",
      "-1 -1 0\n",
      "-1 -1 1\n",
      "-1 -1 2\n",
      "-1 0 0\n",
      "-1 0 1\n",
      "-1 0 2\n",
      "-1 1 1\n",
      "-1 1 2\n",
      "-1 2 2\n",
      "0 0 0\n",
      "0 0 1\n",
      "0 0 2\n",
      "0 1 1\n",
      "0 1 2\n",
      "0 2 2\n",
      "1 1 1\n",
      "1 1 2\n",
      "1 2 2\n",
      "2 2 2\n"
     ]
    }
   ],
   "source": [
    "nums = [-4,-1,-1,0,1,2]\n",
    "for i in range(len(nums)):\n",
    "    for j in range(i,len(nums)):\n",
    "        for k in range(j,len(nums)):\n",
    "            print(nums[i],nums[j],nums[k])"
   ]
  },
  {
   "cell_type": "markdown",
   "metadata": {},
   "source": [
    "## 20. Valid Parentheses "
   ]
  },
  {
   "cell_type": "code",
   "execution_count": 166,
   "metadata": {},
   "outputs": [],
   "source": [
    "class Solution(object):\n",
    "    def isValid(self, s):\n",
    "        while \"()\" in s or \"{}\" in s or '[]' in s:\n",
    "            s = s.replace(\"()\", \"\").replace('{}', \"\").replace('[]', \"\")\n",
    "        return s == ''"
   ]
  },
  {
   "cell_type": "markdown",
   "metadata": {},
   "source": [
    "## 21 Merge Two Sorted Lists"
   ]
  },
  {
   "cell_type": "code",
   "execution_count": 124,
   "metadata": {},
   "outputs": [],
   "source": [
    "class ListNode:\n",
    "    def __init__(self, x):\n",
    "        self.val = x\n",
    "        self.next = None\n",
    "\n",
    "class Solution:\n",
    "    def mergeTwoLists(self, l1, l2):\n",
    "#         if not l1 or not l2:\n",
    "#             return l1 or l2\n",
    "        \n",
    "#         if l1 == None:\n",
    "#             return l2\n",
    "#         elif l2 == None:\n",
    "#             return l1\n",
    "        \n",
    "        if not l1:\n",
    "            return l2\n",
    "        if not l2:\n",
    "            return l1\n",
    "        \n",
    "        if l1.val < l2.val:\n",
    "            l1.next = self.mergeTwoLists(l1.next, l2)\n",
    "            return l1\n",
    "        else:\n",
    "            l2.next = self.mergeTwoLists(l1, l2.next)\n",
    "            return l2\n",
    "    \n"
   ]
  },
  {
   "cell_type": "code",
   "execution_count": 123,
   "metadata": {},
   "outputs": [
    {
     "ename": "AttributeError",
     "evalue": "'NoneType' object has no attribute 'val'",
     "output_type": "error",
     "traceback": [
      "\u001b[0;31m---------------------------------------------------------------------------\u001b[0m",
      "\u001b[0;31mAttributeError\u001b[0m                            Traceback (most recent call last)",
      "\u001b[0;32m<ipython-input-123-49b6632b8b78>\u001b[0m in \u001b[0;36m<module>\u001b[0;34m\u001b[0m\n\u001b[1;32m      6\u001b[0m \u001b[0mx\u001b[0m\u001b[0;34m.\u001b[0m\u001b[0mval\u001b[0m\u001b[0;34m\u001b[0m\u001b[0;34m\u001b[0m\u001b[0m\n\u001b[1;32m      7\u001b[0m \u001b[0mx\u001b[0m\u001b[0;34m.\u001b[0m\u001b[0mnext\u001b[0m\u001b[0;34m.\u001b[0m\u001b[0mval\u001b[0m\u001b[0;34m\u001b[0m\u001b[0;34m\u001b[0m\u001b[0m\n\u001b[0;32m----> 8\u001b[0;31m \u001b[0mx\u001b[0m\u001b[0;34m.\u001b[0m\u001b[0mnext\u001b[0m\u001b[0;34m.\u001b[0m\u001b[0mnext\u001b[0m\u001b[0;34m.\u001b[0m\u001b[0mval\u001b[0m\u001b[0;34m\u001b[0m\u001b[0;34m\u001b[0m\u001b[0m\n\u001b[0m",
      "\u001b[0;31mAttributeError\u001b[0m: 'NoneType' object has no attribute 'val'"
     ]
    }
   ],
   "source": [
    "l1 = ListNode(1)\n",
    "l2 = ListNode(2)\n",
    "\n",
    "s = Solution()\n",
    "x = s.mergeTwoLists(l1,l2)\n",
    "x.val\n",
    "x.next.val"
   ]
  },
  {
   "cell_type": "code",
   "execution_count": 165,
   "metadata": {},
   "outputs": [
    {
     "name": "stdout",
     "output_type": "stream",
     "text": [
      "1\n"
     ]
    },
    {
     "data": {
      "text/plain": [
       "False"
      ]
     },
     "execution_count": 165,
     "metadata": {},
     "output_type": "execute_result"
    }
   ],
   "source": [
    "# def x(l1,l2):\n",
    "#     if l1 == None:\n",
    "#         return l2\n",
    "#     elif l2 == None:\n",
    "#         return l1\n",
    "    \n",
    "def x(l1, l2):\n",
    "    if not l1 or not l2:\n",
    "        return l1 or l2\n",
    "\n",
    "a = None\n",
    "b = ListNode(1)\n",
    "c = x(a,b)\n",
    "print(c.val)\n"
   ]
  },
  {
   "cell_type": "markdown",
   "metadata": {},
   "source": [
    "## 23. Merge k Sorted Lists (LinkedList)"
   ]
  },
  {
   "cell_type": "code",
   "execution_count": null,
   "metadata": {},
   "outputs": [],
   "source": [
    "# Definition for singly-linked list.\n",
    "# class ListNode:\n",
    "#     def __init__(self, x):\n",
    "#         self.val = x\n",
    "#         self.next = None\n",
    "\n",
    "class Solution:\n",
    "    \"\"\"\n",
    "    :type lists: List[ListNode]\n",
    "    :rtype: ListNode\n",
    "    \"\"\"\n",
    "    \n",
    "    def mergeKLists(self, lists):\n",
    "        if not lists:return \n",
    "        n = len(lists)\n",
    "        return self.merge(lists, 0, n-1)\n",
    "    \n",
    "    def merge(self,lists, left, right):\n",
    "        if left == right:\n",
    "            return lists[left]\n",
    "        mid = left + (right - left) // 2\n",
    "        l1 = self.merge(lists, left, mid)\n",
    "        l2 = self.merge(lists, mid+1, right)\n",
    "        return self.mergeTwoLists(l1, l2)\n",
    "    \n",
    "    def mergeTwoLists(self,l1, l2):\n",
    "        if not l1:return l2\n",
    "        if not l2:return l1\n",
    "        if l1.val < l2.val:\n",
    "            l1.next = self.mergeTwoLists(l1.next, l2)\n",
    "            return l1\n",
    "        else:\n",
    "            l2.next = self.mergeTwoLists(l1, l2.next)\n",
    "            return l2\n",
    "        "
   ]
  },
  {
   "cell_type": "markdown",
   "metadata": {},
   "source": [
    "## 22. Generate Parenthesis"
   ]
  },
  {
   "cell_type": "code",
   "execution_count": null,
   "metadata": {},
   "outputs": [],
   "source": [
    "class Solution:\n",
    "    def generateParenthesis(self, n):\n",
    "        \"\"\"\n",
    "        :type n: int\n",
    "        :rtype: List[str]\n",
    "        \"\"\"\n",
    "        self.res = []\n",
    "        self.singleStr('', 0, 0, n)\n",
    "        return self.res\n",
    "\n",
    "    def singleStr(self, s, left, right, n):\n",
    "        if left == n and right == n:\n",
    "            self.res.append(s)\n",
    "        if left < n:\n",
    "            self.singleStr(s + '(',left + 1, right, n)\n",
    "        if right < left:\n",
    "            self.singleStr(s + ')',left, right + 1, n)"
   ]
  },
  {
   "cell_type": "markdown",
   "metadata": {},
   "source": [
    "## 49. Group Anagrams"
   ]
  },
  {
   "cell_type": "code",
   "execution_count": null,
   "metadata": {},
   "outputs": [],
   "source": [
    "class Solution(object):\n",
    "    def groupAnagrams(self, strs):\n",
    "        \"\"\"\n",
    "        :type strs: List[str]\n",
    "        :rtype: List[List[str]]\n",
    "        \"\"\"\n",
    "        mapx = {}\n",
    "        for i in strs:\n",
    "            tmp = ''.join(sorted(list(i)))\n",
    "            if tmp in mapx:\n",
    "                mapx[tmp].append(i)\n",
    "            else:\n",
    "                mapx[tmp] = [i]\n",
    "        return list(mapx.values())"
   ]
  },
  {
   "cell_type": "markdown",
   "metadata": {},
   "source": [
    "## 53. Maximum Subarray"
   ]
  },
  {
   "cell_type": "code",
   "execution_count": 76,
   "metadata": {},
   "outputs": [],
   "source": [
    "class Solution(object):\n",
    "    def maxSubArray(self, nums):\n",
    "        \"\"\"\n",
    "        :type nums: List[int]\n",
    "        :rtype: int\n",
    "        \"\"\"\n",
    "        n = len(nums)\n",
    "        maxSum = [nums[0] for i in range(n)]\n",
    "        print('maxSum =', maxSum)\n",
    "        \n",
    "        for i in range(1, n):\n",
    "            print('i=', i)\n",
    "            maxSum[i] = max(maxSum[i - 1] + nums[i], nums[i])\n",
    "            print(f'maxSum [{i}] =', maxSum[i])\n",
    "        return max(maxSum)"
   ]
  },
  {
   "cell_type": "code",
   "execution_count": 77,
   "metadata": {},
   "outputs": [
    {
     "name": "stdout",
     "output_type": "stream",
     "text": [
      "maxSum = [-2, -2, -2, -2, -2, -2, -2, -2, -2]\n",
      "i= 1\n",
      "maxSum [1] = 1\n",
      "i= 2\n",
      "maxSum [2] = -2\n",
      "i= 3\n",
      "maxSum [3] = 4\n",
      "i= 4\n",
      "maxSum [4] = 3\n",
      "i= 5\n",
      "maxSum [5] = 5\n",
      "i= 6\n",
      "maxSum [6] = 6\n",
      "i= 7\n",
      "maxSum [7] = 1\n",
      "i= 8\n",
      "maxSum [8] = 5\n"
     ]
    },
    {
     "data": {
      "text/plain": [
       "6"
      ]
     },
     "execution_count": 77,
     "metadata": {},
     "output_type": "execute_result"
    }
   ],
   "source": [
    "s = Solution()\n",
    "sums = [-2,1,-3,4,-1,2,1,-5,4]\n",
    "s.maxSubArray(sums)"
   ]
  },
  {
   "cell_type": "markdown",
   "metadata": {},
   "source": [
    "## 54. Spiral Matrix"
   ]
  },
  {
   "cell_type": "code",
   "execution_count": 25,
   "metadata": {},
   "outputs": [],
   "source": [
    "class Solution(object):\n",
    "    def spiralOrder(self, matrix):\n",
    "        \"\"\"\n",
    "        :type matrix: List[List[int]]\n",
    "        :rtype: List[int]\n",
    "        \"\"\"\n",
    "        return matrix and list(matrix.pop(0)) + self.spiralOrder(list(zip(*matrix))[::-1])"
   ]
  },
  {
   "cell_type": "code",
   "execution_count": 50,
   "metadata": {},
   "outputs": [
    {
     "name": "stdout",
     "output_type": "stream",
     "text": [
      "[1, 2, 3]\n",
      "matrix2 = [(6, 9), (5, 8), (4, 7)]\n",
      "(6, 9)\n",
      "matrix3 = [(8, 7), (5, 4)]\n",
      "(8, 7)\n",
      "matrix4 = [(4,), (5,)]\n",
      "(4,)\n",
      "matrix5 = [(5,)]\n",
      "(5,)\n",
      "matrix6 = []\n",
      "[]\n",
      "[]\n"
     ]
    }
   ],
   "source": [
    "s = Solution()\n",
    "matrix = [[1, 2, 3],\n",
    "          [4, 5, 6],\n",
    "          [7, 8, 9]]\n",
    "\n",
    "print(matrix and matrix.pop(0))\n",
    "\n",
    "matrix2 = list(zip(*matrix))[::-1]\n",
    "print('matrix2 =', matrix2)\n",
    "print(matrix2 and matrix2.pop(0))\n",
    "\n",
    "\n",
    "matrix3 = list(zip(*matrix2))[::-1]\n",
    "print('matrix3 =', matrix3)\n",
    "print(matrix3 and matrix3.pop(0))\n",
    "\n",
    "matrix4 = list(zip(*matrix3))[::-1]\n",
    "print('matrix4 =', matrix4)\n",
    "print(matrix4 and matrix4.pop(0))\n",
    "\n",
    "matrix5 = list(zip(*matrix4))[::-1]\n",
    "print('matrix5 =', matrix5)\n",
    "print(matrix5 and matrix5.pop(0))\n",
    "\n",
    "matrix6 = list(zip(*matrix5))[::-1]\n",
    "print('matrix6 =', matrix6)\n",
    "print(matrix5 and matrix6.pop(0))\n",
    "\n",
    "# s.spiralOrder(matrix)\n"
   ]
  },
  {
   "cell_type": "code",
   "execution_count": 78,
   "metadata": {},
   "outputs": [
    {
     "ename": "TypeError",
     "evalue": "'int' object is not iterable",
     "output_type": "error",
     "traceback": [
      "\u001b[0;31m---------------------------------------------------------------------------\u001b[0m",
      "\u001b[0;31mTypeError\u001b[0m                                 Traceback (most recent call last)",
      "\u001b[0;32m<ipython-input-78-3f7e674a3af5>\u001b[0m in \u001b[0;36m<module>\u001b[0;34m\u001b[0m\n\u001b[1;32m      1\u001b[0m \u001b[0ml1\u001b[0m \u001b[0;34m=\u001b[0m \u001b[0;34m[\u001b[0m\u001b[0;36m1\u001b[0m\u001b[0;34m,\u001b[0m\u001b[0;36m2\u001b[0m\u001b[0;34m,\u001b[0m\u001b[0;36m3\u001b[0m\u001b[0;34m]\u001b[0m\u001b[0;34m\u001b[0m\u001b[0;34m\u001b[0m\u001b[0m\n\u001b[0;32m----> 2\u001b[0;31m \u001b[0ml1\u001b[0m \u001b[0;34m+=\u001b[0m \u001b[0;36m1\u001b[0m\u001b[0;34m\u001b[0m\u001b[0;34m\u001b[0m\u001b[0m\n\u001b[0m",
      "\u001b[0;31mTypeError\u001b[0m: 'int' object is not iterable"
     ]
    }
   ],
   "source": [
    "l1 = [1,2,3]\n",
    "l1 += 1"
   ]
  },
  {
   "cell_type": "code",
   "execution_count": 120,
   "metadata": {},
   "outputs": [],
   "source": [
    "class Solution(object):\n",
    "    def merge(self, intervals):\n",
    "        \"\"\"\n",
    "        :type intervals: List[List[int]]\n",
    "        :rtype: List[List[int]]\n",
    "        \"\"\"\n",
    "        res = []\n",
    "        new = sorted(intervals, key = lambda x: x[0])\n",
    "        print('new =', new)\n",
    "        for i in new:\n",
    "            print('i =', i)\n",
    "            if res and i[0] <= res[-1][-1]:\n",
    "                res[-1][-1] = max(res[-1][-1], i[-1])\n",
    "                print('res1 =', res)\n",
    "            else:\n",
    "                res.append(i)\n",
    "                print('res2 =', res)\n",
    "            print()\n",
    "        return res"
   ]
  },
  {
   "cell_type": "code",
   "execution_count": 121,
   "metadata": {},
   "outputs": [
    {
     "name": "stdout",
     "output_type": "stream",
     "text": [
      "new = [[1, 3], [2, 6], [8, 10], [15, 18]]\n",
      "i = [1, 3]\n",
      "res2 = [[1, 3]]\n",
      "\n",
      "i = [2, 6]\n",
      "res1 = [[1, 6]]\n",
      "\n",
      "i = [8, 10]\n",
      "res2 = [[1, 6], [8, 10]]\n",
      "\n",
      "i = [15, 18]\n",
      "res2 = [[1, 6], [8, 10], [15, 18]]\n",
      "\n"
     ]
    },
    {
     "data": {
      "text/plain": [
       "[[1, 6], [8, 10], [15, 18]]"
      ]
     },
     "execution_count": 121,
     "metadata": {},
     "output_type": "execute_result"
    }
   ],
   "source": [
    "s = Solution()\n",
    "s.merge([[1,3],[2,6],[8,10],[15,18]])"
   ]
  },
  {
   "cell_type": "markdown",
   "metadata": {},
   "source": [
    "## 88. Merge Sorted Arrays"
   ]
  },
  {
   "cell_type": "code",
   "execution_count": 10,
   "metadata": {},
   "outputs": [],
   "source": [
    "class Solution:\n",
    "    def merge(self, nums1, m, nums2, n):\n",
    "        \"\"\"\n",
    "        :type nums1: List[int]\n",
    "        :type m: int\n",
    "        :type nums2: List[int]\n",
    "        :type n: int\n",
    "        :rtype: void Do not return anything, modify nums1 in-place instead.\n",
    "        \"\"\"\n",
    "        while m > 0 and n > 0:\n",
    "            print('m =', m, 'n =', n)\n",
    "            if nums1[m-1] > nums2[n-1]:\n",
    "                nums1[m+n-1] = nums1[m-1]\n",
    "                print('nums1 =', nums1)\n",
    "                m -= 1\n",
    "                print('m =', m)\n",
    "            else:\n",
    "                nums1[m+n-1] = nums2[n-1]\n",
    "                print('nums1 =', nums1)\n",
    "                n -= 1\n",
    "                print('n =', n)\n",
    "                \n",
    "            print()\n",
    "        if n > 0:\n",
    "            nums1[:n] = nums2[:n]"
   ]
  },
  {
   "cell_type": "code",
   "execution_count": 11,
   "metadata": {},
   "outputs": [
    {
     "name": "stdout",
     "output_type": "stream",
     "text": [
      "m = 3 n = 3\n",
      "nums1 = [1, 2, 3, 0, 0, 6]\n",
      "n = 2\n",
      "\n",
      "m = 3 n = 2\n",
      "nums1 = [1, 2, 3, 0, 5, 6]\n",
      "n = 1\n",
      "\n",
      "m = 3 n = 1\n",
      "nums1 = [1, 2, 3, 3, 5, 6]\n",
      "m = 2\n",
      "\n",
      "m = 2 n = 1\n",
      "nums1 = [1, 2, 2, 3, 5, 6]\n",
      "n = 0\n",
      "\n"
     ]
    },
    {
     "data": {
      "text/plain": [
       "[1, 2, 2, 3, 5, 6]"
      ]
     },
     "execution_count": 11,
     "metadata": {},
     "output_type": "execute_result"
    }
   ],
   "source": [
    "s = Solution()\n",
    "nums1 = [1,2,3,0,0,0]\n",
    "nums2 = [2,5,6]\n",
    "s.merge(nums1,3,nums2,3)\n",
    "nums1"
   ]
  },
  {
   "cell_type": "markdown",
   "metadata": {},
   "source": [
    "## 121. Best Time to Buy and Sell Stock"
   ]
  },
  {
   "cell_type": "code",
   "execution_count": null,
   "metadata": {},
   "outputs": [],
   "source": [
    "class Solution:\n",
    "    def maxProfit(self, prices):\n",
    "        max_profit = 0\n",
    "        min_price = float('inf')\n",
    "        \n",
    "        for price in prices:\n",
    "            min_price = min(min_price, price)\n",
    "            profit = price - min_price\n",
    "            max_profit = max(max_profit, profit)\n",
    "            \n",
    "        return max_profit"
   ]
  },
  {
   "cell_type": "markdown",
   "metadata": {},
   "source": [
    "## 127 Word Ladder"
   ]
  },
  {
   "cell_type": "code",
   "execution_count": 187,
   "metadata": {},
   "outputs": [
    {
     "data": {
      "text/plain": [
       "[('hit', 1)]"
      ]
     },
     "execution_count": 187,
     "metadata": {},
     "output_type": "execute_result"
    }
   ],
   "source": [
    "beginWord = 'hit'\n",
    "queue = [(beginWord, 1)]\n",
    "queue"
   ]
  },
  {
   "cell_type": "code",
   "execution_count": 193,
   "metadata": {},
   "outputs": [
    {
     "data": {
      "text/plain": [
       "{'hit'}"
      ]
     },
     "execution_count": 193,
     "metadata": {},
     "output_type": "execute_result"
    }
   ],
   "source": [
    "visited = set(['hit'])\n",
    "visited"
   ]
  },
  {
   "cell_type": "code",
   "execution_count": 67,
   "metadata": {},
   "outputs": [
    {
     "data": {
      "text/plain": [
       "5"
      ]
     },
     "execution_count": 67,
     "metadata": {},
     "output_type": "execute_result"
    }
   ],
   "source": [
    "from collections import defaultdict\n",
    "\n",
    "def ladderLength(beginWord, endWord, wordList):\n",
    "    \"\"\"\n",
    "    :type beginWord: str\n",
    "    :type endWord: str\n",
    "    :type wordList: List[str]\n",
    "    :rtype: int\n",
    "    \"\"\"\n",
    "\n",
    "    if endWord not in wordList or not endWord or not beginWord or not wordList:\n",
    "        return 0\n",
    "\n",
    "    # Since all words are of same length.\n",
    "    L = len(beginWord)\n",
    "\n",
    "    # Dictionary to hold combination of words that can be formed,\n",
    "    # from any given word. By changing one letter at a time.\n",
    "    all_combo_dict = defaultdict(list)\n",
    "    for word in wordList:\n",
    "        for i in range(L):\n",
    "            # Key is the generic word\n",
    "            # Value is a list of words which have the same intermediate generic word.\n",
    "            all_combo_dict[word[:i] + \"*\" + word[i+1:]].append(word)\n",
    "\n",
    "\n",
    "    # Queue for BFS\n",
    "    queue = [(beginWord, 1)]\n",
    "    # Visited to make sure we don't repeat processing same word.\n",
    "    visited = {beginWord: True}\n",
    "    while queue:\n",
    "        current_word, level = queue.pop(0)      \n",
    "        for i in range(L):\n",
    "            # Intermediate words for current word\n",
    "            intermediate_word = current_word[:i] + \"*\" + current_word[i+1:]\n",
    "\n",
    "            # Next states are all the words which share the same intermediate state.\n",
    "            for word in all_combo_dict[intermediate_word]:\n",
    "                # If at any point if we find what we are looking for\n",
    "                # i.e. the end word - we can return with the answer.\n",
    "                if word == endWord:\n",
    "                    return level + 1\n",
    "\n",
    "                # Otherwise, add it to the BFS Queue. Also mark it visited\n",
    "                if word not in visited:\n",
    "                    visited[word] = True\n",
    "                    queue.append((word, level + 1))\n",
    "\n",
    "            all_combo_dict[intermediate_word] = []\n",
    "    return 0\n",
    "\n",
    "ladderLength(\"hit\",\"cog\", [\"hot\",\"dot\",\"dog\",\"lot\",\"log\",\"cog\"])"
   ]
  },
  {
   "cell_type": "markdown",
   "metadata": {},
   "source": [
    "## 151. Reverse Words in String"
   ]
  },
  {
   "cell_type": "code",
   "execution_count": null,
   "metadata": {},
   "outputs": [],
   "source": [
    "class Solution(object):\n",
    "    def reverseWords(self, s):\n",
    "        \"\"\"\n",
    "        :type s: str\n",
    "        :rtype: str\n",
    "        \"\"\"\n",
    "        return ' '.join(s.split()[::-1]).strip()"
   ]
  },
  {
   "cell_type": "markdown",
   "metadata": {},
   "source": [
    "## 206. Reverse Linked List"
   ]
  },
  {
   "cell_type": "code",
   "execution_count": null,
   "metadata": {},
   "outputs": [],
   "source": [
    "# Definition for singly-linked list.\n",
    "# class ListNode:\n",
    "#     def __init__(self, x):\n",
    "#         self.val = x\n",
    "#         self.next = None\n",
    "\n",
    "class Solution(object):        \n",
    "    def reverseList(self, head):  # Iterative\n",
    "        curr = head\n",
    "        prev = None\n",
    "        while curr:\n",
    "            curr.next = prev\n",
    "            prev = curr\n",
    "            curr = curr.next\n",
    "        return prev"
   ]
  },
  {
   "cell_type": "markdown",
   "metadata": {},
   "source": [
    "## 215. Kth Largest Element in an Array"
   ]
  },
  {
   "cell_type": "code",
   "execution_count": null,
   "metadata": {},
   "outputs": [],
   "source": [
    "class Solution(object):\n",
    "    def findKthLargest(self, nums, k):\n",
    "        \"\"\"\n",
    "        :type nums: List[int]\n",
    "        :type k: int\n",
    "        :rtype: int\n",
    "        \"\"\"\n",
    "        pivot = nums[0]\n",
    "        smaller  = [num for num in nums if num < pivot]\n",
    "        equal = [num for num in nums if num == pivot]\n",
    "        greater = [num for num in nums if num > pivot]\n",
    "\n",
    "        if len(greater) >= k:\n",
    "            return self.findKthLargest(greater, k) #k may be there\n",
    "        elif len(equal) >= (k - len(greater)): # k may be in equal or smaller\n",
    "            return equal[0] # any number from equal\n",
    "        else:\n",
    "            return self.findKthLargest(smaller, k - len(greater) - len(equal))"
   ]
  },
  {
   "cell_type": "markdown",
   "metadata": {},
   "source": [
    "## 238. Product of Array Except Self"
   ]
  },
  {
   "cell_type": "code",
   "execution_count": 169,
   "metadata": {},
   "outputs": [],
   "source": [
    "class Solution:\n",
    "    def productExceptSelf(self, nums):\n",
    "        \n",
    "        # The length of the input array \n",
    "        length = len(nums)\n",
    "        \n",
    "        # The left and right arrays as described in the algorithm\n",
    "        L, R, answer = [0]*length, [0]*length, [0]*length\n",
    "        \n",
    "        # L[i] contains the product of all the elements to the left\n",
    "        # Note: for the element at index '0', there are no elements to the left,\n",
    "        # so the L[0] would be 1\n",
    "        L[0] = 1\n",
    "        for i in range(1, length):\n",
    "            \n",
    "            # L[i - 1] already contains the product of elements to the left of 'i - 1'\n",
    "            # Simply multiplying it with nums[i - 1] would give the product of all \n",
    "            # elements to the left of index 'i'\n",
    "            L[i] = nums[i - 1] * L[i - 1]\n",
    "        \n",
    "        # R[i] contains the product of all the elements to the right\n",
    "        # Note: for the element at index 'length - 1', there are no elements to the right,\n",
    "        # so the R[length - 1] would be 1\n",
    "        R[length - 1] = 1\n",
    "        for i in reversed(range(length - 1)):\n",
    "            \n",
    "            # R[i + 1] already contains the product of elements to the right of 'i + 1'\n",
    "            # Simply multiplying it with nums[i + 1] would give the product of all \n",
    "            # elements to the right of index 'i'\n",
    "            R[i] = nums[i + 1] * R[i + 1]\n",
    "        \n",
    "        # Constructing the answer array\n",
    "        for i in range(length):\n",
    "            # For the first element, R[i] would be product except self\n",
    "            # For the last element of the array, product except self would be L[i]\n",
    "            # Else, multiple product of all elements to the left and to the right\n",
    "            answer[i] = L[i] * R[i]\n",
    "        \n",
    "        return answer"
   ]
  },
  {
   "cell_type": "code",
   "execution_count": 171,
   "metadata": {},
   "outputs": [
    {
     "data": {
      "text/plain": [
       "[24, 12, 8, 6]"
      ]
     },
     "execution_count": 171,
     "metadata": {},
     "output_type": "execute_result"
    }
   ],
   "source": [
    "s = Solution()\n",
    "s.productExceptSelf([1,2,3,4])"
   ]
  },
  {
   "cell_type": "code",
   "execution_count": 172,
   "metadata": {},
   "outputs": [
    {
     "data": {
      "text/plain": [
       "[0, 0, 0]"
      ]
     },
     "execution_count": 172,
     "metadata": {},
     "output_type": "execute_result"
    }
   ],
   "source": [
    "[0]*3"
   ]
  },
  {
   "cell_type": "code",
   "execution_count": 175,
   "metadata": {},
   "outputs": [
    {
     "data": {
      "text/plain": [
       "[2, 4]"
      ]
     },
     "execution_count": 175,
     "metadata": {},
     "output_type": "execute_result"
    }
   ],
   "source": [
    "l1 = [0,2,4]\n",
    "l1.pop(0)\n",
    "l1"
   ]
  },
  {
   "cell_type": "markdown",
   "metadata": {},
   "source": [
    "## 297. Serialize and Deserialize Binary Tree"
   ]
  },
  {
   "cell_type": "code",
   "execution_count": null,
   "metadata": {},
   "outputs": [],
   "source": [
    "# Definition for a binary tree node.\n",
    "# class TreeNode(object):\n",
    "#     def __init__(self, x):\n",
    "#         self.val = x\n",
    "#         self.left = None\n",
    "#         self.right = None\n",
    "\n",
    "class Codec:\n",
    "    def serialize(self, root):\n",
    "        \"\"\"Encodes a tree to a single string.\n",
    "        \n",
    "        :type root: TreeNode\n",
    "        :rtype: str\n",
    "        \"\"\"\n",
    "\n",
    "        s = \"\"\n",
    "        queue = []\n",
    "        queue.append(root)\n",
    "        while queue:\n",
    "            root = queue.pop(0)\n",
    "            if root:\n",
    "                s += str(root.val)\n",
    "                queue.append(root.left)\n",
    "                queue.append(root.right)\n",
    "            else:\n",
    "                s += \"n\"\n",
    "            s += \" \"        \n",
    "        return s\n",
    "\n",
    "    def deserialize(self, data):\n",
    "        \"\"\"Decodes your encoded data to tree.\n",
    "        \n",
    "        :type data: str\n",
    "        :rtype: TreeNode\n",
    "        \"\"\"\n",
    " \n",
    "        tree = data.split()\n",
    "        print(tree)\n",
    "        if tree[0] == \"n\":\n",
    "            return None\n",
    "        \n",
    "        queue = []\n",
    "        root = TreeNode(int(tree[0]))\n",
    "        queue.append(root)\n",
    "        i = 1\n",
    "        \n",
    "        while queue:\n",
    "            cur = queue.pop(0)\n",
    "            if cur == None:\n",
    "                continue\n",
    "            cur.left = TreeNode(int(tree[i])) if tree[i] != \"n\" else None\n",
    "            cur.right = TreeNode(int(tree[i + 1])) if tree[i + 1] != \"n\" else None\n",
    "            i += 2\n",
    "            queue.append(cur.left)\n",
    "            queue.append(cur.right)\n",
    "        return root\n",
    "        \n",
    "\n",
    "# Your Codec object will be instantiated and called as such:\n",
    "# codec = Codec()\n",
    "# codec.deserialize(codec.serialize(root))"
   ]
  },
  {
   "cell_type": "markdown",
   "metadata": {},
   "source": [
    "## 308. Insert Delete GetRandom O(1)"
   ]
  },
  {
   "cell_type": "code",
   "execution_count": null,
   "metadata": {},
   "outputs": [],
   "source": [
    "import random\n",
    "class RandomizedSet(object):\n",
    "\n",
    "    def __init__(self):\n",
    "        \"\"\"\n",
    "        Initialize your data structure here.\n",
    "        \"\"\"\n",
    "        self.nums = [] \n",
    "        self.pos = {}\n",
    "        \n",
    "\n",
    "    def insert(self, val):\n",
    "        \"\"\"\n",
    "        Inserts a value to the set. Returns true if the set did not already contain the specified element.\n",
    "        :type val: int\n",
    "        :rtype: bool\n",
    "        \"\"\"\n",
    "        if val not in self.pos:\n",
    "            self.nums.append(val)\n",
    "            self.pos[val] = len(self.nums) - 1\n",
    "            return True\n",
    "        return False\n",
    "        \n",
    "\n",
    "    def remove(self, val):\n",
    "        \"\"\"\n",
    "        Removes a value from the set. Returns true if the set contained the specified element.\n",
    "        :type val: int\n",
    "        :rtype: bool\n",
    "        \"\"\"\n",
    "        if val in self.pos:\n",
    "            idx = self.pos[val] \n",
    "            last = self.nums[-1]\n",
    "            self.nums[idx] = last\n",
    "            self.pos[last] = idx\n",
    "            self.nums.pop()\n",
    "            self.pos.pop(val, 0)\n",
    "            return True\n",
    "        return False\n",
    "\n",
    "    def getRandom(self):\n",
    "        \"\"\"\n",
    "        Get a random element from the set.\n",
    "        :rtype: int\n",
    "        \"\"\"\n",
    "        return self.nums[random.randint(0, len(self.nums) - 1)]\n",
    "\n",
    "\n",
    "# Your RandomizedSet object will be instantiated and called as such:\n",
    "# obj = RandomizedSet()\n",
    "# param_1 = obj.insert(val)\n",
    "# param_2 = obj.remove(val)\n",
    "# param_3 = obj.getRandom()"
   ]
  },
  {
   "cell_type": "markdown",
   "metadata": {},
   "source": [
    "## 771. Jewesl and Stones"
   ]
  },
  {
   "cell_type": "code",
   "execution_count": 308,
   "metadata": {},
   "outputs": [
    {
     "data": {
      "text/plain": [
       "3"
      ]
     },
     "execution_count": 308,
     "metadata": {},
     "output_type": "execute_result"
    }
   ],
   "source": [
    "class Solution(object):\n",
    "    def numJewelsInStones(self, J, S):\n",
    "        return sum([s in J for s in S])\n",
    "    \n",
    "s = Solution()\n",
    "s.numJewelsInStones(\"aA\", \"aAAbbbb\")"
   ]
  },
  {
   "cell_type": "code",
   "execution_count": 309,
   "metadata": {},
   "outputs": [
    {
     "data": {
      "text/plain": [
       "[True, True, True, False, False, False, False]"
      ]
     },
     "execution_count": 309,
     "metadata": {},
     "output_type": "execute_result"
    }
   ],
   "source": [
    "J = 'aA'\n",
    "S = 'aAAbbbb'\n",
    "[s in J for s in S]"
   ]
  },
  {
   "cell_type": "markdown",
   "metadata": {},
   "source": [
    "## 929. Unique Email Adress"
   ]
  },
  {
   "cell_type": "code",
   "execution_count": null,
   "metadata": {},
   "outputs": [],
   "source": [
    "class Solution(object):\n",
    "    def numUniqueEmails(self, emails):\n",
    "        \"\"\"\n",
    "        :type emails: List[str]\n",
    "        :rtype: int\n",
    "        \"\"\"\n",
    "        seen = set()\n",
    "        for email in emails:\n",
    "            local, domain = email.split('@')\n",
    "            if '+' in local:\n",
    "                local = local[:local.index('+')]\n",
    "            seen.add(local.replace('.','') + '@' + domain)\n",
    "        return len(seen)"
   ]
  }
 ],
 "metadata": {
  "kernelspec": {
   "display_name": "Python 3",
   "language": "python",
   "name": "python3"
  },
  "language_info": {
   "codemirror_mode": {
    "name": "ipython",
    "version": 3
   },
   "file_extension": ".py",
   "mimetype": "text/x-python",
   "name": "python",
   "nbconvert_exporter": "python",
   "pygments_lexer": "ipython3",
   "version": "3.6.8"
  },
  "toc": {
   "base_numbering": 1,
   "nav_menu": {
    "height": "654px",
    "width": "421px"
   },
   "number_sections": true,
   "sideBar": false,
   "skip_h1_title": false,
   "title_cell": "Table of Contents",
   "title_sidebar": "Contents",
   "toc_cell": true,
   "toc_position": {},
   "toc_section_display": true,
   "toc_window_display": false
  },
  "toc-autonumbering": true
 },
 "nbformat": 4,
 "nbformat_minor": 2
}
