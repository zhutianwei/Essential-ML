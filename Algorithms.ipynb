{
 "cells": [
  {
   "cell_type": "markdown",
   "metadata": {
    "toc": true
   },
   "source": [
    "<h1>Table of Contents<span class=\"tocSkip\"></span></h1>\n",
    "<div class=\"toc\"><ul class=\"toc-item\"><li><span><a href=\"#Data-Structure-and-Algorithm\" data-toc-modified-id=\"Data-Structure-and-Algorithm-1\"><span class=\"toc-item-num\">1&nbsp;&nbsp;</span>Data Structure and Algorithm</a></span><ul class=\"toc-item\"><li><span><a href=\"#Chapter-4:-Recursion\" data-toc-modified-id=\"Chapter-4:-Recursion-1.1\"><span class=\"toc-item-num\">1.1&nbsp;&nbsp;</span>Chapter 4: Recursion</a></span></li><li><span><a href=\"#Chapter-12:-Sorting\" data-toc-modified-id=\"Chapter-12:-Sorting-1.2\"><span class=\"toc-item-num\">1.2&nbsp;&nbsp;</span>Chapter 12: Sorting</a></span></li></ul></li></ul></div>"
   ]
  },
  {
   "cell_type": "markdown",
   "metadata": {},
   "source": [
    "# Data Structure and Algorithm\n",
    "\n",
    "* Introduction and Efficiency\n",
    "* Course Introduction\n",
    "* Syntax\n",
    "* Efficiency\n",
    "* Notation of Efficiency\n",
    "* List-Based Collections\n",
    "    * Lists/Arrays\n",
    "    * Linked Lists\n",
    "    * Stacks\n",
    "    * Queues\n",
    "* Searching and Sorting\n",
    "    * Binary Search\n",
    "    * Recursion\n",
    "    * Bubble Sort\n",
    "    * Merge Sort\n",
    "    * Quick Sort\n",
    "* Maps and Hashing\n",
    "    * Maps\n",
    "    * Hashing\n",
    "    * Collisions\n",
    "    * Hashing Conventions\n",
    "* Trees\n",
    "    * Trees\n",
    "    * Tree Traversal\n",
    "    * Binary Trees\n",
    "    * Binary Search Trees\n",
    "    * Heaps\n",
    "    * Self-Balancing Trees\n",
    "* Graphs\n",
    "    * Graphs\n",
    "    * Graph Properties\n",
    "    * Graph Representation\n",
    "    * Graph Traversal\n",
    "    * Graph Paths\n",
    "* Case Studies in Algorithms\n",
    "* Shortest Path Problem\n",
    "* Knapsack Problem\n",
    "* Traveling Salesman Problem\n",
    "* Technical Interview Tips\n",
    "* Mock Interview Breakdown\n",
    "* Additional Tips\n",
    "* Practice with Pramp"
   ]
  },
  {
   "cell_type": "code",
   "execution_count": null,
   "metadata": {},
   "outputs": [],
   "source": [
    "class NewList(list):\n",
    "    pass\n",
    "        \n",
    "a = NewList()\n",
    "print(a)"
   ]
  },
  {
   "cell_type": "code",
   "execution_count": null,
   "metadata": {},
   "outputs": [],
   "source": []
  },
  {
   "cell_type": "markdown",
   "metadata": {},
   "source": [
    "## Chapter 4: Recursion"
   ]
  },
  {
   "cell_type": "code",
   "execution_count": 1,
   "metadata": {},
   "outputs": [],
   "source": [
    "def factorial(n):\n",
    "    if n == 0:\n",
    "        return 1\n",
    "    else:\n",
    "        return n * factorial(n-1)"
   ]
  },
  {
   "cell_type": "code",
   "execution_count": null,
   "metadata": {},
   "outputs": [],
   "source": [
    "def binary_search(data, target, low, high):\n",
    "    \"\"\"Return True if target is found in indicated portion of a Python list.\n",
    "\n",
    "    The search only considers the portion from data[low] to data[high] inclusive.\n",
    "    \"\"\"\n",
    "    if low > high:\n",
    "        return False                    # interval is empty; no match\n",
    "    else:\n",
    "        mid = (low + high) // 2\n",
    "        if target == data[mid]:         # found a match\n",
    "            return True\n",
    "        elif target < data[mid]:\n",
    "        # recur on the portion left of the middle\n",
    "            return binary_search(data, target, low, mid - 1)\n",
    "        else:\n",
    "        # recur on the portion right of the middle\n",
    "            return binary_search(data, target, mid + 1, high)"
   ]
  },
  {
   "cell_type": "code",
   "execution_count": null,
   "metadata": {},
   "outputs": [],
   "source": [
    "# def bad_fibonacci(n):\n",
    "#   \"\"\"Return the nth Fibonacci number.\"\"\"\n",
    "#   if n <= 1:\n",
    "#     return n\n",
    "#   else:\n",
    "#     return bad_fibonacci(n-2) + bad_fibonacci(n-1)\n",
    "\n",
    "def good_fibonacci(n):\n",
    "    \"\"\"Return pair of Fibonacci numbers, F(n) and F(n-1).\"\"\"\n",
    "    if n <= 1:\n",
    "        return (n,0)\n",
    "    else:\n",
    "        (a, b) = good_fibonacci(n-1)\n",
    "        return (a+b, a)"
   ]
  },
  {
   "cell_type": "code",
   "execution_count": null,
   "metadata": {},
   "outputs": [],
   "source": [
    "def linear_sum(S, n):\n",
    "    \"\"\"Return the sum of the first n numbers of sequence S.\"\"\"\n",
    "    if n == 0:\n",
    "        return 0\n",
    "    else:\n",
    "        return linear_sum(S, n-1) + S[n-1]\n",
    "\n",
    "linear_sum([4, 3, 6, 2, 8], 5)"
   ]
  },
  {
   "cell_type": "code",
   "execution_count": null,
   "metadata": {},
   "outputs": [],
   "source": [
    "def reverse(S, start, stop):\n",
    "    \"\"\"Reverse elements in implicit slice S[start:stop].\"\"\"\n",
    "    if start < stop - 1:                         # if at least 2 elements:\n",
    "        S[start], S[stop-1] = S[stop-1], S[start]  # swap first and last\n",
    "        reverse(S, start+1, stop-1)                # recur on rest\n",
    "\n",
    "S = [4,3,6,2,8,9,5]\n",
    "reverse(S,0,7)\n",
    "S"
   ]
  },
  {
   "cell_type": "code",
   "execution_count": null,
   "metadata": {},
   "outputs": [],
   "source": [
    "# # power slow\n",
    "# def power(x, n):\n",
    "#     \"\"\"Compute the value x**n for integer n.\"\"\"\n",
    "#     if n == 0:\n",
    "#         return 1\n",
    "#     else:\n",
    "#         return x * power(x, n-1)\n",
    "\n",
    "# power fast\n",
    "def power(x, n):\n",
    "    \"\"\"Compute the value x**n for integer n.\"\"\"\n",
    "    if n == 0:\n",
    "        return 1\n",
    "    else:\n",
    "        partial = power(x, n // 2)          # rely on truncated division\n",
    "        result = partial * partial\n",
    "        if n % 2 == 1:                      # if n odd, include extra factor of x\n",
    "            result *= x                       \n",
    "        return result\n",
    "    \n",
    "power(3,2)"
   ]
  },
  {
   "cell_type": "code",
   "execution_count": null,
   "metadata": {},
   "outputs": [],
   "source": [
    "def binary_sum(S, start, stop):\n",
    "    \"\"\"Return the sum of the numbers in implicit slice S[start:stop].\"\"\"\n",
    "    if start >= stop:                      # zero elements in slice\n",
    "        return 0\n",
    "    elif start == stop-1:                  # one element in slice\n",
    "        return S[start]\n",
    "    else:                                  # two or more elements in slice\n",
    "        mid = (start + stop) // 2\n",
    "        return binary_sum(S, start, mid) + binary_sum(S, mid, stop)"
   ]
  },
  {
   "cell_type": "markdown",
   "metadata": {},
   "source": [
    "## Chapter 12: Sorting\n",
    "\n",
    "• Insertion-sort (see Sections 5.5.2, 7.5, and 9.4.1)  \n",
    "• Selection-sort (see Section 9.4.1)  \n",
    "• Bubble-sort (see Exercise C-7.38)  \n",
    "• Heap-sort (see Section 9.4.2)"
   ]
  },
  {
   "cell_type": "code",
   "execution_count": null,
   "metadata": {},
   "outputs": [],
   "source": [
    "def insertion_sort(A):\n",
    "    \"\"\"Sort list of comparable elements into nondecreasing order.\"\"\"\n",
    "    for k in range(1, len(A)):         # from 1 to n-1\n",
    "        cur = A[k]                       # current element to be inserted\n",
    "        j = k                            # find correct index j for current\n",
    "        while j > 0 and A[j-1] > cur:    # element A[j-1] must be after current\n",
    "            A[j] = A[j-1]\n",
    "            j -= 1\n",
    "        A[j] = cur                       # cur is now in the right place\n",
    "        \n",
    "A = [3,2,4,5,7]\n",
    "insertion_sort(A)\n",
    "A"
   ]
  },
  {
   "cell_type": "code",
   "execution_count": null,
   "metadata": {},
   "outputs": [],
   "source": [
    "def merge(S1, S2, S):\n",
    "    \"\"\"Merge two sorted Python lists S1 and S2 into properly sized list S.\"\"\"\n",
    "    i = j = 0\n",
    "    while i + j < len(S):\n",
    "        if j == len(S2) or (i < len(S1) and S1[i] < S2[j]):\n",
    "            S[i+j] = S1[i]      # copy ith element of S1 as next item of S\n",
    "            i += 1\n",
    "        else:\n",
    "            S[i+j] = S2[j]      # copy jth element of S2 as next item of S\n",
    "            j += 1\n",
    "\n",
    "def merge_sort(S):\n",
    "    \"\"\"Sort the elements of Python list S using the merge-sort algorithm.\"\"\"\n",
    "    n = len(S)\n",
    "    if n < 2:\n",
    "        return                # list is already sorted\n",
    "  \n",
    "    # divide\n",
    "    mid = n // 2\n",
    "    S1 = S[0:mid]           # copy of first half\n",
    "    S2 = S[mid:n]           # copy of second half\n",
    "    # conquer (with recursion)\n",
    "    merge_sort(S1)          # sort copy of first half\n",
    "    merge_sort(S2)          # sort copy of second half\n",
    "    # merge results\n",
    "    merge(S1, S2, S)        # merge sorted halves back into S\n",
    "    \n",
    "S = [85,24,63,45,17,31,96,50]\n",
    "merge_sort(S)\n",
    "S"
   ]
  },
  {
   "cell_type": "code",
   "execution_count": null,
   "metadata": {},
   "outputs": [],
   "source": [
    "def quick_sort(S):\n",
    "    \"\"\"Sort the elements of queue S using the quick-sort algorithm.\"\"\"\n",
    "    n = len(S)\n",
    "    if n < 2:\n",
    "        return                            # list is already sorted\n",
    "    # divide\n",
    "    p = S.first()                       # using first as arbitrary pivot\n",
    "    L = LinkedQueue()\n",
    "    E = LinkedQueue()\n",
    "    G = LinkedQueue()\n",
    "    while not S.is_empty():             # divide S into L, E, and G\n",
    "        if S.first() < p:\n",
    "            L.enqueue(S.dequeue())\n",
    "        elif p < S.first():\n",
    "            G.enqueue(S.dequeue())\n",
    "        else:                             # S.first() must equal pivot\n",
    "            E.enqueue(S.dequeue())\n",
    "    # conquer (with recursion)\n",
    "    quick_sort(L)                       # sort elements less than p\n",
    "    quick_sort(G)                       # sort elements greater than p\n",
    "        # concatenate results\n",
    "    while not L.is_empty():\n",
    "        S.enqueue(L.dequeue())\n",
    "    while not E.is_empty():\n",
    "        S.enqueue(E.dequeue())\n",
    "    while not G.is_empty():\n",
    "        S.enqueue(G.dequeue()) \n",
    "        \n",
    "[85,24,63,45,17,31,96,50]\n",
    "S = ArrayQueue()\n",
    "S.enqueue(85)\n",
    "S.enqueue(24)\n",
    "S.enqueue(63)\n",
    "S.__len__()\n",
    "quick_sort(S)\n",
    "S"
   ]
  },
  {
   "cell_type": "code",
   "execution_count": null,
   "metadata": {},
   "outputs": [],
   "source": [
    "# Python program to check if the input number is prime or not\n",
    "\n",
    "num = 407\n",
    "\n",
    "# take input from the user\n",
    "# num = int(input(\"Enter a number: \"))\n",
    "\n",
    "# prime numbers are greater than 1\n",
    "if num > 1:\n",
    "   # check for factors\n",
    "   for i in range(2,num):\n",
    "       if (num % i) == 0:\n",
    "           print(num,\"is not a prime number\")\n",
    "           print(i,\"times\",num//i,\"is\",num)\n",
    "           break\n",
    "   else:\n",
    "       print(num,\"is a prime number\")\n",
    "       \n",
    "# if input number is less than\n",
    "# or equal to 1, it is not prime\n",
    "else:\n",
    "   print(num,\"is not a prime number\")"
   ]
  },
  {
   "cell_type": "code",
   "execution_count": 18,
   "metadata": {},
   "outputs": [
    {
     "data": {
      "text/plain": [
       "[0, 1]"
      ]
     },
     "execution_count": 18,
     "metadata": {},
     "output_type": "execute_result"
    }
   ],
   "source": [
    "# class Solution(object):\n",
    "#     def twoSum(self, nums, target):\n",
    "#         \"\"\"\n",
    "#         :type nums: List[int]\n",
    "#         :type target: int\n",
    "#         :rtype: List[int]\n",
    "#         \"\"\"\n",
    "#         for i in range(len(nums)):\n",
    "#             for j in range(i+1, len(nums)):\n",
    "#                 if nums[i] + nums[j] == target:\n",
    "#                     return [i, j]\n",
    "\n",
    "# def twoSum(nums, target):\n",
    "#     \"\"\"\n",
    "#     :type nums: List[int]\n",
    "#     :type target: int\n",
    "#     :rtype: List[int]\n",
    "#     \"\"\"\n",
    "#     dict = {}\n",
    "#     for i in range(len(nums)):\n",
    "#         if target-nums[i] not in dict:\n",
    "#             dict[nums[i]]=i\n",
    "#         else:\n",
    "#             return [dict[target-nums[i]],i]\n",
    "            \n",
    "# twoSum([2,7,11,15],9) \n",
    "\n",
    "class Solution:\n",
    "    def twoSum(self, nums, target):\n",
    "        \"\"\"\n",
    "        :type nums: List[int]\n",
    "        :type target: int\n",
    "        :rtype: List[int]\n",
    "        \"\"\"\n",
    "        dic = {}\n",
    "        for i, num in enumerate(nums):\n",
    "            n = target - num\n",
    "            if n not in dic:\n",
    "                dic[num] = i\n",
    "            else:\n",
    "                return [dic[n], i]\n",
    "            \n",
    "x = Solution()\n",
    "x.twoSum([2,7,11,15],9)"
   ]
  },
  {
   "cell_type": "code",
   "execution_count": 11,
   "metadata": {},
   "outputs": [
    {
     "name": "stdout",
     "output_type": "stream",
     "text": [
      "<enumerate object at 0x10f1a25a0>\n"
     ]
    }
   ],
   "source": [
    "x = enumerate([2,7,11,15])\n",
    "print(x)"
   ]
  },
  {
   "cell_type": "code",
   "execution_count": 19,
   "metadata": {},
   "outputs": [],
   "source": [
    "# Definition for singly-linked list.\n",
    "# class ListNode:\n",
    "#     def __init__(self, x):\n",
    "#         self.val = x\n",
    "#         self.next = None\n",
    "\n",
    "class Solution:\n",
    "    def addTwoNumbers(self, l1, l2, c = 0):\n",
    "        \"\"\"\n",
    "        :type l1: ListNode\n",
    "        :type l2: ListNode\n",
    "        :rtype: ListNode\n",
    "        \"\"\"\n",
    "        val = l1.val + l2.val + c\n",
    "        c = val // 10\n",
    "        ret = ListNode(val % 10 ) \n",
    "        \n",
    "        if (l1.next != None or l2.next != None or c != 0):\n",
    "            if l1.next == None:\n",
    "                l1.next = ListNode(0)\n",
    "            if l2.next == None:\n",
    "                l2.next = ListNode(0)\n",
    "                \n",
    "            ret.next = self.addTwoNumbers(l1.next, l2.next, c)\n",
    "        return ret\n",
    "    \n",
    "class Solution:\n",
    "    def addTwoNumbers(self, l1, l2):\n",
    "        \"\"\"\n",
    "        :type l1: ListNode\n",
    "        :type l2: ListNode\n",
    "        :rtype: ListNode\n",
    "        \"\"\"     \n",
    "        # 因为处理到最后的时候，可能输入的 l1 和 l2 都不是一个 ListNode 而是 None 了\n",
    "        if not l1 and not l2: \n",
    "            return \n",
    "        elif not (l1 and l2): # l1 和 l2 其中一个是 None \n",
    "            return l1 or l2\n",
    "        else: # l1 和 l2 都不是 None \n",
    "            if l1.val + l2.val < 10: # 个位数相加没有进位\n",
    "                l3 = ListNode(l1.val+l2.val)\n",
    "                l3.next = self.addTwoNumbers(l1.next, l2.next) # 递归调用\n",
    "            else: # # 个位数相加有进位\n",
    "                l3 = ListNode(l1.val+l2.val-10)\n",
    "                # 递归调用，记得加上进位\n",
    "                l3.next = self.addTwoNumbers(l1.next, self.addTwoNumbers(l2.next, ListNode(1)))\n",
    "        return l3"
   ]
  },
  {
   "cell_type": "code",
   "execution_count": 17,
   "metadata": {},
   "outputs": [
    {
     "data": {
      "text/plain": [
       "2"
      ]
     },
     "execution_count": 17,
     "metadata": {},
     "output_type": "execute_result"
    }
   ],
   "source": [
    "%10"
   ]
  },
  {
   "cell_type": "code",
   "execution_count": null,
   "metadata": {},
   "outputs": [],
   "source": []
  }
 ],
 "metadata": {
  "kernelspec": {
   "display_name": "Python 3",
   "language": "python",
   "name": "python3"
  },
  "language_info": {
   "codemirror_mode": {
    "name": "ipython",
    "version": 3
   },
   "file_extension": ".py",
   "mimetype": "text/x-python",
   "name": "python",
   "nbconvert_exporter": "python",
   "pygments_lexer": "ipython3",
   "version": "3.6.8"
  },
  "toc": {
   "base_numbering": 1,
   "nav_menu": {},
   "number_sections": true,
   "sideBar": false,
   "skip_h1_title": false,
   "title_cell": "Table of Contents",
   "title_sidebar": "Contents",
   "toc_cell": true,
   "toc_position": {},
   "toc_section_display": true,
   "toc_window_display": false
  }
 },
 "nbformat": 4,
 "nbformat_minor": 2
}
