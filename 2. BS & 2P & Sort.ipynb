{
 "cells": [
  {
   "cell_type": "code",
   "execution_count": 7,
   "metadata": {},
   "outputs": [],
   "source": [
    "from IPython.core.interactiveshell import InteractiveShell\n",
    "InteractiveShell.ast_node_interactivity = \"all\""
   ]
  },
  {
   "cell_type": "markdown",
   "metadata": {},
   "source": [
    "### List. BS, Pointers, Sliding Window"
   ]
  },
  {
   "cell_type": "markdown",
   "metadata": {},
   "source": [
    "### List, Matrix. In-place, Binary Search-2 Pointers.  O(logN) O(1). Must be sorted"
   ]
  },
  {
   "cell_type": "code",
   "execution_count": null,
   "metadata": {},
   "outputs": [],
   "source": [
    "def sort(nums):\n",
    "    l = 0\n",
    "    r = len(nums) - 1\n",
    "    \n",
    "    while l < r:\n",
    "        if nums[l] < nums[r]:\n",
    "            nums[l], nums[r] = nums[r], nums[l]\n",
    "            \n",
    "    "
   ]
  },
  {
   "cell_type": "markdown",
   "metadata": {},
   "source": [
    "## Binary Search"
   ]
  },
  {
   "cell_type": "code",
   "execution_count": null,
   "metadata": {},
   "outputs": [],
   "source": [
    "def binarySearch(arr, target):\n",
    "    l , r = 0, len(arr) - 1  \n",
    "    while l <= r:            \n",
    "        mid = (l + r) // 2 # mid = l + (r - l) // 2\n",
    "        if arr[mid] == target:\n",
    "            return mid\n",
    "        if arr[mid] < target:\n",
    "            l = mid + 1\n",
    "        else:\n",
    "            r = mid - 1\n",
    "    return -1"
   ]
  },
  {
   "cell_type": "markdown",
   "metadata": {},
   "source": [
    "##  69. Sqrt(x) (Int, BS) (Microsoft 6, Amazon 4, Google 2)"
   ]
  },
  {
   "cell_type": "code",
   "execution_count": 1,
   "metadata": {},
   "outputs": [],
   "source": [
    "class Solution:\n",
    "    def mySqrt(self, x):        \n",
    "        if x < 2:\n",
    "            return x\n",
    "        \n",
    "        left = 2\n",
    "        right = x // 2\n",
    "        \n",
    "        while left <= right:\n",
    "            mid = left + (right - left) // 2\n",
    "            num = mid * mid\n",
    "            if num == x:\n",
    "                return mid\n",
    "            \n",
    "            if num > x:\n",
    "                right = mid -1\n",
    "            elif num < x:\n",
    "                left = mid + 1\n",
    "            \n",
    "        return right"
   ]
  },
  {
   "cell_type": "code",
   "execution_count": 3,
   "metadata": {},
   "outputs": [
    {
     "data": {
      "text/plain": [
       "2"
      ]
     },
     "execution_count": 3,
     "metadata": {},
     "output_type": "execute_result"
    }
   ],
   "source": [
    "s = Solution()\n",
    "s.mySqrt(5)"
   ]
  },
  {
   "cell_type": "code",
   "execution_count": null,
   "metadata": {},
   "outputs": [],
   "source": [
    "class Solution:\n",
    "    def mySqrt(self, x):\n",
    "        if not x:\n",
    "            return 0\n",
    "        \n",
    "        if x < 4:\n",
    "            return 1\n",
    "        \n",
    "        left = 2\n",
    "        right = x // 2\n",
    "        \n",
    "        while left <= right:\n",
    "            mid = left + (right - left) // 2\n",
    "            num = mid * mid\n",
    "            if num == x:\n",
    "                return mid\n",
    "            \n",
    "            if num > x:\n",
    "                right = mid -1\n",
    "            elif num < x:\n",
    "                left = mid + 1\n",
    "            \n",
    "        return right"
   ]
  },
  {
   "cell_type": "markdown",
   "metadata": {},
   "source": [
    "## Sum of Perfect Squares (Google Phone)\n",
    "https://leetcode.com/discuss/interview-question/385489/Google-or-Phone-Screen-or-Sum-of-Perfect-Squares-and-Missing-Ranges "
   ]
  },
  {
   "cell_type": "code",
   "execution_count": 24,
   "metadata": {},
   "outputs": [],
   "source": [
    "class Main:\n",
    "    def square(self, num):\n",
    "        res = 0\n",
    "        for n in range(1, num + 1):\n",
    "            if self.mySqrt(n):\n",
    "                res += n\n",
    "                \n",
    "        return res\n",
    "\n",
    "    def mySqrt(self, x):\n",
    "            if x < 2:\n",
    "                return True\n",
    "\n",
    "            left = 2\n",
    "            right = x // 2\n",
    "\n",
    "            while left <= right:\n",
    "                mid = left + (right - left) // 2\n",
    "                num = mid * mid\n",
    "                if num == x:\n",
    "                    return True\n",
    "\n",
    "                if num > x:\n",
    "                    right = mid -1\n",
    "                elif num < x:\n",
    "                    left = mid + 1\n",
    "\n",
    "            return False"
   ]
  },
  {
   "cell_type": "code",
   "execution_count": 25,
   "metadata": {},
   "outputs": [
    {
     "data": {
      "text/plain": [
       "14"
      ]
     },
     "execution_count": 25,
     "metadata": {},
     "output_type": "execute_result"
    }
   ],
   "source": [
    "s = Main()\n",
    "s.square(10)"
   ]
  },
  {
   "cell_type": "markdown",
   "metadata": {},
   "source": [
    "## Salary Adjustment (Google Phone, Amazon Onsite)  \n",
    "https://leetcode.com/discuss/interview-question/351313/Google-or-Phone-Screen-or-Salary-Adjustment"
   ]
  },
  {
   "cell_type": "code",
   "execution_count": 1,
   "metadata": {},
   "outputs": [],
   "source": [
    "def adjust(array, maxValue):\n",
    "    array.sort(reverse = True)\n",
    "    \n",
    "    for i in range(1, len(array)):\n",
    "        k = (maxValue - sum(array[i:])) // i\n",
    "        if k > array[i]:\n",
    "            return k"
   ]
  },
  {
   "cell_type": "code",
   "execution_count": 2,
   "metadata": {},
   "outputs": [
    {
     "data": {
      "text/plain": [
       "250"
      ]
     },
     "execution_count": 2,
     "metadata": {},
     "output_type": "execute_result"
    }
   ],
   "source": [
    "array = [100, 200, 300, 400]\n",
    "maxValue = 800\n",
    "adjust(array, maxValue)"
   ]
  },
  {
   "cell_type": "code",
   "execution_count": 15,
   "metadata": {},
   "outputs": [
    {
     "data": {
      "text/plain": [
       "127"
      ]
     },
     "execution_count": 15,
     "metadata": {},
     "output_type": "execute_result"
    }
   ],
   "source": [
    "array = [80, 60, 150, 170, 125]\n",
    "maxValue = sum(array) - 70\n",
    "adjust(array, maxValue)"
   ]
  },
  {
   "cell_type": "markdown",
   "metadata": {},
   "source": [
    "## Array Adjustment (Google Phone)  \n",
    "https://leetcode.com/discuss/interview-question/349612/Google-or-Phone-Screen-or-Array-Adjustment"
   ]
  },
  {
   "cell_type": "code",
   "execution_count": 41,
   "metadata": {},
   "outputs": [],
   "source": [
    "def max_value(nums,val):    \n",
    "    l,r = min(nums), max(nums)\n",
    "    \n",
    "    while l < r:\n",
    "        m = l+ (r-l) // 2\n",
    "        s = 0\n",
    "        for n in nums:\n",
    "            if n >= m:\n",
    "                s+=m\n",
    "            else:\n",
    "                s+=n\n",
    "        if s < val:\n",
    "            l = m+1\n",
    "        elif s > val:\n",
    "            r = m-1\n",
    "            \n",
    "        elif s == val:\n",
    "            return m\n",
    "    return l\n",
    "\n",
    "# def max_value(nums,val):\n",
    "#     l, r = min(nums), max(nums)+1 # O(N)\n",
    "\n",
    "#     while l < r:\n",
    "#         m = l + (r - l) // 2\n",
    "#         s = 0\n",
    "#         for n in nums: # O(N)\n",
    "#             if n >= m:\n",
    "#                 s+=m\n",
    "#             else:\n",
    "#                 s+=n\n",
    "\n",
    "#         if s == val:\n",
    "#             return m\n",
    "        \n",
    "#         elif s < val:\n",
    "#             l = m + 1\n",
    "#         else:\n",
    "#             r = m\n",
    "\n",
    "#     return m"
   ]
  },
  {
   "cell_type": "code",
   "execution_count": 43,
   "metadata": {},
   "outputs": [
    {
     "data": {
      "text/plain": [
       "250"
      ]
     },
     "execution_count": 43,
     "metadata": {},
     "output_type": "execute_result"
    }
   ],
   "source": [
    "nums = [100, 200, 300, 400] #[10, 5, 20, 30] \n",
    "\n",
    "maxValue = 800\n",
    "\n",
    "max_value(nums, maxValue)"
   ]
  },
  {
   "cell_type": "markdown",
   "metadata": {},
   "source": [
    "## 278. First Bad Version (Int. BS) (Facebook 28->41, Microsoft Onsite 2)"
   ]
  },
  {
   "cell_type": "code",
   "execution_count": null,
   "metadata": {},
   "outputs": [],
   "source": [
    "class Solution():\n",
    "    def firstBadVersion(self, n):\n",
    "        \"\"\"\n",
    "        :type n: int\n",
    "        :rtype: int\n",
    "        \"\"\"\n",
    "        left = 1\n",
    "        right = n\n",
    "        while left <= right:\n",
    "            mid = left + (right - left) // 2\n",
    "            if isBadVersion(mid):\n",
    "                right = mid - 1\n",
    "                \n",
    "            else:\n",
    "                left = mid + 1\n",
    "                \n",
    "        return left     "
   ]
  },
  {
   "cell_type": "markdown",
   "metadata": {},
   "source": [
    "## 852. Peak Index in a Mountain Array (List, BS) (Google 3->5, Amazon 4)\n",
    "\n",
    "O(logN)  \n",
    "O(1)"
   ]
  },
  {
   "cell_type": "code",
   "execution_count": 1,
   "metadata": {},
   "outputs": [],
   "source": [
    "class Solution:\n",
    "    def peakIndexInMountainArray(self, A):\n",
    "        \"\"\"\n",
    "        :type A: List[int]\n",
    "        :rtype: int\n",
    "        \"\"\"\n",
    "        \n",
    "        l = 0\n",
    "        r = len(A) - 1\n",
    "        while l <= r:\n",
    "            mid = (l + r) // 2\n",
    "            if A[mid - 1] < A[mid] > A[mid + 1]:\n",
    "                return mid\n",
    "            \n",
    "            if A[mid-1] < A[mid] < A[mid + 1]:\n",
    "                l = mid + 1\n",
    "                \n",
    "            elif A[mid-1] > A[mid] > A[mid + 1]:\n",
    "                r = mid - 1\n",
    "                "
   ]
  },
  {
   "cell_type": "code",
   "execution_count": 2,
   "metadata": {},
   "outputs": [
    {
     "data": {
      "text/plain": [
       "0"
      ]
     },
     "execution_count": 2,
     "metadata": {},
     "output_type": "execute_result"
    }
   ],
   "source": [
    "s = Solution()\n",
    "a = [4,3,2,1,0]\n",
    "s.peakIndexInMountainArray(a)"
   ]
  },
  {
   "cell_type": "code",
   "execution_count": null,
   "metadata": {},
   "outputs": [],
   "source": [
    "class Solution:\n",
    "    def peakIndexInMountainArray(self, A):\n",
    "        l = 0\n",
    "        r = len(A) - 1\n",
    "        while l <= r:\n",
    "            mid = (l + r) // 2\n",
    "            if A[mid] < A[mid + 1]:\n",
    "                l = mid + 1\n",
    "            elif A[mid] > A[mid + 1]:\n",
    "                r = mid - 1\n",
    "        return l"
   ]
  },
  {
   "cell_type": "markdown",
   "metadata": {},
   "source": [
    "## 1095. Find in Mountain Array (Apple 8)"
   ]
  },
  {
   "cell_type": "code",
   "execution_count": null,
   "metadata": {},
   "outputs": [],
   "source": [
    "class Solution(object):\n",
    "    def findInMountainArray(self, target, mountain_arr):\n",
    "        \"\"\"\n",
    "        :type target: integer\n",
    "        :type mountain_arr: MountainArray\n",
    "        :rtype: integer\n",
    "        \"\"\"  \n",
    "        l = 0\n",
    "        r = mountain_arr.length() - 1\n",
    "        peak = 0\n",
    "        while l <= r:\n",
    "            mid = (l + r) // 2\n",
    "            if mountain_arr.get(mid - 1) < mountain_arr.get(mid) > mountain_arr(mid + 1):\n",
    "                peak = mid\n",
    "\n",
    "            if mountain_arr.get(mid-1) < mountain_arr.get(mid) < mountain_arr.get(mid + 1):\n",
    "                l = mid + 1\n",
    "\n",
    "            elif mountain_arr.get(mid-1) > mountain_arr.get(mid) > mountain_arr.get(mid + 1):\n",
    "                r = mid - 1\n",
    "        \n",
    "        left = 0\n",
    "        right = peak\n",
    "        \n",
    "        left_2 = peak\n",
    "        right_2 = mountain_arr.length() - 1\n",
    "        \n",
    "        while left <= right:\n",
    "            mid = (left+right) // 2\n",
    "            if mountain_arr.get(mid) == target:\n",
    "                return mid\n",
    "            \n",
    "            elif mountain_arr.get(mid) < target:\n",
    "                left = mid + 1\n",
    "                \n",
    "            else:\n",
    "                rithg = mid - 1\n",
    "                \n",
    "        while left_2 <= right_2:\n",
    "            mid = (left_2 + right_2) // 2\n",
    "            if mountain_arr.get(mid) == target:\n",
    "                return mid\n",
    "            \n",
    "            elif mountain_arr.get(mid) > target:\n",
    "                left_2 = mid + 1\n",
    "                \n",
    "            else:\n",
    "                right_2 = mid - 1\n",
    "                \n",
    "        return -1\n",
    "            \n",
    "                \n",
    "                "
   ]
  },
  {
   "cell_type": "markdown",
   "metadata": {},
   "source": [
    "## 34. Find First and Last Position of Element in Sorted Array (List, BS) (Facebook 12, Google 8, Uber 5, Amazon 4, Apple 6)\n",
    "\n",
    "O(logN)  \n",
    "O(N)"
   ]
  },
  {
   "cell_type": "code",
   "execution_count": null,
   "metadata": {},
   "outputs": [],
   "source": [
    "class Solution:\n",
    "    def searchRange(self, nums, target):\n",
    "        \"\"\"\n",
    "        :type nums: List[int]\n",
    "        :type target: int\n",
    "        :rtype: List[int]\n",
    "        \"\"\"\n",
    "        \n",
    "        if not nums: \n",
    "            return [-1, -1]\n",
    "\n",
    "        res = []\n",
    "        l, r = 0, len(nums)-1\n",
    "        # search for left bound\n",
    "        while l <= r:\n",
    "            mid = l + (r - l) // 2\n",
    "            if nums[mid] == target and (mid == 0 or nums[mid-1] != target):\n",
    "                res.append(mid)\n",
    "                break\n",
    "                \n",
    "            elif nums[mid] < target:\n",
    "                l = mid + 1\n",
    "            else:\n",
    "                r = mid - 1\n",
    "                \n",
    "        if not res:\n",
    "            return [-1, -1]\n",
    "\n",
    "        # search for right bound, now we don't need to reset left pointer\n",
    "        r = len(nums)-1\n",
    "        while l <= r:\n",
    "            mid = l + (r - l) // 2\n",
    "            if nums[mid] == target and (mid == len(nums)-1 or nums[mid+1] != target):\n",
    "                res.append(mid)\n",
    "                break\n",
    "            elif nums[mid] > target:\n",
    "                r = mid - 1\n",
    "            else:\n",
    "                l = mid + 1 \n",
    "        # 这里直接返回res是因为前面如果判断左边界没返回的话就说明我们判断右边界的时候一定会append元素\n",
    "        return res"
   ]
  },
  {
   "cell_type": "code",
   "execution_count": null,
   "metadata": {},
   "outputs": [],
   "source": [
    "class Solution(object):\n",
    "    def searchRange(self, arr, target):\n",
    "        \"\"\"\n",
    "        :type nums: List[int]\n",
    "        :type target: int\n",
    "        :rtype: List[int]\n",
    "        \"\"\"\n",
    "        def binarySearch(arr, target, leftmost):\n",
    "            l = 0\n",
    "            r = len(arr) - 1\n",
    "            index = -1\n",
    "            while l <= r:\n",
    "                mid = (l + r) // 2\n",
    "                if arr[mid] < target:\n",
    "                    l = mid + 1\n",
    "                    \n",
    "                elif arr[mid] > target:\n",
    "                    r = mid - 1\n",
    "                    \n",
    "                elif arr[mid] == target: \n",
    "                    index = mid\n",
    "                    if leftmost:\n",
    "                        r = mid - 1\n",
    "                    else:\n",
    "                        l = mid + 1\n",
    "                        \n",
    "            return index\n",
    "        \n",
    "        \n",
    "        left = binarySearch(arr, target, True)\n",
    "        if left < 0:\n",
    "            return [-1, -1]\n",
    "        \n",
    "        right = binarySearch(arr, target, False)\n",
    "        return [left, right]"
   ]
  },
  {
   "cell_type": "code",
   "execution_count": null,
   "metadata": {},
   "outputs": [],
   "source": [
    "int left_bound(int[] nums, int target) {\n",
    "    if (nums.length == 0) return -1;\n",
    "    int left = 0;\n",
    "    int right = nums.length; // 注意\n",
    "\n",
    "    while (left < right) { // 注意\n",
    "        int mid = (left + right) / 2;\n",
    "        if (nums[mid] == target) {\n",
    "            right = mid;\n",
    "        } else if (nums[mid] < target) {\n",
    "            left = mid + 1;\n",
    "        } else if (nums[mid] > target) {\n",
    "            right = mid; // 注意\n",
    "        }\n",
    "    }\n",
    "    return left;\n",
    "}\n",
    "\n",
    "int right_bound(int[] nums, int target) {\n",
    "    if (nums.length == 0) return -1;\n",
    "    int left = 0, right = nums.length;\n",
    "\n",
    "    while (left < right) {\n",
    "        int mid = (left + right) / 2;\n",
    "        if (nums[mid] == target) {\n",
    "            left = mid + 1; // 注意\n",
    "        } else if (nums[mid] < target) {\n",
    "            left = mid + 1;\n",
    "        } else if (nums[mid] > target) {\n",
    "            right = mid;\n",
    "        }\n",
    "    }\n",
    "    return left - 1; // 注意\n",
    "}"
   ]
  },
  {
   "cell_type": "code",
   "execution_count": null,
   "metadata": {},
   "outputs": [],
   "source": [
    "class Solution:\n",
    "    # returns leftmost (or rightmost) index at which `target` should be inserted in sorted\n",
    "    # array `nums` via binary search.\n",
    "    def extreme_insertion_index(self, nums, target, left):\n",
    "        lo = 0\n",
    "        hi = len(nums) - 1\n",
    "\n",
    "        while lo <= hi:\n",
    "            mid = (lo + hi) // 2\n",
    "            if nums[mid] > target or (left and target == nums[mid]):\n",
    "                hi = mid\n",
    "            else:\n",
    "                lo = mid + 1\n",
    "\n",
    "        return lo\n",
    "\n",
    "\n",
    "    def searchRange(self, nums, target):\n",
    "        left_idx = self.extreme_insertion_index(nums, target, True)\n",
    "\n",
    "        # assert that `left_idx` is within the array bounds and that `target`\n",
    "        # is actually in `nums`.\n",
    "        if left_idx == len(nums) or nums[left_idx] != target:\n",
    "            return [-1, -1]\n",
    "\n",
    "        return [left_idx, self.extreme_insertion_index(nums, target, False)-1]"
   ]
  },
  {
   "cell_type": "code",
   "execution_count": null,
   "metadata": {},
   "outputs": [],
   "source": [
    "def find(arr, target):\n",
    "    \n",
    "    start = 0\n",
    "    end = 0\n",
    "    \n",
    "    for i in range(len(arr)):\n",
    "        if arr[i] == target:\n",
    "            start = i\n",
    "            break\n",
    "            \n",
    "    for i in range(len(arr) - 1, -1, -1):\n",
    "        if arr[i] == target:\n",
    "            end = i\n",
    "            break\n",
    "            \n",
    "    return [start, end]\n",
    "\n",
    "arr = [1,2,3,3,3,4]\n",
    "target = 3\n",
    "find(arr, target)"
   ]
  },
  {
   "cell_type": "markdown",
   "metadata": {},
   "source": [
    "## Find the number of occurrences of an element in a sorted array (List. BS) (Google)"
   ]
  },
  {
   "cell_type": "code",
   "execution_count": 13,
   "metadata": {},
   "outputs": [
    {
     "data": {
      "text/plain": [
       "3"
      ]
     },
     "execution_count": 13,
     "metadata": {},
     "output_type": "execute_result"
    }
   ],
   "source": [
    "# public int count(int[] arr, int target) {\n",
    "#     int left = binarySearch(arr, target, true);\n",
    "#     if (left < 0) return 0;\n",
    "#     int right = binarySearch(arr, target, false);\n",
    "#     return right - left + 1;\n",
    "# }\n",
    "\n",
    "# private int binarySearch(int[] arr, int target, boolean leftmost) {\n",
    "#     int lo = 0;\n",
    "#     int hi = arr.length - 1;\n",
    "#     int idx = -1;\n",
    "#     while (lo <= hi) {\n",
    "#         int mid = (lo + hi) >>> 1; \n",
    "\n",
    "#         if (target > arr[mid]) {\n",
    "#             lo = mid + 1;\n",
    "#         } else if (target < arr[mid]) {\n",
    "#             hi = mid - 1;\n",
    "#         } else {\n",
    "#             idx = mid;\n",
    "#             if (leftmost) {\n",
    "#                 hi = mid - 1;\n",
    "#             } else {\n",
    "#                 lo = mid + 1;\n",
    "#             }\n",
    "#         }\n",
    "#     }\n",
    "#     return idx;\n",
    "# }\n",
    "\n",
    "class Solution:\n",
    "    def count(self, arr, target):\n",
    "        def binarySearch(arr, target, leftmost):\n",
    "            l = 0\n",
    "            r = len(arr) - 1\n",
    "            index = -1\n",
    "            while l <= r:\n",
    "                mid = (l + r) // 2\n",
    "                if arr[mid] < target:\n",
    "                    l = mid + 1\n",
    "                    \n",
    "                elif arr[mid] > target:\n",
    "                    r = mid - 1\n",
    "                    \n",
    "                elif arr[mid] == target: \n",
    "                    index = mid\n",
    "                    if leftmost:\n",
    "                        r = mid - 1\n",
    "                    else:\n",
    "                        l = mid + 1\n",
    "                        \n",
    "            return index\n",
    "        \n",
    "        \n",
    "        left = binarySearch(arr, target, True)\n",
    "        if left < 0:\n",
    "            return 0\n",
    "        \n",
    "        right = binarySearch(arr, target, False)\n",
    "        return right - left + 1\n",
    "    \n",
    "\n",
    "arr = [4, 4, 8, 8, 8, 15, 16, 23, 23, 42]\n",
    "target = 8\n",
    "s = Solution()\n",
    "s.count(arr, target)"
   ]
  },
  {
   "cell_type": "markdown",
   "metadata": {},
   "source": [
    "## 410. Split Array Largest Sum (List, BS) (Google 31->8, Amazon 4) (Hard)\n",
    "\n",
    "O(logN)  \n",
    "O(1)"
   ]
  },
  {
   "cell_type": "code",
   "execution_count": null,
   "metadata": {},
   "outputs": [],
   "source": [
    "class Solution:\n",
    "    def splitArray(self, nums, m):\n",
    "        \"\"\"\n",
    "        :type nums: List[int]\n",
    "        :type m: int\n",
    "        :rtype: int\n",
    "        \"\"\"    \n",
    "        l = max(nums)\n",
    "#         print('l=',l)\n",
    "        r = sum(nums)\n",
    "#         print('r=',r)\n",
    "        while l <= r:\n",
    "            mid = (l + r) // 2\n",
    "#             print('mid=',mid)\n",
    "            buckets = 1 \n",
    "            sums = 0\n",
    "            for n in nums:\n",
    "                if sums + n > mid:\n",
    "                    buckets += 1\n",
    "                    sums = 0\n",
    "                sums += n\n",
    "                \n",
    "#             print('buckets=', buckets)\n",
    "#             print('sums=', sums)\n",
    "                \n",
    "            if buckets <= m:\n",
    "                r = mid - 1\n",
    "            elif beckets > m:\n",
    "                l = mid + 1\n",
    "        return l"
   ]
  },
  {
   "cell_type": "code",
   "execution_count": 133,
   "metadata": {},
   "outputs": [
    {
     "name": "stdout",
     "output_type": "stream",
     "text": [
      "l= 16\n",
      "r= 32\n",
      "mid= 24\n",
      "buckets= 2\n",
      "sums= 8\n",
      "mid= 20\n",
      "buckets= 2\n",
      "sums= 18\n",
      "mid= 18\n",
      "buckets= 2\n",
      "sums= 18\n",
      "mid= 17\n",
      "buckets= 3\n",
      "sums= 8\n"
     ]
    },
    {
     "data": {
      "text/plain": [
       "18"
      ]
     },
     "execution_count": 133,
     "metadata": {},
     "output_type": "execute_result"
    }
   ],
   "source": [
    "s = Solution()\n",
    "nums = [7,2,5,10,8]\n",
    "m = 2\n",
    "s.splitArray(nums, m)"
   ]
  },
  {
   "cell_type": "markdown",
   "metadata": {},
   "source": [
    "## Divide Chocolate ("
   ]
  },
  {
   "cell_type": "code",
   "execution_count": 19,
   "metadata": {},
   "outputs": [
    {
     "data": {
      "text/plain": [
       "18"
      ]
     },
     "execution_count": 19,
     "metadata": {},
     "output_type": "execute_result"
    }
   ],
   "source": [
    "# class Solution {\n",
    "#     public int splitArray(int[] nums, int m) {\n",
    "#         int low = 0, high = Integer.MAX_VALUE;\n",
    "#         while (low <= high) {\n",
    "#             int mid = low + (high - low) / 2;\n",
    "#             if (canSplit(nums, m, mid)) {\n",
    "#                 low = mid + 1;\n",
    "#             } else {\n",
    "#                 high = mid - 1;\n",
    "#             }\n",
    "#         }\n",
    "#         return high;\n",
    "        \n",
    "#     }\n",
    "    \n",
    "#     // for a certian min sum requirement, check whether this can split into m groups\n",
    "#     private boolean canSplit(int[] nums, int m, int minSum) {\n",
    "#         int count = 0;\n",
    "#         long sum = 0;\n",
    "#         for (int i = 0; i < nums.length; i++) {\n",
    "#             sum += nums[i];\n",
    "#             if (sum >= minSum) {\n",
    "#                 sum = 0;\n",
    "#                 count++;\n",
    "#             }\n",
    "#         }\n",
    "#         return count >= m;\n",
    "#     }\n",
    "# }"
   ]
  },
  {
   "cell_type": "markdown",
   "metadata": {},
   "source": [
    "## 153. Find Minimum in Rotated Sorted Array (List, BS) (Amazon 8->13, Microsoft 5, Google 3, Apple 2)"
   ]
  },
  {
   "cell_type": "code",
   "execution_count": 42,
   "metadata": {},
   "outputs": [
    {
     "name": "stdout",
     "output_type": "stream",
     "text": [
      "m 2\n",
      "3\n",
      "m 3\n",
      "1\n"
     ]
    },
    {
     "data": {
      "text/plain": [
       "1"
      ]
     },
     "execution_count": 42,
     "metadata": {},
     "output_type": "execute_result"
    }
   ],
   "source": [
    "# O(logN), binary search  \n",
    "# O(1)\n",
    "class Solution:\n",
    "    def findMin(self, nums):\n",
    "        \"\"\"\n",
    "        :type nums: List[int]\n",
    "        :rtype: int\n",
    "        \"\"\"\n",
    "        if len(nums) == 1:\n",
    "            return nums[0]\n",
    "\n",
    "        l = 0\n",
    "        r = len(nums) - 1\n",
    "\n",
    "        while l <= r:\n",
    "            m = l + (r - l) // 2\n",
    "            if nums[m] > nums[m + 1]:\n",
    "                return nums[m + 1]\n",
    "\n",
    "            if nums[m] < nums[m - 1]:\n",
    "                return nums[m]\n",
    "\n",
    "            if nums[m] > nums[r]:\n",
    "                l = m + 1\n",
    "\n",
    "            elif nums[m] < nums[r]:\n",
    "                r = m - 1\n",
    "                \n",
    "nums = [2,3,4,5,1]\n",
    "s = Solution()\n",
    "s.findMin(nums)"
   ]
  },
  {
   "cell_type": "code",
   "execution_count": null,
   "metadata": {},
   "outputs": [],
   "source": [
    "class Solution:\n",
    "    def findMin(self, nums):\n",
    "        \"\"\"\n",
    "        :type nums: List[int]\n",
    "        :rtype: int\n",
    "        \"\"\"\n",
    "        l = 0\n",
    "        r = len(nums) - 1\n",
    "        while l < r:\n",
    "            m = (l + r) // 2\n",
    "            if nums[m] > nums[r]:\n",
    "                l = m + 1\n",
    "            else:\n",
    "                r = m\n",
    "        return nums[l]"
   ]
  },
  {
   "cell_type": "code",
   "execution_count": null,
   "metadata": {},
   "outputs": [],
   "source": [
    "l = [3,4,5,1,2]"
   ]
  },
  {
   "cell_type": "markdown",
   "metadata": {},
   "source": [
    "## 154. Find Minimum in Rotated Sorted Array II (List, BS) (Amazon 2)\n",
    "O(logN)~O(N)"
   ]
  },
  {
   "cell_type": "code",
   "execution_count": null,
   "metadata": {},
   "outputs": [],
   "source": [
    "class Solution(object):\n",
    "    def findMin(self, nums):\n",
    "        \"\"\"\n",
    "        :type nums: List[int]\n",
    "        :rtype: int\n",
    "        \"\"\"\n",
    "        if len(nums) == 1:\n",
    "            return nums[0]\n",
    "\n",
    "        l = 0\n",
    "        r = len(nums) - 1\n",
    "\n",
    "        while l <= r:\n",
    "            m = l + (r - l) // 2\n",
    "            if nums[m] > nums[m + 1]:\n",
    "                return nums[m + 1]\n",
    "\n",
    "            if nums[m] < nums[m - 1]:\n",
    "                return nums[m]\n",
    "\n",
    "            if nums[m] > nums[r]:\n",
    "                l = m + 1\n",
    "\n",
    "            elif nums[m] < nums[r]:\n",
    "                r = m - 1\n",
    "                \n",
    "            elif nums[m] == nums[r]:\n",
    "                r -= 1\n",
    "                \n",
    "        return nums[l]"
   ]
  },
  {
   "cell_type": "code",
   "execution_count": null,
   "metadata": {},
   "outputs": [],
   "source": [
    "class Solution:\n",
    "    def findMin(self, nums):\n",
    "        l = 0\n",
    "        r = len(nums) - 1\n",
    "        while l < r:\n",
    "            m = (l + r) // 2\n",
    "            if nums[m] == nums[r]:\n",
    "                r -= 1\n",
    "            \n",
    "            elif nums[m] > nums[r]:\n",
    "                l = m + 1\n",
    "                \n",
    "            elif nums[m] < nums[r]:\n",
    "                r = m \n",
    "\n",
    "        return nums[l]"
   ]
  },
  {
   "cell_type": "code",
   "execution_count": null,
   "metadata": {},
   "outputs": [],
   "source": [
    "from typing import List\n",
    "\n",
    "\n",
    "class Solution:\n",
    "    def findMin(self, nums: List[int]) -> int:\n",
    "        size = len(nums)\n",
    "        if size == 0:\n",
    "            return Exception('程序出错')\n",
    "\n",
    "        left = 0\n",
    "        right = size - 1\n",
    "        while left < right:\n",
    "            # mid = left + (right - left) // 2\n",
    "            mid = (left + right) >> 1\n",
    "            if nums[mid] > nums[right]:\n",
    "                # mid 肯定不是最小值\n",
    "                # [7,8,9,10,11,1,2,3]\n",
    "                left = mid + 1\n",
    "            elif nums[mid] < nums[right]:\n",
    "                # mid 有可能是最小值\n",
    "                # [7,8,1,2,3]\n",
    "                right = mid\n",
    "            else:\n",
    "                # 都有可能，所以就把 right 排除了\n",
    "                # [1,1,1,1,1,0,1]\n",
    "                assert nums[mid] == nums[right]\n",
    "                right = right - 1\n",
    "        # 无需后处理\n",
    "        return nums[left]"
   ]
  },
  {
   "cell_type": "code",
   "execution_count": 6,
   "metadata": {},
   "outputs": [
    {
     "data": {
      "text/plain": [
       "Exception('xxx')"
      ]
     },
     "execution_count": 6,
     "metadata": {},
     "output_type": "execute_result"
    }
   ],
   "source": [
    "\n",
    "def h():\n",
    "    x = 1\n",
    "    if x == 1:\n",
    "        return Exception('xxx')\n",
    "h()"
   ]
  },
  {
   "cell_type": "markdown",
   "metadata": {},
   "source": [
    "## 33. Search in Rotated Sorted Array (List, BS) (Amazon 19, Microsoft 10, Facebook 10, Google Phone 5, Apple 5)"
   ]
  },
  {
   "cell_type": "code",
   "execution_count": 18,
   "metadata": {},
   "outputs": [],
   "source": [
    "class Solution:\n",
    "    def search(self, nums, target):\n",
    "        \"\"\"\n",
    "        :type nums: List[int]\n",
    "        :type target: int\n",
    "        :rtype: int\n",
    "        \"\"\"\n",
    "        if not nums:\n",
    "            return -1\n",
    "\n",
    "        l = 0 \n",
    "        r = len(nums) - 1\n",
    "\n",
    "        while l <= r:\n",
    "            m = l + ((r - l) >> 1) #(l + r) // 2\n",
    "            if nums[m] == target:\n",
    "                return m\n",
    "\n",
    "            if nums[m] <= nums[r]: # nums[mid] <= nums[low]\n",
    "                if nums[m] < target <= nums[r]:\n",
    "                    l = m + 1\n",
    "                else:\n",
    "                    r = m - 1\n",
    "        \n",
    "            elif nums[m] > nums[r]:\n",
    "                if nums[l] <= target < nums[m]:\n",
    "                    r = m - 1\n",
    "                else:\n",
    "                    l = m + 1\n",
    "        return -1"
   ]
  },
  {
   "cell_type": "code",
   "execution_count": null,
   "metadata": {},
   "outputs": [],
   "source": [
    "# 时间复杂度: O(lgN)   \n",
    "# O(1)\n",
    "class Solution:\n",
    "    def search(self, nums, target):\n",
    "        \"\"\"\n",
    "        :type nums: List[int]\n",
    "        :type target: int\n",
    "        :rtype: int\n",
    "        \"\"\"\n",
    "        \n",
    "        if not nums:\n",
    "            return -1\n",
    "        \n",
    "        l = 0\n",
    "        r = len(nums) - 1\n",
    "        \n",
    "        while l <= r:\n",
    "            mid = l + (r - l) // 2\n",
    "            \n",
    "            if nums[mid] == target:\n",
    "                return mid\n",
    "            \n",
    "            if nums[mid] >= nums[l]:\n",
    "                if nums[l] <= target < nums[mid]:\n",
    "                    r = mid - 1\n",
    "                    \n",
    "                else:\n",
    "                    l = mid + 1\n",
    "                \n",
    "            elif nums[mid] < nums[l]:\n",
    "                if nums[mid] < target <= nums[r]:\n",
    "                    l = mid + 1\n",
    "                    \n",
    "                else:\n",
    "                    r = mid - 1\n",
    "                    \n",
    "        return -1"
   ]
  },
  {
   "cell_type": "code",
   "execution_count": 19,
   "metadata": {},
   "outputs": [
    {
     "name": "stdout",
     "output_type": "stream",
     "text": [
      "mid = 3\n",
      "2\n",
      "mid = 5\n",
      "1\n",
      "mid = 4\n"
     ]
    },
    {
     "data": {
      "text/plain": [
       "4"
      ]
     },
     "execution_count": 19,
     "metadata": {},
     "output_type": "execute_result"
    }
   ],
   "source": [
    "s = Solution()\n",
    "nums = [4,5,6,7,0,1,2]\n",
    "target = 0\n",
    "s.search(nums, target)"
   ]
  },
  {
   "cell_type": "markdown",
   "metadata": {},
   "source": [
    "## 81. Search in Rotated Sorted Array II (Amazon 4, Facebook 4)"
   ]
  },
  {
   "cell_type": "code",
   "execution_count": null,
   "metadata": {},
   "outputs": [],
   "source": [
    "class Solution:\n",
    "    def search(self, nums: List[int], target: int) -> bool:\n",
    "        if not nums:\n",
    "            return False\n",
    "\n",
    "        l = 0 \n",
    "        r = len(nums) - 1\n",
    "\n",
    "        while l <= r:\n",
    "            m = l + ((r - l) >> 1) #(l + r) // 2\n",
    "            print(l, r, m)\n",
    "            if nums[m] == target:\n",
    "                return True\n",
    "\n",
    "            if nums[m] == nums[r]: #mid不是target，所以r也不是\n",
    "                r -= 1\n",
    "            \n",
    "            elif nums[m] < nums[r]: # nums[mid] <= nums[low]\n",
    "                if nums[m] < target <= nums[r]:\n",
    "                    l = m + 1\n",
    "                else:\n",
    "                    r = m - 1\n",
    "        \n",
    "            elif nums[m] > nums[r]:\n",
    "                if nums[l] <= target < nums[m]:\n",
    "                    r = m - 1\n",
    "                else:\n",
    "                    l = m + 1\n",
    "                \n",
    "        return False"
   ]
  },
  {
   "cell_type": "markdown",
   "metadata": {},
   "source": [
    "## 74. Search a 2D Matrix (List, BS) (Amazon 15, Facebook 4, Microsoft 4)\n",
    "\n",
    "N(log(mn))  \n",
    "O(1)"
   ]
  },
  {
   "cell_type": "code",
   "execution_count": null,
   "metadata": {},
   "outputs": [],
   "source": [
    "class Solution:\n",
    "    def searchMatrix(self, matrix, target):\n",
    "        \"\"\"\n",
    "        :type matrix: List[List[int]]\n",
    "        :type target: int\n",
    "        :rtype: bool\n",
    "        \"\"\"\n",
    "        if not matrix:\n",
    "            return False\n",
    "        \n",
    "        row = len(matrix)\n",
    "        col = len(matrix[0])\n",
    "        \n",
    "        # binary search\n",
    "        l = 0\n",
    "        r = row * col - 1\n",
    "        while l <= r:\n",
    "            m = (l + r) // 2\n",
    "            num = matrix[m // col][m % col]\n",
    "            if num == target:\n",
    "                return True\n",
    "            elif num > target:\n",
    "                r = m - 1\n",
    "            else:\n",
    "                l = m + 1\n",
    "        return False"
   ]
  },
  {
   "cell_type": "code",
   "execution_count": null,
   "metadata": {},
   "outputs": [],
   "source": [
    "for nums in matrix:\n",
    "    l = 0\n",
    "    r = len(nums) - 1\n",
    "    while l <= r:\n",
    "        m = (l + r) // 2\n",
    "        if nums[m] == target:\n",
    "            return True\n",
    "\n",
    "        elif nums[m] < target:\n",
    "            l = m + 1\n",
    "\n",
    "        else:\n",
    "            r = m - 1\n",
    "\n",
    "return False"
   ]
  },
  {
   "cell_type": "markdown",
   "metadata": {},
   "source": [
    "## 378. Kth Smallest Element in a Sorted Matrix (List. BS, heapq) (Amazon 7, Microsoft Onsite 3, Facebook 3)"
   ]
  },
  {
   "cell_type": "code",
   "execution_count": null,
   "metadata": {},
   "outputs": [],
   "source": [
    "import bisect\n",
    "class Solution():\n",
    "    def kthSmallest(self, matrix, k):\n",
    "        \"\"\"\n",
    "        :type matrix: List[List[int]]\n",
    "        :type k: int\n",
    "        :rtype: int\n",
    "        \"\"\"\n",
    "        l = matrix[0][0]\n",
    "        r = matrix[-1][-1]\n",
    "\n",
    "        while l <= r:\n",
    "            m = (l + r) // 2\n",
    "            count = 0\n",
    "            for row in matrix:\n",
    "                count += bisect.bisect(row, m)\n",
    "            if k > count:\n",
    "                l = m + 1\n",
    "            else:\n",
    "                r = m - 1\n",
    "        return l"
   ]
  },
  {
   "cell_type": "code",
   "execution_count": null,
   "metadata": {},
   "outputs": [],
   "source": [
    "import heapq\n",
    "class Solution:\n",
    "    def kthSmallest(self, matrix, k):\n",
    "        \"\"\"\n",
    "        :type matrix: List[List[int]]\n",
    "        :type k: int\n",
    "        :rtype: int\n",
    "        \"\"\"\n",
    "        \n",
    "        heap = []\n",
    "        for array in matrix:\n",
    "            for n in array:\n",
    "                heapq.heappush(heap, n)\n",
    "                \n",
    "        for n in range(k):\n",
    "            res = heapq.heappop(heap)\n",
    "            \n",
    "        return res"
   ]
  },
  {
   "cell_type": "code",
   "execution_count": null,
   "metadata": {},
   "outputs": [],
   "source": [
    "import heapq\n",
    "class Solution:\n",
    "    def kthSmallest(self, matrix, k):\n",
    "        \"\"\"\n",
    "        :type matrix: List[List[int]]\n",
    "        :type k: int\n",
    "        :rtype: int\n",
    "        \"\"\"\n",
    "        \n",
    "        array = [y for x in matrix for y in x]\n",
    "        return heapq.nsmallest(k, array)[-1]"
   ]
  },
  {
   "cell_type": "markdown",
   "metadata": {},
   "source": [
    "## 540. Single Element in a Sorted Array (List. Binary Search) (Amazon 4, Facebook 4, Microsoft 3)"
   ]
  },
  {
   "cell_type": "code",
   "execution_count": null,
   "metadata": {},
   "outputs": [],
   "source": [
    "class Solution:\n",
    "    def singleNonDuplicate(self, nums: List[int]) -> int:\n",
    "        l = 0\n",
    "        r = len(nums) - 1   \n",
    "        \n",
    "        while l < r:\n",
    "            mid = l + (r - l) // 2\n",
    "\n",
    "            # halves_are_even = (hi - mid) % 2 == 0\n",
    "            \n",
    "            if nums[mid] == nums[mid - 1]:\n",
    "                if (mid + 1) % 2: #odd\n",
    "                    r = mid - 2\n",
    "                else: #even\n",
    "                    l = mid + 1\n",
    "                    \n",
    "            elif nums[mid] == nums[mid + 1]:\n",
    "                if (mid + 1) % 2: #odd\n",
    "                    l = mid + 2\n",
    "                else: #even\n",
    "                    r = mid - 1\n",
    "            \n",
    "            else:\n",
    "                return nums[mid]\n",
    "        return nums[l]"
   ]
  },
  {
   "cell_type": "code",
   "execution_count": null,
   "metadata": {},
   "outputs": [],
   "source": [
    "# class Solution:\n",
    "#     def singleNonDuplicate(self, nums):\n",
    "#         \"\"\"\n",
    "#         :type nums: List[int]\n",
    "#         :rtype: int\n",
    "#         \"\"\"\n",
    "        \n",
    "#         a = 0\n",
    "#         for i in nums:\n",
    "#             a ^= i\n",
    "#             print(a)\n",
    "#         return a\n",
    "        \n",
    "#         previous = nums[0]\n",
    "#         cnt = 0\n",
    "#         for i in range(1, len(nums)):\n",
    "#             if nums[i] == previous:\n",
    "#                 cnt += 1\n",
    "\n",
    "#             elif nums[i] != previous and cnt != 0:\n",
    "#                 previous = nums[i]\n",
    "#                 cnt = 0\n",
    "\n",
    "#             elif nums[i] != previous and cnt == 0:\n",
    "#                 return previous\n",
    "\n",
    "#         return nums[-1]\n",
    "\n",
    "    \n",
    "class Solution {\n",
    "    public int singleNonDuplicate(int[] nums) {\n",
    "       int l=0,r=nums.length-1;\n",
    "       while(l<r){\n",
    "           int h=(r+l)/2;\n",
    "           if(h%2==1){\n",
    "               if(nums[h]==nums[h+1])\n",
    "                   r=h-1;\n",
    "               else\n",
    "                   l=h+1;\n",
    "           }else{\n",
    "               if(nums[h]==nums[h+1])\n",
    "                   l=h+2;\n",
    "               else\n",
    "                   r=h;\n",
    "           }\n",
    "       }\n",
    "        return nums[l];\n",
    "    }\n",
    "}"
   ]
  },
  {
   "cell_type": "code",
   "execution_count": null,
   "metadata": {},
   "outputs": [],
   "source": [
    "class Solution:\n",
    "    def singleNonDuplicate(self, nums):\n",
    "        \"\"\"\n",
    "        :type nums: List[int]\n",
    "        :rtype: int\n",
    "        \"\"\"\n",
    "        \n",
    "        previous = nums[0]\n",
    "        cnt = 0\n",
    "        for i in range(1, len(nums)):\n",
    "            if nums[i] == previous:\n",
    "                cnt += 1\n",
    "\n",
    "            elif nums[i] != previous and cnt != 0:\n",
    "                previous = nums[i]\n",
    "                cnt = 0\n",
    "\n",
    "            elif nums[i] != previous and cnt == 0:\n",
    "                return previous\n",
    "\n",
    "        return nums[-1]"
   ]
  },
  {
   "cell_type": "code",
   "execution_count": null,
   "metadata": {},
   "outputs": [],
   "source": [
    "def xor(nums):\n",
    "    a = 0\n",
    "    for i in nums:\n",
    "        a ^= i\n",
    "    return a"
   ]
  },
  {
   "cell_type": "markdown",
   "metadata": {},
   "source": [
    "## 240 Search a 2D Matrix II (Matrix. 2 Pointers) (Amazon OA 15, Microsoft 8)"
   ]
  },
  {
   "cell_type": "code",
   "execution_count": null,
   "metadata": {},
   "outputs": [],
   "source": [
    "# O(max(M,N))  \n",
    "# O(1)\n",
    "class Solution:\n",
    "    def searchMatrix(self, matrix, target):\n",
    "        \"\"\"\n",
    "        :type matrix: List[List[int]]\n",
    "        :type target: int\n",
    "        :rtype: bool\n",
    "        \"\"\"\n",
    "        if not matrix:\n",
    "            return False\n",
    "        \n",
    "        m = 0\n",
    "        n = len(matrix[0]) - 1\n",
    "        \n",
    "        while m < len(matrix) and n >= 0:\n",
    "            if matrix[m][n] == target:\n",
    "                return True\n",
    "                \n",
    "            elif matrix[m][n] < target:\n",
    "                m += 1    \n",
    "                \n",
    "            elif matrix[m][n] > target:\n",
    "                n -= 1\n",
    "            \n",
    "        return False"
   ]
  },
  {
   "cell_type": "markdown",
   "metadata": {},
   "source": [
    "## Leftmost Column Index of 1 (Google/Facebook Phone)\n",
    "https://leetcode.com/discuss/interview-question/341247/Facebook-or-Leftmost-column-index-of-1  "
   ]
  },
  {
   "cell_type": "code",
   "execution_count": 20,
   "metadata": {},
   "outputs": [],
   "source": [
    "# public class Main {\n",
    "    \n",
    "#     public static int findLeftmostIndexOfOne(int[][] matrix) {\n",
    "#         int rows = matrix.length;\n",
    "#         int cols = matrix[0].length;\n",
    "#         int candidate = -1;\n",
    "#         for (int r = 0, c = cols - 1; r < rows && c >= 0; ) {\n",
    "#             if (matrix[r][c] == 1) {\n",
    "#                 candidate = c;\n",
    "#                 c--;\n",
    "#             } else {\n",
    "#                 r++;\n",
    "#             }\n",
    "#         }\n",
    "#         return candidate;\n",
    "#     }\n",
    "    \n",
    "class Main:\n",
    "    def findLeft(self, matrix):\n",
    "        row = len(matrix)\n",
    "        col = len(matrix[0])\n",
    "    \n",
    "        res = -1\n",
    "    \n",
    "        r = 0\n",
    "        c = col - 1\n",
    "        while r <= row - 1 and c >= 0:\n",
    "            if matrix[r][c] == 1:\n",
    "                res = c\n",
    "                c -= 1\n",
    "            else:\n",
    "                r += 1\n",
    "        return res"
   ]
  },
  {
   "cell_type": "code",
   "execution_count": 21,
   "metadata": {},
   "outputs": [
    {
     "data": {
      "text/plain": [
       "1"
      ]
     },
     "execution_count": 21,
     "metadata": {},
     "output_type": "execute_result"
    }
   ],
   "source": [
    "s = Main()\n",
    "matrix = [[0, 0, 0, 1],\n",
    "          [0, 0, 1, 1],\n",
    "          [0, 1, 1, 1],\n",
    "          [0, 0, 0, 0]]\n",
    "s.findLeft(matrix)"
   ]
  },
  {
   "cell_type": "markdown",
   "metadata": {},
   "source": [
    "### String, List. In-place, List. Pointers. O(N) O(1). Must bee sorted"
   ]
  },
  {
   "cell_type": "markdown",
   "metadata": {},
   "source": [
    "## Construct Odd Even Array (Google Phone)"
   ]
  },
  {
   "cell_type": "code",
   "execution_count": 1,
   "metadata": {},
   "outputs": [],
   "source": [
    "def oddEven(arr):\n",
    "    l = 0\n",
    "    r = len(arr) // 2    \n",
    "    while r <= len(arr) - 1:\n",
    "        arr[l], arr[r] = arr[r], arr[l]\n",
    "        l += 2\n",
    "        r += 1\n",
    "        \n",
    "    for l in range(1, len(arr), 2):\n",
    "        r = l + 2\n",
    "        while r <= len(arr) - 1:\n",
    "            if arr[l] < arr[r]:\n",
    "                arr[l], arr[r] = arr[r], arr[l]\n",
    "            r += 2"
   ]
  },
  {
   "cell_type": "code",
   "execution_count": 2,
   "metadata": {},
   "outputs": [
    {
     "data": {
      "text/plain": [
       "[4, 3, 5, 2, 6, 1, 7]"
      ]
     },
     "execution_count": 2,
     "metadata": {},
     "output_type": "execute_result"
    }
   ],
   "source": [
    "arr = [1, 2, 3, 4, 5, 6, 7]\n",
    "oddEven(arr)\n",
    "arr"
   ]
  },
  {
   "cell_type": "code",
   "execution_count": null,
   "metadata": {},
   "outputs": [],
   "source": [
    "for l in range(1, 7, 2):\n",
    "    r = l + 2\n",
    "    while r <= 6:\n",
    "        print(l, r)\n",
    "        r += 2"
   ]
  },
  {
   "cell_type": "markdown",
   "metadata": {},
   "source": [
    "## 977. Squares of a Sorted Array (List, 2 Pointers) (Facebook 9, Amazon 4, Microsoft 2, Apple 3, Uber 7->3)\n",
    "\n",
    "O(N)  \n",
    "O(N)"
   ]
  },
  {
   "cell_type": "code",
   "execution_count": null,
   "metadata": {},
   "outputs": [],
   "source": [
    "class Solution:\n",
    "    def sortedSquares(self, nums):\n",
    "        \"\"\"\n",
    "        :type A: List[int]\n",
    "        :rtype: List[int]\n",
    "        \"\"\"\n",
    "        l = 0 \n",
    "        r = len(nums) - 1\n",
    "        end = len(nums) - 1\n",
    "        res = [0] * len(nums)\n",
    "        \n",
    "        while l <= r:\n",
    "            if nums[l]**2 < nums[r]**2:\n",
    "                res[end] = nums[r]**2\n",
    "                end -= 1\n",
    "                r -= 1\n",
    "                \n",
    "            else:\n",
    "                res[end] = nums[l]**2\n",
    "                end -= 1\n",
    "                l += 1\n",
    "                \n",
    "        return res"
   ]
  },
  {
   "cell_type": "code",
   "execution_count": 15,
   "metadata": {},
   "outputs": [],
   "source": [
    "class Solution:\n",
    "    def sortedSquares(self, nums):\n",
    "        \"\"\"\n",
    "        :type A: List[int]\n",
    "        :rtype: List[int]\n",
    "        \"\"\"\n",
    "        res = [0] * len(nums)\n",
    "        l = 0 \n",
    "        r = len(nums) - 1\n",
    "        while l <= r:\n",
    "            if abs(nums[l]) < abs(nums[r]):\n",
    "                res[r - l] = abs(nums[r])**2\n",
    "                r -= 1\n",
    "            else:\n",
    "                res[r - l] = abs(nums[l])**2\n",
    "                l += 1\n",
    "        return res"
   ]
  },
  {
   "cell_type": "markdown",
   "metadata": {},
   "source": [
    "## 88. (5) Merge Sorted Arrays (List, 2 Pointers) (Facebook 18, Microsoft Onsite 10, Amazon 8)\n",
    "\n",
    "O(m+n)  \n",
    "O(1)"
   ]
  },
  {
   "cell_type": "code",
   "execution_count": 10,
   "metadata": {},
   "outputs": [],
   "source": [
    "class Solution:\n",
    "    def merge(self, A, m, B, n):\n",
    "        \"\"\"\n",
    "        :type A: List[int]\n",
    "        :type m: int\n",
    "        :type B: List[int]\n",
    "        :type n: int\n",
    "        :rtype: void Do not return anything, modify nums1 in-place instead.\n",
    "        \"\"\"\n",
    "        p1 = m - 1\n",
    "        p2 = n - 1\n",
    "        end = m + n - 1\n",
    "        \n",
    "        while p1 >= 0 and p2 >= 0:\n",
    "#             print('m =', m, 'n =', n)\n",
    "            if A[p1] > B[p2]:\n",
    "                A[end] = A[p1]\n",
    "#                 print('nums1 =', nums1)\n",
    "                end -= 1\n",
    "                p1 -= 1\n",
    "#                 print('m =', m)\n",
    "            else:\n",
    "                A[end] = B[p2]\n",
    "#                 print('nums1 =', nums1)\n",
    "                end -= 1\n",
    "                p2 -= 1\n",
    "#                 print('n =', n)     \n",
    "#             print()\n",
    "        # if p2 > 0:\n",
    "        A[:p2+1] = B[:p2+1]"
   ]
  },
  {
   "cell_type": "code",
   "execution_count": 11,
   "metadata": {},
   "outputs": [
    {
     "name": "stdout",
     "output_type": "stream",
     "text": [
      "m = 3 n = 3\n",
      "nums1 = [1, 2, 3, 0, 0, 6]\n",
      "n = 2\n",
      "\n",
      "m = 3 n = 2\n",
      "nums1 = [1, 2, 3, 0, 5, 6]\n",
      "n = 1\n",
      "\n",
      "m = 3 n = 1\n",
      "nums1 = [1, 2, 3, 3, 5, 6]\n",
      "m = 2\n",
      "\n",
      "m = 2 n = 1\n",
      "nums1 = [1, 2, 2, 3, 5, 6]\n",
      "n = 0\n",
      "\n"
     ]
    },
    {
     "data": {
      "text/plain": [
       "[1, 2, 2, 3, 5, 6]"
      ]
     },
     "execution_count": 11,
     "metadata": {},
     "output_type": "execute_result"
    }
   ],
   "source": [
    "s = Solution()\n",
    "nums1 = [1,2,3,0,0,0]\n",
    "nums2 = [2,5,6]\n",
    "s.merge(nums1,3,nums2,3)\n",
    "nums1"
   ]
  },
  {
   "cell_type": "markdown",
   "metadata": {},
   "source": [
    "Given two sorted arrays, return the merge of the two sorted arrays also in sorted order.\n",
    "\n",
    "Example  \n",
    "Input  \n",
    "arr1[] = {5, 8, 9}  \n",
    "arr2[] = {4, 7, 8}  \n",
    "\n",
    "Output  \n",
    "arr3[] = {4, 5, 7, 8, 8, 9}  "
   ]
  },
  {
   "cell_type": "code",
   "execution_count": 5,
   "metadata": {},
   "outputs": [
    {
     "name": "stdout",
     "output_type": "stream",
     "text": [
      "[]\n"
     ]
    },
    {
     "data": {
      "text/plain": [
       "[4, 5, 7, 8, 8, 9]"
      ]
     },
     "execution_count": 5,
     "metadata": {},
     "output_type": "execute_result"
    }
   ],
   "source": [
    "def merge(left, right):\n",
    "    l = r = 0\n",
    "    ret = []\n",
    "\n",
    "    while l < len(left) and r < len(right):\n",
    "        if left[l] < right[r]:\n",
    "            ret.append(left[l])\n",
    "            l += 1\n",
    "        else:\n",
    "            ret.append(right[r])\n",
    "            r += 1\n",
    "    \n",
    "    # append what is remained in either of the lists\n",
    "    ret.extend(left[l:])\n",
    "    ret.extend(right[r:])\n",
    "    \n",
    "    return ret\n",
    "\n",
    "arr1 = [5,8,9]\n",
    "arr2 = [4,7,8]\n",
    "merge(arr1, arr2)"
   ]
  },
  {
   "cell_type": "code",
   "execution_count": null,
   "metadata": {},
   "outputs": [],
   "source": [
    "def merge_arrays(arr1, arr2):\n",
    "    if not arr1:\n",
    "        return arr2\n",
    "    if not arr2:\n",
    "        return arr1\n",
    "    \n",
    "    m = 0\n",
    "    n = 0\n",
    "    end = len(arr1) + len(arr2) - 1\n",
    "    \n",
    "    res = [0] * len(arr2)\n",
    "    \n",
    "    arr3 = [0] * (len(arr1) + len(arr2))\n",
    "    \n",
    "    \n",
    "    print(arr1)\n",
    "    # arr1 = [5,8,9,0,0,0]\n",
    "    \n",
    "    while m <= len(arr1) - 1 and n <= len(arr2) - 1:\n",
    "        if arr1[m] > arr2[n]:\n",
    "            arr3[m+n] = arr2[n]\n",
    "            n +=1\n",
    "        else:\n",
    "            arr3[m+n] = arr1[m]\n",
    "            m +=1\n",
    "    \n",
    "    # print(m)\n",
    "    # print(n)\n",
    "    if m <= len(arr1) - 1:\n",
    "        arr3[m+n:] = arr1[m:]\n",
    "        \n",
    "    if n <= len(arr2) - 1:\n",
    "        arr3[m+n:] = arr2[n:]"
   ]
  },
  {
   "cell_type": "markdown",
   "metadata": {},
   "source": [
    "## Replace Blank  \n",
    "剑指Offer. URL. change spance with %20"
   ]
  },
  {
   "cell_type": "code",
   "execution_count": null,
   "metadata": {},
   "outputs": [],
   "source": [
    "class Solution:\n",
    "    def url(self, string, length):\n",
    "        if not string:\n",
    "            return ''\n",
    "        \n",
    "        string = string.strip()\n",
    "        \n",
    "        space = 0\n",
    "        for i in range(length):\n",
    "            if string[i] == ' ':\n",
    "                space += 1\n",
    "                \n",
    "        index = length + space * 2 - 1\n",
    "        for i in range(length-1, -1, -1):\n",
    "            if string[i] == ' ':\n",
    "                string[index] = '0'\n",
    "                string[index-1] = '2'\n",
    "                string[index-2] = '%'\n",
    "                index -= 3\n",
    "                \n",
    "            else:\n",
    "                string[index] = string[i]\n",
    "                index -= 1"
   ]
  },
  {
   "cell_type": "markdown",
   "metadata": {},
   "source": [
    "## 4. Median of Two Sorted Arrays (List, 3 Pointers) (Amazon 14, Google 12, Apple 8, Facebook 5, Microsoft 7) (Hard)\n",
    "\n",
    "O(log(min(m,n)))  \n",
    "O(1)"
   ]
  },
  {
   "cell_type": "code",
   "execution_count": 44,
   "metadata": {},
   "outputs": [
    {
     "data": {
      "text/plain": [
       "3.0"
      ]
     },
     "execution_count": 44,
     "metadata": {},
     "output_type": "execute_result"
    }
   ],
   "source": [
    "class Solution:\n",
    "    def findMedianSortedArrays(self, nums1, nums2):\n",
    "        \n",
    "        \n",
    "        m = len(nums1)\n",
    "        n = len(nums2)\n",
    "        # 让nums2成为更长的那一个数组\n",
    "        if m > n:\n",
    "            nums1, nums2, m, n = nums2, nums1, n, m\n",
    "        \n",
    "        # 如果两个都为空的异常处理\n",
    "        if n == 0:\n",
    "            raise ValueError\n",
    "\n",
    "        # nums1中index在imid左边的都被分到左堆，nums2中jmid左边的都被分到左堆\n",
    "        imin, imax = 0, m\n",
    "        \n",
    "        # 二分答案\n",
    "        while(imin <= imax):\n",
    "            imid = imin + (imax - imin) // 2\n",
    "            # 左堆最大的只有可能是nums1[imid-1],nums2[jmid-1]\n",
    "            # 右堆最小只有可能是nums1[imid],nums2[jmid]\n",
    "            # 让左右堆大致相等需要满足的条件是imid+jmid = m-imid+n-jmid 即 jmid = (m+n-2imid)//2\n",
    "            # 为什么是大致呢？因为有总数为奇数的情况，这里用向下取整数操作，所以如果是奇数，右堆会多1\n",
    "            jmid = (m + n - 2*imid) // 2 \n",
    "            \n",
    "            # 前面的判断条件只是为了保证不会index out of range\n",
    "            if imid > 0 and nums1[imid-1] > nums2[jmid]:\n",
    "                # imid太大了，这是里精确查找，不是左闭右开，而是双闭区间，所以直接移动一位\n",
    "                imax = imid - 1\n",
    "            elif imid < m and nums2[jmid-1] > nums1[imid] :\n",
    "                imin = imid + 1\n",
    "            # 满足条件\n",
    "            else:\n",
    "                # 边界情况处理，都是为了不out of index\n",
    "                # 依次得到左堆最大和右堆最小\n",
    "                if(imid == m): \n",
    "                    minright = nums2[jmid]\n",
    "                elif(jmid == n): \n",
    "                    minright = nums1[imid]\n",
    "                else:\n",
    "                    minright = min(nums1[imid],nums2[jmid])        \n",
    "                    \n",
    "                if(imid == 0): \n",
    "                    maxleft = nums2[jmid-1]\n",
    "                elif(jmid == 0): \n",
    "                    maxleft = nums1[imid-1]\n",
    "                else:\n",
    "                    maxleft = max(nums1[imid-1],nums2[jmid-1])\n",
    "                \n",
    "                # 前面也提过，因为取中间的时候用的是向下取整，所以如果总数是奇数的话，\n",
    "                # 应该是右边个数多一些，边界的minright就是中位数\n",
    "                if((m+n)%2) == 1:\n",
    "                    return minright \n",
    "     \n",
    "                # 否则我们在两个值中间做个平均\n",
    "                return (maxleft + minright)/2\n",
    "    \n",
    "nums1 = [1,2,3,4]\n",
    "nums2= [2,3,4,5]\n",
    "s = Solution()\n",
    "s.findMedianSortedArrays(nums1, nums2)"
   ]
  },
  {
   "cell_type": "code",
   "execution_count": null,
   "metadata": {},
   "outputs": [],
   "source": [
    "class Solution:\n",
    "    def findMedianSortedArrays(self, A: List[int], B: List[int]) -> float:\n",
    "        m, n = len(A), len(B)\n",
    "        \n",
    "        if m > n:\n",
    "            A, B, m, n = B, A, n, m\n",
    "            \n",
    "        if n == 0:\n",
    "            return 0\n",
    "\n",
    "        imin, imax, half_len = 0, m, (m + n + 1) // 2\n",
    "        \n",
    "        while imin <= imax:\n",
    "            i = (imin + imax) // 2\n",
    "            j = half_len - i\n",
    "            if i < m and B[j-1] > A[i]:\n",
    "                # i is too small, must increase it\n",
    "                imin = i + 1\n",
    "            elif i > 0 and A[i-1] > B[j]:\n",
    "                # i is too big, must decrease it\n",
    "                imax = i - 1\n",
    "            else:\n",
    "                # i is perfect\n",
    "\n",
    "                if i == 0: \n",
    "                    max_of_left = B[j-1]\n",
    "                elif j == 0: \n",
    "                    max_of_left = A[i-1]\n",
    "                else: \n",
    "                    max_of_left = max(A[i-1], B[j-1])\n",
    "\n",
    "                if i == m: \n",
    "                    min_of_right = B[j]\n",
    "                elif j == n: \n",
    "                    min_of_right = A[i]\n",
    "                else:\n",
    "                    min_of_right = min(A[i], B[j])\n",
    "                    \n",
    "                if (m + n) % 2 == 1:\n",
    "                    return max_of_left\n",
    "\n",
    "                return (max_of_left + min_of_right) / 2.0"
   ]
  },
  {
   "cell_type": "markdown",
   "metadata": {},
   "source": [
    "O(m+n)  \n",
    "O(1)"
   ]
  },
  {
   "cell_type": "code",
   "execution_count": 54,
   "metadata": {},
   "outputs": [
    {
     "name": "stdout",
     "output_type": "stream",
     "text": [
      "5\n",
      "yes\n"
     ]
    },
    {
     "data": {
      "text/plain": [
       "4"
      ]
     },
     "execution_count": 54,
     "metadata": {},
     "output_type": "execute_result"
    }
   ],
   "source": [
    "class Solution:\n",
    "    def findMedianSortedArrays(self, A, B):\n",
    "        \"\"\"\n",
    "        :type A: List[int]\n",
    "        :type B: List[int]\n",
    "        :rtype: float\n",
    "        \"\"\"\n",
    "        def findKth(A, B, k):\n",
    "            p1 = 0\n",
    "            p2 = 0\n",
    "            m = 0\n",
    "            res = 0\n",
    "            while p1 <= len(A) - 1 and p2 <= len(B) - 1 and m <= k:\n",
    "                if A[p1] < B[p2]:\n",
    "                    res = A[p1]\n",
    "                    p1 += 1\n",
    "                else:\n",
    "                    res = B[p2]\n",
    "                    p2 += 1\n",
    "                m += 1\n",
    "\n",
    "            while p1 <= len(A) -1 and m <= k:\n",
    "                res = A[p1]\n",
    "                p1 += 1\n",
    "                m += 1\n",
    "\n",
    "            while p2 <= len(B) - 1 and m <= k:\n",
    "                res = B[p2]\n",
    "                p2 += 1\n",
    "                m += 1\n",
    "\n",
    "            return res\n",
    "\n",
    "        n = len(A) + len(B)\n",
    "#         print(n)\n",
    "        if n % 2 == 1:\n",
    "#             print('yes')\n",
    "            return findKth(A, B, n // 2)\n",
    "        else:\n",
    "            smaller = findKth(A, B, n // 2 - 1)\n",
    "            bigger = findKth(A, B, n // 2)\n",
    "            return (smaller + bigger) / 2\n",
    "        \n",
    "a = Solution()\n",
    "a.findMedianSortedArrays([1,4,5],[2,6])"
   ]
  },
  {
   "cell_type": "code",
   "execution_count": 4,
   "metadata": {},
   "outputs": [
    {
     "data": {
      "text/plain": [
       "4"
      ]
     },
     "execution_count": 4,
     "metadata": {},
     "output_type": "execute_result"
    }
   ],
   "source": [
    "def findKth(A, B, k):\n",
    "    p1 = 0\n",
    "    p2 = 0\n",
    "    m = 0\n",
    "    res = 0\n",
    "    while p1 <= len(A) - 1 and p2 <= len(B) - 1 and m <= k:\n",
    "        if A[p1] < B[p2]:\n",
    "            res = A[p1]\n",
    "            p1 += 1\n",
    "        else:\n",
    "            res = B[p2]\n",
    "            p2 += 1\n",
    "        m += 1\n",
    "\n",
    "    while p1 <= len(A) -1 and m <= k:\n",
    "        res = A[p1]\n",
    "        p1 += 1\n",
    "        m += 1\n",
    "\n",
    "    while p2 <= len(B) - 1 and m <= k:\n",
    "        res = B[p2]\n",
    "        p2 += 1\n",
    "        m += 1\n",
    "\n",
    "    return res\n",
    "        \n",
    "findKth([1,3], [2, 4], 3)"
   ]
  },
  {
   "cell_type": "markdown",
   "metadata": {},
   "source": [
    "## 986. Interval List Intersections (Facebook 26, Apple 4, Google 3, Amazon 2)"
   ]
  },
  {
   "cell_type": "code",
   "execution_count": null,
   "metadata": {},
   "outputs": [],
   "source": [
    "class Solution(object):\n",
    "    def intervalIntersection(self, A, B):\n",
    "        \"\"\"\n",
    "        :type A: List[List[int]]\n",
    "        :type B: List[List[int]]\n",
    "        :rtype: List[List[int]]\n",
    "        \"\"\"\n",
    "        ans = []\n",
    "        i = j = 0\n",
    "\n",
    "        while i < len(A) and j < len(B):\n",
    "            # Let's check if A[i] intersects B[j].\n",
    "            # lo - the startpoint of the intersection\n",
    "            # hi - the endpoint of the intersection\n",
    "            lo = max(A[i][0], B[j][0])\n",
    "            hi = min(A[i][1], B[j][1])\n",
    "            if lo <= hi:\n",
    "                ans.append([lo, hi])\n",
    "\n",
    "            # Remove the interval with the smallest endpoint\n",
    "            if A[i][1] < B[j][1]:\n",
    "                i += 1\n",
    "            else:\n",
    "                j += 1\n",
    "\n",
    "        return ans"
   ]
  },
  {
   "cell_type": "markdown",
   "metadata": {},
   "source": [
    "## 1229. Meeting Scheduler (Amazon 4, Apple 4)"
   ]
  },
  {
   "cell_type": "code",
   "execution_count": null,
   "metadata": {},
   "outputs": [],
   "source": [
    "class Solution(object):\n",
    "    def minAvailableDuration(self, A, B, duration):\n",
    "        \"\"\"\n",
    "        :type slots1: List[List[int]]\n",
    "        :type slots2: List[List[int]]\n",
    "        :type duration: int\n",
    "        :rtype: List[int]\n",
    "        \"\"\"\n",
    "        ans = []\n",
    "        i = j = 0\n",
    "\n",
    "        A.sort()\n",
    "        B.sort()\n",
    "        \n",
    "        while i < len(A) and j < len(B):\n",
    "            # Let's check if A[i] intersects B[j].\n",
    "            # lo - the startpoint of the intersection\n",
    "            # hi - the endpoint of the intersection\n",
    "            lo = max(A[i][0], B[j][0])\n",
    "            hi = min(A[i][1], B[j][1])\n",
    "            if lo <= hi:\n",
    "                ans.append([lo, hi])\n",
    "\n",
    "            # Remove the interval with the smallest endpoint\n",
    "            if A[i][1] < B[j][1]:\n",
    "                i += 1\n",
    "            else:\n",
    "                j += 1\n",
    "\n",
    "        # print(ans)        \n",
    "                \n",
    "        for left, right in ans:\n",
    "            if right - left >= duration:\n",
    "                return [left, left + duration]\n",
    "            \n",
    "        return []"
   ]
  },
  {
   "cell_type": "markdown",
   "metadata": {},
   "source": [
    "## 28. Implement strStr() (Amazon 5, Microsoft 4, Apple 3)\n",
    "\n",
    "*- 时间复杂度: O(m * n)- 空间复杂度: O(1)*\n",
    "\n",
    "m = len(haystack)\n",
    "n = len(needle)\n",
    "作弊，python str.find() 底层实现是 Boyer–Moore–Horspool 算法\n",
    "\n",
    "The time complexity is O(N) on average, O(NM) worst case (N being the length of the longer string, M, the shorter string you search for)."
   ]
  },
  {
   "cell_type": "code",
   "execution_count": null,
   "metadata": {},
   "outputs": [],
   "source": [
    "class Solution:\n",
    "    def strStr(self, haystack, needle):\n",
    "        \"\"\"\n",
    "        :type haystack: str\n",
    "        :type needle: str\n",
    "        :rtype: int\n",
    "        \"\"\"\n",
    "        len_n, len_h = len(needle), len(haystack)\n",
    "        \n",
    "        if len_n == 0:\n",
    "            return 0\n",
    "\n",
    "        i = 0\n",
    "        j = 0\n",
    "        \n",
    "        while i < len_h:\n",
    "            if haystack[i] == needle[j]:\n",
    "                i += 1\n",
    "                j += 1\n",
    "                \n",
    "                if j == len_n:\n",
    "                    return i - j \n",
    "                \n",
    "            else:\n",
    "                i = i - j + 1\n",
    "                j = 0\n",
    "                   \n",
    "        return -1\n"
   ]
  },
  {
   "cell_type": "code",
   "execution_count": null,
   "metadata": {},
   "outputs": [],
   "source": [
    "class Solution(object):\n",
    "    def strStr(self, haystack, needle):\n",
    "        \"\"\"\n",
    "        :type haystack: str\n",
    "        :type needle: str\n",
    "        :rtype: int\n",
    "        \"\"\"\n",
    "        len_n, len_h = len(needle), len(haystack)\n",
    "        \n",
    "        if len_n == 0:\n",
    "            return 0\n",
    "\n",
    "        ph = 0\n",
    "        while ph <= len_h - len_n:\n",
    "            while ph <= len_h - len_n:\n",
    "                if haystack[ph] == needle[0]:\n",
    "                    break\n",
    "                ph += 1\n",
    "            \n",
    "            pn = 0\n",
    "            while pn < len_n and ph < len_h:\n",
    "                if haystack[ph] != needle[pn]:\n",
    "                    break\n",
    "                    \n",
    "                ph += 1\n",
    "                pn += 1\n",
    "            \n",
    "            if pn == len_n:\n",
    "                return ph - len_n\n",
    "\n",
    "            ph = ph - pn + 1\n",
    "            \n",
    "        return -1"
   ]
  },
  {
   "cell_type": "code",
   "execution_count": null,
   "metadata": {},
   "outputs": [],
   "source": [
    "class Solution():\n",
    "    def strStr(self, haystack, needle):\n",
    "        \"\"\"\n",
    "        :type haystack: str\n",
    "        :type needle: str\n",
    "        :rtype: int\n",
    "        \"\"\"\n",
    "        n, h = len(needle), len(haystack)\n",
    "        \n",
    "        if n == 0:\n",
    "            return 0\n",
    "\n",
    "        ph = 0\n",
    "        while ph <= h - n:\n",
    "            # find the position of the first needle character\n",
    "            # in the haystack string\n",
    "            while ph <= h - n and haystack[ph] != needle[0]:\n",
    "                ph += 1\n",
    "            \n",
    "            # compute the max match string\n",
    "            curr_len = pn = 0\n",
    "            while pn < n and ph < h and haystack[ph] == needle[pn]:\n",
    "                ph += 1\n",
    "                pn += 1\n",
    "                curr_len += 1\n",
    "            \n",
    "            # if the whole needle string is found,\n",
    "            # return its start position\n",
    "            if curr_len == n:\n",
    "                return ph - n\n",
    "            \n",
    "            # otherwise, backtrack\n",
    "            ph = ph - curr_len + 1\n",
    "            \n",
    "        return -1"
   ]
  },
  {
   "cell_type": "code",
   "execution_count": null,
   "metadata": {},
   "outputs": [],
   "source": [
    "class Solution:\n",
    "    def strStr(self, haystack, needle):\n",
    "        \"\"\"\n",
    "        :type haystack: str\n",
    "        :type needle: str\n",
    "        :rtype: int\n",
    "        \"\"\"\n",
    "        return haystack.find(needle)"
   ]
  },
  {
   "cell_type": "markdown",
   "metadata": {},
   "source": [
    "## 167. Two Sum II - Input Array is Sorted (List, 2 Pointers) (Amazon 10)\n",
    "O(n)  \n",
    "O(1)\n",
    "\n",
    "https://www.hrwhisper.me/leetcode-2-sum-3-sum-4-sum-3-sum-closest-k-sum/"
   ]
  },
  {
   "cell_type": "code",
   "execution_count": null,
   "metadata": {},
   "outputs": [],
   "source": [
    "class Solution:\n",
    "    def twoSum(self, nums, target):\n",
    "        \"\"\"\n",
    "        :type nums: List[int]\n",
    "        :type target: int\n",
    "        :rtype: List[int]\n",
    "        \"\"\"\n",
    "        l = 0\n",
    "        r = len(nums) - 1\n",
    "        while l < r:\n",
    "            if nums[l] + nums[r] == target:\n",
    "                return [l + 1, r + 1]\n",
    "            elif nums[l] + nums[r] > target:\n",
    "                r -= 1\n",
    "            else:\n",
    "                l += 1\n",
    "        return [-1, -1]"
   ]
  },
  {
   "cell_type": "code",
   "execution_count": 9,
   "metadata": {},
   "outputs": [
    {
     "data": {
      "text/plain": [
       "[2, 3]"
      ]
     },
     "execution_count": 9,
     "metadata": {},
     "output_type": "execute_result"
    }
   ],
   "source": [
    "s = (3,2)\n",
    "sorted((3,2))"
   ]
  },
  {
   "cell_type": "markdown",
   "metadata": {},
   "source": [
    "## Optimal Utilization (Amazon OA)"
   ]
  },
  {
   "cell_type": "code",
   "execution_count": 6,
   "metadata": {},
   "outputs": [],
   "source": [
    "class Solution:\n",
    "    def findPairs(self, a, b, target):\n",
    "        a.sort(key=lambda x: x[1])\n",
    "        b.sort(key=lambda x: x[1])\n",
    "        \n",
    "        print(a)\n",
    "        print(b)\n",
    "        \n",
    "        l, r = 0, len(b) - 1\n",
    "        ans = []\n",
    "        curDiff = float('inf')\n",
    "        \n",
    "        while l < len(a) and r >= 0:\n",
    "            id1, i = a[l]\n",
    "            id2, j = b[r]\n",
    "            \n",
    "            if (i + j <= target and target - i - j < curDiff):\n",
    "                ans.clear()\n",
    "                ans.append([id1, id2])\n",
    "                curDiff = target - i - j\n",
    "                \n",
    "            elif (target - i - j == curDiff):\n",
    "                ans.append([id1, id2])\n",
    "                \n",
    "            if i + j < target:\n",
    "                l += 1\n",
    "            else:\n",
    "                r -= 1\n",
    "                \n",
    "        return ans"
   ]
  },
  {
   "cell_type": "code",
   "execution_count": 7,
   "metadata": {},
   "outputs": [
    {
     "name": "stdout",
     "output_type": "stream",
     "text": [
      "[[1, 2], [2, 4], [3, 6]]\n",
      "[[1, 2]]\n"
     ]
    },
    {
     "data": {
      "text/plain": [
       "[[2, 1]]"
      ]
     },
     "execution_count": 7,
     "metadata": {},
     "output_type": "execute_result"
    }
   ],
   "source": [
    "a = [[1, 2], [2, 4], [3, 6]]\n",
    "b = [[1, 2]]\n",
    "target = 7\n",
    "\n",
    "s = Solution()\n",
    "s.findPairs(a,b,target)"
   ]
  },
  {
   "cell_type": "markdown",
   "metadata": {},
   "source": [
    "## 15. 3Sum (List, 2 Pointers) (Amazon 32, Facebook 16, Microsoft 7, Apple 5)"
   ]
  },
  {
   "cell_type": "code",
   "execution_count": null,
   "metadata": {},
   "outputs": [],
   "source": [
    "#O(N^2)  \n",
    "#O(n)  \n",
    "#排序  \n",
    "#固定左边，如果左边重复，继续  \n",
    "#左右弄边界，去重，针对不同的左右边界情况处理\n",
    "class Solution:\n",
    "    def threeSum(self, nums):\n",
    "        \"\"\"\n",
    "        :type nums: List[int]\n",
    "        :rtype: List[List[int]]\n",
    "        \"\"\"\n",
    "        if not nums:\n",
    "            return 0\n",
    "        \n",
    "        nums.sort()\n",
    "        res =[]\n",
    "#         i = 0\n",
    "        \n",
    "        for i in range(len(nums)-2):\n",
    "#             if i == 0 or nums[i] > nums[i-1]:\n",
    "            if i > 0 and nums[i] == nums[i-1]:\n",
    "                continue\n",
    "            \n",
    "            l = i + 1\n",
    "            r = len(nums) - 1\n",
    "\n",
    "            while l < r:\n",
    "                s = nums[i] + nums[l] + nums[r]\n",
    "                if s == 0:\n",
    "                    res.append([nums[i], nums[l], nums[r]])\n",
    "                    l += 1\n",
    "                    r -= 1\n",
    "\n",
    "                    while l < r and nums[l] == nums[l-1]:\n",
    "                        l += 1\n",
    "                    while l < r and nums[r] == nums[r+1]:\n",
    "                        r -= 1\n",
    "                elif s > 0:\n",
    "                    r -=1\n",
    "                else :\n",
    "                    l +=1\n",
    "        return res"
   ]
  },
  {
   "cell_type": "markdown",
   "metadata": {},
   "source": [
    "## 16. 3Sum Closest (List, 2 Pointers) (Google 6, Amazon 3)\n",
    "O(N^2)  \n",
    "O(1)"
   ]
  },
  {
   "cell_type": "code",
   "execution_count": 13,
   "metadata": {},
   "outputs": [
    {
     "ename": "SyntaxError",
     "evalue": "invalid syntax (<ipython-input-13-d54a57fc2267>, line 29)",
     "output_type": "error",
     "traceback": [
      "\u001b[0;36m  File \u001b[0;32m\"<ipython-input-13-d54a57fc2267>\"\u001b[0;36m, line \u001b[0;32m29\u001b[0m\n\u001b[0;31m    if diff < res_diff\u001b[0m\n\u001b[0m                      ^\u001b[0m\n\u001b[0;31mSyntaxError\u001b[0m\u001b[0;31m:\u001b[0m invalid syntax\n"
     ]
    }
   ],
   "source": [
    "class Solution:\n",
    "    def threeSumClosest(self, nums, target):\n",
    "        \"\"\"\n",
    "        :type nums: List[int]\n",
    "        :rtype: List[List[int]]\n",
    "        \"\"\"\n",
    "        nums.sort()\n",
    "        res = 0\n",
    "        res_diff = float('inf')\n",
    "        for i in range(len(nums)-2):\n",
    "            if i > 0 and nums[i] == nums[i-1]:\n",
    "                continue \n",
    "            \n",
    "            l = i + 1 \n",
    "            r = len(nums) - 1\n",
    "                \n",
    "            while l < r:\n",
    "                s = nums[i] + nums[l] + nums[r]\n",
    "                if s == target:\n",
    "                    return target\n",
    "                elif s > target:\n",
    "                    r -= 1\n",
    "                else:\n",
    "                    l += 1\n",
    "            \n",
    "                if abs(s-target) < res_diff:\n",
    "                    res_diff = abs(s-target)\n",
    "                    res = s\n",
    "\n",
    "        return res"
   ]
  },
  {
   "cell_type": "code",
   "execution_count": null,
   "metadata": {},
   "outputs": [],
   "source": [
    "class Solution:\n",
    "    def threeSumClosest(self, nums, target):\n",
    "        \"\"\"\n",
    "        :type nums: List[int]\n",
    "        :rtype: List[List[int]]\n",
    "        \"\"\"\n",
    "        nums.sort()\n",
    "        res = None\n",
    "        diff = float('inf')\n",
    "        for i in range(len(nums)-2):\n",
    "            if i == 0 or nums[i] > nums[i-1]:\n",
    "                l = i+1 \n",
    "                r = len(nums)-1\n",
    "                \n",
    "            while l < r:\n",
    "                s = nums[i] + nums[l] + nums[r]\n",
    "                if s == target:\n",
    "                    return target\n",
    "                elif s > target:\n",
    "                    r -= 1\n",
    "                    if abs(s-target) < diff:\n",
    "                        diff = abs(s-target)\n",
    "                        res = s\n",
    "                    while l < r and nums[r] == nums[r+1]:\n",
    "                        r -= 1    \n",
    "                else:\n",
    "                    l += 1\n",
    "                    if abs(s-target) < diff:\n",
    "                        diff = abs(s-target)\n",
    "                        res = s\n",
    "                    while l < r and nums[l] == nums[l-1]:\n",
    "                        l += 1 \n",
    "        return res"
   ]
  },
  {
   "cell_type": "markdown",
   "metadata": {},
   "source": [
    "## 18. 4Sum (List, 2 Pointers) (Amazon 4)\n",
    "\n",
    "O(N^3)  \n",
    "O(n)"
   ]
  },
  {
   "cell_type": "code",
   "execution_count": null,
   "metadata": {},
   "outputs": [],
   "source": [
    "class Solution:\n",
    "    def fourSum(self, nums, target):\n",
    "        \"\"\"\n",
    "        :type nums: List[int]\n",
    "        :type target: int\n",
    "        :rtype: List[List[int]]\n",
    "        \"\"\"\n",
    "        nums.sort()\n",
    "        res = []\n",
    "        for i in range(len(nums) - 3):\n",
    "            if i > 0 and nums[i] == nums[i - 1]: \n",
    "                continue\n",
    "                \n",
    "            if nums[i] + nums[i + 1] + nums[i + 2] + nums[i + 3] > target: \n",
    "                break\n",
    "            if nums[i] + nums[i - 3] + nums[i - 2] + nums[i - 1] < target: \n",
    "                continue\n",
    "                \n",
    "            for j in range(i + 1, len(nums) - 2):\n",
    "                if j > i + 1 and nums[j] == nums[j - 1]: \n",
    "                    continue\n",
    "                if nums[i] + nums[j] + nums[j + 1] + nums[j + 2] > target: \n",
    "                    break\n",
    "                if nums[i] + nums[j] + nums[j - 2] + nums[j - 1] < target: \n",
    "                    continue\n",
    "                    \n",
    "                l = j + 1 \n",
    "                r = len(nums) - 1\n",
    "                while l < r:\n",
    "                    s = nums[i] + nums[j] + nums[l] + nums[r]\n",
    "                    if s == target:\n",
    "                        res.append([nums[i], nums[j], nums[l], nums[r]])\n",
    "                        l += 1\n",
    "                        r -= 1\n",
    "                        while l < r and nums[l] == nums[l - 1]: \n",
    "                            l += 1\n",
    "                        while l < r and nums[r] == nums[r + 1]: \n",
    "                            r -= 1\n",
    "                    elif s > target:\n",
    "                        r -= 1\n",
    "                    else:\n",
    "                        l += 1\n",
    "        return res"
   ]
  },
  {
   "cell_type": "code",
   "execution_count": null,
   "metadata": {},
   "outputs": [],
   "source": [
    "class Solution:\n",
    "    def fourSum(self, nums, target):\n",
    "        \"\"\"\n",
    "        :type nums: List[int]\n",
    "        :type target: int\n",
    "        :rtype: List[List[int]]\n",
    "        \"\"\"\n",
    "        nums.sort()\n",
    "        res = []\n",
    "        for i in range(len(nums)):\n",
    "            for j in range(i + 1, len(nums)):\n",
    "                l = j + 1\n",
    "                r = len(nums) - 1\n",
    "                while l < r:\n",
    "                    s = nums[i] + nums[j] + nums[l] + nums[r]\n",
    "                    if s == target:\n",
    "                        if [nums[i], nums[j], nums[l], nums[r]] not in res:\n",
    "                            res.append([nums[i], nums[j], nums[l], nums[r]])\n",
    "                        l += 1\n",
    "                        r -= 1\n",
    "                    elif s > target:\n",
    "                        r -= 1\n",
    "                    else:\n",
    "                        l += 1\n",
    "        return res"
   ]
  },
  {
   "cell_type": "markdown",
   "metadata": {},
   "source": [
    "## 11. (5) Container With Most Water (List, 2 Pointers) (Amazon 18, Google 5, Microsoft 2)\n",
    "\n",
    "O(N)  \n",
    "O(1)"
   ]
  },
  {
   "cell_type": "code",
   "execution_count": null,
   "metadata": {},
   "outputs": [],
   "source": [
    "class Solution:\n",
    "    def maxArea(self, height):\n",
    "        \"\"\"\n",
    "        :type height: List[int]\n",
    "        :rtype: int\n",
    "        \"\"\"\n",
    "        l = 0\n",
    "        r = len(height) - 1\n",
    "        res = 0\n",
    "        while l < r:\n",
    "            water = min(height[l], height[r]) * (r - l) \n",
    "            res = max(res, water)\n",
    "            if height[l] <= height[r]:\n",
    "                l += 1\n",
    "            elif height[l] > height[r]:\n",
    "                r -= 1\n",
    "#             else:\n",
    "#                 left += 1\n",
    "#                 right -= 1\n",
    "        return res     "
   ]
  },
  {
   "cell_type": "markdown",
   "metadata": {},
   "source": [
    "## 42. (5) Trapping Rain Water (List, 2 Pointers) (Amazon 37, Facebook 17, Microsoft Onsite 16, Google 13, Apple 11)"
   ]
  },
  {
   "cell_type": "code",
   "execution_count": null,
   "metadata": {},
   "outputs": [],
   "source": [
    "class Solution(object):\n",
    "    def trap(self, height):\n",
    "        \"\"\"\n",
    "        :type height: List[int]\n",
    "        :rtype: int\n",
    "        \"\"\"\n",
    "        if not height:\n",
    "            return 0\n",
    "        \n",
    "        length = len(height)\n",
    "        \n",
    "        l = 0\n",
    "        r = length - 1\n",
    "        \n",
    "        ans = 0\n",
    "        \n",
    "        l_max = height[0]\n",
    "        r_max = height[length-1]\n",
    "        \n",
    "        while l < r:\n",
    "            l_max = max(l_max, height[l])\n",
    "            r_max = max(r_max, height[r])\n",
    "            \n",
    "            if l_max <= r_max:\n",
    "                ans += l_max - height[l]\n",
    "                l += 1\n",
    "                \n",
    "            else:\n",
    "                ans += r_max - height[r]\n",
    "                r -= 1\n",
    "                \n",
    "        return ans\n",
    "                "
   ]
  },
  {
   "cell_type": "code",
   "execution_count": 184,
   "metadata": {},
   "outputs": [],
   "source": [
    "class Solution:\n",
    "    def trap(self, height):\n",
    "        \"\"\"\n",
    "        :type height: List[int]\n",
    "        :rtype: int\n",
    "        \"\"\"        \n",
    "        l = 0\n",
    "        r = len(height) - 1\n",
    "        res = 0\n",
    "        \n",
    "        while l < r:\n",
    "            minimum = min(height[l], height[r])\n",
    "#             print('min =', min_height)\n",
    "            while l < r and minimum >= height[l]:\n",
    "                res += minimum - height[l] \n",
    "#                 print('water =', water)\n",
    "                l += 1\n",
    "#                 print('l =', l)\n",
    "\n",
    "            while l < r and minimum >= height[r]:\n",
    "                res += minimum - height[r]\n",
    "#                 print('water =', water)\n",
    "                r -= 1\n",
    "#                 print('r =', r)\n",
    "                \n",
    "#             print()\n",
    "        return res"
   ]
  },
  {
   "cell_type": "code",
   "execution_count": 185,
   "metadata": {},
   "outputs": [
    {
     "name": "stdout",
     "output_type": "stream",
     "text": [
      "min = 0\n",
      "water = 0\n",
      "l = 1\n",
      "\n",
      "min = 1\n",
      "water = 0\n",
      "l = 2\n",
      "water = 1\n",
      "l = 3\n",
      "water = 1\n",
      "r = 10\n",
      "\n",
      "min = 2\n",
      "water = 1\n",
      "l = 4\n",
      "water = 2\n",
      "l = 5\n",
      "water = 4\n",
      "l = 6\n",
      "water = 5\n",
      "l = 7\n",
      "water = 5\n",
      "r = 9\n",
      "water = 6\n",
      "r = 8\n",
      "water = 6\n",
      "r = 7\n",
      "\n"
     ]
    },
    {
     "data": {
      "text/plain": [
       "6"
      ]
     },
     "execution_count": 185,
     "metadata": {},
     "output_type": "execute_result"
    }
   ],
   "source": [
    "s = Solution()\n",
    "s.trap([0,1,0,2,1,0,1,3,2,1,2,1])"
   ]
  },
  {
   "cell_type": "markdown",
   "metadata": {},
   "source": [
    "## 647. Palindromic Substrings (Facebook 9, Apple 4, Google 3, Microsoft 2, Amazon 2)"
   ]
  },
  {
   "cell_type": "code",
   "execution_count": null,
   "metadata": {},
   "outputs": [],
   "source": [
    "class Solution(object):\n",
    "    def countSubstrings(self, s):\n",
    "        \"\"\"\n",
    "        :type s: str\n",
    "        :rtype: int\n",
    "        \"\"\"\n",
    "        def palindrome(string, s, e):\n",
    "            length = len(string)\n",
    "            count = 0\n",
    "            while (s >= 0 and e < length and string[s] == string[e]):\n",
    "                s -= 1\n",
    "                e += 1\n",
    "                count += 1\n",
    "            return count\n",
    "        \n",
    "        countSubs = 0\n",
    "        length = len(s)\n",
    "        for index in range(length):\n",
    "            countSubs += palindrome(s, index, index)\n",
    "            countSubs += palindrome(s, index, index + 1)\n",
    "        \n",
    "        return countSubs\n",
    "\n",
    "        "
   ]
  },
  {
   "cell_type": "markdown",
   "metadata": {},
   "source": [
    "## 125. Valid Palindrome (String. 2 Pointers) (Facebook 34, Microsoft 8)\n",
    "\n",
    "O(N)  \n",
    "O(1)"
   ]
  },
  {
   "cell_type": "code",
   "execution_count": null,
   "metadata": {},
   "outputs": [],
   "source": [
    "class Solution:\n",
    "    def isPalindrome(self, s):\n",
    "        \"\"\"\n",
    "        :type s: str\n",
    "        :rtype: bool\n",
    "        \"\"\"\n",
    "        l, r = 0, len(s) - 1\n",
    "        while l < r:\n",
    "            if not s[l].isalnum():\n",
    "                l += 1\n",
    "           \n",
    "            elif not s[r].isalnum():\n",
    "                r -= 1\n",
    "            \n",
    "            elif s[l].lower() != s[r].lower():\n",
    "                return False\n",
    "            \n",
    "            else:\n",
    "                l +=1\n",
    "                r -= 1\n",
    "        return True"
   ]
  },
  {
   "cell_type": "code",
   "execution_count": null,
   "metadata": {},
   "outputs": [],
   "source": [
    "class Solution:\n",
    "    def isPalindrome(self, s):\n",
    "        \"\"\"\n",
    "        :type s: str\n",
    "        :rtype: bool\n",
    "        \"\"\"\n",
    "        l, r = 0, len(s)-1\n",
    "        while l < r:\n",
    "            while l < r and not s[l].isalnum():\n",
    "                l += 1\n",
    "            while l < r and not s[r].isalnum():\n",
    "                r -= 1\n",
    "            if s[l].lower() != s[r].lower():\n",
    "                return False\n",
    "            l +=1\n",
    "            r -= 1\n",
    "        return True"
   ]
  },
  {
   "cell_type": "markdown",
   "metadata": {},
   "source": [
    "O(N)  \n",
    "O(1)"
   ]
  },
  {
   "cell_type": "code",
   "execution_count": null,
   "metadata": {},
   "outputs": [],
   "source": [
    "class Solution:\n",
    "    def isPalindrome(self, s):\n",
    "        \"\"\"\n",
    "        :type s: str\n",
    "        :rtype: bool\n",
    "        \"\"\"\n",
    "        if not s:\n",
    "            return True\n",
    "        \n",
    "        strs = []\n",
    "        for c in s:\n",
    "            if c.isalnum():\n",
    "                strs.append(c.lower())\n",
    "                \n",
    "        return strs==strs[::-1]"
   ]
  },
  {
   "cell_type": "code",
   "execution_count": 51,
   "metadata": {},
   "outputs": [],
   "source": [
    "class Solution:\n",
    "    def isPalindrome(self, s):\n",
    "        \"\"\"\n",
    "        :type s: str\n",
    "        :rtype: bool\n",
    "        \"\"\"\n",
    "        s = ''.join(c for c in s if c.isalnum()).lower()\n",
    "        print(s)\n",
    "        return s==s[::-1]\n",
    "    \n",
    "#         s = s.lower()\n",
    "#         n = ''\n",
    "#         for c in s:\n",
    "#             if c.isalnum():\n",
    "#                 n += c\n",
    "                \n",
    "#         print(n)\n",
    "#         return n == n[::-1]\n",
    "\n",
    "#         s = s.lower()\n",
    "#         for c in s:\n",
    "#             if not c.isalnum():\n",
    "#                 s = s.replace(c, '')\n",
    "                \n",
    "#         print(s)\n",
    "#         return s == s[::-1]"
   ]
  },
  {
   "cell_type": "code",
   "execution_count": 52,
   "metadata": {},
   "outputs": [
    {
     "name": "stdout",
     "output_type": "stream",
     "text": [
      "amanaplanacanalpanama\n"
     ]
    },
    {
     "data": {
      "text/plain": [
       "True"
      ]
     },
     "execution_count": 52,
     "metadata": {},
     "output_type": "execute_result"
    }
   ],
   "source": [
    "d = \"A man, a plan, a canal: Panama\"\n",
    "s = Solution()\n",
    "s.isPalindrome(d)"
   ]
  },
  {
   "cell_type": "code",
   "execution_count": 53,
   "metadata": {},
   "outputs": [
    {
     "name": "stdout",
     "output_type": "stream",
     "text": [
      "A\n",
      " \n",
      "m\n",
      "a\n",
      "n\n",
      ",\n",
      " \n",
      "a\n",
      " \n",
      "p\n",
      "l\n",
      "a\n",
      "n\n",
      ",\n",
      " \n",
      "a\n",
      " \n",
      "c\n",
      "a\n",
      "n\n",
      "a\n",
      "l\n",
      ":\n",
      " \n",
      "P\n",
      "a\n",
      "n\n",
      "a\n",
      "m\n",
      "a\n"
     ]
    }
   ],
   "source": [
    "for n in d:\n",
    "    print(n)"
   ]
  },
  {
   "cell_type": "markdown",
   "metadata": {},
   "source": [
    "## 344. Reverse String (String List, 2 Pointers) (Amazon 7)\n",
    "\n",
    "O(N)  \n",
    "O(1)"
   ]
  },
  {
   "cell_type": "code",
   "execution_count": null,
   "metadata": {},
   "outputs": [],
   "source": [
    "class Solution:\n",
    "    def reverseString(self, s):\n",
    "        \"\"\"\n",
    "        :type s: List[str]\n",
    "        :rtype: None Do not return anything, modify s in-place instead.\n",
    "        \"\"\"\n",
    "        l = 0\n",
    "        r = len(s) - 1\n",
    "        while l < r:\n",
    "            s[l], s[r] = s[r], s[l]\n",
    "            l += 1\n",
    "            r -= 1\n",
    "        return s"
   ]
  },
  {
   "cell_type": "markdown",
   "metadata": {},
   "source": [
    "## 151. Reverse Words in String (String. Pointer. Stack) (Microsoft Onsite 12, Facebook 7, Amazon 3, Apple 4)  \n",
    "Input: \"  hello world!  \"  \n",
    "Output: \"world! hello\"  \n",
    "\n",
    "Input: \"a good   example\"  \n",
    "Output: \"example good a\""
   ]
  },
  {
   "cell_type": "code",
   "execution_count": null,
   "metadata": {},
   "outputs": [],
   "source": [
    "class Solution:\n",
    "    def reverseWords(self, s):  \n",
    "        \"\"\"\n",
    "        :type s: str\n",
    "        :rtype: str\n",
    "        \"\"\"\n",
    "\n",
    "        strs = s.split()\n",
    "        \n",
    "        l = 0\n",
    "        r = len(strs) - 1\n",
    "        \n",
    "        while l < r:\n",
    "            strs[l], strs[r] = strs[r], strs[l]\n",
    "            l += 1\n",
    "            r -= 1\n",
    "            \n",
    "        return ' '.join(strs)"
   ]
  },
  {
   "cell_type": "code",
   "execution_count": 8,
   "metadata": {},
   "outputs": [
    {
     "data": {
      "text/plain": [
       "['hello', 'world!']"
      ]
     },
     "execution_count": 8,
     "metadata": {},
     "output_type": "execute_result"
    }
   ],
   "source": [
    "s = \"  hello world!  \" \n",
    "s.split()"
   ]
  },
  {
   "cell_type": "code",
   "execution_count": null,
   "metadata": {},
   "outputs": [],
   "source": [
    "# O(n)  \n",
    "# O(n)\n",
    "class Solution:\n",
    "    def reverseWords(self, s):  \n",
    "        \"\"\"\n",
    "        :type s: str\n",
    "        :rtype: str\n",
    "        \"\"\"\n",
    "        if not s:\n",
    "            return ''\n",
    "        \n",
    "        strs = s.split()\n",
    "        res = []\n",
    "        while strs:\n",
    "            s = strs.pop()\n",
    "            res.append(s)\n",
    "        return ' '.join(res)"
   ]
  },
  {
   "cell_type": "code",
   "execution_count": 5,
   "metadata": {},
   "outputs": [
    {
     "data": {
      "text/plain": [
       "['ss', 'ss']"
      ]
     },
     "execution_count": 5,
     "metadata": {},
     "output_type": "execute_result"
    }
   ],
   "source": [
    "s = 'ss    ss'\n",
    "s.split()"
   ]
  },
  {
   "cell_type": "code",
   "execution_count": null,
   "metadata": {},
   "outputs": [],
   "source": [
    "class Solution:\n",
    "    def reverseWords(self, s):\n",
    "        \"\"\"\n",
    "        :type s: str\n",
    "        :rtype: str\n",
    "        \"\"\"\n",
    "        return ' '.join(s.split()[::-1])"
   ]
  },
  {
   "cell_type": "code",
   "execution_count": null,
   "metadata": {},
   "outputs": [],
   "source": [
    "s = 'sjdksf ksdjkf'\n",
    "s.split()"
   ]
  },
  {
   "cell_type": "markdown",
   "metadata": {},
   "source": [
    "## 186. Reverse Words in String II (String List, Pointer) (Microsoft 3)  \n",
    "Input:  [\"t\",\"h\",\"e\",\" \",\"s\",\"k\",\"y\",\" \",\"i\",\"s\",\" \",\"b\",\"l\",\"u\",\"e\"]  \n",
    "Output: [\"b\",\"l\",\"u\",\"e\",\" \",\"i\",\"s\",\" \",\"s\",\"k\",\"y\",\" \",\"t\",\"h\",\"e\"]\n",
    "\n",
    "O(N)  \n",
    "O(1)"
   ]
  },
  {
   "cell_type": "code",
   "execution_count": null,
   "metadata": {},
   "outputs": [],
   "source": [
    "class Solution:\n",
    "    def reverseWords(self, strs):\n",
    "        \"\"\"\n",
    "        :type s: a list of 1 length strings (List[str])\n",
    "        :rtype: nothing\n",
    "        \"\"\"\n",
    "#         strs.reverse()\n",
    "        def reverse(strs):\n",
    "            l = 0\n",
    "            r = len(strs) - 1\n",
    "            while l < r:\n",
    "                strs[l], strs[r] = strs[r], strs[l]\n",
    "                l += 1\n",
    "                r -= 1\n",
    "\n",
    "        reverse(strs)\n",
    "        \n",
    "        chor = 0\n",
    "        for i, c in enumerate(strs):\n",
    "            if c == \" \":\n",
    "                strs[chor: i] = strs[chor: i][::-1]\n",
    "                chor = i + 1\n",
    "\n",
    "        strs[chor:] = strs[chor:][::-1]"
   ]
  },
  {
   "cell_type": "code",
   "execution_count": null,
   "metadata": {},
   "outputs": [],
   "source": [
    "class Solution:\n",
    "    def reverseWords(self, s: List[str]) -> None:\n",
    "        \"\"\"\n",
    "        Do not return anything, modify s in-place instead.\n",
    "        \"\"\"\n",
    "        def reverse(s, l, r):\n",
    "            while l < r:\n",
    "                s[l], s[r] = s[r], s[l]\n",
    "                l += 1\n",
    "                r -= 1\n",
    "\n",
    "        reverse(s, 0, len(s)-1)\n",
    "        print(s)\n",
    "        \n",
    "        chor = 0\n",
    "        for i, c in enumerate(s):\n",
    "            if c == \" \":\n",
    "                \n",
    "                reverse(s, chor, i-1)\n",
    "                chor = i + 1\n",
    "\n",
    "        reverse(s, chor, len(s)-1)"
   ]
  },
  {
   "cell_type": "code",
   "execution_count": null,
   "metadata": {},
   "outputs": [],
   "source": [
    "x = Solution()\n",
    "s = [\"t\",\"h\",\"e\",\" \",\"s\",\"k\",\"y\",\" \",\"i\",\"s\",\" \",\"b\",\"l\",\"u\",\"e\"]\n",
    "# x.reverseWords(s)\n",
    "\n",
    "print(s[0:])"
   ]
  },
  {
   "cell_type": "code",
   "execution_count": 12,
   "metadata": {},
   "outputs": [
    {
     "data": {
      "text/plain": [
       "'bca'"
      ]
     },
     "execution_count": 12,
     "metadata": {},
     "output_type": "execute_result"
    }
   ],
   "source": [
    "s= 'acb'\n",
    "\n",
    "s[::-1]"
   ]
  },
  {
   "cell_type": "markdown",
   "metadata": {},
   "source": [
    "## 旋转字符串"
   ]
  },
  {
   "cell_type": "markdown",
   "metadata": {},
   "source": [
    "'abcde' > 'cdeab'"
   ]
  },
  {
   "cell_type": "markdown",
   "metadata": {},
   "source": [
    "对于这个问题，换一个角度思考一下。既然题目要求将字符串前面的那部分原封不动地移到字符串的尾部，那么是否可以把需要移动的部分跟不需要移动的部分分开处理呢？例如，可以先将一个字符串分割成两个部分，然后将这两个部分的字符串分别反转，最后再对整个字符串进行整体反转，即可解决字符串旋转的问题。"
   ]
  },
  {
   "cell_type": "markdown",
   "metadata": {},
   "source": [
    "## 557. Reverse Words in a String III (String. List) (Microsoft 9, Amazon 3)\n",
    "O(N)  \n",
    "O(N)"
   ]
  },
  {
   "cell_type": "code",
   "execution_count": null,
   "metadata": {},
   "outputs": [],
   "source": [
    "class Solution:\n",
    "    def reverseWords(self, s):\n",
    "        \"\"\"\n",
    "        :type s: str\n",
    "        :rtype: str\n",
    "        \"\"\"\n",
    "        if not s:\n",
    "            return ''\n",
    "        \n",
    "        strs = s.split()\n",
    "        res = \"\"\n",
    "        for word in strs:\n",
    "            res += word[::-1] + \" \"\n",
    "        return res.strip()"
   ]
  },
  {
   "cell_type": "code",
   "execution_count": null,
   "metadata": {},
   "outputs": [],
   "source": [
    "res = 'myname'\n",
    "res[:-1]"
   ]
  },
  {
   "cell_type": "code",
   "execution_count": null,
   "metadata": {},
   "outputs": [],
   "source": [
    "class Solution:\n",
    "    def reverseWords(self, s):\n",
    "        \"\"\"\n",
    "        :type s: str\n",
    "        :rtype: str\n",
    "        \"\"\"\n",
    "        if not s:\n",
    "            return ''\n",
    "\n",
    "        sentence = \"\"\n",
    "        for word in s.split():\n",
    "            sentence += word[::-1] + \" \"\n",
    "            \n",
    "        return sentence.strip()"
   ]
  },
  {
   "cell_type": "code",
   "execution_count": null,
   "metadata": {},
   "outputs": [],
   "source": [
    "class Solution:\n",
    "    def reverseWords(self, s):\n",
    "        \"\"\"\n",
    "        :type s: str\n",
    "        :rtype: str\n",
    "        \"\"\"\n",
    "        if not s:\n",
    "            return ''\n",
    "        \n",
    "        return ' '.join([i[::-1] for i in s.split(' ')])"
   ]
  },
  {
   "cell_type": "markdown",
   "metadata": {},
   "source": [
    "## 31. Next Permutation (List) (Facebook 23, Amazon 7, Google 7, Microsoft 3)\n",
    "就是返回一个大且仅大于当前数字的序列 如果没有更大的 就返回一个最小的数字 就是这么简单  \n",
    "先找出最大的索引k满足nums[l]<nums[l+1], 如果不存在，翻转整个list  \n",
    "再找出另一个最大索引l，满足nums[r]>nums[l]  \n",
    "swap nums[l] and nums[r]  \n",
    "reverse nums[l+1:]  "
   ]
  },
  {
   "cell_type": "code",
   "execution_count": null,
   "metadata": {},
   "outputs": [],
   "source": [
    "class Solution:\n",
    "    def nextPermutation(self, nums: List[int]) -> None:\n",
    "        \"\"\"\n",
    "        Do not return anything, modify nums in-place instead.\n",
    "        \"\"\"\n",
    "        if not nums:\n",
    "            return \n",
    "        \n",
    "        if len(nums) == 1:\n",
    "            return nums\n",
    "        \n",
    "        l = len(nums) - 2\n",
    "        \n",
    "        while l >= 0:\n",
    "            if nums[l] < nums[l+1]:\n",
    "                break\n",
    "                \n",
    "            l -= 1\n",
    "                \n",
    "        if l == -1:\n",
    "            nums[:] = nums[::-1]\n",
    "            return\n",
    "                \n",
    "        r = len(nums) - 1\n",
    "        while r >= l:\n",
    "            if nums[r] > nums[l]:\n",
    "                break\n",
    "\n",
    "            r -= 1\n",
    "                \n",
    "        nums[l],nums[r] = nums[r], nums[l]\n",
    "        nums[l+1:] = nums[l+1:][::-1]"
   ]
  },
  {
   "cell_type": "code",
   "execution_count": null,
   "metadata": {},
   "outputs": [],
   "source": [
    "class Solution:\n",
    "    def nextPermutation(self, nums):\n",
    "        \"\"\"\n",
    "        Do not return anything, modify nums in-place instead.\n",
    "        \"\"\"\n",
    "        if not nums:\n",
    "            return \n",
    "        \n",
    "        if len(nums) == 1:\n",
    "            return nums\n",
    "        \n",
    "        l = len(nums) - 2\n",
    "        \n",
    "        while l >= 0 and nums[l] >= nums[l+1]:\n",
    "            l -= 1\n",
    "                \n",
    "        if l == -1:\n",
    "            nums[:] = nums[::-1]\n",
    "            return\n",
    "                \n",
    "        r = len(nums) - 1\n",
    "        while r >= l and nums[r] <= nums[l]:\n",
    "            r -= 1\n",
    "                \n",
    "        nums[l],nums[r] = nums[r], nums[l]\n",
    "        nums[l+1:] = nums[l+1:][::-1]"
   ]
  },
  {
   "cell_type": "code",
   "execution_count": null,
   "metadata": {},
   "outputs": [],
   "source": [
    "public void nextPermutation(int[] nums) {\n",
    "    int i = nums.length - 2;\n",
    "    //找到第一个不再递增的位置\n",
    "    while (i >= 0 && nums[i + 1] <= nums[i]) {\n",
    "        i--;\n",
    "    }\n",
    "    //如果到了最左边，就直接倒置输出\n",
    "    if (i < 0) {\n",
    "        reverse(nums, 0);\n",
    "        return;\n",
    "    }\n",
    "    //找到刚好大于 nums[i]的位置\n",
    "    int j = nums.length - 1;\n",
    "    while (j >= 0 && nums[j] <= nums[i]) {\n",
    "        j--;\n",
    "    }\n",
    "    //交换\n",
    "    swap(nums, i, j);\n",
    "    //利用倒置进行排序\n",
    "    reverse(nums, i + 1);\n",
    "\n",
    "}"
   ]
  },
  {
   "cell_type": "code",
   "execution_count": null,
   "metadata": {},
   "outputs": [],
   "source": [
    "# O(N)  \n",
    "# O(1)\n",
    "class Solution:\n",
    "    def nextPermutation(self, nums):\n",
    "        \"\"\"\n",
    "        :type nums: List[int]\n",
    "        :rtype: None Do not return anything, modify nums in-place instead.\n",
    "        \"\"\"\n",
    "        def reverse(nums, i, j):\n",
    "            while i < j:\n",
    "                nums[i],nums[j] = nums[j], nums[i]\n",
    "                i += 1\n",
    "                j -= 1\n",
    "\n",
    "        l = -1\n",
    "        for l in range(len(nums)-2, -1, -1):\n",
    "            if nums[i] < nums[i+1]:\n",
    "                l = i\n",
    "                break\n",
    "                \n",
    "        if l == -1:\n",
    "            reverse(nums, 0, len(nums)-1)\n",
    "            return\n",
    "                \n",
    "        r = -1    \n",
    "        for i in range(len(nums)-1, l, -1):\n",
    "            if nums[i] > nums[l]:\n",
    "                r = i\n",
    "                break\n",
    "                \n",
    "        nums[l],nums[r] = nums[r], nums[l]\n",
    "        reverse(nums, l+1, len(nums)-1)\n"
   ]
  },
  {
   "cell_type": "markdown",
   "metadata": {},
   "source": [
    "## 75. Sort Colors (List, 3 Pointers) (Amazon 9, Microsoft Onsite 5, Facebook 5)\n",
    "O(N)  \n",
    "O(1)"
   ]
  },
  {
   "cell_type": "code",
   "execution_count": null,
   "metadata": {},
   "outputs": [],
   "source": [
    "class Solution:\n",
    "    def sortColors(self, nums):\n",
    "        \"\"\"\n",
    "        :type nums: List[int]\n",
    "        :rtype: void Do not return anything, modify nums in-place instead.\n",
    "        \"\"\"\n",
    "        if not nums:\n",
    "            return\n",
    "        \n",
    "        l = 0\n",
    "        cur = 0\n",
    "        r = len(nums) - 1\n",
    "\n",
    "        while cur <= r:\n",
    "            if nums[cur] == 0:\n",
    "                nums[cur], nums[l] = nums[l], nums[cur]\n",
    "                cur += 1\n",
    "                l += 1\n",
    "            elif nums[cur] == 1:\n",
    "                cur += 1\n",
    "            elif nums[cur] == 2:\n",
    "                nums[cur], nums[r] = nums[r], nums[cur]\n",
    "                r -= 1"
   ]
  },
  {
   "cell_type": "markdown",
   "metadata": {},
   "source": [
    "## Cyclic Sort  \n",
    "O(N)  \n",
    "O(1)"
   ]
  },
  {
   "cell_type": "code",
   "execution_count": 30,
   "metadata": {},
   "outputs": [
    {
     "data": {
      "text/plain": [
       "[0, 1, 2, 3, 4, 5, 6]"
      ]
     },
     "execution_count": 30,
     "metadata": {},
     "output_type": "execute_result"
    }
   ],
   "source": [
    "def sort(nums): # 0-n\n",
    "    i = 0\n",
    "    while i < len(nums):\n",
    "        if i  == nums[i]:\n",
    "            i += 1\n",
    "            \n",
    "        else:\n",
    "            j = nums[i] \n",
    "            nums[i], nums[j] = nums[j], nums[i]  # swap\n",
    "            \n",
    "    return nums\n",
    "\n",
    "A = [3,5,6,2,1,0,4]\n",
    "sort(A)"
   ]
  },
  {
   "cell_type": "code",
   "execution_count": 29,
   "metadata": {},
   "outputs": [
    {
     "data": {
      "text/plain": [
       "[1, 2, 3, 4, 5, 6]"
      ]
     },
     "execution_count": 29,
     "metadata": {},
     "output_type": "execute_result"
    }
   ],
   "source": [
    "def sort(nums): # 1-n\n",
    "    i = 0\n",
    "    while i < len(nums):\n",
    "        if i + 1 == nums[i]:\n",
    "            i += 1\n",
    "            \n",
    "        else:\n",
    "            j = nums[i] - 1\n",
    "            nums[i], nums[j] = nums[j], nums[i]  # swap\n",
    "            \n",
    "    return nums\n",
    "\n",
    "nums = [1, 5, 6, 4, 3, 2]\n",
    "A = [5,6,1,4,3,2]\n",
    "sort(A)"
   ]
  },
  {
   "cell_type": "code",
   "execution_count": 1,
   "metadata": {},
   "outputs": [
    {
     "data": {
      "text/plain": [
       "[0, 1, 2, 3, 4, 5, 6]"
      ]
     },
     "execution_count": 1,
     "metadata": {},
     "output_type": "execute_result"
    }
   ],
   "source": [
    "def cyclic_sort(nums): # 0 to n\n",
    "    i = 0\n",
    "    while i < len(nums):\n",
    "        j = nums[i]\n",
    "        if nums[i] == nums[j]:\n",
    "            i += 1\n",
    "\n",
    "        else:\n",
    "            nums[i], nums[j] = nums[j], nums[i]  # swap\n",
    "            \n",
    "    return nums       \n",
    "\n",
    "nums = [3,5,6,2,1,0,4]\n",
    "cyclic_sort(nums)"
   ]
  },
  {
   "cell_type": "code",
   "execution_count": 22,
   "metadata": {},
   "outputs": [
    {
     "data": {
      "text/plain": [
       "[1, 2, 3, 4, 5, 6]"
      ]
     },
     "execution_count": 22,
     "metadata": {},
     "output_type": "execute_result"
    }
   ],
   "source": [
    "def cyclic_sort(nums): # 1 to n\n",
    "    i = 0\n",
    "    while i < len(nums):\n",
    "        j = nums[i] - 1\n",
    "        if nums[i] == nums[j]:\n",
    "            i += 1\n",
    "        else:\n",
    "            nums[i], nums[j] = nums[j], nums[i]  # swap\n",
    "    return nums\n",
    "\n",
    "# nums = [1,3,4,2]\n",
    "# nums = [2, 3, 4, 1, 5, 6]\n",
    "nums = [1, 5, 6, 4, 3, 2]\n",
    "cyclic_sort(nums)"
   ]
  },
  {
   "cell_type": "markdown",
   "metadata": {},
   "source": [
    "## Reorder array according to the given indexes (Google Phone)   \n",
    "https://leetcode.com/discuss/interview-question/309656/Google-or-Reorder-array-according-to-the-given-indexes"
   ]
  },
  {
   "cell_type": "code",
   "execution_count": 31,
   "metadata": {},
   "outputs": [],
   "source": [
    "def sort(A, B):\n",
    "    i = 0\n",
    "    while i < len(B):\n",
    "        if i == B[i]:\n",
    "            i += 1\n",
    "            \n",
    "        else:\n",
    "            j = B[i] \n",
    "            B[i], B[j] = B[j], B[i]  # swap\n",
    "            A[i], A[j] = A[j], A[i]\n",
    "    return A\n"
   ]
  },
  {
   "cell_type": "code",
   "execution_count": 33,
   "metadata": {},
   "outputs": [],
   "source": [
    "# Input: nums = [10, 11, 12], indexes = [1, 0, 2]\n",
    "# Output: [11, 10, 12]\n",
    "\n",
    "def sort(A, B):\n",
    "    i = 0\n",
    "    while i <= len(B) - 1:\n",
    "        j = B[i] \n",
    "        if B[i] == B[j]: \n",
    "            i += 1           \n",
    "            \n",
    "        else:\n",
    "            B[i], B[j] = B[j], B[i]\n",
    "            A[i], A[j] = A[j], A[i]\n",
    "            \n",
    "    return A      "
   ]
  },
  {
   "cell_type": "code",
   "execution_count": 34,
   "metadata": {},
   "outputs": [
    {
     "data": {
      "text/plain": [
       "[-23, 24, 56, 74, 87, 91]"
      ]
     },
     "execution_count": 34,
     "metadata": {},
     "output_type": "execute_result"
    }
   ],
   "source": [
    "A = [24, 56, 74, -23, 87, 91]#[10, 11, 12]\n",
    "B = [1, 2, 3, 0, 4, 5]#[1, 0, 2]\n",
    "\n",
    "# Input: nums = [24, 56, 74, -23, 87, 91], indexes = [1, 2, 3, 0, 4, 5]\n",
    "# Output: [56, 74, -23, 24, 87, 89]\n",
    "sort(A,B)"
   ]
  },
  {
   "cell_type": "markdown",
   "metadata": {},
   "source": [
    "## 287. Find the Duplicate Number (List. Pointers) (Amazon 7, Google 5, Microsoft Onsite 4)"
   ]
  },
  {
   "cell_type": "code",
   "execution_count": null,
   "metadata": {},
   "outputs": [],
   "source": [
    "class Solution:\n",
    "    def findDuplicate(self, nums: List[int]) -> int:\n",
    "        i = 0\n",
    "        while i < len(nums):\n",
    "            if i + 1 == nums[i]:\n",
    "                i += 1\n",
    "                \n",
    "            else:\n",
    "                j = nums[i] - 1\n",
    "                if nums[i] == nums[j]:  # we have found the duplicate\n",
    "                    return nums[i]\n",
    "\n",
    "                else:  \n",
    "                    nums[i], nums[j] = nums[j], nums[i]  # swap\n",
    "                    \n",
    "\n",
    "        return -1"
   ]
  },
  {
   "cell_type": "code",
   "execution_count": null,
   "metadata": {},
   "outputs": [],
   "source": [
    "class Solution:\n",
    "    def findDuplicate(self, nums):\n",
    "        \"\"\"\n",
    "        :type nums: List[int]\n",
    "        :rtype: int\n",
    "        \"\"\"\n",
    "        # The \"tortoise and hare\" step.  We start at the end of the array and try\n",
    "        # to find an intersection point in the cycle.\n",
    "        slow, fast = 0, 0\n",
    "        # Keep advancing 'slow' by one step and 'fast' by two steps until they\n",
    "        # meet inside the loop.\n",
    "        while True:\n",
    "            slow = nums[slow]\n",
    "            fast = nums[nums[fast]]\n",
    "            if slow == fast:\n",
    "                break\n",
    "        # Start up another pointer from the end of the array and march it forward\n",
    "        # until it hits the pointer inside the array.\n",
    "        finder = 0\n",
    "        while True:\n",
    "            slow   = nums[slow]\n",
    "            finder = nums[finder]\n",
    "            # If the two hit, the intersection index is the duplicate element.\n",
    "            if slow == finder:\n",
    "                return slow"
   ]
  },
  {
   "cell_type": "code",
   "execution_count": null,
   "metadata": {},
   "outputs": [],
   "source": [
    "class Solution:\n",
    "    def findDuplicate(self, nums):\n",
    "        seen = set()\n",
    "        for num in nums:\n",
    "            if num in seen:\n",
    "                return num\n",
    "            seen.add(num)"
   ]
  },
  {
   "cell_type": "markdown",
   "metadata": {},
   "source": [
    "## Minimum Swaps to Sort Array (Google Phone)"
   ]
  },
  {
   "cell_type": "code",
   "execution_count": 10,
   "metadata": {},
   "outputs": [],
   "source": [
    "array = [2,3,5,1,4]"
   ]
  },
  {
   "cell_type": "code",
   "execution_count": 3,
   "metadata": {},
   "outputs": [
    {
     "data": {
      "text/plain": [
       "4"
      ]
     },
     "execution_count": 3,
     "metadata": {},
     "output_type": "execute_result"
    }
   ],
   "source": [
    "def minimumSwaps(array):\n",
    "    swap = 0\n",
    "    for i in range(len(array)):\n",
    "        if i + 1 != array[i]:\n",
    "            tmp = i\n",
    "            \n",
    "            while i + 1 != array[tmp]:\n",
    "                tmp += 1\n",
    "                \n",
    "            array[i], array[tmp] = array[tmp], array[i]\n",
    "            swap += 1\n",
    "            \n",
    "    return swap\n",
    "\n",
    "minimumSwaps(array)"
   ]
  },
  {
   "cell_type": "code",
   "execution_count": 11,
   "metadata": {},
   "outputs": [
    {
     "data": {
      "text/plain": [
       "4"
      ]
     },
     "execution_count": 11,
     "metadata": {},
     "output_type": "execute_result"
    }
   ],
   "source": [
    "def sort(nums): # 1-n\n",
    "    i = 0\n",
    "    swap = 0\n",
    "    while i < len(nums):\n",
    "        if i + 1 == nums[i]:\n",
    "            i += 1\n",
    "            \n",
    "        else:\n",
    "            j = nums[i] - 1\n",
    "            nums[i], nums[j] = nums[j], nums[i]  # swap\n",
    "            swap += 1\n",
    "            \n",
    "    return swap\n",
    "\n",
    "sort(array)"
   ]
  },
  {
   "cell_type": "code",
   "execution_count": null,
   "metadata": {},
   "outputs": [],
   "source": [
    "public class Solution {\n",
    "    static int minimumSwaps(int[] array) {\n",
    "        int n = array.length - 1;\n",
    "        int minSwaps = 0;\n",
    "        for (int i = 0; i < n; i++) {\n",
    "            if (i < array[i] - 1) {\n",
    "                swap(array, i, Math.min(n, array[i] - 1));\n",
    "                minSwaps++;\n",
    "                i--;\n",
    "            }\n",
    "        }\n",
    "        return minSwaps;\n",
    "    }\n"
   ]
  },
  {
   "cell_type": "code",
   "execution_count": null,
   "metadata": {},
   "outputs": [],
   "source": [
    "def minimum(array):\n",
    "    swap = 0\n",
    "    for i in range(len(array)):\n",
    "        if i < array[i] - 1:\n",
    "            x = min(len(array)-1, array[i]-1)\n",
    "            array[i], array[x] = array[x], array[i]\n",
    "            swap += 1\n",
    "            i -= 1\n",
    "            \n",
    "    return swap"
   ]
  },
  {
   "cell_type": "code",
   "execution_count": null,
   "metadata": {},
   "outputs": [],
   "source": [
    "def m(array):\n",
    "    swap = 0\n",
    "    idx = 0\n",
    "    for i in range(len(array)):\n",
    "        if array[i] != i + 1:\n",
    "            for j in range(i+1, len(array)):\n",
    "                if array[j] == i + 1:\n",
    "                    idx = j\n",
    "                    break\n",
    "                    \n",
    "            array[i], array[idx] = array[idx], array[i]\n",
    "            swap += 1\n",
    "            \n",
    "    return swap"
   ]
  },
  {
   "cell_type": "code",
   "execution_count": null,
   "metadata": {},
   "outputs": [],
   "source": [
    "def mini(arr):\n",
    "    total_swaps = 0\n",
    "    start = 0\n",
    "    while start < len(arr):\n",
    "        if arr[start] == start + 1:\n",
    "            start += 1\n",
    "            continue\n",
    "        arr[arr[start] - 1], arr[start] = arr[start], arr[arr[start] - 1]\n",
    "        total_swaps += 1\n",
    "    return total_swaps"
   ]
  },
  {
   "cell_type": "code",
   "execution_count": null,
   "metadata": {},
   "outputs": [],
   "source": [
    "import heapq\n",
    "def minSwaps(nums):\n",
    "    dic = {}\n",
    "    for i in range(len(nums)):\n",
    "        dic[nums[i]] = i\n",
    "    \n",
    "    heap = nums[::]\n",
    "    heapq.heapify(heap)\n",
    "\n",
    "    swaps = 0\n",
    "    for i in range(len(nums)):\n",
    "        smallest = heapq.heappop(heap)\n",
    "\n",
    "       # check if previous swappes luckily made the array sorted\n",
    "        if nums[i] != smallest:\n",
    "            cur = nums[i] # needed to update the dic two lines below\n",
    "            nums[i], nums[dic[smallest]] = nums[dic[smallest]], nums[i]\n",
    "            dic[smallest], dic[cur] = dic[cur], dic[smallest]\n",
    "            swaps += 1\n",
    "\n",
    "    return swaps"
   ]
  },
  {
   "cell_type": "code",
   "execution_count": null,
   "metadata": {},
   "outputs": [],
   "source": [
    "array = [5,1,3,2]\n",
    "minSwaps(array)"
   ]
  },
  {
   "cell_type": "code",
   "execution_count": null,
   "metadata": {},
   "outputs": [],
   "source": [
    "def alternatingSort(a):\n",
    "    b = [a[0]] * len(a)\n",
    "    \n",
    "    index = -1\n",
    "    for i in range(1, len(a), 2):\n",
    "        \n",
    "        b[i] = a[index]\n",
    "        index -= 1\n",
    "        \n",
    "    index2 = 1\n",
    "    for i in range(2, len(a), 2):\n",
    "        b[i] = a[index2]\n",
    "        \n",
    "        index2 += 1\n",
    "        \n",
    "    for i in range(0, len(b)-1):\n",
    "        if b[i] >= b[i+1]:\n",
    "            return False\n",
    "    \n",
    "    print(b)\n",
    "    return True "
   ]
  },
  {
   "cell_type": "code",
   "execution_count": 11,
   "metadata": {},
   "outputs": [
    {
     "name": "stdout",
     "output_type": "stream",
     "text": [
      "dic1 Counter({'b': 2, 'a': 1, 'c': 1})\n",
      "dic2 Counter({'d': 1, 'e': 1, 'f': 1})\n"
     ]
    },
    {
     "data": {
      "text/plain": [
       "'adefbbc'"
      ]
     },
     "execution_count": 11,
     "metadata": {},
     "output_type": "execute_result"
    }
   ],
   "source": [
    "from collections import Counter\n",
    "def mergeStrings(s1, s2):\n",
    "    dic1 = Counter(s1)\n",
    "    dic2 = Counter(s2)\n",
    "    \n",
    "    print('dic1', dic1)\n",
    "    print('dic2', dic2)\n",
    "    \n",
    "    res = []\n",
    "    \n",
    "    i = 0\n",
    "    j = 0\n",
    "    while i <= len(s1) -1 and j <= len(s2) -1:\n",
    "        if dic1[s1[i]] == dic2[s2[j]]:\n",
    "            if s1[i] <= s2[j]:\n",
    "                res.append(s1[i])\n",
    "                i += 1\n",
    "\n",
    "            else:\n",
    "                res.append(s2[j])\n",
    "                j += 1\n",
    "                \n",
    "        elif dic1[s1[i]] > dic2[s2[j]]:\n",
    "            res.append(s2[j])\n",
    "            j += 1\n",
    "            \n",
    "        elif dic1[s1[i]] < dic2[s2[j]]:\n",
    "            res.append(s1[i])\n",
    "            i += 1\n",
    "            \n",
    "    while i <= len(s1) - 1:\n",
    "        res.append(s1[i])\n",
    "        i += 1\n",
    "    while j <= len(s2) - 1:\n",
    "        res.append(s2[j])\n",
    "        j += 1\n",
    "            \n",
    "            \n",
    "    return ''.join(res)\n",
    "\n",
    "s1 = 'abbc'\n",
    "s2 = 'def'\n",
    "mergeStrings(s1, s2)"
   ]
  },
  {
   "cell_type": "markdown",
   "metadata": {},
   "source": [
    "## 计数排序 桶排序"
   ]
  },
  {
   "cell_type": "code",
   "execution_count": null,
   "metadata": {},
   "outputs": [],
   "source": []
  },
  {
   "cell_type": "markdown",
   "metadata": {},
   "source": [
    "## 280. Wiggle Sort (String)"
   ]
  },
  {
   "cell_type": "code",
   "execution_count": null,
   "metadata": {},
   "outputs": [],
   "source": [
    "class Solution:\n",
    "    def wiggleSort(self, nums):\n",
    "        \"\"\"\n",
    "        Do not return anything, modify nums in-place instead.\n",
    "        \"\"\"\n",
    "        for i in range(1, len(nums)):\n",
    "            if i % 2 == 0 and nums[i] > nums[i-1] or i % 2 == 1 and nums[i] < nums[i-1]:\n",
    "                nums[i], nums[i-1] = nums[i-1], nums[i]"
   ]
  },
  {
   "cell_type": "markdown",
   "metadata": {},
   "source": [
    "## 969. Pancake Sorting (Amazon 3, Facebook 3, Microsoft 2)"
   ]
  },
  {
   "cell_type": "code",
   "execution_count": null,
   "metadata": {},
   "outputs": [],
   "source": [
    "# 首先说一下核心思路，就是先找到当前最大值，然后将最大值翻转到数组最后一位。\n",
    "# 以3241举例。\n",
    "# 1.先找到当前最大的数4，\n",
    "# 2.将4及其之前的数进行翻转,\n",
    "# 3.将整个数组（不包括比当前最大值大的值）进行翻转\n",
    "\n",
    "class Solution:\n",
    "    def pancakeSort(self, A: List[int]) -> List[int]:\n",
    "        if not A:\n",
    "            return\n",
    "        \n",
    "        res = []\n",
    "        sort = sorted(A)\n",
    "        tmp = A.copy()\n",
    "\n",
    "        i = len(A)\n",
    "        while sort != A:\n",
    "            maximum = max(tmp)\n",
    "            tmp.remove(maximum)\n",
    "            index = A.index(maximum) + 1\n",
    "            A[:index] = A[:index][::-1]\n",
    "\n",
    "            A[:i] = A[:i][::-1]\n",
    "            i -= 1\n",
    "            \n",
    "            res.append(index)\n",
    "            res.append(len(tmp))\n",
    "            \n",
    "        return res"
   ]
  },
  {
   "cell_type": "markdown",
   "metadata": {},
   "source": [
    "## Remove Duplicate Spaces (Google Phone)"
   ]
  },
  {
   "cell_type": "code",
   "execution_count": null,
   "metadata": {},
   "outputs": [],
   "source": [
    "def removeDup(chars):\n",
    "    res = []\n",
    "    count = 0\n",
    "    for c in chars:\n",
    "        if c != ' ':\n",
    "            res.append(c)\n",
    "            \n",
    "        else:\n",
    "            count += 1\n",
    "            if count == 1:\n",
    "                res.append(c)\n",
    "                \n",
    "    return res"
   ]
  },
  {
   "cell_type": "code",
   "execution_count": null,
   "metadata": {},
   "outputs": [],
   "source": [
    "def removeDup(chars):\n",
    "    l = 0\n",
    "    r = 0\n",
    "    while r < len(chars):\n",
    "        if chars[r] != ' ': \n",
    "            chars[l] = chars[r]\n",
    "            l += 1\n",
    "            r += 1\n",
    "            \n",
    "        elif chars[r] == ' ':\n",
    "            chars[l] = chars[r]\n",
    "            while r < len(chars) and chars[r] == ' ':\n",
    "                r += 1\n",
    "                \n",
    "            l += 1\n",
    "                \n",
    "input : {'a', 'b', ' ', ' ', 'c' } Output : {'a', 'b', ' ', 'c'}\n",
    "input : {'a', 'b', ' ', ' ', ' ' } Output : {'a', 'b', ' '}"
   ]
  },
  {
   "cell_type": "markdown",
   "metadata": {},
   "source": [
    "## Remove Chairs in String (Google Phone)\n",
    "https://leetcode.com/discuss/interview-question/407622/Google-or-Phone-Screen-or-Remove-Chars-in-String\n",
    "\n",
    "Q1. Use writing_index and through the string if you meet some char except 'a' rewrite string at position write_index and increase by one, so on. In the end, just substr the whole array from the begin to write_index; S[0:write_index]\n",
    "\n",
    "Q2. Need to use an additional array to replace 'b' to 'bee'. Firstly, count of b and init additional array with length of len(A) + countB * 2 and after that just go over the array and replace 'b' to 'bee'."
   ]
  },
  {
   "cell_type": "code",
   "execution_count": null,
   "metadata": {},
   "outputs": [],
   "source": [
    "def moveChars(self, chars):\n",
    "    pos = 0\n",
    "    for i in range(len(chars)):\n",
    "        if chars[i] != 'a':\n",
    "            chars[pos], chars[i] = chars[i], chars[pos]\n",
    "            pos += 1"
   ]
  },
  {
   "cell_type": "markdown",
   "metadata": {},
   "source": [
    "## 283. Move Zeros (List, Pointer) (Facebook 8, Amazon 7, Microsoft 3 Phone)\n",
    "O(N)  \n",
    "O(1)  "
   ]
  },
  {
   "cell_type": "code",
   "execution_count": null,
   "metadata": {},
   "outputs": [],
   "source": [
    "class Solution:\n",
    "    def moveZeroes(self, nums):\n",
    "        \"\"\"\n",
    "        Do not return anything, modify nums in-place instead.\n",
    "        \"\"\"\n",
    "        pos = 0\n",
    "        for i in range(len(nums)):\n",
    "            if nums[i]:\n",
    "                nums[pos], nums[i] = nums[i], nums[pos]\n",
    "                pos += 1"
   ]
  },
  {
   "cell_type": "markdown",
   "metadata": {},
   "source": [
    "## 905. Sort Array By Parity (Apple 2)"
   ]
  },
  {
   "cell_type": "code",
   "execution_count": null,
   "metadata": {},
   "outputs": [],
   "source": [
    "class Solution(object):\n",
    "    def sortArrayByParity(self, A):\n",
    "        \"\"\"\n",
    "        :type A: List[int]\n",
    "        :rtype: List[int]\n",
    "        \"\"\"\n",
    "        index = 0\n",
    "        for i in range(len(A)):\n",
    "            if A[i] % 2 == 0:\n",
    "                A[i], A[index] = A[index], A[i]\n",
    "                index += 1\n",
    "                \n",
    "        return A"
   ]
  },
  {
   "cell_type": "code",
   "execution_count": 8,
   "metadata": {},
   "outputs": [
    {
     "data": {
      "text/plain": [
       "[1, 3, 2, 4]"
      ]
     },
     "execution_count": 8,
     "metadata": {},
     "output_type": "execute_result"
    }
   ],
   "source": [
    "def move(nums):\n",
    "    pos = 0\n",
    "    for i in range(len(nums)):\n",
    "        if nums[i] % 2:\n",
    "            nums[pos], nums[i] = nums[i], nums[pos]\n",
    "            pos += 1\n",
    "            \n",
    "nums = [1, 2, 3, 4]\n",
    "move(nums)\n",
    "nums"
   ]
  },
  {
   "cell_type": "markdown",
   "metadata": {},
   "source": [
    "## 26. Remove Duplicates from Sorted Array (List, Pointer) (Microsoft 6, Google 4, Facebook 6)\n",
    "\n",
    "- 时间复杂度: O(N)- 空间复杂度: O(1)"
   ]
  },
  {
   "cell_type": "code",
   "execution_count": 6,
   "metadata": {},
   "outputs": [],
   "source": [
    "class Solution:\n",
    "    def removeDuplicates(self, nums):\n",
    "        \"\"\"\n",
    "        :type nums: List[int]\n",
    "        :rtype: int\n",
    "        \"\"\"\n",
    "        if not nums:\n",
    "            return 0\n",
    "        \n",
    "        i = 0\n",
    "        for j in range(1,len(nums)):\n",
    "            if nums[i] != nums[j]:\n",
    "                i += 1\n",
    "                nums[i] = nums[j]\n",
    "        return i + 1"
   ]
  },
  {
   "cell_type": "code",
   "execution_count": 7,
   "metadata": {},
   "outputs": [
    {
     "data": {
      "text/plain": [
       "4"
      ]
     },
     "execution_count": 7,
     "metadata": {},
     "output_type": "execute_result"
    }
   ],
   "source": [
    "array = [1, 2, 2, 3, 4]\n",
    "s = Solution()\n",
    "s.removeDuplicates(array)"
   ]
  },
  {
   "cell_type": "code",
   "execution_count": null,
   "metadata": {},
   "outputs": [],
   "source": [
    "class Solution:\n",
    "    def removeDuplicates(self, nums):\n",
    "        \"\"\"\n",
    "        :type nums: List[int]\n",
    "        :rtype: int\n",
    "        \"\"\"\n",
    "        if not nums:\n",
    "            return 0\n",
    "        \n",
    "        slow = 0\n",
    "        fast = 1\n",
    "        while fast < len(nums):\n",
    "            if nums[slow] != nums[fast]:\n",
    "                slow += 1\n",
    "                nums[slow] = nums[fast]\n",
    "                \n",
    "            fast += 1\n",
    "            \n",
    "        return slow + 1"
   ]
  },
  {
   "cell_type": "code",
   "execution_count": null,
   "metadata": {},
   "outputs": [],
   "source": [
    "class Solution:\n",
    "    def removeDuplicates(self, nums):\n",
    "        \"\"\"\n",
    "        :type nums: List[int]\n",
    "        :rtype: int\n",
    "        \"\"\"\n",
    "        if not nums:\n",
    "            return 0\n",
    "        \n",
    "        res = 1\n",
    "        i = 0\n",
    "        for j in range(len(nums)):\n",
    "            if nums[j] != nums[i]:\n",
    "                res += 1\n",
    "                i += 1\n",
    "                nums[j], nums[i] = nums[i], nums[j]\n",
    "                \n",
    "        return res"
   ]
  },
  {
   "cell_type": "code",
   "execution_count": null,
   "metadata": {},
   "outputs": [],
   "source": [
    "class Solution:\n",
    "    def removeDuplicates(self, nums):\n",
    "        \"\"\"\n",
    "        :type nums: List[int]\n",
    "        :rtype: int\n",
    "        \"\"\"\n",
    "        i = 0\n",
    "        for n in nums:\n",
    "            if i < 1 or n > nums[i - 1]:\n",
    "                nums[i] = n\n",
    "                i += 1\n",
    "        return i"
   ]
  },
  {
   "cell_type": "markdown",
   "metadata": {},
   "source": [
    "### 八大排序  \n",
    "O(N^2), Bubble sort, Selection sort, Insertion Sort  \n",
    "O(NlgN), 那么范围缩小到 quick sort，merge sort 和 heap sort  \n",
    "https://wdxtub.com/interview/14520597162931.html"
   ]
  },
  {
   "cell_type": "markdown",
   "metadata": {},
   "source": [
    "## Bubble Sort"
   ]
  },
  {
   "cell_type": "code",
   "execution_count": 50,
   "metadata": {},
   "outputs": [
    {
     "data": {
      "text/plain": [
       "[0, 2, 3, 6, 8]"
      ]
     },
     "execution_count": 50,
     "metadata": {},
     "output_type": "execute_result"
    }
   ],
   "source": [
    "# O(n^2)\n",
    "# O(1)\n",
    "\n",
    "def bubble_sort(nums):\n",
    "    for i in range(len(nums)-1, 0, -1):\n",
    "        for j in range(i):\n",
    "            if nums[j] > nums[j+1]: \n",
    "                nums[j], nums[j+1] = nums[j+1], nums[j]\n",
    "                \n",
    "    return nums\n",
    "bubble_sort([6,3,8,0,2])    "
   ]
  },
  {
   "cell_type": "code",
   "execution_count": 1,
   "metadata": {},
   "outputs": [
    {
     "name": "stdout",
     "output_type": "stream",
     "text": [
      "[3, 6, 8, 0, 2]\n",
      "[3, 6, 0, 8, 2]\n",
      "[3, 6, 0, 2, 8]\n",
      "[3, 0, 6, 2, 8]\n",
      "[3, 0, 2, 6, 8]\n",
      "[0, 3, 2, 6, 8]\n",
      "[0, 2, 3, 6, 8]\n"
     ]
    },
    {
     "data": {
      "text/plain": [
       "[0, 2, 3, 6, 8]"
      ]
     },
     "execution_count": 1,
     "metadata": {},
     "output_type": "execute_result"
    }
   ],
   "source": [
    "# O(N^2)\n",
    "def bubble_sort(array):\n",
    "    for i in range(len(array)-1):\n",
    "        for j in range(len(array) - i - 1):\n",
    "            if array[j] > array[j + 1]:\n",
    "                array[j], array[j + 1] = array[j + 1], array[j]\n",
    "#                 print(array)\n",
    "                \n",
    "    return array\n",
    "                \n",
    "bubble_sort([6,3,8,0,2])"
   ]
  },
  {
   "cell_type": "markdown",
   "metadata": {},
   "source": [
    "冒泡排序的原理非常简单，它重复地走访过要排序的数列，一次比较两个元素，如果他们的顺序错误就把他们交换过来。\n",
    "\n",
    "步骤：\n",
    "\n",
    "比较相邻的元素。如果第一个比第二个大，就交换他们两个。   \n",
    "对第0个到第n-1个数据做同样的工作。这时，最大的数就“浮”到了数组最后的位置上。  \n",
    "针对所有的元素重复以上的步骤，除了最后一个。  \n",
    "持续每次对越来越少的元素重复上面的步骤，直到没有任何一对数字需要比较。  "
   ]
  },
  {
   "cell_type": "code",
   "execution_count": 2,
   "metadata": {},
   "outputs": [
    {
     "name": "stdout",
     "output_type": "stream",
     "text": [
      "[3, 6, 0, 2, 8]\n",
      "[3, 0, 2, 6, 8]\n",
      "[0, 2, 3, 6, 8]\n",
      "[0, 2, 3, 6, 8]\n",
      "[0, 2, 3, 6, 8]\n"
     ]
    },
    {
     "data": {
      "text/plain": [
       "[0, 2, 3, 6, 8]"
      ]
     },
     "execution_count": 2,
     "metadata": {},
     "output_type": "execute_result"
    }
   ],
   "source": [
    "def bubble_sort(arry):\n",
    "    n = len(arry)                   #获得数组的长度\n",
    "    for i in range(n):\n",
    "        for j in range(1,n-i):\n",
    "            if arry[j-1] > arry[j] :       #如果前者比后者大\n",
    "                arry[j-1],arry[j] = arry[j],arry[j-1]      #则交换两者\n",
    "        print(arry)\n",
    "    return arry\n",
    "bubble_sort([6,3,8,0,2])"
   ]
  },
  {
   "cell_type": "markdown",
   "metadata": {},
   "source": [
    "## Selection Sort"
   ]
  },
  {
   "cell_type": "markdown",
   "metadata": {},
   "source": [
    "在未排序序列中找到最小（大）元素，存放到排序序列的起始位置。  \n",
    "再从剩余未排序元素中继续寻找最小（大）元素，然后放到已排序序列的末尾。  \n",
    "以此类推，直到所有元素均排序完毕。  "
   ]
  },
  {
   "cell_type": "code",
   "execution_count": null,
   "metadata": {},
   "outputs": [],
   "source": [
    "def select_sort(ary):\n",
    "    n = len(ary)\n",
    "    for i in range(n):\n",
    "        min = i                             #最小元素下标标记\n",
    "        for j in range(i+1,n):\n",
    "            if ary[j] < ary[min] :\n",
    "                min = j                     #找到最小值的下标\n",
    "        ary[min], ary[i] = ary[i], ary[min]   #交换两者\n",
    "    return ary"
   ]
  },
  {
   "cell_type": "code",
   "execution_count": 52,
   "metadata": {},
   "outputs": [
    {
     "data": {
      "text/plain": [
       "[0, 2, 3, 6, 8]"
      ]
     },
     "execution_count": 52,
     "metadata": {},
     "output_type": "execute_result"
    }
   ],
   "source": [
    "def select_sort(nums):\n",
    "    for i in range(len(nums), 0, -1):\n",
    "        tmp = 0\n",
    "        for j in range(i):\n",
    "            if nums[j] > nums[tmp]:\n",
    "                tmp = j\n",
    "        nums[tmp], nums[i-1] = nums[i-1], nums[tmp]\n",
    "        \n",
    "    return nums\n",
    "\n",
    "select_sort([6,3,8,0,2])"
   ]
  },
  {
   "cell_type": "markdown",
   "metadata": {},
   "source": [
    "## Insertion Sort"
   ]
  },
  {
   "cell_type": "markdown",
   "metadata": {},
   "source": [
    "插入排序的工作原理是，对于每个未排序数据，在已排序序列中从后向前扫描，找到相应位置并插入。\n",
    "\n",
    "步骤：\n",
    "\n",
    "从第一个元素开始，该元素可以认为已经被排序    \n",
    "取出下一个元素，在已经排序的元素序列中从后向前扫描  \n",
    "如果被扫描的元素（已排序）大于新元素，将该元素后移一位  \n",
    "重复步骤3，直到找到已排序的元素小于或者等于新元素的位置  \n",
    "将新元素插入到该位置后  \n",
    "重复步骤2~5  "
   ]
  },
  {
   "cell_type": "code",
   "execution_count": 57,
   "metadata": {},
   "outputs": [
    {
     "data": {
      "text/plain": [
       "[0, 2, 3, 6, 8]"
      ]
     },
     "execution_count": 57,
     "metadata": {},
     "output_type": "execute_result"
    }
   ],
   "source": [
    "def insert_sort(array):\n",
    "    for i in range(1, len(array)):\n",
    "        tmp = array[i]\n",
    "        j = i - 1\n",
    "        while j >= 0 and array[j] > tmp:\n",
    "            array[j+1] = array[j]\n",
    "            j -= 1\n",
    "            \n",
    "        array[j+1] = tmp\n",
    "    return array\n",
    "insert_sort([6,3,8,0,2])"
   ]
  },
  {
   "cell_type": "code",
   "execution_count": 56,
   "metadata": {},
   "outputs": [
    {
     "data": {
      "text/plain": [
       "[0, 2, 3, 6, 8]"
      ]
     },
     "execution_count": 56,
     "metadata": {},
     "output_type": "execute_result"
    }
   ],
   "source": [
    "def insert_sort(nums):\n",
    "    for i in range(len(nums)):\n",
    "        cur = nums[i]\n",
    "        pos = i\n",
    "        \n",
    "        while pos > 0 and nums[pos-1] > cur:\n",
    "            nums[pos] = nums[pos-1]  # move one-step forward\n",
    "            pos -= 1\n",
    "        nums[pos] = cur\n",
    "        \n",
    "    return nums\n",
    "        \n",
    "insert_sort([6,3,8,0,2])"
   ]
  },
  {
   "cell_type": "code",
   "execution_count": null,
   "metadata": {},
   "outputs": [],
   "source": [
    "def insert_sort(ary):\n",
    "    n = len(ary)\n",
    "    for i in range(1,n):\n",
    "        if ary[i] < ary[i-1]:\n",
    "            temp = ary[i]\n",
    "            index = i           #待插入的下标\n",
    "            for j in range(i-1,-1,-1):  #从i-1 循环到 0 (包括0)\n",
    "                if ary[j] > temp :\n",
    "                    ary[j+1] = ary[j]\n",
    "                    index = j   #记录待插入下标\n",
    "                else :\n",
    "                    break\n",
    "            ary[index] = temp\n",
    "    return ary"
   ]
  },
  {
   "cell_type": "markdown",
   "metadata": {},
   "source": [
    "## Merge Sort (Amazon)"
   ]
  },
  {
   "cell_type": "code",
   "execution_count": 1,
   "metadata": {},
   "outputs": [
    {
     "data": {
      "text/plain": [
       "[2, 3, 5, 6]"
      ]
     },
     "execution_count": 1,
     "metadata": {},
     "output_type": "execute_result"
    }
   ],
   "source": [
    "# O(nlogn)\n",
    "# O(n)\n",
    "\n",
    "class Solution():\n",
    "    #     \"\"\"\n",
    "    #     :type nums: List[int]\n",
    "    #     :rtype: List[int]\n",
    "    #     \"\"\"\n",
    "    def merge_sort(self, nums):\n",
    "        if not isinstance(nums, list):\n",
    "            raise Exception('The input is not list')\n",
    "        \n",
    "        if not nums:\n",
    "            return []\n",
    "        \n",
    "        def merge_sorting(nums):\n",
    "            # bottom cases: empty or list of a single element.\n",
    "            if len(nums) <= 1:\n",
    "                return nums\n",
    "\n",
    "            pivot = len(nums) // 2\n",
    "            left = merge_sorting(nums[:pivot])\n",
    "            right = merge_sorting(nums[pivot:])\n",
    "            return merge_two_sorted_array(left, right)\n",
    "        \n",
    "        def merge_two_sorted_array(left, right):\n",
    "            l = r = 0\n",
    "            res = []\n",
    "            while l < len(left) and r < len(right):\n",
    "                if left[l] < right[r]:\n",
    "                    res.append(left[l])\n",
    "                    l += 1\n",
    "                else:\n",
    "                    res.append(right[r])\n",
    "                    r += 1\n",
    "\n",
    "            # append what is remained in either of the lists\n",
    "            res.extend(left[l:])\n",
    "            res.extend(right[r:])\n",
    "            return res\n",
    "        \n",
    "        return merge_sorting(nums)\n",
    "\n",
    "    \n",
    "array = [5, 3, 2, 6]\n",
    "merge_sort(array)"
   ]
  },
  {
   "cell_type": "code",
   "execution_count": 2,
   "metadata": {},
   "outputs": [
    {
     "ename": "IndexError",
     "evalue": "list index out of range",
     "output_type": "error",
     "traceback": [
      "\u001b[0;31m---------------------------------------------------------------------------\u001b[0m",
      "\u001b[0;31mIndexError\u001b[0m                                Traceback (most recent call last)",
      "\u001b[0;32m<ipython-input-2-da99f3da4cde>\u001b[0m in \u001b[0;36m<module>\u001b[0;34m\u001b[0m\n\u001b[1;32m      1\u001b[0m \u001b[0marray\u001b[0m \u001b[0;34m=\u001b[0m \u001b[0;34m[\u001b[0m\u001b[0;36m1\u001b[0m\u001b[0;34m,\u001b[0m\u001b[0;36m3\u001b[0m\u001b[0;34m]\u001b[0m\u001b[0;34m\u001b[0m\u001b[0;34m\u001b[0m\u001b[0m\n\u001b[0;32m----> 2\u001b[0;31m \u001b[0marray\u001b[0m\u001b[0;34m[\u001b[0m\u001b[0;36m2\u001b[0m\u001b[0;34m]\u001b[0m\u001b[0;34m\u001b[0m\u001b[0;34m\u001b[0m\u001b[0m\n\u001b[0m",
      "\u001b[0;31mIndexError\u001b[0m: list index out of range"
     ]
    }
   ],
   "source": [
    "array = [1,3]\n",
    "array[2]"
   ]
  },
  {
   "cell_type": "markdown",
   "metadata": {},
   "source": [
    "剑指Offer 数组中的两个数字如果前面一个数字大于后面的数字，则这两个数字组成一个逆序对。输入一个数组，求出这个数组中的逆序对的总数。"
   ]
  },
  {
   "cell_type": "markdown",
   "metadata": {},
   "source": [
    "## Quick Sort  \n",
    "O(NlogN)  \n",
    "O(n)"
   ]
  },
  {
   "cell_type": "code",
   "execution_count": 59,
   "metadata": {},
   "outputs": [
    {
     "data": {
      "text/plain": [
       "[2, 3, 5, 6, 8]"
      ]
     },
     "execution_count": 59,
     "metadata": {},
     "output_type": "execute_result"
    }
   ],
   "source": [
    "from random import randint\n",
    "\n",
    "class Solution:\n",
    "    def quick_sort(self, array):\n",
    "        if not isinstance(array, list):\n",
    "            raise Exception('The input is not list')\n",
    "        \n",
    "        if not array:\n",
    "            return []\n",
    "        \n",
    "        def quick_sorting(array, left, right):\n",
    "            #快排函数，ary为待排序数组，left为待排序的左边界，right为右边界\n",
    "            if left >= right: \n",
    "                return array\n",
    "\n",
    "            \n",
    "            index = randint(left, right)\n",
    "            array[index], array[right] = array[right], array[index]\n",
    "            pivot = array[right]     #取最左边的为基准数\n",
    "            i = left           #左指针\n",
    "            j = right          #右指针\n",
    "            while i < j:\n",
    "                while i < j and array[i] <= pivot:\n",
    "                    i += 1\n",
    "\n",
    "                while i < j and array[j] >= pivot:\n",
    "                    j -= 1\n",
    "\n",
    "\n",
    "                array[i], array[j] = array[j], array[i]\n",
    "\n",
    "            array[right], array[i] = array[i], array[right]\n",
    "            \n",
    "\n",
    "            quick_sorting(array, left, i-1)\n",
    "            quick_sorting(array, i+1, right)\n",
    "\n",
    "        \n",
    "        quick_sorting(array, 0, len(array)-1)\n",
    "        return array\n",
    "\n",
    "array = [5, 3, 2, 6, 8]\n",
    "quick_sort(array, 0, len(array)-1)  "
   ]
  },
  {
   "cell_type": "code",
   "execution_count": 36,
   "metadata": {},
   "outputs": [
    {
     "data": {
      "text/plain": [
       "[2, 6, 5, 3, 8]"
      ]
     },
     "execution_count": 36,
     "metadata": {},
     "output_type": "execute_result"
    }
   ],
   "source": [
    "from random import randint\n",
    "def quick_sort(array, left, right):\n",
    "    if left >= right:\n",
    "        return\n",
    "    \n",
    "    index = randint(0, len(array)-1)\n",
    "#     array[index], array[right] = array[right], array[index]\n",
    "    \n",
    "    i = left\n",
    "    j = right - 1\n",
    "    while i <= j:\n",
    "        if array[i] <= array[index]:\n",
    "            i += 1\n",
    "            \n",
    "        else:\n",
    "            array[i], array[j] = array[j], array[i]\n",
    "            j -= 1\n",
    "            \n",
    "        array[i], array[index] = array[index], array[i]\n",
    "        \n",
    "    quick_sort(array, left, i-1)\n",
    "    quick_sort(array, i+1, right)\n",
    "    return array\n",
    "    \n",
    "array = [5, 3, 2, 6, 8]\n",
    "quick_sort(array, 0, len(array)-1)  \n"
   ]
  },
  {
   "cell_type": "markdown",
   "metadata": {},
   "source": [
    "快速排序通常明显比同为Ο(n log n)的其他算法更快，因此常被采用，而且快排采用了分治法的思想，所以在很多笔试面试中能经常看到快排的影子。可见掌握快排的重要性。\n",
    "\n",
    "步骤：\n",
    "\n",
    "从数列中挑出一个元素作为基准数。  \n",
    "分区过程，将比基准数大的放到右边，小于或等于它的数都放到左边。  \n",
    "再对左右区间递归执行第二步，直至各区间只有一个数。  "
   ]
  },
  {
   "cell_type": "code",
   "execution_count": null,
   "metadata": {},
   "outputs": [],
   "source": [
    "class Solution:\n",
    "    def quick_sort(self, array):\n",
    "        if not array:\n",
    "            return []\n",
    "        \n",
    "        def quick_sorting(array, left, right):\n",
    "            if left >= right:\n",
    "                return array\n",
    "            \n",
    "            index = partition(array, left, right)\n",
    "\n",
    "#             if left < index - 1:\n",
    "            quick_sorting(array, left, index - 1)\n",
    "#             if index < right:\n",
    "            quick_sorting(array, index, right)\n",
    "            \n",
    "        def partition(array, left, right):\n",
    "            pivot = array[(left+right)//2]\n",
    "            \n",
    "            while left <= right:\n",
    "                while array[left] < pivot:\n",
    "                    left += 1\n",
    "                \n",
    "                while array[right] > pivot:\n",
    "                    right -= 1\n",
    "                    \n",
    "                if left <= right:\n",
    "                    array[left], array[right] = array[right], array[left]\n",
    "                    left += 1\n",
    "                    right -= 1\n",
    "            return left\n",
    "        \n",
    "        quick_sorting(array, 0, len(array)-1)\n",
    "        return array\n",
    "        "
   ]
  },
  {
   "cell_type": "code",
   "execution_count": 12,
   "metadata": {},
   "outputs": [
    {
     "data": {
      "text/plain": [
       "[2, 3, 5, 6, 8]"
      ]
     },
     "execution_count": 12,
     "metadata": {},
     "output_type": "execute_result"
    }
   ],
   "source": [
    "from random import randint\n",
    "def quick_sort(array):\n",
    "    if len(array) <= 1:\n",
    "        return array\n",
    "    \n",
    "    index = randint(0, len(array)-1)\n",
    "    \n",
    "    pivot = array[index]\n",
    "    \n",
    "    smaller = []\n",
    "    for i in range(len(array)):\n",
    "        if i == index:\n",
    "            continue\n",
    "            \n",
    "        if array[i] <= pivot:\n",
    "            smaller.append(array[i])\n",
    "            \n",
    "    greater = []\n",
    "    for i in range(len(array)):\n",
    "        if i == index:\n",
    "            continue\n",
    "            \n",
    "        if array[i] > pivot:\n",
    "            greater.append(array[i])\n",
    "        \n",
    "    return quick_sort(smaller) + [pivot] + quick_sort(greater) \n",
    "  \n",
    "array = [5, 3, 2, 6, 8]\n",
    "quick_sort(array)"
   ]
  },
  {
   "cell_type": "code",
   "execution_count": 5,
   "metadata": {},
   "outputs": [
    {
     "data": {
      "text/plain": [
       "[2, 3, 5, 6, 8]"
      ]
     },
     "execution_count": 5,
     "metadata": {},
     "output_type": "execute_result"
    }
   ],
   "source": [
    "def quick_sort(array):\n",
    "    if len(array) <= 1:\n",
    "        return array\n",
    "     \n",
    "    pivot = array[-1] \n",
    "    \n",
    "    smaller = [n for n in array[:-1] if n <= pivot]\n",
    "    greater = [n for n in array[:-1] if n > pivot]\n",
    "\n",
    "    return quick_sort(smaller) + [pivot] + quick_sort(greater) \n",
    "\n",
    "array = [5, 3, 2, 6, 8]\n",
    "quick_sort(array)"
   ]
  },
  {
   "cell_type": "code",
   "execution_count": 4,
   "metadata": {},
   "outputs": [
    {
     "data": {
      "text/plain": [
       "[2, 3, 5, 6, 8]"
      ]
     },
     "execution_count": 4,
     "metadata": {},
     "output_type": "execute_result"
    }
   ],
   "source": [
    "def quick_sort(array):\n",
    "    if len(array) <= 1:\n",
    "        return array\n",
    "     \n",
    "    pivot = array[0]\n",
    "    smaller = [n for n in array[1:] if n <= pivot]\n",
    "    greater = [n for n in array[1:] if n > pivot]\n",
    "\n",
    "    return quick_sort(smaller) + [pivot] + quick_sort(greater)    \n",
    "\n",
    "array = [5, 3, 2, 6, 8]\n",
    "quick_sort(array)"
   ]
  },
  {
   "cell_type": "code",
   "execution_count": 4,
   "metadata": {},
   "outputs": [
    {
     "data": {
      "text/plain": [
       "[3]"
      ]
     },
     "execution_count": 4,
     "metadata": {},
     "output_type": "execute_result"
    }
   ],
   "source": [
    "[3] + []"
   ]
  },
  {
   "cell_type": "code",
   "execution_count": 7,
   "metadata": {},
   "outputs": [
    {
     "data": {
      "text/plain": [
       "[1, 2, 4, 5]"
      ]
     },
     "execution_count": 7,
     "metadata": {},
     "output_type": "execute_result"
    }
   ],
   "source": [
    "a = [1,2]\n",
    "b = [4,5]\n",
    "a.extend(b)\n",
    "a"
   ]
  },
  {
   "cell_type": "markdown",
   "metadata": {},
   "source": [
    "## Counting Sort"
   ]
  },
  {
   "cell_type": "code",
   "execution_count": 14,
   "metadata": {},
   "outputs": [
    {
     "name": "stdout",
     "output_type": "stream",
     "text": [
      "[2, 3, 4, 5, 5, 8]\n"
     ]
    }
   ],
   "source": [
    "def sort(array):\n",
    "    max_num = max(array)\n",
    "    \n",
    "    count = [0] * (max_num+1)\n",
    "    \n",
    "    for i, n in enumerate(array):\n",
    "        count[n] += 1\n",
    "        array[i] = 0\n",
    "        \n",
    "    index = 0\n",
    "    for i in range(len(count)):\n",
    "        if count[i] > 0:\n",
    "            \n",
    "            for j in range(count[i]):\n",
    "                array[index] = i\n",
    "                index += 1\n",
    "                \n",
    "    return array\n",
    "                \n",
    "array = [3,5,8,2,5,4]\n",
    "print(sort(array))"
   ]
  },
  {
   "cell_type": "code",
   "execution_count": null,
   "metadata": {},
   "outputs": [],
   "source": [
    "public static void sort(int[] arr) {\n",
    "    //找出数组中的最大值\n",
    "    int max = arr[0];\n",
    "    for (int i = 1; i < arr.length; i++) {\n",
    "        if (arr[i] > max) {\n",
    "            max = arr[i];\n",
    "        }\n",
    "    }\n",
    "    //初始化计数数组\n",
    "    int[] countArr = new int[max + 1];\n",
    "\n",
    "    //计数\n",
    "    for (int i = 0; i < arr.length; i++) {\n",
    "        countArr[arr[i]]++;\n",
    "        arr[i] = 0;\n",
    "    }\n",
    "\n",
    "    //排序\n",
    "    int index = 0;\n",
    "    for (int i = 0; i < countArr.length; i++) {\n",
    "        if (countArr[i] > 0) {\n",
    "            arr[index++] = i;\n",
    "        }\n",
    "    }\n",
    "}"
   ]
  },
  {
   "cell_type": "markdown",
   "metadata": {},
   "source": [
    "## Bucket Sort"
   ]
  },
  {
   "cell_type": "code",
   "execution_count": null,
   "metadata": {},
   "outputs": [],
   "source": []
  },
  {
   "cell_type": "markdown",
   "metadata": {},
   "source": [
    "## Radix Sort"
   ]
  },
  {
   "cell_type": "markdown",
   "metadata": {},
   "source": [
    "## 179. Largest Number (Microsoft 6, Amazon 4, Apple 2, Facebook 2)"
   ]
  },
  {
   "cell_type": "code",
   "execution_count": null,
   "metadata": {},
   "outputs": [],
   "source": [
    "class Solution(object):\n",
    "    def largestNumber(self, nums):\n",
    "        \"\"\"\n",
    "        :type nums: List[int]\n",
    "        :rtype: str\n",
    "        \"\"\"\n",
    "        def compare(x, y):\n",
    "            if x + y > y + x:\n",
    "                return -1\n",
    "            elif x + y < y + x:\n",
    "                return 1\n",
    "            \n",
    "            else:\n",
    "                return 0\n",
    "        \n",
    "        formated = sorted(map(str, nums), cmp=compare)\n",
    "        \n",
    "        print(formated)\n",
    "        \n",
    "        largest_num = ''.join(formated)\n",
    "        return '0' if largest_num[0] == '0' else largest_num"
   ]
  },
  {
   "cell_type": "code",
   "execution_count": 47,
   "metadata": {},
   "outputs": [
    {
     "name": "stdout",
     "output_type": "stream",
     "text": [
      "yes\n"
     ]
    }
   ],
   "source": [
    "if -1:\n",
    "    print('yes')"
   ]
  },
  {
   "cell_type": "code",
   "execution_count": 13,
   "metadata": {},
   "outputs": [
    {
     "name": "stdout",
     "output_type": "stream",
     "text": [
      "1\n",
      "2\n",
      "3\n",
      "4\n"
     ]
    },
    {
     "data": {
      "text/plain": [
       "<map at 0x7fe60605e0d0>"
      ]
     },
     "execution_count": 13,
     "metadata": {},
     "output_type": "execute_result"
    }
   ],
   "source": [
    "s = [1,2,3,4]\n",
    "x = map(str, s)\n",
    "for i in x:\n",
    "    print(i)\n",
    "x"
   ]
  },
  {
   "cell_type": "code",
   "execution_count": null,
   "metadata": {},
   "outputs": [],
   "source": [
    "# build-in function\n",
    "def largestNumber1(self, nums):\n",
    "    if not any(nums):\n",
    "        return \"0\"\n",
    "    return \"\".join(sorted(map(str, nums), cmp=lambda n1, n2: -1 if n1+n2>n2+n1 else (1 if n1+n2<n2+n1 else 0)))\n",
    "    \n",
    "# bubble sort\n",
    "def largestNumber2(self, nums):\n",
    "    for i in xrange(len(nums), 0, -1):\n",
    "        for j in xrange(i-1):\n",
    "            if not self.compare(nums[j], nums[j+1]):\n",
    "                nums[j], nums[j+1] = nums[j+1], nums[j]\n",
    "    return str(int(\"\".join(map(str, nums))))\n",
    "    \n",
    "def compare(self, n1, n2):\n",
    "    return str(n1) + str(n2) > str(n2) + str(n1)\n",
    "    \n",
    "# selection sort\n",
    "def largestNumber3(self, nums):\n",
    "    for i in xrange(len(nums), 0, -1):\n",
    "        tmp = 0\n",
    "        for j in xrange(i):\n",
    "            if not self.compare(nums[j], nums[tmp]):\n",
    "                tmp = j\n",
    "        nums[tmp], nums[i-1] = nums[i-1], nums[tmp]\n",
    "    return str(int(\"\".join(map(str, nums))))\n",
    "    \n",
    "# insertion sort\n",
    "def largestNumber4(self, nums):\n",
    "    for i in xrange(len(nums)):\n",
    "        pos, cur = i, nums[i]\n",
    "        while pos > 0 and not self.compare(nums[pos-1], cur):\n",
    "            nums[pos] = nums[pos-1]  # move one-step forward\n",
    "            pos -= 1\n",
    "        nums[pos] = cur\n",
    "    return str(int(\"\".join(map(str, nums))))\n",
    "\n",
    "# merge sort        \n",
    "def largestNumber5(self, nums):\n",
    "    nums = self.mergeSort(nums, 0, len(nums)-1)\n",
    "    return str(int(\"\".join(map(str, nums))))\n",
    "    \n",
    "def mergeSort(self, nums, l, r):\n",
    "    if l > r:\n",
    "        return \n",
    "    if l == r:\n",
    "        return [nums[l]]\n",
    "    mid = l + (r-l)//2\n",
    "    left = self.mergeSort(nums, l, mid)\n",
    "    right = self.mergeSort(nums, mid+1, r)\n",
    "    return self.merge(left, right)\n",
    "    \n",
    "def merge(self, l1, l2):\n",
    "    res, i, j = [], 0, 0\n",
    "    while i < len(l1) and j < len(l2):\n",
    "        if not self.compare(l1[i], l2[j]):\n",
    "            res.append(l2[j])\n",
    "            j += 1\n",
    "        else:\n",
    "            res.append(l1[i])\n",
    "            i += 1\n",
    "    res.extend(l1[i:] or l2[j:])\n",
    "    return res\n",
    "    \n",
    "# quick sort, in-place\n",
    "def largestNumber(self, nums):\n",
    "    self.quickSort(nums, 0, len(nums)-1)\n",
    "    return str(int(\"\".join(map(str, nums)))) \n",
    "\n",
    "def quickSort(self, nums, l, r):\n",
    "    if l >= r:\n",
    "        return \n",
    "    pos = self.partition(nums, l, r)\n",
    "    self.quickSort(nums, l, pos-1)\n",
    "    self.quickSort(nums, pos+1, r)\n",
    "    \n",
    "def partition(self, nums, l, r):\n",
    "    low = l\n",
    "    while l < r:\n",
    "        if self.compare(nums[l], nums[r]):\n",
    "            nums[l], nums[low] = nums[low], nums[l]\n",
    "            low += 1\n",
    "        l += 1\n",
    "    nums[low], nums[r] = nums[r], nums[low]\n",
    "    return low"
   ]
  },
  {
   "cell_type": "code",
   "execution_count": null,
   "metadata": {},
   "outputs": [],
   "source": [
    "class Solution(object):\n",
    "    def largestNumber(self, nums):\n",
    "        \"\"\"\n",
    "        :type nums: List[int]\n",
    "        :rtype: str\n",
    "        \"\"\"\n",
    "        formated = sorted(map(str, nums), key=LargerNumKey)\n",
    "        \n",
    "        print(formated)\n",
    "        \n",
    "        largest_num = ''.join(formated)\n",
    "        return '0' if largest_num[0] == '0' else largest_num\n",
    "    \n",
    "class LargerNumKey(str):\n",
    "    def __lt__(x, y):\n",
    "        return x+y > y+x"
   ]
  },
  {
   "cell_type": "markdown",
   "metadata": {},
   "source": [
    "### Other Pointers"
   ]
  },
  {
   "cell_type": "markdown",
   "metadata": {},
   "source": [
    "## 881. Boats to Save People (Amazon 4)"
   ]
  },
  {
   "cell_type": "code",
   "execution_count": null,
   "metadata": {},
   "outputs": [],
   "source": [
    "class Solution:\n",
    "    def numRescueBoats(self, people, limit):\n",
    "        \"\"\"\n",
    "        :type people: List[int]\n",
    "        :type limit: int\n",
    "        :rtype: int\n",
    "        \"\"\"\n",
    "        people.sort(reverse = True)\n",
    "        \n",
    "        i, j = 0, len(people) - 1\n",
    "        ans = 0\n",
    "        while i <= j:\n",
    "            ans += 1\n",
    "            if people[i] + people[j] <= limit:\n",
    "                j -= 1\n",
    "                \n",
    "            i += 1\n",
    "        return ans"
   ]
  },
  {
   "cell_type": "markdown",
   "metadata": {},
   "source": [
    "## Watering Plants (Google OA)"
   ]
  },
  {
   "cell_type": "markdown",
   "metadata": {},
   "source": [
    "Input: plants = [2, 4, 5, 1, 2], capacity = 6\n",
    "Output: 17\n",
    "Explanation:\n",
    "First you water plants[0] and plants[1] (2 steps).\n",
    "Then you have to go back to refill (2 steps) and water plants[2] and plants[3] (4 steps).\n",
    "Then again you have to refill (4 steps) and water plants[4] (5 steps).\n",
    "So 2 + 2 + 4 + 4 + 5 = 17."
   ]
  },
  {
   "cell_type": "code",
   "execution_count": null,
   "metadata": {},
   "outputs": [],
   "source": [
    "class Solution:\n",
    "    def solution(self, plants, capacity):\n",
    "        cur = capacity\n",
    "        i = 0\n",
    "        res = 0\n",
    "        while i <= len(plants) -1:\n",
    "            if cur >= plants[i]:\n",
    "#                 plants[i] = 0\n",
    "                cur -= plants[i]\n",
    "                res += 1\n",
    "                i += 1\n",
    "                \n",
    "            elif cur < plants[i]:\n",
    "                cur = capacity - plants[i]\n",
    "#                 plants[i] = 0\n",
    "                res += i * 2 + 1\n",
    "                i += 1\n",
    "        \n",
    "        return res"
   ]
  },
  {
   "cell_type": "code",
   "execution_count": null,
   "metadata": {},
   "outputs": [],
   "source": [
    "s = Solution()\n",
    "s.solution([2,2,1,1,2], 3)"
   ]
  },
  {
   "cell_type": "code",
   "execution_count": null,
   "metadata": {},
   "outputs": [],
   "source": [
    "class Solution:\n",
    "    def solution(self, flowers, cap1, cap2):\n",
    "        res = 2\n",
    "        me = cap1\n",
    "        friend = cap2\n",
    "        \n",
    "        mid = len(flowers)//2\n",
    "        \n",
    "        for i in range(mid):\n",
    "            if me < flowers[i]:\n",
    "                me = cap1\n",
    "                res += 1\n",
    "            me -= flowers[i]\n",
    "            \n",
    "        flowers2 = flowers[::-1]\n",
    "        for i in range(len(mid):\n",
    "            if friend < flowers2[i]:\n",
    "                friend = cap2\n",
    "                res += 1\n",
    "            friend -= flowers[i]\n",
    "\n",
    "        if len(flowers) % 2:\n",
    "            if (me + friend) < flowers[mid]:\n",
    "                res += 1\n",
    "                \n",
    "        return res"
   ]
  },
  {
   "cell_type": "code",
   "execution_count": null,
   "metadata": {},
   "outputs": [],
   "source": [
    "flowers = [2,4,5,1,2]\n",
    "s = Solution()\n",
    "s.solution(flowers, 5, 7)"
   ]
  },
  {
   "cell_type": "markdown",
   "metadata": {},
   "source": [
    "## 413. Arithmetic Slices  "
   ]
  },
  {
   "cell_type": "code",
   "execution_count": 41,
   "metadata": {},
   "outputs": [
    {
     "data": {
      "text/plain": [
       "5"
      ]
     },
     "execution_count": 41,
     "metadata": {},
     "output_type": "execute_result"
    }
   ],
   "source": [
    "class Solution:\n",
    "    def numberOfArithmeticSlices(self, array):\n",
    "        res = 0    \n",
    "        dp =0\n",
    "\n",
    "        i = 0\n",
    "        while i <= len(array) - 3:\n",
    "            if array[i+1] - array[i] == array[i+2] - array[i+1]:\n",
    "                dp += 1\n",
    "                res += dp\n",
    "\n",
    "            else:\n",
    "                dp = 0\n",
    "\n",
    "            i += 1\n",
    "\n",
    "        if res < 1000000000:\n",
    "            return res  \n",
    "\n",
    "        else:\n",
    "            return -1 \n",
    "    \n",
    "s = Solution()\n",
    "\n",
    "a = [1,3,5,7,9]\n",
    "b = [-1, 1, 3, 3, 3, 2, 3, 2, 1, 0]\n",
    "s.numberOfArithmeticSlices(b)"
   ]
  },
  {
   "cell_type": "markdown",
   "metadata": {},
   "source": [
    "## Particle Velocity (Microsoft OA)"
   ]
  },
  {
   "cell_type": "code",
   "execution_count": 45,
   "metadata": {},
   "outputs": [
    {
     "data": {
      "text/plain": [
       "5"
      ]
     },
     "execution_count": 45,
     "metadata": {},
     "output_type": "execute_result"
    }
   ],
   "source": [
    "def solution(array):\n",
    "    if len(array) < 3:\n",
    "        return -1\n",
    "    \n",
    "    res = 0    \n",
    "    dp =0\n",
    "\n",
    "    i = 0\n",
    "    while i <= len(array) - 3:\n",
    "        if array[i+1] - array[i] == array[i+2] - array[i+1]:\n",
    "            dp += 1\n",
    "            res += dp\n",
    "\n",
    "        else:\n",
    "            dp = 0\n",
    "\n",
    "        i += 1\n",
    "        \n",
    "        \n",
    "    if res < 1000000000:\n",
    "        return res  \n",
    "    \n",
    "    else:\n",
    "        return -1\n",
    "    \n",
    "a = [-1, 1, 3, 3, 3, 2, 3, 2, 1, 0]\n",
    "solution(a)"
   ]
  },
  {
   "cell_type": "markdown",
   "metadata": {},
   "source": [
    "## Min Moves to Obtain String Without 3 Identical Consecutive Letters (Microsoft OA)"
   ]
  },
  {
   "cell_type": "code",
   "execution_count": 45,
   "metadata": {},
   "outputs": [],
   "source": [
    "def solution(s):\n",
    "    moves = 0\n",
    "    \n",
    "    i = 0\n",
    "    while i < len(s):\n",
    "        length = 1\n",
    "        \n",
    "        while i + 1 < len(s) and s[i] == s[i+1]:\n",
    "            length += 1\n",
    "            i += 1\n",
    "            \n",
    "        moves += length // 3 \n",
    "        \n",
    "        i += 1\n",
    "        \n",
    "    return moves"
   ]
  },
  {
   "cell_type": "code",
   "execution_count": 46,
   "metadata": {},
   "outputs": [
    {
     "data": {
      "text/plain": [
       "0"
      ]
     },
     "execution_count": 46,
     "metadata": {},
     "output_type": "execute_result"
    }
   ],
   "source": [
    "#array = 'baaabbaabbba'\n",
    "array = 'baababb'\n",
    "solution(array)"
   ]
  },
  {
   "cell_type": "markdown",
   "metadata": {},
   "source": [
    "## Longest Semi-Alternating Substring (Microsoft OA)"
   ]
  },
  {
   "cell_type": "code",
   "execution_count": 1,
   "metadata": {},
   "outputs": [
    {
     "data": {
      "text/plain": [
       "5"
      ]
     },
     "execution_count": 1,
     "metadata": {},
     "output_type": "execute_result"
    }
   ],
   "source": [
    "def solution(s):\n",
    "    l = 0\n",
    "    r = 2\n",
    "    length = 0\n",
    "    while r < len(s):\n",
    "        if r - l > 1:\n",
    "            if s[r] == s[r-1] and s[r] == s[r-2]:\n",
    "                length = max(length, r - l)\n",
    "                l += 1\n",
    "                r = l\n",
    "    \n",
    "        r += 1\n",
    "        \n",
    "    if not length:\n",
    "        return len(s)\n",
    "            \n",
    "    return length\n",
    "           \n",
    "a = 'baaabbabbb'\n",
    "b = 'babba'\n",
    "c = 'abaaaa'\n",
    "solution(b)"
   ]
  },
  {
   "cell_type": "markdown",
   "metadata": {},
   "source": [
    "## Longest Substring Without 3 Contiguous Occurrences of Letter (Microsoft OA)"
   ]
  },
  {
   "cell_type": "code",
   "execution_count": 4,
   "metadata": {},
   "outputs": [
    {
     "data": {
      "text/plain": [
       "'aabbabb'"
      ]
     },
     "execution_count": 4,
     "metadata": {},
     "output_type": "execute_result"
    }
   ],
   "source": [
    "def solution(s):\n",
    "    l = 0\n",
    "    r = 2\n",
    "    length = 0\n",
    "    ans = ''\n",
    "    while r < len(s):\n",
    "        if r - l > 1:\n",
    "            if s[r] == s[r-1] and s[r] == s[r-2]:\n",
    "                \n",
    "                if r - l > length:\n",
    "                    length = max(length, r - l)\n",
    "                    ans = s[l:r]\n",
    "                l += 1\n",
    "                r = l\n",
    "    \n",
    "        r += 1\n",
    "        \n",
    "    if not length:\n",
    "        return len(s)\n",
    "            \n",
    "    return ans\n",
    "\n",
    "a = 'baaabbabbb'\n",
    "b = 'babba'\n",
    "c = 'abaaaa'\n",
    "solution(a)"
   ]
  },
  {
   "cell_type": "markdown",
   "metadata": {},
   "source": [
    "## Min Swaps to make Palindrome (Microsoft OA)"
   ]
  },
  {
   "cell_type": "code",
   "execution_count": 132,
   "metadata": {},
   "outputs": [
    {
     "data": {
      "text/plain": [
       "-1"
      ]
     },
     "execution_count": 132,
     "metadata": {},
     "output_type": "execute_result"
    }
   ],
   "source": [
    "def solution(s):\n",
    "    length = len(s)\n",
    "    res = 0\n",
    "    \n",
    "    array = list(s)\n",
    "    \n",
    "    for i in range(length//2):\n",
    "        found = False\n",
    "        \n",
    "        for j in range(length-i-1, i+1, -1):\n",
    "            if array[i] != array[j]:\n",
    "                continue\n",
    "                \n",
    "            found = True\n",
    "            \n",
    "            for k in range(j, length-i-1):\n",
    "                array[k], array[k+1] = array[k+1], array[k]\n",
    "                res += 1\n",
    "                \n",
    "            break\n",
    "            \n",
    "            if not found and length%2 == 1:\n",
    "                for k in range(i, n//2):\n",
    "                    array[k], array[k+1] = array[k+1], array[k]\n",
    "                    res += 1\n",
    "                    \n",
    "    if not res:\n",
    "        return -1\n",
    "    else:\n",
    "        return res\n",
    "    \n",
    "a = 'mamad'\n",
    "b = 'aabb'\n",
    "solution(b)"
   ]
  },
  {
   "cell_type": "code",
   "execution_count": null,
   "metadata": {},
   "outputs": [],
   "source": [
    "static int MainSwapPalindrome(string inputStr)\n",
    "        {\n",
    "            int n = inputStr.Length;\n",
    "            int result = 0;\n",
    "            char[] items = inputStr.ToCharArray();\n",
    "            for(int i = 0; i< n/2; i++)\n",
    "            {\n",
    "                bool found = false;\n",
    "                for(int j = n-i-1; j >= i+1; j--)\n",
    "                {\n",
    "                    if (items[i] != items[j])\n",
    "                        continue;\n",
    "                    found = true;\n",
    "                    for(int k = j; k < n - i - 1; k++)\n",
    "                    {\n",
    "                        char temp = items[k];\n",
    "                        items[k] = items[k+1];\n",
    "                        items[k+1] = temp;\n",
    "                        result++;                        \n",
    "                    }\n",
    "                    break;\n",
    "                }\n",
    "                if(!found && n%2 == 1)\n",
    "                {\n",
    "                    for(int k = i; k < n/2; k++)\n",
    "                    {\n",
    "                        char temp = items[k];\n",
    "                        items[k] = items[k + 1];\n",
    "                        items[k + 1] = temp;\n",
    "                        result++;\n",
    "                    }\n",
    "                }\n",
    "            }\n",
    "            return result == 0 ? -1 : result;\n",
    "        }"
   ]
  },
  {
   "cell_type": "markdown",
   "metadata": {},
   "source": [
    "## 209 Minimum Size Subarray Sum (List, 2 Poinsters) (Google 7, Facebook 3, Amazon 3)"
   ]
  },
  {
   "cell_type": "code",
   "execution_count": null,
   "metadata": {},
   "outputs": [],
   "source": [
    "# sliding window\n",
    "# O(n)\n",
    "class Solution:\n",
    "    def minSubArrayLen(self, s: int, nums: List[int]) -> int:\n",
    "        if not nums : \n",
    "            return 0\n",
    "        \n",
    "        left = 0\n",
    "        cur = 0\n",
    "        res = float(\"inf\")\n",
    "        for right in range(len(nums)):\n",
    "            cur += nums[right]\n",
    "            \n",
    "            while cur >= s:\n",
    "                res = min(res, right - left + 1)\n",
    "                cur -= nums[left]\n",
    "                left += 1\n",
    "                \n",
    "        return res if res != float(\"inf\") else 0"
   ]
  },
  {
   "cell_type": "code",
   "execution_count": null,
   "metadata": {},
   "outputs": [],
   "source": [
    "# binary search\n",
    "# O(nlogn)\n",
    "class Solution:\n",
    "    def minSubArrayLen(self, s: int, nums: List[int]) -> int:\n",
    "        if not nums :           \n",
    "            return 0\n",
    "        # 求前缀和\n",
    "        for i in range(1, len(nums)):\n",
    "            nums[i] += nums[i - 1]\n",
    "        #print(nums)\n",
    "        # 总和都小于 s 时候\n",
    "        if nums[-1] < s: return 0\n",
    "        res = float(\"inf\")\n",
    "        nums = [0] + nums\n",
    "        for i in range(1, len(nums)):\n",
    "            if nums[i] - s >= 0:\n",
    "                # 二分查找\n",
    "                loc = bisect.bisect_left(nums, nums[i] - s)\n",
    "                if nums[i] - nums[loc] >= s:\n",
    "                    res = min(res, i - loc)\n",
    "                    continue\n",
    "                if loc > 0:\n",
    "                    res = min(res, i - loc + 1)\n",
    "        return res\n"
   ]
  },
  {
   "cell_type": "markdown",
   "metadata": {},
   "source": [
    "## 763. Partition Labels (String. Dic, 2 Pointers) (Amazon OA 18)\n",
    "\n",
    "Time Complexity: O(N), where N is the length of S.  \n",
    "O(N)"
   ]
  },
  {
   "cell_type": "code",
   "execution_count": null,
   "metadata": {},
   "outputs": [],
   "source": [
    "class Solution:\n",
    "    def partitionLabels(self, S):\n",
    "        \"\"\"\n",
    "        :type S: str\n",
    "        :rtype: List[int]\n",
    "        \"\"\"\n",
    "        if not S:\n",
    "            return True\n",
    "        \n",
    "        dic = {}\n",
    "        for i, c in enumerate(S):\n",
    "            dic[c] = i\n",
    "            \n",
    "        l, r = 0, 0\n",
    "        res = []\n",
    "        for i, c in enumerate(S):\n",
    "            r = max(r, dic[c])\n",
    "            \n",
    "            if i == r:\n",
    "                res.append(r - l + 1)\n",
    "                l = i + 1\n",
    "                \n",
    "        return res"
   ]
  },
  {
   "cell_type": "code",
   "execution_count": null,
   "metadata": {},
   "outputs": [],
   "source": [
    "s = Solution()\n",
    "s.partitionLabels(\"ababcbacadefegdehijhklij\")\n"
   ]
  },
  {
   "cell_type": "markdown",
   "metadata": {},
   "source": [
    "## 187. Repeated DNA Sequences (Str. Set) (Amazon 5)"
   ]
  },
  {
   "cell_type": "code",
   "execution_count": null,
   "metadata": {},
   "outputs": [],
   "source": [
    "from collections import Counter\n",
    "class Solution:\n",
    "    def findRepeatedDnaSequences(self, s: str) -> List[str]:\n",
    "        if not s:\n",
    "            return []\n",
    "        \n",
    "        if len(s) < 11:\n",
    "            return []\n",
    "        \n",
    "        seen = set()\n",
    "        res = set()\n",
    "        \n",
    "        l = 0\n",
    "        r = 10\n",
    "        \n",
    "        while r <= len(s):\n",
    "            if s[l:r] in seen:\n",
    "                res.add(s[l:r])\n",
    "            \n",
    "            else:\n",
    "                seen.add(s[l:r])\n",
    "            \n",
    "            l += 1\n",
    "            r += 1"
   ]
  },
  {
   "cell_type": "markdown",
   "metadata": {},
   "source": [
    "## 953. Verifying an Alien Dictionary (Facebook 108)"
   ]
  },
  {
   "cell_type": "code",
   "execution_count": null,
   "metadata": {},
   "outputs": [],
   "source": [
    "class Solution(object):\n",
    "    def isAlienSorted(self, words, order):\n",
    "        \"\"\"\n",
    "        :type words: List[str]\n",
    "        :type order: str\n",
    "        :rtype: bool\n",
    "        \"\"\"\n",
    "        order_index = {c: i for i, c in enumerate(order)}\n",
    "\n",
    "        for i in range(len(words) - 1):\n",
    "            word1 = words[i]\n",
    "            word2 = words[i+1]\n",
    "\n",
    "            # Find the first difference word1[k] != word2[k].\n",
    "            for k in range(min(len(word1), len(word2))):\n",
    "                # If they compare badly, it's not sorted.\n",
    "                if word1[k] != word2[k]:\n",
    "                    if order_index[word1[k]] > order_index[word2[k]]:\n",
    "                        return False\n",
    "                    break\n",
    "            else:\n",
    "                # If we didn't find a first difference, the\n",
    "                # words are like (\"app\", \"apple\").\n",
    "                if len(word1) > len(word2):\n",
    "                    return False\n",
    "\n",
    "        return True"
   ]
  },
  {
   "cell_type": "markdown",
   "metadata": {},
   "source": [
    "## 670. Maximum Swap (Facebook 14)"
   ]
  },
  {
   "cell_type": "code",
   "execution_count": null,
   "metadata": {},
   "outputs": [],
   "source": [
    "class Solution:\n",
    "    def maximumSwap(self, num):\n",
    "        \"\"\"\n",
    "        :type num: int\n",
    "        :rtype: int\n",
    "        \"\"\"\n",
    "        num = list(map(int, str(num)))\n",
    "        digitIndex = {x: i for i, x in enumerate(num)}\n",
    "        \n",
    "        for i, x in enumerate(num):\n",
    "            for d in range(9, x, -1):\n",
    "                if d in digitIndex and digitIndex[d] > i:\n",
    "                    j = digitIndex[d]\n",
    "                    num[i], num[j] = num[j], num[i]\n",
    "                    return int(''.join(map(str, num)))\n",
    "                \n",
    "        return int(''.join(map(str, num)))"
   ]
  },
  {
   "cell_type": "markdown",
   "metadata": {},
   "source": [
    "### Sliding Window-Dic, Pointer"
   ]
  },
  {
   "cell_type": "markdown",
   "metadata": {},
   "source": [
    "## 30. Substring with Concatenation of All Words (String List. Sliding Window-Dic, Pointer) (Amazon 6, Microsoft 5)"
   ]
  },
  {
   "cell_type": "code",
   "execution_count": null,
   "metadata": {},
   "outputs": [],
   "source": [
    "class Solution: \n",
    "    def findSubstring(self, s, words):\n",
    "        \"\"\"\n",
    "        :type s: str\n",
    "        :type words: List[str]\n",
    "        :rtype: List[int]\n",
    "        \"\"\"\n",
    "        if not s or len(s)==0 or not words or len(words)==0:\n",
    "            return []\n",
    "\n",
    "        dic, res = {}, []\n",
    "        for i in words:\n",
    "            if i not in dic:\n",
    "                dic[i] = 1\n",
    "            else:\n",
    "                dic[i] += 1\n",
    "                \n",
    "        one = len(words[0])\n",
    "        total = len(words) * one\n",
    "        \n",
    "        for i in range(len(s) - total + 1):\n",
    "            tmp = s[i:i+total]\n",
    "            d = dic.copy()\n",
    "            # 将子串和临时字典进行比较\n",
    "            for j in range(0, len(tmp), one):\n",
    "                # 从子串tmp_str中取出one长度的子串，看是否出现在临时字典中\n",
    "                # 如果是就将临时字典记录的频率-1，如果不在就跳出循环\n",
    "                key = tmp[j:j+one]\n",
    "                if key in d:\n",
    "                    d[key] -= 1\n",
    "                    if d[key]==0:\n",
    "                        d.pop(key)\n",
    "                else:\n",
    "                    break\n",
    "\n",
    "            if not d:\n",
    "                res.append(i)\n",
    "        return res"
   ]
  },
  {
   "cell_type": "code",
   "execution_count": null,
   "metadata": {},
   "outputs": [],
   "source": [
    "from collections import Counter\n",
    "class Solution:\n",
    "    def findSubstring(self, s: str, words: List[str]) -> List[int]:\n",
    "        \n",
    "        if not s or not words:\n",
    "            return []\n",
    "        \n",
    "        length = len(words[0])\n",
    "        total = len(words) * length\n",
    "        words = Counter(words)\n",
    "        res = []\n",
    "        \n",
    "        for i in range(len(s) - total + 1):\n",
    "            tmp = s[i:i + total]\n",
    "            array = []\n",
    "            for j in range(0, total, length):\n",
    "                array.append(tmp[j:j + length])\n",
    "                \n",
    "            if Counter(array) == words:\n",
    "                res.append(i)\n",
    "                \n",
    "        return res"
   ]
  },
  {
   "cell_type": "code",
   "execution_count": null,
   "metadata": {},
   "outputs": [],
   "source": [
    "class Solution:\n",
    "    def findSubstring(self, s, words):\n",
    "         \"\"\"\n",
    "        :type s: str\n",
    "        :type words: List[str]\n",
    "        :rtype: List[int]\n",
    "        \"\"\"\n",
    "        if not s or not words:\n",
    "            return []\n",
    "        \n",
    "        words.sort()\n",
    "        length = len(words[0])\n",
    "        totallen = len(words) * len(words[0])\n",
    "        res = []\n",
    "        \n",
    "        for i in range(len(s) - totallen + 1):\n",
    "            string = s[i:i + totallen]\n",
    "            List = []\n",
    "            index = 0\n",
    "            \n",
    "            while index < len(string):\n",
    "                List.append(string[index:index + length])\n",
    "                index += length\n",
    "            if sorted(List) == words:\n",
    "                res.append(i)\n",
    "        return res"
   ]
  },
  {
   "cell_type": "markdown",
   "metadata": {},
   "source": [
    "## 3. Longest Substring Without Repeating Characters (String. Sliding Window-Dic, Pointer) (Amazon Onsite 27, Microsoft 13, Google 11, Facebook 9)\n",
    "- 时间复杂度: O(N)- 空间复杂度: O(N)"
   ]
  },
  {
   "cell_type": "code",
   "execution_count": null,
   "metadata": {},
   "outputs": [],
   "source": [
    "# 使用 dic 作为计数器记录窗口中的字符出现次数，然后先向右移动 right，当 dic 中出现重复字符时，开始移动 left 缩小窗口，如此往复\n",
    "\n",
    "from collections import Counter\n",
    "class Solution:\n",
    "    def lengthOfLongestSubstring(self, s):\n",
    "        \"\"\"\n",
    "        :type s: str\n",
    "        :rtype: int\n",
    "        \"\"\"\n",
    "        \n",
    "        \n",
    "        l = 0\n",
    "        r = 0\n",
    "        counter = 0 # counter 为当前子串中相同字符的数量\n",
    "        res = 0\n",
    "        \n",
    "        dic = Counter()\n",
    "        \n",
    "        while r < len(s):\n",
    "            if dic[s[r]] > 0:\n",
    "                counter += 1\n",
    "                \n",
    "            dic[s[r]] += 1\n",
    "            r += 1\n",
    "            \n",
    "            while counter:\n",
    "                if dic[s[l]] > 1:\n",
    "                    counter -= 1\n",
    "                    \n",
    "                dic[s[l]] -= 1\n",
    "                l += 1\n",
    "                \n",
    "            res = max(res, r - l)\n",
    "        return res"
   ]
  },
  {
   "cell_type": "markdown",
   "metadata": {},
   "source": [
    "时间复杂度: O(N)  \n",
    "O(N)"
   ]
  },
  {
   "cell_type": "code",
   "execution_count": null,
   "metadata": {},
   "outputs": [],
   "source": [
    "class Solution:\n",
    "    def lengthOfLongestSubstring(self, s):\n",
    "        \"\"\"\n",
    "        :type s: str\n",
    "        :rtype: int\n",
    "        \"\"\"\n",
    "        left = 0\n",
    "        dic = {}\n",
    "        result = 0\n",
    "        \n",
    "        for right in range(len(s)):\n",
    "            if s[right] in dic:\n",
    "                left = max(left, dic[s[right]] + 1)\n",
    "                \n",
    "            result = max(result, right - left + 1)\n",
    "            dic[s[right]] = right \n",
    "            \n",
    "        return result\n",
    "        "
   ]
  },
  {
   "cell_type": "code",
   "execution_count": 102,
   "metadata": {},
   "outputs": [
    {
     "name": "stdout",
     "output_type": "stream",
     "text": [
      "0 0 1\n",
      "0 0 2\n",
      "0 0 3\n",
      "1 1 3\n",
      "2 2 3\n",
      "3 3 3\n",
      "5 5 3\n",
      "7 7 3\n"
     ]
    },
    {
     "data": {
      "text/plain": [
       "3"
      ]
     },
     "execution_count": 102,
     "metadata": {},
     "output_type": "execute_result"
    }
   ],
   "source": [
    "class Solution:\n",
    "    def lengthOfLongestSubstring(self, s):\n",
    "        \"\"\"\n",
    "        :type s: str\n",
    "        :rtype: int\n",
    "        \"\"\"\n",
    "        # start 指针指向的是当前子串首字符在 input 中对应的index\n",
    "        cur = 0 \n",
    "        res = 0\n",
    "        dic = {}\n",
    "        \n",
    "        for i, c in enumerate(s):\n",
    "            cur = max(cur, dic.get(c, -1) + 1) # 找到当前子串新的起点\n",
    "            res = max(res, i - cur + 1) # 当前子串满足条件了，更新结果\n",
    "#             print(dic.get(s[i],-1)+1,start,res)\n",
    "            dic[c] = i # 将当前字符与其在 input 中的 index 记录下来\n",
    "        return res\n",
    "\n",
    "s = Solution()\n",
    "s.lengthOfLongestSubstring('abcabcbb')"
   ]
  },
  {
   "cell_type": "markdown",
   "metadata": {},
   "source": [
    "## 159. Longest Substring with At Most Two Distinct Characters (String. Sliding Window-Dic, Pointer) (Google 2, Facebook 2)\n",
    "- 时间复杂度: O(N)- 空间复杂度: O(N)"
   ]
  },
  {
   "cell_type": "code",
   "execution_count": null,
   "metadata": {},
   "outputs": [],
   "source": [
    "from collections import Counter\n",
    "class Solution:\n",
    "    def lengthOfLongestSubstringTwoDistinct(self, s):\n",
    "        \"\"\"\n",
    "        :type s: str\n",
    "        :rtype: int\n",
    "        \"\"\"   \n",
    "        \n",
    "        \n",
    "        l = 0\n",
    "        r = 0\n",
    "        counter = 0\n",
    "        res = 0\n",
    "        \n",
    "        dic = Counter()\n",
    "        \n",
    "        while r <= len(s) - 1:\n",
    "            if dic[s[r]] == 0:\n",
    "                counter += 1\n",
    "            \n",
    "            dic[s[r]] += 1\n",
    "            r += 1\n",
    "            \n",
    "            while counter > 2:\n",
    "                if dic[s[l]] == 1:\n",
    "                    counter -= 1\n",
    "                    \n",
    "                dic[s[l]] -= 1\n",
    "                l += 1\n",
    "                \n",
    "            res = max(res, r - l)\n",
    "        return res"
   ]
  },
  {
   "cell_type": "markdown",
   "metadata": {},
   "source": [
    "O(N)  \n",
    "O(N)"
   ]
  },
  {
   "cell_type": "code",
   "execution_count": null,
   "metadata": {},
   "outputs": [],
   "source": [
    "from collections import defaultdict\n",
    "class Solution:\n",
    "    def lengthOfLongestSubstringTwoDistinct(self, s):\n",
    "        \"\"\"\n",
    "        :type s: str\n",
    "        :rtype: int\n",
    "        \"\"\"\n",
    "        \n",
    "        n = len(s) \n",
    "        if n < 3:\n",
    "            return n\n",
    "        \n",
    "        # sliding window left and right pointers\n",
    "        left, right = 0, 0\n",
    "        # hashmap character -> its rightmost position \n",
    "        # in the sliding window\n",
    "        hashmap = defaultdict()\n",
    "\n",
    "        max_len = 2\n",
    "        \n",
    "        while right < n:\n",
    "            # slidewindow contains less than 3 characters\n",
    "            if len(hashmap) < 3:\n",
    "                hashmap[s[right]] = right\n",
    "                right += 1\n",
    "\n",
    "            # slidewindow contains 3 characters\n",
    "            if len(hashmap) == 3:\n",
    "                # delete the leftmost character\n",
    "                del_idx = min(hashmap.values())\n",
    "                del hashmap[s[del_idx]]\n",
    "                # move left pointer of the slidewindow\n",
    "                left = del_idx + 1\n",
    "\n",
    "            max_len = max(max_len, right - left)\n",
    "\n",
    "        return max_len"
   ]
  },
  {
   "cell_type": "markdown",
   "metadata": {},
   "source": [
    "## 340 Longest Substring with At Most K(Two) Distinct Characters (String. Sliding Window-Dic, Pointers) (Facebook 11, Amazon 9, Microsoft 5, Google 5)\n",
    "- 时间复杂度: O(N)- 空间复杂度: O(N)"
   ]
  },
  {
   "cell_type": "code",
   "execution_count": null,
   "metadata": {},
   "outputs": [],
   "source": [
    "from collections import Counter\n",
    "class Solution:\n",
    "    def lengthOfLongestSubstringKDistinct(self, s, k):\n",
    "        \"\"\"\n",
    "        :type s: str\n",
    "        :type k: int\n",
    "        :rtype: int\n",
    "        \"\"\"\n",
    "        \n",
    "        l = 0\n",
    "        r = 0\n",
    "        counter = 0\n",
    "        res = 0\n",
    "        \n",
    "        dic = Counter()\n",
    "        \n",
    "        while r <= len(s) - 1:\n",
    "            if dic[s[r]] == 0:\n",
    "                counter += 1\n",
    "                \n",
    "            dic[s[r]] += 1\n",
    "            r += 1\n",
    "            \n",
    "            while counter > k:\n",
    "                if dic[s[l]] == 1:\n",
    "                    counter -= 1\n",
    "                \n",
    "                dic[s[l]] -= 1\n",
    "                l += 1\n",
    "                \n",
    "            res = max(res, r - l)\n",
    "        return res"
   ]
  },
  {
   "cell_type": "markdown",
   "metadata": {},
   "source": [
    "## 76. Minimum Window Substring (String. Sliding Window-Dic, Pointer) (Facebook 20, Amazon 13, Linkedin 9, Google 11, Microsoft 6) (Hard)\n",
    "\n",
    "O(s+t)  \n",
    "O(s+t)"
   ]
  },
  {
   "cell_type": "code",
   "execution_count": 93,
   "metadata": {},
   "outputs": [],
   "source": [
    "from collections import Counter\n",
    "class Solution:\n",
    "    def minWindow(self, s, t):\n",
    "        \"\"\"\n",
    "        :type s: str\n",
    "        :type t: str\n",
    "        :rtype: str\n",
    "        \"\"\"\n",
    "        \n",
    "        l = 0\n",
    "        r = 0\n",
    "        \n",
    "        counter = len(t)\n",
    "        min_len = float(\"inf\")\n",
    "        res = \"\"\n",
    "        \n",
    "        dic = Counter(t)\n",
    "        \n",
    "        while r < len(s):\n",
    "            if dic[s[r]] > 0:\n",
    "                counter -= 1\n",
    "                \n",
    "            dic[s[r]] -= 1\n",
    "            r += 1\n",
    "            \n",
    "            while counter == 0:\n",
    "                if min_len > r - l:\n",
    "                    min_len = r - l\n",
    "                    res = s[l:r]\n",
    "                    \n",
    "                if dic[s[l]] == 0:\n",
    "                    counter += 1\n",
    "                    \n",
    "                dic[s[l]] += 1\n",
    "                l += 1\n",
    "        return res"
   ]
  },
  {
   "cell_type": "code",
   "execution_count": 94,
   "metadata": {},
   "outputs": [
    {
     "name": "stdout",
     "output_type": "stream",
     "text": [
      "dict_t= Counter({'A': 1, 'B': 1, 'C': 1})\n",
      "required= 3\n",
      "character= A\n",
      "window_counts= {'A': 1}\n",
      "formed= 1\n",
      "\n",
      "character= D\n",
      "window_counts= {'A': 1, 'D': 1}\n",
      "\n",
      "character= O\n",
      "window_counts= {'A': 1, 'D': 1, 'O': 1}\n",
      "\n",
      "character= B\n",
      "window_counts= {'A': 1, 'D': 1, 'O': 1, 'B': 1}\n",
      "formed= 2\n",
      "\n",
      "character= E\n",
      "window_counts= {'A': 1, 'D': 1, 'O': 1, 'B': 1, 'E': 1}\n",
      "\n",
      "character= C\n",
      "window_counts= {'A': 1, 'D': 1, 'O': 1, 'B': 1, 'E': 1, 'C': 1}\n",
      "formed= 3\n",
      "ans= (6, 0, 5)\n",
      "\n",
      "character= O\n",
      "window_counts= {'A': 0, 'D': 1, 'O': 2, 'B': 1, 'E': 1, 'C': 1}\n",
      "\n",
      "character= D\n",
      "window_counts= {'A': 0, 'D': 2, 'O': 2, 'B': 1, 'E': 1, 'C': 1}\n",
      "\n",
      "character= E\n",
      "window_counts= {'A': 0, 'D': 2, 'O': 2, 'B': 1, 'E': 2, 'C': 1}\n",
      "\n",
      "character= B\n",
      "window_counts= {'A': 0, 'D': 2, 'O': 2, 'B': 2, 'E': 2, 'C': 1}\n",
      "\n",
      "character= A\n",
      "window_counts= {'A': 1, 'D': 2, 'O': 2, 'B': 2, 'E': 2, 'C': 1}\n",
      "formed= 3\n",
      "\n",
      "character= N\n",
      "window_counts= {'A': 1, 'D': 1, 'O': 1, 'B': 1, 'E': 1, 'C': 0, 'N': 1}\n",
      "\n",
      "character= C\n",
      "window_counts= {'A': 1, 'D': 1, 'O': 1, 'B': 1, 'E': 1, 'C': 1, 'N': 1}\n",
      "formed= 3\n",
      "ans= (5, 8, 12)\n",
      "ans= (4, 9, 12)\n",
      "\n"
     ]
    },
    {
     "data": {
      "text/plain": [
       "'BANC'"
      ]
     },
     "execution_count": 94,
     "metadata": {},
     "output_type": "execute_result"
    }
   ],
   "source": [
    "a = Solution()\n",
    "s = \"ADOBECODEBANC\"\n",
    "t = \"ABC\"\n",
    "a.minWindow(s,t)"
   ]
  },
  {
   "cell_type": "markdown",
   "metadata": {},
   "source": [
    "## 438. Find All Anagrams in a String (String. Sliding Window-Dic, Pointer) (Facebook 29, Microsoft 4, Google 4, Amazon 3)"
   ]
  },
  {
   "cell_type": "code",
   "execution_count": null,
   "metadata": {},
   "outputs": [],
   "source": [
    "from collections import Counter\n",
    "class Solution():\n",
    "    def findAnagrams(self, s, p):\n",
    "        \"\"\"\n",
    "        :type s: str\n",
    "        :type p: str\n",
    "        :rtype: List[int]\n",
    "        \"\"\"\n",
    "#         vector<int> res;\n",
    "#         int left = 0, right = 0;\n",
    "#         unordered_map<char, int> needs;\n",
    "#         unordered_map<char, int> window;\n",
    "#         for (char c : t) needs[c]++;\n",
    "#         int match = 0;\n",
    "\n",
    "#         while (right < s.size()) {\n",
    "#             char c1 = s[right];\n",
    "#             if (needs.count(c1)) {\n",
    "#                 window[c1]++;\n",
    "#                 if (window[c1] == needs[c1])\n",
    "#                     match++;\n",
    "#             }\n",
    "#             right++;\n",
    "\n",
    "#             while (match == needs.size()) {\n",
    "#                 // 如果 window 的大小合适\n",
    "#                 // 就把起始索引 left 加入结果\n",
    "#                 if (right - left == t.size()) {\n",
    "#                     res.push_back(left);\n",
    "#                 }\n",
    "#                 char c2 = s[left];\n",
    "#                 if (needs.count(c2)) {\n",
    "#                     window[c2]--;\n",
    "#                     if (window[c2] < needs[c2])\n",
    "#                         match--;\n",
    "#                 }\n",
    "#                 left++;\n",
    "#             }\n",
    "#         }\n",
    "#         return res;\n",
    "#         }\n",
    "\n",
    "        res = []\n",
    "        l = 0\n",
    "        r = 0\n",
    "        needs = Counter()\n",
    "        dic = Counter()\n",
    "        for c in p:\n",
    "            needs[c] += 1\n",
    "            \n",
    "        match = 0\n",
    "        \n",
    "        while r < len(s):\n",
    "            c1 = s[r]\n",
    "            if c1 in needs:\n",
    "                dic[c1] += 1\n",
    "                if dic[c1] == needs[c1]:\n",
    "                    match += 1\n",
    "                    \n",
    "            r += 1\n",
    "            \n",
    "            while match == len(needs):\n",
    "                # 如果 window 的大小合适\n",
    "                # 就把起始索引 left 加入结果\n",
    "                if r - l == len(p):\n",
    "                    res.append(l)\n",
    "                    \n",
    "                c2 = s[l]    \n",
    "                if c2 in needs:\n",
    "                    dic[c2] -= 1\n",
    "                    if dic[c2] < needs[c2]:\n",
    "                        match -= 1\n",
    "                        \n",
    "                l -= 1\n",
    "                \n",
    "        return res"
   ]
  },
  {
   "cell_type": "markdown",
   "metadata": {},
   "source": [
    "## 567. Permutation in String (Facebook 4, Google 3, Microsoft 2)"
   ]
  },
  {
   "cell_type": "code",
   "execution_count": null,
   "metadata": {},
   "outputs": [],
   "source": [
    "# 和438题解法几乎一摸一样，只是修改下返回条件即可\n",
    "/**\n",
    " * @param {string} s\n",
    " * @param {string} p\n",
    " * @return {number[]}\n",
    " */\n",
    "var findAnagrams = function(s, p) {\n",
    "    let res = [];\n",
    "    let left = 0,right = 0;\n",
    "    let needs = {},windows = {};\n",
    "    let match = 0;\n",
    "    for(let i = 0;i < p.length;i++){\n",
    "        needs[p[i]] ? needs[p[i]]++ : needs[p[i]] = 1;\n",
    "    }\n",
    "    let needsLen = Object.keys(needs).length;\n",
    "    while(right < s.length){\n",
    "        let c1 = s[right];\n",
    "        if(needs[c1]){\n",
    "            windows[c1] ? windows[c1]++ : windows[c1] = 1;\n",
    "            if(windows[c1] === needs[c1]){\n",
    "                match++;\n",
    "            }\n",
    "        }\n",
    "        right++;\n",
    "        while(match === needsLen){\n",
    "            if(right - left === p.length){\n",
    "                res.push(left);\n",
    "            }\n",
    "            let c2 = s[left];\n",
    "            if(needs[c2]){\n",
    "                windows[c2]--;\n",
    "                if(windows[c2] < needs[c2]){\n",
    "                    match--;\n",
    "                }\n",
    "            }\n",
    "            left++;\n",
    "        }\n",
    "    }\n",
    "    return res;\n",
    "};"
   ]
  },
  {
   "cell_type": "markdown",
   "metadata": {},
   "source": [
    "## 727. Minimum Window Subsequence (Google 11, Microsoft 3)"
   ]
  },
  {
   "cell_type": "code",
   "execution_count": null,
   "metadata": {},
   "outputs": [],
   "source": []
  }
 ],
 "metadata": {
  "kernelspec": {
   "display_name": "Python 3",
   "language": "python",
   "name": "python3"
  },
  "language_info": {
   "codemirror_mode": {
    "name": "ipython",
    "version": 3
   },
   "file_extension": ".py",
   "mimetype": "text/x-python",
   "name": "python",
   "nbconvert_exporter": "python",
   "pygments_lexer": "ipython3",
   "version": "3.8.3"
  }
 },
 "nbformat": 4,
 "nbformat_minor": 4
}
