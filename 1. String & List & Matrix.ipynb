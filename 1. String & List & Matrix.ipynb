{
 "cells": [
  {
   "cell_type": "code",
   "execution_count": 1,
   "metadata": {},
   "outputs": [],
   "source": [
    "from IPython.core.interactiveshell import InteractiveShell\n",
    "InteractiveShell.ast_node_interactivity = \"all\""
   ]
  },
  {
   "cell_type": "markdown",
   "metadata": {},
   "source": [
    "# Leetcode"
   ]
  },
  {
   "cell_type": "markdown",
   "metadata": {},
   "source": [
    "~ means revert every bit.  \n",
    "Therefore, ~x means -x-1.  \n",
    "An elegant (but confusing) way to choose the rightest element of the middle part."
   ]
  },
  {
   "cell_type": "markdown",
   "metadata": {},
   "source": [
    "## Microsoft Codility Demo"
   ]
  },
  {
   "cell_type": "code",
   "execution_count": 23,
   "metadata": {},
   "outputs": [
    {
     "name": "stdout",
     "output_type": "stream",
     "text": [
      "[1, 1, 2, 3, 4, 6]\n"
     ]
    },
    {
     "data": {
      "text/plain": [
       "5"
      ]
     },
     "execution_count": 23,
     "metadata": {},
     "output_type": "execute_result"
    }
   ],
   "source": [
    "def solution(A):\n",
    "    array = sorted(A)\n",
    "    print(array)\n",
    "    \n",
    "    i = 0\n",
    "    while i < len(array) - 1:\n",
    "        if array[i] <= 0:\n",
    "            i += 1\n",
    "            continue\n",
    "            \n",
    "        if array[i+1] - array[i] > 1:\n",
    "            return array[i] + 1\n",
    "        \n",
    "        i += 1\n",
    "        \n",
    "    if array[-1] <= 0:\n",
    "        return 1\n",
    "    \n",
    "    else:\n",
    "        return array[-1] + 1\n",
    "    \n",
    "a = [1,3,6,4,1,2]\n",
    "solution(a)"
   ]
  },
  {
   "cell_type": "code",
   "execution_count": 22,
   "metadata": {},
   "outputs": [
    {
     "name": "stdout",
     "output_type": "stream",
     "text": [
      "2\n",
      "3\n"
     ]
    }
   ],
   "source": [
    "def f():\n",
    "    i = 0\n",
    "    array = [1,2,3]\n",
    "    \n",
    "    while i < len(array):\n",
    "        if array[i] == 1:\n",
    "            i += 1\n",
    "        \n",
    "        print(array[i])\n",
    "        i += 1\n",
    "            \n",
    "f()"
   ]
  },
  {
   "cell_type": "code",
   "execution_count": 59,
   "metadata": {},
   "outputs": [
    {
     "name": "stdout",
     "output_type": "stream",
     "text": [
      "yes\n"
     ]
    }
   ],
   "source": [
    "def f():\n",
    "    i = 0\n",
    "    array = [1,2,3]\n",
    "    \n",
    "    while i < len(array):\n",
    "        if array[i] == 3:            \n",
    "            print('yes')\n",
    "            \n",
    "\n",
    "        i += 1\n",
    "            \n",
    "f()"
   ]
  },
  {
   "cell_type": "markdown",
   "metadata": {},
   "source": [
    "### General"
   ]
  },
  {
   "cell_type": "markdown",
   "metadata": {},
   "source": [
    "### Math"
   ]
  },
  {
   "cell_type": "code",
   "execution_count": 138,
   "metadata": {},
   "outputs": [
    {
     "data": {
      "text/plain": [
       "-346"
      ]
     },
     "execution_count": 138,
     "metadata": {},
     "output_type": "execute_result"
    },
    {
     "data": {
      "text/plain": [
       "-3"
      ]
     },
     "execution_count": 138,
     "metadata": {},
     "output_type": "execute_result"
    },
    {
     "data": {
      "text/plain": [
       "-4"
      ]
     },
     "execution_count": 138,
     "metadata": {},
     "output_type": "execute_result"
    },
    {
     "data": {
      "text/plain": [
       "(35, 1)"
      ]
     },
     "execution_count": 138,
     "metadata": {},
     "output_type": "execute_result"
    },
    {
     "data": {
      "text/plain": [
       "4.298328988073496"
      ]
     },
     "execution_count": 138,
     "metadata": {},
     "output_type": "execute_result"
    }
   ],
   "source": [
    "math.floor(-345.5)\n",
    "\n",
    "int(-3.6)\n",
    "\n",
    "round(-3.6)\n",
    "\n",
    "divmod(351, 10) # (a // b, a % b)\n",
    "\n",
    "math.log10(19876)"
   ]
  },
  {
   "cell_type": "code",
   "execution_count": 112,
   "metadata": {},
   "outputs": [
    {
     "data": {
      "text/plain": [
       "0"
      ]
     },
     "execution_count": 112,
     "metadata": {},
     "output_type": "execute_result"
    }
   ],
   "source": [
    "import math\n",
    "def vertical_print(a):\n",
    "    if a == 0:\n",
    "\n",
    "        return\n",
    "\n",
    "\n",
    "    n = math.floor(math.log10(a))\n",
    "\n",
    "    while n>=0:\n",
    "        d,m = divmod(a, 10**n)\n",
    "\n",
    "        a = m\n",
    "        n-=1\n",
    "        \n",
    "    return a\n",
    "        \n",
    "\n",
    "vertical_print(1234)"
   ]
  },
  {
   "cell_type": "markdown",
   "metadata": {},
   "source": [
    "## 191. Number of 1 Bits (Facebook 5, Apple 2)"
   ]
  },
  {
   "cell_type": "code",
   "execution_count": null,
   "metadata": {},
   "outputs": [],
   "source": [
    "class Solution:\n",
    "    def hammingWeight(self, n):\n",
    "        \"\"\"\n",
    "        :type n: int\n",
    "        :rtype: int\n",
    "        \"\"\"\n",
    "        \n",
    "        bits = 0\n",
    "        mask = 1\n",
    "        for i in range(32):\n",
    "            if n & mask != 0:\n",
    "                bits += 1\n",
    "                \n",
    "            mask <<= 1\n",
    "            \n",
    "        return bits"
   ]
  },
  {
   "cell_type": "markdown",
   "metadata": {},
   "source": [
    "## 190. Reverse Bits (Apple 3)"
   ]
  },
  {
   "cell_type": "markdown",
   "metadata": {},
   "source": [
    "As easy as it sounds, the above intuition could lead to quite some variants of implementation. For instance, to retrieve the right-most bit in an integer n, one could either apply the modulo operation (i.e. n % 2) or the bit AND operation (i.e. n & 1). "
   ]
  },
  {
   "cell_type": "code",
   "execution_count": null,
   "metadata": {},
   "outputs": [],
   "source": [
    "class Solution:\n",
    "    # @param n, an integer\n",
    "    # @return an integer\n",
    "    def reverseBits(self, n):    \n",
    "        ret, power = 0, 31\n",
    "        while n:\n",
    "            ret += (n & 1) << power\n",
    "\n",
    "            n >>= 1\n",
    "            power -= 1\n",
    "        return ret"
   ]
  },
  {
   "cell_type": "markdown",
   "metadata": {},
   "source": [
    "## 67 Add Binary (Facebook 45, Google 2)"
   ]
  },
  {
   "cell_type": "code",
   "execution_count": 5,
   "metadata": {},
   "outputs": [],
   "source": [
    "class Solution:\n",
    "    def addBinary(self, a, b):\n",
    "        \"\"\"\n",
    "        :type a: str\n",
    "        :type b: str\n",
    "        :rtype: str\n",
    "        \"\"\"\n",
    "        \n",
    "        def convert(num):\n",
    "            res = 0\n",
    "\n",
    "            for exp, n in enumerate(num[::-1]):\n",
    "                if n == '1':\n",
    "                    res += pow(2, exp)\n",
    "           \n",
    "            return res\n",
    "        \n",
    "        x = convert(a)\n",
    "        y = convert(b)\n",
    "            \n",
    "        res = x + y\n",
    "        \n",
    "        return bin(res).replace(\"0b\", \"\") \n",
    "        \n",
    "        x = convert(a)\n",
    "        y = convert(b)\n",
    "            \n",
    "        res = x + y\n",
    "        \n",
    "        return bin(res).replace(\"0b\", \"\") \n",
    "    \n",
    "    # \"{0:#b}\".format(my_int)\n",
    "    # int('11111111', 2)"
   ]
  },
  {
   "cell_type": "code",
   "execution_count": 6,
   "metadata": {},
   "outputs": [
    {
     "data": {
      "text/plain": [
       "31"
      ]
     },
     "execution_count": 6,
     "metadata": {},
     "output_type": "execute_result"
    }
   ],
   "source": [
    "int('11111', 2)"
   ]
  },
  {
   "cell_type": "code",
   "execution_count": 7,
   "metadata": {},
   "outputs": [
    {
     "data": {
      "text/plain": [
       "'0b10101101100111'"
      ]
     },
     "execution_count": 7,
     "metadata": {},
     "output_type": "execute_result"
    }
   ],
   "source": [
    "bin(11111)"
   ]
  },
  {
   "cell_type": "code",
   "execution_count": 2,
   "metadata": {},
   "outputs": [
    {
     "data": {
      "text/plain": [
       "48"
      ]
     },
     "execution_count": 2,
     "metadata": {},
     "output_type": "execute_result"
    },
    {
     "data": {
      "text/plain": [
       "49"
      ]
     },
     "execution_count": 2,
     "metadata": {},
     "output_type": "execute_result"
    }
   ],
   "source": [
    "ord('0')\n",
    "ord('1')"
   ]
  },
  {
   "cell_type": "markdown",
   "metadata": {},
   "source": [
    "## 171. Excel Sheet Column Number (Microsoft 3)  \n",
    "This reverses the string, starts a sum at 0, creates a list of tuples of the index of each character in the reversed string (which corresponds to the exponent) and character itself. Add them up. We take ord(char) to turn the character to an integer, subtract 65 = ord('A') from it, and add one because we want A to equal 1, not 0."
   ]
  },
  {
   "cell_type": "code",
   "execution_count": null,
   "metadata": {},
   "outputs": [],
   "source": [
    "class Solution(object):\n",
    "    def titleToNumber(self, s):\n",
    "        \"\"\"\n",
    "        :type s: str\n",
    "        :rtype: int\n",
    "        \"\"\"\n",
    "        s = s[::-1]\n",
    "        sum = 0\n",
    "        for exp, char in enumerate(s):\n",
    "            sum += (ord(char) - 64) * (26 ** exp)\n",
    "        return sum"
   ]
  },
  {
   "cell_type": "code",
   "execution_count": 33,
   "metadata": {},
   "outputs": [
    {
     "data": {
      "text/plain": [
       "'\\x14'"
      ]
     },
     "execution_count": 33,
     "metadata": {},
     "output_type": "execute_result"
    },
    {
     "data": {
      "text/plain": [
       "65"
      ]
     },
     "execution_count": 33,
     "metadata": {},
     "output_type": "execute_result"
    }
   ],
   "source": [
    "chr(20)\n",
    "ord('A')"
   ]
  },
  {
   "cell_type": "code",
   "execution_count": null,
   "metadata": {},
   "outputs": [],
   "source": [
    "class Solution(object):\n",
    "    def titleToNumber(self, s):\n",
    "        \"\"\"\n",
    "        :type s: str\n",
    "        :rtype: int\n",
    "        \"\"\"\n",
    "        if not s:\n",
    "            return \n",
    "        \n",
    "        \n",
    "        dic = dict([(chr(i), i-64) for i in range(65,91)])\n",
    "        \n",
    "        res = 0\n",
    "        for i, c in enumerate(s[::-1]):\n",
    "            \n",
    "            res += dic[c] * 26**i\n",
    "            \n",
    "        return res"
   ]
  },
  {
   "cell_type": "code",
   "execution_count": 3,
   "metadata": {},
   "outputs": [
    {
     "data": {
      "text/plain": [
       "{'A': 0,\n",
       " 'B': 0,\n",
       " 'C': 0,\n",
       " 'D': 0,\n",
       " 'E': 0,\n",
       " 'F': 0,\n",
       " 'G': 0,\n",
       " 'H': 0,\n",
       " 'I': 0,\n",
       " 'J': 0,\n",
       " 'K': 0,\n",
       " 'L': 0,\n",
       " 'M': 0,\n",
       " 'N': 0,\n",
       " 'O': 0,\n",
       " 'P': 0,\n",
       " 'Q': 0,\n",
       " 'R': 0,\n",
       " 'S': 0,\n",
       " 'T': 0,\n",
       " 'U': 0,\n",
       " 'V': 0,\n",
       " 'W': 0,\n",
       " 'X': 0,\n",
       " 'Y': 0,\n",
       " 'Z': 0}"
      ]
     },
     "execution_count": 3,
     "metadata": {},
     "output_type": "execute_result"
    }
   ],
   "source": [
    "import string\n",
    "d = dict.fromkeys(string.ascii_uppercase, 0)\n",
    "d"
   ]
  },
  {
   "cell_type": "code",
   "execution_count": 12,
   "metadata": {},
   "outputs": [
    {
     "data": {
      "text/plain": [
       "{'A': 0,\n",
       " 'B': 0,\n",
       " 'C': 0,\n",
       " 'D': 0,\n",
       " 'E': 0,\n",
       " 'F': 0,\n",
       " 'G': 0,\n",
       " 'H': 0,\n",
       " 'I': 0,\n",
       " 'J': 0,\n",
       " 'K': 0,\n",
       " 'L': 0,\n",
       " 'M': 0,\n",
       " 'N': 0,\n",
       " 'O': 0,\n",
       " 'P': 0,\n",
       " 'Q': 0,\n",
       " 'R': 0,\n",
       " 'S': 0,\n",
       " 'T': 0,\n",
       " 'U': 0,\n",
       " 'V': 0,\n",
       " 'W': 0,\n",
       " 'X': 0,\n",
       " 'Y': 0}"
      ]
     },
     "execution_count": 12,
     "metadata": {},
     "output_type": "execute_result"
    }
   ],
   "source": [
    "d = dict.fromkeys([chr(i) for i in range(65, 90)], 0)\n",
    "d"
   ]
  },
  {
   "cell_type": "code",
   "execution_count": 7,
   "metadata": {},
   "outputs": [
    {
     "data": {
      "text/plain": [
       "{'A': 1,\n",
       " 'B': 2,\n",
       " 'C': 3,\n",
       " 'D': 4,\n",
       " 'E': 5,\n",
       " 'F': 6,\n",
       " 'G': 7,\n",
       " 'H': 8,\n",
       " 'I': 9,\n",
       " 'J': 10,\n",
       " 'K': 11,\n",
       " 'L': 12,\n",
       " 'M': 13,\n",
       " 'N': 14,\n",
       " 'O': 15,\n",
       " 'P': 16,\n",
       " 'Q': 17,\n",
       " 'R': 18,\n",
       " 'S': 19,\n",
       " 'T': 20,\n",
       " 'U': 21,\n",
       " 'V': 22,\n",
       " 'W': 23,\n",
       " 'X': 24,\n",
       " 'Y': 25,\n",
       " 'Z': 26}"
      ]
     },
     "execution_count": 7,
     "metadata": {},
     "output_type": "execute_result"
    }
   ],
   "source": [
    "dic = dict([(chr(i), i-64) for i in range(65,91)])\n",
    "dic"
   ]
  },
  {
   "cell_type": "markdown",
   "metadata": {},
   "source": [
    "## 168. Excel Sheet Column Title (Microsoft 4, Facebook 4, Google 2, Apple 2)"
   ]
  },
  {
   "cell_type": "code",
   "execution_count": 40,
   "metadata": {},
   "outputs": [],
   "source": [
    "class Solution(object):\n",
    "    def convertToTitle(self, n):\n",
    "        \"\"\"\n",
    "        :type n: int\n",
    "        :rtype: str\n",
    "        \"\"\"\n",
    "        count = 0\n",
    "        d = collections.defaultdict()\n",
    "        for i in 'ABCDEFGHIJKLMNOPQRSTUVWXYZ':\n",
    "            d[count] = i\n",
    "            count += 1\n",
    "            \n",
    "        res = ''\n",
    "        n -= 1\n",
    "        while n>=0:\n",
    "            res = d[(n)%26] + res\n",
    "            n//=26\n",
    "            n-=1\n",
    "        return res"
   ]
  },
  {
   "cell_type": "markdown",
   "metadata": {},
   "source": [
    "## (5) 7. Reverse Integer (Int. Math) (Amazon 9)\n",
    "\n",
    "时间复杂度: O(lgx)  \n",
    "O(1)"
   ]
  },
  {
   "cell_type": "code",
   "execution_count": 2,
   "metadata": {},
   "outputs": [],
   "source": [
    "class Solution:\n",
    "    def reverse(self, x):\n",
    "        \"\"\"\n",
    "        :type x: int\n",
    "        :rtype: int\n",
    "        \"\"\"\n",
    "        if x < 0:\n",
    "            return -self.reverse(-x)\n",
    "        \n",
    "        res = 0\n",
    "        while x:\n",
    "            res = res * 10 + x % 10\n",
    "            x //= 10\n",
    "            \n",
    "        return res if res <= 2**31 - 1 else 0"
   ]
  },
  {
   "cell_type": "code",
   "execution_count": 3,
   "metadata": {},
   "outputs": [
    {
     "data": {
      "text/plain": [
       "-32"
      ]
     },
     "execution_count": 3,
     "metadata": {},
     "output_type": "execute_result"
    }
   ],
   "source": [
    "a = Solution()\n",
    "a.reverse(-23)"
   ]
  },
  {
   "cell_type": "code",
   "execution_count": null,
   "metadata": {},
   "outputs": [],
   "source": [
    "0x7fffffff"
   ]
  },
  {
   "cell_type": "code",
   "execution_count": null,
   "metadata": {},
   "outputs": [],
   "source": [
    "2**31 -1 "
   ]
  },
  {
   "cell_type": "code",
   "execution_count": 20,
   "metadata": {},
   "outputs": [
    {
     "data": {
      "text/plain": [
       "True"
      ]
     },
     "execution_count": 20,
     "metadata": {},
     "output_type": "execute_result"
    }
   ],
   "source": [
    "'2' == '2'"
   ]
  },
  {
   "cell_type": "code",
   "execution_count": 4,
   "metadata": {},
   "outputs": [
    {
     "data": {
      "text/plain": [
       "0"
      ]
     },
     "execution_count": 4,
     "metadata": {},
     "output_type": "execute_result"
    }
   ],
   "source": [
    "26 % 26"
   ]
  },
  {
   "cell_type": "markdown",
   "metadata": {},
   "source": [
    "## 9. Palindrome Number (Amazon 4, Google 4, Apple 2)"
   ]
  },
  {
   "cell_type": "code",
   "execution_count": null,
   "metadata": {},
   "outputs": [],
   "source": [
    "class Solution(object):\n",
    "    def isPalindrome(self, x):\n",
    "        \"\"\"\n",
    "        :type x: int\n",
    "        :rtype: bool\n",
    "        \"\"\"\n",
    "        if x < 0:\n",
    "            return False\n",
    "        \n",
    "        def reverse(x):\n",
    "            \"\"\"\n",
    "            :type x: int\n",
    "            :rtype: int\n",
    "            \"\"\"\n",
    "            res = 0\n",
    "            while x:\n",
    "                res = res * 10 + x % 10\n",
    "                x //= 10\n",
    "\n",
    "            return res if res <= 2**31 - 1 else 0\n",
    "        \n",
    "        return x == reverse(x)"
   ]
  },
  {
   "cell_type": "markdown",
   "metadata": {},
   "source": [
    "## 866. Prime Palindrome (Amazon 9)"
   ]
  },
  {
   "cell_type": "code",
   "execution_count": null,
   "metadata": {},
   "outputs": [],
   "source": [
    "class Solution():\n",
    "    def primePalindrome(self, N):\n",
    "        def is_prime(n):\n",
    "            return n > 1 and all(n % d for d in range(2, int(n**.5) + 1))\n",
    "\n",
    "        def reverse(x):\n",
    "            ans = 0\n",
    "            while x:\n",
    "                ans = 10 * ans + x % 10\n",
    "                x /= 10\n",
    "            return ans\n",
    "\n",
    "        while True:\n",
    "            if N == reverse(N) and is_prime(N):\n",
    "                return N\n",
    "            N += 1\n",
    "            \n",
    "            if 10**7 < N < 10**8:\n",
    "                N = 10**8"
   ]
  },
  {
   "cell_type": "code",
   "execution_count": 11,
   "metadata": {},
   "outputs": [
    {
     "data": {
      "text/plain": [
       "2"
      ]
     },
     "execution_count": 11,
     "metadata": {},
     "output_type": "execute_result"
    }
   ],
   "source": [
    "int(6**.5)\n"
   ]
  },
  {
   "cell_type": "markdown",
   "metadata": {},
   "source": [
    "## 204. Count Primes (Microsoft 4, Amazon 4)"
   ]
  },
  {
   "cell_type": "code",
   "execution_count": null,
   "metadata": {},
   "outputs": [],
   "source": [
    "class Solution:\n",
    "    def countPrimes(self, n):\n",
    "        \"\"\"\n",
    "        :type n: int\n",
    "        :rtype: int\n",
    "        \"\"\"\n",
    "        isPrime = [True] * n\n",
    "    \n",
    "        for i in range(2, n):\n",
    "            if i*i < n and isPrime[i*i]:\n",
    "                for j in range(i*i, n, i):\n",
    "                    isPrime[j] = False\n",
    "                \n",
    "        count = 0\n",
    "        for i in range(2, n):\n",
    "            if isPrime[i]:\n",
    "                count += 1\n",
    "                \n",
    "        return count\n",
    "                "
   ]
  },
  {
   "cell_type": "code",
   "execution_count": 17,
   "metadata": {},
   "outputs": [
    {
     "name": "stdout",
     "output_type": "stream",
     "text": [
      "2 is a prime number\n",
      "3 is a prime number\n",
      "4 equals 2 * 2\n",
      "5 is a prime number\n",
      "6 equals 2 * 3\n",
      "7 is a prime number\n",
      "8 equals 2 * 4\n",
      "9 equals 3 * 3\n"
     ]
    }
   ],
   "source": [
    "for n in range(2, 10):\n",
    "    for x in range(2, n):\n",
    "        if n % x == 0:\n",
    "            print(n, 'equals', x, '*', n//x)\n",
    "            break\n",
    "    else:\n",
    "        # loop fell through without finding a factor\n",
    "        print(n, 'is a prime number')"
   ]
  },
  {
   "cell_type": "code",
   "execution_count": 18,
   "metadata": {},
   "outputs": [
    {
     "data": {
      "text/plain": [
       "0"
      ]
     },
     "execution_count": 18,
     "metadata": {},
     "output_type": "execute_result"
    }
   ],
   "source": [
    "1 & 2"
   ]
  },
  {
   "cell_type": "code",
   "execution_count": 21,
   "metadata": {},
   "outputs": [
    {
     "data": {
      "text/plain": [
       "'0b10'"
      ]
     },
     "execution_count": 21,
     "metadata": {},
     "output_type": "execute_result"
    }
   ],
   "source": [
    "bin(2)"
   ]
  },
  {
   "cell_type": "markdown",
   "metadata": {},
   "source": [
    "## 390. Elimination Game (Amazon, Quora 2)"
   ]
  },
  {
   "cell_type": "code",
   "execution_count": null,
   "metadata": {},
   "outputs": [],
   "source": [
    "class Solution(object):\n",
    "    def lastRemaining(self, n):\n",
    "        \"\"\"\n",
    "        :type n: int\n",
    "        :rtype: int\n",
    "        \"\"\"\n",
    "        step = 1\n",
    "        head = 1\n",
    "        left = True\n",
    "        \n",
    "        while n > 1:\n",
    "            if left or n % 2:\n",
    "                head += step\n",
    "            \n",
    "            n //= 2\n",
    "            step *= 2\n",
    "            left = not left\n",
    "        \n",
    "        return head"
   ]
  },
  {
   "cell_type": "markdown",
   "metadata": {},
   "source": [
    "## 29. Divide Two Integers (Facebook 17, Amazon 3, Microsoft Onsite)"
   ]
  },
  {
   "cell_type": "code",
   "execution_count": null,
   "metadata": {},
   "outputs": [],
   "source": [
    "# 不能乘除，所以我们改用位运算，运用二分的思想，beats 100%\n",
    "# 因为最坏的情况就是最大的数除以1，即2**31 / 1, 所以时间复杂度就是O(1)，如果assuming n is the number of bits， 那就是O(lgN)\n",
    "\n",
    "# O(1)\n",
    "# O(1)\n",
    "class Solution:\n",
    "    def divide(self, dividend, divisor):\n",
    "        \"\"\"\n",
    "        :type dividend: int\n",
    "        :type divisor: int\n",
    "        :rtype: int\n",
    "        \"\"\"\n",
    "        positive = (dividend > 0) is (divisor > 0)\n",
    "        dividend, divisor = abs(dividend), abs(divisor)\n",
    "        res = 0\n",
    "        while dividend >= divisor:\n",
    "            tmp, cnt = divisor, 1\n",
    "            while dividend >= tmp:\n",
    "                tmp <<= 1\n",
    "                cnt <<= 1\n",
    "            dividend -= tmp >> 1\n",
    "            res += cnt >> 1\n",
    "        res = res if positive else -res\n",
    "        if res >= 2**31 - 1:\n",
    "            return 2**31 - 1\n",
    "        elif res <= -(2**31):\n",
    "            return -(2**31)\n",
    "        else:\n",
    "            return res"
   ]
  },
  {
   "cell_type": "code",
   "execution_count": 26,
   "metadata": {},
   "outputs": [
    {
     "data": {
      "text/plain": [
       "'0b100000000'"
      ]
     },
     "execution_count": 26,
     "metadata": {},
     "output_type": "execute_result"
    }
   ],
   "source": [
    "bin(256)"
   ]
  },
  {
   "cell_type": "markdown",
   "metadata": {},
   "source": [
    "## 681. Next Closest Time (String. Math) (Google 17)\n",
    "\n",
    "O(1)"
   ]
  },
  {
   "cell_type": "code",
   "execution_count": null,
   "metadata": {},
   "outputs": [],
   "source": [
    "class Solution:\n",
    "    def nextClosestTime(self, time):\n",
    "        \"\"\"\n",
    "        :type time: str\n",
    "        :rtype: str\n",
    "        \"\"\"\n",
    "        \n",
    "        cur = 60 * int(time[:2]) + int(time[3:])\n",
    "#         print('cur=', cur)\n",
    "        allowed = {int(x) for x in time if x != ':'}\n",
    "#         print('allowed=', allowed)\n",
    "        while True:\n",
    "            cur = (cur + 1) % (24 * 60)\n",
    "#             print('cur=', cur)\n",
    "            if all(digit in allowed\n",
    "                    for block in divmod(cur, 60)\n",
    "                    for digit in divmod(block, 10)):\n",
    "                return \"{:02d}:{:02d}\".format(*divmod(cur, 60))"
   ]
  },
  {
   "cell_type": "code",
   "execution_count": null,
   "metadata": {},
   "outputs": [],
   "source": [
    "s = Solution()\n",
    "time = \"19:34\"\n",
    "s.nextClosestTime(time)"
   ]
  },
  {
   "cell_type": "code",
   "execution_count": null,
   "metadata": {},
   "outputs": [],
   "source": [
    "divmod(120, 60)"
   ]
  },
  {
   "cell_type": "markdown",
   "metadata": {},
   "source": [
    "## 65. Valid Number (Facebook 14)"
   ]
  },
  {
   "cell_type": "code",
   "execution_count": null,
   "metadata": {},
   "outputs": [],
   "source": [
    "class Solution():\n",
    "    def isNumber(self, s):\n",
    "        \"\"\"\n",
    "        :type s: str\n",
    "        :rtype: bool\n",
    "        \"\"\"\n",
    "        try:\n",
    "            float(s)\n",
    "            return True\n",
    "        except:\n",
    "            return False  "
   ]
  },
  {
   "cell_type": "markdown",
   "metadata": {},
   "source": [
    "## 8. String to Integer(atoi) (String. Math) (Facebook 6, Microsoft 5, Amazon 5)\n",
    "\n",
    "O(N)  \n",
    "O(1)"
   ]
  },
  {
   "cell_type": "code",
   "execution_count": null,
   "metadata": {},
   "outputs": [],
   "source": [
    "class Solution:\n",
    "    # @param str, a string\n",
    "    # @return an integer\n",
    "    def myAtoi(self, s):\n",
    "        \"\"\"\n",
    "        :type str: str\n",
    "        :rtype: int\n",
    "        \"\"\"\n",
    "        s = s.strip()\n",
    "        \n",
    "        if not s:\n",
    "            return 0\n",
    "        \n",
    "        num = ''\n",
    "        if s[0] in '+-':\n",
    "            num += s[0]\n",
    "            s = s[1:]\n",
    "            \n",
    "        for c in s:            \n",
    "            if c.isnumeric(): \n",
    "                num += c\n",
    "            else:\n",
    "                break\n",
    "                \n",
    "        try: \n",
    "            res = int(num)\n",
    "            if res > 2**31 - 1:\n",
    "                return 2**31 - 1 \n",
    "            elif res < -2**31:\n",
    "                return -2**31\n",
    "            else:\n",
    "                return res\n",
    "        \n",
    "        except:\n",
    "            return 0"
   ]
  },
  {
   "cell_type": "code",
   "execution_count": 2,
   "metadata": {},
   "outputs": [
    {
     "data": {
      "text/plain": [
       "4"
      ]
     },
     "execution_count": 2,
     "metadata": {},
     "output_type": "execute_result"
    }
   ],
   "source": [
    "int('+4')"
   ]
  },
  {
   "cell_type": "code",
   "execution_count": null,
   "metadata": {},
   "outputs": [],
   "source": [
    "ch = '3'\n",
    "ch.isdigit()"
   ]
  },
  {
   "cell_type": "markdown",
   "metadata": {},
   "source": [
    "## 415. Add Strings (String. Math, Dic) (Facebook 28->41, Amazon 2->6, Microsoft Onsite 2, Apple 2)"
   ]
  },
  {
   "cell_type": "markdown",
   "metadata": {},
   "source": [
    "See 43"
   ]
  },
  {
   "cell_type": "markdown",
   "metadata": {},
   "source": [
    "## 43. Multiply String (String. Math, Dic) (Facebook 8, Google 5, Microsoft Onsite 5, Apple 3)"
   ]
  },
  {
   "cell_type": "code",
   "execution_count": null,
   "metadata": {},
   "outputs": [],
   "source": [
    "# O(N)\n",
    "# O(N)\n",
    "class Solution:\n",
    "    def multiply(self, num1, num2):\n",
    "        \"\"\"\n",
    "        :type num1: str\n",
    "        :type num2: str\n",
    "        :rtype: str\n",
    "        \"\"\"\n",
    "        dic = {'0':0,\n",
    "              '1':1,\n",
    "              '2':2,\n",
    "              '3':3,\n",
    "              '4':4,\n",
    "              '5':5,\n",
    "              '6':6,\n",
    "              '7':7,\n",
    "              '8':8,\n",
    "              '9':9}\n",
    "        \n",
    "        x1 = 0\n",
    "        for n in num1:\n",
    "            x1 = x1 * 10 + dic[n]\n",
    "            \n",
    "        \n",
    "        x2 = 0\n",
    "        for n in num2:\n",
    "            x2 = x2 * 10 + dic[n]\n",
    "            \n",
    "        res = x1 * x2\n",
    "        if not res:\n",
    "            return '0'\n",
    "        \n",
    "        ans = ''\n",
    "        while res:\n",
    "            \n",
    "            for k, v in dic.items():\n",
    "                if v == res % 10:\n",
    "                    ans += k\n",
    "        \n",
    "            res //= 10\n",
    "            \n",
    "        return ans[::-1]"
   ]
  },
  {
   "cell_type": "code",
   "execution_count": 39,
   "metadata": {},
   "outputs": [
    {
     "data": {
      "text/plain": [
       "'2583'"
      ]
     },
     "execution_count": 39,
     "metadata": {},
     "output_type": "execute_result"
    }
   ],
   "source": [
    "class Solution(object):\n",
    "    def multiply(self, num1, num2):\n",
    "        \"\"\"\n",
    "        :type num1: str\n",
    "        :type num2: str\n",
    "        :rtype: str\n",
    "        \"\"\"\n",
    "        res = [0] * (len(num1) + len(num2))\n",
    "        for i in range(len(num1)-1, -1, -1):\n",
    "            carry = 0\n",
    "            for j in range(len(num2)-1, -1, -1):\n",
    "                tmp = int(num1[i])*int(num2[j])+carry \n",
    "                # take care of the order of the next two lines\n",
    "                carry = (res[i+j+1] + tmp) // 10  \n",
    "                res[i+j+1] = (res[i+j+1] + tmp) % 10\n",
    "                # or simply: carry, res[i+j+1] = divmod((res[i+j+1] + tmp), 10)\n",
    "            res[i] += carry\n",
    "        res = \"\".join(map(str, res))\n",
    "        return '0' if not res.lstrip(\"0\") else res.lstrip(\"0\")\n",
    "    \n",
    "num1 = '123'\n",
    "num2 = '21'\n",
    "\n",
    "s = Solution()\n",
    "s.multiply(num2, num1)"
   ]
  },
  {
   "cell_type": "code",
   "execution_count": null,
   "metadata": {},
   "outputs": [],
   "source": [
    "class Solution:\n",
    "    def multiply(self, num1, num2):\n",
    "        \"\"\"\n",
    "        :type num1: str\n",
    "        :type num2: str\n",
    "        :rtype: str\n",
    "        \"\"\"\n",
    "        def str2int(num):\n",
    "            res = 0\n",
    "            for i in range(len(num)-1, -1, -1):\n",
    "                res += int(num[i]) * pow(10, len(num)-1-i)\n",
    "            return res\n",
    "        return str(str2int(num1) * str2int(num2))"
   ]
  },
  {
   "cell_type": "code",
   "execution_count": null,
   "metadata": {},
   "outputs": [],
   "source": [
    "def str2int(num):\n",
    "            res = 0\n",
    "            for i in range(len(num)-1, -1, -1):\n",
    "                res += int(num[i]) * pow(10, len(num)-1-i)\n",
    "            return res\n",
    "        \n",
    "str2int('34')"
   ]
  },
  {
   "cell_type": "markdown",
   "metadata": {},
   "source": [
    "Linked List"
   ]
  },
  {
   "cell_type": "markdown",
   "metadata": {},
   "source": [
    "### Greedy"
   ]
  },
  {
   "cell_type": "markdown",
   "metadata": {},
   "source": [
    "## Largest Integer (Microsoft OA)"
   ]
  },
  {
   "cell_type": "code",
   "execution_count": 64,
   "metadata": {},
   "outputs": [
    {
     "data": {
      "text/plain": [
       "0"
      ]
     },
     "execution_count": 64,
     "metadata": {},
     "output_type": "execute_result"
    }
   ],
   "source": [
    "def solution(array):\n",
    "    res = 0\n",
    "    set1 = set(array)\n",
    "    for n in array:\n",
    "        if -n in set1:\n",
    "            res = max(res, abs(n))\n",
    "            \n",
    "    return res\n",
    "\n",
    "a = [3, 2, -2, 5, -3]\n",
    "b = [1, 2, 3, 0, -4]\n",
    "solution(b)"
   ]
  },
  {
   "cell_type": "markdown",
   "metadata": {},
   "source": [
    "## Numbers With Equal Digit Sum (List. Dic, Greedy) (Microsoft OA)"
   ]
  },
  {
   "cell_type": "code",
   "execution_count": 91,
   "metadata": {},
   "outputs": [],
   "source": [
    "def largest_digit_sum(arr):\n",
    "    def find_digit_sum(num):\n",
    "        val = 0\n",
    "        while num:\n",
    "            val += num % 10\n",
    "            num //= 10\n",
    "            \n",
    "        return val\n",
    "    \n",
    "    dic = {}\n",
    "    res = -1\n",
    "    for num in arr:\n",
    "        sums = find_digit_sum(num)\n",
    "        \n",
    "        if sums in dic:\n",
    "            previous = dic[sums]\n",
    "            dic[sums] = max(previous, num)\n",
    "            res = max(res, previous + num)\n",
    "            \n",
    "        else:\n",
    "            dic[sums] = num\n",
    "            \n",
    "    return res"
   ]
  },
  {
   "cell_type": "code",
   "execution_count": 92,
   "metadata": {},
   "outputs": [
    {
     "data": {
      "text/plain": [
       "93"
      ]
     },
     "execution_count": 92,
     "metadata": {},
     "output_type": "execute_result"
    }
   ],
   "source": [
    "array = [51, 71, 17, 42]  # 93\n",
    "largest_digit_sum(array)"
   ]
  },
  {
   "cell_type": "markdown",
   "metadata": {},
   "source": [
    "## 1239. Maximum Length of a Concatenated String with Unique Characters (Microsoft OA)"
   ]
  },
  {
   "cell_type": "code",
   "execution_count": null,
   "metadata": {},
   "outputs": [],
   "source": [
    "def solution(s):\n",
    "    arr = [s for s in arr if len(s) == len(set(s))]\n",
    "    if not arr:\n",
    "        return 0\n",
    "\n",
    "    arr.sort(key=len, reverse=True)\n",
    "    print(arr)\n",
    "    res = 0\n",
    "\n",
    "    for i in range(len(arr)):\n",
    "        tmp = arr[i]\n",
    "        for j in range(len(arr)):\n",
    "            if not set(tmp) & set(arr[j]):\n",
    "                tmp += arr[j]\n",
    "        res = max(res, len(tmp))\n",
    "\n",
    "    return res"
   ]
  },
  {
   "cell_type": "code",
   "execution_count": null,
   "metadata": {},
   "outputs": [],
   "source": [
    "def solution(s):\n",
    "    array = []\n",
    "    for s in arr:\n",
    "        if len(s) == len(set(s)):\n",
    "            array.append(s)"
   ]
  },
  {
   "cell_type": "markdown",
   "metadata": {},
   "source": [
    "## Widest Path Without Trees (Microsoft OA)"
   ]
  },
  {
   "cell_type": "code",
   "execution_count": null,
   "metadata": {},
   "outputs": [],
   "source": [
    "def solution(x, y):\n",
    "    widest = 0\n",
    "    x.sort()\n",
    "    \n",
    "    for i in range(len(x)-1):\n",
    "        widest = max(widest, x[i+1] - x[i])\n",
    "        \n",
    "    return widest"
   ]
  },
  {
   "cell_type": "markdown",
   "metadata": {},
   "source": [
    "## 1007. Minimum Domino Rotations For Equal Row (Google OA)"
   ]
  },
  {
   "cell_type": "code",
   "execution_count": null,
   "metadata": {},
   "outputs": [],
   "source": [
    "class Solution:\n",
    "    def minDominoRotations(self, A: List[int], B: List[int]) -> int:\n",
    "        def qualified_domino(num):\n",
    "            for i in range(len(A)):\n",
    "                if A[i] != num and B[i] != num:\n",
    "                    return False\n",
    "            return True\n",
    "        \n",
    "        if not qualified_domino(A[0]) and not qualified_domino(B[0]):\n",
    "            return -1\n",
    "            \n",
    "        if qualified_domino(A[0]):\n",
    "            return min(len(A)-A.count(A[0]), len(B)-B.count(A[0]))\n",
    "            \n",
    "        if qualified_domino(B[0]):\n",
    "            return min(len(A)-A.count(B[0]), len(B)-B.count(B[0]))"
   ]
  },
  {
   "cell_type": "markdown",
   "metadata": {},
   "source": [
    "## Whac a Mole (Google Phone)\n",
    "https://leetcode.com/discuss/interview-question/350139/Google-or-Phone-Screen-or-Whac-A-Mole "
   ]
  },
  {
   "cell_type": "code",
   "execution_count": null,
   "metadata": {},
   "outputs": [],
   "source": [
    "class Solution:\n",
    "    def mallet(self, holes,w):\n",
    "        \"\"\"\n",
    "        :type rowIndex: int\n",
    "        :rtype: List[int]\n",
    "        \"\"\"\n",
    "        if not (holes and w):\n",
    "            return 0\n",
    "        \n",
    "        if len(holes) < w:\n",
    "            return 0\n",
    "        \n",
    "        result = 0\n",
    "        for i in range(w):\n",
    "            result += holes[i]\n",
    "         \n",
    "        curr_sum = result  #update\n",
    "        for j in range(w,len(holes)): #update\n",
    "            curr_sum += holes[j] - holes[j-w]  #update\n",
    "            result = max(result,curr_sum)\n",
    "\n",
    "        return result"
   ]
  },
  {
   "cell_type": "code",
   "execution_count": null,
   "metadata": {},
   "outputs": [],
   "source": [
    "s = Solution()\n",
    "s.mallet([0, 1, 1, 0, 1, 1, 0, 1, 0, 0, 0], 5)"
   ]
  },
  {
   "cell_type": "markdown",
   "metadata": {},
   "source": [
    "## 243. Shortest Word Distance (Amazon 2)"
   ]
  },
  {
   "cell_type": "code",
   "execution_count": null,
   "metadata": {},
   "outputs": [],
   "source": [
    "class Solution(object):\n",
    "    def shortestDistance(self, words, word1, word2):\n",
    "        \"\"\"\n",
    "        :type words: List[str]\n",
    "        :type word1: str\n",
    "        :type word2: str\n",
    "        :rtype: int\n",
    "        \"\"\"\n",
    "        i1 = -1\n",
    "        i2 = -1\n",
    "        minDistance = len(words)\n",
    "        \n",
    "        for i in range(len(words)):\n",
    "            if words[i] == word1:\n",
    "                i1 = i\n",
    "                \n",
    "            elif words[i] == word2:\n",
    "                i2 = i\n",
    "                \n",
    "            if i1 != -1 and i2 != -1:\n",
    "                minDistance = min(minDistance, abs(i1 - i2))\n",
    "                \n",
    "        return minDistance"
   ]
  },
  {
   "cell_type": "markdown",
   "metadata": {},
   "source": [
    "## 55. Jump Game (List) (Amazon 10, Google 6, Microsoft OA Phone)\n",
    "O(N)  \n",
    "O(1)"
   ]
  },
  {
   "cell_type": "code",
   "execution_count": null,
   "metadata": {},
   "outputs": [],
   "source": [
    "class Solution:\n",
    "    def canJump(self, nums):\n",
    "        \"\"\"\n",
    "        :type nums: List[int]\n",
    "        :rtype: bool\n",
    "        \"\"\"\n",
    "        \n",
    "        if len(nums) <= 1:\n",
    "            return True\n",
    "\n",
    "        # max position one could reach \n",
    "        # starting from index <= i\n",
    "        max_pos = nums[0]\n",
    "        \n",
    "        for i in range(len(nums)):\n",
    "            nxt = i + nums[i]\n",
    "            \n",
    "            if nxt >= len(nums) - 1:\n",
    "                return True        \n",
    "        \n",
    "            if i == nxt and nxt == max_pos:\n",
    "                return False\n",
    "\n",
    "            max_pos = max(max_pos, nxt)\n",
    "            \n",
    "        return True"
   ]
  },
  {
   "cell_type": "code",
   "execution_count": null,
   "metadata": {},
   "outputs": [],
   "source": [
    "class Solution:\n",
    "    def canJump(self, nums):\n",
    "        \"\"\"\n",
    "        :type nums: List[int]\n",
    "        :rtype: bool\n",
    "        \"\"\" \n",
    "        if len(nums) <= 1:\n",
    "            return True\n",
    "\n",
    "        # max position one could reach \n",
    "        # starting from index <= i\n",
    "        max_pos = nums[0]\n",
    "        \n",
    "        for i in range(1, len(nums)):\n",
    "            # if one could't reach this point\n",
    "            if max_pos < i:\n",
    "                return False\n",
    "            \n",
    "            max_pos = max(max_pos, nums[i] + i)\n",
    "\n",
    "        return True"
   ]
  },
  {
   "cell_type": "code",
   "execution_count": null,
   "metadata": {},
   "outputs": [],
   "source": [
    "class Solution:\n",
    "    def canJump(self, nums):\n",
    "        m = 0\n",
    "        for i, n in enumerate(nums):\n",
    "#             print('i=',i,'n=',n) \n",
    "            if i > m:\n",
    "                return False\n",
    "            m = max(m, i+n)\n",
    "#             print('m=',m)\n",
    "        return True"
   ]
  },
  {
   "cell_type": "code",
   "execution_count": null,
   "metadata": {},
   "outputs": [],
   "source": [
    "class Solution:\n",
    "    def canJump(self, nums):\n",
    "        \"\"\"\n",
    "        :type nums: List[int]\n",
    "        :rtype: bool\n",
    "        \"\"\" \n",
    "        if len(nums) <= 1:\n",
    "            return True\n",
    "        \n",
    "        max_jump = float('-inf')\n",
    "        for i, n in enumerate(nums):\n",
    "            max_jump = max(max_jump-1, n)\n",
    "            \n",
    "            if max_jump + i >= len(nums) - 1:\n",
    "                return True\n",
    "            if max_jump == 0:\n",
    "                return False"
   ]
  },
  {
   "cell_type": "code",
   "execution_count": null,
   "metadata": {},
   "outputs": [],
   "source": [
    "s = Solution()\n",
    "nums = [2,3,1,1,4]\n",
    "s.canJump(nums)"
   ]
  },
  {
   "cell_type": "code",
   "execution_count": null,
   "metadata": {},
   "outputs": [],
   "source": [
    "s = Solution()\n",
    "nums = [3,2,1,0,4]\n",
    "s.canJump(nums)"
   ]
  },
  {
   "cell_type": "markdown",
   "metadata": {},
   "source": [
    "## 45. Jump Game II (List) (Amazon 10-> 5, Microsoft 3, Google 2->4)\n",
    "O(N)   \n",
    "O(1)"
   ]
  },
  {
   "cell_type": "code",
   "execution_count": null,
   "metadata": {},
   "outputs": [],
   "source": [
    "class Solution:\n",
    "    def jump(self, nums):\n",
    "        \"\"\"\n",
    "        :type nums: List[int]\n",
    "        :rtype: int\n",
    "        \"\"\"\n",
    "\n",
    "        if len(nums) <= 1:\n",
    "            return 0 \n",
    "        \n",
    "        # max position one could reach \n",
    "        # starting from index <= i \n",
    "        max_pos = nums[0]\n",
    "        # max number of steps one could do\n",
    "        # inside this jump\n",
    "        max_steps = nums[0]\n",
    "        \n",
    "        jumps = 1\n",
    "        for i in range(1, len(nums)):\n",
    "            # if to reach this point \n",
    "            # one needs one more jump\n",
    "            if max_steps < i:\n",
    "                jumps += 1\n",
    "                max_steps = max_pos\n",
    "            max_pos = max(max_pos, nums[i] + i)\n",
    "                \n",
    "        return jumps"
   ]
  },
  {
   "cell_type": "code",
   "execution_count": null,
   "metadata": {},
   "outputs": [],
   "source": [
    "class Solution:\n",
    "    def jump(self, nums):\n",
    "        \"\"\"\n",
    "        :type nums: List[int]\n",
    "        :rtype: int\n",
    "        \"\"\"\n",
    "        cur_end = 0\n",
    "        cur_farthest = 0\n",
    "        res = 0\n",
    "        for i in range(len(nums)-1):\n",
    "            cur_farthest = max(cur_farthest, i + nums[i])\n",
    "            if cur_farthest >= len(nums) - 1:\n",
    "                res += 1\n",
    "                return res\n",
    "            if i == cur_end:\n",
    "                cur_end = cur_farthest\n",
    "                res += 1\n",
    "        return res"
   ]
  },
  {
   "cell_type": "markdown",
   "metadata": {},
   "source": [
    "## 121. Best Time to Buy and Sell Stock (List) (Amazon Onsite 26, Microsoft 6->10, Facebook 5->20)\n",
    "O(N)  \n",
    "O(1)"
   ]
  },
  {
   "cell_type": "code",
   "execution_count": null,
   "metadata": {},
   "outputs": [],
   "source": [
    "class Solution:\n",
    "    def maxProfit(self, prices):\n",
    "        \"\"\"\n",
    "        :type prices: List[int]\n",
    "        :rtype: int\n",
    "        \"\"\"\n",
    "        \n",
    "        min_price = float('inf')\n",
    "        max_profit = float('-inf')\n",
    "        \n",
    "        for price in prices:\n",
    "            min_price = min(min_price, price)\n",
    "            max_profit = max(max_profit, price - min_price)\n",
    "            \n",
    "        return max_profit"
   ]
  },
  {
   "cell_type": "markdown",
   "metadata": {},
   "source": [
    "## 122. Best Time to Buy and Sell Stock II (List) (Amazon 11, Microsof 3, Facebook 3, Google 5->2)  \n",
    "O(N)  \n",
    "O(1)"
   ]
  },
  {
   "cell_type": "code",
   "execution_count": null,
   "metadata": {},
   "outputs": [],
   "source": [
    "class Solution:\n",
    "    def maxProfit(self, prices):\n",
    "        \"\"\"\n",
    "        :type prices: List[int]\n",
    "        :rtype: int\n",
    "        \"\"\"\n",
    "        maxprofit = 0\n",
    "        for i in range(1, len(prices)):\n",
    "            if prices[i] > prices[i-1]:\n",
    "                maxprofit += prices[i] - prices[i-1]\n",
    "                \n",
    "        return maxprofit"
   ]
  },
  {
   "cell_type": "markdown",
   "metadata": {},
   "source": [
    "## 674. Longest Continuous Increasing Subsequence (List) (Facebook 7)\n",
    "O(N)  \n",
    "O(1)"
   ]
  },
  {
   "cell_type": "code",
   "execution_count": null,
   "metadata": {},
   "outputs": [],
   "source": [
    "class Solution():\n",
    "    def findLengthOfLCIS(self, nums):\n",
    "        \"\"\"\n",
    "        :type nums: List[int]\n",
    "        :rtype: int\n",
    "        \"\"\"\n",
    "        if not nums:\n",
    "            return 0\n",
    "        if len(nums) == 1:\n",
    "            return 1\n",
    "        \n",
    "        ans = 0\n",
    "        anchor = 0\n",
    "        for i in range(1, len(nums)):\n",
    "            if nums[i-1] >= nums[i]: \n",
    "                anchor = i\n",
    "                \n",
    "            ans = max(ans, i - anchor + 1)\n",
    "\n",
    "        return ans"
   ]
  },
  {
   "cell_type": "markdown",
   "metadata": {},
   "source": [
    "## (4) 56. Merge Intervals (Lists) (Facebook 29, Microsoft 12, Amazon 10, Google 13)\n",
    "\n",
    "O(nlogn)  \n",
    "O(n)"
   ]
  },
  {
   "cell_type": "code",
   "execution_count": null,
   "metadata": {},
   "outputs": [],
   "source": [
    "class Solution:\n",
    "    def merge(self, lists):\n",
    "        \"\"\"\n",
    "        :type intervals: List[List[int]]\n",
    "        :rtype: List[List[int]]\n",
    "        \"\"\"\n",
    "        if not lists:\n",
    "            return \n",
    "        \n",
    "        lists.sort()\n",
    "        res = [lists.pop(0)]\n",
    "#         print('new =', new)\n",
    "        \n",
    "        for n in lists:\n",
    "#             print('i =', i)\n",
    "            if res[-1][-1] >= n[0]:\n",
    "                res[-1][-1] = max(res[-1][-1], n[-1])\n",
    "#                 print('res1 =', res)\n",
    "            else:\n",
    "                res.append(n)\n",
    "#                 print('res2 =', res)\n",
    "#             print()\n",
    "        return res"
   ]
  },
  {
   "cell_type": "code",
   "execution_count": null,
   "metadata": {},
   "outputs": [],
   "source": [
    "class Solution:\n",
    "    def merge(self, lists):\n",
    "        \"\"\"\n",
    "        :type intervals: List[List[int]]\n",
    "        :rtype: List[List[int]]\n",
    "        \"\"\"\n",
    "        \n",
    "        lists.sort()\n",
    "#         print('new =', new)\n",
    "        res = []\n",
    "        for n in lists:\n",
    "#             print('i =', i)\n",
    "            if res and n[0] <= res[-1][-1]:\n",
    "                res[-1][-1] = max(res[-1][-1], n[-1])\n",
    "#                 print('res1 =', res)\n",
    "            else:\n",
    "                res.append(n)\n",
    "#                 print('res2 =', res)\n",
    "#             print()\n",
    "        return res"
   ]
  },
  {
   "cell_type": "code",
   "execution_count": null,
   "metadata": {},
   "outputs": [],
   "source": [
    "s = Solution()\n",
    "s.merge([[1,3],[2,6],[8,10],[15,18]])"
   ]
  },
  {
   "cell_type": "code",
   "execution_count": 4,
   "metadata": {},
   "outputs": [
    {
     "data": {
      "text/plain": [
       "[1]"
      ]
     },
     "execution_count": 4,
     "metadata": {},
     "output_type": "execute_result"
    }
   ],
   "source": [
    "a = [1,2,3]\n",
    "a[:-2]"
   ]
  },
  {
   "cell_type": "markdown",
   "metadata": {},
   "source": [
    "## 57. Insert Interval (Lists) (Amazon 11->2, Google 7, Facebbook 4) (Hard)"
   ]
  },
  {
   "cell_type": "code",
   "execution_count": null,
   "metadata": {},
   "outputs": [],
   "source": [
    "class Solution:\n",
    "    def insert(self, lists, newInterval):\n",
    "        \"\"\"\n",
    "        :type intervals: List[List[int]]\n",
    "        :type newInterval: List[int]\n",
    "        :rtype: List[List[int]]\n",
    "        \"\"\"\n",
    "        if not lists:\n",
    "            return [newInterval]\n",
    "        \n",
    "        for i in range(len(lists)):\n",
    "            if lists[i][0] > newInterval[0]:\n",
    "                lists.insert(i, newInterval)\n",
    "                break\n",
    "                \n",
    "            lists.append(newInterval)            \n",
    "            \n",
    "        res = [lists.pop(0)]\n",
    "        for n in lists:\n",
    "            if res[-1][-1] >= n[0]:\n",
    "                res[-1][-1] = max(res[-1][-1], n[-1])\n",
    "            else:\n",
    "                res.append(n)\n",
    "        return res"
   ]
  },
  {
   "cell_type": "code",
   "execution_count": null,
   "metadata": {},
   "outputs": [],
   "source": [
    "class Solution:\n",
    "    def insert(self, intervals, newInterval):\n",
    "        \"\"\"\n",
    "        :type intervals: List[List[int]]\n",
    "        :type newInterval: List[int]\n",
    "        :rtype: List[List[int]]\n",
    "        \"\"\"\n",
    "        start, end = newInterval[0], newInterval[-1]\n",
    "        left = [i for i in intervals if i[-1] < start]\n",
    "#         print('left=', left)\n",
    "        right = [i for i in intervals if i[0] > end]\n",
    "#         print('right=', right)\n",
    "        if left + right != intervals:\n",
    "            start = min(start, intervals[len(left)][0])\n",
    "#             print('s=', s)\n",
    "            end = max(end, intervals[~len(right)][-1])\n",
    "#             print('e=', e)\n",
    "#             print(intervals[~len(right)][-1])\n",
    "            \n",
    "        return left + [[start, end]] + right"
   ]
  },
  {
   "cell_type": "code",
   "execution_count": null,
   "metadata": {},
   "outputs": [],
   "source": [
    "intervals = [[1,3],[6,9]]\n",
    "newInterval = [2, 5]\n",
    "s = Solution()\n",
    "s.insert(intervals, newInterval)"
   ]
  },
  {
   "cell_type": "code",
   "execution_count": null,
   "metadata": {},
   "outputs": [],
   "source": [
    "~1"
   ]
  },
  {
   "cell_type": "code",
   "execution_count": null,
   "metadata": {},
   "outputs": [],
   "source": [
    "def insert(self, intervals, newInterval):\n",
    "    s, e = newInterval.start, newInterval.end\n",
    "    left, right = [], []\n",
    "    for i in intervals:\n",
    "        if i.end < s:\n",
    "            left += i,\n",
    "        elif i.start > e:\n",
    "            right += i,\n",
    "        else:\n",
    "            s = min(s, i.start)\n",
    "            e = max(e, i.end)\n",
    "    return left + [Interval(s, e)] + right"
   ]
  },
  {
   "cell_type": "markdown",
   "metadata": {},
   "source": [
    "### Stack"
   ]
  },
  {
   "cell_type": "markdown",
   "metadata": {},
   "source": [
    "## 844. Backspace String Compare (String. Stack) (Google 10 Phone, Facebook 8, Amazon 5, Microsoft 3)\n",
    "\n",
    "O(m+n)  \n",
    "O(m+n)"
   ]
  },
  {
   "cell_type": "code",
   "execution_count": null,
   "metadata": {},
   "outputs": [],
   "source": [
    "class Solution:\n",
    "    def backspaceCompare(self, S: str, T: str) -> bool:\n",
    "        stack_s = []\n",
    "        stack_t = []\n",
    "        \n",
    "\n",
    "        for c in S:\n",
    "            if c == '#':\n",
    "                if stack_s:\n",
    "                    stack_s.pop()\n",
    "                    \n",
    "            else:\n",
    "                stack_s.append(c)\n",
    "                \n",
    "        for c in T:\n",
    "            if c == '#':\n",
    "                if stack_t:\n",
    "                    stack_t.pop()\n",
    "                    \n",
    "            else:\n",
    "                stack_t.append(c)\n",
    "                \n",
    "        return stack_s == stack_t"
   ]
  },
  {
   "cell_type": "code",
   "execution_count": null,
   "metadata": {},
   "outputs": [],
   "source": [
    "class Solution:\n",
    "    def backspaceCompare(self, S, T):\n",
    "        \"\"\"\n",
    "        :type S: str\n",
    "        :type T: str\n",
    "        :rtype: bool\n",
    "        \"\"\"\n",
    "        \n",
    "        def build(S):\n",
    "            ans = []\n",
    "            \n",
    "            for c in S:\n",
    "                if c != '#':\n",
    "                    ans.append(c)\n",
    "                    \n",
    "                elif c == '#' and ans:\n",
    "                    ans.pop()\n",
    "            return ans\n",
    "        \n",
    "        return build(S) == build(T)"
   ]
  },
  {
   "cell_type": "markdown",
   "metadata": {},
   "source": [
    "对两个字符串从右往左遍历，用子方程getChar() 从两个字符串分别取值，如取值不等则返回False，相等就继续迭代，知道迭代技术返回True  \n",
    "\n",
    "子方程getChar()的取值规则：\n",
    "While循环退出条件：下标出界或者返回值不为空。  \n",
    "Case 1: 当值等于`#`, `count`增值  \n",
    "Case 2: 如果`count == 0` 说明这个值没有被`#`给抵消，返回  \n",
    "Case 3: 如果`count != 0` 切这个值不为`#`，这个值要被`#`抵消掉  \n",
    "三个Case运行完后，记得锁紧下标`r`  "
   ]
  },
  {
   "cell_type": "code",
   "execution_count": null,
   "metadata": {},
   "outputs": [],
   "source": [
    "S = \"ab#c\", T = \"ad#c\""
   ]
  },
  {
   "cell_type": "code",
   "execution_count": null,
   "metadata": {},
   "outputs": [],
   "source": [
    "# O(m+n)\n",
    "# O(1)\n",
    "class Solution:\n",
    "    def backspaceCompare(self, S1, S2):\n",
    "        r1 = len(S1) - 1 \n",
    "        r2 = len (S2) - 1\n",
    "        \n",
    "        while r1 >= 0 or r2 >= 0:            \n",
    "            char1, count = '', 0\n",
    "            while r1 >= 0 and not char1:\n",
    "                if S1[r1] != '#':\n",
    "                    if count == 0:\n",
    "                        char1 = S1[r1]\n",
    "                    else:\n",
    "                        count -= 1\n",
    "                \n",
    "                elif S1[r1] == '#':\n",
    "                    count += 1\n",
    "                \n",
    "                r1 -= 1\n",
    "\n",
    "            char2, count = '', 0\n",
    "            while r2 >= 0 and not char2:\n",
    "                if S2[r2] != '#':\n",
    "                    if count == 0:\n",
    "                        char2 = S2[r2]\n",
    "                    else:\n",
    "                        count -= 1       \n",
    "                elif S2[r2] == '#':\n",
    "                    count += 1\n",
    "                    \n",
    "                r2 -= 1\n",
    "               \n",
    "            if char1 != char2:\n",
    "                return False\n",
    "        return True"
   ]
  },
  {
   "cell_type": "markdown",
   "metadata": {},
   "source": [
    "## (3) 917. Reverse Only Letters (Sring. Stack) (Microsoft 3)\n"
   ]
  },
  {
   "cell_type": "code",
   "execution_count": null,
   "metadata": {},
   "outputs": [],
   "source": [
    "class Solution:\n",
    "    def reverseOnlyLetters(self, S):\n",
    "        \"\"\"\n",
    "        :type S: str\n",
    "        :rtype: str\n",
    "        \"\"\"\n",
    "        \n",
    "        stack = []\n",
    "        for s in S:\n",
    "            if s.isalpha():\n",
    "                stack.append(s)\n",
    "        res = ''    \n",
    "        for s in S:\n",
    "            if s.isalpha():\n",
    "                res += stack.pop()\n",
    "            else:\n",
    "                res += s\n",
    "                \n",
    "        return res"
   ]
  },
  {
   "cell_type": "markdown",
   "metadata": {},
   "source": [
    "## (3) 20. Valid Parentheses (String. Stack) (Amazon 39, Microsoft 12, Facebook 11, Google 7, Apple 6, Linkedin 4)\n",
    "\n",
    "O(N)  \n",
    "O(N)  \n",
    "因为一共只有三种状况\"(\" -> \")\", \"[\" -> \"]\", \"{\" -> \"}\".\n",
    "\n",
    "一遇到左括号就入栈，右括号出栈，这样来寻找对应\n",
    "\n",
    "需要检查几件事：\n",
    "\n",
    "出现右括号时stack里还有没有东西\n",
    "出stack时是否对应\n",
    "最终stack是否为空"
   ]
  },
  {
   "cell_type": "code",
   "execution_count": null,
   "metadata": {},
   "outputs": [],
   "source": [
    "class Solution:\n",
    "    def isValid(self, s):\n",
    "        \"\"\"\n",
    "        :type s: str\n",
    "        :rtype: bool\n",
    "        \"\"\"\n",
    "        \n",
    "        leftP = '([{'\n",
    "        rightP = ')]}'\n",
    "        stack = []\n",
    "        for char in s:\n",
    "            if char in leftP:\n",
    "                stack.append(char)\n",
    "            if char in rightP:\n",
    "                if not stack:\n",
    "                    return False\n",
    "                tmp = stack.pop()\n",
    "                if char == ')' and tmp != '(':\n",
    "                    return False\n",
    "                if char == ']' and tmp != '[':\n",
    "                    return False       \n",
    "                if char == '}' and tmp != '{':\n",
    "                    return False\n",
    "        return not stack"
   ]
  },
  {
   "cell_type": "code",
   "execution_count": null,
   "metadata": {},
   "outputs": [],
   "source": [
    "class Solution:\n",
    "    def isValid(self, s):\n",
    "        \"\"\"\n",
    "        :type s: str\n",
    "        :rtype: bool\n",
    "        \"\"\"\n",
    "        dic = {')':'(',\n",
    "               ']':'[',\n",
    "               '}':'{'\n",
    "              }\n",
    "        \n",
    "        stack = []\n",
    "        for c in s:\n",
    "            if c in dic:\n",
    "                if stack and dic[c] == stack[-1]:\n",
    "                    stack.pop() \n",
    "                else:\n",
    "                    return False\n",
    "                \n",
    "            else:                \n",
    "                stack.append(c)\n",
    "                \n",
    "        return not stack"
   ]
  },
  {
   "cell_type": "code",
   "execution_count": null,
   "metadata": {},
   "outputs": [],
   "source": [
    "stack = []\n",
    "stack.pop()"
   ]
  },
  {
   "cell_type": "code",
   "execution_count": null,
   "metadata": {},
   "outputs": [],
   "source": [
    "class Solution:\n",
    "    def isValid(self, s):\n",
    "        \"\"\"\n",
    "        :type s: str\n",
    "        :rtype: bool\n",
    "        x\"\"\"\n",
    "        # The stack to keep track of opening brackets.\n",
    "        stack = []\n",
    "\n",
    "        # Hash map for keeping track of mappings. This keeps the code very clean.\n",
    "        # Also makes adding more types of parenthesis easier\n",
    "        dic = {\")\": \"(\", \n",
    "               \"}\": \"{\", \n",
    "               \"]\": \"[\"}\n",
    "\n",
    "        # For every bracket in the expression.\n",
    "        for c in s:\n",
    "\n",
    "            # If the character is an closing bracket\n",
    "            if c in dic:\n",
    "\n",
    "                # Pop the topmost element from the stack, if it is non empty\n",
    "                # Otherwise assign a dummy value of '#' to the top_element variable\n",
    "                top = stack.pop() if stack else '#'\n",
    "\n",
    "                # The mapping for the opening bracket in our hash and the top\n",
    "                # element of the stack don't match, return False\n",
    "                if dic[c] != top:\n",
    "                    return False\n",
    "            else:\n",
    "                # We have an opening bracket, simply push it onto the stack.\n",
    "                stack.append(c)\n",
    "\n",
    "        # In the end, if the stack is empty, then we have a valid expression.\n",
    "        # The stack won't be empty for cases like ((()\n",
    "        return not stack"
   ]
  },
  {
   "cell_type": "code",
   "execution_count": null,
   "metadata": {},
   "outputs": [],
   "source": [
    "#O(N^2)\n",
    "class Solution(object):\n",
    "    def isValid(self, s):\n",
    "        while \"()\" in s or \"{}\" in s or '[]' in s:\n",
    "            s = s.replace(\"()\", \"\").replace('{}', \"\").replace('[]', \"\")\n",
    "        return s == ''"
   ]
  },
  {
   "cell_type": "code",
   "execution_count": null,
   "metadata": {},
   "outputs": [],
   "source": [
    "s = 'sh'\n",
    "s = s.replace('sh', '')\n",
    "s\n"
   ]
  },
  {
   "cell_type": "markdown",
   "metadata": {},
   "source": [
    "## 32 Longest Valid Parenthesis (Facebook 7, Amazon 6, Microsoft 5)"
   ]
  },
  {
   "cell_type": "code",
   "execution_count": 1,
   "metadata": {},
   "outputs": [],
   "source": [
    "class Solution:\n",
    "    def longestValidParentheses(self, s):\n",
    "        \"\"\"\n",
    "        :type s: str\n",
    "        :rtype: int\n",
    "        \"\"\"\n",
    "        \n",
    "        stack = []\n",
    "        maxlen = 0        \n",
    "        stack.append(-1)\n",
    "        \n",
    "        for i in range(len(s)):\n",
    "            if s[i] == '(':\n",
    "                stack.append(i)\n",
    "                \n",
    "            else:\n",
    "                stack.pop()\n",
    "                if not stack:\n",
    "                    stack.append(i)\n",
    "                    \n",
    "                else:\n",
    "                    maxlen = max(maxlen, i - stack[-1])\n",
    "        \n",
    "        return maxlen"
   ]
  },
  {
   "cell_type": "code",
   "execution_count": 2,
   "metadata": {},
   "outputs": [
    {
     "data": {
      "text/plain": [
       "2"
      ]
     },
     "execution_count": 2,
     "metadata": {},
     "output_type": "execute_result"
    }
   ],
   "source": [
    "s = Solution()\n",
    "s.longestValidParentheses('()')"
   ]
  },
  {
   "cell_type": "code",
   "execution_count": null,
   "metadata": {},
   "outputs": [],
   "source": [
    "class Solution:\n",
    "    def longestValidParentheses(self, s: str) -> int:\n",
    "        l = 0\n",
    "        r = 0\n",
    "        maxlen = 0\n",
    "        \n",
    "        for i in range(len(s)):\n",
    "            if s[i] == '(':\n",
    "                l += 1\n",
    "                \n",
    "            else:\n",
    "                r += 1\n",
    "                \n",
    "            if l == r:\n",
    "                maxlen = max(maxlen, 2 * r)\n",
    "                \n",
    "            elif r >= l:\n",
    "                l = r = 0\n",
    "                \n",
    "        l = r = 0\n",
    "        \n",
    "        for i in range(len(s) - 1, -1, -1):\n",
    "            if s[i] == '(':\n",
    "                l += 1\n",
    "                \n",
    "            else:\n",
    "                r += 1\n",
    "                \n",
    "            if l == r:\n",
    "                maxlen = (max(maxlen, 2 * l))\n",
    "                \n",
    "            elif l >= r:\n",
    "                l = r = 0\n",
    "                \n",
    "        return maxlen"
   ]
  },
  {
   "cell_type": "markdown",
   "metadata": {},
   "source": [
    "## 71. Simplify Path (String. Stack) (Facebook 12, Amazon 5, Microsoft 3)"
   ]
  },
  {
   "cell_type": "code",
   "execution_count": 4,
   "metadata": {},
   "outputs": [],
   "source": [
    "class Solution:\n",
    "    def simplifyPath(self, path):\n",
    "        \"\"\"\n",
    "        :type path: str\n",
    "        :rtype: str\n",
    "        \"\"\"\n",
    "        \n",
    "        stack = []\n",
    "        for part in path.split(\"/\"):\n",
    "            if part and part != \".\": # 如果为空或者 \".\" 则忽略\n",
    "                if part == \"..\":\n",
    "                    if stack:\n",
    "                        stack.pop()\n",
    "                else:\n",
    "                    stack.append(part)\n",
    "        if not stack:\n",
    "            return \"/\"\n",
    "        else:\n",
    "            return \"/\" + \"/\".join(stack)"
   ]
  },
  {
   "cell_type": "code",
   "execution_count": 13,
   "metadata": {},
   "outputs": [],
   "source": [
    "class Solution:\n",
    "    def simplifyPath(self, path):\n",
    "        \"\"\"\n",
    "        :type path: str\n",
    "        :rtype: str\n",
    "        \"\"\"\n",
    "        stack = []\n",
    "        for part in path.split(\"/\"):\n",
    "            if not part or part == \".\": # 如果为空或者 \".\" 则忽略\n",
    "                continue\n",
    "                \n",
    "            elif part == \"..\":\n",
    "                if stack:\n",
    "                    stack.pop()\n",
    "            else:\n",
    "                stack.append(part)\n",
    "                    \n",
    "        print(stack)\n",
    "        if not stack:\n",
    "            return \"/\"\n",
    "        else:\n",
    "            return \"/\" + \"/\".join(stack)"
   ]
  },
  {
   "cell_type": "code",
   "execution_count": 11,
   "metadata": {},
   "outputs": [
    {
     "data": {
      "text/plain": [
       "['', 'a', '', 'b', 'c', '']"
      ]
     },
     "execution_count": 11,
     "metadata": {},
     "output_type": "execute_result"
    }
   ],
   "source": [
    "s = '/a//b/c/'\n",
    "s.split('/')"
   ]
  },
  {
   "cell_type": "code",
   "execution_count": 14,
   "metadata": {},
   "outputs": [
    {
     "name": "stdout",
     "output_type": "stream",
     "text": [
      "['home']\n"
     ]
    },
    {
     "data": {
      "text/plain": [
       "'/home'"
      ]
     },
     "execution_count": 14,
     "metadata": {},
     "output_type": "execute_result"
    }
   ],
   "source": [
    "s = Solution()\n",
    "s.simplifyPath('/home/')"
   ]
  },
  {
   "cell_type": "markdown",
   "metadata": {},
   "source": [
    "## 394. Decode String (String. Stack) (Apple 4, Google 9, Amazon 6->9, Facebook 6)\n",
    "  \n",
    "O(N)  \n",
    "O(N)"
   ]
  },
  {
   "cell_type": "code",
   "execution_count": null,
   "metadata": {},
   "outputs": [],
   "source": [
    "class Solution:\n",
    "    def decodeString(self, s):\n",
    "        \"\"\"\n",
    "        :type s: str\n",
    "        :rtype: str\n",
    "        \"\"\"\n",
    "        stack = [[\"\",  0]]\n",
    "        \n",
    "        num = ''\n",
    "        for c in s:\n",
    "            if c.isdigit():\n",
    "                num += c\n",
    "                \n",
    "            elif c == '[':\n",
    "                stack.append([\"\", int(num)])\n",
    "                num = \"\"         \n",
    "                \n",
    "            elif c == ']':\n",
    "                string, multiply = stack.pop()\n",
    "                stack[-1][0] += string * multiply\n",
    "                \n",
    "            else:\n",
    "                stack[-1][0] += c\n",
    "                \n",
    "        return stack[0][0]"
   ]
  },
  {
   "cell_type": "markdown",
   "metadata": {},
   "source": [
    "## 224. Basic Calculator (String. Math, Stack) (Amazon 8, Facebook 6, Microsoft 4)"
   ]
  },
  {
   "cell_type": "code",
   "execution_count": null,
   "metadata": {},
   "outputs": [],
   "source": [
    "class Solution:\n",
    "    def calculate(self, s):\n",
    "        \"\"\"\n",
    "        input: str\n",
    "        output: int\n",
    "        \"\"\"\n",
    "        \n",
    "        res = 0\n",
    "        sign = 1\n",
    "        num = 0\n",
    "        stack = []\n",
    "        \n",
    "        for i in range(len(s)):\n",
    "            if s[i].isdigit():\n",
    "                num = num * 10 + int(s[i])\n",
    "                \n",
    "            elif s[i] == \"+\" or s[i] == \"-\":\n",
    "                res += num * sign \n",
    "                num = 0\n",
    "                sign = 1 if s[i] == \"+\" else -1\n",
    "                \n",
    "            elif s[i] == \"(\":\n",
    "                stack.append(res)\n",
    "                stack.append(sign)\n",
    "                res = 0\n",
    "                sign = 1\n",
    "                \n",
    "            elif s[i] == \")\":\n",
    "                res += num * sign\n",
    "                res *= stack.pop()\n",
    "                res += stack.pop()\n",
    "                num = 0\n",
    "                sign = 1\n",
    "                \n",
    "        return res + num * sign"
   ]
  },
  {
   "cell_type": "code",
   "execution_count": null,
   "metadata": {},
   "outputs": [],
   "source": [
    "class Solution:\n",
    "    def calculate(self, s):\n",
    "        \"\"\"\n",
    "        :type s: str\n",
    "        :rtype: int\n",
    "        \"\"\"\n",
    "        stack = []\n",
    "        res = 0 \n",
    "        num = 0 \n",
    "        sign = 1\n",
    "        for i, c in enumerate(s):\n",
    "            if c.isdigit():\n",
    "                num = num * 10 + int(c)\n",
    "            elif c in '+-':\n",
    "                res += sign * num\n",
    "                num = 0\n",
    "                sign = 1 if c == '+' else -1\n",
    "            elif c == '(': # push the result first, then sign;\n",
    "                stack.append(res)\n",
    "                stack.append(sign)\n",
    "                res = 0\n",
    "                sign = 1 # reset the sign and res for the value in the parenthesis\n",
    "            elif c == ')': # use elif because there may have space in input s\n",
    "                res += sign * num # temporary res in this parenthesis\n",
    "                num = 0\n",
    "                res *= stack.pop() # sign before the left parenthesis\n",
    "                res += stack.pop() # res calculated before the left parenthesis\n",
    "        \n",
    "        if num == 0:\n",
    "            return res\n",
    "        else:\n",
    "            return res + sign * num"
   ]
  },
  {
   "cell_type": "markdown",
   "metadata": {},
   "source": [
    "## 227 Basic Calculator II (String. Math, Stack) (Uber 8, Facebook 7, Amazon 5->10, Microsoft 4)\n",
    " \n",
    "先把乘法先算出来，再考虑加减"
   ]
  },
  {
   "cell_type": "code",
   "execution_count": 35,
   "metadata": {},
   "outputs": [],
   "source": [
    "class Solution:\n",
    "    def calculate(self, s):\n",
    "        \"\"\"\n",
    "        :type s: str\n",
    "        :rtype: int\n",
    "        \"\"\"\n",
    "        \n",
    "        num = 0\n",
    "        sign =  \"+\"\n",
    "        stack = []\n",
    "        \n",
    "        for i in range(len(s)):\n",
    "            if s[i].isdigit():\n",
    "                num = num * 10 + int(s[i])\n",
    "                \n",
    "            if s[i] in \"+-*/\" or i == len(s) - 1:\n",
    "                if sign == \"+\":\n",
    "                    stack.append(num)\n",
    "                elif sign == \"-\":\n",
    "                    stack.append(-num)\n",
    "                elif sign == \"*\":\n",
    "                    stack.append(stack.pop()*num)\n",
    "                elif sign == \"/\":\n",
    "                    stack.append(int(stack.pop()/num))\n",
    "                \n",
    "                num = 0\n",
    "                sign = s[i]\n",
    "                  \n",
    "        return sum(stack)"
   ]
  },
  {
   "cell_type": "code",
   "execution_count": 36,
   "metadata": {},
   "outputs": [
    {
     "data": {
      "text/plain": [
       "-1"
      ]
     },
     "execution_count": 36,
     "metadata": {},
     "output_type": "execute_result"
    }
   ],
   "source": [
    "s = '1-2*3'\n",
    "obj = Solution()\n",
    "obj.calculate(s)"
   ]
  },
  {
   "cell_type": "code",
   "execution_count": null,
   "metadata": {},
   "outputs": [],
   "source": [
    "class Solution():\n",
    "    def calculate(self, s):\n",
    "        \"\"\"\n",
    "        :type s: str\n",
    "        :rtype: int\n",
    "        \"\"\"\n",
    "        s = s.replace(' ', '')\n",
    "        \n",
    "        array = []\n",
    "        l = 0\n",
    "        r = 0\n",
    "        while r < len(s):\n",
    "            if s[r] in '+-*/':\n",
    "                array.append(int(s[l:r]))\n",
    "                array.append(s[r])\n",
    "                r += 1\n",
    "                l = r\n",
    "            else:\n",
    "                r += 1        \n",
    "        array.append(int(s[l:]))\n",
    "                        \n",
    "        i = 0\n",
    "        while i < len(array): \n",
    "        \n",
    "            if array[i] == '*':\n",
    "                array[i-1:i+2] = [array[i-1] * array[i+1]]\n",
    "                i -= 1\n",
    "                \n",
    "            if array[i] == '/':\n",
    "                array[i-1:i+2] = [array[i-1] // array[i+1]]\n",
    "                i -= 1\n",
    "            else:\n",
    "                i += 1\n",
    "                \n",
    "        i = 0\n",
    "        while i < len(array):\n",
    "            if array[i] == '+':\n",
    "                array[i-1:i+2] = [array[i-1] + array[i+1]]\n",
    "                i -= 1\n",
    "            if array[i] == '-':\n",
    "                array[i-1:i+2] = [array[i-1] - array[i+1]]\n",
    "                i -= 1\n",
    "            else:\n",
    "                i += 1\n",
    "                    \n",
    "        return array[-1]\n",
    "        "
   ]
  },
  {
   "cell_type": "code",
   "execution_count": null,
   "metadata": {},
   "outputs": [],
   "source": [
    "class Solution:\n",
    "    def calculate(self, s):\n",
    "        \"\"\"\n",
    "        :type s: str\n",
    "        :rtype: int\n",
    "        \"\"\"\n",
    "        \n",
    "        stack = []\n",
    "        i = 0\n",
    "        while i < len(s):\n",
    "            if s[i].isdigit():\n",
    "                tmp = 0\n",
    "                while i < len(s) and s[i].isdigit():\n",
    "                    tmp = tmp * 10 + int(s[i])\n",
    "                    i += 1\n",
    "                stack.append(tmp)\n",
    "                # 如果栈中有乘除，先算出来\n",
    "                while len(stack) > 1 and stack[-2] in {\"*\", \"/\"}:\n",
    "                    stack.pop()\n",
    "                    opt = stack.pop()\n",
    "                    if opt == \"*\":\n",
    "                        stack.append(stack.pop() * tmp)\n",
    "                    else:\n",
    "                        stack.append(stack.pop() // tmp)\n",
    "            elif s[i] in { \"*\", \"/\", \"+\", \"-\"}:\n",
    "                stack.append(s[i])\n",
    "                i += 1\n",
    "            else:\n",
    "                 i += 1\n",
    "        res = 0\n",
    "        sign = 1\n",
    "        for t in stack:\n",
    "            if t == \"+\":\n",
    "                sign = 1\n",
    "            elif t == \"-\":\n",
    "                sign = -1\n",
    "            else:\n",
    "                res += sign * t\n",
    "        return res"
   ]
  },
  {
   "cell_type": "code",
   "execution_count": null,
   "metadata": {},
   "outputs": [],
   "source": [
    "class Solution:\n",
    "    def calculate(self, s: str) -> int:\n",
    "        # 小trick\n",
    "        s += \"+0\"\n",
    "        stack = []\n",
    "        num = 0\n",
    "        # 记录前一个符号\n",
    "        sign = \"+\"\n",
    "        for c in s:\n",
    "            if c.isdigit():\n",
    "                num = num * 10 + int(c)\n",
    "            elif c in {\"+\", \"-\", \"*\", \"/\"}:\n",
    "                #print(sign, num)\n",
    "                if sign == \"+\":\n",
    "                    stack.append(num)\n",
    "                elif sign == \"-\":\n",
    "                    stack.append(-num)\n",
    "                elif sign == \"*\":\n",
    "                    stack[-1] = stack[-1] * num\n",
    "                elif sign == \"/\":\n",
    "                    # 解决python的负数下取整\n",
    "                    if stack[-1] < 0:\n",
    "                        stack[-1] = -(-stack[-1] // num)\n",
    "                    else:\n",
    "                        stack[-1] = stack[-1] // num\n",
    "                sign, num = c, 0\n",
    "        return sum(stack)\n",
    "\n"
   ]
  },
  {
   "cell_type": "code",
   "execution_count": null,
   "metadata": {},
   "outputs": [],
   "source": [
    "int(-3/2)"
   ]
  },
  {
   "cell_type": "markdown",
   "metadata": {},
   "source": [
    "## 496. Next Great Element I (Amazon 7)"
   ]
  },
  {
   "cell_type": "code",
   "execution_count": null,
   "metadata": {},
   "outputs": [],
   "source": [
    "class Solution(object):\n",
    "    def nextGreaterElement(self, nums1, nums2):\n",
    "        \"\"\"\n",
    "        :type nums1: List[int]\n",
    "        :type nums2: List[int]\n",
    "        :rtype: List[int]\n",
    "        \"\"\"\n",
    "        stack = []\n",
    "        dic = {}\n",
    "        for n in nums2:\n",
    "            while stack and stack[-1] < n:\n",
    "                dic[stack.pop()] = n\n",
    "                \n",
    "            stack.append(n)\n",
    "        \n",
    "        return [dic.get(x, -1) for x in nums1]"
   ]
  },
  {
   "cell_type": "markdown",
   "metadata": {},
   "source": [
    "## 503. Next Great Element II (Amazon 6)"
   ]
  },
  {
   "cell_type": "code",
   "execution_count": null,
   "metadata": {},
   "outputs": [],
   "source": [
    "class Solution:\n",
    "    def nextGreaterElements(self, nums: List[int]) -> List[int]:\n",
    "        # stack, res = [], [-1] * len(A)\n",
    "        # for i in range(len(A)) * 2:\n",
    "        #     while stack and (A[stack[-1]] < A[i]):\n",
    "        #         res[stack.pop()] = A[i]\n",
    "        #     stack.append(i)\n",
    "        # return res\n",
    "        \n",
    "        stack = []\n",
    "        res = [-1] * len(nums)\n",
    "        for i in range(len(nums)):\n",
    "            while stack and (nums[stack[-1]] < nums[i]): # stack top index对应在array中的数字小于我们当前的数字\n",
    "                res[stack.pop()] = nums[i]\n",
    "            stack.append(i)\n",
    "            \n",
    "        print(res)    \n",
    "            \n",
    "        for i in range(len(nums)):\n",
    "            while stack and (nums[stack[-1]] < nums[i]): # stack top index对应在array中的数字小于我们当前的数字\n",
    "                res[stack.pop()] = nums[i]\n",
    "            stack.append(i)\n",
    "        return res"
   ]
  },
  {
   "cell_type": "markdown",
   "metadata": {},
   "source": [
    "## 739. Daily Temperatures (List. Stack) (Amazon Onsite 10)"
   ]
  },
  {
   "cell_type": "code",
   "execution_count": null,
   "metadata": {},
   "outputs": [],
   "source": [
    "class Solution:\n",
    "    def dailyTemperatures(self, T):\n",
    "        \"\"\"\n",
    "        :type T: List[int]\n",
    "        :rtype: List[int]\n",
    "        \"\"\"\n",
    "        if not T:\n",
    "            return []\n",
    "\n",
    "\n",
    "        result = [0] * len(T)\n",
    "        \n",
    "        stack = []\n",
    "        \n",
    "        for i in range(len(T)):\n",
    "            while stack and T[stack[-1]] < T[i]:\n",
    "                j = stack.pop()\n",
    "                \n",
    "                result[j] = i-j\n",
    "            \n",
    "            stack.append(i)\n",
    "        \n",
    "        return result"
   ]
  },
  {
   "cell_type": "markdown",
   "metadata": {},
   "source": [
    "## 402. Remove K Digits (String. Stack) (Amazon 5, Microsoft 3)  "
   ]
  },
  {
   "cell_type": "code",
   "execution_count": null,
   "metadata": {},
   "outputs": [],
   "source": [
    "# O(N) \n",
    "# O(N)\n",
    "class Solution:\n",
    "    def removeKdigits(self, num, k):\n",
    "        \"\"\"\n",
    "        :type num: str\n",
    "        :type k: int\n",
    "        :rtype: str\n",
    "        \"\"\"\n",
    "        if not k:\n",
    "            return num\n",
    "\n",
    "        stack = []\n",
    "        for c in num:\n",
    "            while k and stack and stack[-1] > c:\n",
    "                stack.pop()\n",
    "                k -= 1\n",
    "                \n",
    "            stack.append(c)\n",
    "        \n",
    "        while k:\n",
    "            stack.pop()\n",
    "            k -= 1  \n",
    "            \n",
    "        res = ''.join(stack).lstrip('0')\n",
    "        return res if res else '0'"
   ]
  },
  {
   "cell_type": "markdown",
   "metadata": {},
   "source": [
    "## 456. 132 Pattern (List. Stack) (Amazon 13)"
   ]
  },
  {
   "cell_type": "code",
   "execution_count": null,
   "metadata": {},
   "outputs": [],
   "source": [
    "class Solution:\n",
    "    def find132pattern(self, nums):\n",
    "        \"\"\"\n",
    "        :type nums: List[int]\n",
    "        :rtype: bool\n",
    "        \"\"\"\n",
    "        \n",
    "        if nums == None or len(nums) < 3: \n",
    "            return False\n",
    "        \n",
    "        n = len(nums)\n",
    "        stack = []\n",
    "        third = float('-inf')\n",
    "        \n",
    "        for i in nums[::-1]:\n",
    "            if i < third: \n",
    "                return True\n",
    "            \n",
    "            while stack and stack[-1] < i:\n",
    "                third = stack.pop()\n",
    "            stack.append(i)\n",
    "            \n",
    "        return False"
   ]
  },
  {
   "cell_type": "markdown",
   "metadata": {},
   "source": [
    "## 768 Max Chunks To Make Sorted II (List. Stack) (Microsoft 2)"
   ]
  },
  {
   "cell_type": "code",
   "execution_count": null,
   "metadata": {},
   "outputs": [],
   "source": [
    "class Solution:\n",
    "    def maxChunksToSorted(self, arr: List[int]) -> int:\n",
    "        stack = []\n",
    "        \n",
    "        for n in arr:\n",
    "            if not stack or stack[-1] <= n:\n",
    "                stack.append(n)\n",
    "            else:\n",
    "                tmp = stack[-1]\n",
    "                while stack and stack[-1] > n:\n",
    "                    stack.pop()\n",
    "                stack.append(tmp)\n",
    "        \n",
    "        return len(stack)"
   ]
  },
  {
   "cell_type": "code",
   "execution_count": null,
   "metadata": {},
   "outputs": [],
   "source": [
    "class Solution:\n",
    "    def maxChunksToSorted(self, arr):\n",
    "        \"\"\"\n",
    "        :type arr: List[int]\n",
    "        :rtype: int\n",
    "        \"\"\"\n",
    "        count = collections.Counter()\n",
    "        counted = []\n",
    "        for x in arr:\n",
    "            count[x] += 1\n",
    "            counted.append((x, count[x]))\n",
    "\n",
    "        ans, cur = 0, None\n",
    "        for X, Y in zip(counted, sorted(counted)):\n",
    "            cur = max(cur, X)\n",
    "            if cur == Y:\n",
    "                ans += 1\n",
    "        return ans"
   ]
  },
  {
   "cell_type": "markdown",
   "metadata": {},
   "source": [
    "## 636. Exclusive Time of Functions (Facebook 13, Microsoft 5, Amazon 3)"
   ]
  },
  {
   "cell_type": "code",
   "execution_count": null,
   "metadata": {},
   "outputs": [],
   "source": [
    "class Solution(object):\n",
    "    def exclusiveTime(self, n, logs):\n",
    "        \"\"\"\n",
    "        :type n: int\n",
    "        :type logs: List[str]\n",
    "        :rtype: List[int]\n",
    "        \"\"\"\n",
    "        res = [0] * n\n",
    "        stack = []\n",
    "   \n",
    "        \n",
    "        for log in logs:\n",
    "            idx, start, time = log.split(':')\n",
    "            idx, time = int(idx), int(time)\n",
    "            if start == 'start':\n",
    "                if stack:\n",
    "                    res[stack[-1]] += time - last_time                    \n",
    "                stack.append(idx)\n",
    "                last_time = time\n",
    "            else:\n",
    "                stack.pop()\n",
    "                res[idx] += time - last_time + 1\n",
    "                last_time = time + 1\n",
    "        return res                 "
   ]
  },
  {
   "cell_type": "markdown",
   "metadata": {},
   "source": [
    "### General"
   ]
  },
  {
   "cell_type": "markdown",
   "metadata": {},
   "source": [
    "### String. O(N) O(1). (String) List. O(N) O(N)"
   ]
  },
  {
   "cell_type": "markdown",
   "metadata": {},
   "source": [
    "## Max Possible Value (Microsoft OA)"
   ]
  },
  {
   "cell_type": "code",
   "execution_count": 2,
   "metadata": {},
   "outputs": [
    {
     "data": {
      "text/plain": [
       "-1235"
      ]
     },
     "execution_count": 2,
     "metadata": {},
     "output_type": "execute_result"
    }
   ],
   "source": [
    "def solution(n): \n",
    "    string = list(str(n))\n",
    "    \n",
    "    if string[0] == '-':\n",
    "        for i in range(1, len(string)+1):\n",
    "            if i == len(string):\n",
    "                string.insert(i, '5')\n",
    "                break\n",
    "            \n",
    "            if '5' < string[i]:\n",
    "                string.insert(i, '5')\n",
    "                break\n",
    "        \n",
    "    else:\n",
    "        for i in range(len(string)+1):   \n",
    "            if i == len(string):\n",
    "                string.insert(i, '5')\n",
    "                break\n",
    "                \n",
    "            \n",
    "            if '5' > string[i]:\n",
    "                string.insert(i, '5')\n",
    "                break\n",
    "            \n",
    "    return int(''.join(string))\n",
    "            \n",
    "a = 268\n",
    "b = 670\n",
    "c = 0\n",
    "d = -999\n",
    "e = 945\n",
    "f = -945\n",
    "g = -123 # -123 returns -5123 while it should return -1235\n",
    "        \n",
    "solution(-123)"
   ]
  },
  {
   "cell_type": "code",
   "execution_count": 42,
   "metadata": {},
   "outputs": [
    {
     "data": {
      "text/plain": [
       "['-', '9']"
      ]
     },
     "execution_count": 42,
     "metadata": {},
     "output_type": "execute_result"
    }
   ],
   "source": [
    "n = -9\n",
    "list(str(n))"
   ]
  },
  {
   "cell_type": "code",
   "execution_count": null,
   "metadata": {},
   "outputs": [],
   "source": [
    "# O(k), k = number of digits\n",
    "def solution(num):\n",
    "    if num < 0:\n",
    "        return neg(num)\n",
    "    else:\n",
    "        return pos(num)\n",
    "\n",
    "def pos(num):\n",
    "    n = len(str(num))\n",
    "    res = 0\n",
    "    \n",
    "    while num >= 0:\n",
    "        val = num//10**(n-1)\n",
    "        num %= 10**(n-1)\n",
    "        if val < 5:\n",
    "            res += (5*10**n)+val*(10**(n-1))+num\n",
    "            return res\n",
    "        else:\n",
    "            res += val*10**n\n",
    "            n -= 1\n",
    "            \n",
    "def neg(num):\n",
    "    num = abs(num)\n",
    "    n = len(str(num))\n",
    "    res = 0\n",
    "    \n",
    "    while num >= 0:\n",
    "        val = num//10**(n-1)\n",
    "        num %= 10**(n-1)\n",
    "        if val > 5:\n",
    "            res += (5*10**n)+val*(10**(n-1))+num\n",
    "            return -res\n",
    "        else:\n",
    "            res += val*10**n\n",
    "            n -= 1\n",
    "print(solution(-99))"
   ]
  },
  {
   "cell_type": "code",
   "execution_count": null,
   "metadata": {},
   "outputs": [],
   "source": [
    "def maxPossibleValue(N):\n",
    "    s = str(N)\n",
    "    if N >= 0:\n",
    "        i = 0\n",
    "        for d in s:\n",
    "            if d >= '5':\n",
    "                i += 1\n",
    "            else:\n",
    "                break\n",
    "        ans = int(s[:i] + '5' + s[i:])\n",
    "    else:\n",
    "        i, s = 0, s[1:]\n",
    "        for d in s:\n",
    "            if d <= '5':\n",
    "                i += 1\n",
    "            else:\n",
    "                break\n",
    "        ans = -int(s[:i] + '5' + s[i:])\n",
    "    return ans\n",
    "            \n",
    "\n",
    "N = 268\n",
    "print(maxPossibleValue(N))\n",
    "\n",
    "N = 670\n",
    "print(maxPossibleValue(N))\n",
    "\n",
    "N = 0\n",
    "print(maxPossibleValue(N))\n",
    "\n",
    "N = -999\n",
    "print(maxPossibleValue(N))"
   ]
  },
  {
   "cell_type": "code",
   "execution_count": null,
   "metadata": {},
   "outputs": [],
   "source": [
    "def insert_five(num):\n",
    "    num_str = str(num) if num >= 0 else str(-num)\n",
    "    i = 0\n",
    "\n",
    "    if num >= 0:\n",
    "        while i < len(num_str) and num_str[i] >= '5':\n",
    "            i += 1\n",
    "    else:\n",
    "        while i < len(num_str) and num_str[i] <= '5':\n",
    "            i += 1\n",
    "\n",
    "    max_string = (num_str[:i] + '5' + num_str[i:])\n",
    "\n",
    "    return max_string if num >= 0 else '-' + max_string"
   ]
  },
  {
   "cell_type": "code",
   "execution_count": null,
   "metadata": {},
   "outputs": [],
   "source": []
  },
  {
   "cell_type": "markdown",
   "metadata": {},
   "source": [
    "## 724. Find Pivot Index "
   ]
  },
  {
   "cell_type": "code",
   "execution_count": null,
   "metadata": {},
   "outputs": [],
   "source": [
    "class Solution(object):\n",
    "    def pivotIndex(self, nums):\n",
    "        \"\"\"\n",
    "        :type nums: List[int]\n",
    "        :rtype: int\n",
    "        \"\"\"\n",
    "        S = sum(nums)\n",
    "        leftsum = 0\n",
    "        for i, x in enumerate(nums):\n",
    "            if leftsum == (S - leftsum - x):\n",
    "                return i\n",
    "            leftsum += x\n",
    "        return -1"
   ]
  },
  {
   "cell_type": "markdown",
   "metadata": {},
   "source": [
    "## 134. Gas Station (List) (Amazon 6, Microsoft 5)"
   ]
  },
  {
   "cell_type": "code",
   "execution_count": null,
   "metadata": {},
   "outputs": [],
   "source": [
    "class Solution:\n",
    "    def canCompleteCircuit(self, gas, cost):\n",
    "        \"\"\"\n",
    "        :type gas: List[int]\n",
    "        :type cost: List[int]\n",
    "        :rtype: int\n",
    "        \"\"\"        \n",
    "        if sum(gas) - sum(cost) < 0:\n",
    "            return -1\n",
    "        \n",
    "        tank = 0\n",
    "        res = 0\n",
    "        for i in range(len(gas)):\n",
    "            tank += gas[i] - cost[i]\n",
    "            if tank < 0: \n",
    "                tank = 0\n",
    "                res = i + 1\n",
    "        return res "
   ]
  },
  {
   "cell_type": "markdown",
   "metadata": {},
   "source": [
    "## 1268. Search Suggestions System (Amazon OA 29)"
   ]
  },
  {
   "cell_type": "code",
   "execution_count": null,
   "metadata": {},
   "outputs": [],
   "source": [
    "class Solution:\n",
    "    def suggestedProducts(self, products, searchWord):\n",
    "        \"\"\"\n",
    "        :type products: List[str]\n",
    "        :type searchWord: str\n",
    "        :rtype: List[List[str]]\n",
    "        \"\"\"\n",
    "        ans, res = [], []\n",
    "        products.sort()\n",
    "        \n",
    "        for i in range(1, len(searchWord)+1):            \n",
    "            for j in range(len(products)):\n",
    "                if len(ans) == 3:\n",
    "                    break\n",
    "                    \n",
    "                if searchWord[:i] == products[j][:i]:\n",
    "                    ans.append(''.join(products[j]))\n",
    "                \n",
    "            res.append(ans)\n",
    "            ans = []\n",
    "            \n",
    "        return res"
   ]
  },
  {
   "cell_type": "code",
   "execution_count": null,
   "metadata": {},
   "outputs": [],
   "source": [
    "class Solution:\n",
    "    def suggestedProducts(self, products, searchWord):\n",
    "        \"\"\"\n",
    "        :type products: List[str]\n",
    "        :type searchWord: str\n",
    "        :rtype: List[List[str]]\n",
    "        \"\"\"\n",
    "        ans, res = [], []\n",
    "        products.sort()\n",
    "        \n",
    "        for i in range(1, len(searchWord)+1):\n",
    "            to_search = searchWord[:i]\n",
    "            \n",
    "            j = 0\n",
    "            while j < len(products):\n",
    "                if len(ans) == 3:\n",
    "                        break\n",
    "                \n",
    "                if to_search == products[j][:i]:\n",
    "                    ans.append(''.join(products[j]))\n",
    "                    \n",
    "                j += 1\n",
    "                \n",
    "            res.append(ans)\n",
    "            ans = []\n",
    "            \n",
    "        return res"
   ]
  },
  {
   "cell_type": "code",
   "execution_count": null,
   "metadata": {},
   "outputs": [],
   "source": [
    "# Buggy with large input \n",
    "class Solution:\n",
    "    def suggestedProducts(self, products: List[str], searchWord: str) -> List[List[str]]:\n",
    "        \n",
    "                    \n",
    "        dic = {}\n",
    "        \n",
    "        for word in products:\n",
    "            t = dic\n",
    "            for c in word:\n",
    "                if c not in t:\n",
    "                    t[c] = {}\n",
    "                    \n",
    "                t = t[c]\n",
    "                \n",
    "            t['#'] = {}\n",
    "            \n",
    "        # print(dic)\n",
    "        def dfs(start, t, word):\n",
    "            if start == '#':\n",
    "                tmp.append(word)\n",
    "                return\n",
    "\n",
    "            # print(t)\n",
    "            # print(start)\n",
    "            t = t.get(start)\n",
    "\n",
    "            for nxt in t:\n",
    "                dfs(nxt, t, word + start)   \n",
    "            \n",
    "        res = []\n",
    "        \n",
    "        for i in range(len(searchWord)):\n",
    "            tmp = []\n",
    "            word = ''\n",
    "            t = dic\n",
    "            for c in searchWord[:i]:\n",
    "                if c not in t:\n",
    "                    break\n",
    "                \n",
    "                word += c\n",
    "                t = t[c]\n",
    "            \n",
    "            if searchWord[i] in t:\n",
    "                start = searchWord[i]\n",
    "                dfs(start, t, word)\n",
    "\n",
    "            tmp.sort()\n",
    "            if len(tmp) >= 3:\n",
    "                tmp = tmp[:3]\n",
    "\n",
    "            res.append(tmp)\n",
    "            \n",
    "        return res"
   ]
  },
  {
   "cell_type": "markdown",
   "metadata": {},
   "source": [
    "## 482. License Key Formatting (String. List) (Google OA 16)"
   ]
  },
  {
   "cell_type": "code",
   "execution_count": null,
   "metadata": {},
   "outputs": [],
   "source": [
    "class Solution:\n",
    "    def licenseKeyFormatting(self, S, K):\n",
    "        \"\"\"\n",
    "        :type S: str\n",
    "        :type K: int\n",
    "        :rtype: str\n",
    "        \"\"\"\n",
    "        S = S.replace(\"-\", \"\").upper()[::-1]\n",
    "        return '-'.join(S[i:i+K] for i in range(0, len(S), K))[::-1]"
   ]
  },
  {
   "cell_type": "code",
   "execution_count": null,
   "metadata": {},
   "outputs": [],
   "source": [
    "'-'.join(['w9e3','23f5'])[::-1]"
   ]
  },
  {
   "cell_type": "markdown",
   "metadata": {},
   "source": [
    "## Find N Unique Integers Sum up to Zero (Microsoft OA)"
   ]
  },
  {
   "cell_type": "code",
   "execution_count": 30,
   "metadata": {},
   "outputs": [
    {
     "data": {
      "text/plain": [
       "[-2, -1, 1, 2]"
      ]
     },
     "execution_count": 30,
     "metadata": {},
     "output_type": "execute_result"
    }
   ],
   "source": [
    "class Solution:\n",
    "    def sumZero(self, n):\n",
    "        array = list(range(-(n // 2), (n // 2) + 1))\n",
    "\n",
    "        if n % 2 == 0:\n",
    "            array.pop(n // 2)\n",
    "        return array\n",
    "    \n",
    "obj = Solution()\n",
    "obj.sumZero(4)"
   ]
  },
  {
   "cell_type": "markdown",
   "metadata": {},
   "source": [
    "## Day of Week (Microsoft OA)"
   ]
  },
  {
   "cell_type": "code",
   "execution_count": 107,
   "metadata": {},
   "outputs": [
    {
     "data": {
      "text/plain": [
       "'Mon'"
      ]
     },
     "execution_count": 107,
     "metadata": {},
     "output_type": "execute_result"
    }
   ],
   "source": [
    "def solution(s, n):\n",
    "    array = [\"Mon\", \"Tue\", \"Web\", \"Thu\", \"Fri\", \"Sat\", \"Sun\"]\n",
    "    index = array.index(s)\n",
    "    \n",
    "    if n >= 7:\n",
    "        n %= 7\n",
    "    \n",
    "    if index + n >= 7:\n",
    "        return array[index + n - 7]\n",
    "    \n",
    "    else:\n",
    "        return array[index + n]\n",
    "    \n",
    "solution(\"Sat\", 23)"
   ]
  },
  {
   "cell_type": "markdown",
   "metadata": {},
   "source": [
    "## Max Inserts to Obtain String Without 3 Consecutive 'a' (Microsoft OA)"
   ]
  },
  {
   "cell_type": "code",
   "execution_count": 106,
   "metadata": {},
   "outputs": [
    {
     "data": {
      "text/plain": [
       "-1"
      ]
     },
     "execution_count": 106,
     "metadata": {},
     "output_type": "execute_result"
    }
   ],
   "source": [
    "def solution(string):\n",
    "    if not len(string):\n",
    "        return 2\n",
    "    \n",
    "#     result = 0    \n",
    "    if string[0] == \"a\": \n",
    "        res = 0\n",
    "        a = 1\n",
    "        \n",
    "    else:\n",
    "        res = 2\n",
    "        a = 0\n",
    "    \n",
    "    for i in range(1, len(string) + 1):\n",
    "        if i == len(string):\n",
    "            res += 2 - a\n",
    "            break\n",
    "        \n",
    "        if string[i] == \"a\":\n",
    "            a += 1\n",
    "        else:\n",
    "            res += 2 - a\n",
    "            a = 0\n",
    "            \n",
    "        if a >= 3:\n",
    "            return -1\n",
    "        \n",
    "    return res\n",
    "\n",
    "\n",
    "a = \"aabab\" #3\n",
    "b = \"dog\" #8\n",
    "c = \"aa\" #0\n",
    "d = \"baaaa\" #-1\n",
    "solution(d)"
   ]
  },
  {
   "cell_type": "code",
   "execution_count": 4,
   "metadata": {},
   "outputs": [
    {
     "name": "stdout",
     "output_type": "stream",
     "text": [
      "3\n"
     ]
    }
   ],
   "source": [
    "def consecutive(string):\n",
    "    count = 0\n",
    "    prea = False\n",
    "    for ss in string:\n",
    "        if ss == \"a\":\n",
    "            if prea == False:\n",
    "                count += 1\n",
    "                prea = True\n",
    "                \n",
    "        if ss != \"a\":\n",
    "            if prea == False:\n",
    "                count += 2\n",
    "            else:\n",
    "                prea = True\n",
    "                \n",
    "    if string[-1] != \"a\":\n",
    "        count+= 2\n",
    "        \n",
    "    return count\n",
    "\n",
    "a = \"aabab\"\n",
    "b = \"dog\"\n",
    "c = \"aa\"\n",
    "d = \"baaaa\"\n",
    "print(consecutive(d))"
   ]
  },
  {
   "cell_type": "markdown",
   "metadata": {},
   "source": [
    "## Fair Indexes (Microsoft OA)"
   ]
  },
  {
   "cell_type": "code",
   "execution_count": 20,
   "metadata": {},
   "outputs": [
    {
     "data": {
      "text/plain": [
       "0"
      ]
     },
     "execution_count": 20,
     "metadata": {},
     "output_type": "execute_result"
    }
   ],
   "source": [
    "def solution(A, B):\n",
    "    res = 0\n",
    "    \n",
    "    sumA = sum(A)\n",
    "    sumB = sum(B)\n",
    "    \n",
    "    tmpA = 0\n",
    "    tmpB = 0\n",
    "    \n",
    "    for i in range(len(A)-1):\n",
    "        tmpA += A[i]\n",
    "        tmpB += B[i]\n",
    "        \n",
    "        if sumA == 2 * tmpA and sumB == 2 * tmpB and tmpA == tmpB:\n",
    "            res += 1\n",
    "            \n",
    "    return res\n",
    "\n",
    "A1 = [4,-1,0,3]; B1 = [-2, 5, 0 ,3] #2\n",
    "A2 = [2,-2,-3,3]; B2 = [0,0,4,-4] #1\n",
    "A3 = [4,-1,0,3]; B3 = [-2,6,0,4] #0\n",
    "A4 = [3,2,6]; B4 = [4,1,6] #0\n",
    "A5 = [1,4,2,-2,5]; B5 = [7,-2,-2,2,5] #2\n",
    "\n",
    "solution(A4, B4)"
   ]
  },
  {
   "cell_type": "code",
   "execution_count": 40,
   "metadata": {},
   "outputs": [
    {
     "name": "stdout",
     "output_type": "stream",
     "text": [
      "10\n",
      "10\n",
      "1 7\n",
      "9 3\n",
      "5 5\n",
      "5 5\n",
      "7 3\n",
      "3 7\n",
      "5 5\n",
      "5 5\n"
     ]
    },
    {
     "data": {
      "text/plain": [
       "2"
      ]
     },
     "execution_count": 40,
     "metadata": {},
     "output_type": "execute_result"
    }
   ],
   "source": [
    "def solution(A, B):\n",
    "    res = 0\n",
    "    sum_leftA = 0\n",
    "    sum_leftB = 0\n",
    "    sum_rightA = sum(A)\n",
    "    sum_rightB = sum(B)\n",
    "    \n",
    "    print(sum_rightA)\n",
    "    print(sum_rightB)\n",
    "    \n",
    "#     if sum_rightA == sum_rightB:\n",
    "#         res += 1\n",
    "        \n",
    "    for i in range(1, len(A)):\n",
    "        sum_leftA += A[i - 1]\n",
    "        sum_leftB += B[i - 1]\n",
    "        \n",
    "        print(sum_leftA, sum_leftB)\n",
    "        \n",
    "        sum_rightA -= A[i-1]\n",
    "        sum_rightB -= B[i-1]\n",
    "        \n",
    "        print(sum_rightA, sum_rightB)\n",
    "        \n",
    "        if sum_leftA == sum_leftB == sum_rightA == sum_rightB:\n",
    "            res += 1\n",
    "            \n",
    "#     sum_leftA += A[-2]\n",
    "#     sum_leftB += B[-2]\n",
    "    \n",
    "#     if sum_leftA == sum_leftB:\n",
    "#         res += 1\n",
    "            \n",
    "    return res\n",
    "\n",
    "A1 = [4,-1,0,3]; B1 = [-2, 5, 0 ,3] #2\n",
    "A2 = [2,-2,-3,3]; B2 = [0,0,4,-4] #1\n",
    "A3 = [4,-1,0,3]; B3 = [-2,6,0,4] #0\n",
    "A4 = [3,2,6]; B4 = [4,1,6] #0\n",
    "A5 = [1,4,2,-2,5]; B5 = [7,-2,-2,2,5] #2\n",
    "\n",
    "solution(A5, B5)"
   ]
  },
  {
   "cell_type": "markdown",
   "metadata": {},
   "source": [
    "## String Without 3 Identical Consecutive Letters (Microsoft OA)"
   ]
  },
  {
   "cell_type": "code",
   "execution_count": 28,
   "metadata": {},
   "outputs": [
    {
     "data": {
      "text/plain": [
       "'eedaad'"
      ]
     },
     "execution_count": 28,
     "metadata": {},
     "output_type": "execute_result"
    },
    {
     "data": {
      "text/plain": [
       "'xxtxx'"
      ]
     },
     "execution_count": 28,
     "metadata": {},
     "output_type": "execute_result"
    },
    {
     "data": {
      "text/plain": [
       "'uuxaaxuu'"
      ]
     },
     "execution_count": 28,
     "metadata": {},
     "output_type": "execute_result"
    }
   ],
   "source": [
    "from itertools import groupby\n",
    "def stringWithout3Identical(S):\n",
    "    \"\"\"\n",
    "    input: str\n",
    "    output: str\n",
    "    \"\"\"\n",
    "    \n",
    "    ans = ''\n",
    "    for c, g in groupby(S):\n",
    "        length = len(list(g))\n",
    "        \n",
    "        if length > 2:\n",
    "            ans += c * 2\n",
    "            \n",
    "        else:\n",
    "            ans += c * length\n",
    "\n",
    "    return ans\n",
    "    \n",
    "S = 'eedaaad'\n",
    "# S = ['e', 'e', 'd', 'a', 'a', 'a', 'd']\n",
    "stringWithout3Identical(S)\n",
    "\n",
    "S = 'xxxtxxx'\n",
    "stringWithout3Identical(S)\n",
    "\n",
    "S = 'uuuuxaaaaxuuu'\n",
    "stringWithout3Identical(S)"
   ]
  },
  {
   "cell_type": "markdown",
   "metadata": {},
   "source": [
    "## Lexicographically Smallest String (Microsoft OA)"
   ]
  },
  {
   "cell_type": "code",
   "execution_count": 3,
   "metadata": {},
   "outputs": [
    {
     "name": "stdout",
     "output_type": "stream",
     "text": [
      "result string a\n",
      "result string ab\n",
      "result string abc\n",
      "letter z\n",
      "result string abcd\n",
      "result string a\n",
      "result string ab\n",
      "result string abc\n",
      "result string abcd\n"
     ]
    }
   ],
   "source": [
    "def lexiSmallestString(string_input):\n",
    "    # loop through one letter after another\n",
    "    for index, letter in enumerate(string_input[:-1]):\n",
    "        if letter > string_input[index+1]:\n",
    "            # rebuild string without z if letter is greater than next\n",
    "            result_string = string_input[:index] + string_input[index+1:]\n",
    "            print (\"letter\", letter)\n",
    "            print (\"result string\", result_string)\n",
    "            return (result_string)\n",
    "        else:\n",
    "            # else remove last character\n",
    "            result_string = string_input[:index+1]\n",
    "            print (\"result string\", result_string)\n",
    "            \n",
    "lexiSmallestString(\"abczd\")\n",
    "lexiSmallestString(\"abcde\")"
   ]
  },
  {
   "cell_type": "code",
   "execution_count": 9,
   "metadata": {},
   "outputs": [
    {
     "data": {
      "text/plain": [
       "'abcd'"
      ]
     },
     "execution_count": 9,
     "metadata": {},
     "output_type": "execute_result"
    }
   ],
   "source": [
    "def solution(s):\n",
    "    for i in range(len(s)-1):\n",
    "        if s[i] > s[i+1]:\n",
    "            s = s.replace(s[i], '')\n",
    "            \n",
    "            break\n",
    "    \n",
    "    return s\n",
    "\n",
    "a = 'abczd'\n",
    "solution(a)"
   ]
  },
  {
   "cell_type": "code",
   "execution_count": 8,
   "metadata": {},
   "outputs": [
    {
     "data": {
      "text/plain": [
       "'abc'"
      ]
     },
     "execution_count": 8,
     "metadata": {},
     "output_type": "execute_result"
    }
   ],
   "source": [
    "s = 'abc'\n",
    "s.replace('c', '')\n",
    "s"
   ]
  },
  {
   "cell_type": "code",
   "execution_count": null,
   "metadata": {},
   "outputs": [],
   "source": [
    "def containsSubstring(src, key):\n",
    "    res = []\n",
    "    for word in src:\n",
    "        if key in word:\n",
    "            res.append(word)\n",
    "    return res\n",
    "\n",
    "src = {\"minecraftgame\", \"intelligent\", \"innercrafttalent\", \"knife\", \"scissor\", \"stonecrafter\"}\n",
    "key = \"craft\"\n",
    "containsSubstring(src, key)"
   ]
  },
  {
   "cell_type": "markdown",
   "metadata": {},
   "source": [
    "## Light Buld Switcher (Microsoft OA)"
   ]
  },
  {
   "cell_type": "code",
   "execution_count": null,
   "metadata": {},
   "outputs": [],
   "source": [
    "public int getShiningCounts(int[] arr) {\n",
    "\tint ans = 0, sum = 0, target = 0;\n",
    "\t\t\n",
    "\tfor(int i = 1; i<= arr.length; i++) {\n",
    "\t\tsum += arr[i-1];\n",
    "\t\ttarget += i ; //Sum from 1 to i\n",
    "\t\tif(sum == target) ans++;\n",
    "\t}\n",
    "\t\t\n",
    "\treturn ans;\n",
    "}"
   ]
  },
  {
   "cell_type": "code",
   "execution_count": 148,
   "metadata": {},
   "outputs": [
    {
     "data": {
      "text/plain": [
       "3"
      ]
     },
     "execution_count": 148,
     "metadata": {},
     "output_type": "execute_result"
    }
   ],
   "source": [
    "def solution(s):\n",
    "    ans = 0\n",
    "    sums = 0\n",
    "    target = 0\n",
    "    for i in range(1, len(s)+1):\n",
    "        sums += s[i-1]\n",
    "        target += i\n",
    "        \n",
    "        if sums == target:\n",
    "            ans += 1\n",
    "            \n",
    "    return ans\n",
    "\n",
    "a = [2, 1, 3, 5, 4]\n",
    "solution(a)"
   ]
  },
  {
   "cell_type": "markdown",
   "metadata": {},
   "source": [
    "## Second Max (Google Phone)"
   ]
  },
  {
   "cell_type": "code",
   "execution_count": 3,
   "metadata": {},
   "outputs": [
    {
     "data": {
      "text/plain": [
       "15"
      ]
     },
     "execution_count": 3,
     "metadata": {},
     "output_type": "execute_result"
    }
   ],
   "source": [
    "def secondMax(nums):\n",
    "    def compare(a,b):\n",
    "        return max(a,b)\n",
    "    \n",
    "    first = compare(nums[0], nums[1])\n",
    "    if first == nums[0]:\n",
    "        second = nums[1]\n",
    "    else:\n",
    "        second = nums[0]\n",
    "            \n",
    "    for i in range(2, len(nums)):\n",
    "        if compare(first, nums[i]) > first:\n",
    "            second = first\n",
    "            first = nums[i]\n",
    "                \n",
    "        elif compare(first, nums[i]) > nums[i]:\n",
    "            if compare(second, nums[i]) > second: \n",
    "                second = nums[i]\n",
    "                \n",
    "    return second\n",
    "nums = [10, 8, 15, 12, 6, 20, 20, 1]\n",
    "secondMax(nums)"
   ]
  },
  {
   "cell_type": "code",
   "execution_count": null,
   "metadata": {},
   "outputs": [],
   "source": [
    "(10, 8)\n",
    "(10, 15) - (15, 10)\n",
    "(15, 12)\n",
    "(15, 20) - (20, 15)"
   ]
  },
  {
   "cell_type": "markdown",
   "metadata": {},
   "source": [
    "## 163. Missing Ranges (List) (Google 6 Phone) \n",
    "O(N)  \n",
    "O(1)"
   ]
  },
  {
   "cell_type": "code",
   "execution_count": null,
   "metadata": {},
   "outputs": [],
   "source": [
    "class Solution:\n",
    "    def findMissingRanges(self, nums, lower, upper):\n",
    "        \"\"\"\n",
    "        :type nums: List[int]\n",
    "        :type lower: int\n",
    "        :type upper: int\n",
    "        :rtype: List[str]\n",
    "        \"\"\"\n",
    "        \n",
    "        result = []\n",
    "        nums.insert(0, lower -1)\n",
    "        pre = nums[0]\n",
    "        nums.append(upper + 1)\n",
    "        \n",
    "        for n in nums:\n",
    "            if n - pre == 2:\n",
    "                result.append(str(n - 1))\n",
    "#                 print('result1=', result)\n",
    "            elif n - pre > 2:\n",
    "                result.append(str(pre + 1) + \"->\" + str(n - 1))\n",
    "#                 print('result2=', result)\n",
    "            pre = n\n",
    "#             print('pre=', pre)\n",
    "#             print()\n",
    "        return result"
   ]
  },
  {
   "cell_type": "code",
   "execution_count": null,
   "metadata": {},
   "outputs": [],
   "source": [
    "s = Solution()\n",
    "nums = [0, 1, 3, 50, 75]\n",
    "s.findMissingRanges(nums, 0, 99)"
   ]
  },
  {
   "cell_type": "markdown",
   "metadata": {},
   "source": [
    "## 412. Fizz Buzz (Microsoft 3, Amazon 2, Apple)\n",
    "\n",
    "O(N)"
   ]
  },
  {
   "cell_type": "code",
   "execution_count": null,
   "metadata": {},
   "outputs": [],
   "source": [
    "class Solution(object):\n",
    "    def fizzBuzz(self, n):\n",
    "        \"\"\"\n",
    "        :type n: int\n",
    "        :rtype: List[str]\n",
    "        \"\"\"\n",
    "        \n",
    "        \n",
    "        res = []\n",
    "        for i in range(1, n+1):\n",
    "            if not i % 3 and not i % 5:\n",
    "                res.append('FizzBuzz')    \n",
    "                \n",
    "            elif not i % 3:\n",
    "                res.append('Fizz')\n",
    "                \n",
    "            elif not i % 5:\n",
    "                res.append('Buzz')\n",
    "                \n",
    "            else:\n",
    "                res.append(str(i))\n",
    "                \n",
    "        return res\n",
    "            "
   ]
  },
  {
   "cell_type": "markdown",
   "metadata": {},
   "source": [
    "## 859. Buddy Strings (Microsoft Onsite) "
   ]
  },
  {
   "cell_type": "code",
   "execution_count": null,
   "metadata": {},
   "outputs": [],
   "source": [
    "class Solution:\n",
    "    def buddyStrings(self, A: str, B: str) -> bool:\n",
    "        if len(A) != len(B): \n",
    "            return False\n",
    "        \n",
    "        # 兩個字串相等, 且字串中有重複的字元(swap後字串不變)\n",
    "        if A == B and len(set(A)) < len(A): \n",
    "            return True\n",
    "        \n",
    "        # [\"abcd\", \"badc\"], #false\n",
    "        # dif = [('a', 'b'), ('b', 'a'), ('c', 'd'), ('d', 'c')]\n",
    "        # 唯一一組, 且swap後吻合 -> True\n",
    "        dif = [(a, b) for a, b in zip(A, B) if a != b]\n",
    "        #print(dif)\n",
    "        return len(dif) == 2 and dif[0] == dif[1][::-1]"
   ]
  },
  {
   "cell_type": "markdown",
   "metadata": {},
   "source": [
    "## 836. Rectangle Overlap (Microsoft 5, Amazon 3)"
   ]
  },
  {
   "cell_type": "code",
   "execution_count": null,
   "metadata": {},
   "outputs": [],
   "source": [
    "class Solution:\n",
    "    def isRectangleOverlap(self, rec1, rec2):\n",
    "        \"\"\"\n",
    "        :type rec1: List[int]\n",
    "        :type rec2: List[int]\n",
    "        :rtype: bool\n",
    "        \"\"\"\n",
    "        \n",
    "        x1,y1,x2,y2 = 0,1,2,3\n",
    "        \n",
    "        return ( \n",
    "            rec1[x1] < rec2[x2] and # rec1 is to left of rec2\n",
    "            rec1[y1] < rec2[y2] and # rec1 is above rec2\n",
    "            rec2[x1] < rec1[x2] and # rec2 is to the left of rec1\n",
    "            rec2[y1] < rec1[y2]     # rec2 is above rec1\n",
    "        )"
   ]
  },
  {
   "cell_type": "markdown",
   "metadata": {},
   "source": [
    "## 165. Compare Version Numbers (String. List) (Amazon 16, Microsoft 4)  "
   ]
  },
  {
   "cell_type": "code",
   "execution_count": null,
   "metadata": {},
   "outputs": [],
   "source": [
    "# O(N)  \n",
    "# O(N)\n",
    "class Solution:\n",
    "    def compareVersion(self, version1, version2):\n",
    "        \"\"\"\n",
    "        :type version1: str\n",
    "        :type version2: str\n",
    "        :rtype: int\n",
    "        \"\"\"\n",
    "        versions1 = [int(v) for v in version1.split(\".\")]\n",
    "#             print('versions1 =', versions1)\n",
    "        versions2 = [int(v) for v in version2.split(\".\")]\n",
    "#             print('versions2 =', versions2)\n",
    "\n",
    "        length1 = len(versions1)\n",
    "        length2 = len(versions2)\n",
    "        if length1 < length2:\n",
    "            for i in range(length2 - length1):\n",
    "                versions1.append(0)\n",
    "                \n",
    "        else:\n",
    "            for i in range(length1 - length2):\n",
    "                versions2.append(0)\n",
    "                        \n",
    "        for i in range(len(versions1)):\n",
    "            v1 = versions1[i] \n",
    "            v2 = versions2[i] \n",
    "\n",
    "            if v1 > v2:\n",
    "                return 1\n",
    "            elif v1 < v2:\n",
    "                return -1\n",
    "\n",
    "        return 0"
   ]
  },
  {
   "cell_type": "code",
   "execution_count": null,
   "metadata": {},
   "outputs": [],
   "source": [
    "s = Solution()\n",
    "s.compareVersion('0.1', '1.1')"
   ]
  },
  {
   "cell_type": "markdown",
   "metadata": {},
   "source": [
    "## 722. Remove Comments (List[str]) (Microsoft 5)"
   ]
  },
  {
   "cell_type": "code",
   "execution_count": null,
   "metadata": {},
   "outputs": [],
   "source": [
    "class Solution(object):\n",
    "    def removeComments(self, source):\n",
    "        \"\"\"\n",
    "        :type source: List[str]\n",
    "        :rtype: List[str]\n",
    "        \"\"\"\n",
    "        in_block = False\n",
    "        ans = []\n",
    "        for line in source:\n",
    "            i = 0\n",
    "            if not in_block:\n",
    "                newline = []\n",
    "            while i < len(line):\n",
    "                if line[i:i+2] == '//' and not in_block:\n",
    "                    break\n",
    "                \n",
    "                elif line[i:i+2] == '/*' and not in_block:\n",
    "                    in_block = True\n",
    "                    i += 2\n",
    "                elif line[i:i+2] == '*/' and in_block:\n",
    "                    in_block = False\n",
    "                    i += 2\n",
    "                \n",
    "                elif in_block:             \n",
    "                    i += 1\n",
    "                else:\n",
    "                    newline.append(line[i])\n",
    "                    i += 1\n",
    "                \n",
    "            if newline and not in_block:\n",
    "                ans.append(\"\".join(newline))\n",
    "\n",
    "        return ans"
   ]
  },
  {
   "cell_type": "code",
   "execution_count": 27,
   "metadata": {},
   "outputs": [
    {
     "data": {
      "text/plain": [
       "'// jsjjs'"
      ]
     },
     "execution_count": 27,
     "metadata": {},
     "output_type": "execute_result"
    }
   ],
   "source": [
    "s = ' // jsjjs  '\n",
    "s.strip()"
   ]
  },
  {
   "cell_type": "markdown",
   "metadata": {},
   "source": [
    "## 680. Valid Palindrome II (Facebook 67, Microsoft 4)"
   ]
  },
  {
   "cell_type": "code",
   "execution_count": null,
   "metadata": {},
   "outputs": [],
   "source": [
    "class Solution:\n",
    "    def validPalindrome(self, s: str) -> bool:\n",
    "        def is_pali_range(i, j):\n",
    "            return s[i:j+1] == s[i:j+1][::-1]\n",
    "        \n",
    "        for i in range(len(s) // 2):\n",
    "            if s[i] != s[~i]:\n",
    "                j = len(s) - 1 - i\n",
    "                return is_pali_range(i+1, j) or is_pali_range(i, j-1)\n",
    "            \n",
    "\n",
    "        return True"
   ]
  },
  {
   "cell_type": "code",
   "execution_count": null,
   "metadata": {},
   "outputs": [],
   "source": [
    "class Solution(object):\n",
    "    def validPalindrome(self, s):\n",
    "        \"\"\"\n",
    "        :type s: str\n",
    "        :rtype: bool\n",
    "        \"\"\"\n",
    "\n",
    "        def is_pali_range(i, j):\n",
    "            while i < j:\n",
    "                if s[i] != s[j]:\n",
    "                    return False\n",
    "                \n",
    "                i += 1\n",
    "                j -= 1\n",
    "                \n",
    "            return True\n",
    "#             for k in range(i, j):\n",
    "#                 if s[k] != s[j-k+i]:\n",
    "#                     return False\n",
    "                        \n",
    "#             return True\n",
    "        \n",
    "        for i in range(len(s) // 2):\n",
    "            if s[i] != s[~i]:\n",
    "                j = len(s) - 1 - i\n",
    "                return is_pali_range(i+1, j) or is_pali_range(i, j-1)\n",
    "            \n",
    "        return True"
   ]
  },
  {
   "cell_type": "code",
   "execution_count": 30,
   "metadata": {},
   "outputs": [
    {
     "data": {
      "text/plain": [
       "-3"
      ]
     },
     "execution_count": 30,
     "metadata": {},
     "output_type": "execute_result"
    }
   ],
   "source": [
    "~2"
   ]
  },
  {
   "cell_type": "code",
   "execution_count": 32,
   "metadata": {},
   "outputs": [
    {
     "name": "stdout",
     "output_type": "stream",
     "text": [
      "2\n",
      "1\n",
      "0\n"
     ]
    }
   ],
   "source": [
    "array = [1,2,3]\n",
    "for i in range(len(array)-1, -1, -1):\n",
    "    print(i)"
   ]
  },
  {
   "cell_type": "markdown",
   "metadata": {},
   "source": [
    "## 1249. Minimum Remove to Make Valid Parentheses (Facebook 99, Amazon 5, Microsoft 2)"
   ]
  },
  {
   "cell_type": "code",
   "execution_count": null,
   "metadata": {},
   "outputs": [],
   "source": [
    "class Solution(object):\n",
    "    def minRemoveToMakeValid(self, s):\n",
    "        \"\"\"\n",
    "        :type s: str\n",
    "        :rtype: str\n",
    "        \"\"\"\n",
    "        counter = 0\n",
    "        li = list(s)\n",
    "\n",
    "        for i, char in enumerate(li):\n",
    "            if char == '(': \n",
    "                counter += 1\n",
    "            elif char == ')':\n",
    "                if counter > 0: \n",
    "                    counter -= 1\n",
    "                else: li[i] = '#'\n",
    "\n",
    "        for i in range(len(li))[::-1]:\n",
    "            if counter == 0: \n",
    "                break\n",
    "            if li[i] == '(':\n",
    "                li[i] = '#'\n",
    "                counter -= 1\n",
    "\n",
    "        return ''.join(li).replace('#', '')"
   ]
  },
  {
   "cell_type": "code",
   "execution_count": 2,
   "metadata": {},
   "outputs": [
    {
     "name": "stdout",
     "output_type": "stream",
     "text": [
      "2\n",
      "0\n",
      "0\n"
     ]
    }
   ],
   "source": [
    "for n in map(int, '200'):\n",
    "    print(n)\n"
   ]
  },
  {
   "cell_type": "markdown",
   "metadata": {},
   "source": [
    "## 161. One Edit Distance (Amazon 3)"
   ]
  },
  {
   "cell_type": "code",
   "execution_count": null,
   "metadata": {},
   "outputs": [],
   "source": [
    "class Solution:\n",
    "    def isOneEditDistance(self, s, t):\n",
    "        \"\"\"\n",
    "        :type s: str\n",
    "        :type t: str\n",
    "        :rtype: bool\n",
    "        \"\"\"\n",
    "        if s == t:\n",
    "            return False \n",
    "        \n",
    "        if abs(len(s) - len(t)) > 1:\n",
    "            return False\n",
    "        \n",
    "        for i in range(min(len(s), len(t))):\n",
    "            if s[i] != t[i]:\n",
    "                if len(s) == len(t):\n",
    "                    s = s[:i] + t[i] + s[i+1:] # replacement\n",
    "                    \n",
    "                elif len(s) < len(t):\n",
    "                    s = s[:i] + t[i] + s[i:]   # insertion\n",
    "                    \n",
    "                else:\n",
    "                    s = s[:i] + s[i+1:]        # deletion\n",
    "                    \n",
    "                break\n",
    "                \n",
    "        # 后面两个是为了 checking edge case for s =\"a\", t = \"\"\n",
    "        return s == t or s == t[:-1] or s[:-1] == t "
   ]
  },
  {
   "cell_type": "markdown",
   "metadata": {},
   "source": [
    "## 14. Longest Common Prefix (Amazon 6, Google 5, Microsoft 3)"
   ]
  },
  {
   "cell_type": "code",
   "execution_count": null,
   "metadata": {},
   "outputs": [],
   "source": [
    "class Solution(object):\n",
    "    def longestCommonPrefix(self, strs):\n",
    "        \"\"\"\n",
    "        :type strs: List[str]\n",
    "        :rtype: str\n",
    "        \"\"\"\n",
    "        if not strs:\n",
    "            return ''\n",
    "        for i in range(len(strs[0])):\n",
    "            for str in strs:\n",
    "                if i >= len(str) or strs[0][i] != str[i]:\n",
    "                    return strs[0][:i]\n",
    "        return strs[0]"
   ]
  },
  {
   "cell_type": "markdown",
   "metadata": {},
   "source": [
    "## 443. String Compression (String List) (Microsoft Onsite 6)\n",
    "O(N)  \n",
    "O(1)"
   ]
  },
  {
   "cell_type": "code",
   "execution_count": null,
   "metadata": {},
   "outputs": [],
   "source": [
    "class Solution:\n",
    "    def compress(self, strs):\n",
    "        \"\"\"\n",
    "        :type chars: List[str]\n",
    "        :rtype: int\n",
    "        \"\"\"\n",
    "        \n",
    "        count = 1\n",
    "\n",
    "        for i in range(len(strs)-1, -1, -1):\n",
    "            if i > 0 and strs[i] == strs[i-1]:\n",
    "                count += 1\n",
    "                \n",
    "            else:\n",
    "                end = i + count\n",
    "                if count == 1:\n",
    "                    continue\n",
    "                else:\n",
    "                    strs[i: end] = [strs[i]] + list(str(count))\n",
    "                 \n",
    "                count = 1\n",
    "\n",
    "        return len(strs)"
   ]
  },
  {
   "cell_type": "code",
   "execution_count": null,
   "metadata": {},
   "outputs": [],
   "source": [
    "s = '12'\n",
    "for c in s:\n",
    "    print(c)"
   ]
  },
  {
   "cell_type": "code",
   "execution_count": null,
   "metadata": {},
   "outputs": [],
   "source": [
    "class Solution:\n",
    "    def compress(self, chars):\n",
    "        \"\"\"\n",
    "        List[stri]\n",
    "        int\n",
    "        \"\"\"\n",
    "        \n",
    "        if not chars:\n",
    "            return []\n",
    "        \n",
    "        if len(chars) == 1:\n",
    "            return len(chars)\n",
    "        \n",
    "        l = 0\n",
    "        r = 0\n",
    "        \n",
    "        count = 0\n",
    "        while r < len(chars):                               \n",
    "            if chars[l] == chars[r]:\n",
    "                r += 1\n",
    "                count += 1\n",
    "                \n",
    "                if r == len(chars) and count > 1:\n",
    "                    replace = list(str(count))\n",
    "                    chars[l + 1:] = replace\n",
    "   \n",
    "            else:\n",
    "                if count == 1:\n",
    "                    l = r              \n",
    "                    count = 0\n",
    "                    \n",
    "                else:\n",
    "                    replace = list(str(count))                    \n",
    "                    chars[l + 1 : r] = replace\n",
    "                    r = l + len(replace) + 1\n",
    "                    l = r\n",
    "                    count = 0\n",
    "\n",
    "        return len(chars)"
   ]
  },
  {
   "cell_type": "code",
   "execution_count": 8,
   "metadata": {},
   "outputs": [
    {
     "data": {
      "text/plain": [
       "2"
      ]
     },
     "execution_count": 8,
     "metadata": {},
     "output_type": "execute_result"
    },
    {
     "data": {
      "text/plain": [
       "2"
      ]
     },
     "execution_count": 8,
     "metadata": {},
     "output_type": "execute_result"
    },
    {
     "data": {
      "text/plain": [
       "[]"
      ]
     },
     "execution_count": 8,
     "metadata": {},
     "output_type": "execute_result"
    }
   ],
   "source": [
    "l = 0\n",
    "r = 3\n",
    "s = ['a', 'a', 'a', 'b']\n",
    "\n",
    "s[l+1:r] = '2'\n",
    "\n",
    "r = l + 2\n",
    "l = r\n",
    "\n",
    "l \n",
    "r\n",
    "\n",
    "s[1:1]"
   ]
  },
  {
   "cell_type": "code",
   "execution_count": null,
   "metadata": {},
   "outputs": [],
   "source": [
    "class Solution:\n",
    "    def compress(self, chars):\n",
    "        if len(chars) <= 1:\n",
    "            return len(chars)\n",
    "        \n",
    "#         count = 1\n",
    "#         start = 0\n",
    "#         for i in range(len(chars)-1):\n",
    "#             if chars[i] == chars[i+1]:\n",
    "#                 count += 1\n",
    "                \n",
    "#             if chars[i] != chars[i+1]:\n",
    "#                 chars[start+1: i+1] = [str(count)]\n",
    "#                 count = 1\n",
    "#                 start = i + 1\n",
    "        \n",
    "#             if i == len(chars)-2:\n",
    "#                 chars[start+1:] = [str(count)]\n",
    "                \n",
    "#         return len(chars)\n",
    "        \n",
    "        count = 0\n",
    "        l = 0\n",
    "        r = 0\n",
    "        while r <= len(chars) - 1:\n",
    "            if chars[l] == chars[r]:\n",
    "                count += 1\n",
    "                r += 1\n",
    "                print('on', l, r)\n",
    "                if r >= len(chars):\n",
    "                    tmp = []\n",
    "                    for c in str(count):\n",
    "                        tmp.append(c)\n",
    "                        \n",
    "                    print('tmp2', tmp)\n",
    "                    \n",
    "                    chars[l+1:r] = tmp\n",
    "                    \n",
    "            else:\n",
    "                if count == 1:\n",
    "                    count = 0\n",
    "                    l = r\n",
    "                    print('one')\n",
    "                \n",
    "                else:\n",
    "                    tmp = []\n",
    "                    for c in str(count):\n",
    "                        tmp.append(c)\n",
    "                    \n",
    "                    print('tmp1', tmp)\n",
    "                    chars[l+1:r] = tmp \n",
    "                    count = 0\n",
    "                    l = r\n",
    "                    print('l', l)\n",
    "                    print('r', r)\n",
    "                        \n",
    "        return chars"
   ]
  },
  {
   "cell_type": "code",
   "execution_count": null,
   "metadata": {},
   "outputs": [],
   "source": [
    "s = Solution()\n",
    "s.compress([\"a\",\"a\",\"b\",\"b\",\"c\",\"c\",\"c\"])"
   ]
  },
  {
   "cell_type": "markdown",
   "metadata": {},
   "source": [
    "## 68. Text Justification (Google 8, Microsoft 4, Amazon 3) (Hard)"
   ]
  },
  {
   "cell_type": "code",
   "execution_count": null,
   "metadata": {},
   "outputs": [],
   "source": [
    "class Solution:\n",
    "    def fullJustify(self, words, maxWidth):\n",
    "        \"\"\"\n",
    "        :type words: List[str]\n",
    "        :type maxWidth: int\n",
    "        :rtype: List[str]\n",
    "        \"\"\"\n",
    "        \n",
    "        n = len(words)\n",
    "        if n == 0:\n",
    "            return []\n",
    "        \n",
    "        res = []\n",
    "        cur, num_letters = [], 0\n",
    "        for w in words:\n",
    "            if len(cur) + len(w) + num_letters > maxWidth:\n",
    "                if len(cur) == 1:\n",
    "                    res.append(cur[0] + ' '*(maxWidth - num_letters))\n",
    "                else:\n",
    "                    num_space = maxWidth - num_letters\n",
    "                    gap, remain_gap = divmod(num_space, len(cur) - 1)\n",
    "                    for i in range(remain_gap):\n",
    "                        cur[i] += ' '\n",
    "                    res.append((' '*gap).join(cur))\n",
    "                cur, num_letters = [], 0\n",
    "                \n",
    "            cur += [w]\n",
    "            num_letters += len(w)\n",
    "            \n",
    "        res.append(' '.join(cur) + ' '*(maxWidth - num_letters - len(cur) + 1))\n",
    "        return res "
   ]
  },
  {
   "cell_type": "markdown",
   "metadata": {},
   "source": [
    "## 483. Guess the Word (Google 23)"
   ]
  },
  {
   "cell_type": "code",
   "execution_count": null,
   "metadata": {},
   "outputs": [],
   "source": [
    "import random\n",
    "class Solution:\n",
    "    def findSecretWord(self, wordlist, master):\n",
    "        \"\"\"\n",
    "        :type wordlist: List[Str]\n",
    "        :type master: Master\n",
    "        :rtype: None\n",
    "        \"\"\"\n",
    "        \n",
    "        new_wordlist = wordlist\n",
    "        while True:\n",
    "            test_word = random.choice(new_wordlist)\n",
    "            matches = master.guess(test_word)\n",
    "\n",
    "            if matches == 6:\n",
    "                return\n",
    "\n",
    "            wordlist = new_wordlist\n",
    "            new_wordlist = []\n",
    "            for word in wordlist:\n",
    "                dist = 0\n",
    "                for i in range(6):\n",
    "                    if word[i] == test_word[i]:\n",
    "                        dist += 1\n",
    "\n",
    "                if matches == dist:\n",
    "                    new_wordlist.append(word)"
   ]
  },
  {
   "cell_type": "markdown",
   "metadata": {},
   "source": [
    "## 158. Read N Characters Given Read4 II - Call multiple times (String List) (Facebook 15, Google 6) (Hard)"
   ]
  },
  {
   "cell_type": "code",
   "execution_count": null,
   "metadata": {},
   "outputs": [],
   "source": [
    "class Solution:\n",
    "    head, tail, buffer = 0, 0, [''] * 4 ## 定义全局变量\n",
    "\n",
    "    def read(self, buf, n):\n",
    "        \"\"\"\n",
    "        :type buf: Destination buffer (List[str])\n",
    "        :type n: Maximum number of characters to read (int)\n",
    "        :rtype: The number of characters read (int)\n",
    "        \"\"\"\n",
    "        i = 0\n",
    "        while i < n:\n",
    "            if self.head == self.tail: ## read4 的缓存区为空的时候\n",
    "                self.head = 0\n",
    "                self.tail = read4(self.buffer) ## 开始进缓存区\n",
    "                if self.tail == 0:\n",
    "                    break\n",
    "            while i < n and self.head < self.tail:\n",
    "                buf[i] = self.buffer[self.head] ## 读出缓存区的变量\n",
    "                i += 1\n",
    "                self.head += 1\n",
    "        return i"
   ]
  },
  {
   "cell_type": "code",
   "execution_count": null,
   "metadata": {},
   "outputs": [],
   "source": [
    "buf = ['a','b','c']\n",
    "buf[0] = ''\n",
    "buf"
   ]
  },
  {
   "cell_type": "markdown",
   "metadata": {},
   "source": [
    "## 169. Majority Element (Amazon 6, Google 3)"
   ]
  },
  {
   "cell_type": "code",
   "execution_count": null,
   "metadata": {},
   "outputs": [],
   "source": [
    "class Solution:\n",
    "    def majorityElement(self, nums):\n",
    "        \"\"\"\n",
    "        :type nums: List[int]\n",
    "        :rtype: int\n",
    "        \"\"\"\n",
    "        count = 0\n",
    "        for num in nums:\n",
    "            if count == 0:\n",
    "                majority = num\n",
    "                \n",
    "            if num == majority:\n",
    "                count += 1\n",
    "            else:\n",
    "                count -= 1\n",
    "        return majority"
   ]
  },
  {
   "cell_type": "markdown",
   "metadata": {},
   "source": [
    "## 229. Majority Element II (List) (Microsoft 2, Amazon 2)"
   ]
  },
  {
   "cell_type": "code",
   "execution_count": null,
   "metadata": {},
   "outputs": [],
   "source": [
    "class Solution:\n",
    "    def majorityElement(self, nums):\n",
    "        \"\"\"\n",
    "        :type nums: List[int]\n",
    "        :rtype: List[int]\n",
    "        \"\"\"\n",
    "        if not nums:\n",
    "            return []\n",
    "        \n",
    "        count1 = 0\n",
    "        count2 = 0\n",
    "        candidate1 = 0\n",
    "        candidate2 = 1\n",
    "        for n in nums:\n",
    "            if n == candidate1:\n",
    "                count1 += 1\n",
    "#                 print('case1 count1=', count1)\n",
    "            elif n == candidate2:\n",
    "                count2 += 1\n",
    "#                 print('case2 count2=', count2)\n",
    "            elif count1 == 0:\n",
    "                candidate1 = n \n",
    "                count1 = 1\n",
    "#                 print('case3 candidate1=', candidate1)\n",
    "#                 print('case3 count1=', count1)\n",
    "            elif count2 == 0:\n",
    "                candidate2 = n \n",
    "                count2 = 1\n",
    "#                 print('case4 candidate2=', candidate2)\n",
    "#                 print('case4 count2=', count2)\n",
    "            else:\n",
    "                count1 -= 1\n",
    "                count2 -= 1\n",
    "#                 print('x')\n",
    "#         print(candidate1,candidate2)\n",
    "        return [n for n in (candidate1, candidate2)\n",
    "                        if nums.count(n) > len(nums) // 3]"
   ]
  },
  {
   "cell_type": "code",
   "execution_count": null,
   "metadata": {},
   "outputs": [],
   "source": [
    "s = Solution()\n",
    "nums = [1,1,1,3,3,2,2,2]\n",
    "s.majorityElement(nums)"
   ]
  },
  {
   "cell_type": "markdown",
   "metadata": {},
   "source": [
    "## 277. Find the Celebrity (Microsoft Onsite 3, Facebbook 5, Amazon 5)"
   ]
  },
  {
   "cell_type": "code",
   "execution_count": null,
   "metadata": {},
   "outputs": [],
   "source": [
    "# O(N) \n",
    "# O(1)\n",
    "class Solution:\n",
    "    def findCelebrity(self, n):\n",
    "        \"\"\"\n",
    "        :type n: int\n",
    "        :rtype: int\n",
    "        \"\"\"\n",
    "        \n",
    "        celebrity = 0\n",
    "        for i in range(1, n):\n",
    "            if knows(celebrity, i):\n",
    "\t\t\t\t#说明当前的这个celebrity肯定不是名人，因为他认识别的人\n",
    "                celebrity = i\n",
    "\t\t# 到这里的 celebrity，必定不认识 [celebrity + 1, n - 1]的所有人\n",
    "        for i in range(celebrity):\n",
    "            if knows(celebrity, i): # 为了确保celebrity 不认识 [0, celebrity - 1]\n",
    "                return -1\n",
    "        \n",
    "        for i in range(n):\n",
    "            if not knows(i, celebrity): # 为了确保 每个人都认识 celebrity\n",
    "                return -1\n",
    "        return celebrity"
   ]
  },
  {
   "cell_type": "code",
   "execution_count": null,
   "metadata": {},
   "outputs": [],
   "source": [
    "class Solution():\n",
    "    def findCelebrity(self, n):\n",
    "        \"\"\"\n",
    "        :type n: int\n",
    "        :rtype: int\n",
    "        \"\"\"\n",
    "        res = 0\n",
    "        \n",
    "        # if celebrity > candidate, candidate must change to the celebrity, cause (knows(candidate, celebrity) == True)\n",
    "        # if candidate == celebrity: candidate won't change, cause celebrity knows nobody.\n",
    "        # after the loop, candidate is the only one can be the celebrity\n",
    "        for i in range(1, n):\n",
    "            if knows(res, i):\n",
    "                res = i\n",
    "                \n",
    "        # check people < candidate\n",
    "        for i in range(res):\n",
    "            if knows(res, i) or not(knows(i, res)):\n",
    "                return -1\n",
    "        \n",
    "        # check if people > candidate are all knows the candidate\n",
    "        for i in range(res+1, n):\n",
    "            if not knows(i, res):\n",
    "                return -1\n",
    "            \n",
    "        return res"
   ]
  },
  {
   "cell_type": "markdown",
   "metadata": {},
   "source": [
    "### bisect"
   ]
  },
  {
   "cell_type": "markdown",
   "metadata": {},
   "source": [
    "## 315. Count of Smaller Numbers After Self (bisect) (List) (Google 11, Amazon 6->3)\n",
    "\n",
    "https://docs.python.org/3.0/library/bisect.html\n",
    "\n",
    "O(N^2)"
   ]
  },
  {
   "cell_type": "code",
   "execution_count": 33,
   "metadata": {},
   "outputs": [],
   "source": [
    "import bisect\n",
    "class Solution:\n",
    "    def countSmaller(self, nums):\n",
    "        counts = []\n",
    "        done = []\n",
    "        for num in nums[::-1]:\n",
    "            counts.append(bisect.bisect_left(done, num))\n",
    "#             print('counts=', counts)\n",
    "            bisect.insort(done, num)\n",
    "#             print('done=', done)\n",
    "        return counts[::-1]"
   ]
  },
  {
   "cell_type": "code",
   "execution_count": 34,
   "metadata": {},
   "outputs": [
    {
     "data": {
      "text/plain": [
       "[2, 1, 1, 0]"
      ]
     },
     "execution_count": 34,
     "metadata": {},
     "output_type": "execute_result"
    }
   ],
   "source": [
    "s = Solution()\n",
    "nums = [5,2,6,1]\n",
    "s.countSmaller(nums)"
   ]
  },
  {
   "cell_type": "code",
   "execution_count": null,
   "metadata": {},
   "outputs": [],
   "source": [
    "import bisect\n",
    "\n",
    "data = [5,1,5]\n",
    "bisect.bisect(data, 5)"
   ]
  },
  {
   "cell_type": "markdown",
   "metadata": {},
   "source": [
    "## 480. Sliding Window Median (bisect) (Facebook 6, Amazon 6, Google 2)"
   ]
  },
  {
   "cell_type": "code",
   "execution_count": null,
   "metadata": {},
   "outputs": [],
   "source": [
    "import bisect\n",
    "class Solution:\n",
    "    def medianSlidingWindow(self, nums, k):\n",
    "        \"\"\"\n",
    "        :type nums: List[int]\n",
    "        :type k: int\n",
    "        :rtype: List[float]\n",
    "        \"\"\"\n",
    "        if not nums:\n",
    "            return []\n",
    "        \n",
    "        window = sorted(nums[:k])\n",
    "        res = []\n",
    "        if k % 2 == 0:\n",
    "            res.append((window[k // 2] + window[k // 2 - 1]) / 2)\n",
    "        else:\n",
    "            res.append(window[k // 2])\n",
    "        \n",
    "        for i in range(k, len(nums)):\n",
    "            bisect.insort(window, nums[i])\n",
    "            index = bisect.bisect_left(window, nums[i - k])\n",
    "            window.pop(index)\n",
    "            if k % 2 == 0:\n",
    "                res.append((window[k // 2] + window[k // 2 - 1]) / 2)\n",
    "            else:\n",
    "                res.append(window[k // 2])\n",
    "        return res"
   ]
  },
  {
   "cell_type": "markdown",
   "metadata": {},
   "source": [
    "## 239. Sliding Window Maximum (List, Queue) (Amazon Onsite 21, Facebook 6, Google 5, Microsoft Onsite 1, 5)\n"
   ]
  },
  {
   "cell_type": "code",
   "execution_count": null,
   "metadata": {},
   "outputs": [],
   "source": [
    "class Solution():\n",
    "    def maxSlidingWindow(self, nums, k):\n",
    "        \"\"\"\n",
    "        :type nums: List[int]\n",
    "        :type k: int\n",
    "        :rtype: List[int]\n",
    "        \"\"\"\n",
    "        if not nums:\n",
    "            return []\n",
    "\n",
    "        if k == 1:\n",
    "            return nums\n",
    "        \n",
    "        res = [max(nums[:k])]\n",
    "        \n",
    "        for i in range(k, len(nums)):\n",
    "            if nums[i] >= res[-1]:\n",
    "                res.append(nums[i])\n",
    "            else:\n",
    "                if nums[i - k] < res[-1]:\n",
    "                    res.append(res[-1])\n",
    "                    \n",
    "                elif nums[i - k] == res[-1]:\n",
    "                    res.append(max(nums[i-k+1:i+1]))\n",
    "                    \n",
    "        return res"
   ]
  },
  {
   "cell_type": "markdown",
   "metadata": {},
   "source": [
    "use heap to get max?"
   ]
  },
  {
   "cell_type": "code",
   "execution_count": null,
   "metadata": {},
   "outputs": [],
   "source": [
    "# O(N)  \n",
    "# O(N)\n",
    "class Solution:\n",
    "    def maxSlidingWindow(self, nums, k):\n",
    "        \"\"\"\n",
    "        :type nums: List[int]\n",
    "        :type k: int\n",
    "        :rtype: List[int]\n",
    "        \"\"\"\n",
    "        if not nums:\n",
    "            return []\n",
    "\n",
    "        queue = []\n",
    "        res = []\n",
    "\n",
    "        for i in range(k):\n",
    "            while queue:\n",
    "                if nums[i] > nums[queue[-1]]:\n",
    "                    queue.pop()\n",
    "                else:\n",
    "                    break\n",
    "            queue.append(i)\n",
    "\n",
    "        for i in range(k, len(nums)):\n",
    "            res.append(nums[queue[0]])\n",
    "            if queue[0] < i - k + 1:\n",
    "                queue.pop(0)\n",
    "\n",
    "            while queue:\n",
    "                if nums[i] > nums[queue[-1]]:\n",
    "                    queue.pop()\n",
    "                else:\n",
    "                    break\n",
    "            queue.append(i)\n",
    "\n",
    "        res.append(nums[queue[0]])\n",
    "        return res"
   ]
  },
  {
   "cell_type": "code",
   "execution_count": null,
   "metadata": {},
   "outputs": [],
   "source": [
    "from collections import deque\n",
    "class Solution:\n",
    "    def maxSlidingWindow(self, nums, k):\n",
    "        \"\"\"\n",
    "        :type nums: List[int]\n",
    "        :type k: int\n",
    "        :rtype: List[int]\n",
    "        \"\"\"       \n",
    "        # base cases\n",
    "        n = len(nums)\n",
    "        if n * k == 0:\n",
    "            return []\n",
    "        if k == 1:\n",
    "            return nums\n",
    "        \n",
    "        def clean_deque(i):\n",
    "            # remove indexes of elements not from sliding window\n",
    "            if deq and deq[0] == i - k:\n",
    "                deq.pop(0)\n",
    "                \n",
    "            # remove from deq indexes of all elements \n",
    "            # which are smaller than current element nums[i]\n",
    "            while deq and nums[i] > nums[deq[-1]]:\n",
    "                deq.pop()\n",
    "        \n",
    "        # init deque and output\n",
    "        deq = []\n",
    "        max_idx = 0\n",
    "        for i in range(k):\n",
    "            clean_deque(i)\n",
    "            deq.append(i)\n",
    "            # compute max in nums[:k]\n",
    "            if nums[i] > nums[max_idx]:\n",
    "                max_idx = i\n",
    "                \n",
    "        output = [nums[max_idx]]\n",
    "        \n",
    "        # build output\n",
    "        for i in range(k, n):\n",
    "            clean_deque(i)          \n",
    "            deq.append(i)\n",
    "            output.append(nums[deq[0]])\n",
    "        return output"
   ]
  },
  {
   "cell_type": "markdown",
   "metadata": {},
   "source": [
    "### (String) Matrix. O(N^2) O(N^2)"
   ]
  },
  {
   "cell_type": "markdown",
   "metadata": {},
   "source": [
    "## 289 Game of Life (Matrix) (Amazon 10, Google 2 Phone)"
   ]
  },
  {
   "cell_type": "code",
   "execution_count": null,
   "metadata": {},
   "outputs": [],
   "source": [
    "# O(n^2)\n",
    "# O(1)\n",
    "class Solution:\n",
    "    def gameOfLife(self, board):\n",
    "        \"\"\"\n",
    "        Do not return anything, modify board in-place instead.\n",
    "        \"\"\"\n",
    "        # Neighbors array to find 8 neighboring cells for a given cell\n",
    "        neighbors = [(1,0), (1,-1), (0,-1), (-1,-1), (-1,0), (-1,1), (0,1), (1,1)]\n",
    "\n",
    "        m = len(board)\n",
    "        n = len(board[0])\n",
    "\n",
    "        # Iterate through board cell by cell.\n",
    "        for i in range(m):\n",
    "            for j in range(n):\n",
    "\n",
    "                # For each cell count the number of live neighbors.\n",
    "                live_neighbors = 0\n",
    "                for di, dj in neighbors:\n",
    "\n",
    "                    # row and column of the neighboring cell\n",
    "                    r = (i + di)\n",
    "                    c = (j + dj)\n",
    "\n",
    "                    # Check the validity of the neighboring cell and if it was originally a live cell.\n",
    "                    if 0 <= r < m and 0 <= c < n and abs(board[r][c]) == 1:\n",
    "                        live_neighbors += 1\n",
    "\n",
    "                # Rule 1 or Rule 3\n",
    "                if board[i][j] == 1 and (live_neighbors < 2 or live_neighbors > 3):\n",
    "                    # -1 signifies the cell is now dead but originally was live.\n",
    "                    board[i][j] = -1\n",
    "                # Rule 4\n",
    "                if board[i][j] == 0 and live_neighbors == 3:\n",
    "                    # 2 signifies the cell is now live but was originally dead.\n",
    "                    board[i][j] = 2\n",
    "\n",
    "        # Get the final representation for the newly updated board.\n",
    "        for i in range(m):\n",
    "            for j in range(n):\n",
    "                if board[i][j] > 0:\n",
    "                    board[i][j] = 1\n",
    "                else:\n",
    "                    board[i][j] = 0"
   ]
  },
  {
   "cell_type": "code",
   "execution_count": null,
   "metadata": {},
   "outputs": [],
   "source": [
    "class Solution:\n",
    "    def gameOfLife(self, board):\n",
    "        \"\"\"\n",
    "        Do not return anything, modify board in-place instead.\n",
    "        \"\"\"\n",
    "        # Neighbors array to find 8 neighboring cells for a given cell\n",
    "        neighbors = [(1,0), (1,-1), (0,-1), (-1,-1), (-1,0), (-1,1), (0,1), (1,1)]\n",
    "\n",
    "        dp = []\n",
    "        for n in board:\n",
    "            dp.append(n.copy())\n",
    "        \n",
    "        rows = len(board)\n",
    "        cols = len(board[0])\n",
    "\n",
    "        # Iterate through board cell by cell.\n",
    "        for row in range(rows):\n",
    "            for col in range(cols):\n",
    "\n",
    "                # For each cell count the number of live neighbors.\n",
    "                live_neighbors = 0\n",
    "                for neighbor in neighbors:\n",
    "\n",
    "                    # row and column of the neighboring cell\n",
    "                    r = (row + neighbor[0])\n",
    "                    c = (col + neighbor[1])\n",
    "\n",
    "                    # Check the validity of the neighboring cell and if it was originally a live cell.\n",
    "                    if (r < rows and r >= 0) and (c < cols and c >= 0) and dp[r][c] == 1:\n",
    "                        live_neighbors += 1\n",
    "\n",
    "                # Rule 1 or Rule 3\n",
    "                if dp[row][col] == 1 and (live_neighbors < 2 or live_neighbors > 3):\n",
    "                    # -1 signifies the cell is now dead but originally was live.\n",
    "                    board[row][col] = 0\n",
    "                # Rule 4\n",
    "                if dp[row][col] == 0 and live_neighbors == 3:\n",
    "                    # 2 signifies the cell is now live but was originally dead.\n",
    "                    board[row][col] = 1"
   ]
  },
  {
   "cell_type": "code",
   "execution_count": null,
   "metadata": {},
   "outputs": [],
   "source": [
    "class Solution:\n",
    "    def gameOfLife(self, board):\n",
    "        \"\"\"\n",
    "        :type board: List[List[int]]\n",
    "        :rtype: None Do not return anything, modify board in-place instead.\n",
    "        \"\"\"\n",
    "        \n",
    "        for i in range(len(board)):\n",
    "            for j in range(len(board[i])):\n",
    "                live=0\n",
    "                try:\n",
    "                    l_1=board[i-1][j-1]\n",
    "                    if l_1>0 and i>0 and j>0:\n",
    "                        live+=1\n",
    "                except IndexError:\n",
    "                    pass\n",
    "                \n",
    "                try:\n",
    "                    l_2=board[i-1][j]\n",
    "                    if l_2>0 and i>0:\n",
    "                        live+=1\n",
    "                except IndexError:\n",
    "                    pass\n",
    "                \n",
    "                try:\n",
    "                    l_3=board[i-1][j+1]\n",
    "                    if l_3>0 and i>0:\n",
    "                        live+=1\n",
    "                except IndexError:\n",
    "                    pass\n",
    "                \n",
    "                try:\n",
    "                    l_4=board[i][j-1]\n",
    "                    if l_4>0 and j>0:\n",
    "                        live+=1\n",
    "                except IndexError:\n",
    "                    pass\n",
    "                \n",
    "                try:\n",
    "                    l_5=board[i][j+1]\n",
    "                    if l_5>0:\n",
    "                        live+=1\n",
    "                except IndexError:\n",
    "                    pass\n",
    "                try:\n",
    "                    l_6=board[i+1][j-1]\n",
    "                    if l_6>0 and j>0:\n",
    "                        live+=1\n",
    "                except IndexError:\n",
    "                    pass\n",
    "                \n",
    "                try:\n",
    "                    l_7=board[i+1][j]\n",
    "                    if l_7>0:\n",
    "                        live+=1\n",
    "                except IndexError:\n",
    "                    pass\n",
    "                \n",
    "                try:\n",
    "                    l_8=board[i+1][j+1]\n",
    "                    if l_8>0:\n",
    "                        live+=1\n",
    "                except IndexError:\n",
    "                    pass  \n",
    "                \n",
    "                if board[i][j]>0:\n",
    "                    if live<2 or live>3:\n",
    "                        board[i][j]=2\n",
    "                    elif live==2 or live==3:\n",
    "                        board[i][j]=1\n",
    "                else:\n",
    "                    if live==3:\n",
    "                        board[i][j]=-1\n",
    "                        \n",
    "        for i in range(len(board)):\n",
    "            for j in range(len(board[i])):\n",
    "                if board[i][j]==2:\n",
    "                    board[i][j]=0\n",
    "                if board[i][j]==-1:\n",
    "                    board[i][j]=1\n"
   ]
  },
  {
   "cell_type": "markdown",
   "metadata": {
    "toc-hr-collapsed": false
   },
   "source": [
    "## 36. Valid Sudoku (String Matrix) (Uber 7, Microsoft 7, Amazon 5->9, Apple 7, Google 3)\n",
    "\n",
    "O(m*n)  \n",
    "O(1)"
   ]
  },
  {
   "cell_type": "code",
   "execution_count": null,
   "metadata": {},
   "outputs": [],
   "source": [
    "class Solution:\n",
    "    def isValidSudoku(self, board):\n",
    "        \"\"\"\n",
    "        :type board: List[List[str]]\n",
    "        :rtype: bool\n",
    "        \"\"\"\n",
    "        def is_row_valid(board):\n",
    "            for row in board:\n",
    "                if not is_unit_valid(row):\n",
    "                    return False\n",
    "            return True\n",
    "\n",
    "        def is_col_valid(board):\n",
    "            for col in zip(*board):\n",
    "                if not is_unit_valid(col):\n",
    "                    return False\n",
    "            return True\n",
    "\n",
    "        def is_square_valid(board):\n",
    "            for i in (0, 3, 6):\n",
    "                for j in (0, 3, 6):\n",
    "                    square = [board[x][y] for x in range(i, i + 3) for y in range(j, j + 3)]\n",
    "    #                 print(square)\n",
    "    #                 print()\n",
    "                    if not is_unit_valid(square):\n",
    "                        return False\n",
    "            return True\n",
    "\n",
    "        def is_unit_valid(unit):\n",
    "            unit = [i for i in unit if i != '.']\n",
    "            return len(set(unit)) == len(unit)\n",
    "\n",
    "        \n",
    "        return (is_row_valid(board) and\n",
    "                is_col_valid(board) and\n",
    "                is_square_valid(board))"
   ]
  },
  {
   "cell_type": "code",
   "execution_count": null,
   "metadata": {},
   "outputs": [],
   "source": [
    "board = [\n",
    "  [\"5\",\"3\",\".\",\".\",\"7\",\".\",\".\",\".\",\".\"],\n",
    "  [\"6\",\".\",\".\",\"1\",\"9\",\"5\",\".\",\".\",\".\"],\n",
    "  [\".\",\"9\",\"8\",\".\",\".\",\".\",\".\",\"6\",\".\"],\n",
    "  [\"8\",\".\",\".\",\".\",\"6\",\".\",\".\",\".\",\"3\"],\n",
    "  [\"4\",\".\",\".\",\"8\",\".\",\"3\",\".\",\".\",\"1\"],\n",
    "  [\"7\",\".\",\".\",\".\",\"2\",\".\",\".\",\".\",\"6\"],\n",
    "  [\".\",\"6\",\".\",\".\",\".\",\".\",\"2\",\"8\",\".\"],\n",
    "  [\".\",\".\",\".\",\"4\",\"1\",\"9\",\".\",\".\",\"5\"],\n",
    "  [\".\",\".\",\".\",\".\",\"8\",\".\",\".\",\"7\",\"9\"]\n",
    "]\n",
    "s = Solution()\n",
    "s.isValidSudoku(board)"
   ]
  },
  {
   "cell_type": "code",
   "execution_count": null,
   "metadata": {},
   "outputs": [],
   "source": [
    "class Solution:\n",
    "    def isValidSudoku(self, board):\n",
    "        \"\"\"\n",
    "        :type board: List[List[str]]\n",
    "        :rtype: bool\n",
    "        \"\"\"\n",
    "        # init data\n",
    "        rows = [{} for i in range(9)]\n",
    "        columns = [{} for i in range(9)]\n",
    "        boxes = [{} for i in range(9)]\n",
    "\n",
    "        # validate a board\n",
    "        for i in range(9):\n",
    "            for j in range(9):\n",
    "                num = board[i][j]\n",
    "                if num != '.':\n",
    "                    num = int(num)\n",
    "                    box_index = (i // 3 ) * 3 + j // 3\n",
    "                    \n",
    "                    # keep the current cell value\n",
    "                    rows[i][num] = rows[i].get(num, 0) + 1\n",
    "                    columns[j][num] = columns[j].get(num, 0) + 1\n",
    "                    boxes[box_index][num] = boxes[box_index].get(num, 0) + 1\n",
    "                    \n",
    "                    # check if this value has been already seen before\n",
    "                    if rows[i][num] > 1 or columns[j][num] > 1 or boxes[box_index][num] > 1:\n",
    "                        return False         \n",
    "        return True"
   ]
  },
  {
   "cell_type": "code",
   "execution_count": null,
   "metadata": {},
   "outputs": [],
   "source": [
    "matrix = [['a'] * 4 for j in range(3)]\n",
    "matrix"
   ]
  },
  {
   "cell_type": "code",
   "execution_count": null,
   "metadata": {},
   "outputs": [],
   "source": [
    "[[1] for i in range(9) for i in range(9)]"
   ]
  },
  {
   "cell_type": "markdown",
   "metadata": {},
   "source": [
    "## 794. Valid Tic-Tac-Toe State\t(String Matrix) (Microsoft Onsite 4)\n",
    "O(m*n)  \n",
    "O(1)  \n",
    "\n",
    "To find the validity of a given board, we could first think about the cases where the board is invalid\n",
    "\n",
    "Since X starts first, x_count >= o_count. So if o_count > x_count, we can return False\n",
    "Since the players take turns, we could also return False if x_count-o_count>1\n",
    "After the corner cases, this is the algorithm used:\n",
    "\n",
    "If player O has a winning condition, also check the following:\n",
    "a) If player X also has a winning condition, return False\n",
    "b) If x_count != o_count , return False (Since player O always plays second, it has to meet this condition always)\n",
    "If player X has a winning condition, check the following:\n",
    "a) If x_count != o_count + 1, return False (Since player X plays the first move, if player X wins, the player X's count would be 1 more than player O)"
   ]
  },
  {
   "cell_type": "code",
   "execution_count": null,
   "metadata": {},
   "outputs": [],
   "source": [
    "class Solution:    \n",
    "    def validTicTacToe(self, board):\n",
    "        \"\"\"\n",
    "        :type board: List[str]\n",
    "        :rtype: bool\n",
    "        \"\"\"    \n",
    "        X, O = 0, 0\n",
    "        for i in range(len(board)):\n",
    "            for j in range(len(board[0])):\n",
    "                if board[i][j] == \"X\":\n",
    "                    X += 1\n",
    "                elif  board[i][j] == \"O\":\n",
    "                    O += 1\n",
    "        \n",
    "        def win(board, player):\n",
    "            \"\"\"\n",
    "            Check if the given player has a win position.\n",
    "            Return True if there is a win position. Else return False.\n",
    "            \"\"\"\n",
    "        \n",
    "            #Check the rows\n",
    "            for i in range(len(board)):\n",
    "                if board[i][0] == board[i][1] == board[i][2] == player:\n",
    "                    return True                        \n",
    "\n",
    "            #Check the columns\n",
    "            for i in range(len(board)):\n",
    "                if board[0][i] == board[1][i] == board[2][i] == player:\n",
    "                    return True \n",
    "\n",
    "            #Check the diagonals\n",
    "            if board[0][0] == board[1][1] == board[2][2]  == player or \\\n",
    "                   board[0][2] == board[1][1] == board[2][0] == player:\n",
    "                return True\n",
    "\n",
    "            return False\n",
    "        \n",
    "        if X == O:\n",
    "            if win(board, 'O') and win(board, 'X'):\n",
    "                return False\n",
    "            \n",
    "            if win(board, 'X'):\n",
    "                return False\n",
    "            \n",
    "            if win(board, 'O'):\n",
    "                return True\n",
    "        \n",
    "            return True\n",
    "        \n",
    "        elif X == O + 1:\n",
    "            if win(board, 'O') and win(board, 'X'):\n",
    "                return False\n",
    "            \n",
    "            if win(board, 'X'):\n",
    "                return True\n",
    "            \n",
    "            if win(board, 'O'):\n",
    "                return False\n",
    "            \n",
    "            return True\n",
    "        \n",
    "        else:\n",
    "            return False"
   ]
  },
  {
   "cell_type": "code",
   "execution_count": null,
   "metadata": {},
   "outputs": [],
   "source": [
    "class Solution:    \n",
    "    def validTicTacToe(self, board):\n",
    "        \"\"\"\n",
    "        :type board: List[str]\n",
    "        :rtype: bool\n",
    "        \"\"\"    \n",
    "        X, O = 0, 0\n",
    "        for i in range(len(board)):\n",
    "            for j in range(len(board[0])):\n",
    "                if board[i][j] == \"X\":\n",
    "                    X += 1\n",
    "                elif  board[i][j] == \"O\":\n",
    "                    O += 1\n",
    "\n",
    "        if O not in {X-1, X}: \n",
    "            return False\n",
    "        \n",
    "        def win(board, player):\n",
    "            \"\"\"\n",
    "            Check if the given player has a win position.\n",
    "            Return True if there is a win position. Else return False.\n",
    "            \"\"\"\n",
    "        \n",
    "            #Check the rows\n",
    "            for i in range(len(board)):\n",
    "                if board[i][0] == board[i][1] == board[i][2] == player:\n",
    "                    return True                        \n",
    "\n",
    "            #Check the columns\n",
    "            for i in range(len(board)):\n",
    "                if board[0][i] == board[1][i] == board[2][i] == player:\n",
    "                    return True \n",
    "\n",
    "            #Check the diagonals\n",
    "            if board[0][0] == board[1][1] == board[2][2]  == player or \\\n",
    "                   board[0][2] == board[1][1] == board[2][0] == player:\n",
    "                return True\n",
    "\n",
    "            return False\n",
    "        \n",
    "        if win(board, 'O'):\n",
    "            if win(board, 'X'):\n",
    "                return False\n",
    "            return O == X  \n",
    "        \n",
    "        if win(board, 'X') and X != O + 1:\n",
    "            return False\n",
    "        \n",
    "        return True"
   ]
  },
  {
   "cell_type": "markdown",
   "metadata": {},
   "source": [
    "## 54. Spiral Matrix (Matrix) (Amazon OA 19, Microsoft 8, Google 5)  \n",
    "O(m*n)  \n",
    "O(1)"
   ]
  },
  {
   "cell_type": "code",
   "execution_count": null,
   "metadata": {},
   "outputs": [],
   "source": [
    "class Solution:\n",
    "    def spiralOrder(self, matrix: List[List[int]]) -> List[int]:\n",
    "        if not matrix:\n",
    "            return []\n",
    "        \n",
    "        cur = 0\n",
    "        \n",
    "        m = len(matrix)\n",
    "        n = len(matrix[0])\n",
    "        \n",
    "        res = []\n",
    "               \n",
    "        maxUp = maxLeft = 0\n",
    "        maxRight = n - 1\n",
    "        maxDown = m - 1\n",
    "        direction = 0\n",
    "        \n",
    "        while True:\n",
    "            if cur == m * n:\n",
    "                return res\n",
    "            \n",
    "            if direction == 0: #go right\n",
    "                for i in range(maxLeft, maxRight+1):\n",
    "                    cur += 1\n",
    "                    res.append(matrix[maxUp][i])\n",
    "                    \n",
    "                maxUp += 1\n",
    "            elif direction == 1: # go down\n",
    "                for i in range(maxUp, maxDown+1):\n",
    "                    cur += 1\n",
    "                    res.append(matrix[i][maxRight])\n",
    "                    \n",
    "                maxRight -= 1\n",
    "            elif direction == 2: # go left\n",
    "                for i in range(maxRight, maxLeft - 1, -1):\n",
    "                    cur += 1\n",
    "                    res.append(matrix[maxDown][i])\n",
    "                maxDown -= 1\n",
    "            else: #go up\n",
    "                for i in range(maxDown, maxUp - 1, -1):\n",
    "                    cur += 1\n",
    "                    res.append(matrix[i][maxLeft])\n",
    "                maxLeft += 1\n",
    "                \n",
    "            direction = (direction + 1 ) % 4"
   ]
  },
  {
   "cell_type": "code",
   "execution_count": null,
   "metadata": {},
   "outputs": [],
   "source": [
    "class Solution:\n",
    "    def spiralOrder(self, matrix):\n",
    "        \"\"\"\n",
    "        :type matrix: List[List[int]]\n",
    "        :rtype: List[int]\n",
    "        \"\"\"\n",
    "        if not matrix:\n",
    "            return []\n",
    "        \n",
    "        return list(matrix.pop(0)) + self.spiralOrder(list(zip(*matrix))[::-1])"
   ]
  },
  {
   "cell_type": "code",
   "execution_count": null,
   "metadata": {},
   "outputs": [],
   "source": [
    "s = Solution()\n",
    "matrix = [[1, 2, 3],\n",
    "          [4, 5, 6],\n",
    "          [7, 8, 9]]\n",
    "\n",
    "print(matrix and matrix.pop(0))\n",
    "\n",
    "matrix2 = list(zip(*matrix))[::-1]\n",
    "print('matrix2 =', matrix2)\n",
    "print(matrix2 and matrix2.pop(0))\n",
    "\n",
    "\n",
    "matrix3 = list(zip(*matrix2))[::-1]\n",
    "print('matrix3 =', matrix3)\n",
    "print(matrix3 and matrix3.pop(0))\n",
    "\n",
    "matrix4 = list(zip(*matrix3))[::-1]\n",
    "print('matrix4 =', matrix4)\n",
    "print(matrix4 and matrix4.pop(0))\n",
    "\n",
    "matrix5 = list(zip(*matrix4))[::-1]\n",
    "print('matrix5 =', matrix5)\n",
    "print(matrix5 and matrix5.pop(0))\n",
    "\n",
    "matrix6 = list(zip(*matrix5))[::-1]\n",
    "print('matrix6 =', matrix6)\n",
    "print(matrix5 and matrix6.pop(0))\n",
    "\n",
    "# s.spiralOrder(matrix)\n"
   ]
  },
  {
   "cell_type": "code",
   "execution_count": null,
   "metadata": {},
   "outputs": [],
   "source": [
    "1 and 32"
   ]
  },
  {
   "cell_type": "code",
   "execution_count": null,
   "metadata": {},
   "outputs": [],
   "source": [
    "l1 = [1,2,3]\n",
    "l1 += [3]\n",
    "l1"
   ]
  },
  {
   "cell_type": "markdown",
   "metadata": {},
   "source": [
    "## 59. Spiral Matrix II (Microsoft Onsite, Amazon 3)"
   ]
  },
  {
   "cell_type": "code",
   "execution_count": null,
   "metadata": {},
   "outputs": [],
   "source": [
    "class Solution:\n",
    "    def generateMatrix(self, n):\n",
    "        \"\"\"\n",
    "        :type n: int\n",
    "        :rtype: List[List[int]]\n",
    "        \"\"\"\n",
    "        res = []\n",
    "        l = n * n + 1\n",
    "        while l > 1:\n",
    "            l, r = l - len(res), l\n",
    "            res = [list(range(l, r))] + list(zip(*res[::-1]))\n",
    "        return res"
   ]
  },
  {
   "cell_type": "code",
   "execution_count": null,
   "metadata": {},
   "outputs": [],
   "source": [
    "class Solution():\n",
    "    def generateMatrix(self, n):\n",
    "        \"\"\"\n",
    "        :type n: int\n",
    "        :rtype: List[List[int]]\n",
    "        \"\"\"\n",
    "        if not n:\n",
    "            return\n",
    "        \n",
    "        \n",
    "        cur = 0\n",
    "        matrix = [[0 for i in range(n)] for j in range(n)]\n",
    "        maxUp = maxLeft = 0 \n",
    "        maxDown = maxRight = n - 1\n",
    "        direction = 0\n",
    "        \n",
    "        while True:\n",
    "            if cur == n * n:\n",
    "                return matrix\n",
    "            \n",
    "            if direction == 0: #go right\n",
    "                for i in range(maxLeft, maxRight+1):\n",
    "                    cur += 1\n",
    "                    matrix[maxUp][i] = cur\n",
    "                maxUp += 1\n",
    "            elif direction == 1: # go down\n",
    "                for i in range(maxUp, maxDown+1):\n",
    "                    cur += 1\n",
    "                    matrix[i][maxRight] = cur\n",
    "                maxRight -= 1\n",
    "            elif direction == 2: # go left\n",
    "                for i in range(maxRight, maxLeft - 1, -1):\n",
    "                    cur += 1 \n",
    "                    matrix[maxDown][i] = cur\n",
    "                maxDown -= 1\n",
    "            else: #go up\n",
    "                for i in range(maxDown, maxUp - 1, -1):\n",
    "                    cur += 1\n",
    "                    matrix[i][maxLeft] = cur\n",
    "                maxLeft +=1       \n",
    "            \n",
    "            direction = (direction + 1 ) % 4"
   ]
  },
  {
   "cell_type": "markdown",
   "metadata": {},
   "source": [
    "## 48. Rotate Image (Matrix) (Amazon 9, Microsoft Onsite 8)\n",
    "\n",
    "O(row*col)  \n",
    "O(1)"
   ]
  },
  {
   "cell_type": "code",
   "execution_count": null,
   "metadata": {},
   "outputs": [],
   "source": [
    "class Solution:\n",
    "    def rotate(self, matrix):\n",
    "        \"\"\"\n",
    "        :type matrix: List[List[int]]\n",
    "        :rtype: void Do not return anything, modify matrix in-place instead.\n",
    "        \"\"\"\n",
    "        matrix[:] = zip(*matrix[::-1])\n",
    "        "
   ]
  },
  {
   "cell_type": "code",
   "execution_count": null,
   "metadata": {},
   "outputs": [],
   "source": [
    "s = Solution()\n",
    "matrix = [\n",
    "  [1,2,3],\n",
    "  [4,5,6],\n",
    "  [7,8,9]\n",
    "]\n",
    "# matrix[:]\n",
    "# s.rotate(matrix)\n",
    "# matrix\n",
    "x = zip(*matrix[::-1])\n",
    "for i in x:\n",
    "    print(i)"
   ]
  },
  {
   "cell_type": "code",
   "execution_count": null,
   "metadata": {},
   "outputs": [],
   "source": [
    "list(zip(*matrix[::-1]))"
   ]
  },
  {
   "cell_type": "code",
   "execution_count": null,
   "metadata": {},
   "outputs": [],
   "source": [
    "class Solution:\n",
    "    def rotate(self, matrix):\n",
    "        \"\"\"\n",
    "        :type matrix: List[List[int]]\n",
    "        :rtype: void Do not return anything, modify matrix in-place instead.\n",
    "        \"\"\"\n",
    "        n = len(matrix)        \n",
    "        # transpose matrix\n",
    "        for i in range(n):\n",
    "            for j in range(i, n):\n",
    "                matrix[j][i], matrix[i][j] = matrix[i][j], matrix[j][i] \n",
    "        \n",
    "        # reverse each row\n",
    "        for i in range(n):\n",
    "            matrix[i].reverse()"
   ]
  },
  {
   "cell_type": "markdown",
   "metadata": {},
   "source": [
    "## 867. Transpose Matrix (Microsoft Onsite)"
   ]
  },
  {
   "cell_type": "code",
   "execution_count": null,
   "metadata": {},
   "outputs": [],
   "source": [
    "class Solution():\n",
    "    def transpose(self, A):\n",
    "        \"\"\"\n",
    "        :type A: List[List[int]]\n",
    "        :rtype: List[List[int]]\n",
    "        \"\"\"\n",
    "        m, n = len(A), len(A[0])\n",
    "        ans = [[0] * m for _ in range(n)]\n",
    "        \n",
    "        for r, row in enumerate(A):\n",
    "            for c, val in enumerate(row):\n",
    "                ans[c][r] = val\n",
    "        return ans"
   ]
  },
  {
   "cell_type": "code",
   "execution_count": null,
   "metadata": {},
   "outputs": [],
   "source": [
    "class Solution:\n",
    "    def transpose(self, A):\n",
    "        \"\"\"\n",
    "        :type A: List[List[int]]\n",
    "        :rtype: List[List[int]]\n",
    "        \"\"\"\n",
    "        \n",
    "        A[:] = zip(*A)\n",
    "        return A\n",
    "    "
   ]
  },
  {
   "cell_type": "markdown",
   "metadata": {},
   "source": [
    "## 73. Set Matrix Zeroes (Matrix) (Amazon 7, Microsoft Onsite 5)\n",
    "\n",
    "时间复杂度: O(m * n)  \n",
    "空间复杂度: O(1)"
   ]
  },
  {
   "cell_type": "code",
   "execution_count": null,
   "metadata": {},
   "outputs": [],
   "source": [
    "class Solution:\n",
    "    def setZeroes(self, matrix):\n",
    "        \"\"\"\n",
    "        :type matrix: List[List[int]]\n",
    "        :rtype: void Do not return anything, modify matrix in-place instead.\n",
    "        \"\"\"\n",
    "        row =len(matrix)\n",
    "        col = len(matrix[0])\n",
    "        \n",
    "        for i in range(row):\n",
    "            for j in range(col):\n",
    "                if matrix[i][j] == 0:\n",
    "                    for k in range(row):\n",
    "                        if matrix[k][j] != 0:\n",
    "                            matrix[k][j] = '*'\n",
    "                            \n",
    "                    for k in range(col):\n",
    "                        if matrix[i][k] != 0:\n",
    "                            matrix[i][k] = '*'\n",
    "        for i in range(m):\n",
    "            for j in range(n):\n",
    "                if matrix[i][j] == '*':\n",
    "                    matrix[i][j] = 0 "
   ]
  },
  {
   "cell_type": "code",
   "execution_count": null,
   "metadata": {},
   "outputs": [],
   "source": [
    "class Solution:\n",
    "    def setZeroes(self, matrix):\n",
    "        \"\"\"\n",
    "        :type matrix: List[List[int]]\n",
    "        :rtype: void Do not return anything, modify matrix in-place instead.\n",
    "        \"\"\"\n",
    "        is_col = False\n",
    "        m = len(matrix)\n",
    "        n = len(matrix[0])\n",
    "        for i in range(m):\n",
    "            # Since first cell for both first row and first column is the same i.e. matrix[0][0]\n",
    "            # We can use an additional variable for either the first row/column.\n",
    "            # For this solution we are using an additional variable for the first column\n",
    "            # and using matrix[0][0] for the first row.\n",
    "            if matrix[i][0] == 0:\n",
    "                is_col = True\n",
    "            for j in range(1, n):\n",
    "                # If an element is zero, we set the first element of the corresponding row and column to 0\n",
    "                if matrix[i][j]  == 0:\n",
    "                    matrix[0][j] = 0\n",
    "                    matrix[i][0] = 0\n",
    "\n",
    "        # Iterate over the array once again and using the first row and first column, update the elements.\n",
    "        for i in range(1, m):\n",
    "            for j in range(1, n):\n",
    "                if not matrix[i][0] or not matrix[0][j]:\n",
    "                    matrix[i][j] = 0\n",
    "\n",
    "        # See if the first row needs to be set to zero as well\n",
    "        if matrix[0][0] == 0:\n",
    "            for j in range(n):\n",
    "                matrix[0][j] = 0\n",
    "\n",
    "        # See if the first column needs to be set to zero as well        \n",
    "        if is_col:\n",
    "            for i in range(m):\n",
    "                matrix[i][0] = 0"
   ]
  },
  {
   "cell_type": "markdown",
   "metadata": {},
   "source": [
    "## 311. Sparse Matrix Multiplication (Matrix) (Facebook 5, Microsoft Onsite, Apple 4)\n",
    "\n",
    "O(m*n)  \n",
    "O(m*n)"
   ]
  },
  {
   "cell_type": "code",
   "execution_count": null,
   "metadata": {},
   "outputs": [],
   "source": [
    "class Solution(object):\n",
    "    def multiply(self, A, B):\n",
    "        \"\"\"\n",
    "        :type A: List[List[int]]\n",
    "        :type B: List[List[int]]\n",
    "        :rtype: List[List[int]]\n",
    "        \"\"\"\n",
    "        mA = len(A)\n",
    "#         print('mA=', mA)\n",
    "        nA = len(A[0])\n",
    "#         print('nA=', nA)\n",
    "        nB = len(B[0])\n",
    "#         print('nB=', nB)\n",
    "        res = [[0]*nB for n in range(mA)]\n",
    "        \n",
    "        for i in range(mA):\n",
    "            for k in range(nB):\n",
    "                for j in range(nA):\n",
    "                    if A[i][j]:\n",
    "                        res[i][k] += A[i][j] * B[j][k]    \n",
    "        return res"
   ]
  },
  {
   "cell_type": "code",
   "execution_count": null,
   "metadata": {},
   "outputs": [],
   "source": [
    "class Solution:\n",
    "    def multiply(self, A, B):\n",
    "        \"\"\"\n",
    "        :type A: List[List[int]]\n",
    "        :type B: List[List[int]]\n",
    "        :rtype: List[List[int]]\n",
    "        \"\"\"\n",
    "            \n",
    "        mA = len(A)\n",
    "#         print('mA=', mA)\n",
    "        nA = len(A[0])\n",
    "#         print('nA=', nA)\n",
    "        nB = len(B[0])\n",
    "#         print('nB=', nB)\n",
    "        res = [[0]*nB for n in range(mA)]\n",
    "#         print('res=', res)\n",
    "\n",
    "        for i in range(mA):\n",
    "            for j in range(nA):\n",
    "                if A[i][j]:\n",
    "                    for k in range(nB):\n",
    "                        res[i][k] += A[i][j]*B[j][k]\n",
    "        return res"
   ]
  },
  {
   "cell_type": "code",
   "execution_count": null,
   "metadata": {},
   "outputs": [],
   "source": [
    "s = Solution()\n",
    "A = [\n",
    "  [ 1, 0, 0],\n",
    "  [-1, 0, 3]\n",
    "]\n",
    "\n",
    "B = [\n",
    "  [ 7, 0, 0 ],\n",
    "  [ 0, 0, 0 ],\n",
    "  [ 0, 0, 1 ]\n",
    "]\n",
    "\n",
    "A[1][0]\n",
    "\n",
    "s.multiply(A,B)"
   ]
  },
  {
   "cell_type": "code",
   "execution_count": null,
   "metadata": {},
   "outputs": [],
   "source": [
    "import numpy as np\n",
    "x = np.array(A)\n",
    "y = np.array(B)\n",
    "z = x @ y"
   ]
  }
 ],
 "metadata": {
  "kernelspec": {
   "display_name": "Python 3",
   "language": "python",
   "name": "python3"
  },
  "language_info": {
   "codemirror_mode": {
    "name": "ipython",
    "version": 3
   },
   "file_extension": ".py",
   "mimetype": "text/x-python",
   "name": "python",
   "nbconvert_exporter": "python",
   "pygments_lexer": "ipython3",
   "version": "3.8.1"
  },
  "toc": {
   "base_numbering": 1,
   "nav_menu": {
    "height": "799px",
    "width": "682px"
   },
   "number_sections": true,
   "sideBar": false,
   "skip_h1_title": false,
   "title_cell": "Table of Contents",
   "title_sidebar": "Contents",
   "toc_cell": true,
   "toc_position": {},
   "toc_section_display": true,
   "toc_window_display": false
  },
  "toc-autonumbering": true,
  "toc-showtags": false
 },
 "nbformat": 4,
 "nbformat_minor": 4
}
