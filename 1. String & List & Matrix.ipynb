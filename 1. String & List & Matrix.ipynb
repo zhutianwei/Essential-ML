{
 "cells": [
  {
   "cell_type": "code",
   "execution_count": 1,
   "metadata": {},
   "outputs": [],
   "source": [
    "from IPython.core.interactiveshell import InteractiveShell\n",
    "InteractiveShell.ast_node_interactivity = \"all\""
   ]
  },
  {
   "cell_type": "markdown",
   "metadata": {},
   "source": [
    "# Leetcode"
   ]
  },
  {
   "cell_type": "markdown",
   "metadata": {},
   "source": [
    "~ means revert every bit.  \n",
    "Therefore, ~x means -x-1.  \n",
    "An elegant (but confusing) way to choose the rightest element of the middle part."
   ]
  },
  {
   "cell_type": "markdown",
   "metadata": {},
   "source": [
    "### Int String List Matrix Tuple"
   ]
  },
  {
   "cell_type": "markdown",
   "metadata": {},
   "source": [
    "### Math"
   ]
  },
  {
   "cell_type": "code",
   "execution_count": 2,
   "metadata": {},
   "outputs": [
    {
     "ename": "NameError",
     "evalue": "name 'jumpingOnCloud' is not defined",
     "output_type": "error",
     "traceback": [
      "\u001b[0;31m---------------------------------------------------------------------------\u001b[0m",
      "\u001b[0;31mNameError\u001b[0m                                 Traceback (most recent call last)",
      "\u001b[0;32m<ipython-input-2-47c4bd83420e>\u001b[0m in \u001b[0;36m<module>\u001b[0;34m\u001b[0m\n\u001b[1;32m     16\u001b[0m     \u001b[0;32mreturn\u001b[0m \u001b[0mcount\u001b[0m\u001b[0;34m\u001b[0m\u001b[0;34m\u001b[0m\u001b[0m\n\u001b[1;32m     17\u001b[0m \u001b[0;34m\u001b[0m\u001b[0m\n\u001b[0;32m---> 18\u001b[0;31m \u001b[0mjumpingOnCloud\u001b[0m\u001b[0;34m(\u001b[0m\u001b[0;34m[\u001b[0m\u001b[0;36m0\u001b[0m\u001b[0;34m,\u001b[0m\u001b[0;36m0\u001b[0m\u001b[0;34m,\u001b[0m\u001b[0;36m1\u001b[0m\u001b[0;34m,\u001b[0m\u001b[0;36m0\u001b[0m\u001b[0;34m,\u001b[0m\u001b[0;36m0\u001b[0m\u001b[0;34m,\u001b[0m\u001b[0;36m1\u001b[0m\u001b[0;34m,\u001b[0m\u001b[0;36m0\u001b[0m\u001b[0;34m]\u001b[0m\u001b[0;34m)\u001b[0m\u001b[0;34m\u001b[0m\u001b[0;34m\u001b[0m\u001b[0m\n\u001b[0m",
      "\u001b[0;31mNameError\u001b[0m: name 'jumpingOnCloud' is not defined"
     ]
    }
   ],
   "source": [
    "def jumpingOnClouds(c):\n",
    "    count = 0\n",
    "    i = 0\n",
    "\n",
    "    while i < len(c):\n",
    "        print('yes')\n",
    "        if i+2 < len(c) and c[i+2] == 0:\n",
    "            i += 2\n",
    "            count += 1\n",
    "            print('1', i)\n",
    "        elif i+1 < len(c) and c[i+1] == 0:\n",
    "            i += 1\n",
    "            count += 1\n",
    "            print('2', i)\n",
    "\n",
    "    return count\n",
    "\n",
    "jumpingOnClouds([0,0,1,0,0,1,0])"
   ]
  },
  {
   "cell_type": "markdown",
   "metadata": {},
   "source": [
    "## 67 Add Binary (Facebook 45, Google 2)"
   ]
  },
  {
   "cell_type": "code",
   "execution_count": null,
   "metadata": {},
   "outputs": [],
   "source": [
    "class Solution:\n",
    "    def addBinary(self, a, b):\n",
    "        \"\"\"\n",
    "        :type a: str\n",
    "        :type b: str\n",
    "        :rtype: str\n",
    "        \"\"\"\n",
    "        \n",
    "        x = 0\n",
    "        index = 0\n",
    "        for n in a[::-1]:\n",
    "            if n == '1':\n",
    "                x += pow(2, index)\n",
    "            \n",
    "            index += 1\n",
    "\n",
    "        print(x)\n",
    "                \n",
    "        y = 0\n",
    "        index2 = 0\n",
    "        for n in b[::-1]:\n",
    "            if n == '1':\n",
    "                y += pow(2, index2)\n",
    "                \n",
    "            index2 += 1\n",
    "               \n",
    "        print(y)\n",
    "        res = x + y\n",
    "        \n",
    "        return bin(res).replace(\"0b\", \"\") \n",
    "    \n",
    "    # \"{0:#b}\".format(my_int)\n",
    "    # int('11111111', 2)"
   ]
  },
  {
   "cell_type": "code",
   "execution_count": 1,
   "metadata": {},
   "outputs": [
    {
     "data": {
      "text/plain": [
       "31"
      ]
     },
     "execution_count": 1,
     "metadata": {},
     "output_type": "execute_result"
    }
   ],
   "source": [
    "int('11111', 2)"
   ]
  },
  {
   "cell_type": "markdown",
   "metadata": {},
   "source": [
    "## (5) 7. Reverse Integer (Int. Math) (Amazon 9)\n",
    "\n",
    "时间复杂度: O(lgx)  \n",
    "O(1)"
   ]
  },
  {
   "cell_type": "code",
   "execution_count": 2,
   "metadata": {},
   "outputs": [],
   "source": [
    "class Solution:\n",
    "    def reverse(self, x):\n",
    "        \"\"\"\n",
    "        :type x: int\n",
    "        :rtype: int\n",
    "        \"\"\"\n",
    "        if x < 0:\n",
    "            return -self.reverse(-x)\n",
    "        \n",
    "        res = 0\n",
    "        while x:\n",
    "            res = res * 10 + x % 10\n",
    "            x //= 10\n",
    "            \n",
    "        return res if res <= 2**31 - 1 else 0"
   ]
  },
  {
   "cell_type": "code",
   "execution_count": 3,
   "metadata": {},
   "outputs": [
    {
     "data": {
      "text/plain": [
       "-32"
      ]
     },
     "execution_count": 3,
     "metadata": {},
     "output_type": "execute_result"
    }
   ],
   "source": [
    "a = Solution()\n",
    "a.reverse(-23)"
   ]
  },
  {
   "cell_type": "code",
   "execution_count": null,
   "metadata": {},
   "outputs": [],
   "source": [
    "0x7fffffff"
   ]
  },
  {
   "cell_type": "code",
   "execution_count": null,
   "metadata": {},
   "outputs": [],
   "source": [
    "2**31 -1 "
   ]
  },
  {
   "cell_type": "markdown",
   "metadata": {},
   "source": [
    "## 681. Next Closest Time (String. Math) (Google 17)\n",
    "\n",
    "O(1)"
   ]
  },
  {
   "cell_type": "code",
   "execution_count": null,
   "metadata": {},
   "outputs": [],
   "source": [
    "class Solution:\n",
    "    def nextClosestTime(self, time):\n",
    "        \"\"\"\n",
    "        :type time: str\n",
    "        :rtype: str\n",
    "        \"\"\"\n",
    "        \n",
    "        cur = 60 * int(time[:2]) + int(time[3:])\n",
    "#         print('cur=', cur)\n",
    "        allowed = {int(x) for x in time if x != ':'}\n",
    "#         print('allowed=', allowed)\n",
    "        while True:\n",
    "            cur = (cur + 1) % (24 * 60)\n",
    "#             print('cur=', cur)\n",
    "            if all(digit in allowed\n",
    "                    for block in divmod(cur, 60)\n",
    "                    for digit in divmod(block, 10)):\n",
    "                return \"{:02d}:{:02d}\".format(*divmod(cur, 60))"
   ]
  },
  {
   "cell_type": "code",
   "execution_count": null,
   "metadata": {},
   "outputs": [],
   "source": [
    "s = Solution()\n",
    "time = \"19:34\"\n",
    "s.nextClosestTime(time)"
   ]
  },
  {
   "cell_type": "code",
   "execution_count": null,
   "metadata": {},
   "outputs": [],
   "source": [
    "divmod(120, 60)"
   ]
  },
  {
   "cell_type": "markdown",
   "metadata": {},
   "source": [
    "## 43. Multiply String (String. Math) (Facebook 8, Google 5, Microsoft 5)"
   ]
  },
  {
   "cell_type": "code",
   "execution_count": null,
   "metadata": {},
   "outputs": [],
   "source": [
    "# O(N)\n",
    "# O(N)\n",
    "class Solution:\n",
    "    def multiply(self, num1, num2):\n",
    "        \"\"\"\n",
    "        :type num1: str\n",
    "        :type num2: str\n",
    "        :rtype: str\n",
    "        \"\"\"\n",
    "        dic = {'0':0,\n",
    "              '1':1,\n",
    "              '2':2,\n",
    "              '3':3,\n",
    "              '4':4,\n",
    "              '5':5,\n",
    "              '6':6,\n",
    "              '7':7,\n",
    "              '8':8,\n",
    "              '9':9}\n",
    "        \n",
    "        x1 = 0\n",
    "        for n in num1:\n",
    "            x1 = x1 * 10 + dic[n]\n",
    "            \n",
    "        \n",
    "        x2 = 0\n",
    "        for n in num2:\n",
    "            x2 = x2 * 10 + dic[n]\n",
    "            \n",
    "        res = x1 * x2\n",
    "        if not res:\n",
    "            return '0'\n",
    "        \n",
    "        ans = ''\n",
    "        while res:\n",
    "            \n",
    "            for k, v in dic.items():\n",
    "                if v == res % 10:\n",
    "                    ans += k\n",
    "        \n",
    "            res = res // 10\n",
    "            \n",
    "        return ans[::-1]"
   ]
  },
  {
   "cell_type": "code",
   "execution_count": null,
   "metadata": {},
   "outputs": [],
   "source": [
    "class Solution:\n",
    "    def multiply(self, num1, num2):\n",
    "        \"\"\"\n",
    "        :type num1: str\n",
    "        :type num2: str\n",
    "        :rtype: str\n",
    "        \"\"\"\n",
    "        def str2int(num):\n",
    "            res = 0\n",
    "            for i in range(len(num)-1, -1, -1):\n",
    "                res += int(num[i]) * pow(10, len(num)-1-i)\n",
    "            return res\n",
    "        return str(str2int(num1) * str2int(num2))"
   ]
  },
  {
   "cell_type": "code",
   "execution_count": null,
   "metadata": {},
   "outputs": [],
   "source": [
    "def str2int(num):\n",
    "            res = 0\n",
    "            for i in range(len(num)-1, -1, -1):\n",
    "                res += int(num[i]) * pow(10, len(num)-1-i)\n",
    "            return res\n",
    "        \n",
    "str2int('34')"
   ]
  },
  {
   "cell_type": "markdown",
   "metadata": {},
   "source": [
    "Linked List"
   ]
  },
  {
   "cell_type": "markdown",
   "metadata": {},
   "source": [
    "## 224. Basic Calculator (String. Math, Stack) (Amazon 6, Facebook 6, Microsoft 3)"
   ]
  },
  {
   "cell_type": "code",
   "execution_count": null,
   "metadata": {},
   "outputs": [],
   "source": [
    "class Solution:\n",
    "    def calculate(self, s: str) -> int:\n",
    "        res = 0\n",
    "        sign = 1\n",
    "        num = 0\n",
    "        stack = []\n",
    "        \n",
    "        for i in range(len(s)):\n",
    "            if s[i].isdigit():\n",
    "                num = num * 10 + int(s[i])\n",
    "                \n",
    "            if s[i] == \"+\" or s[i] == \"-\":\n",
    "                res += num * sign \n",
    "                num = 0\n",
    "                sign = 1 if s[i] == \"+\" else -1\n",
    "                \n",
    "            if s[i] == \"(\":\n",
    "                stack.append(res)\n",
    "                stack.append(sign)\n",
    "                res = 0\n",
    "                sign = 1\n",
    "                \n",
    "            if s[i] == \")\":\n",
    "                res += num * sign\n",
    "                res *= stack.pop()\n",
    "                res = res + stack.pop()\n",
    "                num = 0\n",
    "                sign = 1\n",
    "                \n",
    "        return res + num*sign"
   ]
  },
  {
   "cell_type": "code",
   "execution_count": null,
   "metadata": {},
   "outputs": [],
   "source": [
    "class Solution:\n",
    "    def calculate(self, s):\n",
    "        \"\"\"\n",
    "        :type s: str\n",
    "        :rtype: int\n",
    "        \"\"\"\n",
    "        stack = []\n",
    "        res = 0 \n",
    "        num = 0 \n",
    "        sign = 1\n",
    "        for i, c in enumerate(s):\n",
    "            if c.isdigit():\n",
    "                num = num * 10 + int(c)\n",
    "            elif c in '+-':\n",
    "                res += sign * num\n",
    "                num = 0\n",
    "                sign = 1 if c == '+' else -1\n",
    "            elif c == '(': # push the result first, then sign;\n",
    "                stack.append(res)\n",
    "                stack.append(sign)\n",
    "                res = 0\n",
    "                sign = 1 # reset the sign and res for the value in the parenthesis\n",
    "            elif c == ')': # use elif because there may have space in input s\n",
    "                res += sign * num # temporary res in this parenthesis\n",
    "                num = 0\n",
    "                res *= stack.pop() # sign before the left parenthesis\n",
    "                res += stack.pop() # res calculated before the left parenthesis\n",
    "        \n",
    "        if num == 0:\n",
    "            return res\n",
    "        else:\n",
    "            return res + sign * num"
   ]
  },
  {
   "cell_type": "markdown",
   "metadata": {},
   "source": [
    "## 227 Basic Calculator II (String. Math, Stack) (Uber 8, Facebook 7, Amazon 5, Microsoft 4)\n",
    " \n",
    "先把乘法先算出来，再考虑加减"
   ]
  },
  {
   "cell_type": "code",
   "execution_count": null,
   "metadata": {},
   "outputs": [],
   "source": [
    "class Solution:\n",
    "    def calculate(self, s):\n",
    "        \"\"\"\n",
    "        :type s: str\n",
    "        :rtype: int\n",
    "        \"\"\"\n",
    "        num = 0\n",
    "        stack = []\n",
    "        sign =  \"+\"\n",
    "        for i in range(len(s)):\n",
    "            if s[i].isdigit():\n",
    "                num = num * 10 + int(s[i])\n",
    "            if s[i] in \"+-*/\" or i == len(s) - 1:\n",
    "                if sign == \"+\":\n",
    "                    stack.append(num)\n",
    "                elif sign == \"-\":\n",
    "                    stack.append(-num)\n",
    "                elif sign == \"*\":\n",
    "                    stack.append(stack.pop()*num)\n",
    "                elif sign == \"/\":\n",
    "                    stack.append(int(stack.pop()/num))\n",
    "                num = 0\n",
    "                sign = s[i]\n",
    "        return sum(stack)"
   ]
  },
  {
   "cell_type": "code",
   "execution_count": null,
   "metadata": {},
   "outputs": [],
   "source": [
    "class Solution:\n",
    "    def calculate(self, s):\n",
    "        \"\"\"\n",
    "        :type s: str\n",
    "        :rtype: int\n",
    "        \"\"\"\n",
    "        \n",
    "        stack = []\n",
    "        i = 0\n",
    "        while i < len(s):\n",
    "            if s[i].isdigit():\n",
    "                tmp = 0\n",
    "                while i < len(s) and s[i].isdigit():\n",
    "                    tmp = tmp * 10 + int(s[i])\n",
    "                    i += 1\n",
    "                stack.append(tmp)\n",
    "                # 如果栈中有乘除，先算出来\n",
    "                while len(stack) > 1 and stack[-2] in {\"*\", \"/\"}:\n",
    "                    stack.pop()\n",
    "                    opt = stack.pop()\n",
    "                    if opt == \"*\":\n",
    "                        stack.append(stack.pop() * tmp)\n",
    "                    else:\n",
    "                        stack.append(stack.pop() // tmp)\n",
    "            elif s[i] in { \"*\", \"/\", \"+\", \"-\"}:\n",
    "                stack.append(s[i])\n",
    "                i += 1\n",
    "            else:\n",
    "                 i += 1\n",
    "        res = 0\n",
    "        sign = 1\n",
    "        for t in stack:\n",
    "            if t == \"+\":\n",
    "                sign = 1\n",
    "            elif t == \"-\":\n",
    "                sign = -1\n",
    "            else:\n",
    "                res += sign * t\n",
    "        return res"
   ]
  },
  {
   "cell_type": "code",
   "execution_count": null,
   "metadata": {},
   "outputs": [],
   "source": [
    "class Solution:\n",
    "    def calculate(self, s: str) -> int:\n",
    "        # 小trick\n",
    "        s += \"+0\"\n",
    "        stack = []\n",
    "        num = 0\n",
    "        # 记录前一个符号\n",
    "        sign = \"+\"\n",
    "        for c in s:\n",
    "            if c.isdigit():\n",
    "                num = num * 10 + int(c)\n",
    "            elif c in {\"+\", \"-\", \"*\", \"/\"}:\n",
    "                #print(sign, num)\n",
    "                if sign == \"+\":\n",
    "                    stack.append(num)\n",
    "                elif sign == \"-\":\n",
    "                    stack.append(-num)\n",
    "                elif sign == \"*\":\n",
    "                    stack[-1] = stack[-1] * num\n",
    "                elif sign == \"/\":\n",
    "                    # 解决python的负数下取整\n",
    "                    if stack[-1] < 0:\n",
    "                        stack[-1] = -(-stack[-1] // num)\n",
    "                    else:\n",
    "                        stack[-1] = stack[-1] // num\n",
    "                sign, num = c, 0\n",
    "        return sum(stack)\n",
    "\n"
   ]
  },
  {
   "cell_type": "code",
   "execution_count": null,
   "metadata": {},
   "outputs": [],
   "source": [
    "int(-3/2)"
   ]
  },
  {
   "cell_type": "markdown",
   "metadata": {},
   "source": [
    "## 8. String to Integer(atoi) (String. Math) (Facebook 6, Microsoft 5, Amazon 5)\n",
    "\n",
    "O(N)  \n",
    "O(1)"
   ]
  },
  {
   "cell_type": "code",
   "execution_count": null,
   "metadata": {},
   "outputs": [],
   "source": [
    "class Solution:\n",
    "    # @param str, a string\n",
    "    # @return an integer\n",
    "    def myAtoi(self, s):\n",
    "        \"\"\"\n",
    "        :type str: str\n",
    "        :rtype: int\n",
    "        \"\"\"\n",
    "        s = s.strip()\n",
    "        \n",
    "        if not s:\n",
    "            return 0\n",
    "        \n",
    "        num = ''\n",
    "        if s[0] == '-' or s[0] == '+':\n",
    "            num = s[0]\n",
    "            s = s[1:]\n",
    "            \n",
    "        for c in s:\n",
    "            if c.isnumeric():\n",
    "                num += c\n",
    "            else:\n",
    "                break\n",
    "                \n",
    "        try: \n",
    "            res = int(num)\n",
    "            if res > 2**31 - 1:\n",
    "                return 2**31 - 1 \n",
    "            elif res < -2**31:\n",
    "                return -2**31\n",
    "            else:\n",
    "                return res\n",
    "        \n",
    "#             try: \n",
    "#             value = int(num)\n",
    "#             #check overflow\n",
    "#             if value.bit_length() >= 32:\n",
    "#                 return (2**31-1) if value > 0 else -2**31\n",
    "#             return value\n",
    "        except:\n",
    "            return 0"
   ]
  },
  {
   "cell_type": "code",
   "execution_count": null,
   "metadata": {},
   "outputs": [],
   "source": []
  },
  {
   "cell_type": "code",
   "execution_count": null,
   "metadata": {},
   "outputs": [],
   "source": [
    "int('+4')"
   ]
  },
  {
   "cell_type": "code",
   "execution_count": null,
   "metadata": {},
   "outputs": [],
   "source": [
    "ch = '3'\n",
    "ch.isdigit()"
   ]
  },
  {
   "cell_type": "markdown",
   "metadata": {},
   "source": [
    "### Stack and Queue"
   ]
  },
  {
   "cell_type": "markdown",
   "metadata": {},
   "source": [
    "## 71. Simplify Path (String. Stack) (Facebook 12, Microsoft 3)"
   ]
  },
  {
   "cell_type": "code",
   "execution_count": null,
   "metadata": {},
   "outputs": [],
   "source": [
    "class Solution:\n",
    "    def simplifyPath(self, path):\n",
    "        \"\"\"\n",
    "        :type path: str\n",
    "        :rtype: str\n",
    "        \"\"\"\n",
    "        stack = []\n",
    "        for part in path.split(\"/\"):\n",
    "            if part and part != \".\": # 如果为空或者 \".\" 则忽略\n",
    "                if part == \"..\":\n",
    "                    if stack:\n",
    "                        stack.pop()\n",
    "                else:\n",
    "                    stack.append(part)\n",
    "        if not stack:\n",
    "            return \"/\"\n",
    "        else:\n",
    "            return \"/\" + \"/\".join(stack)"
   ]
  },
  {
   "cell_type": "markdown",
   "metadata": {},
   "source": [
    "## 844. Backspace String Compare (String. Stack) (Google 10 Phone)\n",
    "\n",
    "O(m+n)  \n",
    "O(m+n)"
   ]
  },
  {
   "cell_type": "code",
   "execution_count": null,
   "metadata": {},
   "outputs": [],
   "source": [
    "class Solution:\n",
    "    def backspaceCompare(self, S, T):\n",
    "        \"\"\"\n",
    "        :type S: str\n",
    "        :type T: str\n",
    "        :rtype: bool\n",
    "        \"\"\"\n",
    "        \n",
    "        def build(S):\n",
    "            ans = []\n",
    "            \n",
    "            for c in S:\n",
    "                if c != '#':\n",
    "                    ans.append(c)\n",
    "                elif c == '#' and ans:\n",
    "                    ans.pop()\n",
    "            return ans\n",
    "        \n",
    "        return build(S) == build(T)"
   ]
  },
  {
   "cell_type": "markdown",
   "metadata": {},
   "source": [
    "对两个字符串从右往左遍历，用子方程getChar() 从两个字符串分别取值，如取值不等则返回False，相等就继续迭代，知道迭代技术返回True  \n",
    "\n",
    "子方程getChar()的取值规则：\n",
    "While循环退出条件：下标出界或者返回值不为空。  \n",
    "Case 1: 当值等于`#`, `count`增值  \n",
    "Case 2: 如果`count == 0` 说明这个值没有被`#`给抵消，返回  \n",
    "Case 3: 如果`count != 0` 切这个值不为`#`，这个值要被`#`抵消掉  \n",
    "三个Case运行完后，记得锁紧下标`r`  "
   ]
  },
  {
   "cell_type": "code",
   "execution_count": null,
   "metadata": {},
   "outputs": [],
   "source": [
    "# O(m+n)\n",
    "# O(1)\n",
    "class Solution:\n",
    "    def backspaceCompare(self, S1, S2):\n",
    "        r1 = len(S1) - 1 \n",
    "        r2 = len (S2) - 1\n",
    "        \n",
    "        while r1 >= 0 or r2 >= 0:            \n",
    "            char1, count = '', 0\n",
    "            while r1 >= 0 and not char1:\n",
    "                if S1[r1] != '#':\n",
    "                    if count == 0:\n",
    "                        char1 = S1[r1]\n",
    "                    else:\n",
    "                        count -= 1\n",
    "                \n",
    "                elif S1[r1] == '#':\n",
    "                    count += 1\n",
    "                \n",
    "                r1 -= 1\n",
    "\n",
    "            char2, count = '', 0\n",
    "            while r2 >= 0 and not char2:\n",
    "                if S2[r2] != '#':\n",
    "                    if count == 0:\n",
    "                        char2 = S2[r2]\n",
    "                    else:\n",
    "                        count -= 1       \n",
    "                elif S2[r2] == '#':\n",
    "                    count += 1\n",
    "                    \n",
    "                r2 -= 1\n",
    "               \n",
    "            if char1 != char2:\n",
    "                return False\n",
    "        return True"
   ]
  },
  {
   "cell_type": "markdown",
   "metadata": {},
   "source": [
    "## 402. Remove K Digits (String. Stack) (Amazon 5, Microsoft 3)  \n",
    "O(N) \n",
    "O(N)"
   ]
  },
  {
   "cell_type": "code",
   "execution_count": null,
   "metadata": {},
   "outputs": [],
   "source": [
    "class Solution:\n",
    "    def removeKdigits(self, num, k):\n",
    "        \"\"\"\n",
    "        :type num: str\n",
    "        :type k: int\n",
    "        :rtype: str\n",
    "        \"\"\"\n",
    "        if not k:\n",
    "            return num\n",
    "\n",
    "        stack = []\n",
    "        for c in num:\n",
    "            while k and stack and stack[-1] > c:\n",
    "                stack.pop()\n",
    "                k -= 1\n",
    "                \n",
    "            stack.append(c)\n",
    "        \n",
    "        while k:\n",
    "            stack.pop()\n",
    "            k -= 1  \n",
    "            \n",
    "        res = ''.join(stack).lstrip('0')\n",
    "        return res if res else '0'"
   ]
  },
  {
   "cell_type": "markdown",
   "metadata": {},
   "source": [
    "## 151. Reverse Words in String (String. Stack) (Microsoft 9, Facebook 7)\n",
    "\n",
    "时间复杂度: O(N)  \n",
    "O(n)"
   ]
  },
  {
   "cell_type": "code",
   "execution_count": null,
   "metadata": {},
   "outputs": [],
   "source": [
    "class Solution:\n",
    "    def reverseWords(self, s):  \n",
    "        \"\"\"\n",
    "        :type s: str\n",
    "        :rtype: str\n",
    "        \"\"\"\n",
    "        if not s:\n",
    "            return ''\n",
    "        \n",
    "        strs = s.split()\n",
    "        res = []\n",
    "        while strs:\n",
    "            s = strs.pop()\n",
    "            res.append(s)\n",
    "        return ' '.join(res)"
   ]
  },
  {
   "cell_type": "code",
   "execution_count": null,
   "metadata": {},
   "outputs": [],
   "source": [
    "class Solution:\n",
    "    def reverseWords(self, s):\n",
    "        \"\"\"\n",
    "        :type s: str\n",
    "        :rtype: str\n",
    "        \"\"\"\n",
    "        return ' '.join(s.split()[::-1])"
   ]
  },
  {
   "cell_type": "code",
   "execution_count": null,
   "metadata": {},
   "outputs": [],
   "source": [
    "s = 'sjdksf ksdjkf'\n",
    "s.split()"
   ]
  },
  {
   "cell_type": "markdown",
   "metadata": {},
   "source": [
    "## (3) 917. Reverse Only Letters (Sring. Stack) (Microsoft 3)\n"
   ]
  },
  {
   "cell_type": "code",
   "execution_count": null,
   "metadata": {},
   "outputs": [],
   "source": [
    "class Solution:\n",
    "    def reverseOnlyLetters(self, S):\n",
    "        stack = []\n",
    "        for s in S:\n",
    "            if s.isalpha():\n",
    "                stack.append(s)\n",
    "        res = ''    \n",
    "        for s in S:\n",
    "            if s.isalpha():\n",
    "                res += stack.pop()\n",
    "            else:\n",
    "                res += s\n",
    "                \n",
    "        return res"
   ]
  },
  {
   "cell_type": "markdown",
   "metadata": {},
   "source": [
    "## 394. Decode String (String. Stack) (Google 9, Amazon 6, Facebook 6)\n",
    "  \n",
    "O(N)  \n",
    "O(N)"
   ]
  },
  {
   "cell_type": "code",
   "execution_count": null,
   "metadata": {},
   "outputs": [],
   "source": [
    "class Solution:\n",
    "    def decodeString(self, s):\n",
    "        \"\"\"\n",
    "        :type s: str\n",
    "        :rtype: str\n",
    "        \"\"\"\n",
    "        stack = [[\"\",  0]]\n",
    "        \n",
    "        num = ''\n",
    "        for c in s:\n",
    "            if c.isdigit():\n",
    "                num += c\n",
    "            elif c == '[':\n",
    "                stack.append([\"\", int(num)])\n",
    "                num = \"\"         \n",
    "            elif c == ']':\n",
    "                string, multiply = stack.pop()\n",
    "                stack[-1][0] += string*multiply\n",
    "            else:\n",
    "                stack[-1][0] += c\n",
    "                \n",
    "        return stack[0][0]"
   ]
  },
  {
   "cell_type": "markdown",
   "metadata": {},
   "source": [
    "## (3) 20. Valid Parentheses (String. Stack, Dic) (Amazon 23, Facebook 12, Google 7, Apple 6, Microsoft 6, Linkedin 4)\n",
    "\n",
    "O(N)  \n",
    "O(N)  \n",
    "因为一共只有三种状况\"(\" -> \")\", \"[\" -> \"]\", \"{\" -> \"}\".\n",
    "\n",
    "一遇到左括号就入栈，右括号出栈，这样来寻找对应\n",
    "\n",
    "需要检查几件事：\n",
    "\n",
    "出现右括号时stack里还有没有东西\n",
    "出stack时是否对应\n",
    "最终stack是否为空"
   ]
  },
  {
   "cell_type": "code",
   "execution_count": null,
   "metadata": {},
   "outputs": [],
   "source": [
    "class Solution:\n",
    "    def isValid(self, s):\n",
    "        \"\"\"\n",
    "        :type s: str\n",
    "        :rtype: bool\n",
    "        \"\"\"\n",
    "        leftP = '([{'\n",
    "        rightP = ')]}'\n",
    "        stack = []\n",
    "        for char in s:\n",
    "            if char in leftP:\n",
    "                stack.append(char)\n",
    "            if char in rightP:\n",
    "                if not stack:\n",
    "                    return False\n",
    "                tmp = stack.pop()\n",
    "                if char == ')' and tmp != '(':\n",
    "                    return False\n",
    "                if char == ']' and tmp != '[':\n",
    "                    return False       \n",
    "                if char == '}' and tmp != '{':\n",
    "                    return False\n",
    "        return not stack"
   ]
  },
  {
   "cell_type": "code",
   "execution_count": null,
   "metadata": {},
   "outputs": [],
   "source": [
    "class Solution:\n",
    "    def isValid(self, s):\n",
    "        \"\"\"\n",
    "        :type s: str\n",
    "        :rtype: bool\n",
    "        \"\"\"\n",
    "        dic = {')':'(',\n",
    "               ']':'[',\n",
    "               '}':'{'\n",
    "              }\n",
    "        \n",
    "        stack = []\n",
    "        for c in s:\n",
    "            if c in dic:\n",
    "                if stack and dic[c] == stack[-1]:\n",
    "                    stack.pop() \n",
    "                else:\n",
    "                    return False\n",
    "                \n",
    "            else:                \n",
    "                stack.append(c)\n",
    "                \n",
    "        return not stack"
   ]
  },
  {
   "cell_type": "code",
   "execution_count": null,
   "metadata": {},
   "outputs": [],
   "source": [
    "stack = []\n",
    "stack.pop()"
   ]
  },
  {
   "cell_type": "code",
   "execution_count": null,
   "metadata": {},
   "outputs": [],
   "source": [
    "class Solution:\n",
    "    def isValid(self, s):\n",
    "        \"\"\"\n",
    "        :type s: str\n",
    "        :rtype: bool\n",
    "        x\"\"\"\n",
    "        # The stack to keep track of opening brackets.\n",
    "        stack = []\n",
    "\n",
    "        # Hash map for keeping track of mappings. This keeps the code very clean.\n",
    "        # Also makes adding more types of parenthesis easier\n",
    "        dic = {\")\": \"(\", \n",
    "               \"}\": \"{\", \n",
    "               \"]\": \"[\"}\n",
    "\n",
    "        # For every bracket in the expression.\n",
    "        for c in s:\n",
    "\n",
    "            # If the character is an closing bracket\n",
    "            if c in dic:\n",
    "\n",
    "                # Pop the topmost element from the stack, if it is non empty\n",
    "                # Otherwise assign a dummy value of '#' to the top_element variable\n",
    "                top = stack.pop() if stack else '#'\n",
    "\n",
    "                # The mapping for the opening bracket in our hash and the top\n",
    "                # element of the stack don't match, return False\n",
    "                if dic[c] != top:\n",
    "                    return False\n",
    "            else:\n",
    "                # We have an opening bracket, simply push it onto the stack.\n",
    "                stack.append(c)\n",
    "\n",
    "        # In the end, if the stack is empty, then we have a valid expression.\n",
    "        # The stack won't be empty for cases like ((()\n",
    "        return not stack"
   ]
  },
  {
   "cell_type": "code",
   "execution_count": null,
   "metadata": {},
   "outputs": [],
   "source": [
    "#O(N^2)\n",
    "class Solution(object):\n",
    "    def isValid(self, s):\n",
    "        while \"()\" in s or \"{}\" in s or '[]' in s:\n",
    "            s = s.replace(\"()\", \"\").replace('{}', \"\").replace('[]', \"\")\n",
    "        return s == ''"
   ]
  },
  {
   "cell_type": "code",
   "execution_count": null,
   "metadata": {},
   "outputs": [],
   "source": [
    "s = 'sh'\n",
    "s = s.replace('sh', '')\n",
    "s\n"
   ]
  },
  {
   "cell_type": "markdown",
   "metadata": {},
   "source": [
    "## 768 Max Chunks To Make Sorted II (List. Stack) (Microsoft 2)"
   ]
  },
  {
   "cell_type": "code",
   "execution_count": null,
   "metadata": {},
   "outputs": [],
   "source": [
    "class Solution:\n",
    "    def maxChunksToSorted(self, arr):\n",
    "        \"\"\"\n",
    "        :type arr: List[int]\n",
    "        :rtype: int\n",
    "        \"\"\"\n",
    "        count = collections.Counter()\n",
    "        counted = []\n",
    "        for x in arr:\n",
    "            count[x] += 1\n",
    "            counted.append((x, count[x]))\n",
    "\n",
    "        ans, cur = 0, None\n",
    "        for X, Y in zip(counted, sorted(counted)):\n",
    "            cur = max(cur, X)\n",
    "            if cur == Y:\n",
    "                ans += 1\n",
    "        return ans"
   ]
  },
  {
   "cell_type": "code",
   "execution_count": null,
   "metadata": {},
   "outputs": [],
   "source": [
    "class Solution:\n",
    "    def maxChunksToSorted(self, arr: List[int]) -> int:\n",
    "        stack = []\n",
    "        \n",
    "        for n in arr:\n",
    "            if not stack or stack[-1] <= n:\n",
    "                stack.append(n)\n",
    "            else:\n",
    "                tmp = stack[-1]\n",
    "                while stack and stack[-1] > n:\n",
    "                    stack.pop()\n",
    "                stack.append(tmp)\n",
    "        \n",
    "        return len(stack)"
   ]
  },
  {
   "cell_type": "markdown",
   "metadata": {},
   "source": [
    "## 239. Sliding Window Maximum (List, Queue) (Amazon 13)\n",
    "O(N)  \n",
    "O(N)"
   ]
  },
  {
   "cell_type": "code",
   "execution_count": null,
   "metadata": {},
   "outputs": [],
   "source": [
    "class Solution:\n",
    "    def maxSlidingWindow(self, nums, k):\n",
    "        \"\"\"\n",
    "        :type nums: List[int]\n",
    "        :type k: int\n",
    "        :rtype: List[int]\n",
    "        \"\"\"\n",
    "        if not nums:\n",
    "            return []\n",
    "\n",
    "        queue = []\n",
    "        res = []\n",
    "\n",
    "        for i in range(k):\n",
    "            while queue:\n",
    "                if nums[i] > nums[deq[-1]]:\n",
    "                    queue.pop()\n",
    "                else:\n",
    "                    break\n",
    "            queue.append(i)\n",
    "\n",
    "        for i in range(k, len(nums)):\n",
    "            res.append(nums[queue[0]])\n",
    "            if queue[0] < i - k + 1:\n",
    "                queue.pop(0)\n",
    "\n",
    "            while queue:\n",
    "                if nums[i] > nums[queue[-1]]:\n",
    "                    queue.pop()\n",
    "                else:\n",
    "                    break\n",
    "            queue.append(i)\n",
    "\n",
    "        res.append(nums[queue[0]])\n",
    "        return res"
   ]
  },
  {
   "cell_type": "code",
   "execution_count": null,
   "metadata": {},
   "outputs": [],
   "source": [
    "from collections import deque\n",
    "class Solution:\n",
    "    def maxSlidingWindow(self, nums, k):\n",
    "        \"\"\"\n",
    "        :type nums: List[int]\n",
    "        :type k: int\n",
    "        :rtype: List[int]\n",
    "        \"\"\"       \n",
    "        # base cases\n",
    "        n = len(nums)\n",
    "        if n * k == 0:\n",
    "            return []\n",
    "        if k == 1:\n",
    "            return nums\n",
    "        \n",
    "        def clean_deque(i):\n",
    "            # remove indexes of elements not from sliding window\n",
    "            if deq and deq[0] == i - k:\n",
    "                deq.pop(0)\n",
    "                \n",
    "            # remove from deq indexes of all elements \n",
    "            # which are smaller than current element nums[i]\n",
    "            while deq and nums[i] > nums[deq[-1]]:\n",
    "                deq.pop()\n",
    "        \n",
    "        # init deque and output\n",
    "        deq = []\n",
    "        max_idx = 0\n",
    "        for i in range(k):\n",
    "            clean_deque(i)\n",
    "            deq.append(i)\n",
    "            # compute max in nums[:k]\n",
    "            if nums[i] > nums[max_idx]:\n",
    "                max_idx = i\n",
    "                \n",
    "        output = [nums[max_idx]]\n",
    "        \n",
    "        # build output\n",
    "        for i in range(k, n):\n",
    "            clean_deque(i)          \n",
    "            deq.append(i)\n",
    "            output.append(nums[deq[0]])\n",
    "        return output"
   ]
  },
  {
   "cell_type": "markdown",
   "metadata": {},
   "source": [
    "## (4) 56. Merge Intervals (Lists) (Facebook 18, Amazon 18, Google 12)\n",
    "\n",
    "O(N)  \n",
    "O(N)"
   ]
  },
  {
   "cell_type": "code",
   "execution_count": null,
   "metadata": {},
   "outputs": [],
   "source": [
    "class Solution:\n",
    "    def merge(self, lists):\n",
    "        \"\"\"\n",
    "        :type intervals: List[List[int]]\n",
    "        :rtype: List[List[int]]\n",
    "        \"\"\"\n",
    "        if not lists:\n",
    "            return \n",
    "        \n",
    "        lists.sort()\n",
    "        res = [lists.pop(0)]\n",
    "#         print('new =', new)\n",
    "        \n",
    "        for n in lists:\n",
    "#             print('i =', i)\n",
    "            if res[-1][-1] >= n[0]:\n",
    "                res[-1][-1] = max(res[-1][-1], n[-1])\n",
    "#                 print('res1 =', res)\n",
    "            else:\n",
    "                res.append(n)\n",
    "#                 print('res2 =', res)\n",
    "#             print()\n",
    "        return res"
   ]
  },
  {
   "cell_type": "code",
   "execution_count": null,
   "metadata": {},
   "outputs": [],
   "source": [
    "class Solution:\n",
    "    def merge(self, lists):\n",
    "        \"\"\"\n",
    "        :type intervals: List[List[int]]\n",
    "        :rtype: List[List[int]]\n",
    "        \"\"\"\n",
    "        \n",
    "        lists.sort()\n",
    "#         print('new =', new)\n",
    "        res = []\n",
    "        for n in lists:\n",
    "#             print('i =', i)\n",
    "            if res and n[0] <= res[-1][-1]:\n",
    "                res[-1][-1] = max(res[-1][-1], n[-1])\n",
    "#                 print('res1 =', res)\n",
    "            else:\n",
    "                res.append(n)\n",
    "#                 print('res2 =', res)\n",
    "#             print()\n",
    "        return res"
   ]
  },
  {
   "cell_type": "code",
   "execution_count": null,
   "metadata": {},
   "outputs": [],
   "source": [
    "s = Solution()\n",
    "s.merge([[1,3],[2,6],[8,10],[15,18]])"
   ]
  },
  {
   "cell_type": "markdown",
   "metadata": {},
   "source": [
    "## 57. Insert Interval (Lists) (Amazon 11) (Hard)"
   ]
  },
  {
   "cell_type": "code",
   "execution_count": null,
   "metadata": {},
   "outputs": [],
   "source": [
    "class Solution:\n",
    "    def insert(self, lists, newInterval):\n",
    "        \"\"\"\n",
    "        :type intervals: List[List[int]]\n",
    "        :type newInterval: List[int]\n",
    "        :rtype: List[List[int]]\n",
    "        \"\"\"\n",
    "        if not lists:\n",
    "            return [newInterval]\n",
    "        \n",
    "        for i in range(len(lists)):\n",
    "            if lists[i][0] > newInterval[0]:\n",
    "                lists.insert(i, newInterval)\n",
    "                break\n",
    "                \n",
    "            lists.append(newInterval)            \n",
    "            \n",
    "        res = [lists.pop(0)]\n",
    "        for n in lists:\n",
    "            if res[-1][-1] >= n[0]:\n",
    "                res[-1][-1] = max(res[-1][-1], n[-1])\n",
    "            else:\n",
    "                res.append(n)\n",
    "        return res"
   ]
  },
  {
   "cell_type": "code",
   "execution_count": null,
   "metadata": {},
   "outputs": [],
   "source": [
    "class Solution:\n",
    "    def insert(self, intervals, newInterval):\n",
    "        \"\"\"\n",
    "        :type intervals: List[List[int]]\n",
    "        :type newInterval: List[int]\n",
    "        :rtype: List[List[int]]\n",
    "        \"\"\"\n",
    "        start, end = newInterval[0], newInterval[-1]\n",
    "        left = [i for i in intervals if i[-1] < start]\n",
    "#         print('left=', left)\n",
    "        right = [i for i in intervals if i[0] > end]\n",
    "#         print('right=', right)\n",
    "        if left + right != intervals:\n",
    "            start = min(start, intervals[len(left)][0])\n",
    "#             print('s=', s)\n",
    "            end = max(end, intervals[~len(right)][-1])\n",
    "#             print('e=', e)\n",
    "#             print(intervals[~len(right)][-1])\n",
    "            \n",
    "        return left + [[start, end]] + right"
   ]
  },
  {
   "cell_type": "code",
   "execution_count": null,
   "metadata": {},
   "outputs": [],
   "source": [
    "intervals = [[1,3],[6,9]]\n",
    "newInterval = [2, 5]\n",
    "s = Solution()\n",
    "s.insert(intervals, newInterval)"
   ]
  },
  {
   "cell_type": "code",
   "execution_count": null,
   "metadata": {},
   "outputs": [],
   "source": [
    "~1"
   ]
  },
  {
   "cell_type": "code",
   "execution_count": null,
   "metadata": {},
   "outputs": [],
   "source": [
    "def insert(self, intervals, newInterval):\n",
    "    s, e = newInterval.start, newInterval.end\n",
    "    left, right = [], []\n",
    "    for i in intervals:\n",
    "        if i.end < s:\n",
    "            left += i,\n",
    "        elif i.start > e:\n",
    "            right += i,\n",
    "        else:\n",
    "            s = min(s, i.start)\n",
    "            e = max(e, i.end)\n",
    "    return left + [Interval(s, e)] + right"
   ]
  },
  {
   "cell_type": "markdown",
   "metadata": {},
   "source": [
    "### Greedy"
   ]
  },
  {
   "cell_type": "markdown",
   "metadata": {},
   "source": [
    "## Numbers With Equal Digit Sum (List. Dic, Greedy) (Microsoft OA)"
   ]
  },
  {
   "cell_type": "code",
   "execution_count": 29,
   "metadata": {},
   "outputs": [],
   "source": [
    "def find_digit_sum(num):\n",
    "\tval = 0 \n",
    "\twhile num:\n",
    "\t\tval += num % 10 \n",
    "\t\tnum //= 10 \n",
    "\n",
    "\treturn val \n",
    "\n",
    "def digit_sum(arr):\n",
    "\tdic = {} \n",
    "\tmax_val = -1 \n",
    "\tfor num in arr:\n",
    "\t\tsums = find_digit_sum(num) \n",
    "\t\tif sums in dic:\n",
    "\t\t\tprevious = dic[sums] \n",
    "\t\t\tmax_val = max(max_val, previous + num) \n",
    "\t\t\tdic[sums] = max(previous, num) \n",
    "\t\telse:\n",
    "\t\t\tdic[sums] = num\n",
    "\n",
    "\treturn max_val "
   ]
  },
  {
   "cell_type": "code",
   "execution_count": 30,
   "metadata": {},
   "outputs": [
    {
     "data": {
      "text/plain": [
       "93"
      ]
     },
     "execution_count": 30,
     "metadata": {},
     "output_type": "execute_result"
    }
   ],
   "source": [
    "array = [51, 71, 17, 42]  # 93\n",
    "digit_sum(array)"
   ]
  },
  {
   "cell_type": "markdown",
   "metadata": {},
   "source": [
    "## Whac a Mole (Google Phone)\n",
    "https://leetcode.com/discuss/interview-question/350139/Google-or-Phone-Screen-or-Whac-A-Mole "
   ]
  },
  {
   "cell_type": "code",
   "execution_count": null,
   "metadata": {},
   "outputs": [],
   "source": [
    "class Solution:\n",
    "    def mallet(self, holes,w):\n",
    "        \"\"\"\n",
    "        :type rowIndex: int\n",
    "        :rtype: List[int]\n",
    "        \"\"\"\n",
    "        if not (holes and w):\n",
    "            return 0\n",
    "        \n",
    "        if len(holes) < w:\n",
    "            return 0\n",
    "        \n",
    "        result = 0\n",
    "        for i in range(w):\n",
    "            result += holes[i]\n",
    "         \n",
    "        curr_sum = result  #update\n",
    "        for j in range(w,len(holes)): #update\n",
    "            curr_sum += holes[j] - holes[j-w]  #update\n",
    "            result = max(result,curr_sum)\n",
    "\n",
    "        return result"
   ]
  },
  {
   "cell_type": "code",
   "execution_count": null,
   "metadata": {},
   "outputs": [],
   "source": [
    "s = Solution()\n",
    "s.mallet([0, 1, 1, 0, 1, 1, 0, 1, 0, 0, 0], 5)"
   ]
  },
  {
   "cell_type": "markdown",
   "metadata": {},
   "source": [
    "## 763. Partition Labels (String. Dic, 2 Pointers) (Amazon 18)\n",
    "\n",
    "Time Complexity: O(N), where N is the length of S.  \n",
    "O(N)"
   ]
  },
  {
   "cell_type": "code",
   "execution_count": null,
   "metadata": {},
   "outputs": [],
   "source": [
    "class Solution:\n",
    "    def partitionLabels(self, S):\n",
    "        \"\"\"\n",
    "        :type S: str\n",
    "        :rtype: List[int]\n",
    "        \"\"\"\n",
    "        if not S:\n",
    "            return True\n",
    "        \n",
    "        dic = {}\n",
    "        for i, c in enumerate(S):\n",
    "            dic[c] = i\n",
    "            \n",
    "        l, r = 0, 0\n",
    "        res = []\n",
    "        for i, c in enumerate(S):\n",
    "            r = max(r, dic[c])\n",
    "            \n",
    "            if i == r:\n",
    "                res.append(r - l + 1)\n",
    "                l = i + 1\n",
    "                \n",
    "        return res"
   ]
  },
  {
   "cell_type": "code",
   "execution_count": null,
   "metadata": {},
   "outputs": [],
   "source": [
    "s = Solution()\n",
    "s.partitionLabels(\"ababcbacadefegdehijhklij\")\n"
   ]
  },
  {
   "cell_type": "markdown",
   "metadata": {},
   "source": [
    "## 55. Jump Game (List) (Amazon 7, Google 6)\n",
    "O(N)  \n",
    "O(1)"
   ]
  },
  {
   "cell_type": "code",
   "execution_count": null,
   "metadata": {},
   "outputs": [],
   "source": [
    "class Solution:\n",
    "    def canJump(self, nums):\n",
    "        \"\"\"\n",
    "        :type nums: List[int]\n",
    "        :rtype: bool\n",
    "        \"\"\" \n",
    "        if len(nums) <= 1:\n",
    "            return True\n",
    "        \n",
    "        max_jump = float('-inf')\n",
    "        for i, n in enumerate(nums):\n",
    "            max_jump = max(max_jump-1, n)\n",
    "            \n",
    "            if max_jump + i >= len(nums) - 1:\n",
    "                return True\n",
    "            if max_jump == 0:\n",
    "                return False"
   ]
  },
  {
   "cell_type": "code",
   "execution_count": null,
   "metadata": {},
   "outputs": [],
   "source": [
    "class Solution:\n",
    "    def canJump(self, nums):\n",
    "        m = 0\n",
    "        for i, n in enumerate(nums):\n",
    "#             print('i=',i,'n=',n) \n",
    "            if i > m:\n",
    "                return False\n",
    "            m = max(m, i+n)\n",
    "#             print('m=',m)\n",
    "        return True"
   ]
  },
  {
   "cell_type": "code",
   "execution_count": null,
   "metadata": {},
   "outputs": [],
   "source": [
    "s = Solution()\n",
    "nums = [2,3,1,1,4]\n",
    "s.canJump(nums)"
   ]
  },
  {
   "cell_type": "code",
   "execution_count": null,
   "metadata": {},
   "outputs": [],
   "source": [
    "s = Solution()\n",
    "nums = [3,2,1,0,4]\n",
    "s.canJump(nums)"
   ]
  },
  {
   "cell_type": "markdown",
   "metadata": {},
   "source": [
    "## 45. Jump Game II (List) (Amazon 14)\n",
    "O(N)   \n",
    "O(1)"
   ]
  },
  {
   "cell_type": "code",
   "execution_count": null,
   "metadata": {},
   "outputs": [],
   "source": [
    "class Solution:\n",
    "    def jump(self, nums):\n",
    "        \"\"\"\n",
    "        :type nums: List[int]\n",
    "        :rtype: int\n",
    "        \"\"\"\n",
    "        cur_end = 0\n",
    "        cur_farthest = 0\n",
    "        res = 0\n",
    "        for i in range(len(nums)-1):\n",
    "            cur_farthest = max(cur_farthest, i + nums[i])\n",
    "            if cur_farthest >= len(nums) - 1:\n",
    "                res += 1\n",
    "                return res\n",
    "            if i == cur_end:\n",
    "                cur_end = cur_farthest\n",
    "                res += 1\n",
    "        return res"
   ]
  },
  {
   "cell_type": "markdown",
   "metadata": {},
   "source": [
    "## 121. Best Time to Buy and Sell Stock (List) (Amazon 26, Microsoft 6, Facebook 5)\n",
    "O(N)  \n",
    "O(1)"
   ]
  },
  {
   "cell_type": "code",
   "execution_count": null,
   "metadata": {},
   "outputs": [],
   "source": [
    "class Solution:\n",
    "    def maxProfit(self, prices):\n",
    "        \"\"\"\n",
    "        :type prices: List[int]\n",
    "        :rtype: int\n",
    "        \"\"\"\n",
    "        \n",
    "        min_price = float('inf')\n",
    "        max_profit = 0\n",
    "        \n",
    "        for price in prices:\n",
    "            min_price = min(min_price, price)\n",
    "            max_profit = max(max_profit, price - min_price)\n",
    "            \n",
    "        return max_profit"
   ]
  },
  {
   "cell_type": "markdown",
   "metadata": {},
   "source": [
    "## 122. Best Time to Buy and Sell Stock II (List) (Google 5)  \n",
    "O(N)  \n",
    "O(1)"
   ]
  },
  {
   "cell_type": "code",
   "execution_count": null,
   "metadata": {},
   "outputs": [],
   "source": [
    "class Solution:\n",
    "    def maxProfit(self, prices):\n",
    "        \"\"\"\n",
    "        :type prices: List[int]\n",
    "        :rtype: int\n",
    "        \"\"\"\n",
    "        maxprofit = 0\n",
    "        for i in range(1, len(prices)):\n",
    "            if prices[i] > prices[i-1]:\n",
    "                maxprofit += prices[i] - prices[i-1]\n",
    "                \n",
    "        return maxprofit"
   ]
  },
  {
   "cell_type": "markdown",
   "metadata": {},
   "source": [
    "## 674. Longest Continuous Increasing Subsequence (List) (Facebook 7)\n",
    "O(N)  \n",
    "O(1)"
   ]
  },
  {
   "cell_type": "code",
   "execution_count": null,
   "metadata": {},
   "outputs": [],
   "source": [
    "class Solution:\n",
    "    def findLengthOfLCIS(self, nums):\n",
    "        ans = 0\n",
    "        anchor = 0\n",
    "        for i in range(len(nums)):\n",
    "            if i and nums[i-1] >= nums[i]: \n",
    "                anchor = i\n",
    "            ans = max(ans, i - anchor + 1)\n",
    "\n",
    "        return ans"
   ]
  },
  {
   "cell_type": "markdown",
   "metadata": {},
   "source": [
    "## 659. Split Array into Consecutive Subsequences (List) (Google 5 Onsite)"
   ]
  },
  {
   "cell_type": "markdown",
   "metadata": {},
   "source": [
    "这道题让将数组分割成多个连续递增的子序列，注意这里可能会产生歧义，实际上应该是分割成一个或多个连续递增的子序列，因为 [1,2,3,4,5] 也是正确的解。这道题就用贪婪解法就可以了，使用两个 HashMap，第一个 HashMap 用来建立数字和其出现次数之间的映射 count，第二个用来建立可以加在某个连续子序列后的数字与其可以出现的次数之间的映射 tails。对于第二个 HashMap，举个例子来说，就是假如有个连牌，比如对于数字1，此时检测数字2和3是否存在，若存在的话，表明有连牌 [1,2,3] 存在，由于后面可以加上4，组成更长的连牌，所以不管此时牌里有没有4，都可以建立 4->1 的映射，表明此时需要一个4。这样首先遍历一遍数组，统计每个数字出现的频率，然后开始遍历数组，对于每个遍历到的数字，首先看其当前出现的次数，如果为0，则继续循环；如果 tails 中存在这个数字的非0映射，那么表示当前的数字可以加到某个连的末尾，将当前数字在 tails 中的映射值自减1，然后将下一个连续数字的映射值加1，因为当 [1,2,3] 连上4后变成 [1,2,3,4] 之后，就可以连上5了，说明此时还需要一个5；如果不能连到其他子序列后面，则来看其是否可以成为新的子序列的起点，可以通过看后面两个数字的映射值是否大于0，都大于0的话，说明可以组成3连儿，于是将后面两个数字的映射值都自减1，还有由于组成了3连儿，在 tails 中将末尾的下一位数字的映射值自增1；如果上面情况都不满足，说明该数字是单牌，只能划单儿，直接返回 false。最后别忘了将当前数字的 count 映射值自减1。退出 for 循环后返回 true，参见代码如下："
   ]
  },
  {
   "cell_type": "code",
   "execution_count": null,
   "metadata": {},
   "outputs": [],
   "source": [
    "# O(N)\n",
    "# O(N)\n",
    "class Solution:\n",
    "    def isPossible(self, nums):\n",
    "        \"\"\"\n",
    "        :type nums: List[int]\n",
    "        :rtype: bool\n",
    "        \"\"\"\n",
    "        count = collections.Counter(nums)\n",
    "        tails = collections.Counter()\n",
    "        for n in nums:\n",
    "            if count[n] == 0:\n",
    "                continue\n",
    "                \n",
    "            elif tails[n] > 0:\n",
    "                tails[n] -= 1\n",
    "                tails[n+1] += 1\n",
    "                \n",
    "            elif count[n+1] > 0 and count[n+2] > 0:\n",
    "                count[n+1] -= 1\n",
    "                count[n+2] -= 1\n",
    "                tails[n+3] += 1\n",
    "                \n",
    "            else:\n",
    "                return False\n",
    "            \n",
    "            count[n] -= 1\n",
    "        return True "
   ]
  },
  {
   "cell_type": "markdown",
   "metadata": {},
   "source": [
    "## 134. Gas Station (List) (Amazon 6, Microsoft 5)"
   ]
  },
  {
   "cell_type": "code",
   "execution_count": null,
   "metadata": {},
   "outputs": [],
   "source": [
    "class Solution:\n",
    "    def canCompleteCircuit(self, gas, cost):\n",
    "        \"\"\"\n",
    "        :type gas: List[int]\n",
    "        :type cost: List[int]\n",
    "        :rtype: int\n",
    "        \"\"\"        \n",
    "        tank, start = 0, 0\n",
    "        for i in range(len(gas)):\n",
    "            tank += gas[i] - cost[i]\n",
    "            if  tank < 0: \n",
    "                tank, start = 0, i + 1\n",
    "                \n",
    "        return start if sum(gas) >= sum(cost) else -1"
   ]
  },
  {
   "cell_type": "markdown",
   "metadata": {},
   "source": [
    "### General"
   ]
  },
  {
   "cell_type": "code",
   "execution_count": null,
   "metadata": {},
   "outputs": [],
   "source": [
    "def containsSubstring(src, key):\n",
    "    res = []\n",
    "    for word in src:\n",
    "        if key in word:\n",
    "            res.append(word)\n",
    "    return res\n",
    "\n",
    "src = {\"minecraftgame\", \"intelligent\", \"innercrafttalent\", \"knife\", \"scissor\", \"stonecrafter\"}\n",
    "key = \"craft\"\n",
    "containsSubstring(src, key)"
   ]
  },
  {
   "cell_type": "markdown",
   "metadata": {},
   "source": [
    "## 158. Read N Characters Given Read4 II - Call multiple times (String List) (Facebook 15, Google 6) (Hard)"
   ]
  },
  {
   "cell_type": "code",
   "execution_count": null,
   "metadata": {},
   "outputs": [],
   "source": [
    "class Solution:\n",
    "    head, tail, buffer = 0, 0, [''] * 4 ## 定义全局变量\n",
    "\n",
    "    def read(self, buf, n):\n",
    "        \"\"\"\n",
    "        :type buf: Destination buffer (List[str])\n",
    "        :type n: Maximum number of characters to read (int)\n",
    "        :rtype: The number of characters read (int)\n",
    "        \"\"\"\n",
    "        i = 0\n",
    "        while i < n:\n",
    "            if self.head == self.tail: ## read4 的缓存区为空的时候\n",
    "                self.head = 0\n",
    "                self.tail = read4(self.buffer) ## 开始进缓存区\n",
    "                if self.tail == 0:\n",
    "                    break\n",
    "            while i < n and self.head < self.tail:\n",
    "                buf[i] = self.buffer[self.head] ## 读出缓存区的变量\n",
    "                i += 1\n",
    "                self.head += 1\n",
    "        return i"
   ]
  },
  {
   "cell_type": "code",
   "execution_count": null,
   "metadata": {},
   "outputs": [],
   "source": [
    "buf = ['a','b','c']\n",
    "buf[0] = ''\n",
    "buf"
   ]
  },
  {
   "cell_type": "markdown",
   "metadata": {},
   "source": [
    "## Second Max (Google Phone)"
   ]
  },
  {
   "cell_type": "code",
   "execution_count": 3,
   "metadata": {},
   "outputs": [
    {
     "data": {
      "text/plain": [
       "15"
      ]
     },
     "execution_count": 3,
     "metadata": {},
     "output_type": "execute_result"
    }
   ],
   "source": [
    "def secondMax(nums):\n",
    "    def compare(a,b):\n",
    "        return max(a,b)\n",
    "    \n",
    "    first = compare(nums[0], nums[1])\n",
    "    if first == nums[0]:\n",
    "        second = nums[1]\n",
    "    else:\n",
    "        second = nums[0]\n",
    "            \n",
    "    for i in range(2, len(nums)):\n",
    "        if compare(first, nums[i]) > first:\n",
    "            second = first\n",
    "            first = nums[i]\n",
    "                \n",
    "        elif compare(first, nums[i]) > nums[i]:\n",
    "            if compare(second, nums[i]) > second: \n",
    "                second = nums[i]\n",
    "                \n",
    "    return second\n",
    "nums = [10, 8, 15, 12, 6, 20, 20, 1]\n",
    "secondMax(nums)"
   ]
  },
  {
   "cell_type": "markdown",
   "metadata": {},
   "source": [
    "## 483. Guess the Word (Google 13)"
   ]
  },
  {
   "cell_type": "code",
   "execution_count": null,
   "metadata": {},
   "outputs": [],
   "source": [
    "class Solution:\n",
    "    def findSecretWord(self, wordlist, master):\n",
    "        \"\"\"\n",
    "        :type wordlist: List[Str]\n",
    "        :type master: Master\n",
    "        :rtype: None\n",
    "        \"\"\"\n",
    "        import random\n",
    "        \n",
    "        new_wordlist = wordlist\n",
    "        while True:\n",
    "            test_word = random.choice(new_wordlist)\n",
    "            matches = master.guess(test_word)\n",
    "\n",
    "            if matches == 6:\n",
    "                return\n",
    "\n",
    "            wordlist = new_wordlist\n",
    "            new_wordlist = []\n",
    "            for word in wordlist:\n",
    "                dist = 0\n",
    "                for i in range(6):\n",
    "                    if word[i] == test_word[i]:\n",
    "                        dist += 1\n",
    "\n",
    "                if matches == dist:\n",
    "                    new_wordlist.append(word)"
   ]
  },
  {
   "cell_type": "markdown",
   "metadata": {},
   "source": [
    "## 1153 String Transforms Into Another String (Google 7)"
   ]
  },
  {
   "cell_type": "code",
   "execution_count": null,
   "metadata": {},
   "outputs": [],
   "source": [
    "from collections import defaultdict\n",
    "class Solution:\n",
    "    def canConvert(self, str1, str2):\n",
    "        \"\"\"\n",
    "        :type str1: str\n",
    "        :type str2: str\n",
    "        :rtype: bool\n",
    "        \"\"\"\n",
    "        s1 = defaultdict(list)\n",
    "        for i, ch in enumerate(str1):\n",
    "            s1[ch].append(i)\n",
    "            \n",
    "        s2 = defaultdict(list)\n",
    "        for i, ch in enumerate(str2):\n",
    "            s2[ch].append(i)\n",
    "            \n",
    "        if len(s1) == len(s2) == 26 and str1 != str2:\n",
    "            return False\n",
    "\n",
    "        for v in s1.values():\n",
    "            pivot = str2[v[0]]\n",
    "            for pos in v:\n",
    "                if str2[pos] != pivot:\n",
    "                    return False\n",
    "\n",
    "        return True\n"
   ]
  },
  {
   "cell_type": "markdown",
   "metadata": {},
   "source": [
    "## 205 Isomorphic String (Google Phone new grad)"
   ]
  },
  {
   "cell_type": "code",
   "execution_count": null,
   "metadata": {},
   "outputs": [],
   "source": [
    "class Solution:\n",
    "    def isIsomorphic(self, s, t):\n",
    "        \"\"\"\n",
    "        :type s: str\n",
    "        :type t: str\n",
    "        :rtype: bool\n",
    "        \"\"\"\n",
    "\n",
    "        def convert(word):\n",
    "            num = 0\n",
    "            dic = {}\n",
    "            res = ''\n",
    "            for i in word:\n",
    "                if i not in dic:                # 第一次出现这个字符\n",
    "                    num += 1                       # 用一个全新的num来对应它\n",
    "                    dic[i] = num                # 存进dict供给后面用\n",
    "                    res += str(num) \n",
    "                else:\n",
    "                    res += str(dic[i]) # 之前出现过了这个字符那么就加上它之前对应的数字\n",
    "            return res\n",
    "        \n",
    "        return convert(s) == convert(t)"
   ]
  },
  {
   "cell_type": "code",
   "execution_count": null,
   "metadata": {},
   "outputs": [],
   "source": [
    "class Solution:\n",
    "    def isIsomorphic(self, s, t):\n",
    "        \"\"\"\n",
    "        :type s: str\n",
    "        :type t: str\n",
    "        :rtype: bool\n",
    "        \"\"\"\n",
    "        return len(set(zip(s,t))) == len(set(s)) == len(set(t))"
   ]
  },
  {
   "cell_type": "markdown",
   "metadata": {},
   "source": [
    "## 890. Find and Replace Pattern (String) (Google 3)  \n",
    "定义一个convert函数  \n",
    "首先对于传进来的word做一个for loop  \n",
    "只要字符没有出现过就用一个全新的num来对应它  \n",
    "否则就用之前存在dict里面的它所对应num来对应它  \n",
    "比较每个word convert之后是否于pattern convert之后相等，相等就加入最终结果  \n",
    "返回最终结果  "
   ]
  },
  {
   "cell_type": "code",
   "execution_count": null,
   "metadata": {},
   "outputs": [],
   "source": [
    "class Solution:\n",
    "    def findAndReplacePattern(self, words, pattern):\n",
    "        \"\"\"\n",
    "        :type words: List[str]\n",
    "        :type pattern: str\n",
    "        :rtype: List[str]\n",
    "        \"\"\"\n",
    "        def convert(word):\n",
    "            num = 0\n",
    "            dic = {}\n",
    "            res = ''\n",
    "            for i in word:\n",
    "                if i not in dic:                # 第一次出现这个字符\n",
    "                    num += 1                       # 用一个全新的num来对应它\n",
    "                    dic[i] = num                # 存进dict供给后面用\n",
    "                    res += str(num) \n",
    "                else:\n",
    "                    res += str(dic[i]) # 之前出现过了这个字符那么就加上它之前对应的数字\n",
    "            return res\n",
    "        \n",
    "        res = []\n",
    "        for word in words:\n",
    "            if convert(word) == convert(pattern):\n",
    "                res.append(word)\n",
    "        return res"
   ]
  },
  {
   "cell_type": "markdown",
   "metadata": {},
   "source": [
    "## 28. Implement strStr() (Amazon 5)\n",
    "\n",
    "*- 时间复杂度: O(m * n)- 空间复杂度: O(1)*\n",
    "\n",
    "m = len(haystack)\n",
    "n = len(needle)\n",
    "作弊，python str.find() 底层实现是 Boyer–Moore–Horspool 算法\n",
    "\n",
    "The time complexity is O(N) on average, O(NM) worst case (N being the length of the longer string, M, the shorter string you search for)."
   ]
  },
  {
   "cell_type": "code",
   "execution_count": null,
   "metadata": {},
   "outputs": [],
   "source": [
    "class Solution:\n",
    "    def strStr(self, haystack, needle):\n",
    "        \"\"\"\n",
    "        :type haystack: str\n",
    "        :type needle: str\n",
    "        :rtype: int\n",
    "        \"\"\"\n",
    "        return haystack.find(needle)"
   ]
  },
  {
   "cell_type": "markdown",
   "metadata": {},
   "source": [
    "## 165. Compare Version Numbers (String. List) (Amazon 16, Microsoft 4)  \n",
    "O(N)  \n",
    "O(N)"
   ]
  },
  {
   "cell_type": "code",
   "execution_count": null,
   "metadata": {},
   "outputs": [],
   "source": [
    "class Solution:\n",
    "    def compareVersion(self, version1, version2):\n",
    "        \"\"\"\n",
    "        :type version1: str\n",
    "        :type version2: str\n",
    "        :rtype: int\n",
    "        \"\"\"\n",
    "        \n",
    "        versions1 = [int(v) for v in version1.split(\".\")]\n",
    "#             print('versions1 =', versions1)\n",
    "        versions2 = [int(v) for v in version2.split(\".\")]\n",
    "#             print('versions2 =', versions2)\n",
    "\n",
    "        for i in range(max(len(versions1),len(versions2))):\n",
    "#                 print('i =',i)\n",
    "            v1 = versions1[i] if i < len(versions1) else 0\n",
    "#                 print('v1 =',v1)\n",
    "            v2 = versions2[i] if i < len(versions2) else 0\n",
    "#                 print('v2 =', v2)\n",
    "\n",
    "            if v1 > v2:\n",
    "                return 1\n",
    "            elif v1 < v2:\n",
    "                return -1;\n",
    "\n",
    "        return 0"
   ]
  },
  {
   "cell_type": "code",
   "execution_count": null,
   "metadata": {},
   "outputs": [],
   "source": [
    "s = Solution()\n",
    "s.compareVersion('0.1', '1.1')"
   ]
  },
  {
   "cell_type": "markdown",
   "metadata": {},
   "source": [
    "## 482. License Key Formatting (String. List) (Google 16)"
   ]
  },
  {
   "cell_type": "code",
   "execution_count": null,
   "metadata": {},
   "outputs": [],
   "source": [
    "class Solution:\n",
    "    def licenseKeyFormatting(self, S, K):\n",
    "        \"\"\"\n",
    "        :type S: str\n",
    "        :type K: int\n",
    "        :rtype: str\n",
    "        \"\"\"\n",
    "        S = S.replace(\"-\", \"\").upper()[::-1]\n",
    "        return '-'.join(S[i:i+K] for i in range(0, len(S), K))[::-1]"
   ]
  },
  {
   "cell_type": "code",
   "execution_count": null,
   "metadata": {},
   "outputs": [],
   "source": [
    "'-'.join(['w9e3','23f5'])[::-1]"
   ]
  },
  {
   "cell_type": "markdown",
   "metadata": {},
   "source": [
    "## 186. Reverse Words in String II (String List, Pointer) (Microsoft 3)\n",
    "\n",
    "O(N)  \n",
    "O(1)"
   ]
  },
  {
   "cell_type": "code",
   "execution_count": null,
   "metadata": {},
   "outputs": [],
   "source": [
    "class Solution:\n",
    "    def reverseWords(self, strs):\n",
    "        \"\"\"\n",
    "        :type s: a list of 1 length strings (List[str])\n",
    "        :rtype: nothing\n",
    "        \"\"\"\n",
    "#         strs.reverse()\n",
    "        def reverse(strs):\n",
    "            l = 0\n",
    "            r = len(strs) - 1\n",
    "            while l < r:\n",
    "                strs[l], strs[r] = strs[r], strs[l]\n",
    "                l += 1\n",
    "                r -= 1\n",
    "\n",
    "        reverse(strs)\n",
    "        \n",
    "        chor = 0\n",
    "        for i, c in enumerate(strs):\n",
    "            if c == \" \":\n",
    "                strs[chor: i] = strs[chor: i][::-1]\n",
    "                chor = i + 1\n",
    "\n",
    "        strs[chor:] = strs[chor:][::-1]"
   ]
  },
  {
   "cell_type": "code",
   "execution_count": null,
   "metadata": {},
   "outputs": [],
   "source": [
    "x = Solution()\n",
    "s = [\"t\",\"h\",\"e\",\" \",\"s\",\"k\",\"y\",\" \",\"i\",\"s\",\" \",\"b\",\"l\",\"u\",\"e\"]\n",
    "# x.reverseWords(s)\n",
    "\n",
    "print(s[0:])"
   ]
  },
  {
   "cell_type": "markdown",
   "metadata": {},
   "source": [
    "## 557. Reverse Words in a String III (String. List) (Microsoft 8)\n",
    "O(N)  \n",
    "O(N)"
   ]
  },
  {
   "cell_type": "code",
   "execution_count": null,
   "metadata": {},
   "outputs": [],
   "source": [
    "class Solution:\n",
    "    def reverseWords(self, s):\n",
    "        \"\"\"\n",
    "        :type s: str\n",
    "        :rtype: str\n",
    "        \"\"\"\n",
    "        if not s:\n",
    "            return ''\n",
    "        \n",
    "        strs = s.split()\n",
    "        res = \"\"\n",
    "        for word in strs:\n",
    "            res += word[::-1] + \" \"\n",
    "        return res.strip()"
   ]
  },
  {
   "cell_type": "code",
   "execution_count": null,
   "metadata": {},
   "outputs": [],
   "source": [
    "res = 'myname'\n",
    "res[:-1]"
   ]
  },
  {
   "cell_type": "code",
   "execution_count": null,
   "metadata": {},
   "outputs": [],
   "source": [
    "class Solution:\n",
    "    def reverseWords(self, s):\n",
    "        \"\"\"\n",
    "        :type s: str\n",
    "        :rtype: str\n",
    "        \"\"\"\n",
    "        if not s:\n",
    "            return ''\n",
    "\n",
    "        sentence = \"\"\n",
    "        for word in s.split():\n",
    "            sentence += word[::-1] + \" \"\n",
    "            \n",
    "        return sentence.strip()"
   ]
  },
  {
   "cell_type": "code",
   "execution_count": null,
   "metadata": {},
   "outputs": [],
   "source": [
    "class Solution:\n",
    "    def reverseWords(self, s):\n",
    "        \"\"\"\n",
    "        :type s: str\n",
    "        :rtype: str\n",
    "        \"\"\"\n",
    "        if not s:\n",
    "            return ''\n",
    "        \n",
    "        return ' '.join([i[::-1] for i in s.split(' ')])"
   ]
  },
  {
   "cell_type": "markdown",
   "metadata": {},
   "source": [
    "## 443. String Compression (String List) (Microsoft 6)\n",
    "O(N)  \n",
    "O(1)"
   ]
  },
  {
   "cell_type": "code",
   "execution_count": null,
   "metadata": {},
   "outputs": [],
   "source": [
    "class Solution:\n",
    "    def compress(self, strs):\n",
    "        \"\"\"\n",
    "        :type chars: List[str]\n",
    "        :rtype: int\n",
    "        \"\"\"\n",
    "        \n",
    "        count = 1\n",
    "\n",
    "        for i in range(len(strs)-1, -1, -1):\n",
    "            if i > 0 and strs[i] == strs[i-1]:\n",
    "                count += 1\n",
    "            else:\n",
    "                end = i + count\n",
    "                if count == 1:\n",
    "                    continue\n",
    "                else:\n",
    "                    strs[i: end] = [strs[i]] +  list(str(count))\n",
    "                 \n",
    "                count = 1\n",
    "\n",
    "        return len(strs)"
   ]
  },
  {
   "cell_type": "code",
   "execution_count": null,
   "metadata": {},
   "outputs": [],
   "source": [
    "s = '12'\n",
    "for c in s:\n",
    "    print(c)"
   ]
  },
  {
   "cell_type": "code",
   "execution_count": null,
   "metadata": {},
   "outputs": [],
   "source": [
    "class Solution:\n",
    "    def compress(self, chars):\n",
    "        if len(chars) <= 1:\n",
    "            return len(chars)\n",
    "        \n",
    "#         count = 1\n",
    "#         start = 0\n",
    "#         for i in range(len(chars)-1):\n",
    "#             if chars[i] == chars[i+1]:\n",
    "#                 count += 1\n",
    "                \n",
    "#             if chars[i] != chars[i+1]:\n",
    "#                 chars[start+1: i+1] = [str(count)]\n",
    "#                 count = 1\n",
    "#                 start = i + 1\n",
    "        \n",
    "#             if i == len(chars)-2:\n",
    "#                 chars[start+1:] = [str(count)]\n",
    "                \n",
    "#         return len(chars)\n",
    "        \n",
    "        count = 0\n",
    "        l = 0\n",
    "        r = 0\n",
    "        while r <= len(chars) - 1:\n",
    "            if chars[l] == chars[r]:\n",
    "                count += 1\n",
    "                r += 1\n",
    "                print('on', l, r)\n",
    "                if r >= len(chars):\n",
    "                    tmp = []\n",
    "                    for c in str(count):\n",
    "                        tmp.append(c)\n",
    "                        \n",
    "                    print('tmp2', tmp)\n",
    "                    \n",
    "                    chars[l+1:r] = tmp\n",
    "                    \n",
    "            else:\n",
    "                if count == 1:\n",
    "                    count = 0\n",
    "                    l = r\n",
    "                    print('one')\n",
    "                \n",
    "                else:\n",
    "                    tmp = []\n",
    "                    for c in str(count):\n",
    "                        tmp.append(c)\n",
    "                    \n",
    "                    print('tmp1', tmp)\n",
    "                    chars[l+1:r] = tmp \n",
    "                    count = 0\n",
    "                    l = r\n",
    "                    print('l', l)\n",
    "                    print('r', r)\n",
    "                        \n",
    "        return chars"
   ]
  },
  {
   "cell_type": "code",
   "execution_count": null,
   "metadata": {},
   "outputs": [],
   "source": [
    "s = Solution()\n",
    "s.compress([\"a\",\"a\",\"b\",\"b\",\"c\",\"c\",\"c\"])"
   ]
  },
  {
   "cell_type": "markdown",
   "metadata": {},
   "source": [
    "## 283. Move Zeros (List, Pointer) (Facebook 8, Amazon 7, Microsoft 3)\n",
    "O(N)  \n",
    "O(1)  "
   ]
  },
  {
   "cell_type": "code",
   "execution_count": null,
   "metadata": {},
   "outputs": [],
   "source": [
    "class Solution:\n",
    "    def moveZeroes(self, nums):\n",
    "        \"\"\"\n",
    "        Do not return anything, modify nums in-place instead.\n",
    "        \"\"\"\n",
    "        pos = 0\n",
    "        for i in range(len(nums)):\n",
    "            if nums[i]:\n",
    "                nums[pos], nums[i] = nums[i], nums[pos]\n",
    "                pos += 1"
   ]
  },
  {
   "cell_type": "markdown",
   "metadata": {},
   "source": [
    "## Remove Chairs in String (Google Phone)\n",
    "https://leetcode.com/discuss/interview-question/407622/Google-or-Phone-Screen-or-Remove-Chars-in-String\n",
    "\n",
    "Q1. Use writing_index and through the string if you meet some char except 'a' rewrite string at position write_index and increase by one, so on. In the end, just substr the whole array from the begin to write_index; S[0:write_index]\n",
    "\n",
    "Q2. Need to use an additional array to replace 'b' to 'bee'. Firstly, count of b and init additional array with length of len(A) + countB * 2 and after that just go over the array and replace 'b' to 'bee'."
   ]
  },
  {
   "cell_type": "code",
   "execution_count": null,
   "metadata": {},
   "outputs": [],
   "source": [
    "def moveChars(self, chars):\n",
    "    pos = 0\n",
    "    for i in range(len(chars)):\n",
    "        if chars[i] != 'a':\n",
    "            chars[pos], chars[i] = chars[i], chars[pos]\n",
    "            pos += 1"
   ]
  },
  {
   "cell_type": "markdown",
   "metadata": {},
   "source": [
    "## Remove Duplicate Spaces (Google Phone)"
   ]
  },
  {
   "cell_type": "code",
   "execution_count": null,
   "metadata": {},
   "outputs": [],
   "source": [
    "def removeDup(chars):\n",
    "    res = []\n",
    "    count = 0\n",
    "    for c in chars:\n",
    "        if c != ' ':\n",
    "            res.append(c)\n",
    "            \n",
    "        else:\n",
    "            count += 1\n",
    "            if count == 1:\n",
    "                res.append(c)\n",
    "                \n",
    "    return res"
   ]
  },
  {
   "cell_type": "code",
   "execution_count": null,
   "metadata": {},
   "outputs": [],
   "source": [
    "def removeDup(chars):\n",
    "    l = 0\n",
    "    r = 0\n",
    "    while r < len(chars):\n",
    "        if chars[r] != ' ': \n",
    "            chars[l] = chars[r]\n",
    "            l += 1\n",
    "            r += 1\n",
    "            \n",
    "        elif chars[r] == ' ':\n",
    "            chars[l] = chars[r]\n",
    "            while r < len(chars) and chars[r] == ' ':\n",
    "                r += 1\n",
    "                \n",
    "            l += 1\n",
    "                \n",
    "input : {'a', 'b', ' ', ' ', 'c' } Output : {'a', 'b', ' ', 'c'}\n",
    "input : {'a', 'b', ' ', ' ', ' ' } Output : {'a', 'b', ' '}"
   ]
  },
  {
   "cell_type": "markdown",
   "metadata": {},
   "source": [
    "## 26. Remove Duplicates from Sorted Array (List, Pointer) (Microsoft 6, Google 4, Facebook 3)\n",
    "\n",
    "- 时间复杂度: O(N)- 空间复杂度: O(1)"
   ]
  },
  {
   "cell_type": "code",
   "execution_count": null,
   "metadata": {},
   "outputs": [],
   "source": [
    "class Solution:\n",
    "    def removeDuplicates(self, nums):\n",
    "        \"\"\"\n",
    "        :type nums: List[int]\n",
    "        :rtype: int\n",
    "        \"\"\"\n",
    "        if not nums:\n",
    "            return 0\n",
    "        \n",
    "        i = 0\n",
    "        for j in range(1,len(nums)):\n",
    "            if nums[i] != nums[j]:\n",
    "                i += 1\n",
    "                nums[i] = nums[j]\n",
    "        return i + 1"
   ]
  },
  {
   "cell_type": "code",
   "execution_count": null,
   "metadata": {},
   "outputs": [],
   "source": [
    "class Solution:\n",
    "    def removeDuplicates(self, nums):\n",
    "        \"\"\"\n",
    "        :type nums: List[int]\n",
    "        :rtype: int\n",
    "        \"\"\"\n",
    "        if not nums:\n",
    "            return 0\n",
    "        \n",
    "        res = 1\n",
    "        i = 0\n",
    "        for j in range(1, len(nums)):\n",
    "            if nums[j] != nums[i]:\n",
    "                res += 1\n",
    "                i += 1\n",
    "                nums[j], nums[i] = nums[i], nums[j]\n",
    "                \n",
    "        return res"
   ]
  },
  {
   "cell_type": "code",
   "execution_count": null,
   "metadata": {},
   "outputs": [],
   "source": [
    "class Solution:\n",
    "    def removeDuplicates(self, nums):\n",
    "        \"\"\"\n",
    "        :type nums: List[int]\n",
    "        :rtype: int\n",
    "        \"\"\"\n",
    "        i = 0\n",
    "        for n in nums:\n",
    "            if i < 1 or n > nums[i - 1]:\n",
    "                nums[i] = n\n",
    "                i += 1\n",
    "        return i"
   ]
  },
  {
   "cell_type": "code",
   "execution_count": null,
   "metadata": {},
   "outputs": [],
   "source": [
    "s = [1,2,3]\n",
    "s = s[0:2]\n",
    "s"
   ]
  },
  {
   "cell_type": "markdown",
   "metadata": {},
   "source": [
    "## 163. Missing Ranges (List) (Google 6 Phone) \n",
    "O(N)  \n",
    "O(1)"
   ]
  },
  {
   "cell_type": "code",
   "execution_count": null,
   "metadata": {},
   "outputs": [],
   "source": [
    "class Solution:\n",
    "    def findMissingRanges(self, nums, lower, upper):\n",
    "        \"\"\"\n",
    "        :type nums: List[int]\n",
    "        :type lower: int\n",
    "        :type upper: int\n",
    "        :rtype: List[str]\n",
    "        \"\"\"\n",
    "        \n",
    "        result = []\n",
    "        nums.insert(0, lower -1)\n",
    "        pre = nums[0]\n",
    "        nums.append(upper + 1)\n",
    "        \n",
    "        for n in nums:\n",
    "            if n - pre == 2:\n",
    "                result.append(str(n - 1))\n",
    "#                 print('result1=', result)\n",
    "            elif n - pre > 2:\n",
    "                result.append(str(pre + 1) + \"->\" + str(n - 1))\n",
    "#                 print('result2=', result)\n",
    "            pre = n\n",
    "#             print('pre=', pre)\n",
    "#             print()\n",
    "        return result"
   ]
  },
  {
   "cell_type": "code",
   "execution_count": null,
   "metadata": {},
   "outputs": [],
   "source": [
    "s = Solution()\n",
    "nums = [0, 1, 3, 50, 75]\n",
    "s.findMissingRanges(nums, 0, 99)"
   ]
  },
  {
   "cell_type": "markdown",
   "metadata": {},
   "source": [
    "## 169. Majority Element (Amazon 6)"
   ]
  },
  {
   "cell_type": "code",
   "execution_count": null,
   "metadata": {},
   "outputs": [],
   "source": [
    "class Solution:\n",
    "    def majorityElement(self, nums):\n",
    "        \"\"\"\n",
    "        :type nums: List[int]\n",
    "        :rtype: int\n",
    "        \"\"\"\n",
    "        count = 0\n",
    "        for num in nums:\n",
    "            if count == 0:\n",
    "                majority = num\n",
    "            if num == majority:\n",
    "                count += 1\n",
    "            else:\n",
    "                count -= 1\n",
    "        return majority"
   ]
  },
  {
   "cell_type": "markdown",
   "metadata": {},
   "source": [
    "## 229. Majority Element II (List) (Microsoft 2, Amazon 2)"
   ]
  },
  {
   "cell_type": "code",
   "execution_count": null,
   "metadata": {},
   "outputs": [],
   "source": [
    "class Solution:\n",
    "    def majorityElement(self, nums):\n",
    "        \"\"\"\n",
    "        :type nums: List[int]\n",
    "        :rtype: List[int]\n",
    "        \"\"\"\n",
    "        if not nums:\n",
    "            return []\n",
    "        \n",
    "        count1 = 0\n",
    "        count2 = 0\n",
    "        candidate1 = 0\n",
    "        candidate2 = 1\n",
    "        for n in nums:\n",
    "            if n == candidate1:\n",
    "                count1 += 1\n",
    "#                 print('case1 count1=', count1)\n",
    "            elif n == candidate2:\n",
    "                count2 += 1\n",
    "#                 print('case2 count2=', count2)\n",
    "            elif count1 == 0:\n",
    "                candidate1 = n \n",
    "                count1 = 1\n",
    "#                 print('case3 candidate1=', candidate1)\n",
    "#                 print('case3 count1=', count1)\n",
    "            elif count2 == 0:\n",
    "                candidate2 = n \n",
    "                count2 = 1\n",
    "#                 print('case4 candidate2=', candidate2)\n",
    "#                 print('case4 count2=', count2)\n",
    "            else:\n",
    "                count1 -= 1\n",
    "                count2 -= 1\n",
    "#                 print('x')\n",
    "#         print(candidate1,candidate2)\n",
    "        return [n for n in (candidate1, candidate2)\n",
    "                        if nums.count(n) > len(nums) // 3]"
   ]
  },
  {
   "cell_type": "code",
   "execution_count": null,
   "metadata": {},
   "outputs": [],
   "source": [
    "s = Solution()\n",
    "nums = [1,1,1,3,3,2,2,2]\n",
    "s.majorityElement(nums)"
   ]
  },
  {
   "cell_type": "markdown",
   "metadata": {},
   "source": [
    "## Next Permutation (List) (Facebook 14, Amazon 7, Google 4, Microsoft 3)\n",
    "就是返回一个大且仅大于当前数字的序列 如果没有更大的 就返回一个最小的数字 就是这么简单  \n",
    "先找出最大的索引k满足nums[l]<nums[l+1], 如果不存在，翻转整个list  \n",
    "再找出另一个最大索引l，满足nums[r]>nums[l]  \n",
    "swap nums[l] and nums[r]  \n",
    "reverse nums[l+1:]  \n",
    "O(N)  \n",
    "O(1)"
   ]
  },
  {
   "cell_type": "code",
   "execution_count": null,
   "metadata": {},
   "outputs": [],
   "source": [
    "class Solution:\n",
    "    def nextPermutation(self, nums):\n",
    "        \"\"\"\n",
    "        :type nums: List[int]\n",
    "        :rtype: None Do not return anything, modify nums in-place instead.\n",
    "        \"\"\"\n",
    "        def reverse(nums, i, j):\n",
    "            while i < j:\n",
    "                nums[i],nums[j] = nums[j], nums[i]\n",
    "                i += 1\n",
    "                j -= 1\n",
    "\n",
    "        l = -1      \n",
    "        for i in range(len(nums)-2, -1, -1):\n",
    "            if nums[i] < nums[i+1]:\n",
    "                l = i\n",
    "                break\n",
    "                \n",
    "        if l == -1:\n",
    "            reverse(nums, 0, len(nums)-1)\n",
    "            return\n",
    "                \n",
    "        r = -1    \n",
    "        for i in range(len(nums)-1, l, -1):\n",
    "            if nums[i] > nums[l]:\n",
    "                r = i\n",
    "                break\n",
    "                \n",
    "        nums[l],nums[r] = nums[r], nums[l]\n",
    "        reverse(nums, l+1, len(nums)-1)\n"
   ]
  },
  {
   "cell_type": "markdown",
   "metadata": {},
   "source": [
    "## 238. Product of Array Except Self (List) (Facebook 45, Amazon 13, Microsoft 5)\n",
    "\n",
    "时间复杂度: O(N)  \n",
    "O(N)"
   ]
  },
  {
   "cell_type": "code",
   "execution_count": null,
   "metadata": {},
   "outputs": [],
   "source": [
    "class Solution:\n",
    "    def productExceptSelf(self, nums):\n",
    "        \n",
    "        n = len(nums)\n",
    "        L, R, res = [0]*n, [0]*n, [0]*n\n",
    "        \n",
    "        L[0] = 1\n",
    "        for i in range(1, n):\n",
    "            L[i] = nums[i - 1] * L[i - 1]\n",
    "        \n",
    "        R[n - 1] = 1\n",
    "        for i in range(n - 2, -1, -1):\n",
    "            R[i] = nums[i + 1] * R[i + 1]\n",
    "        \n",
    "        for i in range(n):\n",
    "            res[i] = L[i] * R[i]\n",
    "        \n",
    "        return res"
   ]
  },
  {
   "cell_type": "code",
   "execution_count": null,
   "metadata": {},
   "outputs": [],
   "source": [
    "class Solution:\n",
    "    def productExceptSelf(self, nums):\n",
    "        \n",
    "        # The length of the input array \n",
    "        n = len(nums)\n",
    "        \n",
    "        # The left and right arrays as described in the algorithm\n",
    "        L, R, res = [0]*n, [0]*n, [0]*n\n",
    "        \n",
    "        # L[i] contains the product of all the elements to the left\n",
    "        # Note: for the element at index '0', there are no elements to the left,\n",
    "        # so the L[0] would be 1\n",
    "        L[0] = 1\n",
    "        for i in range(1, n):\n",
    "            \n",
    "            # L[i - 1] already contains the product of elements to the left of 'i - 1'\n",
    "            # Simply multiplying it with nums[i - 1] would give the product of all \n",
    "            # elements to the left of index 'i'\n",
    "            L[i] = nums[i - 1] * L[i - 1]\n",
    "            \n",
    "#         print('L =', L)\n",
    "        # R[i] contains the product of all the elements to the right\n",
    "        # Note: for the element at index 'length - 1', there are no elements to the right,\n",
    "        # so the R[length - 1] would be 1\n",
    "        R[n - 1] = 1\n",
    "        for i in range(n - 2, -1, -1):\n",
    "            \n",
    "            # R[i + 1] already contains the product of elements to the right of 'i + 1'\n",
    "            # Simply multiplying it with nums[i + 1] would give the product of all \n",
    "            # elements to the right of index 'i'\n",
    "            R[i] = nums[i + 1] * R[i + 1]\n",
    "        \n",
    "#         print('R =', R)\n",
    "        # Constructing the answer array\n",
    "        for i in range(n):\n",
    "            # For the first element, R[i] would be product except self\n",
    "            # For the last element of the array, product except self would be L[i]\n",
    "            # Else, multiple product of all elements to the left and to the right\n",
    "            res[i] = L[i] * R[i]\n",
    "        \n",
    "        return res"
   ]
  },
  {
   "cell_type": "code",
   "execution_count": null,
   "metadata": {},
   "outputs": [],
   "source": [
    "for i in reversed(range(4)):\n",
    "    print(i)"
   ]
  },
  {
   "cell_type": "code",
   "execution_count": null,
   "metadata": {},
   "outputs": [],
   "source": [
    "s = Solution()\n",
    "s.productExceptSelf([1,2,3,4])"
   ]
  },
  {
   "cell_type": "code",
   "execution_count": null,
   "metadata": {},
   "outputs": [],
   "source": [
    "[0]*3"
   ]
  },
  {
   "cell_type": "code",
   "execution_count": null,
   "metadata": {},
   "outputs": [],
   "source": [
    "l1 = [0,2,4]\n",
    "l1.pop(0)\n",
    "l1"
   ]
  },
  {
   "cell_type": "code",
   "execution_count": null,
   "metadata": {},
   "outputs": [],
   "source": [
    "length = 5\n",
    "for i in reversed(range(length - 1)):\n",
    "    print(i)"
   ]
  },
  {
   "cell_type": "code",
   "execution_count": null,
   "metadata": {},
   "outputs": [],
   "source": [
    "for i in range(5, -1, -1):\n",
    "    print(i)"
   ]
  },
  {
   "cell_type": "markdown",
   "metadata": {},
   "source": [
    "O(N)  \n",
    "O(1)"
   ]
  },
  {
   "cell_type": "code",
   "execution_count": null,
   "metadata": {},
   "outputs": [],
   "source": [
    "class Solution:\n",
    "    def productExceptSelf(self, nums):\n",
    "        \"\"\"\n",
    "        :type nums: List[int]\n",
    "        :rtype: List[int]\n",
    "        \"\"\"\n",
    "        length = len(nums)\n",
    "        \n",
    "        answer = [0]*length\n",
    "        \n",
    "        answer[0] = 1\n",
    "        for i in range(1, length):\n",
    "            answer[i] = nums[i - 1] * answer[i - 1]\n",
    "        \n",
    "        R = 1\n",
    "        for i in reversed(range(length)):\n",
    "            answer[i] = answer[i] * R\n",
    "            R *= nums[i]\n",
    "        \n",
    "        return answer"
   ]
  },
  {
   "cell_type": "code",
   "execution_count": null,
   "metadata": {},
   "outputs": [],
   "source": [
    "class Solution:\n",
    "    def productExceptSelf(self, nums):\n",
    "        \"\"\"\n",
    "        :type nums: List[int]\n",
    "        :rtype: List[int]\n",
    "        \"\"\"\n",
    "        # The length of the input array \n",
    "        length = len(nums)\n",
    "        \n",
    "        # The answer array to be returned\n",
    "        answer = [0]*length\n",
    "        \n",
    "        # answer[i] contains the product of all the elements to the left\n",
    "        # Note: for the element at index '0', there are no elements to the left,\n",
    "        # so the answer[0] would be 1\n",
    "        answer[0] = 1\n",
    "        for i in range(1, length):\n",
    "            \n",
    "            # answer[i - 1] already contains the product of elements to the left of 'i - 1'\n",
    "            # Simply multiplying it with nums[i - 1] would give the product of all \n",
    "            # elements to the left of index 'i'\n",
    "            answer[i] = nums[i - 1] * answer[i - 1]\n",
    "        \n",
    "        # R contains the product of all the elements to the right\n",
    "        # Note: for the element at index 'length - 1', there are no elements to the right,\n",
    "        # so the R would be 1\n",
    "        R = 1;\n",
    "        for i in reversed(range(length)):\n",
    "            \n",
    "            # For the index 'i', R would contain the \n",
    "            # product of all elements to the right. We update R accordingly\n",
    "            answer[i] = answer[i] * R\n",
    "            R *= nums[i]\n",
    "        \n",
    "        return answer"
   ]
  },
  {
   "cell_type": "markdown",
   "metadata": {
    "toc-hr-collapsed": false
   },
   "source": [
    "## 36. Valid Sudoku (String Matrix) (Uber 7, Microsoft 7, Amazon 5)\n",
    "\n",
    "O(m*n)  \n",
    "O(1)"
   ]
  },
  {
   "cell_type": "code",
   "execution_count": null,
   "metadata": {},
   "outputs": [],
   "source": [
    "class Solution:\n",
    "    def isValidSudoku(self, board):\n",
    "        \"\"\"\n",
    "        :type board: List[List[str]]\n",
    "        :rtype: bool\n",
    "        \"\"\"\n",
    "        def is_row_valid(board):\n",
    "            for row in board:\n",
    "                if not is_unit_valid(row):\n",
    "                    return False\n",
    "            return True\n",
    "\n",
    "        def is_col_valid(board):\n",
    "            for col in zip(*board):\n",
    "                if not is_unit_valid(col):\n",
    "                    return False\n",
    "            return True\n",
    "\n",
    "        def is_square_valid(board):\n",
    "            for i in (0, 3, 6):\n",
    "                for j in (0, 3, 6):\n",
    "                    square = [board[x][y] for x in range(i, i + 3) for y in range(j, j + 3)]\n",
    "    #                 print(square)\n",
    "    #                 print()\n",
    "                    if not is_unit_valid(square):\n",
    "                        return False\n",
    "            return True\n",
    "\n",
    "        def is_unit_valid(unit):\n",
    "            unit = [i for i in unit if i != '.']\n",
    "            return len(set(unit)) == len(unit)\n",
    "\n",
    "        \n",
    "        return (is_row_valid(board) and\n",
    "                is_col_valid(board) and\n",
    "                is_square_valid(board))"
   ]
  },
  {
   "cell_type": "code",
   "execution_count": null,
   "metadata": {},
   "outputs": [],
   "source": [
    "board = [\n",
    "  [\"5\",\"3\",\".\",\".\",\"7\",\".\",\".\",\".\",\".\"],\n",
    "  [\"6\",\".\",\".\",\"1\",\"9\",\"5\",\".\",\".\",\".\"],\n",
    "  [\".\",\"9\",\"8\",\".\",\".\",\".\",\".\",\"6\",\".\"],\n",
    "  [\"8\",\".\",\".\",\".\",\"6\",\".\",\".\",\".\",\"3\"],\n",
    "  [\"4\",\".\",\".\",\"8\",\".\",\"3\",\".\",\".\",\"1\"],\n",
    "  [\"7\",\".\",\".\",\".\",\"2\",\".\",\".\",\".\",\"6\"],\n",
    "  [\".\",\"6\",\".\",\".\",\".\",\".\",\"2\",\"8\",\".\"],\n",
    "  [\".\",\".\",\".\",\"4\",\"1\",\"9\",\".\",\".\",\"5\"],\n",
    "  [\".\",\".\",\".\",\".\",\"8\",\".\",\".\",\"7\",\"9\"]\n",
    "]\n",
    "s = Solution()\n",
    "s.isValidSudoku(board)"
   ]
  },
  {
   "cell_type": "code",
   "execution_count": null,
   "metadata": {},
   "outputs": [],
   "source": [
    "class Solution:\n",
    "    def isValidSudoku(self, board):\n",
    "        \"\"\"\n",
    "        :type board: List[List[str]]\n",
    "        :rtype: bool\n",
    "        \"\"\"\n",
    "        # init data\n",
    "        rows = [{} for i in range(9)]\n",
    "        columns = [{} for i in range(9)]\n",
    "        boxes = [{} for i in range(9)]\n",
    "\n",
    "        # validate a board\n",
    "        for i in range(9):\n",
    "            for j in range(9):\n",
    "                num = board[i][j]\n",
    "                if num != '.':\n",
    "                    num = int(num)\n",
    "                    box_index = (i // 3 ) * 3 + j // 3\n",
    "                    \n",
    "                    # keep the current cell value\n",
    "                    rows[i][num] = rows[i].get(num, 0) + 1\n",
    "                    columns[j][num] = columns[j].get(num, 0) + 1\n",
    "                    boxes[box_index][num] = boxes[box_index].get(num, 0) + 1\n",
    "                    \n",
    "                    # check if this value has been already seen before\n",
    "                    if rows[i][num] > 1 or columns[j][num] > 1 or boxes[box_index][num] > 1:\n",
    "                        return False         \n",
    "        return True"
   ]
  },
  {
   "cell_type": "code",
   "execution_count": null,
   "metadata": {},
   "outputs": [],
   "source": [
    "matrix = [['a'] * 4 for j in range(3)]\n",
    "matrix"
   ]
  },
  {
   "cell_type": "code",
   "execution_count": null,
   "metadata": {},
   "outputs": [],
   "source": [
    "[[1] for i in range(9) for i in range(9)]"
   ]
  },
  {
   "cell_type": "markdown",
   "metadata": {},
   "source": [
    "## 794. Valid Tic-Tac-Toe State\t(String Matrix) (Microsoft 4)\n",
    "O(m*n)  \n",
    "O(1)  \n",
    "\n",
    "To find the validity of a given board, we could first think about the cases where the board is invalid\n",
    "\n",
    "Since X starts first, x_count >= o_count. So if o_count > x_count, we can return False\n",
    "Since the players take turns, we could also return False if x_count-o_count>1\n",
    "After the corner cases, this is the algorithm used:\n",
    "\n",
    "If player O has a winning condition, also check the following:\n",
    "a) If player X also has a winning condition, return False\n",
    "b) If x_count != o_count , return False (Since player O always plays second, it has to meet this condition always)\n",
    "If player X has a winning condition, check the following:\n",
    "a) If x_count != o_count + 1, return False (Since player X plays the first move, if player X wins, the player X's count would be 1 more than player O)"
   ]
  },
  {
   "cell_type": "code",
   "execution_count": null,
   "metadata": {},
   "outputs": [],
   "source": [
    "class Solution:    \n",
    "    def validTicTacToe(self, board):\n",
    "        \"\"\"\n",
    "        :type board: List[str]\n",
    "        :rtype: bool\n",
    "        \"\"\"    \n",
    "        X, O = 0, 0\n",
    "        for i in range(len(board)):\n",
    "            for j in range(len(board[0])):\n",
    "                if board[i][j] == \"X\":\n",
    "                    X += 1\n",
    "                elif  board[i][j] == \"O\":\n",
    "                    O += 1\n",
    "\n",
    "        if O not in {X-1, X}: \n",
    "            return False\n",
    "        \n",
    "        def win(board, player):\n",
    "            \"\"\"\n",
    "            Check if the given player has a win position.\n",
    "            Return True if there is a win position. Else return False.\n",
    "            \"\"\"\n",
    "        \n",
    "            #Check the rows\n",
    "            for i in range(len(board)):\n",
    "                if board[i][0] == board[i][1] == board[i][2] == player:\n",
    "                    return True                        \n",
    "\n",
    "            #Check the columns\n",
    "            for i in range(len(board)):\n",
    "                if board[0][i] == board[1][i] == board[2][i] == player:\n",
    "                    return True \n",
    "\n",
    "            #Check the diagonals\n",
    "            if board[0][0] == board[1][1] == board[2][2]  == player or \\\n",
    "                   board[0][2] == board[1][1] == board[2][0] == player:\n",
    "                return True\n",
    "\n",
    "            return False\n",
    "        \n",
    "        if win(board, 'O'):\n",
    "            if win(board, 'X'):\n",
    "                return False\n",
    "            return o_count == x_count  \n",
    "        \n",
    "        if win(board, 'X') and x_count != o_count + 1:\n",
    "            return False\n",
    "        \n",
    "        return True"
   ]
  },
  {
   "cell_type": "markdown",
   "metadata": {},
   "source": [
    "## 54. Spiral Matrix (Matrix) (Microsoft 8)  \n",
    "O(m*n)  \n",
    "O(1)"
   ]
  },
  {
   "cell_type": "code",
   "execution_count": null,
   "metadata": {},
   "outputs": [],
   "source": [
    "class Solution:\n",
    "    def spiralOrder(self, matrix):\n",
    "        \"\"\"\n",
    "        :type matrix: List[List[int]]\n",
    "        :rtype: List[int]\n",
    "        \"\"\"\n",
    "        if not matrix:\n",
    "            return []\n",
    "        \n",
    "        return list(matrix.pop(0)) + self.spiralOrder(list(zip(*matrix))[::-1])"
   ]
  },
  {
   "cell_type": "code",
   "execution_count": null,
   "metadata": {},
   "outputs": [],
   "source": [
    "s = Solution()\n",
    "matrix = [[1, 2, 3],\n",
    "          [4, 5, 6],\n",
    "          [7, 8, 9]]\n",
    "\n",
    "print(matrix and matrix.pop(0))\n",
    "\n",
    "matrix2 = list(zip(*matrix))[::-1]\n",
    "print('matrix2 =', matrix2)\n",
    "print(matrix2 and matrix2.pop(0))\n",
    "\n",
    "\n",
    "matrix3 = list(zip(*matrix2))[::-1]\n",
    "print('matrix3 =', matrix3)\n",
    "print(matrix3 and matrix3.pop(0))\n",
    "\n",
    "matrix4 = list(zip(*matrix3))[::-1]\n",
    "print('matrix4 =', matrix4)\n",
    "print(matrix4 and matrix4.pop(0))\n",
    "\n",
    "matrix5 = list(zip(*matrix4))[::-1]\n",
    "print('matrix5 =', matrix5)\n",
    "print(matrix5 and matrix5.pop(0))\n",
    "\n",
    "matrix6 = list(zip(*matrix5))[::-1]\n",
    "print('matrix6 =', matrix6)\n",
    "print(matrix5 and matrix6.pop(0))\n",
    "\n",
    "# s.spiralOrder(matrix)\n"
   ]
  },
  {
   "cell_type": "code",
   "execution_count": null,
   "metadata": {},
   "outputs": [],
   "source": [
    "1 and 32"
   ]
  },
  {
   "cell_type": "code",
   "execution_count": null,
   "metadata": {},
   "outputs": [],
   "source": [
    "l1 = [1,2,3]\n",
    "l1 += [3]\n",
    "l1"
   ]
  },
  {
   "cell_type": "markdown",
   "metadata": {},
   "source": [
    "## 48. Rotate Image (Matrix) (Amazon 9, Microsoft 8)\n",
    "\n",
    "O(row*col)  \n",
    "O(1)"
   ]
  },
  {
   "cell_type": "code",
   "execution_count": null,
   "metadata": {},
   "outputs": [],
   "source": [
    "class Solution:\n",
    "    def rotate(self, matrix):\n",
    "        \"\"\"\n",
    "        :type matrix: List[List[int]]\n",
    "        :rtype: void Do not return anything, modify matrix in-place instead.\n",
    "        \"\"\"\n",
    "        matrix[:] = zip(*matrix[::-1])"
   ]
  },
  {
   "cell_type": "code",
   "execution_count": null,
   "metadata": {},
   "outputs": [],
   "source": [
    "s = Solution()\n",
    "matrix = [\n",
    "  [1,2,3],\n",
    "  [4,5,6],\n",
    "  [7,8,9]\n",
    "]\n",
    "# matrix[:]\n",
    "# s.rotate(matrix)\n",
    "# matrix\n",
    "x = zip(*matrix[::-1])\n",
    "for i in x:\n",
    "    print(i)"
   ]
  },
  {
   "cell_type": "code",
   "execution_count": null,
   "metadata": {},
   "outputs": [],
   "source": [
    "list(zip(*matrix[::-1]))"
   ]
  },
  {
   "cell_type": "code",
   "execution_count": null,
   "metadata": {},
   "outputs": [],
   "source": [
    "class Solution:\n",
    "    def rotate(self, matrix):\n",
    "        \"\"\"\n",
    "        :type matrix: List[List[int]]\n",
    "        :rtype: void Do not return anything, modify matrix in-place instead.\n",
    "        \"\"\"\n",
    "        n = len(matrix[0])        \n",
    "        # transpose matrix\n",
    "        for i in range(n):\n",
    "            for j in range(i, n):\n",
    "                matrix[j][i], matrix[i][j] = matrix[i][j], matrix[j][i] \n",
    "        \n",
    "        # reverse each row\n",
    "        for i in range(n):\n",
    "            matrix[i].reverse()"
   ]
  },
  {
   "cell_type": "markdown",
   "metadata": {},
   "source": [
    "## 289 Game of Life (Matrix) (Amazon 10, Google 2 Phone)\n",
    "\n",
    "O(N^2)"
   ]
  },
  {
   "cell_type": "code",
   "execution_count": null,
   "metadata": {},
   "outputs": [],
   "source": [
    "class Solution:\n",
    "    def gameOfLife(self, board):\n",
    "        \"\"\"\n",
    "        Do not return anything, modify board in-place instead.\n",
    "        \"\"\"\n",
    "        # Neighbors array to find 8 neighboring cells for a given cell\n",
    "        neighbors = [(1,0), (1,-1), (0,-1), (-1,-1), (-1,0), (-1,1), (0,1), (1,1)]\n",
    "\n",
    "        dp = []\n",
    "        for n in board:\n",
    "            dp.append(n.copy())\n",
    "        \n",
    "        rows = len(board)\n",
    "        cols = len(board[0])\n",
    "\n",
    "        # Iterate through board cell by cell.\n",
    "        for row in range(rows):\n",
    "            for col in range(cols):\n",
    "\n",
    "                # For each cell count the number of live neighbors.\n",
    "                live_neighbors = 0\n",
    "                for neighbor in neighbors:\n",
    "\n",
    "                    # row and column of the neighboring cell\n",
    "                    r = (row + neighbor[0])\n",
    "                    c = (col + neighbor[1])\n",
    "\n",
    "                    # Check the validity of the neighboring cell and if it was originally a live cell.\n",
    "                    if (r < rows and r >= 0) and (c < cols and c >= 0) and dp[r][c] == 1:\n",
    "                        live_neighbors += 1\n",
    "\n",
    "                # Rule 1 or Rule 3\n",
    "                if dp[row][col] == 1 and (live_neighbors < 2 or live_neighbors > 3):\n",
    "                    # -1 signifies the cell is now dead but originally was live.\n",
    "                    board[row][col] = 0\n",
    "                # Rule 4\n",
    "                if dp[row][col] == 0 and live_neighbors == 3:\n",
    "                    # 2 signifies the cell is now live but was originally dead.\n",
    "                    board[row][col] = 1"
   ]
  },
  {
   "cell_type": "code",
   "execution_count": null,
   "metadata": {},
   "outputs": [],
   "source": [
    "class Solution:\n",
    "    def gameOfLife(self, board):\n",
    "        \"\"\"\n",
    "        Do not return anything, modify board in-place instead.\n",
    "        \"\"\"\n",
    "        # Neighbors array to find 8 neighboring cells for a given cell\n",
    "        neighbors = [(1,0), (1,-1), (0,-1), (-1,-1), (-1,0), (-1,1), (0,1), (1,1)]\n",
    "\n",
    "        rows = len(board)\n",
    "        cols = len(board[0])\n",
    "\n",
    "        # Iterate through board cell by cell.\n",
    "        for row in range(rows):\n",
    "            for col in range(cols):\n",
    "\n",
    "                # For each cell count the number of live neighbors.\n",
    "                live_neighbors = 0\n",
    "                for neighbor in neighbors:\n",
    "\n",
    "                    # row and column of the neighboring cell\n",
    "                    r = (row + neighbor[0])\n",
    "                    c = (col + neighbor[1])\n",
    "\n",
    "                    # Check the validity of the neighboring cell and if it was originally a live cell.\n",
    "                    if (r < rows and r >= 0) and (c < cols and c >= 0) and abs(board[r][c]) == 1:\n",
    "                        live_neighbors += 1\n",
    "\n",
    "                # Rule 1 or Rule 3\n",
    "                if board[row][col] == 1 and (live_neighbors < 2 or live_neighbors > 3):\n",
    "                    # -1 signifies the cell is now dead but originally was live.\n",
    "                    board[row][col] = -1\n",
    "                # Rule 4\n",
    "                if board[row][col] == 0 and live_neighbors == 3:\n",
    "                    # 2 signifies the cell is now live but was originally dead.\n",
    "                    board[row][col] = 2\n",
    "\n",
    "        # Get the final representation for the newly updated board.\n",
    "        for row in range(rows):\n",
    "            for col in range(cols):\n",
    "                if board[row][col] > 0:\n",
    "                    board[row][col] = 1\n",
    "                else:\n",
    "                    board[row][col] = 0"
   ]
  },
  {
   "cell_type": "code",
   "execution_count": null,
   "metadata": {},
   "outputs": [],
   "source": [
    "class Solution:\n",
    "    def gameOfLife(self, board):\n",
    "        \"\"\"\n",
    "        :type board: List[List[int]]\n",
    "        :rtype: None Do not return anything, modify board in-place instead.\n",
    "        \"\"\"\n",
    "        \n",
    "        for i in range(len(board)):\n",
    "            for j in range(len(board[i])):\n",
    "                live=0\n",
    "                try:\n",
    "                    l_1=board[i-1][j-1]\n",
    "                    if l_1>0 and i>0 and j>0:\n",
    "                        live+=1\n",
    "                except IndexError:\n",
    "                    pass\n",
    "                \n",
    "                try:\n",
    "                    l_2=board[i-1][j]\n",
    "                    if l_2>0 and i>0:\n",
    "                        live+=1\n",
    "                except IndexError:\n",
    "                    pass\n",
    "                \n",
    "                try:\n",
    "                    l_3=board[i-1][j+1]\n",
    "                    if l_3>0 and i>0:\n",
    "                        live+=1\n",
    "                except IndexError:\n",
    "                    pass\n",
    "                \n",
    "                try:\n",
    "                    l_4=board[i][j-1]\n",
    "                    if l_4>0 and j>0:\n",
    "                        live+=1\n",
    "                except IndexError:\n",
    "                    pass\n",
    "                \n",
    "                try:\n",
    "                    l_5=board[i][j+1]\n",
    "                    if l_5>0:\n",
    "                        live+=1\n",
    "                except IndexError:\n",
    "                    pass\n",
    "                try:\n",
    "                    l_6=board[i+1][j-1]\n",
    "                    if l_6>0 and j>0:\n",
    "                        live+=1\n",
    "                except IndexError:\n",
    "                    pass\n",
    "                \n",
    "                try:\n",
    "                    l_7=board[i+1][j]\n",
    "                    if l_7>0:\n",
    "                        live+=1\n",
    "                except IndexError:\n",
    "                    pass\n",
    "                \n",
    "                try:\n",
    "                    l_8=board[i+1][j+1]\n",
    "                    if l_8>0:\n",
    "                        live+=1\n",
    "                except IndexError:\n",
    "                    pass  \n",
    "                \n",
    "                if board[i][j]>0:\n",
    "                    if live<2 or live>3:\n",
    "                        board[i][j]=2\n",
    "                    elif live==2 or live==3:\n",
    "                        board[i][j]=1\n",
    "                else:\n",
    "                    if live==3:\n",
    "                        board[i][j]=-1\n",
    "                        \n",
    "        for i in range(len(board)):\n",
    "            for j in range(len(board[i])):\n",
    "                if board[i][j]==2:\n",
    "                    board[i][j]=0\n",
    "                if board[i][j]==-1:\n",
    "                    board[i][j]=1\n"
   ]
  },
  {
   "cell_type": "markdown",
   "metadata": {},
   "source": [
    "## 73. Set Matrix Zeroes (Matrix) (Microsoft 5)\n",
    "\n",
    "时间复杂度: O(m * n)  \n",
    "空间复杂度: O(1)"
   ]
  },
  {
   "cell_type": "code",
   "execution_count": null,
   "metadata": {},
   "outputs": [],
   "source": [
    "class Solution:\n",
    "    def setZeroes(self, matrix):\n",
    "        \"\"\"\n",
    "        :type matrix: List[List[int]]\n",
    "        :rtype: void Do not return anything, modify matrix in-place instead.\n",
    "        \"\"\"\n",
    "        row =len(matrix)\n",
    "        col = len(matrix[0])\n",
    "        \n",
    "        for i in range(row):\n",
    "            for j in range(col):\n",
    "                if matrix[i][j] == 0:\n",
    "                    for k in range(row):\n",
    "                        if matrix[k][j]!=0:\n",
    "                            matrix[k][j]=''\n",
    "                            \n",
    "                    for k in range(col):\n",
    "                        if matrix[i][k]!=0:\n",
    "                            matrix[i][k]=''\n",
    "        for i in range(m):\n",
    "            for j in range(n):\n",
    "                if matrix[i][j] == '':\n",
    "                    matrix[i][j] = 0 "
   ]
  },
  {
   "cell_type": "code",
   "execution_count": null,
   "metadata": {},
   "outputs": [],
   "source": [
    "class Solution:\n",
    "    def setZeroes(self, matrix):\n",
    "        \"\"\"\n",
    "        :type matrix: List[List[int]]\n",
    "        :rtype: void Do not return anything, modify matrix in-place instead.\n",
    "        \"\"\"\n",
    "        is_col = False\n",
    "        m = len(matrix)\n",
    "        n = len(matrix[0])\n",
    "        for i in range(m):\n",
    "            # Since first cell for both first row and first column is the same i.e. matrix[0][0]\n",
    "            # We can use an additional variable for either the first row/column.\n",
    "            # For this solution we are using an additional variable for the first column\n",
    "            # and using matrix[0][0] for the first row.\n",
    "            if matrix[i][0] == 0:\n",
    "                is_col = True\n",
    "            for j in range(1, n):\n",
    "                # If an element is zero, we set the first element of the corresponding row and column to 0\n",
    "                if matrix[i][j]  == 0:\n",
    "                    matrix[0][j] = 0\n",
    "                    matrix[i][0] = 0\n",
    "\n",
    "        # Iterate over the array once again and using the first row and first column, update the elements.\n",
    "        for i in range(1, m):\n",
    "            for j in range(1, n):\n",
    "                if not matrix[i][0] or not matrix[0][j]:\n",
    "                    matrix[i][j] = 0\n",
    "\n",
    "        # See if the first row needs to be set to zero as well\n",
    "        if matrix[0][0] == 0:\n",
    "            for j in range(n):\n",
    "                matrix[0][j] = 0\n",
    "\n",
    "        # See if the first column needs to be set to zero as well        \n",
    "        if is_col:\n",
    "            for i in range(m):\n",
    "                matrix[i][0] = 0"
   ]
  },
  {
   "cell_type": "markdown",
   "metadata": {},
   "source": [
    "## 311. Sparse Matrix Multiplication (Matrix) (Facebook 5)\n",
    "\n",
    "O(m*n)  \n",
    "O(m*n)"
   ]
  },
  {
   "cell_type": "code",
   "execution_count": null,
   "metadata": {},
   "outputs": [],
   "source": [
    "class Solution:\n",
    "    def multiply(self, A, B):\n",
    "        \"\"\"\n",
    "        :type A: List[List[int]]\n",
    "        :type B: List[List[int]]\n",
    "        :rtype: List[List[int]]\n",
    "        \"\"\"\n",
    "            \n",
    "        mA = len(A)\n",
    "\n",
    "        nA = len(A[0])\n",
    "\n",
    "        nB = len(B[0])\n",
    "\n",
    "        res = [[0]*nB for n in range(mA)]\n",
    "\n",
    "        for i in range(mA):\n",
    "            for j in range(nB):\n",
    "                for n in range(nA):\n",
    "                    res[i][j] += A[i][n] * B[n][j]\n",
    "            \n",
    "        return res"
   ]
  },
  {
   "cell_type": "code",
   "execution_count": null,
   "metadata": {},
   "outputs": [],
   "source": [
    "class Solution:\n",
    "    def multiply(self, A, B):\n",
    "        \"\"\"\n",
    "        :type A: List[List[int]]\n",
    "        :type B: List[List[int]]\n",
    "        :rtype: List[List[int]]\n",
    "        \"\"\"\n",
    "            \n",
    "        mA = len(A)\n",
    "#         print('mA=', mA)\n",
    "        nA = len(A[0])\n",
    "#         print('nA=', nA)\n",
    "        nB = len(B[0])\n",
    "#         print('nB=', nB)\n",
    "        res = [[0]*nB for n in range(mA)]\n",
    "#         print('res=', res)\n",
    "\n",
    "        for i in range(mA):\n",
    "            for j in range(nA):\n",
    "                if A[i][j]:\n",
    "                    for k in range(nB):\n",
    "                        res[i][k] += A[i][j]*B[j][k]\n",
    "        return res"
   ]
  },
  {
   "cell_type": "code",
   "execution_count": null,
   "metadata": {},
   "outputs": [],
   "source": [
    "s = Solution()\n",
    "A = [\n",
    "  [ 1, 0, 0],\n",
    "  [-1, 0, 3]\n",
    "]\n",
    "\n",
    "B = [\n",
    "  [ 7, 0, 0 ],\n",
    "  [ 0, 0, 0 ],\n",
    "  [ 0, 0, 1 ]\n",
    "]\n",
    "\n",
    "A[1][0]\n",
    "\n",
    "s.multiply(A,B)"
   ]
  },
  {
   "cell_type": "code",
   "execution_count": null,
   "metadata": {},
   "outputs": [],
   "source": [
    "import numpy as np\n",
    "x = np.array(A)\n",
    "y = np.array(B)\n",
    "z = x @ y"
   ]
  }
 ],
 "metadata": {
  "kernelspec": {
   "display_name": "Python 3",
   "language": "python",
   "name": "python3"
  },
  "language_info": {
   "codemirror_mode": {
    "name": "ipython",
    "version": 3
   },
   "file_extension": ".py",
   "mimetype": "text/x-python",
   "name": "python",
   "nbconvert_exporter": "python",
   "pygments_lexer": "ipython3",
   "version": "3.8.1"
  },
  "toc": {
   "base_numbering": 1,
   "nav_menu": {
    "height": "799px",
    "width": "682px"
   },
   "number_sections": true,
   "sideBar": false,
   "skip_h1_title": false,
   "title_cell": "Table of Contents",
   "title_sidebar": "Contents",
   "toc_cell": true,
   "toc_position": {},
   "toc_section_display": true,
   "toc_window_display": false
  },
  "toc-autonumbering": true,
  "toc-showtags": false
 },
 "nbformat": 4,
 "nbformat_minor": 4
}
