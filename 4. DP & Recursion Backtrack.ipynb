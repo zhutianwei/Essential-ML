{
 "cells": [
  {
   "cell_type": "code",
   "execution_count": 1,
   "metadata": {},
   "outputs": [],
   "source": [
    "from IPython.core.interactiveshell import InteractiveShell\n",
    "InteractiveShell.ast_node_interactivity = \"all\""
   ]
  },
  {
   "cell_type": "markdown",
   "metadata": {},
   "source": [
    "### (18) (String) List. List, Matrix-DP. Recursion-DP O(N) O(N)"
   ]
  },
  {
   "cell_type": "markdown",
   "metadata": {},
   "source": [
    "## 509. Fibonacci Number (Amazon 2, Microsoft 2)"
   ]
  },
  {
   "cell_type": "markdown",
   "metadata": {},
   "source": [
    "Bottom-Up Approach using Memoization  \n",
    "O(N)  \n",
    "O(N)"
   ]
  },
  {
   "cell_type": "code",
   "execution_count": null,
   "metadata": {},
   "outputs": [],
   "source": [
    "class Solution:\n",
    "    def fib(self, n):\n",
    "        \"\"\"\n",
    "        :type n: int\n",
    "        :rtype: int\n",
    "        \"\"\"\n",
    "#         cache = {0: 0, \n",
    "#                  1: 1}\n",
    "        \n",
    "        dp = [0, 1] + [0] * (n - 1)\n",
    "        # Since range is exclusive and we want to include N, we need to put N+1.\n",
    "        for i in range(2, n+1):\n",
    "            dp[i] = dp[i-1] + dp[i-2]\n",
    "\n",
    "        return dp[n]"
   ]
  },
  {
   "cell_type": "code",
   "execution_count": 5,
   "metadata": {},
   "outputs": [
    {
     "data": {
      "text/plain": [
       "[]"
      ]
     },
     "execution_count": 5,
     "metadata": {},
     "output_type": "execute_result"
    }
   ],
   "source": [
    "[0] *  -2"
   ]
  },
  {
   "cell_type": "markdown",
   "metadata": {},
   "source": [
    "Top-Down Approach using Memoization"
   ]
  },
  {
   "cell_type": "code",
   "execution_count": 64,
   "metadata": {},
   "outputs": [],
   "source": [
    "class Solution:    \n",
    "    def fib(self, n):\n",
    "        \"\"\"\n",
    "        :type n: int\n",
    "        :rtype: int\n",
    "        \"\"\"\n",
    "        dic = {0: 0,\n",
    "               1: 1}\n",
    "        \n",
    "        def dp(n): \n",
    "#             if n <= 1:\n",
    "#                 return n\n",
    "\n",
    "            if n in dic:\n",
    "                return dic[n]\n",
    "\n",
    "            dic[n] = dp(n-1) + dp(n-2)\n",
    "            return dic[n]\n",
    "        \n",
    "        return dp(n)"
   ]
  },
  {
   "cell_type": "code",
   "execution_count": 65,
   "metadata": {},
   "outputs": [
    {
     "data": {
      "text/plain": [
       "13"
      ]
     },
     "execution_count": 65,
     "metadata": {},
     "output_type": "execute_result"
    }
   ],
   "source": [
    "s = Solution()\n",
    "s.fib(7)"
   ]
  },
  {
   "cell_type": "code",
   "execution_count": 75,
   "metadata": {},
   "outputs": [],
   "source": [
    "class Solution:        \n",
    "    def countBinStry(self, n):\n",
    "        \"\"\"\n",
    "        :type n: int\n",
    "        :rtype: int\n",
    "        \"\"\"\n",
    "        dic = {0: 0, \n",
    "               1: 1}\n",
    "        \n",
    "        n += 2\n",
    "        \n",
    "        def fib(n):\n",
    "            \"\"\"\n",
    "            :type n: int\n",
    "            :rtype: int\n",
    "            \"\"\"\n",
    "#             if n <= 1:\n",
    "#                 return n\n",
    "\n",
    "            if n in dic:\n",
    "                return dic[n]\n",
    "\n",
    "            dic[n] = fib(n-1) + fib(n-2)\n",
    "            \n",
    "            return dic[n]\n",
    "        \n",
    "        return fib(n)"
   ]
  },
  {
   "cell_type": "code",
   "execution_count": 76,
   "metadata": {},
   "outputs": [
    {
     "data": {
      "text/plain": [
       "8"
      ]
     },
     "execution_count": 76,
     "metadata": {},
     "output_type": "execute_result"
    }
   ],
   "source": [
    "s = Solution()\n",
    "s.countBinStry(4)"
   ]
  },
  {
   "cell_type": "code",
   "execution_count": 14,
   "metadata": {},
   "outputs": [],
   "source": [
    "class Solution:\n",
    "    def fib(self, n):\n",
    "        \"\"\"\n",
    "        :type n: int\n",
    "        :rtype: int\n",
    "        \"\"\"\n",
    "        \n",
    "        if n <= 1:\n",
    "            return n\n",
    "        return self.fib(n-1) + self.fib(n-2)"
   ]
  },
  {
   "cell_type": "markdown",
   "metadata": {},
   "source": [
    "## 70. Climbing Stairs (Int) (Amazon 6)  \n",
    "O(N)  \n",
    "O(1)"
   ]
  },
  {
   "cell_type": "code",
   "execution_count": null,
   "metadata": {},
   "outputs": [],
   "source": [
    "# Recursion\n",
    "class Solution:\n",
    "    def climbStairs(self, n):\n",
    "        \"\"\"\n",
    "        :type n: int\n",
    "        :rtype: int\n",
    "        \"\"\"\n",
    "        \n",
    "        if n == 1: \n",
    "            return 1\n",
    "        if n == 2: \n",
    "            return 2\n",
    "        return self.climbStairs(n - 1) + self.climbStairs(n - 2)"
   ]
  },
  {
   "cell_type": "code",
   "execution_count": null,
   "metadata": {},
   "outputs": [],
   "source": [
    "# Bottom up. 时间复杂度: O(N)- 空间复杂度: O(N)\n",
    "class Solution:\n",
    "    def climbStairs(self, n):\n",
    "        \"\"\"\n",
    "        :type n: int\n",
    "        :rtype: int\n",
    "        \"\"\"\n",
    "        if n == 1:\n",
    "            return 1\n",
    "        if n == 2:\n",
    "            return 2\n",
    "        \n",
    "        cache = [0, 1, 2] + [0] * (n-2)\n",
    "        \n",
    "        for i in range(3, n+1):\n",
    "            cache[i] = cache[i-1] + cache[i-2]\n",
    "        return cache[n]"
   ]
  },
  {
   "cell_type": "code",
   "execution_count": 1,
   "metadata": {},
   "outputs": [
    {
     "data": {
      "text/plain": [
       "[]"
      ]
     },
     "execution_count": 1,
     "metadata": {},
     "output_type": "execute_result"
    }
   ],
   "source": [
    "[0] * -1"
   ]
  },
  {
   "cell_type": "code",
   "execution_count": null,
   "metadata": {},
   "outputs": [],
   "source": [
    "# Top down. 时间复杂度: O(N)- 空间复杂度: O(N)\n",
    "class Solution:            \n",
    "    def climbStairs(self, n):\n",
    "        \"\"\"\n",
    "        :type n: int\n",
    "        :rtype: int\n",
    "        \"\"\"\n",
    "        dic = {1: 1, \n",
    "               2: 2}\n",
    "        \n",
    "        def dp(n):\n",
    "            if n in dic:\n",
    "                return dic[n]\n",
    "\n",
    "            dic[n] = dp(n-1) + dp(n-2)\n",
    "            return dic[n]\n",
    "        \n",
    "        return dp(n)"
   ]
  },
  {
   "cell_type": "code",
   "execution_count": null,
   "metadata": {},
   "outputs": [],
   "source": [
    "class Solution:\n",
    "    def climbStairs(self, n):\n",
    "        if n == 1: \n",
    "            return 1\n",
    "        res = [-1 for i in range(n)]\n",
    "        res[0], res[1] = 1, 2\n",
    "        \n",
    "        def dp(n, res):\n",
    "            if res[n] == -1:\n",
    "                res[n] = dp(n - 1, res) + dp(n - 2, res)\n",
    "            return res[n]\n",
    "        \n",
    "        return dp(n-1, res)\n",
    "        \n",
    "#     def dp(self, n, res):\n",
    "#         if res[n] == -1:\n",
    "#             res[n] = self.dp(n - 1, res) + self.dp(n - 2, res)\n",
    "#         return res[n]"
   ]
  },
  {
   "cell_type": "markdown",
   "metadata": {},
   "source": [
    "## Knapsack"
   ]
  },
  {
   "cell_type": "code",
   "execution_count": 3,
   "metadata": {},
   "outputs": [
    {
     "name": "stdout",
     "output_type": "stream",
     "text": [
      "16\n",
      "17\n",
      "22\n"
     ]
    }
   ],
   "source": [
    "def solve_knapsack(profits, weights, capacity):\n",
    "\n",
    "    n = len(profits)\n",
    "    if capacity <= 0 or n == 0 or len(weights) != n:\n",
    "        return 0\n",
    "\n",
    "    dp = [[0 for i in range(capacity+1)] for j in range(n)]\n",
    "\n",
    "  # populate the capacity = 0 columns, with '0' capacity we have '0' profit\n",
    "    for i in range(0, n):\n",
    "        dp[i][0] = 0\n",
    "\n",
    "  # if we have only one weight, we will take it if it is not more than the capacity\n",
    "    for c in range(0, capacity+1):\n",
    "        if weights[0] <= c:\n",
    "            dp[0][c] = profits[0]\n",
    "\n",
    "  # process all sub-arrays for all the capacities\n",
    "    for i in range(1, n):\n",
    "        for c in range(1, capacity+1):\n",
    "            # include the item, if it is not more than the capacity\n",
    "            if weights[i] <= c:\n",
    "                dp[i][c] = max(dp[i - 1][c], profits[i] + dp[i - 1][c - weights[i]])\n",
    "\n",
    "            else:\n",
    "                dp[i][c] = dp[i - 1][c]\n",
    "    return dp[n - 1][capacity]\n",
    "\n",
    "print(solve_knapsack([1, 6, 10, 16], [1, 2, 3, 5], 5))\n",
    "print(solve_knapsack([1, 6, 10, 16], [1, 2, 3, 5], 6))\n",
    "print(solve_knapsack([1, 6, 10, 16], [1, 2, 3, 5], 7))"
   ]
  },
  {
   "cell_type": "code",
   "execution_count": 6,
   "metadata": {},
   "outputs": [
    {
     "name": "stdout",
     "output_type": "stream",
     "text": [
      "16\n",
      "17\n",
      "22\n"
     ]
    }
   ],
   "source": [
    "def knapSack(val, wt, W): \n",
    "    n = len(val)\n",
    "    K = [[0 for x in range(W+1)] for x in range(n+1)] \n",
    "  \n",
    "    # Build table K[][] in bottom up manner \n",
    "    for i in range(n+1): \n",
    "        for w in range(W+1): \n",
    "            if i==0 or w==0: \n",
    "                K[i][w] = 0\n",
    "            elif wt[i-1] <= w: \n",
    "                K[i][w] = max(val[i-1] + K[i-1][w-wt[i-1]],  K[i-1][w]) \n",
    "            else: \n",
    "                K[i][w] = K[i-1][w] \n",
    "  \n",
    "    return K[n][W]\n",
    "\n",
    "print(knapSack([1, 6, 10, 16], [1, 2, 3, 5], 5))\n",
    "print(knapSack([1, 6, 10, 16], [1, 2, 3, 5], 6))\n",
    "print(knapSack([1, 6, 10, 16], [1, 2, 3, 5], 7))"
   ]
  },
  {
   "cell_type": "markdown",
   "metadata": {},
   "source": [
    "## 118. Pascal's Triangle"
   ]
  },
  {
   "cell_type": "code",
   "execution_count": null,
   "metadata": {},
   "outputs": [],
   "source": [
    "class Solution:\n",
    "    def generate(self, num_rows):\n",
    "        triangle = []\n",
    "\n",
    "        for row_num in range(num_rows):\n",
    "            # The first and last row elements are always 1.\n",
    "            row = [0] * (row_num+1)\n",
    "\n",
    "            row[0], row[-1] = 1, 1\n",
    "\n",
    "            # Each triangle element is equal to the sum of the elements\n",
    "            # above-and-to-the-left and above-and-to-the-right.\n",
    "            for i in range(1, len(row)-1):\n",
    "                row[i] = triangle[row_num-1][i-1] + triangle[row_num-1][i]\n",
    "\n",
    "            triangle.append(row)\n",
    "\n",
    "        return triangle"
   ]
  },
  {
   "cell_type": "code",
   "execution_count": 25,
   "metadata": {},
   "outputs": [
    {
     "data": {
      "text/plain": [
       "[None, None, None, None, None]"
      ]
     },
     "execution_count": 25,
     "metadata": {},
     "output_type": "execute_result"
    }
   ],
   "source": [
    "x = [None] * 5\n",
    "x"
   ]
  },
  {
   "cell_type": "markdown",
   "metadata": {},
   "source": [
    "## 119. Pascal's Triangle II"
   ]
  },
  {
   "cell_type": "code",
   "execution_count": null,
   "metadata": {},
   "outputs": [],
   "source": [
    "class Solution:\n",
    "    def getRow(self, rowIndex):\n",
    "    # j行的数据, 应该由j - 1行的数据计算出来.\n",
    "    # 假设j - 1行为[1,3,3,1], 那么我们前面插入一个0(j行的数据会比j-1行多一个),\n",
    "    # 然后执行相加[0+1,1+3,3+3,3+1,1] = [1,4,6,4,1], 最后一个1保留即可.\n",
    "        r = [1]\n",
    "        for i in range(rowIndex):\n",
    "            r.insert(0, 0)\n",
    "            # 因为i行的数据长度为i+1, 所以j+1不会越界, 并且最后一个1不会被修改.\n",
    "            for j in range(i+1):\n",
    "                r[j] += r[j + 1]\n",
    "        return r\n"
   ]
  },
  {
   "cell_type": "markdown",
   "metadata": {},
   "source": [
    "## 62. Unique Paths (Int, Matrix-DP) (Amazon 10)\n",
    "时间复杂度: O(m * n)- 空间复杂度: O(m * n)"
   ]
  },
  {
   "cell_type": "code",
   "execution_count": null,
   "metadata": {},
   "outputs": [],
   "source": [
    "class Solution:\n",
    "    def uniquePaths(self, m, n):\n",
    "        \"\"\"\n",
    "        :type m: int\n",
    "        :type n: int\n",
    "        :rtype: int\n",
    "        \"\"\"\n",
    "        if not m or not n:\n",
    "            return 0\n",
    "        \n",
    "        dp = [[1] * n for i in range(m)]\n",
    "        for i in range(1, m):\n",
    "            for j in range(1, n):\n",
    "                dp[i][j] = dp[i-1][j] + dp[i][j-1]\n",
    "        return dp[-1][-1]"
   ]
  },
  {
   "cell_type": "markdown",
   "metadata": {},
   "source": [
    "时间复杂度: O(m * n)- 空间复杂度: O(n)"
   ]
  },
  {
   "cell_type": "code",
   "execution_count": 36,
   "metadata": {},
   "outputs": [],
   "source": [
    "class Solution:\n",
    "    def uniquePaths(self, m, n):\n",
    "        \"\"\"\n",
    "        :type m: int\n",
    "        :type n: int\n",
    "        :rtype: int\n",
    "        \"\"\"\n",
    "        if m < 1 or n < 1:\n",
    "            return 0\n",
    "        dp = [1] * n\n",
    "        for i in range(1, m):\n",
    "            for j in range(1, n):\n",
    "                dp[j] += dp[j-1]\n",
    "        return dp[n-1]"
   ]
  },
  {
   "cell_type": "markdown",
   "metadata": {},
   "source": [
    "## 63. Unique Paths II (Matrix-DP) (Amazon 4)"
   ]
  },
  {
   "cell_type": "code",
   "execution_count": null,
   "metadata": {},
   "outputs": [],
   "source": [
    "class Solution:\n",
    "    def uniquePathsWithObstacles(self, obstacleGrid):\n",
    "        \"\"\"\n",
    "        :type obstacleGrid: List[List[int]]\n",
    "        :rtype: int\n",
    "        \"\"\"\n",
    "\n",
    "        if obstacleGrid[0][0] == 1 or obstacleGrid[-1][-1] == 1:\n",
    "            return 0\n",
    "        n, m = len(obstacleGrid[0]), len(obstacleGrid)\n",
    "        arr = [0] * n\n",
    "        arr[0] = 1\n",
    "        for i in range(m):\n",
    "            if obstacleGrid[i][0] == 1:\n",
    "                arr[0] = 0\n",
    "            for j in range(1, n):\n",
    "                if obstacleGrid[i][j] == 0:\n",
    "                    arr[j] = arr[j] + arr[j - 1]\n",
    "                    print(arr, 0)\n",
    "                else:\n",
    "                    arr[j] = 0\n",
    "                    print(arr, 1)\n",
    "                 \n",
    "        return arr[-1]"
   ]
  },
  {
   "cell_type": "code",
   "execution_count": null,
   "metadata": {},
   "outputs": [],
   "source": [
    "class Solution:\n",
    "    def uniquePathsWithObstacles(self, obstacleGrid: List[List[int]]) -> int:\n",
    "        dp = []\n",
    "        for i in range(len(obstacleGrid)):\n",
    "            dp.append([0]*len(obstacleGrid[0]))\n",
    "        dp[0][0] = 1 if obstacleGrid[0][0] == 0 else 0 \n",
    "        for i in range(1,len(obstacleGrid)):\n",
    "            dp[i][0] = 1 if obstacleGrid[i][0] == 0 and dp[i-1][0] != 0 else 0\n",
    "        \n",
    "        for j in range(1,len(obstacleGrid[0])):\n",
    "            dp[0][j] = 1 if obstacleGrid[0][j] == 0 and dp[0][j-1] != 0 else 0\n",
    "            \n",
    "        for i in range(1,len(dp)):\n",
    "            for j in range(1,len(dp[0])):\n",
    "                if obstacleGrid[i][j] == 1:\n",
    "                    dp[i][j] = 0\n",
    "                else:\n",
    "                    dp[i][j] = dp[i-1][j] + dp[i][j-1]\n",
    "        return dp[-1][-1]"
   ]
  },
  {
   "cell_type": "code",
   "execution_count": null,
   "metadata": {},
   "outputs": [],
   "source": [
    "class Solution:\n",
    "    def uniquePathsWithObstacles(self, obstacleGrid):\n",
    "        \"\"\"\n",
    "        :type obstacleGrid: List[List[int]]\n",
    "        :rtype: int\n",
    "        \"\"\"\n",
    "        m = len(obstacleGrid)\n",
    "        n = len(obstacleGrid[0])\n",
    "\n",
    "        # If the starting cell has an obstacle, then simply return as there would be\n",
    "        # no paths to the destination.\n",
    "        if obstacleGrid[0][0] == 1:\n",
    "            return 0\n",
    "\n",
    "        # Number of ways of reaching the starting cell = 1.\n",
    "        obstacleGrid[0][0] = 1\n",
    "\n",
    "        # Filling the values for the first column\n",
    "        for i in range(1, m):\n",
    "            obstacleGrid[i][0] = int(obstacleGrid[i][0] == 0 and obstacleGrid[i-1][0] == 1)\n",
    "\n",
    "        # Filling the values for the first row        \n",
    "        for j in range(1, n):\n",
    "            obstacleGrid[0][j] = int(obstacleGrid[0][j] == 0 and obstacleGrid[0][j-1] == 1)\n",
    "\n",
    "        # Starting from cell(1,1) fill up the values\n",
    "        # No. of ways of reaching cell[i][j] = cell[i - 1][j] + cell[i][j - 1]\n",
    "        # i.e. From above and left.\n",
    "        for i in range(1, m):\n",
    "            for j in range(1, n):\n",
    "                if obstacleGrid[i][j] == 0:\n",
    "                    obstacleGrid[i][j] = obstacleGrid[i-1][j] + obstacleGrid[i][j-1]\n",
    "                else:\n",
    "                    obstacleGrid[i][j] = 0\n",
    "\n",
    "        # Return value stored in rightmost bottommost cell. That is the destination.            \n",
    "        return obstacleGrid[m-1][n-1]"
   ]
  },
  {
   "cell_type": "markdown",
   "metadata": {},
   "source": [
    "## 53. Maximum Subarray (List, List-DP) (Amazon 29, Linkein 16, Microsoft 13, Apple 8, Google 7, Facebook 7)"
   ]
  },
  {
   "cell_type": "markdown",
   "metadata": {},
   "source": [
    "O(N)  \n",
    "O(N)\n",
    "\n",
    "dp[i]表示i之前的最大sum"
   ]
  },
  {
   "cell_type": "code",
   "execution_count": 76,
   "metadata": {},
   "outputs": [],
   "source": [
    "class Solution:\n",
    "    def maxSubArray(self, nums):\n",
    "        \"\"\"\n",
    "        :type nums: List[int]\n",
    "        :rtype: int\n",
    "        \"\"\"\n",
    "        dp = [nums[0]] * len(nums)\n",
    "#         print('maxSum =', maxSum)\n",
    "        \n",
    "        for i in range(1, len(nums)):\n",
    "#             print('i=', i)\n",
    "            dp[i] = max(dp[i - 1] + nums[i], nums[i])\n",
    "#             print(f'maxSum [{i}] =', maxSum[i])\n",
    "        return max(dp)"
   ]
  },
  {
   "cell_type": "code",
   "execution_count": 77,
   "metadata": {},
   "outputs": [
    {
     "name": "stdout",
     "output_type": "stream",
     "text": [
      "maxSum = [-2, -2, -2, -2, -2, -2, -2, -2, -2]\n",
      "i= 1\n",
      "maxSum [1] = 1\n",
      "i= 2\n",
      "maxSum [2] = -2\n",
      "i= 3\n",
      "maxSum [3] = 4\n",
      "i= 4\n",
      "maxSum [4] = 3\n",
      "i= 5\n",
      "maxSum [5] = 5\n",
      "i= 6\n",
      "maxSum [6] = 6\n",
      "i= 7\n",
      "maxSum [7] = 1\n",
      "i= 8\n",
      "maxSum [8] = 5\n"
     ]
    },
    {
     "data": {
      "text/plain": [
       "6"
      ]
     },
     "execution_count": 77,
     "metadata": {},
     "output_type": "execute_result"
    }
   ],
   "source": [
    "s = Solution()\n",
    "nums = [-2,1,-3,4,-1,2,1,-5,4]\n",
    "s.maxSubArray(nums)"
   ]
  },
  {
   "cell_type": "code",
   "execution_count": 8,
   "metadata": {},
   "outputs": [
    {
     "data": {
      "text/plain": [
       "[2, 2, 2, 2]"
      ]
     },
     "execution_count": 8,
     "metadata": {},
     "output_type": "execute_result"
    }
   ],
   "source": [
    "nums = [2,3,4,5]\n",
    "maxSum = [nums[0] for i in nums]\n",
    "maxSum"
   ]
  },
  {
   "cell_type": "code",
   "execution_count": 16,
   "metadata": {},
   "outputs": [],
   "source": [
    "maxsum = [2] * 4"
   ]
  },
  {
   "cell_type": "markdown",
   "metadata": {},
   "source": [
    "## 152. Maximum Product Subarray (List, List-DP) (Linkedin 10, Amazon3)"
   ]
  },
  {
   "cell_type": "code",
   "execution_count": null,
   "metadata": {},
   "outputs": [],
   "source": [
    "class Solution:\n",
    "    def maxProduct(self, nums):\n",
    "        \"\"\"\n",
    "        :type nums: List[int]\n",
    "        :rtype: int\n",
    "        \"\"\"\n",
    "        maxdp = [nums[0]] * len(nums)\n",
    "        mindp = [nums[0]] * len(nums)\n",
    "\n",
    "        for i in range(1, len(nums)):\n",
    "            maxdp[i] = max(mindp[i-1]*nums[i], maxdp[i-1]*nums[i], nums[i])\n",
    "            mindp[i] = min(maxdp[i-1]*nums[i], mindp[i-1]*nums[i], nums[i])\n",
    "\n",
    "        return max(maxdp)"
   ]
  },
  {
   "cell_type": "markdown",
   "metadata": {},
   "source": [
    "## Product of K Consecutive Numbers (List, List-DP) (Google Phone)"
   ]
  },
  {
   "cell_type": "code",
   "execution_count": 16,
   "metadata": {},
   "outputs": [
    {
     "data": {
      "text/plain": [
       "[1, 3, 9, 54, 90, 210, 0, 0]"
      ]
     },
     "execution_count": 16,
     "metadata": {},
     "output_type": "execute_result"
    }
   ],
   "source": [
    "class Solution:\n",
    "    def product(self, nums, k):\n",
    "        dp = [nums[0]] * len(nums)\n",
    "        k = len(nums) if k > len(nums) else k\n",
    "        \n",
    "        for i in range(1, k):\n",
    "            dp[i] = dp[i-1] * nums[i]\n",
    "            \n",
    "        for i in range(k, len(nums)):\n",
    "            dp[i] = dp[i-1] // nums[i-k] * nums[i]\n",
    "            \n",
    "            \n",
    "        return dp\n",
    "            \n",
    "nums = [1, 3, 3, 6, 5, 7, 0, -3]\n",
    "k = 3\n",
    "s = Solution()\n",
    "s.product(nums, k)"
   ]
  },
  {
   "cell_type": "code",
   "execution_count": 13,
   "metadata": {},
   "outputs": [
    {
     "data": {
      "text/plain": [
       "[1, 3, 9, 54, 90, 210, 0, 0]"
      ]
     },
     "execution_count": 13,
     "metadata": {},
     "output_type": "execute_result"
    }
   ],
   "source": [
    "def x(nums, k):\n",
    "\n",
    "    dp = [num for num in nums]\n",
    "    k = len(nums) if k > len(nums) else k\n",
    "    for i in range(1,k):\n",
    "        for j in range(i+1,len(nums)):\n",
    "            dp[j] *= nums[j-i]\n",
    "    return dp\n",
    "\n",
    "nums = [1, 3, 3, 6, 5, 7, 0, -3]\n",
    "k = 3\n",
    "# Output: [1, 3, 9, 54, 90, 210, 0, 0]\n",
    "x(nums, k)"
   ]
  },
  {
   "cell_type": "markdown",
   "metadata": {},
   "source": [
    "## 279. Perfect Squares (Int, List-DP) (Google 4)"
   ]
  },
  {
   "cell_type": "code",
   "execution_count": null,
   "metadata": {},
   "outputs": [],
   "source": [
    "# dp[i]表示加到数字i需要的最小square个数\n",
    "class Solution:\n",
    "    def numSquares(self, n):\n",
    "        \"\"\"\n",
    "        :type n: int\n",
    "        :rtype: int\n",
    "        \"\"\"\n",
    "        square = [i**2 for i in range(1, int(math.sqrt(n))+1)]\n",
    "        \n",
    "        dp = [float('inf')] * (n+1)\n",
    "        # bottom case\n",
    "        dp[0] = 0\n",
    "        \n",
    "        for num in square:\n",
    "            for i in range(num, n+1):\n",
    "                dp[i] = min(dp[i], dp[i-num] + 1)\n",
    "        \n",
    "        return dp[-1]"
   ]
  },
  {
   "cell_type": "code",
   "execution_count": null,
   "metadata": {},
   "outputs": [],
   "source": [
    "# dp[i]表示加到数字i需要的最小square个数\n",
    "class Solution:\n",
    "    def numSquares(self, n):\n",
    "        \"\"\"\n",
    "        :type n: int\n",
    "        :rtype: int\n",
    "        \"\"\"\n",
    "        square_nums = [i**2 for i in range(1, int(math.sqrt(n))+1)]\n",
    "        \n",
    "        dp = [float('inf')] * (n+1)\n",
    "        # bottom case\n",
    "        dp[0] = 0\n",
    "        \n",
    "        for i in range(1, n+1):\n",
    "            for square in square_nums:\n",
    "                if i >= square:\n",
    "                    dp[i] = min(dp[i], dp[i-square] + 1)\n",
    "        \n",
    "        return dp[-1]"
   ]
  },
  {
   "cell_type": "markdown",
   "metadata": {},
   "source": [
    "## 322. Coin Change (List, List-DP) (Amazon 14, Microsoft 5, Google)  "
   ]
  },
  {
   "cell_type": "markdown",
   "metadata": {},
   "source": [
    "O(N^2)  \n",
    "O(N)  \n",
    "\n",
    "输入: coins = [1, 2, 5], amount = 11\n",
    "输出: 3 \n",
    "解释: 11 = 5 + 5 + 1\n",
    "\n",
    "题目求的值为 f(11)，第一次选择硬币时我们有三种选择。\n",
    "假设我们取面额为 1 的硬币，那么接下来需要凑齐的总金额变为 11 - 1 = 10，即 f(11) = f(10) + 1，这里的 +1 就是我们取出的面额为 1 的硬币。\n",
    "\n",
    "同理，如果取面额为 2 或面额为 5 的硬币可以得到：  \n",
    "f(11) = f(9) + 1\n",
    "f(11) = f(6) + 1\n",
    "\n",
    "f(11) = min(f(10), f(9), f(6)) + 1  \n",
    "\n",
    "dp[i]是得到i数值的硬币数量"
   ]
  },
  {
   "cell_type": "code",
   "execution_count": null,
   "metadata": {},
   "outputs": [],
   "source": [
    "class Solution:\n",
    "    def coinChange(self, coins, amount):\n",
    "        \"\"\"\n",
    "        :type coins: List[int]\n",
    "        :type amount: int\n",
    "        :rtype: int\n",
    "        \"\"\"\n",
    "        \n",
    "        dp = [0] + [float('inf')] * amount\n",
    "        \n",
    "        for c in coins:  # 枚举硬币种数\n",
    "            for i in range(c, amount + 1):  # 从小到大枚举金额，确保j-c >= 0.\n",
    "                dp[i] = min(dp[i], dp[i - c] + 1)\n",
    "           \n",
    "        if dp[-1] != float('inf'):\n",
    "            return dp[-1]  \n",
    "        else: \n",
    "            return -1  # 如果为inf说明状态不可达，返回-1即可。\n"
   ]
  },
  {
   "cell_type": "markdown",
   "metadata": {},
   "source": [
    "## 518. Coin Change II (List. List-DP) (Amazon 5)"
   ]
  },
  {
   "cell_type": "code",
   "execution_count": null,
   "metadata": {},
   "outputs": [],
   "source": [
    "class Solution:\n",
    "    def change(self, amount, coins):\n",
    "        \"\"\"\n",
    "        :type coins: List[int]\n",
    "        :type amount: int\n",
    "        :rtype: int\n",
    "        \"\"\"\n",
    "        dp = [0] * (amount + 1)\n",
    "        dp[0] = 1\n",
    "        \n",
    "        for c in coins:\n",
    "            for i in range(c, amount + 1):\n",
    "                # if i >= c:\n",
    "                dp[i] = dp[i] + dp[i - c]\n",
    "\n",
    "        return dp[amount]"
   ]
  },
  {
   "cell_type": "code",
   "execution_count": null,
   "metadata": {},
   "outputs": [],
   "source": [
    "class Solution:\n",
    "    def change(self, amount: int, coins: List[int]) -> int:\n",
    "        if amount == 0:\n",
    "            return 1\n",
    "        \n",
    "        # dp[i] means the #ways to compose {i} amount\n",
    "        dp = [0] * (amount + 1)\n",
    "        dp[0] = 1\n",
    "        \n",
    "        for j in coins:\n",
    "            for i in range(amount + 1):\n",
    "                if i >= j:\n",
    "                    dp[i] += dp[i - j]\n",
    "\n",
    "        return dp[amount]"
   ]
  },
  {
   "cell_type": "markdown",
   "metadata": {},
   "source": [
    "## 198. House Robber (Lists-DP) (Google 5)  \n",
    "https://github.com/azl397985856/leetcode/blob/master/problems/198.house-robber.md  \n",
    "dp[i]表示能抢最大的财产"
   ]
  },
  {
   "cell_type": "code",
   "execution_count": null,
   "metadata": {},
   "outputs": [],
   "source": [
    "class Solution:\n",
    "    def rob(self, nums):\n",
    "        \"\"\"\n",
    "        :type nums: List[int]\n",
    "        :rtype: int\n",
    "        \"\"\"\n",
    "        \n",
    "        if not nums: \n",
    "            return 0\n",
    "        if len(nums) == 1: \n",
    "            return nums[0]\n",
    "        if len(nums) == 2: \n",
    "            return max(nums)\n",
    "\n",
    "        dp = [0]*len(nums)\n",
    "        dp[0], dp[1] = nums[0], max(nums[0], nums[1])\n",
    "        \n",
    "        for i in range(2, len(nums)):\n",
    "            dp[i] = max(dp[i-2]+nums[i], dp[i-1])\n",
    "        \n",
    "        return dp[-1]"
   ]
  },
  {
   "cell_type": "markdown",
   "metadata": {},
   "source": [
    "## 91. Decode Ways (List-DP) (Amazon 9, Facebook 8, Google 3)\n",
    "O(N)  \n",
    "O(N)\n",
    "\n",
    "dp[i]表示s[i]之前(不包括i)的最大decode数量\n",
    "\n",
    "w tells the number of ways  \n",
    "v tells the previous number of ways  \n",
    "d is the current digit  \n",
    "p is the previous digit  "
   ]
  },
  {
   "cell_type": "code",
   "execution_count": null,
   "metadata": {},
   "outputs": [],
   "source": [
    "class Solution:\n",
    "    def numDecodings(self, s: str) -> int:\n",
    "        if not s or s[0] == \"0\":\n",
    "            return 0\n",
    "\n",
    "        dp = [0] * (len(s) + 1)\n",
    "\n",
    "        dp[0] = 1\n",
    "        if s[0] != \"0\":\n",
    "            dp[1] = 1\n",
    "\n",
    "        for i in range(2, len(s) + 1):\n",
    "            one = int(s[i - 1])\n",
    "            two = int(s[i - 2] + s[i - 1])\n",
    "            if 0 < one < 10:\n",
    "                dp[i] += dp[i - 1]\n",
    "            if 9 < two < 27:\n",
    "                dp[i] += dp[i - 2]\n",
    "        return dp[-1]"
   ]
  },
  {
   "cell_type": "code",
   "execution_count": 32,
   "metadata": {},
   "outputs": [
    {
     "data": {
      "text/plain": [
       "2"
      ]
     },
     "execution_count": 32,
     "metadata": {},
     "output_type": "execute_result"
    }
   ],
   "source": [
    "int(5/2)"
   ]
  },
  {
   "cell_type": "markdown",
   "metadata": {},
   "source": [
    "## 300. Longest Increasing Subsequence (List, List-DP) (Amazon 6, Google 5, Microsoft 2)\n",
    "\n",
    "O(N^2)  \n",
    "O(N)  \n",
    "dp[i]表示列表i之前的最大长度"
   ]
  },
  {
   "cell_type": "code",
   "execution_count": 9,
   "metadata": {},
   "outputs": [],
   "source": [
    "class Solution:\n",
    "    def lengthOfLIS(self, nums):\n",
    "        \"\"\"\n",
    "        :type nums: List[int]\n",
    "        :rtype: int\n",
    "        \"\"\"\n",
    "        if not nums:\n",
    "            return 0\n",
    "        \n",
    "        dp = [1] * len(nums)\n",
    "        for r in range(1, len(nums)):\n",
    "            for l in range(r):\n",
    "                if nums[r] > nums[l]:\n",
    "                    dp[r] = max(dp[r], dp[l]+1)\n",
    "#                     print(f'dp[{i}]=', dp[i])\n",
    "#                     print(dp)\n",
    "                    \n",
    "        return max(dp)"
   ]
  },
  {
   "cell_type": "code",
   "execution_count": 10,
   "metadata": {},
   "outputs": [
    {
     "name": "stdout",
     "output_type": "stream",
     "text": [
      "dp[3]= 2\n",
      "[1, 1, 1, 2, 1, 1, 1, 1]\n",
      "dp[4]= 2\n",
      "[1, 1, 1, 2, 2, 1, 1, 1]\n",
      "dp[5]= 2\n",
      "[1, 1, 1, 2, 2, 2, 1, 1]\n",
      "dp[5]= 3\n",
      "[1, 1, 1, 2, 2, 3, 1, 1]\n",
      "dp[5]= 3\n",
      "[1, 1, 1, 2, 2, 3, 1, 1]\n",
      "dp[6]= 2\n",
      "[1, 1, 1, 2, 2, 3, 2, 1]\n",
      "dp[6]= 2\n",
      "[1, 1, 1, 2, 2, 3, 2, 1]\n",
      "dp[6]= 2\n",
      "[1, 1, 1, 2, 2, 3, 2, 1]\n",
      "dp[6]= 3\n",
      "[1, 1, 1, 2, 2, 3, 3, 1]\n",
      "dp[6]= 3\n",
      "[1, 1, 1, 2, 2, 3, 3, 1]\n",
      "dp[6]= 4\n",
      "[1, 1, 1, 2, 2, 3, 4, 1]\n",
      "dp[7]= 2\n",
      "[1, 1, 1, 2, 2, 3, 4, 2]\n",
      "dp[7]= 2\n",
      "[1, 1, 1, 2, 2, 3, 4, 2]\n",
      "dp[7]= 2\n",
      "[1, 1, 1, 2, 2, 3, 4, 2]\n",
      "dp[7]= 3\n",
      "[1, 1, 1, 2, 2, 3, 4, 3]\n",
      "dp[7]= 3\n",
      "[1, 1, 1, 2, 2, 3, 4, 3]\n",
      "dp[7]= 4\n",
      "[1, 1, 1, 2, 2, 3, 4, 4]\n"
     ]
    },
    {
     "data": {
      "text/plain": [
       "4"
      ]
     },
     "execution_count": 10,
     "metadata": {},
     "output_type": "execute_result"
    }
   ],
   "source": [
    "nums = [10,9,2,5,3,7,101,18]\n",
    "s = Solution()\n",
    "s.lengthOfLIS(nums)"
   ]
  },
  {
   "cell_type": "code",
   "execution_count": null,
   "metadata": {},
   "outputs": [],
   "source": [
    "# Dynamic programming + Dichotomy.\n",
    "class Solution:\n",
    "    def lengthOfLIS(self, nums):\n",
    "        tails = [0] * len(nums)\n",
    "        res = 0\n",
    "        \n",
    "        for num in nums:\n",
    "            i = 0\n",
    "            j = res\n",
    "            \n",
    "            while i < j:\n",
    "                m = (i + j) // 2\n",
    "                if tails[m] < num: \n",
    "                    i = m + 1 # 如果要求非严格递增，将此行 '<' 改为 '<=' 即可。\n",
    "                else: \n",
    "                    j = m\n",
    "            \n",
    "            tails[i] = num\n",
    "            \n",
    "            if j == res: \n",
    "                res += 1\n",
    "        return res\n"
   ]
  },
  {
   "cell_type": "markdown",
   "metadata": {},
   "source": [
    "## 139. Word Break (String, List. List-DP) (Amazon 27, Facebook 8, Microsoft 7)\n",
    "\n",
    "O(N^2)  \n",
    "O(N)  \n",
    "\n",
    "dp[i]表示最新word的起点"
   ]
  },
  {
   "cell_type": "code",
   "execution_count": null,
   "metadata": {},
   "outputs": [],
   "source": [
    "class Solution:\n",
    "    def wordBreak(self, s, strs):\n",
    "        \"\"\"\n",
    "        :type s: str\n",
    "        :type wordDict: List[str]\n",
    "        :rtype: bool\n",
    "        \"\"\"\n",
    "        # 初始化标记列表\n",
    "        dp = [False]*(len(s) + 1)\n",
    "        dp[0] = True\n",
    "\n",
    "        for l in range(len(s)):\n",
    "            if dp[l]:\n",
    "                for r in range(l+1, len(s)+1):\n",
    "                    if s[l:r] in strs:\n",
    "                        dp[r] = True\n",
    "        return dp[-1]"
   ]
  },
  {
   "cell_type": "code",
   "execution_count": 7,
   "metadata": {},
   "outputs": [
    {
     "data": {
      "text/plain": [
       "'abc'"
      ]
     },
     "execution_count": 7,
     "metadata": {},
     "output_type": "execute_result"
    }
   ],
   "source": [
    "s = 'abc '\n",
    "s[:-1]"
   ]
  },
  {
   "cell_type": "markdown",
   "metadata": {},
   "source": [
    "## 140. Word Break II (Stirng. Recursion-DP) (Amazon 13, Facebook 6, Google 4)"
   ]
  },
  {
   "cell_type": "code",
   "execution_count": null,
   "metadata": {},
   "outputs": [],
   "source": [
    "class Solution:\n",
    "    def wordBreak(self, s, wordDict):\n",
    "        \"\"\"\n",
    "        :type s: str\n",
    "        :type wordDict: List[str]\n",
    "        :rtype: List[str]\n",
    "        \"\"\"\n",
    "        res = []\n",
    "\n",
    "        def dfs(idx, tmp_res):\n",
    "            if idx == len(s):\n",
    "                res.append(tmp_res[:-1])\n",
    "            if not self.check(s[idx:], wordDict):\n",
    "                return\n",
    "            for i in range(idx+1, len(s)+1):\n",
    "                if s[idx:i] in wordDict:\n",
    "                    dfs(i, tmp_res+s[idx:i]+' ')\n",
    "\n",
    "        dfs(0, '')\n",
    "        return res\n",
    "\n",
    "    def check(self, s, wordDict):\n",
    "        ok = [True]\n",
    "        for i in range(1, len(s) + 1):\n",
    "            ok += any(ok[j] and s[j:i] in wordDict for j in range(i)),\n",
    "        return ok[-1]"
   ]
  },
  {
   "cell_type": "code",
   "execution_count": null,
   "metadata": {},
   "outputs": [],
   "source": [
    "class Solution:\n",
    "    def wordBreak(self, s, wordDict):\n",
    "        \"\"\"\n",
    "        :type s: str\n",
    "        :type wordDict: List[str]\n",
    "        :rtype: List[str]\n",
    "        \"\"\"\n",
    "        memo = {}\n",
    "        \n",
    "        def dp(s, wordDict):\n",
    "            if s in memo: \n",
    "                return memo[s]\n",
    "            if not s: \n",
    "                return []\n",
    "\n",
    "            res = []\n",
    "            for word in wordDict:\n",
    "                if s.startswith(word):          \n",
    "                    if len(word) == len(s):\n",
    "                        res.append(word)\n",
    "                    else:\n",
    "                        resultOfTheRest = dp(s[len(word):], wordDict)\n",
    "                        for item in resultOfTheRest:\n",
    "                            new = word + ' ' + item\n",
    "                            res.append(new)\n",
    "                        \n",
    "            memo[s] = res\n",
    "            return res\n",
    "        \n",
    "        return dp(s, wordDict)"
   ]
  },
  {
   "cell_type": "markdown",
   "metadata": {},
   "source": [
    "## 5. Longest Palindromic Substring (String, Matrix-DP) (Amazon 93, Microsoft 15, Google 8)\n",
    "O(N^2)  \n",
    "O(N^2)  \n",
    "dp[i][j]表示i, j之间string是不是palindrome"
   ]
  },
  {
   "cell_type": "code",
   "execution_count": 27,
   "metadata": {},
   "outputs": [],
   "source": [
    "# DP\n",
    "class Solution:\n",
    "    def longestPalindrome(self, s):\n",
    "        \"\"\"\n",
    "        :type s: str\n",
    "        :rtype: str\n",
    "        \"\"\"\n",
    "        if len(s) <= 1:\n",
    "            return s\n",
    "\n",
    "        dp = [[False]*len(s) for i in range(len(s))]\n",
    "\n",
    "        res = s[0]\n",
    "\n",
    "        for r in range(1, len(s)):\n",
    "            for l in range(r):\n",
    "                if s[l] == s[r] and (r - l <= 2 or dp[l + 1][r - 1]):\n",
    "                    dp[l][r] = True\n",
    "\n",
    "                if dp[l][r] and r - l + 1 > len(res):\n",
    "                    res = s[l:r + 1]\n",
    "\n",
    "        return res"
   ]
  },
  {
   "cell_type": "code",
   "execution_count": 29,
   "metadata": {},
   "outputs": [
    {
     "name": "stdout",
     "output_type": "stream",
     "text": [
      "[False, False, True, False, True]\n",
      "[False, False, False, True, False]\n",
      "[False, False, False, False, True]\n",
      "[False, False, False, False, False]\n",
      "[False, False, False, False, False]\n"
     ]
    },
    {
     "data": {
      "text/plain": [
       "'ababa'"
      ]
     },
     "execution_count": 29,
     "metadata": {},
     "output_type": "execute_result"
    }
   ],
   "source": [
    "s = 'ababa'\n",
    "o = Solution()\n",
    "o.longestPalindrome(s)"
   ]
  },
  {
   "cell_type": "code",
   "execution_count": null,
   "metadata": {},
   "outputs": [],
   "source": [
    "# DP\n",
    "class Solution:\n",
    "    def longestPalindrome(self, s):\n",
    "        \"\"\"\n",
    "        :type s: str\n",
    "        :rtype: str\n",
    "        \"\"\"\n",
    "        \n",
    "        size = len(s)\n",
    "        if size <= 1:\n",
    "            return s\n",
    "        # 二维 dp 问题\n",
    "        # 状态：dp[l,r]: s[l:r] 包括 l，r ，表示的字符串是不是回文串\n",
    "        # 设置为 None 是为了方便调试，看清楚代码执行流程\n",
    "        dp = [[False for _ in range(size)] for _ in range(size)]\n",
    "\n",
    "        longest_l = 1\n",
    "        res = s[0]\n",
    "\n",
    "        # 因为只有 1 个字符的情况在最开始做了判断\n",
    "        # 左边界一定要比右边界小，因此右边界从 1 开始\n",
    "        for r in range(1, size):\n",
    "            for l in range(r):\n",
    "                # 状态转移方程：如果头尾字符相等并且中间也是回文\n",
    "                # 在头尾字符相等的前提下，如果收缩以后不构成区间（最多只有 1 个元素），直接返回 True 即可\n",
    "                # 否则要继续看收缩以后的区间的回文性\n",
    "                # 重点理解 or 的短路性质在这里的作用\n",
    "                if s[l] == s[r] and (r - l <= 2 or dp[l + 1][r - 1]):\n",
    "                    dp[l][r] = True\n",
    "                    cur_len = r - l + 1\n",
    "                    if cur_len > longest_l:\n",
    "                        longest_l = cur_len\n",
    "                        res = s[l:r + 1]\n",
    "            # 调试语句\n",
    "            # for item in dp:\n",
    "            #     print(item)\n",
    "            # prin\n",
    "        return res"
   ]
  },
  {
   "cell_type": "code",
   "execution_count": null,
   "metadata": {},
   "outputs": [],
   "source": [
    "class Solution:\n",
    "    def longestPalindrome(self, s):\n",
    "        \"\"\"\n",
    "        :type s: str\n",
    "        :rtype: str\n",
    "        \"\"\"\n",
    "        if not s:\n",
    "            return ''\n",
    "        \n",
    "        res = ''  # Memory to remember a palindrome\n",
    "        for i in range(len(s)):  # i = start, O = n\n",
    "            for j in range(len(s), i, -1):  # j = end, O = n^2\n",
    "                if len(res) >= j-i:  # To reduce time\n",
    "                    break\n",
    "                    \n",
    "                elif s[i:j] == s[i:j][::-1]:\n",
    "                    res = s[i:j]\n",
    "                    break\n",
    "        return res"
   ]
  },
  {
   "cell_type": "code",
   "execution_count": 180,
   "metadata": {},
   "outputs": [
    {
     "name": "stdout",
     "output_type": "stream",
     "text": [
      "babad\n",
      "baba\n",
      "bab\n",
      "ba\n",
      "b\n",
      "\n",
      "abad\n",
      "aba\n",
      "ab\n",
      "a\n",
      "\n",
      "bad\n",
      "ba\n",
      "b\n",
      "\n",
      "ad\n",
      "a\n",
      "\n",
      "d\n",
      "\n"
     ]
    }
   ],
   "source": [
    "s = 'babad'\n",
    "for i in range(len(s)):\n",
    "    for j in range(len(s),i,-1):\n",
    "#         print(i,j)\n",
    "        print(s[i:j])\n",
    "    print()"
   ]
  },
  {
   "cell_type": "markdown",
   "metadata": {},
   "source": [
    "## 516. Longest Palindromic Subsequence (String, List-DP) (Amazon 6, Linkedin 4, Microsoft 3)\n",
    "O(n^2)  \n",
    "O(n^2)  \n",
    "\n",
    "dp[i][j]表示i,j之间string的最长palindrome长度"
   ]
  },
  {
   "cell_type": "code",
   "execution_count": 19,
   "metadata": {},
   "outputs": [],
   "source": [
    "class Solution:\n",
    "    def longestPalindromeSubseq(self, s):\n",
    "        if not s:\n",
    "            return 0\n",
    "\n",
    "        if s == s[::-1]:\n",
    "            return len(s)\n",
    "\n",
    "        dp = [[0] * len(s) for i in range(len(s))]\n",
    "\n",
    "        for l in range(len(s)-1, -1, -1):   \n",
    "            dp[l][l] = 1\n",
    "            for r in range(l+1, len(s)):\n",
    "                if s[l] == s[r]:\n",
    "                    dp[l][r] = 2 + dp[l+1][r-1]            \n",
    "                else:\n",
    "                    dp[l][r] = max(dp[l+1][r], dp[l][r-1])\n",
    "                    \n",
    "        return dp[0][len(s)-1]"
   ]
  },
  {
   "cell_type": "code",
   "execution_count": 20,
   "metadata": {},
   "outputs": [
    {
     "name": "stdout",
     "output_type": "stream",
     "text": [
      "[1, 2, 3, 3, 4]\n",
      "[0, 1, 2, 2, 3]\n",
      "[0, 0, 1, 1, 3]\n",
      "[0, 0, 0, 1, 1]\n",
      "[0, 0, 0, 0, 1]\n"
     ]
    },
    {
     "data": {
      "text/plain": [
       "4"
      ]
     },
     "execution_count": 20,
     "metadata": {},
     "output_type": "execute_result"
    }
   ],
   "source": [
    "o = Solution()\n",
    "s= 'bbbab'\n",
    "o.longestPalindromeSubseq(s)\n"
   ]
  },
  {
   "cell_type": "markdown",
   "metadata": {},
   "source": [
    "## 97. Interleaving String (String, List-DP) (Apple 8, Amazon 4, Microsoft 3)  (Hard)\n",
    "O(m*n)  \n",
    "O(m*n)    \n",
    "dp[i][j]代表s1的前i个字符和s2的前j个字符合起来是否能够组成s3的前i+j个字符  \n",
    "中文leetcode题解"
   ]
  },
  {
   "cell_type": "code",
   "execution_count": null,
   "metadata": {},
   "outputs": [],
   "source": [
    "class Solution:\n",
    "    def isInterleave(self, s1, s2, s3):\n",
    "        \"\"\"\n",
    "        :type s1: str\n",
    "        :type s2: str\n",
    "        :type s3: str\n",
    "        :rtype: bool\n",
    "        \"\"\"\n",
    "        if len(s1) + len(s2) != len(s3):\n",
    "            return False\n",
    "        \n",
    "        dp = [[False] * (len(s2)+1) for i in range(len(s1)+1)]\n",
    "        dp[0][0] = True\n",
    "        \n",
    "        for i in range(1, len(s1) + 1):\n",
    "            if s1[i-1] == s3[i-1]:\n",
    "                dp[i][0] = True\n",
    "            else:\n",
    "                break\n",
    "                \n",
    "        for j in range(1, len(s2)+1):\n",
    "            if s2[j-1] == s3[j-1]:\n",
    "                dp[0][j] = True\n",
    "            else: # 前面都不符合了，后面肯定不符合了\n",
    "                break\n",
    "                \n",
    "        for i in range(1, len(s1)+1):\n",
    "            for j in range(1, len(s2)+1):\n",
    "                if (dp[i-1][j] and s1[i-1] == s3[i-1+j]) or (dp[i][j-1] and s2[j-1] == s3[i+j-1]):\n",
    "                    dp[i][j] = True\n",
    "        return dp[-1][-1]"
   ]
  },
  {
   "cell_type": "markdown",
   "metadata": {},
   "source": [
    "## 64. Minimum Path Sum (Matrix-DP) (Amazon 9)\n",
    "\n",
    "O(N^2)  \n",
    "O(1)  \n",
    "grid[i][j] 表示最少路径sum"
   ]
  },
  {
   "cell_type": "code",
   "execution_count": null,
   "metadata": {},
   "outputs": [],
   "source": [
    "class Solution:\n",
    "    def minPathSum(self, grid):\n",
    "        \"\"\"\n",
    "        :type grid: List[List[int]]\n",
    "        :rtype: int\n",
    "        \"\"\"\n",
    "        if not grid:\n",
    "            return 0\n",
    "\n",
    "        row = len(grid)\n",
    "        col = len(grid[0])\n",
    "\n",
    "        for i in range(1, col):\n",
    "            grid[0][i] += grid[0][i-1]\n",
    "\n",
    "        for i in range(1, row):\n",
    "            grid[i][0] += grid[i-1][0]\n",
    "\n",
    "        for i in range(1, row):\n",
    "            for j in range(1, col):\n",
    "                grid[i][j] += min(grid[i-1][j], grid[i][j-1])\n",
    "\n",
    "        return grid[-1][-1]"
   ]
  },
  {
   "cell_type": "markdown",
   "metadata": {},
   "source": [
    "## 542. 01 Matrix (Matrix-DP) (Amazon 5)  "
   ]
  },
  {
   "cell_type": "code",
   "execution_count": null,
   "metadata": {},
   "outputs": [],
   "source": [
    "# O(N)\n",
    "# O(N)\n",
    "# dp[i][j]表示当前位置到最近0的距离\n",
    "class Solution:\n",
    "    def updateMatrix(self, matrix):\n",
    "        \"\"\"\n",
    "        :type matrix: List[List[int]]\n",
    "        :rtype: List[List[int]]\n",
    "        \"\"\"\n",
    "        m, n = len(matrix), len(matrix[0])\n",
    "        dp = [[float('inf')] * n for _ in range(m)]\n",
    "        \n",
    "        for i in range(m):\n",
    "            for j in range(n):\n",
    "                if matrix[i][j] == 0:\n",
    "                    dp[i][j] = 0\n",
    "                    \n",
    "        def get(i, j):\n",
    "            if 0 <= i <= m - 1 and 0 <= j <= n - 1:\n",
    "                return dp[i][j]\n",
    "            else:\n",
    "                return float('inf')\n",
    "            \n",
    "        for i in range(m):\n",
    "            for j in range(n):\n",
    "                if matrix[i][j] != 0:\n",
    "                    dp[i][j] = min(get(i, j-1) + 1, get(i,j+1) + 1, get(i-1,j) + 1, get(i+1,j) + 1)\n",
    "                    \n",
    "        for i in range(m-1,-1,-1):\n",
    "            for j in range(n-1,-1,-1):\n",
    "                if matrix[i][j] != 0:\n",
    "                    dp[i][j] = min(get(i, j-1) + 1, get(i,j+1) + 1, get(i-1,j) + 1, get(i+1,j) + 1)\n",
    "                \n",
    "        return dp"
   ]
  },
  {
   "cell_type": "code",
   "execution_count": null,
   "metadata": {},
   "outputs": [],
   "source": [
    "# O(N)\n",
    "# O(N)\n",
    "# dp[i][j]表示当前位置到最近0的距离\n",
    "class Solution:\n",
    "    def updateMatrix(self, matrix):\n",
    "        \"\"\"\n",
    "        :type matrix: List[List[int]]\n",
    "        :rtype: List[List[int]]\n",
    "        \"\"\"\n",
    "        m, n = len(matrix), len(matrix[0])\n",
    "        dp = [[float('inf')] * n for _ in range(m)]\n",
    "        \n",
    "        for i in range(m):\n",
    "            for j in range(n):\n",
    "                if matrix[i][j] == 0:\n",
    "                    dp[i][j] = 0\n",
    "                    \n",
    "                else:\n",
    "                    if i > 0:\n",
    "                        dp[i][j] = min(dp[i][j], dp[i - 1][j] + 1)\n",
    "                    if j > 0:\n",
    "                        dp[i][j] = min(dp[i][j], dp[i][j - 1] + 1)\n",
    "                    \n",
    "        for i in range(m - 1, -1, -1):\n",
    "            for j in range(n - 1, -1, -1):\n",
    "                # if matrix[i][j] == 0:\n",
    "                #     dist[i][j] = 0\n",
    "                if i < m - 1:\n",
    "                    dp[i][j] = min(dp[i][j], dp[i + 1][j] + 1)\n",
    "                if j < n - 1:\n",
    "                    dp[i][j] = min(dp[i][j], dp[i][j + 1] + 1)   \n",
    "                \n",
    "        return dp"
   ]
  },
  {
   "cell_type": "code",
   "execution_count": null,
   "metadata": {},
   "outputs": [],
   "source": [
    "class Solution:\n",
    "    def updateMatrix(self, matrix):\n",
    "        \"\"\"\n",
    "        :type matrix: List[List[int]]\n",
    "        :rtype: List[List[int]]\n",
    "        \"\"\"\n",
    "        m = len(matrix)\n",
    "        n = len(matrix[0])\n",
    "        for i in range(m):\n",
    "            for j in range(n):\n",
    "                if matrix[i][j]:\n",
    "                    matrix[i][j] = min(matrix[i - 1][j] + 1 if i > 0 else float('inf'), \n",
    "                                       matrix[i][j - 1] + 1 if j > 0 else float('inf'))\n",
    "                         \n",
    "\n",
    "        for i in range(m - 1, -1, -1):\n",
    "            for j in range(n - 1, -1, -1):\n",
    "                if matrix[i][j]:\n",
    "                    matrix[i][j] = min(matrix[i + 1][j] + 1 if i < m - 1 else float('inf'), \n",
    "                                       matrix[i][j + 1] + 1 if j < n - 1 else float('inf'), matrix[i][j])\n",
    "                    \n",
    "        return matrix"
   ]
  },
  {
   "cell_type": "markdown",
   "metadata": {},
   "source": [
    "## Closest XY Pair in a Grid (Matri-DP) (Google Phone)\n",
    "https://leetcode.com/discuss/interview-question/311662/Google-or-Phone-screen-or-Closest-XY-pair-in-a-grid"
   ]
  },
  {
   "cell_type": "code",
   "execution_count": 18,
   "metadata": {},
   "outputs": [
    {
     "name": "stdout",
     "output_type": "stream",
     "text": [
      "[[0, 0, 1], [1, 1, 2], [2, 2, 3]]\n",
      "[[0, 0, 1], [1, 1, 2], [2, 2, 3]]\n"
     ]
    },
    {
     "data": {
      "text/plain": [
       "2"
      ]
     },
     "execution_count": 18,
     "metadata": {},
     "output_type": "execute_result"
    }
   ],
   "source": [
    "def minDist(grid):\n",
    "    m, n = len(grid), len(grid[0])\n",
    "    dist = [[float('inf')] * n for _ in range(m)]\n",
    "    \n",
    "\n",
    "    for x in range(m):\n",
    "        for y in range(n):\n",
    "            if grid[x][y] == 'X':\n",
    "                dist[x][y] = 0\n",
    "            else:\n",
    "                if x > 0:\n",
    "                    dist[x][y] = min(dist[x][y], dist[x - 1][y] + 1)\n",
    "                if y > 0:\n",
    "                    dist[x][y] = min(dist[x][y], dist[x][y - 1] + 1)\n",
    "    \n",
    "    print(dist)\n",
    "    for x in range(m - 1, -1, -1):\n",
    "        for y in range(n - 1, -1, -1):\n",
    "            if grid[x][y] == 'X':\n",
    "                dist[x][y] = 0\n",
    "            else:\n",
    "                if x < m - 1:\n",
    "                    dist[x][y] = min(dist[x][y], dist[x + 1][y] + 1)\n",
    "                if y < n - 1:\n",
    "                    dist[x][y] = min(dist[x][y], dist[x][y + 1] + 1)\n",
    "    \n",
    "    print(dist)\n",
    "    return min(dist[x][y] for x in range(m) for y in range(n) if grid[x][y] == 'Y')\n",
    "\n",
    "grid = [['X','X','0'],\n",
    "        ['0','0','Y'],\n",
    "        ['Y','0','0']] \n",
    "# Output: 1\n",
    "\n",
    "minDist(grid)"
   ]
  },
  {
   "cell_type": "markdown",
   "metadata": {},
   "source": [
    "## 221. Maximal Square (String Matrix-DP) (Google 8, Amazon 4)"
   ]
  },
  {
   "cell_type": "code",
   "execution_count": null,
   "metadata": {},
   "outputs": [],
   "source": [
    "# dp[i][j]代表以matrix[i][j]为右下角的正方形的最大长度\n",
    "# 状态方程dp[i][j] = min(dp[i-1][j-1], dp[i][j-1], dp[i-1][j]) + 1，但是必须要满足dp[i][j] == 1，因为右下角也必须为1啊\n",
    "\n",
    "# O(m*n)\n",
    "# O(m*n)\n",
    "class Solution:\n",
    "    def maximalSquare(self, matrix):\n",
    "        \"\"\"\n",
    "        :type matrix: List[List[str]]\n",
    "        :rtype: int\n",
    "        \"\"\"\n",
    "        if not matrix:\n",
    "            return 0\n",
    "        \n",
    "        row = len(matrix)\n",
    "        col = len(matrix[0]) \n",
    "        \n",
    "        dp = [[int(matrix[i][j]) for j in range(col)] for i in range(row)]\n",
    "\n",
    "        for i in range(1, row):\n",
    "            for j in range(1, col):\n",
    "                if dp[i][j] == 1:\n",
    "                    dp[i][j] = min(dp[i-1][j-1], dp[i][j-1], dp[i-1][j]) + 1\n",
    "\n",
    "        max_len = 0\n",
    "        for i in range(row):\n",
    "            for j in range(col):\n",
    "                max_len = max(max_len, dp[i][j])\n",
    "        return max_len * max_len"
   ]
  },
  {
   "cell_type": "markdown",
   "metadata": {},
   "source": [
    "## Count Squares (Goolge Phone)\n",
    "Matrix  \n",
    "https://leetcode.com/discuss/interview-question/416012/Google-or-Phone-Screen-or-Count-Squares"
   ]
  },
  {
   "cell_type": "code",
   "execution_count": null,
   "metadata": {},
   "outputs": [],
   "source": [
    "# dp[i][j]表示matrix[i-1][j-1]的square个数\n",
    "\n",
    "def zeroSquares(self, matrix):\n",
    "    if not matrix:\n",
    "        return 0\n",
    "    \n",
    "    row = len(matrix)\n",
    "    col = len(matrix[0])\n",
    "    dp = [[0] * (len(col) + 1) for n in row + 1]\n",
    "    \n",
    "    count = 0\n",
    "    for i in len(1, row + 1):\n",
    "        for j in len(1, col + 1):\n",
    "            if matrix[i-1][j-1] == 0:\n",
    "                dp[i][j] = min(dp[i-1][j], dp[i][j-1], dp[i-1][j-1]) + 1\n",
    "                count += dp[i][j]\n",
    "                \n",
    "                \n",
    "    return count\n",
    "        \n",
    "# public int zeroSquares(int[][] matrix) {\n",
    "#     int rows = matrix.length;\n",
    "#     int cols = matrix[0].length;\n",
    "\n",
    "#     int[][] dp = new int[rows + 1][cols + 1];\n",
    "\n",
    "#     int count = 0;\n",
    "#     for (int r = 1; r <= rows; r++) {\n",
    "#         for (int c = 1; c <= cols; c++) {\n",
    "#             if (matrix[r - 1][c - 1] == 0) {\n",
    "#                 dp[r][c] = min(dp[r - 1][c], dp[r][c - 1], dp[r - 1][c - 1]) + 1;\n",
    "#                 count += dp[r][c];\n",
    "#             }\n",
    "#         }\n",
    "#     }\n",
    "#     return count;\n",
    "# }"
   ]
  },
  {
   "cell_type": "markdown",
   "metadata": {},
   "source": [
    "## 85. Maximal Rectangle (String Matrix-DP) (Google 5)"
   ]
  },
  {
   "cell_type": "code",
   "execution_count": null,
   "metadata": {},
   "outputs": [],
   "source": [
    "# dp[i][j]表示matrix[i][j]长方形的最大长度\n",
    "\n",
    "class Solution:\n",
    "    def maximalRectangle(self, matrix):\n",
    "        \"\"\"\n",
    "        :type matrix: List[List[str]]\n",
    "        :rtype: int\n",
    "        \"\"\"\n",
    "        if not matrix:\n",
    "            return 0\n",
    "        \n",
    "        maxarea = 0\n",
    "\n",
    "        dp = [[0] * len(matrix[0]) for n in range(len(matrix))]\n",
    "        for i in range(len(matrix)):\n",
    "            for j in range(len(matrix[0])):\n",
    "                if matrix[i][j] == '1': \n",
    "                    # compute the maximum width and update dp with it\n",
    "                    length = dp[i][j] = dp[i][j-1] + 1 if j else 1\n",
    "\n",
    "                    # compute the maximum area rectangle with a lower right corner at [i, j]\n",
    "                    for k in range(i, -1, -1):\n",
    "                        length = min(length, dp[k][j])\n",
    "                        maxarea = max(maxarea,  length * (i-k+1)) # 长乘以宽\n",
    "        return maxarea"
   ]
  },
  {
   "cell_type": "markdown",
   "metadata": {},
   "source": [
    "## 44. Wildcard Matching (Google 4, Microsoft 2)"
   ]
  },
  {
   "cell_type": "markdown",
   "metadata": {},
   "source": [
    "O(N^2)  \n",
    "O(N^2)  \n",
    "dp[i][j]表示1 based string(i, j)是不是match"
   ]
  },
  {
   "cell_type": "code",
   "execution_count": 1,
   "metadata": {},
   "outputs": [],
   "source": [
    "class Solution:\n",
    "    def isMatch(self, s, p):\n",
    "        \"\"\"\n",
    "        :type s: str\n",
    "        :type p: str\n",
    "        :rtype: bool\n",
    "        \"\"\"\n",
    "        \n",
    "        dp = [[False] * (len(p) + 1) for _ in range(len(s) + 1)]\n",
    "        dp[0][0] = True\n",
    "        \n",
    "        for j in range(1, len(p) + 1):\n",
    "            if p[j - 1] == \"*\":\n",
    "                dp[0][j] = dp[0][j - 1]\n",
    "\n",
    "        for i in range(1, len(s) + 1):\n",
    "            for j in range(1, len(p) + 1):\n",
    "                if (s[i - 1] == p[j - 1] or p[j - 1] == \"?\") and dp[i-1][j-1]:\n",
    "                    dp[i][j] = True\n",
    "                \n",
    "                elif p[j - 1] == \"*\" and (dp[i - 1][j] or dp[i][j - 1]):\n",
    "                    dp[i][j] = True\n",
    "                    \n",
    "        return dp[-1][-1]"
   ]
  },
  {
   "cell_type": "code",
   "execution_count": 1,
   "metadata": {},
   "outputs": [],
   "source": [
    "class Solution:\n",
    "    def isMatch(self, s, p):\n",
    "        \"\"\"\n",
    "        :type s: str\n",
    "        :type p: str\n",
    "        :rtype: bool\n",
    "        \"\"\"\n",
    "        \n",
    "        dp = [[False] * (len(p) + 1) for _ in range(len(s) + 1)]\n",
    "        dp[0][0] = True\n",
    "        for j in range(1, len(p) + 1):\n",
    "            if p[j - 1] == \"*\":\n",
    "                dp[0][j] = dp[0][j - 1]\n",
    "\n",
    "        for i in range(1, len(s) + 1):\n",
    "            for j in range(1, len(p) + 1):\n",
    "                if (s[i - 1] == p[j - 1] or p[j - 1] == \"?\"):\n",
    "                    dp[i][j] = dp[i - 1][j - 1]\n",
    "                    \n",
    "                elif p[j - 1] == \"*\":\n",
    "                    dp[i][j] = dp[i - 1][j] or dp[i][j - 1]\n",
    "                    \n",
    "        for n in dp:\n",
    "            print(n)\n",
    "        return dp[-1][-1]"
   ]
  },
  {
   "cell_type": "code",
   "execution_count": 2,
   "metadata": {},
   "outputs": [
    {
     "name": "stdout",
     "output_type": "stream",
     "text": [
      "[True, False, False]\n",
      "[False, True, True]\n",
      "[False, False, True]\n"
     ]
    },
    {
     "data": {
      "text/plain": [
       "True"
      ]
     },
     "execution_count": 2,
     "metadata": {},
     "output_type": "execute_result"
    }
   ],
   "source": [
    "o = Solution()\n",
    "o.isMatch('aa', 'a*')"
   ]
  },
  {
   "cell_type": "markdown",
   "metadata": {},
   "source": [
    "## 10. Regular Expression Matching (String. Recursion-DP) (Facebook 8, Microsoft 7, Amazon 6) (Hard)"
   ]
  },
  {
   "cell_type": "markdown",
   "metadata": {},
   "source": [
    "dp[i][j]表示text[i:] pattern[j:]是不是match"
   ]
  },
  {
   "cell_type": "code",
   "execution_count": null,
   "metadata": {},
   "outputs": [],
   "source": [
    "class Solution:\n",
    "    def isMatch(self, text, pattern):\n",
    "            \"\"\"\n",
    "            :type s: str\n",
    "            :type p: str\n",
    "            :rtype: bool\n",
    "            \"\"\"\n",
    "            dic = {} \n",
    "\n",
    "            def dp(i, j):\n",
    "                if (i, j) in dic: \n",
    "                    return dic[(i, j)]\n",
    "\n",
    "                if j == len(pattern): \n",
    "                    return i == len(text)\n",
    "\n",
    "                if i <= len(text) - 1 and (pattern[j] == text[i] or pattern[j] == '.'):\n",
    "                    if j <= len(pattern) - 2 and pattern[j + 1] == '*':         \n",
    "                        dic[(i, j)] = dp(i, j + 2) or dp(i + 1, j)\n",
    "                    else:\n",
    "                        dic[(i, j)] = dp(i + 1, j + 1)\n",
    "\n",
    "                else:\n",
    "                    if j <= len(pattern) - 2 and pattern[j + 1] == '*':\n",
    "                        dic[(i, j)] = dp(i, j + 2) or False\n",
    "                    else:\n",
    "                        dic[(i, j)] = False\n",
    "\n",
    "                return dic[(i, j)]\n",
    "\n",
    "            return dp(0, 0)"
   ]
  },
  {
   "cell_type": "code",
   "execution_count": 32,
   "metadata": {},
   "outputs": [],
   "source": [
    "class Solution:\n",
    "#     def isMatch(self, s, p):\n",
    "#         dp = [[False] * (len(p) + 1) for _ in range(len(s) + 1)]\n",
    "\n",
    "#         dp[-1][-1] = True\n",
    "        \n",
    "#         for i in range(len(s), -1, -1):\n",
    "#             for j in range(len(p) - 1, -1, -1):\n",
    "#                 print(i,j)\n",
    "#                 first_match = i < len(s) and p[j] in {s[i], '.'}\n",
    "#                 if j+1 < len(p) and p[j+1] == '*':\n",
    "#                     dp[i][j] = dp[i][j+2] or first_match and dp[i+1][j]\n",
    "#                 else:\n",
    "                    \n",
    "#                     dp[i][j] = first_match and dp[i+1][j+1]\n",
    "                    \n",
    "#                     print(dp[i][j])\n",
    "\n",
    "#         return dp[0][0]\n",
    "    \n",
    "    # 带备忘录的递归\n",
    "    # Top Down\n",
    "    def isMatch(self, text, pattern):\n",
    "        \"\"\"\n",
    "        :type s: str\n",
    "        :type p: str\n",
    "        :rtype: bool\n",
    "        \"\"\"\n",
    "        \n",
    "        dic = {} # 备忘录\n",
    "        \n",
    "        def dp(i, j):\n",
    "            if (i, j) in dic: \n",
    "                return dic[(i, j)]\n",
    "            \n",
    "            if j == len(pattern): \n",
    "                return i == len(text)\n",
    "\n",
    "            first = i <= len(text) - 1 and (pattern[j] == text[i] or pattern[j] == '.')\n",
    "\n",
    "            if j <= len(pattern) - 2 and pattern[j + 1] == '*':\n",
    "                dic[(i, j)] = dp(i, j + 2) or first and dp(i + 1, j)\n",
    "            else:\n",
    "                dic[(i, j)] = first and dp(i + 1, j + 1)\n",
    "\n",
    "#             print(dic)\n",
    "            return dic[(i, j)]\n",
    "\n",
    "        return dp(0, 0)\n",
    "\n",
    "    # # 暴力递归\n",
    "    # def isMatch(text, pattern) -> bool:\n",
    "    #     if not pattern: return not text\n",
    "\n",
    "    #     first = bool(text) and pattern[0] in {text[0], '.'}\n",
    "\n",
    "    #     if len(pattern) >= 2 and pattern[1] == '*':\n",
    "    #         return isMatch(text, pattern[2:]) or \\\n",
    "    #                 first and isMatch(text[1:], pattern)\n",
    "    #     else:\n",
    "    #         return first and isMatch(text[1:], pattern[1:])"
   ]
  },
  {
   "cell_type": "code",
   "execution_count": 33,
   "metadata": {},
   "outputs": [
    {
     "name": "stdout",
     "output_type": "stream",
     "text": [
      "{(0, 4): False}\n",
      "{(0, 4): False, (1, 4): False}\n",
      "{(0, 4): False, (1, 4): False, (2, 4): True}\n",
      "{(0, 4): False, (1, 4): False, (2, 4): True, (2, 2): True}\n",
      "{(0, 4): False, (1, 4): False, (2, 4): True, (2, 2): True, (1, 2): True}\n",
      "{(0, 4): False, (1, 4): False, (2, 4): True, (2, 2): True, (1, 2): True, (0, 2): True}\n",
      "{(0, 4): False, (1, 4): False, (2, 4): True, (2, 2): True, (1, 2): True, (0, 2): True, (0, 0): True}\n"
     ]
    },
    {
     "data": {
      "text/plain": [
       "True"
      ]
     },
     "execution_count": 33,
     "metadata": {},
     "output_type": "execute_result"
    }
   ],
   "source": [
    "text = 'aab'\n",
    "pattern = 'c*a*b' \n",
    "\n",
    "s= Solution()\n",
    "s.isMatch(text, pattern)"
   ]
  },
  {
   "cell_type": "markdown",
   "metadata": {},
   "source": [
    "## 72. Edit Distance  (String. Recursion-DP) (Microsoft 3, Amazon 2)"
   ]
  },
  {
   "cell_type": "code",
   "execution_count": null,
   "metadata": {},
   "outputs": [],
   "source": [
    "class Solution:\n",
    "    def minDistance(self, s1, s2):\n",
    "        \"\"\"\n",
    "        :type word1: str\n",
    "        :type word2: str\n",
    "        :rtype: int\n",
    "        \"\"\"\n",
    "\n",
    "        dic = {} # 备忘录\n",
    "        def dp(i, j):\n",
    "            if (i, j) in dic: \n",
    "                return dic[(i, j)]\n",
    "            \n",
    "            if i == len(s1): \n",
    "                return len(s2) - j \n",
    "            if j == len(s2): \n",
    "                return len(s1) - i \n",
    "\n",
    "            if s1[i] == s2[j]:\n",
    "                dic[(i, j)] = dp(i + 1, j + 1) \n",
    "            else:\n",
    "                dic[(i, j)] = min(dp(i, j + 1) + 1,    # 插入\n",
    "                                  dp(i + 1, j) + 1,    # 删除\n",
    "                                  dp(i + 1, j + 1) + 1 # 替换\n",
    "                                  )\n",
    "                \n",
    "            return dic[(i, j)]\n",
    "\n",
    "        return dp(0, 0)"
   ]
  },
  {
   "cell_type": "code",
   "execution_count": null,
   "metadata": {},
   "outputs": [],
   "source": [
    "# class Solution:\n",
    "    # def minDistance(self, word1: str, word2: str) -> int:\n",
    "        \n",
    "#     def minDistance(self, s1, s2) -> int:\n",
    "\n",
    "#         def dp(i, j):\n",
    "#             # base case\n",
    "#             if i == -1: return j + 1\n",
    "#             if j == -1: return i + 1\n",
    "\n",
    "#             if s1[i] == s2[j]:\n",
    "#                 return dp(i - 1, j - 1)  # 啥都不做\n",
    "#             else:\n",
    "#                 return min(\n",
    "#                     dp(i, j - 1) + 1,    # 插入\n",
    "#                     dp(i - 1, j) + 1,    # 删除\n",
    "#                     dp(i - 1, j - 1) + 1 # 替换\n",
    "#                 )\n",
    "\n",
    "#         # i，j 初始化指向最后一个索引\n",
    "#         return dp(len(s1) - 1, len(s2) - 1)\n",
    "\n",
    "# base case 是 i 走完 s1 或 j 走完 s2，可以直接返回另一个字符串剩下的长度。  \n",
    "# Up Down\n",
    "\n",
    "# dp(i,j)表示改变的s1 i之前 和s2 j之前的最少编辑次数\n",
    "class Solution:\n",
    "    def minDistance(self, s1, s2):\n",
    "        \"\"\"\n",
    "        :type word1: str\n",
    "        :type word2: str\n",
    "        :rtype: int\n",
    "        \"\"\"\n",
    "\n",
    "        dic = {} # 备忘录\n",
    "        def dp(i, j):\n",
    "            if (i, j) in dic: \n",
    "                return dic[(i, j)]\n",
    "            \n",
    "            if i == -1: \n",
    "                return j + 1\n",
    "            if j == -1: \n",
    "                return i + 1\n",
    "\n",
    "            if s1[i] == s2[j]:\n",
    "                dic[(i, j)] = dp(i - 1, j - 1) \n",
    "            else:\n",
    "                dic[(i, j)] = min(dp(i, j - 1) + 1,    # 插入\n",
    "                                  dp(i - 1, j) + 1,    # 删除\n",
    "                                  dp(i - 1, j - 1) + 1 # 替换\n",
    "                                  )\n",
    "                \n",
    "            return dic[(i, j)]\n",
    "\n",
    "        return dp(len(s1) - 1, len(s2) - 1)"
   ]
  },
  {
   "cell_type": "markdown",
   "metadata": {},
   "source": [
    "Bottom Up"
   ]
  },
  {
   "cell_type": "code",
   "execution_count": null,
   "metadata": {},
   "outputs": [],
   "source": [
    "class Solution:\n",
    "    def minDistance(self, s1, s2):\n",
    "        \"\"\"\n",
    "        :type word1: str\n",
    "        :type word2: str\n",
    "        :rtype: int\n",
    "        \"\"\"\n",
    "\n",
    "        dp = [[0] * (len(s2) + 1) for _ in range(len(s1) + 1)]\n",
    "        # 第一行\n",
    "        for j in range(1, len(s2) + 1):\n",
    "            dp[0][j] = dp[0][j-1] + 1\n",
    "        # 第一列\n",
    "        for i in range(1, len(s1) + 1):\n",
    "            dp[i][0] = dp[i-1][0] + 1\n",
    "            \n",
    "        for i in range(1, len(s1) + 1):\n",
    "            for j in range(1, len(2) + 1):\n",
    "                if s1[i-1] == s2[j-1]:\n",
    "                    dp[i][j] = dp[i-1][j-1]\n",
    "                else:\n",
    "                    dp[i][j] = min(dp[i][j-1], dp[i-1][j], dp[i-1][j-1]) + 1\n",
    "        #print(dp)      \n",
    "        return dp[-1][-1]"
   ]
  },
  {
   "cell_type": "markdown",
   "metadata": {},
   "source": [
    "## 329. Longest Increasing Path in a Matrix (Matrix, DP, Recursion-Backtracking) (Google 4, Facebook 4)\n",
    "O(m*n)  \n",
    "O(m*n)"
   ]
  },
  {
   "cell_type": "code",
   "execution_count": null,
   "metadata": {},
   "outputs": [],
   "source": [
    "class Solution:\n",
    "    def longestIncreasingPath(self, matrix):\n",
    "        \"\"\"\n",
    "        :type matrix: List[List[int]]\n",
    "        :rtype: int\n",
    "        \"\"\"\n",
    "        if not matrix: \n",
    "            return 0\n",
    "        \n",
    "        dic = {}\n",
    "        def dp(i, j):   \n",
    "            if (i,j) in dic:\n",
    "                return dic[i,j]\n",
    "            \n",
    "            dic[i,j] = 1 + max(\n",
    "                dp(i - 1, j) if i > 0 and matrix[i][j] > matrix[i - 1][j] else 0,\n",
    "                dp(i + 1, j) if i < m - 1 and matrix[i][j] > matrix[i + 1][j] else 0,\n",
    "                dp(i, j - 1) if j > 0 and matrix[i][j] > matrix[i][j - 1] else 0,\n",
    "                dp(i, j + 1) if j < n - 1 and matrix[i][j] > matrix[i][j + 1] else 0)\n",
    "\n",
    "            return dp(i, j)\n",
    "        \n",
    "        m = len(matrix)\n",
    "        n = len(matrix[0])\n",
    "#         dp = [[0] * n for i in range(m)]\n",
    "#         print('dp=',dp)\n",
    "        \n",
    "        res = []\n",
    "        for i in range(m):\n",
    "            for j in range(n):\n",
    "                res.append(dp(i, j))\n",
    "        return max(res)"
   ]
  },
  {
   "cell_type": "code",
   "execution_count": 29,
   "metadata": {},
   "outputs": [],
   "source": [
    "class Solution:\n",
    "    def longestIncreasingPath(self, matrix):\n",
    "        \"\"\"\n",
    "        :type matrix: List[List[int]]\n",
    "        :rtype: int\n",
    "        \"\"\"\n",
    "        if not matrix: \n",
    "            return 0\n",
    "        \n",
    "        def backtrack(i, j):        \n",
    "            if not dp[i][j]:                \n",
    "                dp[i][j] = 1 + max(\n",
    "                    backtrack(i - 1, j) if i > 0 and matrix[i][j] > matrix[i - 1][j] else 0,\n",
    "                    backtrack(i + 1, j) if i < m - 1 and matrix[i][j] > matrix[i + 1][j] else 0,\n",
    "                    backtrack(i, j - 1) if j > 0 and matrix[i][j] > matrix[i][j - 1] else 0,\n",
    "                    backtrack(i, j + 1) if j < n - 1 and matrix[i][j] > matrix[i][j + 1] else 0)\n",
    "            \n",
    "            return dp[i][j]\n",
    "        \n",
    "        m = len(matrix)\n",
    "        n = len(matrix[0])\n",
    "        dp = [[0] * n for i in range(m)]\n",
    "#         print('dp=',dp)\n",
    "        \n",
    "        res = []\n",
    "        for i in range(m):\n",
    "            for j in range(n):\n",
    "                res.append(backtrack(i, j))\n",
    "        return max(res)"
   ]
  },
  {
   "cell_type": "code",
   "execution_count": 30,
   "metadata": {},
   "outputs": [
    {
     "name": "stdout",
     "output_type": "stream",
     "text": [
      "dp= [[0, 0, 0], [0, 0, 0], [0, 0, 0]]\n"
     ]
    },
    {
     "data": {
      "text/plain": [
       "4"
      ]
     },
     "execution_count": 30,
     "metadata": {},
     "output_type": "execute_result"
    }
   ],
   "source": [
    "s = Solution()\n",
    "\n",
    "matrix = [\n",
    "  [9,9,4],\n",
    "  [6,6,8],\n",
    "  [2,1,1]\n",
    "] \n",
    "\n",
    "s.longestIncreasingPath(matrix)"
   ]
  },
  {
   "cell_type": "markdown",
   "metadata": {},
   "source": [
    "## 354. Russin Doll Envelopes (Lists-DP) (Microsoft 3)"
   ]
  },
  {
   "cell_type": "code",
   "execution_count": null,
   "metadata": {},
   "outputs": [],
   "source": [
    "import bisect\n",
    "class Solution:\n",
    "    def maxEnvelopes(self, envelopes):\n",
    "        \"\"\"\n",
    "        :type envelopes: List[List[int]]\n",
    "        :rtype: int\n",
    "        \"\"\"\n",
    "        \n",
    "        envelopes = sorted(envelopes, key = lambda x: (x[0], -x[1]))\n",
    "        dp = []\n",
    "        for env in envelopes:\n",
    "            h = env[1]\n",
    "            pos = bisect.bisect_left(dp, h)\n",
    "            if pos == len(dp):\n",
    "                dp.append(h)\n",
    "            else:\n",
    "                dp[pos] = h\n",
    "        return len(dp)"
   ]
  },
  {
   "cell_type": "markdown",
   "metadata": {},
   "source": [
    "## 957. Odd Even Jump (List-DP) (Google 9) (Hard)\n",
    "- 时间复杂度: O(NlgN)- 空间复杂度: O(N)  \n",
    "规律跳格子，固定点位固定落地点，所以可以搞一个函数专门算这个，接下来就是dp，dp[i]代表从点i能否跳到最后一个点"
   ]
  },
  {
   "cell_type": "code",
   "execution_count": null,
   "metadata": {},
   "outputs": [],
   "source": [
    "# O(N*logN)\n",
    "class Solution:\n",
    "    def oddEvenJumps(self, A):\n",
    "        \"\"\"\n",
    "        :type A: List[int]\n",
    "        :rtype: int\n",
    "        \"\"\"\n",
    "        def make(B):\n",
    "            res = [-1] * N\n",
    "            stack = [] # invariant: stack is decreasing\n",
    "            for i in B:\n",
    "                while stack and i > stack[-1]:\n",
    "                    res[stack.pop()] = i\n",
    "                stack.append(i)\n",
    "            return res\n",
    "\n",
    "        N = len(A) # A = [10,13,12,14,15]\n",
    "\n",
    "        B = sorted(list(range(N)), key = lambda i : A[i]) # [0, 2, 1, 3, 4]\n",
    "        odd_nxt = make(B)\n",
    "\n",
    "        B = sorted(list(range(N)), key = lambda i : -A[i]) # [4, 3, 1, 2, 0]\n",
    "        even_nxt = make(B)\n",
    "\n",
    "        odd, even = [False] * N, [False] * N\n",
    "        odd[-1], even[-1] = True, True\n",
    "\n",
    "        for i in range(N-2, -1, -1):\n",
    "            if odd_nxt[i] != -1:\n",
    "                odd[i] = even[odd_nxt[i]]\n",
    "            if even_nxt[i] != -1:\n",
    "                even[i] = odd[even_nxt[i]]\n",
    "\n",
    "        return sum(odd)"
   ]
  },
  {
   "cell_type": "code",
   "execution_count": 40,
   "metadata": {},
   "outputs": [
    {
     "name": "stdout",
     "output_type": "stream",
     "text": [
      "3\n",
      "2\n",
      "1\n",
      "0\n"
     ]
    }
   ],
   "source": [
    "for i in range(3,-1,-1):\n",
    "    print(i)"
   ]
  },
  {
   "cell_type": "markdown",
   "metadata": {
    "toc-hr-collapsed": false
   },
   "source": [
    "### (18) (String) List. Recursion, Recursion-Backtrack, Queue-Backtrack. (String) Matrix. Recursion-Backtrack"
   ]
  },
  {
   "cell_type": "markdown",
   "metadata": {},
   "source": [
    "## 50. Pow(x, n) (Recursion) (Facebook 9, Linkedin 7, Amazon 6)\n",
    "\n",
    "O(logn)  \n",
    "O(logn)"
   ]
  },
  {
   "cell_type": "code",
   "execution_count": null,
   "metadata": {},
   "outputs": [],
   "source": [
    "class Solution:\n",
    "    def myPow(self, x, n):\n",
    "        if n == 0:\n",
    "            return 1\n",
    "        if n < 0:\n",
    "            return 1 / self.myPow(x, -n)\n",
    "        \n",
    "        if n % 2:\n",
    "            return x * self.myPow(x, n-1)\n",
    "\n",
    "        return self.myPow(x*x, n/2)"
   ]
  },
  {
   "cell_type": "code",
   "execution_count": null,
   "metadata": {},
   "outputs": [],
   "source": [
    "class Solution:\n",
    "    def myPow(self, x, n):\n",
    "        if n < 0:\n",
    "            x = 1 / x\n",
    "            n = -n\n",
    "        pow = 1\n",
    "        while n:\n",
    "            if n & 1:\n",
    "                pow *= x\n",
    "            x *= x\n",
    "            n >>= 1\n",
    "        return pow"
   ]
  },
  {
   "cell_type": "markdown",
   "metadata": {},
   "source": [
    "## 66. Plus One (Recursion) (Google 4, Amazon 3)"
   ]
  },
  {
   "cell_type": "code",
   "execution_count": null,
   "metadata": {},
   "outputs": [],
   "source": [
    "class Solution:\n",
    "    def plusOne(self, digits):\n",
    "        \"\"\"\n",
    "        :type digits: List[int]\n",
    "        :rtype: List[int]\n",
    "        \"\"\"\n",
    "        if not digits:\n",
    "            return [1]\n",
    "        if digits[-1] < 9:\n",
    "            digits[-1] += 1\n",
    "            return digits\n",
    "        else:\n",
    "            return self.plusOne(digits[:-1]) + [0]"
   ]
  },
  {
   "cell_type": "markdown",
   "metadata": {},
   "source": [
    "## 22. Generate Parenthesis (Recursion-Backtracking) (Amazon 12, Microsoft 11, Facebook 7)\n",
    "\n",
    "时间复杂度: O(4^N / sqrt(N))\n",
    "\n",
    "https://xiaozhuanlan.com/topic/3421690578  \n",
    "以Generate Parentheses为例，backtrack的题到底该怎么去思考？\n",
    "所谓Backtracking都是这样的思路：在当前局面下，你有若干种选择。那么尝试每一种选择。如果已经发现某种选择肯定不行（因为违反了某些限定条件），就返回；如果某种选择试到最后发现是正确解，就将其加入解集\n",
    "\n",
    "所以你思考递归题时，只要明确三点就行：选择 (Options)，限制 (Restraints)，结束条件 (Termination)。即“ORT原则”（这个是我自己编的）\n",
    "\n",
    "对于这道题，在任何时刻，你都有两种选择：\n",
    "\n",
    "加左括号。\n",
    "加右括号。\n",
    "同时有以下限制：\n",
    "\n",
    "如果左括号已经用完了，则不能再加左括号了。\n",
    "如果已经出现的右括号和左括号一样多，则不能再加右括号了。因为那样的话新加入的右括号一定无法匹配。\n",
    "结束条件是：\n",
    "左右括号都已经用完。\n",
    "\n",
    "结束后的正确性：\n",
    "左右括号用完以后，一定是正确解。因为1. 左右括号一样多，2. 每个右括号都一定有与之配对的左括号。因此一旦结束就可以加入解集（有时也可能出现结束以后不一定是正确解的情况，这时要多一步判断）。\n",
    "\n",
    "递归函数传入参数：\n",
    "限制和结束条件中有“用完”和“一样多”字样，因此你需要知道左右括号的数目。\n",
    "当然你还需要知道当前局面sublist和解集res。\n"
   ]
  },
  {
   "cell_type": "code",
   "execution_count": null,
   "metadata": {},
   "outputs": [],
   "source": [
    "class Solution:\n",
    "    def generateParenthesis(self, n):\n",
    "        \"\"\"\n",
    "        :type n: int\n",
    "        :rtype: List[str]\n",
    "        \"\"\"\n",
    "        if not n:\n",
    "            return ['']\n",
    "  \n",
    "        def backtrack(s = '', l = 0, r = 0):\n",
    "            if len(s) == 2 * n:\n",
    "                res.append(s)\n",
    "                return\n",
    "                \n",
    "            if l < n:\n",
    "                backtrack(s + '(', l + 1, r)\n",
    "            if r < l:\n",
    "                backtrack(s + ')', l, r + 1)\n",
    "        \n",
    "        res = []\n",
    "        backtrack()\n",
    "        return res"
   ]
  },
  {
   "cell_type": "markdown",
   "metadata": {},
   "source": [
    "## 17. Letter Combinations (String List, Recursion-Bscktracking) (Amazon 13, Microsoft 7, Google 6, Uber 5)\n",
    "\n",
    "O(3^N x 4^M) where N is the number of digits in the input that maps to 3 letters (e.g. 2, 3, 4, 5, 6, 8) and M is the number of digits in the input that maps to 4 letters (e.g. 7, 9), and N+M is the total number digits in the input.  \n",
    "O(3^N x 4^M)"
   ]
  },
  {
   "cell_type": "code",
   "execution_count": null,
   "metadata": {},
   "outputs": [],
   "source": [
    "class Solution:\n",
    "    def letterCombinations(self, digits):\n",
    "        \"\"\"\n",
    "        :type digits: str\n",
    "        :rtype: List[str]\n",
    "        \"\"\"\n",
    "        dic = {\n",
    "            '2':['a','b','c'],\n",
    "            '3':['d','e','f'],\n",
    "            '4':['g','h','i'],\n",
    "            '5':['j','k','l'],\n",
    "            '6':['m','n','o'],\n",
    "            '7':['p','q','r','s'],\n",
    "            '8':['t','u','v'],\n",
    "            '9':['w','x','y','z']\n",
    "        }\n",
    "        \n",
    "        if not digits:\n",
    "            return []\n",
    "        \n",
    "        res = []\n",
    "        def backtrack(digits, s = ''):\n",
    "            if not digits:\n",
    "                res.append(s)\n",
    "                return\n",
    "\n",
    "            for c in dic[digits[0]]:\n",
    "                backtrack(digits[1:], s+c)\n",
    "        \n",
    "        backtrack(digits)\n",
    "        return res"
   ]
  },
  {
   "cell_type": "markdown",
   "metadata": {},
   "source": [
    "## 1087. Brace Expansion (List, Recursion-Backtracking) (Google 6)"
   ]
  },
  {
   "cell_type": "code",
   "execution_count": 3,
   "metadata": {},
   "outputs": [],
   "source": [
    "class Solution:\n",
    "    def expand(self, S):\n",
    "        \"\"\"\n",
    "        :type S: str\n",
    "        :rtype: List[str]\n",
    "        \"\"\"\n",
    "        res = []\n",
    "        def backtrack(s, word = ''):\n",
    "            if not s:\n",
    "                res.append(word)\n",
    "                return\n",
    "\n",
    "            if s[0] == \"{\":\n",
    "                i = s.find(\"}\")\n",
    "                for letter in s[1:i].split(','):\n",
    "                    backtrack(s[i+1:], word+letter)\n",
    "            else:\n",
    "                backtrack(s[1:], word + s[0])\n",
    "                    \n",
    "        backtrack(S)   \n",
    "        return sorted(res)"
   ]
  },
  {
   "cell_type": "code",
   "execution_count": 4,
   "metadata": {},
   "outputs": [
    {
     "data": {
      "text/plain": [
       "['a_cat_is_with_sarah',\n",
       " 'a_cat_is_with_mike',\n",
       " 'a_dog_is_with_sarah',\n",
       " 'a_dog_is_with_mike']"
      ]
     },
     "execution_count": 4,
     "metadata": {},
     "output_type": "execute_result"
    }
   ],
   "source": [
    "s = Solution()\n",
    "S = 'a_{cat,dog}_is_with_{sarah,mike}'\n",
    "s.expand(S)"
   ]
  },
  {
   "cell_type": "markdown",
   "metadata": {},
   "source": [
    "## 39. (3) Combination Sum (List, Recurison-Backtracking) (Airbnb 10, Microsoft 7, Amazon 5)\n",
    "\n",
    "O(2^N)  \n",
    "O(2^N)"
   ]
  },
  {
   "cell_type": "code",
   "execution_count": null,
   "metadata": {},
   "outputs": [],
   "source": [
    "class Solution:\n",
    "    def combinationSum(self, nums, target):\n",
    "        \"\"\"\n",
    "        :type candidates: List[int]\n",
    "        :type target: int\n",
    "        :rtype: List[List[int]]\n",
    "        \"\"\"      \n",
    "        def backtrack(target, index = 0, path = []):    \n",
    "            if target == 0:\n",
    "                res.append(path)\n",
    "                return \n",
    "            \n",
    "            if target < 0:\n",
    "                return  # backtracking\n",
    "            \n",
    "            for i in range(index, len(nums)):\n",
    "                backtrack(target-nums[i], i, path+[nums[i]])\n",
    "        \n",
    "        res = []\n",
    "        backtrack(target)\n",
    "        return res"
   ]
  },
  {
   "cell_type": "code",
   "execution_count": 29,
   "metadata": {},
   "outputs": [
    {
     "data": {
      "text/plain": [
       "[1, 2, 3, [5, 6]]"
      ]
     },
     "execution_count": 29,
     "metadata": {},
     "output_type": "execute_result"
    }
   ],
   "source": [
    "l1 = [1,2,3]\n",
    "l1.append([5,6])\n",
    "l1"
   ]
  },
  {
   "cell_type": "markdown",
   "metadata": {},
   "source": [
    "## 77. Combinations"
   ]
  },
  {
   "cell_type": "code",
   "execution_count": null,
   "metadata": {},
   "outputs": [],
   "source": [
    "class Solution:\n",
    "    def combine(self, n, k):\n",
    "        \"\"\"\n",
    "        :type n: int\n",
    "        :type k: int\n",
    "        :rtype: List[List[int]]\n",
    "        \"\"\"\n",
    "        \n",
    "        def dfs(cur_nums, idx):\n",
    "            if len(cur_nums) == k:\n",
    "                res.append(cur_nums)\n",
    "                return\n",
    "            if idx == n + 1:\n",
    "                return\n",
    "            dfs(cur_nums+[idx], idx+1)\n",
    "            dfs(cur_nums, idx+1)\n",
    "        \n",
    "        res = []      \n",
    "        dfs([], 1)\n",
    "        return res"
   ]
  },
  {
   "cell_type": "markdown",
   "metadata": {},
   "source": [
    "## 78. Subsets (List, Recursion-Backtracking, Queue-Backtracking) (Facebook 8, Amazon 6, Microsoft 5)\n",
    "\n",
    "O(2^N)  \n",
    "O(2^N)"
   ]
  },
  {
   "cell_type": "code",
   "execution_count": null,
   "metadata": {},
   "outputs": [],
   "source": [
    "class Solution:\n",
    "    def subsets(self, nums):\n",
    "        \"\"\"\n",
    "        :type nums: List[int]\n",
    "        :rtype: List[List[int]]\n",
    "        \"\"\"    \n",
    "        def backtrack(tmp, p):\n",
    "            res.append(tmp)\n",
    "            \n",
    "            for i in range(p, len(nums)):\n",
    "                backtrack(tmp + [nums[i]], i + 1)\n",
    "            \n",
    "        res = []\n",
    "        backtrack([], 0)\n",
    "        return res "
   ]
  },
  {
   "cell_type": "code",
   "execution_count": null,
   "metadata": {},
   "outputs": [],
   "source": [
    "#BFS\n",
    "class Solution:\n",
    "    def subsets(self, nums):\n",
    "        \"\"\"\n",
    "        :type nums: List[int]\n",
    "        :rtype: List[List[int]]\n",
    "        \"\"\"    \n",
    "        subsets = [[]]\n",
    "        # start by adding the empty subset\n",
    "        for n in nums:\n",
    "        # we will take all existing subsets and insert the current number in them to create new subsets\n",
    "            for i in range(len(subsets)):\n",
    "              # create a new subset from the existing subset and insert the current element to it\n",
    "              # set = list(subsets[i])\n",
    "              # set.append(currentNumber)\n",
    "              subsets.append(subsets[i]+[n])\n",
    "\n",
    "        return subsets"
   ]
  },
  {
   "cell_type": "code",
   "execution_count": 31,
   "metadata": {},
   "outputs": [],
   "source": [
    "#O(2^N)\n",
    "class Solution:\n",
    "    def subsets(self, nums):\n",
    "        \"\"\"\n",
    "        :type nums: List[int]\n",
    "        :rtype: List[List[int]]\n",
    "        \"\"\"\n",
    "        res = [[]]\n",
    "        for n in nums:\n",
    "            res.extend([[n] + num for num in res])\n",
    "        return res "
   ]
  },
  {
   "cell_type": "code",
   "execution_count": 32,
   "metadata": {},
   "outputs": [
    {
     "data": {
      "text/plain": [
       "[[], [1], [2], [1, 2], [3], [1, 3], [2, 3], [1, 2, 3]]"
      ]
     },
     "execution_count": 32,
     "metadata": {},
     "output_type": "execute_result"
    }
   ],
   "source": [
    "nums = [1,2,3]\n",
    "s = Solution()\n",
    "s.subsets(nums)"
   ]
  },
  {
   "cell_type": "code",
   "execution_count": null,
   "metadata": {},
   "outputs": [],
   "source": [
    "[1,3] + [3]"
   ]
  },
  {
   "cell_type": "markdown",
   "metadata": {},
   "source": [
    "## 90. Subsets II (Amazon 3, Microsoft 2)"
   ]
  },
  {
   "cell_type": "code",
   "execution_count": null,
   "metadata": {},
   "outputs": [],
   "source": [
    "class Solution:\n",
    "    def subsetsWithDup(self, nums):\n",
    "        \"\"\"\n",
    "        :type nums: List[int]\n",
    "        :rtype: List[List[int]]\n",
    "        \"\"\"    \n",
    "        nums.sort()\n",
    "        subsets = [[]]\n",
    "        dic = {}\n",
    "        # start by adding the empty subset\n",
    "        for n in nums:\n",
    "        # we will take all existing subsets and insert the current number in them to create new subsets\n",
    "            for i in range(len(subsets)):\n",
    "              # create a new subset from the existing subset and insert the current element to it\n",
    "              # set = list(subsets[i])\n",
    "              # set.append(currentNumber)\n",
    "                tmp = subsets[i] + [n]\n",
    " \n",
    "                if tuple(tmp) not in dic:\n",
    "                    dic[tuple(tmp)] = 1\n",
    "                    subsets.append(tmp)\n",
    "                \n",
    "        return subsets"
   ]
  },
  {
   "cell_type": "code",
   "execution_count": 13,
   "metadata": {},
   "outputs": [
    {
     "name": "stdout",
     "output_type": "stream",
     "text": [
      "{1, 2}\n"
     ]
    },
    {
     "ename": "TypeError",
     "evalue": "unhashable type: 'set'",
     "output_type": "error",
     "traceback": [
      "\u001b[0;31m---------------------------------------------------------------------------\u001b[0m",
      "\u001b[0;31mTypeError\u001b[0m                                 Traceback (most recent call last)",
      "\u001b[0;32m<ipython-input-13-08144693518c>\u001b[0m in \u001b[0;36m<module>\u001b[0;34m\u001b[0m\n\u001b[1;32m      2\u001b[0m \u001b[0mtmp\u001b[0m \u001b[0;34m=\u001b[0m \u001b[0mset\u001b[0m\u001b[0;34m(\u001b[0m\u001b[0;34m[\u001b[0m\u001b[0;36m1\u001b[0m\u001b[0;34m,\u001b[0m\u001b[0;36m2\u001b[0m\u001b[0;34m]\u001b[0m\u001b[0;34m)\u001b[0m\u001b[0;34m\u001b[0m\u001b[0;34m\u001b[0m\u001b[0m\n\u001b[1;32m      3\u001b[0m \u001b[0mprint\u001b[0m\u001b[0;34m(\u001b[0m\u001b[0mtmp\u001b[0m\u001b[0;34m)\u001b[0m\u001b[0;34m\u001b[0m\u001b[0;34m\u001b[0m\u001b[0m\n\u001b[0;32m----> 4\u001b[0;31m \u001b[0;32mif\u001b[0m \u001b[0mtmp\u001b[0m \u001b[0;32min\u001b[0m \u001b[0mdic\u001b[0m\u001b[0;34m:\u001b[0m\u001b[0;34m\u001b[0m\u001b[0;34m\u001b[0m\u001b[0m\n\u001b[0m\u001b[1;32m      5\u001b[0m     \u001b[0mprint\u001b[0m\u001b[0;34m(\u001b[0m\u001b[0;36m1\u001b[0m\u001b[0;34m)\u001b[0m\u001b[0;34m\u001b[0m\u001b[0;34m\u001b[0m\u001b[0m\n",
      "\u001b[0;31mTypeError\u001b[0m: unhashable type: 'set'"
     ]
    }
   ],
   "source": [
    "dic = {(1,2):2}\n",
    "tmp = set([1,2])\n",
    "print(tmp)\n",
    "if tmp in dic:\n",
    "    print(1)"
   ]
  },
  {
   "cell_type": "code",
   "execution_count": 4,
   "metadata": {},
   "outputs": [
    {
     "ename": "TypeError",
     "evalue": "descriptor 'add' requires a 'set' object but received a 'list'",
     "output_type": "error",
     "traceback": [
      "\u001b[0;31m---------------------------------------------------------------------------\u001b[0m",
      "\u001b[0;31mTypeError\u001b[0m                                 Traceback (most recent call last)",
      "\u001b[0;32m<ipython-input-4-6e53d1607f83>\u001b[0m in \u001b[0;36m<module>\u001b[0;34m\u001b[0m\n\u001b[1;32m      1\u001b[0m \u001b[0ms\u001b[0m \u001b[0;34m=\u001b[0m \u001b[0mset\u001b[0m\u001b[0;34m(\u001b[0m\u001b[0;34m)\u001b[0m\u001b[0;34m\u001b[0m\u001b[0;34m\u001b[0m\u001b[0m\n\u001b[0;32m----> 2\u001b[0;31m \u001b[0mset\u001b[0m\u001b[0;34m.\u001b[0m\u001b[0madd\u001b[0m\u001b[0;34m(\u001b[0m\u001b[0;34m[\u001b[0m\u001b[0;36m1\u001b[0m\u001b[0;34m,\u001b[0m\u001b[0;36m2\u001b[0m\u001b[0;34m]\u001b[0m\u001b[0;34m)\u001b[0m\u001b[0;34m\u001b[0m\u001b[0;34m\u001b[0m\u001b[0m\n\u001b[0m",
      "\u001b[0;31mTypeError\u001b[0m: descriptor 'add' requires a 'set' object but received a 'list'"
     ]
    }
   ],
   "source": [
    "s = set()\n",
    "set.add([1,2])"
   ]
  },
  {
   "cell_type": "markdown",
   "metadata": {},
   "source": [
    "## 46. (2) Permutations (List, Recursion-Backtracking, Queue-Backtracking) (Amazon 7, Facebook 6)  \n",
    "O(n x n!)   \n",
    "O(N!)"
   ]
  },
  {
   "cell_type": "markdown",
   "metadata": {},
   "source": [
    "<img src=\"Screen Shot 2019-10-22 at 4.00.20 PM.png\">"
   ]
  },
  {
   "cell_type": "code",
   "execution_count": null,
   "metadata": {},
   "outputs": [],
   "source": [
    "class Solution:\n",
    "    def permute(self, nums):\n",
    "        result = []\n",
    "        queue = [[]]\n",
    "\n",
    "        for n in nums:\n",
    "            # we will take all existing permutations and add the current number to create new permutations\n",
    "\n",
    "            for i in range(len(queue)):\n",
    "                old = queue.pop(0)\n",
    "                # create a new permutation by adding the current number at every position\n",
    "#                 print(old)\n",
    "                \n",
    "                for j in range(len(old)+1):\n",
    "                    new = old.copy()\n",
    "#                     print(new)\n",
    "                    new.insert(j, n)\n",
    "#                     print(new)\n",
    "                    if len(new) != len(nums):\n",
    "                        queue.append(new)\n",
    "                    else:\n",
    "                        result.append(new)\n",
    "\n",
    "        return result"
   ]
  },
  {
   "cell_type": "code",
   "execution_count": 22,
   "metadata": {},
   "outputs": [
    {
     "data": {
      "text/plain": [
       "0"
      ]
     },
     "execution_count": 22,
     "metadata": {},
     "output_type": "execute_result"
    }
   ],
   "source": [
    "array = []\n",
    "len(array)"
   ]
  },
  {
   "cell_type": "code",
   "execution_count": null,
   "metadata": {},
   "outputs": [],
   "source": [
    "class Solution:\n",
    "    def permute(self, nums):\n",
    "        \"\"\"\n",
    "        :type nums: List[int]\n",
    "        :rtype: List[List[int]]\n",
    "        \"\"\"\n",
    "        \n",
    "        def backtrack(nums, path):\n",
    "            if not nums:\n",
    "                res.append(path)\n",
    "                # return # backtracking\n",
    "            for i in range(len(nums)):\n",
    "                backtrack(nums[:i]+nums[i+1:], path+[nums[i]])\n",
    "\n",
    "        \n",
    "        res = []\n",
    "        dfs(nums, [])\n",
    "        return res"
   ]
  },
  {
   "cell_type": "code",
   "execution_count": null,
   "metadata": {},
   "outputs": [],
   "source": [
    "def generate_permutations(nums):\n",
    "    result = []\n",
    "    generate_permutations_recursive(nums, 0, [], result)\n",
    "    return result\n",
    "\n",
    "\n",
    "def backtrack(nums, index, currentPermutation, result):\n",
    "    if index == len(nums):\n",
    "        result.append(currentPermutation)\n",
    "    else:\n",
    "        # create a new permutation by adding the current number at every position\n",
    "        for i in range(len(currentPermutation)+1):\n",
    "            newPermutation = list(currentPermutation)\n",
    "            newPermutation.insert(i, nums[index])\n",
    "            backtrack(nums, index + 1, newPermutation, result)"
   ]
  },
  {
   "cell_type": "code",
   "execution_count": null,
   "metadata": {},
   "outputs": [],
   "source": [
    "class Solution:\n",
    "    def permute(self, nums):\n",
    "        \"\"\"\n",
    "        :type nums: List[int]\n",
    "        :rtype: List[List[int]]\n",
    "        \"\"\"\n",
    "        if not nums:\n",
    "            return [[]]\n",
    "        \n",
    "        \n",
    "        def backtrack(first):\n",
    "            # if all integers are used up\n",
    "            if first == len(nums):  \n",
    "                res.append(nums[:])\n",
    "                return\n",
    "                \n",
    "            for i in range(first, len(nums)):\n",
    "                # place i-th integer first \n",
    "                # in the current permutation\n",
    "                nums[first], nums[i] = nums[i], nums[first]\n",
    "                # use next integers to complete the permutations\n",
    "                backtrack(first + 1)\n",
    "                # backtrack\n",
    "                nums[first], nums[i] = nums[i], nums[first]\n",
    "        \n",
    "        res = []\n",
    "        backtrack(0)\n",
    "        return res"
   ]
  },
  {
   "cell_type": "code",
   "execution_count": 4,
   "metadata": {},
   "outputs": [
    {
     "data": {
      "text/plain": [
       "[1, 2, 3, [4, 5, 6]]"
      ]
     },
     "execution_count": 4,
     "metadata": {},
     "output_type": "execute_result"
    }
   ],
   "source": [
    "nums = [1,2,3]\n",
    "nums2 = [4,5,6]\n",
    "nums.append(nums2)\n",
    "nums"
   ]
  },
  {
   "cell_type": "markdown",
   "metadata": {},
   "source": [
    "## Rhyme Schemes (Google Phone)"
   ]
  },
  {
   "cell_type": "code",
   "execution_count": 43,
   "metadata": {},
   "outputs": [
    {
     "name": "stdout",
     "output_type": "stream",
     "text": [
      "['AA', 'AB']\n"
     ]
    }
   ],
   "source": [
    "def find_rythm(n):\n",
    "    ans = []\n",
    "    def backtrack(rythm = ''):\n",
    "        if len(rythm) == n:\n",
    "            convert = ''\n",
    "            for c in rythm:\n",
    "                convert += chr(int(c)+64)\n",
    "            ans.append(convert)\n",
    "            return\n",
    "        \n",
    "        max_val = 1 + max([int(num) for num in rythm]) if rythm else 1\n",
    "        \n",
    "#         max_val = max([int(num) for num in rythm] or [0])+1\n",
    "        for i in range(1, max_val + 1):\n",
    "            backtrack(rythm + str(i))\n",
    "            \n",
    "    backtrack()\n",
    "    return ans\n",
    "\n",
    "print(find_rythm(2))"
   ]
  },
  {
   "cell_type": "code",
   "execution_count": 33,
   "metadata": {},
   "outputs": [
    {
     "data": {
      "text/plain": [
       "49"
      ]
     },
     "execution_count": 33,
     "metadata": {},
     "output_type": "execute_result"
    }
   ],
   "source": [
    "ord('1')"
   ]
  },
  {
   "cell_type": "markdown",
   "metadata": {},
   "source": [
    "## 93. Restore IP Addresses (String. Recursion-Backtracking) (Microsoft 4, Amazon 3)  \n",
    "O(2^N)  \n",
    "O(1)"
   ]
  },
  {
   "cell_type": "code",
   "execution_count": null,
   "metadata": {},
   "outputs": [],
   "source": [
    "class Solution:\n",
    "    def restoreIpAddresses(self, s):\n",
    "        \"\"\"\n",
    "        :type s: str\n",
    "        :rtype: List[str]\n",
    "        \"\"\"\n",
    "        if len(s) > 12 or len(s) < 4:\n",
    "            return []\n",
    "\n",
    "        def isValid(ip):\n",
    "            if ip.count('.') != 3:\n",
    "                return False\n",
    "            \n",
    "            array = ip.split('.')\n",
    "            for num in array:\n",
    "                if not num or int(num) > 255 or (len(num) > 1 and num[0] == '0'):\n",
    "                    return False\n",
    "            return True\n",
    "\n",
    "        res = []\n",
    "        def backtrack(cur, idx, cnt):\n",
    "            if cnt == 3:\n",
    "                if isValid(cur):\n",
    "                    res.append(cur)\n",
    "                return\n",
    "            \n",
    "            if idx > len(cur) - 1:\n",
    "                return\n",
    "            \n",
    "            backtrack(cur[:idx] + '.' + cur[idx:], idx + 2, cnt+1)\n",
    "            backtrack(cur, idx+1, cnt)\n",
    "\n",
    "        backtrack(s, 0, 0)\n",
    "        return res"
   ]
  },
  {
   "cell_type": "markdown",
   "metadata": {},
   "source": [
    "## 79. Word Search (String Matrix, Recursion-Backtracking) (Amazon 15, Microsoft 8, Uber 7, Facebook 7)\n",
    "\n",
    "O(m*n)  \n",
    "O(1)"
   ]
  },
  {
   "cell_type": "code",
   "execution_count": null,
   "metadata": {},
   "outputs": [],
   "source": [
    "class Solution:\n",
    "    def exist(self, matrix, word):\n",
    "        \"\"\"\n",
    "        :type board: List[List[str]]\n",
    "        :type word: str\n",
    "        :rtype: bool\n",
    "        \"\"\"\n",
    "        if not matrix:\n",
    "            return False\n",
    "        if not word:\n",
    "            return True\n",
    "\n",
    "        def backtrack(i, j, idx = 0):\n",
    "            if idx == len(word):\n",
    "                return True\n",
    "            \n",
    "            if i < 0 or i > m - 1 or j < 0 or j > n - 1 or matrix[i][j] != word[idx]:\n",
    "                return False\n",
    "               \n",
    "            tmp = matrix[i][j]\n",
    "            matrix[i][j] = '*'\n",
    "            res = backtrack(i+1, j, idx+1) or \\\n",
    "                  backtrack(i, j+1, idx+1) or \\\n",
    "                  backtrack(i-1, j, idx+1) or \\\n",
    "                  backtrack(i, j-1, idx+1)\n",
    "            matrix[i][j] = tmp\n",
    "            return res\n",
    "        \n",
    "        m = len(matrix)\n",
    "        n = len(matrix[0])\n",
    "        for i in range(m):\n",
    "            for j in range(n):\n",
    "                if backtrack(i, j):\n",
    "                    return True\n",
    "        return False"
   ]
  },
  {
   "cell_type": "code",
   "execution_count": null,
   "metadata": {},
   "outputs": [],
   "source": [
    "class Solution:\n",
    "    def exist(self, board, word):\n",
    "        if not board:\n",
    "            return False\n",
    "        if not word:\n",
    "            return True\n",
    "        \n",
    "        # check whether can find word, start at (i,j) position    \n",
    "        def dfs(i, j, word):\n",
    "            if len(word) == 0: # all the characters are checked\n",
    "                return True\n",
    "            if i < 0 or i >= len(board) or j < 0 or j >= len(board[0]) or word[0] != board[i][j]:\n",
    "                return False\n",
    "            tmp = board[i][j]  # first character is found, check the remaining part\n",
    "            board[i][j] = \"#\"  # avoid visit agian \n",
    "            # check whether can find \"word\" along one direction\n",
    "            res = dfs(i+1, j, word[1:]) or \\\n",
    "                  dfs(i-1, j, word[1:]) or \\\n",
    "                  dfs(i, j+1, word[1:]) or \\\n",
    "                  dfs(i, j-1, word[1:])\n",
    "            board[i][j] = tmp\n",
    "            return res\n",
    "    \n",
    "        for i in range(len(board)):\n",
    "            for j in range(len(board[0])):\n",
    "                if dfs(i, j, word):\n",
    "                    return True\n",
    "        return False\n"
   ]
  },
  {
   "cell_type": "markdown",
   "metadata": {},
   "source": [
    "## 212. Word Search II (String Matrix, Recursion-Backtracking) (Amazon 13, Uber 5) (Hard)\n",
    "\n",
    "时间复杂度: O(row * col * max_len(words))  \n",
    "空间复杂度: O(N) length of words"
   ]
  },
  {
   "cell_type": "code",
   "execution_count": null,
   "metadata": {},
   "outputs": [],
   "source": [
    "class Solution:\n",
    "    def findWords(self, board, words):\n",
    "        \"\"\"\n",
    "        :type board: List[List[str]]\n",
    "        :type words: List[str]\n",
    "        :rtype: List[str]\n",
    "        \"\"\"\n",
    "        if not board or not words:\n",
    "            return\n",
    "\n",
    "        # build trie \n",
    "        trie = {}\n",
    "        for word in words:\n",
    "            t = trie\n",
    "            for c in word:\n",
    "                if c not in t:\n",
    "                    t[c] = {}\n",
    "                t = t[c]\n",
    "            t['#'] = '#'\n",
    "#         print('trie=',trie)\n",
    "\n",
    "        def backtrack(i, j, trie, path):\n",
    "            if '#' in trie:\n",
    "                res.add(path)\n",
    "        \n",
    "            if i < 0 or i > m-1 or j < 0 or j > n-1 or board[i][j] not in trie:\n",
    "                return\n",
    "        \n",
    "            c = board[i][j]\n",
    "            board[i][j] = '*' # backtracking\n",
    "            backtrack(i + 1, j, trie[c], path + c)\n",
    "            backtrack(i - 1, j, trie[c], path + c)\n",
    "            backtrack(i, j + 1, trie[c], path + c)\n",
    "            backtrack(i, j - 1, trie[c], path + c)\n",
    "            board[i][j] = c\n",
    "        \n",
    "        res = set()\n",
    "        \n",
    "        m = len(board)\n",
    "        n = len(board[0])\n",
    "        for i in range(m):\n",
    "            for j in range(n):\n",
    "                backtrack(i, j, trie, '')\n",
    "        return list(res)"
   ]
  },
  {
   "cell_type": "code",
   "execution_count": 15,
   "metadata": {},
   "outputs": [],
   "source": [
    "class Solution:\n",
    "    def findWords(self, board, words):\n",
    "        \"\"\"\n",
    "        :type board: List[List[str]]\n",
    "        :type words: List[str]\n",
    "        :rtype: List[str]\n",
    "        \"\"\"\n",
    "        if not board or not words:\n",
    "            return\n",
    "\n",
    "        # build trie \n",
    "        trie = {}\n",
    "        for word in words:\n",
    "            t = trie\n",
    "            for c in word:\n",
    "                if c not in t:\n",
    "                    t[c] = {}\n",
    "                t = t[c]\n",
    "            t['#'] = '#'\n",
    "#         print('trie=',trie)\n",
    "\n",
    "        def backtrack(i, j, trie, path):\n",
    "            if '#' in trie:\n",
    "                res.add(path)\n",
    "            \n",
    "            if i >= 0 and i < m and j >= 0 and j < n and board[i][j] in trie:\n",
    "                c = board[i][j]\n",
    "                board[i][j] = '*' # backtracking\n",
    "                backtrack(i + 1, j, trie[c], path + c)\n",
    "                backtrack(i - 1, j, trie[c], path + c)\n",
    "                backtrack(i, j + 1, trie[c], path + c)\n",
    "                backtrack(i, j - 1, trie[c], path + c)\n",
    "                board[i][j] = c\n",
    "        \n",
    "        res = set()\n",
    "        for i in range(len(board)):\n",
    "            for j in range(len(board[0])):\n",
    "                backtrack(i, j, trie, '')\n",
    "        return list(res)"
   ]
  },
  {
   "cell_type": "code",
   "execution_count": 16,
   "metadata": {},
   "outputs": [
    {
     "name": "stdout",
     "output_type": "stream",
     "text": [
      "trie= {'o': {'a': {'t': {'h': {'#': '#'}}}}, 'p': {'e': {'a': {'#': '#'}}}, 'e': {'a': {'t': {'#': '#'}}}, 'r': {'a': {'i': {'n': {'#': '#'}}}}}\n"
     ]
    },
    {
     "data": {
      "text/plain": [
       "['oath', 'eat']"
      ]
     },
     "execution_count": 16,
     "metadata": {},
     "output_type": "execute_result"
    }
   ],
   "source": [
    "board = [\n",
    "  ['o','a','a','n'],\n",
    "  ['e','t','a','e'],\n",
    "  ['i','h','k','r'],\n",
    "  ['i','f','l','v']\n",
    "]\n",
    "words = [\"oath\",\"pea\",\"eat\",\"rain\"]\n",
    "s = Solution()\n",
    "s.findWords(board, words)"
   ]
  },
  {
   "cell_type": "markdown",
   "metadata": {},
   "source": [
    "## 200. Number of Island (String Matrix, Recursion-Backtracking) (Amazon 75, Google 15, Microsoft 12)\n",
    "\n",
    "O(N*M)  \n",
    "O(1)"
   ]
  },
  {
   "cell_type": "code",
   "execution_count": null,
   "metadata": {},
   "outputs": [],
   "source": [
    "class Solution:\n",
    "    def numIslands(self, matrix):\n",
    "        \"\"\"\n",
    "        :type grid: List[List[str]]\n",
    "        :rtype: int\n",
    "        \"\"\"\n",
    "        \n",
    "        if not matrix:\n",
    "            return 0\n",
    "\n",
    "        def backtrack(i, j):\n",
    "            if i < 0 or i > len(matrix) - 1 or j < 0 or j > len(matrix[0]) - 1 or matrix[i][j] != '1':\n",
    "                return\n",
    "        \n",
    "            matrix[i][j] = '#'\n",
    "            backtrack(i+1, j)\n",
    "            backtrack(i-1, j)\n",
    "            backtrack(i, j+1)\n",
    "            backtrack(i, j-1)\n",
    "        \n",
    "        res = 0\n",
    "        for i in range(len(matrix)):\n",
    "            for j in range(len(matrix[0])):\n",
    "                if matrix[i][j] == '1':\n",
    "                    backtrack(i, j)\n",
    "                    res += 1\n",
    "        return res"
   ]
  },
  {
   "cell_type": "code",
   "execution_count": 71,
   "metadata": {},
   "outputs": [
    {
     "name": "stdout",
     "output_type": "stream",
     "text": [
      "4\n",
      "1\n",
      "1\n",
      "0\n",
      "0\n",
      "0\n",
      "1\n",
      "1\n",
      "0\n",
      "0\n",
      "0\n",
      "0\n",
      "0\n",
      "1\n",
      "0\n",
      "0\n",
      "0\n",
      "0\n",
      "0\n",
      "1\n",
      "1\n"
     ]
    }
   ],
   "source": [
    "grid = [[1,1,0,0,0],\n",
    "        [1,1,0,0,0],\n",
    "        [0,0,1,0,0],\n",
    "        [0,0,0,1,1]]\n",
    "\n",
    "print(len(grid))\n",
    "\n",
    "for i in range(len(grid)):\n",
    "    for j in range(len(grid[0])):\n",
    "        print(grid[i][j])"
   ]
  },
  {
   "cell_type": "markdown",
   "metadata": {},
   "source": [
    "## 130. Surrounded Regions (String Matrix, Recursion-Backtracking) (Google 2, Uber 2)"
   ]
  },
  {
   "cell_type": "code",
   "execution_count": null,
   "metadata": {},
   "outputs": [],
   "source": [
    "# 因为boundary上的'O'肯定不会被包围\n",
    "# 主要思路就是对boundary上是'O'的元素进行DFS，然后只要碰到'O'就继续走下去，直到碰到'X'或者碰到boundary，然后将这些'O'全部mark一下，即用'#'来替代，\n",
    "# 最后我们遍历整个board，如果是'#'就变回'O'，如果是'X'或者'O'就变成'X'。\n",
    "\n",
    "class Solution:\n",
    "    def solve(self, board):\n",
    "        \"\"\"\n",
    "        :type board: List[List[str]]\n",
    "        :rtype: void Do not return anything, modify board in-place instead.\n",
    "        \"\"\"\n",
    "        \n",
    "        if not board:\n",
    "            return\n",
    "        \n",
    "        def backtrack(i, j):\n",
    "            # 退出dfs的条件：1.走到boundary；2.遇到'X'\n",
    "            if i < 0 or i > row - 1 or j < 0 or j > col - 1 or board[i][j] != 'O': \n",
    "                return \n",
    "            board[i][j] = '#' # 表示该元素已被访问\n",
    "            backtrack(i - 1, j)\n",
    "            backtrack(i + 1, j)\n",
    "            backtrack(i, j - 1)\n",
    "            backtrack(i, j + 1)\n",
    "        \n",
    "        row = len(board)\n",
    "        col = len(board[0]) \n",
    "        \n",
    "        for i in range(row):\n",
    "            for j in range(col):\n",
    "                if i == 0 or j == 0 or i == row - 1 or j == col - 1: # 点在boundary上\n",
    "                    if board[i][j] == 'O': # 如果boundary上的元素为O,则进行dfs\n",
    "                        backtrack(i, j)\n",
    "                        \n",
    "        for i in range(row):\n",
    "            for j in range(col):\n",
    "                if board[i][j] == '#':\n",
    "                    board[i][j] = 'O'\n",
    "                else:\n",
    "                    board[i][j] = 'X'"
   ]
  },
  {
   "cell_type": "markdown",
   "metadata": {},
   "source": [
    "51. N-Queens"
   ]
  },
  {
   "cell_type": "markdown",
   "metadata": {},
   "source": [
    "## 947. Most Stones Removed with Same Row or Column (Matrix, Recursion-Backtracking) (Google 8)\n",
    "O(MN)  \n",
    "O(MN)\n",
    "https://www.jianshu.com/p/30d2058db7f7"
   ]
  },
  {
   "cell_type": "code",
   "execution_count": 28,
   "metadata": {},
   "outputs": [],
   "source": [
    "import collections\n",
    "class Solution:\n",
    "    def removeStones(self, points):\n",
    "        \"\"\"\n",
    "        :type stones: List[List[int]]\n",
    "        :rtype: int\n",
    "        \"\"\"\n",
    "        \n",
    "        index = collections.defaultdict(set)\n",
    "        for i, j in points:\n",
    "            index[i].add(j + 10000)\n",
    "            index[j + 10000].add(i)\n",
    "\n",
    "        print(index)    \n",
    "\n",
    "        def backtrack(i):\n",
    "            seen.add(i)\n",
    "            for j in index[i]:\n",
    "                if j not in seen:\n",
    "                    backtrack(j)\n",
    "\n",
    "        seen = set()\n",
    "        islands = 0\n",
    "        for i, j in points:\n",
    "            if i not in seen:\n",
    "                islands += 1\n",
    "                backtrack(i)\n",
    "                backtrack(j + 10000)\n",
    "        return len(points) - islands"
   ]
  },
  {
   "cell_type": "code",
   "execution_count": 29,
   "metadata": {},
   "outputs": [
    {
     "name": "stdout",
     "output_type": "stream",
     "text": [
      "defaultdict(<class 'set'>, {0: {10000, 10001}, 10000: {0, 1}, 10001: {0, 2}, 1: {10000, 10002}, 10002: {1, 2}, 2: {10001, 10002}})\n"
     ]
    },
    {
     "data": {
      "text/plain": [
       "5"
      ]
     },
     "execution_count": 29,
     "metadata": {},
     "output_type": "execute_result"
    }
   ],
   "source": [
    "s = Solution()\n",
    "stones = [[0,0],[0,1],[1,0],[1,2],[2,1],[2,2]]\n",
    "s.removeStones(stones)"
   ]
  },
  {
   "cell_type": "markdown",
   "metadata": {},
   "source": [
    "## 529. Minesweeper (Uber 10, Amazon 4, Microsoft 3)"
   ]
  },
  {
   "cell_type": "code",
   "execution_count": null,
   "metadata": {},
   "outputs": [],
   "source": [
    "class Solution:\n",
    "    def updateBoard(self, board, click):\n",
    "        \"\"\"\n",
    "        :type board: List[List[str]]\n",
    "        :type click: List[int]\n",
    "        :rtype: List[List[str]]\n",
    "        \"\"\"\n",
    "        if not board:\n",
    "            return []\n",
    "\n",
    "        m, n = len(board), len(board[0])\n",
    "        i, j = click[0], click[1]\n",
    "\n",
    "        # If a mine ('M') is revealed, then the game is over - change it to 'X'.\n",
    "        if board[i][j] == 'M':\n",
    "            board[i][j] = 'X'\n",
    "            return board\n",
    "\n",
    "        \n",
    "        def dfs(board, i, j):\n",
    "            if i < 0 or i > m - 1 or j < 0 or j > n - 1 or board[i][j] != 'E':\n",
    "                return\n",
    "  \n",
    "            directions = [(-1,-1), (0,-1), (1,-1), (1,0), (1,1), (0,1), (-1,1), (-1,0)]\n",
    "\n",
    "            mine_count = 0\n",
    "\n",
    "            for d in directions:\n",
    "                ni, nj = i + d[0], j + d[1]\n",
    "                if 0 <= ni < m and 0 <= nj < n and board[ni][nj] == 'M':        \n",
    "                    mine_count += 1\n",
    "\n",
    "            if mine_count == 0:\n",
    "                board[i][j] = 'B'\n",
    "            else:\n",
    "                board[i][j] = str(mine_count)\n",
    "                return\n",
    "            \n",
    "            dfs(board, i+1, j)\n",
    "            dfs(board, i+1, j+1)\n",
    "            dfs(board, i+1, j-1)\n",
    "            dfs(board, i-1, j)\n",
    "            dfs(board, i-1, j-1)\n",
    "            dfs(board, i-1, j+1)\n",
    "            dfs(board, i, j+1)\n",
    "            dfs(board, i, j-1)\n",
    "        \n",
    "        # run dfs to reveal the board\n",
    "        dfs(board, i, j)\n",
    "        return board "
   ]
  },
  {
   "cell_type": "code",
   "execution_count": null,
   "metadata": {},
   "outputs": [],
   "source": [
    "class Solution:\n",
    "    def updateBoard(self, board, click):\n",
    "        \"\"\"\n",
    "        :type board: List[List[str]]\n",
    "        :type click: List[int]\n",
    "        :rtype: List[List[str]]\n",
    "        \"\"\"\n",
    "        if not board:\n",
    "            return []\n",
    "\n",
    "        m, n = len(board), len(board[0])\n",
    "        i, j = click[0], click[1]\n",
    "\n",
    "        # If a mine ('M') is revealed, then the game is over - change it to 'X'.\n",
    "        if board[i][j] == 'M':\n",
    "            board[i][j] = 'X'\n",
    "            return board\n",
    "\n",
    "        \n",
    "        def dfs(board, i, j):\n",
    "            if board[i][j] != 'E':\n",
    "                return\n",
    "     \n",
    "            directions = [(-1,-1), (0,-1), (1,-1), (1,0), (1,1), (0,1), (-1,1), (-1,0)]\n",
    "\n",
    "            mine_count = 0\n",
    "\n",
    "            for d in directions:\n",
    "                ni, nj = i + d[0], j + d[1]\n",
    "                if 0 <= ni < m and 0 <= nj < n and board[ni][nj] == 'M':        \n",
    "                    mine_count += 1\n",
    "\n",
    "            if mine_count == 0:\n",
    "                board[i][j] = 'B'\n",
    "            else:\n",
    "                board[i][j] = str(mine_count)\n",
    "                return\n",
    "\n",
    "            for d in directions:\n",
    "                ni, nj = i + d[0], j + d[1]\n",
    "                if 0 <= ni < m and 0 <= nj < n:\n",
    "                    dfs(board, ni, nj)\n",
    "        \n",
    "        # run dfs to reveal the board\n",
    "        dfs(board, i, j)\n",
    "        return board "
   ]
  },
  {
   "cell_type": "markdown",
   "metadata": {},
   "source": [
    "## 489. Robot Room Cleaner (DFS, Recursion) (Facebook 6, Google 5) (Hard)\n",
    "\n"
   ]
  },
  {
   "cell_type": "code",
   "execution_count": null,
   "metadata": {},
   "outputs": [],
   "source": [
    "# \"\"\"\n",
    "# This is the robot's control interface.\n",
    "# You should not implement it, or speculate about its implementation\n",
    "# \"\"\"\n",
    "#class Robot:\n",
    "#    def move(self):\n",
    "#        \"\"\"\n",
    "#        Returns true if the cell in front is open and robot moves into the cell.\n",
    "#        Returns false if the cell in front is blocked and robot stays in the current cell.\n",
    "#        :rtype bool\n",
    "#        \"\"\"\n",
    "#\n",
    "#    def turnLeft(self):\n",
    "#        \"\"\"\n",
    "#        Robot will stay in the same cell after calling turnLeft/turnRight.\n",
    "#        Each turn will be 90 degrees.\n",
    "#        :rtype void\n",
    "#        \"\"\"\n",
    "#\n",
    "#    def turnRight(self):\n",
    "#        \"\"\"\n",
    "#        Robot will stay in the same cell after calling turnLeft/turnRight.\n",
    "#        Each turn will be 90 degrees.\n",
    "#        :rtype void\n",
    "#        \"\"\"\n",
    "#\n",
    "#    def clean(self):\n",
    "#        \"\"\"\n",
    "#        Clean the current cell.\n",
    "#        :rtype void\n",
    "#        \"\"\"\n",
    "\n",
    "class Solution:\n",
    "    def cleanRoom(self, robot):\n",
    "        \"\"\"\n",
    "        :type robot: Robot\n",
    "        :rtype: None\n",
    "        \"\"\"\n",
    "        visited = set()\n",
    "        \n",
    "        def dfs(robot, x = 0, y = 0, direct_x = 0, direct_y = 1):\n",
    "            \n",
    "            robot.clean()\n",
    "            visited.add((x, y))\n",
    "\n",
    "            for k in range(4):\n",
    "                next_x = x + direct_x\n",
    "                next_y = y + direct_y\n",
    "                \n",
    "                if (next_x, next_y) not in visited and robot.move():\n",
    "                    dfs(robot, next_x, next_y, direct_x, direct_y)\n",
    "                    robot.turnLeft()\n",
    "                    robot.turnLeft()\n",
    "                    robot.move()\n",
    "                    robot.turnLeft()\n",
    "                    robot.turnLeft()\n",
    "                    \n",
    "                robot.turnLeft()\n",
    "                direct_x, direct_y = -direct_y, direct_x\n",
    "        \n",
    "        dfs(robot)"
   ]
  },
  {
   "cell_type": "markdown",
   "metadata": {},
   "source": [
    "## 37. Sudoku Solver"
   ]
  },
  {
   "cell_type": "code",
   "execution_count": null,
   "metadata": {},
   "outputs": [],
   "source": [
    "def solveSudoku(self, board: List[List[str]]) -> None:\n",
    "        row = [set(range(1, 10)) for _ in range(9)]  # 行剩余可用数字\n",
    "        col = [set(range(1, 10)) for _ in range(9)]  # 列剩余可用数字\n",
    "        block = [set(range(1, 10)) for _ in range(9)]  # 块剩余可用数字\n",
    "\n",
    "        empty = []  # 收集需填数位置\n",
    "        for i in range(9):\n",
    "            for j in range(9):\n",
    "                if board[i][j] != '.':  # 更新可用数字\n",
    "                    val = int(board[i][j])\n",
    "                    row[i].remove(val)\n",
    "                    col[j].remove(val)\n",
    "                    block[(i // 3)*3 + j // 3].remove(val)\n",
    "                else:\n",
    "                    empty.append((i, j))\n",
    "\n",
    "        def backtrack(iter=0):\n",
    "            if iter == len(empty):  # 处理完empty代表找到了答案\n",
    "                return True\n",
    "            i, j = empty[iter]\n",
    "            b = (i // 3)*3 + j // 3\n",
    "            for val in row[i] & col[j] & block[b]:\n",
    "                row[i].remove(val)\n",
    "                col[j].remove(val)\n",
    "                block[b].remove(val)\n",
    "                board[i][j] = str(val)\n",
    "                if backtrack(iter+1):\n",
    "                    return True\n",
    "                row[i].add(val)  # 回溯\n",
    "                col[j].add(val)\n",
    "                block[b].add(val)\n",
    "            return False\n",
    "        backtrack()"
   ]
  },
  {
   "cell_type": "markdown",
   "metadata": {},
   "source": [
    "## 805. Split Array With Same Average (List, Recursion-Backtracking) (Microsoft 2) (Hard)"
   ]
  },
  {
   "cell_type": "code",
   "execution_count": null,
   "metadata": {},
   "outputs": [],
   "source": [
    "class Solution:\n",
    "    def splitArraySameAverage(self, nums):\n",
    "        \"\"\"\n",
    "        :type nums: List[int]\n",
    "        :rtype: bool\n",
    "        \"\"\"      \n",
    "        nums.sort()\n",
    "\n",
    "# \t\t从数组nums中，找到k个数之和等于target的可能性\n",
    "# \t\tcombination sum II 或者 k sum那两道题的简易版\n",
    "        def dfs(nums, k, target, index):\n",
    "            if not k and not target:\n",
    "                return True\n",
    "\n",
    "            if not k or target < 0:\n",
    "                return False\n",
    "\n",
    "            for i in range(index, len(nums)):\n",
    "                if i > index and nums[i] == nums[i -1]:\n",
    "                    continue\n",
    "\n",
    "                if target < nums[i] * k or target > nums[-1] * k:\n",
    "                    break\n",
    "\n",
    "                if dfs(nums, k - 1, target - nums[i], i + 1):\n",
    "                    return True\n",
    "\n",
    "            return False\n",
    "        \n",
    "        #个数不会超过数组总个数的一半 + 1\n",
    "        for i in range(1, len(nums) // 2 + 1):\n",
    "#             i个数 x sum（nums） ==  i个数之和 x len(nums)\n",
    "#             所以 sum（nums） x i ➗ len(nums) == i个数之和 必然是整数\n",
    "            if sum(nums) * i % len(nums):\n",
    "                continue\n",
    "                 \n",
    "#             从数组nums中，找到k个数之和等于target的可能性\n",
    "            if dfs(nums, i, sum(nums) * i // len(nums), 0):\n",
    "                return True\n",
    "        \n",
    "        return False    "
   ]
  },
  {
   "cell_type": "markdown",
   "metadata": {},
   "source": [
    "## 733. Flood Fill (DFS-Recursion) (Amazon 8)\n",
    "\n",
    "O(N)  \n",
    "O(N)"
   ]
  },
  {
   "cell_type": "code",
   "execution_count": null,
   "metadata": {},
   "outputs": [],
   "source": [
    "class Solution(object):\n",
    "    def floodFill(self, image, sr, sc, newColor):\n",
    "        m, n = len(image), len(image[0])\n",
    "        color = image[sr][sc]\n",
    "        if color == newColor: \n",
    "            return image\n",
    "        \n",
    "        def dfs(r, c):\n",
    "            if image[r][c] == color:\n",
    "                image[r][c] = newColor\n",
    "                if r >= 1: \n",
    "                    dfs(r-1, c)\n",
    "                if r+1 < m: \n",
    "                    dfs(r+1, c)\n",
    "                if c >= 1: \n",
    "                    dfs(r, c-1)\n",
    "                if c+1 < n: \n",
    "                    dfs(r, c+1)\n",
    "\n",
    "        dfs(sr, sc)\n",
    "        return image"
   ]
  },
  {
   "cell_type": "markdown",
   "metadata": {
    "toc-hr-collapsed": false
   },
   "source": [
    "## 675. Cut Off Trees for Golf Event (BFS-Iteration) (Amazon 6) (Hard)\n"
   ]
  },
  {
   "cell_type": "code",
   "execution_count": null,
   "metadata": {},
   "outputs": [],
   "source": [
    "from collections import deque\n",
    "\n",
    "class Solution:\n",
    "    def cutOffTree(self, forest):\n",
    "        trees = sorted((v, r, c) for r, row in enumerate(forest)\n",
    "                       for c, v in enumerate(row) if v > 1)\n",
    "        sr = sc = ans = 0\n",
    "        \n",
    "        def bfs(forest, sr, sc, tr, tc):\n",
    "            R, C = len(forest), len(forest[0])\n",
    "            queue = deque([(sr, sc, 0)])\n",
    "            seen = {(sr, sc)}\n",
    "            while queue:\n",
    "                r, c, d = queue.popleft()\n",
    "                if r == tr and c == tc:\n",
    "                    return d\n",
    "                for nr, nc in ((r-1, c), (r+1, c), (r, c-1), (r, c+1)):\n",
    "                    if (0 <= nr < R and 0 <= nc < C and\n",
    "                            (nr, nc) not in seen and forest[nr][nc]):\n",
    "                        seen.add((nr, nc))\n",
    "                        queue.append((nr, nc, d+1))\n",
    "            return -1\n",
    "\n",
    "        \n",
    "        for _, tr, tc in trees:\n",
    "            d = bfs(forest, sr, sc, tr, tc)\n",
    "            if d < 0: \n",
    "                return -1\n",
    "            ans += d\n",
    "            sr, sc = tr, tc\n",
    "        return ans"
   ]
  }
 ],
 "metadata": {
  "kernelspec": {
   "display_name": "Python 3",
   "language": "python",
   "name": "python3"
  },
  "language_info": {
   "codemirror_mode": {
    "name": "ipython",
    "version": 3
   },
   "file_extension": ".py",
   "mimetype": "text/x-python",
   "name": "python",
   "nbconvert_exporter": "python",
   "pygments_lexer": "ipython3",
   "version": "3.8.1"
  }
 },
 "nbformat": 4,
 "nbformat_minor": 4
}
