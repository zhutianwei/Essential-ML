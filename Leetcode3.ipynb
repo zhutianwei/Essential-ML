{
 "cells": [
  {
   "cell_type": "code",
   "execution_count": 1,
   "metadata": {},
   "outputs": [],
   "source": [
    "from IPython.core.interactiveshell import InteractiveShell\n",
    "InteractiveShell.ast_node_interactivity = \"all\""
   ]
  },
  {
   "cell_type": "markdown",
   "metadata": {},
   "source": [
    "### Linked Lists. Pointers-Iteration. O(N) O(1)"
   ]
  },
  {
   "cell_type": "code",
   "execution_count": 15,
   "metadata": {},
   "outputs": [
    {
     "data": {
      "text/plain": [
       "2"
      ]
     },
     "execution_count": 15,
     "metadata": {},
     "output_type": "execute_result"
    },
    {
     "data": {
      "text/plain": [
       "3"
      ]
     },
     "execution_count": 15,
     "metadata": {},
     "output_type": "execute_result"
    }
   ],
   "source": [
    "class ListNode:\n",
    "    def __init__(self, x):\n",
    "        self.val = x\n",
    "        self.next = None\n",
    "        \n",
    "x= ListNode(2)\n",
    "l = []\n",
    "l.append(x)\n",
    "l[0].val\n",
    "\n",
    "x.val = 3\n",
    "l[0].val"
   ]
  },
  {
   "cell_type": "markdown",
   "metadata": {},
   "source": [
    "## 83. Remove Duplicates from Sorted List (Pointers-Iteration) (Amazon 6, Microsoft 2)\n",
    "O(N)  \n",
    "O(1)"
   ]
  },
  {
   "cell_type": "code",
   "execution_count": null,
   "metadata": {},
   "outputs": [],
   "source": [
    "class Solution:\n",
    "    def deleteDuplicates(self, head):\n",
    "        \"\"\"\n",
    "        :type head: ListNode\n",
    "        :rtype: ListNode\n",
    "        \"\"\"\n",
    "        tmp = head\n",
    "        while tmp and tmp.next:\n",
    "            if tmp.val == tmp.next.val:\n",
    "                tmp.next = tmp.next.next\n",
    "                \n",
    "            else:\n",
    "                tmp = tmp.next\n",
    "                \n",
    "        return head"
   ]
  },
  {
   "cell_type": "code",
   "execution_count": null,
   "metadata": {},
   "outputs": [],
   "source": [
    "class Solution:\n",
    "    def deleteDuplicates(self, head):\n",
    "        \"\"\"\n",
    "        :type head: ListNode\n",
    "        :rtype: ListNode\n",
    "        \"\"\"\n",
    "        cur = head\n",
    "        while cur and cur.next:\n",
    "            if cur.val == cur.next.val:\n",
    "                cur.next = cur.next.next\n",
    "                \n",
    "            else:\n",
    "                cur = cur.next\n",
    "                \n",
    "        return head"
   ]
  },
  {
   "cell_type": "markdown",
   "metadata": {},
   "source": [
    "## 206. Reverse Linked List (Pointers-Iteration or Recursion) (Amazon 24, Microsoft 9, Google 7)\n",
    "\n",
    "O(N)  \n",
    "O(1)"
   ]
  },
  {
   "cell_type": "code",
   "execution_count": null,
   "metadata": {},
   "outputs": [],
   "source": [
    "# Definition for singly-linked list.\n",
    "# class ListNode:\n",
    "#     def __init__(self, x):\n",
    "#         self.val = x\n",
    "#         self.next = None\n",
    "\n",
    "\n",
    "class Solution:        \n",
    "    def reverseList(self, head):  # Iterative\n",
    "        new = None\n",
    "        while head:\n",
    "            tmp = head.next\n",
    "            head.next = new\n",
    "            new = head\n",
    "            head = tmp\n",
    "        return new\n",
    "\n",
    "class Solution:        \n",
    "    def reverseList(self, head):  # Iterative\n",
    "        cur = head\n",
    "        new = None\n",
    "        while cur:\n",
    "            cur = cur.next\n",
    "            head.next = new\n",
    "            new = head\n",
    "            head = cur\n",
    "        return new"
   ]
  },
  {
   "cell_type": "code",
   "execution_count": null,
   "metadata": {},
   "outputs": [],
   "source": [
    "# O(N)\n",
    "# O(N)\n",
    "class Solution:\n",
    "    def reverseList(self, head): # Recursive\n",
    "        \"\"\"\n",
    "        :type head: ListNode\n",
    "        :rtype: ListNode\n",
    "        \"\"\"\n",
    "        def recursive(head, head2):\n",
    "            if head:\n",
    "                nxt = head.next\n",
    "                head.next = head2\n",
    "                return recursive(nxt, head)\n",
    "            else:\n",
    "                return head2\n",
    "\n",
    "        return recursive(head, None)"
   ]
  },
  {
   "cell_type": "markdown",
   "metadata": {},
   "source": [
    "## 92. (2) Reverse Linked List II (Pointers-Iteration) (Microsoft 4, Amazon 4)"
   ]
  },
  {
   "cell_type": "code",
   "execution_count": null,
   "metadata": {},
   "outputs": [],
   "source": [
    "class Solution:\n",
    "    def reverseKGroup(self, head, k):\n",
    "        if not head:\n",
    "            return \n",
    "        \n",
    "        a = b = head\n",
    "        \n",
    "        for i in range(k):\n",
    "            if not b:\n",
    "                return head\n",
    "            b = b.next\n",
    "        \n",
    "        def reverseList(head, end):  # Iterative\n",
    "            new = None\n",
    "            while head != end:\n",
    "                tmp = head.next\n",
    "                head.next = new\n",
    "                new = head\n",
    "                head = tmp\n",
    "            return new\n",
    "        \n",
    "        new = reverseList(a, b)\n",
    "        a.next = self.reverseKGroup(b, k)\n",
    "        return new"
   ]
  },
  {
   "cell_type": "code",
   "execution_count": null,
   "metadata": {},
   "outputs": [],
   "source": [
    "class Solution:\n",
    "    def reverseBetween(self, head, m, n):\n",
    "        \"\"\"\n",
    "        :type head: ListNode\n",
    "        :type m: int\n",
    "        :type n: int\n",
    "        :rtype: ListNode\n",
    "        \"\"\"\n",
    "        \n",
    "        if not head:\n",
    "            return \n",
    "        \n",
    "        new = ListNode(-1)\n",
    "        new.next = head\n",
    "        \n",
    "        left = new\n",
    "        for i in range(m-1):\n",
    "            left = left.next\n",
    "        \n",
    "        right = left.next\n",
    "        for i in range(n-m):\n",
    "            tmp = right.next\n",
    "            right.next = tmp.next\n",
    "            tmp.next = left.next\n",
    "            left.next = tmp\n",
    "        return new.next"
   ]
  },
  {
   "cell_type": "markdown",
   "metadata": {},
   "source": [
    "## (2) 328. Odd Even Linked List (Pointers-Iteration) (Microsoft 5)\n",
    "O(N)  \n",
    "O(1)"
   ]
  },
  {
   "cell_type": "code",
   "execution_count": null,
   "metadata": {},
   "outputs": [],
   "source": [
    "class Solution:\n",
    "    def oddEvenList(self, head):\n",
    "        \"\"\"\n",
    "        :type head: ListNode\n",
    "        :rtype: ListNode\n",
    "        \"\"\"\n",
    "        if not head:\n",
    "            return \n",
    "        \n",
    "        odd = head\n",
    "        even = head.next\n",
    "        tmp = even\n",
    "        \n",
    "        while even and even.next:\n",
    "            odd.next = even.next\n",
    "            odd = odd.next\n",
    "            even.next = odd.next\n",
    "            even = even.next\n",
    "            \n",
    "        odd.next = tmp\n",
    "        return head"
   ]
  },
  {
   "cell_type": "markdown",
   "metadata": {},
   "source": [
    "## 234. Palindrome Linked List (Pointers-Iteration) (Microsoft 6, Amazon 5)\n",
    "O(N)  \n",
    "O(1)"
   ]
  },
  {
   "cell_type": "code",
   "execution_count": null,
   "metadata": {},
   "outputs": [],
   "source": [
    "# Definition for singly-linked list.\n",
    "# class ListNode(object):\n",
    "#     def __init__(self, x):\n",
    "#         self.val = x\n",
    "#         self.next = None\n",
    "\n",
    "class Solution:\n",
    "    def isPalindrome(self, head):\n",
    "        \"\"\"\n",
    "        :type head: ListNode\n",
    "        :rtype: bool\n",
    "        \"\"\"\n",
    "        fast = slow = head\n",
    "        # 找到中间节点\n",
    "        while fast and fast.next:\n",
    "            fast = fast.next.next\n",
    "            slow = slow.next\n",
    "        # 翻转后半部分\n",
    "        \n",
    "        new = None\n",
    "        while slow:\n",
    "            tmp = slow.next\n",
    "            slow.next = new\n",
    "            new = slow\n",
    "            slow = tmp \n",
    "            \n",
    "#         tmp = slow\n",
    "#         prev = None\n",
    "#         while slow:\n",
    "#             slow = slow.next\n",
    "#             tmp.next = prev\n",
    "#             prev = tmp\n",
    "#             tmp = slow\n",
    "                  \n",
    "        # 比较前后两部分\n",
    "        while new: # while prev and head:\n",
    "            if new.val != head.val:\n",
    "                return False\n",
    "            new = new.next\n",
    "            head = head.next\n",
    "        return True"
   ]
  },
  {
   "cell_type": "markdown",
   "metadata": {},
   "source": [
    "## 141. Linked List Cycle (Pointers-Iteration) (Amazon 5)\n",
    "\n",
    "O(N)  \n",
    "O(1)"
   ]
  },
  {
   "cell_type": "code",
   "execution_count": null,
   "metadata": {},
   "outputs": [],
   "source": [
    "class Solution:\n",
    "    def hasCycle(self, head):\n",
    "        \"\"\"\n",
    "        :type head: ListNode\n",
    "        :rtype: bool\n",
    "        \"\"\"\n",
    "        slow = fast = head\n",
    "        while fast and fast.next:\n",
    "            slow = slow.next\n",
    "            fast = fast.next.next\n",
    "            if slow == fast:\n",
    "                return True\n",
    "        return False"
   ]
  },
  {
   "cell_type": "markdown",
   "metadata": {},
   "source": [
    "## 160. Intersection of Two Linked List (Pointers-Iteration) (Microsoft 3)\n",
    "\n",
    "O(m+n)  \n",
    "O(1)"
   ]
  },
  {
   "cell_type": "code",
   "execution_count": 11,
   "metadata": {},
   "outputs": [],
   "source": [
    "class Solution:\n",
    "    def getIntersectionNode(self, head1, head2):\n",
    "        \"\"\"\n",
    "        :type head1, head1: ListNode\n",
    "        :rtype: ListNode\n",
    "        \"\"\"\n",
    "        first = head1\n",
    "        second = head2\n",
    "        while first is not second:\n",
    "            if first:\n",
    "                first = first.next\n",
    "            else:\n",
    "                first = head2\n",
    "                \n",
    "            if second:\n",
    "                second = second.next\n",
    "            else:\n",
    "                second = head1\n",
    "            \n",
    "#             p1 = p1.next if p1 else head2\n",
    "#             p2 = p2.next if p2 else head1\n",
    "        return first"
   ]
  },
  {
   "cell_type": "markdown",
   "metadata": {},
   "source": [
    "## 19. Remove Nth Node From End of List (Pointers-Iteration)(Microsoft 2)   \n",
    "O(N)  \n",
    "O(1)"
   ]
  },
  {
   "cell_type": "code",
   "execution_count": null,
   "metadata": {},
   "outputs": [],
   "source": [
    "# Definition for singly-linked list.\n",
    "# class ListNode:\n",
    "#     def __init__(self, x):\n",
    "#         self.val = x\n",
    "#         self.next = None\n",
    "\n",
    "class Solution:\n",
    "    def removeNthFromEnd(self, head, n):\n",
    "        \"\"\"\n",
    "        :type head: ListNode\n",
    "        :type n: int\n",
    "        :rtype: ListNode\n",
    "        \"\"\"\n",
    "        if not head:\n",
    "            return\n",
    "        \n",
    "        slow = fast = new = ListNode(0)\n",
    "        new.next = head\n",
    "        \n",
    "        for i in range(n):\n",
    "            fast = fast.next\n",
    "        \n",
    "        while fast and fast.next:\n",
    "            fast = fast.next\n",
    "            slow = slow.next\n",
    "        slow.next = slow.next.next\n",
    "        return new.next"
   ]
  },
  {
   "cell_type": "markdown",
   "metadata": {},
   "source": [
    "## 445. Add Two Numbers II (Math, Pointers-Iteration) (Microsoft 7)\n",
    "O(M+N)  \n",
    "O(N)"
   ]
  },
  {
   "cell_type": "code",
   "execution_count": null,
   "metadata": {},
   "outputs": [],
   "source": [
    "class Solution:\n",
    "    def addTwoNumbers(self, l1, l2):\n",
    "        \"\"\"\n",
    "        :type l1: ListNode\n",
    "        :type l2: ListNode\n",
    "        :rtype: ListNode\n",
    "        \"\"\"\n",
    "\n",
    "        x1 = 0\n",
    "        while l1:\n",
    "            x1 = x1 * 10 + l1.val\n",
    "            l1 = l1.next\n",
    "\n",
    "        x2 = 0\n",
    "        while l2:\n",
    "            x2 = x2 * 10 + l2.val\n",
    "            l2 = l2.next\n",
    "\n",
    "        x = x1 + x2\n",
    "\n",
    "        head = ListNode(0)\n",
    "        tmp = head\n",
    "        for c in str(x):\n",
    "            tmp.next = ListNode(int(c))\n",
    "            tmp = tmp.next\n",
    "            \n",
    "#         node_tmp = None\n",
    "#         while x > 0:\n",
    "#             n = x % 10\n",
    "#             new_node = ListNode(n)\n",
    "#             new_node.next = node_tmp\n",
    "#             node_tmp = new_node\n",
    "#             x = x // 10\n",
    "#         return node_tmp\n",
    "\n",
    "        return head.next"
   ]
  },
  {
   "cell_type": "markdown",
   "metadata": {},
   "source": [
    "## 2. Add Two Numbers (Math, Pointer-Iteration. Recursion) (Amazon 50, Google 16, Microsoft 16, Apple 15, Facebook 7)\n",
    "\n",
    "时间复杂度: O(N)  \n",
    "因为时间复杂度无法减小，我们一定得遍历完l1和l2的每一位才能得到最终的结果，O(N)没得商量  \n",
    "O(N)"
   ]
  },
  {
   "cell_type": "code",
   "execution_count": null,
   "metadata": {},
   "outputs": [],
   "source": [
    "class Solution:\n",
    "    def addTwoNumbers(self, l1, l2):\n",
    "        \"\"\"\n",
    "        :type l1: ListNode\n",
    "        :type l2: ListNode\n",
    "        :rtype: ListNode\n",
    "        \"\"\"\n",
    "        new = ListNode(0)\n",
    "        tmp = new\n",
    "        p = l1\n",
    "        q = l2\n",
    "        c = 0\n",
    "        \n",
    "        while p or q:\n",
    "            x = p.val if p else 0\n",
    "            y = q.val if q else 0\n",
    "            sums = x + y + c\n",
    "            c = sums// 10\n",
    "            tmp.next = ListNode(sums % 10)\n",
    "            tmp = tmp.next\n",
    "            \n",
    "            if p:\n",
    "                p = p.next\n",
    "                \n",
    "            if q:\n",
    "                q = q.next\n",
    "                \n",
    "        if c > 0:\n",
    "            tmp.next = ListNode(c)\n",
    "                \n",
    "        return new.next"
   ]
  },
  {
   "cell_type": "code",
   "execution_count": 19,
   "metadata": {},
   "outputs": [],
   "source": [
    "# Definition for singly-linked list.\n",
    "# class ListNode:\n",
    "#     def __init__(self, x):\n",
    "#         self.val = x\n",
    "#         self.next = None\n",
    "\n",
    "class Solution:\n",
    "    def addTwoNumbers(self, l1, l2, c = 0):\n",
    "        \"\"\"\n",
    "        :type l1: ListNode\n",
    "        :type l2: ListNode\n",
    "        :rtype: ListNode\n",
    "        \"\"\"\n",
    "        \n",
    "        val = l1.val + l2.val + c\n",
    "        c = val // 10\n",
    "        res = ListNode(val % 10) \n",
    "        \n",
    "        if l1.next or l2.next or c != 0:\n",
    "            if not l1.next:\n",
    "                l1.next = ListNode(0)\n",
    "            if not l2.next:\n",
    "                l2.next = ListNode(0)\n",
    "                \n",
    "            res.next = self.addTwoNumbers(l1.next, l2.next, c)\n",
    "        return res\n",
    "    \n",
    "# class Solution:\n",
    "#     def addTwoNumbers(self, l1, l2):\n",
    "#         \"\"\"\n",
    "#         :type l1: ListNode\n",
    "#         :type l2: ListNode\n",
    "#         :rtype: ListNode\n",
    "#         \"\"\"     \n",
    "#         # 因为处理到最后的时候，可能输入的 l1 和 l2 都不是一个 ListNode 而是 None 了\n",
    "#         if not l1 and not l2: \n",
    "#             return \n",
    "#         elif not (l1 and l2): # l1 和 l2 其中一个是 None \n",
    "#             return l1 or l2\n",
    "#         else: # l1 和 l2 都不是 None \n",
    "#             if l1.val + l2.val < 10: # 个位数相加没有进位\n",
    "#                 l3 = ListNode(l1.val+l2.val)\n",
    "#                 l3.next = self.addTwoNumbers(l1.next, l2.next) # 递归调用\n",
    "#             else: # # 个位数相加有进位\n",
    "#                 l3 = ListNode(l1.val+l2.val-10)\n",
    "#                 # 递归调用，记得加上进位\n",
    "#                 l3.next = self.addTwoNumbers(l1.next, self.addTwoNumbers(l2.next, ListNode(1)))\n",
    "#         return l3"
   ]
  },
  {
   "cell_type": "code",
   "execution_count": 17,
   "metadata": {},
   "outputs": [
    {
     "data": {
      "text/plain": [
       "2"
      ]
     },
     "execution_count": 17,
     "metadata": {},
     "output_type": "execute_result"
    }
   ],
   "source": [
    "%10"
   ]
  },
  {
   "cell_type": "markdown",
   "metadata": {},
   "source": [
    "## 21. Merge Two Sorted Lists (Pointers-Iteration. Recursion) (Amazon 31, Microsoft 14, Facebook 5)\n",
    "\n",
    "O(m+n)  \n",
    "O(1)"
   ]
  },
  {
   "cell_type": "code",
   "execution_count": null,
   "metadata": {},
   "outputs": [],
   "source": [
    "class Solution:\n",
    "    def mergeTwoLists(self, l1, l2):\n",
    "        # maintain an unchanging reference to node ahead of the return node.\n",
    "        \n",
    "        new = tmp = ListNode(0)\n",
    "\n",
    "        while l1 and l2:\n",
    "            if l1.val <= l2.val:\n",
    "                tmp.next = l1\n",
    "                tmp = tmp.next\n",
    "                l1 = l1.next\n",
    "            else:\n",
    "                tmp.next = l2\n",
    "                tmp = tmp.next\n",
    "                l2 = l2.next            \n",
    "            \n",
    "\n",
    "        # exactly one of l1 and l2 can be non-null at this point, so connect\n",
    "        # the non-null list to the end of the merged list.\n",
    "        tmp.next = l1 or l2\n",
    "\n",
    "        return new.next"
   ]
  },
  {
   "cell_type": "markdown",
   "metadata": {},
   "source": [
    "O(m+n)  \n",
    "O(m+n)"
   ]
  },
  {
   "cell_type": "code",
   "execution_count": 124,
   "metadata": {},
   "outputs": [],
   "source": [
    "class Solution:\n",
    "    def mergeTwoLists(self, l1, l2): \n",
    "#         if not l1 or not l2:\n",
    "#             return l1 or l2\n",
    "        \n",
    "#         if l1 == None:\n",
    "#             return l2\n",
    "#         elif l2 == None:\n",
    "#             return l1\n",
    "        \n",
    "        if not l1:\n",
    "            return l2\n",
    "        if not l2:\n",
    "            return l1\n",
    "        \n",
    "        if l1.val < l2.val:\n",
    "            l1.next = self.mergeTwoLists(l1.next, l2)\n",
    "            return l1\n",
    "        else:\n",
    "            l2.next = self.mergeTwoLists(l1, l2.next)\n",
    "            return l2\n",
    "    \n"
   ]
  },
  {
   "cell_type": "code",
   "execution_count": 123,
   "metadata": {},
   "outputs": [
    {
     "ename": "AttributeError",
     "evalue": "'NoneType' object has no attribute 'val'",
     "output_type": "error",
     "traceback": [
      "\u001b[0;31m---------------------------------------------------------------------------\u001b[0m",
      "\u001b[0;31mAttributeError\u001b[0m                            Traceback (most recent call last)",
      "\u001b[0;32m<ipython-input-123-49b6632b8b78>\u001b[0m in \u001b[0;36m<module>\u001b[0;34m\u001b[0m\n\u001b[1;32m      6\u001b[0m \u001b[0mx\u001b[0m\u001b[0;34m.\u001b[0m\u001b[0mval\u001b[0m\u001b[0;34m\u001b[0m\u001b[0;34m\u001b[0m\u001b[0m\n\u001b[1;32m      7\u001b[0m \u001b[0mx\u001b[0m\u001b[0;34m.\u001b[0m\u001b[0mnext\u001b[0m\u001b[0;34m.\u001b[0m\u001b[0mval\u001b[0m\u001b[0;34m\u001b[0m\u001b[0;34m\u001b[0m\u001b[0m\n\u001b[0;32m----> 8\u001b[0;31m \u001b[0mx\u001b[0m\u001b[0;34m.\u001b[0m\u001b[0mnext\u001b[0m\u001b[0;34m.\u001b[0m\u001b[0mnext\u001b[0m\u001b[0;34m.\u001b[0m\u001b[0mval\u001b[0m\u001b[0;34m\u001b[0m\u001b[0;34m\u001b[0m\u001b[0m\n\u001b[0m",
      "\u001b[0;31mAttributeError\u001b[0m: 'NoneType' object has no attribute 'val'"
     ]
    }
   ],
   "source": [
    "l1 = ListNode(1)\n",
    "l2 = ListNode(2)\n",
    "\n",
    "s = Solution()\n",
    "x = s.mergeTwoLists(l1,l2)\n",
    "x.val\n",
    "x.next.val"
   ]
  },
  {
   "cell_type": "code",
   "execution_count": 165,
   "metadata": {},
   "outputs": [
    {
     "name": "stdout",
     "output_type": "stream",
     "text": [
      "1\n"
     ]
    },
    {
     "data": {
      "text/plain": [
       "False"
      ]
     },
     "execution_count": 165,
     "metadata": {},
     "output_type": "execute_result"
    }
   ],
   "source": [
    "# def x(l1,l2):\n",
    "#     if l1 == None:\n",
    "#         return l2\n",
    "#     elif l2 == None:\n",
    "#         return l1\n",
    "    \n",
    "def x(l1, l2):\n",
    "    if not l1 or not l2:\n",
    "        return l1 or l2\n",
    "\n",
    "a = None\n",
    "b = ListNode(1)\n",
    "c = x(a,b)\n",
    "print(c.val)\n"
   ]
  },
  {
   "cell_type": "markdown",
   "metadata": {},
   "source": [
    "## 23. Merge k Sorted Lists (Pointers-Iteration. Recursion) (Amazon 36, Facebook 27, Microsoft 11) (Hard)\n",
    "\n",
    "O(NlogK)  \n",
    "O(N)"
   ]
  },
  {
   "cell_type": "code",
   "execution_count": null,
   "metadata": {},
   "outputs": [],
   "source": [
    "from Queue import PriorityQueue\n",
    "class Solution:\n",
    "    def mergeKLists(self, lists):\n",
    "        \"\"\"\n",
    "        :type lists: List[ListNode]\n",
    "        :rtype: ListNode\n",
    "        \"\"\"\n",
    "        new = tmp = ListNode(0)\n",
    "        queue = PriorityQueue()\n",
    "        \n",
    "        for head in lists:\n",
    "            if head:\n",
    "                queue.put((head.val, head))\n",
    "                \n",
    "        while not queue.empty():\n",
    "            val, head = queue.get()\n",
    "            tmp.next = head\n",
    "            tmp = tmp.next\n",
    "            head = head.next\n",
    "            if head:\n",
    "                queue.put((head.val, head))\n",
    "        return new.next"
   ]
  },
  {
   "cell_type": "code",
   "execution_count": null,
   "metadata": {},
   "outputs": [],
   "source": [
    "O(k*n)  \n",
    "O(k*n)"
   ]
  },
  {
   "cell_type": "code",
   "execution_count": null,
   "metadata": {},
   "outputs": [],
   "source": [
    "# Definition for singly-linked list.\n",
    "# class ListNode:\n",
    "#     def __init__(self, x):\n",
    "#         self.val = x\n",
    "#         self.next = None\n",
    "\n",
    "class Solution:\n",
    "    \"\"\"\n",
    "    :type lists: List[ListNode]\n",
    "    :rtype: ListNode\n",
    "    \"\"\"\n",
    "    \n",
    "    def mergeKLists(self, lists):\n",
    "        if not lists:\n",
    "            return \n",
    "        \n",
    "        return self.merge(lists, 0, len(lists) -1)\n",
    "    \n",
    "    def merge(self, lists, l, r):\n",
    "        if l == r:\n",
    "            return lists[l]\n",
    "        m = (l+r) // 2\n",
    "        l1 = self.merge(lists, l, m)\n",
    "        l2 = self.merge(lists, m+1, r)\n",
    "        return self.mergeTwoLists(l1, l2)\n",
    "    \n",
    "    def mergeTwoLists(self,l1, l2):\n",
    "        if not l1:\n",
    "            return l2\n",
    "        if not l2:\n",
    "            return l1\n",
    "        \n",
    "        if l1.val < l2.val:\n",
    "            l1.next = self.mergeTwoLists(l1.next, l2)\n",
    "            return l1\n",
    "        else:\n",
    "            l2.next = self.mergeTwoLists(l1, l2.next)\n",
    "            return l2\n",
    "        "
   ]
  },
  {
   "cell_type": "code",
   "execution_count": 24,
   "metadata": {},
   "outputs": [
    {
     "name": "stdout",
     "output_type": "stream",
     "text": [
      "0\n",
      "1\n",
      "2\n",
      "6\n"
     ]
    }
   ],
   "source": [
    "from queue import PriorityQueue\n",
    "q = PriorityQueue()\n",
    "for n in range(3):\n",
    "    q.put(n)\n",
    "\n",
    "while not q.empty():\n",
    "    x = q.get()\n",
    "    print(x)\n",
    "    \n",
    "q.put(6)\n",
    "while not q.empty():\n",
    "    y = q.get()\n",
    "    print(y)"
   ]
  },
  {
   "cell_type": "code",
   "execution_count": null,
   "metadata": {},
   "outputs": [],
   "source": [
    "Input:\n",
    "[[ 5, 12, 17, 21, 23],\n",
    " [ 1,  2,  4,  6,  8],\n",
    " [12, 14, 18, 19, 27],\n",
    " [ 3,  7,  9, 15, 25]]\n",
    "\n",
    "Output:\n",
    "[[ 1,  2,  3,  4,  5],\n",
    " [ 6,  7,  8,  9, 12],\n",
    " [12, 14, 15, 17, 18],\n",
    " [19, 21, 23, 25, 27]]"
   ]
  },
  {
   "cell_type": "markdown",
   "metadata": {},
   "source": [
    "## 24. Swap Node in Pair（Pointers-Iteration, Recursion) (Microsoft 5, Amazon 4)\n",
    "\n",
    "O(N)  \n",
    "O(1)"
   ]
  },
  {
   "cell_type": "code",
   "execution_count": null,
   "metadata": {},
   "outputs": [],
   "source": [
    "class Solution:\n",
    "    def swapPairs(self, head):\n",
    "        \"\"\"\n",
    "        :type head: ListNode\n",
    "        :rtype: ListNode\n",
    "        \"\"\"\n",
    "        if not head:\n",
    "            return \n",
    "        \n",
    "        cur = head\n",
    "        while cur and cur.next:\n",
    "            tmp = cur.val\n",
    "            cur.val = cur.next.val\n",
    "            cur.next.val = tmp     \n",
    "            cur = cur.next.next\n",
    "        return head"
   ]
  },
  {
   "cell_type": "code",
   "execution_count": null,
   "metadata": {},
   "outputs": [],
   "source": [
    "class Solution:\n",
    "    def swapPairs(self, head):\n",
    "        \"\"\"\n",
    "        :type head: ListNode\n",
    "        :rtype: ListNode\n",
    "        \"\"\"\n",
    "        if not head:\n",
    "            return \n",
    "        \n",
    "        if head and head.next:\n",
    "            temp = head.val\n",
    "            head.val = head.next.val\n",
    "            head.next.val = temp\n",
    "            self.swapPairs(head.next.next)\n",
    "        return head"
   ]
  },
  {
   "cell_type": "code",
   "execution_count": null,
   "metadata": {},
   "outputs": [],
   "source": [
    "class Solution:\n",
    "    def swapPairs(self, head):\n",
    "        \"\"\"\n",
    "        :type head: ListNode\n",
    "        :rtype: ListNode\n",
    "        \"\"\"\n",
    "        if not head or not head.next:\n",
    "            return head\n",
    "        \n",
    "        tmp = head.next\n",
    "        head.next = self.swapPairs(head.next.next)\n",
    "        tmp.next = head\n",
    "        return tmp"
   ]
  },
  {
   "cell_type": "code",
   "execution_count": null,
   "metadata": {},
   "outputs": [],
   "source": [
    "class Solution:\n",
    "    def swapPairs(self, head):\n",
    "        \"\"\"\n",
    "        :type head: ListNode\n",
    "        :rtype: ListNode\n",
    "        \"\"\"\n",
    "        if not head or not head.next:\n",
    "            return head\n",
    "\n",
    "        cur = dummy = ListNode(-1)\n",
    "        dummy.next = head\n",
    "\n",
    "        while cur.next and cur.next.next:\n",
    "            next_one, next_two, next_three = cur.next, cur.next.next, cur.next.next.next\n",
    "            cur.next = next_two\n",
    "            next_two.next = next_one\n",
    "            next_one.next = next_three\n",
    "            cur = next_one\n",
    "        return dummy.next"
   ]
  },
  {
   "cell_type": "markdown",
   "metadata": {},
   "source": [
    "## 61. Rotate List (Pointers-Iteration) (Amazon 2, Microsoft 2, Linkedin 2)"
   ]
  },
  {
   "cell_type": "markdown",
   "metadata": {},
   "source": [
    "O(N)  \n",
    "O(1)"
   ]
  },
  {
   "cell_type": "code",
   "execution_count": null,
   "metadata": {},
   "outputs": [],
   "source": [
    "class Solution:\n",
    "    def rotateRight(self, head: 'ListNode', k: 'int') -> 'ListNode':\n",
    "        # base cases\n",
    "        if not head:\n",
    "            return\n",
    "        if not head.next:\n",
    "            return head\n",
    "        \n",
    "        # close the linked list into the ring\n",
    "        old_tail = head\n",
    "        n = 1\n",
    "        while old_tail.next:\n",
    "            old_tail = old_tail.next\n",
    "            n += 1\n",
    "        old_tail.next = head\n",
    "        \n",
    "        # find new tail : (n - k % n - 1)th node\n",
    "        # and new head : (n - k % n)th node\n",
    "        new_tail = head\n",
    "        for i in range(n - k % n - 1):\n",
    "            new_tail = new_tail.next\n",
    "        new_head = new_tail.next\n",
    "        \n",
    "        # break the ring\n",
    "        new_tail.next = None\n",
    "        \n",
    "        return new_head"
   ]
  },
  {
   "cell_type": "markdown",
   "metadata": {},
   "source": [
    "## Order List  \n",
    "Merge sort"
   ]
  },
  {
   "cell_type": "code",
   "execution_count": null,
   "metadata": {},
   "outputs": [],
   "source": [
    "class Solution:\n",
    "    def sortList(self, head):\n",
    "        \"\"\"\n",
    "        :type head: ListNode\n",
    "        :rtype: ListNode\n",
    "        \"\"\"\n",
    "        if not head or not head.next:\n",
    "            return head\n",
    "\n",
    "        second = self.findMid(head) # 找到链表后半段的head\n",
    "        l = self.sortList(head)\n",
    "        r = self.sortList(second)\n",
    "        return self.merge(l, r)\n",
    "\n",
    "    def merge(self, l, r): # O(NlgN)\n",
    "        if not l or not r:\n",
    "            return l or r\n",
    "        dummy = head = ListNode(None)\n",
    "        head.next = l\n",
    "        while l and r:\n",
    "            if l.val < r.val:\n",
    "                head.next = l\n",
    "                l = l.next\n",
    "            else:\n",
    "                head.next = r\n",
    "                r = r.next\n",
    "            head = head.next\n",
    "        head.next = l or r # l and r at least one is None\n",
    "        return dummy.next\n",
    "\n",
    "    def findMid(self, head):\n",
    "        fast, slow = head, head \n",
    "        while fast.next and fast.next.next:\n",
    "            fast = fast.next.next\n",
    "            slow = slow.next\n",
    "        second = slow.next\n",
    "        slow.next = None\n",
    "        return second"
   ]
  },
  {
   "cell_type": "markdown",
   "metadata": {},
   "source": [
    "## (5) 138. Copy List with Random Pointer (Recursion) (Amazon 61, Microsoft 10, Facebook 5)\n",
    "\n",
    "时间复杂度: O(N)  \n",
    "O(N)"
   ]
  },
  {
   "cell_type": "code",
   "execution_count": null,
   "metadata": {},
   "outputs": [],
   "source": [
    "\"\"\"\n",
    "# Definition for a Node.\n",
    "class Node(object):\n",
    "    def __init__(self, val, next, random):\n",
    "        self.val = val\n",
    "        self.next = next\n",
    "        self.random = random\n",
    "\"\"\"\n",
    "class Solution:\n",
    "    \"\"\"\n",
    "    :type head: Node\n",
    "    :rtype: Node\n",
    "    \"\"\" \n",
    "    def copyRandomList(self, head):\n",
    "        \n",
    "        dic = {}\n",
    "        \n",
    "        def dfs(head):\n",
    "            if not head:\n",
    "                return \n",
    "\n",
    "            if head in dic:\n",
    "                return dic[head]\n",
    "\n",
    "            res = Node(head.val, None, None)\n",
    "\n",
    "            dic[head] = res\n",
    "\n",
    "            res.next = dfs(head.next)\n",
    "            res.random = dfs(head.random)\n",
    "\n",
    "            return res\n",
    "        \n",
    "        return dfs(head)"
   ]
  },
  {
   "cell_type": "markdown",
   "metadata": {},
   "source": [
    "## 25. Reverse Nodes in K-Group (Pointers-Iteration, Stack) (Amazon 6, Microsoft 5)(Hard)"
   ]
  },
  {
   "cell_type": "code",
   "execution_count": null,
   "metadata": {},
   "outputs": [],
   "source": [
    "class Solution:\n",
    "    def reverseKGroup(self, head, k):\n",
    "        \"\"\"\n",
    "        :type head: ListNode\n",
    "        :type k: int\n",
    "        :rtype: ListNode\n",
    "        \"\"\"\n",
    "        \n",
    "        dummy = ListNode(0)\n",
    "        p = dummy\n",
    "        while True:\n",
    "            count = k \n",
    "            stack = []\n",
    "            tmp = head\n",
    "            while count and tmp:\n",
    "                stack.append(tmp)\n",
    "                tmp = tmp.next\n",
    "                count -= 1\n",
    "            # 注意,目前tmp所在k+1位置\n",
    "            # 说明剩下的链表不够k个,跳出循环\n",
    "            if count : \n",
    "                p.next = head\n",
    "                break\n",
    "            # 翻转操作\n",
    "            while stack:\n",
    "                p.next = stack.pop()\n",
    "                p = p.next\n",
    "            #与剩下链表连接起来 \n",
    "            p.next = tmp\n",
    "            head = tmp\n",
    "        \n",
    "        return dummy.next"
   ]
  },
  {
   "cell_type": "code",
   "execution_count": null,
   "metadata": {},
   "outputs": [],
   "source": [
    "class Solution:\n",
    "    def reverseKGroup(self, head: ListNode, k: int) -> ListNode:\n",
    "        cur = head\n",
    "        count = 0\n",
    "        while cur and count!= k:\n",
    "            cur = cur.next\n",
    "            count += 1\n",
    "        if count == k:\n",
    "            cur = self.reverseKGroup(cur, k)\n",
    "            while count:\n",
    "                tmp = head.next\n",
    "                head.next = cur\n",
    "                cur = head\n",
    "                head = tmp\n",
    "                count -= 1\n",
    "            head = cur   \n",
    "        return head"
   ]
  },
  {
   "cell_type": "markdown",
   "metadata": {},
   "source": [
    "## 143. Reorder List (Pointers-Iteration, Stack) (Facebook 5)"
   ]
  },
  {
   "cell_type": "code",
   "execution_count": null,
   "metadata": {},
   "outputs": [],
   "source": [
    "class Solution:\n",
    "    def reorderList(self, head):\n",
    "        \"\"\"\n",
    "        :type head: ListNode\n",
    "        :rtype: None Do not return anything, modify head in-place instead.\n",
    "        \"\"\"\n",
    "        if not head: \n",
    "            return \n",
    "        \n",
    "        p = head\n",
    "        stack = []\n",
    "        # 把所有节点压入栈中\n",
    "        while p:\n",
    "            stack.append(p)\n",
    "            p = p.next\n",
    "        # 长度\n",
    "        n = len(stack)\n",
    "        # 找到中点前一个位置 \n",
    "        count = (n - 1) // 2\n",
    "        p = head\n",
    "        while count:\n",
    "            # 弹出栈顶\n",
    "            tmp = stack.pop()\n",
    "            # 与链头拼接\n",
    "            tmp.next = p.next\n",
    "            p.next  = tmp\n",
    "            # 移动一个位置\n",
    "            p = tmp.next\n",
    "            count -= 1\n",
    "        stack.pop().next = None"
   ]
  },
  {
   "cell_type": "markdown",
   "metadata": {},
   "source": [
    "### (33) Binary Tree. Recursion-DFS, Queue-BFS. O(N) O(N)\n",
    "\n",
    "一句话，看到树🌲就要想到递归"
   ]
  },
  {
   "cell_type": "markdown",
   "metadata": {},
   "source": [
    "## 144. Binary Tree Preorder Traversal (BT, Recursion-DFS) (Google 2)\n",
    "O(N)  \n",
    "O(N)"
   ]
  },
  {
   "cell_type": "code",
   "execution_count": null,
   "metadata": {},
   "outputs": [],
   "source": [
    "class Solution:\n",
    "    def preorderTraversal(self, root):\n",
    "        \"\"\"\n",
    "        :type root: TreeNode\n",
    "        :rtype: List[int]\n",
    "        \"\"\"\n",
    "        res = []\n",
    "        \n",
    "        def dfs(root):\n",
    "            if not root:\n",
    "                return\n",
    "            \n",
    "            res.append(root.val)\n",
    "            dfs(root.left)\n",
    "            dfs(root.right)\n",
    "            \n",
    "        dfs(root)\n",
    "        return res"
   ]
  },
  {
   "cell_type": "markdown",
   "metadata": {},
   "source": [
    "## 94. Binary Tree Inorder Traversal (BT, Recursion-DFS) (Facebook 4, Microsoft 4)\n",
    "\n",
    "O(N)  \n",
    "O(N)"
   ]
  },
  {
   "cell_type": "code",
   "execution_count": null,
   "metadata": {},
   "outputs": [],
   "source": [
    "class Solution:\n",
    "    def inorderTraversal(self, root):\n",
    "        res = []\n",
    "        \n",
    "        def dfs(root):\n",
    "            if not root:\n",
    "                return\n",
    "            \n",
    "            dfs(root.left)\n",
    "            res.append(root.val)\n",
    "            dfs(root.right)\n",
    "            \n",
    "        dfs(root)\n",
    "        return res"
   ]
  },
  {
   "cell_type": "markdown",
   "metadata": {},
   "source": [
    "## 230. Kth Smallest Element in a BST (BT, Recursion-DFS) (Microsoft 3, Amazon 3)\n",
    "O(N)  \n",
    "O(N)"
   ]
  },
  {
   "cell_type": "code",
   "execution_count": null,
   "metadata": {},
   "outputs": [],
   "source": [
    "class Solution:\n",
    "    def kthSmallest(self, root, k):\n",
    "        \"\"\"\n",
    "        :type root: TreeNode\n",
    "        :type k: int\n",
    "        :rtype: int\n",
    "        \"\"\"\n",
    "        res = []\n",
    "        def dfs(root):\n",
    "            if not root:\n",
    "                return \n",
    "    \n",
    "            # if root.left:\n",
    "            dfs(root.left)\n",
    "                \n",
    "            res.append(root.val)\n",
    "            \n",
    "            # if root.right:\n",
    "            dfs(root.right)\n",
    "            \n",
    "        dfs(root)\n",
    "        return res[k-1]"
   ]
  },
  {
   "cell_type": "markdown",
   "metadata": {},
   "source": [
    "## 285. Inorder Successor in BST (BT, Recursion-DFS) (Facebook 3, Microsoft 3)"
   ]
  },
  {
   "cell_type": "code",
   "execution_count": null,
   "metadata": {},
   "outputs": [],
   "source": [
    "class Solution:\n",
    "    def inorderSuccessor(self, root: 'TreeNode', p: 'TreeNode') -> 'TreeNode':\n",
    "            \"\"\" \n",
    "            1. 中序遍历\n",
    "            2. Morris遍历\n",
    "            \"\"\"\n",
    "            # 使用中序遍历全部节点\n",
    "            def inorder(root):\n",
    "                res = []\n",
    "\n",
    "                def dfs(root):\n",
    "                    if not root:\n",
    "                        return \n",
    "\n",
    "                    dfs(root.left)\n",
    "                    res.append(root)\n",
    "                    dfs(root.right)\n",
    "\n",
    "                dfs(root)\n",
    "                return res\n",
    "                \n",
    "            inorderList = inorder(root)\n",
    "\n",
    "            for i in range(len(inorderList)):\n",
    "                # 注意判断越界\n",
    "                if inorderList[i].val == p.val and i < len(inorderList) - 1:\n",
    "                    return inorderList[i+1]\n",
    "            return None\n"
   ]
  },
  {
   "cell_type": "markdown",
   "metadata": {},
   "source": [
    "## 99. Recover Binary Search Tree (BST, Recursion-DFS) (Microsoft 3)"
   ]
  },
  {
   "cell_type": "code",
   "execution_count": null,
   "metadata": {},
   "outputs": [],
   "source": [
    "class Solution:\n",
    "    def recoverTree(self, root):\n",
    "        \"\"\"\n",
    "        Do not return anything, modify root in-place instead.\n",
    "        \"\"\"\n",
    "        def dfs(root): \n",
    "            if not root:\n",
    "                return []\n",
    "            \n",
    "            dfs(root.left)\n",
    "            nodes.append(root)\n",
    "            vals.append(root.val)\n",
    "            dfs(root.right)\n",
    "    \n",
    "        nodes = []\n",
    "        vals = []\n",
    "        dfs(root)\n",
    "        vals.sort()\n",
    "\n",
    "        for i in range(len(vals)):\n",
    "            if nodes[i].val != vals[i]:\n",
    "                nodes[i].val = vals[i]"
   ]
  },
  {
   "cell_type": "code",
   "execution_count": null,
   "metadata": {},
   "outputs": [],
   "source": [
    "# O(N)\n",
    "# O(N)\n",
    "class Solution:\n",
    "    def recoverTree(self, root):\n",
    "        \"\"\"\n",
    "        Do not return anything, modify root in-place instead.\n",
    "        \"\"\"\n",
    "        def dfs(root): \n",
    "            if root: \n",
    "                dfs(root.left)\n",
    "                nodes.append(root)\n",
    "                vals.append(root.val)\n",
    "                dfs(root.right)\n",
    "    \n",
    "        nodes = []\n",
    "        vals = []\n",
    "        dfs(root)\n",
    "        vals.sort()\n",
    "\n",
    "        for i in range(len(vals)):\n",
    "            if nodes[i].val != vals[i]:\n",
    "                nodes[i].val = vals[i]"
   ]
  },
  {
   "cell_type": "code",
   "execution_count": null,
   "metadata": {},
   "outputs": [],
   "source": [
    "class Solution:\n",
    "    def recoverTree(self, root: TreeNode):\n",
    "        \"\"\"\n",
    "        :rtype: void Do not return anything, modify root in-place instead.\n",
    "        \"\"\"\n",
    "        stack = []\n",
    "        x = y = pred = None\n",
    "        \n",
    "        while stack or root:\n",
    "            while root:\n",
    "                stack.append(root)\n",
    "                root = root.left\n",
    "            root = stack.pop()\n",
    "            if pred and root.val < pred.val:\n",
    "                y = root\n",
    "                if x is None:\n",
    "                    x = pred \n",
    "                else:\n",
    "                    break\n",
    "            pred = root\n",
    "            root = root.right\n",
    "\n",
    "        x.val, y.val = y.val, x.val"
   ]
  },
  {
   "cell_type": "markdown",
   "metadata": {},
   "source": [
    "## 98. (5) Validate Binary Search Tree (BST, Recursion-DFS, Queue-BFS) (Facebook 24, Amazon 14, Microsoft 7)\n",
    "\n",
    "O(N) since we visit each node exactly once.  \n",
    "O(N) since we keep up to the entire tree."
   ]
  },
  {
   "cell_type": "code",
   "execution_count": null,
   "metadata": {},
   "outputs": [],
   "source": [
    "# Definition for a binary tree node.\n",
    "# class TreeNode(object):\n",
    "#     def __init__(self, x):\n",
    "#         self.val = x\n",
    "#         self.left = None\n",
    "#         self.right = None\n",
    "\n",
    "class Solution:\n",
    "    def isValidBST(self, root):\n",
    "        \"\"\"\n",
    "        :type root: TreeNode\n",
    "        :rtype: bool\n",
    "        \"\"\"\n",
    "        def dfs(root, lower = float('-inf'), upper = float('inf')):\n",
    "            if not root:\n",
    "                return True\n",
    "            \n",
    "            if root.val <= lower or root.val >= upper:\n",
    "                return False\n",
    "            \n",
    "            return dfs(root.left, lower, root.val) and dfs(root.right, root.val, upper)\n",
    "        \n",
    "#             if not dfs(root.right, root.val, upper):\n",
    "#                 return False\n",
    "#             if not dfs(root.left, lower, root.val):\n",
    "#                 return False\n",
    "#             return True\n",
    "\n",
    "        return dfs(root)"
   ]
  },
  {
   "cell_type": "code",
   "execution_count": null,
   "metadata": {},
   "outputs": [],
   "source": [
    "#O(N)\n",
    "#O(N)\n",
    "class Solution:\n",
    "    def isValidBST(self, root):\n",
    "        \"\"\"\n",
    "        :type root: TreeNode\n",
    "        :rtype: bool\n",
    "        \"\"\"\n",
    "        if not root:\n",
    "            return True\n",
    "            \n",
    "        stack = [(root, float('-inf'), float('inf')), ] \n",
    "        while stack:\n",
    "            root, lower, upper = stack.pop()\n",
    "            if not root:\n",
    "                continue\n",
    "            val = root.val\n",
    "            if val <= lower or val >= upper:\n",
    "                return False\n",
    "            stack.append((root.right, val, upper))\n",
    "            stack.append((root.left, lower, val))\n",
    "        return True  "
   ]
  },
  {
   "cell_type": "code",
   "execution_count": null,
   "metadata": {},
   "outputs": [],
   "source": [
    "class Solution:\n",
    "    def isValidBST(self, root):\n",
    "        \"\"\"\n",
    "        :type root: TreeNode\n",
    "        :rtype: bool\n",
    "        \"\"\"\n",
    "        \n",
    "        if not root:\n",
    "            return True\n",
    "        \n",
    "        \n",
    "        res = []\n",
    "        def dfs(root):\n",
    "            if not root:\n",
    "                return\n",
    "            \n",
    "            dfs(root.left)\n",
    "            res.append(root.val)\n",
    "            dfs(root.right)\n",
    "            \n",
    "        dfs(root)\n",
    "        \n",
    "        for i in range(1, len(res)):\n",
    "            if res[i] <= res[i-1]:\n",
    "                return False\n",
    "            \n",
    "        return True"
   ]
  },
  {
   "cell_type": "markdown",
   "metadata": {},
   "source": [
    "## 235. Lowest Common Ancestor of a Binary Search Tree (BST, Recursion-DFS, Queue-BFS) (Linkedin 8)"
   ]
  },
  {
   "cell_type": "code",
   "execution_count": 1,
   "metadata": {},
   "outputs": [],
   "source": [
    "#O(N)\n",
    "#O(1)\n",
    "class Solution:\n",
    "    def lowestCommonAncestor(self, root, p, q):\n",
    "        \"\"\"\n",
    "        :type root: TreeNode\n",
    "        :type p: TreeNode\n",
    "        :type q: TreeNode\n",
    "        :rtype: TreeNode\n",
    "        \"\"\"\n",
    "        node = root\n",
    "        while node:\n",
    "            if p.val > node.val and q.val > node.val:    \n",
    "                # If both p and q are greater than parent\n",
    "                node = node.right\n",
    "            elif p.val < node.val and q.val < node.val:\n",
    "                # If both p and q are lesser than parent\n",
    "                node = node.left\n",
    "            else:\n",
    "                # We have found the split point, i.e. the LCA node.\n",
    "                return node"
   ]
  },
  {
   "cell_type": "code",
   "execution_count": null,
   "metadata": {},
   "outputs": [],
   "source": [
    "#O(N)\n",
    "#O(N)\n",
    "class Solution:\n",
    "    def lowestCommonAncestor(self, root, p, q):\n",
    "        \"\"\"\n",
    "        :type root: TreeNode\n",
    "        :type p: TreeNode\n",
    "        :type q: TreeNode\n",
    "        :rtype: TreeNode\n",
    "        \"\"\"\n",
    "        # If both p and q are greater than parent\n",
    "        if p.val > root.val and q.val > root.val:    \n",
    "            return self.lowestCommonAncestor(root.right, p, q)\n",
    "        # If both p and q are lesser than parent\n",
    "        elif p.val < root.val and q.val < root.val:    \n",
    "            return self.lowestCommonAncestor(root.left, p, q)\n",
    "        # We have found the split point, i.e. the LCA node.\n",
    "\n",
    "        return root"
   ]
  },
  {
   "cell_type": "markdown",
   "metadata": {},
   "source": [
    "## 236. (5) Lowest Common Ancestor of a Binary Tree (BT,Recursion-DFS, Queue-BFS) (Facebook 11, Amazon 9, Microsoft 8)\n",
    "\n",
    "O(N) where N is the number of nodes in the BT. In the worst case we might be visiting all the nodes of the BT.  \n",
    "O(N) This is because the maximum amount of space utilized by the recursion stack would be N since the height of a skewed BT could be N."
   ]
  },
  {
   "cell_type": "code",
   "execution_count": null,
   "metadata": {},
   "outputs": [],
   "source": [
    "class Solution:\n",
    "    def lowestCommonAncestor(self, root, p, q):\n",
    "        \"\"\"\n",
    "        :type root: TreeNode\n",
    "        :type p: TreeNode\n",
    "        :type q: TreeNode\n",
    "        :rtype: TreeNode\n",
    "        \"\"\"\n",
    "        if not root:\n",
    "            return \n",
    "        \n",
    "        if root.val == p.val or root.val == q.val:\n",
    "            return root\n",
    "        \n",
    "        left = self.lowestCommonAncestor(root.left, p, q)\n",
    "        right = self.lowestCommonAncestor(root.right, p, q)\n",
    "        \n",
    "        \n",
    "        # if not left and not right:\n",
    "        #     return \n",
    "        \n",
    "        if left and right:\n",
    "            return root \n",
    "        \n",
    "        if left:\n",
    "            return left\n",
    "        if right:\n",
    "            return right\n",
    "        \n",
    "        if not left and not right:\n",
    "            return"
   ]
  },
  {
   "cell_type": "code",
   "execution_count": null,
   "metadata": {},
   "outputs": [],
   "source": [
    "class Solution:\n",
    "\n",
    "    def lowestCommonAncestor(self, root, p, q):\n",
    "        \"\"\"\n",
    "        :type root: TreeNode\n",
    "        :type p: TreeNode\n",
    "        :type q: TreeNode\n",
    "        :rtype: TreeNode\n",
    "        \"\"\"\n",
    "\n",
    "        # Stack for tree traversal\n",
    "        stack = [root]\n",
    "\n",
    "        # Dictionary for parent pointers\n",
    "        parent = {root: None}\n",
    "\n",
    "        # Iterate until we find both the nodes p and q\n",
    "        while p not in parent or q not in parent:\n",
    "\n",
    "            node = stack.pop()\n",
    "\n",
    "            # While traversing the tree, keep saving the parent pointers.\n",
    "            if node.left:\n",
    "                parent[node.left] = node\n",
    "                stack.append(node.left)\n",
    "            if node.right:\n",
    "                parent[node.right] = node\n",
    "                stack.append(node.right)\n",
    "\n",
    "        # Ancestors set() for node p.\n",
    "        ancestors = set()\n",
    "\n",
    "        # Process all ancestors for node p using parent pointers.\n",
    "        while p:\n",
    "            ancestors.add(p)\n",
    "            p = parent[p]\n",
    "\n",
    "        # The first ancestor of q which appears in\n",
    "        # p's ancestor set() is their lowest common ancestor.\n",
    "        while q not in ancestors:\n",
    "            q = parent[q]\n",
    "        return q"
   ]
  },
  {
   "cell_type": "markdown",
   "metadata": {},
   "source": [
    "## 100. Same Tree (BT, Recursion-DFS) (Amazon 5, Microsoft 2, Google 2)\n",
    "O(N)  \n",
    "O(logN) ~ O(N)"
   ]
  },
  {
   "cell_type": "code",
   "execution_count": null,
   "metadata": {},
   "outputs": [],
   "source": [
    "class Solution:\n",
    "    def isSameTree(self, root1, root2):\n",
    "        \"\"\"\n",
    "        :type p: TreeNode\n",
    "        :type q: TreeNode\n",
    "        :rtype: bool\n",
    "        \"\"\"    \n",
    "        # p and q are both None\n",
    "        if not root1 and not root2:\n",
    "            return True\n",
    "        # one of p and q is None\n",
    "        if not root1 and root2 or root1 and not root2:\n",
    "            return False\n",
    "        \n",
    "        if root1.val != root2.val:\n",
    "            return False\n",
    "        \n",
    "        return self.isSameTree(root1.left, root2.left) and self.isSameTree(root1.right, root2.right)"
   ]
  },
  {
   "cell_type": "markdown",
   "metadata": {},
   "source": [
    "## 101. Symmetric Tree (BT, Recursion-DFS) (Amazon 6, Google 5)\n",
    "\n",
    "O(N)  \n",
    "O(N)"
   ]
  },
  {
   "cell_type": "code",
   "execution_count": null,
   "metadata": {},
   "outputs": [],
   "source": [
    "class Solution:\n",
    "    def isSymmetric(self, root):\n",
    "        \"\"\"\n",
    "        :type root: TreeNode\n",
    "        :rtype: bool\n",
    "        \"\"\"\n",
    "        if not root:\n",
    "            return True\n",
    "        \n",
    "        def dfs(root1, root2):\n",
    "            if not root1 and not root2:\n",
    "                return True\n",
    "            if not root1 and root2 or root1 and not root2:\n",
    "                return False\n",
    "        \n",
    "            if root1.val != root2.val:\n",
    "                return False\n",
    "            # root1 == root2\n",
    "            return dfs(root1.left, root2.right) and dfs(root1.right, root2.left)\n",
    "        \n",
    "        return dfs(root.left, root.right)"
   ]
  },
  {
   "cell_type": "markdown",
   "metadata": {},
   "source": [
    "## 572. Subtree of Another Tree (BT, Recursion-DFS) (Amazon 30)  \n"
   ]
  },
  {
   "cell_type": "code",
   "execution_count": null,
   "metadata": {},
   "outputs": [],
   "source": [
    "class Solution:\n",
    "    def isSubtree(self, root1, root2):\n",
    "        \"\"\"\n",
    "        :type s: TreeNode\n",
    "        :type t: TreeNode\n",
    "        :rtype: bool\n",
    "        \"\"\"\n",
    "        \n",
    "        def isSame(p, q):\n",
    "            if not p and not q:\n",
    "                return True\n",
    "            if not p and q or p and not q:\n",
    "                return False\n",
    "            if p.val != q.val:\n",
    "                return False\n",
    "            return isSame(p.left,q.left) and isSame(p.right,q.right)\n",
    "        \n",
    "        if not root1 and root2:\n",
    "            return False\n",
    "        \n",
    "        if isSame(root1, root2):\n",
    "            return True\n",
    "             \n",
    "        return self.isSubtree(root1.left, root2) or self.isSubtree(root1.right, root2)"
   ]
  },
  {
   "cell_type": "markdown",
   "metadata": {},
   "source": [
    "## 951. Flip Equivalent Binary Trees (BT, Recursion-DFS) (Google 5)\n",
    "\n",
    "O(min(len(root1), len(root2)))  \n",
    "O(min(height(root1, height)root2))"
   ]
  },
  {
   "cell_type": "code",
   "execution_count": null,
   "metadata": {},
   "outputs": [],
   "source": [
    "class Solution:\n",
    "    def flipEquiv(self, root1, root2):\n",
    "        \"\"\"\n",
    "        :type root1: TreeNode\n",
    "        :type root2: TreeNode\n",
    "        :rtype: bool\n",
    "        \"\"\"\n",
    "\n",
    "        if not root1 and not root2:\n",
    "            return True\n",
    "        if not root1 and root2 or root1 and not root2:\n",
    "            return False\n",
    "        if root1.val != root2.val:\n",
    "            return False\n",
    "\n",
    "        return (self.flipEquiv(root1.left, root2.left) and\n",
    "                self.flipEquiv(root1.right, root2.right) or\n",
    "                self.flipEquiv(root1.left, root2.right) and\n",
    "                self.flipEquiv(root1.right, root2.left))"
   ]
  },
  {
   "cell_type": "markdown",
   "metadata": {},
   "source": [
    "## 104. Maximum Depth of Binary Tree (BT, Recursion-DFS) (Linkedin 5)\n",
    "\n",
    "O(N)  \n",
    "O(N)\n",
    "\n",
    "Time complexity : we visit each node exactly once, thus the time complexity is O(N), where N is the number of nodes.\n",
    "\n",
    "Space complexity : in the worst case, the tree is completely unbalanced, e.g. each node has only left child node, the recursion call would occur N times (the height of the tree), therefore the storage to keep the call stack would be O(N). But in the best case (the tree is completely balanced), the height of the tree would be log(N). Therefore, the space complexity in this case would be O(log(N))"
   ]
  },
  {
   "cell_type": "code",
   "execution_count": null,
   "metadata": {},
   "outputs": [],
   "source": [
    "class Solution:\n",
    "    def maxDepth(self, root):\n",
    "        \"\"\"\n",
    "        :type root: TreeNode\n",
    "        :rtype: int\n",
    "        \"\"\" \n",
    "        if not root: \n",
    "            return 0 \n",
    "\n",
    "        left = self.maxDepth(root.left) \n",
    "        right = self.maxDepth(root.right) \n",
    "        return 1 + max(left, right) "
   ]
  },
  {
   "cell_type": "code",
   "execution_count": 5,
   "metadata": {},
   "outputs": [
    {
     "data": {
      "text/plain": [
       "0"
      ]
     },
     "execution_count": 5,
     "metadata": {},
     "output_type": "execute_result"
    }
   ],
   "source": [
    "a = []\n",
    "sum(a)"
   ]
  },
  {
   "cell_type": "markdown",
   "metadata": {},
   "source": [
    "## 111. Minimum Depth of Binary Tree (BT, Recursion-DFS) (Facebook 7)"
   ]
  },
  {
   "cell_type": "code",
   "execution_count": null,
   "metadata": {},
   "outputs": [],
   "source": [
    "class Solution:\n",
    "    def minDepth(self, root):\n",
    "        \"\"\"\n",
    "        :type root: TreeNode\n",
    "        :rtype: int\n",
    "        \"\"\" \n",
    "        if not root: \n",
    "            return 0 \n",
    "        \n",
    "        if not root.left and not root.right:\n",
    "            return 1\n",
    "        \n",
    "        if root.left and not root.right:\n",
    "            return 1 + self.minDepth(root.left)\n",
    "        \n",
    "        if not root.left and root.right:\n",
    "            return 1+ self.minDepth(root.right)\n",
    "        \n",
    "        left = self.minDepth(root.left) \n",
    "        right = self.minDepth(root.right) \n",
    "        return 1 + min(left, right) "
   ]
  },
  {
   "cell_type": "markdown",
   "metadata": {},
   "source": [
    "## 110 Balanced Binary Tree (BT, Recursion-DFS) (Microsoft 4)"
   ]
  },
  {
   "cell_type": "code",
   "execution_count": null,
   "metadata": {},
   "outputs": [],
   "source": [
    "class Solution:\n",
    "    def isBalanced(self, root):\n",
    "        \"\"\"\n",
    "        :type root: TreeNode\n",
    "        :rtype: bool\n",
    "        \"\"\"\n",
    "        def depth(node):\n",
    "            if not node:\n",
    "                return 0\n",
    "            \n",
    "            left = depth(node.left)\n",
    "            right = depth(node.right)\n",
    "            return 1 + max(left, right)\n",
    "        \n",
    "        if not root:\n",
    "            return True\n",
    "        \n",
    "        if abs(depth(root.left) - depth(root.right)) > 1:\n",
    "            return False\n",
    "        \n",
    "        return self.isBalanced(root.left) and self.isBalanced(root.right)"
   ]
  },
  {
   "cell_type": "markdown",
   "metadata": {},
   "source": [
    "## 543. Diameter of Binary Tree (BT, Recursion-DFS) (Facebook 11, Amazon 8, Microsoft 3)\n",
    "\n",
    "O(N)  \n",
    "O(N)"
   ]
  },
  {
   "cell_type": "code",
   "execution_count": 79,
   "metadata": {},
   "outputs": [],
   "source": [
    "class Solution:\n",
    "    def diameterOfBinaryTree(self, root):\n",
    "        \"\"\"\n",
    "        :type root: TreeNode\n",
    "        :rtype: int\n",
    "        \"\"\"\n",
    "        res = 0\n",
    "        \n",
    "        def depth(root):\n",
    "            nonlocal res\n",
    "            if not root: \n",
    "                return 0\n",
    "            \n",
    "            l = depth(root.left)\n",
    "            r = depth(root.right)\n",
    "            res = max(res, l + r)\n",
    "            return 1 + max(l, r) \n",
    "\n",
    "        depth(root)\n",
    "        return res"
   ]
  },
  {
   "cell_type": "markdown",
   "metadata": {},
   "source": [
    "## 124. Binary Tree Maximum Path Sum (BT, Recursion-DFS) (Amazon 18, Facebook 15, Google 8 Onsite) (Hard)\n",
    "\n",
    "O(N)  \n",
    "O(log(N)) ~O(N) We have to keep a recursion stack of the size of the tree height, which is O(log(N)) for the binary tree.\n",
    "\n",
    "Algorithm\n",
    "Initiate max_sum as the smallest possible integer and call max_gain(node = root).  \n",
    "Implement max_gain(node) with a check to continue the old path/to start a new path:  \n",
    "Base case : if node is null, the max gain is 0.  \n",
    "Call max_gain recursively for the node children to compute max gain from the left and right subtrees : left_gain = max(max_gain(node.left), 0) and right_gain = max(max_gain(node.right), 0).  \n",
    "Now check to continue the old path or to start a new path. To start a new path would cost price_newpath = node.val + left_gain + right_gain. Update max_sum if it's better to start a new path.  \n",
    "For the recursion return the max gain the node and one/zero of its subtrees could add to the current path : node.val + max(left_gain, right_gain).  \n"
   ]
  },
  {
   "cell_type": "code",
   "execution_count": null,
   "metadata": {},
   "outputs": [],
   "source": [
    "# Definition for a binary tree node.\n",
    "# class TreeNode:\n",
    "#     def __init__(self, x):\n",
    "#         self.val = x\n",
    "#         self.left = None\n",
    "#         self.right = None\n",
    "\n",
    "class Solution:\n",
    "    def maxPathSum(self, root):\n",
    "        \"\"\"\n",
    "        :type root: TreeNode\n",
    "        :rtype: int\n",
    "        \"\"\"\n",
    "        res = float('-inf')\n",
    "        \n",
    "        def max_gain(root):\n",
    "            nonlocal res\n",
    "            if not root:\n",
    "                return 0\n",
    "\n",
    "            # max sum on the left and right sub-trees of node\n",
    "            l = max(max_gain(root.left), 0)\n",
    "            r = max(max_gain(root.right), 0)\n",
    "            \n",
    "            # the price to start a new path where `node` is a highest node\n",
    "           \n",
    "            # update max_sum if it's better to start a new path\n",
    "            res = max(res, root.val + l + r)\n",
    "        \n",
    "            # for recursion :\n",
    "            # return the max gain if continue the same path\n",
    "            return root.val + max(l, r)\n",
    "   \n",
    "        \n",
    "        max_gain(root)\n",
    "        return res"
   ]
  },
  {
   "cell_type": "markdown",
   "metadata": {},
   "source": [
    "## 222. Count Complete Tree Nodes (BT, Recursion-DFS, Pointer) (Google 31 Phone)  \n",
    "*- 时间复杂度: O(lgN * lgN)- 空间复杂度: O(1)*"
   ]
  },
  {
   "cell_type": "code",
   "execution_count": null,
   "metadata": {},
   "outputs": [],
   "source": [
    "class Solution:\n",
    "    def countNodes(self, root):\n",
    "        \"\"\"\n",
    "        :type root: TreeNode\n",
    "        :rtype: int\n",
    "        \"\"\"\n",
    "        if not root:\n",
    "            return 0\n",
    "\n",
    "        p = root\n",
    "        q = root\n",
    "\n",
    "        left = 0\n",
    "        right = 0\n",
    "        while p:\n",
    "            p = p.left\n",
    "            left += 1\n",
    "        while q:\n",
    "            q = q.right\n",
    "            right += 1\n",
    "\n",
    "        if left == right:\n",
    "            return 2 ** left - 1\n",
    "        else:\n",
    "            return 1 + self.countNodes(root.left) + self.countNodes(root.right)"
   ]
  },
  {
   "cell_type": "markdown",
   "metadata": {},
   "source": [
    "时间复杂度: O(lgN * lgN)  \n",
    "O(1)\n",
    "\n",
    "求出正常的左右子树的高度lh和rh，然后\n",
    "\n",
    "如果相等的话就知道左边子树肯定是满的，一共有2 ** lh个node，先算出来然后递归计算右边子树的node个数；\n",
    "同理lh和rh不相等的话，就知道右边子树是满的，一共有2 ** rh个node，先算出来然后递归计算右边子树的node个数；"
   ]
  },
  {
   "cell_type": "code",
   "execution_count": null,
   "metadata": {},
   "outputs": [],
   "source": [
    "class Solution:\n",
    "    def countNodes(self, root):\n",
    "        \"\"\"\n",
    "        :type root: TreeNode\n",
    "        :rtype: int\n",
    "        \"\"\"\n",
    "        if not root:\n",
    "            return 0\n",
    "        \n",
    "        def height(root):\n",
    "            if not root:\n",
    "                return 0\n",
    "            \n",
    "            left = height(root.left)\n",
    "            right = height(root.right)\n",
    "            return 1 + max(left, right)\n",
    "\n",
    "        lh = height(root.left)\n",
    "        rh = height(root.right)\n",
    "        \n",
    "        if lh == rh:\n",
    "            return 2 ** lh + self.countNodes(root.right)\n",
    "        else:\n",
    "            return 2 ** rh + self.countNodes(root.left)\n",
    "\n",
    "    "
   ]
  },
  {
   "cell_type": "markdown",
   "metadata": {},
   "source": [
    "## Check if Node Exists in Complete Tree (Google Phone)\n",
    "https://leetcode.com/discuss/interview-question/236898/Google-or-Check-if-a-node-exists-in-a-complete-tree  \n",
    "Share my solution using binary string:  \n",
    "Binary String represents the path from root to the node, where '1' means going right and '0' means going left.  \n",
    "For example, 4 = \"100\", starting from the index 1, we go from root = 1, going left --> 2, going left --> 4;  \n",
    "7 = \"111\", starting from index 1, we go from root = 1, going right --> 3, going right --> 7.  "
   ]
  },
  {
   "cell_type": "code",
   "execution_count": null,
   "metadata": {},
   "outputs": [],
   "source": [
    "def check(root, num):\n",
    "    if num <= 0:\n",
    "        return False\n",
    "    \n",
    "    chars = bin(num)[2:]\n",
    "    \n",
    "    for i in range(1, len(chars)):\n",
    "        if not root:\n",
    "            return False\n",
    "        \n",
    "        if chars[i] == '0':\n",
    "            root = root.left\n",
    "            \n",
    "        else:\n",
    "            root = root.right\n",
    "    \n",
    "    return root != None"
   ]
  },
  {
   "cell_type": "code",
   "execution_count": 4,
   "metadata": {},
   "outputs": [
    {
     "data": {
      "text/plain": [
       "'100'"
      ]
     },
     "execution_count": 4,
     "metadata": {},
     "output_type": "execute_result"
    }
   ],
   "source": [
    "bin(4)[2:]"
   ]
  },
  {
   "cell_type": "markdown",
   "metadata": {},
   "source": [
    "## 112. Path Sum (BT, Recursion-DFS) (Amazon 6)\n",
    "O(N)  \n",
    "O(N)"
   ]
  },
  {
   "cell_type": "code",
   "execution_count": null,
   "metadata": {},
   "outputs": [],
   "source": [
    "class Solution:\n",
    "    def hasPathSum(self, root, sum):\n",
    "        \"\"\"\n",
    "        :type root: TreeNode\n",
    "        :type sum: int\n",
    "        :rtype: bool\n",
    "        \"\"\"\n",
    "        \n",
    "        def dfs(root, val=0):             \n",
    "            if not root:\n",
    "                return False\n",
    "\n",
    "            val += root.val\n",
    "            \n",
    "            if val == sum and not root.left and not root.right:\n",
    "                return True\n",
    "                \n",
    "            return dfs(root.left, val) or dfs(root.right, val)\n",
    "        \n",
    "        return dfs(root)"
   ]
  },
  {
   "cell_type": "markdown",
   "metadata": {},
   "source": [
    "## 113. Path Sum II (BT, Recursion-DFS) (Amazon 5)"
   ]
  },
  {
   "cell_type": "code",
   "execution_count": null,
   "metadata": {},
   "outputs": [],
   "source": [
    "class Solution:\n",
    "    def pathSum(self, root: TreeNode, sum: int) -> List[List[int]]:\n",
    "        \n",
    "        res = []\n",
    "        \n",
    "        def dfs(root, val=[]):             \n",
    "            if not root:\n",
    "                return \n",
    "\n",
    "            val.append(root.val)\n",
    "            print(val)\n",
    "            \n",
    "            if not root.left and not root.right:\n",
    "                x = 0\n",
    "                for n in val:\n",
    "                     x += n\n",
    "                if x == sum:\n",
    "                    res.append(val)\n",
    "                \n",
    "            if root.left:\n",
    "                dfs(root.left, val) \n",
    "            if root.right:\n",
    "                dfs(root.right, val)\n",
    "            # return dfs(root.left, val) or dfs(root.right, val)\n",
    "        \n",
    "        dfs(root)\n",
    "        return res\n",
    "        \n",
    "# class Solution:\n",
    "#     def pathSum(self, root: TreeNode, sum: int) -> List[List[int]]:\n",
    "#         results = []\n",
    "#         def dfs(node, s, stack):\n",
    "#             if node is None:\n",
    "#                 return\n",
    "#             stack.append(node.val)\n",
    "#             if node.left is None and node.right is None:\n",
    "#                 if s == node.val:\n",
    "#                     results.append(stack.copy())\n",
    "#             if node.left:\n",
    "#                 dfs(node.left, s - node.val, stack)\n",
    "#             if node.right:\n",
    "#                 dfs(node.right, s - node.val, stack)\n",
    "#             stack.pop()\n",
    "#         dfs(root, sum, [])\n",
    "#         return results "
   ]
  },
  {
   "cell_type": "markdown",
   "metadata": {},
   "source": [
    "## 108. Convert Sorted Array to Binary Search Tree (BT, Recurison-DFS) (Microsoft 3, Amazon 3)"
   ]
  },
  {
   "cell_type": "code",
   "execution_count": null,
   "metadata": {},
   "outputs": [],
   "source": [
    "# nums为空，return None\n",
    "# nums非空，nums[n/2]为中间元素，根结点，nums[:mid]为左子树， nums[mid+1:]为右子树\n",
    "\n",
    "# O(N)\n",
    "# O(1)\n",
    "class Solution:\n",
    "    def sortedArrayToBST(self, nums):\n",
    "        \"\"\"\n",
    "        :type nums: List[int]\n",
    "        :rtype: TreeNode\n",
    "        \"\"\"\n",
    "        if not nums:\n",
    "            return \n",
    "        \n",
    "        mid = len(nums)//2\n",
    "        \n",
    "        root = TreeNode(nums[mid])\n",
    "        root.left = self.sortedArrayToBST(nums[:mid])\n",
    "        root.right = self.sortedArrayToBST(nums[mid + 1:])\n",
    "        return root"
   ]
  },
  {
   "cell_type": "markdown",
   "metadata": {},
   "source": [
    "## 109. Convert Sorted List to Binary Search Tree (Amazon 7, Facebook 4)"
   ]
  },
  {
   "cell_type": "code",
   "execution_count": null,
   "metadata": {},
   "outputs": [],
   "source": [
    "# O(N)\n",
    "# O(N)\n",
    "class Solution:\n",
    "    def sortedListToBST(self, head):\n",
    "        \"\"\"\n",
    "        :type head: ListNode\n",
    "        :rtype: TreeNode\n",
    "        \"\"\"\n",
    "        def sortedArrayToBST(nums):\n",
    "            if not nums:\n",
    "                return\n",
    "            \n",
    "            mid = len(nums) // 2\n",
    "            root = TreeNode(nums[mid])\n",
    "            root.left = sortedArrayToBST(nums[:mid])\n",
    "            root.right = sortedArrayToBST(nums[mid+1:])\n",
    "            return root\n",
    "        \n",
    "        if not head:\n",
    "            return \n",
    "        \n",
    "        array = []\n",
    "        while head:\n",
    "            array.append(head.val)\n",
    "            head = head.next\n",
    "        return sortedArrayToBST(array)"
   ]
  },
  {
   "cell_type": "markdown",
   "metadata": {},
   "source": [
    "## 116. Populating Next Right Pointers in Each Node I (BT, Recursion-DFS) (Amazon 9)  \n",
    "O(N)  \n",
    "O(N)"
   ]
  },
  {
   "cell_type": "code",
   "execution_count": null,
   "metadata": {},
   "outputs": [],
   "source": [
    "class Solution:\n",
    "    def connect(self, root):\n",
    "        \"\"\"\n",
    "        :type root: Node\n",
    "        :rtype: Node\n",
    "        \"\"\"\n",
    "        \n",
    "        if not root:\n",
    "            return\n",
    "        \n",
    "        if root.left and root.right:\n",
    "            root.left.next = root.right  \n",
    "            \n",
    "            if root.next:\n",
    "                root.right.next = root.next.left\n",
    "            \n",
    "        self.connect(root.left)\n",
    "        self.connect(root.right)\n",
    "        \n",
    "        return root"
   ]
  },
  {
   "cell_type": "code",
   "execution_count": null,
   "metadata": {},
   "outputs": [],
   "source": [
    "class Solution:\n",
    "\tdef connect(self, root):\n",
    "        \"\"\"\n",
    "        :type root: Node\n",
    "        :rtype: Node\n",
    "        \"\"\"\n",
    "        \n",
    "\t\tif not root or not root.left:\n",
    "\t\t\treturn root\n",
    "        \n",
    "\t\troot.left.next = root.right\n",
    "        \n",
    "\t\tif root.next:\n",
    "\t\t\troot.right.next=root.next.left\n",
    "            \n",
    "\t\tself.connect(root.left)\n",
    "\t\tself.connect(root.right)\n",
    "\t\treturn root"
   ]
  },
  {
   "cell_type": "markdown",
   "metadata": {},
   "source": [
    "## 117. Populating Next Right Pointers in Each Node II (BT, Queue-BFS) (Amazon 6)\n",
    "\n",
    "The algorithm is a BFS or level order traversal. We go through the tree level by level. node is the pointer in the parent level, tail is the tail pointer in the child level.\n",
    "The parent level can be view as a singly linked list or queue, which we can traversal easily with a pointer.\n",
    "Connect the tail with every one of the possible nodes in child level, update it only if the connected node is not nil.\n",
    "Do this one level by one level. The whole thing is quite straightforward."
   ]
  },
  {
   "cell_type": "code",
   "execution_count": null,
   "metadata": {},
   "outputs": [],
   "source": [
    "class Solution:\n",
    "    def connect(self, root):\n",
    "        \"\"\"\n",
    "        :type root: Node\n",
    "        :rtype: Node\n",
    "        \"\"\"\n",
    "        cur = dummy = Node()\n",
    "        node = root\n",
    "        while node:\n",
    "            if node.left:\n",
    "                cur.next = node.left\n",
    "                cur = node.left\n",
    "            if node.right:\n",
    "                cur.next = node.right\n",
    "                cur = node.right\n",
    "            node = node.next\n",
    "            if not node:\n",
    "                node = dummy.next\n",
    "                dummy.next = None # This is very important!!!\n",
    "                cur = dummy # This is very important!!!\n",
    "        return root"
   ]
  },
  {
   "cell_type": "markdown",
   "metadata": {},
   "source": [
    "## 105. Construct Binary Tree from Preorder and Inorder Transversal (BT, Recursion-DFS) (Amazon 7, Microsoft 5)\n",
    "\n",
    "preorder 是 根 -> 左 -> 右  \n",
    "inorder 是 左 -> 根 -> 右\n",
    "\n",
    "首先pre的第一个就是整个树的root, 假设 preorder[0] = inorder[k],那么inorder的前k-1个就是树的左子树，后面部分就是树的右子树"
   ]
  },
  {
   "cell_type": "code",
   "execution_count": null,
   "metadata": {},
   "outputs": [],
   "source": [
    "class Solution:\n",
    "    def buildTree(self, preorder, inorder):\n",
    "        \"\"\"\n",
    "        :type preorder: List[int]\n",
    "        :type inorder: List[int]\n",
    "        :rtype: TreeNode\n",
    "        \"\"\"\n",
    "        if not preorder or not inorder:\n",
    "            return \n",
    "        \n",
    "        root = TreeNode(preorder[0])\n",
    "        k = inorder.index(preorder[0])\n",
    "        \n",
    "        root.left = self.buildTree(preorder[1:k+1], inorder[:k])\n",
    "        root.right = self.buildTree(preorder[k+1:], inorder[k+1:])\n",
    "        return root"
   ]
  },
  {
   "cell_type": "markdown",
   "metadata": {},
   "source": [
    "## 106 Construct Binary Tree from Inorder and Postorder Transversal (BT, Recursion-DFS) (Amazon 7)"
   ]
  },
  {
   "cell_type": "code",
   "execution_count": null,
   "metadata": {},
   "outputs": [],
   "source": [
    "class Solution:\n",
    "    def buildTree(self, inorder, postorder):\n",
    "        \"\"\"\n",
    "        :type inorder: List[int]\n",
    "        :type postorder: List[int]\n",
    "        :rtype: TreeNode\n",
    "        \"\"\"\n",
    "        if not inorder or not postorer:\n",
    "            return\n",
    "        \n",
    "        root = TreeNode(postorder[-1])\n",
    "        k = inorder.index(postorder[-1])\n",
    "        \n",
    "        root.left = self.buildTree(inorder[:k], postorder[:k]) \n",
    "        root.right = self.buildTree(inorder[k+1:], postorder[k:-1])\n",
    "        \n",
    "        return root"
   ]
  },
  {
   "cell_type": "markdown",
   "metadata": {},
   "source": [
    "## 450. Delete Node in BST (BST, Recursion-DFS) (Microsoft 2)  \n",
    "O(h)  \n",
    "O(h)"
   ]
  },
  {
   "cell_type": "code",
   "execution_count": null,
   "metadata": {},
   "outputs": [],
   "source": [
    "class Solution:\n",
    "    def deleteNode(self, root: TreeNode, key: int) -> TreeNode:\n",
    "        \n",
    "        def minimum(root):          \n",
    "            while root.left:\n",
    "                root = root.left\n",
    "\n",
    "            return root\n",
    "        \n",
    "        if not root:\n",
    "            return \n",
    "        \n",
    "        if root.val > key:\n",
    "            root.left = self.deleteNode(root.left, key)\n",
    "        \n",
    "        elif root.val < key:\n",
    "            root.right = self.deleteNode(root.right, key)\n",
    "        \n",
    "        else:\n",
    "            if not root.left and not root.right:\n",
    "                return\n",
    "            \n",
    "            if not root.left:\n",
    "                return root.right\n",
    "\n",
    "            if not root.right:\n",
    "                return root.left\n",
    "        \n",
    "            node = minimum(root.right)\n",
    "            root.val = node.val\n",
    "            root.right = self.deleteNode(root.right, root.val)\n",
    "                 \n",
    "        \n",
    "        return root"
   ]
  },
  {
   "cell_type": "code",
   "execution_count": null,
   "metadata": {},
   "outputs": [],
   "source": [
    "class Solution:\n",
    "    def deleteNode(self, root: TreeNode, key: int) -> TreeNode:\n",
    "        \n",
    "        if not root:\n",
    "            return \n",
    "        \n",
    "        if root.val == key:\n",
    "            if not root.left and not root.right:\n",
    "                return None\n",
    "                \n",
    "            elif root.left and root.right:\n",
    "                root.val = root.right.val\n",
    "                root.right = root.right.right\n",
    "                return root    \n",
    "                \n",
    "            elif root.left and not root.right:\n",
    "                root.val = root.left.val\n",
    "                root.left = root.left.left\n",
    "                return root\n",
    "                \n",
    "            elif root.right and not root.left:\n",
    "                root.val = root.right.val\n",
    "                root.right = root.right.right\n",
    "                return root\n",
    "                   \n",
    "        root.left = self.deleteNode(root.left, key)\n",
    "        root.right = self.deleteNode(root.right, key)\n",
    "        \n",
    "        return root"
   ]
  },
  {
   "cell_type": "markdown",
   "metadata": {},
   "source": [
    "## Search in BST"
   ]
  },
  {
   "cell_type": "code",
   "execution_count": null,
   "metadata": {},
   "outputs": [],
   "source": [
    "class Solution:\n",
    "    def searchBST(self, root, val):\n",
    "        \"\"\"\n",
    "        :type root: TreeNode\n",
    "        :type val: int\n",
    "        :rtype: TreeNode\n",
    "        \"\"\"\n",
    "        \n",
    "        if not root: \n",
    "            return \n",
    "        \n",
    "        if root.val == val:\n",
    "            return root\n",
    "        \n",
    "        if val < root.val:\n",
    "            return self.searchBST(root.left, val)\n",
    "        if val > root.val:\n",
    "            return self.searchBST(root.right, val)"
   ]
  },
  {
   "cell_type": "markdown",
   "metadata": {},
   "source": [
    "## Insert in BST"
   ]
  },
  {
   "cell_type": "code",
   "execution_count": null,
   "metadata": {},
   "outputs": [],
   "source": [
    "class Solution:\n",
    "    def insertIntoBST(self, root, val):\n",
    "        \"\"\"\n",
    "        :type root: TreeNode\n",
    "        :type val: int\n",
    "        :rtype: TreeNode\n",
    "        \"\"\"\n",
    "        if not root:\n",
    "            return TreeNode(val)\n",
    "        \n",
    "        if val > root.val:\n",
    "            # insert into the right subtree\n",
    "            root.right = self.insertIntoBST(root.right, val)\n",
    "        if val < root.val:\n",
    "            # insert into the left subtree\n",
    "            root.left = self.insertIntoBST(root.left, val)\n",
    "            \n",
    "        return root"
   ]
  },
  {
   "cell_type": "markdown",
   "metadata": {},
   "source": [
    "## Remove Extra Edge (BT, Recursion-DFS) (Google)"
   ]
  },
  {
   "cell_type": "code",
   "execution_count": null,
   "metadata": {},
   "outputs": [],
   "source": [
    "class Solution:\n",
    "    def removeEdgeBT(root):\n",
    "        \n",
    "        seen = set()\n",
    "        def dfs(root):\n",
    "            if not root:\n",
    "                return\n",
    "            \n",
    "            if root in seen:\n",
    "                return\n",
    "            \n",
    "            seen.add(root)\n",
    "            \n",
    "            root.left = dfs(root.left)\n",
    "            root.right = dfs(root.right)\n",
    "            \n",
    "            return root"
   ]
  },
  {
   "cell_type": "code",
   "execution_count": null,
   "metadata": {},
   "outputs": [],
   "source": [
    "public static TreeNode removeEdgeBT(TreeNode root) {\n",
    "\treturn removeEdgeBT(root, new HashSet<>());\n",
    "}\n",
    "\n",
    "private static TreeNode removeEdgeBT(TreeNode node, Set<TreeNode> seen) {\n",
    "\tif (node == null || !seen.add(node)) return null;\n",
    "\tnode.left = removeEdgeBT(node.left, seen);\n",
    "\tnode.right = removeEdgeBT(node.right, seen);\n",
    "\treturn node;\n",
    "}"
   ]
  },
  {
   "cell_type": "markdown",
   "metadata": {},
   "source": [
    "## 1145. Binary Tree Coloring Game (Google 4 Onsite)"
   ]
  },
  {
   "cell_type": "code",
   "execution_count": null,
   "metadata": {},
   "outputs": [],
   "source": [
    "class Solution:\n",
    "    def btreeGameWinningMove(self, root: TreeNode, n: int, x: int) -> bool:\n",
    "        left_x = 0\n",
    "        right_x = 0\n",
    "        \n",
    "        # total count of nodes\n",
    "        def dfs(root):\n",
    "            nonlocal left_x, right_x\n",
    "            \n",
    "            if not root:\n",
    "                return 0\n",
    "            left = dfs(root.left)\n",
    "            right = dfs(root.right)\n",
    "            if root.val == x:\n",
    "                left_x = left\n",
    "                right_x = right\n",
    "            return left + right + 1\n",
    "        \n",
    "        dfs(root)\n",
    "        return max([left_x, right_x, n - 1 - left_x - right_x]) > n / 2"
   ]
  },
  {
   "cell_type": "code",
   "execution_count": null,
   "metadata": {},
   "outputs": [],
   "source": [
    "class Solution:\n",
    "    def btreeGameWinningMove(self, root: TreeNode, n: int, x: int) -> bool:\n",
    "        \n",
    "        left_x = 0 \n",
    "        right_x = 0\n",
    "        \n",
    "        def dfs(root):\n",
    "            nonlocal left_x, right_x\n",
    "            \n",
    "            if not root:\n",
    "                return 0\n",
    "            left = dfs(root.left)\n",
    "            right = dfs(root.right)\n",
    "            if root.val == x:\n",
    "                left_x = left\n",
    "                right_x = right\n",
    "            return left + right + 1\n",
    "        \n",
    "        dfs(root)\n",
    "        parent = n - left_x - right_x - 1\n",
    "        judge = [parent, left_x, right_x]\n",
    "        return any([j > n // 2 for j in judge])"
   ]
  },
  {
   "cell_type": "markdown",
   "metadata": {},
   "source": [
    "https://leetcode.com/discuss/interview-question/294183/Google-or-Tree-Game"
   ]
  },
  {
   "cell_type": "code",
   "execution_count": null,
   "metadata": {},
   "outputs": [],
   "source": [
    "class Solution:\n",
    "    def btreeGameWinningMove(self, root: TreeNode, n: int, x: TreeNode) -> bool:\n",
    "        \n",
    "        self.leftcnt, self.rightcnt = 0, 0\n",
    "        \n",
    "        def count(self, root): # return the number of total nodes\n",
    "            if not root:\n",
    "                return 0\n",
    "\n",
    "            left = self.count(root.left)\n",
    "            right = self.count(root.right)\n",
    "            if root.val == x.val:\n",
    "                self.leftcnt = left\n",
    "                self.rightcnt = right\n",
    "            return left + right + 1\n",
    "    \n",
    "\n",
    "        self.parentcnt = n - self.leftcnt - self.rightcnt - 1\n",
    "        \n",
    "        if self.parentcnt > total_nodes // 2:\n",
    "            return x.parent\n",
    "        elif self.leftcnt:\n",
    "            return x.left\n",
    "        elif self.rightcnt:\n",
    "            return x.right\n",
    "        else:\n",
    "            return None"
   ]
  },
  {
   "cell_type": "markdown",
   "metadata": {},
   "source": [
    "## 226. Invert Binary Tree (BT, Recursion-DFS, Queue-BFS) (Google 2)\n",
    "O(N)  \n",
    "O(N)"
   ]
  },
  {
   "cell_type": "code",
   "execution_count": null,
   "metadata": {},
   "outputs": [],
   "source": [
    "class Solution:\n",
    "    def invertTree(self, root):\n",
    "        \"\"\"\n",
    "        :type root: TreeNode\n",
    "        :rtype: TreeNode\n",
    "        \"\"\"\n",
    "        if not root:\n",
    "            return \n",
    "        root.left, root.right = root.right, root.left\n",
    "        self.invertTree(root.left)\n",
    "        self.invertTree(root.right)\n",
    "        return root"
   ]
  },
  {
   "cell_type": "code",
   "execution_count": null,
   "metadata": {},
   "outputs": [],
   "source": [
    "class Solution:\n",
    "    def invertTree(self, root: TreeNode) -> TreeNode:\n",
    "        if not root:\n",
    "            return\n",
    "        \n",
    "        queue = [root]\n",
    "        while queue:\n",
    "            node = queue.pop(0)\n",
    "            \n",
    "            node.left, node.right = node.right, node.left\n",
    "            \n",
    "            if node.left:\n",
    "                queue.append(node.left)\n",
    "                \n",
    "            if node.right:\n",
    "                queue.append(node.right)\n",
    "                \n",
    "        return root"
   ]
  },
  {
   "cell_type": "code",
   "execution_count": null,
   "metadata": {},
   "outputs": [],
   "source": [
    "class Solution:\n",
    "    def invertTree(self, root):\n",
    "        \"\"\"\n",
    "        :type root: TreeNode\n",
    "        :rtype: TreeNode\n",
    "        \"\"\"\n",
    "        queue = [root]\n",
    "        while queue:\n",
    "            node = queue.pop(0)\n",
    "            if node:\n",
    "                node.left, node.right = node.right, node.left\n",
    "                queue.extend([node.left, node.right]) \n",
    "        return root"
   ]
  },
  {
   "cell_type": "markdown",
   "metadata": {},
   "source": [
    "## 114. Flatten Binary Tree to Linked List (BT, Queue-BFS) (Microsoft 5)"
   ]
  },
  {
   "cell_type": "code",
   "execution_count": null,
   "metadata": {},
   "outputs": [],
   "source": [
    "class Solution:\n",
    "    def flatten(self, root):\n",
    "        \"\"\"\n",
    "        Do not return anything, modify root in-place instead.\n",
    "        \"\"\"\n",
    "        while root:\n",
    "            if root.left:\n",
    "                most_right = root.left\n",
    "                \n",
    "                while most_right.right: \n",
    "                    most_right = most_right.right\n",
    "                \n",
    "                most_right.right = root.right\n",
    "                root.right = root.left\n",
    "                \n",
    "                root.left = None\n",
    "            root = root.right\n",
    "        return"
   ]
  },
  {
   "cell_type": "code",
   "execution_count": null,
   "metadata": {},
   "outputs": [],
   "source": [
    "class Solution:\n",
    "    def flatten(self, root):\n",
    "        \"\"\"\n",
    "        Do not return anything, modify root in-place instead.\n",
    "        \"\"\"\n",
    "        if not root:\n",
    "            return\n",
    "        \n",
    "        queue=[root]\n",
    "        head = TreeNode(0)\n",
    "        cur = head\n",
    "        \n",
    "        while queue:\n",
    "            node = queue.pop()\n",
    "            cur.right = node\n",
    "            if node.right:\n",
    "                queue.append(node.right)\n",
    "            if node.left:\n",
    "                queue.append(node.left)\n",
    "                \n",
    "            node.left = None\n",
    "            cur = cur.right"
   ]
  },
  {
   "cell_type": "markdown",
   "metadata": {},
   "source": [
    "## 958 Check Completeness of a Binary Tree (BT, Queue-BFS) (Facebook 7)\n",
    "\n",
    "O(N)  \n",
    "O(N)"
   ]
  },
  {
   "cell_type": "code",
   "execution_count": null,
   "metadata": {},
   "outputs": [],
   "source": [
    "class Solution:\n",
    "    def isCompleteTree(self, root):\n",
    "        \"\"\"\n",
    "        :type root: TreeNode\n",
    "        :rtype: bool\n",
    "        \"\"\"   \n",
    "        queue = [root]\n",
    "        end = False\n",
    "        while queue:\n",
    "            for i in range(len(queue)):\n",
    "                node = queue.pop(0)\n",
    "                \n",
    "                if not node:\n",
    "                    end = True\n",
    "                    continue\n",
    "                if end:\n",
    "                    return False\n",
    "                queue.extend([node.left, node.right])\n",
    "                \n",
    "            # queue = tmp\n",
    "        return True"
   ]
  },
  {
   "cell_type": "code",
   "execution_count": null,
   "metadata": {},
   "outputs": [],
   "source": [
    "class Solution:\n",
    "    def isCompleteTree(self, root):\n",
    "        \"\"\"\n",
    "        :type root: TreeNode\n",
    "        :rtype: bool\n",
    "        \"\"\"   \n",
    "        queue = [root]\n",
    "        end = False\n",
    "        while queue:\n",
    "            tmp = []\n",
    "            for node in queue:\n",
    "                if not node:\n",
    "                    end = True\n",
    "                    continue\n",
    "                if end:\n",
    "                    return False\n",
    "                tmp.extend([node.left, node.right])\n",
    "            queue = tmp\n",
    "        return True"
   ]
  },
  {
   "cell_type": "markdown",
   "metadata": {},
   "source": [
    "## 199. Binary Tree Right Side View (BT, Queue-BFS) (Facebook 13, Amazon 8)  \n",
    "O(N)  \n",
    "O(N)"
   ]
  },
  {
   "cell_type": "code",
   "execution_count": null,
   "metadata": {},
   "outputs": [],
   "source": [
    "class Solution:\n",
    "    def rightSideView(self, root):\n",
    "        \"\"\"\n",
    "        :type root: TreeNode\n",
    "        :rtype: List[int]\n",
    "        \"\"\"\n",
    "        \n",
    "        if not root:\n",
    "            return \n",
    "        \n",
    "        res = []\n",
    "        queue = [root]\n",
    "        while queue:\n",
    "            for i in range(len(queue)):\n",
    "                \n",
    "                node = queue.pop(0)\n",
    "                \n",
    "                if node.left:\n",
    "                    queue.append(node.left)\n",
    "                if node.right:\n",
    "                    queue.append(node.right)\n",
    "                    \n",
    "            res.append(node.val)\n",
    "        return res"
   ]
  },
  {
   "cell_type": "markdown",
   "metadata": {},
   "source": [
    "## 102. Binary Tree Level Order Traversal (BT, Queue-BFS) (Amazon 11, Microsoft 6)\n",
    "\n",
    "O(N)  \n",
    "O(N)"
   ]
  },
  {
   "cell_type": "code",
   "execution_count": null,
   "metadata": {},
   "outputs": [],
   "source": [
    "# Definition for a binary tree node.\n",
    "# class TreeNode(object):\n",
    "#     def __init__(self, x):\n",
    "#         self.val = x\n",
    "#         self.left = None\n",
    "#         self.right = None\n",
    "\n",
    "class Solution:\n",
    "    def levelOrder(self, root):\n",
    "        \"\"\"\n",
    "        :type root: TreeNode\n",
    "        :rtype: List[List[int]]\n",
    "        \"\"\"\n",
    "        if not root:\n",
    "            return []\n",
    "        \n",
    "        res = []\n",
    "        queue = [root]\n",
    "        \n",
    "        while queue:\n",
    "            tmp = []\n",
    "            # nextl = []\n",
    "            \n",
    "            for i in range(len(queue)):\n",
    "                node = queue.pop(0)         \n",
    "                tmp.append(node.val)\n",
    "                \n",
    "                if node.left:\n",
    "                    queue.append(node.left)\n",
    "                if node.right:\n",
    "                    queue.append(node.right)\n",
    "            \n",
    "            res.append(tmp) \n",
    "        return res"
   ]
  },
  {
   "cell_type": "code",
   "execution_count": 4,
   "metadata": {},
   "outputs": [
    {
     "data": {
      "text/plain": [
       "2"
      ]
     },
     "execution_count": 4,
     "metadata": {},
     "output_type": "execute_result"
    }
   ],
   "source": [
    "x = [[], []]\n",
    "len(x)"
   ]
  },
  {
   "cell_type": "code",
   "execution_count": null,
   "metadata": {},
   "outputs": [],
   "source": [
    "class Solution:\n",
    "    def levelOrder(self, root):\n",
    "        \"\"\"\n",
    "        :type root: TreeNode\n",
    "        :rtype: List[List[int]]\n",
    "        \"\"\"\n",
    "        if not root:\n",
    "            return []\n",
    "        \n",
    "        res = []\n",
    "        queue = [root]\n",
    "        \n",
    "        while queue:\n",
    "            # nextl = []\n",
    "            tmp = []\n",
    "            for i in range(len(queue)):\n",
    "                node = queue.pop(0)    \n",
    "                if node:\n",
    "                    \n",
    "                    tmp.append(node.val)\n",
    "\n",
    "    #                 if node.left:\n",
    "                    queue.append(node.left)\n",
    "    #                 if node.right:\n",
    "                    queue.append(node.right)\n",
    "            \n",
    "            if tmp:\n",
    "                res.append(tmp) \n",
    "        return res"
   ]
  },
  {
   "cell_type": "code",
   "execution_count": 27,
   "metadata": {},
   "outputs": [],
   "source": [
    "# Definition for a binary tree node.\n",
    "# class TreeNode:\n",
    "#     def __init__(self, x):\n",
    "#         self.val = x\n",
    "#         self.left = None\n",
    "#         self.right = None\n",
    "\n",
    "# DFS-Recursion\n",
    "class Solution:\n",
    "    def levelOrder(self, root):\n",
    "        \"\"\"\n",
    "        :type root: TreeNode\n",
    "        :rtype: List[List[int]]\n",
    "        \"\"\"\n",
    "        if not root:\n",
    "            return []\n",
    "        \n",
    "        res = []\n",
    "        def dfs(root, depth = 0):\n",
    "            if not root:\n",
    "                return\n",
    "            # start the current level\n",
    "            if len(res) == depth:\n",
    "                res.append([])\n",
    "\n",
    "            # append the current node value\n",
    "            res[depth].append(root.val)\n",
    "\n",
    "            # process child nodes for the next level\n",
    "\n",
    "            dfs(root.left, depth + 1)\n",
    "            dfs(root.right, depth + 1)\n",
    "            \n",
    "        dfs(root)\n",
    "        return res"
   ]
  },
  {
   "cell_type": "markdown",
   "metadata": {},
   "source": [
    "## 103. Binary Tree Zigzag Level Order Transversal (BT, Queue-BFS, Recursion-DFS) (Amazon 33, Microsoft 11)\n",
    "\n",
    "时间复杂度: O(N)  \n",
    "O(N)"
   ]
  },
  {
   "cell_type": "code",
   "execution_count": null,
   "metadata": {},
   "outputs": [],
   "source": [
    "# BFS\n",
    "class Solution:\n",
    "    def zigzagLevelOrder(self, root):\n",
    "        \"\"\"\n",
    "        :type root: TreeNode\n",
    "        :rtype: List[List[int]]\n",
    "        \"\"\"\n",
    "        \n",
    "        if not root:\n",
    "            return []\n",
    "        \n",
    "        res = []\n",
    "        queue = [root]\n",
    "        level = 0\n",
    "        \n",
    "        while queue:\n",
    "            tmp = []\n",
    "            \n",
    "            for i in range(len(queue)):\n",
    "                node = queue.pop(0)\n",
    "                tmp.append(node.val)\n",
    "                \n",
    "                if node.left:\n",
    "                    queue.append(node.left)\n",
    "                if node.right:\n",
    "                    queue.append(node.right)\n",
    "            \n",
    "            if level % 2 == 0:\n",
    "                res.append(tmp)  \n",
    "            else:\n",
    "                tmp.reverse()\n",
    "                res.append(tmp)\n",
    "            \n",
    "            level += 1\n",
    "        return res"
   ]
  },
  {
   "cell_type": "code",
   "execution_count": null,
   "metadata": {},
   "outputs": [],
   "source": [
    "## DFS\n",
    "class Solution:\n",
    "    def zigzagLevelOrder(self, root):\n",
    "        \"\"\"\n",
    "        :type root: TreeNode\n",
    "        :rtype: List[List[int]]\n",
    "        \"\"\"\n",
    "        if not root:\n",
    "            return []\n",
    "        \n",
    "        res = []\n",
    "        def dfs(root, depth):\n",
    "            if not root: \n",
    "                return \n",
    "            \n",
    "            if len(res) == depth:\n",
    "                res.append([])\n",
    "                \n",
    "            if depth % 2 == 0:\n",
    "                res[depth].append(root.val)\n",
    "            else: \n",
    "                res[depth].insert(0, root.val)\n",
    "                \n",
    "            dfs(root.left, depth + 1)\n",
    "            dfs(root.right, depth + 1)\n",
    "            \n",
    "        dfs(root, 0)\n",
    "        return res"
   ]
  },
  {
   "cell_type": "code",
   "execution_count": 33,
   "metadata": {},
   "outputs": [],
   "source": [
    "s = [1,2,3]\n",
    "s = s.reverse()\n",
    "s"
   ]
  },
  {
   "cell_type": "code",
   "execution_count": 296,
   "metadata": {},
   "outputs": [
    {
     "name": "stdout",
     "output_type": "stream",
     "text": [
      "tmp_res = [3]\n",
      "next_level = 9 1\n",
      "next_level = 20 2\n",
      "res = [[3]]\n",
      "level_count = 1\n",
      "cur_level = 2\n",
      "\n",
      "tmp_res = [9]\n",
      "tmp_res = [9, 20]\n",
      "next_level = 15 1\n",
      "next_level = 7 2\n",
      "tmp_res = [20, 9]\n",
      "res = [[3], [20, 9]]\n",
      "level_count = 2\n",
      "cur_level = 2\n",
      "\n",
      "tmp_res = [15]\n",
      "tmp_res = [15, 7]\n",
      "res = [[3], [20, 9], [15, 7]]\n",
      "level_count = 3\n",
      "cur_level = 0\n",
      "\n"
     ]
    },
    {
     "data": {
      "text/plain": [
       "[[3], [20, 9], [15, 7]]"
      ]
     },
     "execution_count": 296,
     "metadata": {},
     "output_type": "execute_result"
    }
   ],
   "source": [
    "root = TreeNode(3)\n",
    "root.left = TreeNode(9)\n",
    "root.right = TreeNode(20)\n",
    "root.right.left = TreeNode(15)\n",
    "root.right.right = TreeNode(7)\n",
    "\n",
    "s = Solution()\n",
    "s.zigzagLevelOrder(root)"
   ]
  },
  {
   "cell_type": "markdown",
   "metadata": {},
   "source": [
    "## 107. Binary Tree Level Order Transversal III (Microsoft 3)"
   ]
  },
  {
   "cell_type": "code",
   "execution_count": null,
   "metadata": {},
   "outputs": [],
   "source": [
    "class Solution:\n",
    "    def levelOrder(self, root):\n",
    "        \"\"\"\n",
    "        :type root: TreeNode\n",
    "        :rtype: List[List[int]]\n",
    "        \"\"\"\n",
    "        if not root:\n",
    "            return []\n",
    "        \n",
    "        res = []\n",
    "        queue = [root]\n",
    "        \n",
    "        while queue:\n",
    "            tmp = []\n",
    "            # nextl = []\n",
    "            \n",
    "            for i in range(len(queue)):\n",
    "                node = queue.pop(0)         \n",
    "                tmp.append(node.val)\n",
    "                \n",
    "                if node.left:\n",
    "                    queue.append(node.left)\n",
    "                if node.right:\n",
    "                    queue.append(node.right)\n",
    "            \n",
    "            res.append(tmp) \n",
    "        return res[::-1]"
   ]
  },
  {
   "cell_type": "code",
   "execution_count": null,
   "metadata": {},
   "outputs": [],
   "source": [
    "class Solution:\n",
    "    def levelOrderBottom(self, root):\n",
    "        \"\"\"\n",
    "        :type root: TreeNode\n",
    "        :rtype: List[List[int]]\n",
    "        \"\"\"\n",
    "        if not root:\n",
    "            return []\n",
    "        \n",
    "        res = []\n",
    "        def dfs(root, depth = 0):\n",
    "            if not root:\n",
    "                return\n",
    "            # start the current level\n",
    "            if len(res) == depth:\n",
    "                res.append([])\n",
    "\n",
    "            # append the current node value\n",
    "            res[depth].append(root.val)\n",
    "\n",
    "            # process child nodes for the next level\n",
    "\n",
    "            dfs(root.left, depth + 1)\n",
    "            dfs(root.right, depth + 1)\n",
    "            \n",
    "        dfs(root)\n",
    "        return res[::-1]"
   ]
  },
  {
   "cell_type": "markdown",
   "metadata": {},
   "source": [
    "## Validate Single Binary Tree (Google Phone)\n",
    "https://leetcode.com/discuss/interview-question/347374/Google-and-Facebook-or-Validate-Single-Binary-Tree "
   ]
  },
  {
   "cell_type": "code",
   "execution_count": null,
   "metadata": {},
   "outputs": [],
   "source": [
    "class Solution:\n",
    "    def is_binary_tree(nodes_list):\n",
    "        dic = {}\n",
    "        for n in nodes_list:\n",
    "            dic[n] = False   # each node starts without parent\n",
    "\n",
    "        root = len(nodes_list)  # root candidates counter. Initially, all nodes are candidates.\n",
    "        for n in nodes_list:\n",
    "            if n.left:\n",
    "                if n.left not in nodes_dict:  # child not in original list\n",
    "                    return False\n",
    "                if dic[n.left]:  # child already has a parent\n",
    "                    return False\n",
    "                dic[n.left] = True   # we mark the child as \"it already has a parent\"\n",
    "                root -= 1  # root candidates decrease by 1\n",
    "\n",
    "            if n.right:  # do the same for the right child\n",
    "                if n.right not in dic:\n",
    "                    return False\n",
    "                if dic[n.right]:\n",
    "                    return False\n",
    "                dic[n.right] = True\n",
    "                root -= 1\n",
    "\n",
    "        if root == 1:\n",
    "            return True\n",
    "        else:\n",
    "            return False"
   ]
  },
  {
   "cell_type": "markdown",
   "metadata": {},
   "source": [
    "## 894. All Possible Full Binary Trees (Google Onsite)"
   ]
  },
  {
   "cell_type": "code",
   "execution_count": null,
   "metadata": {},
   "outputs": [],
   "source": [
    "class Solution:\n",
    "    def allPossibleFBT(self, N: int) -> List[TreeNode]:\n",
    "        \"\"\"\n",
    "        :param N: A full binary tree must have odd number of nodes\n",
    "        The number of leaf nodes must be N // 2 + 1\n",
    "        :return:\n",
    "        \"\"\"\n",
    "        def recur(N):\n",
    "            \"\"\"\n",
    "            :param N: Number of leaf nodes in the \"full\" binary tree\n",
    "            :return:\n",
    "            \"\"\"\n",
    "            if N == 0:\n",
    "                return\n",
    "            elif N == 1:\n",
    "                return [TreeNode(0)]\n",
    "\n",
    "            result = []\n",
    "            for i in range(1, N):\n",
    "                for left in recur(i):\n",
    "                    for right in recur(N - i):\n",
    "                        root = TreeNode(0)\n",
    "                        root.left = left\n",
    "                        root.right = right\n",
    "                        result.append(root)\n",
    "            return result\n",
    "\n",
    "        if N % 2 == 0: \n",
    "            return []\n",
    "        return recur(N // 2 + 1)"
   ]
  },
  {
   "cell_type": "markdown",
   "metadata": {},
   "source": [
    "## 559. Maximum Depth of N-ary Tree(Amazon 3)"
   ]
  },
  {
   "cell_type": "code",
   "execution_count": null,
   "metadata": {},
   "outputs": [],
   "source": [
    "class Solution:\n",
    "    def maxDepth(self, root):\n",
    "        \"\"\"\n",
    "        :type root: Node\n",
    "        :rtype: int\n",
    "        \"\"\"\n",
    "\n",
    "        def dfs(root):\n",
    "            if not root: \n",
    "                return 0\n",
    "            if not root.children: \n",
    "                return 1\n",
    "            \n",
    "            height = []\n",
    "            for node in root.children:\n",
    "                height.append(dfs(node))\n",
    "            return max(height) + 1\n",
    "        \n",
    "        return dfs(root)\n",
    "    \n",
    "# class Solution:\n",
    "#     def maxDepth(self, root):\n",
    "#         \"\"\"\n",
    "#         :type root: TreeNode\n",
    "#         :rtype: int\n",
    "#         \"\"\" \n",
    "#         if not root: \n",
    "#             return 0 \n",
    "\n",
    "#         left = self.maxDepth(root.left) \n",
    "#         right = self.maxDepth(root.right) \n",
    "#         return 1 + max(left, right) "
   ]
  },
  {
   "cell_type": "markdown",
   "metadata": {},
   "source": [
    "## Time To Receive Note/Min Time to Wet Tree (Google Phone)\n",
    "https://leetcode.com/discuss/interview-question/394258/ "
   ]
  },
  {
   "cell_type": "code",
   "execution_count": null,
   "metadata": {},
   "outputs": [],
   "source": [
    "class Solution:\n",
    "    def findLongestPath(self, root):\n",
    "        if not root:\n",
    "            return 0\n",
    "        if not root.children:\n",
    "            return 0\n",
    "\n",
    "        res = 0\n",
    "        for node in root.children:\n",
    "            res = max(res, node[1] + self.findLongestPath(node[0]))\n",
    "            \n",
    "        return res\n",
    "    \n",
    "# int findLongestNotePath(Node* root) {\n",
    "#   if (root == nullptr) return 0;\n",
    "#   if (root->children.size() == 0) return 0;\n",
    "#   else{\n",
    "#     int maxPath = 0;\n",
    "#     for (auto c : root->children) {\n",
    "#       maxPath = max(maxPath, c.second + findLongestNotePath(c.first));\n",
    "#     }\n",
    "#     return maxPath;\n",
    "#   }\n",
    "# }"
   ]
  },
  {
   "cell_type": "markdown",
   "metadata": {},
   "source": [
    "## 589. N-ary Tree Preorder Traversal (Google)"
   ]
  },
  {
   "cell_type": "code",
   "execution_count": null,
   "metadata": {},
   "outputs": [],
   "source": [
    "class Solution:\n",
    "    def preorder(self, root):\n",
    "        \"\"\"\n",
    "        :type root: Node\n",
    "        :rtype: List[int]\n",
    "        \"\"\"\n",
    "        if not root:\n",
    "            return []\n",
    "        \n",
    "        res = []    \n",
    "        def addnode(root):\n",
    "            if not root:\n",
    "                return\n",
    "            \n",
    "            res.append(root.val)\n",
    "\n",
    "            for c in root.children:\n",
    "                addnode(c)\n",
    "                    \n",
    "        addnode(root)\n",
    "        return res"
   ]
  },
  {
   "cell_type": "code",
   "execution_count": null,
   "metadata": {},
   "outputs": [],
   "source": [
    "class Solution:\n",
    "    def preorder(self, root):\n",
    "        \"\"\"\n",
    "        :type root: Node\n",
    "        :rtype: List[int]\n",
    "        \"\"\"\n",
    "        if not root:\n",
    "            return []\n",
    "        \n",
    "        stack = [root]\n",
    "        output = []            \n",
    "        while stack:\n",
    "            root = stack.pop()\n",
    "            output.append(root.val)\n",
    "            stack.extend(root.children[::-1])\n",
    "                \n",
    "        return output"
   ]
  },
  {
   "cell_type": "markdown",
   "metadata": {},
   "source": [
    "## 590. N-ary Tree Postorder Traversal"
   ]
  },
  {
   "cell_type": "code",
   "execution_count": null,
   "metadata": {},
   "outputs": [],
   "source": [
    "class Solution:\n",
    "    def postorder(self, root):\n",
    "        \"\"\"\n",
    "        :type root: Node\n",
    "        :rtype: List[int]\n",
    "        \"\"\"\n",
    "        if not root:\n",
    "            return []\n",
    "        \n",
    "        res = []    \n",
    "        def addnode(root):\n",
    "            if not root:\n",
    "                return\n",
    "            \n",
    "            for c in root.children:\n",
    "                addnode(c)\n",
    "                \n",
    "            res.append(root.val)\n",
    "                    \n",
    "        addnode(root)\n",
    "        return res"
   ]
  },
  {
   "cell_type": "markdown",
   "metadata": {},
   "source": [
    "## 133. Clone Graph (Graph, DFS) (Facebook 13, Amazon 5)  \n"
   ]
  },
  {
   "cell_type": "code",
   "execution_count": null,
   "metadata": {},
   "outputs": [],
   "source": [
    "\"\"\"\n",
    "# Definition for a Node.\n",
    "class Node:\n",
    "    def __init__(self, val, neighbors):\n",
    "        self.val = val\n",
    "        self.neighbors = neighbors\n",
    "\"\"\"\n",
    "# DFS\n",
    "class Solution:\n",
    "    # @param node, a undirected graph node\n",
    "    # @return a undirected graph node\n",
    "    def cloneGraph(self, node):\n",
    "        \"\"\"\n",
    "        :type node: Node\n",
    "        :rtype: Node\n",
    "        \"\"\"\n",
    "        \n",
    "        if not node:\n",
    "            return\n",
    "        \n",
    "        visited = {}\n",
    "        \n",
    "        def dfs(node):\n",
    "            if node.val in visited:\n",
    "                return visited[node.val]\n",
    "            \n",
    "            clone = Node(node.val, [])\n",
    "            visited[clone.val] = clone\n",
    "            \n",
    "            clone.neighbors = [dfs(n) for n in node.neighbors]\n",
    "            return clone\n",
    "        \n",
    "        return dfs(node)"
   ]
  },
  {
   "cell_type": "markdown",
   "metadata": {},
   "source": [
    "### Graph(List, Dict). Queue-BFS, Topological Sorting. O(V+E) O(V+E)"
   ]
  },
  {
   "cell_type": "markdown",
   "metadata": {},
   "source": [
    "## Monarchy (Google Phone)"
   ]
  },
  {
   "cell_type": "code",
   "execution_count": 11,
   "metadata": {},
   "outputs": [
    {
     "name": "stdout",
     "output_type": "stream",
     "text": [
      "king\n",
      "Andy\n",
      "Matthew\n",
      "Bob\n",
      "Alex \n",
      "Asha \n",
      "Catherine\n"
     ]
    }
   ],
   "source": [
    "class Monarch:\n",
    "    def __init__(self):\n",
    "        self.name = None\n",
    "        self.childern = []\n",
    "        self.isAlive = True\n",
    "        \n",
    "class Monarchy:\n",
    "    def __init__(self):\n",
    "        self.firstMonarch = None\n",
    "        self.monarchs = {}\n",
    "        \n",
    "    def birth(self, child, parent):\n",
    "        # create monarch\n",
    "        monarch = Monarch()\n",
    "        monarch.name = child\n",
    "        # If it's the first monarch\n",
    "        if not parent and not self.firstMonarch:\n",
    "            self.firstMonarch = monarch\n",
    "        else: \n",
    "            # find parent and add child\n",
    "            if not (parent in self.monarchs):\n",
    "                print(\"Parent not found\")\n",
    "                return\n",
    "            self.monarchs[parent].childern.append(monarch)\n",
    "        # Add the monarch to hash table\n",
    "        self.monarchs[child] = monarch\n",
    "\n",
    "    def death(self, name):\n",
    "        self.monarchs[name].isAlive = False\n",
    "\n",
    "    def preOrder(self, node):\n",
    "        if not node:\n",
    "            return\n",
    "\n",
    "        if node.isAlive:\n",
    "            # don't print dead people :'(\n",
    "            print(node.name)\n",
    "        for child in node.childern:\n",
    "            \n",
    "            self.preOrder(child)\n",
    "\n",
    "    def getOrderOfSuccession(self):\n",
    "        self.preOrder(self.firstMonarch)\n",
    "\n",
    "# Main\n",
    "m = Monarchy()\n",
    "m.birth(\"king\", None)\n",
    "m.birth(\"Andy\", \"king\")\n",
    "m.birth(\"Bob\", \"king\")\n",
    "m.birth(\"Catherine\", \"king\")\n",
    "m.birth(\"Matthew\" , \"Andy\")\n",
    "m.birth(\"Alex \" , \"Bob\")\n",
    "m.birth(\"Asha \" , \"Bob\")\n",
    "m.getOrderOfSuccession()"
   ]
  },
  {
   "cell_type": "markdown",
   "metadata": {},
   "source": [
    "## 1197 Minimum Knight Moves (Google 3)"
   ]
  },
  {
   "cell_type": "code",
   "execution_count": null,
   "metadata": {},
   "outputs": [],
   "source": [
    "class Solution:\n",
    "    def minKnightMoves(self, x: int, y: int) -> int:\n",
    "        moves = [(1,2),(2,1),(2,-1),(1,-2),(-1,-2),(-2,-1),(-2,1),(-1,2)]\n",
    "        \n",
    "        visited = set()\n",
    "        visited.add((0,0))\n",
    "        queue = [(0,0,0)]\n",
    "        \n",
    "        while queue:\n",
    "            vertex = queue.pop(0)\n",
    "            \n",
    "            for move in moves:\n",
    "                i = vertex[0] + move[0]\n",
    "                j = vertex[1] + move[1]\n",
    "                # z = vertex[2] + move[2]\n",
    "                \n",
    "                if -300 <= i <= 300 and -300 <= j <= 300:\n",
    "                    if (i,j) == (x,y):\n",
    "                        return vertex[2] + 1\n",
    "\n",
    "                    if (i,j) not in visited:\n",
    "                        visited.add((i,j))\n",
    "                        queue.append((i,j,vertex[2]+1))\n",
    "                        \n",
    "# class Solution(object):\n",
    "#     memo = {(0, 0): 0}\n",
    "#     queue = [(0, 0, 0)]\n",
    "#     while queue:\n",
    "#         vertex = queue.pop(0)\n",
    "#         for move in ((2, -1), (2, 1), (-2, -1), (-2, 1), (1, -2), (1, 2), (-1, -2), (-1, 2)):\n",
    "#             i = vertex[0]+move[0]\n",
    "#             j = vertex[1]+move[1]\n",
    "            \n",
    "#             if -300 <= i <= 300 and -300 <= j <= 300:\n",
    "#                 if (i, j) not in memo:\n",
    "#                     memo[i,j] = vertex[2]+1\n",
    "#                     queue.append((i, j, vertex[2]+1))\n",
    "#     print(queue)\n",
    "#     def minKnightMoves(self, x, y):\n",
    "#         x = abs(x)\n",
    "#         y = abs(y)\n",
    "#         return self.memo[x,y]"
   ]
  },
  {
   "cell_type": "markdown",
   "metadata": {},
   "source": [
    "## 127 Word Ladder (Graph. BFS) (Amazon 27, Microsoft 6)  \n",
    "O(MN)  \n",
    "O(MN)"
   ]
  },
  {
   "cell_type": "code",
   "execution_count": 7,
   "metadata": {},
   "outputs": [],
   "source": [
    "from collections import defaultdict, deque\n",
    "class Solution(object):\n",
    "    def ladderLength(self, beginWord, endWord, wordList):\n",
    "        \"\"\"\n",
    "        :type beginWord: str\n",
    "        :type endWord: str\n",
    "        :type wordList: List[str]\n",
    "        :rtype: int\n",
    "        \"\"\"\n",
    "\n",
    "        if endWord not in wordList or not endWord or not beginWord or not wordList:\n",
    "            return 0\n",
    "\n",
    "        # Dictionary to hold combination of words that can be formed,\n",
    "        # from any given word. By changing one letter at a time.\n",
    "        dic = defaultdict(list)\n",
    "        for word in wordList:\n",
    "            for i in range(len(beginWord)):\n",
    "                # Key is the generic word\n",
    "                # Value is a list of words which have the same intermediate generic word.\n",
    "                dic[word[:i] + \"*\" + word[i+1:]].append(word)\n",
    "                \n",
    "        print(dic)\n",
    "\n",
    "        queue = deque([(beginWord, 1)])\n",
    "        # Visited to make sure we don't repeat processing same word.\n",
    "        visited = {beginWord: True}\n",
    "        while queue:\n",
    "            cur, level = queue.popleft()      \n",
    "            for i in range(len(beginWord)):\n",
    "                # Intermediate words for current word\n",
    "                potential = cur[:i] + \"*\" + cur[i+1:]\n",
    "\n",
    "                # Next states are all the words which share the same intermediate state.\n",
    "                for word in dic[potential]:\n",
    "                    # If at any point if we find what we are looking for\n",
    "                    # i.e. the end word - we can return with the answer.\n",
    "                    if word == endWord:\n",
    "                        return level + 1\n",
    "                    # Otherwise, add it to the BFS Queue. Also mark it visited\n",
    "                    if word not in visited:\n",
    "                        visited[word] = True\n",
    "                        queue.append((word, level + 1))\n",
    "                dic[potential] = []\n",
    "                \n",
    "        return 0"
   ]
  },
  {
   "cell_type": "code",
   "execution_count": 8,
   "metadata": {},
   "outputs": [
    {
     "name": "stdout",
     "output_type": "stream",
     "text": [
      "defaultdict(<class 'list'>, {'*ot': ['hot', 'dot', 'lot'], 'h*t': ['hot'], 'ho*': ['hot'], 'd*t': ['dot'], 'do*': ['dot', 'dog'], '*og': ['dog', 'log', 'cog'], 'd*g': ['dog'], 'l*t': ['lot'], 'lo*': ['lot', 'log'], 'l*g': ['log'], 'c*g': ['cog'], 'co*': ['cog']})\n"
     ]
    },
    {
     "data": {
      "text/plain": [
       "5"
      ]
     },
     "execution_count": 8,
     "metadata": {},
     "output_type": "execute_result"
    }
   ],
   "source": [
    "s = Solution()\n",
    "s.ladderLength('hit', 'cog', [\"hot\",\"dot\",\"dog\",\"lot\",\"log\",\"cog\"])\n"
   ]
  },
  {
   "cell_type": "code",
   "execution_count": 67,
   "metadata": {},
   "outputs": [
    {
     "data": {
      "text/plain": [
       "5"
      ]
     },
     "execution_count": 67,
     "metadata": {},
     "output_type": "execute_result"
    }
   ],
   "source": [
    "from collections import defaultdict\n",
    "\n",
    "def ladderLength(beginWord, endWord, wordList):\n",
    "    \"\"\"\n",
    "    :type beginWord: str\n",
    "    :type endWord: str\n",
    "    :type wordList: List[str]\n",
    "    :rtype: int\n",
    "    \"\"\"\n",
    "\n",
    "    if endWord not in wordList or not endWord or not beginWord or not wordList:\n",
    "        return 0\n",
    "\n",
    "    # Since all words are of same length.\n",
    "    L = len(beginWord)\n",
    "\n",
    "    # Dictionary to hold combination of words that can be formed,\n",
    "    # from any given word. By changing one letter at a time.\n",
    "    all_combo_dict = defaultdict(list)\n",
    "    for word in wordList:\n",
    "        for i in range(L):\n",
    "            # Key is the generic word\n",
    "            # Value is a list of words which have the same intermediate generic word.\n",
    "            all_combo_dict[word[:i] + \"*\" + word[i+1:]].append(word)\n",
    "\n",
    "\n",
    "    # Queue for BFS\n",
    "    queue = [(beginWord, 1)]\n",
    "    # Visited to make sure we don't repeat processing same word.\n",
    "    visited = {beginWord: True}\n",
    "    while queue:\n",
    "        current_word, level = queue.pop(0)      \n",
    "        for i in range(L):\n",
    "            # Intermediate words for current word\n",
    "            intermediate_word = current_word[:i] + \"*\" + current_word[i+1:]\n",
    "\n",
    "            # Next states are all the words which share the same intermediate state.\n",
    "            for word in all_combo_dict[intermediate_word]:\n",
    "                # If at any point if we find what we are looking for\n",
    "                # i.e. the end word - we can return with the answer.\n",
    "                if word == endWord:\n",
    "                    return level + 1\n",
    "\n",
    "                # Otherwise, add it to the BFS Queue. Also mark it visited\n",
    "                if word not in visited:\n",
    "                    visited[word] = True\n",
    "                    queue.append((word, level + 1))\n",
    "\n",
    "            all_combo_dict[intermediate_word] = []\n",
    "    return 0\n",
    "\n",
    "ladderLength(\"hit\",\"cog\", [\"hot\",\"dot\",\"dog\",\"lot\",\"log\",\"cog\"])"
   ]
  },
  {
   "cell_type": "markdown",
   "metadata": {},
   "source": [
    "## 399. Evaluate Division (Google 3,"
   ]
  },
  {
   "cell_type": "code",
   "execution_count": null,
   "metadata": {},
   "outputs": [],
   "source": [
    "class Solution:    \n",
    "    def calcEquation(self, equations, values, queries):\n",
    "        \"\"\"\n",
    "        :type equations: List[List[str]]\n",
    "        :type values: List[float]\n",
    "        :type queries: List[List[str]]\n",
    "        :rtype: List[float]\n",
    "        \"\"\"\n",
    "        \n",
    "        # 构造图，equations的第一项除以第二项等于value里的对应值，第二项除以第一项等于其倒数\n",
    "        graph = {}\n",
    "        for (x, y), v in zip(equations, values):\n",
    "            if x in graph:\n",
    "                graph[x][y] = v\n",
    "            else:\n",
    "                graph[x] = {y: v}\n",
    "            if y in graph:\n",
    "                graph[y][x] = 1/v\n",
    "            else:\n",
    "                graph[y] = {x: 1/v}\n",
    "        \n",
    "        # dfs找寻从s到t的路径并返回结果叠乘后的边权重即结果\n",
    "        def dfs(first, last):\n",
    "            if first not in graph:\n",
    "                return -1\n",
    "            if first == last:\n",
    "                return 1\n",
    "            if last in graph[first]:\n",
    "                return graph[first][last]\n",
    "            \n",
    "            for node in graph[first].keys():\n",
    "                if node not in visited:\n",
    "                    visited.add(node)  # 添加到已访问避免重复遍历\n",
    "                    res = dfs(node, last)\n",
    "                    if res != -1:\n",
    "                        return graph[first][node] * res\n",
    "            return -1\n",
    "\n",
    "        # 逐个计算query的值\n",
    "        res = []\n",
    "        for first, last in queries:\n",
    "            visited = set()\n",
    "            res.append(dfs(first, last))\n",
    "        return res"
   ]
  },
  {
   "cell_type": "markdown",
   "metadata": {},
   "source": [
    "## 743. Network Delay Time (Google 7 Phone)"
   ]
  },
  {
   "cell_type": "code",
   "execution_count": null,
   "metadata": {},
   "outputs": [],
   "source": [
    "from collections import defaultdict\n",
    "class Solution:\n",
    "    def networkDelayTime(self, times, N, K):\n",
    "        \"\"\"\n",
    "        :type times: List[List[int]]\n",
    "        :type N: int\n",
    "        :type K: int\n",
    "        :rtype: int\n",
    "        \"\"\"\n",
    "\n",
    "        graph = defaultdict(list)\n",
    "        for u, v, w in times:\n",
    "            graph[u].append([v, w])\n",
    "\n",
    "        dist = {}\n",
    "        for node in range(1, N+1):\n",
    "            dist[node] = float('inf')\n",
    "\n",
    "        def dfs(node, elapsed):\n",
    "            if elapsed >= dist[node]: \n",
    "                return\n",
    "            \n",
    "            dist[node] = elapsed\n",
    "            for nei, time in sorted(graph[node], key = lambda x:x[1]):\n",
    "                dfs(nei, elapsed + time)\n",
    "\n",
    "        dfs(K, 0)\n",
    "        ans = max(dist.values())\n",
    "        return ans if ans < float('inf') else -1"
   ]
  },
  {
   "cell_type": "markdown",
   "metadata": {},
   "source": [
    "## 207. Course Schedule. (Graph(List, Dict). Queue-BFS, Topological Sorting) (Amazon 25, Uber 5)  \n",
    "这个问题相当于查找一个循环是否存在于有向图中。如果存在循环，则不存在拓扑排序，因此不可能选取所有课程进行学习。  \n",
    "通过 DFS 进行拓扑排序 - 一个关于Coursera的精彩视频教程（21分钟），介绍拓扑排序的基本概念。  \n",
    "拓扑排序也可以通过 BFS 完成。  \n",
    "\n",
    "本题可约化为：课程安排图是否是 有向无环图(DAG)。即课程间规定了前置条件，但不能构成任何环路，否则课程前置条件将不成立。\n",
    "思路是通过 拓扑排序 判断此课程安排图是否是 有向无环图(DAG)。\n",
    "拓扑排序是对 DAG 的顶点进行排序，使得对每一条有向边(u,v)，均有 u（在排序记录中）比 v 先出现。亦可理解为对某点 v 而言，只有当 v 的所有源点均出现了，v 才能出现。\n",
    "\n",
    "\n",
    "O(V+E)  \n",
    "O(V+E)"
   ]
  },
  {
   "cell_type": "code",
   "execution_count": null,
   "metadata": {},
   "outputs": [],
   "source": [
    "from collections import defaultdict\n",
    "class Solution:\n",
    "    def canFinish(self, vertices, edges):\n",
    "        if vertices <= 0:\n",
    "            return []\n",
    "\n",
    "        res = []\n",
    "        # a. Initialize the graph\n",
    "        indegree = {i: 0 for i in range(vertices)}  # count of incoming edges\n",
    "        graph = defaultdict(list)  # adjacency list graph\n",
    "\n",
    "        # b. Build the graph\n",
    "        for child, parent in edges:\n",
    "            graph[parent].append(child)  # put the child into it's parent's list\n",
    "            indegree[child] += 1  # increment child's inDegree\n",
    "\n",
    "       # c. Find all sources i.e., all vertices with 0 in-degrees\n",
    "        queue = []\n",
    "        for key in indegree:\n",
    "            if indegree[key] == 0:\n",
    "                queue.append(key)\n",
    "\n",
    "      # d. For each source, add it to the sortedOrder and subtract one from all of its children's in-degrees\n",
    "      # if a child's in-degree becomes zero, add it to the sources queue\n",
    "        while queue:\n",
    "            vertex = queue.pop(0)\n",
    "            res.append(vertex)\n",
    "            for child in graph[vertex]:  # get the node's children to decrement their in-degrees\n",
    "                indegree[child] -= 1\n",
    "                if indegree[child] == 0:\n",
    "                    queue.append(child)\n",
    "\n",
    "      # topological sort is not possible as the graph has a cycle\n",
    "        return len(res) == vertices"
   ]
  },
  {
   "cell_type": "code",
   "execution_count": null,
   "metadata": {},
   "outputs": [],
   "source": [
    "class Solution:\n",
    "    def canFinish(self, num, prerequisites):\n",
    "        \"\"\"\n",
    "        :type numCourses: int\n",
    "        :type prerequisites: List[List[int]]\n",
    "        :rtype: bool\n",
    "        \"\"\"\n",
    "        graph = collections.defaultdict(list)\n",
    "        indegrees = [0] * numCourses\n",
    "\n",
    "        for course, pre in prerequisites:\n",
    "            graph[pre].append(course)\n",
    "            indegrees[course] += 1\n",
    "\n",
    "        return self.topologicalSort(graph, indegrees) == numCourses\n",
    "\n",
    "\n",
    "    def topologicalSort(self, graph, indegrees):\n",
    "        count = 0\n",
    "        queue = []\n",
    "        for i in range(len(indegrees)):\n",
    "            if indegrees[i] == 0:\n",
    "                queue.append(i)\n",
    "        while queue:\n",
    "            course = queue.pop()\n",
    "            count += 1\n",
    "            for i in graph[course]:\n",
    "                indegrees[i] -= 1\n",
    "                if indegrees[i] == 0:\n",
    "                    queue.append(i)\n",
    "        return count"
   ]
  },
  {
   "cell_type": "code",
   "execution_count": null,
   "metadata": {},
   "outputs": [],
   "source": [
    "class Solution:\n",
    "    def canFinish(self, numCourses, prerequisites):\n",
    "        \"\"\"\n",
    "        :type numCourses: int\n",
    "        :type prerequisites: List[List[int]]\n",
    "        :rtype: bool\n",
    "        \"\"\"\n",
    "        \n",
    "        indegrees = [0 for i in range(numCourses)]\n",
    "        adjacency = [[] for i in range(numCourses)]\n",
    "        \n",
    "        # Get the indegree and adjacency of every course.\n",
    "        for cur, pre in prerequisites:\n",
    "            indegrees[cur] += 1\n",
    "            adjacency[pre].append(cur)\n",
    "        # Get all the courses with the indegree of 0.\n",
    "        \n",
    "        queue = []\n",
    "        for i in range(len(indegrees)):\n",
    "            if not indegrees[i]: \n",
    "                queue.append(i)\n",
    "        # BFS TopSort.\n",
    "        while queue:\n",
    "            pre = queue.pop(0)\n",
    "            numCourses -= 1\n",
    "            for cur in adjacency[pre]:\n",
    "                indegrees[cur] -= 1\n",
    "                if not indegrees[cur]: \n",
    "                    queue.append(cur)\n",
    "        return not numCourses"
   ]
  },
  {
   "cell_type": "code",
   "execution_count": null,
   "metadata": {},
   "outputs": [],
   "source": [
    "class Solution:\n",
    "    def canFinish(self, num, prerequisites):\n",
    "        \"\"\"\n",
    "        :type numCourses: int\n",
    "        :type prerequisites: List[List[int]]\n",
    "        :rtype: bool\n",
    "        \"\"\"\n",
    "        \n",
    "        graph = [[]] * len(num)\n",
    "        visit = [0] * len(num)\n",
    "        \n",
    "        for x, y in prerequisites:\n",
    "            graph[x].append(y)\n",
    "            \n",
    "        def dfs(i):\n",
    "            if visit[i] == -1:\n",
    "                return False\n",
    "            if visit[i] == 1:\n",
    "                return True\n",
    "            visit[i] = -1\n",
    "            for j in graph[i]:\n",
    "                if not dfs(j):\n",
    "                    return False\n",
    "            visit[i] = 1\n",
    "            return True\n",
    "        \n",
    "        for i in range(num):\n",
    "            if not dfs(i):\n",
    "                return False\n",
    "        return True"
   ]
  },
  {
   "cell_type": "markdown",
   "metadata": {},
   "source": [
    "if node v has not been visited, then mark it as 0.  \n",
    "if node v is being visited, then mark it as -1. If we find a vertex marked as -1 in DFS, then their is a ring.  \n",
    "if node v has been visited, then mark it as 1. If a vertex was marked as 1, then no ring contains v or its successors.  "
   ]
  },
  {
   "cell_type": "markdown",
   "metadata": {},
   "source": [
    "## Course Schedule II"
   ]
  },
  {
   "cell_type": "code",
   "execution_count": null,
   "metadata": {},
   "outputs": [],
   "source": []
  },
  {
   "cell_type": "markdown",
   "metadata": {},
   "source": [
    "## 269. Alien Dictionary (Graph(Dict). Queue-BFS, Topological Sorting) (Facebook 15, Amazon 14, Microsoft 6) (Hard)\n",
    "O(V+E)  \n",
    "O(V+E)"
   ]
  },
  {
   "cell_type": "code",
   "execution_count": 65,
   "metadata": {},
   "outputs": [],
   "source": [
    "from collections import Counter, defaultdict\n",
    "class Solution:\n",
    "    def alienOrder(self, words):\n",
    "        if not words:\n",
    "            return \"\"\n",
    "\n",
    "      # a. Initialize the graph\n",
    "        indegree = Counter()  # count of incoming edges\n",
    "        graph = defaultdict(list)  # adjacency list graph\n",
    "        for word in words:\n",
    "            for character in word:\n",
    "                indegree[character] = 0\n",
    "                graph[character] = []\n",
    "\n",
    "      # b. Build the graph\n",
    "        for i in range(0, len(words)-1):\n",
    "        # find ordering of characters from adjacent words\n",
    "            w1, w2 = words[i], words[i + 1]\n",
    "            for j in range(0, min(len(w1), len(w2))):\n",
    "                parent, child = w1[j], w2[j]\n",
    "                if parent != child:  # if the two characters are different\n",
    "                # put the child into it's parent's list\n",
    "                    graph[parent].append(child)\n",
    "                    indegree[child] += 1  # increment child's inDegree\n",
    "                    break  # only the first different character between the two words will help us find the order\n",
    "        \n",
    "      # c. Find all sources i.e., all vertices with 0 in-degrees\n",
    "        queue = []\n",
    "        for key in indegree:\n",
    "            if indegree[key] == 0:\n",
    "                queue.append(key)\n",
    "\n",
    "      # d. For each source, add it to the sortedOrder and subtract one from all of its children's in-degrees\n",
    "      # if a child's in-degree becomes zero, add it to the sources queue\n",
    "        res = []\n",
    "        while queue:\n",
    "            vertex = queue.pop(0)\n",
    "            res.append(vertex)\n",
    "            for child in graph[vertex]:  # get the node's children to decrement their in-degrees\n",
    "                indegree[child] -= 1\n",
    "                if indegree[child] == 0:\n",
    "                    queue.append(child)\n",
    "\n",
    "      # if sortedOrder doesn't contain all characters, there is a cyclic dependency between characters, therefore, we\n",
    "      # will not be able to find the correct ordering of the characters\n",
    "        if len(res) != len(indegree):\n",
    "            return \"\"\n",
    "\n",
    "        return ''.join(res)"
   ]
  },
  {
   "cell_type": "code",
   "execution_count": 66,
   "metadata": {},
   "outputs": [
    {
     "name": "stdout",
     "output_type": "stream",
     "text": [
      "{'b': 0, 'a': 1, 'c': 2}\n",
      "{'b': ['a'], 'a': ['c', 'c'], 'c': []}\n"
     ]
    },
    {
     "data": {
      "text/plain": [
       "'bac'"
      ]
     },
     "execution_count": 66,
     "metadata": {},
     "output_type": "execute_result"
    }
   ],
   "source": [
    "words = ['ba', 'bc', 'ac', 'cab']\n",
    "s = Solution()\n",
    "s.alienOrder(words)"
   ]
  },
  {
   "cell_type": "markdown",
   "metadata": {},
   "source": [
    "## 684 Redundant Connection (Graph. Union Find) (Amazon 2, Google)"
   ]
  },
  {
   "cell_type": "code",
   "execution_count": null,
   "metadata": {},
   "outputs": [],
   "source": [
    "class Solution:\n",
    "    def findRedundantConnection(self, edges):\n",
    "        def findRoot(x):\n",
    "            if tree[x] == x:\n",
    "                return x\n",
    "            else:\n",
    "                root = findRoot(tree[x])\n",
    "                # tree[x] = root\n",
    "                return root\n",
    "        \n",
    "        tree = [i for i in range(len(edges) + 1)]\n",
    "\n",
    "        for edge in edges:\n",
    "            a = findRoot(edge[0])\n",
    "            b = findRoot(edge[1])\n",
    "            if a != b:\n",
    "                tree[a] = b\n",
    "            else:\n",
    "                return edge\n",
    "\n",
    "               \n",
    "# class Solution:\n",
    "#     def findRedundantConnection(self, edges: List[List[int]]) -> List[int]:\n",
    "#         p = [*range(len(edges) + 1)]      #并查集元素初始化\n",
    "#         print(p)\n",
    "#         def f(x):\n",
    "#             if p[x] != x:       #递归修改所属集合\n",
    "#                 p[x] = f(p[x])\n",
    "#             return p[x]\n",
    "#         for x, y in edges:      #遍历边\n",
    "#             px, py = f(x), f(y)\n",
    "#             if px != py:        #检查集合，如果集合不同就合并\n",
    "#                 p[py] = px\n",
    "#             else:\n",
    "#                 return [x, y]   #集合相同就返回答案"
   ]
  },
  {
   "cell_type": "markdown",
   "metadata": {},
   "source": [
    "685. Redundnat Connection II"
   ]
  },
  {
   "cell_type": "markdown",
   "metadata": {},
   "source": [
    "### Design"
   ]
  },
  {
   "cell_type": "markdown",
   "metadata": {},
   "source": [
    "## 341. Flatten Nested List Iterator (Stack) (Amazon 16)"
   ]
  },
  {
   "cell_type": "code",
   "execution_count": null,
   "metadata": {},
   "outputs": [],
   "source": [
    "# \"\"\"\n",
    "# This is the interface that allows for creating nested lists.\n",
    "# You should not implement it, or speculate about its implementation\n",
    "# \"\"\"\n",
    "#class NestedInteger(object):\n",
    "#    def isInteger(self):\n",
    "#        \"\"\"\n",
    "#        @return True if this NestedInteger holds a single integer, rather than a nested list.\n",
    "#        :rtype bool\n",
    "#        \"\"\"\n",
    "#\n",
    "#    def getInteger(self):\n",
    "#        \"\"\"\n",
    "#        @return the single integer that this NestedInteger holds, if it holds a single integer\n",
    "#        Return None if this NestedInteger holds a nested list\n",
    "#        :rtype int\n",
    "#        \"\"\"\n",
    "#\n",
    "#    def getList(self):\n",
    "#        \"\"\"\n",
    "#        @return the nested list that this NestedInteger holds, if it holds a nested list\n",
    "#        Return None if this NestedInteger holds a single integer\n",
    "#        :rtype List[NestedInteger]\n",
    "#        \"\"\"\n",
    "\n",
    "class NestedIterator:\n",
    "\n",
    "    def __init__(self, nestedList):\n",
    "        \"\"\"\n",
    "        Initialize your data structure here.\n",
    "        :type nestedList: List[NestedInteger]\n",
    "        \"\"\"\n",
    "        self.stack = nestedList[::-1]\n",
    "        \n",
    "    def next(self):\n",
    "        \"\"\"\n",
    "        :rtype: int\n",
    "        \"\"\"\n",
    "        return self.stack.pop().getInteger()\n",
    "        \n",
    "    def hasNext(self):\n",
    "        \"\"\"\n",
    "        :rtype: bool\n",
    "        \"\"\"\n",
    "        while self.stack:\n",
    "            top = self.stack[-1]\n",
    "            if top.isInteger():\n",
    "                return True\n",
    "            self.stack = self.stack[:-1] + top.getList()[::-1]\n",
    "        return False\n",
    "        \n",
    "\n",
    "# Your NestedIterator object will be instantiated and called as such:\n",
    "# i, v = NestedIterator(nestedList), []\n",
    "# while i.hasNext(): v.append(i.next())"
   ]
  },
  {
   "cell_type": "markdown",
   "metadata": {},
   "source": [
    "## 232. Implement Queue using Stacks (Stack) (Microsoft 4)"
   ]
  },
  {
   "cell_type": "code",
   "execution_count": null,
   "metadata": {},
   "outputs": [],
   "source": [
    "from collections import deque\n",
    "class MyQueue:\n",
    "\n",
    "    def __init__(self):\n",
    "        \"\"\"\n",
    "        Initialize your data structure here.\n",
    "        \"\"\"\n",
    "        self.queue = deque()\n",
    "        \n",
    "    def push(self, x: int) -> None:\n",
    "        \"\"\"\n",
    "        Push element x to the back of queue.\n",
    "        \"\"\"\n",
    "        self.queue.append(x)\n",
    "\n",
    "    def pop(self) -> int:\n",
    "        \"\"\"\n",
    "        Removes the element from in front of queue and returns\n",
    "        \"\"\"\n",
    "        return self.queue.popleft()\n",
    "        \n",
    "    def peek(self) -> int:\n",
    "        \"\"\"\n",
    "        Get the front element.\n",
    "        \"\"\"\n",
    "        return self.queue[0]\n",
    "\n",
    "    def empty(self) -> bool:\n",
    "        \"\"\"\n",
    "        Returns whether the queue is empty.\n",
    "        \"\"\"\n",
    "        return len(self.queue) == 0"
   ]
  },
  {
   "cell_type": "code",
   "execution_count": 11,
   "metadata": {},
   "outputs": [
    {
     "data": {
      "text/plain": [
       "True"
      ]
     },
     "execution_count": 11,
     "metadata": {},
     "output_type": "execute_result"
    }
   ],
   "source": [
    "num = [1,2,3]\n",
    "def function(num):\n",
    "    if sum(num)  > 0:\n",
    "        return True\n",
    "    if sum(num) < 0:\n",
    "        return False\n",
    "    \n",
    "function(num)\n",
    "    "
   ]
  },
  {
   "cell_type": "markdown",
   "metadata": {},
   "source": [
    "## 225. Implement Stack using Queues (Queue) (Amazon 4, Microsoft 3)"
   ]
  },
  {
   "cell_type": "code",
   "execution_count": null,
   "metadata": {},
   "outputs": [],
   "source": [
    "from collections import deque\n",
    "class MyStack:\n",
    "\n",
    "    def __init__(self):\n",
    "        \"\"\"\n",
    "        Initialize your data structure here.\n",
    "        \"\"\"\n",
    "        self.stack = deque()\n",
    "\n",
    "    def push(self, x: int) -> None:\n",
    "        \"\"\"\n",
    "        Push element x onto stack.\n",
    "        \"\"\"\n",
    "        self.stack.append(x)\n",
    "        \n",
    "\n",
    "    def pop(self) -> int:\n",
    "        \"\"\"\n",
    "        Removes the element on top of the stack and returns that element.\n",
    "        \"\"\"\n",
    "        return self.stack.pop()\n",
    "\n",
    "    def top(self) -> int:\n",
    "        \"\"\"\n",
    "        Get the top element.\n",
    "        \"\"\"\n",
    "        return self.stack[-1]\n",
    "\n",
    "    def empty(self) -> bool:\n",
    "        \"\"\"\n",
    "        Returns whether the stack is empty.\n",
    "        \"\"\"\n",
    "        return len(self.stack) == 0"
   ]
  },
  {
   "cell_type": "markdown",
   "metadata": {},
   "source": [
    "## (2) 346. Moving Average from Data Stream (Amazon 5)"
   ]
  },
  {
   "cell_type": "code",
   "execution_count": null,
   "metadata": {},
   "outputs": [],
   "source": [
    "class MovingAverage:\n",
    "\n",
    "    def __init__(self, size):\n",
    "        \"\"\"\n",
    "        Initialize your data structure here.\n",
    "        :type size: int\n",
    "        \"\"\"\n",
    "        self.res = []\n",
    "        self.size = size\n",
    "\n",
    "    def next(self, val):\n",
    "        \"\"\"\n",
    "        :type val: int\n",
    "        :rtype: float\n",
    "        \"\"\"\n",
    "        self.res.append(val)\n",
    "        \n",
    "        if len(self.res) <= self.size:\n",
    "            return sum(self.res) / len(self.res)\n",
    "            \n",
    "        else:\n",
    "            self.res.pop(0)\n",
    "            return sum(self.res) / len(self.res)"
   ]
  },
  {
   "cell_type": "markdown",
   "metadata": {},
   "source": [
    "## 348. Design Tic Tac Toc (Matrix) (Amazon 16, Microsoft 6)\n",
    "O(1)  \n",
    "O(N)"
   ]
  },
  {
   "cell_type": "code",
   "execution_count": null,
   "metadata": {},
   "outputs": [],
   "source": [
    "class TicTacToe:\n",
    "    def __init__(self, n):\n",
    "        \"\"\"\n",
    "        Initialize your data structure here.\n",
    "        :type n: int\n",
    "        \"\"\"\n",
    "        self.row = [0] * n\n",
    "        self.col = [0] * n\n",
    "        self.diag = 0\n",
    "        self.undiag = 0\n",
    "        self.n = n\n",
    "        \n",
    "    def move(self, row, col, player):\n",
    "        \"\"\"\n",
    "        Player {player} makes a move at ({row}, {col}).\n",
    "        @param row The row of the board.\n",
    "        @param col The column of the board.\n",
    "        @param player The player, can be either 1 or 2.\n",
    "        @return The current winning condition, can be either:\n",
    "                0: No one wins.\n",
    "                1: Player 1 wins.\n",
    "                2: Player 2 wins.\n",
    "        :type row: int\n",
    "        :type col: int\n",
    "        :type player: int\n",
    "        :rtype: int\n",
    "        \"\"\"\n",
    "        if player == 1:\n",
    "            p = 1\n",
    "        else:\n",
    "            p = -1\n",
    "        \n",
    "        self.row[row] += p\n",
    "        self.col[col] += p\n",
    "        \n",
    "        if row == col:\n",
    "            self.diag += p\n",
    "        if col == self.n - 1 - row:\n",
    "            self.undiag += p\n",
    "            \n",
    "        if (abs(self.row[row]) == self.n or \n",
    "            abs(self.col[col]) == self.n or \n",
    "            abs(self.diag) == self.n or \n",
    "            abs(self.undiag) == self.n):\n",
    "            return player\n",
    "        else:\n",
    "            return 0\n",
    "        \n",
    "# Your TicTacToe object will be instantiated and called as such:\n",
    "# obj = TicTacToe(n)\n",
    "# param_1 = obj.move(row,col,player)"
   ]
  },
  {
   "cell_type": "markdown",
   "metadata": {},
   "source": [
    "## 146. LRU cache (OrderedDict) (Amazon 60, Microsoft 22, Apple 13, Google 7)\n",
    "时间复杂度: O(1)  \n",
    "O(1)"
   ]
  },
  {
   "cell_type": "code",
   "execution_count": null,
   "metadata": {},
   "outputs": [],
   "source": [
    "class LRUCache:\n",
    "    def __init__(self, capacity):\n",
    "        \"\"\"\n",
    "        :type capacity: int\n",
    "        \"\"\"\n",
    "        \n",
    "        self.cache = {}\n",
    "        self.capacity = capacity\n",
    "        self.n = 0\n",
    "\n",
    "    def get(self, key):\n",
    "        \"\"\"\n",
    "        :type key: int\n",
    "        :rtype: int\n",
    "        \"\"\"\n",
    "        \n",
    "        if key in self.cache:\n",
    "            val = self.cache[key]\n",
    "            del self.cache[key]\n",
    "            self.cache[key] = val\n",
    "            return val\n",
    "        else:\n",
    "            return -1\n",
    "        \n",
    "\n",
    "    def put(self, key, value):\n",
    "        \"\"\"\n",
    "        :type key: int\n",
    "        :type value: int\n",
    "        :rtype: None\n",
    "        \"\"\"\n",
    "        \n",
    "        if key in self.cache:\n",
    "            del self.cache[key]\n",
    "            self.cache[key] = value\n",
    "        else:\n",
    "            if self.n < self.capacity:\n",
    "                self.cache[key] = value\n",
    "                self.n += 1\n",
    "            else:\n",
    "                for k in self.cache:\n",
    "                    del self.cache[k]\n",
    "                    break\n",
    "                self.cache[key] = value"
   ]
  },
  {
   "cell_type": "markdown",
   "metadata": {},
   "source": [
    "O(1)  \n",
    "O(capacity)"
   ]
  },
  {
   "cell_type": "code",
   "execution_count": null,
   "metadata": {},
   "outputs": [],
   "source": [
    "from collections import OrderedDict\n",
    "class LRUCache(OrderedDict):\n",
    "\n",
    "    def __init__(self, capacity):\n",
    "        \"\"\"\n",
    "        :type capacity: int\n",
    "        \"\"\"\n",
    "        self.capacity = capacity\n",
    "\n",
    "    def get(self, key):\n",
    "        \"\"\"\n",
    "        :type key: int\n",
    "        :rtype: int\n",
    "        \"\"\"\n",
    "        if key in self:\n",
    "            self.move_to_end(key)        \n",
    "            return self[key]\n",
    "    \n",
    "        return -1\n",
    "\n",
    "    def put(self, key, value):\n",
    "        \"\"\"\n",
    "        :type key: int\n",
    "        :type value: int\n",
    "        :rtype: void\n",
    "        \"\"\"\n",
    "        if key in self:\n",
    "            self.move_to_end(key)\n",
    "            \n",
    "        self[key] = value\n",
    "        \n",
    "        if len(self) > self.capacity:\n",
    "            self.popitem(last = False)\n",
    "\n",
    "# Your LRUCache object will be instantiated and called as such:\n",
    "# obj = LRUCache(capacity)\n",
    "# param_1 = obj.get(key)\n",
    "# obj.put(key,value)"
   ]
  },
  {
   "cell_type": "markdown",
   "metadata": {},
   "source": [
    "## 380. Insert Delete GetRandom O(1) (List, Dict) (Amazon 14, Facebook 6, Microsoft 5)  \n",
    "O(1)  \n",
    "O(N)"
   ]
  },
  {
   "cell_type": "code",
   "execution_count": null,
   "metadata": {},
   "outputs": [],
   "source": [
    "class RandomizedSet(object):\n",
    "\n",
    "    def __init__(self):\n",
    "        \"\"\"\n",
    "        Initialize your data structure here.\n",
    "        \"\"\"\n",
    "        self.array = []\n",
    "        self.dic = {}\n",
    "\n",
    "    def insert(self, val):\n",
    "        \"\"\"\n",
    "        Inserts a value to the set. Returns true if the set did not already contain the specified element.\n",
    "        :type val: int\n",
    "        :rtype: bool\n",
    "        \"\"\"\n",
    "        if val not in self.dic:\n",
    "            self.array.append(val)\n",
    "            self.dic[val] = self.array.index(val)\n",
    "            return True\n",
    "        \n",
    "        return False\n",
    "        \n",
    "\n",
    "    def remove(self, val):\n",
    "        \"\"\"\n",
    "        Removes a value from the set. Returns true if the set contained the specified element.\n",
    "        :type val: int\n",
    "        :rtype: bool\n",
    "        \"\"\"\n",
    "        if val in self.dic:\n",
    "            index = self.dic[val]\n",
    "            self.array[index] = self.array[-1]\n",
    "            self.dic[self.array[-1]] = index\n",
    "            self.array.pop()\n",
    "            self.dic.pop(val)\n",
    "            \n",
    "            return True\n",
    "        \n",
    "        return False\n",
    "        \n",
    "\n",
    "    def getRandom(self):\n",
    "        \"\"\"\n",
    "        Get a random element from the set.\n",
    "        :rtype: int\n",
    "        \"\"\"\n",
    "        return random.choice(self.array)"
   ]
  },
  {
   "cell_type": "code",
   "execution_count": 17,
   "metadata": {},
   "outputs": [
    {
     "data": {
      "text/plain": [
       "{2: 3}"
      ]
     },
     "execution_count": 17,
     "metadata": {},
     "output_type": "execute_result"
    }
   ],
   "source": [
    "dic = {1:2, 2:3}\n",
    "dic.pop(1, 0)\n",
    "dic"
   ]
  },
  {
   "cell_type": "markdown",
   "metadata": {},
   "source": [
    "## 359. Logger Rate Limiter (Dict) (Google 11)"
   ]
  },
  {
   "cell_type": "code",
   "execution_count": null,
   "metadata": {},
   "outputs": [],
   "source": [
    "class Logger:\n",
    "    def __init__(self):\n",
    "        \"\"\"\n",
    "        Initialize your data structure here.\n",
    "        \"\"\"\n",
    "        self.dic = {}\n",
    "\n",
    "    def shouldPrintMessage(self, timestamp: int, message: str) -> bool:\n",
    "        \"\"\"\n",
    "        Returns true if the message should be printed in the given timestamp, otherwise returns false.\n",
    "        If this method returns false, the message will not be printed.\n",
    "        The timestamp is in seconds granularity.\n",
    "        \"\"\"\n",
    "        if message in self.dic and timestamp - self.dic[message] < 10: \n",
    "                return False\n",
    "    \n",
    "        self.dic[message] = timestamp\n",
    "        return True"
   ]
  },
  {
   "cell_type": "markdown",
   "metadata": {},
   "source": [
    "## 706. Design HashMap (Dict) (Amazon 3, Microsoft 2)"
   ]
  },
  {
   "cell_type": "code",
   "execution_count": null,
   "metadata": {},
   "outputs": [],
   "source": [
    "class MyHashMap:\n",
    "\n",
    "    def __init__(self):\n",
    "        \"\"\"\n",
    "        Initialize your data structure here.\n",
    "        \"\"\"\n",
    "        self.map = {}\n",
    "\n",
    "    def put(self, key: int, value: int) -> None:\n",
    "        \"\"\"\n",
    "        value will always be non-negative.\n",
    "        \"\"\"\n",
    "        self.map[key] = value\n",
    "\n",
    "    def get(self, key: int) -> int:\n",
    "        \"\"\"\n",
    "        Returns the value to which the specified key is mapped, or -1 if this map contains no mapping for the key\n",
    "        \"\"\"\n",
    "        if key not in self.map:\n",
    "            return -1\n",
    "        return self.map[key]\n",
    "\n",
    "    def remove(self, key: int) -> None:\n",
    "        \"\"\"\n",
    "        Removes the mapping of the specified value key if this map contains a mapping for the key\n",
    "        \"\"\"\n",
    "        if key in self.map:\n",
    "            del self.map[key]"
   ]
  },
  {
   "cell_type": "markdown",
   "metadata": {},
   "source": [
    "## 981. Time Based Key-Value Store (Dict) (Google 10, Amazon 7)"
   ]
  },
  {
   "cell_type": "code",
   "execution_count": null,
   "metadata": {},
   "outputs": [],
   "source": [
    "# For each key we get or set, we only care about the timestamps and values for that key. We can store this information in a HashMap.\n",
    "# Now, for each key, we can binary search the sorted list of timestamps to find the relevant value for that key.\n",
    "\n",
    "class TimeMap:\n",
    "    def __init__(self):\n",
    "        self.times = collections.defaultdict(list)\n",
    "        self.values = collections.defaultdict(list)\n",
    "\n",
    "    def set(self, key, value, timestamp):\n",
    "        \"\"\"\n",
    "        :type key: str\n",
    "        :type value: str\n",
    "        :type timestamp: int\n",
    "        :rtype: None\n",
    "        \"\"\"\n",
    "        \n",
    "        self.times[key].append(timestamp)\n",
    "        self.values[key].append(value)\n",
    "\n",
    "    def get(self, key, timestamp):\n",
    "        \"\"\"\n",
    "        :type key: str\n",
    "        :type timestamp: int\n",
    "        :rtype: str\n",
    "        \"\"\"\n",
    "        \n",
    "        i = bisect.bisect(self.times[key], timestamp)\n",
    "        return self.values[key][i - 1] if i else ''"
   ]
  },
  {
   "cell_type": "markdown",
   "metadata": {},
   "source": [
    "## 208. Implement Trie (Prefix Tree) (Dict) (Amazon 7, Google 6)\n",
    "\n",
    "O(N)  \n",
    "O(N)"
   ]
  },
  {
   "cell_type": "code",
   "execution_count": null,
   "metadata": {},
   "outputs": [],
   "source": [
    "class TrieNode:\n",
    "    def __init__(self):\n",
    "        \"\"\"\n",
    "        Initialize your data structure here.\n",
    "        \"\"\"\n",
    "        self.childs = {}\n",
    "        self.isWord = False\n",
    "\n",
    "class Trie:\n",
    "    def __init__(self):\n",
    "        self.root = TrieNode()\n",
    "\n",
    "    def insert(self, word):\n",
    "        \"\"\"\n",
    "        Inserts a word into the trie.\n",
    "        :type word: str\n",
    "        :rtype: void\n",
    "        \"\"\"\n",
    "        node = self.root\n",
    "        for c in word:\n",
    "            child = node.childs.get(c)\n",
    "            if not child:\n",
    "                child = TrieNode()\n",
    "                node.childs[c] = child\n",
    "            node = child\n",
    "        node.isWord = True\n",
    "\n",
    "    def search(self, word):\n",
    "        \"\"\"\n",
    "        Returns if the word is in the trie.\n",
    "        :type word: str\n",
    "        :rtype: bool\n",
    "        \"\"\"\n",
    "        node = self.root\n",
    "        for c in word:\n",
    "            child = node.childs.get(c)\n",
    "            if not child:\n",
    "                return False\n",
    "            node = child\n",
    "        return node.isWord\n",
    "\n",
    "\n",
    "    def startsWith(self, prefix):\n",
    "        \"\"\"\n",
    "        Returns if there is any word in the trie\n",
    "        that starts with the given prefix.\n",
    "        :type prefix: str\n",
    "        :rtype: bool\n",
    "        \"\"\"\n",
    "        node = self.root\n",
    "        for c in prefix:\n",
    "            child = node.childs.get(c)\n",
    "            if not child:\n",
    "                return False\n",
    "            node = child\n",
    "        return True\n",
    "\n",
    "# Your Trie object will be instantiated and called as such:\n",
    "# obj = Trie()\n",
    "# obj.insert(word)\n",
    "# param_2 = obj.search(word)\n",
    "# param_3 = obj.startsWith(prefix)"
   ]
  },
  {
   "cell_type": "code",
   "execution_count": 2,
   "metadata": {},
   "outputs": [
    {
     "data": {
      "text/plain": [
       "'\\x7f'"
      ]
     },
     "execution_count": 2,
     "metadata": {},
     "output_type": "execute_result"
    }
   ],
   "source": [
    "chr(127)"
   ]
  },
  {
   "cell_type": "markdown",
   "metadata": {},
   "source": [
    "## 155. Min Stack (List and heapq) (Amazon 16, Microsoft 8, Google 7, Apple 5)\n"
   ]
  },
  {
   "cell_type": "code",
   "execution_count": null,
   "metadata": {},
   "outputs": [],
   "source": [
    "class MinStack:\n",
    "\n",
    "    # 辅助栈和数据栈同步\n",
    "    # 思路简单不容易出错\n",
    "\n",
    "    def __init__(self):\n",
    "        # 数据栈\n",
    "        self.data = []\n",
    "        # 辅助栈\n",
    "        self.helper = []\n",
    "\n",
    "    def push(self, x):\n",
    "        self.data.append(x)\n",
    "        if len(self.helper) == 0 or x <= self.helper[-1]:\n",
    "            self.helper.append(x)\n",
    "        else:\n",
    "            self.helper.append(self.helper[-1])\n",
    "\n",
    "    def pop(self):\n",
    "        self.helper.pop()\n",
    "        return self.data.pop()\n",
    "\n",
    "    def top(self):\n",
    "        return self.data[-1]\n",
    "\n",
    "    def getMin(self):\n",
    "        return self.helper[-1]"
   ]
  },
  {
   "cell_type": "code",
   "execution_count": null,
   "metadata": {},
   "outputs": [],
   "source": [
    "# push O(1) + pop O(lgN) + top O(1) + getMin O(1)  \n",
    "# O(N)\n",
    "from heapq import *\n",
    "\n",
    "class MinStack:\n",
    "    def __init__(self):\n",
    "        \"\"\"\n",
    "        initialize your data structure here.\n",
    "        \"\"\"\n",
    "        self.array = []\n",
    "        self.heap = []\n",
    "\n",
    "    def push(self, x):\n",
    "        \"\"\"\n",
    "        :type x: int\n",
    "        :rtype: None\n",
    "        \"\"\"\n",
    "        \n",
    "        self.array.append(x)\n",
    "        heappush(self.heap,x)\n",
    "\n",
    "    def pop(self):\n",
    "        \"\"\"\n",
    "        :rtype: None\n",
    "        \"\"\"\n",
    "        \n",
    "        val = self.array.pop()\n",
    "        self.heap.remove(val)\n",
    "        heapify(self.heap)\n",
    "\n",
    "    def top(self):\n",
    "        \"\"\"\n",
    "        :rtype: int\n",
    "        \"\"\"\n",
    "        \n",
    "        return self.array[-1]\n",
    "\n",
    "    def getMin(self):\n",
    "        \"\"\"\n",
    "        :rtype: int\n",
    "        \"\"\"\n",
    "        return self.heap[0]\n",
    "\n",
    "# Your MinStack object will be instantiated and called as such:\n",
    "# obj = MinStack()\n",
    "# obj.push(x)\n",
    "# obj.pop()\n",
    "# param_3 = obj.top()\n",
    "# param_4 = obj.getMin()"
   ]
  },
  {
   "cell_type": "code",
   "execution_count": 7,
   "metadata": {},
   "outputs": [
    {
     "ename": "AttributeError",
     "evalue": "'list' object has no attribute 'rfind'",
     "output_type": "error",
     "traceback": [
      "\u001b[0;31m---------------------------------------------------------------------------\u001b[0m",
      "\u001b[0;31mAttributeError\u001b[0m                            Traceback (most recent call last)",
      "\u001b[0;32m<ipython-input-7-983f5a03c335>\u001b[0m in \u001b[0;36m<module>\u001b[0;34m\u001b[0m\n\u001b[1;32m      1\u001b[0m \u001b[0marray\u001b[0m \u001b[0;34m=\u001b[0m \u001b[0;34m[\u001b[0m\u001b[0;36m1\u001b[0m\u001b[0;34m,\u001b[0m\u001b[0;36m2\u001b[0m\u001b[0;34m,\u001b[0m\u001b[0;36m3\u001b[0m\u001b[0;34m]\u001b[0m\u001b[0;34m\u001b[0m\u001b[0;34m\u001b[0m\u001b[0m\n\u001b[0;32m----> 2\u001b[0;31m \u001b[0marray\u001b[0m\u001b[0;34m.\u001b[0m\u001b[0mrfind\u001b[0m\u001b[0;34m(\u001b[0m\u001b[0;36m3\u001b[0m\u001b[0;34m)\u001b[0m\u001b[0;34m\u001b[0m\u001b[0;34m\u001b[0m\u001b[0m\n\u001b[0m",
      "\u001b[0;31mAttributeError\u001b[0m: 'list' object has no attribute 'rfind'"
     ]
    }
   ],
   "source": [
    "array = [1,2,3]\n",
    "array.rfind(3)"
   ]
  },
  {
   "cell_type": "markdown",
   "metadata": {},
   "source": [
    "## 716. Max Stack (List, heapq) (Linkedin 14, Amazon 4, Google Phone)"
   ]
  },
  {
   "cell_type": "code",
   "execution_count": null,
   "metadata": {},
   "outputs": [],
   "source": [
    "import heapq\n",
    "class MaxStack:\n",
    "\n",
    "    def __init__(self):\n",
    "        \"\"\"\n",
    "        initialize your data structure here.\n",
    "        \"\"\"\n",
    "        self.stack = []\n",
    "        self.heap = []\n",
    "\n",
    "    def push(self, x):\n",
    "        \"\"\"\n",
    "        :type x: int\n",
    "        :rtype: None\n",
    "        \"\"\"\n",
    "        \n",
    "        self.stack.append(x)\n",
    "        heapq.heappush(self.heap, -x)\n",
    "\n",
    "    def pop(self):\n",
    "        \"\"\"\n",
    "        :rtype: int\n",
    "        \"\"\"\n",
    "        item = self.stack.pop()\n",
    "        self.heap.remove(-item)\n",
    "        heapq.heapify(self.heap)\n",
    "        return item\n",
    "        \n",
    "    def top(self) :\n",
    "        \"\"\"\n",
    "        :rtype: int\n",
    "        \"\"\"\n",
    "        return self.stack[-1]\n",
    "\n",
    "    def peekMax(self):\n",
    "        \"\"\"\n",
    "        :rtype: int\n",
    "        \"\"\"\n",
    "        return - self.heap[0]\n",
    "\n",
    "    def popMax(self) :\n",
    "        \"\"\"\n",
    "        :rtype: int\n",
    "        \"\"\"\n",
    "#         maxi = - self.heap.pop(0)\n",
    "#         heapq.heapify(self.heap)\n",
    "\n",
    "        maxi = - heapq.heappop(self.heap)\n",
    "        for i in range(len(self.stack)-1, -1,-1):\n",
    "            if self.stack[i] == maxi:\n",
    "                self.stack.pop(i)\n",
    "                return maxi"
   ]
  },
  {
   "cell_type": "markdown",
   "metadata": {},
   "source": [
    "## 295. Find Median From Data Stream (heapq) (Amazon 20) (Hard)\n",
    "\n",
    "O(logN)  \n",
    "O(N)"
   ]
  },
  {
   "cell_type": "code",
   "execution_count": null,
   "metadata": {},
   "outputs": [],
   "source": [
    "from heapq import *\n",
    "class MedianFinder:\n",
    "    def __init__(self):\n",
    "        self.small = []  # the smaller half of the list, max heap (invert min-heap)\n",
    "        self.large = []  # the larger half of the list, min heap\n",
    "\n",
    "    def addNum(self, num):\n",
    "        if len(self.small) == len(self.large):\n",
    "            heappush(self.large, -heappushpop(self.small, -num))\n",
    "        else:\n",
    "            heappush(self.small, -heappushpop(self.large, num))\n",
    "\n",
    "    def findMedian(self):\n",
    "        if len(self.small) == len(self.large):\n",
    "            return (self.large[0] - self.small[0]) / 2\n",
    "        else:\n",
    "            return self.large[0]\n",
    "        \n",
    "# Your MedianFinder object will be instantiated and called as such:\n",
    "# obj = MedianFinder()\n",
    "# obj.addNum(num)\n",
    "# param_2 = obj.findMedian()"
   ]
  },
  {
   "cell_type": "markdown",
   "metadata": {},
   "source": [
    "## 449. Serialize and Deserialize BST (Facebook 3)\n",
    "\n",
    "O(N)  \n",
    "O(N)"
   ]
  },
  {
   "cell_type": "code",
   "execution_count": null,
   "metadata": {},
   "outputs": [],
   "source": [
    "class Codec: \n",
    "    def serialize(self, root):\n",
    "        \"\"\"Encodes a tree to a single string.\n",
    "        \n",
    "        :type root: TreeNode\n",
    "        :rtype: str\n",
    "        \"\"\"\n",
    "        def postorder(root):\n",
    "            return postorder(root.left) + postorder(root.right) + [root.val] if root else []\n",
    "        return ' '.join(map(str, postorder(root)))\n",
    "\n",
    "    def deserialize(self, data):\n",
    "        \"\"\"Decodes your encoded data to tree.\n",
    "        \n",
    "        :type data: str\n",
    "        :rtype: TreeNode\n",
    "        \"\"\"\n",
    "        def helper(lower = float('-inf'), upper = float('inf')):\n",
    "            if not data or data[-1] < lower or data[-1] > upper:\n",
    "                return None\n",
    "            \n",
    "            val = data.pop()\n",
    "            root = TreeNode(val)\n",
    "            root.right = helper(val, upper)\n",
    "            root.left = helper(lower, val)\n",
    "            return root\n",
    "        \n",
    "        data = [int(x) for x in data.split(' ') if x]\n",
    "        return helper()"
   ]
  },
  {
   "cell_type": "code",
   "execution_count": 8,
   "metadata": {},
   "outputs": [
    {
     "data": {
      "text/plain": [
       "'a'"
      ]
     },
     "execution_count": 8,
     "metadata": {},
     "output_type": "execute_result"
    }
   ],
   "source": [
    "''.join(['a'])"
   ]
  },
  {
   "cell_type": "code",
   "execution_count": 11,
   "metadata": {},
   "outputs": [
    {
     "data": {
      "text/plain": [
       "[1, 2]"
      ]
     },
     "execution_count": 11,
     "metadata": {},
     "output_type": "execute_result"
    }
   ],
   "source": [
    "[1] + [2]"
   ]
  },
  {
   "cell_type": "code",
   "execution_count": 12,
   "metadata": {},
   "outputs": [
    {
     "data": {
      "text/plain": [
       "'[4, 3, 2]'"
      ]
     },
     "execution_count": 12,
     "metadata": {},
     "output_type": "execute_result"
    }
   ],
   "source": [
    "str([4,3,2])"
   ]
  },
  {
   "cell_type": "code",
   "execution_count": 15,
   "metadata": {},
   "outputs": [
    {
     "data": {
      "text/plain": [
       "['4', '3', '2']"
      ]
     },
     "execution_count": 15,
     "metadata": {},
     "output_type": "execute_result"
    }
   ],
   "source": [
    "list(map(str, [4,3,2]))"
   ]
  },
  {
   "cell_type": "code",
   "execution_count": 13,
   "metadata": {},
   "outputs": [
    {
     "data": {
      "text/plain": [
       "'4 3 2'"
      ]
     },
     "execution_count": 13,
     "metadata": {},
     "output_type": "execute_result"
    }
   ],
   "source": [
    "' '.join(map(str, [4,3,2]))"
   ]
  },
  {
   "cell_type": "code",
   "execution_count": 14,
   "metadata": {},
   "outputs": [
    {
     "ename": "AttributeError",
     "evalue": "'str' object has no attribute 'pop'",
     "output_type": "error",
     "traceback": [
      "\u001b[0;31m---------------------------------------------------------------------------\u001b[0m",
      "\u001b[0;31mAttributeError\u001b[0m                            Traceback (most recent call last)",
      "\u001b[0;32m<ipython-input-14-90db7ff1c2db>\u001b[0m in \u001b[0;36m<module>\u001b[0;34m\u001b[0m\n\u001b[1;32m      1\u001b[0m \u001b[0ms\u001b[0m \u001b[0;34m=\u001b[0m \u001b[0;34m'2ss'\u001b[0m\u001b[0;34m\u001b[0m\u001b[0;34m\u001b[0m\u001b[0m\n\u001b[0;32m----> 2\u001b[0;31m \u001b[0ms\u001b[0m\u001b[0;34m.\u001b[0m\u001b[0mpop\u001b[0m\u001b[0;34m(\u001b[0m\u001b[0;34m)\u001b[0m\u001b[0;34m\u001b[0m\u001b[0;34m\u001b[0m\u001b[0m\n\u001b[0m",
      "\u001b[0;31mAttributeError\u001b[0m: 'str' object has no attribute 'pop'"
     ]
    }
   ],
   "source": [
    "s = '2ss'\n",
    "s.pop()"
   ]
  },
  {
   "cell_type": "markdown",
   "metadata": {},
   "source": [
    "## 297. Serialize and Deserialize Binary Tree (Queue-BFS) (Facebook 29, Amazon 27, Linkedin 9, Microsoft 9, Google 5)\n",
    "\n",
    "O(N)  \n",
    "O(N)"
   ]
  },
  {
   "cell_type": "code",
   "execution_count": null,
   "metadata": {},
   "outputs": [],
   "source": [
    "# Definition for a binary tree node.\n",
    "# class TreeNode(object):\n",
    "#     def __init__(self, x):\n",
    "#         self.val = x\n",
    "#         self.left = None\n",
    "#         self.right = None\n",
    "\n",
    "class Codec:\n",
    "    def serialize(self, root):\n",
    "        \"\"\"Encodes a tree to a single string.\n",
    "        \n",
    "        :type root: TreeNode\n",
    "        :rtype: str\n",
    "        \"\"\"\n",
    "\n",
    "        s = \"\"\n",
    "        queue = [root]\n",
    "\n",
    "        while queue:\n",
    "            node = queue.pop(0)\n",
    "            if node:\n",
    "                s += str(node.val)\n",
    "                queue.append(node.left)\n",
    "                queue.append(node.right)\n",
    "            else:\n",
    "                s += \"n\"\n",
    "            s += \" \"        \n",
    "        return s\n",
    "\n",
    "    def deserialize(self, data):\n",
    "        \"\"\"Decodes your encoded data to tree.\n",
    "        \n",
    "        :type data: str\n",
    "        :rtype: TreeNode\n",
    "        \"\"\"\n",
    " \n",
    "        data = data.split()\n",
    "#         print(tree)\n",
    "        if data[0] == \"n\":\n",
    "            return None\n",
    "        \n",
    "        \n",
    "        root = TreeNode(int(data[0]))\n",
    "        queue = [root]\n",
    "        i = 1\n",
    "        \n",
    "        while queue:\n",
    "            node = queue.pop(0)\n",
    "            if not node:\n",
    "                continue\n",
    "                \n",
    "            if data[i] != 'n':\n",
    "                node.left = TreeNode(int(data[i]))\n",
    "            else:\n",
    "                node.left = None\n",
    "\n",
    "            if data[i+1] != 'n':\n",
    "                node.right = TreeNode(int(data[i+1]))\n",
    "            else:\n",
    "                node.right = None\n",
    "            \n",
    "            queue.append(node.left)\n",
    "            queue.append(node.right)           \n",
    "            i += 2\n",
    "        return root\n",
    "        \n",
    "\n",
    "# Your Codec object will be instantiated and called as such:\n",
    "# codec = Codec()\n",
    "# codec.deserialize(codec.serialize(root))"
   ]
  },
  {
   "cell_type": "code",
   "execution_count": 17,
   "metadata": {},
   "outputs": [
    {
     "data": {
      "text/plain": [
       "{2: 3}"
      ]
     },
     "execution_count": 17,
     "metadata": {},
     "output_type": "execute_result"
    }
   ],
   "source": [
    "dic = {1:2, 2:3}\n",
    "dic.pop(1, 0)\n",
    "dic"
   ]
  },
  {
   "cell_type": "markdown",
   "metadata": {},
   "source": [
    "## 428. Serialize and Deserialize N-ary Tree (Microsoft 4)\n",
    "O(N)  \n",
    "O(N)"
   ]
  },
  {
   "cell_type": "code",
   "execution_count": null,
   "metadata": {},
   "outputs": [],
   "source": [
    "class Codec:\n",
    "    def serialize(self, root):\n",
    "        if not root:\n",
    "            return {}\n",
    "        \n",
    "        # if not root.children:\n",
    "        #     return root.val\n",
    "        \n",
    "        return {'value': root.val, 'children': [self.serialize(child) for child in root.children]} \n",
    "\n",
    "    def deserialize(self, data):\n",
    "        if not data:\n",
    "            return \n",
    "        \n",
    "        return Node(data['value'], [self.deserialize(child) for child in data['children']])"
   ]
  },
  {
   "cell_type": "markdown",
   "metadata": {},
   "source": [
    "## 431. Encode N-ary Tree to Binary Tree (Microsoft 2)\n",
    "\n",
    "The left child of a binary node is the subtree encoding all the children of the corresponding n-ary node.  \n",
    "The right child of a binary node is a chain of the binary root nodes encoding each sibling of the n-ary node.  \n",
    "Hence the root node has no right binary child, because the root has no sibilings."
   ]
  },
  {
   "cell_type": "code",
   "execution_count": null,
   "metadata": {},
   "outputs": [],
   "source": [
    "class Codec:\n",
    "    def encode(self, root):\n",
    "        if not root:\n",
    "            return None\n",
    "\n",
    "        binary = TreeNode(root.val)                 # create a binary root\n",
    "        if not root.children:\n",
    "            return binary\n",
    "\n",
    "        binary.left = self.encode(root.children[0]) # left child of binary is the encoding of all n-ary children,\n",
    "        node = binary.left                          #     starting with the first child.\n",
    "        for child in root.children[1:]:             # other children of n-ary root are right child of previous child\n",
    "            node.right = self.encode(child)\n",
    "            node = node.right\n",
    "\n",
    "        return binary\n",
    "\n",
    "    def decode(self, data):\n",
    "        if not data:\n",
    "            return None\n",
    "\n",
    "        nary = Node(data.val, [])                   # create n-ary root\n",
    "        node = data.left                            # move to first child of n-ary root\n",
    "        while node:                                 # while more children of n-ary root\n",
    "            nary.children.append(self.decode(node)) # append to list\n",
    "            node = node.right                       # and move to next child\n",
    "            \n",
    "        return nary"
   ]
  },
  {
   "cell_type": "markdown",
   "metadata": {},
   "source": [
    "## 173. Binary Search Tree Iterator (Stack) (Facebook 18, Microsoft 4)\n",
    "O(N)  \n",
    "O(N)"
   ]
  },
  {
   "cell_type": "code",
   "execution_count": null,
   "metadata": {},
   "outputs": [],
   "source": [
    "class BSTIterator:\n",
    "\n",
    "    def __init__(self, root: TreeNode):\n",
    "        self.stack = []\n",
    "        while root:\n",
    "            self.stack.append(root)\n",
    "            root = root.left\n",
    "            \n",
    "    def next(self) -> int:\n",
    "        \"\"\"\n",
    "        @return the next smallest number\n",
    "        \"\"\"\n",
    "        node = self.stack.pop()\n",
    "        tmp = node.right\n",
    "        while tmp:\n",
    "            self.stack.append(tmp)\n",
    "            tmp = tmp.left\n",
    "        return node.val\n",
    "\n",
    "    def hasNext(self) -> bool:\n",
    "        \"\"\"\n",
    "        @return whether we have a next smallest number\n",
    "        \"\"\"\n",
    "        return len(self.stack) > 0"
   ]
  },
  {
   "cell_type": "markdown",
   "metadata": {},
   "source": [
    "## Skip Iterator (Google Phone)\n",
    "https://leetcode.com/discuss/interview-question/341818/Google-or-Skip-Iterator "
   ]
  },
  {
   "cell_type": "code",
   "execution_count": 21,
   "metadata": {},
   "outputs": [],
   "source": [
    "from collections import defaultdict, Counter\n",
    "\n",
    "class SkipIterator:\n",
    "    def __init__(self, nums):\n",
    "        self.nums = deque(nums)\n",
    "        self.cnt = Counter()\n",
    "\n",
    "    def hasNext(self):\n",
    "        return len(self.nums) > 0\n",
    "    \n",
    "    def skip(self, i):\n",
    "        self.cnt[i] += 1\n",
    "\n",
    "    def next(self):\n",
    "        if not self.hasNext():\n",
    "            raise Exception('Error')\n",
    "        \n",
    "        if self.cnt[self.nums[0]] > 0:\n",
    "            self.cnt[self.nums[0]] -= 1\n",
    "            self.nums.popleft()\n",
    "            \n",
    "        return self.nums.popleft()"
   ]
  },
  {
   "cell_type": "code",
   "execution_count": 22,
   "metadata": {},
   "outputs": [
    {
     "data": {
      "text/plain": [
       "True"
      ]
     },
     "execution_count": 22,
     "metadata": {},
     "output_type": "execute_result"
    },
    {
     "data": {
      "text/plain": [
       "2"
      ]
     },
     "execution_count": 22,
     "metadata": {},
     "output_type": "execute_result"
    },
    {
     "data": {
      "text/plain": [
       "3"
      ]
     },
     "execution_count": 22,
     "metadata": {},
     "output_type": "execute_result"
    },
    {
     "data": {
      "text/plain": [
       "6"
      ]
     },
     "execution_count": 22,
     "metadata": {},
     "output_type": "execute_result"
    },
    {
     "data": {
      "text/plain": [
       "5"
      ]
     },
     "execution_count": 22,
     "metadata": {},
     "output_type": "execute_result"
    },
    {
     "data": {
      "text/plain": [
       "7"
      ]
     },
     "execution_count": 22,
     "metadata": {},
     "output_type": "execute_result"
    },
    {
     "data": {
      "text/plain": [
       "-1"
      ]
     },
     "execution_count": 22,
     "metadata": {},
     "output_type": "execute_result"
    },
    {
     "data": {
      "text/plain": [
       "10"
      ]
     },
     "execution_count": 22,
     "metadata": {},
     "output_type": "execute_result"
    },
    {
     "data": {
      "text/plain": [
       "False"
      ]
     },
     "execution_count": 22,
     "metadata": {},
     "output_type": "execute_result"
    },
    {
     "ename": "Exception",
     "evalue": "Error",
     "output_type": "error",
     "traceback": [
      "\u001b[0;31m---------------------------------------------------------------------------\u001b[0m",
      "\u001b[0;31mException\u001b[0m                                 Traceback (most recent call last)",
      "\u001b[0;32m<ipython-input-22-14a4c840adb5>\u001b[0m in \u001b[0;36m<module>\u001b[0;34m\u001b[0m\n\u001b[1;32m     12\u001b[0m \u001b[0mitr\u001b[0m\u001b[0;34m.\u001b[0m\u001b[0mnext\u001b[0m\u001b[0;34m(\u001b[0m\u001b[0;34m)\u001b[0m  \u001b[0;31m#returns 10\u001b[0m\u001b[0;34m\u001b[0m\u001b[0;34m\u001b[0m\u001b[0m\n\u001b[1;32m     13\u001b[0m \u001b[0mitr\u001b[0m\u001b[0;34m.\u001b[0m\u001b[0mhasNext\u001b[0m\u001b[0;34m(\u001b[0m\u001b[0;34m)\u001b[0m \u001b[0;31m# false\u001b[0m\u001b[0;34m\u001b[0m\u001b[0;34m\u001b[0m\u001b[0m\n\u001b[0;32m---> 14\u001b[0;31m \u001b[0mitr\u001b[0m\u001b[0;34m.\u001b[0m\u001b[0mnext\u001b[0m\u001b[0;34m(\u001b[0m\u001b[0;34m)\u001b[0m \u001b[0;31m# error\u001b[0m\u001b[0;34m\u001b[0m\u001b[0;34m\u001b[0m\u001b[0m\n\u001b[0m",
      "\u001b[0;32m<ipython-input-21-2fd4149f8f3a>\u001b[0m in \u001b[0;36mnext\u001b[0;34m(self)\u001b[0m\n\u001b[1;32m     14\u001b[0m     \u001b[0;32mdef\u001b[0m \u001b[0mnext\u001b[0m\u001b[0;34m(\u001b[0m\u001b[0mself\u001b[0m\u001b[0;34m)\u001b[0m\u001b[0;34m:\u001b[0m\u001b[0;34m\u001b[0m\u001b[0;34m\u001b[0m\u001b[0m\n\u001b[1;32m     15\u001b[0m         \u001b[0;32mif\u001b[0m \u001b[0;32mnot\u001b[0m \u001b[0mself\u001b[0m\u001b[0;34m.\u001b[0m\u001b[0mhasNext\u001b[0m\u001b[0;34m(\u001b[0m\u001b[0;34m)\u001b[0m\u001b[0;34m:\u001b[0m\u001b[0;34m\u001b[0m\u001b[0;34m\u001b[0m\u001b[0m\n\u001b[0;32m---> 16\u001b[0;31m             \u001b[0;32mraise\u001b[0m \u001b[0mException\u001b[0m\u001b[0;34m(\u001b[0m\u001b[0;34m'Error'\u001b[0m\u001b[0;34m)\u001b[0m\u001b[0;34m\u001b[0m\u001b[0;34m\u001b[0m\u001b[0m\n\u001b[0m\u001b[1;32m     17\u001b[0m \u001b[0;34m\u001b[0m\u001b[0m\n\u001b[1;32m     18\u001b[0m         \u001b[0;32mif\u001b[0m \u001b[0mself\u001b[0m\u001b[0;34m.\u001b[0m\u001b[0mcnt\u001b[0m\u001b[0;34m[\u001b[0m\u001b[0mself\u001b[0m\u001b[0;34m.\u001b[0m\u001b[0mnums\u001b[0m\u001b[0;34m[\u001b[0m\u001b[0;36m0\u001b[0m\u001b[0;34m]\u001b[0m\u001b[0;34m]\u001b[0m \u001b[0;34m>\u001b[0m \u001b[0;36m0\u001b[0m\u001b[0;34m:\u001b[0m\u001b[0;34m\u001b[0m\u001b[0;34m\u001b[0m\u001b[0m\n",
      "\u001b[0;31mException\u001b[0m: Error"
     ]
    }
   ],
   "source": [
    "itr = SkipIterator([2, 3, 5, 6, 5, 7, 5, -1, 5, 10])\n",
    "itr.hasNext() # true\n",
    "itr.next() # returns 2\n",
    "itr.skip(5)\n",
    "itr.next() # returns 3\n",
    "itr.next() # returns 6 because 5 should be skipped\n",
    "itr.next() # returns 5\n",
    "itr.skip(5)\n",
    "itr.skip(5)\n",
    "itr.next() # returns 7\n",
    "itr.next() # returns -1\n",
    "itr.next()  #returns 10\n",
    "itr.hasNext() # false\n",
    "itr.next() # error\n"
   ]
  },
  {
   "cell_type": "markdown",
   "metadata": {},
   "source": [
    "## Implement Logger (Google Onsite)"
   ]
  },
  {
   "cell_type": "code",
   "execution_count": null,
   "metadata": {},
   "outputs": [],
   "source": [
    "import heapq\n",
    "\n",
    "class Logger:\n",
    "    def __init__(self):\n",
    "        self.store = {}\n",
    "        self.heap = []\n",
    "        \n",
    "    def start(self, pid, ts):\n",
    "        if pid not in self.store:\n",
    "            self.store[pid] = ts\n",
    "        \n",
    "    def end(self, pid, ts):\n",
    "        if pid in self.store:\n",
    "            heapq.heappush(self.heap, (self.store[pid], ts, pid))\n",
    "            del self.store[pid]\n",
    "    \n",
    "    def print(self):\n",
    "        tmp = self.heap[:]\n",
    "        \n",
    "        while len(tmp) > 0:\n",
    "            start, end, pid = heapq.heappop(tmp)\n",
    "            \n",
    "            print('{} started at {} and ended at {}'.format(pid, start, end))"
   ]
  },
  {
   "cell_type": "markdown",
   "metadata": {},
   "source": [
    "## 1146. Snap Array(Google 4 Phone)"
   ]
  },
  {
   "cell_type": "code",
   "execution_count": null,
   "metadata": {},
   "outputs": [],
   "source": [
    "from collections import defaultdict\n",
    "from copy import deepcopy\n",
    "class SnapshotArray:\n",
    "\n",
    "    def __init__(self, length):\n",
    "        \"\"\"\n",
    "        :type length: int\n",
    "        \"\"\"\n",
    "        self.arr = defaultdict(int)\n",
    "        self.snaps = []\n",
    "\n",
    "    def set(self, index, val):\n",
    "        \"\"\"\n",
    "        :type index: int\n",
    "        :type val: int\n",
    "        :rtype: None\n",
    "        \"\"\"\n",
    "        self.arr[index] = val\n",
    "\n",
    "    def snap(self):\n",
    "        \"\"\"\n",
    "        :rtype: int\n",
    "        \"\"\"\n",
    "        self.snaps.append(deepcopy(self.arr))\n",
    "        return len(self.snaps) - 1\n",
    "\n",
    "    def get(self, index, snap_id):\n",
    "        \"\"\"\n",
    "        :type index: int\n",
    "        :type snap_id: int\n",
    "        :rtype: int\n",
    "        \"\"\"\n",
    "        return self.snaps[snap_id][index]  "
   ]
  },
  {
   "cell_type": "markdown",
   "metadata": {},
   "source": [
    "## 843. Guess the Word (Google 12)"
   ]
  },
  {
   "cell_type": "code",
   "execution_count": null,
   "metadata": {},
   "outputs": [],
   "source": [
    "# \"\"\"\n",
    "# This is Master's API interface.\n",
    "# You should not implement it, or speculate about its implementation\n",
    "# \"\"\"\n",
    "# class Master:\n",
    "#     def guess(self, word: str) -> int:\n",
    "\n",
    "class Solution:\n",
    "    def findSecretWord(self, wordlist, master):\n",
    "        \"\"\"\n",
    "        :type wordlist: List[Str]\n",
    "        :type master: Master\n",
    "        :rtype: None\n",
    "        \"\"\"\n",
    "        import random\n",
    "        \n",
    "        new_wordlist = wordlist\n",
    "        while True:\n",
    "            test_word = random.choice(new_wordlist)\n",
    "            matches = master.guess(test_word)\n",
    "\n",
    "            if matches == 6:\n",
    "                return\n",
    "\n",
    "            wordlist = new_wordlist\n",
    "            new_wordlist = []\n",
    "            for word in wordlist:\n",
    "                dist = 0\n",
    "                for i in range(6):\n",
    "                    if word[i] == test_word[i]:\n",
    "                        dist += 1\n",
    "\n",
    "                if matches == dist:\n",
    "                    new_wordlist.append(word)"
   ]
  },
  {
   "cell_type": "markdown",
   "metadata": {},
   "source": [
    "## 855. Examn Room (Google 3)"
   ]
  },
  {
   "cell_type": "markdown",
   "metadata": {},
   "source": [
    "Use a list L to record the index of seats where people sit.    \n",
    "seat():  \n",
    "1. find the biggest distance at the start, at the end and in the middle.  \n",
    "2. insert index of seat  \n",
    "3. return index  "
   ]
  },
  {
   "cell_type": "code",
   "execution_count": null,
   "metadata": {},
   "outputs": [],
   "source": [
    "class ExamRoom:\n",
    "    def __init__(self, N):\n",
    "        self.N = N\n",
    "        self.students = []\n",
    "\n",
    "    def seat(self):\n",
    "        if not self.students: \n",
    "            index = 0\n",
    "        else:\n",
    "            d = self.students[0]\n",
    "            index = 0\n",
    "            for a, b in zip(self.students, self.students[1:]):\n",
    "                if (b - a) // 2 > d:\n",
    "                    d = (b - a) // 2\n",
    "                    index = (b + a) // 2\n",
    "                    \n",
    "            if self.N - 1 - self.students[-1] > d: \n",
    "                index = self.N - 1\n",
    "                \n",
    "        bisect.insort(self.students, index)\n",
    "        return index\n",
    "\n",
    "    def leave(self, p):\n",
    "        self.students.remove(p)"
   ]
  },
  {
   "cell_type": "code",
   "execution_count": null,
   "metadata": {},
   "outputs": [],
   "source": [
    "class ExamRoom:\n",
    "    def __init__(self, N):\n",
    "        self.N = N\n",
    "        self.students = []\n",
    "\n",
    "    def seat(self):\n",
    "        # Let's determine student, the position of the next\n",
    "        # student to sit down.\n",
    "        if not self.students:\n",
    "            student = 0\n",
    "        else:\n",
    "            # Tenatively, dist is the distance to the closest student,\n",
    "            # which is achieved by sitting in the position 'student'.\n",
    "            # We start by considering the left-most seat.\n",
    "            dist, student = self.students[0], 0\n",
    "            for i, s in enumerate(self.students):\n",
    "                if i:\n",
    "                    prev = self.students[i-1]\n",
    "                    # For each pair of adjacent students in positions (prev, s),\n",
    "                    # d is the distance to the closest student;\n",
    "                    # achieved at position prev + d.\n",
    "                    d = (s - prev) // 2\n",
    "                    if d > dist:\n",
    "                        dist, student = d, prev + d\n",
    "\n",
    "            # Considering the right-most seat.\n",
    "            d = self.N - 1 - self.students[-1]\n",
    "            if d > dist:\n",
    "                student = self.N - 1\n",
    "\n",
    "        # Add the student to our sorted list of positions.\n",
    "        bisect.insort(self.students, student)\n",
    "        return student\n",
    "\n",
    "    def leave(self, p):\n",
    "        self.students.remove(p)"
   ]
  }
 ],
 "metadata": {
  "kernelspec": {
   "display_name": "Python 3",
   "language": "python",
   "name": "python3"
  },
  "language_info": {
   "codemirror_mode": {
    "name": "ipython",
    "version": 3
   },
   "file_extension": ".py",
   "mimetype": "text/x-python",
   "name": "python",
   "nbconvert_exporter": "python",
   "pygments_lexer": "ipython3",
   "version": "3.6.8"
  },
  "toc-autonumbering": true
 },
 "nbformat": 4,
 "nbformat_minor": 2
}
