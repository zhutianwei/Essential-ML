{
 "cells": [
  {
   "cell_type": "code",
   "execution_count": 1,
   "metadata": {},
   "outputs": [],
   "source": [
    "from IPython.core.interactiveshell import InteractiveShell\n",
    "InteractiveShell.ast_node_interactivity = \"all\""
   ]
  },
  {
   "cell_type": "markdown",
   "metadata": {},
   "source": [
    "### (String) List. Heap Sort, Dict, Set"
   ]
  },
  {
   "cell_type": "markdown",
   "metadata": {},
   "source": [
    "### 八大排序  \n",
    "O(N^2), Bubble sort, Selection sort, Insertion Sort  \n",
    "O(NlgN), 那么范围缩小到 quick sort，merge sort 和 heap sort"
   ]
  },
  {
   "cell_type": "markdown",
   "metadata": {},
   "source": [
    "## Bubble Sort"
   ]
  },
  {
   "cell_type": "code",
   "execution_count": 9,
   "metadata": {},
   "outputs": [
    {
     "name": "stdout",
     "output_type": "stream",
     "text": [
      "[3, 6, 8, 0, 2]\n",
      "[3, 6, 0, 8, 2]\n",
      "[3, 6, 0, 2, 8]\n",
      "[3, 0, 6, 2, 8]\n",
      "[3, 0, 2, 6, 8]\n",
      "[0, 3, 2, 6, 8]\n",
      "[0, 2, 3, 6, 8]\n"
     ]
    },
    {
     "data": {
      "text/plain": [
       "[0, 2, 3, 6, 8]"
      ]
     },
     "execution_count": 9,
     "metadata": {},
     "output_type": "execute_result"
    }
   ],
   "source": [
    "# O(N^2)\n",
    "def bubble_sort(array):\n",
    "    for i in range(len(array)-1):\n",
    "        for j in range(len(array) - i - 1):\n",
    "            if array[j] > array[j + 1]:\n",
    "                array[j], array[j + 1] = array[j + 1], array[j]\n",
    "                print(array)\n",
    "                \n",
    "    return array\n",
    "                \n",
    "bubble_sort([6,3,8,0,2])"
   ]
  },
  {
   "cell_type": "markdown",
   "metadata": {},
   "source": [
    "## Merge Sort (Amazon)"
   ]
  },
  {
   "cell_type": "code",
   "execution_count": 1,
   "metadata": {},
   "outputs": [
    {
     "data": {
      "text/plain": [
       "[2, 3, 5, 6]"
      ]
     },
     "execution_count": 1,
     "metadata": {},
     "output_type": "execute_result"
    }
   ],
   "source": [
    "# O(nlogn)\n",
    "def merge_sort(nums):\n",
    "    # bottom cases: empty or list of a single element.\n",
    "    if len(nums) <= 1:\n",
    "        return nums\n",
    "\n",
    "    pivot = len(nums) // 2\n",
    "    left = merge_sort(nums[:pivot])\n",
    "    right = merge_sort(nums[pivot:])\n",
    "    return mergeTwoSortedArray(left, right)\n",
    "    \n",
    "def mergeTwoSortedArray(left, right):\n",
    "    l = r = 0\n",
    "    res = []\n",
    "    while l < len(left) and r < len(right):\n",
    "        if left[l] < right[r]:\n",
    "            ret.append(left[l])\n",
    "            l += 1\n",
    "        else:\n",
    "            ret.append(right[r])\n",
    "            r += 1\n",
    "    \n",
    "    # append what is remained in either of the lists\n",
    "    res.extend(left[l:])\n",
    "    res.extend(right[r:])\n",
    "    \n",
    "    return res\n",
    "\n",
    "array = [5, 3, 2, 6]\n",
    "merge_sort(array)"
   ]
  },
  {
   "cell_type": "code",
   "execution_count": 2,
   "metadata": {},
   "outputs": [
    {
     "ename": "IndexError",
     "evalue": "list index out of range",
     "output_type": "error",
     "traceback": [
      "\u001b[0;31m---------------------------------------------------------------------------\u001b[0m",
      "\u001b[0;31mIndexError\u001b[0m                                Traceback (most recent call last)",
      "\u001b[0;32m<ipython-input-2-da99f3da4cde>\u001b[0m in \u001b[0;36m<module>\u001b[0;34m\u001b[0m\n\u001b[1;32m      1\u001b[0m \u001b[0marray\u001b[0m \u001b[0;34m=\u001b[0m \u001b[0;34m[\u001b[0m\u001b[0;36m1\u001b[0m\u001b[0;34m,\u001b[0m\u001b[0;36m3\u001b[0m\u001b[0;34m]\u001b[0m\u001b[0;34m\u001b[0m\u001b[0;34m\u001b[0m\u001b[0m\n\u001b[0;32m----> 2\u001b[0;31m \u001b[0marray\u001b[0m\u001b[0;34m[\u001b[0m\u001b[0;36m2\u001b[0m\u001b[0;34m]\u001b[0m\u001b[0;34m\u001b[0m\u001b[0;34m\u001b[0m\u001b[0m\n\u001b[0m",
      "\u001b[0;31mIndexError\u001b[0m: list index out of range"
     ]
    }
   ],
   "source": [
    "array = [1,3]\n",
    "array[2]"
   ]
  },
  {
   "cell_type": "markdown",
   "metadata": {},
   "source": [
    "## Quick Sort  \n",
    "O(NlogN)  \n",
    "O(N)"
   ]
  },
  {
   "cell_type": "code",
   "execution_count": 3,
   "metadata": {},
   "outputs": [
    {
     "data": {
      "text/plain": [
       "[2, 3, 5, 6, 8]"
      ]
     },
     "execution_count": 3,
     "metadata": {},
     "output_type": "execute_result"
    }
   ],
   "source": [
    "def quick_sort(array):\n",
    "    if len(array) <= 1:\n",
    "        return array\n",
    "     \n",
    "    pivot = array[0]\n",
    "    smaller = [n for n in array[1:] if n <= pivot]\n",
    "    greater = [n for n in array[1:] if n > pivot]\n",
    "\n",
    "    return quick_sort(smaller) + [pivot] + quick_sort(greater)    \n",
    "\n",
    "array = [5, 3, 2, 6, 8]\n",
    "quick_sort(array)"
   ]
  },
  {
   "cell_type": "code",
   "execution_count": 4,
   "metadata": {},
   "outputs": [
    {
     "data": {
      "text/plain": [
       "[3]"
      ]
     },
     "execution_count": 4,
     "metadata": {},
     "output_type": "execute_result"
    }
   ],
   "source": [
    "[3] + []"
   ]
  },
  {
   "cell_type": "code",
   "execution_count": 7,
   "metadata": {},
   "outputs": [
    {
     "data": {
      "text/plain": [
       "[1, 2, 4, 5]"
      ]
     },
     "execution_count": 7,
     "metadata": {},
     "output_type": "execute_result"
    }
   ],
   "source": [
    "a = [1,2]\n",
    "b = [4,5]\n",
    "a.extend(b)\n",
    "a"
   ]
  },
  {
   "cell_type": "markdown",
   "metadata": {},
   "source": [
    "### Heap Sort"
   ]
  },
  {
   "cell_type": "code",
   "execution_count": 10,
   "metadata": {},
   "outputs": [
    {
     "data": {
      "text/plain": [
       "[5, 3]"
      ]
     },
     "execution_count": 10,
     "metadata": {},
     "output_type": "execute_result"
    }
   ],
   "source": [
    "import heapq\n",
    "\n",
    "l = [1,5,3,2]\n",
    "heapq.nlargest(2, l)"
   ]
  },
  {
   "cell_type": "markdown",
   "metadata": {},
   "source": [
    "## 937. Reorder Data in Log Files (String List) (Amazon OA 142)\n",
    "\n",
    "O(Alog(A))  \n",
    "O(A)"
   ]
  },
  {
   "cell_type": "code",
   "execution_count": null,
   "metadata": {},
   "outputs": [],
   "source": [
    "class Solution:\n",
    "    def reorderLogFiles(self, logs):\n",
    "        \"\"\"\n",
    "        :type logs: List[str]\n",
    "        :rtype: List[str]\n",
    "        \"\"\"\n",
    "        \n",
    "        def helper(log):\n",
    "            iden, rest = log.split(\" \", 1)\n",
    "            \n",
    "            if rest[0].isalpha():\n",
    "                return (0, rest, iden)\n",
    "            \n",
    "            else:\n",
    "                return (1,)\n",
    "            \n",
    "        return sorted(logs, key = helper)"
   ]
  },
  {
   "cell_type": "code",
   "execution_count": null,
   "metadata": {},
   "outputs": [],
   "source": [
    "logs = [\"a1 9 2 3 1\",\"g1 act car\",\"zo4 4 7\",\"ab1 off key dog\",\"a8 act zoo\"]\n",
    "\n",
    "for log in logs:\n",
    "#     ids, rest = log.split(' ', 1)\n",
    "#     print(ids, ',', type(rest))\n",
    "    s = log.split(' ', 2)\n",
    "    print(s)"
   ]
  },
  {
   "cell_type": "code",
   "execution_count": null,
   "metadata": {},
   "outputs": [],
   "source": [
    "logs = [\"a1 9 2 3 1\",\"g1 act car\",\"zo4 4 7\",\"ab1 off key dog\",\"a8 act zoo\"]\n",
    "\n",
    "for log in logs:\n",
    "    ids = log.split(' ', 1)\n",
    "    print(ids)"
   ]
  },
  {
   "cell_type": "markdown",
   "metadata": {},
   "source": [
    "## Sort 2D Array (Matrix. heapq) (Google Phone)"
   ]
  },
  {
   "cell_type": "code",
   "execution_count": 20,
   "metadata": {},
   "outputs": [],
   "source": [
    "import heapq\n",
    "\n",
    "def sort(matrix):\n",
    "    \n",
    "    row = len(matrix)\n",
    "    col = len(matrix[0])\n",
    "#     array = matrix[0]\n",
    "#     for i in range(1, len(matrix)):\n",
    "#         array = heapq.merge(array, matrix[i])\n",
    "        \n",
    "#     array = list(heapq.merge(*matrix))\n",
    "\n",
    "    heap = []\n",
    "    \n",
    "    for array in matrix:\n",
    "        for n in array:\n",
    "            heapq.heappush(heap, n)\n",
    "\n",
    "    \n",
    "    for m in range(row):\n",
    "        for n in range(col):\n",
    "            value = heapq.heappop(heap)\n",
    "            matrix[m][n] = value\n",
    "            "
   ]
  },
  {
   "cell_type": "code",
   "execution_count": 21,
   "metadata": {},
   "outputs": [
    {
     "data": {
      "text/plain": [
       "[[1, 2, 3, 4, 5], [6, 7, 8, 9, 12], [12, 14, 15, 17, 18], [19, 21, 23, 25, 27]]"
      ]
     },
     "execution_count": 21,
     "metadata": {},
     "output_type": "execute_result"
    }
   ],
   "source": [
    "import heapq\n",
    "matrix = [[ 5, 12, 17, 21, 23],\n",
    "             [ 1,  2,  4,  6,  8],\n",
    "             [12, 14, 18, 19, 27],\n",
    "             [ 3,  7,  9, 15, 25]]\n",
    "\n",
    "\n",
    "sort(matrix)\n",
    "matrix"
   ]
  },
  {
   "cell_type": "code",
   "execution_count": 19,
   "metadata": {},
   "outputs": [
    {
     "data": {
      "text/plain": [
       "[1, 2, 3, 2, 5, 6, 4, 4]"
      ]
     },
     "execution_count": 19,
     "metadata": {},
     "output_type": "execute_result"
    }
   ],
   "source": [
    "a = [3,2,1,4,5,6,4,2]\n",
    "heapq.heapify(a)\n",
    "\n",
    "a "
   ]
  },
  {
   "cell_type": "markdown",
   "metadata": {},
   "source": [
    "##  Partition array into N subsets with balanced sum (List. heapq) (Microsoft OA)"
   ]
  },
  {
   "cell_type": "code",
   "execution_count": 31,
   "metadata": {},
   "outputs": [
    {
     "name": "stdout",
     "output_type": "stream",
     "text": [
      "heap [(0, 0), (0, 1), (0, 2)]\n",
      "[[5], [4, 1], [3, 2]]\n"
     ]
    }
   ],
   "source": [
    "import heapq\n",
    "\n",
    "def subset(arr, k):\n",
    "    heap = [(0, i) for i in range(k)]\n",
    "    print('heap', heap)\n",
    "    res = [[] for _ in range(k)]\n",
    "    \n",
    "    arr.sort(reverse = True)\n",
    "\n",
    "    for each in arr:\n",
    "        val, idx = heapq.heappop(heap)\n",
    "        res[idx].append(each)\n",
    "        \n",
    "        heapq.heappush(heap, (val + each, idx))\n",
    "\n",
    "    return res\n",
    "\n",
    "c = [1, 2, 3, 4, 5, 2, 2, 3, 9]\n",
    "a = [1,2,3,4,5]\n",
    "b = [1,2,3,4,5,6,7,8,9,10]\n",
    "k = 3\n",
    "print(subset(a, k))"
   ]
  },
  {
   "cell_type": "markdown",
   "metadata": {},
   "source": [
    "## 1167. Minimum Cost to Connect Sticks (Amazon OA 15)"
   ]
  },
  {
   "cell_type": "code",
   "execution_count": null,
   "metadata": {},
   "outputs": [],
   "source": [
    "import heapq\n",
    "class Solution:\n",
    "    def connectSticks(self, s):\n",
    "        \"\"\"\n",
    "        :type sticks: List[int]\n",
    "        :rtype: int\n",
    "        \"\"\"\n",
    "        \n",
    "        heapq.heapify(s)\n",
    "        res = 0\n",
    "        while len(s) > 1:\n",
    "            a = heapq.heappop(s)\n",
    "            b = heapq.heappop(s)\n",
    "            res += a + b\n",
    "            heapq.heappush(s, a + b)\n",
    "        return res"
   ]
  },
  {
   "cell_type": "markdown",
   "metadata": {},
   "source": [
    "## 253. Meeting Room II（List. heapq sort) (Facebook 26, Amazon 23, Uber 11, Microsoft Onsite 8, Google 9, Apple 5)\n",
    "\n",
    "时间复杂度: O(NlogN)  \n",
    "\n",
    "想象一下，现实生活中，先开始的会议还没结束前我们就又要开始一个会议的话，此时我们需要一个新的会议室\n",
    "\n",
    "如果前面一堆先开始的会议都先于我们的新会议开始之前结束了，我们不需要新会议室\n",
    "\n",
    "换句话说，如果前面一堆新开始的会议中结束最早的那个会议如果在新开始的会议之前结束了的话，我们不需要会议室\n",
    "\n",
    "所以我们的思路是，先按照会议开始的时间排序，然后维护一个会议结束时间的最小堆，堆顶就是前面结束最早的那个会议的结束时间\n",
    "\n",
    "那么对于一个新的会议出现时：\n",
    "\n",
    "如果堆顶元素比新会议的开始时间更小的话，我们不需要新会议室。同时因为后面出现的新会议的开始时间更大了，\n",
    "所以目前最先结束的会议永远不可能比后面新出现的会议的开始时间更大，因此我们可以pop目前最先结束的会议，即pop堆顶元素，并且将新会议的结束时间放进堆中\n",
    "\n",
    "如果堆顶元素比新会议的开始时间更大的话，我们知道我们需要一个新的会议室，此时直接将新会议的结束时间放进堆中\n",
    "\n",
    "最终堆的size就是我们需要的会议室数量"
   ]
  },
  {
   "cell_type": "code",
   "execution_count": null,
   "metadata": {},
   "outputs": [],
   "source": [
    "import heapq \n",
    "class Solution:\n",
    "    def minMeetingRooms(self, intervals):\n",
    "        \"\"\"\n",
    "        :type intervals: List[Interval]\n",
    "        :rtype: int\n",
    "        \"\"\"\n",
    "\n",
    "        if not intervals:\n",
    "            return 0\n",
    "        \n",
    "        intervals.sort()\n",
    "        \n",
    "        heap = []\n",
    "        heapq.heappush(heap, intervals.pop(0)[-1])\n",
    "        \n",
    "        for array in intervals:\n",
    "            if array[0] >= heap[0]:\n",
    "                heapq.heappop(heap)\n",
    "                heapq.heappush(heap, array[-1])\n",
    "                \n",
    "            else:\n",
    "                heapq.heappush(heap, array[-1])\n",
    "                \n",
    "        return len(heap)"
   ]
  },
  {
   "cell_type": "code",
   "execution_count": null,
   "metadata": {},
   "outputs": [],
   "source": [
    "import heapq \n",
    "class Solution:\n",
    "    def minMeetingRooms(self, intervals):\n",
    "        \"\"\"\n",
    "        :type intervals: List[Interval]\n",
    "        :rtype: int\n",
    "        \"\"\"\n",
    "\n",
    "        # If there is no meeting to schedule then no room needs to be allocated.\n",
    "        if not intervals:\n",
    "            return 0\n",
    "\n",
    "        # The heap initialization\n",
    "        heap = []\n",
    "\n",
    "        # Sort the meetings in increasing order of their start time.\n",
    "        intervals.sort()\n",
    "\n",
    "        # Add the first meeting. We have to give a new room to the first meeting.\n",
    "        heapq.heappush(heap, intervals[0][-1])\n",
    "\n",
    "        # For all the remaining meeting rooms\n",
    "        for interval in intervals[1:]:\n",
    "\n",
    "            # If the room due to free up the earliest is free, assign that room to this meeting.\n",
    "            if heap[0] <= interval[0]:\n",
    "                heapq.heapreplace(heap, interval[-1])\n",
    "\n",
    "            # If a new room is to be assigned, then also we add to the heap,\n",
    "            # If an old room is allocated, then also we have to add to the heap with updated end time.\n",
    "            elif heap[0] > interval[0]:\n",
    "                heapq.heappush(heap, interval[-1])\n",
    "\n",
    "        # The size of the heap tells us the minimum rooms required for all the meetings.\n",
    "        return len(heap)"
   ]
  },
  {
   "cell_type": "code",
   "execution_count": null,
   "metadata": {},
   "outputs": [],
   "source": [
    "import heapq \n",
    "class Solution():\n",
    "    def minMeetingRooms(self, lists):\n",
    "        \"\"\"\n",
    "        :type intervals: List[Interval]\n",
    "        :rtype: int\n",
    "        \"\"\"\n",
    "        if not lists:\n",
    "            return 0\n",
    "        \n",
    "        lists.sort()\n",
    "\n",
    "        heap = []  # stores the end time of intervals\n",
    "    \n",
    "        for i in lists:\n",
    "#             print('i =', i)\n",
    "            if heap and i[0] >= heap[0]: \n",
    "                # means two intervals can use the same room\n",
    "                heapq.heapreplace(heap, i[-1])\n",
    "#                 print('heap1 =', heap)\n",
    "\n",
    "            else:\n",
    "                # a new room is allocated\n",
    "                heapq.heappush(heap, i[-1])\n",
    "#                 print('heap2 =', heap)\n",
    "            \n",
    "#             print()\n",
    "\n",
    "        return len(heap)"
   ]
  },
  {
   "cell_type": "code",
   "execution_count": null,
   "metadata": {},
   "outputs": [],
   "source": [
    "s = Solution()\n",
    "intervals = [[0, 30],[5, 10],[15, 20]]\n",
    "s.minMeetingRooms(intervals)"
   ]
  },
  {
   "cell_type": "code",
   "execution_count": null,
   "metadata": {},
   "outputs": [],
   "source": [
    "dic = {'yes':1}\n",
    "dic.pop('s', 0)\n",
    "dic"
   ]
  },
  {
   "cell_type": "markdown",
   "metadata": {},
   "source": [
    "## 215. Kth Largest Element in an Array (List. heapq, Quick Sorting, Recursion) (Facebook 26, Amazon 12, Google 6, Microsoft Onsite 3, Linkedin 5)"
   ]
  },
  {
   "cell_type": "code",
   "execution_count": null,
   "metadata": {},
   "outputs": [],
   "source": [
    "# nlog(k)\n",
    "class Solution(object):\n",
    "    def findKthLargest(self, nums, k):\n",
    "        \"\"\"\n",
    "        :type nums: List[int]\n",
    "        :type k: int\n",
    "        :rtype: int\n",
    "        \"\"\"\n",
    "        heap = []\n",
    "        for n in nums[:k]:\n",
    "            heapq.heappush(heap, n)\n",
    "            \n",
    "        for n in nums[k:]:\n",
    "            if n > heap[0]:\n",
    "                heapq.heappop(heap)\n",
    "                heapq.heappush(heap, n)\n",
    "\n",
    "        return heap[0]"
   ]
  },
  {
   "cell_type": "code",
   "execution_count": null,
   "metadata": {},
   "outputs": [],
   "source": [
    "# O(nlogk)\n",
    "# O(k)\n",
    "class Solution:\n",
    "    def findKthLargest(self, nums, k):\n",
    "        \"\"\"\n",
    "        :type nums: List[int]\n",
    "        :type k: int\n",
    "        :rtype: int\n",
    "        \"\"\"\n",
    "        return heapq.nlargest(k, nums)[-1]"
   ]
  },
  {
   "cell_type": "code",
   "execution_count": null,
   "metadata": {},
   "outputs": [],
   "source": [
    "# Time Complexity：Heapify用了O(N)，然后一共pop了k个元素，每个元素使用logn的时间复杂，所以一共是O(n + klog(n))\n",
    "# O(n)\n",
    "import heapq\n",
    "class Solution:\n",
    "    def findKthLargest(self, nums, k):\n",
    "        \"\"\"\n",
    "        :type nums: List[int]\n",
    "        :type k: int\n",
    "        :rtype: int\n",
    "        \"\"\"\n",
    "\n",
    "        heap = []\n",
    "        for n in nums:\n",
    "            heapq.heappush(heap, -n)\n",
    "            \n",
    "        for i in range(k):\n",
    "            res = heapq.heappop(heap)\n",
    "            \n",
    "        return -res"
   ]
  },
  {
   "cell_type": "code",
   "execution_count": null,
   "metadata": {},
   "outputs": [],
   "source": [
    "x = (1, [1,2])\n",
    "\n",
    "heap = []\n",
    "import heapq\n",
    "heapq.heappush(heap, (1,[1,2]))\n",
    "heap"
   ]
  },
  {
   "cell_type": "code",
   "execution_count": null,
   "metadata": {},
   "outputs": [],
   "source": [
    "# 时间复杂度: O(N)  \n",
    "# O(1)\n",
    "class Solution:\n",
    "    def findKthLargest(self, nums, k):\n",
    "        \"\"\"\n",
    "        :type nums: List[int]\n",
    "        :type k: int\n",
    "        :rtype: int\n",
    "        \"\"\"\n",
    "        pivot = nums[0]\n",
    "        smaller  = [n for n in nums if n < pivot]\n",
    "        equal = [n for n in nums if n == pivot]\n",
    "        greater = [n for n in nums if n > pivot]\n",
    "\n",
    "        if len(greater) >= k:\n",
    "            return self.findKthLargest(greater, k) #k may be there\n",
    "        elif len(equal) >= (k - len(greater)): # k may be in equal or smaller\n",
    "            return equal[0] # any number from equal\n",
    "        else:\n",
    "            return self.findKthLargest(smaller, k - len(greater) - len(equal))"
   ]
  },
  {
   "cell_type": "markdown",
   "metadata": {},
   "source": [
    "## 973. K Closest Point to Origin (Lists. heapq) (Amazon OA 77, Facebook 35)  \n",
    "O(NlogN)  \n",
    "O(N)"
   ]
  },
  {
   "cell_type": "code",
   "execution_count": null,
   "metadata": {},
   "outputs": [],
   "source": [
    "import heapq\n",
    "class Solution:\n",
    "    def kClosest(self, points, K):\n",
    "        \"\"\"\n",
    "        :type points: List[List[int]]\n",
    "        :type K: int\n",
    "        :rtype: List[List[int]]\n",
    "        \"\"\"\n",
    "        \n",
    "        # dic = {}\n",
    "        # for point in points:       \n",
    "        heap = []\n",
    "        \n",
    "        for n in points:\n",
    "            distance, point = n[0]**2 + n[1]**2, n\n",
    "            heapq.heappush(heap, (distance, point))\n",
    "                                  \n",
    "        res = []\n",
    "        for i in range(K):\n",
    "            distance, point = heapq.heappop(heap)\n",
    "            res.append(point)\n",
    "                           \n",
    "        return res"
   ]
  },
  {
   "cell_type": "code",
   "execution_count": null,
   "metadata": {},
   "outputs": [],
   "source": [
    "class Solution:\n",
    "    def kClosest(self, points, k):\n",
    "        \"\"\"\n",
    "        :type points: List[List[int]]\n",
    "        :type K: int\n",
    "        :rtype: List[List[int]]\n",
    "        \"\"\"\n",
    "        \n",
    "        points.sort(key = lambda p: p[0]**2 + p[1]**2)\n",
    "        return points[:k]"
   ]
  },
  {
   "cell_type": "markdown",
   "metadata": {},
   "source": [
    "## Top K Frequently Mentioned Keywords (heap) (Amazon OA)"
   ]
  },
  {
   "cell_type": "code",
   "execution_count": null,
   "metadata": {},
   "outputs": [],
   "source": [
    "from collections import Counter\n",
    "import heapq\n",
    "class Solution:\n",
    "    def topKFrequent(self, words, k):   \n",
    "                \n",
    "        heap = []\n",
    "        res = []\n",
    "        dic = Counter(words)\n",
    "                \n",
    "        for key, value in dic.items():\n",
    "            heapq.heappush(heap,(-value, key))\n",
    "            \n",
    "        for i in range(k):\n",
    "            key, value = heapq.heappop(heap)\n",
    "            res.append(value)\n",
    "        return res"
   ]
  },
  {
   "cell_type": "markdown",
   "metadata": {},
   "source": [
    "## 692. Top K Frequent Words (heap) (Amazon 13)"
   ]
  },
  {
   "cell_type": "code",
   "execution_count": null,
   "metadata": {},
   "outputs": [],
   "source": [
    "# O(N + klogN)  \n",
    "# O(N)\n",
    "from collections import Counter\n",
    "import heapq\n",
    "class Solution:\n",
    "    def topKFrequent(self, words, k):   \n",
    "        \n",
    "        dic = Counter(words)\n",
    "                \n",
    "        heap = [(-freq, word) for word, freq in dic.items()]\n",
    "        heapq.heapify(heap)\n",
    "        \n",
    "        return [heapq.heappop(heap)[1] for i in range(k)]"
   ]
  },
  {
   "cell_type": "code",
   "execution_count": null,
   "metadata": {},
   "outputs": [],
   "source": [
    "# O(nlogk)  \n",
    "# O(N)\n",
    "from collections import Counter\n",
    "import heapq\n",
    "class Solution:\n",
    "    def topKFrequent(self, words, k):                   \n",
    "        heap = []\n",
    "        res = []\n",
    "        dic = Counter(words)\n",
    "                \n",
    "        for key, value in dic.items():\n",
    "            heapq.heappush(heap,(-value, key))\n",
    "            \n",
    "        for i in range(k):\n",
    "            key, value = heapq.heappop(heap)\n",
    "            res.append(value)\n",
    "        return res"
   ]
  },
  {
   "cell_type": "code",
   "execution_count": 3,
   "metadata": {},
   "outputs": [],
   "source": [
    "# O(nlogn)\n",
    "# O(n)\n",
    "\n",
    "from collections import Counter\n",
    "class Solution():\n",
    "    def topKFrequent(self, words, k):\n",
    "        \"\"\"\n",
    "        :type words: List[str]\n",
    "        :type k: int\n",
    "        :rtype: List[str]\n",
    "        \"\"\"\n",
    "        count = Counter(words)\n",
    "#         print(count)\n",
    "         candidates = sorted(count.keys(), key = lambda x: (-count[x], x))\n",
    "\n",
    "        \n",
    "        return candidates[:k] "
   ]
  },
  {
   "cell_type": "code",
   "execution_count": 4,
   "metadata": {},
   "outputs": [
    {
     "name": "stdout",
     "output_type": "stream",
     "text": [
      "Counter({'i': 2, 'love': 2, 'leetcode': 1, 'coding': 1})\n",
      "candidates= ['i', 'love', 'coding', 'leetcode']\n"
     ]
    },
    {
     "data": {
      "text/plain": [
       "['i', 'love']"
      ]
     },
     "execution_count": 4,
     "metadata": {},
     "output_type": "execute_result"
    }
   ],
   "source": [
    "words = [\"i\", \"love\", \"leetcode\", \"i\", \"love\", \"coding\"]\n",
    "k = 2\n",
    "s = Solution()\n",
    "s.topKFrequent(words, k)"
   ]
  },
  {
   "cell_type": "markdown",
   "metadata": {},
   "source": [
    "## 347. Top K Frequent Elements (heap) (Amazon 16, Google 6, Microsoft 6)\n",
    "\n",
    "O(N + klog(n))  \n",
    "O(N)"
   ]
  },
  {
   "cell_type": "code",
   "execution_count": null,
   "metadata": {},
   "outputs": [],
   "source": [
    "import heapq\n",
    "class Solution:\n",
    "    def topKFrequent(self, nums, k):\n",
    "#         dic = {}       \n",
    "#         for n in nums:\n",
    "#             if n in dic:\n",
    "#                 dic[n] += 1\n",
    "#             else:\n",
    "#                 dic[n] = 1\n",
    "          \n",
    "        heap = []\n",
    "        res = []\n",
    "        dic = Counter(nums)\n",
    "                \n",
    "        for key, value in dic.items():\n",
    "            heapq.heappush(heap,(-value, key))\n",
    "            \n",
    "        for i in range(k):\n",
    "            key, value = heapq.heappop(heap)\n",
    "            res.append(value)\n",
    "        return res"
   ]
  },
  {
   "cell_type": "code",
   "execution_count": null,
   "metadata": {},
   "outputs": [],
   "source": [
    "import heapq\n",
    "from collections import Counter\n",
    "class Solution:\n",
    "    def topKFrequent(self, nums, k):\n",
    "        \"\"\"\n",
    "        :type nums: List[int]\n",
    "        :type k: int\n",
    "        :rtype: List[int]\n",
    "        \"\"\" \n",
    "        count = Counter(nums)   \n",
    "        return heapq.nlargest(k, count.keys(), key=count.get) \n",
    "#       return sorted(count.keys(), key = count.get, reverse = True)[:k]"
   ]
  },
  {
   "cell_type": "markdown",
   "metadata": {},
   "source": [
    "## 819. Most Common Word (String. Counter) (Amazon OA 65)\n",
    "\n",
    "O(N)  \n",
    "O(P) P个words"
   ]
  },
  {
   "cell_type": "code",
   "execution_count": null,
   "metadata": {},
   "outputs": [],
   "source": [
    "from collections import Counter\n",
    "class Solution:\n",
    "    def mostCommonWord(self, paragraph, banned):\n",
    "        \"\"\"\n",
    "        :type paragraph: str\n",
    "        :type banned: List[str]\n",
    "        :rtype: str\n",
    "        \"\"\"\n",
    "        \n",
    "        for c in \"!?',;.\": \n",
    "            paragraph = paragraph.replace(c, \" \")\n",
    "            \n",
    "        paragraph = paragraph.lower().split()\n",
    "        \n",
    "        dic = Counter()\n",
    "        res = '' \n",
    "        count = 0\n",
    "        \n",
    "        for word in paragraph:\n",
    "            if word in banned:\n",
    "                continue\n",
    "                \n",
    "            if word in dic:\n",
    "                dic[word] += 1\n",
    "                \n",
    "                \n",
    "#             elif word not in dic:\n",
    "#                 dic[word] = 1\n",
    "#             else:\n",
    "#                 dic[word] += 1\n",
    "                \n",
    "            if dic[word] > count:\n",
    "                count = dic[word]\n",
    "                res = word\n",
    "        return res\n",
    "        "
   ]
  },
  {
   "cell_type": "code",
   "execution_count": null,
   "metadata": {},
   "outputs": [],
   "source": [
    "s = Solution()\n",
    "paragraph = \"Bob hit a ball, the hit BALL flew far after it was hit.\"\n",
    "banned = [\"hit\"]\n",
    "s.mostCommonWord(paragraph, banned)"
   ]
  },
  {
   "cell_type": "code",
   "execution_count": null,
   "metadata": {},
   "outputs": [],
   "source": [
    "s = 'Sjks'\n",
    "s.split()\n",
    "s"
   ]
  },
  {
   "cell_type": "code",
   "execution_count": null,
   "metadata": {},
   "outputs": [],
   "source": [
    "paragraph = \"Bob hit a ball, the hit BALL flew far after it was hit.\"\n",
    "for c in \"!?',;.\": \n",
    "    paragraph = paragraph.replace(c, \"\")\n",
    "    \n",
    "paragraph.split()"
   ]
  },
  {
   "cell_type": "markdown",
   "metadata": {},
   "source": [
    "### Counter"
   ]
  },
  {
   "cell_type": "markdown",
   "metadata": {},
   "source": [
    "## 389. Find Difference (Google 2 last year)"
   ]
  },
  {
   "cell_type": "code",
   "execution_count": null,
   "metadata": {},
   "outputs": [],
   "source": [
    "from collections import Counter\n",
    "class Solution:\n",
    "    def findTheDifference(self, s, t):\n",
    "        \"\"\"\n",
    "        :type s: str\n",
    "        :type t: str\n",
    "        :rtype: str\n",
    "        \"\"\"\n",
    "        dic = Counter(s)\n",
    "        dic2 = Counter(t)\n",
    "        for c in t:\n",
    "            if dic[c] != dic2[c]:\n",
    "                return c"
   ]
  },
  {
   "cell_type": "markdown",
   "metadata": {},
   "source": [
    "## Min Deletions to Make Frequency of Each Letter Unique (String. Counter) (Microsoft OA)"
   ]
  },
  {
   "cell_type": "code",
   "execution_count": 7,
   "metadata": {},
   "outputs": [
    {
     "name": "stdout",
     "output_type": "stream",
     "text": [
      "[2, 2, 2, 3, 3]\n",
      "i 3\n",
      "i 2\n"
     ]
    },
    {
     "data": {
      "text/plain": [
       "6"
      ]
     },
     "execution_count": 7,
     "metadata": {},
     "output_type": "execute_result"
    }
   ],
   "source": [
    "from collections import Counter\n",
    "\n",
    "def solution(s):\n",
    "    dic = Counter(s)\n",
    "    \n",
    "    array = list(dic.values())\n",
    "    array.sort()\n",
    "    print(array)\n",
    "    \n",
    "    count = 0\n",
    "    for i in range(len(array)-2, -1, -1):\n",
    "        print('i', i)\n",
    "        if array[i] == array[i + 1]:\n",
    "            array[i] -= 1\n",
    "            count += 1\n",
    "            \n",
    "            if array[i] == 1:\n",
    "                count += sum(array[:i])\n",
    "                break\n",
    "                \n",
    "    return count\n",
    "                \n",
    "solution(\"aabbffddeaee\")"
   ]
  },
  {
   "cell_type": "code",
   "execution_count": 8,
   "metadata": {},
   "outputs": [
    {
     "name": "stdout",
     "output_type": "stream",
     "text": [
      "3\n",
      "2\n",
      "1\n",
      "0\n"
     ]
    }
   ],
   "source": [
    "array = [2, 2, 2, 3, 3]\n",
    "for i in range(len(array)-2, -1, -1):\n",
    "    print(i)"
   ]
  },
  {
   "cell_type": "markdown",
   "metadata": {},
   "source": [
    "## Min Deletions To Obtain String in Right Format (Counter) (Microsoft OA)"
   ]
  },
  {
   "cell_type": "code",
   "execution_count": 33,
   "metadata": {},
   "outputs": [
    {
     "data": {
      "text/plain": [
       "2"
      ]
     },
     "execution_count": 33,
     "metadata": {},
     "output_type": "execute_result"
    },
    {
     "data": {
      "text/plain": [
       "3"
      ]
     },
     "execution_count": 33,
     "metadata": {},
     "output_type": "execute_result"
    },
    {
     "data": {
      "text/plain": [
       "0"
      ]
     },
     "execution_count": 33,
     "metadata": {},
     "output_type": "execute_result"
    },
    {
     "data": {
      "text/plain": [
       "1"
      ]
     },
     "execution_count": 33,
     "metadata": {},
     "output_type": "execute_result"
    },
    {
     "data": {
      "text/plain": [
       "1"
      ]
     },
     "execution_count": 33,
     "metadata": {},
     "output_type": "execute_result"
    },
    {
     "data": {
      "text/plain": [
       "0"
      ]
     },
     "execution_count": 33,
     "metadata": {},
     "output_type": "execute_result"
    }
   ],
   "source": [
    "from collections import Counter\n",
    "\n",
    "class Solution:\n",
    "    def solution(self, s):\n",
    "        right = Counter(s)\n",
    "        left = Counter()\n",
    "        ans = left['B'] + right['A']\n",
    "        for c in s:\n",
    "            left[c] += 1\n",
    "            right[c] -= 1\n",
    "            ans = min(ans, left['B'] + right['A'])\n",
    "        return ans\n",
    "\n",
    "s = Solution()\n",
    "s.solution(\"BAAABAB\") # 2\n",
    "s.solution(\"BBABAA\") # 3\n",
    "s.solution(\"B\") # 0\n",
    "s.solution(\"BAAABBBB\") # 1\n",
    "s.solution(\"BBBBABBB\") # 1\n",
    "s.solution(\"AAAAA\") # 0"
   ]
  },
  {
   "cell_type": "code",
   "execution_count": 38,
   "metadata": {},
   "outputs": [
    {
     "data": {
      "text/plain": [
       "2"
      ]
     },
     "execution_count": 38,
     "metadata": {},
     "output_type": "execute_result"
    },
    {
     "data": {
      "text/plain": [
       "3"
      ]
     },
     "execution_count": 38,
     "metadata": {},
     "output_type": "execute_result"
    },
    {
     "data": {
      "text/plain": [
       "0"
      ]
     },
     "execution_count": 38,
     "metadata": {},
     "output_type": "execute_result"
    },
    {
     "data": {
      "text/plain": [
       "1"
      ]
     },
     "execution_count": 38,
     "metadata": {},
     "output_type": "execute_result"
    },
    {
     "data": {
      "text/plain": [
       "1"
      ]
     },
     "execution_count": 38,
     "metadata": {},
     "output_type": "execute_result"
    },
    {
     "data": {
      "text/plain": [
       "0"
      ]
     },
     "execution_count": 38,
     "metadata": {},
     "output_type": "execute_result"
    }
   ],
   "source": [
    "def solution(s):\n",
    "    r_A = Counter(s)\n",
    "    l_B = Counter()\n",
    "    \n",
    "    res = l_B['B'] + r_A['A']\n",
    "    \n",
    "    for c in s:\n",
    "\n",
    "        if c == 'B':\n",
    "            l_B[c] += 1\n",
    "\n",
    "        elif c == 'A':\n",
    "            r_A[c] -= 1\n",
    "\n",
    "        res = min(res, l_B['B'] + r_A['A'])\n",
    "            \n",
    "    return res\n",
    "    \n",
    "solution(\"BAAABAB\") # 2\n",
    "solution(\"BBABAA\") # 3\n",
    "solution(\"B\") # 0\n",
    "solution(\"BAAABBBB\") # 1\n",
    "solution(\"BBBBABBB\") # 1\n",
    "solution(\"AAAAA\") # 0"
   ]
  },
  {
   "cell_type": "markdown",
   "metadata": {},
   "source": [
    "## Max Network rank (Counter) (Microsoft OA)"
   ]
  },
  {
   "cell_type": "code",
   "execution_count": 25,
   "metadata": {},
   "outputs": [
    {
     "data": {
      "text/plain": [
       "4"
      ]
     },
     "execution_count": 25,
     "metadata": {},
     "output_type": "execute_result"
    }
   ],
   "source": [
    "from collections import Counter\n",
    "def solution(arr1, arr2):\n",
    "    dic = Counter()\n",
    "    \n",
    "    for i in range(len(arr1)):\n",
    "        dic[arr1[i]] += 1\n",
    "        dic[arr2[i]] += 1\n",
    "        \n",
    "    res = 0\n",
    "    for i in range(len(arr1)):\n",
    "        res = max(res, dic[arr1[i]] + dic[arr2[i]] - 1)\n",
    "        \n",
    "    return res\n",
    "\n",
    "a = [1,2,3,3]\n",
    "b = [2,3,1,4]\n",
    "\n",
    "c = [1,2,4,5]\n",
    "d = [2,3,5,6]\n",
    "\n",
    "solution(a, b)"
   ]
  },
  {
   "cell_type": "markdown",
   "metadata": {},
   "source": [
    "## Min Steps to Make Piles Equal Height (List. Counter) (Microsoft OA)"
   ]
  },
  {
   "cell_type": "code",
   "execution_count": 17,
   "metadata": {},
   "outputs": [
    {
     "data": {
      "text/plain": [
       "6"
      ]
     },
     "execution_count": 17,
     "metadata": {},
     "output_type": "execute_result"
    }
   ],
   "source": [
    "def solution(piles):\n",
    "    length = len(piles)\n",
    "    \n",
    "    if length <= 1:\n",
    "        return 0\n",
    "    \n",
    "    piles.sort(reverse = True)\n",
    "    \n",
    "    res = 0\n",
    "    count = 0\n",
    "    \n",
    "    for i in range(1, len(piles)):\n",
    "        if piles[i] != piles[i-1]:\n",
    "            res += i\n",
    "            \n",
    "    return res\n",
    "\n",
    "a = [5,2,1]\n",
    "b = [4,5,5,4,2]\n",
    "solution(b)"
   ]
  },
  {
   "cell_type": "code",
   "execution_count": null,
   "metadata": {},
   "outputs": [],
   "source": [
    "public int minSteps(int[] piles){\n",
    "        int len = piles.length;\n",
    "        if(len <= 1) return 0;\n",
    "        Arrays.sort(piles);\n",
    "        int res = 0, distinctNums = 0;\n",
    "        for(int i = 1; i < len; ++i){\n",
    "            if(piles[i] == piles[i - 1]){\n",
    "                res += distinctNums;\n",
    "            }\n",
    "            else{\n",
    "                ++distinctNums;\n",
    "                res += distinctNums;\n",
    "            }\n",
    "        }\n",
    "        return res;\n",
    "    }"
   ]
  },
  {
   "cell_type": "code",
   "execution_count": 12,
   "metadata": {},
   "outputs": [
    {
     "name": "stdout",
     "output_type": "stream",
     "text": [
      "cnt Counter({5: 1, 2: 1, 1: 1})\n",
      "nums [5, 2, 1]\n",
      "3\n",
      "cnt Counter({4: 2, 5: 2, 2: 1})\n",
      "nums [5, 4, 2]\n",
      "0\n"
     ]
    }
   ],
   "source": [
    "from collections import Counter\n",
    "def minStepEqualPiles(array):\n",
    "    cnt = Counter(array)\n",
    "    print('cnt', cnt)\n",
    "    nums = sorted(cnt.keys(), reverse=True)\n",
    "    print('nums', nums)\n",
    "    \n",
    "    dp = [0] * (len(array) + 1)\n",
    "#     k, ans = 0, 0\n",
    "#     for i in range(len(nums)-1):\n",
    "#         k += cnt[nums[i]]\n",
    "#         ans += k\n",
    "\n",
    "    for i in range(len(nums)):\n",
    "        dp[i+1] = dp[i] + cnt[nums[i]]\n",
    "\n",
    "    return dp[-1]\n",
    "\n",
    "A = [5, 2, 1]\n",
    "print(minStepEqualPiles(A))\n",
    "\n",
    "A = [4, 5, 5, 4, 2]\n",
    "print(minStepEqualPiles(A))"
   ]
  },
  {
   "cell_type": "markdown",
   "metadata": {},
   "source": [
    "## Min Swaps to Group Red Balls (Counter) (Microsoft OA)"
   ]
  },
  {
   "cell_type": "code",
   "execution_count": 5,
   "metadata": {},
   "outputs": [
    {
     "data": {
      "text/plain": [
       "2"
      ]
     },
     "execution_count": 5,
     "metadata": {},
     "output_type": "execute_result"
    }
   ],
   "source": [
    "from collections import Counter\n",
    "def solution(s):\n",
    "            \n",
    "    dic = Counter(s)\n",
    "    red = dic['R']\n",
    "    \n",
    "    res = 0\n",
    "    i = 0\n",
    "    j = len(s) - 1\n",
    "    \n",
    "    while i < j:\n",
    "        if s[i] == 'R' and s[j] == 'R':\n",
    "            red -= 2\n",
    "            res += j - i - 1 - red\n",
    "            i += 1\n",
    "            j -= 1\n",
    "            \n",
    "        elif s[i] == 'R' and s[j] == 'W':\n",
    "            j -= 1\n",
    "            \n",
    "        elif s[i] == 'W' and s[j] == 'R':\n",
    "            i += 1\n",
    "            \n",
    "        else:\n",
    "            i += 1\n",
    "            j -= 1\n",
    "            \n",
    "    return res\n",
    "\n",
    "\n",
    "a = 'WRRWWR' #2\n",
    "b = 'WWRWWWRWR' #4\n",
    "c = \"RRRWRR\" #2\n",
    "    \n",
    "solution(a)"
   ]
  },
  {
   "cell_type": "markdown",
   "metadata": {},
   "source": [
    "## Maximum Length of a Concatenated String with Unique Characters (Counter) (Microsoft OA)"
   ]
  },
  {
   "cell_type": "code",
   "execution_count": null,
   "metadata": {},
   "outputs": [],
   "source": [
    "from collections import Counter\n",
    "class Solution:\n",
    "    def maxLength(self, arr):\n",
    "        \"\"\"\n",
    "        :type arr: List[str]\n",
    "        :rtype: int\n",
    "        \"\"\"\n",
    "        \n",
    "        arr = [s for s in arr if len(s) == len(set(s))]\n",
    "        if not arr:\n",
    "            return 0\n",
    "        \n",
    "        arr.sort(key=len, reverse=True)\n",
    "        print(arr)\n",
    "        max_len = 0\n",
    "        \n",
    "        for i in range(len(arr)):\n",
    "            tmp = arr[i]\n",
    "            for j in range(len(arr)):\n",
    "                if not set(tmp) & set(arr[j]):\n",
    "                    tmp += arr[j]\n",
    "            max_len = max(max_len, len(tmp))\n",
    "        \n",
    "        return max_len"
   ]
  },
  {
   "cell_type": "markdown",
   "metadata": {},
   "source": [
    "## 767. Reorganize String (Facebook 16, Amazon 12, Google 8, Microsoft Onsite 5)"
   ]
  },
  {
   "cell_type": "code",
   "execution_count": null,
   "metadata": {},
   "outputs": [],
   "source": [
    "from collections import Counter\n",
    "class Solution():\n",
    "    def reorganizeString(self, S):\n",
    "        \"\"\"\n",
    "        :type S: str\n",
    "        :rtype: str\n",
    "        \"\"\"\n",
    "        tmp = []\n",
    "        \n",
    "        dic = Counter(S)\n",
    "        sort = []\n",
    "        for key, value in dic.items():\n",
    "            sort.append((value, key))\n",
    "            if value > (len(S) + 1) // 2:\n",
    "                return ''\n",
    "                \n",
    "        sort.sort()\n",
    "        \n",
    "        for c, x in sort:\n",
    "            tmp += [x] * c\n",
    "            \n",
    "        res = [0] * len(S)\n",
    "        res[::2], res[1::2] = tmp[len(S)//2:], tmp[:len(S)//2]\n",
    "        return ''.join(res)"
   ]
  },
  {
   "cell_type": "markdown",
   "metadata": {},
   "source": [
    "## 266. Palindrome Permutation (Facebook 4, Microsoft 2, Amazon 2)"
   ]
  },
  {
   "cell_type": "code",
   "execution_count": null,
   "metadata": {},
   "outputs": [],
   "source": [
    "from collections import Counter\n",
    "class Solution():\n",
    "    def canPermutePalindrome(self, s):\n",
    "        \"\"\"\n",
    "        :type s: str\n",
    "        :rtype: bool\n",
    "        \"\"\"\n",
    "        dic = Counter(s)\n",
    "        count = 0\n",
    "        for value in dic.values():\n",
    "            count += value % 2\n",
    "            \n",
    "        return count <= 1"
   ]
  },
  {
   "cell_type": "markdown",
   "metadata": {},
   "source": [
    "## 409. Longest Palindrome (Counter) (Amazon 6->2)"
   ]
  },
  {
   "cell_type": "code",
   "execution_count": null,
   "metadata": {},
   "outputs": [],
   "source": [
    "# Imagine we built our palindrome. It consists of as many partnered letters as possible, plus a unique center if possible. \n",
    "# This motivates a greedy approach.\n",
    "# For each letter, say it occurs v times. We know we have v // 2 * 2 letters that can be partnered for sure.\n",
    "from collections import Counter\n",
    "class Solution:\n",
    "    def longestPalindrome(self, s: str) -> int:\n",
    "        d = Counter(s)\n",
    "            \n",
    "        count = 0\n",
    "        for v in d.values():\n",
    "            n = v // 2 * 2\n",
    "            count += n\n",
    "            \n",
    "        if len(s) > count:\n",
    "            count += 1\n",
    "            \n",
    "        return count\n"
   ]
  },
  {
   "cell_type": "markdown",
   "metadata": {},
   "source": [
    "## 242. Valid Anagram (String, Counter) (Microsoft 4)\n",
    "\n",
    "时间复杂度: O(s+t)  \n",
    "O(s+t)"
   ]
  },
  {
   "cell_type": "code",
   "execution_count": null,
   "metadata": {},
   "outputs": [],
   "source": [
    "from collections import Counter\n",
    "class Solution:\n",
    "    def isAnagram(self, s, t):\n",
    "        \"\"\"\n",
    "        :type s: str\n",
    "        :type t: str\n",
    "        :rtype: bool\n",
    "        \"\"\"\n",
    "        return Counter(s) == Counter(t)"
   ]
  },
  {
   "cell_type": "code",
   "execution_count": null,
   "metadata": {},
   "outputs": [],
   "source": [
    "collections.Counter('ancn')"
   ]
  },
  {
   "cell_type": "code",
   "execution_count": null,
   "metadata": {},
   "outputs": [],
   "source": [
    "class Solution:\n",
    "    def isAnagram(self, s, t):\n",
    "        \"\"\"\n",
    "        :type s: str\n",
    "        :type t: str\n",
    "        :rtype: bool\n",
    "        \"\"\"\n",
    "        dic1 = {}\n",
    "        for i in s:\n",
    "            if i not in dic1:\n",
    "                dic1[i] = 1\n",
    "            else:\n",
    "                dic1[i] += 1\n",
    "                \n",
    "        dic2 = {}\n",
    "        for i in t:\n",
    "            if i not in dic2:\n",
    "                dic2[i] = 1\n",
    "            else:\n",
    "                dic2[i] += 1\n",
    "                \n",
    "        return dic1 == dic2"
   ]
  },
  {
   "cell_type": "code",
   "execution_count": null,
   "metadata": {},
   "outputs": [],
   "source": [
    "a = {1:2, 3:4, 2:3}\n",
    "b = {1:2, 2:3, 3:4}\n",
    "\n",
    "for k in a:\n",
    "    print(k)\n",
    "\n",
    "for k in b:\n",
    "    print(k)\n",
    "    \n",
    "c = {3,4,5}\n",
    "for n in c:\n",
    "    print(n)"
   ]
  },
  {
   "cell_type": "code",
   "execution_count": 3,
   "metadata": {},
   "outputs": [
    {
     "name": "stdout",
     "output_type": "stream",
     "text": [
      "Counter({'M': 2, 'O': 1, 'U': 1, 'D': 1, 'F': 1, 'R': 1, 'Y': 1, 'A': 1, 'W': 1})\n",
      "Counter({'C': 2, 'A': 1, 'W': 1, 'H': 1, 'Y': 1, 'F': 1, 'M': 1, 'Q': 1, 'X': 1})\n",
      "O\n",
      "U\n",
      "D\n",
      "F\n",
      "R\n",
      "M\n",
      "Y\n",
      "A\n",
      "W\n"
     ]
    },
    {
     "data": {
      "text/plain": [
       "5"
      ]
     },
     "execution_count": 3,
     "metadata": {},
     "output_type": "execute_result"
    }
   ],
   "source": [
    "from collections import Counter\n",
    "# Complete the commonChild function below.\n",
    "def commonChild(s1, s2):\n",
    "    dic1 = Counter(s1)\n",
    "    dic2 = Counter(s2)\n",
    "    print(dic1)\n",
    "    print(dic2)\n",
    "    for c in dic1:\n",
    "        print(c)\n",
    "\n",
    "    count = 0\n",
    "    for c in dic1:\n",
    "        if c in dic2:\n",
    "            if dic1[c] >= dic2[c]:\n",
    "                count += dic2[c]\n",
    "\n",
    "            else:\n",
    "                count += dic1[c]\n",
    "\n",
    "    return count\n",
    "\n",
    "s1 = \"OUDFRMYMAW\"\n",
    "s2 = \"AWHYFCCMQX\"\n",
    "\n",
    "commonChild(s1, s2)"
   ]
  },
  {
   "cell_type": "code",
   "execution_count": 6,
   "metadata": {},
   "outputs": [
    {
     "data": {
      "text/plain": [
       "{'A', 'H', 'N'}"
      ]
     },
     "execution_count": 6,
     "metadata": {},
     "output_type": "execute_result"
    }
   ],
   "source": [
    "s1 = \"HNHAN\"\n",
    "s2 = \"NHAAAA\"\n",
    "set(s1) & set(s2)"
   ]
  },
  {
   "cell_type": "markdown",
   "metadata": {},
   "source": [
    "## 387. First Unique Character in a String (String, Counter) (Amazon Onsite 13, Microsoft 7, Facebbook 4)\n",
    "\n",
    "O(N)  \n",
    "O(N)"
   ]
  },
  {
   "cell_type": "code",
   "execution_count": null,
   "metadata": {},
   "outputs": [],
   "source": [
    "from collections import Counter\n",
    "class Solution:\n",
    "    def firstUniqChar(self, s):\n",
    "        \"\"\"\n",
    "        :type s: str\n",
    "        :rtype: int\n",
    "        \"\"\"\n",
    "        # build hash map : character and how often it appears\n",
    "        dic = Counter(s)\n",
    "        \n",
    "        # find the index\n",
    "        for i, c in enumerate(s):\n",
    "            if dic[c] == 1:\n",
    "                return i\n",
    "        return -1"
   ]
  },
  {
   "cell_type": "code",
   "execution_count": null,
   "metadata": {},
   "outputs": [],
   "source": [
    "from collections import Counter\n",
    "class Solution(object):\n",
    "    def firstUniqChar(self, s):\n",
    "        \"\"\"\n",
    "        :type s: str\n",
    "        :rtype: int\n",
    "        \"\"\"\n",
    "        if not s:\n",
    "            return -1\n",
    "        \n",
    "        dic = Counter(s)\n",
    "        \n",
    "        for c in s:\n",
    "            if dic[c] == 1:\n",
    "                return s.index(c)\n",
    "            \n",
    "        return -1"
   ]
  },
  {
   "cell_type": "markdown",
   "metadata": {},
   "source": [
    "## 350. Intersection of Two Arrays II (List, Counter) (Facebook 16)  \n",
    "O(N)  \n",
    "O(N)"
   ]
  },
  {
   "cell_type": "code",
   "execution_count": null,
   "metadata": {},
   "outputs": [],
   "source": [
    "from collections import Counter\n",
    "class Solution():\n",
    "    def intersect(self, A, B):\n",
    "        \"\"\"\n",
    "        :type nums1: List[int]\n",
    "        :type nums2: List[int]\n",
    "        :rtype: List[int]\n",
    "        \"\"\"  \n",
    "        counts = Counter(A)\n",
    "       \n",
    "        res = []    \n",
    "        for n in B:\n",
    "            if counts[n] > 0:\n",
    "                res.append(n)\n",
    "                counts[n] -= 1\n",
    "\n",
    "        return res"
   ]
  },
  {
   "cell_type": "markdown",
   "metadata": {},
   "source": [
    "## 560. Subarray Sum Equals K (List, Counter) (Facebook 32-88, Amazon 12, Microsoft 8)  \n",
    "O(N)  \n",
    "O(N)  \n",
    "2 - 0 = k  \n",
    "3 - 1 = k"
   ]
  },
  {
   "cell_type": "markdown",
   "metadata": {},
   "source": [
    "Let's remember count[V], the number of previous prefix sums with value V. If our newest prefix sum has value W, and W-V == K, then we add count[V] to our answer.\n",
    "\n",
    "This is because at time t, nums[0] + nums[1] + ... + nums[t-1] = W, and there are count[V] indices j with j < t-1 and nums[0] + nums[1] + ... + nums[j] = V. Thus, there are count[V] subarrays nums[j+1] + nums[j+2] + ... + nums[t-1] = K."
   ]
  },
  {
   "cell_type": "code",
   "execution_count": null,
   "metadata": {},
   "outputs": [],
   "source": [
    "from collections import Counter\n",
    "class Solution:\n",
    "    def subarraySum(self, nums, k):\n",
    "        \"\"\"\n",
    "        :type nums: List[int]\n",
    "        :type k: int\n",
    "        :rtype: int\n",
    "        \"\"\"\n",
    "        \n",
    "        dic = Counter()\n",
    "        dic[0] = 1\n",
    "        sums = 0\n",
    "        res = 0\n",
    "        \n",
    "        for n in nums:\n",
    "            sums += n\n",
    "#             print('sums =', sums)\n",
    "\n",
    "            if sums - k in dic:\n",
    "                res += dic[sums-k]\n",
    "#             print('ans =', ans)\n",
    "            dic[sums] += 1\n",
    "#             print(f'count{sums}', count[sums])\n",
    "        return res\n",
    "        "
   ]
  },
  {
   "cell_type": "code",
   "execution_count": null,
   "metadata": {},
   "outputs": [],
   "source": [
    "s = Solution()\n",
    "nums = [1,2,3]\n",
    "k = 3\n",
    "s.subarraySum(nums, k)"
   ]
  },
  {
   "cell_type": "code",
   "execution_count": null,
   "metadata": {},
   "outputs": [],
   "source": [
    "class Solution:\n",
    "    def subarraySum(self, nums, k):\n",
    "        \"\"\"\n",
    "        :type nums: List[int]\n",
    "        :type k: int\n",
    "        :rtype: int\n",
    "        \"\"\"\n",
    "        if not nums:\n",
    "            return 0\n",
    "        \n",
    "        dic = {0:1}\n",
    "        count = 0\n",
    "        sums = 0\n",
    "        for num in nums:\n",
    "            sums += num\n",
    "            \n",
    "            if sums - k in dic:\n",
    "                count += dic[sums-k]\n",
    "            \n",
    "            if sums not in dic:\n",
    "                dic[sums] = 1\n",
    "            else:\n",
    "                dic[sums] += 1\n",
    "            \n",
    "        return count"
   ]
  },
  {
   "cell_type": "markdown",
   "metadata": {},
   "source": [
    "## 659. Split Array into Consecutive Subsequences (List) (Google Onsite 5->15)"
   ]
  },
  {
   "cell_type": "markdown",
   "metadata": {},
   "source": [
    "这道题让将数组分割成多个连续递增的子序列，注意这里可能会产生歧义，实际上应该是分割成一个或多个连续递增的子序列，因为 [1,2,3,4,5] 也是正确的解。这道题就用贪婪解法就可以了，使用两个 HashMap，第一个 HashMap 用来建立数字和其出现次数之间的映射 count，第二个用来建立可以加在某个连续子序列后的数字与其可以出现的次数之间的映射 tails。对于第二个 HashMap，举个例子来说，就是假如有个连牌，比如对于数字1，此时检测数字2和3是否存在，若存在的话，表明有连牌 [1,2,3] 存在，由于后面可以加上4，组成更长的连牌，所以不管此时牌里有没有4，都可以建立 4->1 的映射，表明此时需要一个4。这样首先遍历一遍数组，统计每个数字出现的频率，然后开始遍历数组，对于每个遍历到的数字，首先看其当前出现的次数，如果为0，则继续循环；如果 tails 中存在这个数字的非0映射，那么表示当前的数字可以加到某个连的末尾，将当前数字在 tails 中的映射值自减1，然后将下一个连续数字的映射值加1，因为当 [1,2,3] 连上4后变成 [1,2,3,4] 之后，就可以连上5了，说明此时还需要一个5；如果不能连到其他子序列后面，则来看其是否可以成为新的子序列的起点，可以通过看后面两个数字的映射值是否大于0，都大于0的话，说明可以组成3连儿，于是将后面两个数字的映射值都自减1，还有由于组成了3连儿，在 tails 中将末尾的下一位数字的映射值自增1；如果上面情况都不满足，说明该数字是单牌，只能划单儿，直接返回 false。最后别忘了将当前数字的 count 映射值自减1。退出 for 循环后返回 true，参见代码如下："
   ]
  },
  {
   "cell_type": "code",
   "execution_count": null,
   "metadata": {},
   "outputs": [],
   "source": [
    "# O(N)\n",
    "# O(N)\n",
    "class Solution:\n",
    "    def isPossible(self, nums):\n",
    "        \"\"\"\n",
    "        :type nums: List[int]\n",
    "        :rtype: bool\n",
    "        \"\"\"\n",
    "        count = collections.Counter(nums)\n",
    "        tails = collections.Counter()\n",
    "        for n in nums:\n",
    "            if count[n] == 0:\n",
    "                continue\n",
    "                \n",
    "            elif tails[n] > 0:\n",
    "                tails[n] -= 1\n",
    "                tails[n+1] += 1\n",
    "                \n",
    "            elif count[n+1] > 0 and count[n+2] > 0:\n",
    "                count[n+1] -= 1\n",
    "                count[n+2] -= 1\n",
    "                tails[n+3] += 1\n",
    "                \n",
    "            else:\n",
    "                return False\n",
    "            \n",
    "            count[n] -= 1\n",
    "        return True "
   ]
  },
  {
   "cell_type": "markdown",
   "metadata": {},
   "source": [
    "## Favorite Genres (Amazon OA)"
   ]
  },
  {
   "cell_type": "code",
   "execution_count": 1,
   "metadata": {},
   "outputs": [],
   "source": [
    "from collections import Counter\n",
    "\n",
    "def favGenres(userSongs, songGenres):\n",
    "    \n",
    "    dic = {}\n",
    "    for genre in songGenres:\n",
    "        for song in songGenres[genre]:\n",
    "            dic[song] = genre\n",
    "            \n",
    "    for singer in userSongs:\n",
    "        array = userSongs[singer]\n",
    "        for i in range(len(array)):\n",
    "            array[i] = dic[array[i]]\n",
    "    \n",
    "    for singer in userSongs:\n",
    "        res = []\n",
    "        counter = Counter(userSongs[singer])\n",
    "        \n",
    "        for key, value in counter.items():\n",
    "            if not res:\n",
    "                res.append(key)\n",
    "                maximo = value\n",
    "            \n",
    "            elif value > maximo:\n",
    "                res.pop()\n",
    "                res.append(key)\n",
    "                maximo = value\n",
    "                \n",
    "            elif value == maximo:\n",
    "                res.append(key)\n",
    "                \n",
    "        userSongs[singer] = res\n",
    "        \n",
    "    return userSongs"
   ]
  },
  {
   "cell_type": "code",
   "execution_count": 6,
   "metadata": {},
   "outputs": [
    {
     "name": "stdout",
     "output_type": "stream",
     "text": [
      "defaultdict(<class 'int'>, {'Rock': 2, 'Techno': 2, 'Jazz': 1})\n",
      "defaultdict(<class 'int'>, {'Pop': 2, 'Dubstep': 1})\n"
     ]
    },
    {
     "data": {
      "text/plain": [
       "{'David': ['Rock', 'Techno'], 'Emma': ['Pop']}"
      ]
     },
     "execution_count": 6,
     "metadata": {},
     "output_type": "execute_result"
    }
   ],
   "source": [
    "userSongs = {  \n",
    "   \"David\": [\"song1\", \"song2\", \"song3\", \"song4\", \"song8\"],\n",
    "   \"Emma\":  [\"song5\", \"song6\", \"song7\"]\n",
    "}\n",
    "\n",
    "songGenres = {  \n",
    "   \"Rock\":    [\"song1\", \"song3\"],\n",
    "   \"Dubstep\": [\"song7\"],\n",
    "   \"Techno\":  [\"song2\", \"song4\"],\n",
    "   \"Pop\":     [\"song5\", \"song6\"],\n",
    "   \"Jazz\":    [\"song8\", \"song9\"]\n",
    "}\n",
    "\n",
    "favGenres(userSongs, songGenres)"
   ]
  },
  {
   "cell_type": "code",
   "execution_count": 5,
   "metadata": {},
   "outputs": [],
   "source": [
    "from collections import defaultdict\n",
    "def favGenres(userSongs, songGenres):\n",
    "    output={}\n",
    "    for i in userSongs:\n",
    "        list=userSongs[i]\n",
    "        count= defaultdict(int)\n",
    "        for j in list:\n",
    "            for k,v in songGenres.items():\n",
    "                if j in v:\n",
    "                    count[k]+=1\n",
    "\n",
    "        print(count)\n",
    "        output[i]=[key for key,val in count.items() if val ==max(count.values())]\n",
    "                \n",
    "    \n",
    "    return output"
   ]
  },
  {
   "cell_type": "markdown",
   "metadata": {},
   "source": [
    "### defaultdict"
   ]
  },
  {
   "cell_type": "markdown",
   "metadata": {},
   "source": [
    "## 49. Group Anagrams (String List, defaultdict) (Amazon 25, Microsoft 8, Facebook 3, Google 3)\n",
    " \n",
    "O(N*KlogK)  \n",
    "O(N*K)"
   ]
  },
  {
   "cell_type": "code",
   "execution_count": null,
   "metadata": {},
   "outputs": [],
   "source": [
    "from collections import defaultdict\n",
    "class Solution:\n",
    "    def groupAnagrams(self, words):\n",
    "        \"\"\"\n",
    "        :type strs: List[str]\n",
    "        :rtype: List[List[str]]\n",
    "        \"\"\"\n",
    "        dic = defaultdict(list)\n",
    "        for s in words:\n",
    "            tmp = ''.join(sorted(list(s)))\n",
    "            dic[tmp].append(s)\n",
    "        return dic.values()"
   ]
  },
  {
   "cell_type": "code",
   "execution_count": null,
   "metadata": {},
   "outputs": [],
   "source": [
    "class Solution:\n",
    "    def groupAnagrams(self, strs):\n",
    "        \"\"\"\n",
    "        :type strs: List[str]\n",
    "        :rtype: List[List[str]]\n",
    "        \"\"\"\n",
    "        dic = {}\n",
    "        for s in strs:\n",
    "            tmp = ''.join(sorted(list(s)))\n",
    "            if tmp not in dic:\n",
    "                dic[tmp] = [s]\n",
    "            else:\n",
    "                dic[tmp].append(s)\n",
    "        return dic.values()"
   ]
  },
  {
   "cell_type": "code",
   "execution_count": null,
   "metadata": {},
   "outputs": [],
   "source": [
    "from collections import Counter, defaultdict\n",
    "dic = defaultdict(int)\n",
    "dic[0]"
   ]
  },
  {
   "cell_type": "code",
   "execution_count": null,
   "metadata": {},
   "outputs": [],
   "source": [
    "s = 'ab  '\n",
    "list(s)"
   ]
  },
  {
   "cell_type": "markdown",
   "metadata": {},
   "source": [
    "## 219. Contains Duplicate II (List. defaultdict) (Google 2, Amazon 2)"
   ]
  },
  {
   "cell_type": "code",
   "execution_count": null,
   "metadata": {},
   "outputs": [],
   "source": [
    "from collections import defaultdict\n",
    "\n",
    "class Solution:\n",
    "    def containsNearbyDuplicate(self, nums, k):\n",
    "        if not nums:\n",
    "            return False\n",
    "               \n",
    "        dic = defaultdict(list) \n",
    "        for i, n in enumerate(nums):\n",
    "            dic[n].append(i)\n",
    "\n",
    "            if len(dic[n]) > 1:\n",
    "                if dic[n][1] - dic[n][0] <= k:\n",
    "                    return True\n",
    "\n",
    "                else:\n",
    "                    dic[n].pop(0)\n",
    "\n",
    "\n",
    "        return False"
   ]
  },
  {
   "cell_type": "code",
   "execution_count": null,
   "metadata": {},
   "outputs": [],
   "source": [
    "class Solution:\n",
    "    def containsNearbyDuplicate(self, nums, k):\n",
    "        if not nums:\n",
    "            return False\n",
    "        \n",
    "        dic = {}\n",
    "        for i, n in enumerate(nums):\n",
    "            if n not in dic:\n",
    "                dic[n] = [1, i]\n",
    "                \n",
    "            else:\n",
    "                dic[n][0] += 1\n",
    "                dic[n].append(i)\n",
    "                \n",
    "                if dic[n][2] - dic[n][1] <= k:\n",
    "                    return True\n",
    "                \n",
    "                else:\n",
    "                    dic[n].pop(1)\n",
    "                \n",
    "        return False"
   ]
  },
  {
   "cell_type": "markdown",
   "metadata": {},
   "source": [
    "## 1152. Analyze User Website Visit Pattern (List, defaultdict) (Amazon 9)"
   ]
  },
  {
   "cell_type": "code",
   "execution_count": null,
   "metadata": {},
   "outputs": [],
   "source": [
    "from collections import defaultdict, Counter\n",
    "from itertools import combinations\n",
    "\n",
    "class Solution:\n",
    "    def mostVisitedPattern(self, username, timestamp, website):\n",
    "        \"\"\"\n",
    "        username: List[str]\n",
    "        timestamp: List[int]\n",
    "        website: List[str]\n",
    "        \"\"\"\n",
    "        \n",
    "        users = defaultdict(list)\n",
    "        for i in range(0, len(username)):\n",
    "            users[username[i]].append((timestamp[i], website[i]))\n",
    "\n",
    "        three_sequence = Counter()\n",
    "        for u in users:\n",
    "            webs = [web for time, web in sorted(users[u])]\n",
    "            user_set = {c for c in combinations(webs, 3)}\n",
    "\n",
    "            for item in user_set:\n",
    "                three_sequence[item] += 1\n",
    "\n",
    "        ans = sorted(three_sequence.items(), key=lambda x: (-x[1], x[0][0], x[0][1], x[0][2]))\n",
    "        return list(ans[0][0])"
   ]
  },
  {
   "cell_type": "code",
   "execution_count": null,
   "metadata": {},
   "outputs": [],
   "source": [
    "# Log file where each line of the log contains a tuple like one below:\n",
    "# Tuple: Timestamp, CustomerId, PageId\n",
    "\n",
    "\n",
    "\n",
    "# 10:01:01    Customer-1  Page1\n",
    "# Customer                Page1\n",
    "# 10:01:03    Customer-3  Page2\n",
    "# 10:01:04    Customer-2  Page4\n",
    "# 10:01:05    Customer-1  Page5\n",
    "# 10:01:06    Customer-2  Page9\n",
    "# 10:01:07    Customer-3  Page7\n",
    "# 10:01:07    Customer-1  Page8\n",
    "\n",
    "# Customer-1: Page1, Page5, Page8, Page9, Page6\n",
    "# Customer-2: Page5, Page8, Page9, Page1\n",
    "\n",
    "# Page5, Page8, Page9 is the most favorite 3-page sequence visited by customers\n",
    "\n",
    "# dic = {CustomerId: [(Timestamp, PageId), (s)] }\n",
    "\n",
    "\n",
    "from collections import defaultdict, Counter\n",
    "from itertools import combinations\n",
    "\n",
    "Tuple resultTuple = 3mostVisitedPageId(inputTuples);\n",
    "\n",
    "class Main:\n",
    "    def 3mostVisitedPageId(self, inputTuples, n, k):\n",
    "        \n",
    "        Timestamp, CustomerId, PageId = zip(inputTuples)\n",
    "        \n",
    "        users = defaultdict(list)\n",
    "        for i in range(0, len(CustomerId)):\n",
    "            users[CustomerId[i]].append((Timestamp[i]), PageId[i])\n",
    "            \n",
    "        most_visited_pages = Counter()\n",
    "        for user in users:\n",
    "            pages = [pageid for timestamp, pageid in sorted(users[user])] # pageid start from earlier to latter of one user\n",
    "            \n",
    "            for item in {sequence for sequence in combinations(pages, n):\n",
    "                most_visited_pages[item] += 1\n",
    "                \n",
    "        ans = sorted(most_visited_pages.items(), key = lambda x: (-x[1], x[0][0], x[0][1], x[0][2]))\n",
    "        \n",
    "        res = [ans[0] for i in range(k)]\n",
    "            \n",
    "        return res\n",
    "            \n",
    "            \n",
    "        most_visited_pages = {(Page1, Page2, Page3) : 2,\n",
    "                            (Page1, Page2, Page3) : 3,\n",
    "                            (Page1, Page2, Page3) : 1\n",
    "        } \n",
    "        \n",
    "        most_visited_pages.items() = [((Page1, Page2, Page3), 2), ((Page1, Page2, Page3), 3), ((Page1, Page2, Page3), 1)]"
   ]
  },
  {
   "cell_type": "code",
   "execution_count": 12,
   "metadata": {},
   "outputs": [
    {
     "name": "stdout",
     "output_type": "stream",
     "text": [
      "yes\n"
     ]
    }
   ],
   "source": [
    "def hello2():\n",
    "    print('yes')\n",
    "    \n",
    "hello2()"
   ]
  },
  {
   "cell_type": "markdown",
   "metadata": {},
   "source": [
    "## 1153 String Transforms Into Another String (defaultdict) (Google 20)"
   ]
  },
  {
   "cell_type": "code",
   "execution_count": null,
   "metadata": {},
   "outputs": [],
   "source": [
    "from collections import defaultdict\n",
    "class Solution:\n",
    "    def canConvert(self, str1, str2):\n",
    "        \"\"\"\n",
    "        :type str1: str\n",
    "        :type str2: str\n",
    "        :rtype: bool\n",
    "        \"\"\"\n",
    "        s1 = defaultdict(list)\n",
    "        for i, ch in enumerate(str1):\n",
    "            s1[ch].append(i)\n",
    "            \n",
    "        s2 = defaultdict(list)\n",
    "        for i, ch in enumerate(str2):\n",
    "            s2[ch].append(i)\n",
    "            \n",
    "        if len(s1) == len(s2) == 26 and str1 != str2:\n",
    "            return False\n",
    "\n",
    "        for v in s1.values():\n",
    "            pivot = str2[v[0]]\n",
    "            for pos in v:\n",
    "                if str2[pos] != pivot:\n",
    "                    return False\n",
    "\n",
    "        return True\n"
   ]
  },
  {
   "cell_type": "markdown",
   "metadata": {},
   "source": [
    "### Dict"
   ]
  },
  {
   "cell_type": "markdown",
   "metadata": {},
   "source": [
    "## 205 Isomorphic String (String. Dic) (Amazon 4, Google Phone new grad)"
   ]
  },
  {
   "cell_type": "code",
   "execution_count": null,
   "metadata": {},
   "outputs": [],
   "source": [
    "class Solution:\n",
    "    def isIsomorphic(self, s, t):\n",
    "        \"\"\"\n",
    "        :type s: str\n",
    "        :type t: str\n",
    "        :rtype: bool\n",
    "        \"\"\"\n",
    "\n",
    "        def convert(word):\n",
    "            num = 0\n",
    "            dic = {}\n",
    "            res = ''\n",
    "            for i in word:\n",
    "                if i not in dic:                # 第一次出现这个字符\n",
    "                    num += 1                       # 用一个全新的num来对应它\n",
    "                    dic[i] = num                # 存进dict供给后面用\n",
    "                    res += str(num) \n",
    "                else:\n",
    "                    res += str(dic[i]) # 之前出现过了这个字符那么就加上它之前对应的数字\n",
    "            return res\n",
    "        \n",
    "        return convert(s) == convert(t)"
   ]
  },
  {
   "cell_type": "code",
   "execution_count": null,
   "metadata": {},
   "outputs": [],
   "source": [
    "class Solution:\n",
    "    def isIsomorphic(self, s, t):\n",
    "        \"\"\"\n",
    "        :type s: str\n",
    "        :type t: str\n",
    "        :rtype: bool\n",
    "        \"\"\"\n",
    "        return len(set(zip(s,t))) == len(set(s)) == len(set(t))"
   ]
  },
  {
   "cell_type": "markdown",
   "metadata": {},
   "source": [
    "## 890. Find and Replace Pattern (String. Dic) (Google 3)  \n",
    "定义一个convert函数  \n",
    "首先对于传进来的word做一个for loop  \n",
    "只要字符没有出现过就用一个全新的num来对应它  \n",
    "否则就用之前存在dict里面的它所对应num来对应它  \n",
    "比较每个word convert之后是否于pattern convert之后相等，相等就加入最终结果  \n",
    "返回最终结果  "
   ]
  },
  {
   "cell_type": "code",
   "execution_count": null,
   "metadata": {},
   "outputs": [],
   "source": [
    "class Solution:\n",
    "    def findAndReplacePattern(self, words, pattern):\n",
    "        \"\"\"\n",
    "        :type words: List[str]\n",
    "        :type pattern: str\n",
    "        :rtype: List[str]\n",
    "        \"\"\"\n",
    "        def convert(word):\n",
    "            num = 0\n",
    "            dic = {}\n",
    "            res = ''\n",
    "            for i in word:\n",
    "                if i not in dic:                # 第一次出现这个字符\n",
    "                    num += 1                       # 用一个全新的num来对应它\n",
    "                    dic[i] = num                # 存进dict供给后面用\n",
    "                    res += str(num) \n",
    "                else:\n",
    "                    res += str(dic[i]) # 之前出现过了这个字符那么就加上它之前对应的数字\n",
    "            return res\n",
    "        \n",
    "        res = []\n",
    "        for word in words:\n",
    "            if convert(word) == convert(pattern):\n",
    "                res.append(word)\n",
    "        return res"
   ]
  },
  {
   "cell_type": "markdown",
   "metadata": {},
   "source": [
    "## 1056. Confusing Number (String. Dict) (Google 3 Phone)"
   ]
  },
  {
   "cell_type": "code",
   "execution_count": null,
   "metadata": {},
   "outputs": [],
   "source": [
    "class Solution:\n",
    "    def confusingNumber(self, N):\n",
    "        \"\"\"\n",
    "        :type N: int\n",
    "        :rtype: bool\n",
    "        \"\"\"\n",
    "        \n",
    "        s = str(N)\n",
    "        dic = {'0':'0',\n",
    "               '1':'1',\n",
    "               '8':'8',\n",
    "               '6':'9',\n",
    "               '9':'6'}\n",
    "\n",
    "        notSame = False\n",
    "        \n",
    "        for i in range(0, len(s)):\n",
    "            if s[i] not in dic:\n",
    "                return False\n",
    "            \n",
    "            if dic[s[i]] != s[len(s)-1-i]:\n",
    "                notSame=True\n",
    "        return notSame"
   ]
  },
  {
   "cell_type": "markdown",
   "metadata": {},
   "source": [
    "## 1088. Confusing Number II (String) (Google Phone 15)"
   ]
  },
  {
   "cell_type": "code",
   "execution_count": null,
   "metadata": {},
   "outputs": [],
   "source": [
    "class Solution:\n",
    "    def confusingNumberII(self, N):\n",
    "        valid = [0,1,6,8,9]\n",
    "        mapping = {0: 0,1: 1,6: 9,8: 8, 9: 6}\n",
    "        \n",
    "        self.count = 0\n",
    "        def backtrack(v, rotation, digit):\n",
    "            if v != rotation:\n",
    "                self.count += 1\n",
    "            \n",
    "            # self.count += v != rotation\n",
    "            for i in valid: \n",
    "                if v*10 + i <= N:\n",
    "                    backtrack(v*10+i, mapping[i]*digit + rotation, digit*10)\n",
    "                    \n",
    "        if N >= 1: \n",
    "            backtrack(1,1,10)\n",
    "        if N >= 6: \n",
    "            backtrack(6,9,10)\n",
    "        if N >= 8: \n",
    "            backtrack(8,8,10)\n",
    "        if N >= 9: \n",
    "            backtrack(9,6,10)\n",
    "            \n",
    "        return self.count "
   ]
  },
  {
   "cell_type": "markdown",
   "metadata": {},
   "source": [
    "## 788. Rotated Digits (Google Phone)"
   ]
  },
  {
   "cell_type": "code",
   "execution_count": null,
   "metadata": {},
   "outputs": [],
   "source": [
    "class Solution:\n",
    "    def rotatedDigits(self, N):\n",
    "        \"\"\"\n",
    "        :type N: int\n",
    "        :rtype: int\n",
    "        \"\"\"\n",
    "        count = 0\n",
    "        for n in range(1, N+1):\n",
    "            ok = False\n",
    "            for c in str(n):\n",
    "                if c in \"2569\":\n",
    "                    ok = True\n",
    "                elif c in \"347\":\n",
    "                    ok = False\n",
    "                    break\n",
    "            if ok:\n",
    "                count += 1\n",
    "        return count"
   ]
  },
  {
   "cell_type": "markdown",
   "metadata": {},
   "source": [
    "## 957. Prison Cells After N Days (List, Dict) (Amazon OA 20)\n",
    "\n",
    "时间复杂度: O(1)"
   ]
  },
  {
   "cell_type": "code",
   "execution_count": null,
   "metadata": {},
   "outputs": [],
   "source": [
    "class Solution:\n",
    "    def prisonAfterNDays(self, cells, N):\n",
    "        \"\"\"\n",
    "        :type cells: List[int]\n",
    "        :type N: int\n",
    "        :rtype: List[int]\n",
    "        \"\"\"\n",
    "        cache = {str(cells): 0}\n",
    "        states = [cells]\n",
    "\n",
    "        for i in range(1, N+1):\n",
    "            cells = [0] + [int(cells[i - 1] == cells[i + 1]) for i in range(1, 7)] + [0]\n",
    "#             print('cells =', cells)\n",
    "#             print('i =', i)\n",
    "            \n",
    "            if str(cells) in cache:\n",
    "                \n",
    "                idx = cache[str(cells)]\n",
    "                return states[idx+(N-idx)%(i-idx)] # why?\n",
    "            \n",
    "            cache[str(cells)] = i\n",
    "            states.append(cells)\n",
    "        return cells"
   ]
  },
  {
   "cell_type": "code",
   "execution_count": null,
   "metadata": {},
   "outputs": [],
   "source": [
    "cells = [1,0,0,1,0,0,1,0]\n",
    "N = 16\n",
    "\n",
    "s = Solution()\n",
    "s.prisonAfterNDays(cells, N)"
   ]
  },
  {
   "cell_type": "code",
   "execution_count": null,
   "metadata": {},
   "outputs": [],
   "source": [
    "1 + (1000000000 - 1) % (15 - 1)"
   ]
  },
  {
   "cell_type": "markdown",
   "metadata": {},
   "source": [
    "## 1. Two Sum (List. Dict) (Amazon 213, Google 109, Apple 72, Microsoft 34, Facebook 32)\n",
    "\n",
    "时间复杂度: O(N)  \n",
    "O(N)"
   ]
  },
  {
   "cell_type": "code",
   "execution_count": null,
   "metadata": {},
   "outputs": [],
   "source": [
    "class Solution:\n",
    "    def twoSum(self, nums, target):\n",
    "        \"\"\"\n",
    "        :type nums: List[int]\n",
    "        :type target: int\n",
    "        :rtype: List[int]\n",
    "        \"\"\"\n",
    "        dic = {}\n",
    "        for i, n in enumerate(nums):\n",
    "            tmp = target - n\n",
    "            if tmp not in dic:\n",
    "                dic[n] = i\n",
    "            else:\n",
    "                return [dic[tmp], i]\n",
    "            \n",
    "x = Solution()\n",
    "x.twoSum([2,7,11,15],13)"
   ]
  },
  {
   "cell_type": "markdown",
   "metadata": {},
   "source": [
    "## Two Sum - Unique Pairs (Amazon OA)"
   ]
  },
  {
   "cell_type": "code",
   "execution_count": 10,
   "metadata": {},
   "outputs": [
    {
     "name": "stdout",
     "output_type": "stream",
     "text": [
      "{1, 2, 45, 46}\n"
     ]
    },
    {
     "data": {
      "text/plain": [
       "2"
      ]
     },
     "execution_count": 10,
     "metadata": {},
     "output_type": "execute_result"
    }
   ],
   "source": [
    "def uniquePairs(nums, target):\n",
    "    seen = set()\n",
    "    count = 0\n",
    "    for num in nums:\n",
    "        if num not in seen:\n",
    "            seen.add(num)\n",
    "            if target - num in seen:\n",
    "                count += 1\n",
    "                \n",
    "#         if target - num in seen and num not in seen:\n",
    "#             count += 1\n",
    "#             seen.add(num)\n",
    "        \n",
    "        \n",
    "#         elif num not in seen:\n",
    "#             seen.add(num)\n",
    "            \n",
    "    print(seen)  \n",
    "    return count\n",
    "\n",
    "nums = [1, 1, 2, 45, 46, 46]\n",
    "target = 47\n",
    "\n",
    "# nums = [1, 1]\n",
    "# target = 2\n",
    "uniquePairs(nums, target)\n"
   ]
  },
  {
   "cell_type": "markdown",
   "metadata": {},
   "source": [
    "## Find Pair With Given Sum (Amazon OA)"
   ]
  },
  {
   "cell_type": "code",
   "execution_count": null,
   "metadata": {},
   "outputs": [],
   "source": [
    "def findSum(nums, target):\n",
    "    target -= 30\n",
    "    map = {}\n",
    "    maximum = -1\n",
    "    ans = [-1,-1]\n",
    "    for i in range(len(nums)):\n",
    "        if nums[i] not in map:\n",
    "            map[target - nums[i]] = i\n",
    "        else:\n",
    "            if nums[i] > maximum or target - nums[i] > maximum:\n",
    "                ans[0] = map[nums[i]]\n",
    "                ans[1] = i\n",
    "                maximum = max(nums[i],target - nums[i])\n",
    "    if ans != [-1,-1]:\n",
    "        return ans\n",
    "    else:\n",
    "        return []"
   ]
  },
  {
   "cell_type": "markdown",
   "metadata": {},
   "source": [
    "## 13. Roman to Integer(String. Dic) (Amazon 13, Microsoft 6, Facebook 6)\n",
    "\n",
    "O(N)  \n",
    "O(1)"
   ]
  },
  {
   "cell_type": "code",
   "execution_count": null,
   "metadata": {},
   "outputs": [],
   "source": [
    "class Solution:\n",
    "    def romanToInt(self, s):\n",
    "        \"\"\"\n",
    "        :type s: str\n",
    "        :rtype: int\n",
    "        \"\"\"\n",
    "        dic = {\n",
    "            'I': 1,\n",
    "            'V': 5,\n",
    "            'X': 10,\n",
    "            'L': 50,\n",
    "            'C': 100,\n",
    "            'D': 500,\n",
    "            'M': 1000\n",
    "        }\n",
    "        \n",
    "        res = 0\n",
    "        res += dic[s[0]]\n",
    "        \n",
    "        for i in range(1, len(s)):\n",
    "            if dic[s[i]] <= dic[s[i-1]]:\n",
    "                res += dic[s[i]]\n",
    "            else:\n",
    "                res += dic[s[i]] - 2 * dic[s[i-1]]\n",
    "        return res"
   ]
  },
  {
   "cell_type": "code",
   "execution_count": null,
   "metadata": {},
   "outputs": [],
   "source": [
    "class Solution:\n",
    "    def romanToInt(self, s):\n",
    "        \"\"\"\n",
    "        :type s: str\n",
    "        :rtype: int\n",
    "        \"\"\"\n",
    "        dic = {'I':1, \n",
    "               'V':5, \n",
    "               'X':10, \n",
    "               'L':50, \n",
    "               'C':100, \n",
    "               'D':500, \n",
    "               'M':1000}        \n",
    "        ans = 0\n",
    "        for i in range(len(s)):            \n",
    "            if i < len(s) - 1 and dic[s[i]] < dic[s[i+1]]:                \n",
    "                ans -= dic[s[i]]\n",
    "            else:\n",
    "                ans += dic[s[i]]\n",
    "        return ans"
   ]
  },
  {
   "cell_type": "markdown",
   "metadata": {},
   "source": [
    "## 12. Integer to Roman (Int. List, Dic) (Amazon 12)\n",
    "\n",
    "O(1)  \n",
    "O(1)"
   ]
  },
  {
   "cell_type": "code",
   "execution_count": null,
   "metadata": {},
   "outputs": [],
   "source": [
    "class Solution:\n",
    "    def intToRoman(self, num):\n",
    "        \"\"\"\n",
    "        :type num: int\n",
    "        :rtype: str\n",
    "        \"\"\"\n",
    "        M = [\"\", \"M\", \"MM\", \"MMM\"];\n",
    "        C = [\"\", \"C\", \"CC\", \"CCC\", \"CD\", \"D\", \"DC\", \"DCC\", \"DCCC\", \"CM\"]\n",
    "        X = [\"\", \"X\", \"XX\", \"XXX\", \"XL\", \"L\", \"LX\", \"LXX\", \"LXXX\", \"XC\"]\n",
    "        I = [\"\", \"I\", \"II\", \"III\", \"IV\", \"V\", \"VI\", \"VII\", \"VIII\", \"IX\"]\n",
    "        return M[num//1000] + C[(num%1000)//100] + X[(num%100)//10] + I[num%10]"
   ]
  },
  {
   "cell_type": "code",
   "execution_count": null,
   "metadata": {},
   "outputs": [],
   "source": [
    "s = Solution()\n",
    "num = 3999\n",
    "s.intToRoman(num)"
   ]
  },
  {
   "cell_type": "code",
   "execution_count": null,
   "metadata": {},
   "outputs": [],
   "source": [
    "3999 % 10"
   ]
  },
  {
   "cell_type": "code",
   "execution_count": null,
   "metadata": {},
   "outputs": [],
   "source": [
    "class Solution:\n",
    "    def intToRoman(self, num):\n",
    "        \"\"\"\n",
    "        :type num: int\n",
    "        :rtype: str\n",
    "        \"\"\"\n",
    "        dic = {\n",
    "            'M': 1000, \n",
    "            'CM': 900, \n",
    "            'D': 500, \n",
    "            'CD': 400, \n",
    "            'C': 100, \n",
    "            'XC': 90, \n",
    "            'L': 50, \n",
    "            'XL': 40, \n",
    "            'X': 10, \n",
    "            'IX': 9, \n",
    "            'V': 5, \n",
    "            'IV': 4, \n",
    "            'I': 1 \n",
    "        }\n",
    "        \n",
    "        res = ''\n",
    "#         slookup = sorted(lookup.items(), key = lambda x: x[1], reverse = True)\n",
    "        for k, v in dic.items():\n",
    "            while num >= v:\n",
    "                res += k\n",
    "                num -= v\n",
    "        return res"
   ]
  },
  {
   "cell_type": "code",
   "execution_count": null,
   "metadata": {},
   "outputs": [],
   "source": [
    "s = Solution()\n",
    "s.intToRoman(4)"
   ]
  },
  {
   "cell_type": "markdown",
   "metadata": {},
   "source": [
    "## Integer to English Words (Facebbook 49, Amazon 21, Microsoft 20)"
   ]
  },
  {
   "cell_type": "code",
   "execution_count": null,
   "metadata": {},
   "outputs": [],
   "source": [
    "class Solution(object):\n",
    "    def numberToWords(self, num):\n",
    "        \"\"\"\n",
    "        :type num: int\n",
    "        :rtype: str\n",
    "        \"\"\"\n",
    "        def one(num):\n",
    "            switcher = {\n",
    "                1: 'One',\n",
    "                2: 'Two',\n",
    "                3: 'Three',\n",
    "                4: 'Four',\n",
    "                5: 'Five',\n",
    "                6: 'Six',\n",
    "                7: 'Seven',\n",
    "                8: 'Eight',\n",
    "                9: 'Nine'\n",
    "            }\n",
    "            return switcher.get(num)\n",
    "\n",
    "        def two_less_20(num):\n",
    "            switcher = {\n",
    "                10: 'Ten',\n",
    "                11: 'Eleven',\n",
    "                12: 'Twelve',\n",
    "                13: 'Thirteen',\n",
    "                14: 'Fourteen',\n",
    "                15: 'Fifteen',\n",
    "                16: 'Sixteen',\n",
    "                17: 'Seventeen',\n",
    "                18: 'Eighteen',\n",
    "                19: 'Nineteen'\n",
    "            }\n",
    "            return switcher.get(num)\n",
    "        \n",
    "        def ten(num):\n",
    "            switcher = {\n",
    "                2: 'Twenty',\n",
    "                3: 'Thirty',\n",
    "                4: 'Forty',\n",
    "                5: 'Fifty',\n",
    "                6: 'Sixty',\n",
    "                7: 'Seventy',\n",
    "                8: 'Eighty',\n",
    "                9: 'Ninety'\n",
    "            }\n",
    "            return switcher.get(num)\n",
    "        \n",
    "\n",
    "        def two(num):\n",
    "            if not num:\n",
    "                return ''\n",
    "            elif num < 10:\n",
    "                return one(num)\n",
    "            elif num < 20:\n",
    "                return two_less_20(num)\n",
    "            else:\n",
    "                tenner = num // 10\n",
    "                rest = num - tenner * 10\n",
    "                return ten(tenner) + ' ' + one(rest) if rest else ten(tenner)\n",
    "        \n",
    "        def three(num):\n",
    "            hundred = num // 100\n",
    "            rest = num - hundred * 100\n",
    "            if hundred and rest:\n",
    "                return one(hundred) + ' Hundred ' + two(rest) \n",
    "            elif not hundred and rest: \n",
    "                return two(rest)\n",
    "            elif hundred and not rest:\n",
    "                return one(hundred) + ' Hundred'\n",
    "        \n",
    "        billion = num // 1000000000\n",
    "        million = (num - billion * 1000000000) // 1000000\n",
    "        thousand = (num - billion * 1000000000 - million * 1000000) // 1000\n",
    "        rest = num - billion * 1000000000 - million * 1000000 - thousand * 1000\n",
    "        \n",
    "        if not num:\n",
    "            return 'Zero'\n",
    "        \n",
    "        result = ''\n",
    "        if billion:        \n",
    "            result = three(billion) + ' Billion'\n",
    "        if million:\n",
    "            result += ' ' if result else ''    \n",
    "            result += three(million) + ' Million'\n",
    "        if thousand:\n",
    "            result += ' ' if result else ''\n",
    "            result += three(thousand) + ' Thousand'\n",
    "        if rest:\n",
    "            result += ' ' if result else ''\n",
    "            result += three(rest)\n",
    "        return result"
   ]
  },
  {
   "cell_type": "markdown",
   "metadata": {},
   "source": [
    "## 136. Single Number (List. Dic, Set) (Amazon 7)\n",
    "\n",
    "O(N)  \n",
    "O(N)"
   ]
  },
  {
   "cell_type": "code",
   "execution_count": null,
   "metadata": {},
   "outputs": [],
   "source": [
    "class Solution:\n",
    "    def singleNumber(self, nums):\n",
    "        \"\"\"\n",
    "        :type nums: List[int]\n",
    "        :rtype: int\n",
    "        \"\"\"\n",
    "        \n",
    "        seen = set()\n",
    "        \n",
    "        for n in nums:\n",
    "            if n not in senn:\n",
    "                seen.add(n)\n",
    "            else:\n",
    "                seen.remove(n)\n",
    "                \n",
    "        for n in seen:\n",
    "            return n\n",
    "        "
   ]
  },
  {
   "cell_type": "code",
   "execution_count": null,
   "metadata": {},
   "outputs": [],
   "source": [
    "class Solution:\n",
    "    def singleNumber(self, nums):\n",
    "        \"\"\"\n",
    "        :type nums: List[int]\n",
    "        :rtype: int\n",
    "        \"\"\"\n",
    "        dic = {}\n",
    "        for n in nums:\n",
    "            if n not in dic:\n",
    "                dic[n] = 1\n",
    "            else:\n",
    "                dic.pop(n)\n",
    "#         return dic.popitem()[0]\n",
    "        for n in dic:\n",
    "            return n"
   ]
  },
  {
   "cell_type": "code",
   "execution_count": null,
   "metadata": {},
   "outputs": [],
   "source": [
    "dic = {0:1, \n",
    "      1:2}\n",
    "dic.keys()[0]"
   ]
  },
  {
   "cell_type": "code",
   "execution_count": 7,
   "metadata": {},
   "outputs": [
    {
     "data": {
      "text/plain": [
       "1"
      ]
     },
     "execution_count": 7,
     "metadata": {},
     "output_type": "execute_result"
    }
   ],
   "source": [
    "2 ^ 3"
   ]
  },
  {
   "cell_type": "code",
   "execution_count": null,
   "metadata": {},
   "outputs": [],
   "source": [
    "def xor(nums):\n",
    "    a = 0\n",
    "    for i in nums:\n",
    "        a ^= i\n",
    "    return a"
   ]
  },
  {
   "cell_type": "code",
   "execution_count": 5,
   "metadata": {},
   "outputs": [
    {
     "data": {
      "text/plain": [
       "0"
      ]
     },
     "execution_count": 5,
     "metadata": {},
     "output_type": "execute_result"
    }
   ],
   "source": [
    "0 ^ 0"
   ]
  },
  {
   "cell_type": "markdown",
   "metadata": {},
   "source": [
    "## 953. Verifying an Alien Dictionary (String List. Dic) (Facebook 74->94, Microsoft 2, Google)"
   ]
  },
  {
   "cell_type": "code",
   "execution_count": null,
   "metadata": {},
   "outputs": [],
   "source": [
    "class Solution:\n",
    "    def isAlienSorted(self, words, order):\n",
    "        \"\"\"\n",
    "        :type words: List[str]\n",
    "        :type order: str\n",
    "        :rtype: bool\n",
    "        \"\"\"\n",
    "        \n",
    "        order_index = {c: i for i, c in enumerate(order)}\n",
    "\n",
    "        for i in range(len(words) - 1):\n",
    "            word1 = words[i]\n",
    "            word2 = words[i+1]\n",
    "\n",
    "            # Find the first difference word1[k] != word2[k].\n",
    "            for k in range(min(len(word1), len(word2))):\n",
    "                # If they compare badly, it's not sorted.\n",
    "                if word1[k] != word2[k]:\n",
    "                    if order_index[word1[k]] > order_index[word2[k]]:\n",
    "                        return False\n",
    "                    break\n",
    "            \n",
    "                # If we didn't find a first difference, the\n",
    "                # words are like (\"app\", \"apple\").\n",
    "                if len(word1) > len(word2):\n",
    "                    return False\n",
    "\n",
    "        return True"
   ]
  },
  {
   "cell_type": "markdown",
   "metadata": {},
   "source": [
    "## 349. Intersection of Two Arrays (List, Set) (Facebook 14, Amazon 6)\n",
    "\n",
    "O(M+N)  \n",
    "O(M+N)"
   ]
  },
  {
   "cell_type": "code",
   "execution_count": null,
   "metadata": {},
   "outputs": [],
   "source": [
    "class Solution:\n",
    "    def intersection(self, nums1, nums2):\n",
    "        \"\"\"\n",
    "        :type nums1: List[int]\n",
    "        :type nums2: List[int]\n",
    "        :rtype: List[int]\n",
    "        \"\"\"  \n",
    "        return list(set(nums1) & set(nums2))"
   ]
  },
  {
   "cell_type": "code",
   "execution_count": null,
   "metadata": {},
   "outputs": [],
   "source": [
    "class Solution(object):\n",
    "    def intersection(self, nums1, nums2):\n",
    "        \"\"\"\n",
    "        :type nums1: List[int]\n",
    "        :type nums2: List[int]\n",
    "        :rtype: List[int]\n",
    "        \"\"\"\n",
    "        res = set()\n",
    "        set1 = set(nums1)\n",
    "                \n",
    "        for n in nums2:\n",
    "            if n in set1:\n",
    "                res.add(n)\n",
    "                \n",
    "        return res"
   ]
  },
  {
   "cell_type": "code",
   "execution_count": null,
   "metadata": {},
   "outputs": [],
   "source": [
    "class Solution:\n",
    "    def intersection(self, nums1, nums2):\n",
    "        \"\"\"\n",
    "        :type nums1: List[int]\n",
    "        :type nums2: List[int]\n",
    "        :rtype: List[int]\n",
    "        \"\"\"\n",
    "        res = set()\n",
    "        set1 = set()\n",
    "        \n",
    "        for n in nums1:\n",
    "            set1.add(n)    \n",
    "        \n",
    "        for n in nums2:\n",
    "            if n in set1:\n",
    "                res.add(n)\n",
    "                \n",
    "        return res"
   ]
  },
  {
   "cell_type": "markdown",
   "metadata": {},
   "source": [
    "## 268. Missing Number (List, Set) (Amazon 5, Microsoft 5, Apple 3)"
   ]
  },
  {
   "cell_type": "code",
   "execution_count": null,
   "metadata": {},
   "outputs": [],
   "source": [
    "# O(n)\n",
    "# O(1)\n",
    "class Solution:\n",
    "    def missingNumber(self, nums):\n",
    "        \"\"\"\n",
    "        :type nums: List[int]\n",
    "        :rtype: int\n",
    "        \"\"\"\n",
    "        # Gauss' Formula\n",
    "        expected_sum = len(nums)*(len(nums)+1)//2\n",
    "        actual_sum = sum(nums)\n",
    "        return expected_sum - actual_sum"
   ]
  },
  {
   "cell_type": "code",
   "execution_count": 14,
   "metadata": {},
   "outputs": [
    {
     "name": "stdout",
     "output_type": "stream",
     "text": [
      "1\n",
      "2\n",
      "3\n",
      "3\n",
      "4\n",
      "5\n"
     ]
    }
   ],
   "source": [
    "array = [1,2,3,4]\n",
    "for i in range(len(array)):\n",
    "    for j in range(i+1, len(array)):\n",
    "        print(i+j)"
   ]
  },
  {
   "cell_type": "code",
   "execution_count": null,
   "metadata": {},
   "outputs": [],
   "source": [
    "# O(N)  \n",
    "# O(N)\n",
    "class Solution:\n",
    "    def missingNumber(self, nums):\n",
    "        \"\"\"\n",
    "        :type nums: List[int]\n",
    "        :rtype: int\n",
    "        \"\"\"\n",
    "        set1 = set(nums)\n",
    "        for n in range(len(nums)+1):\n",
    "            if n not in set1:\n",
    "                return n"
   ]
  },
  {
   "cell_type": "code",
   "execution_count": null,
   "metadata": {},
   "outputs": [],
   "source": [
    "array = [1,2,2,4]\n",
    "set1 = set(array)\n",
    "set2 = set([1,2,4])\n",
    "array2 = [1,2,4]\n",
    "\n",
    "array == array2"
   ]
  },
  {
   "cell_type": "markdown",
   "metadata": {},
   "source": [
    "## 202. Happy Number (Int, Set) (Amazon 4, Google 4, Apple 5)\n",
    "\n",
    "O(N)  \n",
    "O(N)"
   ]
  },
  {
   "cell_type": "code",
   "execution_count": null,
   "metadata": {},
   "outputs": [],
   "source": [
    "class Solution:\n",
    "    def isHappy(self, n):\n",
    "        seen = set()\n",
    "        while n not in seen:\n",
    "            seen.add(n)\n",
    "            n = sum([int(x) **2 for x in str(n)])\n",
    "        return n == 1"
   ]
  },
  {
   "cell_type": "markdown",
   "metadata": {},
   "source": [
    "## 771. Jewesl and Stones (Int, Set) (Google 5, Apple 4)\n",
    "\n",
    "O(J+S)  \n",
    "O(J)"
   ]
  },
  {
   "cell_type": "code",
   "execution_count": null,
   "metadata": {},
   "outputs": [],
   "source": [
    "class Solution:\n",
    "    def numJewelsInStones(self, J, S):\n",
    "        \"\"\"\n",
    "        :type J: str\n",
    "        :type S: str\n",
    "        :rtype: int\n",
    "        \"\"\"\n",
    "        Jset = set(J)\n",
    "        return sum(s in Jset for s in S)\n",
    "    \n",
    "s = Solution()\n",
    "s.numJewelsInStones(\"aA\", \"aAAbbbb\")"
   ]
  },
  {
   "cell_type": "code",
   "execution_count": 16,
   "metadata": {},
   "outputs": [
    {
     "data": {
      "text/plain": [
       "[True, True, True, False, False, False, False]"
      ]
     },
     "execution_count": 16,
     "metadata": {},
     "output_type": "execute_result"
    },
    {
     "data": {
      "text/plain": [
       "{'A', 'a'}"
      ]
     },
     "execution_count": 16,
     "metadata": {},
     "output_type": "execute_result"
    },
    {
     "data": {
      "text/plain": [
       "{'A', 'a', 'b'}"
      ]
     },
     "execution_count": 16,
     "metadata": {},
     "output_type": "execute_result"
    }
   ],
   "source": [
    "J = 'aA'\n",
    "S = 'aAAbbbb'\n",
    "[s in J for s in S]\n",
    "\n",
    "Jset = set(J)\n",
    "Jset\n",
    "\n",
    "Sset = set(S)\n",
    "Sset"
   ]
  },
  {
   "cell_type": "code",
   "execution_count": null,
   "metadata": {},
   "outputs": [],
   "source": []
  },
  {
   "cell_type": "markdown",
   "metadata": {},
   "source": [
    "## 929. Unique Email Adress (List, Set) (Google 2)\n",
    "O(N)  \n",
    "O(N)"
   ]
  },
  {
   "cell_type": "code",
   "execution_count": null,
   "metadata": {},
   "outputs": [],
   "source": [
    "class Solution:\n",
    "    def numUniqueEmails(self, emails):\n",
    "        \"\"\"\n",
    "        :type emails: List[str]\n",
    "        :rtype: int\n",
    "        \"\"\"\n",
    "        seen = set()\n",
    "        for email in emails:\n",
    "            local, domain = email.split('@')\n",
    "            if '+' in local:\n",
    "                local = local[:local.index('+')]\n",
    "            seen.add(local.replace('.','') + '@' + domain)\n",
    "        return len(seen)"
   ]
  }
 ],
 "metadata": {
  "kernelspec": {
   "display_name": "Python 3",
   "language": "python",
   "name": "python3"
  },
  "language_info": {
   "codemirror_mode": {
    "name": "ipython",
    "version": 3
   },
   "file_extension": ".py",
   "mimetype": "text/x-python",
   "name": "python",
   "nbconvert_exporter": "python",
   "pygments_lexer": "ipython3",
   "version": "3.8.1"
  },
  "toc-autonumbering": true,
  "toc-showtags": false
 },
 "nbformat": 4,
 "nbformat_minor": 4
}
