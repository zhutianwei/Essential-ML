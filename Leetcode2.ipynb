{
 "cells": [
  {
   "cell_type": "code",
   "execution_count": 11,
   "metadata": {},
   "outputs": [],
   "source": [
    "from IPython.core.interactiveshell import InteractiveShell\n",
    "InteractiveShell.ast_node_interactivity = \"all\""
   ]
  },
  {
   "cell_type": "markdown",
   "metadata": {},
   "source": [
    "### List. BS, 2 Pointers, Sliding Window"
   ]
  },
  {
   "cell_type": "markdown",
   "metadata": {},
   "source": [
    "## Binary Search (Must be sorted)"
   ]
  },
  {
   "cell_type": "code",
   "execution_count": null,
   "metadata": {},
   "outputs": [],
   "source": [
    "def binarySearch(arr, target):\n",
    "    l , r = 0, len(arr) - 1  \n",
    "    while l <= r:            \n",
    "        mid = (l + r) // 2 # mid = l + (r - l) // 2\n",
    "        if arr[mid] == target:\n",
    "            return mid\n",
    "        if arr[mid] < target:\n",
    "            l = mid + 1\n",
    "        else:\n",
    "            r = mid - 1\n",
    "    return -1"
   ]
  },
  {
   "cell_type": "markdown",
   "metadata": {},
   "source": [
    "##  69. Sqrt(x) (Int, BS) (Amazon 4, Google 2)"
   ]
  },
  {
   "cell_type": "code",
   "execution_count": null,
   "metadata": {},
   "outputs": [],
   "source": [
    "class Solution:\n",
    "    def mySqrt(self, x):\n",
    "        if x < 2:\n",
    "            return x\n",
    "        \n",
    "        left = 2\n",
    "        right = x // 2\n",
    "        \n",
    "        while left <= right:\n",
    "            mid = left + (right - left) // 2\n",
    "            num = mid * mid\n",
    "            if num == x:\n",
    "                return mid\n",
    "            \n",
    "            if num > x:\n",
    "                right = mid -1\n",
    "            elif num < x:\n",
    "                left = mid + 1\n",
    "            \n",
    "        return right"
   ]
  },
  {
   "cell_type": "markdown",
   "metadata": {},
   "source": [
    "## Sum of Perfect Squares (Google Phone)\n",
    "https://leetcode.com/discuss/interview-question/385489/Google-or-Phone-Screen-or-Sum-of-Perfect-Squares-and-Missing-Ranges "
   ]
  },
  {
   "cell_type": "code",
   "execution_count": 24,
   "metadata": {},
   "outputs": [],
   "source": [
    "class Main:\n",
    "    def square(self, num):\n",
    "        res = 0\n",
    "        for n in range(1, num + 1):\n",
    "            if self.mySqrt(n):\n",
    "                res += n\n",
    "                \n",
    "        return res\n",
    "\n",
    "    def mySqrt(self, x):\n",
    "            if x < 2:\n",
    "                return True\n",
    "\n",
    "            left = 2\n",
    "            right = x // 2\n",
    "\n",
    "            while left <= right:\n",
    "                mid = left + (right - left) // 2\n",
    "                num = mid * mid\n",
    "                if num == x:\n",
    "                    return True\n",
    "\n",
    "                if num > x:\n",
    "                    right = mid -1\n",
    "                elif num < x:\n",
    "                    left = mid + 1\n",
    "\n",
    "            return False"
   ]
  },
  {
   "cell_type": "code",
   "execution_count": 25,
   "metadata": {},
   "outputs": [
    {
     "data": {
      "text/plain": [
       "14"
      ]
     },
     "execution_count": 25,
     "metadata": {},
     "output_type": "execute_result"
    }
   ],
   "source": [
    "s = Main()\n",
    "s.square(10)"
   ]
  },
  {
   "cell_type": "markdown",
   "metadata": {},
   "source": [
    "## 852. Peak Index in a Mountain Array (List, BS) (Google 3)\n",
    "\n",
    "O(logN)  \n",
    "O(1)"
   ]
  },
  {
   "cell_type": "code",
   "execution_count": null,
   "metadata": {},
   "outputs": [],
   "source": [
    "class Solution:\n",
    "    def peakIndexInMountainArray(self, A):\n",
    "        l = 0\n",
    "        r = len(A) - 1\n",
    "        while l <= r:\n",
    "            mid = (l + r) // 2\n",
    "            if A[mid] < A[mid + 1]:\n",
    "                l = mid + 1\n",
    "            elif A[mid] > A[mid + 1]:\n",
    "                r = mid - 1\n",
    "        return l"
   ]
  },
  {
   "cell_type": "markdown",
   "metadata": {},
   "source": [
    "## 34. Find First and Last Position of Element in Sorted Array (List, BS) (Facebook 12, Google 8, Uber 5, Amazon 4)\n",
    "\n",
    "O(logN)  \n",
    "O(N)"
   ]
  },
  {
   "cell_type": "code",
   "execution_count": null,
   "metadata": {},
   "outputs": [],
   "source": [
    "class Solution:\n",
    "    # returns leftmost (or rightmost) index at which `target` should be inserted in sorted\n",
    "    # array `nums` via binary search.\n",
    "    def extreme_insertion_index(self, nums, target, left):\n",
    "        lo = 0\n",
    "        hi = len(nums) - 1\n",
    "\n",
    "        while lo <= hi:\n",
    "            mid = (lo + hi) // 2\n",
    "            if nums[mid] > target or (left and target == nums[mid]):\n",
    "                hi = mid\n",
    "            else:\n",
    "                lo = mid + 1\n",
    "\n",
    "        return lo\n",
    "\n",
    "\n",
    "    def searchRange(self, nums, target):\n",
    "        left_idx = self.extreme_insertion_index(nums, target, True)\n",
    "\n",
    "        # assert that `left_idx` is within the array bounds and that `target`\n",
    "        # is actually in `nums`.\n",
    "        if left_idx == len(nums) or nums[left_idx] != target:\n",
    "            return [-1, -1]\n",
    "\n",
    "        return [left_idx, self.extreme_insertion_index(nums, target, False)-1]"
   ]
  },
  {
   "cell_type": "markdown",
   "metadata": {},
   "source": [
    "## Find the number of occurrences of an element in a sorted array (Google)"
   ]
  },
  {
   "cell_type": "code",
   "execution_count": 13,
   "metadata": {},
   "outputs": [
    {
     "data": {
      "text/plain": [
       "3"
      ]
     },
     "execution_count": 13,
     "metadata": {},
     "output_type": "execute_result"
    }
   ],
   "source": [
    "# public int count(int[] arr, int target) {\n",
    "#     int left = binarySearch(arr, target, true);\n",
    "#     if (left < 0) return 0;\n",
    "#     int right = binarySearch(arr, target, false);\n",
    "#     return right - left + 1;\n",
    "# }\n",
    "\n",
    "# private int binarySearch(int[] arr, int target, boolean leftmost) {\n",
    "#     int lo = 0;\n",
    "#     int hi = arr.length - 1;\n",
    "#     int idx = -1;\n",
    "#     while (lo <= hi) {\n",
    "#         int mid = (lo + hi) >>> 1; \n",
    "\n",
    "#         if (target > arr[mid]) {\n",
    "#             lo = mid + 1;\n",
    "#         } else if (target < arr[mid]) {\n",
    "#             hi = mid - 1;\n",
    "#         } else {\n",
    "#             idx = mid;\n",
    "#             if (leftmost) {\n",
    "#                 hi = mid - 1;\n",
    "#             } else {\n",
    "#                 lo = mid + 1;\n",
    "#             }\n",
    "#         }\n",
    "#     }\n",
    "#     return idx;\n",
    "# }\n",
    "\n",
    "\n",
    "class Solution:\n",
    "    def count(self, arr, target):\n",
    "        def binarySearch(arr, target, leftmost):\n",
    "            l = 0\n",
    "            r = len(arr) - 1\n",
    "            index = -1\n",
    "            while l <= r:\n",
    "                mid = (l + r) // 2\n",
    "                if arr[mid] < target:\n",
    "                    l = mid + 1\n",
    "                    \n",
    "                elif arr[mid] > target:\n",
    "                    r = mid - 1\n",
    "                    \n",
    "                elif arr[mid == target: \n",
    "                    index = mid\n",
    "                    if leftmost:\n",
    "                        r = mid - 1\n",
    "                    else:\n",
    "                        l = mid + 1\n",
    "                        \n",
    "            return index\n",
    "        \n",
    "        \n",
    "        left = binarySearch(arr, target, True)\n",
    "        if left < 0:\n",
    "            return 0\n",
    "        \n",
    "        right = binarySearch(arr, target, False)\n",
    "        return right - left + 1\n",
    "    \n",
    "\n",
    "arr = [4, 4, 8, 8, 8, 15, 16, 23, 23, 42]\n",
    "target = 8\n",
    "s = Solution()\n",
    "s.count(arr, target)"
   ]
  },
  {
   "cell_type": "markdown",
   "metadata": {},
   "source": [
    "## 410. Split Array Largest Sum (List, BS) (Google 31) (Hard)\n",
    "\n",
    "O(logN)  \n",
    "O(1)"
   ]
  },
  {
   "cell_type": "code",
   "execution_count": null,
   "metadata": {},
   "outputs": [],
   "source": [
    "class Solution:\n",
    "    def splitArray(self, nums, m):\n",
    "        \"\"\"\n",
    "        :type nums: List[int]\n",
    "        :type m: int\n",
    "        :rtype: int\n",
    "        \"\"\"    \n",
    "        l = max(nums)\n",
    "#         print('l=',l)\n",
    "        r = sum(nums)\n",
    "#         print('r=',r)\n",
    "        while l < r:\n",
    "            mid = (l + r) // 2\n",
    "#             print('mid=',mid)\n",
    "            buckets = 1 \n",
    "            sums = 0\n",
    "            for n in nums:\n",
    "                if sums + n > mid:\n",
    "                    buckets += 1\n",
    "                    sums = 0\n",
    "                sums += n\n",
    "                \n",
    "#             print('buckets=', buckets)\n",
    "#             print('sums=', sums)\n",
    "                \n",
    "            if buckets <= m:\n",
    "                r = mid\n",
    "            else:\n",
    "                l = mid + 1\n",
    "        return l"
   ]
  },
  {
   "cell_type": "code",
   "execution_count": 133,
   "metadata": {},
   "outputs": [
    {
     "name": "stdout",
     "output_type": "stream",
     "text": [
      "l= 16\n",
      "r= 32\n",
      "mid= 24\n",
      "buckets= 2\n",
      "sums= 8\n",
      "mid= 20\n",
      "buckets= 2\n",
      "sums= 18\n",
      "mid= 18\n",
      "buckets= 2\n",
      "sums= 18\n",
      "mid= 17\n",
      "buckets= 3\n",
      "sums= 8\n"
     ]
    },
    {
     "data": {
      "text/plain": [
       "18"
      ]
     },
     "execution_count": 133,
     "metadata": {},
     "output_type": "execute_result"
    }
   ],
   "source": [
    "s = Solution()\n",
    "nums = [7,2,5,10,8]\n",
    "m = 2\n",
    "s.splitArray(nums, m)"
   ]
  },
  {
   "cell_type": "markdown",
   "metadata": {},
   "source": [
    "## 315. Count of Smaller Numbers After Self (List, BS) (Google 11)\n",
    "\n",
    "https://docs.python.org/3.0/library/bisect.html\n",
    "\n",
    "O(N^2)"
   ]
  },
  {
   "cell_type": "code",
   "execution_count": 25,
   "metadata": {},
   "outputs": [],
   "source": [
    "import bisect\n",
    "class Solution:\n",
    "    def countSmaller(self, nums):\n",
    "        counts = []\n",
    "        done = []\n",
    "        for num in nums[::-1]:\n",
    "            counts.append(bisect.bisect_left(done, num))\n",
    "#             print('counts=', counts)\n",
    "            bisect.insort(done, num)\n",
    "#             print('done=', done)\n",
    "        return counts[::-1]"
   ]
  },
  {
   "cell_type": "code",
   "execution_count": 26,
   "metadata": {},
   "outputs": [
    {
     "name": "stdout",
     "output_type": "stream",
     "text": [
      "counts= [0]\n",
      "done= [1]\n",
      "counts= [0, 1]\n",
      "done= [1, 6]\n",
      "counts= [0, 1, 1]\n",
      "done= [1, 2, 6]\n",
      "counts= [0, 1, 1, 2]\n",
      "done= [1, 2, 5, 6]\n"
     ]
    },
    {
     "data": {
      "text/plain": [
       "[2, 1, 1, 0]"
      ]
     },
     "execution_count": 26,
     "metadata": {},
     "output_type": "execute_result"
    }
   ],
   "source": [
    "s = Solution()\n",
    "nums = [5,2,6,1]\n",
    "s.countSmaller(nums)"
   ]
  },
  {
   "cell_type": "code",
   "execution_count": 2,
   "metadata": {},
   "outputs": [
    {
     "data": {
      "text/plain": [
       "3"
      ]
     },
     "execution_count": 2,
     "metadata": {},
     "output_type": "execute_result"
    }
   ],
   "source": [
    "import bisect\n",
    "\n",
    "data = [5,1,5]\n",
    "bisect.bisect(data, 5)"
   ]
  },
  {
   "cell_type": "markdown",
   "metadata": {},
   "source": [
    "## 855. Examn Room (Google 3)"
   ]
  },
  {
   "cell_type": "markdown",
   "metadata": {},
   "source": [
    "Use a list L to record the index of seats where people sit.    \n",
    "seat():  \n",
    "1. find the biggest distance at the start, at the end and in the middle.  \n",
    "2. insert index of seat  \n",
    "3. return index  "
   ]
  },
  {
   "cell_type": "code",
   "execution_count": null,
   "metadata": {},
   "outputs": [],
   "source": [
    "class ExamRoom:\n",
    "    def __init__(self, N):\n",
    "        self.N = N\n",
    "        self.students = []\n",
    "\n",
    "    def seat(self):\n",
    "        if not self.students: \n",
    "            index = 0\n",
    "        else:\n",
    "            d = self.students[0]\n",
    "            index = 0\n",
    "            for a, b in zip(self.students, self.students[1:]):\n",
    "                if (b - a) // 2 > d:\n",
    "                    d = (b - a) // 2\n",
    "                    index = (b + a) // 2\n",
    "                    \n",
    "            if self.N - 1 - self.students[-1] > d: \n",
    "                index = self.N - 1\n",
    "                \n",
    "        bisect.insort(self.students, index)\n",
    "        return index\n",
    "\n",
    "    def leave(self, p):\n",
    "        self.students.remove(p)"
   ]
  },
  {
   "cell_type": "code",
   "execution_count": null,
   "metadata": {},
   "outputs": [],
   "source": [
    "class ExamRoom:\n",
    "    def __init__(self, N):\n",
    "        self.N = N\n",
    "        self.students = []\n",
    "\n",
    "    def seat(self):\n",
    "        # Let's determine student, the position of the next\n",
    "        # student to sit down.\n",
    "        if not self.students:\n",
    "            student = 0\n",
    "        else:\n",
    "            # Tenatively, dist is the distance to the closest student,\n",
    "            # which is achieved by sitting in the position 'student'.\n",
    "            # We start by considering the left-most seat.\n",
    "            dist, student = self.students[0], 0\n",
    "            for i, s in enumerate(self.students):\n",
    "                if i:\n",
    "                    prev = self.students[i-1]\n",
    "                    # For each pair of adjacent students in positions (prev, s),\n",
    "                    # d is the distance to the closest student;\n",
    "                    # achieved at position prev + d.\n",
    "                    d = (s - prev) // 2\n",
    "                    if d > dist:\n",
    "                        dist, student = d, prev + d\n",
    "\n",
    "            # Considering the right-most seat.\n",
    "            d = self.N - 1 - self.students[-1]\n",
    "            if d > dist:\n",
    "                student = self.N - 1\n",
    "\n",
    "        # Add the student to our sorted list of positions.\n",
    "        bisect.insort(self.students, student)\n",
    "        return student\n",
    "\n",
    "    def leave(self, p):\n",
    "        self.students.remove(p)"
   ]
  },
  {
   "cell_type": "markdown",
   "metadata": {},
   "source": [
    "## 153. Find Minimum in Rotated Sorted Array (List, BS) (Amazon 8, Microsoft 5)\n",
    "\n",
    "O(logN), binary search  \n",
    "O(1)"
   ]
  },
  {
   "cell_type": "code",
   "execution_count": null,
   "metadata": {},
   "outputs": [],
   "source": [
    "class Solution:\n",
    "    def findMin(self, nums):\n",
    "        \"\"\"\n",
    "        :type nums: List[int]\n",
    "        :rtype: int\n",
    "        \"\"\"\n",
    "        if len(nums) == 1:\n",
    "            return nums[0]\n",
    "\n",
    "        l = 0\n",
    "        r = len(nums) - 1\n",
    "\n",
    "        while l <= r:\n",
    "            m = l + (r - l) // 2\n",
    "            if nums[m] > nums[m + 1]:\n",
    "                return nums[m + 1]\n",
    "\n",
    "            if nums[m - 1] > nums[m]:\n",
    "                return nums[m]\n",
    "\n",
    "            if nums[m] > nums[r]:\n",
    "                l = m + 1\n",
    "\n",
    "            elif nums[m] < nums[r]:\n",
    "                r = m - 1"
   ]
  },
  {
   "cell_type": "code",
   "execution_count": null,
   "metadata": {},
   "outputs": [],
   "source": [
    "class Solution:\n",
    "    def findMin(self, nums):\n",
    "        \"\"\"\n",
    "        :type nums: List[int]\n",
    "        :rtype: int\n",
    "        \"\"\"\n",
    "        l = 0\n",
    "        r = len(nums) - 1\n",
    "        while l < r:\n",
    "            m = (l + r) // 2\n",
    "            if nums[m] > nums[r]:\n",
    "                l = m + 1\n",
    "            else:\n",
    "                r = m\n",
    "        return nums[l]"
   ]
  },
  {
   "cell_type": "code",
   "execution_count": null,
   "metadata": {},
   "outputs": [],
   "source": [
    "l = [3,4,5,1,2]"
   ]
  },
  {
   "cell_type": "markdown",
   "metadata": {},
   "source": [
    "## 154. Find Minimum in Rotated Sorted Array II (List, BS) (Amazon 2)\n",
    "O(logN)~O(N)"
   ]
  },
  {
   "cell_type": "code",
   "execution_count": null,
   "metadata": {},
   "outputs": [],
   "source": [
    "class Solution:\n",
    "    def findMin(self, nums):\n",
    "        l = 0\n",
    "        r = len(nums) - 1\n",
    "        while l < r:\n",
    "            m = (l + r) // 2\n",
    "            if nums[m] == nums[r]:\n",
    "                r -= 1\n",
    "            \n",
    "            elif nums[m] > nums[r]:\n",
    "                l = m + 1\n",
    "                \n",
    "            elif nums[m] < nums[r]:\n",
    "                r = m \n",
    "\n",
    "        return nums[l]"
   ]
  },
  {
   "cell_type": "code",
   "execution_count": null,
   "metadata": {},
   "outputs": [],
   "source": [
    "from typing import List\n",
    "\n",
    "\n",
    "class Solution:\n",
    "    def findMin(self, nums: List[int]) -> int:\n",
    "        size = len(nums)\n",
    "        if size == 0:\n",
    "            return Exception('程序出错')\n",
    "\n",
    "        left = 0\n",
    "        right = size - 1\n",
    "        while left < right:\n",
    "            # mid = left + (right - left) // 2\n",
    "            mid = (left + right) >> 1\n",
    "            if nums[mid] > nums[right]:\n",
    "                # mid 肯定不是最小值\n",
    "                # [7,8,9,10,11,1,2,3]\n",
    "                left = mid + 1\n",
    "            elif nums[mid] < nums[right]:\n",
    "                # mid 有可能是最小值\n",
    "                # [7,8,1,2,3]\n",
    "                right = mid\n",
    "            else:\n",
    "                # 都有可能，所以就把 right 排除了\n",
    "                # [1,1,1,1,1,0,1]\n",
    "                assert nums[mid] == nums[right]\n",
    "                right = right - 1\n",
    "        # 无需后处理\n",
    "        return nums[left]"
   ]
  },
  {
   "cell_type": "markdown",
   "metadata": {},
   "source": [
    "## 33. Search in Rotated Sorted Array (List, BS) (Amazon 19, Microsoft 10, Facebook 10, Google 5)"
   ]
  },
  {
   "cell_type": "code",
   "execution_count": null,
   "metadata": {},
   "outputs": [],
   "source": [
    "# 时间复杂度: O(lgN)   \n",
    "# O(1)\n",
    "class Solution:\n",
    "    def search(self, nums, target):\n",
    "        \"\"\"\n",
    "        :type nums: List[int]\n",
    "        :type target: int\n",
    "        :rtype: int\n",
    "        \"\"\"\n",
    "        \n",
    "        if not nums:\n",
    "            return -1\n",
    "        \n",
    "        l = 0\n",
    "        r = len(nums) - 1\n",
    "        \n",
    "        while l <= r:\n",
    "            mid = l + (r - l) // 2\n",
    "            \n",
    "            if nums[mid] == target:\n",
    "                return mid\n",
    "            \n",
    "            if nums[mid] >= nums[l]:\n",
    "                if nums[l] <= target < nums[mid]:\n",
    "                    r = mid - 1\n",
    "                    \n",
    "                else:\n",
    "                    l = mid + 1\n",
    "                \n",
    "            elif nums[mid] < nums[l]:\n",
    "                if nums[mid] < target <= nums[r]:\n",
    "                    l = mid + 1\n",
    "                    \n",
    "                else:\n",
    "                    r = mid - 1\n",
    "                    \n",
    "        return -1"
   ]
  },
  {
   "cell_type": "code",
   "execution_count": 18,
   "metadata": {},
   "outputs": [],
   "source": [
    "class Solution:\n",
    "    def search(self, nums, target):\n",
    "        \"\"\"\n",
    "        :type nums: List[int]\n",
    "        :type target: int\n",
    "        :rtype: int\n",
    "        \"\"\"\n",
    "        if not nums:\n",
    "            return -1\n",
    "\n",
    "        l = 0 \n",
    "        r = len(nums) - 1\n",
    "\n",
    "        while l <= r:\n",
    "            m = (l + r) // 2\n",
    "#             print('mid =', mid)\n",
    "            if nums[m] == target:\n",
    "                return m\n",
    "\n",
    "            if nums[m] < nums[r]: # nums[mid] <= nums[low]\n",
    "                if nums[m] < target <= nums[r]:\n",
    "#                     print('3')\n",
    "                    l = m + 1\n",
    "                else:\n",
    "#                     print('4')\n",
    "                    r = m - 1\n",
    "        \n",
    "            elif nums[m] >= nums[r]:\n",
    "                if nums[l] <= target < nums[m]:\n",
    "#                     print('1')\n",
    "                    r = m - 1\n",
    "                else:\n",
    "#                     print('2')\n",
    "                    l = m + 1\n",
    "        return -1"
   ]
  },
  {
   "cell_type": "code",
   "execution_count": 19,
   "metadata": {},
   "outputs": [
    {
     "name": "stdout",
     "output_type": "stream",
     "text": [
      "mid = 3\n",
      "2\n",
      "mid = 5\n",
      "1\n",
      "mid = 4\n"
     ]
    },
    {
     "data": {
      "text/plain": [
       "4"
      ]
     },
     "execution_count": 19,
     "metadata": {},
     "output_type": "execute_result"
    }
   ],
   "source": [
    "s = Solution()\n",
    "nums = [4,5,6,7,0,1,2]\n",
    "target = 0\n",
    "s.search(nums, target)"
   ]
  },
  {
   "cell_type": "markdown",
   "metadata": {},
   "source": [
    "## 74. Search a 2D Matrix (List, BS) (Amazon 4)\n",
    "\n",
    "N(log(mn))  \n",
    "O(1)"
   ]
  },
  {
   "cell_type": "code",
   "execution_count": null,
   "metadata": {},
   "outputs": [],
   "source": [
    "class Solution:\n",
    "    def searchMatrix(self, matrix, target):\n",
    "        \"\"\"\n",
    "        :type matrix: List[List[int]]\n",
    "        :type target: int\n",
    "        :rtype: bool\n",
    "        \"\"\"\n",
    "        if not matrix:\n",
    "            return False\n",
    "        \n",
    "        row = len(matrix)\n",
    "        col = len(matrix[0])\n",
    "        \n",
    "        # binary search\n",
    "        l = 0\n",
    "        r = row * col - 1\n",
    "        while l <= r:\n",
    "            m = (l + r) // 2\n",
    "            num = matrix[m // col][m % col]\n",
    "            if num == target:\n",
    "                return True\n",
    "            elif num > target:\n",
    "                r = m - 1\n",
    "            else:\n",
    "                l = m + 1\n",
    "        return False"
   ]
  },
  {
   "cell_type": "code",
   "execution_count": null,
   "metadata": {},
   "outputs": [],
   "source": [
    "for nums in matrix:\n",
    "    l = 0\n",
    "    r = len(nums) - 1\n",
    "    while l <= r:\n",
    "        m = (l + r) // 2\n",
    "        if nums[m] == target:\n",
    "            return True\n",
    "\n",
    "        elif nums[m] < target:\n",
    "            l = m + 1\n",
    "\n",
    "        else:\n",
    "            r = m - 1\n",
    "\n",
    "return False"
   ]
  },
  {
   "cell_type": "markdown",
   "metadata": {},
   "source": [
    "## 240 Search a 2D Matrix II (2 Pointers) (Amazon 15, Microsoft 8)\n",
    "\n",
    "O(max(M,N))  \n",
    "O(1)"
   ]
  },
  {
   "cell_type": "code",
   "execution_count": null,
   "metadata": {},
   "outputs": [],
   "source": [
    "class Solution:\n",
    "    def searchMatrix(self, matrix, target):\n",
    "        \"\"\"\n",
    "        :type matrix: List[List[int]]\n",
    "        :type target: int\n",
    "        :rtype: bool\n",
    "        \"\"\"\n",
    "        if not matrix:\n",
    "            return False\n",
    "        r = 0\n",
    "        c = len(matrix[0]) - 1\n",
    "        \n",
    "        while r <= len(matrix) - 1 and c >= 0:\n",
    "            if matrix[r][c] == target:\n",
    "                return True\n",
    "                \n",
    "            elif matrix[r][c] > target:\n",
    "                c -= 1\n",
    "            elif matrix[r][c] < target:\n",
    "                r += 1\n",
    "                \n",
    "        return False"
   ]
  },
  {
   "cell_type": "code",
   "execution_count": null,
   "metadata": {},
   "outputs": [],
   "source": [
    "for nums in matrix:\n",
    "    l = 0\n",
    "    r = len(nums) - 1\n",
    "    while l <= r:\n",
    "        m = (l + r) // 2\n",
    "        if nums[m] == target:\n",
    "            return True\n",
    "\n",
    "        elif nums[m] < target:\n",
    "            l = m + 1\n",
    "\n",
    "        else:\n",
    "            r = m - 1\n",
    "\n",
    "return False"
   ]
  },
  {
   "cell_type": "markdown",
   "metadata": {},
   "source": [
    "## Leftmost Column Index of 1 (Google/Facebook Phone)\n",
    "https://leetcode.com/discuss/interview-question/341247/Facebook-or-Leftmost-column-index-of-1  "
   ]
  },
  {
   "cell_type": "code",
   "execution_count": 20,
   "metadata": {},
   "outputs": [],
   "source": [
    "# public class Main {\n",
    "    \n",
    "#     public static int findLeftmostIndexOfOne(int[][] matrix) {\n",
    "#         int rows = matrix.length;\n",
    "#         int cols = matrix[0].length;\n",
    "#         int candidate = -1;\n",
    "#         for (int r = 0, c = cols - 1; r < rows && c >= 0; ) {\n",
    "#             if (matrix[r][c] == 1) {\n",
    "#                 candidate = c;\n",
    "#                 c--;\n",
    "#             } else {\n",
    "#                 r++;\n",
    "#             }\n",
    "#         }\n",
    "#         return candidate;\n",
    "#     }\n",
    "    \n",
    "class Main:\n",
    "    def findLeft(self, matrix):\n",
    "        row = len(matrix)\n",
    "        col = len(matrix[0])\n",
    "    \n",
    "        res = -1\n",
    "    \n",
    "        r = 0\n",
    "        c = col - 1\n",
    "        while r <= row - 1 and c >= 0:\n",
    "            if matrix[r][c] == 1:\n",
    "                res = c\n",
    "                c -= 1\n",
    "            else:\n",
    "                r += 1\n",
    "        return res"
   ]
  },
  {
   "cell_type": "code",
   "execution_count": 21,
   "metadata": {},
   "outputs": [
    {
     "data": {
      "text/plain": [
       "1"
      ]
     },
     "execution_count": 21,
     "metadata": {},
     "output_type": "execute_result"
    }
   ],
   "source": [
    "s = Main()\n",
    "matrix = [[0, 0, 0, 1],\n",
    "          [0, 0, 1, 1],\n",
    "          [0, 1, 1, 1],\n",
    "          [0, 0, 0, 0]]\n",
    "s.findLeft(matrix)"
   ]
  },
  {
   "cell_type": "markdown",
   "metadata": {},
   "source": [
    "## 977. Squares of a Sorted Array (List, 2 Pointers) (Uber 7)\n",
    "\n",
    "O(N)  \n",
    "O(N)"
   ]
  },
  {
   "cell_type": "code",
   "execution_count": null,
   "metadata": {},
   "outputs": [],
   "source": [
    "class Solution:\n",
    "    def sortedSquares(self, nums):\n",
    "        \"\"\"\n",
    "        :type A: List[int]\n",
    "        :rtype: List[int]\n",
    "        \"\"\"\n",
    "        l = 0 \n",
    "        r = len(nums) - 1\n",
    "        end = len(nums) - 1\n",
    "        res = [0] * len(nums)\n",
    "        \n",
    "        while l <= r:\n",
    "            if nums[l]**2 < nums[r]**2:\n",
    "                res[end] = nums[r]**2\n",
    "                end -= 1\n",
    "                r -= 1\n",
    "                \n",
    "            else:\n",
    "                res[end] = nums[l]**2\n",
    "                end -= 1\n",
    "                l += 1\n",
    "                \n",
    "        return res"
   ]
  },
  {
   "cell_type": "code",
   "execution_count": 15,
   "metadata": {},
   "outputs": [],
   "source": [
    "class Solution:\n",
    "    def sortedSquares(self, nums):\n",
    "        \"\"\"\n",
    "        :type A: List[int]\n",
    "        :rtype: List[int]\n",
    "        \"\"\"\n",
    "        res = [0] * len(nums)\n",
    "        l = 0 \n",
    "        r = len(nums) - 1\n",
    "        while l <= r:\n",
    "            if abs(nums[l]) < abs(nums[r]):\n",
    "                res[r - l] = abs(nums[r])**2\n",
    "                r -= 1\n",
    "            else:\n",
    "                res[r - l] = abs(nums[l])**2\n",
    "                l += 1\n",
    "        return res"
   ]
  },
  {
   "cell_type": "markdown",
   "metadata": {},
   "source": [
    "## 88. (5) Merge Sorted Arrays (List, 2 Pointers) (Facebook 18, Microsoft 10, Amazon 8)\n",
    "\n",
    "O(m+n)  \n",
    "O(1)"
   ]
  },
  {
   "cell_type": "code",
   "execution_count": 10,
   "metadata": {},
   "outputs": [],
   "source": [
    "class Solution:\n",
    "    def merge(self, A, m, B, n):\n",
    "        \"\"\"\n",
    "        :type A: List[int]\n",
    "        :type m: int\n",
    "        :type B: List[int]\n",
    "        :type n: int\n",
    "        :rtype: void Do not return anything, modify nums1 in-place instead.\n",
    "        \"\"\"\n",
    "        p1 = m - 1\n",
    "        p2 = n - 1\n",
    "        end = m + n - 1\n",
    "        \n",
    "        while p1 >= 0 and p2 >= 0:\n",
    "#             print('m =', m, 'n =', n)\n",
    "            if A[p1] > B[p2]:\n",
    "                A[end] = A[p1]\n",
    "#                 print('nums1 =', nums1)\n",
    "                end -= 1\n",
    "                p1 -= 1\n",
    "#                 print('m =', m)\n",
    "            else:\n",
    "                A[end] = B[p2]\n",
    "#                 print('nums1 =', nums1)\n",
    "                end -= 1\n",
    "                p2 -= 1\n",
    "#                 print('n =', n)     \n",
    "#             print()\n",
    "        # if p2 > 0:\n",
    "        A[:p2+1] = B[:p2+1]"
   ]
  },
  {
   "cell_type": "code",
   "execution_count": 11,
   "metadata": {},
   "outputs": [
    {
     "name": "stdout",
     "output_type": "stream",
     "text": [
      "m = 3 n = 3\n",
      "nums1 = [1, 2, 3, 0, 0, 6]\n",
      "n = 2\n",
      "\n",
      "m = 3 n = 2\n",
      "nums1 = [1, 2, 3, 0, 5, 6]\n",
      "n = 1\n",
      "\n",
      "m = 3 n = 1\n",
      "nums1 = [1, 2, 3, 3, 5, 6]\n",
      "m = 2\n",
      "\n",
      "m = 2 n = 1\n",
      "nums1 = [1, 2, 2, 3, 5, 6]\n",
      "n = 0\n",
      "\n"
     ]
    },
    {
     "data": {
      "text/plain": [
       "[1, 2, 2, 3, 5, 6]"
      ]
     },
     "execution_count": 11,
     "metadata": {},
     "output_type": "execute_result"
    }
   ],
   "source": [
    "s = Solution()\n",
    "nums1 = [1,2,3,0,0,0]\n",
    "nums2 = [2,5,6]\n",
    "s.merge(nums1,3,nums2,3)\n",
    "nums1"
   ]
  },
  {
   "cell_type": "markdown",
   "metadata": {},
   "source": [
    "## 4. Median of Two Sorted Arrays (List, 3 Pointers) (Amazon 14, Google 12, Apple 8, Facebook 5, Microsoft 5) (Hard)\n",
    "\n",
    "O(log(min(m,n)))  \n",
    "O(1)"
   ]
  },
  {
   "cell_type": "code",
   "execution_count": null,
   "metadata": {},
   "outputs": [],
   "source": [
    "class Solution:\n",
    "    #这题很自然地想到归并排序，再取中间数，但是是nlogn的复杂度，题目要求logn\n",
    "    #所以要用二分法来巧妙地进一步降低时间复杂度\n",
    "    #思想就是利用总体中位数的性质和左右中位数之间的关系来把所有的数先分成两堆，然后再在两堆的边界返回答案\n",
    "    def findMedianSortedArrays(self, nums1, nums):\n",
    "        \"\"\"\n",
    "        :type A: List[int]\n",
    "        :type B: List[int]\n",
    "        :rtype: float\n",
    "        \"\"\"\n",
    "        \n",
    "        m = len(nums1)\n",
    "        n = len(nums2)\n",
    "        # 让nums2成为更长的那一个数组\n",
    "        if m>n:\n",
    "            nums1,nums2,m,n = nums2,nums1,n,m\n",
    "        \n",
    "        # 如果两个都为空的异常处理\n",
    "        if n == 0:\n",
    "            raise ValueError\n",
    "\n",
    "        # nums1中index在imid左边的都被分到左堆，nums2中jmid左边的都被分到左堆\n",
    "        imin,imax = 0,m\n",
    "        \n",
    "        # 二分答案\n",
    "        while(imin<=imax):\n",
    "            imid = imin + (imax-imin)//2\n",
    "            # 左堆最大的只有可能是nums1[imid-1],nums2[jmid-1]\n",
    "            # 右堆最小只有可能是nums1[imid],nums2[jmid]\n",
    "            # 让左右堆大致相等需要满足的条件是imid+jmid = m-imid+n-jmid 即 jmid = (m+n-2imid)//2\n",
    "            # 为什么是大致呢？因为有总数为奇数的情况，这里用向下取整数操作，所以如果是奇数，右堆会多1\n",
    "            jmid = (m+n-2*imid)//2 \n",
    "            \n",
    "            # 前面的判断条件只是为了保证不会index out of range\n",
    "            if(imid>0 and nums1[imid-1] > nums2[jmid]):\n",
    "                # imid太大了，这是里精确查找，不是左闭右开，而是双闭区间，所以直接移动一位\n",
    "                imax = imid-1\n",
    "            elif(imid<m and nums2[jmid-1] > nums1[imid]):\n",
    "                imin = imid+1\n",
    "            # 满足条件\n",
    "            else:\n",
    "                # 边界情况处理，都是为了不out of index\n",
    "                # 依次得到左堆最大和右堆最小\n",
    "                if(imid == m): \n",
    "                    minright = nums2[jmid]\n",
    "                elif(jmid == n): \n",
    "                    minright = nums1[imid]\n",
    "                else:\n",
    "                    minright = min(nums1[imid],nums2[jmid])        \n",
    "                    \n",
    "                if(imid == 0): \n",
    "                    maxleft = nums2[jmid-1]\n",
    "                elif(jmid == 0): \n",
    "                    maxleft = nums1[imid-1]\n",
    "                else:\n",
    "                    maxleft = max(nums1[imid-1],nums2[jmid-1])\n",
    "                \n",
    "                # 前面也提过，因为取中间的时候用的是向下取整，所以如果总数是奇数的话，\n",
    "                # 应该是右边个数多一些，边界的minright就是中位数\n",
    "                if((m+n)%2) == 1:\n",
    "                    return minright \n",
    "     \n",
    "                # 否则我们在两个值中间做个平均\n",
    "                return (maxleft + minright)/2"
   ]
  },
  {
   "cell_type": "markdown",
   "metadata": {},
   "source": [
    "O(m+n)  \n",
    "O(1)"
   ]
  },
  {
   "cell_type": "code",
   "execution_count": 54,
   "metadata": {},
   "outputs": [
    {
     "name": "stdout",
     "output_type": "stream",
     "text": [
      "5\n",
      "yes\n"
     ]
    },
    {
     "data": {
      "text/plain": [
       "4"
      ]
     },
     "execution_count": 54,
     "metadata": {},
     "output_type": "execute_result"
    }
   ],
   "source": [
    "class Solution:\n",
    "    def findMedianSortedArrays(self, A, B):\n",
    "        \"\"\"\n",
    "        :type A: List[int]\n",
    "        :type B: List[int]\n",
    "        :rtype: float\n",
    "        \"\"\"\n",
    "        def findKth(A, B, k):\n",
    "            p1 = 0\n",
    "            p2 = 0\n",
    "            m = 0\n",
    "            res = 0\n",
    "            while p1 <= len(A) - 1 and p2 <= len(B) - 1 and m <= k:\n",
    "                if A[p1] < B[p2]:\n",
    "                    res = A[p1]\n",
    "                    p1 += 1\n",
    "                else:\n",
    "                    res = B[p2]\n",
    "                    p2 += 1\n",
    "                m += 1\n",
    "\n",
    "            while p1 <= len(A) -1 and m <= k:\n",
    "                res = A[p1]\n",
    "                p1 += 1\n",
    "                m += 1\n",
    "\n",
    "            while p2 <= len(B) - 1 and m <= k:\n",
    "                res = B[p2]\n",
    "                p2 += 1\n",
    "                m += 1\n",
    "\n",
    "            return res\n",
    "\n",
    "        n = len(A) + len(B)\n",
    "#         print(n)\n",
    "        if n % 2 == 1:\n",
    "#             print('yes')\n",
    "            return findKth(A, B, n // 2)\n",
    "        else:\n",
    "            smaller = findKth(A, B, n // 2 - 1)\n",
    "            bigger = findKth(A, B, n // 2)\n",
    "            return (smaller + bigger) / 2\n",
    "        \n",
    "a = Solution()\n",
    "a.findMedianSortedArrays([1,4,5],[2,6])"
   ]
  },
  {
   "cell_type": "code",
   "execution_count": 26,
   "metadata": {},
   "outputs": [
    {
     "data": {
      "text/plain": [
       "3"
      ]
     },
     "execution_count": 26,
     "metadata": {},
     "output_type": "execute_result"
    }
   ],
   "source": [
    "def findKth(A, B, k):\n",
    "            p1 = 0\n",
    "            p2 = 0\n",
    "            m = 0\n",
    "            res = 0\n",
    "            while p1 <= len(A) - 1 and p2 <= len(B) - 1 and m <= k:\n",
    "                if A[p1] < B[p2]:\n",
    "                    res = A[p1]\n",
    "                    p1 += 1\n",
    "                else:\n",
    "                    res = B[p2]\n",
    "                    p2 += 1\n",
    "                m += 1\n",
    "\n",
    "            while p1 <= len(A) -1 and m <= k:\n",
    "                res = A[p1]\n",
    "                p1 += 1\n",
    "                m += 1\n",
    "\n",
    "            while p2 <= len(B) - 1 and m <= k:\n",
    "                res = B[p2]\n",
    "                p2 += 1\n",
    "                m += 1\n",
    "\n",
    "            return res\n",
    "        \n",
    "findKth([1,3], [2, 4], 2)"
   ]
  },
  {
   "cell_type": "markdown",
   "metadata": {},
   "source": [
    "## 167. Two Sum II - Input Array is Sorted (List, 2 Pointers) (Amazon 10)\n",
    "O(n)  \n",
    "O(1)\n",
    "\n",
    "https://www.hrwhisper.me/leetcode-2-sum-3-sum-4-sum-3-sum-closest-k-sum/"
   ]
  },
  {
   "cell_type": "code",
   "execution_count": null,
   "metadata": {},
   "outputs": [],
   "source": [
    "class Solution:\n",
    "    def twoSum(self, nums, target):\n",
    "        \"\"\"\n",
    "        :type nums: List[int]\n",
    "        :type target: int\n",
    "        :rtype: List[int]\n",
    "        \"\"\"\n",
    "        l = 0\n",
    "        r = len(nums) - 1\n",
    "        while l < r:\n",
    "            if nums[l] + nums[r] == target:\n",
    "                return [l + 1, r + 1]\n",
    "            elif nums[l] + nums[r] > target:\n",
    "                r -= 1\n",
    "            else:\n",
    "                l += 1\n",
    "        return [-1, -1]"
   ]
  },
  {
   "cell_type": "code",
   "execution_count": 9,
   "metadata": {},
   "outputs": [
    {
     "data": {
      "text/plain": [
       "[2, 3]"
      ]
     },
     "execution_count": 9,
     "metadata": {},
     "output_type": "execute_result"
    }
   ],
   "source": [
    "s = (3,2)\n",
    "sorted((3,2))"
   ]
  },
  {
   "cell_type": "markdown",
   "metadata": {},
   "source": [
    "## 15. 3Sum (List, 2 Pointers) (Amazon 32, Facebook 16, Microsoft 7)\n",
    "\n",
    "O(N^2)  \n",
    "O(n)  \n",
    "排序  \n",
    "固定左边，如果左边重复，继续  \n",
    "左右弄边界，去重，针对不同的左右边界情况处理"
   ]
  },
  {
   "cell_type": "code",
   "execution_count": null,
   "metadata": {},
   "outputs": [],
   "source": [
    "# right\n",
    "class Solution:\n",
    "    def threeSum(self, nums):\n",
    "        \"\"\"\n",
    "        :type nums: List[int]\n",
    "        :rtype: List[List[int]]\n",
    "        \"\"\"\n",
    "        nums.sort()\n",
    "        res =[]\n",
    "#         i = 0\n",
    "        \n",
    "        for i in range(len(nums)-2):\n",
    "#             if i == 0 or nums[i] > nums[i-1]:\n",
    "            if i > 0 and nums[i] == nums[i-1]:\n",
    "                continue\n",
    "            \n",
    "            l = i + 1\n",
    "            r = len(nums) - 1\n",
    "\n",
    "            while l < r:\n",
    "                s = nums[i] + nums[l] + nums[r]\n",
    "                if s == 0:\n",
    "                    res.append([nums[i], nums[l], nums[r]])\n",
    "                    l += 1\n",
    "                    r -= 1\n",
    "\n",
    "                    while l < r and nums[l] == nums[l-1]:\n",
    "                        l += 1\n",
    "                    while l < r and nums[r] == nums[r+1]:\n",
    "                        r -= 1\n",
    "                elif s > 0:\n",
    "                    r -=1\n",
    "                else :\n",
    "                    l +=1\n",
    "        return res"
   ]
  },
  {
   "cell_type": "markdown",
   "metadata": {},
   "source": [
    "## 16. 3Sum Closest (List, 2 Pointers) (Amazon 3)\n",
    "O(N^2)  \n",
    "O(1)"
   ]
  },
  {
   "cell_type": "code",
   "execution_count": 13,
   "metadata": {},
   "outputs": [
    {
     "ename": "SyntaxError",
     "evalue": "invalid syntax (<ipython-input-13-d54a57fc2267>, line 29)",
     "output_type": "error",
     "traceback": [
      "\u001b[0;36m  File \u001b[0;32m\"<ipython-input-13-d54a57fc2267>\"\u001b[0;36m, line \u001b[0;32m29\u001b[0m\n\u001b[0;31m    if diff < res_diff\u001b[0m\n\u001b[0m                      ^\u001b[0m\n\u001b[0;31mSyntaxError\u001b[0m\u001b[0;31m:\u001b[0m invalid syntax\n"
     ]
    }
   ],
   "source": [
    "class Solution:\n",
    "    def threeSumClosest(self, nums, target):\n",
    "        \"\"\"\n",
    "        :type nums: List[int]\n",
    "        :rtype: List[List[int]]\n",
    "        \"\"\"\n",
    "        nums.sort()\n",
    "        res = 0\n",
    "        res_diff = float('inf')\n",
    "        for i in range(len(nums)-2):\n",
    "            if i > 0 and nums[i] == nums[i-1]:\n",
    "                continue \n",
    "            \n",
    "            l = i + 1 \n",
    "            r = len(nums) - 1\n",
    "                \n",
    "            while l < r:\n",
    "                s = nums[i] + nums[l] + nums[r]\n",
    "                if s == target:\n",
    "                    return target\n",
    "                elif s > target:\n",
    "                    r -= 1\n",
    "                else:\n",
    "                    l += 1\n",
    "            \n",
    "                if abs(s-target) < res_diff:\n",
    "                    res_diff = abs(s-target)\n",
    "                    res = s\n",
    "\n",
    "        return res"
   ]
  },
  {
   "cell_type": "code",
   "execution_count": null,
   "metadata": {},
   "outputs": [],
   "source": [
    "class Solution:\n",
    "    def threeSumClosest(self, nums, target):\n",
    "        \"\"\"\n",
    "        :type nums: List[int]\n",
    "        :rtype: List[List[int]]\n",
    "        \"\"\"\n",
    "        nums.sort()\n",
    "        res = None\n",
    "        diff = float('inf')\n",
    "        for i in range(len(nums)-2):\n",
    "            if i == 0 or nums[i] > nums[i-1]:\n",
    "                l = i+1 \n",
    "                r = len(nums)-1\n",
    "                \n",
    "            while l < r:\n",
    "                s = nums[i] + nums[l] + nums[r]\n",
    "                if s == target:\n",
    "                    return target\n",
    "                elif s > target:\n",
    "                    r -= 1\n",
    "                    if abs(s-target) < diff:\n",
    "                        diff = abs(s-target)\n",
    "                        res = s\n",
    "                    while l < r and nums[r] == nums[r+1]:\n",
    "                        r -= 1    \n",
    "                else:\n",
    "                    l += 1\n",
    "                    if abs(s-target) < diff:\n",
    "                        diff = abs(s-target)\n",
    "                        res = s\n",
    "                    while l < r and nums[l] == nums[l-1]:\n",
    "                        l += 1 \n",
    "        return res"
   ]
  },
  {
   "cell_type": "markdown",
   "metadata": {},
   "source": [
    "## 18. 4Sum (List, 2 Pointers) (Amazon 4)\n",
    "\n",
    "O(N^3)  \n",
    "O(n)"
   ]
  },
  {
   "cell_type": "code",
   "execution_count": null,
   "metadata": {},
   "outputs": [],
   "source": [
    "class Solution:\n",
    "    def fourSum(self, nums, target):\n",
    "        \"\"\"\n",
    "        :type nums: List[int]\n",
    "        :type target: int\n",
    "        :rtype: List[List[int]]\n",
    "        \"\"\"\n",
    "        nums.sort()\n",
    "        res = []\n",
    "        for i in range(len(nums) - 3):\n",
    "            if i > 0 and nums[i] == nums[i - 1]: \n",
    "                continue\n",
    "                \n",
    "            if nums[i] + nums[i + 1] + nums[i + 2] + nums[i + 3] > target: \n",
    "                break\n",
    "            if nums[i] + nums[i - 3] + nums[i - 2] + nums[i - 1] < target: \n",
    "                continue\n",
    "                \n",
    "            for j in range(i + 1, len(nums) - 2):\n",
    "                if j > i + 1 and nums[j] == nums[j - 1]: \n",
    "                    continue\n",
    "                if nums[i] + nums[j] + nums[j + 1] + nums[j + 2] > target: \n",
    "                    break\n",
    "                if nums[i] + nums[j] + nums[j - 2] + nums[j - 1] < target: \n",
    "                    continue\n",
    "                    \n",
    "                l = j + 1 \n",
    "                r = len(nums) - 1\n",
    "                while l < r:\n",
    "                    s = nums[i] + nums[j] + nums[l] + nums[r]\n",
    "                    if s == target:\n",
    "                        res.append([nums[i], nums[j], nums[l], nums[r]])\n",
    "                        l += 1\n",
    "                        r -= 1\n",
    "                        while l < r and nums[l] == nums[l - 1]: \n",
    "                            l += 1\n",
    "                        while l < r and nums[r] == nums[r + 1]: \n",
    "                            r -= 1\n",
    "                    elif s > target:\n",
    "                        r -= 1\n",
    "                    else:\n",
    "                        l += 1\n",
    "        return res"
   ]
  },
  {
   "cell_type": "code",
   "execution_count": null,
   "metadata": {},
   "outputs": [],
   "source": [
    "class Solution:\n",
    "    def fourSum(self, nums, target):\n",
    "        \"\"\"\n",
    "        :type nums: List[int]\n",
    "        :type target: int\n",
    "        :rtype: List[List[int]]\n",
    "        \"\"\"\n",
    "        nums.sort()\n",
    "        res = []\n",
    "        for i in range(len(nums)):\n",
    "            for j in range(i + 1, len(nums)):\n",
    "                l = j + 1\n",
    "                r = len(nums) - 1\n",
    "                while l < r:\n",
    "                    s = nums[i] + nums[j] + nums[l] + nums[r]\n",
    "                    if s == target:\n",
    "                        if [nums[i], nums[j], nums[l], nums[r]] not in res:\n",
    "                            res.append([nums[i], nums[j], nums[l], nums[r]])\n",
    "                        l += 1\n",
    "                        r -= 1\n",
    "                    elif s > target:\n",
    "                        r -= 1\n",
    "                    else:\n",
    "                        l += 1\n",
    "        return res"
   ]
  },
  {
   "cell_type": "markdown",
   "metadata": {},
   "source": [
    "## 11. (5) Container With Most Water (List, 2 Pointers) (Amazon 11, Google 5)\n",
    "\n",
    "O(N)  \n",
    "O(1)"
   ]
  },
  {
   "cell_type": "code",
   "execution_count": null,
   "metadata": {},
   "outputs": [],
   "source": [
    "class Solution:\n",
    "    def maxArea(self, height):\n",
    "        \"\"\"\n",
    "        :type height: List[int]\n",
    "        :rtype: int\n",
    "        \"\"\"\n",
    "        l = 0\n",
    "        r = len(height) - 1\n",
    "        res = 0\n",
    "        while l < r:\n",
    "            water = min(height[l], height[r]) * (r - l) \n",
    "            res = max(res, water)\n",
    "            if height[l] <= height[r]:\n",
    "                l += 1\n",
    "            elif height[l] > height[r]:\n",
    "                r -= 1\n",
    "#             else:\n",
    "#                 left += 1\n",
    "#                 right -= 1\n",
    "        return res     "
   ]
  },
  {
   "cell_type": "markdown",
   "metadata": {},
   "source": [
    "## 42. (5) Trapping Rain Water (List, 2 Pointers) (Amazon 37, Facebook 17, Microsoft 16, Google 13)"
   ]
  },
  {
   "cell_type": "code",
   "execution_count": 184,
   "metadata": {},
   "outputs": [],
   "source": [
    "class Solution:\n",
    "    def trap(self, height):\n",
    "        \"\"\"\n",
    "        :type height: List[int]\n",
    "        :rtype: int\n",
    "        \"\"\"        \n",
    "        l = 0\n",
    "        r = len(height) - 1\n",
    "        res = 0\n",
    "        \n",
    "        while l < r:\n",
    "            minimum = min(height[l], height[r])\n",
    "#             print('min =', min_height)\n",
    "            while l < r and minimum >= height[l]:\n",
    "                res += minimum - height[l] \n",
    "#                 print('water =', water)\n",
    "                l += 1\n",
    "#                 print('l =', l)\n",
    "\n",
    "            while l < r and minimum >= height[r]:\n",
    "                res += minimum - height[r]\n",
    "#                 print('water =', water)\n",
    "                r -= 1\n",
    "#                 print('r =', r)\n",
    "                \n",
    "#             print()\n",
    "        return res"
   ]
  },
  {
   "cell_type": "code",
   "execution_count": 185,
   "metadata": {},
   "outputs": [
    {
     "name": "stdout",
     "output_type": "stream",
     "text": [
      "min = 0\n",
      "water = 0\n",
      "l = 1\n",
      "\n",
      "min = 1\n",
      "water = 0\n",
      "l = 2\n",
      "water = 1\n",
      "l = 3\n",
      "water = 1\n",
      "r = 10\n",
      "\n",
      "min = 2\n",
      "water = 1\n",
      "l = 4\n",
      "water = 2\n",
      "l = 5\n",
      "water = 4\n",
      "l = 6\n",
      "water = 5\n",
      "l = 7\n",
      "water = 5\n",
      "r = 9\n",
      "water = 6\n",
      "r = 8\n",
      "water = 6\n",
      "r = 7\n",
      "\n"
     ]
    },
    {
     "data": {
      "text/plain": [
       "6"
      ]
     },
     "execution_count": 185,
     "metadata": {},
     "output_type": "execute_result"
    }
   ],
   "source": [
    "s = Solution()\n",
    "s.trap([0,1,0,2,1,0,1,3,2,1,2,1])"
   ]
  },
  {
   "cell_type": "markdown",
   "metadata": {},
   "source": [
    "## 75. Sort Colors (List, 3 Pointers) (Microsoft 5)\n",
    "O(N)  \n",
    "O(1)"
   ]
  },
  {
   "cell_type": "code",
   "execution_count": null,
   "metadata": {},
   "outputs": [],
   "source": [
    "class Solution:\n",
    "    def sortColors(self, nums):\n",
    "        \"\"\"\n",
    "        :type nums: List[int]\n",
    "        :rtype: void Do not return anything, modify nums in-place instead.\n",
    "        \"\"\"\n",
    "        if not nums:\n",
    "            return\n",
    "        \n",
    "        l = 0\n",
    "        cur = 0\n",
    "        r = len(nums) - 1\n",
    "\n",
    "        while cur <= r:\n",
    "            if nums[cur] == 0:\n",
    "                nums[cur], nums[l] = nums[l], nums[cur]\n",
    "                cur += 1\n",
    "                l += 1\n",
    "            elif nums[cur] == 1:\n",
    "                cur += 1\n",
    "            elif nums[cur] == 2:\n",
    "                nums[cur], nums[r] = nums[r], nums[cur]\n",
    "                r -= 1"
   ]
  },
  {
   "cell_type": "markdown",
   "metadata": {},
   "source": [
    "## 125. Valid Palindrome (String. 2 Pointers) (Facebook 34)\n",
    "\n",
    "O(N)  \n",
    "O(1)"
   ]
  },
  {
   "cell_type": "code",
   "execution_count": null,
   "metadata": {},
   "outputs": [],
   "source": [
    "class Solution:\n",
    "    def isPalindrome(self, s):\n",
    "        \"\"\"\n",
    "        :type s: str\n",
    "        :rtype: bool\n",
    "        \"\"\"\n",
    "        l, r = 0, len(s)-1\n",
    "        while l < r:\n",
    "            if not s[l].isalnum():\n",
    "                l += 1\n",
    "           \n",
    "            elif not s[r].isalnum():\n",
    "                r -= 1\n",
    "            \n",
    "            elif s[l].lower() != s[r].lower():\n",
    "                return False\n",
    "            \n",
    "            else:\n",
    "                l +=1\n",
    "                r -= 1\n",
    "        return True"
   ]
  },
  {
   "cell_type": "code",
   "execution_count": null,
   "metadata": {},
   "outputs": [],
   "source": [
    "class Solution:\n",
    "    def isPalindrome(self, s):\n",
    "        \"\"\"\n",
    "        :type s: str\n",
    "        :rtype: bool\n",
    "        \"\"\"\n",
    "        l, r = 0, len(s)-1\n",
    "        while l < r:\n",
    "            while l < r and not s[l].isalnum():\n",
    "                l += 1\n",
    "            while l < r and not s[r].isalnum():\n",
    "                r -= 1\n",
    "            if s[l].lower() != s[r].lower():\n",
    "                return False\n",
    "            l +=1\n",
    "            r -= 1\n",
    "        return True"
   ]
  },
  {
   "cell_type": "markdown",
   "metadata": {},
   "source": [
    "O(N)  \n",
    "O(1)"
   ]
  },
  {
   "cell_type": "code",
   "execution_count": null,
   "metadata": {},
   "outputs": [],
   "source": [
    "class Solution:\n",
    "    def isPalindrome(self, s):\n",
    "        \"\"\"\n",
    "        :type s: str\n",
    "        :rtype: bool\n",
    "        \"\"\"\n",
    "        if not s:\n",
    "            return True\n",
    "        \n",
    "        strs = []\n",
    "        for c in s:\n",
    "            if c.isalnum():\n",
    "                strs.append(c.lower())\n",
    "                \n",
    "        return strs==strs[::-1]"
   ]
  },
  {
   "cell_type": "code",
   "execution_count": 51,
   "metadata": {},
   "outputs": [],
   "source": [
    "class Solution:\n",
    "    def isPalindrome(self, s):\n",
    "        \"\"\"\n",
    "        :type s: str\n",
    "        :rtype: bool\n",
    "        \"\"\"\n",
    "        s = ''.join(c for c in s if c.isalnum()).lower()\n",
    "        print(s)\n",
    "        return s==s[::-1]\n",
    "    \n",
    "#         s = s.lower()\n",
    "#         n = ''\n",
    "#         for c in s:\n",
    "#             if c.isalnum():\n",
    "#                 n += c\n",
    "                \n",
    "#         print(n)\n",
    "#         return n == n[::-1]\n",
    "\n",
    "#         s = s.lower()\n",
    "#         for c in s:\n",
    "#             if not c.isalnum():\n",
    "#                 s = s.replace(c, '')\n",
    "                \n",
    "#         print(s)\n",
    "#         return s == s[::-1]"
   ]
  },
  {
   "cell_type": "code",
   "execution_count": 52,
   "metadata": {},
   "outputs": [
    {
     "name": "stdout",
     "output_type": "stream",
     "text": [
      "amanaplanacanalpanama\n"
     ]
    },
    {
     "data": {
      "text/plain": [
       "True"
      ]
     },
     "execution_count": 52,
     "metadata": {},
     "output_type": "execute_result"
    }
   ],
   "source": [
    "d = \"A man, a plan, a canal: Panama\"\n",
    "s = Solution()\n",
    "s.isPalindrome(d)"
   ]
  },
  {
   "cell_type": "code",
   "execution_count": 53,
   "metadata": {},
   "outputs": [
    {
     "name": "stdout",
     "output_type": "stream",
     "text": [
      "A\n",
      " \n",
      "m\n",
      "a\n",
      "n\n",
      ",\n",
      " \n",
      "a\n",
      " \n",
      "p\n",
      "l\n",
      "a\n",
      "n\n",
      ",\n",
      " \n",
      "a\n",
      " \n",
      "c\n",
      "a\n",
      "n\n",
      "a\n",
      "l\n",
      ":\n",
      " \n",
      "P\n",
      "a\n",
      "n\n",
      "a\n",
      "m\n",
      "a\n"
     ]
    }
   ],
   "source": [
    "for n in d:\n",
    "    print(n)"
   ]
  },
  {
   "cell_type": "markdown",
   "metadata": {},
   "source": [
    "## 344. Reverse String (String List, 2 Pointers) (Amazon 7)\n",
    "\n",
    "O(N)  \n",
    "O(1)"
   ]
  },
  {
   "cell_type": "code",
   "execution_count": null,
   "metadata": {},
   "outputs": [],
   "source": [
    "class Solution:\n",
    "    def reverseString(self, s):\n",
    "        \"\"\"\n",
    "        :type s: List[str]\n",
    "        :rtype: None Do not return anything, modify s in-place instead.\n",
    "        \"\"\"\n",
    "        l = 0\n",
    "        r = len(s) - 1\n",
    "        while l < r:\n",
    "            s[l], s[r] = s[r], s[l]\n",
    "            l += 1\n",
    "            r -= 1\n",
    "        return s"
   ]
  },
  {
   "cell_type": "markdown",
   "metadata": {},
   "source": [
    "## 30. Substring with Concatenation of All Words (String List. Sliding Window) (Amazon 6, Microsoft 5)"
   ]
  },
  {
   "cell_type": "code",
   "execution_count": null,
   "metadata": {},
   "outputs": [],
   "source": [
    "from collections import Counter\n",
    "class Solution:\n",
    "    def findSubstring(self, s: str, words: List[str]) -> List[int]:\n",
    "        \n",
    "        if not s or not words:\n",
    "            return []\n",
    "        \n",
    "        length = len(words[0])\n",
    "        total = len(words) * length\n",
    "        words = Counter(words)\n",
    "        res = []\n",
    "        \n",
    "        for i in range(len(s) - total + 1):\n",
    "            tmp = s[i:i + total]\n",
    "            array = []\n",
    "            for j in range(0, total, length):\n",
    "                array.append(tmp[j:j + length])\n",
    "                \n",
    "            if Counter(array) == words:\n",
    "                res.append(i)\n",
    "                \n",
    "        return res"
   ]
  },
  {
   "cell_type": "code",
   "execution_count": null,
   "metadata": {},
   "outputs": [],
   "source": [
    "class Solution:\n",
    "    def findSubstring(self, s, words):\n",
    "         \"\"\"\n",
    "        :type s: str\n",
    "        :type words: List[str]\n",
    "        :rtype: List[int]\n",
    "        \"\"\"\n",
    "        if not s or not words:\n",
    "            return []\n",
    "        \n",
    "        words.sort()\n",
    "        length = len(words[0])\n",
    "        totallen = len(words) * len(words[0])\n",
    "        res = []\n",
    "        \n",
    "        for i in range(len(s) - totallen + 1):\n",
    "            string = s[i:i + totallen]\n",
    "            List = []\n",
    "            index = 0\n",
    "            \n",
    "            while index < len(string):\n",
    "                List.append(string[index:index + length])\n",
    "                index += length\n",
    "            if sorted(List) == words:\n",
    "                res.append(i)\n",
    "        return res"
   ]
  },
  {
   "cell_type": "markdown",
   "metadata": {},
   "source": [
    "## 3. Longest Substring Without Repeating Characters (String, Pointer, Sliding Window) (Amazon 27, Microsoft 13, Google 11, Facebook 9)\n",
    "- 时间复杂度: O(N)- 空间复杂度: O(N)"
   ]
  },
  {
   "cell_type": "code",
   "execution_count": null,
   "metadata": {},
   "outputs": [],
   "source": [
    "from collections import Counter\n",
    "class Solution:\n",
    "    def lengthOfLongestSubstring(self, s):\n",
    "        \"\"\"\n",
    "        :type s: str\n",
    "        :rtype: int\n",
    "        \"\"\"\n",
    "        \n",
    "        \n",
    "        l = 0\n",
    "        r = 0\n",
    "        counter = 0 # counter 为当前子串中 unique 字符的数量\n",
    "        res = 0\n",
    "        \n",
    "        dic = Counter()\n",
    "        \n",
    "        while r <= len(s) - 1:\n",
    "            if dic[s[r]] > 0:\n",
    "                counter += 1\n",
    "                \n",
    "            dic[s[r]] += 1\n",
    "            r += 1\n",
    "            \n",
    "            while counter:\n",
    "                if dic[s[l]] > 1:\n",
    "                    counter -= 1\n",
    "                    \n",
    "                dic[s[l]] -= 1\n",
    "                l += 1\n",
    "                \n",
    "            res = max(res, r - l)\n",
    "        return res"
   ]
  },
  {
   "cell_type": "markdown",
   "metadata": {},
   "source": [
    "时间复杂度: O(N)  \n",
    "O(N)"
   ]
  },
  {
   "cell_type": "code",
   "execution_count": 102,
   "metadata": {},
   "outputs": [
    {
     "name": "stdout",
     "output_type": "stream",
     "text": [
      "0 0 1\n",
      "0 0 2\n",
      "0 0 3\n",
      "1 1 3\n",
      "2 2 3\n",
      "3 3 3\n",
      "5 5 3\n",
      "7 7 3\n"
     ]
    },
    {
     "data": {
      "text/plain": [
       "3"
      ]
     },
     "execution_count": 102,
     "metadata": {},
     "output_type": "execute_result"
    }
   ],
   "source": [
    "class Solution:\n",
    "    def lengthOfLongestSubstring(self, s):\n",
    "        \"\"\"\n",
    "        :type s: str\n",
    "        :rtype: int\n",
    "        \"\"\"\n",
    "        # start 指针指向的是当前子串首字符在 input 中对应的index\n",
    "        cur = 0 \n",
    "        res = 0\n",
    "        dic = {}\n",
    "        \n",
    "        for i, c in enumerate(s):\n",
    "            cur = max(cur, dic.get(c, -1) + 1) # 找到当前子串新的起点\n",
    "            res = max(res, i - cur + 1) # 当前子串满足条件了，更新结果\n",
    "#             print(dic.get(s[i],-1)+1,start,res)\n",
    "            dic[c] = i # 将当前字符与其在 input 中的 index 记录下来\n",
    "        return res\n",
    "\n",
    "s = Solution()\n",
    "s.lengthOfLongestSubstring('abcabcbb')"
   ]
  },
  {
   "cell_type": "markdown",
   "metadata": {},
   "source": [
    "## 76. Minimum Window Substring (String, Sliding Window) (Facebook 20, Amazon 13, Linkedin 7, Google 7) (Hard)\n",
    "\n",
    "O(s+t)  \n",
    "O(s+t)"
   ]
  },
  {
   "cell_type": "code",
   "execution_count": 93,
   "metadata": {},
   "outputs": [],
   "source": [
    "from collections import Counter\n",
    "class Solution:\n",
    "    def minWindow(self, s, t):\n",
    "        \"\"\"\n",
    "        :type s: str\n",
    "        :type t: str\n",
    "        :rtype: str\n",
    "        \"\"\"\n",
    "        \n",
    "        \n",
    "#         for c in t:\n",
    "#             dic[c] += 1\n",
    "        l = 0\n",
    "        r = 0\n",
    "        \n",
    "        counter = len(t)\n",
    "        min_len = float(\"inf\")\n",
    "        res = \"\"\n",
    "        \n",
    "        dic = Counter(t)\n",
    "        \n",
    "        while r <= len(s) - 1:\n",
    "            if dic[s[r]] > 0:\n",
    "                counter -= 1\n",
    "                \n",
    "            dic[s[r]] -= 1\n",
    "            r += 1\n",
    "            \n",
    "            while counter == 0:\n",
    "                if min_len > r - l:\n",
    "                    min_len = r - l\n",
    "                    res = s[l:r]\n",
    "                    \n",
    "                if dic[s[l]] == 0:\n",
    "                    counter += 1\n",
    "                    \n",
    "                dic[s[l]] += 1\n",
    "                l += 1\n",
    "        return res"
   ]
  },
  {
   "cell_type": "code",
   "execution_count": 94,
   "metadata": {},
   "outputs": [
    {
     "name": "stdout",
     "output_type": "stream",
     "text": [
      "dict_t= Counter({'A': 1, 'B': 1, 'C': 1})\n",
      "required= 3\n",
      "character= A\n",
      "window_counts= {'A': 1}\n",
      "formed= 1\n",
      "\n",
      "character= D\n",
      "window_counts= {'A': 1, 'D': 1}\n",
      "\n",
      "character= O\n",
      "window_counts= {'A': 1, 'D': 1, 'O': 1}\n",
      "\n",
      "character= B\n",
      "window_counts= {'A': 1, 'D': 1, 'O': 1, 'B': 1}\n",
      "formed= 2\n",
      "\n",
      "character= E\n",
      "window_counts= {'A': 1, 'D': 1, 'O': 1, 'B': 1, 'E': 1}\n",
      "\n",
      "character= C\n",
      "window_counts= {'A': 1, 'D': 1, 'O': 1, 'B': 1, 'E': 1, 'C': 1}\n",
      "formed= 3\n",
      "ans= (6, 0, 5)\n",
      "\n",
      "character= O\n",
      "window_counts= {'A': 0, 'D': 1, 'O': 2, 'B': 1, 'E': 1, 'C': 1}\n",
      "\n",
      "character= D\n",
      "window_counts= {'A': 0, 'D': 2, 'O': 2, 'B': 1, 'E': 1, 'C': 1}\n",
      "\n",
      "character= E\n",
      "window_counts= {'A': 0, 'D': 2, 'O': 2, 'B': 1, 'E': 2, 'C': 1}\n",
      "\n",
      "character= B\n",
      "window_counts= {'A': 0, 'D': 2, 'O': 2, 'B': 2, 'E': 2, 'C': 1}\n",
      "\n",
      "character= A\n",
      "window_counts= {'A': 1, 'D': 2, 'O': 2, 'B': 2, 'E': 2, 'C': 1}\n",
      "formed= 3\n",
      "\n",
      "character= N\n",
      "window_counts= {'A': 1, 'D': 1, 'O': 1, 'B': 1, 'E': 1, 'C': 0, 'N': 1}\n",
      "\n",
      "character= C\n",
      "window_counts= {'A': 1, 'D': 1, 'O': 1, 'B': 1, 'E': 1, 'C': 1, 'N': 1}\n",
      "formed= 3\n",
      "ans= (5, 8, 12)\n",
      "ans= (4, 9, 12)\n",
      "\n"
     ]
    },
    {
     "data": {
      "text/plain": [
       "'BANC'"
      ]
     },
     "execution_count": 94,
     "metadata": {},
     "output_type": "execute_result"
    }
   ],
   "source": [
    "a = Solution()\n",
    "s = \"ADOBECODEBANC\"\n",
    "t = \"ABC\"\n",
    "a.minWindow(s,t)"
   ]
  },
  {
   "cell_type": "markdown",
   "metadata": {},
   "source": [
    "## 159. Longest Substring with At Most Two Distinct Characters (String, 2 Pointers, Sliding Window) (Google 2)\n",
    "- 时间复杂度: O(N)- 空间复杂度: O(N)"
   ]
  },
  {
   "cell_type": "code",
   "execution_count": null,
   "metadata": {},
   "outputs": [],
   "source": [
    "from collections import Counter\n",
    "class Solution:\n",
    "    def lengthOfLongestSubstringTwoDistinct(self, s):\n",
    "        \"\"\"\n",
    "        :type s: str\n",
    "        :rtype: int\n",
    "        \"\"\"   \n",
    "        dic = Counter()\n",
    "        l = 0\n",
    "        r = 0\n",
    "        res = 0\n",
    "        counter = 0\n",
    "        \n",
    "        while r <= len(s) - 1:\n",
    "            if dic[s[r]] == 0:\n",
    "                counter += 1\n",
    "            \n",
    "            dic[s[r]] += 1\n",
    "            r +=1\n",
    "            \n",
    "            while counter > 2:\n",
    "                if dic[s[l]] == 1:\n",
    "                    counter -= 1\n",
    "                dic[s[l]] -= 1\n",
    "                l += 1\n",
    "            res = max(res, r - l)\n",
    "        return res"
   ]
  },
  {
   "cell_type": "markdown",
   "metadata": {},
   "source": [
    "O(N)  \n",
    "O(N)"
   ]
  },
  {
   "cell_type": "code",
   "execution_count": null,
   "metadata": {},
   "outputs": [],
   "source": [
    "from collections import defaultdict\n",
    "class Solution:\n",
    "    def lengthOfLongestSubstringTwoDistinct(self, s):\n",
    "        \"\"\"\n",
    "        :type s: str\n",
    "        :rtype: int\n",
    "        \"\"\"\n",
    "        \n",
    "        n = len(s) \n",
    "        if n < 3:\n",
    "            return n\n",
    "        \n",
    "        # sliding window left and right pointers\n",
    "        left, right = 0, 0\n",
    "        # hashmap character -> its rightmost position \n",
    "        # in the sliding window\n",
    "        hashmap = defaultdict()\n",
    "\n",
    "        max_len = 2\n",
    "        \n",
    "        while right < n:\n",
    "            # slidewindow contains less than 3 characters\n",
    "            if len(hashmap) < 3:\n",
    "                hashmap[s[right]] = right\n",
    "                right += 1\n",
    "\n",
    "            # slidewindow contains 3 characters\n",
    "            if len(hashmap) == 3:\n",
    "                # delete the leftmost character\n",
    "                del_idx = min(hashmap.values())\n",
    "                del hashmap[s[del_idx]]\n",
    "                # move left pointer of the slidewindow\n",
    "                left = del_idx + 1\n",
    "\n",
    "            max_len = max(max_len, right - left)\n",
    "\n",
    "        return max_len"
   ]
  },
  {
   "cell_type": "markdown",
   "metadata": {},
   "source": [
    "## 340 Longest Substring with At Most K(Two) Distinct Characters (String, 2 Pointers, Sliding Window) (Facebook 11, Amazon 9)\n",
    "- 时间复杂度: O(N)- 空间复杂度: O(N)"
   ]
  },
  {
   "cell_type": "code",
   "execution_count": null,
   "metadata": {},
   "outputs": [],
   "source": [
    "from collections import Counter\n",
    "class Solution:\n",
    "    def lengthOfLongestSubstringKDistinct(self, s, k):\n",
    "        \"\"\"\n",
    "        :type s: str\n",
    "        :type k: int\n",
    "        :rtype: int\n",
    "        \"\"\"\n",
    "        dic = Counter()\n",
    "        l = 0\n",
    "        r = 0\n",
    "        counter = 0\n",
    "        res = 0\n",
    "        \n",
    "        while r <= len(s) - 1:\n",
    "            if not dic[s[r]]:\n",
    "                counter += 1\n",
    "                \n",
    "            dic[s[r]] += 1\n",
    "            r += 1\n",
    "            \n",
    "            while counter > k:\n",
    "                if dic[s[l]] == 1:\n",
    "                    counter -= 1\n",
    "                dic[s[l]] -= 1\n",
    "                l += 1\n",
    "            res = max(res, r - l)\n",
    "        return res"
   ]
  },
  {
   "cell_type": "markdown",
   "metadata": {},
   "source": [
    "## 209 Minimum Size Subarray Sum (List, 2 Poinsters, Sliding Window) (Amazon 3)"
   ]
  },
  {
   "cell_type": "code",
   "execution_count": null,
   "metadata": {},
   "outputs": [],
   "source": [
    "# sliding window\n",
    "# O(n)\n",
    "class Solution:\n",
    "    def minSubArrayLen(self, s: int, nums: List[int]) -> int:\n",
    "        if not nums : \n",
    "            return 0\n",
    "        \n",
    "        left = 0\n",
    "        cur = 0\n",
    "        res = float(\"inf\")\n",
    "        for right in range(len(nums)):\n",
    "            cur += nums[right]\n",
    "            while cur >= s:\n",
    "                res = min(res, right - left + 1)\n",
    "                cur -= nums[left]\n",
    "                left += 1\n",
    "                \n",
    "        return res if res != float(\"inf\") else 0"
   ]
  },
  {
   "cell_type": "code",
   "execution_count": null,
   "metadata": {},
   "outputs": [],
   "source": [
    "# binary search\n",
    "# O(nlogn)\n",
    "class Solution:\n",
    "    def minSubArrayLen(self, s: int, nums: List[int]) -> int:\n",
    "        if not nums :           \n",
    "            return 0\n",
    "        # 求前缀和\n",
    "        for i in range(1, len(nums)):\n",
    "            nums[i] += nums[i - 1]\n",
    "        #print(nums)\n",
    "        # 总和都小于 s 时候\n",
    "        if nums[-1] < s: return 0\n",
    "        res = float(\"inf\")\n",
    "        nums = [0] + nums\n",
    "        for i in range(1, len(nums)):\n",
    "            if nums[i] - s >= 0:\n",
    "                # 二分查找\n",
    "                loc = bisect.bisect_left(nums, nums[i] - s)\n",
    "                if nums[i] - nums[loc] >= s:\n",
    "                    res = min(res, i - loc)\n",
    "                    continue\n",
    "                if loc > 0:\n",
    "                    res = min(res, i - loc + 1)\n",
    "        return res\n"
   ]
  },
  {
   "cell_type": "markdown",
   "metadata": {},
   "source": [
    "### (18) (String) List. List, Matrix-DP. Recursion-DP O(N) O(N)"
   ]
  },
  {
   "cell_type": "markdown",
   "metadata": {},
   "source": [
    "## 509. Fibonacci Number (Amazon 2, Microsoft 2)"
   ]
  },
  {
   "cell_type": "markdown",
   "metadata": {},
   "source": [
    "Bottom-Up Approach using Memoization  \n",
    "O(N)  \n",
    "O(N)"
   ]
  },
  {
   "cell_type": "code",
   "execution_count": null,
   "metadata": {},
   "outputs": [],
   "source": [
    "class Solution:\n",
    "    def fib(self, n):\n",
    "        \"\"\"\n",
    "        :type n: int\n",
    "        :rtype: int\n",
    "        \"\"\"\n",
    "        \n",
    "        if n <= 1:\n",
    "            return n\n",
    "    \n",
    "#         cache = {0: 0, \n",
    "#                  1: 1}\n",
    "        \n",
    "        dp = [0, 1] + [0] * n\n",
    "        # Since range is exclusive and we want to include N, we need to put N+1.\n",
    "        for i in range(2, n+1):\n",
    "            dp[i] = dp[i-1] + dp[i-2]\n",
    "\n",
    "        return dp[n]"
   ]
  },
  {
   "cell_type": "markdown",
   "metadata": {},
   "source": [
    "Top-Down Approach using Memoization"
   ]
  },
  {
   "cell_type": "code",
   "execution_count": 64,
   "metadata": {},
   "outputs": [],
   "source": [
    "class Solution:    \n",
    "    def fib(self, n):\n",
    "        \"\"\"\n",
    "        :type n: int\n",
    "        :rtype: int\n",
    "        \"\"\"\n",
    "        dic = {0: 0,\n",
    "               1: 1}\n",
    "        \n",
    "        def dp(n): \n",
    "#             if n <= 1:\n",
    "#                 return n\n",
    "\n",
    "            if n in dic:\n",
    "                return dic[n]\n",
    "\n",
    "            dic[n] = dp(n-1) + dp(n-2)\n",
    "            return dic[n]\n",
    "        \n",
    "        return dp(n)"
   ]
  },
  {
   "cell_type": "code",
   "execution_count": 65,
   "metadata": {},
   "outputs": [
    {
     "data": {
      "text/plain": [
       "13"
      ]
     },
     "execution_count": 65,
     "metadata": {},
     "output_type": "execute_result"
    }
   ],
   "source": [
    "s = Solution()\n",
    "s.fib(7)"
   ]
  },
  {
   "cell_type": "code",
   "execution_count": 75,
   "metadata": {},
   "outputs": [],
   "source": [
    "class Solution:        \n",
    "    def countBinStry(self, n):\n",
    "        \"\"\"\n",
    "        :type n: int\n",
    "        :rtype: int\n",
    "        \"\"\"\n",
    "        dic = {0: 0, \n",
    "               1: 1}\n",
    "        \n",
    "        n += 2\n",
    "        \n",
    "        def fib(n):\n",
    "            \"\"\"\n",
    "            :type n: int\n",
    "            :rtype: int\n",
    "            \"\"\"\n",
    "#             if n <= 1:\n",
    "#                 return n\n",
    "\n",
    "            if n in dic:\n",
    "                return dic[n]\n",
    "\n",
    "            dic[n] = fib(n-1) + fib(n-2)\n",
    "            \n",
    "            return dic[n]\n",
    "        \n",
    "        return fib(n)"
   ]
  },
  {
   "cell_type": "code",
   "execution_count": 76,
   "metadata": {},
   "outputs": [
    {
     "data": {
      "text/plain": [
       "8"
      ]
     },
     "execution_count": 76,
     "metadata": {},
     "output_type": "execute_result"
    }
   ],
   "source": [
    "s = Solution()\n",
    "s.countBinStry(4)"
   ]
  },
  {
   "cell_type": "code",
   "execution_count": 14,
   "metadata": {},
   "outputs": [],
   "source": [
    "class Solution:\n",
    "    def fib(self, n):\n",
    "        \"\"\"\n",
    "        :type n: int\n",
    "        :rtype: int\n",
    "        \"\"\"\n",
    "        \n",
    "        if n <= 1:\n",
    "            return n\n",
    "        return self.fib(n-1) + self.fib(n-2)"
   ]
  },
  {
   "cell_type": "markdown",
   "metadata": {},
   "source": [
    "## 70. Climbing Stairs (Int) (Amazon 6)  \n",
    "O(N)  \n",
    "O(1)"
   ]
  },
  {
   "cell_type": "code",
   "execution_count": null,
   "metadata": {},
   "outputs": [],
   "source": [
    "# Recursion\n",
    "class Solution:\n",
    "    def climbStairs(self, n):\n",
    "        \"\"\"\n",
    "        :type n: int\n",
    "        :rtype: int\n",
    "        \"\"\"\n",
    "        \n",
    "        if n == 1: \n",
    "            return 1\n",
    "        if n == 2: \n",
    "            return 2\n",
    "        return self.climbStairs(n - 1) + self.climbStairs(n - 2)"
   ]
  },
  {
   "cell_type": "code",
   "execution_count": null,
   "metadata": {},
   "outputs": [],
   "source": [
    "# Bottom up. 时间复杂度: O(N)- 空间复杂度: O(N)\n",
    "class Solution:\n",
    "    def climbStairs(self, n):\n",
    "        \"\"\"\n",
    "        :type n: int\n",
    "        :rtype: int\n",
    "        \"\"\"\n",
    "        cache = [1] * (n+1)\n",
    "        for i in range(2, n+1):\n",
    "            cache[i] = cache[i-1] + cache[i-2]\n",
    "        return cache[n]"
   ]
  },
  {
   "cell_type": "code",
   "execution_count": null,
   "metadata": {},
   "outputs": [],
   "source": [
    "# Top down. 时间复杂度: O(N)- 空间复杂度: O(N)\n",
    "class Solution:            \n",
    "    def climbStairs(self, n):\n",
    "        \"\"\"\n",
    "        :type n: int\n",
    "        :rtype: int\n",
    "        \"\"\"\n",
    "        dic = {1: 1\n",
    "               2: 2}\n",
    "        \n",
    "        def dp(n):\n",
    "            if n in dic:\n",
    "                return dic[n]\n",
    "\n",
    "            dic[n] = dp(n-1) + dp(n-2)\n",
    "            return dic[n]\n",
    "        \n",
    "        return dp(n)"
   ]
  },
  {
   "cell_type": "code",
   "execution_count": null,
   "metadata": {},
   "outputs": [],
   "source": [
    "class Solution:\n",
    "    def climbStairs(self, n):\n",
    "        if n == 1: \n",
    "            return 1\n",
    "        res = [-1 for i in range(n)]\n",
    "        res[0], res[1] = 1, 2\n",
    "        \n",
    "        def dp(n, res):\n",
    "            if res[n] == -1:\n",
    "                res[n] = dp(n - 1, res) + dp(n - 2, res)\n",
    "            return res[n]\n",
    "        \n",
    "        return dp(n-1, res)\n",
    "        \n",
    "#     def dp(self, n, res):\n",
    "#         if res[n] == -1:\n",
    "#             res[n] = self.dp(n - 1, res) + self.dp(n - 2, res)\n",
    "#         return res[n]"
   ]
  },
  {
   "cell_type": "markdown",
   "metadata": {},
   "source": [
    "## 62. Unique Paths (Int, Matrix-DP) (Amazon 10)\n",
    "时间复杂度: O(m * n)- 空间复杂度: O(m * n)"
   ]
  },
  {
   "cell_type": "code",
   "execution_count": null,
   "metadata": {},
   "outputs": [],
   "source": [
    "class Solution:\n",
    "    def uniquePaths(self, m, n):\n",
    "        \"\"\"\n",
    "        :type m: int\n",
    "        :type n: int\n",
    "        :rtype: int\n",
    "        \"\"\"\n",
    "        if not m or not n:\n",
    "            return 0\n",
    "        \n",
    "        dp = [[1] * n for i in range(m)]\n",
    "        for i in range(1, m):\n",
    "            for j in range(1, n):\n",
    "                dp[i][j] = dp[i-1][j] + dp[i][j-1]\n",
    "        return dp[-1][-1]"
   ]
  },
  {
   "cell_type": "markdown",
   "metadata": {},
   "source": [
    "时间复杂度: O(m * n)- 空间复杂度: O(n)"
   ]
  },
  {
   "cell_type": "code",
   "execution_count": 36,
   "metadata": {},
   "outputs": [],
   "source": [
    "class Solution:\n",
    "    def uniquePaths(self, m, n):\n",
    "        \"\"\"\n",
    "        :type m: int\n",
    "        :type n: int\n",
    "        :rtype: int\n",
    "        \"\"\"\n",
    "        if m < 1 or n < 1:\n",
    "            return 0\n",
    "        dp = [1] * n\n",
    "        for i in range(1, m):\n",
    "            for j in range(1, n):\n",
    "                dp[j] += dp[j-1]\n",
    "        return dp[n-1]"
   ]
  },
  {
   "cell_type": "markdown",
   "metadata": {},
   "source": [
    "## 63. Unique Paths II (Amazon 4)"
   ]
  },
  {
   "cell_type": "markdown",
   "metadata": {},
   "source": [
    "## 5. Longest Palindromic Substring (String, Matrix-DP) (Amazon 93, Microsoft 15, Google 8)\n",
    "O(N^2)  \n",
    "O(N^2)  \n",
    "dp[i][j]表示i, j之间string是不是palindrome"
   ]
  },
  {
   "cell_type": "code",
   "execution_count": 27,
   "metadata": {},
   "outputs": [],
   "source": [
    "# DP\n",
    "class Solution:\n",
    "    def longestPalindrome(self, s):\n",
    "        \"\"\"\n",
    "        :type s: str\n",
    "        :rtype: str\n",
    "        \"\"\"\n",
    "        if len(s) <= 1:\n",
    "            return s\n",
    "\n",
    "        dp = [[False]*len(s) for i in range(len(s))]\n",
    "\n",
    "#         longest_l = 1\n",
    "        res = s[0]\n",
    "\n",
    "        for r in range(1, len(s)):\n",
    "            for l in range(r):\n",
    "                dp[l][r] = s[l] == s[r] and (r - l <= 2 or dp[l + 1][r - 1])\n",
    "#                 cur_len = r - l + 1\n",
    "#                 if cur_len > longest_l:\n",
    "#                     longest_l = cur_len\n",
    "                if dp[l][r] and r - l + 1 > len(res):\n",
    "                    res = s[l:r + 1]\n",
    "        for n in dp: \n",
    "            print(n)\n",
    "        return res"
   ]
  },
  {
   "cell_type": "code",
   "execution_count": 29,
   "metadata": {},
   "outputs": [
    {
     "name": "stdout",
     "output_type": "stream",
     "text": [
      "[False, False, True, False, True]\n",
      "[False, False, False, True, False]\n",
      "[False, False, False, False, True]\n",
      "[False, False, False, False, False]\n",
      "[False, False, False, False, False]\n"
     ]
    },
    {
     "data": {
      "text/plain": [
       "'ababa'"
      ]
     },
     "execution_count": 29,
     "metadata": {},
     "output_type": "execute_result"
    }
   ],
   "source": [
    "s = 'ababa'\n",
    "o = Solution()\n",
    "o.longestPalindrome(s)"
   ]
  },
  {
   "cell_type": "code",
   "execution_count": null,
   "metadata": {},
   "outputs": [],
   "source": [
    "# DP\n",
    "class Solution:\n",
    "    def longestPalindrome(self, s):\n",
    "        \"\"\"\n",
    "        :type s: str\n",
    "        :rtype: str\n",
    "        \"\"\"\n",
    "        \n",
    "        size = len(s)\n",
    "        if size <= 1:\n",
    "            return s\n",
    "        # 二维 dp 问题\n",
    "        # 状态：dp[l,r]: s[l:r] 包括 l，r ，表示的字符串是不是回文串\n",
    "        # 设置为 None 是为了方便调试，看清楚代码执行流程\n",
    "        dp = [[False for _ in range(size)] for _ in range(size)]\n",
    "\n",
    "        longest_l = 1\n",
    "        res = s[0]\n",
    "\n",
    "        # 因为只有 1 个字符的情况在最开始做了判断\n",
    "        # 左边界一定要比右边界小，因此右边界从 1 开始\n",
    "        for r in range(1, size):\n",
    "            for l in range(r):\n",
    "                # 状态转移方程：如果头尾字符相等并且中间也是回文\n",
    "                # 在头尾字符相等的前提下，如果收缩以后不构成区间（最多只有 1 个元素），直接返回 True 即可\n",
    "                # 否则要继续看收缩以后的区间的回文性\n",
    "                # 重点理解 or 的短路性质在这里的作用\n",
    "                if s[l] == s[r] and (r - l <= 2 or dp[l + 1][r - 1]):\n",
    "                    dp[l][r] = True\n",
    "                    cur_len = r - l + 1\n",
    "                    if cur_len > longest_l:\n",
    "                        longest_l = cur_len\n",
    "                        res = s[l:r + 1]\n",
    "            # 调试语句\n",
    "            # for item in dp:\n",
    "            #     print(item)\n",
    "            # prin\n",
    "        return res"
   ]
  },
  {
   "cell_type": "code",
   "execution_count": null,
   "metadata": {},
   "outputs": [],
   "source": [
    "class Solution:\n",
    "    def longestPalindrome(self, s):\n",
    "        \"\"\"\n",
    "        :type s: str\n",
    "        :rtype: str\n",
    "        \"\"\"\n",
    "        if not s:\n",
    "            return ''\n",
    "        \n",
    "        res = ''  # Memory to remember a palindrome\n",
    "        for i in range(len(s)):  # i = start, O = n\n",
    "            for j in range(len(s), i, -1):  # j = end, O = n^2\n",
    "                if len(res) >= j-i:  # To reduce time\n",
    "                    break\n",
    "                    \n",
    "                elif s[i:j] == s[i:j][::-1]:\n",
    "                    res = s[i:j]\n",
    "                    break\n",
    "        return res"
   ]
  },
  {
   "cell_type": "code",
   "execution_count": 180,
   "metadata": {},
   "outputs": [
    {
     "name": "stdout",
     "output_type": "stream",
     "text": [
      "babad\n",
      "baba\n",
      "bab\n",
      "ba\n",
      "b\n",
      "\n",
      "abad\n",
      "aba\n",
      "ab\n",
      "a\n",
      "\n",
      "bad\n",
      "ba\n",
      "b\n",
      "\n",
      "ad\n",
      "a\n",
      "\n",
      "d\n",
      "\n"
     ]
    }
   ],
   "source": [
    "s = 'babad'\n",
    "for i in range(len(s)):\n",
    "    for j in range(len(s),i,-1):\n",
    "#         print(i,j)\n",
    "        print(s[i:j])\n",
    "    print()"
   ]
  },
  {
   "cell_type": "markdown",
   "metadata": {},
   "source": [
    "## 300. Longest Increasing Subsequence (List, List-DP) (Amazon 6, Google 5, Microsoft 2)\n",
    "\n",
    "O(N^2)  \n",
    "O(N)  \n",
    "dp[i]表示列表i之前的最大长度"
   ]
  },
  {
   "cell_type": "code",
   "execution_count": 9,
   "metadata": {},
   "outputs": [],
   "source": [
    "class Solution:\n",
    "    def lengthOfLIS(self, nums):\n",
    "        \"\"\"\n",
    "        :type nums: List[int]\n",
    "        :rtype: int\n",
    "        \"\"\"\n",
    "        if not nums:\n",
    "            return 0\n",
    "        \n",
    "        dp = [1] * len(nums)\n",
    "        for r in range(1, len(nums)):\n",
    "            for l in range(r):\n",
    "                if nums[r] > nums[l]:\n",
    "                    dp[r] = max(dp[r], dp[l]+1)\n",
    "#                     print(f'dp[{i}]=', dp[i])\n",
    "#                     print(dp)\n",
    "                    \n",
    "        return max(dp)"
   ]
  },
  {
   "cell_type": "code",
   "execution_count": 10,
   "metadata": {},
   "outputs": [
    {
     "name": "stdout",
     "output_type": "stream",
     "text": [
      "dp[3]= 2\n",
      "[1, 1, 1, 2, 1, 1, 1, 1]\n",
      "dp[4]= 2\n",
      "[1, 1, 1, 2, 2, 1, 1, 1]\n",
      "dp[5]= 2\n",
      "[1, 1, 1, 2, 2, 2, 1, 1]\n",
      "dp[5]= 3\n",
      "[1, 1, 1, 2, 2, 3, 1, 1]\n",
      "dp[5]= 3\n",
      "[1, 1, 1, 2, 2, 3, 1, 1]\n",
      "dp[6]= 2\n",
      "[1, 1, 1, 2, 2, 3, 2, 1]\n",
      "dp[6]= 2\n",
      "[1, 1, 1, 2, 2, 3, 2, 1]\n",
      "dp[6]= 2\n",
      "[1, 1, 1, 2, 2, 3, 2, 1]\n",
      "dp[6]= 3\n",
      "[1, 1, 1, 2, 2, 3, 3, 1]\n",
      "dp[6]= 3\n",
      "[1, 1, 1, 2, 2, 3, 3, 1]\n",
      "dp[6]= 4\n",
      "[1, 1, 1, 2, 2, 3, 4, 1]\n",
      "dp[7]= 2\n",
      "[1, 1, 1, 2, 2, 3, 4, 2]\n",
      "dp[7]= 2\n",
      "[1, 1, 1, 2, 2, 3, 4, 2]\n",
      "dp[7]= 2\n",
      "[1, 1, 1, 2, 2, 3, 4, 2]\n",
      "dp[7]= 3\n",
      "[1, 1, 1, 2, 2, 3, 4, 3]\n",
      "dp[7]= 3\n",
      "[1, 1, 1, 2, 2, 3, 4, 3]\n",
      "dp[7]= 4\n",
      "[1, 1, 1, 2, 2, 3, 4, 4]\n"
     ]
    },
    {
     "data": {
      "text/plain": [
       "4"
      ]
     },
     "execution_count": 10,
     "metadata": {},
     "output_type": "execute_result"
    }
   ],
   "source": [
    "nums = [10,9,2,5,3,7,101,18]\n",
    "s = Solution()\n",
    "s.lengthOfLIS(nums)"
   ]
  },
  {
   "cell_type": "code",
   "execution_count": null,
   "metadata": {},
   "outputs": [],
   "source": [
    "# Dynamic programming + Dichotomy.\n",
    "class Solution:\n",
    "    def lengthOfLIS(self, nums):\n",
    "        tails = [0] * len(nums)\n",
    "        res = 0\n",
    "        \n",
    "        for num in nums:\n",
    "            i = 0\n",
    "            j = res\n",
    "            \n",
    "            while i < j:\n",
    "                m = (i + j) // 2\n",
    "                if tails[m] < num: \n",
    "                    i = m + 1 # 如果要求非严格递增，将此行 '<' 改为 '<=' 即可。\n",
    "                else: \n",
    "                    j = m\n",
    "            \n",
    "            tails[i] = num\n",
    "            \n",
    "            if j == res: \n",
    "                res += 1\n",
    "        return res\n"
   ]
  },
  {
   "cell_type": "markdown",
   "metadata": {},
   "source": [
    "## 516. Longest Palindromic Subsequence (String, List-DP) (Amazon 6, Linkedin 4, Microsoft 3)\n",
    "O(n^2)  \n",
    "O(n^2)  \n",
    "\n",
    "dp[i][j]表示i,j之间string的最长palindrome长度"
   ]
  },
  {
   "cell_type": "code",
   "execution_count": 19,
   "metadata": {},
   "outputs": [],
   "source": [
    "class Solution:\n",
    "    def longestPalindromeSubseq(self, s):\n",
    "        if not s:\n",
    "            return 0\n",
    "\n",
    "        if s == s[::-1]:\n",
    "            return len(s)\n",
    "\n",
    "        dp = [[0] * len(s) for i in range(len(s))]\n",
    "\n",
    "        for l in range(len(s)-1, -1, -1):   \n",
    "            dp[l][l] = 1\n",
    "            for r in range(l+1, len(s)):\n",
    "                if s[l] == s[r]:\n",
    "                    dp[l][r] = 2 + dp[l+1][r-1]            \n",
    "                else:\n",
    "                    dp[l][r] = max(dp[l+1][r], dp[l][r-1])\n",
    "                    \n",
    "        return dp[0][len(s)-1]"
   ]
  },
  {
   "cell_type": "code",
   "execution_count": 20,
   "metadata": {},
   "outputs": [
    {
     "name": "stdout",
     "output_type": "stream",
     "text": [
      "[1, 2, 3, 3, 4]\n",
      "[0, 1, 2, 2, 3]\n",
      "[0, 0, 1, 1, 3]\n",
      "[0, 0, 0, 1, 1]\n",
      "[0, 0, 0, 0, 1]\n"
     ]
    },
    {
     "data": {
      "text/plain": [
       "4"
      ]
     },
     "execution_count": 20,
     "metadata": {},
     "output_type": "execute_result"
    }
   ],
   "source": [
    "o = Solution()\n",
    "s= 'bbbab'\n",
    "o.longestPalindromeSubseq(s)\n"
   ]
  },
  {
   "cell_type": "markdown",
   "metadata": {},
   "source": [
    "## 53. Maximum Subarray (List, List-DP) (Amazon 29, Linkein 16, Microsoft 13, Apple 8, Google 7, Facebook 7)"
   ]
  },
  {
   "cell_type": "markdown",
   "metadata": {},
   "source": [
    "O(N)  \n",
    "O(N)\n",
    "\n",
    "dp[i]表示i之前的最大sum"
   ]
  },
  {
   "cell_type": "code",
   "execution_count": 76,
   "metadata": {},
   "outputs": [],
   "source": [
    "class Solution:\n",
    "    def maxSubArray(self, nums):\n",
    "        \"\"\"\n",
    "        :type nums: List[int]\n",
    "        :rtype: int\n",
    "        \"\"\"\n",
    "        dp = [nums[0]] * len(nums)\n",
    "#         print('maxSum =', maxSum)\n",
    "        \n",
    "        for i in range(1, len(nums)):\n",
    "#             print('i=', i)\n",
    "            dp[i] = max(dp[i - 1] + nums[i], nums[i])\n",
    "#             print(f'maxSum [{i}] =', maxSum[i])\n",
    "        return max(dp)"
   ]
  },
  {
   "cell_type": "code",
   "execution_count": 77,
   "metadata": {},
   "outputs": [
    {
     "name": "stdout",
     "output_type": "stream",
     "text": [
      "maxSum = [-2, -2, -2, -2, -2, -2, -2, -2, -2]\n",
      "i= 1\n",
      "maxSum [1] = 1\n",
      "i= 2\n",
      "maxSum [2] = -2\n",
      "i= 3\n",
      "maxSum [3] = 4\n",
      "i= 4\n",
      "maxSum [4] = 3\n",
      "i= 5\n",
      "maxSum [5] = 5\n",
      "i= 6\n",
      "maxSum [6] = 6\n",
      "i= 7\n",
      "maxSum [7] = 1\n",
      "i= 8\n",
      "maxSum [8] = 5\n"
     ]
    },
    {
     "data": {
      "text/plain": [
       "6"
      ]
     },
     "execution_count": 77,
     "metadata": {},
     "output_type": "execute_result"
    }
   ],
   "source": [
    "s = Solution()\n",
    "nums = [-2,1,-3,4,-1,2,1,-5,4]\n",
    "s.maxSubArray(nums)"
   ]
  },
  {
   "cell_type": "code",
   "execution_count": 8,
   "metadata": {},
   "outputs": [
    {
     "data": {
      "text/plain": [
       "[2, 2, 2, 2]"
      ]
     },
     "execution_count": 8,
     "metadata": {},
     "output_type": "execute_result"
    }
   ],
   "source": [
    "nums = [2,3,4,5]\n",
    "maxSum = [nums[0] for i in nums]\n",
    "maxSum"
   ]
  },
  {
   "cell_type": "code",
   "execution_count": 16,
   "metadata": {},
   "outputs": [],
   "source": [
    "maxsum = [2] * 4"
   ]
  },
  {
   "cell_type": "markdown",
   "metadata": {},
   "source": [
    "## 152. Maximum Product Subarray (List, List-DP) (Linkedin 10, Amazon3)"
   ]
  },
  {
   "cell_type": "code",
   "execution_count": null,
   "metadata": {},
   "outputs": [],
   "source": [
    "class Solution:\n",
    "    def maxProduct(self, nums):\n",
    "        \"\"\"\n",
    "        :type nums: List[int]\n",
    "        :rtype: int\n",
    "        \"\"\"\n",
    "        maxdp = [nums[0]] * len(nums)\n",
    "        mindp = [nums[0]] * len(nums)\n",
    "\n",
    "        for i in range(1, len(nums)):\n",
    "            maxdp[i] = max(mindp[i-1]*nums[i], maxdp[i-1]*nums[i], nums[i])\n",
    "            mindp[i] = min(maxdp[i-1]*nums[i], mindp[i-1]*nums[i], nums[i])\n",
    "\n",
    "        return max(maxdp)"
   ]
  },
  {
   "cell_type": "markdown",
   "metadata": {},
   "source": [
    "## 139. Word Break (String, List. List-DP) (Amazon 27, Facebook 8, Microsoft 7)\n",
    "\n",
    "O(N^2)  \n",
    "O(N)  \n",
    "\n",
    "dp[i]表示最新word的起点"
   ]
  },
  {
   "cell_type": "code",
   "execution_count": null,
   "metadata": {},
   "outputs": [],
   "source": [
    "class Solution:\n",
    "    def wordBreak(self, s, strs):\n",
    "        \"\"\"\n",
    "        :type s: str\n",
    "        :type wordDict: List[str]\n",
    "        :rtype: bool\n",
    "        \"\"\"\n",
    "        # 初始化标记列表\n",
    "        dp = [True]+[False]*len(s)\n",
    "\n",
    "        for l in range(len(s)):\n",
    "            if dp[l]:\n",
    "                for r in range(l+1, len(s)+1):\n",
    "                    if s[l:r] in strs:\n",
    "                        dp[r] = True\n",
    "        return dp[-1]\n"
   ]
  },
  {
   "cell_type": "markdown",
   "metadata": {},
   "source": [
    "## 322. Coin Change (List, List-DP) (Amazon 14, Microsoft 5, Google)  "
   ]
  },
  {
   "cell_type": "markdown",
   "metadata": {},
   "source": [
    "O(N^2)  \n",
    "O(N)  \n",
    "\n",
    "输入: coins = [1, 2, 5], amount = 11\n",
    "输出: 3 \n",
    "解释: 11 = 5 + 5 + 1\n",
    "\n",
    "题目求的值为 f(11)，第一次选择硬币时我们有三种选择。\n",
    "假设我们取面额为 1 的硬币，那么接下来需要凑齐的总金额变为 11 - 1 = 10，即 f(11) = f(10) + 1，这里的 +1 就是我们取出的面额为 1 的硬币。\n",
    "\n",
    "同理，如果取面额为 2 或面额为 5 的硬币可以得到：  \n",
    "f(11) = f(9) + 1\n",
    "f(11) = f(6) + 1\n",
    "\n",
    "f(11) = min(f(10), f(9), f(6)) + 1  \n",
    "\n",
    "dp[i]是得到i数值的硬币数量"
   ]
  },
  {
   "cell_type": "code",
   "execution_count": null,
   "metadata": {},
   "outputs": [],
   "source": [
    "class Solution:\n",
    "    def coinChange(self, coins, amount):\n",
    "        \"\"\"\n",
    "        :type coins: List[int]\n",
    "        :type amount: int\n",
    "        :rtype: int\n",
    "        \"\"\"\n",
    "        \n",
    "        dp = [0] + [float('inf')] * amount\n",
    "        \n",
    "        for c in coins:  # 枚举硬币种数\n",
    "            for i in range(c, amount + 1):  # 从小到大枚举金额，确保j-c >= 0.\n",
    "                dp[i] = min(dp[i], dp[i - c] + 1)\n",
    "           \n",
    "        if dp[-1] != float('inf'):\n",
    "            return dp[-1]  \n",
    "        else: \n",
    "            return -1  # 如果为inf说明状态不可达，返回-1即可。\n"
   ]
  },
  {
   "cell_type": "markdown",
   "metadata": {},
   "source": [
    "## 64. Minimum Path Sum (Matrix-DP) (Amazon 9)\n",
    "\n",
    "O(N^2)  \n",
    "O(1)  \n",
    "grid[i][j] 表示最少路径sum"
   ]
  },
  {
   "cell_type": "code",
   "execution_count": null,
   "metadata": {},
   "outputs": [],
   "source": [
    "class Solution:\n",
    "    def minPathSum(self, grid):\n",
    "        \"\"\"\n",
    "        :type grid: List[List[int]]\n",
    "        :rtype: int\n",
    "        \"\"\"\n",
    "        if not grid:\n",
    "            return 0\n",
    "\n",
    "        row = len(grid)\n",
    "        col = len(grid[0])\n",
    "\n",
    "        for i in range(1, col):\n",
    "            grid[0][i] += grid[0][i-1]\n",
    "\n",
    "        for i in range(1, row):\n",
    "            grid[i][0] += grid[i-1][0]\n",
    "\n",
    "        for i in range(1, row):\n",
    "            for j in range(1, col):\n",
    "                grid[i][j] += min(grid[i-1][j], grid[i][j-1])\n",
    "\n",
    "        return grid[-1][-1]"
   ]
  },
  {
   "cell_type": "markdown",
   "metadata": {},
   "source": [
    "## 221. Maximal Square (String Matrix-DP) (Google 8, Amazon 4)"
   ]
  },
  {
   "cell_type": "code",
   "execution_count": null,
   "metadata": {},
   "outputs": [],
   "source": [
    "# dp[i][j]代表以matrix[i][j]为右下角的正方形的最大长度\n",
    "# 状态方程dp[i][j] = min(dp[i-1][j-1], dp[i][j-1], dp[i-1][j]) + 1，但是必须要满足dp[i][j] == 1，因为右下角也必须为1啊\n",
    "\n",
    "# O(m*n)\n",
    "# O(m*n)\n",
    "class Solution:\n",
    "    def maximalSquare(self, matrix):\n",
    "        \"\"\"\n",
    "        :type matrix: List[List[str]]\n",
    "        :rtype: int\n",
    "        \"\"\"\n",
    "        if not matrix:\n",
    "            return 0\n",
    "        \n",
    "        row = len(matrix)\n",
    "        col = len(matrix[0]) \n",
    "        \n",
    "        dp = [[int(matrix[i][j]) for j in range(col)] for i in range(row)]\n",
    "\n",
    "        for i in range(1, row):\n",
    "            for j in range(1, col):\n",
    "                if dp[i][j] == 1:\n",
    "                    dp[i][j] = min(dp[i-1][j-1], dp[i][j-1], dp[i-1][j]) + 1\n",
    "\n",
    "        max_len = 0\n",
    "        for i in range(row):\n",
    "            for j in range(col):\n",
    "                max_len = max(max_len, dp[i][j])\n",
    "        return max_len * max_len"
   ]
  },
  {
   "cell_type": "markdown",
   "metadata": {},
   "source": [
    "## Count Squares (Goolge Phone)\n",
    "Matrix  \n",
    "https://leetcode.com/discuss/interview-question/416012/Google-or-Phone-Screen-or-Count-Squares"
   ]
  },
  {
   "cell_type": "code",
   "execution_count": null,
   "metadata": {},
   "outputs": [],
   "source": [
    "# dp[i][j]表示matrix[i-1][j-1]的square个数\n",
    "\n",
    "def zeroSquares(self, matrix):\n",
    "    if not matrix:\n",
    "        return 0\n",
    "    \n",
    "    row = len(matrix)\n",
    "    col = len(matrix[0])\n",
    "    dp = [[0] * (len(col) + 1) for n in row + 1]\n",
    "    \n",
    "    count = 0\n",
    "    for i in len(1, row + 1):\n",
    "        for j in len(1, col + 1):\n",
    "            if matrix[i-1][j-1] == 0:\n",
    "                dp[i][j] = min(dp[i-1][j], dp[i][j-1], dp[i-1][j-1]) + 1\n",
    "                count += dp[i][j]\n",
    "                \n",
    "                \n",
    "    return count\n",
    "        \n",
    "# public int zeroSquares(int[][] matrix) {\n",
    "#     int rows = matrix.length;\n",
    "#     int cols = matrix[0].length;\n",
    "\n",
    "#     int[][] dp = new int[rows + 1][cols + 1];\n",
    "\n",
    "#     int count = 0;\n",
    "#     for (int r = 1; r <= rows; r++) {\n",
    "#         for (int c = 1; c <= cols; c++) {\n",
    "#             if (matrix[r - 1][c - 1] == 0) {\n",
    "#                 dp[r][c] = min(dp[r - 1][c], dp[r][c - 1], dp[r - 1][c - 1]) + 1;\n",
    "#                 count += dp[r][c];\n",
    "#             }\n",
    "#         }\n",
    "#     }\n",
    "#     return count;\n",
    "# }"
   ]
  },
  {
   "cell_type": "markdown",
   "metadata": {},
   "source": [
    "## 85. Maximal Rectangle (String Matrix-DP) (Google 5)"
   ]
  },
  {
   "cell_type": "code",
   "execution_count": null,
   "metadata": {},
   "outputs": [],
   "source": [
    "# dp[i][j]表示matrix[i][j]长方形的最大长度\n",
    "\n",
    "class Solution:\n",
    "    def maximalRectangle(self, matrix):\n",
    "        \"\"\"\n",
    "        :type matrix: List[List[str]]\n",
    "        :rtype: int\n",
    "        \"\"\"\n",
    "        if not matrix:\n",
    "            return 0\n",
    "        \n",
    "        maxarea = 0\n",
    "\n",
    "        dp = [[0] * len(matrix[0]) for n in range(len(matrix))]\n",
    "        for i in range(len(matrix)):\n",
    "            for j in range(len(matrix[0])):\n",
    "                if matrix[i][j] == '1': \n",
    "                    # compute the maximum width and update dp with it\n",
    "                    length = dp[i][j] = dp[i][j-1] + 1 if j else 1\n",
    "\n",
    "                    # compute the maximum area rectangle with a lower right corner at [i, j]\n",
    "                    for k in range(i, -1, -1):\n",
    "                        length = min(length, dp[k][j])\n",
    "                        maxarea = max(maxarea,  length * (i-k+1)) # 长乘以宽\n",
    "        return maxarea"
   ]
  },
  {
   "cell_type": "markdown",
   "metadata": {},
   "source": [
    "## 198. House Robber (Lists-DP) (Google 5)  \n",
    "https://github.com/azl397985856/leetcode/blob/master/problems/198.house-robber.md  \n",
    "dp[i]表示能抢最大的财产"
   ]
  },
  {
   "cell_type": "code",
   "execution_count": null,
   "metadata": {},
   "outputs": [],
   "source": [
    "class Solution:\n",
    "    def rob(self, nums):\n",
    "        \"\"\"\n",
    "        :type nums: List[int]\n",
    "        :rtype: int\n",
    "        \"\"\"\n",
    "        \n",
    "        if not nums: \n",
    "            return 0\n",
    "        if len(nums) == 1: \n",
    "            return nums[0]\n",
    "        if len(nums) == 2: \n",
    "            return max(nums)\n",
    "\n",
    "        dp = [0]*len(nums)\n",
    "        dp[0], dp[1] = nums[0], max(nums[0], nums[1])\n",
    "        \n",
    "        for i in range(2, len(nums)):\n",
    "            dp[i] = max(dp[i-2]+nums[i], dp[i-1])\n",
    "        \n",
    "        return dp[-1]"
   ]
  },
  {
   "cell_type": "markdown",
   "metadata": {},
   "source": [
    "## 91. Decode Ways (List-DP) (Amazon 9, Facebook 8, Google 3)\n",
    "O(N)  \n",
    "O(N)\n",
    "\n",
    "dp[i]表示s[i]之前(不包括i)的最大decode数量\n",
    "\n",
    "w tells the number of ways  \n",
    "v tells the previous number of ways  \n",
    "d is the current digit  \n",
    "p is the previous digit  "
   ]
  },
  {
   "cell_type": "code",
   "execution_count": null,
   "metadata": {},
   "outputs": [],
   "source": [
    "class Solution:\n",
    "    def numDecodings(self, s: str) -> int:\n",
    "        if not s or s[0] == \"0\":\n",
    "            return 0\n",
    "\n",
    "        dp = [0] * (len(s) + 1)\n",
    "\n",
    "        dp[0] = 1\n",
    "        if s[0] != \"0\":\n",
    "            dp[1] = 1\n",
    "\n",
    "        for i in range(2, len(s) + 1):\n",
    "            one = int(s[i - 1])\n",
    "            two = int(s[i - 2] + s[i - 1])\n",
    "            if 0 < one < 10:\n",
    "                dp[i] += dp[i - 1]\n",
    "            if 9 < two < 27:\n",
    "                dp[i] += dp[i - 2]\n",
    "        return dp[-1]"
   ]
  },
  {
   "cell_type": "code",
   "execution_count": 32,
   "metadata": {},
   "outputs": [
    {
     "data": {
      "text/plain": [
       "2"
      ]
     },
     "execution_count": 32,
     "metadata": {},
     "output_type": "execute_result"
    }
   ],
   "source": [
    "int(5/2)"
   ]
  },
  {
   "cell_type": "markdown",
   "metadata": {},
   "source": [
    "## 44. Wildcard Matching (Google 4, Microsoft 2)"
   ]
  },
  {
   "cell_type": "markdown",
   "metadata": {},
   "source": [
    "O(N^2)  \n",
    "O(N^2)  \n",
    "dp[i][j]表示1 based string(i, j)是不是match"
   ]
  },
  {
   "cell_type": "code",
   "execution_count": 1,
   "metadata": {},
   "outputs": [],
   "source": [
    "class Solution:\n",
    "    def isMatch(self, s, p):\n",
    "        \"\"\"\n",
    "        :type s: str\n",
    "        :type p: str\n",
    "        :rtype: bool\n",
    "        \"\"\"\n",
    "        \n",
    "        dp = [[False] * (len(p) + 1) for _ in range(len(s) + 1)]\n",
    "        dp[0][0] = True\n",
    "        for j in range(1, len(p) + 1):\n",
    "            if p[j - 1] == \"*\":\n",
    "                dp[0][j] = dp[0][j - 1]\n",
    "\n",
    "        for i in range(1, len(s) + 1):\n",
    "            for j in range(1, len(p) + 1):\n",
    "                if (s[i - 1] == p[j - 1] or p[j - 1] == \"?\") and dp[i-1][j-1]:\n",
    "                    dp[i][j] = True\n",
    "                \n",
    "                elif p[j - 1] == \"*\" and (dp[i - 1][j] or dp[i][j - 1]):\n",
    "                    dp[i][j] = True\n",
    "                    \n",
    "        return dp[-1][-1]"
   ]
  },
  {
   "cell_type": "code",
   "execution_count": 1,
   "metadata": {},
   "outputs": [],
   "source": [
    "class Solution:\n",
    "    def isMatch(self, s, p):\n",
    "        \"\"\"\n",
    "        :type s: str\n",
    "        :type p: str\n",
    "        :rtype: bool\n",
    "        \"\"\"\n",
    "        \n",
    "        dp = [[False] * (len(p) + 1) for _ in range(len(s) + 1)]\n",
    "        dp[0][0] = True\n",
    "        for j in range(1, len(p) + 1):\n",
    "            if p[j - 1] == \"*\":\n",
    "                dp[0][j] = dp[0][j - 1]\n",
    "\n",
    "        for i in range(1, len(s) + 1):\n",
    "            for j in range(1, len(p) + 1):\n",
    "                if (s[i - 1] == p[j - 1] or p[j - 1] == \"?\"):\n",
    "                    dp[i][j] = dp[i - 1][j - 1]\n",
    "                    \n",
    "                elif p[j - 1] == \"*\":\n",
    "                    dp[i][j] = dp[i - 1][j] or dp[i][j - 1]\n",
    "                    \n",
    "        for n in dp:\n",
    "            print(n)\n",
    "        return dp[-1][-1]"
   ]
  },
  {
   "cell_type": "code",
   "execution_count": 2,
   "metadata": {},
   "outputs": [
    {
     "name": "stdout",
     "output_type": "stream",
     "text": [
      "[True, False, False]\n",
      "[False, True, True]\n",
      "[False, False, True]\n"
     ]
    },
    {
     "data": {
      "text/plain": [
       "True"
      ]
     },
     "execution_count": 2,
     "metadata": {},
     "output_type": "execute_result"
    }
   ],
   "source": [
    "o = Solution()\n",
    "o.isMatch('aa', 'a*')"
   ]
  },
  {
   "cell_type": "markdown",
   "metadata": {},
   "source": [
    "## 97. Interleaving String (String, List-DP) (Apple 8, Amazon 4, Microsoft 3)  (Hard)\n",
    "O(m*n)  \n",
    "O(m*n)    \n",
    "dp[i][j]代表s1的前i个字符和s2的前j个字符合起来是否能够组成s3的前i+j个字符  \n",
    "中文leetcode题解"
   ]
  },
  {
   "cell_type": "code",
   "execution_count": null,
   "metadata": {},
   "outputs": [],
   "source": [
    "class Solution:\n",
    "    def isInterleave(self, s1, s2, s3):\n",
    "        \"\"\"\n",
    "        :type s1: str\n",
    "        :type s2: str\n",
    "        :type s3: str\n",
    "        :rtype: bool\n",
    "        \"\"\"\n",
    "        if len(s1) + len(s2) != len(s3):\n",
    "            return False\n",
    "        \n",
    "        dp = [[False] * (len(s2)+1) for i in range(len(s1)+1)]\n",
    "        dp[0][0] = True\n",
    "        \n",
    "        for i in range(1, len(s1) + 1):\n",
    "            if s1[i-1] == s3[i-1]:\n",
    "                dp[i][0] = True\n",
    "            else:\n",
    "                break\n",
    "                \n",
    "        for j in range(1, len(s2)+1):\n",
    "            if s2[j-1] == s3[j-1]:\n",
    "                dp[0][j] = True\n",
    "            else: # 前面都不符合了，后面肯定不符合了\n",
    "                break\n",
    "                \n",
    "        for i in range(1, len(s1)+1):\n",
    "            for j in range(1, len(s2)+1):\n",
    "                if (dp[i-1][j] and s1[i-1] == s3[i-1+j]) or (dp[i][j-1] and s2[j-1] == s3[i+j-1]):\n",
    "                    dp[i][j] = True\n",
    "        return dp[-1][-1]"
   ]
  },
  {
   "cell_type": "markdown",
   "metadata": {},
   "source": [
    "## 10. Regular Expression Matching (String. Recursion-DP) (Facebook 8, Microsoft 7, Amazon 6) (Hard)"
   ]
  },
  {
   "cell_type": "markdown",
   "metadata": {},
   "source": [
    "dp[i][j]表示text[i:] pattern[j:]是不是match"
   ]
  },
  {
   "cell_type": "code",
   "execution_count": 32,
   "metadata": {},
   "outputs": [],
   "source": [
    "class Solution:\n",
    "#     def isMatch(self, s, p):\n",
    "#         dp = [[False] * (len(p) + 1) for _ in range(len(s) + 1)]\n",
    "\n",
    "#         dp[-1][-1] = True\n",
    "        \n",
    "#         for i in range(len(s), -1, -1):\n",
    "#             for j in range(len(p) - 1, -1, -1):\n",
    "#                 print(i,j)\n",
    "#                 first_match = i < len(s) and p[j] in {s[i], '.'}\n",
    "#                 if j+1 < len(p) and p[j+1] == '*':\n",
    "#                     dp[i][j] = dp[i][j+2] or first_match and dp[i+1][j]\n",
    "#                 else:\n",
    "                    \n",
    "#                     dp[i][j] = first_match and dp[i+1][j+1]\n",
    "                    \n",
    "#                     print(dp[i][j])\n",
    "\n",
    "#         return dp[0][0]\n",
    "    \n",
    "    # 带备忘录的递归\n",
    "    # Top Down\n",
    "    def isMatch(self, text, pattern):\n",
    "        \"\"\"\n",
    "        :type s: str\n",
    "        :type p: str\n",
    "        :rtype: bool\n",
    "        \"\"\"\n",
    "        \n",
    "        dic = {} # 备忘录\n",
    "        \n",
    "        def dp(i, j):\n",
    "            if (i, j) in dic: \n",
    "                return dic[(i, j)]\n",
    "            \n",
    "            if j == len(pattern): \n",
    "                return i == len(text)\n",
    "\n",
    "            first = i <= len(text) - 1 and (pattern[j] == text[i] or pattern[j] == '.')\n",
    "\n",
    "            if j <= len(pattern) - 2 and pattern[j + 1] == '*':\n",
    "                dic[(i, j)] = dp(i, j + 2) or first and dp(i + 1, j)\n",
    "            else:\n",
    "                dic[(i, j)] = first and dp(i + 1, j + 1)\n",
    "\n",
    "#             print(dic)\n",
    "            return dic[(i, j)]\n",
    "\n",
    "        return dp(0, 0)\n",
    "\n",
    "    # # 暴力递归\n",
    "    # def isMatch(text, pattern) -> bool:\n",
    "    #     if not pattern: return not text\n",
    "\n",
    "    #     first = bool(text) and pattern[0] in {text[0], '.'}\n",
    "\n",
    "    #     if len(pattern) >= 2 and pattern[1] == '*':\n",
    "    #         return isMatch(text, pattern[2:]) or \\\n",
    "    #                 first and isMatch(text[1:], pattern)\n",
    "    #     else:\n",
    "    #         return first and isMatch(text[1:], pattern[1:])"
   ]
  },
  {
   "cell_type": "code",
   "execution_count": 33,
   "metadata": {},
   "outputs": [
    {
     "name": "stdout",
     "output_type": "stream",
     "text": [
      "{(0, 4): False}\n",
      "{(0, 4): False, (1, 4): False}\n",
      "{(0, 4): False, (1, 4): False, (2, 4): True}\n",
      "{(0, 4): False, (1, 4): False, (2, 4): True, (2, 2): True}\n",
      "{(0, 4): False, (1, 4): False, (2, 4): True, (2, 2): True, (1, 2): True}\n",
      "{(0, 4): False, (1, 4): False, (2, 4): True, (2, 2): True, (1, 2): True, (0, 2): True}\n",
      "{(0, 4): False, (1, 4): False, (2, 4): True, (2, 2): True, (1, 2): True, (0, 2): True, (0, 0): True}\n"
     ]
    },
    {
     "data": {
      "text/plain": [
       "True"
      ]
     },
     "execution_count": 33,
     "metadata": {},
     "output_type": "execute_result"
    }
   ],
   "source": [
    "text = 'aab'\n",
    "pattern = 'c*a*b' \n",
    "\n",
    "s= Solution()\n",
    "s.isMatch(text, pattern)"
   ]
  },
  {
   "cell_type": "markdown",
   "metadata": {},
   "source": [
    "## 72. Edit Distance  (String. Recursion-DP) (Microsoft 3, Amazon 2)"
   ]
  },
  {
   "cell_type": "markdown",
   "metadata": {},
   "source": [
    "base case 是 i 走完 s1 或 j 走完 s2，可以直接返回另一个字符串剩下的长度。  \n",
    "Up Down\n",
    "\n",
    "dp(i,j)表示改变的s1 i之前 和s2 j之前的最少编辑次数"
   ]
  },
  {
   "cell_type": "code",
   "execution_count": null,
   "metadata": {},
   "outputs": [],
   "source": [
    "class Solution:\n",
    "    # def minDistance(self, word1: str, word2: str) -> int:\n",
    "        \n",
    "#     def minDistance(self, s1, s2) -> int:\n",
    "\n",
    "#         def dp(i, j):\n",
    "#             # base case\n",
    "#             if i == -1: return j + 1\n",
    "#             if j == -1: return i + 1\n",
    "\n",
    "#             if s1[i] == s2[j]:\n",
    "#                 return dp(i - 1, j - 1)  # 啥都不做\n",
    "#             else:\n",
    "#                 return min(\n",
    "#                     dp(i, j - 1) + 1,    # 插入\n",
    "#                     dp(i - 1, j) + 1,    # 删除\n",
    "#                     dp(i - 1, j - 1) + 1 # 替换\n",
    "#                 )\n",
    "\n",
    "#         # i，j 初始化指向最后一个索引\n",
    "#         return dp(len(s1) - 1, len(s2) - 1)\n",
    "\n",
    "    def minDistance(self, s1, s2):\n",
    "        \"\"\"\n",
    "        :type word1: str\n",
    "        :type word2: str\n",
    "        :rtype: int\n",
    "        \"\"\"\n",
    "\n",
    "        dic = {} # 备忘录\n",
    "        def dp(i, j):\n",
    "            if (i, j) in dic: \n",
    "                return dic[(i, j)]\n",
    "            \n",
    "            if i == -1: \n",
    "                return j + 1\n",
    "            if j == -1: \n",
    "                return i + 1\n",
    "\n",
    "            if s1[i] == s2[j]:\n",
    "                dic[(i, j)] = dp(i - 1, j - 1) \n",
    "            else:\n",
    "                dic[(i, j)] = min(dp(i, j - 1) + 1,    # 插入\n",
    "                                   dp(i - 1, j) + 1,    # 删除\n",
    "                                   dp(i - 1, j - 1) + 1 # 替换\n",
    "                                  )\n",
    "                \n",
    "            return dic[(i, j)]\n",
    "\n",
    "        return dp(len(s1) - 1, len(s2) - 1)"
   ]
  },
  {
   "cell_type": "markdown",
   "metadata": {},
   "source": [
    "Bottom Up"
   ]
  },
  {
   "cell_type": "code",
   "execution_count": null,
   "metadata": {},
   "outputs": [],
   "source": [
    "class Solution:\n",
    "    def minDistance(self, s1, s2):\n",
    "        \"\"\"\n",
    "        :type word1: str\n",
    "        :type word2: str\n",
    "        :rtype: int\n",
    "        \"\"\"\n",
    "\n",
    "        dp = [[0] * (len(s2) + 1) for _ in range(len(s1) + 1)]\n",
    "        # 第一行\n",
    "        for j in range(1, len(s2) + 1):\n",
    "            dp[0][j] = dp[0][j-1] + 1\n",
    "        # 第一列\n",
    "        for i in range(1, len(s1) + 1):\n",
    "            dp[i][0] = dp[i-1][0] + 1\n",
    "            \n",
    "        for i in range(1, len(s1) + 1):\n",
    "            for j in range(1, len(2) + 1):\n",
    "                if s1[i-1] == s2[j-1]:\n",
    "                    dp[i][j] = dp[i-1][j-1]\n",
    "                else:\n",
    "                    dp[i][j] = min(dp[i][j-1], dp[i-1][j], dp[i-1][j-1]) + 1\n",
    "        #print(dp)      \n",
    "        return dp[-1][-1]"
   ]
  },
  {
   "cell_type": "markdown",
   "metadata": {},
   "source": [
    "## 354. Russin Doll Envelopes (Lists-DP) (Microsoft 3)"
   ]
  },
  {
   "cell_type": "code",
   "execution_count": null,
   "metadata": {},
   "outputs": [],
   "source": [
    "import bisect\n",
    "class Solution:\n",
    "    def maxEnvelopes(self, envelopes):\n",
    "        \"\"\"\n",
    "        :type envelopes: List[List[int]]\n",
    "        :rtype: int\n",
    "        \"\"\"\n",
    "        \n",
    "        envelopes = sorted(envelopes, key = lambda x: (x[0], -x[1]))\n",
    "        dp = []\n",
    "        for env in envelopes:\n",
    "            h = env[1]\n",
    "            pos = bisect.bisect_left(dp, h)\n",
    "            if pos == len(dp):\n",
    "                dp.append(h)\n",
    "            else:\n",
    "                dp[pos] = h\n",
    "        return len(dp)"
   ]
  },
  {
   "cell_type": "markdown",
   "metadata": {},
   "source": [
    "## 957. Odd Even Jump (List) (Google 9) (Hard)\n",
    "- 时间复杂度: O(NlgN)- 空间复杂度: O(N)  \n",
    "规律跳格子，固定点位固定落地点，所以可以搞一个函数专门算这个，接下来就是dp，dp[i]代表从点i能否跳到最后一个点"
   ]
  },
  {
   "cell_type": "code",
   "execution_count": null,
   "metadata": {},
   "outputs": [],
   "source": [
    "# O(N*logN)\n",
    "class Solution:\n",
    "    def oddEvenJumps(self, A):\n",
    "        \"\"\"\n",
    "        :type A: List[int]\n",
    "        :rtype: int\n",
    "        \"\"\"\n",
    "        def make(B):\n",
    "            res = [-1] * N\n",
    "            stack = [] # invariant: stack is decreasing\n",
    "            for i in B:\n",
    "                while stack and i > stack[-1]:\n",
    "                    res[stack.pop()] = i\n",
    "                stack.append(i)\n",
    "            return res\n",
    "\n",
    "        N = len(A) # A = [10,13,12,14,15]\n",
    "\n",
    "        B = sorted(list(range(N)), key = lambda i : A[i]) # [0, 2, 1, 3, 4]\n",
    "        odd_nxt = make(B)\n",
    "\n",
    "        B = sorted(list(range(N)), key = lambda i : -A[i]) # [4, 3, 1, 2, 0]\n",
    "        even_nxt = make(B)\n",
    "\n",
    "        odd, even = [False] * N, [False] * N\n",
    "        odd[-1], even[-1] = True, True\n",
    "\n",
    "        for i in range(N-2, -1, -1):\n",
    "            if odd_nxt[i] != -1:\n",
    "                odd[i] = even[odd_nxt[i]]\n",
    "            if even_nxt[i] != -1:\n",
    "                even[i] = odd[even_nxt[i]]\n",
    "\n",
    "        return sum(odd)"
   ]
  },
  {
   "cell_type": "code",
   "execution_count": 40,
   "metadata": {},
   "outputs": [
    {
     "name": "stdout",
     "output_type": "stream",
     "text": [
      "3\n",
      "2\n",
      "1\n",
      "0\n"
     ]
    }
   ],
   "source": [
    "for i in range(3,-1,-1):\n",
    "    print(i)"
   ]
  },
  {
   "cell_type": "markdown",
   "metadata": {
    "toc-hr-collapsed": false
   },
   "source": [
    "### (18) (String) List. Recursion, Recursion-Backtrack, Queue-Backtrack. (String) Matrix. Recursion-Backtrack"
   ]
  },
  {
   "cell_type": "markdown",
   "metadata": {},
   "source": [
    "## 50. Pow(x, n) (Recursion) (Facebook 9, Linkedin 7, Amazon 6)\n",
    "\n",
    "O(logn)  \n",
    "O(logn)"
   ]
  },
  {
   "cell_type": "code",
   "execution_count": null,
   "metadata": {},
   "outputs": [],
   "source": [
    "class Solution:\n",
    "    def myPow(self, x, n):\n",
    "        if n == 0:\n",
    "            return 1\n",
    "        if n < 0:\n",
    "            return 1 / self.myPow(x, -n)\n",
    "        \n",
    "        if n % 2:\n",
    "            return x * self.myPow(x, n-1)\n",
    "        else:\n",
    "            return self.myPow(x*x, n/2)"
   ]
  },
  {
   "cell_type": "code",
   "execution_count": null,
   "metadata": {},
   "outputs": [],
   "source": [
    "class Solution:\n",
    "    def myPow(self, x, n):\n",
    "        if n < 0:\n",
    "            x = 1 / x\n",
    "            n = -n\n",
    "        pow = 1\n",
    "        while n:\n",
    "            if n & 1:\n",
    "                pow *= x\n",
    "            x *= x\n",
    "            n >>= 1\n",
    "        return pow"
   ]
  },
  {
   "cell_type": "markdown",
   "metadata": {},
   "source": [
    "## 66. Plus One (Recursion) (Google 4, Amazon 3)"
   ]
  },
  {
   "cell_type": "code",
   "execution_count": null,
   "metadata": {},
   "outputs": [],
   "source": [
    "# O(N)\n",
    "# O(N)\n",
    "class Solution:\n",
    "    def plusOne(self, digits):\n",
    "        \"\"\"\n",
    "        :type digits: List[int]\n",
    "        :rtype: List[int]\n",
    "        \"\"\"\n",
    "        if not digits:\n",
    "            return [1]\n",
    "        if digits[-1] < 9:\n",
    "            return digits[:-1] + [digits[-1] + 1]\n",
    "        else:\n",
    "            return self.plusOne(digits[:-1]) + [0]"
   ]
  },
  {
   "cell_type": "markdown",
   "metadata": {},
   "source": [
    "## 22. Generate Parenthesis (Recursion-Backtracking) (Amazon 12, Microsoft 11, Facebook 7)\n",
    "\n",
    "时间复杂度: O(4^N / sqrt(N))\n",
    "\n",
    "https://xiaozhuanlan.com/topic/3421690578  \n",
    "以Generate Parentheses为例，backtrack的题到底该怎么去思考？\n",
    "所谓Backtracking都是这样的思路：在当前局面下，你有若干种选择。那么尝试每一种选择。如果已经发现某种选择肯定不行（因为违反了某些限定条件），就返回；如果某种选择试到最后发现是正确解，就将其加入解集\n",
    "\n",
    "所以你思考递归题时，只要明确三点就行：选择 (Options)，限制 (Restraints)，结束条件 (Termination)。即“ORT原则”（这个是我自己编的）\n",
    "\n",
    "对于这道题，在任何时刻，你都有两种选择：\n",
    "\n",
    "加左括号。\n",
    "加右括号。\n",
    "同时有以下限制：\n",
    "\n",
    "如果左括号已经用完了，则不能再加左括号了。\n",
    "如果已经出现的右括号和左括号一样多，则不能再加右括号了。因为那样的话新加入的右括号一定无法匹配。\n",
    "结束条件是：\n",
    "左右括号都已经用完。\n",
    "\n",
    "结束后的正确性：\n",
    "左右括号用完以后，一定是正确解。因为1. 左右括号一样多，2. 每个右括号都一定有与之配对的左括号。因此一旦结束就可以加入解集（有时也可能出现结束以后不一定是正确解的情况，这时要多一步判断）。\n",
    "\n",
    "递归函数传入参数：\n",
    "限制和结束条件中有“用完”和“一样多”字样，因此你需要知道左右括号的数目。\n",
    "当然你还需要知道当前局面sublist和解集res。\n"
   ]
  },
  {
   "cell_type": "code",
   "execution_count": null,
   "metadata": {},
   "outputs": [],
   "source": [
    "class Solution:\n",
    "    def generateParenthesis(self, n):\n",
    "        \"\"\"\n",
    "        :type n: int\n",
    "        :rtype: List[str]\n",
    "        \"\"\"\n",
    "        if not n:\n",
    "            return ['']\n",
    "  \n",
    "        def backtrack(s = '', l = 0, r = 0):\n",
    "            if len(s) == 2 * n:\n",
    "                res.append(s)\n",
    "                return\n",
    "                \n",
    "            if l < n:\n",
    "                backtrack(s + '(', l + 1, r)\n",
    "            if r < l:\n",
    "                backtrack(s + ')', l, r + 1)\n",
    "        \n",
    "        res = []\n",
    "        backtrack()\n",
    "        return res"
   ]
  },
  {
   "cell_type": "markdown",
   "metadata": {},
   "source": [
    "## 17. Letter Combinations (String List, Recursion-Bscktracking) (Amazon 13, Microsoft 7, Google 6, Uber 5)\n",
    "\n",
    "O(3^N x 4^M) where N is the number of digits in the input that maps to 3 letters (e.g. 2, 3, 4, 5, 6, 8) and M is the number of digits in the input that maps to 4 letters (e.g. 7, 9), and N+M is the total number digits in the input.  \n",
    "O(3^N x 4^M)"
   ]
  },
  {
   "cell_type": "code",
   "execution_count": null,
   "metadata": {},
   "outputs": [],
   "source": [
    "class Solution:\n",
    "    def letterCombinations(self, digits):\n",
    "        \"\"\"\n",
    "        :type digits: str\n",
    "        :rtype: List[str]\n",
    "        \"\"\"\n",
    "        dic = {\n",
    "            '2':['a','b','c'],\n",
    "            '3':['d','e','f'],\n",
    "            '4':['g','h','i'],\n",
    "            '5':['j','k','l'],\n",
    "            '6':['m','n','o'],\n",
    "            '7':['p','q','r','s'],\n",
    "            '8':['t','u','v'],\n",
    "            '9':['w','x','y','z']\n",
    "        }\n",
    "        \n",
    "        if not digits:\n",
    "            return []\n",
    "        \n",
    "        res = []\n",
    "        def backtrack(digits, s = ''):\n",
    "            if not digits:\n",
    "                res.append(s)\n",
    "                return\n",
    "\n",
    "            for c in dic[digits[0]]:\n",
    "                backtrack(digits[1:], s+c)\n",
    "        \n",
    "        backtrack(digits)\n",
    "        return res"
   ]
  },
  {
   "cell_type": "markdown",
   "metadata": {},
   "source": [
    "## 1087. Brace Expansion (List, Recursion-Backtracking) (Google 6)"
   ]
  },
  {
   "cell_type": "code",
   "execution_count": null,
   "metadata": {},
   "outputs": [],
   "source": [
    "class Solution:\n",
    "    def expand(self, S):\n",
    "        \"\"\"\n",
    "        :type S: str\n",
    "        :rtype: List[str]\n",
    "        \"\"\"\n",
    "        res = []\n",
    "        def backtrack(s, word = ''):\n",
    "            if not s:\n",
    "                res.append(word)\n",
    "            else:\n",
    "                if s[0] == \"{\":\n",
    "                    i = s.find(\"}\")\n",
    "                    for letter in s[1:i].split(','):\n",
    "                        backtrack(s[i+1:], word+letter)\n",
    "                else:\n",
    "                    backtrack(s[1:], word + s[0])\n",
    "                    \n",
    "        backtrack(S)\n",
    "        \n",
    "        res.sort()\n",
    "        return res"
   ]
  },
  {
   "cell_type": "markdown",
   "metadata": {},
   "source": [
    "## 39. (3) Combination Sum (List, Recurison-Backtracking) (Airbnb 10, Microsoft 7, Amazon 5)\n",
    "\n",
    "O(2^N)  \n",
    "O(2^N)"
   ]
  },
  {
   "cell_type": "code",
   "execution_count": null,
   "metadata": {},
   "outputs": [],
   "source": [
    "class Solution:\n",
    "    def combinationSum(self, nums, target):\n",
    "        \"\"\"\n",
    "        :type candidates: List[int]\n",
    "        :type target: int\n",
    "        :rtype: List[List[int]]\n",
    "        \"\"\"      \n",
    "        def backtrack(target, p = 0, path = []):    \n",
    "            if target == 0:\n",
    "                res.append(path)\n",
    "                return \n",
    "            \n",
    "            if target < 0:\n",
    "                return  # backtracking\n",
    "            \n",
    "            for i in range(p, len(nums)):\n",
    "                backtrack(target-nums[i], i, path+[nums[i]])\n",
    "        \n",
    "        res = []\n",
    "        backtrack(target)\n",
    "        return res"
   ]
  },
  {
   "cell_type": "code",
   "execution_count": 29,
   "metadata": {},
   "outputs": [
    {
     "data": {
      "text/plain": [
       "[1, 2, 3, [5, 6]]"
      ]
     },
     "execution_count": 29,
     "metadata": {},
     "output_type": "execute_result"
    }
   ],
   "source": [
    "l1 = [1,2,3]\n",
    "l1.append([5,6])\n",
    "l1"
   ]
  },
  {
   "cell_type": "markdown",
   "metadata": {},
   "source": [
    "## 78. Subsets (List, Recursion-Backtracking, Queue-Backtracking) (Facebook 8, Amazon 6, Microsoft 5)\n",
    "\n",
    "O(2^N)  \n",
    "O(2^N)"
   ]
  },
  {
   "cell_type": "code",
   "execution_count": null,
   "metadata": {},
   "outputs": [],
   "source": [
    "class Solution:\n",
    "    def subsets(self, nums):\n",
    "        \"\"\"\n",
    "        :type nums: List[int]\n",
    "        :rtype: List[List[int]]\n",
    "        \"\"\"    \n",
    "        def backtrack(tmp, p):\n",
    "            res.append(tmp)\n",
    "            \n",
    "            for i in range(p, len(nums)):\n",
    "                backtrack(tmp + [nums[i]], i + 1)\n",
    "            \n",
    "        res = []\n",
    "        backtrack([], 0)\n",
    "        return res "
   ]
  },
  {
   "cell_type": "code",
   "execution_count": null,
   "metadata": {},
   "outputs": [],
   "source": [
    "#BFS\n",
    "class Solution:\n",
    "    def subsets(self, nums):\n",
    "        \"\"\"\n",
    "        :type nums: List[int]\n",
    "        :rtype: List[List[int]]\n",
    "        \"\"\"    \n",
    "        subsets = [[]]\n",
    "        # start by adding the empty subset\n",
    "        for n in nums:\n",
    "        # we will take all existing subsets and insert the current number in them to create new subsets\n",
    "            for i in range(len(subsets)):\n",
    "              # create a new subset from the existing subset and insert the current element to it\n",
    "              # set = list(subsets[i])\n",
    "              # set.append(currentNumber)\n",
    "              subsets.append(subsets[i]+[n])\n",
    "\n",
    "        return subsets"
   ]
  },
  {
   "cell_type": "code",
   "execution_count": 31,
   "metadata": {},
   "outputs": [],
   "source": [
    "#O(2^N)\n",
    "class Solution:\n",
    "    def subsets(self, nums):\n",
    "        \"\"\"\n",
    "        :type nums: List[int]\n",
    "        :rtype: List[List[int]]\n",
    "        \"\"\"\n",
    "        res = [[]]\n",
    "        for n in nums:\n",
    "            res.extend([[n] + num for num in res])\n",
    "        return res "
   ]
  },
  {
   "cell_type": "code",
   "execution_count": 32,
   "metadata": {},
   "outputs": [
    {
     "data": {
      "text/plain": [
       "[[], [1], [2], [1, 2], [3], [1, 3], [2, 3], [1, 2, 3]]"
      ]
     },
     "execution_count": 32,
     "metadata": {},
     "output_type": "execute_result"
    }
   ],
   "source": [
    "nums = [1,2,3]\n",
    "s = Solution()\n",
    "s.subsets(nums)"
   ]
  },
  {
   "cell_type": "code",
   "execution_count": null,
   "metadata": {},
   "outputs": [],
   "source": [
    "[1,3] + [3]"
   ]
  },
  {
   "cell_type": "markdown",
   "metadata": {},
   "source": [
    "## 90. Subsets II (Amazon 3, Microsoft 2)"
   ]
  },
  {
   "cell_type": "code",
   "execution_count": null,
   "metadata": {},
   "outputs": [],
   "source": [
    "class Solution:\n",
    "    def subsetsWithDup(self, nums):\n",
    "        \"\"\"\n",
    "        :type nums: List[int]\n",
    "        :rtype: List[List[int]]\n",
    "        \"\"\"    \n",
    "        nums.sort()\n",
    "        subsets = [[]]\n",
    "        dic = {}\n",
    "        # start by adding the empty subset\n",
    "        for n in nums:\n",
    "        # we will take all existing subsets and insert the current number in them to create new subsets\n",
    "            for i in range(len(subsets)):\n",
    "              # create a new subset from the existing subset and insert the current element to it\n",
    "              # set = list(subsets[i])\n",
    "              # set.append(currentNumber)\n",
    "                tmp = subsets[i] + [n]\n",
    " \n",
    "                if tuple(tmp) not in dic:\n",
    "                    dic[tuple(tmp)] = 1\n",
    "                    subsets.append(tmp)\n",
    "                \n",
    "        return subsets"
   ]
  },
  {
   "cell_type": "code",
   "execution_count": 13,
   "metadata": {},
   "outputs": [
    {
     "name": "stdout",
     "output_type": "stream",
     "text": [
      "{1, 2}\n"
     ]
    },
    {
     "ename": "TypeError",
     "evalue": "unhashable type: 'set'",
     "output_type": "error",
     "traceback": [
      "\u001b[0;31m---------------------------------------------------------------------------\u001b[0m",
      "\u001b[0;31mTypeError\u001b[0m                                 Traceback (most recent call last)",
      "\u001b[0;32m<ipython-input-13-08144693518c>\u001b[0m in \u001b[0;36m<module>\u001b[0;34m\u001b[0m\n\u001b[1;32m      2\u001b[0m \u001b[0mtmp\u001b[0m \u001b[0;34m=\u001b[0m \u001b[0mset\u001b[0m\u001b[0;34m(\u001b[0m\u001b[0;34m[\u001b[0m\u001b[0;36m1\u001b[0m\u001b[0;34m,\u001b[0m\u001b[0;36m2\u001b[0m\u001b[0;34m]\u001b[0m\u001b[0;34m)\u001b[0m\u001b[0;34m\u001b[0m\u001b[0;34m\u001b[0m\u001b[0m\n\u001b[1;32m      3\u001b[0m \u001b[0mprint\u001b[0m\u001b[0;34m(\u001b[0m\u001b[0mtmp\u001b[0m\u001b[0;34m)\u001b[0m\u001b[0;34m\u001b[0m\u001b[0;34m\u001b[0m\u001b[0m\n\u001b[0;32m----> 4\u001b[0;31m \u001b[0;32mif\u001b[0m \u001b[0mtmp\u001b[0m \u001b[0;32min\u001b[0m \u001b[0mdic\u001b[0m\u001b[0;34m:\u001b[0m\u001b[0;34m\u001b[0m\u001b[0;34m\u001b[0m\u001b[0m\n\u001b[0m\u001b[1;32m      5\u001b[0m     \u001b[0mprint\u001b[0m\u001b[0;34m(\u001b[0m\u001b[0;36m1\u001b[0m\u001b[0;34m)\u001b[0m\u001b[0;34m\u001b[0m\u001b[0;34m\u001b[0m\u001b[0m\n",
      "\u001b[0;31mTypeError\u001b[0m: unhashable type: 'set'"
     ]
    }
   ],
   "source": [
    "dic = {(1,2):2}\n",
    "tmp = set([1,2])\n",
    "print(tmp)\n",
    "if tmp in dic:\n",
    "    print(1)"
   ]
  },
  {
   "cell_type": "code",
   "execution_count": 4,
   "metadata": {},
   "outputs": [
    {
     "ename": "TypeError",
     "evalue": "descriptor 'add' requires a 'set' object but received a 'list'",
     "output_type": "error",
     "traceback": [
      "\u001b[0;31m---------------------------------------------------------------------------\u001b[0m",
      "\u001b[0;31mTypeError\u001b[0m                                 Traceback (most recent call last)",
      "\u001b[0;32m<ipython-input-4-6e53d1607f83>\u001b[0m in \u001b[0;36m<module>\u001b[0;34m\u001b[0m\n\u001b[1;32m      1\u001b[0m \u001b[0ms\u001b[0m \u001b[0;34m=\u001b[0m \u001b[0mset\u001b[0m\u001b[0;34m(\u001b[0m\u001b[0;34m)\u001b[0m\u001b[0;34m\u001b[0m\u001b[0;34m\u001b[0m\u001b[0m\n\u001b[0;32m----> 2\u001b[0;31m \u001b[0mset\u001b[0m\u001b[0;34m.\u001b[0m\u001b[0madd\u001b[0m\u001b[0;34m(\u001b[0m\u001b[0;34m[\u001b[0m\u001b[0;36m1\u001b[0m\u001b[0;34m,\u001b[0m\u001b[0;36m2\u001b[0m\u001b[0;34m]\u001b[0m\u001b[0;34m)\u001b[0m\u001b[0;34m\u001b[0m\u001b[0;34m\u001b[0m\u001b[0m\n\u001b[0m",
      "\u001b[0;31mTypeError\u001b[0m: descriptor 'add' requires a 'set' object but received a 'list'"
     ]
    }
   ],
   "source": [
    "s = set()\n",
    "set.add([1,2])"
   ]
  },
  {
   "cell_type": "markdown",
   "metadata": {},
   "source": [
    "## 46. (2) Permutations (List, Recursion-Backtracking, Queue-Backtracking) (Amazon 7, Facebook 6)  \n",
    "O(n x n!)   \n",
    "O(N!)"
   ]
  },
  {
   "cell_type": "markdown",
   "metadata": {},
   "source": [
    "<img src=\"Screen Shot 2019-10-22 at 4.00.20 PM.png\">"
   ]
  },
  {
   "cell_type": "code",
   "execution_count": null,
   "metadata": {},
   "outputs": [],
   "source": [
    "class Solution:\n",
    "    def permute(self, nums):\n",
    "        result = []\n",
    "        queue = [[]]\n",
    "\n",
    "        for n in nums:\n",
    "            # we will take all existing permutations and add the current number to create new permutations\n",
    "\n",
    "            for i in range(len(queue)):\n",
    "                old = queue.pop(0)\n",
    "                # create a new permutation by adding the current number at every position\n",
    "#                 print(old)\n",
    "                for j in range(len(old)+1):\n",
    "                    new = old.copy()\n",
    "#                     print(new)\n",
    "                    new.insert(j, n)\n",
    "#                     print(new)\n",
    "                    if len(new) == len(nums):\n",
    "                        result.append(new)\n",
    "                    else:\n",
    "                        queue.append(new)\n",
    "\n",
    "        return result"
   ]
  },
  {
   "cell_type": "code",
   "execution_count": null,
   "metadata": {},
   "outputs": [],
   "source": [
    "class Solution:\n",
    "    def permute(self, nums):\n",
    "        \"\"\"\n",
    "        :type nums: List[int]\n",
    "        :rtype: List[List[int]]\n",
    "        \"\"\"\n",
    "        \n",
    "        def backtrack(nums, path):\n",
    "            if not nums:\n",
    "                res.append(path)\n",
    "                # return # backtracking\n",
    "            for i in range(len(nums)):\n",
    "                backtrack(nums[:i]+nums[i+1:], path+[nums[i]])\n",
    "\n",
    "        \n",
    "        res = []\n",
    "        dfs(nums, [])\n",
    "        return res"
   ]
  },
  {
   "cell_type": "code",
   "execution_count": null,
   "metadata": {},
   "outputs": [],
   "source": [
    "def generate_permutations(nums):\n",
    "    result = []\n",
    "    generate_permutations_recursive(nums, 0, [], result)\n",
    "    return result\n",
    "\n",
    "\n",
    "def backtrack(nums, index, currentPermutation, result):\n",
    "    if index == len(nums):\n",
    "        result.append(currentPermutation)\n",
    "    else:\n",
    "        # create a new permutation by adding the current number at every position\n",
    "        for i in range(len(currentPermutation)+1):\n",
    "            newPermutation = list(currentPermutation)\n",
    "            newPermutation.insert(i, nums[index])\n",
    "            backtrack(nums, index + 1, newPermutation, result)"
   ]
  },
  {
   "cell_type": "code",
   "execution_count": null,
   "metadata": {},
   "outputs": [],
   "source": [
    "class Solution:\n",
    "    def permute(self, nums):\n",
    "        \"\"\"\n",
    "        :type nums: List[int]\n",
    "        :rtype: List[List[int]]\n",
    "        \"\"\"\n",
    "        if not nums:\n",
    "            return [[]]\n",
    "        \n",
    "        \n",
    "        def backtrack(first):\n",
    "            # if all integers are used up\n",
    "            if first == len(nums):  \n",
    "                res.append(nums[:])\n",
    "                return\n",
    "                \n",
    "            for i in range(first, len(nums)):\n",
    "                # place i-th integer first \n",
    "                # in the current permutation\n",
    "                nums[first], nums[i] = nums[i], nums[first]\n",
    "                # use next integers to complete the permutations\n",
    "                backtrack(first + 1)\n",
    "                # backtrack\n",
    "                nums[first], nums[i] = nums[i], nums[first]\n",
    "        \n",
    "        res = []\n",
    "        backtrack(0)\n",
    "        return res"
   ]
  },
  {
   "cell_type": "code",
   "execution_count": 4,
   "metadata": {},
   "outputs": [
    {
     "data": {
      "text/plain": [
       "[1, 2, 3, [4, 5, 6]]"
      ]
     },
     "execution_count": 4,
     "metadata": {},
     "output_type": "execute_result"
    }
   ],
   "source": [
    "nums = [1,2,3]\n",
    "nums2 = [4,5,6]\n",
    "nums.append(nums2)\n",
    "nums"
   ]
  },
  {
   "cell_type": "markdown",
   "metadata": {},
   "source": [
    "## Rhyme Schemes (Google Phone)"
   ]
  },
  {
   "cell_type": "code",
   "execution_count": 43,
   "metadata": {},
   "outputs": [
    {
     "name": "stdout",
     "output_type": "stream",
     "text": [
      "['AA', 'AB']\n"
     ]
    }
   ],
   "source": [
    "def find_rythm(n):\n",
    "    ans = []\n",
    "    def backtrack(rythm = ''):\n",
    "        if len(rythm) == n:\n",
    "            convert = ''\n",
    "            for c in rythm:\n",
    "                convert += chr(int(c)+64)\n",
    "            ans.append(convert)\n",
    "            return\n",
    "        \n",
    "        max_val = 1 + max([int(num) for num in rythm]) if rythm else 1\n",
    "        \n",
    "#         max_val = max([int(num) for num in rythm] or [0])+1\n",
    "        for i in range(1, max_val + 1):\n",
    "            backtrack(rythm + str(i))\n",
    "            \n",
    "    backtrack()\n",
    "    return ans\n",
    "\n",
    "print(find_rythm(2))"
   ]
  },
  {
   "cell_type": "code",
   "execution_count": 33,
   "metadata": {},
   "outputs": [
    {
     "data": {
      "text/plain": [
       "49"
      ]
     },
     "execution_count": 33,
     "metadata": {},
     "output_type": "execute_result"
    }
   ],
   "source": [
    "ord('1')"
   ]
  },
  {
   "cell_type": "markdown",
   "metadata": {},
   "source": [
    "## 93. Restore IP Addresses (String. Recursion-Backtracking) (Microsoft 4, Amazon 3)  \n",
    "O(2^N)  \n",
    "O(1)"
   ]
  },
  {
   "cell_type": "code",
   "execution_count": null,
   "metadata": {},
   "outputs": [],
   "source": [
    "class Solution:\n",
    "    def restoreIpAddresses(self, s):\n",
    "        \"\"\"\n",
    "        :type s: str\n",
    "        :rtype: List[str]\n",
    "        \"\"\"\n",
    "        if len(s) > 12 or len(s) < 4:\n",
    "            return []\n",
    "\n",
    "        def isValid(ip):\n",
    "            if ip.count('.') != 3:\n",
    "                return False\n",
    "            \n",
    "            array = ip.split('.')\n",
    "            for num in array:\n",
    "                if not num or int(num) > 255 or (len(num) > 1 and num[0] == '0'):\n",
    "                    return False\n",
    "            return True\n",
    "\n",
    "        res = []\n",
    "        def backtrack(cur, idx, cnt):\n",
    "            if cnt == 3:\n",
    "                if isValid(cur):\n",
    "                    res.append(cur)\n",
    "                return\n",
    "            \n",
    "            if idx > len(cur) - 1:\n",
    "                return\n",
    "            \n",
    "            backtrack(cur[:idx] + '.' + cur[idx:], idx + 2, cnt+1)\n",
    "            backtrack(cur, idx+1, cnt)\n",
    "\n",
    "        backtrack(s, 0, 0)\n",
    "        return res"
   ]
  },
  {
   "cell_type": "markdown",
   "metadata": {},
   "source": [
    "## 805. Split Array With Same Average (List, Recursion-Backtracking) (Microsoft 2) (Hard)"
   ]
  },
  {
   "cell_type": "code",
   "execution_count": null,
   "metadata": {},
   "outputs": [],
   "source": [
    "class Solution:\n",
    "    def splitArraySameAverage(self, nums):\n",
    "        \"\"\"\n",
    "        :type nums: List[int]\n",
    "        :rtype: bool\n",
    "        \"\"\"      \n",
    "        nums.sort()\n",
    "        ''' \n",
    "\t\t从数组nums中，找到k个数之和等于target的可能性\n",
    "\t\tcombination sum II 或者 k sum那两道题的简易版\n",
    "        '''\n",
    "        def dfs(nums, k, target, index):\n",
    "            if not k and not target:\n",
    "                return True\n",
    "\n",
    "            if not k or target < 0:\n",
    "                return False\n",
    "\n",
    "            for i in range(index, len(nums)):\n",
    "                if i > index and nums[i] == nums[i -1]:\n",
    "                    continue\n",
    "\n",
    "                if target < nums[i] * k or target > nums[-1] * k:\n",
    "                    break\n",
    "\n",
    "                if dfs(nums, k - 1, target - nums[i], i + 1):\n",
    "                    return True\n",
    "\n",
    "            return False\n",
    "        \n",
    "        '''个数不会超过数组总个数的一半 + 1'''\n",
    "        for i in range(1, len(nums) // 2 + 1):\n",
    "            '''i个数 x sum（nums） ==  i个数之和 x len(nums)\n",
    "             所以 sum（nums） x i ➗ len(nums) == i个数之和 必然是整数'''\n",
    "            if sum(nums) * i % len(nums):\n",
    "                continue\n",
    "                 \n",
    "            ''' 从数组nums中，找到k个数之和等于target的可能性'''\n",
    "            if dfs(nums, i, sum(nums) * i // len(nums), 0):\n",
    "                return True\n",
    "        \n",
    "        return False    "
   ]
  },
  {
   "cell_type": "markdown",
   "metadata": {},
   "source": [
    "## 79. Word Search (String Matrix, Recursion-Backtracking) (Amazon 15, Microsoft 8, Uber 7, Facebook 7)\n",
    "\n",
    "O(m*n)  \n",
    "O(1)"
   ]
  },
  {
   "cell_type": "code",
   "execution_count": null,
   "metadata": {},
   "outputs": [],
   "source": [
    "class Solution:\n",
    "    def exist(self, matrix, word):\n",
    "        \"\"\"\n",
    "        :type board: List[List[str]]\n",
    "        :type word: str\n",
    "        :rtype: bool\n",
    "        \"\"\"\n",
    "        if not matrix:\n",
    "            return False\n",
    "        if not word:\n",
    "            return True\n",
    "\n",
    "        def backtrack(i, j, idx = 0):\n",
    "            if i < 0 or i > len(matrix) - 1 or j < 0 or j > len(matrix[0]) - 1 or matrix[i][j] != word[idx]:\n",
    "                return False\n",
    "            \n",
    "            if idx == len(word) - 1:\n",
    "                return True\n",
    "            \n",
    "            tmp = matrix[i][j]\n",
    "            matrix[i][j] = '*'\n",
    "            res = backtrack(i+1, j, idx+1) or \\\n",
    "                  backtrack(i, j+1, idx+1) or \\\n",
    "                  backtrack(i-1, j, idx+1) or \\\n",
    "                  backtrack(i, j-1, idx+1)\n",
    "            matrix[i][j] = tmp\n",
    "            return res\n",
    "        \n",
    "        for i in range(len(matrix)):\n",
    "            for j in range(len(matrix[0])):\n",
    "                if backtrack(i, j):\n",
    "                    return True\n",
    "        return False"
   ]
  },
  {
   "cell_type": "code",
   "execution_count": null,
   "metadata": {},
   "outputs": [],
   "source": [
    "def exist(self, board, word):\n",
    "    if not board:\n",
    "        return False\n",
    "    for i in xrange(len(board)):\n",
    "        for j in xrange(len(board[0])):\n",
    "            if self.dfs(board, i, j, word):\n",
    "                return True\n",
    "    return False\n",
    "\n",
    "# check whether can find word, start at (i,j) position    \n",
    "def dfs(self, board, i, j, word):\n",
    "    if len(word) == 0: # all the characters are checked\n",
    "        return True\n",
    "    if i<0 or i>=len(board) or j<0 or j>=len(board[0]) or word[0]!=board[i][j]:\n",
    "        return False\n",
    "    tmp = board[i][j]  # first character is found, check the remaining part\n",
    "    board[i][j] = \"#\"  # avoid visit agian \n",
    "    # check whether can find \"word\" along one direction\n",
    "    res = self.dfs(board, i+1, j, word[1:]) or self.dfs(board, i-1, j, word[1:]) \\\n",
    "    or self.dfs(board, i, j+1, word[1:]) or self.dfs(board, i, j-1, word[1:])\n",
    "    board[i][j] = tmp\n",
    "    return res"
   ]
  },
  {
   "cell_type": "markdown",
   "metadata": {},
   "source": [
    "## 212. Word Search II (String Matrix, Recursion-Backtracking) (Amazon 13, Uber 5) (Hard)\n",
    "\n",
    "时间复杂度: O(row * col * max_len(words))  \n",
    "空间复杂度: O(N) length of words"
   ]
  },
  {
   "cell_type": "code",
   "execution_count": 15,
   "metadata": {},
   "outputs": [],
   "source": [
    "class Solution:\n",
    "    def findWords(self, board, words):\n",
    "        \"\"\"\n",
    "        :type board: List[List[str]]\n",
    "        :type words: List[str]\n",
    "        :rtype: List[str]\n",
    "        \"\"\"\n",
    "        if not board or not words:\n",
    "            return\n",
    "\n",
    "        # build trie \n",
    "        trie = {}\n",
    "        for word in words:\n",
    "            t = trie\n",
    "            for c in word:\n",
    "                if c not in t:\n",
    "                    t[c] = {}\n",
    "                t = t[c]\n",
    "            t['#'] = '#'\n",
    "#         print('trie=',trie)\n",
    "\n",
    "        def backtrack(i, j, trie, path):\n",
    "            if '#' in trie:\n",
    "                res.add(path)\n",
    "            \n",
    "            if if i >= 0 and i < m and j >= 0 and j < n and board[i][j] in trie:\n",
    "                c = board[i][j]\n",
    "                board[i][j] = '*' # backtracking\n",
    "                backtrack(i + 1, j, trie[c], path + c)\n",
    "                backtrack(i - 1, j, trie[c], path + c)\n",
    "                backtrack(i, j + 1, trie[c], path + c)\n",
    "                backtrack(i, j - 1, trie[c], path + c)\n",
    "                board[i][j] = c\n",
    "        \n",
    "        res = set()\n",
    "        for i in range(len(board)):\n",
    "            for j in range(len(board[0])):\n",
    "                backtrack(i, j, trie, '')\n",
    "        return list(res)"
   ]
  },
  {
   "cell_type": "code",
   "execution_count": 16,
   "metadata": {},
   "outputs": [
    {
     "name": "stdout",
     "output_type": "stream",
     "text": [
      "trie= {'o': {'a': {'t': {'h': {'#': '#'}}}}, 'p': {'e': {'a': {'#': '#'}}}, 'e': {'a': {'t': {'#': '#'}}}, 'r': {'a': {'i': {'n': {'#': '#'}}}}}\n"
     ]
    },
    {
     "data": {
      "text/plain": [
       "['oath', 'eat']"
      ]
     },
     "execution_count": 16,
     "metadata": {},
     "output_type": "execute_result"
    }
   ],
   "source": [
    "board = [\n",
    "  ['o','a','a','n'],\n",
    "  ['e','t','a','e'],\n",
    "  ['i','h','k','r'],\n",
    "  ['i','f','l','v']\n",
    "]\n",
    "words = [\"oath\",\"pea\",\"eat\",\"rain\"]\n",
    "s = Solution()\n",
    "s.findWords(board, words)"
   ]
  },
  {
   "cell_type": "markdown",
   "metadata": {},
   "source": [
    "## 200. Number of Island (String Matrix, Recursion-Backtracking) (Amazon 75, Google 15, Microsoft 12)\n",
    "\n",
    "O(N*M)  \n",
    "O(1)"
   ]
  },
  {
   "cell_type": "code",
   "execution_count": null,
   "metadata": {},
   "outputs": [],
   "source": [
    "class Solution:\n",
    "    def numIslands(self, matrix):\n",
    "        \"\"\"\n",
    "        :type grid: List[List[str]]\n",
    "        :rtype: int\n",
    "        \"\"\"\n",
    "        \n",
    "        if not matrix:\n",
    "            return 0\n",
    "\n",
    "        def backtrack(i, j):\n",
    "            if i < 0 or i > len(matrix) - 1 or j < 0 or j > len(matrix[0]) - 1 or matrix[i][j] != '1':\n",
    "                return\n",
    "        \n",
    "            matrix[i][j] = '#'\n",
    "            backtrack(i+1, j)\n",
    "            backtrack(i-1, j)\n",
    "            backtrack(i, j+1)\n",
    "            backtrack(i, j-1)\n",
    "        \n",
    "        res = 0\n",
    "        for i in range(len(matrix)):\n",
    "            for j in range(len(matrix[0])):\n",
    "                if matrix[i][j] == '1':\n",
    "                    backtrack(i, j)\n",
    "                    res += 1\n",
    "        return res"
   ]
  },
  {
   "cell_type": "code",
   "execution_count": 71,
   "metadata": {},
   "outputs": [
    {
     "name": "stdout",
     "output_type": "stream",
     "text": [
      "4\n",
      "1\n",
      "1\n",
      "0\n",
      "0\n",
      "0\n",
      "1\n",
      "1\n",
      "0\n",
      "0\n",
      "0\n",
      "0\n",
      "0\n",
      "1\n",
      "0\n",
      "0\n",
      "0\n",
      "0\n",
      "0\n",
      "1\n",
      "1\n"
     ]
    }
   ],
   "source": [
    "grid = [[1,1,0,0,0],\n",
    "        [1,1,0,0,0],\n",
    "        [0,0,1,0,0],\n",
    "        [0,0,0,1,1]]\n",
    "\n",
    "print(len(grid))\n",
    "\n",
    "for i in range(len(grid)):\n",
    "    for j in range(len(grid[0])):\n",
    "        print(grid[i][j])"
   ]
  },
  {
   "cell_type": "markdown",
   "metadata": {},
   "source": [
    "## 130. Surrounded Regions (String Matrix, Recursion-Backtracking) (Google 2, Uber 2)"
   ]
  },
  {
   "cell_type": "code",
   "execution_count": null,
   "metadata": {},
   "outputs": [],
   "source": [
    "# 因为boundary上的'O'肯定不会被包围\n",
    "# 主要思路就是对boundary上是'O'的元素进行DFS，然后只要碰到'O'就继续走下去，直到碰到'X'或者碰到boundary，然后将这些'O'全部mark一下，即用'#'来替代，\n",
    "# 最后我们遍历整个board，如果是'#'就变回'O'，如果是'X'或者'O'就变成'X'。\n",
    "\n",
    "class Solution:\n",
    "    def solve(self, board):\n",
    "        \"\"\"\n",
    "        :type board: List[List[str]]\n",
    "        :rtype: void Do not return anything, modify board in-place instead.\n",
    "        \"\"\"\n",
    "        \n",
    "        if not board:\n",
    "            return\n",
    "        \n",
    "        def backtrack(i, j):\n",
    "            # 退出dfs的条件：1.走到boundary；2.遇到'X'\n",
    "            if i < 0 or i > row - 1 or j < 0 or j > col - 1 or board[i][j] != 'O': \n",
    "                return \n",
    "            board[i][j] = '#' # 表示该元素已被访问\n",
    "            backtrack(i - 1, j)\n",
    "            backtrack(i + 1, j)\n",
    "            backtrack(i, j - 1)\n",
    "            backtrack(i, j + 1)\n",
    "        \n",
    "        row = len(board)\n",
    "        col = len(board[0]) \n",
    "        \n",
    "        for i in range(row):\n",
    "            for j in range(col):\n",
    "                if i == 0 or j == 0 or i == row - 1 or j == col - 1: # 点在boundary上\n",
    "                    if board[i][j] == 'O': # 如果boundary上的元素为O,则进行dfs\n",
    "                        backtrack(i, j)\n",
    "                        \n",
    "        for i in range(row):\n",
    "            for j in range(col):\n",
    "                if board[i][j] == '#':\n",
    "                    board[i][j] = 'O'\n",
    "                else:\n",
    "                    board[i][j] = 'X'"
   ]
  },
  {
   "cell_type": "markdown",
   "metadata": {},
   "source": [
    "## 329. Longest Increasing Path in a Matrix (Matrix, DP, Recursion-Backtracking) (Google 4, Facebook 4)\n",
    "O(m*n)  \n",
    "O(m*n)"
   ]
  },
  {
   "cell_type": "code",
   "execution_count": 29,
   "metadata": {},
   "outputs": [],
   "source": [
    "class Solution:\n",
    "    def longestIncreasingPath(self, matrix):\n",
    "        \"\"\"\n",
    "        :type matrix: List[List[int]]\n",
    "        :rtype: int\n",
    "        \"\"\"\n",
    "        if not matrix: \n",
    "            return 0\n",
    "        \n",
    "        def dfs(i, j):\n",
    "            \n",
    "            \n",
    "            if not dp[i][j]:                \n",
    "                dp[i][j] = 1 + max(\n",
    "                    backtrack(i - 1, j) if i > 0 and matrix[i][j] > matrix[i - 1][j] else 0,\n",
    "                    backtrack(i + 1, j) if i < m - 1 and matrix[i][j] > matrix[i + 1][j] else 0,\n",
    "                    backtrack(i, j - 1) if j > 0 and matrix[i][j] > matrix[i][j - 1] else 0,\n",
    "                    backtrack(i, j + 1) if j < n - 1 and matrix[i][j] > matrix[i][j + 1] else 0)\n",
    "            \n",
    "            return dp[i][j]\n",
    "        \n",
    "        m = len(matrix)\n",
    "        n = len(matrix[0])\n",
    "        dp = [[0] * n for i in range(m)]\n",
    "#         print('dp=',dp)\n",
    "        \n",
    "        res = []\n",
    "        for i in range(m):\n",
    "            for j in range(n):\n",
    "                res.append(backtrack(i, j))\n",
    "        return max(res)"
   ]
  },
  {
   "cell_type": "code",
   "execution_count": 30,
   "metadata": {},
   "outputs": [
    {
     "name": "stdout",
     "output_type": "stream",
     "text": [
      "dp= [[0, 0, 0], [0, 0, 0], [0, 0, 0]]\n"
     ]
    },
    {
     "data": {
      "text/plain": [
       "4"
      ]
     },
     "execution_count": 30,
     "metadata": {},
     "output_type": "execute_result"
    }
   ],
   "source": [
    "s = Solution()\n",
    "\n",
    "matrix = [\n",
    "  [9,9,4],\n",
    "  [6,6,8],\n",
    "  [2,1,1]\n",
    "] \n",
    "\n",
    "s.longestIncreasingPath(matrix)"
   ]
  },
  {
   "cell_type": "markdown",
   "metadata": {},
   "source": [
    "51. N-Queens"
   ]
  },
  {
   "cell_type": "markdown",
   "metadata": {},
   "source": [
    "## 947. Most Stones Removed with Same Row or Column (Matrix, Recursion-Backtracking) (Google 8)\n",
    "O(MN)  \n",
    "O(MN)\n",
    "https://www.jianshu.com/p/30d2058db7f7"
   ]
  },
  {
   "cell_type": "code",
   "execution_count": 28,
   "metadata": {},
   "outputs": [],
   "source": [
    "import collections\n",
    "class Solution:\n",
    "    def removeStones(self, points):\n",
    "        \"\"\"\n",
    "        :type stones: List[List[int]]\n",
    "        :rtype: int\n",
    "        \"\"\"\n",
    "        \n",
    "        index = collections.defaultdict(set)\n",
    "        for i, j in points:\n",
    "            index[i].add(j + 10000)\n",
    "            index[j + 10000].add(i)\n",
    "\n",
    "        print(index)    \n",
    "\n",
    "        def backtrack(i):\n",
    "            seen.add(i)\n",
    "            for j in index[i]:\n",
    "                if j not in seen:\n",
    "                    backtrack(j)\n",
    "\n",
    "        seen = set()\n",
    "        islands = 0\n",
    "        for i, j in points:\n",
    "            if i not in seen:\n",
    "                islands += 1\n",
    "                backtrack(i)\n",
    "                backtrack(j + 10000)\n",
    "        return len(points) - islands"
   ]
  },
  {
   "cell_type": "code",
   "execution_count": 29,
   "metadata": {},
   "outputs": [
    {
     "name": "stdout",
     "output_type": "stream",
     "text": [
      "defaultdict(<class 'set'>, {0: {10000, 10001}, 10000: {0, 1}, 10001: {0, 2}, 1: {10000, 10002}, 10002: {1, 2}, 2: {10001, 10002}})\n"
     ]
    },
    {
     "data": {
      "text/plain": [
       "5"
      ]
     },
     "execution_count": 29,
     "metadata": {},
     "output_type": "execute_result"
    }
   ],
   "source": [
    "s = Solution()\n",
    "stones = [[0,0],[0,1],[1,0],[1,2],[2,1],[2,2]]\n",
    "s.removeStones(stones)"
   ]
  },
  {
   "cell_type": "markdown",
   "metadata": {},
   "source": [
    "## 529. Minesweeper (Uber 10, Amazon 4, Microsoft 3)"
   ]
  },
  {
   "cell_type": "code",
   "execution_count": null,
   "metadata": {},
   "outputs": [],
   "source": [
    "class Solution:\n",
    "    def updateBoard(self, board, click):\n",
    "        \"\"\"\n",
    "        :type board: List[List[str]]\n",
    "        :type click: List[int]\n",
    "        :rtype: List[List[str]]\n",
    "        \"\"\"\n",
    "        if not board:\n",
    "            return []\n",
    "\n",
    "        m, n = len(board), len(board[0])\n",
    "        i, j = click[0], click[1]\n",
    "\n",
    "        # If a mine ('M') is revealed, then the game is over - change it to 'X'.\n",
    "        if board[i][j] == 'M':\n",
    "            board[i][j] = 'X'\n",
    "            return board\n",
    "\n",
    "        \n",
    "        def dfs(board, i, j):\n",
    "            if board[i][j] != 'E':\n",
    "                return\n",
    "\n",
    "            m, n = len(board), len(board[0])       \n",
    "            directions = [(-1,-1), (0,-1), (1,-1), (1,0), (1,1), (0,1), (-1,1), (-1,0)]\n",
    "\n",
    "            mine_count = 0\n",
    "\n",
    "            for d in directions:\n",
    "                ni, nj = i + d[0], j + d[1]\n",
    "                if 0 <= ni < m and 0 <= nj < n and board[ni][nj] == 'M':        \n",
    "                    mine_count += 1\n",
    "\n",
    "            if mine_count == 0:\n",
    "                board[i][j] = 'B'\n",
    "            else:\n",
    "                board[i][j] = str(mine_count)\n",
    "                return\n",
    "\n",
    "            for d in directions:\n",
    "                ni, nj = i + d[0], j + d[1]\n",
    "                if 0 <= ni < m and 0 <= nj < n:\n",
    "                    dfs(board, ni, nj)\n",
    "        \n",
    "        # run dfs to reveal the board\n",
    "        self.dfs(board, i, j)\n",
    "        return board "
   ]
  },
  {
   "cell_type": "markdown",
   "metadata": {},
   "source": [
    "## 489. Robot Room Cleaner (DFS, Recursion) (Facebook 6, Google 5) (Hard)\n",
    "\n"
   ]
  },
  {
   "cell_type": "code",
   "execution_count": null,
   "metadata": {},
   "outputs": [],
   "source": [
    "# \"\"\"\n",
    "# This is the robot's control interface.\n",
    "# You should not implement it, or speculate about its implementation\n",
    "# \"\"\"\n",
    "#class Robot:\n",
    "#    def move(self):\n",
    "#        \"\"\"\n",
    "#        Returns true if the cell in front is open and robot moves into the cell.\n",
    "#        Returns false if the cell in front is blocked and robot stays in the current cell.\n",
    "#        :rtype bool\n",
    "#        \"\"\"\n",
    "#\n",
    "#    def turnLeft(self):\n",
    "#        \"\"\"\n",
    "#        Robot will stay in the same cell after calling turnLeft/turnRight.\n",
    "#        Each turn will be 90 degrees.\n",
    "#        :rtype void\n",
    "#        \"\"\"\n",
    "#\n",
    "#    def turnRight(self):\n",
    "#        \"\"\"\n",
    "#        Robot will stay in the same cell after calling turnLeft/turnRight.\n",
    "#        Each turn will be 90 degrees.\n",
    "#        :rtype void\n",
    "#        \"\"\"\n",
    "#\n",
    "#    def clean(self):\n",
    "#        \"\"\"\n",
    "#        Clean the current cell.\n",
    "#        :rtype void\n",
    "#        \"\"\"\n",
    "\n",
    "class Solution:\n",
    "    def cleanRoom(self, robot):\n",
    "        \"\"\"\n",
    "        :type robot: Robot\n",
    "        :rtype: None\n",
    "        \"\"\"\n",
    "        \n",
    "        def dfs(robot, x = 0, y = 0, direct_x = 0, direct_y = 1, visited = set()):\n",
    "            \n",
    "            robot.clean()\n",
    "            visited.add((x, y))\n",
    "\n",
    "            for k in range(4):\n",
    "                next_x = x + direct_x\n",
    "                next_y = y + direct_y\n",
    "                if (next_x, next_y) not in visited and robot.move():\n",
    "                    dfs(robot, next_x, next_y, direct_x, direct_y, visited)\n",
    "                    robot.turnLeft()\n",
    "                    robot.turnLeft()\n",
    "                    robot.move()\n",
    "                    robot.turnLeft()\n",
    "                    robot.turnLeft()\n",
    "                    \n",
    "                robot.turnLeft()\n",
    "                direct_x, direct_y = -direct_y, direct_x\n",
    "        \n",
    "        dfs(robot)"
   ]
  },
  {
   "cell_type": "markdown",
   "metadata": {},
   "source": [
    "## 733. Flood Fill (DFS-Recursion) (Amazon 8)\n",
    "\n",
    "O(N)  \n",
    "O(N)"
   ]
  },
  {
   "cell_type": "code",
   "execution_count": null,
   "metadata": {},
   "outputs": [],
   "source": [
    "class Solution(object):\n",
    "    def floodFill(self, image, sr, sc, newColor):\n",
    "        m, n = len(image), len(image[0])\n",
    "        color = image[sr][sc]\n",
    "        if color == newColor: \n",
    "            return image\n",
    "        \n",
    "        def dfs(r, c):\n",
    "            if image[r][c] == color:\n",
    "                image[r][c] = newColor\n",
    "                if r >= 1: \n",
    "                    dfs(r-1, c)\n",
    "                if r+1 < m: \n",
    "                    dfs(r+1, c)\n",
    "                if c >= 1: \n",
    "                    dfs(r, c-1)\n",
    "                if c+1 < n: \n",
    "                    dfs(r, c+1)\n",
    "\n",
    "        dfs(sr, sc)\n",
    "        return image"
   ]
  },
  {
   "cell_type": "markdown",
   "metadata": {
    "toc-hr-collapsed": false
   },
   "source": [
    "## 675. Cut Off Trees for Golf Event (BFS-Iteration) (Amazon 6) (Hard)\n"
   ]
  },
  {
   "cell_type": "code",
   "execution_count": null,
   "metadata": {},
   "outputs": [],
   "source": [
    "from collections import deque\n",
    "\n",
    "class Solution:\n",
    "    def cutOffTree(self, forest):\n",
    "        trees = sorted((v, r, c) for r, row in enumerate(forest)\n",
    "                       for c, v in enumerate(row) if v > 1)\n",
    "        sr = sc = ans = 0\n",
    "        \n",
    "        def bfs(forest, sr, sc, tr, tc):\n",
    "            R, C = len(forest), len(forest[0])\n",
    "            queue = deque([(sr, sc, 0)])\n",
    "            seen = {(sr, sc)}\n",
    "            while queue:\n",
    "                r, c, d = queue.popleft()\n",
    "                if r == tr and c == tc:\n",
    "                    return d\n",
    "                for nr, nc in ((r-1, c), (r+1, c), (r, c-1), (r, c+1)):\n",
    "                    if (0 <= nr < R and 0 <= nc < C and\n",
    "                            (nr, nc) not in seen and forest[nr][nc]):\n",
    "                        seen.add((nr, nc))\n",
    "                        queue.append((nr, nc, d+1))\n",
    "            return -1\n",
    "\n",
    "        \n",
    "        for _, tr, tc in trees:\n",
    "            d = bfs(forest, sr, sc, tr, tc)\n",
    "            if d < 0: \n",
    "                return -1\n",
    "            ans += d\n",
    "            sr, sc = tr, tc\n",
    "        return ans"
   ]
  }
 ],
 "metadata": {
  "kernelspec": {
   "display_name": "Python 3",
   "language": "python",
   "name": "python3"
  },
  "language_info": {
   "codemirror_mode": {
    "name": "ipython",
    "version": 3
   },
   "file_extension": ".py",
   "mimetype": "text/x-python",
   "name": "python",
   "nbconvert_exporter": "python",
   "pygments_lexer": "ipython3",
   "version": "3.6.8"
  },
  "toc-autonumbering": true
 },
 "nbformat": 4,
 "nbformat_minor": 2
}
