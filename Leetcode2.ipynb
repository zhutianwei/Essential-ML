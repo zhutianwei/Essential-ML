{
 "cells": [
  {
   "cell_type": "code",
   "execution_count": 5,
   "metadata": {},
   "outputs": [],
   "source": [
    "from IPython.core.interactiveshell import InteractiveShell\n",
    "InteractiveShell.ast_node_interactivity = \"all\""
   ]
  },
  {
   "cell_type": "markdown",
   "metadata": {},
   "source": [
    "### (18) (String) List. List, Matrix-DP. Recursion-DP O(N) O(N)"
   ]
  },
  {
   "cell_type": "markdown",
   "metadata": {},
   "source": [
    "## 509. Fibonacci Number (Amazon 2, Microsoft 2)"
   ]
  },
  {
   "cell_type": "markdown",
   "metadata": {},
   "source": [
    "Bottom-Up Approach using Memoization  \n",
    "O(N)  \n",
    "O(N)"
   ]
  },
  {
   "cell_type": "code",
   "execution_count": null,
   "metadata": {},
   "outputs": [],
   "source": [
    "class Solution:\n",
    "    def fib(self, n):\n",
    "        \"\"\"\n",
    "        :type n: int\n",
    "        :rtype: int\n",
    "        \"\"\"\n",
    "        \n",
    "        if n <= 1:\n",
    "            return n\n",
    "    \n",
    "#         cache = {0: 0, \n",
    "#                  1: 1}\n",
    "        \n",
    "        dp = [0, 1] + [0] * n\n",
    "        # Since range is exclusive and we want to include N, we need to put N+1.\n",
    "        for i in range(2, n+1):\n",
    "            dp[i] = dp[i-1] + dp[i-2]\n",
    "\n",
    "        return dp[n]"
   ]
  },
  {
   "cell_type": "markdown",
   "metadata": {},
   "source": [
    "Top-Down Approach using Memoization"
   ]
  },
  {
   "cell_type": "code",
   "execution_count": 64,
   "metadata": {},
   "outputs": [],
   "source": [
    "class Solution:    \n",
    "    def fib(self, n):\n",
    "        \"\"\"\n",
    "        :type n: int\n",
    "        :rtype: int\n",
    "        \"\"\"\n",
    "        dic = {0: 0,\n",
    "               1: 1}\n",
    "        \n",
    "        def dp(n): \n",
    "#             if n <= 1:\n",
    "#                 return n\n",
    "\n",
    "            if n in dic:\n",
    "                return dic[n]\n",
    "\n",
    "            dic[n] = dp(n-1) + dp(n-2)\n",
    "            return dic[n]\n",
    "        \n",
    "        return dp(n)"
   ]
  },
  {
   "cell_type": "code",
   "execution_count": 65,
   "metadata": {},
   "outputs": [
    {
     "data": {
      "text/plain": [
       "13"
      ]
     },
     "execution_count": 65,
     "metadata": {},
     "output_type": "execute_result"
    }
   ],
   "source": [
    "s = Solution()\n",
    "s.fib(7)"
   ]
  },
  {
   "cell_type": "code",
   "execution_count": 75,
   "metadata": {},
   "outputs": [],
   "source": [
    "class Solution:        \n",
    "    def countBinStry(self, n):\n",
    "        \"\"\"\n",
    "        :type n: int\n",
    "        :rtype: int\n",
    "        \"\"\"\n",
    "        dic = {0: 0, \n",
    "               1: 1}\n",
    "        \n",
    "        n += 2\n",
    "        \n",
    "        def fib(n):\n",
    "            \"\"\"\n",
    "            :type n: int\n",
    "            :rtype: int\n",
    "            \"\"\"\n",
    "#             if n <= 1:\n",
    "#                 return n\n",
    "\n",
    "            if n in dic:\n",
    "                return dic[n]\n",
    "\n",
    "            dic[n] = fib(n-1) + fib(n-2)\n",
    "            \n",
    "            return dic[n]\n",
    "        \n",
    "        return fib(n)"
   ]
  },
  {
   "cell_type": "code",
   "execution_count": 76,
   "metadata": {},
   "outputs": [
    {
     "data": {
      "text/plain": [
       "8"
      ]
     },
     "execution_count": 76,
     "metadata": {},
     "output_type": "execute_result"
    }
   ],
   "source": [
    "s = Solution()\n",
    "s.countBinStry(4)"
   ]
  },
  {
   "cell_type": "code",
   "execution_count": 14,
   "metadata": {},
   "outputs": [],
   "source": [
    "class Solution:\n",
    "    def fib(self, n):\n",
    "        \"\"\"\n",
    "        :type n: int\n",
    "        :rtype: int\n",
    "        \"\"\"\n",
    "        \n",
    "        if n <= 1:\n",
    "            return n\n",
    "        return self.fib(n-1) + self.fib(n-2)"
   ]
  },
  {
   "cell_type": "markdown",
   "metadata": {},
   "source": [
    "## 70. Climbing Stairs (Int) (Amazon 6)  \n",
    "O(N)  \n",
    "O(1)"
   ]
  },
  {
   "cell_type": "code",
   "execution_count": null,
   "metadata": {},
   "outputs": [],
   "source": [
    "# Recursion\n",
    "class Solution:\n",
    "    def climbStairs(self, n):\n",
    "        \"\"\"\n",
    "        :type n: int\n",
    "        :rtype: int\n",
    "        \"\"\"\n",
    "        \n",
    "        if n == 1: \n",
    "            return 1\n",
    "        if n == 2: \n",
    "            return 2\n",
    "        return self.climbStairs(n - 1) + self.climbStairs(n - 2)"
   ]
  },
  {
   "cell_type": "code",
   "execution_count": null,
   "metadata": {},
   "outputs": [],
   "source": [
    "# Bottom up. 时间复杂度: O(N)- 空间复杂度: O(N)\n",
    "class Solution:\n",
    "    def climbStairs(self, n):\n",
    "        \"\"\"\n",
    "        :type n: int\n",
    "        :rtype: int\n",
    "        \"\"\"\n",
    "        cache = [1] * (n+1)\n",
    "        for i in range(2, n+1):\n",
    "            cache[i] = cache[i-1] + cache[i-2]\n",
    "        return cache[n]"
   ]
  },
  {
   "cell_type": "code",
   "execution_count": null,
   "metadata": {},
   "outputs": [],
   "source": [
    "# Top down. 时间复杂度: O(N)- 空间复杂度: O(N)\n",
    "class Solution:            \n",
    "    def climbStairs(self, n):\n",
    "        \"\"\"\n",
    "        :type n: int\n",
    "        :rtype: int\n",
    "        \"\"\"\n",
    "        dic = {1: 1\n",
    "               2: 2}\n",
    "        \n",
    "        def dp(n):\n",
    "            if n in dic:\n",
    "                return dic[n]\n",
    "\n",
    "            dic[n] = dp(n-1) + dp(n-2)\n",
    "            return dic[n]\n",
    "        \n",
    "        return dp(n)"
   ]
  },
  {
   "cell_type": "code",
   "execution_count": null,
   "metadata": {},
   "outputs": [],
   "source": [
    "class Solution:\n",
    "    def climbStairs(self, n):\n",
    "        if n == 1: \n",
    "            return 1\n",
    "        res = [-1 for i in range(n)]\n",
    "        res[0], res[1] = 1, 2\n",
    "        \n",
    "        def dp(n, res):\n",
    "            if res[n] == -1:\n",
    "                res[n] = dp(n - 1, res) + dp(n - 2, res)\n",
    "            return res[n]\n",
    "        \n",
    "        return dp(n-1, res)\n",
    "        \n",
    "#     def dp(self, n, res):\n",
    "#         if res[n] == -1:\n",
    "#             res[n] = self.dp(n - 1, res) + self.dp(n - 2, res)\n",
    "#         return res[n]"
   ]
  },
  {
   "cell_type": "markdown",
   "metadata": {},
   "source": [
    "## 62. Unique Paths (Int, Matrix-DP) (Amazon 10)\n",
    "时间复杂度: O(m * n)- 空间复杂度: O(m * n)"
   ]
  },
  {
   "cell_type": "code",
   "execution_count": null,
   "metadata": {},
   "outputs": [],
   "source": [
    "class Solution:\n",
    "    def uniquePaths(self, m, n):\n",
    "        \"\"\"\n",
    "        :type m: int\n",
    "        :type n: int\n",
    "        :rtype: int\n",
    "        \"\"\"\n",
    "        if not m or not n:\n",
    "            return 0\n",
    "        \n",
    "        dp = [[1] * n for i in range(m)]\n",
    "        for i in range(1, m):\n",
    "            for j in range(1, n):\n",
    "                dp[i][j] = dp[i-1][j] + dp[i][j-1]\n",
    "        return dp[-1][-1]"
   ]
  },
  {
   "cell_type": "markdown",
   "metadata": {},
   "source": [
    "时间复杂度: O(m * n)- 空间复杂度: O(n)"
   ]
  },
  {
   "cell_type": "code",
   "execution_count": 36,
   "metadata": {},
   "outputs": [],
   "source": [
    "class Solution:\n",
    "    def uniquePaths(self, m, n):\n",
    "        \"\"\"\n",
    "        :type m: int\n",
    "        :type n: int\n",
    "        :rtype: int\n",
    "        \"\"\"\n",
    "        if m < 1 or n < 1:\n",
    "            return 0\n",
    "        dp = [1] * n\n",
    "        for i in range(1, m):\n",
    "            for j in range(1, n):\n",
    "                dp[j] += dp[j-1]\n",
    "        return dp[n-1]"
   ]
  },
  {
   "cell_type": "markdown",
   "metadata": {},
   "source": [
    "## 63. Unique Paths II (Amazon 4)"
   ]
  },
  {
   "cell_type": "markdown",
   "metadata": {},
   "source": [
    "## 5. Longest Palindromic Substring (String, Matrix-DP) (Amazon 93, Microsoft 15, Google 8)\n",
    "O(N^2)  \n",
    "O(N^2)  \n",
    "dp[i][j]表示i, j之间string是不是palindrome"
   ]
  },
  {
   "cell_type": "code",
   "execution_count": 27,
   "metadata": {},
   "outputs": [],
   "source": [
    "# DP\n",
    "class Solution:\n",
    "    def longestPalindrome(self, s):\n",
    "        \"\"\"\n",
    "        :type s: str\n",
    "        :rtype: str\n",
    "        \"\"\"\n",
    "        if len(s) <= 1:\n",
    "            return s\n",
    "\n",
    "        dp = [[False]*len(s) for i in range(len(s))]\n",
    "\n",
    "#         longest_l = 1\n",
    "        res = s[0]\n",
    "\n",
    "        for r in range(1, len(s)):\n",
    "            for l in range(r):\n",
    "                dp[l][r] = s[l] == s[r] and (r - l <= 2 or dp[l + 1][r - 1])\n",
    "#                 cur_len = r - l + 1\n",
    "#                 if cur_len > longest_l:\n",
    "#                     longest_l = cur_len\n",
    "                if dp[l][r] and r - l + 1 > len(res):\n",
    "                    res = s[l:r + 1]\n",
    "        for n in dp: \n",
    "            print(n)\n",
    "        return res"
   ]
  },
  {
   "cell_type": "code",
   "execution_count": 29,
   "metadata": {},
   "outputs": [
    {
     "name": "stdout",
     "output_type": "stream",
     "text": [
      "[False, False, True, False, True]\n",
      "[False, False, False, True, False]\n",
      "[False, False, False, False, True]\n",
      "[False, False, False, False, False]\n",
      "[False, False, False, False, False]\n"
     ]
    },
    {
     "data": {
      "text/plain": [
       "'ababa'"
      ]
     },
     "execution_count": 29,
     "metadata": {},
     "output_type": "execute_result"
    }
   ],
   "source": [
    "s = 'ababa'\n",
    "o = Solution()\n",
    "o.longestPalindrome(s)"
   ]
  },
  {
   "cell_type": "code",
   "execution_count": null,
   "metadata": {},
   "outputs": [],
   "source": [
    "# DP\n",
    "class Solution:\n",
    "    def longestPalindrome(self, s):\n",
    "        \"\"\"\n",
    "        :type s: str\n",
    "        :rtype: str\n",
    "        \"\"\"\n",
    "        \n",
    "        size = len(s)\n",
    "        if size <= 1:\n",
    "            return s\n",
    "        # 二维 dp 问题\n",
    "        # 状态：dp[l,r]: s[l:r] 包括 l，r ，表示的字符串是不是回文串\n",
    "        # 设置为 None 是为了方便调试，看清楚代码执行流程\n",
    "        dp = [[False for _ in range(size)] for _ in range(size)]\n",
    "\n",
    "        longest_l = 1\n",
    "        res = s[0]\n",
    "\n",
    "        # 因为只有 1 个字符的情况在最开始做了判断\n",
    "        # 左边界一定要比右边界小，因此右边界从 1 开始\n",
    "        for r in range(1, size):\n",
    "            for l in range(r):\n",
    "                # 状态转移方程：如果头尾字符相等并且中间也是回文\n",
    "                # 在头尾字符相等的前提下，如果收缩以后不构成区间（最多只有 1 个元素），直接返回 True 即可\n",
    "                # 否则要继续看收缩以后的区间的回文性\n",
    "                # 重点理解 or 的短路性质在这里的作用\n",
    "                if s[l] == s[r] and (r - l <= 2 or dp[l + 1][r - 1]):\n",
    "                    dp[l][r] = True\n",
    "                    cur_len = r - l + 1\n",
    "                    if cur_len > longest_l:\n",
    "                        longest_l = cur_len\n",
    "                        res = s[l:r + 1]\n",
    "            # 调试语句\n",
    "            # for item in dp:\n",
    "            #     print(item)\n",
    "            # prin\n",
    "        return res"
   ]
  },
  {
   "cell_type": "code",
   "execution_count": null,
   "metadata": {},
   "outputs": [],
   "source": [
    "class Solution:\n",
    "    def longestPalindrome(self, s):\n",
    "        \"\"\"\n",
    "        :type s: str\n",
    "        :rtype: str\n",
    "        \"\"\"\n",
    "        if not s:\n",
    "            return ''\n",
    "        \n",
    "        res = ''  # Memory to remember a palindrome\n",
    "        for i in range(len(s)):  # i = start, O = n\n",
    "            for j in range(len(s), i, -1):  # j = end, O = n^2\n",
    "                if len(res) >= j-i:  # To reduce time\n",
    "                    break\n",
    "                    \n",
    "                elif s[i:j] == s[i:j][::-1]:\n",
    "                    res = s[i:j]\n",
    "                    break\n",
    "        return res"
   ]
  },
  {
   "cell_type": "code",
   "execution_count": 180,
   "metadata": {},
   "outputs": [
    {
     "name": "stdout",
     "output_type": "stream",
     "text": [
      "babad\n",
      "baba\n",
      "bab\n",
      "ba\n",
      "b\n",
      "\n",
      "abad\n",
      "aba\n",
      "ab\n",
      "a\n",
      "\n",
      "bad\n",
      "ba\n",
      "b\n",
      "\n",
      "ad\n",
      "a\n",
      "\n",
      "d\n",
      "\n"
     ]
    }
   ],
   "source": [
    "s = 'babad'\n",
    "for i in range(len(s)):\n",
    "    for j in range(len(s),i,-1):\n",
    "#         print(i,j)\n",
    "        print(s[i:j])\n",
    "    print()"
   ]
  },
  {
   "cell_type": "markdown",
   "metadata": {},
   "source": [
    "## 300. Longest Increasing Subsequence (List, List-DP) (Amazon 6, Google 5, Microsoft 2)\n",
    "\n",
    "O(N^2)  \n",
    "O(N)  \n",
    "dp[i]表示列表i之前的最大长度"
   ]
  },
  {
   "cell_type": "code",
   "execution_count": 9,
   "metadata": {},
   "outputs": [],
   "source": [
    "class Solution:\n",
    "    def lengthOfLIS(self, nums):\n",
    "        \"\"\"\n",
    "        :type nums: List[int]\n",
    "        :rtype: int\n",
    "        \"\"\"\n",
    "        if not nums:\n",
    "            return 0\n",
    "        \n",
    "        dp = [1] * len(nums)\n",
    "        for r in range(1, len(nums)):\n",
    "            for l in range(r):\n",
    "                if nums[r] > nums[l]:\n",
    "                    dp[r] = max(dp[l]+1, dp[r])\n",
    "#                     print(f'dp[{i}]=', dp[i])\n",
    "#                     print(dp)\n",
    "                    \n",
    "        return max(dp)"
   ]
  },
  {
   "cell_type": "code",
   "execution_count": 10,
   "metadata": {},
   "outputs": [
    {
     "name": "stdout",
     "output_type": "stream",
     "text": [
      "dp[3]= 2\n",
      "[1, 1, 1, 2, 1, 1, 1, 1]\n",
      "dp[4]= 2\n",
      "[1, 1, 1, 2, 2, 1, 1, 1]\n",
      "dp[5]= 2\n",
      "[1, 1, 1, 2, 2, 2, 1, 1]\n",
      "dp[5]= 3\n",
      "[1, 1, 1, 2, 2, 3, 1, 1]\n",
      "dp[5]= 3\n",
      "[1, 1, 1, 2, 2, 3, 1, 1]\n",
      "dp[6]= 2\n",
      "[1, 1, 1, 2, 2, 3, 2, 1]\n",
      "dp[6]= 2\n",
      "[1, 1, 1, 2, 2, 3, 2, 1]\n",
      "dp[6]= 2\n",
      "[1, 1, 1, 2, 2, 3, 2, 1]\n",
      "dp[6]= 3\n",
      "[1, 1, 1, 2, 2, 3, 3, 1]\n",
      "dp[6]= 3\n",
      "[1, 1, 1, 2, 2, 3, 3, 1]\n",
      "dp[6]= 4\n",
      "[1, 1, 1, 2, 2, 3, 4, 1]\n",
      "dp[7]= 2\n",
      "[1, 1, 1, 2, 2, 3, 4, 2]\n",
      "dp[7]= 2\n",
      "[1, 1, 1, 2, 2, 3, 4, 2]\n",
      "dp[7]= 2\n",
      "[1, 1, 1, 2, 2, 3, 4, 2]\n",
      "dp[7]= 3\n",
      "[1, 1, 1, 2, 2, 3, 4, 3]\n",
      "dp[7]= 3\n",
      "[1, 1, 1, 2, 2, 3, 4, 3]\n",
      "dp[7]= 4\n",
      "[1, 1, 1, 2, 2, 3, 4, 4]\n"
     ]
    },
    {
     "data": {
      "text/plain": [
       "4"
      ]
     },
     "execution_count": 10,
     "metadata": {},
     "output_type": "execute_result"
    }
   ],
   "source": [
    "nums = [10,9,2,5,3,7,101,18]\n",
    "s = Solution()\n",
    "s.lengthOfLIS(nums)"
   ]
  },
  {
   "cell_type": "code",
   "execution_count": null,
   "metadata": {},
   "outputs": [],
   "source": [
    "# Dynamic programming + Dichotomy.\n",
    "class Solution:\n",
    "    def lengthOfLIS(self, nums):\n",
    "        tails = [0] * len(nums)\n",
    "        res = 0\n",
    "        \n",
    "        for num in nums:\n",
    "            i = 0\n",
    "            j = res\n",
    "            \n",
    "            while i < j:\n",
    "                m = (i + j) // 2\n",
    "                if tails[m] < num: \n",
    "                    i = m + 1 # 如果要求非严格递增，将此行 '<' 改为 '<=' 即可。\n",
    "                else: \n",
    "                    j = m\n",
    "            \n",
    "            tails[i] = num\n",
    "            \n",
    "            if j == res: \n",
    "                res += 1\n",
    "        return res\n"
   ]
  },
  {
   "cell_type": "markdown",
   "metadata": {},
   "source": [
    "## 516. Longest Palindromic Subsequence (String, List-DP) (Amazon 6, Linkedin 4, Microsoft 3)\n",
    "O(n^2)  \n",
    "O(n^2)  \n",
    "\n",
    "dp[i][j]表示i,j之间string的最长palindrome长度"
   ]
  },
  {
   "cell_type": "code",
   "execution_count": 19,
   "metadata": {},
   "outputs": [],
   "source": [
    "class Solution:\n",
    "    def longestPalindromeSubseq(self, s):\n",
    "        if not s:\n",
    "            return 0\n",
    "\n",
    "        if s == s[::-1]:\n",
    "            return len(s)\n",
    "\n",
    "        dp = [[0] * len(s) for i in range(len(s))]\n",
    "\n",
    "        for l in range(len(s)-1, -1, -1):   \n",
    "            dp[l][l] = 1\n",
    "            for r in range(l+1, len(s)):\n",
    "                if s[l] == s[r]:\n",
    "                    dp[l][r] = 2 + dp[l+1][r-1]            \n",
    "                else:\n",
    "                    dp[l][r] = max(dp[l+1][r], dp[l][r-1])\n",
    "                    \n",
    "        return dp[0][len(s)-1]"
   ]
  },
  {
   "cell_type": "code",
   "execution_count": 20,
   "metadata": {},
   "outputs": [
    {
     "name": "stdout",
     "output_type": "stream",
     "text": [
      "[1, 2, 3, 3, 4]\n",
      "[0, 1, 2, 2, 3]\n",
      "[0, 0, 1, 1, 3]\n",
      "[0, 0, 0, 1, 1]\n",
      "[0, 0, 0, 0, 1]\n"
     ]
    },
    {
     "data": {
      "text/plain": [
       "4"
      ]
     },
     "execution_count": 20,
     "metadata": {},
     "output_type": "execute_result"
    }
   ],
   "source": [
    "o = Solution()\n",
    "s= 'bbbab'\n",
    "o.longestPalindromeSubseq(s)\n"
   ]
  },
  {
   "cell_type": "markdown",
   "metadata": {},
   "source": [
    "## 10. Regular Expression Matching (String. Recursion-DP) (Facebook 8, Microsoft 7, Amazon 6) (Hard)"
   ]
  },
  {
   "cell_type": "markdown",
   "metadata": {},
   "source": [
    "dp[i][j]表示text[i:] pattern[j:]是不是match"
   ]
  },
  {
   "cell_type": "code",
   "execution_count": 32,
   "metadata": {},
   "outputs": [],
   "source": [
    "class Solution:\n",
    "#     def isMatch(self, s, p):\n",
    "#         dp = [[False] * (len(p) + 1) for _ in range(len(s) + 1)]\n",
    "\n",
    "#         dp[-1][-1] = True\n",
    "        \n",
    "#         for i in range(len(s), -1, -1):\n",
    "#             for j in range(len(p) - 1, -1, -1):\n",
    "#                 print(i,j)\n",
    "#                 first_match = i < len(s) and p[j] in {s[i], '.'}\n",
    "#                 if j+1 < len(p) and p[j+1] == '*':\n",
    "#                     dp[i][j] = dp[i][j+2] or first_match and dp[i+1][j]\n",
    "#                 else:\n",
    "                    \n",
    "#                     dp[i][j] = first_match and dp[i+1][j+1]\n",
    "                    \n",
    "#                     print(dp[i][j])\n",
    "\n",
    "#         return dp[0][0]\n",
    "    \n",
    "    # 带备忘录的递归\n",
    "    # Top Down\n",
    "    def isMatch(self, text, pattern):\n",
    "        \"\"\"\n",
    "        :type s: str\n",
    "        :type p: str\n",
    "        :rtype: bool\n",
    "        \"\"\"\n",
    "        \n",
    "        dic = {} # 备忘录\n",
    "        \n",
    "        def dp(i, j):\n",
    "            if (i, j) in dic: \n",
    "                return dic[(i, j)]\n",
    "            \n",
    "            if j == len(pattern): \n",
    "                return i == len(text)\n",
    "\n",
    "            first = i <= len(text) - 1 and (pattern[j] == text[i] or pattern[j] == '.')\n",
    "\n",
    "            if j <= len(pattern) - 2 and pattern[j + 1] == '*':\n",
    "                dic[(i, j)] = dp(i, j + 2) or first and dp(i + 1, j)\n",
    "            else:\n",
    "                dic[(i, j)] = first and dp(i + 1, j + 1)\n",
    "\n",
    "#             print(dic)\n",
    "            return dic[(i, j)]\n",
    "\n",
    "        return dp(0, 0)\n",
    "\n",
    "    # # 暴力递归\n",
    "    # def isMatch(text, pattern) -> bool:\n",
    "    #     if not pattern: return not text\n",
    "\n",
    "    #     first = bool(text) and pattern[0] in {text[0], '.'}\n",
    "\n",
    "    #     if len(pattern) >= 2 and pattern[1] == '*':\n",
    "    #         return isMatch(text, pattern[2:]) or \\\n",
    "    #                 first and isMatch(text[1:], pattern)\n",
    "    #     else:\n",
    "    #         return first and isMatch(text[1:], pattern[1:])"
   ]
  },
  {
   "cell_type": "code",
   "execution_count": 33,
   "metadata": {},
   "outputs": [
    {
     "name": "stdout",
     "output_type": "stream",
     "text": [
      "{(0, 4): False}\n",
      "{(0, 4): False, (1, 4): False}\n",
      "{(0, 4): False, (1, 4): False, (2, 4): True}\n",
      "{(0, 4): False, (1, 4): False, (2, 4): True, (2, 2): True}\n",
      "{(0, 4): False, (1, 4): False, (2, 4): True, (2, 2): True, (1, 2): True}\n",
      "{(0, 4): False, (1, 4): False, (2, 4): True, (2, 2): True, (1, 2): True, (0, 2): True}\n",
      "{(0, 4): False, (1, 4): False, (2, 4): True, (2, 2): True, (1, 2): True, (0, 2): True, (0, 0): True}\n"
     ]
    },
    {
     "data": {
      "text/plain": [
       "True"
      ]
     },
     "execution_count": 33,
     "metadata": {},
     "output_type": "execute_result"
    }
   ],
   "source": [
    "text = 'aab'\n",
    "pattern = 'c*a*b' \n",
    "\n",
    "s= Solution()\n",
    "s.isMatch(text, pattern)"
   ]
  },
  {
   "cell_type": "markdown",
   "metadata": {},
   "source": [
    "## 72. Edit Distance  (String. Recursion-DP) (Microsoft 3, Amazon 2)"
   ]
  },
  {
   "cell_type": "markdown",
   "metadata": {},
   "source": [
    "base case 是 i 走完 s1 或 j 走完 s2，可以直接返回另一个字符串剩下的长度。  \n",
    "Up Down\n",
    "\n",
    "dp(i,j)表示改变的s1 i之前 和s2 j之前的最少编辑次数"
   ]
  },
  {
   "cell_type": "code",
   "execution_count": null,
   "metadata": {},
   "outputs": [],
   "source": [
    "class Solution:\n",
    "    # def minDistance(self, word1: str, word2: str) -> int:\n",
    "        \n",
    "#     def minDistance(self, s1, s2) -> int:\n",
    "\n",
    "#         def dp(i, j):\n",
    "#             # base case\n",
    "#             if i == -1: return j + 1\n",
    "#             if j == -1: return i + 1\n",
    "\n",
    "#             if s1[i] == s2[j]:\n",
    "#                 return dp(i - 1, j - 1)  # 啥都不做\n",
    "#             else:\n",
    "#                 return min(\n",
    "#                     dp(i, j - 1) + 1,    # 插入\n",
    "#                     dp(i - 1, j) + 1,    # 删除\n",
    "#                     dp(i - 1, j - 1) + 1 # 替换\n",
    "#                 )\n",
    "\n",
    "#         # i，j 初始化指向最后一个索引\n",
    "#         return dp(len(s1) - 1, len(s2) - 1)\n",
    "\n",
    "    def minDistance(self, s1, s2):\n",
    "        \"\"\"\n",
    "        :type word1: str\n",
    "        :type word2: str\n",
    "        :rtype: int\n",
    "        \"\"\"\n",
    "\n",
    "        dic = {} # 备忘录\n",
    "        def dp(i, j):\n",
    "            if (i, j) in dic: \n",
    "                return dic[(i, j)]\n",
    "            \n",
    "            if i == -1: \n",
    "                return j + 1\n",
    "            if j == -1: \n",
    "                return i + 1\n",
    "\n",
    "            if s1[i] == s2[j]:\n",
    "                dic[(i, j)] = dp(i - 1, j - 1) \n",
    "            else:\n",
    "                dic[(i, j)] = min(dp(i, j - 1) + 1,    # 插入\n",
    "                                   dp(i - 1, j) + 1,    # 删除\n",
    "                                   dp(i - 1, j - 1) + 1 # 替换\n",
    "                                  )\n",
    "                \n",
    "            return dic[(i, j)]\n",
    "\n",
    "        return dp(len(s1) - 1, len(s2) - 1)"
   ]
  },
  {
   "cell_type": "markdown",
   "metadata": {},
   "source": [
    "Bottom Up"
   ]
  },
  {
   "cell_type": "code",
   "execution_count": null,
   "metadata": {},
   "outputs": [],
   "source": [
    "class Solution:\n",
    "    def minDistance(self, s1, s2):\n",
    "        \"\"\"\n",
    "        :type word1: str\n",
    "        :type word2: str\n",
    "        :rtype: int\n",
    "        \"\"\"\n",
    "\n",
    "        dp = [[0] * (len(s2) + 1) for _ in range(len(s1) + 1)]\n",
    "        # 第一行\n",
    "        for j in range(1, len(s2) + 1):\n",
    "            dp[0][j] = dp[0][j-1] + 1\n",
    "        # 第一列\n",
    "        for i in range(1, len(s1) + 1):\n",
    "            dp[i][0] = dp[i-1][0] + 1\n",
    "            \n",
    "        for i in range(1, len(s1) + 1):\n",
    "            for j in range(1, len(2) + 1):\n",
    "                if s1[i-1] == s2[j-1]:\n",
    "                    dp[i][j] = dp[i-1][j-1]\n",
    "                else:\n",
    "                    dp[i][j] = min(dp[i][j-1], dp[i-1][j], dp[i-1][j-1]) + 1\n",
    "        #print(dp)      \n",
    "        return dp[-1][-1]"
   ]
  },
  {
   "cell_type": "markdown",
   "metadata": {},
   "source": [
    "## 44. Wildcard Matching (Google 4, Microsoft 2)"
   ]
  },
  {
   "cell_type": "markdown",
   "metadata": {},
   "source": [
    "O(N^2)  \n",
    "O(N^2)  \n",
    "dp[i][j]表示1 based string(i, j)是不是match"
   ]
  },
  {
   "cell_type": "code",
   "execution_count": 1,
   "metadata": {},
   "outputs": [],
   "source": [
    "class Solution:\n",
    "    def isMatch(self, s, p):\n",
    "        \"\"\"\n",
    "        :type s: str\n",
    "        :type p: str\n",
    "        :rtype: bool\n",
    "        \"\"\"\n",
    "        \n",
    "        dp = [[False] * (len(p) + 1) for _ in range(len(s) + 1)]\n",
    "        dp[0][0] = True\n",
    "        for j in range(1, len(p) + 1):\n",
    "            if p[j - 1] == \"*\":\n",
    "                dp[0][j] = dp[0][j - 1]\n",
    "\n",
    "        for i in range(1, len(s) + 1):\n",
    "            for j in range(1, len(p) + 1):\n",
    "                if (s[i - 1] == p[j - 1] or p[j - 1] == \"?\") and dp[i-1][j-1]:\n",
    "                    dp[i][j] = True\n",
    "                \n",
    "                elif p[j - 1] == \"*\" and (dp[i - 1][j] or dp[i][j - 1]):\n",
    "                    dp[i][j] = True\n",
    "                    \n",
    "        return dp[-1][-1]"
   ]
  },
  {
   "cell_type": "code",
   "execution_count": 1,
   "metadata": {},
   "outputs": [],
   "source": [
    "class Solution:\n",
    "    def isMatch(self, s, p):\n",
    "        \"\"\"\n",
    "        :type s: str\n",
    "        :type p: str\n",
    "        :rtype: bool\n",
    "        \"\"\"\n",
    "        \n",
    "        dp = [[False] * (len(p) + 1) for _ in range(len(s) + 1)]\n",
    "        dp[0][0] = True\n",
    "        for j in range(1, len(p) + 1):\n",
    "            if p[j - 1] == \"*\":\n",
    "                dp[0][j] = dp[0][j - 1]\n",
    "\n",
    "        for i in range(1, len(s) + 1):\n",
    "            for j in range(1, len(p) + 1):\n",
    "                if (s[i - 1] == p[j - 1] or p[j - 1] == \"?\"):\n",
    "                    dp[i][j] = dp[i - 1][j - 1]\n",
    "                    \n",
    "                elif p[j - 1] == \"*\":\n",
    "                    dp[i][j] = dp[i - 1][j] or dp[i][j - 1]\n",
    "                    \n",
    "        for n in dp:\n",
    "            print(n)\n",
    "        return dp[-1][-1]"
   ]
  },
  {
   "cell_type": "code",
   "execution_count": 2,
   "metadata": {},
   "outputs": [
    {
     "name": "stdout",
     "output_type": "stream",
     "text": [
      "[True, False, False]\n",
      "[False, True, True]\n",
      "[False, False, True]\n"
     ]
    },
    {
     "data": {
      "text/plain": [
       "True"
      ]
     },
     "execution_count": 2,
     "metadata": {},
     "output_type": "execute_result"
    }
   ],
   "source": [
    "o = Solution()\n",
    "o.isMatch('aa', 'a*')"
   ]
  },
  {
   "cell_type": "markdown",
   "metadata": {},
   "source": [
    "## 97. Interleaving String (String, List-DP) (Apple 8, Amazon 4, Microsoft 3)  (Hard)\n",
    "O(m*n)  \n",
    "O(m*n)    \n",
    "dp[i][j]代表s1的前i个字符和s2的前j个字符合起来是否能够组成s3的前i+j个字符  \n",
    "中文leetcode题解"
   ]
  },
  {
   "cell_type": "code",
   "execution_count": null,
   "metadata": {},
   "outputs": [],
   "source": [
    "class Solution:\n",
    "    def isInterleave(self, s1, s2, s3):\n",
    "        \"\"\"\n",
    "        :type s1: str\n",
    "        :type s2: str\n",
    "        :type s3: str\n",
    "        :rtype: bool\n",
    "        \"\"\"\n",
    "        if len(s1) + len(s2) != len(s3):\n",
    "            return False\n",
    "        \n",
    "        dp = [[False] * (len(s2)+1) for i in range(len(s1)+1)]\n",
    "        dp[0][0] = True\n",
    "        \n",
    "        for i in range(1, len(s1) + 1):\n",
    "            if s1[i-1] == s3[i-1]:\n",
    "                dp[i][0] = True\n",
    "            else:\n",
    "                break\n",
    "                \n",
    "        for j in range(1, len(s2)+1):\n",
    "            if s2[j-1] == s3[j-1]:\n",
    "                dp[0][j] = True\n",
    "            else: # 前面都不符合了，后面肯定不符合了\n",
    "                break\n",
    "                \n",
    "        for i in range(1, len(s1)+1):\n",
    "            for j in range(1, len(s2)+1):\n",
    "                if (dp[i-1][j] and s1[i-1] == s3[i-1+j]) or (dp[i][j-1] and s2[j-1] == s3[i+j-1]):\n",
    "                    dp[i][j] = True\n",
    "        return dp[-1][-1]"
   ]
  },
  {
   "cell_type": "markdown",
   "metadata": {},
   "source": [
    "## 53. Maximum Subarray (List, List-DP) (Amazon 29, Linkein 16, Microsoft 13, Apple 8, Google 7, Facebook 7)"
   ]
  },
  {
   "cell_type": "markdown",
   "metadata": {},
   "source": [
    "O(N)  \n",
    "O(N)\n",
    "\n",
    "dp[i]表示i之前的最大sum"
   ]
  },
  {
   "cell_type": "code",
   "execution_count": 76,
   "metadata": {},
   "outputs": [],
   "source": [
    "class Solution:\n",
    "    def maxSubArray(self, nums):\n",
    "        \"\"\"\n",
    "        :type nums: List[int]\n",
    "        :rtype: int\n",
    "        \"\"\"\n",
    "        dp = [nums[0]] * len(nums)\n",
    "#         print('maxSum =', maxSum)\n",
    "        \n",
    "        for i in range(1, len(nums)):\n",
    "#             print('i=', i)\n",
    "            dp[i] = max(dp[i - 1] + nums[i], nums[i])\n",
    "#             print(f'maxSum [{i}] =', maxSum[i])\n",
    "        return max(dp)"
   ]
  },
  {
   "cell_type": "code",
   "execution_count": 77,
   "metadata": {},
   "outputs": [
    {
     "name": "stdout",
     "output_type": "stream",
     "text": [
      "maxSum = [-2, -2, -2, -2, -2, -2, -2, -2, -2]\n",
      "i= 1\n",
      "maxSum [1] = 1\n",
      "i= 2\n",
      "maxSum [2] = -2\n",
      "i= 3\n",
      "maxSum [3] = 4\n",
      "i= 4\n",
      "maxSum [4] = 3\n",
      "i= 5\n",
      "maxSum [5] = 5\n",
      "i= 6\n",
      "maxSum [6] = 6\n",
      "i= 7\n",
      "maxSum [7] = 1\n",
      "i= 8\n",
      "maxSum [8] = 5\n"
     ]
    },
    {
     "data": {
      "text/plain": [
       "6"
      ]
     },
     "execution_count": 77,
     "metadata": {},
     "output_type": "execute_result"
    }
   ],
   "source": [
    "s = Solution()\n",
    "nums = [-2,1,-3,4,-1,2,1,-5,4]\n",
    "s.maxSubArray(nums)"
   ]
  },
  {
   "cell_type": "code",
   "execution_count": 8,
   "metadata": {},
   "outputs": [
    {
     "data": {
      "text/plain": [
       "[2, 2, 2, 2]"
      ]
     },
     "execution_count": 8,
     "metadata": {},
     "output_type": "execute_result"
    }
   ],
   "source": [
    "nums = [2,3,4,5]\n",
    "maxSum = [nums[0] for i in nums]\n",
    "maxSum"
   ]
  },
  {
   "cell_type": "code",
   "execution_count": 16,
   "metadata": {},
   "outputs": [],
   "source": [
    "maxsum = [2] * 4"
   ]
  },
  {
   "cell_type": "markdown",
   "metadata": {},
   "source": [
    "## 139. Word Break (String, List. List-DP) (Amazon 27, Facebook 8, Microsoft 7)\n",
    "\n",
    "O(N^2)  \n",
    "O(N)  \n",
    "\n",
    "dp[i]表示最新word的起点"
   ]
  },
  {
   "cell_type": "code",
   "execution_count": null,
   "metadata": {},
   "outputs": [],
   "source": [
    "class Solution:\n",
    "    def wordBreak(self, s, strs):\n",
    "        \"\"\"\n",
    "        :type s: str\n",
    "        :type wordDict: List[str]\n",
    "        :rtype: bool\n",
    "        \"\"\"\n",
    "        # 初始化标记列表\n",
    "        dp = [True]+[False]*len(s)\n",
    "\n",
    "        for l in range(len(s)):\n",
    "            if dp[l]:\n",
    "                for r in range(l+1, len(s)+1):\n",
    "                    if s[l:r] in strs:\n",
    "                        dp[r] = True\n",
    "        return dp[-1]\n"
   ]
  },
  {
   "cell_type": "markdown",
   "metadata": {},
   "source": [
    "## 322. Coin Change (List, List-DP) (Amazon 14, Microsoft 5)  "
   ]
  },
  {
   "cell_type": "markdown",
   "metadata": {},
   "source": [
    "O(N^2)  \n",
    "O(N)  \n",
    "\n",
    "输入: coins = [1, 2, 5], amount = 11\n",
    "输出: 3 \n",
    "解释: 11 = 5 + 5 + 1\n",
    "\n",
    "题目求的值为 f(11)，第一次选择硬币时我们有三种选择。\n",
    "假设我们取面额为 1 的硬币，那么接下来需要凑齐的总金额变为 11 - 1 = 10，即 f(11) = f(10) + 1，这里的 +1 就是我们取出的面额为 1 的硬币。\n",
    "\n",
    "同理，如果取面额为 2 或面额为 5 的硬币可以得到：  \n",
    "f(11) = f(9) + 1\n",
    "f(11) = f(6) + 1\n",
    "\n",
    "f(11) = min(f(10), f(9), f(6)) + 1  \n",
    "\n",
    "dp[i]是得到i数值的硬币数量"
   ]
  },
  {
   "cell_type": "code",
   "execution_count": null,
   "metadata": {},
   "outputs": [],
   "source": [
    "class Solution:\n",
    "    def coinChange(self, coins, amount):\n",
    "        \"\"\"\n",
    "        :type coins: List[int]\n",
    "        :type amount: int\n",
    "        :rtype: int\n",
    "        \"\"\"\n",
    "        \n",
    "        dp = [0] + [float('inf')] * amount\n",
    "        \n",
    "        for c in coins:  # 枚举硬币种数\n",
    "            for i in range(c, amount + 1):  # 从小到大枚举金额，确保j-c >= 0.\n",
    "                dp[i] = min(dp[i], dp[i - c] + 1)\n",
    "           \n",
    "        if dp[-1] != float('inf'):\n",
    "            return dp[-1]  \n",
    "        else: \n",
    "            return -1  # 如果为inf说明状态不可达，返回-1即可。\n"
   ]
  },
  {
   "cell_type": "markdown",
   "metadata": {},
   "source": [
    "## 64. Minimum Path Sum (Matrix-DP) (Amazon 9)\n",
    "\n",
    "O(N^2)  \n",
    "O(1)  \n",
    "grid[i][j] 表示最少路径sum"
   ]
  },
  {
   "cell_type": "code",
   "execution_count": null,
   "metadata": {},
   "outputs": [],
   "source": [
    "class Solution:\n",
    "    def minPathSum(self, grid):\n",
    "        \"\"\"\n",
    "        :type grid: List[List[int]]\n",
    "        :rtype: int\n",
    "        \"\"\"\n",
    "        if not grid:\n",
    "            return 0\n",
    "\n",
    "        row = len(grid)\n",
    "        col = len(grid[0])\n",
    "\n",
    "        for i in range(1, col):\n",
    "            grid[0][i] += grid[0][i-1]\n",
    "\n",
    "        for i in range(1, row):\n",
    "            grid[i][0] += grid[i-1][0]\n",
    "\n",
    "        for i in range(1, row):\n",
    "            for j in range(1, col):\n",
    "                grid[i][j] += min(grid[i-1][j], grid[i][j-1])\n",
    "\n",
    "        return grid[-1][-1]"
   ]
  },
  {
   "cell_type": "markdown",
   "metadata": {},
   "source": [
    "## 198. House Robber (Lists-DP) (Google 5)"
   ]
  },
  {
   "cell_type": "code",
   "execution_count": null,
   "metadata": {},
   "outputs": [],
   "source": [
    "class Solution:\n",
    "    def rob(self, nums):\n",
    "        \"\"\"\n",
    "        :type nums: List[int]\n",
    "        :rtype: int\n",
    "        \"\"\"\n",
    "        \n",
    "        if not nums: \n",
    "            return 0\n",
    "        if len(nums) == 1: \n",
    "            return nums[0]\n",
    "        if len(nums) == 2: \n",
    "            return max(nums)\n",
    "\n",
    "        dp = [0]*len(nums)\n",
    "        dp[0], dp[1] = nums[0], max(nums[0], nums[1])\n",
    "        \n",
    "        for i in range(2, len(nums)):\n",
    "            dp[i] = max(dp[i-2]+nums[i], dp[i-1])\n",
    "        \n",
    "        return dp[-1]"
   ]
  },
  {
   "cell_type": "markdown",
   "metadata": {},
   "source": [
    "## 354. Russin Doll Envelopes (Lists-DP) (Microsoft 3)"
   ]
  },
  {
   "cell_type": "code",
   "execution_count": null,
   "metadata": {},
   "outputs": [],
   "source": [
    "import bisect\n",
    "class Solution:\n",
    "    def maxEnvelopes(self, envelopes):\n",
    "        \"\"\"\n",
    "        :type envelopes: List[List[int]]\n",
    "        :rtype: int\n",
    "        \"\"\"\n",
    "        \n",
    "        envelopes = sorted(envelopes, key = lambda x: (x[0], -x[1]))\n",
    "        dp = []\n",
    "        for env in envelopes:\n",
    "            h = env[1]\n",
    "            pos = bisect.bisect_left(dp, h)\n",
    "            if pos == len(dp):\n",
    "                dp.append(h)\n",
    "            else:\n",
    "                dp[pos] = h\n",
    "        return len(dp)"
   ]
  },
  {
   "cell_type": "markdown",
   "metadata": {},
   "source": [
    "## 957. Odd Even Jump (List) (Google 9) (Hard)\n",
    "- 时间复杂度: O(NlgN)- 空间复杂度: O(N)  \n",
    "规律跳格子，固定点位固定落地点，所以可以搞一个函数专门算这个，接下来就是dp，dp[i]代表从点i能否跳到最后一个点"
   ]
  },
  {
   "cell_type": "code",
   "execution_count": null,
   "metadata": {},
   "outputs": [],
   "source": [
    "# O(N*logN)\n",
    "class Solution:\n",
    "    def oddEvenJumps(self, A):\n",
    "        \"\"\"\n",
    "        :type A: List[int]\n",
    "        :rtype: int\n",
    "        \"\"\"\n",
    "        def make(B):\n",
    "            res = [-1] * N\n",
    "            stack = [] # invariant: stack is decreasing\n",
    "            for i in B:\n",
    "                while stack and i > stack[-1]:\n",
    "                    res[stack.pop()] = i\n",
    "                stack.append(i)\n",
    "            return res\n",
    "\n",
    "        N = len(A) # A = [10,13,12,14,15]\n",
    "\n",
    "        B = sorted(list(range(N)), key = lambda i : A[i]) # [0, 2, 1, 3, 4]\n",
    "        odd_nxt = make(B)\n",
    "\n",
    "        B = sorted(list(range(N)), key = lambda i : -A[i]) # [4, 3, 1, 2, 0]\n",
    "        even_nxt = make(B)\n",
    "\n",
    "        odd, even = [False] * N, [False] * N\n",
    "        odd[-1], even[-1] = True, True\n",
    "\n",
    "        for i in range(N-2, -1, -1):\n",
    "            if odd_nxt[i] != -1:\n",
    "                odd[i] = even[odd_nxt[i]]\n",
    "            if even_nxt[i] != -1:\n",
    "                even[i] = odd[even_nxt[i]]\n",
    "\n",
    "        return sum(odd)"
   ]
  },
  {
   "cell_type": "code",
   "execution_count": 40,
   "metadata": {},
   "outputs": [
    {
     "name": "stdout",
     "output_type": "stream",
     "text": [
      "3\n",
      "2\n",
      "1\n",
      "0\n"
     ]
    }
   ],
   "source": [
    "for i in range(3,-1,-1):\n",
    "    print(i)"
   ]
  },
  {
   "cell_type": "markdown",
   "metadata": {},
   "source": [
    "## 91. Decode Ways (String) (Amazon 9, Facebook 8)\n",
    "\n",
    "O(1)\n",
    "\n",
    "w tells the number of ways  \n",
    "v tells the previous number of ways  \n",
    "d is the current digit  \n",
    "p is the previous digit  "
   ]
  },
  {
   "cell_type": "code",
   "execution_count": null,
   "metadata": {},
   "outputs": [],
   "source": [
    "def numDecodings(self, s):\n",
    "    pw, w, p = 0, int(s>''), ''\n",
    "    for d in s:\n",
    "        pw, w, p = w, (d>'0')*w + (9<int(p+d)<27)*pw, d\n",
    "    return w"
   ]
  },
  {
   "cell_type": "code",
   "execution_count": 32,
   "metadata": {},
   "outputs": [
    {
     "data": {
      "text/plain": [
       "2"
      ]
     },
     "execution_count": 32,
     "metadata": {},
     "output_type": "execute_result"
    }
   ],
   "source": [
    "int(5/2)"
   ]
  },
  {
   "cell_type": "markdown",
   "metadata": {
    "toc-hr-collapsed": false
   },
   "source": [
    "### (18) (String) List. Recursion, Recursion-Backtrack, Queue-Backtrack. (String) Matrix. Recursion-Backtrack"
   ]
  },
  {
   "cell_type": "markdown",
   "metadata": {},
   "source": [
    "## 50. Pow(x, n) (Recursion) (Facebook 9, Linkedin 7, Amazon 6)\n",
    "\n",
    "O(logn)  \n",
    "O(logn)"
   ]
  },
  {
   "cell_type": "code",
   "execution_count": null,
   "metadata": {},
   "outputs": [],
   "source": [
    "class Solution:\n",
    "    def myPow(self, x, n):\n",
    "        if n == 0:\n",
    "            return 1\n",
    "        if n < 0:\n",
    "            return 1 / self.myPow(x, -n)\n",
    "        \n",
    "        if n % 2:\n",
    "            return x * self.myPow(x, n-1)\n",
    "        else:\n",
    "            return self.myPow(x*x, n/2)"
   ]
  },
  {
   "cell_type": "code",
   "execution_count": null,
   "metadata": {},
   "outputs": [],
   "source": [
    "class Solution:\n",
    "    def myPow(self, x, n):\n",
    "        if n < 0:\n",
    "            x = 1 / x\n",
    "            n = -n\n",
    "        pow = 1\n",
    "        while n:\n",
    "            if n & 1:\n",
    "                pow *= x\n",
    "            x *= x\n",
    "            n >>= 1\n",
    "        return pow"
   ]
  },
  {
   "cell_type": "markdown",
   "metadata": {},
   "source": [
    "## 22. Generate Parenthesis (Recursion-Backtracking) (Amazon 12, Microsoft 11, Facebook 7)\n",
    "\n",
    "时间复杂度: O(4^N / sqrt(N))\n",
    "\n",
    "https://xiaozhuanlan.com/topic/3421690578  \n",
    "以Generate Parentheses为例，backtrack的题到底该怎么去思考？\n",
    "所谓Backtracking都是这样的思路：在当前局面下，你有若干种选择。那么尝试每一种选择。如果已经发现某种选择肯定不行（因为违反了某些限定条件），就返回；如果某种选择试到最后发现是正确解，就将其加入解集\n",
    "\n",
    "所以你思考递归题时，只要明确三点就行：选择 (Options)，限制 (Restraints)，结束条件 (Termination)。即“ORT原则”（这个是我自己编的）\n",
    "\n",
    "对于这道题，在任何时刻，你都有两种选择：\n",
    "\n",
    "加左括号。\n",
    "加右括号。\n",
    "同时有以下限制：\n",
    "\n",
    "如果左括号已经用完了，则不能再加左括号了。\n",
    "如果已经出现的右括号和左括号一样多，则不能再加右括号了。因为那样的话新加入的右括号一定无法匹配。\n",
    "结束条件是：\n",
    "左右括号都已经用完。\n",
    "\n",
    "结束后的正确性：\n",
    "左右括号用完以后，一定是正确解。因为1. 左右括号一样多，2. 每个右括号都一定有与之配对的左括号。因此一旦结束就可以加入解集（有时也可能出现结束以后不一定是正确解的情况，这时要多一步判断）。\n",
    "\n",
    "递归函数传入参数：\n",
    "限制和结束条件中有“用完”和“一样多”字样，因此你需要知道左右括号的数目。\n",
    "当然你还需要知道当前局面sublist和解集res。\n"
   ]
  },
  {
   "cell_type": "code",
   "execution_count": null,
   "metadata": {},
   "outputs": [],
   "source": [
    "class Solution:\n",
    "    def generateParenthesis(self, n):\n",
    "        \"\"\"\n",
    "        :type n: int\n",
    "        :rtype: List[str]\n",
    "        \"\"\"\n",
    "        if not n:\n",
    "            return ['']\n",
    "  \n",
    "        def backtrack(s = '', l = 0, r = 0):\n",
    "            if len(s) == 2 * n:\n",
    "                res.append(s)\n",
    "                return\n",
    "                \n",
    "            if l < n:\n",
    "                backtrack(s + '(', l + 1, r)\n",
    "            if r < l:\n",
    "                backtrack(s + ')', l, r + 1)\n",
    "        \n",
    "        res = []\n",
    "        backtrack()\n",
    "        return res"
   ]
  },
  {
   "cell_type": "markdown",
   "metadata": {},
   "source": [
    "## 17. Letter Combinations (String List, Recursion-Bscktracking) (Amazon 13, Microsoft 7, Google 6, Uber 5)\n",
    "\n",
    "O(3^N x 4^M) where N is the number of digits in the input that maps to 3 letters (e.g. 2, 3, 4, 5, 6, 8) and M is the number of digits in the input that maps to 4 letters (e.g. 7, 9), and N+M is the total number digits in the input.  \n",
    "O(3^N x 4^M)"
   ]
  },
  {
   "cell_type": "code",
   "execution_count": null,
   "metadata": {},
   "outputs": [],
   "source": [
    "class Solution:\n",
    "    def letterCombinations(self, digits):\n",
    "        \"\"\"\n",
    "        :type digits: str\n",
    "        :rtype: List[str]\n",
    "        \"\"\"\n",
    "        dic = {\n",
    "            '2':['a','b','c'],\n",
    "            '3':['d','e','f'],\n",
    "            '4':['g','h','i'],\n",
    "            '5':['j','k','l'],\n",
    "            '6':['m','n','o'],\n",
    "            '7':['p','q','r','s'],\n",
    "            '8':['t','u','v'],\n",
    "            '9':['w','x','y','z']\n",
    "        }\n",
    "        \n",
    "        if not digits:\n",
    "            return []\n",
    "        \n",
    "        res = []\n",
    "        def backtrack(digits, s = ''):\n",
    "            if not digits:\n",
    "                res.append(s)\n",
    "                return\n",
    "\n",
    "            for c in dic[digits[0]]:\n",
    "                backtrack(digits[1:], s+c)\n",
    "        \n",
    "        backtrack(digits)\n",
    "        return res"
   ]
  },
  {
   "cell_type": "markdown",
   "metadata": {},
   "source": [
    "## 39. (3) Combination Sum (List, Recurison-Backtracking) (Airbnb 10, Microsoft 7, Amazon 5)\n",
    "\n",
    "O(2^N)  \n",
    "O(2^N)"
   ]
  },
  {
   "cell_type": "code",
   "execution_count": null,
   "metadata": {},
   "outputs": [],
   "source": [
    "class Solution:\n",
    "    def combinationSum(self, nums, target):\n",
    "        \"\"\"\n",
    "        :type candidates: List[int]\n",
    "        :type target: int\n",
    "        :rtype: List[List[int]]\n",
    "        \"\"\"      \n",
    "        def backtrack(target, p = 0, path = []):    \n",
    "            if target == 0:\n",
    "                res.append(path)\n",
    "                return \n",
    "            \n",
    "            if target < 0:\n",
    "                return  # backtracking\n",
    "            \n",
    "            for i in range(p, len(nums)):\n",
    "                backtrack(target-nums[i], i, path+[nums[i]])\n",
    "        \n",
    "        res = []\n",
    "        backtrack(target)\n",
    "        return res"
   ]
  },
  {
   "cell_type": "code",
   "execution_count": 29,
   "metadata": {},
   "outputs": [
    {
     "data": {
      "text/plain": [
       "[1, 2, 3, [5, 6]]"
      ]
     },
     "execution_count": 29,
     "metadata": {},
     "output_type": "execute_result"
    }
   ],
   "source": [
    "l1 = [1,2,3]\n",
    "l1.append([5,6])\n",
    "l1"
   ]
  },
  {
   "cell_type": "markdown",
   "metadata": {},
   "source": [
    "## 78. Subsets (List, Recursion-Backtracking, Queue-Backtracking) (Facebook 8, Amazon 6, Microsoft 5)\n",
    "\n",
    "O(2^N)  \n",
    "O(2^N)"
   ]
  },
  {
   "cell_type": "code",
   "execution_count": null,
   "metadata": {},
   "outputs": [],
   "source": [
    "class Solution:\n",
    "    def subsets(self, nums):\n",
    "        \"\"\"\n",
    "        :type nums: List[int]\n",
    "        :rtype: List[List[int]]\n",
    "        \"\"\"    \n",
    "        def backtrack(tmp, p):\n",
    "            res.append(tmp)\n",
    "            \n",
    "            for i in range(p, len(nums)):\n",
    "                backtrack(tmp + [nums[i]], i + 1)\n",
    "            \n",
    "        res = []\n",
    "        backtrack([], 0)\n",
    "        return res "
   ]
  },
  {
   "cell_type": "code",
   "execution_count": null,
   "metadata": {},
   "outputs": [],
   "source": [
    "#BFS\n",
    "class Solution:\n",
    "    def subsets(self, nums):\n",
    "        \"\"\"\n",
    "        :type nums: List[int]\n",
    "        :rtype: List[List[int]]\n",
    "        \"\"\"    \n",
    "        subsets = [[]]\n",
    "        # start by adding the empty subset\n",
    "        for n in nums:\n",
    "        # we will take all existing subsets and insert the current number in them to create new subsets\n",
    "            for i in range(len(subsets)):\n",
    "              # create a new subset from the existing subset and insert the current element to it\n",
    "              # set = list(subsets[i])\n",
    "              # set.append(currentNumber)\n",
    "              subsets.append(subsets[i]+[n])\n",
    "\n",
    "        return subsets"
   ]
  },
  {
   "cell_type": "code",
   "execution_count": 31,
   "metadata": {},
   "outputs": [],
   "source": [
    "#O(2^N)\n",
    "class Solution:\n",
    "    def subsets(self, nums):\n",
    "        \"\"\"\n",
    "        :type nums: List[int]\n",
    "        :rtype: List[List[int]]\n",
    "        \"\"\"\n",
    "        res = [[]]\n",
    "        for n in nums:\n",
    "            res.extend([[n] + num for num in res])\n",
    "        return res "
   ]
  },
  {
   "cell_type": "code",
   "execution_count": 32,
   "metadata": {},
   "outputs": [
    {
     "data": {
      "text/plain": [
       "[[], [1], [2], [1, 2], [3], [1, 3], [2, 3], [1, 2, 3]]"
      ]
     },
     "execution_count": 32,
     "metadata": {},
     "output_type": "execute_result"
    }
   ],
   "source": [
    "nums = [1,2,3]\n",
    "s = Solution()\n",
    "s.subsets(nums)"
   ]
  },
  {
   "cell_type": "code",
   "execution_count": null,
   "metadata": {},
   "outputs": [],
   "source": [
    "[1,3] + [3]"
   ]
  },
  {
   "cell_type": "markdown",
   "metadata": {},
   "source": [
    "## 90. Subsets II (Amazon 3, Microsoft 2)"
   ]
  },
  {
   "cell_type": "code",
   "execution_count": null,
   "metadata": {},
   "outputs": [],
   "source": [
    "class Solution:\n",
    "    def subsetsWithDup(self, nums):\n",
    "        \"\"\"\n",
    "        :type nums: List[int]\n",
    "        :rtype: List[List[int]]\n",
    "        \"\"\"    \n",
    "        nums.sort()\n",
    "        subsets = [[]]\n",
    "        dic = {}\n",
    "        # start by adding the empty subset\n",
    "        for n in nums:\n",
    "        # we will take all existing subsets and insert the current number in them to create new subsets\n",
    "            for i in range(len(subsets)):\n",
    "              # create a new subset from the existing subset and insert the current element to it\n",
    "              # set = list(subsets[i])\n",
    "              # set.append(currentNumber)\n",
    "                tmp = subsets[i] + [n]\n",
    " \n",
    "                if tuple(tmp) not in dic:\n",
    "                    dic[tuple(tmp)] = 1\n",
    "                    subsets.append(tmp)\n",
    "                \n",
    "        return subsets"
   ]
  },
  {
   "cell_type": "code",
   "execution_count": 13,
   "metadata": {},
   "outputs": [
    {
     "name": "stdout",
     "output_type": "stream",
     "text": [
      "{1, 2}\n"
     ]
    },
    {
     "ename": "TypeError",
     "evalue": "unhashable type: 'set'",
     "output_type": "error",
     "traceback": [
      "\u001b[0;31m---------------------------------------------------------------------------\u001b[0m",
      "\u001b[0;31mTypeError\u001b[0m                                 Traceback (most recent call last)",
      "\u001b[0;32m<ipython-input-13-08144693518c>\u001b[0m in \u001b[0;36m<module>\u001b[0;34m\u001b[0m\n\u001b[1;32m      2\u001b[0m \u001b[0mtmp\u001b[0m \u001b[0;34m=\u001b[0m \u001b[0mset\u001b[0m\u001b[0;34m(\u001b[0m\u001b[0;34m[\u001b[0m\u001b[0;36m1\u001b[0m\u001b[0;34m,\u001b[0m\u001b[0;36m2\u001b[0m\u001b[0;34m]\u001b[0m\u001b[0;34m)\u001b[0m\u001b[0;34m\u001b[0m\u001b[0;34m\u001b[0m\u001b[0m\n\u001b[1;32m      3\u001b[0m \u001b[0mprint\u001b[0m\u001b[0;34m(\u001b[0m\u001b[0mtmp\u001b[0m\u001b[0;34m)\u001b[0m\u001b[0;34m\u001b[0m\u001b[0;34m\u001b[0m\u001b[0m\n\u001b[0;32m----> 4\u001b[0;31m \u001b[0;32mif\u001b[0m \u001b[0mtmp\u001b[0m \u001b[0;32min\u001b[0m \u001b[0mdic\u001b[0m\u001b[0;34m:\u001b[0m\u001b[0;34m\u001b[0m\u001b[0;34m\u001b[0m\u001b[0m\n\u001b[0m\u001b[1;32m      5\u001b[0m     \u001b[0mprint\u001b[0m\u001b[0;34m(\u001b[0m\u001b[0;36m1\u001b[0m\u001b[0;34m)\u001b[0m\u001b[0;34m\u001b[0m\u001b[0;34m\u001b[0m\u001b[0m\n",
      "\u001b[0;31mTypeError\u001b[0m: unhashable type: 'set'"
     ]
    }
   ],
   "source": [
    "dic = {(1,2):2}\n",
    "tmp = set([1,2])\n",
    "print(tmp)\n",
    "if tmp in dic:\n",
    "    print(1)"
   ]
  },
  {
   "cell_type": "code",
   "execution_count": 4,
   "metadata": {},
   "outputs": [
    {
     "ename": "TypeError",
     "evalue": "descriptor 'add' requires a 'set' object but received a 'list'",
     "output_type": "error",
     "traceback": [
      "\u001b[0;31m---------------------------------------------------------------------------\u001b[0m",
      "\u001b[0;31mTypeError\u001b[0m                                 Traceback (most recent call last)",
      "\u001b[0;32m<ipython-input-4-6e53d1607f83>\u001b[0m in \u001b[0;36m<module>\u001b[0;34m\u001b[0m\n\u001b[1;32m      1\u001b[0m \u001b[0ms\u001b[0m \u001b[0;34m=\u001b[0m \u001b[0mset\u001b[0m\u001b[0;34m(\u001b[0m\u001b[0;34m)\u001b[0m\u001b[0;34m\u001b[0m\u001b[0;34m\u001b[0m\u001b[0m\n\u001b[0;32m----> 2\u001b[0;31m \u001b[0mset\u001b[0m\u001b[0;34m.\u001b[0m\u001b[0madd\u001b[0m\u001b[0;34m(\u001b[0m\u001b[0;34m[\u001b[0m\u001b[0;36m1\u001b[0m\u001b[0;34m,\u001b[0m\u001b[0;36m2\u001b[0m\u001b[0;34m]\u001b[0m\u001b[0;34m)\u001b[0m\u001b[0;34m\u001b[0m\u001b[0;34m\u001b[0m\u001b[0m\n\u001b[0m",
      "\u001b[0;31mTypeError\u001b[0m: descriptor 'add' requires a 'set' object but received a 'list'"
     ]
    }
   ],
   "source": [
    "s = set()\n",
    "set.add([1,2])"
   ]
  },
  {
   "cell_type": "markdown",
   "metadata": {},
   "source": [
    "## 46. (2) Permutations (List, Recursion-Backtracking, Queue-Backtracking) (Amazon 7, Facebook 6)  \n",
    "O(n x n!)   \n",
    "O(N!)"
   ]
  },
  {
   "cell_type": "markdown",
   "metadata": {},
   "source": [
    "<img src=\"Screen Shot 2019-10-22 at 4.00.20 PM.png\">"
   ]
  },
  {
   "cell_type": "code",
   "execution_count": null,
   "metadata": {},
   "outputs": [],
   "source": [
    "class Solution:\n",
    "    def permute(self, nums):\n",
    "        result = []\n",
    "        queue = [[]]\n",
    "\n",
    "        for n in nums:\n",
    "            # we will take all existing permutations and add the current number to create new permutations\n",
    "\n",
    "            for i in range(len(queue)):\n",
    "                old = queue.pop(0)\n",
    "                # create a new permutation by adding the current number at every position\n",
    "#                 print(old)\n",
    "                for j in range(len(old)+1):\n",
    "                    new = old.copy()\n",
    "#                     print(new)\n",
    "                    new.insert(j, n)\n",
    "#                     print(new)\n",
    "                    if len(new) == len(nums):\n",
    "                        result.append(new)\n",
    "                    else:\n",
    "                        queue.append(new)\n",
    "\n",
    "        return result"
   ]
  },
  {
   "cell_type": "code",
   "execution_count": null,
   "metadata": {},
   "outputs": [],
   "source": [
    "class Solution:\n",
    "    def permute(self, nums):\n",
    "        \"\"\"\n",
    "        :type nums: List[int]\n",
    "        :rtype: List[List[int]]\n",
    "        \"\"\"\n",
    "        \n",
    "        def backtrack(nums, path):\n",
    "            if not nums:\n",
    "                res.append(path)\n",
    "                # return # backtracking\n",
    "            for i in range(len(nums)):\n",
    "                backtrack(nums[:i]+nums[i+1:], path+[nums[i]])\n",
    "\n",
    "        \n",
    "        res = []\n",
    "        dfs(nums, [])\n",
    "        return res"
   ]
  },
  {
   "cell_type": "code",
   "execution_count": null,
   "metadata": {},
   "outputs": [],
   "source": [
    "def generate_permutations(nums):\n",
    "    result = []\n",
    "    generate_permutations_recursive(nums, 0, [], result)\n",
    "    return result\n",
    "\n",
    "\n",
    "def backtrack(nums, index, currentPermutation, result):\n",
    "    if index == len(nums):\n",
    "        result.append(currentPermutation)\n",
    "    else:\n",
    "        # create a new permutation by adding the current number at every position\n",
    "        for i in range(len(currentPermutation)+1):\n",
    "            newPermutation = list(currentPermutation)\n",
    "            newPermutation.insert(i, nums[index])\n",
    "            backtrack(nums, index + 1, newPermutation, result)"
   ]
  },
  {
   "cell_type": "code",
   "execution_count": null,
   "metadata": {},
   "outputs": [],
   "source": [
    "class Solution:\n",
    "    def permute(self, nums):\n",
    "        \"\"\"\n",
    "        :type nums: List[int]\n",
    "        :rtype: List[List[int]]\n",
    "        \"\"\"\n",
    "        if not nums:\n",
    "            return [[]]\n",
    "        \n",
    "        \n",
    "        def backtrack(first):\n",
    "            # if all integers are used up\n",
    "            if first == len(nums):  \n",
    "                res.append(nums[:])\n",
    "                return\n",
    "                \n",
    "            for i in range(first, len(nums)):\n",
    "                # place i-th integer first \n",
    "                # in the current permutation\n",
    "                nums[first], nums[i] = nums[i], nums[first]\n",
    "                # use next integers to complete the permutations\n",
    "                backtrack(first + 1)\n",
    "                # backtrack\n",
    "                nums[first], nums[i] = nums[i], nums[first]\n",
    "        \n",
    "        res = []\n",
    "        backtrack(0)\n",
    "        return res"
   ]
  },
  {
   "cell_type": "code",
   "execution_count": 4,
   "metadata": {},
   "outputs": [
    {
     "data": {
      "text/plain": [
       "[1, 2, 3, [4, 5, 6]]"
      ]
     },
     "execution_count": 4,
     "metadata": {},
     "output_type": "execute_result"
    }
   ],
   "source": [
    "nums = [1,2,3]\n",
    "nums2 = [4,5,6]\n",
    "nums.append(nums2)\n",
    "nums"
   ]
  },
  {
   "cell_type": "markdown",
   "metadata": {},
   "source": [
    "## 93. Restore IP Addresses (String. Recursion-Backtracking) (Microsoft 4, Amazon 3)  \n",
    "O(2^N)  \n",
    "O(1)"
   ]
  },
  {
   "cell_type": "code",
   "execution_count": null,
   "metadata": {},
   "outputs": [],
   "source": [
    "class Solution:\n",
    "    def restoreIpAddresses(self, s):\n",
    "        \"\"\"\n",
    "        :type s: str\n",
    "        :rtype: List[str]\n",
    "        \"\"\"\n",
    "        if len(s) > 12 or len(s) < 4:\n",
    "            return []\n",
    "\n",
    "        def isValid(ip):\n",
    "            if ip.count('.') != 3:\n",
    "                return False\n",
    "            \n",
    "            array = ip.split('.')\n",
    "            for num in array:\n",
    "                if not num or int(num) > 255 or (len(num) > 1 and num[0] == '0'):\n",
    "                    return False\n",
    "            return True\n",
    "\n",
    "        res = []\n",
    "        def backtrack(cur, idx, cnt):\n",
    "            if cnt == 3:\n",
    "                if isValid(cur):\n",
    "                    res.append(cur)\n",
    "                return\n",
    "            \n",
    "            if idx > len(cur) - 1:\n",
    "                return\n",
    "            \n",
    "            backtrack(cur[:idx] + '.' + cur[idx:], idx + 2, cnt+1)\n",
    "            backtrack(cur, idx+1, cnt)\n",
    "\n",
    "        backtrack(s, 0, 0)\n",
    "        return res"
   ]
  },
  {
   "cell_type": "markdown",
   "metadata": {},
   "source": [
    "## 805. Split Array With Same Average (List, Recursion-Backtracking) (Microsoft 2) (Hard)"
   ]
  },
  {
   "cell_type": "code",
   "execution_count": null,
   "metadata": {},
   "outputs": [],
   "source": [
    "class Solution:\n",
    "    def splitArraySameAverage(self, nums):\n",
    "        \"\"\"\n",
    "        :type nums: List[int]\n",
    "        :rtype: bool\n",
    "        \"\"\"      \n",
    "        nums.sort()\n",
    "        ''' \n",
    "\t\t从数组nums中，找到k个数之和等于target的可能性\n",
    "\t\tcombination sum II 或者 k sum那两道题的简易版\n",
    "        '''\n",
    "        def dfs(nums, k, target, index):\n",
    "            if not k and not target:\n",
    "                return True\n",
    "\n",
    "            if not k or target < 0:\n",
    "                return False\n",
    "\n",
    "            for i in range(index, len(nums)):\n",
    "                if i > index and nums[i] == nums[i -1]:\n",
    "                    continue\n",
    "\n",
    "                if target < nums[i] * k or target > nums[-1] * k:\n",
    "                    break\n",
    "\n",
    "                if dfs(nums, k - 1, target - nums[i], i + 1):\n",
    "                    return True\n",
    "\n",
    "            return False\n",
    "        \n",
    "        '''个数不会超过数组总个数的一半 + 1'''\n",
    "        for i in range(1, len(nums) // 2 + 1):\n",
    "            '''i个数 x sum（nums） ==  i个数之和 x len(nums)\n",
    "             所以 sum（nums） x i ➗ len(nums) == i个数之和 必然是整数'''\n",
    "            if sum(nums) * i % len(nums):\n",
    "                continue\n",
    "                 \n",
    "            ''' 从数组nums中，找到k个数之和等于target的可能性'''\n",
    "            if dfs(nums, i, sum(nums) * i // len(nums), 0):\n",
    "                return True\n",
    "        \n",
    "        return False    "
   ]
  },
  {
   "cell_type": "markdown",
   "metadata": {},
   "source": [
    "## 79. Word Search (String Matrix, Recursion-Backtracking) (Amazon 15, Microsoft 8, Uber 7, Facebook 7)\n",
    "\n",
    "O(m*n)  \n",
    "O(1)"
   ]
  },
  {
   "cell_type": "code",
   "execution_count": null,
   "metadata": {},
   "outputs": [],
   "source": [
    "class Solution:\n",
    "    def exist(self, matrix, word):\n",
    "        \"\"\"\n",
    "        :type board: List[List[str]]\n",
    "        :type word: str\n",
    "        :rtype: bool\n",
    "        \"\"\"\n",
    "        if not matrix:\n",
    "            return False\n",
    "        if not word:\n",
    "            return True\n",
    "\n",
    "        def backtrack(i, j, idx = 0):\n",
    "            if i < 0 or i > len(matrix) - 1 or j < 0 or j > len(matrix[0]) - 1 or matrix[i][j] != word[idx]:\n",
    "                return False\n",
    "            \n",
    "            if idx == len(word) - 1:\n",
    "                return True\n",
    "            \n",
    "            tmp = matrix[i][j]\n",
    "            matrix[i][j] = '*'\n",
    "            res = backtrack(i+1, j, idx+1) or \\\n",
    "                  backtrack(i, j+1, idx+1) or \\\n",
    "                  backtrack(i-1, j, idx+1) or \\\n",
    "                  backtrack(i, j-1, idx+1)\n",
    "            matrix[i][j] = tmp\n",
    "            return res\n",
    "        \n",
    "        for i in range(len(matrix)):\n",
    "            for j in range(len(matrix[0])):\n",
    "                if backtrack(i, j):\n",
    "                    return True\n",
    "        return False"
   ]
  },
  {
   "cell_type": "code",
   "execution_count": null,
   "metadata": {},
   "outputs": [],
   "source": [
    "def exist(self, board, word):\n",
    "    if not board:\n",
    "        return False\n",
    "    for i in xrange(len(board)):\n",
    "        for j in xrange(len(board[0])):\n",
    "            if self.dfs(board, i, j, word):\n",
    "                return True\n",
    "    return False\n",
    "\n",
    "# check whether can find word, start at (i,j) position    \n",
    "def dfs(self, board, i, j, word):\n",
    "    if len(word) == 0: # all the characters are checked\n",
    "        return True\n",
    "    if i<0 or i>=len(board) or j<0 or j>=len(board[0]) or word[0]!=board[i][j]:\n",
    "        return False\n",
    "    tmp = board[i][j]  # first character is found, check the remaining part\n",
    "    board[i][j] = \"#\"  # avoid visit agian \n",
    "    # check whether can find \"word\" along one direction\n",
    "    res = self.dfs(board, i+1, j, word[1:]) or self.dfs(board, i-1, j, word[1:]) \\\n",
    "    or self.dfs(board, i, j+1, word[1:]) or self.dfs(board, i, j-1, word[1:])\n",
    "    board[i][j] = tmp\n",
    "    return res"
   ]
  },
  {
   "cell_type": "markdown",
   "metadata": {},
   "source": [
    "## 212. Word Search II (String Matrix, Recursion-Backtracking) (Amazon 13, Uber 5) (Hard)\n",
    "\n",
    "时间复杂度: O(row * col * max_len(words))  \n",
    "空间复杂度: O(N) length of words"
   ]
  },
  {
   "cell_type": "code",
   "execution_count": 15,
   "metadata": {},
   "outputs": [],
   "source": [
    "class Solution:\n",
    "    def findWords(self, board, words):\n",
    "        \"\"\"\n",
    "        :type board: List[List[str]]\n",
    "        :type words: List[str]\n",
    "        :rtype: List[str]\n",
    "        \"\"\"\n",
    "        if not board or not words:\n",
    "            return\n",
    "\n",
    "        # build trie \n",
    "        trie = {}\n",
    "        for word in words:\n",
    "            t = trie\n",
    "            for c in word:\n",
    "                if c not in t:\n",
    "                    t[c] = {}\n",
    "                t = t[c]\n",
    "            t['#'] = '#'\n",
    "#         print('trie=',trie)\n",
    "\n",
    "        def backtrack(i, j, trie, path):\n",
    "            if '#' in trie:\n",
    "                res.add(path)\n",
    "            \n",
    "            if if i >= 0 and i < m and j >= 0 and j < n and board[i][j] in trie:\n",
    "                c = board[i][j]\n",
    "                board[i][j] = '*' # backtracking\n",
    "                backtrack(i + 1, j, trie[c], path + c)\n",
    "                backtrack(i - 1, j, trie[c], path + c)\n",
    "                backtrack(i, j + 1, trie[c], path + c)\n",
    "                backtrack(i, j - 1, trie[c], path + c)\n",
    "                board[i][j] = c\n",
    "        \n",
    "        res = set()\n",
    "        for i in range(len(board)):\n",
    "            for j in range(len(board[0])):\n",
    "                backtrack(i, j, trie, '')\n",
    "        return list(res)"
   ]
  },
  {
   "cell_type": "code",
   "execution_count": 16,
   "metadata": {},
   "outputs": [
    {
     "name": "stdout",
     "output_type": "stream",
     "text": [
      "trie= {'o': {'a': {'t': {'h': {'#': '#'}}}}, 'p': {'e': {'a': {'#': '#'}}}, 'e': {'a': {'t': {'#': '#'}}}, 'r': {'a': {'i': {'n': {'#': '#'}}}}}\n"
     ]
    },
    {
     "data": {
      "text/plain": [
       "['oath', 'eat']"
      ]
     },
     "execution_count": 16,
     "metadata": {},
     "output_type": "execute_result"
    }
   ],
   "source": [
    "board = [\n",
    "  ['o','a','a','n'],\n",
    "  ['e','t','a','e'],\n",
    "  ['i','h','k','r'],\n",
    "  ['i','f','l','v']\n",
    "]\n",
    "words = [\"oath\",\"pea\",\"eat\",\"rain\"]\n",
    "s = Solution()\n",
    "s.findWords(board, words)"
   ]
  },
  {
   "cell_type": "markdown",
   "metadata": {},
   "source": [
    "## 200. Number of Island (String Matrix, Recursion-Backtracking) (Amazon 75, Google 15, Microsoft 12)\n",
    "\n",
    "O(N*M)  \n",
    "O(1)"
   ]
  },
  {
   "cell_type": "code",
   "execution_count": null,
   "metadata": {},
   "outputs": [],
   "source": [
    "class Solution:\n",
    "    def numIslands(self, matrix):\n",
    "        \"\"\"\n",
    "        :type grid: List[List[str]]\n",
    "        :rtype: int\n",
    "        \"\"\"\n",
    "        \n",
    "        if not matrix:\n",
    "            return 0\n",
    "\n",
    "        def backtrack(i, j):\n",
    "            if i < 0 or i > len(matrix) - 1 or j < 0 or j > len(matrix[0]) - 1 or matrix[i][j] != '1':\n",
    "                return\n",
    "        \n",
    "            matrix[i][j] = '#'\n",
    "            backtrack(i+1, j)\n",
    "            backtrack(i-1, j)\n",
    "            backtrack(i, j+1)\n",
    "            backtrack(i, j-1)\n",
    "        \n",
    "        res = 0\n",
    "        for i in range(len(matrix)):\n",
    "            for j in range(len(matrix[0])):\n",
    "                if matrix[i][j] == '1':\n",
    "                    backtrack(i, j)\n",
    "                    res += 1\n",
    "        return res"
   ]
  },
  {
   "cell_type": "code",
   "execution_count": 71,
   "metadata": {},
   "outputs": [
    {
     "name": "stdout",
     "output_type": "stream",
     "text": [
      "4\n",
      "1\n",
      "1\n",
      "0\n",
      "0\n",
      "0\n",
      "1\n",
      "1\n",
      "0\n",
      "0\n",
      "0\n",
      "0\n",
      "0\n",
      "1\n",
      "0\n",
      "0\n",
      "0\n",
      "0\n",
      "0\n",
      "1\n",
      "1\n"
     ]
    }
   ],
   "source": [
    "grid = [[1,1,0,0,0],\n",
    "        [1,1,0,0,0],\n",
    "        [0,0,1,0,0],\n",
    "        [0,0,0,1,1]]\n",
    "\n",
    "print(len(grid))\n",
    "\n",
    "for i in range(len(grid)):\n",
    "    for j in range(len(grid[0])):\n",
    "        print(grid[i][j])"
   ]
  },
  {
   "cell_type": "markdown",
   "metadata": {},
   "source": [
    "## 329. Longest Increasing Path in a Matrix (Matrix, DP, Recursion-Backtracking) (Google 4, Facebook 4)\n",
    "O(m*n)  \n",
    "O(m*n)"
   ]
  },
  {
   "cell_type": "code",
   "execution_count": 29,
   "metadata": {},
   "outputs": [],
   "source": [
    "class Solution:\n",
    "    def longestIncreasingPath(self, matrix):\n",
    "        \"\"\"\n",
    "        :type matrix: List[List[int]]\n",
    "        :rtype: int\n",
    "        \"\"\"\n",
    "        if not matrix: \n",
    "            return 0\n",
    "        \n",
    "        def dfs(i, j):\n",
    "            \n",
    "            \n",
    "            if not dp[i][j]:                \n",
    "                dp[i][j] = 1 + max(\n",
    "                    backtrack(i - 1, j) if i > 0 and matrix[i][j] > matrix[i - 1][j] else 0,\n",
    "                    backtrack(i + 1, j) if i < m - 1 and matrix[i][j] > matrix[i + 1][j] else 0,\n",
    "                    backtrack(i, j - 1) if j > 0 and matrix[i][j] > matrix[i][j - 1] else 0,\n",
    "                    backtrack(i, j + 1) if j < n - 1 and matrix[i][j] > matrix[i][j + 1] else 0)\n",
    "            \n",
    "            return dp[i][j]\n",
    "        \n",
    "        m = len(matrix)\n",
    "        n = len(matrix[0])\n",
    "        dp = [[0] * n for i in range(m)]\n",
    "#         print('dp=',dp)\n",
    "        \n",
    "        res = []\n",
    "        for i in range(m):\n",
    "            for j in range(n):\n",
    "                res.append(backtrack(i, j))\n",
    "        return max(res)"
   ]
  },
  {
   "cell_type": "code",
   "execution_count": 30,
   "metadata": {},
   "outputs": [
    {
     "name": "stdout",
     "output_type": "stream",
     "text": [
      "dp= [[0, 0, 0], [0, 0, 0], [0, 0, 0]]\n"
     ]
    },
    {
     "data": {
      "text/plain": [
       "4"
      ]
     },
     "execution_count": 30,
     "metadata": {},
     "output_type": "execute_result"
    }
   ],
   "source": [
    "s = Solution()\n",
    "\n",
    "matrix = [\n",
    "  [9,9,4],\n",
    "  [6,6,8],\n",
    "  [2,1,1]\n",
    "] \n",
    "\n",
    "s.longestIncreasingPath(matrix)"
   ]
  },
  {
   "cell_type": "markdown",
   "metadata": {},
   "source": [
    "51. N-Queens"
   ]
  },
  {
   "cell_type": "markdown",
   "metadata": {},
   "source": [
    "## 947. Most Stones Removed with Same Row or Column (Matrix, Recursion-Backtracking) (Google 8)\n",
    "O(MN)  \n",
    "O(MN)\n",
    "https://www.jianshu.com/p/30d2058db7f7"
   ]
  },
  {
   "cell_type": "code",
   "execution_count": 28,
   "metadata": {},
   "outputs": [],
   "source": [
    "import collections\n",
    "class Solution:\n",
    "    def removeStones(self, points):\n",
    "        \"\"\"\n",
    "        :type stones: List[List[int]]\n",
    "        :rtype: int\n",
    "        \"\"\"\n",
    "        \n",
    "        index = collections.defaultdict(set)\n",
    "        for i, j in points:\n",
    "            index[i].add(j + 10000)\n",
    "            index[j + 10000].add(i)\n",
    "\n",
    "        print(index)    \n",
    "\n",
    "        def backtrack(i):\n",
    "            seen.add(i)\n",
    "            for j in index[i]:\n",
    "                if j not in seen:\n",
    "                    backtrack(j)\n",
    "\n",
    "        seen = set()\n",
    "        islands = 0\n",
    "        for i, j in points:\n",
    "            if i not in seen:\n",
    "                islands += 1\n",
    "                backtrack(i)\n",
    "                backtrack(j + 10000)\n",
    "        return len(points) - islands"
   ]
  },
  {
   "cell_type": "code",
   "execution_count": 29,
   "metadata": {},
   "outputs": [
    {
     "name": "stdout",
     "output_type": "stream",
     "text": [
      "defaultdict(<class 'set'>, {0: {10000, 10001}, 10000: {0, 1}, 10001: {0, 2}, 1: {10000, 10002}, 10002: {1, 2}, 2: {10001, 10002}})\n"
     ]
    },
    {
     "data": {
      "text/plain": [
       "5"
      ]
     },
     "execution_count": 29,
     "metadata": {},
     "output_type": "execute_result"
    }
   ],
   "source": [
    "s = Solution()\n",
    "stones = [[0,0],[0,1],[1,0],[1,2],[2,1],[2,2]]\n",
    "s.removeStones(stones)"
   ]
  },
  {
   "cell_type": "markdown",
   "metadata": {},
   "source": [
    "## 529. Minesweeper (Uber 10, Amazon 4, Microsoft 3)"
   ]
  },
  {
   "cell_type": "code",
   "execution_count": null,
   "metadata": {},
   "outputs": [],
   "source": [
    "class Solution:\n",
    "    def updateBoard(self, board, click):\n",
    "        \"\"\"\n",
    "        :type board: List[List[str]]\n",
    "        :type click: List[int]\n",
    "        :rtype: List[List[str]]\n",
    "        \"\"\"\n",
    "        if not board:\n",
    "            return []\n",
    "\n",
    "        m, n = len(board), len(board[0])\n",
    "        i, j = click[0], click[1]\n",
    "\n",
    "        # If a mine ('M') is revealed, then the game is over - change it to 'X'.\n",
    "        if board[i][j] == 'M':\n",
    "            board[i][j] = 'X'\n",
    "            return board\n",
    "\n",
    "        \n",
    "        def dfs(board, i, j):\n",
    "            if board[i][j] != 'E':\n",
    "                return\n",
    "\n",
    "            m, n = len(board), len(board[0])       \n",
    "            directions = [(-1,-1), (0,-1), (1,-1), (1,0), (1,1), (0,1), (-1,1), (-1,0)]\n",
    "\n",
    "            mine_count = 0\n",
    "\n",
    "            for d in directions:\n",
    "                ni, nj = i + d[0], j + d[1]\n",
    "                if 0 <= ni < m and 0 <= nj < n and board[ni][nj] == 'M':        \n",
    "                    mine_count += 1\n",
    "\n",
    "            if mine_count == 0:\n",
    "                board[i][j] = 'B'\n",
    "            else:\n",
    "                board[i][j] = str(mine_count)\n",
    "                return\n",
    "\n",
    "            for d in directions:\n",
    "                ni, nj = i + d[0], j + d[1]\n",
    "                if 0 <= ni < m and 0 <= nj < n:\n",
    "                    dfs(board, ni, nj)\n",
    "        \n",
    "        # run dfs to reveal the board\n",
    "        self.dfs(board, i, j)\n",
    "        return board "
   ]
  },
  {
   "cell_type": "markdown",
   "metadata": {},
   "source": [
    "## 489. Robot Room Cleaner (DFS, Recursion) (Facebook 6, Google 5) (Hard)\n",
    "\n"
   ]
  },
  {
   "cell_type": "code",
   "execution_count": null,
   "metadata": {},
   "outputs": [],
   "source": [
    "# \"\"\"\n",
    "# This is the robot's control interface.\n",
    "# You should not implement it, or speculate about its implementation\n",
    "# \"\"\"\n",
    "#class Robot:\n",
    "#    def move(self):\n",
    "#        \"\"\"\n",
    "#        Returns true if the cell in front is open and robot moves into the cell.\n",
    "#        Returns false if the cell in front is blocked and robot stays in the current cell.\n",
    "#        :rtype bool\n",
    "#        \"\"\"\n",
    "#\n",
    "#    def turnLeft(self):\n",
    "#        \"\"\"\n",
    "#        Robot will stay in the same cell after calling turnLeft/turnRight.\n",
    "#        Each turn will be 90 degrees.\n",
    "#        :rtype void\n",
    "#        \"\"\"\n",
    "#\n",
    "#    def turnRight(self):\n",
    "#        \"\"\"\n",
    "#        Robot will stay in the same cell after calling turnLeft/turnRight.\n",
    "#        Each turn will be 90 degrees.\n",
    "#        :rtype void\n",
    "#        \"\"\"\n",
    "#\n",
    "#    def clean(self):\n",
    "#        \"\"\"\n",
    "#        Clean the current cell.\n",
    "#        :rtype void\n",
    "#        \"\"\"\n",
    "\n",
    "class Solution:\n",
    "    def cleanRoom(self, robot):\n",
    "        \"\"\"\n",
    "        :type robot: Robot\n",
    "        :rtype: None\n",
    "        \"\"\"\n",
    "        \n",
    "        def dfs(robot, x, y, direction_x, direction_y, visited):\n",
    "            \n",
    "            robot.clean()\n",
    "            visited.add((x, y))\n",
    "\n",
    "            for k in range(4):\n",
    "                neighbor_x = x + direction_x\n",
    "                neighbor_y = y + direction_y\n",
    "                if (neighbor_x, neighbor_y) not in visited and robot.move():\n",
    "                    dfs(robot, neighbor_x, neighbor_y, direction_x, direction_y, visited)\n",
    "                    robot.turnLeft()\n",
    "                    robot.turnLeft()\n",
    "                    robot.move()\n",
    "                    robot.turnLeft()\n",
    "                    robot.turnLeft()\n",
    "                    \n",
    "                robot.turnLeft()\n",
    "                direction_x, direction_y = -direction_y, direction_x\n",
    "        \n",
    "        dfs(robot, 0, 0, 0, 1, set())"
   ]
  },
  {
   "cell_type": "markdown",
   "metadata": {},
   "source": [
    "## 733. Flood Fill (DFS-Recursion) (Amazon 8)\n",
    "\n",
    "O(N)  \n",
    "O(N)"
   ]
  },
  {
   "cell_type": "code",
   "execution_count": null,
   "metadata": {},
   "outputs": [],
   "source": [
    "class Solution(object):\n",
    "    def floodFill(self, image, sr, sc, newColor):\n",
    "        m, n = len(image), len(image[0])\n",
    "        color = image[sr][sc]\n",
    "        if color == newColor: \n",
    "            return image\n",
    "        \n",
    "        def dfs(r, c):\n",
    "            if image[r][c] == color:\n",
    "                image[r][c] = newColor\n",
    "                if r >= 1: \n",
    "                    dfs(r-1, c)\n",
    "                if r+1 < m: \n",
    "                    dfs(r+1, c)\n",
    "                if c >= 1: \n",
    "                    dfs(r, c-1)\n",
    "                if c+1 < n: \n",
    "                    dfs(r, c+1)\n",
    "\n",
    "        dfs(sr, sc)\n",
    "        return image"
   ]
  },
  {
   "cell_type": "markdown",
   "metadata": {
    "toc-hr-collapsed": false
   },
   "source": [
    "## 675. Cut Off Trees for Golf Event (BFS-Iteration) (Amazon 6) (Hard)\n"
   ]
  },
  {
   "cell_type": "code",
   "execution_count": null,
   "metadata": {},
   "outputs": [],
   "source": [
    "from collections import deque\n",
    "\n",
    "class Solution:\n",
    "    def cutOffTree(self, forest):\n",
    "        trees = sorted((v, r, c) for r, row in enumerate(forest)\n",
    "                       for c, v in enumerate(row) if v > 1)\n",
    "        sr = sc = ans = 0\n",
    "        \n",
    "        def bfs(forest, sr, sc, tr, tc):\n",
    "            R, C = len(forest), len(forest[0])\n",
    "            queue = deque([(sr, sc, 0)])\n",
    "            seen = {(sr, sc)}\n",
    "            while queue:\n",
    "                r, c, d = queue.popleft()\n",
    "                if r == tr and c == tc:\n",
    "                    return d\n",
    "                for nr, nc in ((r-1, c), (r+1, c), (r, c-1), (r, c+1)):\n",
    "                    if (0 <= nr < R and 0 <= nc < C and\n",
    "                            (nr, nc) not in seen and forest[nr][nc]):\n",
    "                        seen.add((nr, nc))\n",
    "                        queue.append((nr, nc, d+1))\n",
    "            return -1\n",
    "\n",
    "        \n",
    "        for _, tr, tc in trees:\n",
    "            d = bfs(forest, sr, sc, tr, tc)\n",
    "            if d < 0: \n",
    "                return -1\n",
    "            ans += d\n",
    "            sr, sc = tr, tc\n",
    "        return ans"
   ]
  },
  {
   "cell_type": "markdown",
   "metadata": {},
   "source": [
    "### Linked Lists. Pointers-Iteration. O(N) O(1)"
   ]
  },
  {
   "cell_type": "code",
   "execution_count": 15,
   "metadata": {},
   "outputs": [
    {
     "data": {
      "text/plain": [
       "2"
      ]
     },
     "execution_count": 15,
     "metadata": {},
     "output_type": "execute_result"
    },
    {
     "data": {
      "text/plain": [
       "3"
      ]
     },
     "execution_count": 15,
     "metadata": {},
     "output_type": "execute_result"
    }
   ],
   "source": [
    "class ListNode(object):\n",
    "    def __init__(self, x):\n",
    "        self.val = x\n",
    "        self.next = None\n",
    "        \n",
    "\n",
    "\n",
    "x= ListNode(2)\n",
    "l = []\n",
    "l.append(x)\n",
    "l[0].val\n",
    "\n",
    "x.val = 3\n",
    "l[0].val"
   ]
  },
  {
   "cell_type": "markdown",
   "metadata": {},
   "source": [
    "## 83. Remove Duplicates from Sorted List (Pointers-Iteration) (Amazon 6, Microsoft 2)\n",
    "O(N)  \n",
    "O(1)"
   ]
  },
  {
   "cell_type": "code",
   "execution_count": null,
   "metadata": {},
   "outputs": [],
   "source": [
    "class Solution:\n",
    "    def deleteDuplicates(self, head):\n",
    "        \"\"\"\n",
    "        :type head: ListNode\n",
    "        :rtype: ListNode\n",
    "        \"\"\"\n",
    "        cur = head\n",
    "        while cur and cur.next:\n",
    "            if cur.val == cur.next.val:\n",
    "                cur.next = cur.next.next\n",
    "                \n",
    "            else:\n",
    "                cur = cur.next\n",
    "                \n",
    "        return head"
   ]
  },
  {
   "cell_type": "markdown",
   "metadata": {},
   "source": [
    "## 206. Reverse Linked List (Pointers-Iteration or Recursion) (Amazon 24, Microsoft 9, Google 7)\n",
    "\n",
    "O(N)  \n",
    "O(1)"
   ]
  },
  {
   "cell_type": "code",
   "execution_count": null,
   "metadata": {},
   "outputs": [],
   "source": [
    "# Definition for singly-linked list.\n",
    "# class ListNode:\n",
    "#     def __init__(self, x):\n",
    "#         self.val = x\n",
    "#         self.next = None\n",
    "\n",
    "\n",
    "class Solution:        \n",
    "    def reverseList(self, head):  # Iterative\n",
    "        prev = None\n",
    "        while head:\n",
    "            tmp = head.next\n",
    "            head.next = prev\n",
    "            prev = head\n",
    "            head = tmp\n",
    "        return prev\n",
    "\n",
    "class Solution:        \n",
    "    def reverseList(self, head):  # Iterative\n",
    "        cur = head\n",
    "        prev = None\n",
    "        while cur:\n",
    "            cur = cur.next\n",
    "            head.next = prev\n",
    "            prev = head\n",
    "            head = cur\n",
    "        return prev"
   ]
  },
  {
   "cell_type": "code",
   "execution_count": null,
   "metadata": {},
   "outputs": [],
   "source": [
    "# O(N)\n",
    "# O(N)\n",
    "class Solution:\n",
    "    def reverseList(self, head): # Recursive\n",
    "        \"\"\"\n",
    "        :type head: ListNode\n",
    "        :rtype: ListNode\n",
    "        \"\"\"\n",
    "        def recursive(head, head2):\n",
    "            if head:\n",
    "                nxt = head.next\n",
    "                head.next = head2\n",
    "                return recursive(nxt, head)\n",
    "            else:\n",
    "                return head2\n",
    "\n",
    "        return recursive(head, None)"
   ]
  },
  {
   "cell_type": "markdown",
   "metadata": {},
   "source": [
    "## 92. (2) Reverse Linked List II (Pointers-Iteration) (Microsoft 4, Amazon 4)"
   ]
  },
  {
   "cell_type": "code",
   "execution_count": null,
   "metadata": {},
   "outputs": [],
   "source": [
    "class Solution:\n",
    "    def reverseBetween(self, head: ListNode, m: int, n: int) -> ListNode:\n",
    "        if not head:\n",
    "            return \n",
    "        \n",
    "        new = ListNode(-1)\n",
    "        new.next = head\n",
    "        \n",
    "        left = new\n",
    "        for i in range(m-1):\n",
    "            left = left.next\n",
    "        \n",
    "        right = left.next\n",
    "        for i in range(n-m):\n",
    "            tmp = right.next\n",
    "            right.next = tmp.next\n",
    "            tmp.next = left.next\n",
    "            left.next = tmp\n",
    "        return new.next"
   ]
  },
  {
   "cell_type": "markdown",
   "metadata": {},
   "source": [
    "## (2) 328. Odd Even Linked List (Pointers-Iteration) (Microsoft 5)\n",
    "O(N)  \n",
    "O(1)"
   ]
  },
  {
   "cell_type": "code",
   "execution_count": null,
   "metadata": {},
   "outputs": [],
   "source": [
    "class Solution:\n",
    "    def oddEvenList(self, head):\n",
    "        \"\"\"\n",
    "        :type head: ListNode\n",
    "        :rtype: ListNode\n",
    "        \"\"\"\n",
    "        if not head:\n",
    "            return \n",
    "        \n",
    "        odd = head\n",
    "        even = head.next\n",
    "        tmp = even\n",
    "        \n",
    "        while even and even.next:\n",
    "            odd.next = even.next\n",
    "            odd = odd.next\n",
    "            even.next = odd.next\n",
    "            even = even.next\n",
    "            \n",
    "        odd.next = tmp\n",
    "        return head"
   ]
  },
  {
   "cell_type": "markdown",
   "metadata": {},
   "source": [
    "## 234. Palindrome Linked List (Pointers-Iteration) (Microsoft 6, Amazon 5)\n",
    "O(N)  \n",
    "O(1)"
   ]
  },
  {
   "cell_type": "code",
   "execution_count": null,
   "metadata": {},
   "outputs": [],
   "source": [
    "# Definition for singly-linked list.\n",
    "# class ListNode(object):\n",
    "#     def __init__(self, x):\n",
    "#         self.val = x\n",
    "#         self.next = None\n",
    "\n",
    "class Solution:\n",
    "    def isPalindrome(self, head):\n",
    "        \"\"\"\n",
    "        :type head: ListNode\n",
    "        :rtype: bool\n",
    "        \"\"\"\n",
    "        fast = slow = head\n",
    "        # 找到中间节点\n",
    "        while fast and fast.next:\n",
    "            fast = fast.next.next\n",
    "            slow = slow.next\n",
    "        # 翻转后半部分\n",
    "        \n",
    "        prev = None\n",
    "        while slow:\n",
    "            tmp = slow.next\n",
    "            slow.next = prev\n",
    "            prev = slow\n",
    "            slow = tmp \n",
    "            \n",
    "#         tmp = slow\n",
    "#         prev = None\n",
    "#         while slow:\n",
    "#             slow = slow.next\n",
    "#             tmp.next = prev\n",
    "#             prev = tmp\n",
    "#             tmp = slow\n",
    "                  \n",
    "        # 比较前后两部分\n",
    "        while prev: # while prev and head:\n",
    "            if prev.val != head.val:\n",
    "                return False\n",
    "            prev = prev.next\n",
    "            head = head.next\n",
    "        return True"
   ]
  },
  {
   "cell_type": "markdown",
   "metadata": {},
   "source": [
    "## 141. Linked List Cycle (Pointers-Iteration) (Amazon 5)\n",
    "\n",
    "O(N)  \n",
    "O(1)"
   ]
  },
  {
   "cell_type": "code",
   "execution_count": null,
   "metadata": {},
   "outputs": [],
   "source": [
    "class Solution:\n",
    "    def hasCycle(self, head):\n",
    "        \"\"\"\n",
    "        :type head: ListNode\n",
    "        :rtype: bool\n",
    "        \"\"\"\n",
    "        slow = fast = head\n",
    "        while fast and fast.next:\n",
    "            slow = slow.next\n",
    "            fast = fast.next.next\n",
    "            if fast == fast:\n",
    "                return True\n",
    "        return False"
   ]
  },
  {
   "cell_type": "markdown",
   "metadata": {},
   "source": [
    "## 160. Intersection of Two Linked List (Pointers-Iteration) (Microsoft 3)\n",
    "\n",
    "O(m+n)  \n",
    "O(1)"
   ]
  },
  {
   "cell_type": "code",
   "execution_count": 11,
   "metadata": {},
   "outputs": [],
   "source": [
    "class Solution:\n",
    "    def getIntersectionNode(self, head1, head2):\n",
    "        \"\"\"\n",
    "        :type head1, head1: ListNode\n",
    "        :rtype: ListNode\n",
    "        \"\"\"\n",
    "        p1 = head1\n",
    "        p2 = head2\n",
    "        while p1 is not p2:\n",
    "            if p1:\n",
    "                p1 = p1.next\n",
    "            else:\n",
    "                p1 = head2\n",
    "                \n",
    "            if p2:\n",
    "                p2 = p2.next\n",
    "            else:\n",
    "                p2 = head1\n",
    "            \n",
    "#             p1 = p1.next if p1 else head2\n",
    "#             p2 = p2.next if p2 else head1\n",
    "        return p1"
   ]
  },
  {
   "cell_type": "markdown",
   "metadata": {},
   "source": [
    "## 19. Remove Nth Node From End of List (Pointers-Iteration)(Microsoft 2)   \n",
    "O(N)  \n",
    "O(1)"
   ]
  },
  {
   "cell_type": "code",
   "execution_count": null,
   "metadata": {},
   "outputs": [],
   "source": [
    "# Definition for singly-linked list.\n",
    "# class ListNode:\n",
    "#     def __init__(self, x):\n",
    "#         self.val = x\n",
    "#         self.next = None\n",
    "\n",
    "class Solution:\n",
    "    def removeNthFromEnd(self, head, n):\n",
    "        \"\"\"\n",
    "        :type head: ListNode\n",
    "        :type n: int\n",
    "        :rtype: ListNode\n",
    "        \"\"\"\n",
    "        slow = fast = dummy = ListNode(0)\n",
    "        dummy.next = head\n",
    "        \n",
    "        for i in range(n):\n",
    "            fast = fast.next\n",
    "        \n",
    "        while fast.next:\n",
    "            fast = fast.next\n",
    "            slow = slow.next\n",
    "        slow.next = slow.next.next\n",
    "        return dummy.next"
   ]
  },
  {
   "cell_type": "markdown",
   "metadata": {},
   "source": [
    "## 24. Swap Node in Pair（Pointers-Iteration, Recursion) (Microsoft 5, Amazon 4)\n",
    "\n",
    "O(N)  \n",
    "O(1)"
   ]
  },
  {
   "cell_type": "code",
   "execution_count": null,
   "metadata": {},
   "outputs": [],
   "source": [
    "class Solution:\n",
    "    def swapPairs(self, head):\n",
    "        \"\"\"\n",
    "        :type head: ListNode\n",
    "        :rtype: ListNode\n",
    "        \"\"\"\n",
    "        if not head:\n",
    "            return \n",
    "        \n",
    "        cur = head\n",
    "        while cur and cur.next:\n",
    "            tmp = cur.val\n",
    "            cur.val = cur.next.val\n",
    "            cur.next.val = tmp     \n",
    "            cur = cur.next.next\n",
    "        return head"
   ]
  },
  {
   "cell_type": "code",
   "execution_count": null,
   "metadata": {},
   "outputs": [],
   "source": [
    "class Solution:\n",
    "    def swapPairs(self, head):\n",
    "        \"\"\"\n",
    "        :type head: ListNode\n",
    "        :rtype: ListNode\n",
    "        \"\"\"\n",
    "        if not head:\n",
    "            return \n",
    "        \n",
    "        if head and head.next:\n",
    "            temp = head.val\n",
    "            head.val = head.next.val\n",
    "            head.next.val = temp\n",
    "            self.swapPairs(head.next.next)\n",
    "        return head"
   ]
  },
  {
   "cell_type": "code",
   "execution_count": null,
   "metadata": {},
   "outputs": [],
   "source": [
    "class Solution:\n",
    "    def swapPairs(self, head):\n",
    "        \"\"\"\n",
    "        :type head: ListNode\n",
    "        :rtype: ListNode\n",
    "        \"\"\"\n",
    "        if not head or not head.next:\n",
    "            return head\n",
    "        \n",
    "        tmp = head.next\n",
    "        head.next = self.swapPairs(head.next.next)\n",
    "        tmp.next = head\n",
    "        return tmp"
   ]
  },
  {
   "cell_type": "code",
   "execution_count": null,
   "metadata": {},
   "outputs": [],
   "source": [
    "class Solution:\n",
    "    def swapPairs(self, head):\n",
    "        \"\"\"\n",
    "        :type head: ListNode\n",
    "        :rtype: ListNode\n",
    "        \"\"\"\n",
    "        if not head or not head.next:\n",
    "            return head\n",
    "\n",
    "        cur = dummy = ListNode(-1)\n",
    "        dummy.next = head\n",
    "\n",
    "        while cur.next and cur.next.next:\n",
    "            next_one, next_two, next_three = cur.next, cur.next.next, cur.next.next.next\n",
    "            cur.next = next_two\n",
    "            next_two.next = next_one\n",
    "            next_one.next = next_three\n",
    "            cur = next_one\n",
    "        return dummy.next"
   ]
  },
  {
   "cell_type": "markdown",
   "metadata": {},
   "source": [
    "## 445. Add Two Numbers II (Math, Pointers-Iteration) (Microsoft 7)\n",
    "O(M+N)  \n",
    "O(N)"
   ]
  },
  {
   "cell_type": "code",
   "execution_count": null,
   "metadata": {},
   "outputs": [],
   "source": [
    "class Solution:\n",
    "    def addTwoNumbers(self, l1, l2):\n",
    "        \"\"\"\n",
    "        :type l1: ListNode\n",
    "        :type l2: ListNode\n",
    "        :rtype: ListNode\n",
    "        \"\"\"\n",
    "\n",
    "        x1 = 0\n",
    "        while l1:\n",
    "            x1 = x1 * 10 + l1.val\n",
    "            l1 = l1.next\n",
    "\n",
    "        x2 = 0\n",
    "        while l2:\n",
    "            x2 = x2 * 10 + l2.val\n",
    "            l2 = l2.next\n",
    "\n",
    "        x = x1 + x2\n",
    "\n",
    "        head = ListNode(0)\n",
    "        cur = head\n",
    "        for c in str(x):\n",
    "            cur.next = ListNode(int(c))\n",
    "            cur = cur.next\n",
    "            \n",
    "#         node_tmp = None\n",
    "#         while x > 0:\n",
    "#             n = x % 10\n",
    "#             new_node = ListNode(n)\n",
    "#             new_node.next = node_tmp\n",
    "#             node_tmp = new_node\n",
    "#             x = x // 10\n",
    "#         return node_tmp\n",
    "\n",
    "        return head.next"
   ]
  },
  {
   "cell_type": "markdown",
   "metadata": {},
   "source": [
    "## 2. Add Two Numbers (Math, Pointer-Iteration. Recursion) (Amazon 50, Google 16, Microsoft 16, Apple 15, Facebook 7)\n",
    "\n",
    "时间复杂度: O(N)  \n",
    "因为时间复杂度无法减小，我们一定得遍历完l1和l2的每一位才能得到最终的结果，O(N)没得商量  \n",
    "O(N)"
   ]
  },
  {
   "cell_type": "code",
   "execution_count": null,
   "metadata": {},
   "outputs": [],
   "source": [
    "class Solution:\n",
    "    def addTwoNumbers(self, l1, l2):\n",
    "        \"\"\"\n",
    "        :type l1: ListNode\n",
    "        :type l2: ListNode\n",
    "        :rtype: ListNode\n",
    "        \"\"\"\n",
    "        head = ListNode(0)\n",
    "        cur = head\n",
    "        p = l1\n",
    "        q = l2\n",
    "        c = 0\n",
    "        \n",
    "        while p or q:\n",
    "            x = p.val if p else 0\n",
    "            y = q.val if q else 0\n",
    "            sum = x + y + c\n",
    "            c = sum // 10\n",
    "            cur.next = ListNode(sum % 10)\n",
    "            cur = cur.next\n",
    "            \n",
    "            if p:\n",
    "                p = p.next\n",
    "                \n",
    "            if q:\n",
    "                q = q.next\n",
    "                \n",
    "        if c > 0:\n",
    "            cur.next = ListNode(c)\n",
    "                \n",
    "        return head.next"
   ]
  },
  {
   "cell_type": "code",
   "execution_count": 19,
   "metadata": {},
   "outputs": [],
   "source": [
    "# Definition for singly-linked list.\n",
    "# class ListNode:\n",
    "#     def __init__(self, x):\n",
    "#         self.val = x\n",
    "#         self.next = None\n",
    "\n",
    "class Solution:\n",
    "    def addTwoNumbers(self, l1, l2, c = 0):\n",
    "        \"\"\"\n",
    "        :type l1: ListNode\n",
    "        :type l2: ListNode\n",
    "        :rtype: ListNode\n",
    "        \"\"\"\n",
    "        \n",
    "        val = l1.val + l2.val + c\n",
    "        c = val // 10\n",
    "        res = ListNode(val % 10) \n",
    "        \n",
    "        if l1.next or l2.next or c != 0:\n",
    "            if not l1.next:\n",
    "                l1.next = ListNode(0)\n",
    "            if not l2.next:\n",
    "                l2.next = ListNode(0)\n",
    "                \n",
    "            res.next = self.addTwoNumbers(l1.next, l2.next, c)\n",
    "        return res\n",
    "    \n",
    "# class Solution:\n",
    "#     def addTwoNumbers(self, l1, l2):\n",
    "#         \"\"\"\n",
    "#         :type l1: ListNode\n",
    "#         :type l2: ListNode\n",
    "#         :rtype: ListNode\n",
    "#         \"\"\"     \n",
    "#         # 因为处理到最后的时候，可能输入的 l1 和 l2 都不是一个 ListNode 而是 None 了\n",
    "#         if not l1 and not l2: \n",
    "#             return \n",
    "#         elif not (l1 and l2): # l1 和 l2 其中一个是 None \n",
    "#             return l1 or l2\n",
    "#         else: # l1 和 l2 都不是 None \n",
    "#             if l1.val + l2.val < 10: # 个位数相加没有进位\n",
    "#                 l3 = ListNode(l1.val+l2.val)\n",
    "#                 l3.next = self.addTwoNumbers(l1.next, l2.next) # 递归调用\n",
    "#             else: # # 个位数相加有进位\n",
    "#                 l3 = ListNode(l1.val+l2.val-10)\n",
    "#                 # 递归调用，记得加上进位\n",
    "#                 l3.next = self.addTwoNumbers(l1.next, self.addTwoNumbers(l2.next, ListNode(1)))\n",
    "#         return l3"
   ]
  },
  {
   "cell_type": "code",
   "execution_count": 17,
   "metadata": {},
   "outputs": [
    {
     "data": {
      "text/plain": [
       "2"
      ]
     },
     "execution_count": 17,
     "metadata": {},
     "output_type": "execute_result"
    }
   ],
   "source": [
    "%10"
   ]
  },
  {
   "cell_type": "markdown",
   "metadata": {},
   "source": [
    "## 21. Merge Two Sorted Lists (Pointers-Iteration. Recursion) (Amazon 31, Microsoft 14, Facebook 5)\n",
    "\n",
    "O(m+n)  \n",
    "O(1)"
   ]
  },
  {
   "cell_type": "code",
   "execution_count": null,
   "metadata": {},
   "outputs": [],
   "source": [
    "class Solution:\n",
    "    def mergeTwoLists(self, l1, l2):\n",
    "        # maintain an unchanging reference to node ahead of the return node.\n",
    "        head = ListNode(0)\n",
    "\n",
    "        prev = head\n",
    "        while l1 and l2:\n",
    "            if l1.val <= l2.val:\n",
    "                prev.next = l1\n",
    "                l1 = l1.next\n",
    "            else:\n",
    "                prev.next = l2\n",
    "                l2 = l2.next            \n",
    "            prev = prev.next\n",
    "\n",
    "        # exactly one of l1 and l2 can be non-null at this point, so connect\n",
    "        # the non-null list to the end of the merged list.\n",
    "        prev.next = l1 or l2\n",
    "\n",
    "        return head.next"
   ]
  },
  {
   "cell_type": "markdown",
   "metadata": {},
   "source": [
    "O(m+n)  \n",
    "O(m+n)"
   ]
  },
  {
   "cell_type": "code",
   "execution_count": 124,
   "metadata": {},
   "outputs": [],
   "source": [
    "class Solution:\n",
    "    def mergeTwoLists(self, l1, l2): \n",
    "#         if not l1 or not l2:\n",
    "#             return l1 or l2\n",
    "        \n",
    "#         if l1 == None:\n",
    "#             return l2\n",
    "#         elif l2 == None:\n",
    "#             return l1\n",
    "        \n",
    "        if not l1:\n",
    "            return l2\n",
    "        if not l2:\n",
    "            return l1\n",
    "        \n",
    "        if l1.val < l2.val:\n",
    "            l1.next = self.mergeTwoLists(l1.next, l2)\n",
    "            return l1\n",
    "        else:\n",
    "            l2.next = self.mergeTwoLists(l1, l2.next)\n",
    "            return l2\n",
    "    \n"
   ]
  },
  {
   "cell_type": "code",
   "execution_count": 123,
   "metadata": {},
   "outputs": [
    {
     "ename": "AttributeError",
     "evalue": "'NoneType' object has no attribute 'val'",
     "output_type": "error",
     "traceback": [
      "\u001b[0;31m---------------------------------------------------------------------------\u001b[0m",
      "\u001b[0;31mAttributeError\u001b[0m                            Traceback (most recent call last)",
      "\u001b[0;32m<ipython-input-123-49b6632b8b78>\u001b[0m in \u001b[0;36m<module>\u001b[0;34m\u001b[0m\n\u001b[1;32m      6\u001b[0m \u001b[0mx\u001b[0m\u001b[0;34m.\u001b[0m\u001b[0mval\u001b[0m\u001b[0;34m\u001b[0m\u001b[0;34m\u001b[0m\u001b[0m\n\u001b[1;32m      7\u001b[0m \u001b[0mx\u001b[0m\u001b[0;34m.\u001b[0m\u001b[0mnext\u001b[0m\u001b[0;34m.\u001b[0m\u001b[0mval\u001b[0m\u001b[0;34m\u001b[0m\u001b[0;34m\u001b[0m\u001b[0m\n\u001b[0;32m----> 8\u001b[0;31m \u001b[0mx\u001b[0m\u001b[0;34m.\u001b[0m\u001b[0mnext\u001b[0m\u001b[0;34m.\u001b[0m\u001b[0mnext\u001b[0m\u001b[0;34m.\u001b[0m\u001b[0mval\u001b[0m\u001b[0;34m\u001b[0m\u001b[0;34m\u001b[0m\u001b[0m\n\u001b[0m",
      "\u001b[0;31mAttributeError\u001b[0m: 'NoneType' object has no attribute 'val'"
     ]
    }
   ],
   "source": [
    "l1 = ListNode(1)\n",
    "l2 = ListNode(2)\n",
    "\n",
    "s = Solution()\n",
    "x = s.mergeTwoLists(l1,l2)\n",
    "x.val\n",
    "x.next.val"
   ]
  },
  {
   "cell_type": "code",
   "execution_count": 165,
   "metadata": {},
   "outputs": [
    {
     "name": "stdout",
     "output_type": "stream",
     "text": [
      "1\n"
     ]
    },
    {
     "data": {
      "text/plain": [
       "False"
      ]
     },
     "execution_count": 165,
     "metadata": {},
     "output_type": "execute_result"
    }
   ],
   "source": [
    "# def x(l1,l2):\n",
    "#     if l1 == None:\n",
    "#         return l2\n",
    "#     elif l2 == None:\n",
    "#         return l1\n",
    "    \n",
    "def x(l1, l2):\n",
    "    if not l1 or not l2:\n",
    "        return l1 or l2\n",
    "\n",
    "a = None\n",
    "b = ListNode(1)\n",
    "c = x(a,b)\n",
    "print(c.val)\n"
   ]
  },
  {
   "cell_type": "markdown",
   "metadata": {},
   "source": [
    "## 23. Merge k Sorted Lists (Pointers-Iteration. Recursion) (Amazon 36, Facebook 27, Microsoft 11) (Hard)\n",
    "\n",
    "O(NlogK)  \n",
    "O(N)"
   ]
  },
  {
   "cell_type": "code",
   "execution_count": null,
   "metadata": {},
   "outputs": [],
   "source": [
    "from Queue import PriorityQueue\n",
    "class Solution:\n",
    "    def mergeKLists(self, lists):\n",
    "        \"\"\"\n",
    "        :type lists: List[ListNode]\n",
    "        :rtype: ListNode\n",
    "        \"\"\"\n",
    "        cur = tmp = ListNode(0)\n",
    "        queue = PriorityQueue()\n",
    "        \n",
    "        for head in lists:\n",
    "            if head:\n",
    "                queue.put((head.val, head))\n",
    "                \n",
    "        while not queue.empty():\n",
    "            val, head = queue.get()\n",
    "            tmp.next = head\n",
    "            tmp = tmp.next\n",
    "            head = head.next\n",
    "            if head:\n",
    "                queue.put((head.val, head))\n",
    "        return cur.next"
   ]
  },
  {
   "cell_type": "code",
   "execution_count": null,
   "metadata": {},
   "outputs": [],
   "source": [
    "O(k*n)  \n",
    "O(k*n)"
   ]
  },
  {
   "cell_type": "code",
   "execution_count": null,
   "metadata": {},
   "outputs": [],
   "source": [
    "# Definition for singly-linked list.\n",
    "# class ListNode:\n",
    "#     def __init__(self, x):\n",
    "#         self.val = x\n",
    "#         self.next = None\n",
    "\n",
    "class Solution:\n",
    "    \"\"\"\n",
    "    :type lists: List[ListNode]\n",
    "    :rtype: ListNode\n",
    "    \"\"\"\n",
    "    \n",
    "    def mergeKLists(self, lists):\n",
    "        if not lists:\n",
    "            return \n",
    "        \n",
    "        return self.merge(lists, 0, len(lists) -1)\n",
    "    \n",
    "    def merge(self, lists, l, r):\n",
    "        if l == r:\n",
    "            return lists[l]\n",
    "        m = (l+r) // 2\n",
    "        l1 = self.merge(lists, l, m)\n",
    "        l2 = self.merge(lists, m+1, r)\n",
    "        return self.mergeTwoLists(l1, l2)\n",
    "    \n",
    "    def mergeTwoLists(self,l1, l2):\n",
    "        if not l1:\n",
    "            return l2\n",
    "        if not l2:\n",
    "            return l1\n",
    "        \n",
    "        if l1.val < l2.val:\n",
    "            l1.next = self.mergeTwoLists(l1.next, l2)\n",
    "            return l1\n",
    "        else:\n",
    "            l2.next = self.mergeTwoLists(l1, l2.next)\n",
    "            return l2\n",
    "        "
   ]
  },
  {
   "cell_type": "code",
   "execution_count": 24,
   "metadata": {},
   "outputs": [
    {
     "name": "stdout",
     "output_type": "stream",
     "text": [
      "0\n",
      "1\n",
      "2\n",
      "6\n"
     ]
    }
   ],
   "source": [
    "from queue import PriorityQueue\n",
    "q = PriorityQueue()\n",
    "for n in range(3):\n",
    "    q.put(n)\n",
    "\n",
    "while not q.empty():\n",
    "    x = q.get()\n",
    "    print(x)\n",
    "    \n",
    "q.put(6)\n",
    "while not q.empty():\n",
    "    y = q.get()\n",
    "    print(y)"
   ]
  },
  {
   "cell_type": "markdown",
   "metadata": {},
   "source": [
    "## 61. Rotate List (Pointers-Iteration) (Amazon 2, Microsoft 2, Linkedin 2)"
   ]
  },
  {
   "cell_type": "markdown",
   "metadata": {},
   "source": [
    "O(N)  \n",
    "O(1)"
   ]
  },
  {
   "cell_type": "code",
   "execution_count": null,
   "metadata": {},
   "outputs": [],
   "source": [
    "class Solution:\n",
    "    def rotateRight(self, head: 'ListNode', k: 'int') -> 'ListNode':\n",
    "        # base cases\n",
    "        if not head:\n",
    "            return\n",
    "        if not head.next:\n",
    "            return head\n",
    "        \n",
    "        # close the linked list into the ring\n",
    "        old_tail = head\n",
    "        n = 1\n",
    "        while old_tail.next:\n",
    "            old_tail = old_tail.next\n",
    "            n += 1\n",
    "        old_tail.next = head\n",
    "        \n",
    "        # find new tail : (n - k % n - 1)th node\n",
    "        # and new head : (n - k % n)th node\n",
    "        new_tail = head\n",
    "        for i in range(n - k % n - 1):\n",
    "            new_tail = new_tail.next\n",
    "        new_head = new_tail.next\n",
    "        \n",
    "        # break the ring\n",
    "        new_tail.next = None\n",
    "        \n",
    "        return new_head"
   ]
  },
  {
   "cell_type": "markdown",
   "metadata": {},
   "source": [
    "## Order List  \n",
    "Merge sort"
   ]
  },
  {
   "cell_type": "code",
   "execution_count": null,
   "metadata": {},
   "outputs": [],
   "source": [
    "class Solution:\n",
    "    def sortList(self, head):\n",
    "        \"\"\"\n",
    "        :type head: ListNode\n",
    "        :rtype: ListNode\n",
    "        \"\"\"\n",
    "        if not head or not head.next:\n",
    "            return head\n",
    "\n",
    "        second = self.findMid(head) # 找到链表后半段的head\n",
    "        l = self.sortList(head)\n",
    "        r = self.sortList(second)\n",
    "        return self.merge(l, r)\n",
    "\n",
    "    def merge(self, l, r): # O(NlgN)\n",
    "        if not l or not r:\n",
    "            return l or r\n",
    "        dummy = head = ListNode(None)\n",
    "        head.next = l\n",
    "        while l and r:\n",
    "            if l.val < r.val:\n",
    "                head.next = l\n",
    "                l = l.next\n",
    "            else:\n",
    "                head.next = r\n",
    "                r = r.next\n",
    "            head = head.next\n",
    "        head.next = l or r # l and r at least one is None\n",
    "        return dummy.next\n",
    "\n",
    "    def findMid(self, head):\n",
    "        fast, slow = head, head \n",
    "        while fast.next and fast.next.next:\n",
    "            fast = fast.next.next\n",
    "            slow = slow.next\n",
    "        second = slow.next\n",
    "        slow.next = None\n",
    "        return second"
   ]
  },
  {
   "cell_type": "markdown",
   "metadata": {},
   "source": [
    "## 138. Copy List with Random Pointer (Recursion) (Amazon 43, Microsoft 7, Facebook 5)\n",
    "\n",
    "时间复杂度: O(N)  \n",
    "O(N)"
   ]
  },
  {
   "cell_type": "code",
   "execution_count": null,
   "metadata": {},
   "outputs": [],
   "source": [
    "\"\"\"\n",
    "# Definition for a Node.\n",
    "class Node(object):\n",
    "    def __init__(self, val, next, random):\n",
    "        self.val = val\n",
    "        self.next = next\n",
    "        self.random = random\n",
    "\"\"\"\n",
    "class Solution:\n",
    "    \"\"\"\n",
    "    :type head: Node\n",
    "    :rtype: Node\n",
    "    \"\"\"\n",
    "    def __init__(self):\n",
    "        self.dic = {}\n",
    "\n",
    "    def copyRandomList(self, head):\n",
    "        if not head:\n",
    "            return \n",
    "\n",
    "        if head in self.dic:\n",
    "            return self.dic[head]\n",
    "\n",
    "    \n",
    "        res = Node(head.val, None, None)\n",
    "\n",
    "        self.dic[head] = res\n",
    "\n",
    "        res.next = self.copyRandomList(head.next)\n",
    "        res.random = self.copyRandomList(head.random)\n",
    "\n",
    "        return res\n",
    "        "
   ]
  },
  {
   "cell_type": "markdown",
   "metadata": {},
   "source": [
    "## 25. Reverse Nodes in K-Group (Pointers-Iteration, Stack) (Amazon 6, Microsoft 5)(Hard)"
   ]
  },
  {
   "cell_type": "code",
   "execution_count": null,
   "metadata": {},
   "outputs": [],
   "source": [
    "class Solution:\n",
    "    def reverseKGroup(self, head, k):\n",
    "        \"\"\"\n",
    "        :type head: ListNode\n",
    "        :type k: int\n",
    "        :rtype: ListNode\n",
    "        \"\"\"\n",
    "        \n",
    "        dummy = ListNode(0)\n",
    "        p = dummy\n",
    "        while True:\n",
    "            count = k \n",
    "            stack = []\n",
    "            tmp = head\n",
    "            while count and tmp:\n",
    "                stack.append(tmp)\n",
    "                tmp = tmp.next\n",
    "                count -= 1\n",
    "            # 注意,目前tmp所在k+1位置\n",
    "            # 说明剩下的链表不够k个,跳出循环\n",
    "            if count : \n",
    "                p.next = head\n",
    "                break\n",
    "            # 翻转操作\n",
    "            while stack:\n",
    "                p.next = stack.pop()\n",
    "                p = p.next\n",
    "            #与剩下链表连接起来 \n",
    "            p.next = tmp\n",
    "            head = tmp\n",
    "        \n",
    "        return dummy.next"
   ]
  },
  {
   "cell_type": "code",
   "execution_count": null,
   "metadata": {},
   "outputs": [],
   "source": [
    "class Solution:\n",
    "    def reverseKGroup(self, head: ListNode, k: int) -> ListNode:\n",
    "        cur = head\n",
    "        count = 0\n",
    "        while cur and count!= k:\n",
    "            cur = cur.next\n",
    "            count += 1\n",
    "        if count == k:\n",
    "            cur = self.reverseKGroup(cur, k)\n",
    "            while count:\n",
    "                tmp = head.next\n",
    "                head.next = cur\n",
    "                cur = head\n",
    "                head = tmp\n",
    "                count -= 1\n",
    "            head = cur   \n",
    "        return head"
   ]
  },
  {
   "cell_type": "markdown",
   "metadata": {},
   "source": [
    "## 143. Reorder List (Pointers-Iteration, Stack) (Facebook 5)"
   ]
  },
  {
   "cell_type": "code",
   "execution_count": null,
   "metadata": {},
   "outputs": [],
   "source": [
    "class Solution:\n",
    "    def reorderList(self, head):\n",
    "        \"\"\"\n",
    "        :type head: ListNode\n",
    "        :rtype: None Do not return anything, modify head in-place instead.\n",
    "        \"\"\"\n",
    "        if not head: \n",
    "            return \n",
    "        \n",
    "        p = head\n",
    "        stack = []\n",
    "        # 把所有节点压入栈中\n",
    "        while p:\n",
    "            stack.append(p)\n",
    "            p = p.next\n",
    "        # 长度\n",
    "        n = len(stack)\n",
    "        # 找到中点前一个位置 \n",
    "        count = (n - 1) // 2\n",
    "        p = head\n",
    "        while count:\n",
    "            # 弹出栈顶\n",
    "            tmp = stack.pop()\n",
    "            # 与链头拼接\n",
    "            tmp.next = p.next\n",
    "            p.next  = tmp\n",
    "            # 移动一个位置\n",
    "            p = tmp.next\n",
    "            count -= 1\n",
    "        stack.pop().next = None"
   ]
  },
  {
   "cell_type": "markdown",
   "metadata": {},
   "source": [
    "### (33) Binary Tree. Recursion-DFS, Queue-BFS. O(N) O(N)\n",
    "\n",
    "一句话，看到树🌲就要想到递归"
   ]
  },
  {
   "cell_type": "markdown",
   "metadata": {},
   "source": [
    "## 144. Binary Tree Preorder Traversal (BT, Recursion-DFS) (Google 2)\n",
    "O(N)  \n",
    "O(N)"
   ]
  },
  {
   "cell_type": "code",
   "execution_count": null,
   "metadata": {},
   "outputs": [],
   "source": [
    "class Solution:\n",
    "    def preorderTraversal(self, root):\n",
    "        \"\"\"\n",
    "        :type root: TreeNode\n",
    "        :rtype: List[int]\n",
    "        \"\"\"\n",
    "        res = []\n",
    "        \n",
    "        def dfs(root):\n",
    "            if not root:\n",
    "                return\n",
    "            \n",
    "            res.append(root.val)\n",
    "            dfs(root.left)\n",
    "            dfs(root.right)\n",
    "            \n",
    "        dfs(root)\n",
    "        return res"
   ]
  },
  {
   "cell_type": "markdown",
   "metadata": {},
   "source": [
    "## 94. Binary Tree Inorder Traversal (BT, Recursion-DFS) (Facebook 4, Microsoft 4)\n",
    "\n",
    "O(N)  \n",
    "O(N)"
   ]
  },
  {
   "cell_type": "code",
   "execution_count": null,
   "metadata": {},
   "outputs": [],
   "source": [
    "class Solution:\n",
    "    def inorderTraversal(self, root):\n",
    "        res = []\n",
    "        \n",
    "        def dfs(root):\n",
    "            if not root:\n",
    "                return\n",
    "            \n",
    "            dfs(root.left)\n",
    "            res.append(root.val)\n",
    "            dfs(root.right)\n",
    "            \n",
    "        dfs(root)\n",
    "        return res"
   ]
  },
  {
   "cell_type": "markdown",
   "metadata": {},
   "source": [
    "## 230. Kth Smallest Element in a BST (BT, Recursion-DFS) (Microsoft 3, Amazon 3)\n",
    "O(N)  \n",
    "O(N)"
   ]
  },
  {
   "cell_type": "code",
   "execution_count": null,
   "metadata": {},
   "outputs": [],
   "source": [
    "class Solution:\n",
    "    def kthSmallest(self, root, k):\n",
    "        \"\"\"\n",
    "        :type root: TreeNode\n",
    "        :type k: int\n",
    "        :rtype: int\n",
    "        \"\"\"\n",
    "        res = []\n",
    "        def dfs(root):\n",
    "            if not root:\n",
    "                return \n",
    "    \n",
    "            # if root.left:\n",
    "            dfs(root.left)\n",
    "                \n",
    "            res.append(root.val)\n",
    "            \n",
    "            # if root.right:\n",
    "            dfs(root.right)\n",
    "            \n",
    "        dfs(root)\n",
    "        return res[k-1]"
   ]
  },
  {
   "cell_type": "markdown",
   "metadata": {},
   "source": [
    "## 285. Inorder Successor in BST (BT, Recursion-DFS) (Facebook 3, Microsoft 3)"
   ]
  },
  {
   "cell_type": "code",
   "execution_count": null,
   "metadata": {},
   "outputs": [],
   "source": [
    "class Solution:\n",
    "    def inorderSuccessor(self, root: 'TreeNode', p: 'TreeNode') -> 'TreeNode':\n",
    "            \"\"\" \n",
    "            1. 中序遍历\n",
    "            2. Morris遍历\n",
    "            \"\"\"\n",
    "            # 使用中序遍历全部节点\n",
    "            def inorder(root):\n",
    "                res = []\n",
    "\n",
    "                def dfs(root):\n",
    "                    if not root:\n",
    "                        return []\n",
    "\n",
    "                    dfs(root.left)\n",
    "                    res.append(root)\n",
    "                    dfs(root.right)\n",
    "\n",
    "                dfs(root)\n",
    "                return res\n",
    "                \n",
    "            inorderList = inorder(root)\n",
    "\n",
    "            for i in range(len(inorderList)):\n",
    "                # 注意判断越界\n",
    "                if inorderList[i].val == p.val and i < len(inorderList) - 1:\n",
    "                    return inorderList[i+1]\n",
    "            return None\n"
   ]
  },
  {
   "cell_type": "markdown",
   "metadata": {},
   "source": [
    "## 99. Recover Binary Search Tree (BST, Recursion-DFS) (Microsoft 3)"
   ]
  },
  {
   "cell_type": "code",
   "execution_count": null,
   "metadata": {},
   "outputs": [],
   "source": [
    "class Solution:\n",
    "    def recoverTree(self, root):\n",
    "        \"\"\"\n",
    "        Do not return anything, modify root in-place instead.\n",
    "        \"\"\"\n",
    "        def dfs(root): \n",
    "            if not root:\n",
    "                return []\n",
    "            \n",
    "            dfs(root.left)\n",
    "            nodes.append(root)\n",
    "            vals.append(root.val)\n",
    "            dfs(root.right)\n",
    "    \n",
    "        nodes = []\n",
    "        vals = []\n",
    "        dfs(root)\n",
    "        vals.sort()\n",
    "\n",
    "        for i in range(len(vals)):\n",
    "            if nodes[i].val != vals[i]:\n",
    "                nodes[i].val = vals[i]"
   ]
  },
  {
   "cell_type": "code",
   "execution_count": null,
   "metadata": {},
   "outputs": [],
   "source": [
    "# O(N)\n",
    "# O(N)\n",
    "class Solution:\n",
    "    def recoverTree(self, root):\n",
    "        \"\"\"\n",
    "        Do not return anything, modify root in-place instead.\n",
    "        \"\"\"\n",
    "        def dfs(root): \n",
    "            if root: \n",
    "                dfs(root.left)\n",
    "                nodes.append(root)\n",
    "                vals.append(root.val)\n",
    "                dfs(root.right)\n",
    "    \n",
    "        nodes = []\n",
    "        vals = []\n",
    "        dfs(root)\n",
    "        vals.sort()\n",
    "\n",
    "        for i in range(len(vals)):\n",
    "            if nodes[i].val != vals[i]:\n",
    "                nodes[i].val = vals[i]"
   ]
  },
  {
   "cell_type": "code",
   "execution_count": null,
   "metadata": {},
   "outputs": [],
   "source": [
    "class Solution:\n",
    "    def recoverTree(self, root: TreeNode):\n",
    "        \"\"\"\n",
    "        :rtype: void Do not return anything, modify root in-place instead.\n",
    "        \"\"\"\n",
    "        stack = []\n",
    "        x = y = pred = None\n",
    "        \n",
    "        while stack or root:\n",
    "            while root:\n",
    "                stack.append(root)\n",
    "                root = root.left\n",
    "            root = stack.pop()\n",
    "            if pred and root.val < pred.val:\n",
    "                y = root\n",
    "                if x is None:\n",
    "                    x = pred \n",
    "                else:\n",
    "                    break\n",
    "            pred = root\n",
    "            root = root.right\n",
    "\n",
    "        x.val, y.val = y.val, x.val"
   ]
  },
  {
   "cell_type": "markdown",
   "metadata": {},
   "source": [
    "## 98. (5) Validate Binary Search Tree (BST, Recursion-DFS, Queue-BFS) (Facebook 24, Amazon 14, Microsoft 7)\n",
    "\n",
    "O(N) since we visit each node exactly once.  \n",
    "O(N) since we keep up to the entire tree."
   ]
  },
  {
   "cell_type": "code",
   "execution_count": null,
   "metadata": {},
   "outputs": [],
   "source": [
    "# Definition for a binary tree node.\n",
    "# class TreeNode(object):\n",
    "#     def __init__(self, x):\n",
    "#         self.val = x\n",
    "#         self.left = None\n",
    "#         self.right = None\n",
    "\n",
    "class Solution:\n",
    "    def isValidBST(self, root):\n",
    "        \"\"\"\n",
    "        :type root: TreeNode\n",
    "        :rtype: bool\n",
    "        \"\"\"\n",
    "        def dfs(root, lower = float('-inf'), upper = float('inf')):\n",
    "            if not root:\n",
    "                return True\n",
    "            \n",
    "            if root.val <= lower or root.val >= upper:\n",
    "                return False\n",
    "            \n",
    "            return dfs(root.left, lower, root.val) and dfs(root.right, root.val, upper)\n",
    "        \n",
    "#             if not dfs(root.right, root.val, upper):\n",
    "#                 return False\n",
    "#             if not dfs(root.left, lower, root.val):\n",
    "#                 return False\n",
    "#             return True\n",
    "\n",
    "        return dfs(root)"
   ]
  },
  {
   "cell_type": "code",
   "execution_count": null,
   "metadata": {},
   "outputs": [],
   "source": [
    "#O(N)\n",
    "#O(N)\n",
    "class Solution:\n",
    "    def isValidBST(self, root):\n",
    "        \"\"\"\n",
    "        :type root: TreeNode\n",
    "        :rtype: bool\n",
    "        \"\"\"\n",
    "        if not root:\n",
    "            return True\n",
    "            \n",
    "        stack = [(root, float('-inf'), float('inf')), ] \n",
    "        while stack:\n",
    "            root, lower, upper = stack.pop()\n",
    "            if not root:\n",
    "                continue\n",
    "            val = root.val\n",
    "            if val <= lower or val >= upper:\n",
    "                return False\n",
    "            stack.append((root.right, val, upper))\n",
    "            stack.append((root.left, lower, val))\n",
    "        return True  "
   ]
  },
  {
   "cell_type": "markdown",
   "metadata": {},
   "source": [
    "## 235. Lowest Common Ancestor of a Binary Search Tree (BST, Recursion-DFS, Queue-BFS) (Linkedin 8)"
   ]
  },
  {
   "cell_type": "code",
   "execution_count": 1,
   "metadata": {},
   "outputs": [],
   "source": [
    "#O(N)\n",
    "#O(1)\n",
    "class Solution:\n",
    "    def lowestCommonAncestor(self, root, p, q):\n",
    "        \"\"\"\n",
    "        :type root: TreeNode\n",
    "        :type p: TreeNode\n",
    "        :type q: TreeNode\n",
    "        :rtype: TreeNode\n",
    "        \"\"\"\n",
    "        node = root\n",
    "        while node:\n",
    "            if p.val > node.val and q.val > node.val:    \n",
    "                # If both p and q are greater than parent\n",
    "                node = node.right\n",
    "            elif p.val < node.val and q.val < node.val:\n",
    "                # If both p and q are lesser than parent\n",
    "                node = node.left\n",
    "            else:\n",
    "                # We have found the split point, i.e. the LCA node.\n",
    "                return node"
   ]
  },
  {
   "cell_type": "code",
   "execution_count": null,
   "metadata": {},
   "outputs": [],
   "source": [
    "#O(N)\n",
    "#O(N)\n",
    "class Solution:\n",
    "    def lowestCommonAncestor(self, root, p, q):\n",
    "        \"\"\"\n",
    "        :type root: TreeNode\n",
    "        :type p: TreeNode\n",
    "        :type q: TreeNode\n",
    "        :rtype: TreeNode\n",
    "        \"\"\"\n",
    "        # If both p and q are greater than parent\n",
    "        if p.val > root.val and q.val > root.val:    \n",
    "            return self.lowestCommonAncestor(root.right, p, q)\n",
    "        # If both p and q are lesser than parent\n",
    "        elif p.val < root.val and q.val < root.val:    \n",
    "            return self.lowestCommonAncestor(root.left, p, q)\n",
    "        # We have found the split point, i.e. the LCA node.\n",
    "\n",
    "        return root"
   ]
  },
  {
   "cell_type": "markdown",
   "metadata": {},
   "source": [
    "## 236. (5) Lowest Common Ancestor of a Binary Tree (BT,Recursion-DFS, Queue-BFS) (Facebook 11, Amazon 9, Microsoft 8)\n",
    "\n",
    "O(N) where N is the number of nodes in the BT. In the worst case we might be visiting all the nodes of the BT.  \n",
    "O(N) This is because the maximum amount of space utilized by the recursion stack would be N since the height of a skewed BT could be N."
   ]
  },
  {
   "cell_type": "code",
   "execution_count": null,
   "metadata": {},
   "outputs": [],
   "source": [
    "class Solution:\n",
    "    def lowestCommonAncestor(self, root, p, q):\n",
    "        \"\"\"\n",
    "        :type root: TreeNode\n",
    "        :type p: TreeNode\n",
    "        :type q: TreeNode\n",
    "        :rtype: TreeNode\n",
    "        \"\"\"\n",
    "        if not root:\n",
    "            return \n",
    "        \n",
    "        if root.val == p.val or root.val == q.val:\n",
    "            return root\n",
    "        \n",
    "        left = self.lowestCommonAncestor(root.left, p, q)\n",
    "        right = self.lowestCommonAncestor(root.right, p, q)\n",
    "        \n",
    "        \n",
    "        # if not left and not right:\n",
    "        #     return \n",
    "        \n",
    "        if left and right:\n",
    "            return root     \n",
    "        if left:\n",
    "            return left\n",
    "        if right:\n",
    "            return right"
   ]
  },
  {
   "cell_type": "code",
   "execution_count": null,
   "metadata": {},
   "outputs": [],
   "source": [
    "class Solution:\n",
    "\n",
    "    def lowestCommonAncestor(self, root, p, q):\n",
    "        \"\"\"\n",
    "        :type root: TreeNode\n",
    "        :type p: TreeNode\n",
    "        :type q: TreeNode\n",
    "        :rtype: TreeNode\n",
    "        \"\"\"\n",
    "\n",
    "        # Stack for tree traversal\n",
    "        stack = [root]\n",
    "\n",
    "        # Dictionary for parent pointers\n",
    "        parent = {root: None}\n",
    "\n",
    "        # Iterate until we find both the nodes p and q\n",
    "        while p not in parent or q not in parent:\n",
    "\n",
    "            node = stack.pop()\n",
    "\n",
    "            # While traversing the tree, keep saving the parent pointers.\n",
    "            if node.left:\n",
    "                parent[node.left] = node\n",
    "                stack.append(node.left)\n",
    "            if node.right:\n",
    "                parent[node.right] = node\n",
    "                stack.append(node.right)\n",
    "\n",
    "        # Ancestors set() for node p.\n",
    "        ancestors = set()\n",
    "\n",
    "        # Process all ancestors for node p using parent pointers.\n",
    "        while p:\n",
    "            ancestors.add(p)\n",
    "            p = parent[p]\n",
    "\n",
    "        # The first ancestor of q which appears in\n",
    "        # p's ancestor set() is their lowest common ancestor.\n",
    "        while q not in ancestors:\n",
    "            q = parent[q]\n",
    "        return q"
   ]
  },
  {
   "cell_type": "markdown",
   "metadata": {},
   "source": [
    "## 100. Same Tree (BT, Recursion-DFS) (Amazon 5, Microsoft 2, Google 2)\n",
    "O(N)  \n",
    "O(logN) ~ O(N)"
   ]
  },
  {
   "cell_type": "code",
   "execution_count": null,
   "metadata": {},
   "outputs": [],
   "source": [
    "class Solution:\n",
    "    def isSameTree(self, root1, root2):\n",
    "        \"\"\"\n",
    "        :type p: TreeNode\n",
    "        :type q: TreeNode\n",
    "        :rtype: bool\n",
    "        \"\"\"    \n",
    "        # p and q are both None\n",
    "        if not root1 and not root2:\n",
    "            return True\n",
    "        # one of p and q is None\n",
    "        if not root1 or not root2 or root1.val != root2.val:\n",
    "            return False\n",
    "        \n",
    "        return self.isSameTree(root1.left, root2.left) and self.isSameTree(root1.right, root2.right)"
   ]
  },
  {
   "cell_type": "markdown",
   "metadata": {},
   "source": [
    "## 101. Symmetric Tree (BT, Recursion-DFS) (Amazon 6, Google 5)\n",
    "\n",
    "O(N)  \n",
    "O(N)"
   ]
  },
  {
   "cell_type": "code",
   "execution_count": null,
   "metadata": {},
   "outputs": [],
   "source": [
    "class Solution:\n",
    "    def isSymmetric(self, root):\n",
    "        \"\"\"\n",
    "        :type root: TreeNode\n",
    "        :rtype: bool\n",
    "        \"\"\"\n",
    "        if not root:\n",
    "            return True\n",
    "        \n",
    "        def dfs(root1, root2):\n",
    "            if not root1 and not root2:\n",
    "                return True\n",
    "            if not root1 or not root2 or root1.val != root2.val:\n",
    "                return False\n",
    "            # root1 == root2\n",
    "            return dfs(root1.left, root2.right) and dfs(root1.right, root2.left)\n",
    "        \n",
    "        return dfs(root.left, root.right)"
   ]
  },
  {
   "cell_type": "markdown",
   "metadata": {},
   "source": [
    "## 572. Subtree of Another Tree (BT, Recursion-DFS) (Amazon 30)  \n"
   ]
  },
  {
   "cell_type": "code",
   "execution_count": null,
   "metadata": {},
   "outputs": [],
   "source": [
    "class Solution:\n",
    "    def isSubtree(self, root1, root2):\n",
    "        \"\"\"\n",
    "        :type s: TreeNode\n",
    "        :type t: TreeNode\n",
    "        :rtype: bool\n",
    "        \"\"\"\n",
    "        \n",
    "        def isSame(p, q):\n",
    "            if not p and not q:\n",
    "                return True\n",
    "            if not p or not q or p.val != q.val:\n",
    "                return False\n",
    "            return isSame(p.left,q.left) and isSame(p.right,q.right)\n",
    "        \n",
    "        \n",
    "        # if not root1 and not root2:\n",
    "        #     return True\n",
    "        \n",
    "        if not root1 or not root2:\n",
    "            return False\n",
    "        \n",
    "        if isSame(root1, root2):\n",
    "            return True\n",
    "             \n",
    "        return self.isSubtree(root1.left, root2) or self.isSubtree(root1.right, root2)"
   ]
  },
  {
   "cell_type": "markdown",
   "metadata": {},
   "source": [
    "## 951. Flip Equivalent Binary Trees (BT, Recursion-DFS) (Google 5)\n",
    "\n",
    "O(min(len(root1), len(root2)))  \n",
    "O(min(height(root1, height)root2))"
   ]
  },
  {
   "cell_type": "code",
   "execution_count": null,
   "metadata": {},
   "outputs": [],
   "source": [
    "class Solution:\n",
    "    def flipEquiv(self, root1, root2):\n",
    "        \"\"\"\n",
    "        :type root1: TreeNode\n",
    "        :type root2: TreeNode\n",
    "        :rtype: bool\n",
    "        \"\"\"\n",
    "#         if root1 is root2:\n",
    "#             return True\n",
    "\n",
    "        if not root1 and not root2:\n",
    "            return True\n",
    "        if not root1 or not root2 or root1.val != root2.val:\n",
    "            return False\n",
    "\n",
    "        return (self.flipEquiv(root1.left, root2.left) and\n",
    "                self.flipEquiv(root1.right, root2.right) or\n",
    "                self.flipEquiv(root1.left, root2.right) and\n",
    "                self.flipEquiv(root1.right, root2.left))"
   ]
  },
  {
   "cell_type": "markdown",
   "metadata": {},
   "source": [
    "## 104. Maximum Depth of Binary Tree (BT, Recursion-DFS) (Linkedin 5)\n",
    "\n",
    "O(N)  \n",
    "O(N)\n",
    "\n",
    "Time complexity : we visit each node exactly once, thus the time complexity is O(N), where N is the number of nodes.\n",
    "\n",
    "Space complexity : in the worst case, the tree is completely unbalanced, e.g. each node has only left child node, the recursion call would occur N times (the height of the tree), therefore the storage to keep the call stack would be O(N). But in the best case (the tree is completely balanced), the height of the tree would be log(N). Therefore, the space complexity in this case would be O(log(N))"
   ]
  },
  {
   "cell_type": "code",
   "execution_count": null,
   "metadata": {},
   "outputs": [],
   "source": [
    "class Solution:\n",
    "    def maxDepth(self, root):\n",
    "        \"\"\"\n",
    "        :type root: TreeNode\n",
    "        :rtype: int\n",
    "        \"\"\" \n",
    "        if not root: \n",
    "            return 0 \n",
    "\n",
    "        left = self.maxDepth(root.left) \n",
    "        right = self.maxDepth(root.right) \n",
    "        return 1 + max(left, right) "
   ]
  },
  {
   "cell_type": "code",
   "execution_count": 5,
   "metadata": {},
   "outputs": [
    {
     "data": {
      "text/plain": [
       "0"
      ]
     },
     "execution_count": 5,
     "metadata": {},
     "output_type": "execute_result"
    }
   ],
   "source": [
    "a = []\n",
    "sum(a)"
   ]
  },
  {
   "cell_type": "markdown",
   "metadata": {},
   "source": [
    "## 111. Minimum Depth of Binary Tree (BT, Recursion-DFS) (Facebook 7)"
   ]
  },
  {
   "cell_type": "code",
   "execution_count": null,
   "metadata": {},
   "outputs": [],
   "source": [
    "class Solution:\n",
    "    def minDepth(self, root):\n",
    "        \"\"\"\n",
    "        :type root: TreeNode\n",
    "        :rtype: int\n",
    "        \"\"\" \n",
    "        if not root: \n",
    "            return 0 \n",
    "        \n",
    "        if not root.right:\n",
    "            return 1 + self.minDepth(root.left)\n",
    "        \n",
    "        if not root.left:\n",
    "            return 1+ self.minDepth(root.right)\n",
    "        \n",
    "        left = self.minDepth(root.left) \n",
    "        right = self.minDepth(root.right) \n",
    "        return 1 + min(left, right) "
   ]
  },
  {
   "cell_type": "markdown",
   "metadata": {},
   "source": [
    "## 110 Balanced Binary Tree (BT, Recursion-DFS) (Microsoft 4)"
   ]
  },
  {
   "cell_type": "code",
   "execution_count": null,
   "metadata": {},
   "outputs": [],
   "source": [
    "class Solution:\n",
    "    def isBalanced(self, root):\n",
    "        \"\"\"\n",
    "        :type root: TreeNode\n",
    "        :rtype: bool\n",
    "        \"\"\"\n",
    "        def depth(node):\n",
    "            if not node:\n",
    "                return 0\n",
    "            \n",
    "            left = depth(node.left)\n",
    "            right = depth(node.right)\n",
    "            return 1 + max(left, right)\n",
    "        \n",
    "        if not root:\n",
    "            return True\n",
    "        \n",
    "        if abs(depth(root.left) - depth(root.right)) > 1:\n",
    "            return False\n",
    "        \n",
    "        return self.isBalanced(root.left) and self.isBalanced(root.right)"
   ]
  },
  {
   "cell_type": "markdown",
   "metadata": {},
   "source": [
    "## 543. Diameter of Binary Tree (BT, Recursion-DFS) (Facebook 11, Amazon 8)\n",
    "\n",
    "O(N)  \n",
    "O(N)"
   ]
  },
  {
   "cell_type": "code",
   "execution_count": 79,
   "metadata": {},
   "outputs": [],
   "source": [
    "class Solution:\n",
    "    def diameterOfBinaryTree(self, root):\n",
    "        \"\"\"\n",
    "        :type root: TreeNode\n",
    "        :rtype: int\n",
    "        \"\"\"\n",
    "        res = 0\n",
    "        \n",
    "        def depth(root):\n",
    "            nonlocal res\n",
    "            if not root: \n",
    "                return 0\n",
    "            \n",
    "            l = depth(root.left)\n",
    "            r = depth(root.right)\n",
    "            res = max(res, l + r)\n",
    "            return 1 + max(l, r) \n",
    "\n",
    "        dfs(root)\n",
    "        return res"
   ]
  },
  {
   "cell_type": "markdown",
   "metadata": {},
   "source": [
    "## 124. Binary Tree Maximum Path Sum (BT, Recursion-DFS) (Amazon 18, Facebook 15, Google 8) (Hard)\n",
    "\n",
    "O(N)  \n",
    "O(log(N)) ~O(N) We have to keep a recursion stack of the size of the tree height, which is O(log(N)) for the binary tree.\n",
    "\n",
    "Algorithm\n",
    "Initiate max_sum as the smallest possible integer and call max_gain(node = root).  \n",
    "Implement max_gain(node) with a check to continue the old path/to start a new path:  \n",
    "Base case : if node is null, the max gain is 0.  \n",
    "Call max_gain recursively for the node children to compute max gain from the left and right subtrees : left_gain = max(max_gain(node.left), 0) and right_gain = max(max_gain(node.right), 0).  \n",
    "Now check to continue the old path or to start a new path. To start a new path would cost price_newpath = node.val + left_gain + right_gain. Update max_sum if it's better to start a new path.  \n",
    "For the recursion return the max gain the node and one/zero of its subtrees could add to the current path : node.val + max(left_gain, right_gain).  \n"
   ]
  },
  {
   "cell_type": "code",
   "execution_count": null,
   "metadata": {},
   "outputs": [],
   "source": [
    "# Definition for a binary tree node.\n",
    "# class TreeNode:\n",
    "#     def __init__(self, x):\n",
    "#         self.val = x\n",
    "#         self.left = None\n",
    "#         self.right = None\n",
    "\n",
    "class Solution:\n",
    "    def maxPathSum(self, root):\n",
    "        \"\"\"\n",
    "        :type root: TreeNode\n",
    "        :rtype: int\n",
    "        \"\"\"\n",
    "        res = float('-inf')\n",
    "        \n",
    "        def max_gain(root):\n",
    "            nonlocal res\n",
    "            if not root:\n",
    "                return 0\n",
    "\n",
    "            # max sum on the left and right sub-trees of node\n",
    "            l = max(max_gain(root.left), 0)\n",
    "            r = max(max_gain(root.right), 0)\n",
    "            \n",
    "            # the price to start a new path where `node` is a highest node\n",
    "           \n",
    "            # update max_sum if it's better to start a new path\n",
    "            res = max(res, root.val + l + r)\n",
    "        \n",
    "            # for recursion :\n",
    "            # return the max gain if continue the same path\n",
    "            return root.val + max(l, r)\n",
    "   \n",
    "        \n",
    "        max_gain(root)\n",
    "        return res"
   ]
  },
  {
   "cell_type": "markdown",
   "metadata": {},
   "source": [
    "## 222. Count Complete Tree Nodes (BT, Recursion-DFS, Pointer) (Google 31)  \n",
    "*- 时间复杂度: O(lgN * lgN)- 空间复杂度: O(1)*"
   ]
  },
  {
   "cell_type": "code",
   "execution_count": null,
   "metadata": {},
   "outputs": [],
   "source": [
    "class Solution:\n",
    "    def countNodes(self, root):\n",
    "        \"\"\"\n",
    "        :type root: TreeNode\n",
    "        :rtype: int\n",
    "        \"\"\"\n",
    "        if not root:\n",
    "            return 0\n",
    "\n",
    "        p = root\n",
    "        q = root\n",
    "\n",
    "        left = 0\n",
    "        right = 0\n",
    "        while p:\n",
    "            p = p.left\n",
    "            left += 1\n",
    "        while q:\n",
    "            q = q.right\n",
    "            right += 1\n",
    "\n",
    "        if left == right:\n",
    "            return 2 ** left - 1\n",
    "        else:\n",
    "            return 1 + self.countNodes(root.left) + self.countNodes(root.right)"
   ]
  },
  {
   "cell_type": "markdown",
   "metadata": {},
   "source": [
    "时间复杂度: O(lgN * lgN)  \n",
    "O(1)\n",
    "\n",
    "求出正常的左右子树的高度lh和rh，然后\n",
    "\n",
    "如果相等的话就知道左边子树肯定是满的，一共有2 ** lh个node，先算出来然后递归计算右边子树的node个数；\n",
    "同理lh和rh不相等的话，就知道右边子树是满的，一共有2 ** rh个node，先算出来然后递归计算右边子树的node个数；"
   ]
  },
  {
   "cell_type": "code",
   "execution_count": null,
   "metadata": {},
   "outputs": [],
   "source": [
    "class Solution:\n",
    "    def countNodes(self, root):\n",
    "        \"\"\"\n",
    "        :type root: TreeNode\n",
    "        :rtype: int\n",
    "        \"\"\"\n",
    "        if not root:\n",
    "            return 0\n",
    "        \n",
    "        def height(root):\n",
    "            if not root:\n",
    "                return 0\n",
    "            \n",
    "            left = height(root.left)\n",
    "            right = height(root.right)\n",
    "            return 1 + max(left, right)\n",
    "\n",
    "        lh = height(root.left)\n",
    "        rh = height(root.right)\n",
    "        \n",
    "        if lh == rh:\n",
    "            return 2 ** lh + self.countNodes(root.right)\n",
    "        else:\n",
    "            return 2 ** rh + self.countNodes(root.left)\n",
    "\n",
    "    "
   ]
  },
  {
   "cell_type": "markdown",
   "metadata": {},
   "source": [
    "## 112. Path Sum (BT, Recursion-DFS) (Amazon 6)\n",
    "O(N)  \n",
    "O(N)"
   ]
  },
  {
   "cell_type": "code",
   "execution_count": null,
   "metadata": {},
   "outputs": [],
   "source": [
    "class Solution:\n",
    "    def hasPathSum(self, root, sum):\n",
    "        \"\"\"\n",
    "        :type root: TreeNode\n",
    "        :type sum: int\n",
    "        :rtype: bool\n",
    "        \"\"\"\n",
    "        \n",
    "        def dfs(root, val=0):             \n",
    "            if not root:\n",
    "                return False\n",
    "\n",
    "            val += root.val\n",
    "            \n",
    "            if val == sum and not root.left and not root.right:\n",
    "                return True\n",
    "                \n",
    "            return dfs(root.left, val) or dfs(root.right, val)\n",
    "        \n",
    "        return dfs(root)"
   ]
  },
  {
   "cell_type": "markdown",
   "metadata": {},
   "source": [
    "## 113. Path Sum II (BT, Recursion-DFS) (Amazon 5)"
   ]
  },
  {
   "cell_type": "code",
   "execution_count": null,
   "metadata": {},
   "outputs": [],
   "source": [
    "class Solution:\n",
    "    def pathSum(self, root: TreeNode, sum: int) -> List[List[int]]:\n",
    "        \n",
    "        res = []\n",
    "        \n",
    "        def dfs(root, val=[]):             \n",
    "            if not root:\n",
    "                return \n",
    "\n",
    "            val.append(root.val)\n",
    "            print(val)\n",
    "            \n",
    "            if not root.left and not root.right:\n",
    "                x = 0\n",
    "                for n in val:\n",
    "                     x += n\n",
    "                if x == sum:\n",
    "                    res.append(val)\n",
    "                \n",
    "            if root.left:\n",
    "                dfs(root.left, val) \n",
    "            if root.right:\n",
    "                dfs(root.right, val)\n",
    "            # return dfs(root.left, val) or dfs(root.right, val)\n",
    "        \n",
    "        dfs(root)\n",
    "        return res\n",
    "        \n",
    "# class Solution:\n",
    "#     def pathSum(self, root: TreeNode, sum: int) -> List[List[int]]:\n",
    "#         results = []\n",
    "#         def dfs(node, s, stack):\n",
    "#             if node is None:\n",
    "#                 return\n",
    "#             stack.append(node.val)\n",
    "#             if node.left is None and node.right is None:\n",
    "#                 if s == node.val:\n",
    "#                     results.append(stack.copy())\n",
    "#             if node.left:\n",
    "#                 dfs(node.left, s - node.val, stack)\n",
    "#             if node.right:\n",
    "#                 dfs(node.right, s - node.val, stack)\n",
    "#             stack.pop()\n",
    "#         dfs(root, sum, [])\n",
    "#         return results "
   ]
  },
  {
   "cell_type": "markdown",
   "metadata": {},
   "source": [
    "## 108. Convert Sorted Array to Binary Search Tree (BT, Recurison-DFS) (Microsoft 3, Amazon 3)"
   ]
  },
  {
   "cell_type": "code",
   "execution_count": null,
   "metadata": {},
   "outputs": [],
   "source": [
    "# nums为空，return None\n",
    "# nums非空，nums[n/2]为中间元素，根结点，nums[:mid]为左子树， nums[mid+1:]为右子树\n",
    "\n",
    "# O(N)\n",
    "# O(1)\n",
    "class Solution:\n",
    "    def sortedArrayToBST(self, nums):\n",
    "        \"\"\"\n",
    "        :type nums: List[int]\n",
    "        :rtype: TreeNode\n",
    "        \"\"\"\n",
    "        if not nums:\n",
    "            return \n",
    "        \n",
    "        mid = len(nums)//2\n",
    "        \n",
    "        root = TreeNode(nums[mid])\n",
    "        root.left = self.sortedArrayToBST(nums[:mid])\n",
    "        root.right = self.sortedArrayToBST(nums[mid + 1:])\n",
    "        return root"
   ]
  },
  {
   "cell_type": "markdown",
   "metadata": {},
   "source": [
    "## 109. Convert Sorted List to Binary Search Tree (Amazon 7, Facebook 4)"
   ]
  },
  {
   "cell_type": "code",
   "execution_count": null,
   "metadata": {},
   "outputs": [],
   "source": [
    "# O(N)\n",
    "# O(N)\n",
    "class Solution:\n",
    "    def sortedListToBST(self, head):\n",
    "        \"\"\"\n",
    "        :type head: ListNode\n",
    "        :rtype: TreeNode\n",
    "        \"\"\"\n",
    "        def sortedArrayToBST(nums):\n",
    "            if not nums:\n",
    "                return\n",
    "            \n",
    "            mid = len(nums) // 2\n",
    "            root = TreeNode(nums[mid])\n",
    "            root.left = sortedArrayToBST(nums[:mid])\n",
    "            root.right = sortedArrayToBST(nums[mid+1:])\n",
    "            return root\n",
    "        \n",
    "        if not head:\n",
    "            return \n",
    "        \n",
    "        array = []\n",
    "        while head:\n",
    "            array.append(head.val)\n",
    "            head = head.next\n",
    "        return sortedArrayToBST(array)"
   ]
  },
  {
   "cell_type": "markdown",
   "metadata": {},
   "source": [
    "## 116. Populating Next Right Pointers in Each Node I (BT, Recursion-DFS) (Amazon 9)  \n",
    "O(N)  \n",
    "O(N)"
   ]
  },
  {
   "cell_type": "code",
   "execution_count": null,
   "metadata": {},
   "outputs": [],
   "source": [
    "class Solution:\n",
    "    def connect(self, root):\n",
    "        \"\"\"\n",
    "        :type root: Node\n",
    "        :rtype: Node\n",
    "        \"\"\"\n",
    "        \n",
    "        if not root:\n",
    "            return\n",
    "        \n",
    "        if root.left and root.right:\n",
    "            root.left.next = root.right  \n",
    "            \n",
    "            if root.next:\n",
    "                root.right.next = root.next.left\n",
    "            \n",
    "        self.connect(root.left)\n",
    "        self.connect(root.right)\n",
    "        \n",
    "        return root"
   ]
  },
  {
   "cell_type": "code",
   "execution_count": null,
   "metadata": {},
   "outputs": [],
   "source": [
    "class Solution:\n",
    "\tdef connect(self, root):\n",
    "        \"\"\"\n",
    "        :type root: Node\n",
    "        :rtype: Node\n",
    "        \"\"\"\n",
    "        \n",
    "\t\tif not root or not root.left:\n",
    "\t\t\treturn root\n",
    "        \n",
    "\t\troot.left.next = root.right\n",
    "        \n",
    "\t\tif root.next:\n",
    "\t\t\troot.right.next=root.next.left\n",
    "            \n",
    "\t\tself.connect(root.left)\n",
    "\t\tself.connect(root.right)\n",
    "\t\treturn root"
   ]
  },
  {
   "cell_type": "markdown",
   "metadata": {},
   "source": [
    "## 117. Populating Next Right Pointers in Each Node II (BT, Queue-BFS) (Amazon 6)\n",
    "\n",
    "The algorithm is a BFS or level order traversal. We go through the tree level by level. node is the pointer in the parent level, tail is the tail pointer in the child level.\n",
    "The parent level can be view as a singly linked list or queue, which we can traversal easily with a pointer.\n",
    "Connect the tail with every one of the possible nodes in child level, update it only if the connected node is not nil.\n",
    "Do this one level by one level. The whole thing is quite straightforward."
   ]
  },
  {
   "cell_type": "code",
   "execution_count": null,
   "metadata": {},
   "outputs": [],
   "source": [
    "class Solution:\n",
    "    def connect(self, root):\n",
    "        \"\"\"\n",
    "        :type root: Node\n",
    "        :rtype: Node\n",
    "        \"\"\"\n",
    "        cur = dummy = Node()\n",
    "        node = root\n",
    "        while node:\n",
    "            if node.left:\n",
    "                cur.next = node.left\n",
    "                cur = node.left\n",
    "            if node.right:\n",
    "                cur.next = node.right\n",
    "                cur = node.right\n",
    "            node = node.next\n",
    "            if not node:\n",
    "                node = dummy.next\n",
    "                dummy.next = None # This is very important!!!\n",
    "                cur = dummy # This is very important!!!\n",
    "        return root"
   ]
  },
  {
   "cell_type": "markdown",
   "metadata": {},
   "source": [
    "## 105. Construct Binary Tree from Preorder and Inorder Transversal (BT, Recursion-DFS) (Amazon 7, Microsoft 5)\n",
    "\n",
    "preorder 是 根 -> 左 -> 右  \n",
    "inorder 是 左 -> 根 -> 右\n",
    "\n",
    "首先pre的第一个就是整个树的root, 假设 preorder[0] = inorder[k],那么inorder的前k-1个就是树的左子树，后面部分就是树的右子树"
   ]
  },
  {
   "cell_type": "code",
   "execution_count": null,
   "metadata": {},
   "outputs": [],
   "source": [
    "class Solution:\n",
    "    def buildTree(self, preorder, inorder):\n",
    "        \"\"\"\n",
    "        :type preorder: List[int]\n",
    "        :type inorder: List[int]\n",
    "        :rtype: TreeNode\n",
    "        \"\"\"\n",
    "        if not preorder or not inorder:\n",
    "            return \n",
    "        \n",
    "        root = TreeNode(preorder[0])\n",
    "        k = inorder.index(preorder[0])\n",
    "        \n",
    "        root.left = self.buildTree(preorder[1:k+1], inorder[:k])\n",
    "        root.right = self.buildTree(preorder[k+1:], inorder[k+1:])\n",
    "        return root"
   ]
  },
  {
   "cell_type": "markdown",
   "metadata": {},
   "source": [
    "## 106 Construct Binary Tree from Inorder and Postorder Transversal (BT, Recursion-DFS) (Amazon 7)"
   ]
  },
  {
   "cell_type": "code",
   "execution_count": null,
   "metadata": {},
   "outputs": [],
   "source": [
    "class Solution:\n",
    "    def buildTree(self, inorder, postorder):\n",
    "        \"\"\"\n",
    "        :type inorder: List[int]\n",
    "        :type postorder: List[int]\n",
    "        :rtype: TreeNode\n",
    "        \"\"\"\n",
    "        if not inorder or not postorer:\n",
    "            return\n",
    "        \n",
    "        root = TreeNode(postorder[-1])\n",
    "        k = inorder.index(postorder[-1])\n",
    "        \n",
    "        root.left = self.buildTree(inorder[:k], postorder[:k]) \n",
    "        root.right = self.buildTree(inorder[k+1:], postorder[k:-1])\n",
    "        \n",
    "        return root"
   ]
  },
  {
   "cell_type": "markdown",
   "metadata": {},
   "source": [
    "## 450. Delete Node in BST (BST, Recursion-DFS) (Microsoft 2)  \n",
    "O(h)  \n",
    "O(h)"
   ]
  },
  {
   "cell_type": "code",
   "execution_count": null,
   "metadata": {},
   "outputs": [],
   "source": [
    "class Solution:\n",
    "    def deleteNode(self, root: TreeNode, key: int) -> TreeNode:\n",
    "        \n",
    "        def minimum(root):          \n",
    "            while root.left:\n",
    "                root = root.left\n",
    "\n",
    "            return root\n",
    "        \n",
    "        if not root:\n",
    "            return \n",
    "        \n",
    "        if root.val > key:\n",
    "            root.left = self.deleteNode(root.left, key)\n",
    "        \n",
    "        elif root.val < key:\n",
    "            root.right = self.deleteNode(root.right, key)\n",
    "        \n",
    "        else:\n",
    "            if not root.left and not root.right:\n",
    "                return\n",
    "            \n",
    "            if not root.left:\n",
    "                return root.right\n",
    "\n",
    "            if not root.right:\n",
    "                return root.left\n",
    "        \n",
    "            node = minimum(root.right)\n",
    "            root.val = node.val\n",
    "            root.right = self.deleteNode(root.right, root.val)\n",
    "                 \n",
    "        \n",
    "        return root"
   ]
  },
  {
   "cell_type": "code",
   "execution_count": null,
   "metadata": {},
   "outputs": [],
   "source": [
    "class Solution:\n",
    "    def deleteNode(self, root: TreeNode, key: int) -> TreeNode:\n",
    "        \n",
    "        if not root:\n",
    "            return \n",
    "        \n",
    "        if root.val == key:\n",
    "            if not root.left and not root.right:\n",
    "                return None\n",
    "                \n",
    "            elif root.left and root.right:\n",
    "                root.val = root.right.val\n",
    "                root.right = root.right.right\n",
    "                return root    \n",
    "                \n",
    "            elif root.left and not root.right:\n",
    "                root.val = root.left.val\n",
    "                root.left = root.left.left\n",
    "                return root\n",
    "                \n",
    "            elif root.right and not root.left:\n",
    "                root.val = root.right.val\n",
    "                root.right = root.right.right\n",
    "                return root\n",
    "                   \n",
    "        root.left = self.deleteNode(root.left, key)\n",
    "        root.right = self.deleteNode(root.right, key)\n",
    "        \n",
    "        return root"
   ]
  },
  {
   "cell_type": "code",
   "execution_count": null,
   "metadata": {},
   "outputs": [],
   "source": [
    "class Solution:\n",
    "    def searchBST(self, root, val):\n",
    "        \"\"\"\n",
    "        :type root: TreeNode\n",
    "        :type val: int\n",
    "        :rtype: TreeNode\n",
    "        \"\"\"\n",
    "        \n",
    "        if not root: \n",
    "            return \n",
    "        \n",
    "        if root.val == val:\n",
    "            return root\n",
    "        \n",
    "        if val < root.val:\n",
    "            return self.searchBST(root.left, val)\n",
    "        if val > root.val:\n",
    "            return self.searchBST(root.right, val)"
   ]
  },
  {
   "cell_type": "code",
   "execution_count": null,
   "metadata": {},
   "outputs": [],
   "source": [
    "class Solution:\n",
    "    def insertIntoBST(self, root, val):\n",
    "        \"\"\"\n",
    "        :type root: TreeNode\n",
    "        :type val: int\n",
    "        :rtype: TreeNode\n",
    "        \"\"\"\n",
    "        if not root:\n",
    "            return TreeNode(val)\n",
    "        \n",
    "        if val > root.val:\n",
    "            # insert into the right subtree\n",
    "            root.right = self.insertIntoBST(root.right, val)\n",
    "        if val < root.val:\n",
    "            # insert into the left subtree\n",
    "            root.left = self.insertIntoBST(root.left, val)\n",
    "            \n",
    "        return root"
   ]
  },
  {
   "cell_type": "markdown",
   "metadata": {},
   "source": [
    "## 958 Check Completeness of a Binary Tree (BT, Queue-BFS) (Facebook 7)\n",
    "\n",
    "O(N)  \n",
    "O(N)"
   ]
  },
  {
   "cell_type": "code",
   "execution_count": null,
   "metadata": {},
   "outputs": [],
   "source": [
    "class Solution:\n",
    "    def isCompleteTree(self, root):\n",
    "        \"\"\"\n",
    "        :type root: TreeNode\n",
    "        :rtype: bool\n",
    "        \"\"\"\n",
    "        \n",
    "        queue = [root]\n",
    "        end = False\n",
    "        while queue:\n",
    "            tmp = []\n",
    "            for node in queue:\n",
    "                if not node:\n",
    "                    end = True\n",
    "                    continue\n",
    "                if end:\n",
    "                    return False\n",
    "                tmp.extend([node.left, node.right])\n",
    "            queue = tmp\n",
    "        return True"
   ]
  },
  {
   "cell_type": "markdown",
   "metadata": {},
   "source": [
    "## 226. Invert Binary Tree (BT, Recursion-DFS, Queue-BFS) (Google 2)\n",
    "O(N)  \n",
    "O(N)"
   ]
  },
  {
   "cell_type": "code",
   "execution_count": null,
   "metadata": {},
   "outputs": [],
   "source": [
    "class Solution:\n",
    "    def invertTree(self, root):\n",
    "        \"\"\"\n",
    "        :type root: TreeNode\n",
    "        :rtype: TreeNode\n",
    "        \"\"\"\n",
    "        if not root:\n",
    "            return \n",
    "        root.left, root.right = root.right, root.left\n",
    "        self.invertTree(root.left)\n",
    "        self.invertTree(root.right)\n",
    "        return root"
   ]
  },
  {
   "cell_type": "code",
   "execution_count": null,
   "metadata": {},
   "outputs": [],
   "source": [
    "class Solution:\n",
    "    def invertTree(self, root: TreeNode) -> TreeNode:\n",
    "        if not root:\n",
    "            return\n",
    "        \n",
    "        queue = [root]\n",
    "        while queue:\n",
    "            node = queue.pop(0)\n",
    "            \n",
    "            node.left, node.right = node.right, node.left\n",
    "            \n",
    "            if node.left:\n",
    "                queue.append(node.left)\n",
    "                \n",
    "            if node.right:\n",
    "                queue.append(node.right)\n",
    "                \n",
    "        return root"
   ]
  },
  {
   "cell_type": "code",
   "execution_count": null,
   "metadata": {},
   "outputs": [],
   "source": [
    "class Solution:\n",
    "    def invertTree(self, root):\n",
    "        \"\"\"\n",
    "        :type root: TreeNode\n",
    "        :rtype: TreeNode\n",
    "        \"\"\"\n",
    "        queue = [root]\n",
    "        while queue:\n",
    "            node = queue.pop(0)\n",
    "            if node:\n",
    "                node.left, node.right = node.right, node.left\n",
    "                queue.extend([node.left, node.right]) \n",
    "        return root"
   ]
  },
  {
   "cell_type": "markdown",
   "metadata": {},
   "source": [
    "## 114. Flatten Binary Tree to Linked List (BT, Queue-BFS) (Microsoft 5)"
   ]
  },
  {
   "cell_type": "code",
   "execution_count": null,
   "metadata": {},
   "outputs": [],
   "source": [
    "class Solution:\n",
    "    def flatten(self, root):\n",
    "        \"\"\"\n",
    "        Do not return anything, modify root in-place instead.\n",
    "        \"\"\"\n",
    "        while root:\n",
    "            if root.left:\n",
    "                most_right = root.left\n",
    "                \n",
    "                while most_right.right: \n",
    "                    most_right = most_right.right\n",
    "                \n",
    "                most_right.right = root.right\n",
    "                root.right = root.left\n",
    "                \n",
    "                root.left = None\n",
    "            root = root.right\n",
    "        return"
   ]
  },
  {
   "cell_type": "code",
   "execution_count": null,
   "metadata": {},
   "outputs": [],
   "source": [
    "class Solution:\n",
    "    def flatten(self, root):\n",
    "        \"\"\"\n",
    "        Do not return anything, modify root in-place instead.\n",
    "        \"\"\"\n",
    "        if not root:\n",
    "            return\n",
    "        \n",
    "        queue=[root]\n",
    "        head = TreeNode(0)\n",
    "        cur = head\n",
    "        \n",
    "        while queue:\n",
    "            node = queue.pop()\n",
    "            cur.right = node\n",
    "            if node.right:\n",
    "                queue.append(node.right)\n",
    "            if node.left:\n",
    "                queue.append(node.left)\n",
    "                \n",
    "            node.left = None\n",
    "            cur = cur.right"
   ]
  },
  {
   "cell_type": "markdown",
   "metadata": {},
   "source": [
    "## 199. Binary Tree Right Side View (BT, Queue-BFS) (Facebook 13, Amazon 8)  \n",
    "O(N)  \n",
    "O(N)"
   ]
  },
  {
   "cell_type": "code",
   "execution_count": null,
   "metadata": {},
   "outputs": [],
   "source": [
    "class Solution:\n",
    "    def rightSideView(self, root):\n",
    "        \"\"\"\n",
    "        :type root: TreeNode\n",
    "        :rtype: List[int]\n",
    "        \"\"\"\n",
    "        \n",
    "        if not root:\n",
    "            return \n",
    "        \n",
    "        res = []\n",
    "        queue = [root]\n",
    "        while queue:\n",
    "            for i in range(len(queue)):\n",
    "                \n",
    "                node = queue.pop(0)\n",
    "                \n",
    "                if node.left:\n",
    "                    queue.append(node.left)\n",
    "                if node.right:\n",
    "                    queue.append(node.right)\n",
    "                    \n",
    "            res.append(node.val)\n",
    "        return res"
   ]
  },
  {
   "cell_type": "markdown",
   "metadata": {},
   "source": [
    "## 102. Binary Tree Level Order Traversal (BT, Queue-BFS) (Amazon 11, Microsoft 6)\n",
    "\n",
    "O(N)  \n",
    "O(N)"
   ]
  },
  {
   "cell_type": "code",
   "execution_count": null,
   "metadata": {},
   "outputs": [],
   "source": [
    "# Definition for a binary tree node.\n",
    "# class TreeNode(object):\n",
    "#     def __init__(self, x):\n",
    "#         self.val = x\n",
    "#         self.left = None\n",
    "#         self.right = None\n",
    "\n",
    "class Solution:\n",
    "    def levelOrder(self, root):\n",
    "        \"\"\"\n",
    "        :type root: TreeNode\n",
    "        :rtype: List[List[int]]\n",
    "        \"\"\"\n",
    "        if not root:\n",
    "            return []\n",
    "        \n",
    "        res = []\n",
    "        queue = [root]\n",
    "        \n",
    "        while queue:\n",
    "            tmp = []\n",
    "            # nextl = []\n",
    "            \n",
    "            for i in range(len(queue)):\n",
    "                node = queue.pop(0)         \n",
    "                tmp.append(node.val)\n",
    "                \n",
    "                if node.left:\n",
    "                    queue.append(node.left)\n",
    "                if node.right:\n",
    "                    queue.append(node.right)\n",
    "            \n",
    "            res.append(tmp) \n",
    "        return res"
   ]
  },
  {
   "cell_type": "code",
   "execution_count": 27,
   "metadata": {},
   "outputs": [],
   "source": [
    "# Definition for a binary tree node.\n",
    "# class TreeNode:\n",
    "#     def __init__(self, x):\n",
    "#         self.val = x\n",
    "#         self.left = None\n",
    "#         self.right = None\n",
    "\n",
    "# DFS-Recursion\n",
    "class Solution:\n",
    "    def levelOrder(self, root):\n",
    "        \"\"\"\n",
    "        :type root: TreeNode\n",
    "        :rtype: List[List[int]]\n",
    "        \"\"\"\n",
    "        if not root:\n",
    "            return []\n",
    "        \n",
    "        res = []\n",
    "        def dfs(root, depth = 0):\n",
    "            if not root:\n",
    "                return\n",
    "            # start the current level\n",
    "            if len(res) == depth:\n",
    "                res.append([])\n",
    "\n",
    "            # append the current node value\n",
    "            res[depth].append(root.val)\n",
    "\n",
    "            # process child nodes for the next level\n",
    "\n",
    "            dfs(root.left, depth + 1)\n",
    "            dfs(root.right, depth + 1)\n",
    "            \n",
    "        dfs(root)\n",
    "        return res"
   ]
  },
  {
   "cell_type": "markdown",
   "metadata": {},
   "source": [
    "## 103. Binary Tree Zigzag Level Order Transversal (BT, Queue-BFS, Recursion-DFS) (Amazon 33, Microsoft 11)\n",
    "\n",
    "时间复杂度: O(N)  \n",
    "O(N)"
   ]
  },
  {
   "cell_type": "code",
   "execution_count": null,
   "metadata": {},
   "outputs": [],
   "source": [
    "# BFS\n",
    "class Solution:\n",
    "    def zigzagLevelOrder(self, root):\n",
    "        \"\"\"\n",
    "        :type root: TreeNode\n",
    "        :rtype: List[List[int]]\n",
    "        \"\"\"\n",
    "        \n",
    "        if not root:\n",
    "            return []\n",
    "        \n",
    "        res = []\n",
    "        queue = [root]\n",
    "        level = 0\n",
    "        \n",
    "        while queue:\n",
    "            tmp = []\n",
    "            \n",
    "            for i in range(len(queue)):\n",
    "                node = queue.pop(0)\n",
    "                tmp.append(node.val)\n",
    "                \n",
    "                if node.left:\n",
    "                    queue.append(node.left)\n",
    "                if node.right:\n",
    "                    queue.append(node.right)\n",
    "            \n",
    "            if level % 2 == 0:\n",
    "                res.append(tmp)  \n",
    "            else:\n",
    "                tmp.reverse()\n",
    "                res.append(tmp)\n",
    "            \n",
    "            level += 1\n",
    "        return res"
   ]
  },
  {
   "cell_type": "code",
   "execution_count": null,
   "metadata": {},
   "outputs": [],
   "source": [
    "## DFS\n",
    "class Solution:\n",
    "    def zigzagLevelOrder(self, root):\n",
    "        \"\"\"\n",
    "        :type root: TreeNode\n",
    "        :rtype: List[List[int]]\n",
    "        \"\"\"\n",
    "        if not root:\n",
    "            return []\n",
    "        \n",
    "        res = []\n",
    "        def dfs(root, depth):\n",
    "            if not root: \n",
    "                return \n",
    "            \n",
    "            if len(res) == depth:\n",
    "                res.append([])\n",
    "                \n",
    "            if depth % 2 == 0:\n",
    "                res[depth].append(root.val)\n",
    "            else: \n",
    "                res[depth].insert(0, root.val)\n",
    "                \n",
    "            dfs(root.left, depth + 1)\n",
    "            dfs(root.right, depth + 1)\n",
    "            \n",
    "        dfs(root, 0)\n",
    "        return res"
   ]
  },
  {
   "cell_type": "code",
   "execution_count": 33,
   "metadata": {},
   "outputs": [],
   "source": [
    "s = [1,2,3]\n",
    "s = s.reverse()\n",
    "s"
   ]
  },
  {
   "cell_type": "code",
   "execution_count": 296,
   "metadata": {},
   "outputs": [
    {
     "name": "stdout",
     "output_type": "stream",
     "text": [
      "tmp_res = [3]\n",
      "next_level = 9 1\n",
      "next_level = 20 2\n",
      "res = [[3]]\n",
      "level_count = 1\n",
      "cur_level = 2\n",
      "\n",
      "tmp_res = [9]\n",
      "tmp_res = [9, 20]\n",
      "next_level = 15 1\n",
      "next_level = 7 2\n",
      "tmp_res = [20, 9]\n",
      "res = [[3], [20, 9]]\n",
      "level_count = 2\n",
      "cur_level = 2\n",
      "\n",
      "tmp_res = [15]\n",
      "tmp_res = [15, 7]\n",
      "res = [[3], [20, 9], [15, 7]]\n",
      "level_count = 3\n",
      "cur_level = 0\n",
      "\n"
     ]
    },
    {
     "data": {
      "text/plain": [
       "[[3], [20, 9], [15, 7]]"
      ]
     },
     "execution_count": 296,
     "metadata": {},
     "output_type": "execute_result"
    }
   ],
   "source": [
    "root = TreeNode(3)\n",
    "root.left = TreeNode(9)\n",
    "root.right = TreeNode(20)\n",
    "root.right.left = TreeNode(15)\n",
    "root.right.right = TreeNode(7)\n",
    "\n",
    "s = Solution()\n",
    "s.zigzagLevelOrder(root)"
   ]
  },
  {
   "cell_type": "markdown",
   "metadata": {},
   "source": [
    "## 107. Binary Tree Level Order Transversal III (Microsoft 3)"
   ]
  },
  {
   "cell_type": "code",
   "execution_count": null,
   "metadata": {},
   "outputs": [],
   "source": [
    "class Solution:\n",
    "    def levelOrder(self, root):\n",
    "        \"\"\"\n",
    "        :type root: TreeNode\n",
    "        :rtype: List[List[int]]\n",
    "        \"\"\"\n",
    "        if not root:\n",
    "            return []\n",
    "        \n",
    "        res = []\n",
    "        queue = [root]\n",
    "        \n",
    "        while queue:\n",
    "            tmp = []\n",
    "            # nextl = []\n",
    "            \n",
    "            for i in range(len(queue)):\n",
    "                node = queue.pop(0)         \n",
    "                tmp.append(node.val)\n",
    "                \n",
    "                if node.left:\n",
    "                    queue.append(node.left)\n",
    "                if node.right:\n",
    "                    queue.append(node.right)\n",
    "            \n",
    "            res.append(tmp) \n",
    "        return res[::-1]"
   ]
  },
  {
   "cell_type": "code",
   "execution_count": null,
   "metadata": {},
   "outputs": [],
   "source": [
    "class Solution:\n",
    "    def levelOrderBottom(self, root):\n",
    "        \"\"\"\n",
    "        :type root: TreeNode\n",
    "        :rtype: List[List[int]]\n",
    "        \"\"\"\n",
    "        if not root:\n",
    "            return []\n",
    "        \n",
    "        res = []\n",
    "        def dfs(root, depth = 0):\n",
    "            if not root:\n",
    "                return\n",
    "            # start the current level\n",
    "            if len(res) == depth:\n",
    "                res.append([])\n",
    "\n",
    "            # append the current node value\n",
    "            res[depth].append(root.val)\n",
    "\n",
    "            # process child nodes for the next level\n",
    "\n",
    "            dfs(root.left, depth + 1)\n",
    "            dfs(root.right, depth + 1)\n",
    "            \n",
    "        dfs(root)\n",
    "        return res[::-1]"
   ]
  },
  {
   "cell_type": "markdown",
   "metadata": {},
   "source": [
    "### Graph(List, Dict). Queue-BFS, Topological Sorting. O(V+E) O(V+E)"
   ]
  },
  {
   "cell_type": "markdown",
   "metadata": {},
   "source": [
    "## 133. Clone Graph (Graph, DFS) (Facebook 13, Amazon 5)  \n"
   ]
  },
  {
   "cell_type": "code",
   "execution_count": null,
   "metadata": {},
   "outputs": [],
   "source": [
    "\"\"\"\n",
    "# Definition for a Node.\n",
    "class Node:\n",
    "    def __init__(self, val, neighbors):\n",
    "        self.val = val\n",
    "        self.neighbors = neighbors\n",
    "\"\"\"\n",
    "# DFS\n",
    "class Solution:\n",
    "    # @param node, a undirected graph node\n",
    "    # @return a undirected graph node\n",
    "    def cloneGraph(self, node):\n",
    "        \"\"\"\n",
    "        :type node: Node\n",
    "        :rtype: Node\n",
    "        \"\"\"\n",
    "        \n",
    "        if not node:\n",
    "            return\n",
    "        \n",
    "        visited = {}\n",
    "        \n",
    "        def dfs(node):\n",
    "            if node.val in visited:\n",
    "                return visited[node.val]\n",
    "            \n",
    "            clone = Node(node.val, [])\n",
    "            visited[clone.val] = clone\n",
    "            \n",
    "            clone.neighbors = [dfs(n) for n in node.neighbors]\n",
    "            return clone\n",
    "        \n",
    "        return dfs(node)"
   ]
  },
  {
   "cell_type": "markdown",
   "metadata": {},
   "source": [
    "## 127 Word Ladder (Graph. BFS) (Amazon 27, Microsoft 6)  \n",
    "O(MN)  \n",
    "O(MN)"
   ]
  },
  {
   "cell_type": "code",
   "execution_count": 7,
   "metadata": {},
   "outputs": [],
   "source": [
    "from collections import defaultdict, deque\n",
    "class Solution(object):\n",
    "    def ladderLength(self, beginWord, endWord, wordList):\n",
    "        \"\"\"\n",
    "        :type beginWord: str\n",
    "        :type endWord: str\n",
    "        :type wordList: List[str]\n",
    "        :rtype: int\n",
    "        \"\"\"\n",
    "\n",
    "        if endWord not in wordList or not endWord or not beginWord or not wordList:\n",
    "            return 0\n",
    "\n",
    "        # Dictionary to hold combination of words that can be formed,\n",
    "        # from any given word. By changing one letter at a time.\n",
    "        dic = defaultdict(list)\n",
    "        for word in wordList:\n",
    "            for i in range(len(beginWord)):\n",
    "                # Key is the generic word\n",
    "                # Value is a list of words which have the same intermediate generic word.\n",
    "                dic[word[:i] + \"*\" + word[i+1:]].append(word)\n",
    "                \n",
    "        print(dic)\n",
    "\n",
    "        queue = deque([(beginWord, 1)])\n",
    "        # Visited to make sure we don't repeat processing same word.\n",
    "        visited = {beginWord: True}\n",
    "        while queue:\n",
    "            cur, level = queue.popleft()      \n",
    "            for i in range(len(beginWord)):\n",
    "                # Intermediate words for current word\n",
    "                potential = cur[:i] + \"*\" + cur[i+1:]\n",
    "\n",
    "                # Next states are all the words which share the same intermediate state.\n",
    "                for word in dic[potential]:\n",
    "                    # If at any point if we find what we are looking for\n",
    "                    # i.e. the end word - we can return with the answer.\n",
    "                    if word == endWord:\n",
    "                        return level + 1\n",
    "                    # Otherwise, add it to the BFS Queue. Also mark it visited\n",
    "                    if word not in visited:\n",
    "                        visited[word] = True\n",
    "                        queue.append((word, level + 1))\n",
    "                dic[potential] = []\n",
    "                \n",
    "        return 0"
   ]
  },
  {
   "cell_type": "code",
   "execution_count": 8,
   "metadata": {},
   "outputs": [
    {
     "name": "stdout",
     "output_type": "stream",
     "text": [
      "defaultdict(<class 'list'>, {'*ot': ['hot', 'dot', 'lot'], 'h*t': ['hot'], 'ho*': ['hot'], 'd*t': ['dot'], 'do*': ['dot', 'dog'], '*og': ['dog', 'log', 'cog'], 'd*g': ['dog'], 'l*t': ['lot'], 'lo*': ['lot', 'log'], 'l*g': ['log'], 'c*g': ['cog'], 'co*': ['cog']})\n"
     ]
    },
    {
     "data": {
      "text/plain": [
       "5"
      ]
     },
     "execution_count": 8,
     "metadata": {},
     "output_type": "execute_result"
    }
   ],
   "source": [
    "s = Solution()\n",
    "s.ladderLength('hit', 'cog', [\"hot\",\"dot\",\"dog\",\"lot\",\"log\",\"cog\"])\n"
   ]
  },
  {
   "cell_type": "code",
   "execution_count": 67,
   "metadata": {},
   "outputs": [
    {
     "data": {
      "text/plain": [
       "5"
      ]
     },
     "execution_count": 67,
     "metadata": {},
     "output_type": "execute_result"
    }
   ],
   "source": [
    "from collections import defaultdict\n",
    "\n",
    "def ladderLength(beginWord, endWord, wordList):\n",
    "    \"\"\"\n",
    "    :type beginWord: str\n",
    "    :type endWord: str\n",
    "    :type wordList: List[str]\n",
    "    :rtype: int\n",
    "    \"\"\"\n",
    "\n",
    "    if endWord not in wordList or not endWord or not beginWord or not wordList:\n",
    "        return 0\n",
    "\n",
    "    # Since all words are of same length.\n",
    "    L = len(beginWord)\n",
    "\n",
    "    # Dictionary to hold combination of words that can be formed,\n",
    "    # from any given word. By changing one letter at a time.\n",
    "    all_combo_dict = defaultdict(list)\n",
    "    for word in wordList:\n",
    "        for i in range(L):\n",
    "            # Key is the generic word\n",
    "            # Value is a list of words which have the same intermediate generic word.\n",
    "            all_combo_dict[word[:i] + \"*\" + word[i+1:]].append(word)\n",
    "\n",
    "\n",
    "    # Queue for BFS\n",
    "    queue = [(beginWord, 1)]\n",
    "    # Visited to make sure we don't repeat processing same word.\n",
    "    visited = {beginWord: True}\n",
    "    while queue:\n",
    "        current_word, level = queue.pop(0)      \n",
    "        for i in range(L):\n",
    "            # Intermediate words for current word\n",
    "            intermediate_word = current_word[:i] + \"*\" + current_word[i+1:]\n",
    "\n",
    "            # Next states are all the words which share the same intermediate state.\n",
    "            for word in all_combo_dict[intermediate_word]:\n",
    "                # If at any point if we find what we are looking for\n",
    "                # i.e. the end word - we can return with the answer.\n",
    "                if word == endWord:\n",
    "                    return level + 1\n",
    "\n",
    "                # Otherwise, add it to the BFS Queue. Also mark it visited\n",
    "                if word not in visited:\n",
    "                    visited[word] = True\n",
    "                    queue.append((word, level + 1))\n",
    "\n",
    "            all_combo_dict[intermediate_word] = []\n",
    "    return 0\n",
    "\n",
    "ladderLength(\"hit\",\"cog\", [\"hot\",\"dot\",\"dog\",\"lot\",\"log\",\"cog\"])"
   ]
  },
  {
   "cell_type": "markdown",
   "metadata": {},
   "source": [
    "## 207. Course Schedule. (Graph(List, Dict). Queue-BFS, Topological Sorting) (Amazon 25, Uber 5)  \n",
    "这个问题相当于查找一个循环是否存在于有向图中。如果存在循环，则不存在拓扑排序，因此不可能选取所有课程进行学习。  \n",
    "通过 DFS 进行拓扑排序 - 一个关于Coursera的精彩视频教程（21分钟），介绍拓扑排序的基本概念。  \n",
    "拓扑排序也可以通过 BFS 完成。  \n",
    "\n",
    "本题可约化为：课程安排图是否是 有向无环图(DAG)。即课程间规定了前置条件，但不能构成任何环路，否则课程前置条件将不成立。\n",
    "思路是通过 拓扑排序 判断此课程安排图是否是 有向无环图(DAG)。\n",
    "拓扑排序是对 DAG 的顶点进行排序，使得对每一条有向边(u,v)，均有 u（在排序记录中）比 v 先出现。亦可理解为对某点 v 而言，只有当 v 的所有源点均出现了，v 才能出现。\n",
    "\n",
    "\n",
    "O(V+E)  \n",
    "O(V+E)"
   ]
  },
  {
   "cell_type": "code",
   "execution_count": null,
   "metadata": {},
   "outputs": [],
   "source": [
    "class Solution:\n",
    "    def canFinish(self, numCourses, prerequisites):\n",
    "        \"\"\"\n",
    "        :type numCourses: int\n",
    "        :type prerequisites: List[List[int]]\n",
    "        :rtype: bool\n",
    "        \"\"\"\n",
    "        \n",
    "        indegrees = [0 for i in range(numCourses)]\n",
    "        adjacency = [[] for i in range(numCourses)]\n",
    "        \n",
    "        # Get the indegree and adjacency of every course.\n",
    "        for cur, pre in prerequisites:\n",
    "            indegrees[cur] += 1\n",
    "            adjacency[pre].append(cur)\n",
    "        # Get all the courses with the indegree of 0.\n",
    "        \n",
    "        queue = []\n",
    "        for i in range(len(indegrees)):\n",
    "            if not indegrees[i]: \n",
    "                queue.append(i)\n",
    "        # BFS TopSort.\n",
    "        while queue:\n",
    "            pre = queue.pop(0)\n",
    "            numCourses -= 1\n",
    "            for cur in adjacency[pre]:\n",
    "                indegrees[cur] -= 1\n",
    "                if not indegrees[cur]: \n",
    "                    queue.append(cur)\n",
    "        return not numCourses"
   ]
  },
  {
   "cell_type": "code",
   "execution_count": null,
   "metadata": {},
   "outputs": [],
   "source": [
    "def canFinish(self, vertices, edges):\n",
    "        if vertices <= 0:\n",
    "            return []\n",
    "        \n",
    "        res = []\n",
    "        # a. Initialize the graph\n",
    "        indegree = {i: 0 for i in range(vertices)}  # count of incoming edges\n",
    "        graph = {i: [] for i in range(vertices)}  # adjacency list graph\n",
    "\n",
    "        # b. Build the graph\n",
    "        for child, parent in edges:\n",
    "            graph[parent].append(child)  # put the child into it's parent's list\n",
    "            indegree[child] += 1  # increment child's inDegree\n",
    "\n",
    "       # c. Find all sources i.e., all vertices with 0 in-degrees\n",
    "        queue = []\n",
    "        for key in indegree:\n",
    "            if indegree[key] == 0:\n",
    "                queue.append(key)\n",
    "\n",
    "      # d. For each source, add it to the sortedOrder and subtract one from all of its children's in-degrees\n",
    "      # if a child's in-degree becomes zero, add it to the sources queue\n",
    "        while queue:\n",
    "            vertex = queue.pop(0)\n",
    "            sortedOrder.append(vertex)\n",
    "            for child in graph[vertex]:  # get the node's children to decrement their in-degrees\n",
    "                indegree[child] -= 1\n",
    "                if indegree[child] == 0:\n",
    "                    queue.append(child)\n",
    "\n",
    "      # topological sort is not possible as the graph has a cycle\n",
    "        return len(res) == vertices"
   ]
  },
  {
   "cell_type": "code",
   "execution_count": null,
   "metadata": {},
   "outputs": [],
   "source": [
    "class Solution:\n",
    "    def canFinish(self, num, prerequisites):\n",
    "        \"\"\"\n",
    "        :type numCourses: int\n",
    "        :type prerequisites: List[List[int]]\n",
    "        :rtype: bool\n",
    "        \"\"\"\n",
    "        graph = collections.defaultdict(list)\n",
    "        indegrees = [0] * numCourses\n",
    "\n",
    "        for course, pre in prerequisites:\n",
    "            graph[pre].append(course)\n",
    "            indegrees[course] += 1\n",
    "\n",
    "        return self.topologicalSort(graph, indegrees) == numCourses\n",
    "\n",
    "\n",
    "    def topologicalSort(self, graph, indegrees):\n",
    "        count = 0\n",
    "        queue = []\n",
    "        for i in range(len(indegrees)):\n",
    "            if indegrees[i] == 0:\n",
    "                queue.append(i)\n",
    "        while queue:\n",
    "            course = queue.pop()\n",
    "            count += 1\n",
    "            for i in graph[course]:\n",
    "                indegrees[i] -= 1\n",
    "                if indegrees[i] == 0:\n",
    "                    queue.append(i)\n",
    "        return count"
   ]
  },
  {
   "cell_type": "code",
   "execution_count": null,
   "metadata": {},
   "outputs": [],
   "source": [
    "class Solution:\n",
    "    def canFinish(self, num, prerequisites):\n",
    "        \"\"\"\n",
    "        :type numCourses: int\n",
    "        :type prerequisites: List[List[int]]\n",
    "        :rtype: bool\n",
    "        \"\"\"\n",
    "        \n",
    "        graph = [[]] * len(num)\n",
    "        visit = [0] * len(num)\n",
    "        \n",
    "        for x, y in prerequisites:\n",
    "            graph[x].append(y)\n",
    "            \n",
    "        def dfs(i):\n",
    "            if visit[i] == -1:\n",
    "                return False\n",
    "            if visit[i] == 1:\n",
    "                return True\n",
    "            visit[i] = -1\n",
    "            for j in graph[i]:\n",
    "                if not dfs(j):\n",
    "                    return False\n",
    "            visit[i] = 1\n",
    "            return True\n",
    "        \n",
    "        for i in range(num):\n",
    "            if not dfs(i):\n",
    "                return False\n",
    "        return True"
   ]
  },
  {
   "cell_type": "markdown",
   "metadata": {},
   "source": [
    "if node v has not been visited, then mark it as 0.  \n",
    "if node v is being visited, then mark it as -1. If we find a vertex marked as -1 in DFS, then their is a ring.  \n",
    "if node v has been visited, then mark it as 1. If a vertex was marked as 1, then no ring contains v or its successors.  "
   ]
  },
  {
   "cell_type": "markdown",
   "metadata": {},
   "source": [
    "## Course Schedule II"
   ]
  },
  {
   "cell_type": "markdown",
   "metadata": {},
   "source": [
    "## 269. Alien Dictionary (Graph(Dict). Queue-BFS, Topological Sorting) (Facebook 15, Amazon 14, Microsoft 6) (Hard)\n",
    "O(V+E)  \n",
    "O(V+E)"
   ]
  },
  {
   "cell_type": "code",
   "execution_count": 65,
   "metadata": {},
   "outputs": [],
   "source": [
    "class Solution:\n",
    "    def alienOrder(self, words):\n",
    "        if not words:\n",
    "            return \"\"\n",
    "\n",
    "      # a. Initialize the graph\n",
    "        indegree = {}  # count of incoming edges\n",
    "        graph = {}  # adjacency list graph\n",
    "        for word in words:\n",
    "            for character in word:\n",
    "                indegree[character] = 0\n",
    "                graph[character] = []\n",
    "\n",
    "      # b. Build the graph\n",
    "        for i in range(0, len(words)-1):\n",
    "        # find ordering of characters from adjacent words\n",
    "            w1, w2 = words[i], words[i + 1]\n",
    "            for j in range(0, min(len(w1), len(w2))):\n",
    "                parent, child = w1[j], w2[j]\n",
    "                if parent != child:  # if the two characters are different\n",
    "                # put the child into it's parent's list\n",
    "                    graph[parent].append(child)\n",
    "                    indegree[child] += 1  # increment child's inDegree\n",
    "                    break  # only the first different character between the two words will help us find the order\n",
    "        \n",
    "      # c. Find all sources i.e., all vertices with 0 in-degrees\n",
    "        queue = []\n",
    "        for key in indegree:\n",
    "            if indegree[key] == 0:\n",
    "                queue.append(key)\n",
    "\n",
    "      # d. For each source, add it to the sortedOrder and subtract one from all of its children's in-degrees\n",
    "      # if a child's in-degree becomes zero, add it to the sources queue\n",
    "        res = []\n",
    "        while sources:\n",
    "            vertex = queue.pop(0)\n",
    "            res.append(vertex)\n",
    "            for child in graph[vertex]:  # get the node's children to decrement their in-degrees\n",
    "                indegree[child] -= 1\n",
    "                if indegree[child] == 0:\n",
    "                    queue.append(child)\n",
    "\n",
    "      # if sortedOrder doesn't contain all characters, there is a cyclic dependency between characters, therefore, we\n",
    "      # will not be able to find the correct ordering of the characters\n",
    "        if len(res) != len(indegree):\n",
    "            return \"\"\n",
    "\n",
    "        return ''.join(res)"
   ]
  },
  {
   "cell_type": "code",
   "execution_count": 66,
   "metadata": {},
   "outputs": [
    {
     "name": "stdout",
     "output_type": "stream",
     "text": [
      "{'b': 0, 'a': 1, 'c': 2}\n",
      "{'b': ['a'], 'a': ['c', 'c'], 'c': []}\n"
     ]
    },
    {
     "data": {
      "text/plain": [
       "'bac'"
      ]
     },
     "execution_count": 66,
     "metadata": {},
     "output_type": "execute_result"
    }
   ],
   "source": [
    "words = ['ba', 'bc', 'ac', 'cab']\n",
    "s = Solution()\n",
    "s.alienOrder(words)"
   ]
  },
  {
   "cell_type": "markdown",
   "metadata": {},
   "source": [
    "684 Redundant Connection (Union Find)"
   ]
  },
  {
   "cell_type": "code",
   "execution_count": null,
   "metadata": {},
   "outputs": [],
   "source": []
  },
  {
   "cell_type": "markdown",
   "metadata": {},
   "source": [
    "### Design"
   ]
  },
  {
   "cell_type": "markdown",
   "metadata": {},
   "source": [
    "## 341. Flatten Nested List Iterator (Stack) (Amazon 16)"
   ]
  },
  {
   "cell_type": "code",
   "execution_count": null,
   "metadata": {},
   "outputs": [],
   "source": [
    "# \"\"\"\n",
    "# This is the interface that allows for creating nested lists.\n",
    "# You should not implement it, or speculate about its implementation\n",
    "# \"\"\"\n",
    "#class NestedInteger(object):\n",
    "#    def isInteger(self):\n",
    "#        \"\"\"\n",
    "#        @return True if this NestedInteger holds a single integer, rather than a nested list.\n",
    "#        :rtype bool\n",
    "#        \"\"\"\n",
    "#\n",
    "#    def getInteger(self):\n",
    "#        \"\"\"\n",
    "#        @return the single integer that this NestedInteger holds, if it holds a single integer\n",
    "#        Return None if this NestedInteger holds a nested list\n",
    "#        :rtype int\n",
    "#        \"\"\"\n",
    "#\n",
    "#    def getList(self):\n",
    "#        \"\"\"\n",
    "#        @return the nested list that this NestedInteger holds, if it holds a nested list\n",
    "#        Return None if this NestedInteger holds a single integer\n",
    "#        :rtype List[NestedInteger]\n",
    "#        \"\"\"\n",
    "\n",
    "class NestedIterator:\n",
    "\n",
    "    def __init__(self, nestedList):\n",
    "        \"\"\"\n",
    "        Initialize your data structure here.\n",
    "        :type nestedList: List[NestedInteger]\n",
    "        \"\"\"\n",
    "        self.stack = nestedList[::-1]\n",
    "        \n",
    "    def next(self):\n",
    "        \"\"\"\n",
    "        :rtype: int\n",
    "        \"\"\"\n",
    "        return self.stack.pop().getInteger()\n",
    "        \n",
    "    def hasNext(self):\n",
    "        \"\"\"\n",
    "        :rtype: bool\n",
    "        \"\"\"\n",
    "        while self.stack:\n",
    "            top = self.stack[-1]\n",
    "            if top.isInteger():\n",
    "                return True\n",
    "            self.stack = self.stack[:-1] + top.getList()[::-1]\n",
    "        return False\n",
    "        \n",
    "\n",
    "# Your NestedIterator object will be instantiated and called as such:\n",
    "# i, v = NestedIterator(nestedList), []\n",
    "# while i.hasNext(): v.append(i.next())"
   ]
  },
  {
   "cell_type": "markdown",
   "metadata": {},
   "source": [
    "## 232. Implement Queue using Stacks (Stack) (Microsoft 4)"
   ]
  },
  {
   "cell_type": "code",
   "execution_count": null,
   "metadata": {},
   "outputs": [],
   "source": [
    "from collections import deque\n",
    "class MyQueue:\n",
    "\n",
    "    def __init__(self):\n",
    "        \"\"\"\n",
    "        Initialize your data structure here.\n",
    "        \"\"\"\n",
    "        self.queue = deque()\n",
    "        \n",
    "    def push(self, x: int) -> None:\n",
    "        \"\"\"\n",
    "        Push element x to the back of queue.\n",
    "        \"\"\"\n",
    "        self.queue.append(x)\n",
    "\n",
    "    def pop(self) -> int:\n",
    "        \"\"\"\n",
    "        Removes the element from in front of queue and returns\n",
    "        \"\"\"\n",
    "        return self.queue.popleft()\n",
    "        \n",
    "    def peek(self) -> int:\n",
    "        \"\"\"\n",
    "        Get the front element.\n",
    "        \"\"\"\n",
    "        return self.queue[0]\n",
    "\n",
    "    def empty(self) -> bool:\n",
    "        \"\"\"\n",
    "        Returns whether the queue is empty.\n",
    "        \"\"\"\n",
    "        return len(self.queue) == 0"
   ]
  },
  {
   "cell_type": "code",
   "execution_count": 11,
   "metadata": {},
   "outputs": [
    {
     "data": {
      "text/plain": [
       "True"
      ]
     },
     "execution_count": 11,
     "metadata": {},
     "output_type": "execute_result"
    }
   ],
   "source": [
    "num = [1,2,3]\n",
    "def function(num):\n",
    "    if sum(num)  > 0:\n",
    "        return True\n",
    "    if sum(num) < 0:\n",
    "        return False\n",
    "    \n",
    "function(num)\n",
    "    "
   ]
  },
  {
   "cell_type": "markdown",
   "metadata": {},
   "source": [
    "## 225. Implement Stack using Queues (Queue) (Amazon 4, Microsoft 3)"
   ]
  },
  {
   "cell_type": "code",
   "execution_count": null,
   "metadata": {},
   "outputs": [],
   "source": [
    "from collections import deque\n",
    "class MyStack:\n",
    "\n",
    "    def __init__(self):\n",
    "        \"\"\"\n",
    "        Initialize your data structure here.\n",
    "        \"\"\"\n",
    "        self.stack = deque()\n",
    "\n",
    "    def push(self, x: int) -> None:\n",
    "        \"\"\"\n",
    "        Push element x onto stack.\n",
    "        \"\"\"\n",
    "        self.stack.append(x)\n",
    "        \n",
    "\n",
    "    def pop(self) -> int:\n",
    "        \"\"\"\n",
    "        Removes the element on top of the stack and returns that element.\n",
    "        \"\"\"\n",
    "        return self.stack.pop()\n",
    "\n",
    "    def top(self) -> int:\n",
    "        \"\"\"\n",
    "        Get the top element.\n",
    "        \"\"\"\n",
    "        return self.stack[-1]\n",
    "\n",
    "    def empty(self) -> bool:\n",
    "        \"\"\"\n",
    "        Returns whether the stack is empty.\n",
    "        \"\"\"\n",
    "        return len(self.stack) == 0"
   ]
  },
  {
   "cell_type": "markdown",
   "metadata": {},
   "source": [
    "## (2) 346. Moving Average from Data Stream (Amazon 5)"
   ]
  },
  {
   "cell_type": "code",
   "execution_count": null,
   "metadata": {},
   "outputs": [],
   "source": [
    "class MovingAverage:\n",
    "\n",
    "    def __init__(self, size):\n",
    "        \"\"\"\n",
    "        Initialize your data structure here.\n",
    "        :type size: int\n",
    "        \"\"\"\n",
    "        self.res = []\n",
    "        self.size = size\n",
    "\n",
    "    def next(self, val):\n",
    "        \"\"\"\n",
    "        :type val: int\n",
    "        :rtype: float\n",
    "        \"\"\"\n",
    "        self.res.append(val)\n",
    "        \n",
    "        if len(self.res) <= self.size:\n",
    "            return sum(self.res) / len(self.res)\n",
    "            \n",
    "        else:\n",
    "            self.res.pop(0)\n",
    "            return sum(self.res) / len(self.res)"
   ]
  },
  {
   "cell_type": "markdown",
   "metadata": {},
   "source": [
    "## 348. Design Tic Tac Toc (Matrix) (Amazon 16, Microsoft 6)\n",
    "O(1)  \n",
    "O(N)"
   ]
  },
  {
   "cell_type": "code",
   "execution_count": null,
   "metadata": {},
   "outputs": [],
   "source": [
    "class TicTacToe:\n",
    "    def __init__(self, n):\n",
    "        \"\"\"\n",
    "        Initialize your data structure here.\n",
    "        :type n: int\n",
    "        \"\"\"\n",
    "        self.row = [0] * n\n",
    "        self.col = [0] * n\n",
    "        self.diag = 0\n",
    "        self.undiag = 0\n",
    "        self.n = n\n",
    "        \n",
    "    def move(self, row, col, player):\n",
    "        \"\"\"\n",
    "        Player {player} makes a move at ({row}, {col}).\n",
    "        @param row The row of the board.\n",
    "        @param col The column of the board.\n",
    "        @param player The player, can be either 1 or 2.\n",
    "        @return The current winning condition, can be either:\n",
    "                0: No one wins.\n",
    "                1: Player 1 wins.\n",
    "                2: Player 2 wins.\n",
    "        :type row: int\n",
    "        :type col: int\n",
    "        :type player: int\n",
    "        :rtype: int\n",
    "        \"\"\"\n",
    "        if player == 1:\n",
    "            p = 1\n",
    "        else:\n",
    "            p = -1\n",
    "        \n",
    "        self.row[row] += p\n",
    "        self.col[col] += p\n",
    "        \n",
    "        if row == col:\n",
    "            self.diag += p\n",
    "        if col == self.n - 1 - row:\n",
    "            self.undiag += p\n",
    "            \n",
    "        if (abs(self.row[row]) == self.n or \n",
    "            abs(self.col[col]) == self.n or \n",
    "            abs(self.diag) == self.n or \n",
    "            abs(self.undiag) == self.n):\n",
    "            return player\n",
    "        else:\n",
    "            return 0\n",
    "        \n",
    "# Your TicTacToe object will be instantiated and called as such:\n",
    "# obj = TicTacToe(n)\n",
    "# param_1 = obj.move(row,col,player)"
   ]
  },
  {
   "cell_type": "markdown",
   "metadata": {},
   "source": [
    "## 146. LRU cache (OrderedDict) (Amazon 60, Microsoft 22, Apple 13, Google 7)\n",
    "时间复杂度: O(1)  \n",
    "O(1)"
   ]
  },
  {
   "cell_type": "code",
   "execution_count": null,
   "metadata": {},
   "outputs": [],
   "source": [
    "class LRUCache:\n",
    "    def __init__(self, capacity):\n",
    "        \"\"\"\n",
    "        :type capacity: int\n",
    "        \"\"\"\n",
    "        \n",
    "        self.cache = {}\n",
    "        self.capacity = capacity\n",
    "        self.n = 0\n",
    "\n",
    "    def get(self, key):\n",
    "        \"\"\"\n",
    "        :type key: int\n",
    "        :rtype: int\n",
    "        \"\"\"\n",
    "        \n",
    "        if key in self.cache:\n",
    "            val = self.cache[key]\n",
    "            del self.cache[key]\n",
    "            self.cache[key] = val\n",
    "            return val\n",
    "        else:\n",
    "            return -1\n",
    "        \n",
    "\n",
    "    def put(self, key, value):\n",
    "        \"\"\"\n",
    "        :type key: int\n",
    "        :type value: int\n",
    "        :rtype: None\n",
    "        \"\"\"\n",
    "        \n",
    "        if key in self.cache:\n",
    "            del self.cache[key]\n",
    "            self.cache[key] = value\n",
    "        else:\n",
    "            if self.n < self.capacity:\n",
    "                self.cache[key] = value\n",
    "                self.n += 1\n",
    "            else:\n",
    "                for k in self.cache:\n",
    "                    del self.cache[k]\n",
    "                    break\n",
    "                self.cache[key] = value"
   ]
  },
  {
   "cell_type": "markdown",
   "metadata": {},
   "source": [
    "O(1)  \n",
    "O(capacity)"
   ]
  },
  {
   "cell_type": "code",
   "execution_count": null,
   "metadata": {},
   "outputs": [],
   "source": [
    "from collections import OrderedDict\n",
    "class LRUCache(OrderedDict):\n",
    "\n",
    "    def __init__(self, capacity):\n",
    "        \"\"\"\n",
    "        :type capacity: int\n",
    "        \"\"\"\n",
    "        self.capacity = capacity\n",
    "\n",
    "    def get(self, key):\n",
    "        \"\"\"\n",
    "        :type key: int\n",
    "        :rtype: int\n",
    "        \"\"\"\n",
    "        if key in self:\n",
    "            self.move_to_end(key)        \n",
    "            return self[key]\n",
    "    \n",
    "        return -1\n",
    "\n",
    "    def put(self, key, value):\n",
    "        \"\"\"\n",
    "        :type key: int\n",
    "        :type value: int\n",
    "        :rtype: void\n",
    "        \"\"\"\n",
    "        if key in self:\n",
    "            self.move_to_end(key)\n",
    "            \n",
    "        self[key] = value\n",
    "        \n",
    "        if len(self) > self.capacity:\n",
    "            self.popitem(last = False)\n",
    "\n",
    "# Your LRUCache object will be instantiated and called as such:\n",
    "# obj = LRUCache(capacity)\n",
    "# param_1 = obj.get(key)\n",
    "# obj.put(key,value)"
   ]
  },
  {
   "cell_type": "markdown",
   "metadata": {},
   "source": [
    "## 380. Insert Delete GetRandom O(1) (List, Dict) (Amazon 14, Facebook 6, Microsoft 5)  \n",
    "O(1)  \n",
    "O(N)"
   ]
  },
  {
   "cell_type": "code",
   "execution_count": null,
   "metadata": {},
   "outputs": [],
   "source": [
    "\n",
    "\n",
    "\n",
    "\n",
    "# Your RandomizedSet object will be instantiated and called as such:\n",
    "# obj = RandomizedSet()\n",
    "# param_1 = obj.insert(val)\n",
    "# param_2 = obj.remove(val)\n",
    "# param_3 = obj.getRandom()"
   ]
  },
  {
   "cell_type": "code",
   "execution_count": 17,
   "metadata": {},
   "outputs": [
    {
     "data": {
      "text/plain": [
       "{2: 3}"
      ]
     },
     "execution_count": 17,
     "metadata": {},
     "output_type": "execute_result"
    }
   ],
   "source": [
    "dic = {1:2, 2:3}\n",
    "dic.pop(1, 0)\n",
    "dic"
   ]
  },
  {
   "cell_type": "markdown",
   "metadata": {},
   "source": [
    "## 706. Design HashMap (Dict) (Amazon 3, Microsoft 2)"
   ]
  },
  {
   "cell_type": "code",
   "execution_count": null,
   "metadata": {},
   "outputs": [],
   "source": [
    "class MyHashMap:\n",
    "\n",
    "    def __init__(self):\n",
    "        \"\"\"\n",
    "        Initialize your data structure here.\n",
    "        \"\"\"\n",
    "        self.map = {}\n",
    "\n",
    "    def put(self, key: int, value: int) -> None:\n",
    "        \"\"\"\n",
    "        value will always be non-negative.\n",
    "        \"\"\"\n",
    "        self.map[key] = value\n",
    "\n",
    "    def get(self, key: int) -> int:\n",
    "        \"\"\"\n",
    "        Returns the value to which the specified key is mapped, or -1 if this map contains no mapping for the key\n",
    "        \"\"\"\n",
    "        if key not in self.map:\n",
    "            return -1\n",
    "        return self.map[key]\n",
    "\n",
    "    def remove(self, key: int) -> None:\n",
    "        \"\"\"\n",
    "        Removes the mapping of the specified value key if this map contains a mapping for the key\n",
    "        \"\"\"\n",
    "        if key in self.map:\n",
    "            del self.map[key]"
   ]
  },
  {
   "cell_type": "markdown",
   "metadata": {},
   "source": [
    "## 208. Implement Trie (Dict) (Amazon 7, Google 6)\n",
    "\n",
    "O(N)  \n",
    "O(N)"
   ]
  },
  {
   "cell_type": "code",
   "execution_count": null,
   "metadata": {},
   "outputs": [],
   "source": [
    "class TrieNode:\n",
    "    def __init__(self):\n",
    "        \"\"\"\n",
    "        Initialize your data structure here.\n",
    "        \"\"\"\n",
    "        self.childs = {}\n",
    "        self.isWord = False\n",
    "\n",
    "class Trie:\n",
    "    def __init__(self):\n",
    "        self.root = TrieNode()\n",
    "\n",
    "    def insert(self, word):\n",
    "        \"\"\"\n",
    "        Inserts a word into the trie.\n",
    "        :type word: str\n",
    "        :rtype: void\n",
    "        \"\"\"\n",
    "        node = self.root\n",
    "        for c in word:\n",
    "            child = node.childs.get(c)\n",
    "            if not child:\n",
    "                child = TrieNode()\n",
    "                node.childs[c] = child\n",
    "            node = child\n",
    "        node.isWord = True\n",
    "\n",
    "    def search(self, word):\n",
    "        \"\"\"\n",
    "        Returns if the word is in the trie.\n",
    "        :type word: str\n",
    "        :rtype: bool\n",
    "        \"\"\"\n",
    "        node = self.root\n",
    "        for c in word:\n",
    "            child = node.childs.get(c)\n",
    "            if not child:\n",
    "                return False\n",
    "            node = child\n",
    "        return node.isWord\n",
    "\n",
    "\n",
    "    def startsWith(self, prefix):\n",
    "        \"\"\"\n",
    "        Returns if there is any word in the trie\n",
    "        that starts with the given prefix.\n",
    "        :type prefix: str\n",
    "        :rtype: bool\n",
    "        \"\"\"\n",
    "        node = self.root\n",
    "        for c in prefix:\n",
    "            child = node.childs.get(c)\n",
    "            if not child:\n",
    "                return False\n",
    "            node = child\n",
    "        return True\n",
    "\n",
    "# Your Trie object will be instantiated and called as such:\n",
    "# obj = Trie()\n",
    "# obj.insert(word)\n",
    "# param_2 = obj.search(word)\n",
    "# param_3 = obj.startsWith(prefix)"
   ]
  },
  {
   "cell_type": "markdown",
   "metadata": {},
   "source": [
    "## 155. Min Stack (List and heapq) (Amazon 16, Microsoft 8, Google 7, Apple 5)\n",
    "\n",
    "push O(1) + pop O(lgN) + top O(1) + getMin O(1)  \n",
    "\n",
    "O(N)"
   ]
  },
  {
   "cell_type": "code",
   "execution_count": null,
   "metadata": {},
   "outputs": [],
   "source": [
    "from heapq import *\n",
    "\n",
    "class MinStack:\n",
    "    def __init__(self):\n",
    "        \"\"\"\n",
    "        initialize your data structure here.\n",
    "        \"\"\"\n",
    "        self.array = []\n",
    "        self.heap = []\n",
    "\n",
    "    def push(self, x):\n",
    "        \"\"\"\n",
    "        :type x: int\n",
    "        :rtype: None\n",
    "        \"\"\"\n",
    "        \n",
    "        self.array.append(x)\n",
    "        heappush(self.heap,x)\n",
    "\n",
    "    def pop(self):\n",
    "        \"\"\"\n",
    "        :rtype: None\n",
    "        \"\"\"\n",
    "        \n",
    "        val = self.array.pop()\n",
    "        self.heap.remove(val)\n",
    "        heapify(self.heap)\n",
    "\n",
    "    def top(self):\n",
    "        \"\"\"\n",
    "        :rtype: int\n",
    "        \"\"\"\n",
    "        \n",
    "        return self.array[-1]\n",
    "\n",
    "    def getMin(self):\n",
    "        \"\"\"\n",
    "        :rtype: int\n",
    "        \"\"\"\n",
    "        \n",
    "        return self.heap[0]\n",
    "\n",
    "# Your MinStack object will be instantiated and called as such:\n",
    "# obj = MinStack()\n",
    "# obj.push(x)\n",
    "# obj.pop()\n",
    "# param_3 = obj.top()\n",
    "# param_4 = obj.getMin()"
   ]
  },
  {
   "cell_type": "markdown",
   "metadata": {},
   "source": [
    "## 295. Find Median From Data Stream (heapq) (Amazon 20) (Hard)\n",
    "\n",
    "O(logN)  \n",
    "O(N)"
   ]
  },
  {
   "cell_type": "code",
   "execution_count": null,
   "metadata": {},
   "outputs": [],
   "source": [
    "from heapq import *\n",
    "class MedianFinder:\n",
    "    def __init__(self):\n",
    "        self.small = []  # the smaller half of the list, max heap (invert min-heap)\n",
    "        self.large = []  # the larger half of the list, min heap\n",
    "\n",
    "    def addNum(self, num):\n",
    "        if len(self.small) == len(self.large):\n",
    "            heappush(self.large, -heappushpop(self.small, -num))\n",
    "        else:\n",
    "            heappush(self.small, -heappushpop(self.large, num))\n",
    "\n",
    "    def findMedian(self):\n",
    "        if len(self.small) == len(self.large):\n",
    "            return (self.large[0] - self.small[0]) / 2\n",
    "        else:\n",
    "            return self.large[0]\n",
    "        \n",
    "# Your MedianFinder object will be instantiated and called as such:\n",
    "# obj = MedianFinder()\n",
    "# obj.addNum(num)\n",
    "# param_2 = obj.findMedian()"
   ]
  },
  {
   "cell_type": "markdown",
   "metadata": {},
   "source": [
    "## 449. Serialize and Deserialize BST (Facebook 3)\n",
    "\n",
    "O(N)  \n",
    "O(N)"
   ]
  },
  {
   "cell_type": "code",
   "execution_count": null,
   "metadata": {},
   "outputs": [],
   "source": [
    "class Codec: \n",
    "    def serialize(self, root):\n",
    "        \"\"\"Encodes a tree to a single string.\n",
    "        \n",
    "        :type root: TreeNode\n",
    "        :rtype: str\n",
    "        \"\"\"\n",
    "        def postorder(root):\n",
    "            return postorder(root.left) + postorder(root.right) + [root.val] if root else []\n",
    "        return ' '.join(map(str, postorder(root)))\n",
    "\n",
    "    def deserialize(self, data):\n",
    "        \"\"\"Decodes your encoded data to tree.\n",
    "        \n",
    "        :type data: str\n",
    "        :rtype: TreeNode\n",
    "        \"\"\"\n",
    "        def helper(lower = float('-inf'), upper = float('inf')):\n",
    "            if not data or data[-1] < lower or data[-1] > upper:\n",
    "                return None\n",
    "            \n",
    "            val = data.pop()\n",
    "            root = TreeNode(val)\n",
    "            root.right = helper(val, upper)\n",
    "            root.left = helper(lower, val)\n",
    "            return root\n",
    "        \n",
    "        data = [int(x) for x in data.split(' ') if x]\n",
    "        return helper()"
   ]
  },
  {
   "cell_type": "code",
   "execution_count": 8,
   "metadata": {},
   "outputs": [
    {
     "data": {
      "text/plain": [
       "'a'"
      ]
     },
     "execution_count": 8,
     "metadata": {},
     "output_type": "execute_result"
    }
   ],
   "source": [
    "''.join(['a'])"
   ]
  },
  {
   "cell_type": "code",
   "execution_count": 11,
   "metadata": {},
   "outputs": [
    {
     "data": {
      "text/plain": [
       "[1, 2]"
      ]
     },
     "execution_count": 11,
     "metadata": {},
     "output_type": "execute_result"
    }
   ],
   "source": [
    "[1] + [2]"
   ]
  },
  {
   "cell_type": "code",
   "execution_count": 12,
   "metadata": {},
   "outputs": [
    {
     "data": {
      "text/plain": [
       "'[4, 3, 2]'"
      ]
     },
     "execution_count": 12,
     "metadata": {},
     "output_type": "execute_result"
    }
   ],
   "source": [
    "str([4,3,2])"
   ]
  },
  {
   "cell_type": "code",
   "execution_count": 15,
   "metadata": {},
   "outputs": [
    {
     "data": {
      "text/plain": [
       "['4', '3', '2']"
      ]
     },
     "execution_count": 15,
     "metadata": {},
     "output_type": "execute_result"
    }
   ],
   "source": [
    "list(map(str, [4,3,2]))"
   ]
  },
  {
   "cell_type": "code",
   "execution_count": 13,
   "metadata": {},
   "outputs": [
    {
     "data": {
      "text/plain": [
       "'4 3 2'"
      ]
     },
     "execution_count": 13,
     "metadata": {},
     "output_type": "execute_result"
    }
   ],
   "source": [
    "' '.join(map(str, [4,3,2]))"
   ]
  },
  {
   "cell_type": "code",
   "execution_count": 14,
   "metadata": {},
   "outputs": [
    {
     "ename": "AttributeError",
     "evalue": "'str' object has no attribute 'pop'",
     "output_type": "error",
     "traceback": [
      "\u001b[0;31m---------------------------------------------------------------------------\u001b[0m",
      "\u001b[0;31mAttributeError\u001b[0m                            Traceback (most recent call last)",
      "\u001b[0;32m<ipython-input-14-90db7ff1c2db>\u001b[0m in \u001b[0;36m<module>\u001b[0;34m\u001b[0m\n\u001b[1;32m      1\u001b[0m \u001b[0ms\u001b[0m \u001b[0;34m=\u001b[0m \u001b[0;34m'2ss'\u001b[0m\u001b[0;34m\u001b[0m\u001b[0;34m\u001b[0m\u001b[0m\n\u001b[0;32m----> 2\u001b[0;31m \u001b[0ms\u001b[0m\u001b[0;34m.\u001b[0m\u001b[0mpop\u001b[0m\u001b[0;34m(\u001b[0m\u001b[0;34m)\u001b[0m\u001b[0;34m\u001b[0m\u001b[0;34m\u001b[0m\u001b[0m\n\u001b[0m",
      "\u001b[0;31mAttributeError\u001b[0m: 'str' object has no attribute 'pop'"
     ]
    }
   ],
   "source": [
    "s = '2ss'\n",
    "s.pop()"
   ]
  },
  {
   "cell_type": "markdown",
   "metadata": {},
   "source": [
    "## 297. Serialize and Deserialize Binary Tree (Queue-BFS) (Facebook 29, Amazon 27, Linkedin 9, Microsoft 9, Google 5)\n",
    "\n",
    "O(N)  \n",
    "O(N)"
   ]
  },
  {
   "cell_type": "code",
   "execution_count": null,
   "metadata": {},
   "outputs": [],
   "source": [
    "# Definition for a binary tree node.\n",
    "# class TreeNode(object):\n",
    "#     def __init__(self, x):\n",
    "#         self.val = x\n",
    "#         self.left = None\n",
    "#         self.right = None\n",
    "\n",
    "class Codec:\n",
    "    def serialize(self, root):\n",
    "        \"\"\"Encodes a tree to a single string.\n",
    "        \n",
    "        :type root: TreeNode\n",
    "        :rtype: str\n",
    "        \"\"\"\n",
    "\n",
    "        s = \"\"\n",
    "        queue = [root]\n",
    "\n",
    "        while queue:\n",
    "            node = queue.pop(0)\n",
    "            if node:\n",
    "                s += str(node.val)\n",
    "                queue.append(node.left)\n",
    "                queue.append(node.right)\n",
    "            else:\n",
    "                s += \"n\"\n",
    "            s += \" \"        \n",
    "        return s\n",
    "\n",
    "    def deserialize(self, data):\n",
    "        \"\"\"Decodes your encoded data to tree.\n",
    "        \n",
    "        :type data: str\n",
    "        :rtype: TreeNode\n",
    "        \"\"\"\n",
    " \n",
    "        data = data.split()\n",
    "#         print(tree)\n",
    "        if data[0] == \"n\":\n",
    "            return None\n",
    "        \n",
    "        \n",
    "        root = TreeNode(int(data[0]))\n",
    "        queue = [root]\n",
    "        i = 1\n",
    "        \n",
    "        while queue:\n",
    "            node = queue.pop(0)\n",
    "            if not node:\n",
    "                continue\n",
    "                \n",
    "            if data[i] != 'n':\n",
    "                node.left = TreeNode(int(data[i]))\n",
    "            else:\n",
    "                node.left = None\n",
    "\n",
    "            if data[i+1] != 'n':\n",
    "                node.right = TreeNode(int(data[i+1]))\n",
    "            else:\n",
    "                node.right = None\n",
    "            \n",
    "            queue.append(node.left)\n",
    "            queue.append(node.right)           \n",
    "            i += 2\n",
    "        return root\n",
    "        \n",
    "\n",
    "# Your Codec object will be instantiated and called as such:\n",
    "# codec = Codec()\n",
    "# codec.deserialize(codec.serialize(root))"
   ]
  },
  {
   "cell_type": "code",
   "execution_count": 17,
   "metadata": {},
   "outputs": [
    {
     "data": {
      "text/plain": [
       "{2: 3}"
      ]
     },
     "execution_count": 17,
     "metadata": {},
     "output_type": "execute_result"
    }
   ],
   "source": [
    "dic = {1:2, 2:3}\n",
    "dic.pop(1, 0)\n",
    "dic"
   ]
  },
  {
   "cell_type": "markdown",
   "metadata": {},
   "source": [
    "## 428. Serialize and Deserialize N-ary Tree (Microsoft 4)\n",
    "O(N)  \n",
    "O(N)"
   ]
  },
  {
   "cell_type": "code",
   "execution_count": null,
   "metadata": {},
   "outputs": [],
   "source": [
    "class Codec:\n",
    "    def serialize(self, root):\n",
    "        if not root:\n",
    "            return {}\n",
    "        \n",
    "        # if not root.children:\n",
    "        #     return root.val\n",
    "        \n",
    "        return {'value': root.val, 'children': [self.serialize(child) for child in root.children]} \n",
    "\n",
    "    def deserialize(self, data):\n",
    "        if not data:\n",
    "            return \n",
    "        \n",
    "        return Node(data['value'], [self.deserialize(child) for child in data['children']])"
   ]
  },
  {
   "cell_type": "markdown",
   "metadata": {},
   "source": [
    "## 431. Encode N-ary Tree to Binary Tree (Microsoft 2)\n",
    "\n",
    "The left child of a binary node is the subtree encoding all the children of the corresponding n-ary node.  \n",
    "The right child of a binary node is a chain of the binary root nodes encoding each sibling of the n-ary node.  \n",
    "Hence the root node has no right binary child, because the root has no sibilings."
   ]
  },
  {
   "cell_type": "code",
   "execution_count": null,
   "metadata": {},
   "outputs": [],
   "source": [
    "class Codec:\n",
    "    def encode(self, root):\n",
    "        if not root:\n",
    "            return None\n",
    "\n",
    "        binary = TreeNode(root.val)                 # create a binary root\n",
    "        if not root.children:\n",
    "            return binary\n",
    "\n",
    "        binary.left = self.encode(root.children[0]) # left child of binary is the encoding of all n-ary children,\n",
    "        node = binary.left                          #     starting with the first child.\n",
    "        for child in root.children[1:]:             # other children of n-ary root are right child of previous child\n",
    "            node.right = self.encode(child)\n",
    "            node = node.right\n",
    "\n",
    "        return binary\n",
    "\n",
    "    def decode(self, data):\n",
    "        if not data:\n",
    "            return None\n",
    "\n",
    "        nary = Node(data.val, [])                   # create n-ary root\n",
    "        node = data.left                            # move to first child of n-ary root\n",
    "        while node:                                 # while more children of n-ary root\n",
    "            nary.children.append(self.decode(node)) # append to list\n",
    "            node = node.right                       # and move to next child\n",
    "            \n",
    "        return nary"
   ]
  },
  {
   "cell_type": "code",
   "execution_count": null,
   "metadata": {},
   "outputs": [],
   "source": []
  },
  {
   "cell_type": "markdown",
   "metadata": {},
   "source": [
    "## 173. Binary Search Tree Iterator (Stack) (Facebook 18, Microsoft 4)\n",
    "O(N)  \n",
    "O(N)"
   ]
  },
  {
   "cell_type": "code",
   "execution_count": null,
   "metadata": {},
   "outputs": [],
   "source": [
    "class BSTIterator:\n",
    "\n",
    "    def __init__(self, root: TreeNode):\n",
    "        self.stack = []\n",
    "        while root:\n",
    "            self.stack.append(root)\n",
    "            root = root.left\n",
    "            \n",
    "    def next(self) -> int:\n",
    "        \"\"\"\n",
    "        @return the next smallest number\n",
    "        \"\"\"\n",
    "        node = self.stack.pop()\n",
    "        tmp = node.right\n",
    "        while tmp:\n",
    "            self.stack.append(tmp)\n",
    "            tmp = tmp.left\n",
    "        return node.val\n",
    "\n",
    "    def hasNext(self) -> bool:\n",
    "        \"\"\"\n",
    "        @return whether we have a next smallest number\n",
    "        \"\"\"\n",
    "        return len(self.stack) > 0"
   ]
  }
 ],
 "metadata": {
  "kernelspec": {
   "display_name": "Python 3",
   "language": "python",
   "name": "python3"
  },
  "language_info": {
   "codemirror_mode": {
    "name": "ipython",
    "version": 3
   },
   "file_extension": ".py",
   "mimetype": "text/x-python",
   "name": "python",
   "nbconvert_exporter": "python",
   "pygments_lexer": "ipython3",
   "version": "3.6.8"
  },
  "toc-autonumbering": true
 },
 "nbformat": 4,
 "nbformat_minor": 2
}
