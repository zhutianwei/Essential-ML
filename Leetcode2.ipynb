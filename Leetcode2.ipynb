{
 "cells": [
  {
   "cell_type": "code",
   "execution_count": 11,
   "metadata": {},
   "outputs": [],
   "source": [
    "from IPython.core.interactiveshell import InteractiveShell\n",
    "InteractiveShell.ast_node_interactivity = \"all\""
   ]
  },
  {
   "cell_type": "markdown",
   "metadata": {},
   "source": [
    "### (String) List. Heap-Sort. Dict. Sliding Window. Set. O(N) O(N)"
   ]
  },
  {
   "cell_type": "markdown",
   "metadata": {},
   "source": [
    "## 1057. Campus Bikes (Google 23)"
   ]
  },
  {
   "cell_type": "code",
   "execution_count": null,
   "metadata": {},
   "outputs": [],
   "source": [
    "class Solution:\n",
    "    def assignBikes(self, workers, bikes):\n",
    "        \"\"\"\n",
    "        :type workers: List[List[int]]\n",
    "        :type bikes: List[List[int]]\n",
    "        :rtype: List[int]\n",
    "        \"\"\"\n",
    "        \n",
    "        dist = []\n",
    "        \n",
    "        for i, w in enumerate(workers):\n",
    "            for j, b in enumerate(bikes):\n",
    "                dist.append((abs(w[0]-b[0]) + abs(w[1]-b[1]), i, j))\n",
    "        \n",
    "        dist.sort(reverse = True)\n",
    "        worker = set()\n",
    "        bike = set()\n",
    "        \n",
    "        res = [0] * len(workers)\n",
    "        \n",
    "        while dist:\n",
    "            d, w, b = dist.pop()\n",
    "            \n",
    "            if w not in worker and b not in bike: # 这个人和车都没有被分配\n",
    "                res[w] = b\n",
    "                \n",
    "                worker.add(w) # 这个worker已经分配了\n",
    "                bike.add(b) # 这个bike已经分配了\n",
    "                \n",
    "        return res"
   ]
  },
  {
   "cell_type": "markdown",
   "metadata": {},
   "source": [
    "## 215. Kth Largest Element in an Array (List, Heap, Quick Sorting, Recursion) (Facebook 10, Amazon 9, Linkedin 5)\n",
    "\n"
   ]
  },
  {
   "cell_type": "code",
   "execution_count": null,
   "metadata": {},
   "outputs": [],
   "source": [
    "# O(nlogk)\n",
    "# O(k)\n",
    "class Solution:\n",
    "    def findKthLargest(self, nums, k):\n",
    "        \"\"\"\n",
    "        :type nums: List[int]\n",
    "        :type k: int\n",
    "        :rtype: int\n",
    "        \"\"\"\n",
    "        return heapq.nlargest(k, nums)[-1]"
   ]
  },
  {
   "cell_type": "code",
   "execution_count": null,
   "metadata": {},
   "outputs": [],
   "source": [
    "# Time Complexity：Heapify用了O(N)，然后一共pop了k个元素，每个元素使用logn的时间复杂，所以一共是O(n + klog(n))\n",
    "# O(n)\n",
    "import heapq\n",
    "class Solution:\n",
    "    def findKthLargest(self, nums, k):\n",
    "        \"\"\"\n",
    "        :type nums: List[int]\n",
    "        :type k: int\n",
    "        :rtype: int\n",
    "        \"\"\"\n",
    "\n",
    "        heap = []\n",
    "        for n in nums:\n",
    "            heapq.heappush(heap, -n)\n",
    "            \n",
    "        for i in range(k):\n",
    "            res = heapq.heappop(heap)\n",
    "            \n",
    "        return -res"
   ]
  },
  {
   "cell_type": "code",
   "execution_count": null,
   "metadata": {},
   "outputs": [],
   "source": [
    "x = (1, [1,2])\n",
    "\n",
    "heap = []\n",
    "import heapq\n",
    "heapq.heappush(heap, (1,[1,2]))\n",
    "heap"
   ]
  },
  {
   "cell_type": "code",
   "execution_count": null,
   "metadata": {},
   "outputs": [],
   "source": [
    "# 时间复杂度: O(N)  \n",
    "# O(1)\n",
    "class Solution:\n",
    "    def findKthLargest(self, nums, k):\n",
    "        \"\"\"\n",
    "        :type nums: List[int]\n",
    "        :type k: int\n",
    "        :rtype: int\n",
    "        \"\"\"\n",
    "        pivot = nums[0]\n",
    "        smaller  = [n for n in nums if n < pivot]\n",
    "        equal = [n for n in nums if n == pivot]\n",
    "        greater = [n for n in nums if n > pivot]\n",
    "\n",
    "        if len(greater) >= k:\n",
    "            return self.findKthLargest(greater, k) #k may be there\n",
    "        elif len(equal) >= (k - len(greater)): # k may be in equal or smaller\n",
    "            return equal[0] # any number from equal\n",
    "        else:\n",
    "            return self.findKthLargest(smaller, k - len(greater) - len(equal))"
   ]
  },
  {
   "cell_type": "markdown",
   "metadata": {},
   "source": [
    "## 973. K Closest Point to Origin (Lists) (Amazon 77, Facebook 35)  \n",
    "O(NlogN)  \n",
    "O(N)"
   ]
  },
  {
   "cell_type": "code",
   "execution_count": null,
   "metadata": {},
   "outputs": [],
   "source": [
    "import heapq\n",
    "class Solution:\n",
    "    def kClosest(self, points, K):\n",
    "        \"\"\"\n",
    "        :type points: List[List[int]]\n",
    "        :type K: int\n",
    "        :rtype: List[List[int]]\n",
    "        \"\"\"\n",
    "        \n",
    "        # dic = {}\n",
    "        # for point in points:       \n",
    "        heap = []\n",
    "        \n",
    "        for n in points:\n",
    "            distance, point = n[0]**2 + n[1]**2, n\n",
    "            heapq.heappush(heap, (distance, point))\n",
    "                                  \n",
    "        res = []\n",
    "        for i in range(K):\n",
    "            distance, point = heapq.heappop(heap)\n",
    "            res.append(point)\n",
    "                           \n",
    "        return res"
   ]
  },
  {
   "cell_type": "code",
   "execution_count": null,
   "metadata": {},
   "outputs": [],
   "source": [
    "class Solution:\n",
    "    def kClosest(self, points, k):\n",
    "        \"\"\"\n",
    "        :type points: List[List[int]]\n",
    "        :type K: int\n",
    "        :rtype: List[List[int]]\n",
    "        \"\"\"\n",
    "        \n",
    "        points.sort(key = lambda p: p[0]**2 + p[1]**2)\n",
    "        return points[:k]"
   ]
  },
  {
   "cell_type": "markdown",
   "metadata": {},
   "source": [
    "## 692. Top K Frequent Words (heap) (Amazon 13)\n",
    "\n",
    "O(N + klogN)  \n",
    "O(N)"
   ]
  },
  {
   "cell_type": "code",
   "execution_count": null,
   "metadata": {},
   "outputs": [],
   "source": [
    "from collections import Counter\n",
    "import heapq\n",
    "class Solution:\n",
    "    def topKFrequent(self, words, k):\n",
    "#         count = Counter(words)\n",
    "        \n",
    "#         for w in words:\n",
    "#             if w in dic:\n",
    "#                 dic[w] += 1\n",
    "#             else:\n",
    "#                 dic[w] = 1\n",
    "                \n",
    "        heap = []\n",
    "        res = []\n",
    "        dic = {}\n",
    "        \n",
    "        for w in words:\n",
    "            if w not in dic:\n",
    "                dic[w] = 1\n",
    "            else:\n",
    "                dic[w] += 1\n",
    "                \n",
    "        for key, value in dic.items():\n",
    "            heapq.heappush(heap,(-value, key))\n",
    "            \n",
    "        for i in range(k):\n",
    "            key, value = heapq.heappop(heap)\n",
    "            res.append(value)\n",
    "        return res\n",
    "        \n",
    "#         heap = [(-freq, word) for word, freq in dic.items()]\n",
    "#         heapq.heapify(heap)\n",
    "        \n",
    "#         return [heapq.heappop(heap)[1] for i in range(k)]"
   ]
  },
  {
   "cell_type": "code",
   "execution_count": null,
   "metadata": {},
   "outputs": [],
   "source": [
    "from collections import Counter\n",
    "class Solution(object):\n",
    "    def topKFrequent(self, words, k):\n",
    "        \"\"\"\n",
    "        :type words: List[str]\n",
    "        :type k: int\n",
    "        :rtype: List[str]\n",
    "        \"\"\"\n",
    "        count = Counter(words)\n",
    "        candidates = sorted(count.keys(), key = lambda x: (-count[x], x))\n",
    "#         print('candidates=', candidates)\n",
    "        return candidates[:k] "
   ]
  },
  {
   "cell_type": "code",
   "execution_count": null,
   "metadata": {},
   "outputs": [],
   "source": [
    "words = [\"i\", \"love\", \"leetcode\", \"i\", \"love\", \"coding\"]\n",
    "k = 2\n",
    "s = Solution()\n",
    "s.topKFrequent(words, k)"
   ]
  },
  {
   "cell_type": "markdown",
   "metadata": {},
   "source": [
    "## 347. Top K Frequent Elements (heap) (Amazon 16, Google 6, Microsoft 6)\n",
    "\n",
    "O(N + klog(n))  \n",
    "O(N)"
   ]
  },
  {
   "cell_type": "code",
   "execution_count": null,
   "metadata": {},
   "outputs": [],
   "source": [
    "import heapq\n",
    "class Solution:\n",
    "    def topKFrequent(self, nums, k):\n",
    "        \n",
    "#         for n in nums:\n",
    "#             if n in dic:\n",
    "#                 dic[n] += 1\n",
    "#             else:\n",
    "#                 dic[n] = 1\n",
    "          \n",
    "        heap = []\n",
    "        res = []\n",
    "        dic = {}\n",
    "        \n",
    "        for n in nums:   \n",
    "            if n not in dic:\n",
    "                dic[n] = 1\n",
    "            else:\n",
    "                dic[n] += 1\n",
    "                \n",
    "        for key, value in dic.items():\n",
    "            heapq.heappush(heap,(-value, key))\n",
    "            \n",
    "        for i in range(k):\n",
    "            key, value = heapq.heappop(heap)\n",
    "            res.append(value)\n",
    "        return res"
   ]
  },
  {
   "cell_type": "code",
   "execution_count": null,
   "metadata": {},
   "outputs": [],
   "source": [
    "import heapq\n",
    "from collections import Counter\n",
    "class Solution:\n",
    "    def topKFrequent(self, nums, k):\n",
    "        \"\"\"\n",
    "        :type nums: List[int]\n",
    "        :type k: int\n",
    "        :rtype: List[int]\n",
    "        \"\"\" \n",
    "        count = Counter(nums)   \n",
    "        return heapq.nlargest(k, count.keys(), key=count.get) "
   ]
  },
  {
   "cell_type": "markdown",
   "metadata": {},
   "source": [
    "## 378. Kth Smallest Element in a Sorted Matrix (heapq) (Amazon 6, Microsoft 3, Facebook 3)"
   ]
  },
  {
   "cell_type": "code",
   "execution_count": null,
   "metadata": {},
   "outputs": [],
   "source": [
    "import heapq\n",
    "class Solution:\n",
    "    def kthSmallest(self, matrix, k):\n",
    "        \"\"\"\n",
    "        :type matrix: List[List[int]]\n",
    "        :type k: int\n",
    "        :rtype: int\n",
    "        \"\"\"\n",
    "        \n",
    "        heap = []\n",
    "        for array in matrix:\n",
    "            for n in array:\n",
    "                heapq.heappush(heap, n)\n",
    "                \n",
    "        for n in range(k):\n",
    "            res = heapq.heappop(heap)\n",
    "            \n",
    "        return res"
   ]
  },
  {
   "cell_type": "code",
   "execution_count": null,
   "metadata": {},
   "outputs": [],
   "source": [
    "import heapq\n",
    "class Solution:\n",
    "    def kthSmallest(self, matrix, k):\n",
    "        \"\"\"\n",
    "        :type matrix: List[List[int]]\n",
    "        :type k: int\n",
    "        :rtype: int\n",
    "        \"\"\"\n",
    "        \n",
    "        array = [y for x in matrix for y in x]\n",
    "        return heapq.nsmallest(k, array)[-1]"
   ]
  },
  {
   "cell_type": "markdown",
   "metadata": {},
   "source": [
    "## 253. Meeting Room II（heapq) (Facebook 26, Amazon 23, Uber 11, Microsoft 8, Google 9)\n",
    "\n",
    "时间复杂度: O(NlogN)  \n",
    "\n",
    "想象一下，现实生活中，先开始的会议还没结束前我们就又要开始一个会议的话，此时我们需要一个新的会议室\n",
    "\n",
    "如果前面一堆先开始的会议都先于我们的新会议开始之前结束了，我们不需要新会议室\n",
    "\n",
    "换句话说，如果前面一堆新开始的会议中结束最早的那个会议如果在新开始的会议之前结束了的话，我们不需要会议室\n",
    "\n",
    "所以我们的思路是，先按照会议开始的时间排序，然后维护一个会议结束时间的最小堆，堆顶就是前面结束最早的那个会议的结束时间\n",
    "\n",
    "那么对于一个新的会议出现时：\n",
    "\n",
    "如果堆顶元素比新会议的开始时间更小的话，我们不需要新会议室。同时因为后面出现的新会议的开始时间更大了，\n",
    "所以目前最先结束的会议永远不可能比后面新出现的会议的开始时间更大，因此我们可以pop目前最先结束的会议，即pop堆顶元素，并且将新会议的结束时间放进堆中\n",
    "\n",
    "如果堆顶元素比新会议的开始时间更大的话，我们知道我们需要一个新的会议室，此时直接将新会议的结束时间放进堆中\n",
    "\n",
    "最终堆的size就是我们需要的会议室数量"
   ]
  },
  {
   "cell_type": "code",
   "execution_count": null,
   "metadata": {},
   "outputs": [],
   "source": [
    "import heapq \n",
    "class Solution:\n",
    "    def minMeetingRooms(self, intervals):\n",
    "        \"\"\"\n",
    "        :type intervals: List[Interval]\n",
    "        :rtype: int\n",
    "        \"\"\"\n",
    "\n",
    "        # If there is no meeting to schedule then no room needs to be allocated.\n",
    "        if not intervals:\n",
    "            return 0\n",
    "\n",
    "        # The heap initialization\n",
    "        heap = []\n",
    "\n",
    "        # Sort the meetings in increasing order of their start time.\n",
    "        intervals.sort()\n",
    "\n",
    "        # Add the first meeting. We have to give a new room to the first meeting.\n",
    "        heapq.heappush(heap, intervals[0][-1])\n",
    "\n",
    "        # For all the remaining meeting rooms\n",
    "        for interval in intervals[1:]:\n",
    "\n",
    "            # If the room due to free up the earliest is free, assign that room to this meeting.\n",
    "            if heap[0] <= interval[0]:\n",
    "                heapq.heapreplace(heap, interval[-1])\n",
    "\n",
    "            # If a new room is to be assigned, then also we add to the heap,\n",
    "            # If an old room is allocated, then also we have to add to the heap with updated end time.\n",
    "            elif heap[0] > interval[0]:\n",
    "                heapq.heappush(heap, interval[-1])\n",
    "\n",
    "        # The size of the heap tells us the minimum rooms required for all the meetings.\n",
    "        return len(heap)"
   ]
  },
  {
   "cell_type": "code",
   "execution_count": null,
   "metadata": {},
   "outputs": [],
   "source": [
    "import heapq \n",
    "class Solution():\n",
    "    def minMeetingRooms(self, lists):\n",
    "        \"\"\"\n",
    "        :type intervals: List[Interval]\n",
    "        :rtype: int\n",
    "        \"\"\"\n",
    "        if not lists:\n",
    "            return 0\n",
    "        \n",
    "        lists.sort()\n",
    "\n",
    "        heap = []  # stores the end time of intervals\n",
    "    \n",
    "        for i in lists:\n",
    "#             print('i =', i)\n",
    "            if heap and i[0] >= heap[0]: \n",
    "                # means two intervals can use the same room\n",
    "                heapq.heapreplace(heap, i[-1])\n",
    "#                 print('heap1 =', heap)\n",
    "\n",
    "            else:\n",
    "                # a new room is allocated\n",
    "                heapq.heappush(heap, i[-1])\n",
    "#                 print('heap2 =', heap)\n",
    "            \n",
    "#             print()\n",
    "\n",
    "        return len(heap)"
   ]
  },
  {
   "cell_type": "code",
   "execution_count": null,
   "metadata": {},
   "outputs": [],
   "source": [
    "s = Solution()\n",
    "intervals = [[0, 30],[5, 10],[15, 20]]\n",
    "s.minMeetingRooms(intervals)"
   ]
  },
  {
   "cell_type": "code",
   "execution_count": null,
   "metadata": {},
   "outputs": [],
   "source": [
    "dic = {'yes':1}\n",
    "dic.pop('s', 0)\n",
    "dic"
   ]
  },
  {
   "cell_type": "markdown",
   "metadata": {},
   "source": [
    "## Sort 2D Array (Google Phone)"
   ]
  },
  {
   "cell_type": "code",
   "execution_count": 18,
   "metadata": {},
   "outputs": [],
   "source": [
    "import heapq\n",
    "\n",
    "def sort(matrix):\n",
    "    \n",
    "    row = len(matrix)\n",
    "    col = len(matrix[0])\n",
    "#     array = matrix[0]\n",
    "#     for i in range(1, len(matrix)):\n",
    "#         array = heapq.merge(array, matrix[i])\n",
    "        \n",
    "    array = list(heapq.merge(*matrix))\n",
    "        \n",
    "    for m in range(row):\n",
    "        for n in range(col):\n",
    "            value = heapq.heappop(array)\n",
    "            matrix[m][n] = value\n",
    "            "
   ]
  },
  {
   "cell_type": "code",
   "execution_count": 19,
   "metadata": {},
   "outputs": [
    {
     "data": {
      "text/plain": [
       "[[1, 2, 3, 4, 5], [6, 7, 8, 9, 12], [12, 14, 15, 17, 18], [19, 21, 23, 25, 27]]"
      ]
     },
     "execution_count": 19,
     "metadata": {},
     "output_type": "execute_result"
    }
   ],
   "source": [
    "import heapq\n",
    "matrix = [[ 5, 12, 17, 21, 23],\n",
    "             [ 1,  2,  4,  6,  8],\n",
    "             [12, 14, 18, 19, 27],\n",
    "             [ 3,  7,  9, 15, 25]]\n",
    "\n",
    "sort(matrix)\n",
    "matrix"
   ]
  },
  {
   "cell_type": "markdown",
   "metadata": {},
   "source": [
    "## 315. Count of Smaller Numbers After Self (List) (Google 11)\n",
    "\n",
    "https://docs.python.org/3.0/library/bisect.html\n",
    "\n",
    "O(N^2)"
   ]
  },
  {
   "cell_type": "code",
   "execution_count": null,
   "metadata": {},
   "outputs": [],
   "source": [
    "import bisect\n",
    "class Solution:\n",
    "    def countSmaller(self, nums):\n",
    "        counts = []\n",
    "        done = []\n",
    "        for num in nums[::-1]:\n",
    "            counts.append(bisect.bisect_left(done, num))\n",
    "#             print('counts=', counts)\n",
    "            bisect.insort(done, num)\n",
    "#             print('done=', done)\n",
    "        return counts[::-1]"
   ]
  },
  {
   "cell_type": "code",
   "execution_count": null,
   "metadata": {},
   "outputs": [],
   "source": [
    "s = Solution()\n",
    "nums = [5,2,6,1]\n",
    "s.countSmaller(nums)"
   ]
  },
  {
   "cell_type": "code",
   "execution_count": null,
   "metadata": {},
   "outputs": [],
   "source": [
    "import bisect\n",
    "\n",
    "data = [5,1,5]\n",
    "bisect.bisect(data, 5)"
   ]
  },
  {
   "cell_type": "markdown",
   "metadata": {},
   "source": [
    "## 1. Two Sum (List. Dict) (Amazon 213, Google 109, Apple 72, Microsoft 34, Facebook 32)\n",
    "\n",
    "时间复杂度: O(N)  \n",
    "O(N)"
   ]
  },
  {
   "cell_type": "code",
   "execution_count": null,
   "metadata": {},
   "outputs": [],
   "source": [
    "class Solution:\n",
    "    def twoSum(self, nums, target):\n",
    "        \"\"\"\n",
    "        :type nums: List[int]\n",
    "        :type target: int\n",
    "        :rtype: List[int]\n",
    "        \"\"\"\n",
    "        dic = {}\n",
    "        for i, n in enumerate(nums):\n",
    "            tmp = target - n\n",
    "            if tmp not in dic:\n",
    "                dic[n] = i\n",
    "            else:\n",
    "                return [dic[tmp], i]\n",
    "            \n",
    "x = Solution()\n",
    "x.twoSum([2,7,11,15],13)"
   ]
  },
  {
   "cell_type": "markdown",
   "metadata": {},
   "source": [
    "## 13. Roman to Integer(String. Dic) (Amazon 13, Facebook 6)\n",
    "\n",
    "O(N)  \n",
    "O(1)"
   ]
  },
  {
   "cell_type": "code",
   "execution_count": null,
   "metadata": {},
   "outputs": [],
   "source": [
    "class Solution:\n",
    "    def romanToInt(self, s):\n",
    "        \"\"\"\n",
    "        :type s: str\n",
    "        :rtype: int\n",
    "        \"\"\"\n",
    "        dic = {'I':1, \n",
    "               'V':5, \n",
    "               'X':10, \n",
    "               'L':50, \n",
    "               'C':100, \n",
    "               'D':500, \n",
    "               'M':1000}        \n",
    "        ans = 0\n",
    "        for i in range(len(s)):            \n",
    "            if i < len(s) - 1 and dic[s[i]] < dic[s[i+1]]:                \n",
    "                ans -= dic[s[i]]\n",
    "            else:\n",
    "                ans += dic[s[i]]\n",
    "        return ans"
   ]
  },
  {
   "cell_type": "code",
   "execution_count": null,
   "metadata": {},
   "outputs": [],
   "source": [
    "class Solution:\n",
    "    def romanToInt(self, s):\n",
    "        \"\"\"\n",
    "        :type s: str\n",
    "        :rtype: int\n",
    "        \"\"\"\n",
    "        dic = {\n",
    "            'I': 1,\n",
    "            'V': 5,\n",
    "            'X': 10,\n",
    "            'L': 50,\n",
    "            'C': 100,\n",
    "            'D': 500,\n",
    "            'M': 1000\n",
    "        }\n",
    "        \n",
    "        res = 0\n",
    "        for i in range(len(s)):\n",
    "            if i > 0 and dic[s[i]] > dic[s[i-1]]:\n",
    "                res += dic[s[i]] - 2 * dic[s[i-1]]\n",
    "            else:\n",
    "                res += dic[s[i]]\n",
    "        return res"
   ]
  },
  {
   "cell_type": "markdown",
   "metadata": {},
   "source": [
    "## 12. Integer to Roman (Int. List, Dic) (Amazon 6)\n",
    "\n",
    "O(1)  \n",
    "O(1)"
   ]
  },
  {
   "cell_type": "code",
   "execution_count": null,
   "metadata": {},
   "outputs": [],
   "source": [
    "class Solution:\n",
    "    def intToRoman(self, num):\n",
    "        \"\"\"\n",
    "        :type num: int\n",
    "        :rtype: str\n",
    "        \"\"\"\n",
    "        M = [\"\", \"M\", \"MM\", \"MMM\"];\n",
    "        C = [\"\", \"C\", \"CC\", \"CCC\", \"CD\", \"D\", \"DC\", \"DCC\", \"DCCC\", \"CM\"]\n",
    "        X = [\"\", \"X\", \"XX\", \"XXX\", \"XL\", \"L\", \"LX\", \"LXX\", \"LXXX\", \"XC\"]\n",
    "        I = [\"\", \"I\", \"II\", \"III\", \"IV\", \"V\", \"VI\", \"VII\", \"VIII\", \"IX\"]\n",
    "        return M[num//1000] + C[(num%1000)//100] + X[(num%100)//10] + I[num%10]"
   ]
  },
  {
   "cell_type": "code",
   "execution_count": null,
   "metadata": {},
   "outputs": [],
   "source": [
    "s = Solution()\n",
    "num = 3999\n",
    "s.intToRoman(num)"
   ]
  },
  {
   "cell_type": "code",
   "execution_count": null,
   "metadata": {},
   "outputs": [],
   "source": [
    "3999%10"
   ]
  },
  {
   "cell_type": "code",
   "execution_count": null,
   "metadata": {},
   "outputs": [],
   "source": [
    "class Solution:\n",
    "    def intToRoman(self, num):\n",
    "        \"\"\"\n",
    "        :type num: int\n",
    "        :rtype: str\n",
    "        \"\"\"\n",
    "        lookup = {\n",
    "            'M': 1000, \n",
    "            'CM': 900, \n",
    "            'D': 500, \n",
    "            'CD': 400, \n",
    "            'C': 100, \n",
    "            'XC': 90, \n",
    "            'L': 50, \n",
    "            'XL': 40, \n",
    "            'X': 10, \n",
    "            'IX': 9, \n",
    "            'V': 5, \n",
    "            'IV': 4, \n",
    "            'I': 1 \n",
    "        }\n",
    "        \n",
    "        res = ''\n",
    "        slookup = sorted(lookup.items(), key = lambda x: x[1])[::-1]\n",
    "        for k, v in slookup:\n",
    "            while num >= v:\n",
    "                res += k\n",
    "                num -= v\n",
    "        return res"
   ]
  },
  {
   "cell_type": "code",
   "execution_count": null,
   "metadata": {},
   "outputs": [],
   "source": [
    "s = Solution()\n",
    "s.intToRoman(4)"
   ]
  },
  {
   "cell_type": "markdown",
   "metadata": {},
   "source": [
    "## 819. Most Common Word (String. Dict) (Amazon 35)\n",
    "\n",
    "O(N)  \n",
    "O(P) P个words"
   ]
  },
  {
   "cell_type": "code",
   "execution_count": null,
   "metadata": {},
   "outputs": [],
   "source": [
    "from collections import Counter\n",
    "class Solution:\n",
    "    def mostCommonWord(self, paragraph, banned):\n",
    "        \"\"\"\n",
    "        :type paragraph: str\n",
    "        :type banned: List[str]\n",
    "        :rtype: str\n",
    "        \"\"\"\n",
    "        \n",
    "        for c in \"!?',;.\": \n",
    "            paragraph = paragraph.replace(c, \" \")\n",
    "        \n",
    "        dic = Counter()\n",
    "        res = '' \n",
    "        count = 0\n",
    "        \n",
    "        for word in paragraph.lower().split():\n",
    "            if word in banned:\n",
    "                continue\n",
    "                \n",
    "            if word in dic:\n",
    "                dic[word] += 1\n",
    "                \n",
    "                \n",
    "#             elif word not in dic:\n",
    "#                 dic[word] = 1\n",
    "#             else:\n",
    "#                 dic[word] += 1\n",
    "                \n",
    "            if dic[word] > count:\n",
    "                count = dic[word]\n",
    "                res = word\n",
    "        return res\n",
    "        "
   ]
  },
  {
   "cell_type": "code",
   "execution_count": null,
   "metadata": {},
   "outputs": [],
   "source": [
    "s = Solution()\n",
    "paragraph = \"Bob hit a ball, the hit BALL flew far after it was hit.\"\n",
    "banned = [\"hit\"]\n",
    "s.mostCommonWord(paragraph, banned)"
   ]
  },
  {
   "cell_type": "code",
   "execution_count": null,
   "metadata": {},
   "outputs": [],
   "source": [
    "s = 'Sjks'\n",
    "s.split()\n",
    "s"
   ]
  },
  {
   "cell_type": "code",
   "execution_count": null,
   "metadata": {},
   "outputs": [],
   "source": [
    "paragraph = \"Bob hit a ball, the hit BALL flew far after it was hit.\"\n",
    "for c in \"!?',;.\": \n",
    "    paragraph = paragraph.replace(c, \"\")\n",
    "    \n",
    "paragraph.split()"
   ]
  },
  {
   "cell_type": "markdown",
   "metadata": {},
   "source": [
    "## 136. Single Number (List, Dict) (Amazon 7)\n",
    "\n",
    "O(N)  \n",
    "O(N)"
   ]
  },
  {
   "cell_type": "code",
   "execution_count": null,
   "metadata": {},
   "outputs": [],
   "source": [
    "class Solution:\n",
    "    def singleNumber(self, nums):\n",
    "        \"\"\"\n",
    "        :type nums: List[int]\n",
    "        :rtype: int\n",
    "        \"\"\"\n",
    "        \n",
    "        dic = set()\n",
    "        \n",
    "        for n in nums:\n",
    "            if n not in dic:\n",
    "                dic.add(n)\n",
    "            else:\n",
    "                dic.remove(n)\n",
    "                \n",
    "        for n in dic:\n",
    "            return n\n",
    "        "
   ]
  },
  {
   "cell_type": "code",
   "execution_count": null,
   "metadata": {},
   "outputs": [],
   "source": [
    "class Solution:\n",
    "    def singleNumber(self, nums):\n",
    "        \"\"\"\n",
    "        :type nums: List[int]\n",
    "        :rtype: int\n",
    "        \"\"\"\n",
    "        dic = {}\n",
    "        for n in nums:\n",
    "            if n not in dic:\n",
    "                dic[n] = 1\n",
    "            else:\n",
    "                dic.pop(n)\n",
    "#         return dic.popitem()[0]\n",
    "        for n in dic:\n",
    "            return n"
   ]
  },
  {
   "cell_type": "code",
   "execution_count": null,
   "metadata": {},
   "outputs": [],
   "source": [
    "dic = {0:1, \n",
    "      1:2}\n",
    "dic.keys()[0]"
   ]
  },
  {
   "cell_type": "code",
   "execution_count": 7,
   "metadata": {},
   "outputs": [
    {
     "data": {
      "text/plain": [
       "1"
      ]
     },
     "execution_count": 7,
     "metadata": {},
     "output_type": "execute_result"
    }
   ],
   "source": [
    "2 ^ 3"
   ]
  },
  {
   "cell_type": "code",
   "execution_count": null,
   "metadata": {},
   "outputs": [],
   "source": [
    "def xor(nums):\n",
    "    a = 0\n",
    "    for i in nums:\n",
    "        a ^= i\n",
    "    return a"
   ]
  },
  {
   "cell_type": "markdown",
   "metadata": {},
   "source": [
    "## 540. Single Element in a Sorted Array (Amazon 4, Facebook 4, Microsoft 3)"
   ]
  },
  {
   "cell_type": "code",
   "execution_count": null,
   "metadata": {},
   "outputs": [],
   "source": [
    "# class Solution:\n",
    "#     def singleNonDuplicate(self, nums):\n",
    "#         \"\"\"\n",
    "#         :type nums: List[int]\n",
    "#         :rtype: int\n",
    "#         \"\"\"\n",
    "        \n",
    "#         a = 0\n",
    "#         for i in nums:\n",
    "#             a ^= i\n",
    "#             print(a)\n",
    "#         return a\n",
    "        \n",
    "#         previous = nums[0]\n",
    "#         cnt = 0\n",
    "#         for i in range(1, len(nums)):\n",
    "#             if nums[i] == previous:\n",
    "#                 cnt += 1\n",
    "\n",
    "#             elif nums[i] != previous and cnt != 0:\n",
    "#                 previous = nums[i]\n",
    "#                 cnt = 0\n",
    "\n",
    "#             elif nums[i] != previous and cnt == 0:\n",
    "#                 return previous\n",
    "\n",
    "#         return nums[-1]\n",
    "\n",
    "    def singleNonDuplicate(self, nums: List[int]) -> int:\n",
    "        lo = 0\n",
    "        hi = len(nums) - 1   \n",
    "        while lo < hi:\n",
    "            mid = lo + (hi - lo) // 2\n",
    "            halves_are_even = (hi - mid) % 2 == 0\n",
    "            if nums[mid + 1] == nums[mid]:\n",
    "                if halves_are_even:\n",
    "                    lo = mid + 2\n",
    "                else:\n",
    "                    hi = mid - 1\n",
    "            elif nums[mid - 1] == nums[mid]:\n",
    "                if halves_are_even:\n",
    "                    hi = mid - 2\n",
    "                else:\n",
    "                    lo = mid + 1\n",
    "            else:\n",
    "                return nums[mid]\n",
    "        return nums[lo]\n",
    "    \n",
    "class Solution {\n",
    "    public int singleNonDuplicate(int[] nums) {\n",
    "       int l=0,r=nums.length-1;\n",
    "       while(l<r){\n",
    "           int h=(r+l)/2;\n",
    "           if(h%2==1){\n",
    "               if(nums[h]==nums[h+1])\n",
    "                   r=h-1;\n",
    "               else\n",
    "                   l=h+1;\n",
    "           }else{\n",
    "               if(nums[h]==nums[h+1])\n",
    "                   l=h+2;\n",
    "               else\n",
    "                   r=h;\n",
    "           }\n",
    "       }\n",
    "        return nums[l];\n",
    "    }\n",
    "}"
   ]
  },
  {
   "cell_type": "code",
   "execution_count": null,
   "metadata": {},
   "outputs": [],
   "source": [
    "class Solution:\n",
    "    def singleNonDuplicate(self, nums):\n",
    "        \"\"\"\n",
    "        :type nums: List[int]\n",
    "        :rtype: int\n",
    "        \"\"\"\n",
    "        \n",
    "        previous = nums[0]\n",
    "        cnt = 0\n",
    "        for i in range(1, len(nums)):\n",
    "            if nums[i] == previous:\n",
    "                cnt += 1\n",
    "\n",
    "            elif nums[i] != previous and cnt != 0:\n",
    "                previous = nums[i]\n",
    "                cnt = 0\n",
    "\n",
    "            elif nums[i] != previous and cnt == 0:\n",
    "                return previous\n",
    "\n",
    "        return nums[-1]"
   ]
  },
  {
   "cell_type": "code",
   "execution_count": null,
   "metadata": {},
   "outputs": [],
   "source": [
    "def xor(nums):\n",
    "    a = 0\n",
    "    for i in nums:\n",
    "        a ^= i\n",
    "    return a"
   ]
  },
  {
   "cell_type": "markdown",
   "metadata": {},
   "source": [
    "## 389. Find Difference (Google 2 last year)"
   ]
  },
  {
   "cell_type": "code",
   "execution_count": null,
   "metadata": {},
   "outputs": [],
   "source": [
    "from collections import Counter\n",
    "class Solution:\n",
    "    def findTheDifference(self, s, t):\n",
    "        \"\"\"\n",
    "        :type s: str\n",
    "        :type t: str\n",
    "        :rtype: str\n",
    "        \"\"\"\n",
    "        dic = Counter(s)\n",
    "        dic2 = Counter(t)\n",
    "        for c in t:\n",
    "            if dic[c] != dic2[c]:\n",
    "                return c"
   ]
  },
  {
   "cell_type": "markdown",
   "metadata": {},
   "source": [
    "## 1056. Confusing Number (String. Dict) (Google 3 Phone)"
   ]
  },
  {
   "cell_type": "code",
   "execution_count": null,
   "metadata": {},
   "outputs": [],
   "source": [
    "class Solution:\n",
    "    def confusingNumber(self, N):\n",
    "        \"\"\"\n",
    "        :type N: int\n",
    "        :rtype: bool\n",
    "        \"\"\"\n",
    "        \n",
    "        s = str(N)\n",
    "        dic = {'0':'0',\n",
    "               '1':'1',\n",
    "               '8':'8',\n",
    "               '6':'9',\n",
    "               '9':'6'}\n",
    "\n",
    "        notSame = False\n",
    "        \n",
    "        for i in range(0, len(s)):\n",
    "            if s[i] not in dic:\n",
    "                return False\n",
    "            \n",
    "            if dic[s[i]] != s[len(s)-1-i]:\n",
    "                notSame=True\n",
    "        return notSame"
   ]
  },
  {
   "cell_type": "markdown",
   "metadata": {},
   "source": [
    "## 1088. Confusing Number II (String) (Google Phone)"
   ]
  },
  {
   "cell_type": "code",
   "execution_count": null,
   "metadata": {},
   "outputs": [],
   "source": [
    "class Solution:\n",
    "    def confusingNumberII(self, N):\n",
    "        valid = [0,1,6,8,9]\n",
    "        mapping = {0: 0,1: 1,6: 9,8: 8, 9: 6}\n",
    "        \n",
    "        self.count = 0\n",
    "        def backtrack(v, rotation, digit):\n",
    "            if v != rotation:\n",
    "                self.count += 1\n",
    "            \n",
    "            # self.count += v != rotation\n",
    "            for i in valid: \n",
    "                if v*10 + i <= N:\n",
    "                    backtrack(v*10+i, mapping[i]*digit + rotation, digit*10)\n",
    "                    \n",
    "        if N >= 1: \n",
    "            backtrack(1,1,10)\n",
    "        if N >= 6: \n",
    "            backtrack(6,9,10)\n",
    "        if N >= 8: \n",
    "            backtrack(8,8,10)\n",
    "        if N >= 9: \n",
    "            backtrack(9,6,10)\n",
    "            \n",
    "        return self.count "
   ]
  },
  {
   "cell_type": "markdown",
   "metadata": {},
   "source": [
    "## 788. Rotated Digits (Google Phone)"
   ]
  },
  {
   "cell_type": "code",
   "execution_count": null,
   "metadata": {},
   "outputs": [],
   "source": [
    "class Solution:\n",
    "    def rotatedDigits(self, N):\n",
    "        \"\"\"\n",
    "        :type N: int\n",
    "        :rtype: int\n",
    "        \"\"\"\n",
    "        count = 0\n",
    "        for n in range(1, N+1):\n",
    "            ok = False\n",
    "            for c in str(n):\n",
    "                if c in \"2569\":\n",
    "                    ok = True\n",
    "                elif c in \"347\":\n",
    "                    ok = False\n",
    "                    break\n",
    "            if ok:\n",
    "                count += 1\n",
    "        return count"
   ]
  },
  {
   "cell_type": "markdown",
   "metadata": {},
   "source": [
    "## 953. Verifying an Alien Dictionary (String List. Dic) (Facebook 74, Microsoft 2, Google)"
   ]
  },
  {
   "cell_type": "code",
   "execution_count": null,
   "metadata": {},
   "outputs": [],
   "source": [
    "class Solution:\n",
    "    def isAlienSorted(self, words, order):\n",
    "        \"\"\"\n",
    "        :type words: List[str]\n",
    "        :type order: str\n",
    "        :rtype: bool\n",
    "        \"\"\"\n",
    "        \n",
    "        order_index = {c: i for i, c in enumerate(order)}\n",
    "\n",
    "        for i in range(len(words) - 1):\n",
    "            word1 = words[i]\n",
    "            word2 = words[i+1]\n",
    "\n",
    "            # Find the first difference word1[k] != word2[k].\n",
    "            for k in range(min(len(word1), len(word2))):\n",
    "                # If they compare badly, it's not sorted.\n",
    "                if word1[k] != word2[k]:\n",
    "                    if order_index[word1[k]] > order_index[word2[k]]:\n",
    "                        return False\n",
    "                    break\n",
    "            \n",
    "                # If we didn't find a first difference, the\n",
    "                # words are like (\"app\", \"apple\").\n",
    "                if len(word1) > len(word2):\n",
    "                    return False\n",
    "\n",
    "        return True"
   ]
  },
  {
   "cell_type": "markdown",
   "metadata": {},
   "source": [
    "## 560. Subarray Sum Equals K (List, Dict) (Facebook 32, Amazon 12, Microsoft 8)  \n",
    "O(N)  \n",
    "O(N)  \n",
    "2 - 0 = k  \n",
    "3 - 1 = k"
   ]
  },
  {
   "cell_type": "code",
   "execution_count": null,
   "metadata": {},
   "outputs": [],
   "source": [
    "class Solution:\n",
    "    def subarraySum(self, nums, k):\n",
    "        \n",
    "        dic = {0:1}\n",
    "        count = 0\n",
    "        sums = 0\n",
    "        for num in nums:\n",
    "            sums += num\n",
    "            \n",
    "            if sums - k in dic:\n",
    "                count += dic[sums-k]\n",
    "            \n",
    "            if sums not in dic:\n",
    "                dic[sums] = 1\n",
    "            else:\n",
    "                dic[sums] += 1\n",
    "            \n",
    "        return count"
   ]
  },
  {
   "cell_type": "markdown",
   "metadata": {},
   "source": [
    "Let's remember count[V], the number of previous prefix sums with value V. If our newest prefix sum has value W, and W-V == K, then we add count[V] to our answer.\n",
    "\n",
    "This is because at time t, nums[0] + nums[1] + ... + nums[t-1] = W, and there are count[V] indices j with j < t-1 and nums[0] + nums[1] + ... + nums[j] = V. Thus, there are count[V] subarrays nums[j+1] + nums[j+2] + ... + nums[t-1] = K."
   ]
  },
  {
   "cell_type": "code",
   "execution_count": null,
   "metadata": {},
   "outputs": [],
   "source": [
    "from collections import Counter\n",
    "class Solution:\n",
    "    def subarraySum(self, nums, k):\n",
    "        \"\"\"\n",
    "        :type nums: List[int]\n",
    "        :type k: int\n",
    "        :rtype: int\n",
    "        \"\"\"\n",
    "        \n",
    "        dic = Counter()\n",
    "        dic[0] = 1\n",
    "        sums = 0\n",
    "        res = 0\n",
    "        \n",
    "        for n in nums:\n",
    "            sums += n\n",
    "#             print('sums =', sums)\n",
    "            res += dic[sums-k]\n",
    "#             print('ans =', ans)\n",
    "            dic[sums] += 1\n",
    "#             print(f'count{sums}', count[sums])\n",
    "        return res\n",
    "        "
   ]
  },
  {
   "cell_type": "code",
   "execution_count": null,
   "metadata": {},
   "outputs": [],
   "source": [
    "s = Solution()\n",
    "nums = [1,2,3]\n",
    "k = 3\n",
    "s.subarraySum(nums, k)"
   ]
  },
  {
   "cell_type": "markdown",
   "metadata": {},
   "source": [
    "## 957. Prison Cells After N Days (List, Dict) (Amazon 20)\n",
    "\n",
    "时间复杂度: O(1)"
   ]
  },
  {
   "cell_type": "code",
   "execution_count": null,
   "metadata": {},
   "outputs": [],
   "source": [
    "class Solution:\n",
    "    def prisonAfterNDays(self, cells, N):\n",
    "        \"\"\"\n",
    "        :type cells: List[int]\n",
    "        :type N: int\n",
    "        :rtype: List[int]\n",
    "        \"\"\"\n",
    "        cache = {str(cells): 0}\n",
    "        states = [cells]\n",
    "\n",
    "        for i in range(1, N+1):\n",
    "            cells = [0] + [int(cells[i - 1] == cells[i + 1]) for i in range(1, 7)] + [0]\n",
    "#             print('cells =', cells)\n",
    "#             print('i =', i)\n",
    "            \n",
    "            if str(cells) in cache:\n",
    "                \n",
    "                idx = cache[str(cells)]\n",
    "                return states[idx+(N-idx)%(i-idx)] # why?\n",
    "            \n",
    "            cache[str(cells)] = i\n",
    "            states.append(cells)\n",
    "        return cells"
   ]
  },
  {
   "cell_type": "code",
   "execution_count": null,
   "metadata": {},
   "outputs": [],
   "source": [
    "cells = [1,0,0,1,0,0,1,0]\n",
    "N = 16\n",
    "\n",
    "s = Solution()\n",
    "s.prisonAfterNDays(cells, N)"
   ]
  },
  {
   "cell_type": "code",
   "execution_count": null,
   "metadata": {},
   "outputs": [],
   "source": [
    "1 + (1000000000 - 1) % (15 - 1)"
   ]
  },
  {
   "cell_type": "markdown",
   "metadata": {},
   "source": [
    "## 387. First Unique Character in a String (String, Counter) (Amazon 13)\n",
    "\n",
    "O(N)  \n",
    "O(N)"
   ]
  },
  {
   "cell_type": "code",
   "execution_count": null,
   "metadata": {},
   "outputs": [],
   "source": [
    "from collections import Counter\n",
    "class Solution:\n",
    "    def firstUniqChar(self, s):\n",
    "        \"\"\"\n",
    "        :type s: str\n",
    "        :rtype: int\n",
    "        \"\"\"\n",
    "        # build hash map : character and how often it appears\n",
    "        dic = Counter(s)\n",
    "        \n",
    "        # find the index\n",
    "        for i, c in enumerate(s):\n",
    "            if dic[c] == 1:\n",
    "                return i\n",
    "        return -1"
   ]
  },
  {
   "cell_type": "markdown",
   "metadata": {},
   "source": [
    "## 242. Valid Anagram (String, Counter) (Microsoft 4)\n",
    "\n",
    "时间复杂度: O(s+t)  \n",
    "O(s+t)"
   ]
  },
  {
   "cell_type": "code",
   "execution_count": null,
   "metadata": {},
   "outputs": [],
   "source": [
    "from collections import Counter\n",
    "class Solution:\n",
    "    def isAnagram(self, s, t):\n",
    "        \"\"\"\n",
    "        :type s: str\n",
    "        :type t: str\n",
    "        :rtype: bool\n",
    "        \"\"\"\n",
    "        return Counter(s) == Counter(t)"
   ]
  },
  {
   "cell_type": "code",
   "execution_count": null,
   "metadata": {},
   "outputs": [],
   "source": [
    "collections.Counter('ancn')"
   ]
  },
  {
   "cell_type": "code",
   "execution_count": null,
   "metadata": {},
   "outputs": [],
   "source": [
    "class Solution:\n",
    "    def isAnagram(self, s, t):\n",
    "        \"\"\"\n",
    "        :type s: str\n",
    "        :type t: str\n",
    "        :rtype: bool\n",
    "        \"\"\"\n",
    "        dic1 = {}\n",
    "        for i in s:\n",
    "            if i not in dic1:\n",
    "                dic1[i] = 1\n",
    "            else:\n",
    "                dic1[i] += 1\n",
    "                \n",
    "        dic2 = {}\n",
    "        for i in t:\n",
    "            if i not in dic2:\n",
    "                dic2[i] = 1\n",
    "            else:\n",
    "                dic2[i] += 1\n",
    "                \n",
    "        return dic1 == dic2"
   ]
  },
  {
   "cell_type": "code",
   "execution_count": null,
   "metadata": {},
   "outputs": [],
   "source": [
    "a = {1:2, 3:4, 2:3}\n",
    "b = {1:2, 2:3, 3:4}\n",
    "\n",
    "for k in a:\n",
    "    print(k)\n",
    "\n",
    "for k in b:\n",
    "    print(k)\n",
    "    \n",
    "c = {3,4,5}\n",
    "for n in c:\n",
    "    print(n)"
   ]
  },
  {
   "cell_type": "markdown",
   "metadata": {},
   "source": [
    "## 349. Intersection of Two Arrays (List, Set) (Facebook 14)\n",
    "\n",
    "O(M+N)  \n",
    "O(M+N)"
   ]
  },
  {
   "cell_type": "code",
   "execution_count": null,
   "metadata": {},
   "outputs": [],
   "source": [
    "class Solution:\n",
    "    def intersection(self, nums1, nums2):\n",
    "        \"\"\"\n",
    "        :type nums1: List[int]\n",
    "        :type nums2: List[int]\n",
    "        :rtype: List[int]\n",
    "        \"\"\"  \n",
    "        return list(set(nums1) & set(nums2))"
   ]
  },
  {
   "cell_type": "code",
   "execution_count": null,
   "metadata": {},
   "outputs": [],
   "source": [
    "class Solution:\n",
    "    def intersection(self, nums1, nums2):\n",
    "        \"\"\"\n",
    "        :type nums1: List[int]\n",
    "        :type nums2: List[int]\n",
    "        :rtype: List[int]\n",
    "        \"\"\"\n",
    "        res = set()\n",
    "        dic1 = set()\n",
    "        \n",
    "        for n in nums1:\n",
    "            dic1.add(n)    \n",
    "        \n",
    "        for n in nums2:\n",
    "            if n in dic1:\n",
    "                res.add(n)\n",
    "                \n",
    "        return res"
   ]
  },
  {
   "cell_type": "markdown",
   "metadata": {},
   "source": [
    "## 350. Intersection of Two Arrays II (List, Counter) (Facebook 16)  \n",
    "O(N)  \n",
    "O(N)"
   ]
  },
  {
   "cell_type": "code",
   "execution_count": null,
   "metadata": {},
   "outputs": [],
   "source": [
    "from collections import Counter\n",
    "class Solution(object):\n",
    "    def intersect(self, A, B):\n",
    "        \"\"\"\n",
    "        :type nums1: List[int]\n",
    "        :type nums2: List[int]\n",
    "        :rtype: List[int]\n",
    "        \"\"\"  \n",
    "        counts = Counter(A)\n",
    "       \n",
    "        res = []    \n",
    "        for n in B:\n",
    "            if counts[n] > 0:\n",
    "                res.append(n)\n",
    "                counts[n] -= 1\n",
    "\n",
    "        return res"
   ]
  },
  {
   "cell_type": "markdown",
   "metadata": {},
   "source": [
    "## 49. Group Anagrams (String List, defaultdict) (Amazon 25)\n",
    " \n",
    "O(N*KlogK)  \n",
    "O(N*K)"
   ]
  },
  {
   "cell_type": "code",
   "execution_count": null,
   "metadata": {},
   "outputs": [],
   "source": [
    "class Solution:\n",
    "    def groupAnagrams(self, strs):\n",
    "        \"\"\"\n",
    "        :type strs: List[str]\n",
    "        :rtype: List[List[str]]\n",
    "        \"\"\"\n",
    "        dic = {}\n",
    "        for s in strs:\n",
    "            tmp = ''.join(sorted(list(s)))\n",
    "            if tmp not in dic:\n",
    "                dic[tmp] = [s]\n",
    "            else:\n",
    "                dic[tmp].append(s)\n",
    "        return dic.values()"
   ]
  },
  {
   "cell_type": "code",
   "execution_count": null,
   "metadata": {},
   "outputs": [],
   "source": [
    "from collections import defaultdict\n",
    "class Solution:\n",
    "    def groupAnagrams(self, words):\n",
    "        \"\"\"\n",
    "        :type strs: List[str]\n",
    "        :rtype: List[List[str]]\n",
    "        \"\"\"\n",
    "        dic = defaultdict(list)\n",
    "        for s in words:\n",
    "            tmp = ''.join(sorted(list(s)))\n",
    "            dic[tmp].append(s)\n",
    "        return dic.values()"
   ]
  },
  {
   "cell_type": "code",
   "execution_count": null,
   "metadata": {},
   "outputs": [],
   "source": [
    "from collections import Counter, defaultdict\n",
    "dic = defaultdict(int)\n",
    "dic[0]"
   ]
  },
  {
   "cell_type": "code",
   "execution_count": null,
   "metadata": {},
   "outputs": [],
   "source": [
    "s = 'ab  '\n",
    "list(s)"
   ]
  },
  {
   "cell_type": "markdown",
   "metadata": {},
   "source": [
    "## 268. Missing Number (List, Set) (Amazon 8)\n",
    "\n",
    "O(N)  \n",
    "O(N)"
   ]
  },
  {
   "cell_type": "code",
   "execution_count": null,
   "metadata": {},
   "outputs": [],
   "source": [
    "class Solution:\n",
    "    def missingNumber(self, nums):\n",
    "        \"\"\"\n",
    "        :type nums: List[int]\n",
    "        :rtype: int\n",
    "        \"\"\"\n",
    "        set1 = set(nums)\n",
    "        for n in range(len(nums)+1):\n",
    "            if n not in set1:\n",
    "                return n"
   ]
  },
  {
   "cell_type": "code",
   "execution_count": null,
   "metadata": {},
   "outputs": [],
   "source": [
    "array = [1,2,2,4]\n",
    "set1 = set(array)\n",
    "set2 = set([1,2,4])\n",
    "array2 = [1,2,4]\n",
    "\n",
    "array == array2"
   ]
  },
  {
   "cell_type": "markdown",
   "metadata": {},
   "source": [
    "### Sliding Window"
   ]
  },
  {
   "cell_type": "markdown",
   "metadata": {},
   "source": [
    "## 30. Substring with Concatenation of All Words (String List. Sliding Window) (Amazon 6, Microsoft 5)"
   ]
  },
  {
   "cell_type": "code",
   "execution_count": null,
   "metadata": {},
   "outputs": [],
   "source": [
    "class Solution\n",
    "\tdef findSubstring(self, s, words):\n",
    "\t\t\"\"\"\n",
    "\t\t:type s: str\n",
    "\t\t:type words: List[str]\n",
    "\t\t:rtype: List[int]\n",
    "\t\t\"\"\"\n",
    "\t\tif not s or len(s)==0 or not words or len(words)==0:\n",
    "\t\t\treturn []\n",
    "\n",
    "\t\tdic, res = {}, []\n",
    "\t\tfor i in words:\n",
    "\t\t\tif i not in dic:\n",
    "\t\t\t\tdic[i] = 1\n",
    "\t\t\telse:\n",
    "\t\t\t\tdic[i] += 1\n",
    "                \n",
    "\t\tone = len(words[0])\n",
    "\t\ttotal = len(words) * one\n",
    "        \n",
    "\t\tfor i in range(len(s) - total + 1):\n",
    "\t\t\ttmp = s[i:i+total]\n",
    "            d = dic.copy()\n",
    "\t\t\t# 将子串和临时字典进行比较\n",
    "\t\t\tfor j in range(0, len(tmp), one):\n",
    "\t\t\t\t# 从子串tmp_str中取出one长度的子串，看是否出现在临时字典中\n",
    "\t\t\t\t# 如果是就将临时字典记录的频率-1，如果不在就跳出循环\n",
    "\t\t\t\tkey = tmp[j:j+one]\n",
    "\t\t\t\tif key in d:\n",
    "\t\t\t\t\td[key] -= 1\n",
    "\t\t\t\t\tif d[key]==0:\n",
    "\t\t\t\t\t    d.pop(key)\n",
    "\t\t\t\telse:\n",
    "\t\t\t\t\tbreak\n",
    "\n",
    "\t\t\tif not d:\n",
    "\t\t\t\tres.append(i)\n",
    "\t\treturn res"
   ]
  },
  {
   "cell_type": "code",
   "execution_count": null,
   "metadata": {},
   "outputs": [],
   "source": [
    "from collections import Counter\n",
    "class Solution:\n",
    "    def findSubstring(self, s: str, words: List[str]) -> List[int]:\n",
    "        \n",
    "        if not s or not words:\n",
    "            return []\n",
    "        \n",
    "        length = len(words[0])\n",
    "        total = len(words) * length\n",
    "        words = Counter(words)\n",
    "        res = []\n",
    "        \n",
    "        for i in range(len(s) - total + 1):\n",
    "            tmp = s[i:i + total]\n",
    "            array = []\n",
    "            for j in range(0, total, length):\n",
    "                array.append(tmp[j:j + length])\n",
    "                \n",
    "            if Counter(array) == words:\n",
    "                res.append(i)\n",
    "                \n",
    "        return res"
   ]
  },
  {
   "cell_type": "code",
   "execution_count": null,
   "metadata": {},
   "outputs": [],
   "source": [
    "class Solution:\n",
    "    def findSubstring(self, s, words):\n",
    "         \"\"\"\n",
    "        :type s: str\n",
    "        :type words: List[str]\n",
    "        :rtype: List[int]\n",
    "        \"\"\"\n",
    "        if not s or not words:\n",
    "            return []\n",
    "        \n",
    "        words.sort()\n",
    "        length = len(words[0])\n",
    "        totallen = len(words) * len(words[0])\n",
    "        res = []\n",
    "        \n",
    "        for i in range(len(s) - totallen + 1):\n",
    "            string = s[i:i + totallen]\n",
    "            List = []\n",
    "            index = 0\n",
    "            \n",
    "            while index < len(string):\n",
    "                List.append(string[index:index + length])\n",
    "                index += length\n",
    "            if sorted(List) == words:\n",
    "                res.append(i)\n",
    "        return res"
   ]
  },
  {
   "cell_type": "markdown",
   "metadata": {},
   "source": [
    "## 3. Longest Substring Without Repeating Characters (String, Pointer, Sliding Window) (Amazon 27, Microsoft 13, Google 11, Facebook 9)\n",
    "- 时间复杂度: O(N)- 空间复杂度: O(N)"
   ]
  },
  {
   "cell_type": "code",
   "execution_count": null,
   "metadata": {},
   "outputs": [],
   "source": [
    "from collections import Counter\n",
    "class Solution:\n",
    "    def lengthOfLongestSubstring(self, s):\n",
    "        \"\"\"\n",
    "        :type s: str\n",
    "        :rtype: int\n",
    "        \"\"\"\n",
    "        \n",
    "        \n",
    "        l = 0\n",
    "        r = 0\n",
    "        counter = 0 # counter 为当前子串中 unique 字符的数量\n",
    "        res = 0\n",
    "        \n",
    "        dic = Counter()\n",
    "        \n",
    "        while r <= len(s) - 1:\n",
    "            if dic[s[r]] > 0:\n",
    "                counter += 1\n",
    "                \n",
    "            dic[s[r]] += 1\n",
    "            r += 1\n",
    "            \n",
    "            while counter:\n",
    "                if dic[s[l]] > 1:\n",
    "                    counter -= 1\n",
    "                    \n",
    "                dic[s[l]] -= 1\n",
    "                l += 1\n",
    "                \n",
    "            res = max(res, r - l)\n",
    "        return res"
   ]
  },
  {
   "cell_type": "markdown",
   "metadata": {},
   "source": [
    "时间复杂度: O(N)  \n",
    "O(N)"
   ]
  },
  {
   "cell_type": "code",
   "execution_count": 102,
   "metadata": {},
   "outputs": [
    {
     "name": "stdout",
     "output_type": "stream",
     "text": [
      "0 0 1\n",
      "0 0 2\n",
      "0 0 3\n",
      "1 1 3\n",
      "2 2 3\n",
      "3 3 3\n",
      "5 5 3\n",
      "7 7 3\n"
     ]
    },
    {
     "data": {
      "text/plain": [
       "3"
      ]
     },
     "execution_count": 102,
     "metadata": {},
     "output_type": "execute_result"
    }
   ],
   "source": [
    "class Solution:\n",
    "    def lengthOfLongestSubstring(self, s):\n",
    "        \"\"\"\n",
    "        :type s: str\n",
    "        :rtype: int\n",
    "        \"\"\"\n",
    "        # start 指针指向的是当前子串首字符在 input 中对应的index\n",
    "        cur = 0 \n",
    "        res = 0\n",
    "        dic = {}\n",
    "        \n",
    "        for i, c in enumerate(s):\n",
    "            cur = max(cur, dic.get(c, -1) + 1) # 找到当前子串新的起点\n",
    "            res = max(res, i - cur + 1) # 当前子串满足条件了，更新结果\n",
    "#             print(dic.get(s[i],-1)+1,start,res)\n",
    "            dic[c] = i # 将当前字符与其在 input 中的 index 记录下来\n",
    "        return res\n",
    "\n",
    "s = Solution()\n",
    "s.lengthOfLongestSubstring('abcabcbb')"
   ]
  },
  {
   "cell_type": "markdown",
   "metadata": {},
   "source": [
    "## 76. Minimum Window Substring (String, Sliding Window) (Facebook 20, Amazon 13, Linkedin 7, Google 7) (Hard)\n",
    "\n",
    "O(s+t)  \n",
    "O(s+t)"
   ]
  },
  {
   "cell_type": "code",
   "execution_count": 93,
   "metadata": {},
   "outputs": [],
   "source": [
    "from collections import Counter\n",
    "class Solution:\n",
    "    def minWindow(self, s, t):\n",
    "        \"\"\"\n",
    "        :type s: str\n",
    "        :type t: str\n",
    "        :rtype: str\n",
    "        \"\"\"\n",
    "        \n",
    "        \n",
    "#         for c in t:\n",
    "#             dic[c] += 1\n",
    "        l = 0\n",
    "        r = 0\n",
    "        \n",
    "        counter = len(t)\n",
    "        min_len = float(\"inf\")\n",
    "        res = \"\"\n",
    "        \n",
    "        dic = Counter(t)\n",
    "        \n",
    "        while r <= len(s) - 1:\n",
    "            if dic[s[r]] > 0:\n",
    "                counter -= 1\n",
    "                \n",
    "            dic[s[r]] -= 1\n",
    "            r += 1\n",
    "            \n",
    "            while counter == 0:\n",
    "                if min_len > r - l:\n",
    "                    min_len = r - l\n",
    "                    res = s[l:r]\n",
    "                    \n",
    "                if dic[s[l]] == 0:\n",
    "                    counter += 1\n",
    "                    \n",
    "                dic[s[l]] += 1\n",
    "                l += 1\n",
    "        return res"
   ]
  },
  {
   "cell_type": "code",
   "execution_count": 94,
   "metadata": {},
   "outputs": [
    {
     "name": "stdout",
     "output_type": "stream",
     "text": [
      "dict_t= Counter({'A': 1, 'B': 1, 'C': 1})\n",
      "required= 3\n",
      "character= A\n",
      "window_counts= {'A': 1}\n",
      "formed= 1\n",
      "\n",
      "character= D\n",
      "window_counts= {'A': 1, 'D': 1}\n",
      "\n",
      "character= O\n",
      "window_counts= {'A': 1, 'D': 1, 'O': 1}\n",
      "\n",
      "character= B\n",
      "window_counts= {'A': 1, 'D': 1, 'O': 1, 'B': 1}\n",
      "formed= 2\n",
      "\n",
      "character= E\n",
      "window_counts= {'A': 1, 'D': 1, 'O': 1, 'B': 1, 'E': 1}\n",
      "\n",
      "character= C\n",
      "window_counts= {'A': 1, 'D': 1, 'O': 1, 'B': 1, 'E': 1, 'C': 1}\n",
      "formed= 3\n",
      "ans= (6, 0, 5)\n",
      "\n",
      "character= O\n",
      "window_counts= {'A': 0, 'D': 1, 'O': 2, 'B': 1, 'E': 1, 'C': 1}\n",
      "\n",
      "character= D\n",
      "window_counts= {'A': 0, 'D': 2, 'O': 2, 'B': 1, 'E': 1, 'C': 1}\n",
      "\n",
      "character= E\n",
      "window_counts= {'A': 0, 'D': 2, 'O': 2, 'B': 1, 'E': 2, 'C': 1}\n",
      "\n",
      "character= B\n",
      "window_counts= {'A': 0, 'D': 2, 'O': 2, 'B': 2, 'E': 2, 'C': 1}\n",
      "\n",
      "character= A\n",
      "window_counts= {'A': 1, 'D': 2, 'O': 2, 'B': 2, 'E': 2, 'C': 1}\n",
      "formed= 3\n",
      "\n",
      "character= N\n",
      "window_counts= {'A': 1, 'D': 1, 'O': 1, 'B': 1, 'E': 1, 'C': 0, 'N': 1}\n",
      "\n",
      "character= C\n",
      "window_counts= {'A': 1, 'D': 1, 'O': 1, 'B': 1, 'E': 1, 'C': 1, 'N': 1}\n",
      "formed= 3\n",
      "ans= (5, 8, 12)\n",
      "ans= (4, 9, 12)\n",
      "\n"
     ]
    },
    {
     "data": {
      "text/plain": [
       "'BANC'"
      ]
     },
     "execution_count": 94,
     "metadata": {},
     "output_type": "execute_result"
    }
   ],
   "source": [
    "a = Solution()\n",
    "s = \"ADOBECODEBANC\"\n",
    "t = \"ABC\"\n",
    "a.minWindow(s,t)"
   ]
  },
  {
   "cell_type": "markdown",
   "metadata": {},
   "source": [
    "## 159. Longest Substring with At Most Two Distinct Characters (String, 2 Pointers, Sliding Window) (Google 2)\n",
    "- 时间复杂度: O(N)- 空间复杂度: O(N)"
   ]
  },
  {
   "cell_type": "code",
   "execution_count": null,
   "metadata": {},
   "outputs": [],
   "source": [
    "from collections import Counter\n",
    "class Solution:\n",
    "    def lengthOfLongestSubstringTwoDistinct(self, s):\n",
    "        \"\"\"\n",
    "        :type s: str\n",
    "        :rtype: int\n",
    "        \"\"\"   \n",
    "        \n",
    "        dic = Counter()\n",
    "        l = 0\n",
    "        r = 0\n",
    "        counter = 0\n",
    "        res = 0\n",
    "        \n",
    "        while r <= len(s) - 1:\n",
    "            if dic[s[r]] == 0:\n",
    "                counter += 1\n",
    "            \n",
    "            dic[s[r]] += 1\n",
    "            r += 1\n",
    "            \n",
    "            while counter > 2:\n",
    "                if dic[s[l]] == 1:\n",
    "                    counter -= 1\n",
    "                dic[s[l]] -= 1\n",
    "                l += 1\n",
    "            res = max(res, r - l)\n",
    "        return res"
   ]
  },
  {
   "cell_type": "markdown",
   "metadata": {},
   "source": [
    "O(N)  \n",
    "O(N)"
   ]
  },
  {
   "cell_type": "code",
   "execution_count": null,
   "metadata": {},
   "outputs": [],
   "source": [
    "from collections import defaultdict\n",
    "class Solution:\n",
    "    def lengthOfLongestSubstringTwoDistinct(self, s):\n",
    "        \"\"\"\n",
    "        :type s: str\n",
    "        :rtype: int\n",
    "        \"\"\"\n",
    "        \n",
    "        n = len(s) \n",
    "        if n < 3:\n",
    "            return n\n",
    "        \n",
    "        # sliding window left and right pointers\n",
    "        left, right = 0, 0\n",
    "        # hashmap character -> its rightmost position \n",
    "        # in the sliding window\n",
    "        hashmap = defaultdict()\n",
    "\n",
    "        max_len = 2\n",
    "        \n",
    "        while right < n:\n",
    "            # slidewindow contains less than 3 characters\n",
    "            if len(hashmap) < 3:\n",
    "                hashmap[s[right]] = right\n",
    "                right += 1\n",
    "\n",
    "            # slidewindow contains 3 characters\n",
    "            if len(hashmap) == 3:\n",
    "                # delete the leftmost character\n",
    "                del_idx = min(hashmap.values())\n",
    "                del hashmap[s[del_idx]]\n",
    "                # move left pointer of the slidewindow\n",
    "                left = del_idx + 1\n",
    "\n",
    "            max_len = max(max_len, right - left)\n",
    "\n",
    "        return max_len"
   ]
  },
  {
   "cell_type": "markdown",
   "metadata": {},
   "source": [
    "## 340 Longest Substring with At Most K(Two) Distinct Characters (String, 2 Pointers, Sliding Window) (Facebook 11, Amazon 9)\n",
    "- 时间复杂度: O(N)- 空间复杂度: O(N)"
   ]
  },
  {
   "cell_type": "code",
   "execution_count": null,
   "metadata": {},
   "outputs": [],
   "source": [
    "from collections import Counter\n",
    "class Solution:\n",
    "    def lengthOfLongestSubstringKDistinct(self, s, k):\n",
    "        \"\"\"\n",
    "        :type s: str\n",
    "        :type k: int\n",
    "        :rtype: int\n",
    "        \"\"\"\n",
    "        dic = Counter()\n",
    "        l = 0\n",
    "        r = 0\n",
    "        counter = 0\n",
    "        res = 0\n",
    "        \n",
    "        while r <= len(s) - 1:\n",
    "            if dic[s[r]] == 0:\n",
    "                counter += 1\n",
    "                \n",
    "            dic[s[r]] += 1\n",
    "            r += 1\n",
    "            \n",
    "            while counter > k:\n",
    "                if dic[s[l]] == 1:\n",
    "                    counter -= 1\n",
    "                dic[s[l]] -= 1\n",
    "                l += 1\n",
    "            res = max(res, r - l)\n",
    "        return res"
   ]
  },
  {
   "cell_type": "markdown",
   "metadata": {},
   "source": [
    "## 209 Minimum Size Subarray Sum (List, 2 Poinsters, Sliding Window) (Amazon 3)"
   ]
  },
  {
   "cell_type": "code",
   "execution_count": null,
   "metadata": {},
   "outputs": [],
   "source": [
    "# sliding window\n",
    "# O(n)\n",
    "class Solution:\n",
    "    def minSubArrayLen(self, s: int, nums: List[int]) -> int:\n",
    "        if not nums : \n",
    "            return 0\n",
    "        \n",
    "        left = 0\n",
    "        cur = 0\n",
    "        res = float(\"inf\")\n",
    "        for right in range(len(nums)):\n",
    "            cur += nums[right]\n",
    "            while cur >= s:\n",
    "                res = min(res, right - left + 1)\n",
    "                cur -= nums[left]\n",
    "                left += 1\n",
    "                \n",
    "        return res if res != float(\"inf\") else 0"
   ]
  },
  {
   "cell_type": "code",
   "execution_count": null,
   "metadata": {},
   "outputs": [],
   "source": [
    "# binary search\n",
    "# O(nlogn)\n",
    "class Solution:\n",
    "    def minSubArrayLen(self, s: int, nums: List[int]) -> int:\n",
    "        if not nums :           \n",
    "            return 0\n",
    "        # 求前缀和\n",
    "        for i in range(1, len(nums)):\n",
    "            nums[i] += nums[i - 1]\n",
    "        #print(nums)\n",
    "        # 总和都小于 s 时候\n",
    "        if nums[-1] < s: return 0\n",
    "        res = float(\"inf\")\n",
    "        nums = [0] + nums\n",
    "        for i in range(1, len(nums)):\n",
    "            if nums[i] - s >= 0:\n",
    "                # 二分查找\n",
    "                loc = bisect.bisect_left(nums, nums[i] - s)\n",
    "                if nums[i] - nums[loc] >= s:\n",
    "                    res = min(res, i - loc)\n",
    "                    continue\n",
    "                if loc > 0:\n",
    "                    res = min(res, i - loc + 1)\n",
    "        return res\n"
   ]
  },
  {
   "cell_type": "markdown",
   "metadata": {},
   "source": [
    "## 202. Happy Number (Int, Set) (Apple 5)\n",
    "\n",
    "O(N)  \n",
    "O(N)"
   ]
  },
  {
   "cell_type": "code",
   "execution_count": null,
   "metadata": {},
   "outputs": [],
   "source": [
    "class Solution:\n",
    "    def isHappy(self, n):\n",
    "        seen = set()\n",
    "        while n not in seen:\n",
    "            seen.add(n)\n",
    "            n = sum([int(x) **2 for x in str(n)])\n",
    "        return n == 1"
   ]
  },
  {
   "cell_type": "markdown",
   "metadata": {},
   "source": [
    "## 771. Jewesl and Stones (Int, Set) (Google 5)\n",
    "\n",
    "O(J+S)  \n",
    "O(J)"
   ]
  },
  {
   "cell_type": "code",
   "execution_count": null,
   "metadata": {},
   "outputs": [],
   "source": [
    "class Solution:\n",
    "    def numJewelsInStones(self, J, S):\n",
    "        \"\"\"\n",
    "        :type J: str\n",
    "        :type S: str\n",
    "        :rtype: int\n",
    "        \"\"\"\n",
    "        Jset = set(J)\n",
    "        return sum(s in Jset for s in S)\n",
    "    \n",
    "s = Solution()\n",
    "s.numJewelsInStones(\"aA\", \"aAAbbbb\")"
   ]
  },
  {
   "cell_type": "code",
   "execution_count": null,
   "metadata": {},
   "outputs": [],
   "source": [
    "J = 'aA'\n",
    "S = 'aAAbbbb'\n",
    "[s in J for s in S]\n",
    "\n",
    "Jset = set(J)\n",
    "Jset"
   ]
  },
  {
   "cell_type": "markdown",
   "metadata": {},
   "source": [
    "## 929. Unique Email Adress (List, Set) (Google 2)\n",
    "O(N)  \n",
    "O(N)"
   ]
  },
  {
   "cell_type": "code",
   "execution_count": null,
   "metadata": {},
   "outputs": [],
   "source": [
    "class Solution:\n",
    "    def numUniqueEmails(self, emails):\n",
    "        \"\"\"\n",
    "        :type emails: List[str]\n",
    "        :rtype: int\n",
    "        \"\"\"\n",
    "        seen = set()\n",
    "        for email in emails:\n",
    "            local, domain = email.split('@')\n",
    "            if '+' in local:\n",
    "                local = local[:local.index('+')]\n",
    "            seen.add(local.replace('.','') + '@' + domain)\n",
    "        return len(seen)"
   ]
  },
  {
   "cell_type": "markdown",
   "metadata": {},
   "source": [
    "### (18) (String) List. List, Matrix-DP. Recursion-DP O(N) O(N)"
   ]
  },
  {
   "cell_type": "markdown",
   "metadata": {},
   "source": [
    "## 509. Fibonacci Number (Amazon 2, Microsoft 2)"
   ]
  },
  {
   "cell_type": "markdown",
   "metadata": {},
   "source": [
    "Bottom-Up Approach using Memoization  \n",
    "O(N)  \n",
    "O(N)"
   ]
  },
  {
   "cell_type": "code",
   "execution_count": null,
   "metadata": {},
   "outputs": [],
   "source": [
    "class Solution:\n",
    "    def fib(self, n):\n",
    "        \"\"\"\n",
    "        :type n: int\n",
    "        :rtype: int\n",
    "        \"\"\"\n",
    "#         cache = {0: 0, \n",
    "#                  1: 1}\n",
    "        \n",
    "        dp = [0, 1] + [0] * (n - 1)\n",
    "        # Since range is exclusive and we want to include N, we need to put N+1.\n",
    "        for i in range(2, n+1):\n",
    "            dp[i] = dp[i-1] + dp[i-2]\n",
    "\n",
    "        return dp[n]"
   ]
  },
  {
   "cell_type": "code",
   "execution_count": 5,
   "metadata": {},
   "outputs": [
    {
     "data": {
      "text/plain": [
       "[]"
      ]
     },
     "execution_count": 5,
     "metadata": {},
     "output_type": "execute_result"
    }
   ],
   "source": [
    "[0] * - 1"
   ]
  },
  {
   "cell_type": "markdown",
   "metadata": {},
   "source": [
    "Top-Down Approach using Memoization"
   ]
  },
  {
   "cell_type": "code",
   "execution_count": 64,
   "metadata": {},
   "outputs": [],
   "source": [
    "class Solution:    \n",
    "    def fib(self, n):\n",
    "        \"\"\"\n",
    "        :type n: int\n",
    "        :rtype: int\n",
    "        \"\"\"\n",
    "        dic = {0: 0,\n",
    "               1: 1}\n",
    "        \n",
    "        def dp(n): \n",
    "#             if n <= 1:\n",
    "#                 return n\n",
    "\n",
    "            if n in dic:\n",
    "                return dic[n]\n",
    "\n",
    "            dic[n] = dp(n-1) + dp(n-2)\n",
    "            return dic[n]\n",
    "        \n",
    "        return dp(n)"
   ]
  },
  {
   "cell_type": "code",
   "execution_count": 65,
   "metadata": {},
   "outputs": [
    {
     "data": {
      "text/plain": [
       "13"
      ]
     },
     "execution_count": 65,
     "metadata": {},
     "output_type": "execute_result"
    }
   ],
   "source": [
    "s = Solution()\n",
    "s.fib(7)"
   ]
  },
  {
   "cell_type": "code",
   "execution_count": 75,
   "metadata": {},
   "outputs": [],
   "source": [
    "class Solution:        \n",
    "    def countBinStry(self, n):\n",
    "        \"\"\"\n",
    "        :type n: int\n",
    "        :rtype: int\n",
    "        \"\"\"\n",
    "        dic = {0: 0, \n",
    "               1: 1}\n",
    "        \n",
    "        n += 2\n",
    "        \n",
    "        def fib(n):\n",
    "            \"\"\"\n",
    "            :type n: int\n",
    "            :rtype: int\n",
    "            \"\"\"\n",
    "#             if n <= 1:\n",
    "#                 return n\n",
    "\n",
    "            if n in dic:\n",
    "                return dic[n]\n",
    "\n",
    "            dic[n] = fib(n-1) + fib(n-2)\n",
    "            \n",
    "            return dic[n]\n",
    "        \n",
    "        return fib(n)"
   ]
  },
  {
   "cell_type": "code",
   "execution_count": 76,
   "metadata": {},
   "outputs": [
    {
     "data": {
      "text/plain": [
       "8"
      ]
     },
     "execution_count": 76,
     "metadata": {},
     "output_type": "execute_result"
    }
   ],
   "source": [
    "s = Solution()\n",
    "s.countBinStry(4)"
   ]
  },
  {
   "cell_type": "code",
   "execution_count": 14,
   "metadata": {},
   "outputs": [],
   "source": [
    "class Solution:\n",
    "    def fib(self, n):\n",
    "        \"\"\"\n",
    "        :type n: int\n",
    "        :rtype: int\n",
    "        \"\"\"\n",
    "        \n",
    "        if n <= 1:\n",
    "            return n\n",
    "        return self.fib(n-1) + self.fib(n-2)"
   ]
  },
  {
   "cell_type": "markdown",
   "metadata": {},
   "source": [
    "## 70. Climbing Stairs (Int) (Amazon 6)  \n",
    "O(N)  \n",
    "O(1)"
   ]
  },
  {
   "cell_type": "code",
   "execution_count": null,
   "metadata": {},
   "outputs": [],
   "source": [
    "# Recursion\n",
    "class Solution:\n",
    "    def climbStairs(self, n):\n",
    "        \"\"\"\n",
    "        :type n: int\n",
    "        :rtype: int\n",
    "        \"\"\"\n",
    "        \n",
    "        if n == 1: \n",
    "            return 1\n",
    "        if n == 2: \n",
    "            return 2\n",
    "        return self.climbStairs(n - 1) + self.climbStairs(n - 2)"
   ]
  },
  {
   "cell_type": "code",
   "execution_count": null,
   "metadata": {},
   "outputs": [],
   "source": [
    "# Bottom up. 时间复杂度: O(N)- 空间复杂度: O(N)\n",
    "class Solution:\n",
    "    def climbStairs(self, n):\n",
    "        \"\"\"\n",
    "        :type n: int\n",
    "        :rtype: int\n",
    "        \"\"\"\n",
    "        cache = [0, 1, 2] + [0] * (n-2)\n",
    "        \n",
    "        for i in range(3, n+1):\n",
    "            cache[i] = cache[i-1] + cache[i-2]\n",
    "        return cache[n]"
   ]
  },
  {
   "cell_type": "code",
   "execution_count": null,
   "metadata": {},
   "outputs": [],
   "source": [
    "# Top down. 时间复杂度: O(N)- 空间复杂度: O(N)\n",
    "class Solution:            \n",
    "    def climbStairs(self, n):\n",
    "        \"\"\"\n",
    "        :type n: int\n",
    "        :rtype: int\n",
    "        \"\"\"\n",
    "        dic = {1: 1\n",
    "               2: 2}\n",
    "        \n",
    "        def dp(n):\n",
    "            if n in dic:\n",
    "                return dic[n]\n",
    "\n",
    "            dic[n] = dp(n-1) + dp(n-2)\n",
    "            return dic[n]\n",
    "        \n",
    "        return dp(n)"
   ]
  },
  {
   "cell_type": "code",
   "execution_count": null,
   "metadata": {},
   "outputs": [],
   "source": [
    "class Solution:\n",
    "    def climbStairs(self, n):\n",
    "        if n == 1: \n",
    "            return 1\n",
    "        res = [-1 for i in range(n)]\n",
    "        res[0], res[1] = 1, 2\n",
    "        \n",
    "        def dp(n, res):\n",
    "            if res[n] == -1:\n",
    "                res[n] = dp(n - 1, res) + dp(n - 2, res)\n",
    "            return res[n]\n",
    "        \n",
    "        return dp(n-1, res)\n",
    "        \n",
    "#     def dp(self, n, res):\n",
    "#         if res[n] == -1:\n",
    "#             res[n] = self.dp(n - 1, res) + self.dp(n - 2, res)\n",
    "#         return res[n]"
   ]
  },
  {
   "cell_type": "markdown",
   "metadata": {},
   "source": [
    "## Knapsack"
   ]
  },
  {
   "cell_type": "code",
   "execution_count": 3,
   "metadata": {},
   "outputs": [
    {
     "name": "stdout",
     "output_type": "stream",
     "text": [
      "16\n",
      "17\n",
      "22\n"
     ]
    }
   ],
   "source": [
    "def solve_knapsack(profits, weights, capacity):\n",
    "\n",
    "    n = len(profits)\n",
    "    if capacity <= 0 or n == 0 or len(weights) != n:\n",
    "        return 0\n",
    "\n",
    "    dp = [[0 for i in range(capacity+1)] for j in range(n)]\n",
    "\n",
    "  # populate the capacity = 0 columns, with '0' capacity we have '0' profit\n",
    "    for i in range(0, n):\n",
    "        dp[i][0] = 0\n",
    "\n",
    "  # if we have only one weight, we will take it if it is not more than the capacity\n",
    "    for c in range(0, capacity+1):\n",
    "        if weights[0] <= c:\n",
    "            dp[0][c] = profits[0]\n",
    "\n",
    "  # process all sub-arrays for all the capacities\n",
    "    for i in range(1, n):\n",
    "        for c in range(1, capacity+1):\n",
    "            # include the item, if it is not more than the capacity\n",
    "            if weights[i] <= c:\n",
    "                dp[i][c] = max(dp[i - 1][c], profits[i] + dp[i - 1][c - weights[i]])\n",
    "\n",
    "            else:\n",
    "                dp[i][c] = dp[i - 1][c]\n",
    "    return dp[n - 1][capacity]\n",
    "\n",
    "print(solve_knapsack([1, 6, 10, 16], [1, 2, 3, 5], 5))\n",
    "print(solve_knapsack([1, 6, 10, 16], [1, 2, 3, 5], 6))\n",
    "print(solve_knapsack([1, 6, 10, 16], [1, 2, 3, 5], 7))"
   ]
  },
  {
   "cell_type": "code",
   "execution_count": 6,
   "metadata": {},
   "outputs": [
    {
     "name": "stdout",
     "output_type": "stream",
     "text": [
      "16\n",
      "17\n",
      "22\n"
     ]
    }
   ],
   "source": [
    "def knapSack(val, wt, W): \n",
    "    n = len(val)\n",
    "    K = [[0 for x in range(W+1)] for x in range(n+1)] \n",
    "  \n",
    "    # Build table K[][] in bottom up manner \n",
    "    for i in range(n+1): \n",
    "        for w in range(W+1): \n",
    "            if i==0 or w==0: \n",
    "                K[i][w] = 0\n",
    "            elif wt[i-1] <= w: \n",
    "                K[i][w] = max(val[i-1] + K[i-1][w-wt[i-1]],  K[i-1][w]) \n",
    "            else: \n",
    "                K[i][w] = K[i-1][w] \n",
    "  \n",
    "    return K[n][W]\n",
    "\n",
    "print(knapSack([1, 6, 10, 16], [1, 2, 3, 5], 5))\n",
    "print(knapSack([1, 6, 10, 16], [1, 2, 3, 5], 6))\n",
    "print(knapSack([1, 6, 10, 16], [1, 2, 3, 5], 7))"
   ]
  },
  {
   "cell_type": "markdown",
   "metadata": {},
   "source": [
    "## 62. Unique Paths (Int, Matrix-DP) (Amazon 10)\n",
    "时间复杂度: O(m * n)- 空间复杂度: O(m * n)"
   ]
  },
  {
   "cell_type": "code",
   "execution_count": null,
   "metadata": {},
   "outputs": [],
   "source": [
    "class Solution:\n",
    "    def uniquePaths(self, m, n):\n",
    "        \"\"\"\n",
    "        :type m: int\n",
    "        :type n: int\n",
    "        :rtype: int\n",
    "        \"\"\"\n",
    "        if not m or not n:\n",
    "            return 0\n",
    "        \n",
    "        dp = [[1] * n for i in range(m)]\n",
    "        for i in range(1, m):\n",
    "            for j in range(1, n):\n",
    "                dp[i][j] = dp[i-1][j] + dp[i][j-1]\n",
    "        return dp[-1][-1]"
   ]
  },
  {
   "cell_type": "markdown",
   "metadata": {},
   "source": [
    "时间复杂度: O(m * n)- 空间复杂度: O(n)"
   ]
  },
  {
   "cell_type": "code",
   "execution_count": 36,
   "metadata": {},
   "outputs": [],
   "source": [
    "class Solution:\n",
    "    def uniquePaths(self, m, n):\n",
    "        \"\"\"\n",
    "        :type m: int\n",
    "        :type n: int\n",
    "        :rtype: int\n",
    "        \"\"\"\n",
    "        if m < 1 or n < 1:\n",
    "            return 0\n",
    "        dp = [1] * n\n",
    "        for i in range(1, m):\n",
    "            for j in range(1, n):\n",
    "                dp[j] += dp[j-1]\n",
    "        return dp[n-1]"
   ]
  },
  {
   "cell_type": "markdown",
   "metadata": {},
   "source": [
    "## 63. Unique Paths II (Matrix-DP) (Amazon 4)"
   ]
  },
  {
   "cell_type": "code",
   "execution_count": null,
   "metadata": {},
   "outputs": [],
   "source": [
    "class Solution:\n",
    "    def uniquePathsWithObstacles(self, obstacleGrid):\n",
    "        \"\"\"\n",
    "        :type obstacleGrid: List[List[int]]\n",
    "        :rtype: int\n",
    "        \"\"\"\n",
    "\n",
    "        if obstacleGrid[0][0] == 1 or obstacleGrid[-1][-1] == 1:\n",
    "            return 0\n",
    "        n, m = len(obstacleGrid[0]), len(obstacleGrid)\n",
    "        arr = [0] * n\n",
    "        arr[0] = 1\n",
    "        for i in range(m):\n",
    "            if obstacleGrid[i][0] == 1:\n",
    "                arr[0] = 0\n",
    "            for j in range(1, n):\n",
    "                if obstacleGrid[i][j] == 0:\n",
    "                    arr[j] = arr[j] + arr[j - 1]\n",
    "                    print(arr, 0)\n",
    "                else:\n",
    "                    arr[j] = 0\n",
    "                    print(arr, 1)\n",
    "                 \n",
    "        return arr[-1]"
   ]
  },
  {
   "cell_type": "code",
   "execution_count": null,
   "metadata": {},
   "outputs": [],
   "source": [
    "class Solution:\n",
    "    def uniquePathsWithObstacles(self, obstacleGrid: List[List[int]]) -> int:\n",
    "        dp = []\n",
    "        for i in range(len(obstacleGrid)):\n",
    "            dp.append([0]*len(obstacleGrid[0]))\n",
    "        dp[0][0] = 1 if obstacleGrid[0][0] == 0 else 0 \n",
    "        for i in range(1,len(obstacleGrid)):\n",
    "            dp[i][0] = 1 if obstacleGrid[i][0] == 0 and dp[i-1][0] != 0 else 0\n",
    "        \n",
    "        for j in range(1,len(obstacleGrid[0])):\n",
    "            dp[0][j] = 1 if obstacleGrid[0][j] == 0 and dp[0][j-1] != 0 else 0\n",
    "            \n",
    "        for i in range(1,len(dp)):\n",
    "            for j in range(1,len(dp[0])):\n",
    "                if obstacleGrid[i][j] == 1:\n",
    "                    dp[i][j] = 0\n",
    "                else:\n",
    "                    dp[i][j] = dp[i-1][j] + dp[i][j-1]\n",
    "        return dp[-1][-1]"
   ]
  },
  {
   "cell_type": "code",
   "execution_count": null,
   "metadata": {},
   "outputs": [],
   "source": [
    "class Solution:\n",
    "    def uniquePathsWithObstacles(self, obstacleGrid):\n",
    "        \"\"\"\n",
    "        :type obstacleGrid: List[List[int]]\n",
    "        :rtype: int\n",
    "        \"\"\"\n",
    "        m = len(obstacleGrid)\n",
    "        n = len(obstacleGrid[0])\n",
    "\n",
    "        # If the starting cell has an obstacle, then simply return as there would be\n",
    "        # no paths to the destination.\n",
    "        if obstacleGrid[0][0] == 1:\n",
    "            return 0\n",
    "\n",
    "        # Number of ways of reaching the starting cell = 1.\n",
    "        obstacleGrid[0][0] = 1\n",
    "\n",
    "        # Filling the values for the first column\n",
    "        for i in range(1, m):\n",
    "            obstacleGrid[i][0] = int(obstacleGrid[i][0] == 0 and obstacleGrid[i-1][0] == 1)\n",
    "\n",
    "        # Filling the values for the first row        \n",
    "        for j in range(1, n):\n",
    "            obstacleGrid[0][j] = int(obstacleGrid[0][j] == 0 and obstacleGrid[0][j-1] == 1)\n",
    "\n",
    "        # Starting from cell(1,1) fill up the values\n",
    "        # No. of ways of reaching cell[i][j] = cell[i - 1][j] + cell[i][j - 1]\n",
    "        # i.e. From above and left.\n",
    "        for i in range(1, m):\n",
    "            for j in range(1, n):\n",
    "                if obstacleGrid[i][j] == 0:\n",
    "                    obstacleGrid[i][j] = obstacleGrid[i-1][j] + obstacleGrid[i][j-1]\n",
    "                else:\n",
    "                    obstacleGrid[i][j] = 0\n",
    "\n",
    "        # Return value stored in rightmost bottommost cell. That is the destination.            \n",
    "        return obstacleGrid[m-1][n-1]"
   ]
  },
  {
   "cell_type": "markdown",
   "metadata": {},
   "source": [
    "## 53. Maximum Subarray (List, List-DP) (Amazon 29, Linkein 16, Microsoft 13, Apple 8, Google 7, Facebook 7)"
   ]
  },
  {
   "cell_type": "markdown",
   "metadata": {},
   "source": [
    "O(N)  \n",
    "O(N)\n",
    "\n",
    "dp[i]表示i之前的最大sum"
   ]
  },
  {
   "cell_type": "code",
   "execution_count": 76,
   "metadata": {},
   "outputs": [],
   "source": [
    "class Solution:\n",
    "    def maxSubArray(self, nums):\n",
    "        \"\"\"\n",
    "        :type nums: List[int]\n",
    "        :rtype: int\n",
    "        \"\"\"\n",
    "        dp = [nums[0]] * len(nums)\n",
    "#         print('maxSum =', maxSum)\n",
    "        \n",
    "        for i in range(1, len(nums)):\n",
    "#             print('i=', i)\n",
    "            dp[i] = max(dp[i - 1] + nums[i], nums[i])\n",
    "#             print(f'maxSum [{i}] =', maxSum[i])\n",
    "        return max(dp)"
   ]
  },
  {
   "cell_type": "code",
   "execution_count": 77,
   "metadata": {},
   "outputs": [
    {
     "name": "stdout",
     "output_type": "stream",
     "text": [
      "maxSum = [-2, -2, -2, -2, -2, -2, -2, -2, -2]\n",
      "i= 1\n",
      "maxSum [1] = 1\n",
      "i= 2\n",
      "maxSum [2] = -2\n",
      "i= 3\n",
      "maxSum [3] = 4\n",
      "i= 4\n",
      "maxSum [4] = 3\n",
      "i= 5\n",
      "maxSum [5] = 5\n",
      "i= 6\n",
      "maxSum [6] = 6\n",
      "i= 7\n",
      "maxSum [7] = 1\n",
      "i= 8\n",
      "maxSum [8] = 5\n"
     ]
    },
    {
     "data": {
      "text/plain": [
       "6"
      ]
     },
     "execution_count": 77,
     "metadata": {},
     "output_type": "execute_result"
    }
   ],
   "source": [
    "s = Solution()\n",
    "nums = [-2,1,-3,4,-1,2,1,-5,4]\n",
    "s.maxSubArray(nums)"
   ]
  },
  {
   "cell_type": "code",
   "execution_count": 8,
   "metadata": {},
   "outputs": [
    {
     "data": {
      "text/plain": [
       "[2, 2, 2, 2]"
      ]
     },
     "execution_count": 8,
     "metadata": {},
     "output_type": "execute_result"
    }
   ],
   "source": [
    "nums = [2,3,4,5]\n",
    "maxSum = [nums[0] for i in nums]\n",
    "maxSum"
   ]
  },
  {
   "cell_type": "code",
   "execution_count": 16,
   "metadata": {},
   "outputs": [],
   "source": [
    "maxsum = [2] * 4"
   ]
  },
  {
   "cell_type": "markdown",
   "metadata": {},
   "source": [
    "## 152. Maximum Product Subarray (List, List-DP) (Linkedin 10, Amazon3)"
   ]
  },
  {
   "cell_type": "code",
   "execution_count": null,
   "metadata": {},
   "outputs": [],
   "source": [
    "class Solution:\n",
    "    def maxProduct(self, nums):\n",
    "        \"\"\"\n",
    "        :type nums: List[int]\n",
    "        :rtype: int\n",
    "        \"\"\"\n",
    "        maxdp = [nums[0]] * len(nums)\n",
    "        mindp = [nums[0]] * len(nums)\n",
    "\n",
    "        for i in range(1, len(nums)):\n",
    "            maxdp[i] = max(mindp[i-1]*nums[i], maxdp[i-1]*nums[i], nums[i])\n",
    "            mindp[i] = min(maxdp[i-1]*nums[i], mindp[i-1]*nums[i], nums[i])\n",
    "\n",
    "        return max(maxdp)"
   ]
  },
  {
   "cell_type": "markdown",
   "metadata": {},
   "source": [
    "## Product of K Consecutive Numbers (List, List-DP) (Google Phone)"
   ]
  },
  {
   "cell_type": "code",
   "execution_count": 16,
   "metadata": {},
   "outputs": [
    {
     "data": {
      "text/plain": [
       "[1, 3, 9, 54, 90, 210, 0, 0]"
      ]
     },
     "execution_count": 16,
     "metadata": {},
     "output_type": "execute_result"
    }
   ],
   "source": [
    "class Solution:\n",
    "    def product(self, nums, k):\n",
    "        dp = [nums[0]] * len(nums)\n",
    "        k = len(nums) if k > len(nums) else k\n",
    "        \n",
    "        for i in range(1, k):\n",
    "            dp[i] = dp[i-1] * nums[i]\n",
    "            \n",
    "        for i in range(k, len(nums)):\n",
    "            dp[i] = dp[i-1] // nums[i-k] * nums[i]\n",
    "            \n",
    "            \n",
    "        return dp\n",
    "            \n",
    "nums = [1, 3, 3, 6, 5, 7, 0, -3]\n",
    "k = 3\n",
    "s = Solution()\n",
    "s.product(nums, k)"
   ]
  },
  {
   "cell_type": "code",
   "execution_count": 13,
   "metadata": {},
   "outputs": [
    {
     "data": {
      "text/plain": [
       "[1, 3, 9, 54, 90, 210, 0, 0]"
      ]
     },
     "execution_count": 13,
     "metadata": {},
     "output_type": "execute_result"
    }
   ],
   "source": [
    "def x(nums, k):\n",
    "\n",
    "    dp = [num for num in nums]\n",
    "    k = len(nums) if k > len(nums) else k\n",
    "    for i in range(1,k):\n",
    "        for j in range(i+1,len(nums)):\n",
    "            dp[j] *= nums[j-i]\n",
    "    return dp\n",
    "\n",
    "nums = [1, 3, 3, 6, 5, 7, 0, -3]\n",
    "k = 3\n",
    "# Output: [1, 3, 9, 54, 90, 210, 0, 0]\n",
    "x(nums, k)"
   ]
  },
  {
   "cell_type": "markdown",
   "metadata": {},
   "source": [
    "## 279. Perfect Squares (Int, List-DP) (Google 4)"
   ]
  },
  {
   "cell_type": "code",
   "execution_count": null,
   "metadata": {},
   "outputs": [],
   "source": [
    "# dp[i]表示加到数字i需要的最小square个数\n",
    "class Solution:\n",
    "    def numSquares(self, n):\n",
    "        \"\"\"\n",
    "        :type n: int\n",
    "        :rtype: int\n",
    "        \"\"\"\n",
    "        square = [i**2 for i in range(1, int(math.sqrt(n))+1)]\n",
    "        \n",
    "        dp = [float('inf')] * (n+1)\n",
    "        # bottom case\n",
    "        dp[0] = 0\n",
    "        \n",
    "        for num in square:\n",
    "            for i in range(num, n+1):\n",
    "                dp[i] = min(dp[i], dp[i-num] + 1)\n",
    "        \n",
    "        return dp[-1]"
   ]
  },
  {
   "cell_type": "code",
   "execution_count": null,
   "metadata": {},
   "outputs": [],
   "source": [
    "# dp[i]表示加到数字i需要的最小square个数\n",
    "class Solution:\n",
    "    def numSquares(self, n):\n",
    "        \"\"\"\n",
    "        :type n: int\n",
    "        :rtype: int\n",
    "        \"\"\"\n",
    "        square_nums = [i**2 for i in range(1, int(math.sqrt(n))+1)]\n",
    "        \n",
    "        dp = [float('inf')] * (n+1)\n",
    "        # bottom case\n",
    "        dp[0] = 0\n",
    "        \n",
    "        for i in range(1, n+1):\n",
    "            for square in square_nums:\n",
    "                if i >= square:\n",
    "                    dp[i] = min(dp[i], dp[i-square] + 1)\n",
    "        \n",
    "        return dp[-1]"
   ]
  },
  {
   "cell_type": "markdown",
   "metadata": {},
   "source": [
    "## 322. Coin Change (List, List-DP) (Amazon 14, Microsoft 5, Google)  "
   ]
  },
  {
   "cell_type": "markdown",
   "metadata": {},
   "source": [
    "O(N^2)  \n",
    "O(N)  \n",
    "\n",
    "输入: coins = [1, 2, 5], amount = 11\n",
    "输出: 3 \n",
    "解释: 11 = 5 + 5 + 1\n",
    "\n",
    "题目求的值为 f(11)，第一次选择硬币时我们有三种选择。\n",
    "假设我们取面额为 1 的硬币，那么接下来需要凑齐的总金额变为 11 - 1 = 10，即 f(11) = f(10) + 1，这里的 +1 就是我们取出的面额为 1 的硬币。\n",
    "\n",
    "同理，如果取面额为 2 或面额为 5 的硬币可以得到：  \n",
    "f(11) = f(9) + 1\n",
    "f(11) = f(6) + 1\n",
    "\n",
    "f(11) = min(f(10), f(9), f(6)) + 1  \n",
    "\n",
    "dp[i]是得到i数值的硬币数量"
   ]
  },
  {
   "cell_type": "code",
   "execution_count": null,
   "metadata": {},
   "outputs": [],
   "source": [
    "class Solution:\n",
    "    def coinChange(self, coins, amount):\n",
    "        \"\"\"\n",
    "        :type coins: List[int]\n",
    "        :type amount: int\n",
    "        :rtype: int\n",
    "        \"\"\"\n",
    "        \n",
    "        dp = [0] + [float('inf')] * amount\n",
    "        \n",
    "        for c in coins:  # 枚举硬币种数\n",
    "            for i in range(c, amount + 1):  # 从小到大枚举金额，确保j-c >= 0.\n",
    "                dp[i] = min(dp[i], dp[i - c] + 1)\n",
    "           \n",
    "        if dp[-1] != float('inf'):\n",
    "            return dp[-1]  \n",
    "        else: \n",
    "            return -1  # 如果为inf说明状态不可达，返回-1即可。\n"
   ]
  },
  {
   "cell_type": "markdown",
   "metadata": {},
   "source": [
    "## 198. House Robber (Lists-DP) (Google 5)  \n",
    "https://github.com/azl397985856/leetcode/blob/master/problems/198.house-robber.md  \n",
    "dp[i]表示能抢最大的财产"
   ]
  },
  {
   "cell_type": "code",
   "execution_count": null,
   "metadata": {},
   "outputs": [],
   "source": [
    "class Solution:\n",
    "    def rob(self, nums):\n",
    "        \"\"\"\n",
    "        :type nums: List[int]\n",
    "        :rtype: int\n",
    "        \"\"\"\n",
    "        \n",
    "        if not nums: \n",
    "            return 0\n",
    "        if len(nums) == 1: \n",
    "            return nums[0]\n",
    "        if len(nums) == 2: \n",
    "            return max(nums)\n",
    "\n",
    "        dp = [0]*len(nums)\n",
    "        dp[0], dp[1] = nums[0], max(nums[0], nums[1])\n",
    "        \n",
    "        for i in range(2, len(nums)):\n",
    "            dp[i] = max(dp[i-2]+nums[i], dp[i-1])\n",
    "        \n",
    "        return dp[-1]"
   ]
  },
  {
   "cell_type": "markdown",
   "metadata": {},
   "source": [
    "## 91. Decode Ways (List-DP) (Amazon 9, Facebook 8, Google 3)\n",
    "O(N)  \n",
    "O(N)\n",
    "\n",
    "dp[i]表示s[i]之前(不包括i)的最大decode数量\n",
    "\n",
    "w tells the number of ways  \n",
    "v tells the previous number of ways  \n",
    "d is the current digit  \n",
    "p is the previous digit  "
   ]
  },
  {
   "cell_type": "code",
   "execution_count": null,
   "metadata": {},
   "outputs": [],
   "source": [
    "class Solution:\n",
    "    def numDecodings(self, s: str) -> int:\n",
    "        if not s or s[0] == \"0\":\n",
    "            return 0\n",
    "\n",
    "        dp = [0] * (len(s) + 1)\n",
    "\n",
    "        dp[0] = 1\n",
    "        if s[0] != \"0\":\n",
    "            dp[1] = 1\n",
    "\n",
    "        for i in range(2, len(s) + 1):\n",
    "            one = int(s[i - 1])\n",
    "            two = int(s[i - 2] + s[i - 1])\n",
    "            if 0 < one < 10:\n",
    "                dp[i] += dp[i - 1]\n",
    "            if 9 < two < 27:\n",
    "                dp[i] += dp[i - 2]\n",
    "        return dp[-1]"
   ]
  },
  {
   "cell_type": "code",
   "execution_count": 32,
   "metadata": {},
   "outputs": [
    {
     "data": {
      "text/plain": [
       "2"
      ]
     },
     "execution_count": 32,
     "metadata": {},
     "output_type": "execute_result"
    }
   ],
   "source": [
    "int(5/2)"
   ]
  },
  {
   "cell_type": "markdown",
   "metadata": {},
   "source": [
    "## 300. Longest Increasing Subsequence (List, List-DP) (Amazon 6, Google 5, Microsoft 2)\n",
    "\n",
    "O(N^2)  \n",
    "O(N)  \n",
    "dp[i]表示列表i之前的最大长度"
   ]
  },
  {
   "cell_type": "code",
   "execution_count": 9,
   "metadata": {},
   "outputs": [],
   "source": [
    "class Solution:\n",
    "    def lengthOfLIS(self, nums):\n",
    "        \"\"\"\n",
    "        :type nums: List[int]\n",
    "        :rtype: int\n",
    "        \"\"\"\n",
    "        if not nums:\n",
    "            return 0\n",
    "        \n",
    "        dp = [1] * len(nums)\n",
    "        for r in range(1, len(nums)):\n",
    "            for l in range(r):\n",
    "                if nums[r] > nums[l]:\n",
    "                    dp[r] = max(dp[r], dp[l]+1)\n",
    "#                     print(f'dp[{i}]=', dp[i])\n",
    "#                     print(dp)\n",
    "                    \n",
    "        return max(dp)"
   ]
  },
  {
   "cell_type": "code",
   "execution_count": 10,
   "metadata": {},
   "outputs": [
    {
     "name": "stdout",
     "output_type": "stream",
     "text": [
      "dp[3]= 2\n",
      "[1, 1, 1, 2, 1, 1, 1, 1]\n",
      "dp[4]= 2\n",
      "[1, 1, 1, 2, 2, 1, 1, 1]\n",
      "dp[5]= 2\n",
      "[1, 1, 1, 2, 2, 2, 1, 1]\n",
      "dp[5]= 3\n",
      "[1, 1, 1, 2, 2, 3, 1, 1]\n",
      "dp[5]= 3\n",
      "[1, 1, 1, 2, 2, 3, 1, 1]\n",
      "dp[6]= 2\n",
      "[1, 1, 1, 2, 2, 3, 2, 1]\n",
      "dp[6]= 2\n",
      "[1, 1, 1, 2, 2, 3, 2, 1]\n",
      "dp[6]= 2\n",
      "[1, 1, 1, 2, 2, 3, 2, 1]\n",
      "dp[6]= 3\n",
      "[1, 1, 1, 2, 2, 3, 3, 1]\n",
      "dp[6]= 3\n",
      "[1, 1, 1, 2, 2, 3, 3, 1]\n",
      "dp[6]= 4\n",
      "[1, 1, 1, 2, 2, 3, 4, 1]\n",
      "dp[7]= 2\n",
      "[1, 1, 1, 2, 2, 3, 4, 2]\n",
      "dp[7]= 2\n",
      "[1, 1, 1, 2, 2, 3, 4, 2]\n",
      "dp[7]= 2\n",
      "[1, 1, 1, 2, 2, 3, 4, 2]\n",
      "dp[7]= 3\n",
      "[1, 1, 1, 2, 2, 3, 4, 3]\n",
      "dp[7]= 3\n",
      "[1, 1, 1, 2, 2, 3, 4, 3]\n",
      "dp[7]= 4\n",
      "[1, 1, 1, 2, 2, 3, 4, 4]\n"
     ]
    },
    {
     "data": {
      "text/plain": [
       "4"
      ]
     },
     "execution_count": 10,
     "metadata": {},
     "output_type": "execute_result"
    }
   ],
   "source": [
    "nums = [10,9,2,5,3,7,101,18]\n",
    "s = Solution()\n",
    "s.lengthOfLIS(nums)"
   ]
  },
  {
   "cell_type": "code",
   "execution_count": null,
   "metadata": {},
   "outputs": [],
   "source": [
    "# Dynamic programming + Dichotomy.\n",
    "class Solution:\n",
    "    def lengthOfLIS(self, nums):\n",
    "        tails = [0] * len(nums)\n",
    "        res = 0\n",
    "        \n",
    "        for num in nums:\n",
    "            i = 0\n",
    "            j = res\n",
    "            \n",
    "            while i < j:\n",
    "                m = (i + j) // 2\n",
    "                if tails[m] < num: \n",
    "                    i = m + 1 # 如果要求非严格递增，将此行 '<' 改为 '<=' 即可。\n",
    "                else: \n",
    "                    j = m\n",
    "            \n",
    "            tails[i] = num\n",
    "            \n",
    "            if j == res: \n",
    "                res += 1\n",
    "        return res\n"
   ]
  },
  {
   "cell_type": "markdown",
   "metadata": {},
   "source": [
    "## 139. Word Break (String, List. List-DP) (Amazon 27, Facebook 8, Microsoft 7)\n",
    "\n",
    "O(N^2)  \n",
    "O(N)  \n",
    "\n",
    "dp[i]表示最新word的起点"
   ]
  },
  {
   "cell_type": "code",
   "execution_count": null,
   "metadata": {},
   "outputs": [],
   "source": [
    "class Solution:\n",
    "    def wordBreak(self, s, strs):\n",
    "        \"\"\"\n",
    "        :type s: str\n",
    "        :type wordDict: List[str]\n",
    "        :rtype: bool\n",
    "        \"\"\"\n",
    "        # 初始化标记列表\n",
    "        dp = [False]*(len(s) + 1)\n",
    "        dp[0] = True\n",
    "\n",
    "        for l in range(len(s)):\n",
    "            if dp[l]:\n",
    "                for r in range(l+1, len(s)+1):\n",
    "                    if s[l:r] in strs:\n",
    "                        dp[r] = True\n",
    "        return dp[-1]"
   ]
  },
  {
   "cell_type": "code",
   "execution_count": 7,
   "metadata": {},
   "outputs": [
    {
     "data": {
      "text/plain": [
       "'abc'"
      ]
     },
     "execution_count": 7,
     "metadata": {},
     "output_type": "execute_result"
    }
   ],
   "source": [
    "s = 'abc '\n",
    "s[:-1]"
   ]
  },
  {
   "cell_type": "markdown",
   "metadata": {},
   "source": [
    "## 140. Word Break II (Stirng. Recursion-DP) (Amazon 13, Facebook 6, Google 4)"
   ]
  },
  {
   "cell_type": "code",
   "execution_count": null,
   "metadata": {},
   "outputs": [],
   "source": [
    "class Solution:\n",
    "    def wordBreak(self, s, wordDict):\n",
    "        \"\"\"\n",
    "        :type s: str\n",
    "        :type wordDict: List[str]\n",
    "        :rtype: List[str]\n",
    "        \"\"\"\n",
    "        res = []\n",
    "\n",
    "        def dfs(idx, tmp_res):\n",
    "            if idx == len(s):\n",
    "                res.append(tmp_res[:-1])\n",
    "            if not self.check(s[idx:], wordDict):\n",
    "                return\n",
    "            for i in range(idx+1, len(s)+1):\n",
    "                if s[idx:i] in wordDict:\n",
    "                    dfs(i, tmp_res+s[idx:i]+' ')\n",
    "\n",
    "        dfs(0, '')\n",
    "        return res\n",
    "\n",
    "    def check(self, s, wordDict):\n",
    "        ok = [True]\n",
    "        for i in range(1, len(s) + 1):\n",
    "            ok += any(ok[j] and s[j:i] in wordDict for j in range(i)),\n",
    "        return ok[-1]"
   ]
  },
  {
   "cell_type": "code",
   "execution_count": null,
   "metadata": {},
   "outputs": [],
   "source": [
    "class Solution:\n",
    "    def wordBreak(self, s, wordDict):\n",
    "        \"\"\"\n",
    "        :type s: str\n",
    "        :type wordDict: List[str]\n",
    "        :rtype: List[str]\n",
    "        \"\"\"\n",
    "        memo = {}\n",
    "        \n",
    "        def dp(s, wordDict):\n",
    "            if s in memo: \n",
    "                return memo[s]\n",
    "            if not s: \n",
    "                return []\n",
    "\n",
    "            res = []\n",
    "            for word in wordDict:\n",
    "                if s.startswith(word):          \n",
    "                    if len(word) == len(s):\n",
    "                        res.append(word)\n",
    "                    else:\n",
    "                        resultOfTheRest = dp(s[len(word):], wordDict)\n",
    "                        for item in resultOfTheRest:\n",
    "                            new = word + ' ' + item\n",
    "                            res.append(new)\n",
    "                        \n",
    "            memo[s] = res\n",
    "            return res\n",
    "        \n",
    "        return dp(s, wordDict)"
   ]
  },
  {
   "cell_type": "markdown",
   "metadata": {},
   "source": [
    "## 5. Longest Palindromic Substring (String, Matrix-DP) (Amazon 93, Microsoft 15, Google 8)\n",
    "O(N^2)  \n",
    "O(N^2)  \n",
    "dp[i][j]表示i, j之间string是不是palindrome"
   ]
  },
  {
   "cell_type": "code",
   "execution_count": 27,
   "metadata": {},
   "outputs": [],
   "source": [
    "# DP\n",
    "class Solution:\n",
    "    def longestPalindrome(self, s):\n",
    "        \"\"\"\n",
    "        :type s: str\n",
    "        :rtype: str\n",
    "        \"\"\"\n",
    "        if len(s) <= 1:\n",
    "            return s\n",
    "\n",
    "        dp = [[False]*len(s) for i in range(len(s))]\n",
    "\n",
    "        res = s[0]\n",
    "\n",
    "        for r in range(1, len(s)):\n",
    "            for l in range(r):\n",
    "                if s[l] == s[r] and (r - l <= 2 or dp[l + 1][r - 1]):\n",
    "                    dp[l][r] = True\n",
    "\n",
    "                if dp[l][r] and r - l + 1 > len(res):\n",
    "                    res = s[l:r + 1]\n",
    "\n",
    "        return res"
   ]
  },
  {
   "cell_type": "code",
   "execution_count": 29,
   "metadata": {},
   "outputs": [
    {
     "name": "stdout",
     "output_type": "stream",
     "text": [
      "[False, False, True, False, True]\n",
      "[False, False, False, True, False]\n",
      "[False, False, False, False, True]\n",
      "[False, False, False, False, False]\n",
      "[False, False, False, False, False]\n"
     ]
    },
    {
     "data": {
      "text/plain": [
       "'ababa'"
      ]
     },
     "execution_count": 29,
     "metadata": {},
     "output_type": "execute_result"
    }
   ],
   "source": [
    "s = 'ababa'\n",
    "o = Solution()\n",
    "o.longestPalindrome(s)"
   ]
  },
  {
   "cell_type": "code",
   "execution_count": null,
   "metadata": {},
   "outputs": [],
   "source": [
    "# DP\n",
    "class Solution:\n",
    "    def longestPalindrome(self, s):\n",
    "        \"\"\"\n",
    "        :type s: str\n",
    "        :rtype: str\n",
    "        \"\"\"\n",
    "        \n",
    "        size = len(s)\n",
    "        if size <= 1:\n",
    "            return s\n",
    "        # 二维 dp 问题\n",
    "        # 状态：dp[l,r]: s[l:r] 包括 l，r ，表示的字符串是不是回文串\n",
    "        # 设置为 None 是为了方便调试，看清楚代码执行流程\n",
    "        dp = [[False for _ in range(size)] for _ in range(size)]\n",
    "\n",
    "        longest_l = 1\n",
    "        res = s[0]\n",
    "\n",
    "        # 因为只有 1 个字符的情况在最开始做了判断\n",
    "        # 左边界一定要比右边界小，因此右边界从 1 开始\n",
    "        for r in range(1, size):\n",
    "            for l in range(r):\n",
    "                # 状态转移方程：如果头尾字符相等并且中间也是回文\n",
    "                # 在头尾字符相等的前提下，如果收缩以后不构成区间（最多只有 1 个元素），直接返回 True 即可\n",
    "                # 否则要继续看收缩以后的区间的回文性\n",
    "                # 重点理解 or 的短路性质在这里的作用\n",
    "                if s[l] == s[r] and (r - l <= 2 or dp[l + 1][r - 1]):\n",
    "                    dp[l][r] = True\n",
    "                    cur_len = r - l + 1\n",
    "                    if cur_len > longest_l:\n",
    "                        longest_l = cur_len\n",
    "                        res = s[l:r + 1]\n",
    "            # 调试语句\n",
    "            # for item in dp:\n",
    "            #     print(item)\n",
    "            # prin\n",
    "        return res"
   ]
  },
  {
   "cell_type": "code",
   "execution_count": null,
   "metadata": {},
   "outputs": [],
   "source": [
    "class Solution:\n",
    "    def longestPalindrome(self, s):\n",
    "        \"\"\"\n",
    "        :type s: str\n",
    "        :rtype: str\n",
    "        \"\"\"\n",
    "        if not s:\n",
    "            return ''\n",
    "        \n",
    "        res = ''  # Memory to remember a palindrome\n",
    "        for i in range(len(s)):  # i = start, O = n\n",
    "            for j in range(len(s), i, -1):  # j = end, O = n^2\n",
    "                if len(res) >= j-i:  # To reduce time\n",
    "                    break\n",
    "                    \n",
    "                elif s[i:j] == s[i:j][::-1]:\n",
    "                    res = s[i:j]\n",
    "                    break\n",
    "        return res"
   ]
  },
  {
   "cell_type": "code",
   "execution_count": 180,
   "metadata": {},
   "outputs": [
    {
     "name": "stdout",
     "output_type": "stream",
     "text": [
      "babad\n",
      "baba\n",
      "bab\n",
      "ba\n",
      "b\n",
      "\n",
      "abad\n",
      "aba\n",
      "ab\n",
      "a\n",
      "\n",
      "bad\n",
      "ba\n",
      "b\n",
      "\n",
      "ad\n",
      "a\n",
      "\n",
      "d\n",
      "\n"
     ]
    }
   ],
   "source": [
    "s = 'babad'\n",
    "for i in range(len(s)):\n",
    "    for j in range(len(s),i,-1):\n",
    "#         print(i,j)\n",
    "        print(s[i:j])\n",
    "    print()"
   ]
  },
  {
   "cell_type": "markdown",
   "metadata": {},
   "source": [
    "## 516. Longest Palindromic Subsequence (String, List-DP) (Amazon 6, Linkedin 4, Microsoft 3)\n",
    "O(n^2)  \n",
    "O(n^2)  \n",
    "\n",
    "dp[i][j]表示i,j之间string的最长palindrome长度"
   ]
  },
  {
   "cell_type": "code",
   "execution_count": 19,
   "metadata": {},
   "outputs": [],
   "source": [
    "class Solution:\n",
    "    def longestPalindromeSubseq(self, s):\n",
    "        if not s:\n",
    "            return 0\n",
    "\n",
    "        if s == s[::-1]:\n",
    "            return len(s)\n",
    "\n",
    "        dp = [[0] * len(s) for i in range(len(s))]\n",
    "\n",
    "        for l in range(len(s)-1, -1, -1):   \n",
    "            dp[l][l] = 1\n",
    "            for r in range(l+1, len(s)):\n",
    "                if s[l] == s[r]:\n",
    "                    dp[l][r] = 2 + dp[l+1][r-1]            \n",
    "                else:\n",
    "                    dp[l][r] = max(dp[l+1][r], dp[l][r-1])\n",
    "                    \n",
    "        return dp[0][len(s)-1]"
   ]
  },
  {
   "cell_type": "code",
   "execution_count": 20,
   "metadata": {},
   "outputs": [
    {
     "name": "stdout",
     "output_type": "stream",
     "text": [
      "[1, 2, 3, 3, 4]\n",
      "[0, 1, 2, 2, 3]\n",
      "[0, 0, 1, 1, 3]\n",
      "[0, 0, 0, 1, 1]\n",
      "[0, 0, 0, 0, 1]\n"
     ]
    },
    {
     "data": {
      "text/plain": [
       "4"
      ]
     },
     "execution_count": 20,
     "metadata": {},
     "output_type": "execute_result"
    }
   ],
   "source": [
    "o = Solution()\n",
    "s= 'bbbab'\n",
    "o.longestPalindromeSubseq(s)\n"
   ]
  },
  {
   "cell_type": "markdown",
   "metadata": {},
   "source": [
    "## 97. Interleaving String (String, List-DP) (Apple 8, Amazon 4, Microsoft 3)  (Hard)\n",
    "O(m*n)  \n",
    "O(m*n)    \n",
    "dp[i][j]代表s1的前i个字符和s2的前j个字符合起来是否能够组成s3的前i+j个字符  \n",
    "中文leetcode题解"
   ]
  },
  {
   "cell_type": "code",
   "execution_count": null,
   "metadata": {},
   "outputs": [],
   "source": [
    "class Solution:\n",
    "    def isInterleave(self, s1, s2, s3):\n",
    "        \"\"\"\n",
    "        :type s1: str\n",
    "        :type s2: str\n",
    "        :type s3: str\n",
    "        :rtype: bool\n",
    "        \"\"\"\n",
    "        if len(s1) + len(s2) != len(s3):\n",
    "            return False\n",
    "        \n",
    "        dp = [[False] * (len(s2)+1) for i in range(len(s1)+1)]\n",
    "        dp[0][0] = True\n",
    "        \n",
    "        for i in range(1, len(s1) + 1):\n",
    "            if s1[i-1] == s3[i-1]:\n",
    "                dp[i][0] = True\n",
    "            else:\n",
    "                break\n",
    "                \n",
    "        for j in range(1, len(s2)+1):\n",
    "            if s2[j-1] == s3[j-1]:\n",
    "                dp[0][j] = True\n",
    "            else: # 前面都不符合了，后面肯定不符合了\n",
    "                break\n",
    "                \n",
    "        for i in range(1, len(s1)+1):\n",
    "            for j in range(1, len(s2)+1):\n",
    "                if (dp[i-1][j] and s1[i-1] == s3[i-1+j]) or (dp[i][j-1] and s2[j-1] == s3[i+j-1]):\n",
    "                    dp[i][j] = True\n",
    "        return dp[-1][-1]"
   ]
  },
  {
   "cell_type": "markdown",
   "metadata": {},
   "source": [
    "## 64. Minimum Path Sum (Matrix-DP) (Amazon 9)\n",
    "\n",
    "O(N^2)  \n",
    "O(1)  \n",
    "grid[i][j] 表示最少路径sum"
   ]
  },
  {
   "cell_type": "code",
   "execution_count": null,
   "metadata": {},
   "outputs": [],
   "source": [
    "class Solution:\n",
    "    def minPathSum(self, grid):\n",
    "        \"\"\"\n",
    "        :type grid: List[List[int]]\n",
    "        :rtype: int\n",
    "        \"\"\"\n",
    "        if not grid:\n",
    "            return 0\n",
    "\n",
    "        row = len(grid)\n",
    "        col = len(grid[0])\n",
    "\n",
    "        for i in range(1, col):\n",
    "            grid[0][i] += grid[0][i-1]\n",
    "\n",
    "        for i in range(1, row):\n",
    "            grid[i][0] += grid[i-1][0]\n",
    "\n",
    "        for i in range(1, row):\n",
    "            for j in range(1, col):\n",
    "                grid[i][j] += min(grid[i-1][j], grid[i][j-1])\n",
    "\n",
    "        return grid[-1][-1]"
   ]
  },
  {
   "cell_type": "markdown",
   "metadata": {},
   "source": [
    "## 542. 01 Matrix (Matrix-DP) (Amazon 5)  "
   ]
  },
  {
   "cell_type": "code",
   "execution_count": null,
   "metadata": {},
   "outputs": [],
   "source": [
    "# O(N)\n",
    "# O(N)\n",
    "# dp[i][j]表示当前位置到最近0的距离\n",
    "class Solution:\n",
    "    def updateMatrix(self, matrix):\n",
    "        \"\"\"\n",
    "        :type matrix: List[List[int]]\n",
    "        :rtype: List[List[int]]\n",
    "        \"\"\"\n",
    "        m, n = len(matrix), len(matrix[0])\n",
    "        dp = [[float('inf')] * n for _ in range(m)]\n",
    "        \n",
    "        for i in range(m):\n",
    "            for j in range(n):\n",
    "                if matrix[i][j] == 0:\n",
    "                    dp[i][j] = 0\n",
    "                    \n",
    "        def get(i, j):\n",
    "            if 0 <= i <= m - 1 and 0 <= j <= n - 1:\n",
    "                return dp[i][j]\n",
    "            else:\n",
    "                return float('inf')\n",
    "            \n",
    "        for i in range(m):\n",
    "            for j in range(n):\n",
    "                if matrix[i][j] != 0:\n",
    "                    dp[i][j] = min(get(i, j-1) + 1, get(i,j+1) + 1, get(i-1,j) + 1, get(i+1,j) + 1)\n",
    "                    \n",
    "        for i in range(m-1,-1,-1):\n",
    "            for j in range(n-1,-1,-1):\n",
    "                if matrix[i][j] != 0:\n",
    "                    dp[i][j] = min(get(i, j-1) + 1, get(i,j+1) + 1, get(i-1,j) + 1, get(i+1,j) + 1)\n",
    "                \n",
    "        return dp"
   ]
  },
  {
   "cell_type": "code",
   "execution_count": null,
   "metadata": {},
   "outputs": [],
   "source": [
    "# O(N)\n",
    "# O(N)\n",
    "# dp[i][j]表示当前位置到最近0的距离\n",
    "class Solution:\n",
    "    def updateMatrix(self, matrix):\n",
    "        \"\"\"\n",
    "        :type matrix: List[List[int]]\n",
    "        :rtype: List[List[int]]\n",
    "        \"\"\"\n",
    "        m, n = len(matrix), len(matrix[0])\n",
    "        dp = [[float('inf')] * n for _ in range(m)]\n",
    "        \n",
    "        for i in range(m):\n",
    "            for j in range(n):\n",
    "                if matrix[i][j] == 0:\n",
    "                    dp[i][j] = 0\n",
    "                    \n",
    "                else:\n",
    "                    if i > 0:\n",
    "                        dp[i][j] = min(dp[i][j], dp[i - 1][j] + 1)\n",
    "                    if j > 0:\n",
    "                        dp[i][j] = min(dp[i][j], dp[i][j - 1] + 1)\n",
    "                    \n",
    "        for i in range(m - 1, -1, -1):\n",
    "            for j in range(n - 1, -1, -1):\n",
    "                # if matrix[i][j] == 0:\n",
    "                #     dist[i][j] = 0\n",
    "                if i < m - 1:\n",
    "                    dp[i][j] = min(dp[i][j], dp[i + 1][j] + 1)\n",
    "                if j < n - 1:\n",
    "                    dp[i][j] = min(dp[i][j], dp[i][j + 1] + 1)   \n",
    "                \n",
    "        return dp"
   ]
  },
  {
   "cell_type": "code",
   "execution_count": null,
   "metadata": {},
   "outputs": [],
   "source": [
    "class Solution:\n",
    "    def updateMatrix(self, matrix):\n",
    "        \"\"\"\n",
    "        :type matrix: List[List[int]]\n",
    "        :rtype: List[List[int]]\n",
    "        \"\"\"\n",
    "        m = len(matrix)\n",
    "        n = len(matrix[0])\n",
    "        for i in range(m):\n",
    "            for j in range(n):\n",
    "                if matrix[i][j]:\n",
    "                    matrix[i][j] = min(matrix[i - 1][j] + 1 if i > 0 else float('inf'), \n",
    "                                       matrix[i][j - 1] + 1 if j > 0 else float('inf'))\n",
    "                         \n",
    "\n",
    "        for i in range(m - 1, -1, -1):\n",
    "            for j in range(n - 1, -1, -1):\n",
    "                if matrix[i][j]:\n",
    "                    matrix[i][j] = min(matrix[i + 1][j] + 1 if i < m - 1 else float('inf'), \n",
    "                                       matrix[i][j + 1] + 1 if j < n - 1 else float('inf'), matrix[i][j])\n",
    "                    \n",
    "        return matrix"
   ]
  },
  {
   "cell_type": "markdown",
   "metadata": {},
   "source": [
    "## Closest XY Pair in a Grid (Matri-DP) (Google Phone)\n",
    "https://leetcode.com/discuss/interview-question/311662/Google-or-Phone-screen-or-Closest-XY-pair-in-a-grid"
   ]
  },
  {
   "cell_type": "code",
   "execution_count": 18,
   "metadata": {},
   "outputs": [
    {
     "name": "stdout",
     "output_type": "stream",
     "text": [
      "[[0, 0, 1], [1, 1, 2], [2, 2, 3]]\n",
      "[[0, 0, 1], [1, 1, 2], [2, 2, 3]]\n"
     ]
    },
    {
     "data": {
      "text/plain": [
       "2"
      ]
     },
     "execution_count": 18,
     "metadata": {},
     "output_type": "execute_result"
    }
   ],
   "source": [
    "def minDist(grid):\n",
    "    m, n = len(grid), len(grid[0])\n",
    "    dist = [[float('inf')] * n for _ in range(m)]\n",
    "    \n",
    "\n",
    "    for x in range(m):\n",
    "        for y in range(n):\n",
    "            if grid[x][y] == 'X':\n",
    "                dist[x][y] = 0\n",
    "            else:\n",
    "                if x > 0:\n",
    "                    dist[x][y] = min(dist[x][y], dist[x - 1][y] + 1)\n",
    "                if y > 0:\n",
    "                    dist[x][y] = min(dist[x][y], dist[x][y - 1] + 1)\n",
    "    \n",
    "    print(dist)\n",
    "    for x in range(m - 1, -1, -1):\n",
    "        for y in range(n - 1, -1, -1):\n",
    "            if grid[x][y] == 'X':\n",
    "                dist[x][y] = 0\n",
    "            else:\n",
    "                if x < m - 1:\n",
    "                    dist[x][y] = min(dist[x][y], dist[x + 1][y] + 1)\n",
    "                if y < n - 1:\n",
    "                    dist[x][y] = min(dist[x][y], dist[x][y + 1] + 1)\n",
    "    \n",
    "    print(dist)\n",
    "    return min(dist[x][y] for x in range(m) for y in range(n) if grid[x][y] == 'Y')\n",
    "\n",
    "grid = [['X','X','0'],\n",
    "        ['0','0','Y'],\n",
    "        ['Y','0','0']] \n",
    "# Output: 1\n",
    "\n",
    "minDist(grid)"
   ]
  },
  {
   "cell_type": "markdown",
   "metadata": {},
   "source": [
    "## 221. Maximal Square (String Matrix-DP) (Google 8, Amazon 4)"
   ]
  },
  {
   "cell_type": "code",
   "execution_count": null,
   "metadata": {},
   "outputs": [],
   "source": [
    "# dp[i][j]代表以matrix[i][j]为右下角的正方形的最大长度\n",
    "# 状态方程dp[i][j] = min(dp[i-1][j-1], dp[i][j-1], dp[i-1][j]) + 1，但是必须要满足dp[i][j] == 1，因为右下角也必须为1啊\n",
    "\n",
    "# O(m*n)\n",
    "# O(m*n)\n",
    "class Solution:\n",
    "    def maximalSquare(self, matrix):\n",
    "        \"\"\"\n",
    "        :type matrix: List[List[str]]\n",
    "        :rtype: int\n",
    "        \"\"\"\n",
    "        if not matrix:\n",
    "            return 0\n",
    "        \n",
    "        row = len(matrix)\n",
    "        col = len(matrix[0]) \n",
    "        \n",
    "        dp = [[int(matrix[i][j]) for j in range(col)] for i in range(row)]\n",
    "\n",
    "        for i in range(1, row):\n",
    "            for j in range(1, col):\n",
    "                if dp[i][j] == 1:\n",
    "                    dp[i][j] = min(dp[i-1][j-1], dp[i][j-1], dp[i-1][j]) + 1\n",
    "\n",
    "        max_len = 0\n",
    "        for i in range(row):\n",
    "            for j in range(col):\n",
    "                max_len = max(max_len, dp[i][j])\n",
    "        return max_len * max_len"
   ]
  },
  {
   "cell_type": "markdown",
   "metadata": {},
   "source": [
    "## Count Squares (Goolge Phone)\n",
    "Matrix  \n",
    "https://leetcode.com/discuss/interview-question/416012/Google-or-Phone-Screen-or-Count-Squares"
   ]
  },
  {
   "cell_type": "code",
   "execution_count": null,
   "metadata": {},
   "outputs": [],
   "source": [
    "# dp[i][j]表示matrix[i-1][j-1]的square个数\n",
    "\n",
    "def zeroSquares(self, matrix):\n",
    "    if not matrix:\n",
    "        return 0\n",
    "    \n",
    "    row = len(matrix)\n",
    "    col = len(matrix[0])\n",
    "    dp = [[0] * (len(col) + 1) for n in row + 1]\n",
    "    \n",
    "    count = 0\n",
    "    for i in len(1, row + 1):\n",
    "        for j in len(1, col + 1):\n",
    "            if matrix[i-1][j-1] == 0:\n",
    "                dp[i][j] = min(dp[i-1][j], dp[i][j-1], dp[i-1][j-1]) + 1\n",
    "                count += dp[i][j]\n",
    "                \n",
    "                \n",
    "    return count\n",
    "        \n",
    "# public int zeroSquares(int[][] matrix) {\n",
    "#     int rows = matrix.length;\n",
    "#     int cols = matrix[0].length;\n",
    "\n",
    "#     int[][] dp = new int[rows + 1][cols + 1];\n",
    "\n",
    "#     int count = 0;\n",
    "#     for (int r = 1; r <= rows; r++) {\n",
    "#         for (int c = 1; c <= cols; c++) {\n",
    "#             if (matrix[r - 1][c - 1] == 0) {\n",
    "#                 dp[r][c] = min(dp[r - 1][c], dp[r][c - 1], dp[r - 1][c - 1]) + 1;\n",
    "#                 count += dp[r][c];\n",
    "#             }\n",
    "#         }\n",
    "#     }\n",
    "#     return count;\n",
    "# }"
   ]
  },
  {
   "cell_type": "markdown",
   "metadata": {},
   "source": [
    "## 85. Maximal Rectangle (String Matrix-DP) (Google 5)"
   ]
  },
  {
   "cell_type": "code",
   "execution_count": null,
   "metadata": {},
   "outputs": [],
   "source": [
    "# dp[i][j]表示matrix[i][j]长方形的最大长度\n",
    "\n",
    "class Solution:\n",
    "    def maximalRectangle(self, matrix):\n",
    "        \"\"\"\n",
    "        :type matrix: List[List[str]]\n",
    "        :rtype: int\n",
    "        \"\"\"\n",
    "        if not matrix:\n",
    "            return 0\n",
    "        \n",
    "        maxarea = 0\n",
    "\n",
    "        dp = [[0] * len(matrix[0]) for n in range(len(matrix))]\n",
    "        for i in range(len(matrix)):\n",
    "            for j in range(len(matrix[0])):\n",
    "                if matrix[i][j] == '1': \n",
    "                    # compute the maximum width and update dp with it\n",
    "                    length = dp[i][j] = dp[i][j-1] + 1 if j else 1\n",
    "\n",
    "                    # compute the maximum area rectangle with a lower right corner at [i, j]\n",
    "                    for k in range(i, -1, -1):\n",
    "                        length = min(length, dp[k][j])\n",
    "                        maxarea = max(maxarea,  length * (i-k+1)) # 长乘以宽\n",
    "        return maxarea"
   ]
  },
  {
   "cell_type": "markdown",
   "metadata": {},
   "source": [
    "## 44. Wildcard Matching (Google 4, Microsoft 2)"
   ]
  },
  {
   "cell_type": "markdown",
   "metadata": {},
   "source": [
    "O(N^2)  \n",
    "O(N^2)  \n",
    "dp[i][j]表示1 based string(i, j)是不是match"
   ]
  },
  {
   "cell_type": "code",
   "execution_count": 1,
   "metadata": {},
   "outputs": [],
   "source": [
    "class Solution:\n",
    "    def isMatch(self, s, p):\n",
    "        \"\"\"\n",
    "        :type s: str\n",
    "        :type p: str\n",
    "        :rtype: bool\n",
    "        \"\"\"\n",
    "        \n",
    "        dp = [[False] * (len(p) + 1) for _ in range(len(s) + 1)]\n",
    "        dp[0][0] = True\n",
    "        \n",
    "        for j in range(1, len(p) + 1):\n",
    "            if p[j - 1] == \"*\":\n",
    "                dp[0][j] = dp[0][j - 1]\n",
    "\n",
    "        for i in range(1, len(s) + 1):\n",
    "            for j in range(1, len(p) + 1):\n",
    "                if (s[i - 1] == p[j - 1] or p[j - 1] == \"?\") and dp[i-1][j-1]:\n",
    "                    dp[i][j] = True\n",
    "                \n",
    "                elif p[j - 1] == \"*\" and (dp[i - 1][j] or dp[i][j - 1]):\n",
    "                    dp[i][j] = True\n",
    "                    \n",
    "        return dp[-1][-1]"
   ]
  },
  {
   "cell_type": "code",
   "execution_count": 1,
   "metadata": {},
   "outputs": [],
   "source": [
    "class Solution:\n",
    "    def isMatch(self, s, p):\n",
    "        \"\"\"\n",
    "        :type s: str\n",
    "        :type p: str\n",
    "        :rtype: bool\n",
    "        \"\"\"\n",
    "        \n",
    "        dp = [[False] * (len(p) + 1) for _ in range(len(s) + 1)]\n",
    "        dp[0][0] = True\n",
    "        for j in range(1, len(p) + 1):\n",
    "            if p[j - 1] == \"*\":\n",
    "                dp[0][j] = dp[0][j - 1]\n",
    "\n",
    "        for i in range(1, len(s) + 1):\n",
    "            for j in range(1, len(p) + 1):\n",
    "                if (s[i - 1] == p[j - 1] or p[j - 1] == \"?\"):\n",
    "                    dp[i][j] = dp[i - 1][j - 1]\n",
    "                    \n",
    "                elif p[j - 1] == \"*\":\n",
    "                    dp[i][j] = dp[i - 1][j] or dp[i][j - 1]\n",
    "                    \n",
    "        for n in dp:\n",
    "            print(n)\n",
    "        return dp[-1][-1]"
   ]
  },
  {
   "cell_type": "code",
   "execution_count": 2,
   "metadata": {},
   "outputs": [
    {
     "name": "stdout",
     "output_type": "stream",
     "text": [
      "[True, False, False]\n",
      "[False, True, True]\n",
      "[False, False, True]\n"
     ]
    },
    {
     "data": {
      "text/plain": [
       "True"
      ]
     },
     "execution_count": 2,
     "metadata": {},
     "output_type": "execute_result"
    }
   ],
   "source": [
    "o = Solution()\n",
    "o.isMatch('aa', 'a*')"
   ]
  },
  {
   "cell_type": "markdown",
   "metadata": {},
   "source": [
    "## 10. Regular Expression Matching (String. Recursion-DP) (Facebook 8, Microsoft 7, Amazon 6) (Hard)"
   ]
  },
  {
   "cell_type": "markdown",
   "metadata": {},
   "source": [
    "dp[i][j]表示text[i:] pattern[j:]是不是match"
   ]
  },
  {
   "cell_type": "code",
   "execution_count": null,
   "metadata": {},
   "outputs": [],
   "source": [
    "class Solution:\n",
    "    def isMatch(self, text, pattern):\n",
    "            \"\"\"\n",
    "            :type s: str\n",
    "            :type p: str\n",
    "            :rtype: bool\n",
    "            \"\"\"\n",
    "            dic = {} \n",
    "\n",
    "            def dp(i, j):\n",
    "                if (i, j) in dic: \n",
    "                    return dic[(i, j)]\n",
    "\n",
    "                if j == len(pattern): \n",
    "                    return i == len(text)\n",
    "\n",
    "                if i <= len(text) - 1 and (pattern[j] == text[i] or pattern[j] == '.'):\n",
    "                    if j <= len(pattern) - 2 and pattern[j + 1] == '*':         \n",
    "                        dic[(i, j)] = dp(i, j + 2) or dp(i + 1, j)\n",
    "                    else:\n",
    "                        dic[(i, j)] = dp(i + 1, j + 1)\n",
    "\n",
    "                else:\n",
    "                    if j <= len(pattern) - 2 and pattern[j + 1] == '*':\n",
    "                        dic[(i, j)] = dp(i, j + 2) or False\n",
    "                    else:\n",
    "                        dic[(i, j)] = False\n",
    "\n",
    "                return dic[(i, j)]\n",
    "\n",
    "            return dp(0, 0)"
   ]
  },
  {
   "cell_type": "code",
   "execution_count": 32,
   "metadata": {},
   "outputs": [],
   "source": [
    "class Solution:\n",
    "#     def isMatch(self, s, p):\n",
    "#         dp = [[False] * (len(p) + 1) for _ in range(len(s) + 1)]\n",
    "\n",
    "#         dp[-1][-1] = True\n",
    "        \n",
    "#         for i in range(len(s), -1, -1):\n",
    "#             for j in range(len(p) - 1, -1, -1):\n",
    "#                 print(i,j)\n",
    "#                 first_match = i < len(s) and p[j] in {s[i], '.'}\n",
    "#                 if j+1 < len(p) and p[j+1] == '*':\n",
    "#                     dp[i][j] = dp[i][j+2] or first_match and dp[i+1][j]\n",
    "#                 else:\n",
    "                    \n",
    "#                     dp[i][j] = first_match and dp[i+1][j+1]\n",
    "                    \n",
    "#                     print(dp[i][j])\n",
    "\n",
    "#         return dp[0][0]\n",
    "    \n",
    "    # 带备忘录的递归\n",
    "    # Top Down\n",
    "    def isMatch(self, text, pattern):\n",
    "        \"\"\"\n",
    "        :type s: str\n",
    "        :type p: str\n",
    "        :rtype: bool\n",
    "        \"\"\"\n",
    "        \n",
    "        dic = {} # 备忘录\n",
    "        \n",
    "        def dp(i, j):\n",
    "            if (i, j) in dic: \n",
    "                return dic[(i, j)]\n",
    "            \n",
    "            if j == len(pattern): \n",
    "                return i == len(text)\n",
    "\n",
    "            first = i <= len(text) - 1 and (pattern[j] == text[i] or pattern[j] == '.')\n",
    "\n",
    "            if j <= len(pattern) - 2 and pattern[j + 1] == '*':\n",
    "                dic[(i, j)] = dp(i, j + 2) or first and dp(i + 1, j)\n",
    "            else:\n",
    "                dic[(i, j)] = first and dp(i + 1, j + 1)\n",
    "\n",
    "#             print(dic)\n",
    "            return dic[(i, j)]\n",
    "\n",
    "        return dp(0, 0)\n",
    "\n",
    "    # # 暴力递归\n",
    "    # def isMatch(text, pattern) -> bool:\n",
    "    #     if not pattern: return not text\n",
    "\n",
    "    #     first = bool(text) and pattern[0] in {text[0], '.'}\n",
    "\n",
    "    #     if len(pattern) >= 2 and pattern[1] == '*':\n",
    "    #         return isMatch(text, pattern[2:]) or \\\n",
    "    #                 first and isMatch(text[1:], pattern)\n",
    "    #     else:\n",
    "    #         return first and isMatch(text[1:], pattern[1:])"
   ]
  },
  {
   "cell_type": "code",
   "execution_count": 33,
   "metadata": {},
   "outputs": [
    {
     "name": "stdout",
     "output_type": "stream",
     "text": [
      "{(0, 4): False}\n",
      "{(0, 4): False, (1, 4): False}\n",
      "{(0, 4): False, (1, 4): False, (2, 4): True}\n",
      "{(0, 4): False, (1, 4): False, (2, 4): True, (2, 2): True}\n",
      "{(0, 4): False, (1, 4): False, (2, 4): True, (2, 2): True, (1, 2): True}\n",
      "{(0, 4): False, (1, 4): False, (2, 4): True, (2, 2): True, (1, 2): True, (0, 2): True}\n",
      "{(0, 4): False, (1, 4): False, (2, 4): True, (2, 2): True, (1, 2): True, (0, 2): True, (0, 0): True}\n"
     ]
    },
    {
     "data": {
      "text/plain": [
       "True"
      ]
     },
     "execution_count": 33,
     "metadata": {},
     "output_type": "execute_result"
    }
   ],
   "source": [
    "text = 'aab'\n",
    "pattern = 'c*a*b' \n",
    "\n",
    "s= Solution()\n",
    "s.isMatch(text, pattern)"
   ]
  },
  {
   "cell_type": "markdown",
   "metadata": {},
   "source": [
    "## 72. Edit Distance  (String. Recursion-DP) (Microsoft 3, Amazon 2)"
   ]
  },
  {
   "cell_type": "code",
   "execution_count": null,
   "metadata": {},
   "outputs": [],
   "source": [
    "class Solution:\n",
    "    def minDistance(self, s1, s2):\n",
    "        \"\"\"\n",
    "        :type word1: str\n",
    "        :type word2: str\n",
    "        :rtype: int\n",
    "        \"\"\"\n",
    "\n",
    "        dic = {} # 备忘录\n",
    "        def dp(i, j):\n",
    "            if (i, j) in dic: \n",
    "                return dic[(i, j)]\n",
    "            \n",
    "            if i == len(s1): \n",
    "                return len(s2) - j \n",
    "            if j == len(s2): \n",
    "                return len(s1) - i \n",
    "\n",
    "            if s1[i] == s2[j]:\n",
    "                dic[(i, j)] = dp(i + 1, j + 1) \n",
    "            else:\n",
    "                dic[(i, j)] = min(dp(i, j + 1) + 1,    # 插入\n",
    "                                  dp(i + 1, j) + 1,    # 删除\n",
    "                                  dp(i + 1, j + 1) + 1 # 替换\n",
    "                                  )\n",
    "                \n",
    "            return dic[(i, j)]\n",
    "\n",
    "        return dp(0, 0)"
   ]
  },
  {
   "cell_type": "code",
   "execution_count": null,
   "metadata": {},
   "outputs": [],
   "source": [
    "# class Solution:\n",
    "    # def minDistance(self, word1: str, word2: str) -> int:\n",
    "        \n",
    "#     def minDistance(self, s1, s2) -> int:\n",
    "\n",
    "#         def dp(i, j):\n",
    "#             # base case\n",
    "#             if i == -1: return j + 1\n",
    "#             if j == -1: return i + 1\n",
    "\n",
    "#             if s1[i] == s2[j]:\n",
    "#                 return dp(i - 1, j - 1)  # 啥都不做\n",
    "#             else:\n",
    "#                 return min(\n",
    "#                     dp(i, j - 1) + 1,    # 插入\n",
    "#                     dp(i - 1, j) + 1,    # 删除\n",
    "#                     dp(i - 1, j - 1) + 1 # 替换\n",
    "#                 )\n",
    "\n",
    "#         # i，j 初始化指向最后一个索引\n",
    "#         return dp(len(s1) - 1, len(s2) - 1)\n",
    "\n",
    "# base case 是 i 走完 s1 或 j 走完 s2，可以直接返回另一个字符串剩下的长度。  \n",
    "# Up Down\n",
    "\n",
    "# dp(i,j)表示改变的s1 i之前 和s2 j之前的最少编辑次数\n",
    "class Solution:\n",
    "    def minDistance(self, s1, s2):\n",
    "        \"\"\"\n",
    "        :type word1: str\n",
    "        :type word2: str\n",
    "        :rtype: int\n",
    "        \"\"\"\n",
    "\n",
    "        dic = {} # 备忘录\n",
    "        def dp(i, j):\n",
    "            if (i, j) in dic: \n",
    "                return dic[(i, j)]\n",
    "            \n",
    "            if i == -1: \n",
    "                return j + 1\n",
    "            if j == -1: \n",
    "                return i + 1\n",
    "\n",
    "            if s1[i] == s2[j]:\n",
    "                dic[(i, j)] = dp(i - 1, j - 1) \n",
    "            else:\n",
    "                dic[(i, j)] = min(dp(i, j - 1) + 1,    # 插入\n",
    "                                  dp(i - 1, j) + 1,    # 删除\n",
    "                                  dp(i - 1, j - 1) + 1 # 替换\n",
    "                                  )\n",
    "                \n",
    "            return dic[(i, j)]\n",
    "\n",
    "        return dp(len(s1) - 1, len(s2) - 1)"
   ]
  },
  {
   "cell_type": "markdown",
   "metadata": {},
   "source": [
    "Bottom Up"
   ]
  },
  {
   "cell_type": "code",
   "execution_count": null,
   "metadata": {},
   "outputs": [],
   "source": [
    "class Solution:\n",
    "    def minDistance(self, s1, s2):\n",
    "        \"\"\"\n",
    "        :type word1: str\n",
    "        :type word2: str\n",
    "        :rtype: int\n",
    "        \"\"\"\n",
    "\n",
    "        dp = [[0] * (len(s2) + 1) for _ in range(len(s1) + 1)]\n",
    "        # 第一行\n",
    "        for j in range(1, len(s2) + 1):\n",
    "            dp[0][j] = dp[0][j-1] + 1\n",
    "        # 第一列\n",
    "        for i in range(1, len(s1) + 1):\n",
    "            dp[i][0] = dp[i-1][0] + 1\n",
    "            \n",
    "        for i in range(1, len(s1) + 1):\n",
    "            for j in range(1, len(2) + 1):\n",
    "                if s1[i-1] == s2[j-1]:\n",
    "                    dp[i][j] = dp[i-1][j-1]\n",
    "                else:\n",
    "                    dp[i][j] = min(dp[i][j-1], dp[i-1][j], dp[i-1][j-1]) + 1\n",
    "        #print(dp)      \n",
    "        return dp[-1][-1]"
   ]
  },
  {
   "cell_type": "markdown",
   "metadata": {},
   "source": [
    "## 329. Longest Increasing Path in a Matrix (Matrix, DP, Recursion-Backtracking) (Google 4, Facebook 4)\n",
    "O(m*n)  \n",
    "O(m*n)"
   ]
  },
  {
   "cell_type": "code",
   "execution_count": null,
   "metadata": {},
   "outputs": [],
   "source": [
    "class Solution:\n",
    "    def longestIncreasingPath(self, matrix):\n",
    "        \"\"\"\n",
    "        :type matrix: List[List[int]]\n",
    "        :rtype: int\n",
    "        \"\"\"\n",
    "        if not matrix: \n",
    "            return 0\n",
    "        \n",
    "        dic = {}\n",
    "        def dp(i, j):   \n",
    "            if (i,j) in dic:\n",
    "                return dic[i,j]\n",
    "            \n",
    "            dic[i,j] = 1 + max(\n",
    "                dp(i - 1, j) if i > 0 and matrix[i][j] > matrix[i - 1][j] else 0,\n",
    "                dp(i + 1, j) if i < m - 1 and matrix[i][j] > matrix[i + 1][j] else 0,\n",
    "                dp(i, j - 1) if j > 0 and matrix[i][j] > matrix[i][j - 1] else 0,\n",
    "                dp(i, j + 1) if j < n - 1 and matrix[i][j] > matrix[i][j + 1] else 0)\n",
    "\n",
    "            return dp(i, j)\n",
    "        \n",
    "        m = len(matrix)\n",
    "        n = len(matrix[0])\n",
    "#         dp = [[0] * n for i in range(m)]\n",
    "#         print('dp=',dp)\n",
    "        \n",
    "        res = []\n",
    "        for i in range(m):\n",
    "            for j in range(n):\n",
    "                res.append(dp(i, j))\n",
    "        return max(res)"
   ]
  },
  {
   "cell_type": "code",
   "execution_count": 29,
   "metadata": {},
   "outputs": [],
   "source": [
    "class Solution:\n",
    "    def longestIncreasingPath(self, matrix):\n",
    "        \"\"\"\n",
    "        :type matrix: List[List[int]]\n",
    "        :rtype: int\n",
    "        \"\"\"\n",
    "        if not matrix: \n",
    "            return 0\n",
    "        \n",
    "        def backtrack(i, j):        \n",
    "            if not dp[i][j]:                \n",
    "                dp[i][j] = 1 + max(\n",
    "                    backtrack(i - 1, j) if i > 0 and matrix[i][j] > matrix[i - 1][j] else 0,\n",
    "                    backtrack(i + 1, j) if i < m - 1 and matrix[i][j] > matrix[i + 1][j] else 0,\n",
    "                    backtrack(i, j - 1) if j > 0 and matrix[i][j] > matrix[i][j - 1] else 0,\n",
    "                    backtrack(i, j + 1) if j < n - 1 and matrix[i][j] > matrix[i][j + 1] else 0)\n",
    "            \n",
    "            return dp[i][j]\n",
    "        \n",
    "        m = len(matrix)\n",
    "        n = len(matrix[0])\n",
    "        dp = [[0] * n for i in range(m)]\n",
    "#         print('dp=',dp)\n",
    "        \n",
    "        res = []\n",
    "        for i in range(m):\n",
    "            for j in range(n):\n",
    "                res.append(backtrack(i, j))\n",
    "        return max(res)"
   ]
  },
  {
   "cell_type": "code",
   "execution_count": 30,
   "metadata": {},
   "outputs": [
    {
     "name": "stdout",
     "output_type": "stream",
     "text": [
      "dp= [[0, 0, 0], [0, 0, 0], [0, 0, 0]]\n"
     ]
    },
    {
     "data": {
      "text/plain": [
       "4"
      ]
     },
     "execution_count": 30,
     "metadata": {},
     "output_type": "execute_result"
    }
   ],
   "source": [
    "s = Solution()\n",
    "\n",
    "matrix = [\n",
    "  [9,9,4],\n",
    "  [6,6,8],\n",
    "  [2,1,1]\n",
    "] \n",
    "\n",
    "s.longestIncreasingPath(matrix)"
   ]
  },
  {
   "cell_type": "markdown",
   "metadata": {},
   "source": [
    "## 354. Russin Doll Envelopes (Lists-DP) (Microsoft 3)"
   ]
  },
  {
   "cell_type": "code",
   "execution_count": null,
   "metadata": {},
   "outputs": [],
   "source": [
    "import bisect\n",
    "class Solution:\n",
    "    def maxEnvelopes(self, envelopes):\n",
    "        \"\"\"\n",
    "        :type envelopes: List[List[int]]\n",
    "        :rtype: int\n",
    "        \"\"\"\n",
    "        \n",
    "        envelopes = sorted(envelopes, key = lambda x: (x[0], -x[1]))\n",
    "        dp = []\n",
    "        for env in envelopes:\n",
    "            h = env[1]\n",
    "            pos = bisect.bisect_left(dp, h)\n",
    "            if pos == len(dp):\n",
    "                dp.append(h)\n",
    "            else:\n",
    "                dp[pos] = h\n",
    "        return len(dp)"
   ]
  },
  {
   "cell_type": "markdown",
   "metadata": {},
   "source": [
    "## 957. Odd Even Jump (List-DP) (Google 9) (Hard)\n",
    "- 时间复杂度: O(NlgN)- 空间复杂度: O(N)  \n",
    "规律跳格子，固定点位固定落地点，所以可以搞一个函数专门算这个，接下来就是dp，dp[i]代表从点i能否跳到最后一个点"
   ]
  },
  {
   "cell_type": "code",
   "execution_count": null,
   "metadata": {},
   "outputs": [],
   "source": [
    "# O(N*logN)\n",
    "class Solution:\n",
    "    def oddEvenJumps(self, A):\n",
    "        \"\"\"\n",
    "        :type A: List[int]\n",
    "        :rtype: int\n",
    "        \"\"\"\n",
    "        def make(B):\n",
    "            res = [-1] * N\n",
    "            stack = [] # invariant: stack is decreasing\n",
    "            for i in B:\n",
    "                while stack and i > stack[-1]:\n",
    "                    res[stack.pop()] = i\n",
    "                stack.append(i)\n",
    "            return res\n",
    "\n",
    "        N = len(A) # A = [10,13,12,14,15]\n",
    "\n",
    "        B = sorted(list(range(N)), key = lambda i : A[i]) # [0, 2, 1, 3, 4]\n",
    "        odd_nxt = make(B)\n",
    "\n",
    "        B = sorted(list(range(N)), key = lambda i : -A[i]) # [4, 3, 1, 2, 0]\n",
    "        even_nxt = make(B)\n",
    "\n",
    "        odd, even = [False] * N, [False] * N\n",
    "        odd[-1], even[-1] = True, True\n",
    "\n",
    "        for i in range(N-2, -1, -1):\n",
    "            if odd_nxt[i] != -1:\n",
    "                odd[i] = even[odd_nxt[i]]\n",
    "            if even_nxt[i] != -1:\n",
    "                even[i] = odd[even_nxt[i]]\n",
    "\n",
    "        return sum(odd)"
   ]
  },
  {
   "cell_type": "code",
   "execution_count": 40,
   "metadata": {},
   "outputs": [
    {
     "name": "stdout",
     "output_type": "stream",
     "text": [
      "3\n",
      "2\n",
      "1\n",
      "0\n"
     ]
    }
   ],
   "source": [
    "for i in range(3,-1,-1):\n",
    "    print(i)"
   ]
  },
  {
   "cell_type": "markdown",
   "metadata": {
    "toc-hr-collapsed": false
   },
   "source": [
    "### (18) (String) List. Recursion, Recursion-Backtrack, Queue-Backtrack. (String) Matrix. Recursion-Backtrack"
   ]
  },
  {
   "cell_type": "markdown",
   "metadata": {},
   "source": [
    "## 50. Pow(x, n) (Recursion) (Facebook 9, Linkedin 7, Amazon 6)\n",
    "\n",
    "O(logn)  \n",
    "O(logn)"
   ]
  },
  {
   "cell_type": "code",
   "execution_count": null,
   "metadata": {},
   "outputs": [],
   "source": [
    "class Solution:\n",
    "    def myPow(self, x, n):\n",
    "        if n == 0:\n",
    "            return 1\n",
    "        if n < 0:\n",
    "            return 1 / self.myPow(x, -n)\n",
    "        \n",
    "        if n % 2:\n",
    "            return x * self.myPow(x, n-1)\n",
    "\n",
    "        return self.myPow(x*x, n/2)"
   ]
  },
  {
   "cell_type": "code",
   "execution_count": null,
   "metadata": {},
   "outputs": [],
   "source": [
    "class Solution:\n",
    "    def myPow(self, x, n):\n",
    "        if n < 0:\n",
    "            x = 1 / x\n",
    "            n = -n\n",
    "        pow = 1\n",
    "        while n:\n",
    "            if n & 1:\n",
    "                pow *= x\n",
    "            x *= x\n",
    "            n >>= 1\n",
    "        return pow"
   ]
  },
  {
   "cell_type": "markdown",
   "metadata": {},
   "source": [
    "## 66. Plus One (Recursion) (Google 4, Amazon 3)"
   ]
  },
  {
   "cell_type": "code",
   "execution_count": null,
   "metadata": {},
   "outputs": [],
   "source": [
    "# O(N)\n",
    "# O(N)\n",
    "class Solution:\n",
    "    def plusOne(self, digits):\n",
    "        \"\"\"\n",
    "        :type digits: List[int]\n",
    "        :rtype: List[int]\n",
    "        \"\"\"\n",
    "        if not digits:\n",
    "            return [1]\n",
    "        if digits[-1] < 9:\n",
    "            return digits[:-1] + [digits[-1] + 1]\n",
    "        else:\n",
    "            return self.plusOne(digits[:-1]) + [0]"
   ]
  },
  {
   "cell_type": "markdown",
   "metadata": {},
   "source": [
    "## 22. Generate Parenthesis (Recursion-Backtracking) (Amazon 12, Microsoft 11, Facebook 7)\n",
    "\n",
    "时间复杂度: O(4^N / sqrt(N))\n",
    "\n",
    "https://xiaozhuanlan.com/topic/3421690578  \n",
    "以Generate Parentheses为例，backtrack的题到底该怎么去思考？\n",
    "所谓Backtracking都是这样的思路：在当前局面下，你有若干种选择。那么尝试每一种选择。如果已经发现某种选择肯定不行（因为违反了某些限定条件），就返回；如果某种选择试到最后发现是正确解，就将其加入解集\n",
    "\n",
    "所以你思考递归题时，只要明确三点就行：选择 (Options)，限制 (Restraints)，结束条件 (Termination)。即“ORT原则”（这个是我自己编的）\n",
    "\n",
    "对于这道题，在任何时刻，你都有两种选择：\n",
    "\n",
    "加左括号。\n",
    "加右括号。\n",
    "同时有以下限制：\n",
    "\n",
    "如果左括号已经用完了，则不能再加左括号了。\n",
    "如果已经出现的右括号和左括号一样多，则不能再加右括号了。因为那样的话新加入的右括号一定无法匹配。\n",
    "结束条件是：\n",
    "左右括号都已经用完。\n",
    "\n",
    "结束后的正确性：\n",
    "左右括号用完以后，一定是正确解。因为1. 左右括号一样多，2. 每个右括号都一定有与之配对的左括号。因此一旦结束就可以加入解集（有时也可能出现结束以后不一定是正确解的情况，这时要多一步判断）。\n",
    "\n",
    "递归函数传入参数：\n",
    "限制和结束条件中有“用完”和“一样多”字样，因此你需要知道左右括号的数目。\n",
    "当然你还需要知道当前局面sublist和解集res。\n"
   ]
  },
  {
   "cell_type": "code",
   "execution_count": null,
   "metadata": {},
   "outputs": [],
   "source": [
    "class Solution:\n",
    "    def generateParenthesis(self, n):\n",
    "        \"\"\"\n",
    "        :type n: int\n",
    "        :rtype: List[str]\n",
    "        \"\"\"\n",
    "        if not n:\n",
    "            return ['']\n",
    "  \n",
    "        def backtrack(s = '', l = 0, r = 0):\n",
    "            if len(s) == 2 * n:\n",
    "                res.append(s)\n",
    "                return\n",
    "                \n",
    "            if l < n:\n",
    "                backtrack(s + '(', l + 1, r)\n",
    "            if r < l:\n",
    "                backtrack(s + ')', l, r + 1)\n",
    "        \n",
    "        res = []\n",
    "        backtrack()\n",
    "        return res"
   ]
  },
  {
   "cell_type": "markdown",
   "metadata": {},
   "source": [
    "## 17. Letter Combinations (String List, Recursion-Bscktracking) (Amazon 13, Microsoft 7, Google 6, Uber 5)\n",
    "\n",
    "O(3^N x 4^M) where N is the number of digits in the input that maps to 3 letters (e.g. 2, 3, 4, 5, 6, 8) and M is the number of digits in the input that maps to 4 letters (e.g. 7, 9), and N+M is the total number digits in the input.  \n",
    "O(3^N x 4^M)"
   ]
  },
  {
   "cell_type": "code",
   "execution_count": null,
   "metadata": {},
   "outputs": [],
   "source": [
    "class Solution:\n",
    "    def letterCombinations(self, digits):\n",
    "        \"\"\"\n",
    "        :type digits: str\n",
    "        :rtype: List[str]\n",
    "        \"\"\"\n",
    "        dic = {\n",
    "            '2':['a','b','c'],\n",
    "            '3':['d','e','f'],\n",
    "            '4':['g','h','i'],\n",
    "            '5':['j','k','l'],\n",
    "            '6':['m','n','o'],\n",
    "            '7':['p','q','r','s'],\n",
    "            '8':['t','u','v'],\n",
    "            '9':['w','x','y','z']\n",
    "        }\n",
    "        \n",
    "        if not digits:\n",
    "            return []\n",
    "        \n",
    "        res = []\n",
    "        def backtrack(digits, s = ''):\n",
    "            if not digits:\n",
    "                res.append(s)\n",
    "                return\n",
    "\n",
    "            for c in dic[digits[0]]:\n",
    "                backtrack(digits[1:], s+c)\n",
    "        \n",
    "        backtrack(digits)\n",
    "        return res"
   ]
  },
  {
   "cell_type": "markdown",
   "metadata": {},
   "source": [
    "## 1087. Brace Expansion (List, Recursion-Backtracking) (Google 6)"
   ]
  },
  {
   "cell_type": "code",
   "execution_count": 3,
   "metadata": {},
   "outputs": [],
   "source": [
    "class Solution:\n",
    "    def expand(self, S):\n",
    "        \"\"\"\n",
    "        :type S: str\n",
    "        :rtype: List[str]\n",
    "        \"\"\"\n",
    "        res = []\n",
    "        def backtrack(s, word = ''):\n",
    "            if not s:\n",
    "                res.append(word)\n",
    "                return\n",
    "\n",
    "            if s[0] == \"{\":\n",
    "                i = s.find(\"}\")\n",
    "                for letter in s[1:i].split(','):\n",
    "                    backtrack(s[i+1:], word+letter)\n",
    "            else:\n",
    "                backtrack(s[1:], word + s[0])\n",
    "                    \n",
    "        backtrack(S)   \n",
    "        return sorted(res)"
   ]
  },
  {
   "cell_type": "code",
   "execution_count": 4,
   "metadata": {},
   "outputs": [
    {
     "data": {
      "text/plain": [
       "['a_cat_is_with_sarah',\n",
       " 'a_cat_is_with_mike',\n",
       " 'a_dog_is_with_sarah',\n",
       " 'a_dog_is_with_mike']"
      ]
     },
     "execution_count": 4,
     "metadata": {},
     "output_type": "execute_result"
    }
   ],
   "source": [
    "s = Solution()\n",
    "S = 'a_{cat,dog}_is_with_{sarah,mike}'\n",
    "s.expand(S)"
   ]
  },
  {
   "cell_type": "markdown",
   "metadata": {},
   "source": [
    "## 39. (3) Combination Sum (List, Recurison-Backtracking) (Airbnb 10, Microsoft 7, Amazon 5)\n",
    "\n",
    "O(2^N)  \n",
    "O(2^N)"
   ]
  },
  {
   "cell_type": "code",
   "execution_count": null,
   "metadata": {},
   "outputs": [],
   "source": [
    "class Solution:\n",
    "    def combinationSum(self, nums, target):\n",
    "        \"\"\"\n",
    "        :type candidates: List[int]\n",
    "        :type target: int\n",
    "        :rtype: List[List[int]]\n",
    "        \"\"\"      \n",
    "        def backtrack(target, p = 0, path = []):    \n",
    "            if target == 0:\n",
    "                res.append(path)\n",
    "                return \n",
    "            \n",
    "            if target < 0:\n",
    "                return  # backtracking\n",
    "            \n",
    "            for i in range(p, len(nums)):\n",
    "                backtrack(target-nums[i], i, path+[nums[i]])\n",
    "        \n",
    "        res = []\n",
    "        backtrack(target)\n",
    "        return res"
   ]
  },
  {
   "cell_type": "code",
   "execution_count": 29,
   "metadata": {},
   "outputs": [
    {
     "data": {
      "text/plain": [
       "[1, 2, 3, [5, 6]]"
      ]
     },
     "execution_count": 29,
     "metadata": {},
     "output_type": "execute_result"
    }
   ],
   "source": [
    "l1 = [1,2,3]\n",
    "l1.append([5,6])\n",
    "l1"
   ]
  },
  {
   "cell_type": "markdown",
   "metadata": {},
   "source": [
    "## 78. Subsets (List, Recursion-Backtracking, Queue-Backtracking) (Facebook 8, Amazon 6, Microsoft 5)\n",
    "\n",
    "O(2^N)  \n",
    "O(2^N)"
   ]
  },
  {
   "cell_type": "code",
   "execution_count": null,
   "metadata": {},
   "outputs": [],
   "source": [
    "class Solution:\n",
    "    def subsets(self, nums):\n",
    "        \"\"\"\n",
    "        :type nums: List[int]\n",
    "        :rtype: List[List[int]]\n",
    "        \"\"\"    \n",
    "        def backtrack(tmp, p):\n",
    "            res.append(tmp)\n",
    "            \n",
    "            for i in range(p, len(nums)):\n",
    "                backtrack(tmp + [nums[i]], i + 1)\n",
    "            \n",
    "        res = []\n",
    "        backtrack([], 0)\n",
    "        return res "
   ]
  },
  {
   "cell_type": "code",
   "execution_count": null,
   "metadata": {},
   "outputs": [],
   "source": [
    "#BFS\n",
    "class Solution:\n",
    "    def subsets(self, nums):\n",
    "        \"\"\"\n",
    "        :type nums: List[int]\n",
    "        :rtype: List[List[int]]\n",
    "        \"\"\"    \n",
    "        subsets = [[]]\n",
    "        # start by adding the empty subset\n",
    "        for n in nums:\n",
    "        # we will take all existing subsets and insert the current number in them to create new subsets\n",
    "            for i in range(len(subsets)):\n",
    "              # create a new subset from the existing subset and insert the current element to it\n",
    "              # set = list(subsets[i])\n",
    "              # set.append(currentNumber)\n",
    "              subsets.append(subsets[i]+[n])\n",
    "\n",
    "        return subsets"
   ]
  },
  {
   "cell_type": "code",
   "execution_count": 31,
   "metadata": {},
   "outputs": [],
   "source": [
    "#O(2^N)\n",
    "class Solution:\n",
    "    def subsets(self, nums):\n",
    "        \"\"\"\n",
    "        :type nums: List[int]\n",
    "        :rtype: List[List[int]]\n",
    "        \"\"\"\n",
    "        res = [[]]\n",
    "        for n in nums:\n",
    "            res.extend([[n] + num for num in res])\n",
    "        return res "
   ]
  },
  {
   "cell_type": "code",
   "execution_count": 32,
   "metadata": {},
   "outputs": [
    {
     "data": {
      "text/plain": [
       "[[], [1], [2], [1, 2], [3], [1, 3], [2, 3], [1, 2, 3]]"
      ]
     },
     "execution_count": 32,
     "metadata": {},
     "output_type": "execute_result"
    }
   ],
   "source": [
    "nums = [1,2,3]\n",
    "s = Solution()\n",
    "s.subsets(nums)"
   ]
  },
  {
   "cell_type": "code",
   "execution_count": null,
   "metadata": {},
   "outputs": [],
   "source": [
    "[1,3] + [3]"
   ]
  },
  {
   "cell_type": "markdown",
   "metadata": {},
   "source": [
    "## 90. Subsets II (Amazon 3, Microsoft 2)"
   ]
  },
  {
   "cell_type": "code",
   "execution_count": null,
   "metadata": {},
   "outputs": [],
   "source": [
    "class Solution:\n",
    "    def subsetsWithDup(self, nums):\n",
    "        \"\"\"\n",
    "        :type nums: List[int]\n",
    "        :rtype: List[List[int]]\n",
    "        \"\"\"    \n",
    "        nums.sort()\n",
    "        subsets = [[]]\n",
    "        dic = {}\n",
    "        # start by adding the empty subset\n",
    "        for n in nums:\n",
    "        # we will take all existing subsets and insert the current number in them to create new subsets\n",
    "            for i in range(len(subsets)):\n",
    "              # create a new subset from the existing subset and insert the current element to it\n",
    "              # set = list(subsets[i])\n",
    "              # set.append(currentNumber)\n",
    "                tmp = subsets[i] + [n]\n",
    " \n",
    "                if tuple(tmp) not in dic:\n",
    "                    dic[tuple(tmp)] = 1\n",
    "                    subsets.append(tmp)\n",
    "                \n",
    "        return subsets"
   ]
  },
  {
   "cell_type": "code",
   "execution_count": 13,
   "metadata": {},
   "outputs": [
    {
     "name": "stdout",
     "output_type": "stream",
     "text": [
      "{1, 2}\n"
     ]
    },
    {
     "ename": "TypeError",
     "evalue": "unhashable type: 'set'",
     "output_type": "error",
     "traceback": [
      "\u001b[0;31m---------------------------------------------------------------------------\u001b[0m",
      "\u001b[0;31mTypeError\u001b[0m                                 Traceback (most recent call last)",
      "\u001b[0;32m<ipython-input-13-08144693518c>\u001b[0m in \u001b[0;36m<module>\u001b[0;34m\u001b[0m\n\u001b[1;32m      2\u001b[0m \u001b[0mtmp\u001b[0m \u001b[0;34m=\u001b[0m \u001b[0mset\u001b[0m\u001b[0;34m(\u001b[0m\u001b[0;34m[\u001b[0m\u001b[0;36m1\u001b[0m\u001b[0;34m,\u001b[0m\u001b[0;36m2\u001b[0m\u001b[0;34m]\u001b[0m\u001b[0;34m)\u001b[0m\u001b[0;34m\u001b[0m\u001b[0;34m\u001b[0m\u001b[0m\n\u001b[1;32m      3\u001b[0m \u001b[0mprint\u001b[0m\u001b[0;34m(\u001b[0m\u001b[0mtmp\u001b[0m\u001b[0;34m)\u001b[0m\u001b[0;34m\u001b[0m\u001b[0;34m\u001b[0m\u001b[0m\n\u001b[0;32m----> 4\u001b[0;31m \u001b[0;32mif\u001b[0m \u001b[0mtmp\u001b[0m \u001b[0;32min\u001b[0m \u001b[0mdic\u001b[0m\u001b[0;34m:\u001b[0m\u001b[0;34m\u001b[0m\u001b[0;34m\u001b[0m\u001b[0m\n\u001b[0m\u001b[1;32m      5\u001b[0m     \u001b[0mprint\u001b[0m\u001b[0;34m(\u001b[0m\u001b[0;36m1\u001b[0m\u001b[0;34m)\u001b[0m\u001b[0;34m\u001b[0m\u001b[0;34m\u001b[0m\u001b[0m\n",
      "\u001b[0;31mTypeError\u001b[0m: unhashable type: 'set'"
     ]
    }
   ],
   "source": [
    "dic = {(1,2):2}\n",
    "tmp = set([1,2])\n",
    "print(tmp)\n",
    "if tmp in dic:\n",
    "    print(1)"
   ]
  },
  {
   "cell_type": "code",
   "execution_count": 4,
   "metadata": {},
   "outputs": [
    {
     "ename": "TypeError",
     "evalue": "descriptor 'add' requires a 'set' object but received a 'list'",
     "output_type": "error",
     "traceback": [
      "\u001b[0;31m---------------------------------------------------------------------------\u001b[0m",
      "\u001b[0;31mTypeError\u001b[0m                                 Traceback (most recent call last)",
      "\u001b[0;32m<ipython-input-4-6e53d1607f83>\u001b[0m in \u001b[0;36m<module>\u001b[0;34m\u001b[0m\n\u001b[1;32m      1\u001b[0m \u001b[0ms\u001b[0m \u001b[0;34m=\u001b[0m \u001b[0mset\u001b[0m\u001b[0;34m(\u001b[0m\u001b[0;34m)\u001b[0m\u001b[0;34m\u001b[0m\u001b[0;34m\u001b[0m\u001b[0m\n\u001b[0;32m----> 2\u001b[0;31m \u001b[0mset\u001b[0m\u001b[0;34m.\u001b[0m\u001b[0madd\u001b[0m\u001b[0;34m(\u001b[0m\u001b[0;34m[\u001b[0m\u001b[0;36m1\u001b[0m\u001b[0;34m,\u001b[0m\u001b[0;36m2\u001b[0m\u001b[0;34m]\u001b[0m\u001b[0;34m)\u001b[0m\u001b[0;34m\u001b[0m\u001b[0;34m\u001b[0m\u001b[0m\n\u001b[0m",
      "\u001b[0;31mTypeError\u001b[0m: descriptor 'add' requires a 'set' object but received a 'list'"
     ]
    }
   ],
   "source": [
    "s = set()\n",
    "set.add([1,2])"
   ]
  },
  {
   "cell_type": "markdown",
   "metadata": {},
   "source": [
    "## 46. (2) Permutations (List, Recursion-Backtracking, Queue-Backtracking) (Amazon 7, Facebook 6)  \n",
    "O(n x n!)   \n",
    "O(N!)"
   ]
  },
  {
   "cell_type": "markdown",
   "metadata": {},
   "source": [
    "<img src=\"Screen Shot 2019-10-22 at 4.00.20 PM.png\">"
   ]
  },
  {
   "cell_type": "code",
   "execution_count": null,
   "metadata": {},
   "outputs": [],
   "source": [
    "class Solution:\n",
    "    def permute(self, nums):\n",
    "        result = []\n",
    "        queue = [[]]\n",
    "\n",
    "        for n in nums:\n",
    "            # we will take all existing permutations and add the current number to create new permutations\n",
    "\n",
    "            for i in range(len(queue)):\n",
    "                old = queue.pop(0)\n",
    "                # create a new permutation by adding the current number at every position\n",
    "#                 print(old)\n",
    "                for j in range(len(old)+1):\n",
    "                    new = old.copy()\n",
    "#                     print(new)\n",
    "                    new.insert(j, n)\n",
    "#                     print(new)\n",
    "                    if len(new) == len(nums):\n",
    "                        result.append(new)\n",
    "                    else:\n",
    "                        queue.append(new)\n",
    "\n",
    "        return result"
   ]
  },
  {
   "cell_type": "code",
   "execution_count": null,
   "metadata": {},
   "outputs": [],
   "source": [
    "class Solution:\n",
    "    def permute(self, nums):\n",
    "        \"\"\"\n",
    "        :type nums: List[int]\n",
    "        :rtype: List[List[int]]\n",
    "        \"\"\"\n",
    "        \n",
    "        def backtrack(nums, path):\n",
    "            if not nums:\n",
    "                res.append(path)\n",
    "                # return # backtracking\n",
    "            for i in range(len(nums)):\n",
    "                backtrack(nums[:i]+nums[i+1:], path+[nums[i]])\n",
    "\n",
    "        \n",
    "        res = []\n",
    "        dfs(nums, [])\n",
    "        return res"
   ]
  },
  {
   "cell_type": "code",
   "execution_count": null,
   "metadata": {},
   "outputs": [],
   "source": [
    "def generate_permutations(nums):\n",
    "    result = []\n",
    "    generate_permutations_recursive(nums, 0, [], result)\n",
    "    return result\n",
    "\n",
    "\n",
    "def backtrack(nums, index, currentPermutation, result):\n",
    "    if index == len(nums):\n",
    "        result.append(currentPermutation)\n",
    "    else:\n",
    "        # create a new permutation by adding the current number at every position\n",
    "        for i in range(len(currentPermutation)+1):\n",
    "            newPermutation = list(currentPermutation)\n",
    "            newPermutation.insert(i, nums[index])\n",
    "            backtrack(nums, index + 1, newPermutation, result)"
   ]
  },
  {
   "cell_type": "code",
   "execution_count": null,
   "metadata": {},
   "outputs": [],
   "source": [
    "class Solution:\n",
    "    def permute(self, nums):\n",
    "        \"\"\"\n",
    "        :type nums: List[int]\n",
    "        :rtype: List[List[int]]\n",
    "        \"\"\"\n",
    "        if not nums:\n",
    "            return [[]]\n",
    "        \n",
    "        \n",
    "        def backtrack(first):\n",
    "            # if all integers are used up\n",
    "            if first == len(nums):  \n",
    "                res.append(nums[:])\n",
    "                return\n",
    "                \n",
    "            for i in range(first, len(nums)):\n",
    "                # place i-th integer first \n",
    "                # in the current permutation\n",
    "                nums[first], nums[i] = nums[i], nums[first]\n",
    "                # use next integers to complete the permutations\n",
    "                backtrack(first + 1)\n",
    "                # backtrack\n",
    "                nums[first], nums[i] = nums[i], nums[first]\n",
    "        \n",
    "        res = []\n",
    "        backtrack(0)\n",
    "        return res"
   ]
  },
  {
   "cell_type": "code",
   "execution_count": 4,
   "metadata": {},
   "outputs": [
    {
     "data": {
      "text/plain": [
       "[1, 2, 3, [4, 5, 6]]"
      ]
     },
     "execution_count": 4,
     "metadata": {},
     "output_type": "execute_result"
    }
   ],
   "source": [
    "nums = [1,2,3]\n",
    "nums2 = [4,5,6]\n",
    "nums.append(nums2)\n",
    "nums"
   ]
  },
  {
   "cell_type": "markdown",
   "metadata": {},
   "source": [
    "## Rhyme Schemes (Google Phone)"
   ]
  },
  {
   "cell_type": "code",
   "execution_count": 43,
   "metadata": {},
   "outputs": [
    {
     "name": "stdout",
     "output_type": "stream",
     "text": [
      "['AA', 'AB']\n"
     ]
    }
   ],
   "source": [
    "def find_rythm(n):\n",
    "    ans = []\n",
    "    def backtrack(rythm = ''):\n",
    "        if len(rythm) == n:\n",
    "            convert = ''\n",
    "            for c in rythm:\n",
    "                convert += chr(int(c)+64)\n",
    "            ans.append(convert)\n",
    "            return\n",
    "        \n",
    "        max_val = 1 + max([int(num) for num in rythm]) if rythm else 1\n",
    "        \n",
    "#         max_val = max([int(num) for num in rythm] or [0])+1\n",
    "        for i in range(1, max_val + 1):\n",
    "            backtrack(rythm + str(i))\n",
    "            \n",
    "    backtrack()\n",
    "    return ans\n",
    "\n",
    "print(find_rythm(2))"
   ]
  },
  {
   "cell_type": "code",
   "execution_count": 33,
   "metadata": {},
   "outputs": [
    {
     "data": {
      "text/plain": [
       "49"
      ]
     },
     "execution_count": 33,
     "metadata": {},
     "output_type": "execute_result"
    }
   ],
   "source": [
    "ord('1')"
   ]
  },
  {
   "cell_type": "markdown",
   "metadata": {},
   "source": [
    "## 93. Restore IP Addresses (String. Recursion-Backtracking) (Microsoft 4, Amazon 3)  \n",
    "O(2^N)  \n",
    "O(1)"
   ]
  },
  {
   "cell_type": "code",
   "execution_count": null,
   "metadata": {},
   "outputs": [],
   "source": [
    "class Solution:\n",
    "    def restoreIpAddresses(self, s):\n",
    "        \"\"\"\n",
    "        :type s: str\n",
    "        :rtype: List[str]\n",
    "        \"\"\"\n",
    "        if len(s) > 12 or len(s) < 4:\n",
    "            return []\n",
    "\n",
    "        def isValid(ip):\n",
    "            if ip.count('.') != 3:\n",
    "                return False\n",
    "            \n",
    "            array = ip.split('.')\n",
    "            for num in array:\n",
    "                if not num or int(num) > 255 or (len(num) > 1 and num[0] == '0'):\n",
    "                    return False\n",
    "            return True\n",
    "\n",
    "        res = []\n",
    "        def backtrack(cur, idx, cnt):\n",
    "            if cnt == 3:\n",
    "                if isValid(cur):\n",
    "                    res.append(cur)\n",
    "                return\n",
    "            \n",
    "            if idx > len(cur) - 1:\n",
    "                return\n",
    "            \n",
    "            backtrack(cur[:idx] + '.' + cur[idx:], idx + 2, cnt+1)\n",
    "            backtrack(cur, idx+1, cnt)\n",
    "\n",
    "        backtrack(s, 0, 0)\n",
    "        return res"
   ]
  },
  {
   "cell_type": "markdown",
   "metadata": {},
   "source": [
    "## 79. Word Search (String Matrix, Recursion-Backtracking) (Amazon 15, Microsoft 8, Uber 7, Facebook 7)\n",
    "\n",
    "O(m*n)  \n",
    "O(1)"
   ]
  },
  {
   "cell_type": "code",
   "execution_count": null,
   "metadata": {},
   "outputs": [],
   "source": [
    "class Solution:\n",
    "    def exist(self, matrix, word):\n",
    "        \"\"\"\n",
    "        :type board: List[List[str]]\n",
    "        :type word: str\n",
    "        :rtype: bool\n",
    "        \"\"\"\n",
    "        if not matrix:\n",
    "            return False\n",
    "        if not word:\n",
    "            return True\n",
    "\n",
    "        def backtrack(i, j, idx = 0):\n",
    "            if i < 0 or i > len(matrix) - 1 or j < 0 or j > len(matrix[0]) - 1 or matrix[i][j] != word[idx]:\n",
    "                return False\n",
    "            \n",
    "            if idx == len(word) - 1:\n",
    "                return True\n",
    "            \n",
    "            tmp = matrix[i][j]\n",
    "            matrix[i][j] = '*'\n",
    "            res = backtrack(i+1, j, idx+1) or \\\n",
    "                  backtrack(i, j+1, idx+1) or \\\n",
    "                  backtrack(i-1, j, idx+1) or \\\n",
    "                  backtrack(i, j-1, idx+1)\n",
    "            matrix[i][j] = tmp\n",
    "            return res\n",
    "        \n",
    "        for i in range(len(matrix)):\n",
    "            for j in range(len(matrix[0])):\n",
    "                if backtrack(i, j):\n",
    "                    return True\n",
    "        return False"
   ]
  },
  {
   "cell_type": "code",
   "execution_count": null,
   "metadata": {},
   "outputs": [],
   "source": [
    "def exist(self, board, word):\n",
    "    if not board:\n",
    "        return False\n",
    "    for i in xrange(len(board)):\n",
    "        for j in xrange(len(board[0])):\n",
    "            if self.dfs(board, i, j, word):\n",
    "                return True\n",
    "    return False\n",
    "\n",
    "# check whether can find word, start at (i,j) position    \n",
    "def dfs(self, board, i, j, word):\n",
    "    if len(word) == 0: # all the characters are checked\n",
    "        return True\n",
    "    if i<0 or i>=len(board) or j<0 or j>=len(board[0]) or word[0]!=board[i][j]:\n",
    "        return False\n",
    "    tmp = board[i][j]  # first character is found, check the remaining part\n",
    "    board[i][j] = \"#\"  # avoid visit agian \n",
    "    # check whether can find \"word\" along one direction\n",
    "    res = self.dfs(board, i+1, j, word[1:]) or self.dfs(board, i-1, j, word[1:]) \\\n",
    "    or self.dfs(board, i, j+1, word[1:]) or self.dfs(board, i, j-1, word[1:])\n",
    "    board[i][j] = tmp\n",
    "    return res"
   ]
  },
  {
   "cell_type": "markdown",
   "metadata": {},
   "source": [
    "## 212. Word Search II (String Matrix, Recursion-Backtracking) (Amazon 13, Uber 5) (Hard)\n",
    "\n",
    "时间复杂度: O(row * col * max_len(words))  \n",
    "空间复杂度: O(N) length of words"
   ]
  },
  {
   "cell_type": "code",
   "execution_count": 15,
   "metadata": {},
   "outputs": [],
   "source": [
    "class Solution:\n",
    "    def findWords(self, board, words):\n",
    "        \"\"\"\n",
    "        :type board: List[List[str]]\n",
    "        :type words: List[str]\n",
    "        :rtype: List[str]\n",
    "        \"\"\"\n",
    "        if not board or not words:\n",
    "            return\n",
    "\n",
    "        # build trie \n",
    "        trie = {}\n",
    "        for word in words:\n",
    "            t = trie\n",
    "            for c in word:\n",
    "                if c not in t:\n",
    "                    t[c] = {}\n",
    "                t = t[c]\n",
    "            t['#'] = '#'\n",
    "#         print('trie=',trie)\n",
    "\n",
    "        def backtrack(i, j, trie, path):\n",
    "            if '#' in trie:\n",
    "                res.add(path)\n",
    "            \n",
    "            if if i >= 0 and i < m and j >= 0 and j < n and board[i][j] in trie:\n",
    "                c = board[i][j]\n",
    "                board[i][j] = '*' # backtracking\n",
    "                backtrack(i + 1, j, trie[c], path + c)\n",
    "                backtrack(i - 1, j, trie[c], path + c)\n",
    "                backtrack(i, j + 1, trie[c], path + c)\n",
    "                backtrack(i, j - 1, trie[c], path + c)\n",
    "                board[i][j] = c\n",
    "        \n",
    "        res = set()\n",
    "        for i in range(len(board)):\n",
    "            for j in range(len(board[0])):\n",
    "                backtrack(i, j, trie, '')\n",
    "        return list(res)"
   ]
  },
  {
   "cell_type": "code",
   "execution_count": 16,
   "metadata": {},
   "outputs": [
    {
     "name": "stdout",
     "output_type": "stream",
     "text": [
      "trie= {'o': {'a': {'t': {'h': {'#': '#'}}}}, 'p': {'e': {'a': {'#': '#'}}}, 'e': {'a': {'t': {'#': '#'}}}, 'r': {'a': {'i': {'n': {'#': '#'}}}}}\n"
     ]
    },
    {
     "data": {
      "text/plain": [
       "['oath', 'eat']"
      ]
     },
     "execution_count": 16,
     "metadata": {},
     "output_type": "execute_result"
    }
   ],
   "source": [
    "board = [\n",
    "  ['o','a','a','n'],\n",
    "  ['e','t','a','e'],\n",
    "  ['i','h','k','r'],\n",
    "  ['i','f','l','v']\n",
    "]\n",
    "words = [\"oath\",\"pea\",\"eat\",\"rain\"]\n",
    "s = Solution()\n",
    "s.findWords(board, words)"
   ]
  },
  {
   "cell_type": "markdown",
   "metadata": {},
   "source": [
    "## 200. Number of Island (String Matrix, Recursion-Backtracking) (Amazon 75, Google 15, Microsoft 12)\n",
    "\n",
    "O(N*M)  \n",
    "O(1)"
   ]
  },
  {
   "cell_type": "code",
   "execution_count": null,
   "metadata": {},
   "outputs": [],
   "source": [
    "class Solution:\n",
    "    def numIslands(self, matrix):\n",
    "        \"\"\"\n",
    "        :type grid: List[List[str]]\n",
    "        :rtype: int\n",
    "        \"\"\"\n",
    "        \n",
    "        if not matrix:\n",
    "            return 0\n",
    "\n",
    "        def backtrack(i, j):\n",
    "            if i < 0 or i > len(matrix) - 1 or j < 0 or j > len(matrix[0]) - 1 or matrix[i][j] != '1':\n",
    "                return\n",
    "        \n",
    "            matrix[i][j] = '#'\n",
    "            backtrack(i+1, j)\n",
    "            backtrack(i-1, j)\n",
    "            backtrack(i, j+1)\n",
    "            backtrack(i, j-1)\n",
    "        \n",
    "        res = 0\n",
    "        for i in range(len(matrix)):\n",
    "            for j in range(len(matrix[0])):\n",
    "                if matrix[i][j] == '1':\n",
    "                    backtrack(i, j)\n",
    "                    res += 1\n",
    "        return res"
   ]
  },
  {
   "cell_type": "code",
   "execution_count": 71,
   "metadata": {},
   "outputs": [
    {
     "name": "stdout",
     "output_type": "stream",
     "text": [
      "4\n",
      "1\n",
      "1\n",
      "0\n",
      "0\n",
      "0\n",
      "1\n",
      "1\n",
      "0\n",
      "0\n",
      "0\n",
      "0\n",
      "0\n",
      "1\n",
      "0\n",
      "0\n",
      "0\n",
      "0\n",
      "0\n",
      "1\n",
      "1\n"
     ]
    }
   ],
   "source": [
    "grid = [[1,1,0,0,0],\n",
    "        [1,1,0,0,0],\n",
    "        [0,0,1,0,0],\n",
    "        [0,0,0,1,1]]\n",
    "\n",
    "print(len(grid))\n",
    "\n",
    "for i in range(len(grid)):\n",
    "    for j in range(len(grid[0])):\n",
    "        print(grid[i][j])"
   ]
  },
  {
   "cell_type": "markdown",
   "metadata": {},
   "source": [
    "## 130. Surrounded Regions (String Matrix, Recursion-Backtracking) (Google 2, Uber 2)"
   ]
  },
  {
   "cell_type": "code",
   "execution_count": null,
   "metadata": {},
   "outputs": [],
   "source": [
    "# 因为boundary上的'O'肯定不会被包围\n",
    "# 主要思路就是对boundary上是'O'的元素进行DFS，然后只要碰到'O'就继续走下去，直到碰到'X'或者碰到boundary，然后将这些'O'全部mark一下，即用'#'来替代，\n",
    "# 最后我们遍历整个board，如果是'#'就变回'O'，如果是'X'或者'O'就变成'X'。\n",
    "\n",
    "class Solution:\n",
    "    def solve(self, board):\n",
    "        \"\"\"\n",
    "        :type board: List[List[str]]\n",
    "        :rtype: void Do not return anything, modify board in-place instead.\n",
    "        \"\"\"\n",
    "        \n",
    "        if not board:\n",
    "            return\n",
    "        \n",
    "        def backtrack(i, j):\n",
    "            # 退出dfs的条件：1.走到boundary；2.遇到'X'\n",
    "            if i < 0 or i > row - 1 or j < 0 or j > col - 1 or board[i][j] != 'O': \n",
    "                return \n",
    "            board[i][j] = '#' # 表示该元素已被访问\n",
    "            backtrack(i - 1, j)\n",
    "            backtrack(i + 1, j)\n",
    "            backtrack(i, j - 1)\n",
    "            backtrack(i, j + 1)\n",
    "        \n",
    "        row = len(board)\n",
    "        col = len(board[0]) \n",
    "        \n",
    "        for i in range(row):\n",
    "            for j in range(col):\n",
    "                if i == 0 or j == 0 or i == row - 1 or j == col - 1: # 点在boundary上\n",
    "                    if board[i][j] == 'O': # 如果boundary上的元素为O,则进行dfs\n",
    "                        backtrack(i, j)\n",
    "                        \n",
    "        for i in range(row):\n",
    "            for j in range(col):\n",
    "                if board[i][j] == '#':\n",
    "                    board[i][j] = 'O'\n",
    "                else:\n",
    "                    board[i][j] = 'X'"
   ]
  },
  {
   "cell_type": "markdown",
   "metadata": {},
   "source": [
    "51. N-Queens"
   ]
  },
  {
   "cell_type": "markdown",
   "metadata": {},
   "source": [
    "## 947. Most Stones Removed with Same Row or Column (Matrix, Recursion-Backtracking) (Google 8)\n",
    "O(MN)  \n",
    "O(MN)\n",
    "https://www.jianshu.com/p/30d2058db7f7"
   ]
  },
  {
   "cell_type": "code",
   "execution_count": 28,
   "metadata": {},
   "outputs": [],
   "source": [
    "import collections\n",
    "class Solution:\n",
    "    def removeStones(self, points):\n",
    "        \"\"\"\n",
    "        :type stones: List[List[int]]\n",
    "        :rtype: int\n",
    "        \"\"\"\n",
    "        \n",
    "        index = collections.defaultdict(set)\n",
    "        for i, j in points:\n",
    "            index[i].add(j + 10000)\n",
    "            index[j + 10000].add(i)\n",
    "\n",
    "        print(index)    \n",
    "\n",
    "        def backtrack(i):\n",
    "            seen.add(i)\n",
    "            for j in index[i]:\n",
    "                if j not in seen:\n",
    "                    backtrack(j)\n",
    "\n",
    "        seen = set()\n",
    "        islands = 0\n",
    "        for i, j in points:\n",
    "            if i not in seen:\n",
    "                islands += 1\n",
    "                backtrack(i)\n",
    "                backtrack(j + 10000)\n",
    "        return len(points) - islands"
   ]
  },
  {
   "cell_type": "code",
   "execution_count": 29,
   "metadata": {},
   "outputs": [
    {
     "name": "stdout",
     "output_type": "stream",
     "text": [
      "defaultdict(<class 'set'>, {0: {10000, 10001}, 10000: {0, 1}, 10001: {0, 2}, 1: {10000, 10002}, 10002: {1, 2}, 2: {10001, 10002}})\n"
     ]
    },
    {
     "data": {
      "text/plain": [
       "5"
      ]
     },
     "execution_count": 29,
     "metadata": {},
     "output_type": "execute_result"
    }
   ],
   "source": [
    "s = Solution()\n",
    "stones = [[0,0],[0,1],[1,0],[1,2],[2,1],[2,2]]\n",
    "s.removeStones(stones)"
   ]
  },
  {
   "cell_type": "markdown",
   "metadata": {},
   "source": [
    "## 529. Minesweeper (Uber 10, Amazon 4, Microsoft 3)"
   ]
  },
  {
   "cell_type": "code",
   "execution_count": null,
   "metadata": {},
   "outputs": [],
   "source": [
    "class Solution:\n",
    "    def updateBoard(self, board, click):\n",
    "        \"\"\"\n",
    "        :type board: List[List[str]]\n",
    "        :type click: List[int]\n",
    "        :rtype: List[List[str]]\n",
    "        \"\"\"\n",
    "        if not board:\n",
    "            return []\n",
    "\n",
    "        m, n = len(board), len(board[0])\n",
    "        i, j = click[0], click[1]\n",
    "\n",
    "        # If a mine ('M') is revealed, then the game is over - change it to 'X'.\n",
    "        if board[i][j] == 'M':\n",
    "            board[i][j] = 'X'\n",
    "            return board\n",
    "\n",
    "        \n",
    "        def dfs(board, i, j):\n",
    "            if board[i][j] != 'E':\n",
    "                return\n",
    "\n",
    "            m, n = len(board), len(board[0])       \n",
    "            directions = [(-1,-1), (0,-1), (1,-1), (1,0), (1,1), (0,1), (-1,1), (-1,0)]\n",
    "\n",
    "            mine_count = 0\n",
    "\n",
    "            for d in directions:\n",
    "                ni, nj = i + d[0], j + d[1]\n",
    "                if 0 <= ni < m and 0 <= nj < n and board[ni][nj] == 'M':        \n",
    "                    mine_count += 1\n",
    "\n",
    "            if mine_count == 0:\n",
    "                board[i][j] = 'B'\n",
    "            else:\n",
    "                board[i][j] = str(mine_count)\n",
    "                return\n",
    "\n",
    "            for d in directions:\n",
    "                ni, nj = i + d[0], j + d[1]\n",
    "                if 0 <= ni < m and 0 <= nj < n:\n",
    "                    dfs(board, ni, nj)\n",
    "        \n",
    "        # run dfs to reveal the board\n",
    "        self.dfs(board, i, j)\n",
    "        return board "
   ]
  },
  {
   "cell_type": "markdown",
   "metadata": {},
   "source": [
    "## 489. Robot Room Cleaner (DFS, Recursion) (Facebook 6, Google 5) (Hard)\n",
    "\n"
   ]
  },
  {
   "cell_type": "code",
   "execution_count": null,
   "metadata": {},
   "outputs": [],
   "source": [
    "# \"\"\"\n",
    "# This is the robot's control interface.\n",
    "# You should not implement it, or speculate about its implementation\n",
    "# \"\"\"\n",
    "#class Robot:\n",
    "#    def move(self):\n",
    "#        \"\"\"\n",
    "#        Returns true if the cell in front is open and robot moves into the cell.\n",
    "#        Returns false if the cell in front is blocked and robot stays in the current cell.\n",
    "#        :rtype bool\n",
    "#        \"\"\"\n",
    "#\n",
    "#    def turnLeft(self):\n",
    "#        \"\"\"\n",
    "#        Robot will stay in the same cell after calling turnLeft/turnRight.\n",
    "#        Each turn will be 90 degrees.\n",
    "#        :rtype void\n",
    "#        \"\"\"\n",
    "#\n",
    "#    def turnRight(self):\n",
    "#        \"\"\"\n",
    "#        Robot will stay in the same cell after calling turnLeft/turnRight.\n",
    "#        Each turn will be 90 degrees.\n",
    "#        :rtype void\n",
    "#        \"\"\"\n",
    "#\n",
    "#    def clean(self):\n",
    "#        \"\"\"\n",
    "#        Clean the current cell.\n",
    "#        :rtype void\n",
    "#        \"\"\"\n",
    "\n",
    "class Solution:\n",
    "    def cleanRoom(self, robot):\n",
    "        \"\"\"\n",
    "        :type robot: Robot\n",
    "        :rtype: None\n",
    "        \"\"\"\n",
    "        \n",
    "        def dfs(robot, x = 0, y = 0, direct_x = 0, direct_y = 1, visited = set()):\n",
    "            \n",
    "            robot.clean()\n",
    "            visited.add((x, y))\n",
    "\n",
    "            for k in range(4):\n",
    "                next_x = x + direct_x\n",
    "                next_y = y + direct_y\n",
    "                if (next_x, next_y) not in visited and robot.move():\n",
    "                    dfs(robot, next_x, next_y, direct_x, direct_y, visited)\n",
    "                    robot.turnLeft()\n",
    "                    robot.turnLeft()\n",
    "                    robot.move()\n",
    "                    robot.turnLeft()\n",
    "                    robot.turnLeft()\n",
    "                    \n",
    "                robot.turnLeft()\n",
    "                direct_x, direct_y = -direct_y, direct_x\n",
    "        \n",
    "        dfs(robot)"
   ]
  },
  {
   "cell_type": "markdown",
   "metadata": {},
   "source": [
    "## 805. Split Array With Same Average (List, Recursion-Backtracking) (Microsoft 2) (Hard)"
   ]
  },
  {
   "cell_type": "code",
   "execution_count": null,
   "metadata": {},
   "outputs": [],
   "source": [
    "class Solution:\n",
    "    def splitArraySameAverage(self, nums):\n",
    "        \"\"\"\n",
    "        :type nums: List[int]\n",
    "        :rtype: bool\n",
    "        \"\"\"      \n",
    "        nums.sort()\n",
    "\n",
    "# \t\t从数组nums中，找到k个数之和等于target的可能性\n",
    "# \t\tcombination sum II 或者 k sum那两道题的简易版\n",
    "        def dfs(nums, k, target, index):\n",
    "            if not k and not target:\n",
    "                return True\n",
    "\n",
    "            if not k or target < 0:\n",
    "                return False\n",
    "\n",
    "            for i in range(index, len(nums)):\n",
    "                if i > index and nums[i] == nums[i -1]:\n",
    "                    continue\n",
    "\n",
    "                if target < nums[i] * k or target > nums[-1] * k:\n",
    "                    break\n",
    "\n",
    "                if dfs(nums, k - 1, target - nums[i], i + 1):\n",
    "                    return True\n",
    "\n",
    "            return False\n",
    "        \n",
    "        #个数不会超过数组总个数的一半 + 1\n",
    "        for i in range(1, len(nums) // 2 + 1):\n",
    "#             i个数 x sum（nums） ==  i个数之和 x len(nums)\n",
    "#             所以 sum（nums） x i ➗ len(nums) == i个数之和 必然是整数\n",
    "            if sum(nums) * i % len(nums):\n",
    "                continue\n",
    "                 \n",
    "#             从数组nums中，找到k个数之和等于target的可能性\n",
    "            if dfs(nums, i, sum(nums) * i // len(nums), 0):\n",
    "                return True\n",
    "        \n",
    "        return False    "
   ]
  },
  {
   "cell_type": "markdown",
   "metadata": {},
   "source": [
    "## 733. Flood Fill (DFS-Recursion) (Amazon 8)\n",
    "\n",
    "O(N)  \n",
    "O(N)"
   ]
  },
  {
   "cell_type": "code",
   "execution_count": null,
   "metadata": {},
   "outputs": [],
   "source": [
    "class Solution(object):\n",
    "    def floodFill(self, image, sr, sc, newColor):\n",
    "        m, n = len(image), len(image[0])\n",
    "        color = image[sr][sc]\n",
    "        if color == newColor: \n",
    "            return image\n",
    "        \n",
    "        def dfs(r, c):\n",
    "            if image[r][c] == color:\n",
    "                image[r][c] = newColor\n",
    "                if r >= 1: \n",
    "                    dfs(r-1, c)\n",
    "                if r+1 < m: \n",
    "                    dfs(r+1, c)\n",
    "                if c >= 1: \n",
    "                    dfs(r, c-1)\n",
    "                if c+1 < n: \n",
    "                    dfs(r, c+1)\n",
    "\n",
    "        dfs(sr, sc)\n",
    "        return image"
   ]
  },
  {
   "cell_type": "markdown",
   "metadata": {
    "toc-hr-collapsed": false
   },
   "source": [
    "## 675. Cut Off Trees for Golf Event (BFS-Iteration) (Amazon 6) (Hard)\n"
   ]
  },
  {
   "cell_type": "code",
   "execution_count": null,
   "metadata": {},
   "outputs": [],
   "source": [
    "from collections import deque\n",
    "\n",
    "class Solution:\n",
    "    def cutOffTree(self, forest):\n",
    "        trees = sorted((v, r, c) for r, row in enumerate(forest)\n",
    "                       for c, v in enumerate(row) if v > 1)\n",
    "        sr = sc = ans = 0\n",
    "        \n",
    "        def bfs(forest, sr, sc, tr, tc):\n",
    "            R, C = len(forest), len(forest[0])\n",
    "            queue = deque([(sr, sc, 0)])\n",
    "            seen = {(sr, sc)}\n",
    "            while queue:\n",
    "                r, c, d = queue.popleft()\n",
    "                if r == tr and c == tc:\n",
    "                    return d\n",
    "                for nr, nc in ((r-1, c), (r+1, c), (r, c-1), (r, c+1)):\n",
    "                    if (0 <= nr < R and 0 <= nc < C and\n",
    "                            (nr, nc) not in seen and forest[nr][nc]):\n",
    "                        seen.add((nr, nc))\n",
    "                        queue.append((nr, nc, d+1))\n",
    "            return -1\n",
    "\n",
    "        \n",
    "        for _, tr, tc in trees:\n",
    "            d = bfs(forest, sr, sc, tr, tc)\n",
    "            if d < 0: \n",
    "                return -1\n",
    "            ans += d\n",
    "            sr, sc = tr, tc\n",
    "        return ans"
   ]
  },
  {
   "cell_type": "markdown",
   "metadata": {},
   "source": [
    "### Others"
   ]
  },
  {
   "cell_type": "markdown",
   "metadata": {},
   "source": [
    "## 412. Fizz Buzz\n",
    "\n",
    "O(N)"
   ]
  },
  {
   "cell_type": "code",
   "execution_count": null,
   "metadata": {},
   "outputs": [],
   "source": [
    "class Solution:\n",
    "    def fizzBuzz(self, n):\n",
    "        \"\"\"\n",
    "        :type n: int\n",
    "        :rtype: List[str]\n",
    "        \"\"\"\n",
    "        # ans list\n",
    "        ans = []\n",
    "\n",
    "        for num in range(1, n+1):\n",
    "\n",
    "            # divisible_by_3 = (num % 3 == 0)\n",
    "            # divisible_by_5 = (num % 5 == 0)\n",
    "\n",
    "            if num % 3 == 0 and num % 5 == 0:\n",
    "                # Divides by both 3 and 5, add FizzBuzz\n",
    "                ans.append(\"FizzBuzz\")\n",
    "            elif num % 3 == 0:\n",
    "                # Divides by 3, add Fizz\n",
    "                ans.append(\"Fizz\")\n",
    "            elif num % 5 == 0:\n",
    "                # Divides by 5, add Buzz\n",
    "                ans.append(\"Buzz\")\n",
    "            else:\n",
    "                # Not divisible by 3 or 5, add the number\n",
    "                ans.append(str(num))\n",
    "\n",
    "        return ans"
   ]
  },
  {
   "cell_type": "markdown",
   "metadata": {},
   "source": [
    "## 277. Find the Celebrity\n",
    "\n",
    "O(N) O(1)"
   ]
  },
  {
   "cell_type": "code",
   "execution_count": null,
   "metadata": {},
   "outputs": [],
   "source": [
    "class Solution(object):\n",
    "    def findCelebrity(self, n):\n",
    "        \"\"\"\n",
    "        :type n: int\n",
    "        :rtype: int\n",
    "        \"\"\"\n",
    "        res = 0\n",
    "        \n",
    "        # if celebrity > candidate, candidate must change to the celebrity, cause (knows(candidate, celebrity) == True)\n",
    "        # if candidate == celebrity: candidate won't change, cause celebrity knows nobody.\n",
    "        # after the loop, candidate is the only one can be the celebrity\n",
    "        for i in range(1, n):\n",
    "            if knows(res, i):\n",
    "                res = i\n",
    "                \n",
    "        # check people < candidate\n",
    "        for i in range(res):\n",
    "            if knows(res, i) or not(knows(i, res)):\n",
    "                return -1\n",
    "        \n",
    "        # check if people > candidate are all knows the candidate\n",
    "        for i in range(res+1, n):\n",
    "            if not knows(i, res):\n",
    "                return -1\n",
    "            \n",
    "        return res"
   ]
  },
  {
   "cell_type": "markdown",
   "metadata": {},
   "source": [
    "## 171. Excel Sheet Column Number\n",
    "\n",
    "This reverses the string, starts a sum at 0, creates a list of tuples of the index of each character in the reversed string (which corresponds to the exponent) and character itself. Add them up. We take ord(char) to turn the character to an integer, subtract 65 = ord('A') from it, and add one because we want A to equal 1, not 0."
   ]
  },
  {
   "cell_type": "code",
   "execution_count": null,
   "metadata": {},
   "outputs": [],
   "source": [
    "def titleToNumber(s):\n",
    "    s = s[::-1]\n",
    "    sum = 0\n",
    "    for exp, c in enumerate(s):\n",
    "        sum += (ord(c) - 64) * (26 ** exp)\n",
    "    return sum"
   ]
  },
  {
   "cell_type": "code",
   "execution_count": 33,
   "metadata": {},
   "outputs": [
    {
     "data": {
      "text/plain": [
       "'\\x14'"
      ]
     },
     "execution_count": 33,
     "metadata": {},
     "output_type": "execute_result"
    },
    {
     "data": {
      "text/plain": [
       "65"
      ]
     },
     "execution_count": 33,
     "metadata": {},
     "output_type": "execute_result"
    }
   ],
   "source": [
    "chr(20)\n",
    "ord('A')"
   ]
  },
  {
   "cell_type": "markdown",
   "metadata": {},
   "source": [
    "## 904. Fruit Into Baskets (2 Pointers) (Googe 4)\n",
    "Google \n",
    "O(N)\n",
    "\n",
    "What is the length of longest subarray that contains up to two distinct integers?"
   ]
  },
  {
   "cell_type": "code",
   "execution_count": null,
   "metadata": {},
   "outputs": [],
   "source": [
    "class Solution(object):\n",
    "    def totalFruit(self, tree):\n",
    "        ans = i = 0\n",
    "        count = collections.Counter()\n",
    "        for j, x in enumerate(tree):\n",
    "            count[x] += 1\n",
    "            while len(count) >= 3:\n",
    "                count[tree[i]] -= 1\n",
    "                if count[tree[i]] == 0:\n",
    "                    del count[tree[i]]\n",
    "                i += 1\n",
    "            ans = max(ans, j - i + 1)\n",
    "        return ans"
   ]
  },
  {
   "cell_type": "markdown",
   "metadata": {},
   "source": [
    "## 399. Evaluate Division\n",
    "\n",
    "Although this looks like a math problem, we can easily model it with graph.\n",
    "\n",
    "For example:\n",
    "Given:\n",
    "a/b = 2.0, b/c = 3.0\n",
    "We can build a directed graph:\n",
    "a -- 2.0 --> b -- 3.0 --> c\n",
    "If we were asked to find a/c, we have:\n",
    "a/c = a/b * b/c = 2.0 * 3.0\n",
    "In the graph, it is the product of costs of edges.\n",
    "\n",
    "Do notice that, 2 edges need to added into the graph with one given equation,\n",
    "because with a/b we also get result of b/a, which is the reciprocal of a/b.\n",
    "\n",
    "so the previous example also gives edges:\n",
    "c -- 0.333 --> b -- 0.5 --> a\n",
    "\n",
    "Now we know how to model this problem, what we need to do is simply build the\n",
    "graph with given equations, and traverse the graph, either DFS or BFS, to find a path\n",
    "for a given query, and the result is the product of costs of edges on the path.\n",
    "\n",
    "One optimization, which is not implemented in the code, is to \"compress\" paths for\n",
    "past queries, which will make future searches faster. This is the same idea used in\n",
    "compressing paths in union find set. So after a query is conducted and a result is found,\n",
    "we add two edges for this query if these edges are not already in the graph.\n",
    "\n",
    "Given the number of variables N, and number of equations E,\n",
    "building the graph takes O(E), each query takes O(N), space for graph takes O(E)\n",
    "\n",
    "I think if we start to compress paths, the graph will grow to O(N^2), and we\n",
    "can optimize the query to O(1), please correct me if I'm wrong.\n",
    "\n"
   ]
  },
  {
   "cell_type": "code",
   "execution_count": 116,
   "metadata": {},
   "outputs": [],
   "source": [
    "class Solution:\n",
    "    def calcEquation(self, equations, values, queries):\n",
    "\n",
    "        graph = {}\n",
    "        \n",
    "        def build_graph(equations, values):\n",
    "            def add_edge(f, t, value):\n",
    "                if f in graph:\n",
    "                    graph[f].append((t, value))\n",
    "                else:\n",
    "                    graph[f] = [(t, value)]\n",
    "            \n",
    "            for vertices, value in zip(equations, values):\n",
    "                f, t = vertices\n",
    "                add_edge(f, t, value)\n",
    "                add_edge(t, f, 1/value)\n",
    "        \n",
    "        def find_path(query):\n",
    "            b, e = query\n",
    "            \n",
    "            if b not in graph or e not in graph:\n",
    "                return -1.0\n",
    "                \n",
    "            q = [(b, 1.0)]\n",
    "            visited = set()\n",
    "            \n",
    "            while q:\n",
    "                front, cur_product = q.pop(0)\n",
    "                if front == e:\n",
    "                    return cur_product\n",
    "                visited.add(front)\n",
    "                for neighbor, value in graph[front]:\n",
    "                    if neighbor not in visited:\n",
    "                        q.append((neighbor, cur_product*value))\n",
    "            \n",
    "            return -1.0\n",
    "        \n",
    "        build_graph(equations, values)\n",
    "        return [find_path(q) for q in queries]"
   ]
  },
  {
   "cell_type": "code",
   "execution_count": 118,
   "metadata": {},
   "outputs": [
    {
     "name": "stdout",
     "output_type": "stream",
     "text": [
      "vertices= ['a', 'b']\n",
      "value= 2.0\n",
      "vertices= ['b', 'c']\n",
      "value= 3.0\n"
     ]
    },
    {
     "data": {
      "text/plain": [
       "{'a': [('b', 2.0)],\n",
       " 'b': [('a', 0.5), ('c', 3.0)],\n",
       " 'c': [('b', 0.3333333333333333)]}"
      ]
     },
     "execution_count": 118,
     "metadata": {},
     "output_type": "execute_result"
    }
   ],
   "source": [
    "graph = {}\n",
    "        \n",
    "def build_graph(equations, values):\n",
    "    def add_edge(f, t, value):\n",
    "        if f in graph:\n",
    "            graph[f].append((t, value))\n",
    "        else:\n",
    "            graph[f] = [(t, value)]\n",
    "\n",
    "    for vertices, value in zip(equations, values):\n",
    "        print('vertices=', vertices)\n",
    "        print('value=', value)\n",
    "        f, t = vertices\n",
    "        add_edge(f, t, value)\n",
    "        add_edge(t, f, 1/value)\n",
    "        \n",
    "equations = [ [\"a\", \"b\"], [\"b\", \"c\"] ]\n",
    "values = [2.0, 3.0]\n",
    "build_graph(equations, values)\n",
    "graph"
   ]
  },
  {
   "cell_type": "code",
   "execution_count": 125,
   "metadata": {},
   "outputs": [
    {
     "name": "stdout",
     "output_type": "stream",
     "text": [
      "front= a\n",
      "cur_product= 1.0\n",
      "visited {'a'}\n",
      "neighbor= b\n",
      "value= 2.0\n",
      "q= [('b', 2.0)]\n",
      "\n",
      "front= b\n",
      "cur_product= 2.0\n",
      "visited {'b', 'a'}\n",
      "neighbor= a\n",
      "value= 0.5\n",
      "neighbor= c\n",
      "value= 3.0\n",
      "q= [('c', 6.0)]\n",
      "\n",
      "front= c\n",
      "cur_product= 6.0\n"
     ]
    },
    {
     "data": {
      "text/plain": [
       "6.0"
      ]
     },
     "execution_count": 125,
     "metadata": {},
     "output_type": "execute_result"
    }
   ],
   "source": [
    "def find_path(query):\n",
    "            b, e = query\n",
    "            \n",
    "            if b not in graph or e not in graph:\n",
    "                return -1.0\n",
    "                \n",
    "            q = [(b, 1.0)]\n",
    "            visited = set()\n",
    "            \n",
    "            while q:\n",
    "                front, cur_product = q.pop(0)\n",
    "#                 print('front=', front)\n",
    "#                 print('cur_product=', cur_product)\n",
    "                \n",
    "                if front == e:\n",
    "                    return cur_product\n",
    "\n",
    "                visited.add(front)\n",
    "#                 print('visited', visited)\n",
    "                \n",
    "                for neighbor, value in graph[front]:\n",
    "#                     print('neighbor=', neighbor)\n",
    "#                     print('value=', value)\n",
    "                    if neighbor not in visited:\n",
    "                        q.append((neighbor, cur_product*value))\n",
    "#                         print('q=', q) \n",
    "                print()          \n",
    "            return -1.0    \n",
    "query = ['a','c']\n",
    "find_path(query)"
   ]
  },
  {
   "cell_type": "markdown",
   "metadata": {},
   "source": [
    "Recursion"
   ]
  },
  {
   "cell_type": "markdown",
   "metadata": {},
   "source": [
    "## 425. Word Square"
   ]
  },
  {
   "cell_type": "code",
   "execution_count": 142,
   "metadata": {},
   "outputs": [],
   "source": [
    "from collections import defaultdict\n",
    "\n",
    "class Solution:\n",
    "    def wordSquares(self, words):\n",
    "        \"\"\"\n",
    "        :type words: List[str]\n",
    "        :rtype: List[List[str]]\n",
    "        \"\"\"\n",
    "        \n",
    "        n = len(words[0]) # all words same length\n",
    "        output = []\n",
    "        prefixes = defaultdict(list)\n",
    "        \n",
    "        for word in words:\n",
    "            for i in range(len(word)):\n",
    "                prefixes[word[:i]].append(word)\n",
    "                \n",
    "        print(prefixes)        \n",
    "        \n",
    "        def helper(cur):\n",
    "            if len(cur) == n:\n",
    "                print('len=', len(cur))\n",
    "                output.append(cur)\n",
    "                return\n",
    "        \n",
    "            prefix = ''\n",
    "            for word in cur:\n",
    "                prefix += word[len(cur)]\n",
    "                print('prefix=', prefix)\n",
    "\n",
    "            for word in prefixes[prefix]:\n",
    "                helper(cur + [word])\n",
    "                \n",
    "            print()\n",
    "        for word in words:\n",
    "            helper([word])\n",
    "            \n",
    "        return output"
   ]
  },
  {
   "cell_type": "code",
   "execution_count": 143,
   "metadata": {},
   "outputs": [
    {
     "name": "stdout",
     "output_type": "stream",
     "text": [
      "defaultdict(<class 'list'>, {'': ['area', 'lead', 'wall', 'lady', 'ball'], 'a': ['area'], 'ar': ['area'], 'are': ['area'], 'l': ['lead', 'lady'], 'le': ['lead'], 'lea': ['lead'], 'w': ['wall'], 'wa': ['wall'], 'wal': ['wall'], 'la': ['lady'], 'lad': ['lady'], 'b': ['ball'], 'ba': ['ball'], 'bal': ['ball']})\n",
      "prefix= r\n",
      "\n",
      "prefix= e\n",
      "\n",
      "prefix= a\n",
      "prefix= l\n",
      "prefix= le\n",
      "prefix= l\n",
      "prefix= la\n",
      "prefix= lad\n",
      "len= 4\n",
      "\n",
      "\n",
      "\n",
      "prefix= a\n",
      "prefix= d\n",
      "prefix= de\n",
      "\n",
      "\n",
      "prefix= a\n",
      "prefix= l\n",
      "prefix= le\n",
      "prefix= l\n",
      "prefix= la\n",
      "prefix= lad\n",
      "len= 4\n",
      "\n",
      "\n",
      "\n"
     ]
    },
    {
     "data": {
      "text/plain": [
       "[['wall', 'area', 'lead', 'lady'], ['ball', 'area', 'lead', 'lady']]"
      ]
     },
     "execution_count": 143,
     "metadata": {},
     "output_type": "execute_result"
    }
   ],
   "source": [
    "words = [\"area\",\"lead\",\"wall\",\"lady\",\"ball\"]\n",
    "s = Solution()\n",
    "s.wordSquares(words)"
   ]
  },
  {
   "cell_type": "markdown",
   "metadata": {},
   "source": [
    "## 247. Strobogrammatic Number II"
   ]
  },
  {
   "cell_type": "code",
   "execution_count": 8,
   "metadata": {},
   "outputs": [],
   "source": [
    "class Solution:\n",
    "    def findStrobogrammatic(self, n):\n",
    "        nums = n%2 * list('018') or ['']\n",
    "        print('nums=', nums)\n",
    "        while n > 1:\n",
    "            n -= 2\n",
    "            for a, b in '00 11 88 69 96'.split()[n<2:]:\n",
    "                print(a, b)\n",
    "            nums = [a + num + b for a, b in '00 11 88 69 96'.split()[n<2:] for num in nums]\n",
    "        return nums\n",
    "        "
   ]
  },
  {
   "cell_type": "code",
   "execution_count": 9,
   "metadata": {},
   "outputs": [
    {
     "name": "stdout",
     "output_type": "stream",
     "text": [
      "nums= ['']\n",
      "1 1\n",
      "8 8\n",
      "6 9\n",
      "9 6\n"
     ]
    },
    {
     "data": {
      "text/plain": [
       "['11', '88', '69', '96']"
      ]
     },
     "execution_count": 9,
     "metadata": {},
     "output_type": "execute_result"
    }
   ],
   "source": [
    "s = Solution()\n",
    "s.findStrobogrammatic(2)"
   ]
  }
 ],
 "metadata": {
  "kernelspec": {
   "display_name": "Python 3",
   "language": "python",
   "name": "python3"
  },
  "language_info": {
   "codemirror_mode": {
    "name": "ipython",
    "version": 3
   },
   "file_extension": ".py",
   "mimetype": "text/x-python",
   "name": "python",
   "nbconvert_exporter": "python",
   "pygments_lexer": "ipython3",
   "version": "3.6.8"
  },
  "toc-autonumbering": true
 },
 "nbformat": 4,
 "nbformat_minor": 2
}
