{
  "cells": [
    {
      "cell_type": "markdown",
      "source": [
        "# Intro to Python\n",
        "Objects can have more linked objects, methods, or both. "
      ],
      "metadata": {}
    },
    {
      "cell_type": "markdown",
      "source": [
        "## Overview\n",
        "1-Variables = Object\n",
        "* Numbers. int, float\n",
        "* Strings. str\n",
        "* Booleans. bool\n",
        "\n",
        "2-Data Structure = Object(Variable + Methods)\n",
        "* List\n",
        "* NumPy arrays\n",
        "* Dictionary \n",
        "* Tuple\n",
        "* Set\n",
        "\n",
        "图片 声音 视频\n",
        "\n",
        "3-Operations.  \n",
        "> - [Part.1.E.2.values-and-their-operators（**值及其相应的运算**）](Part.1.E.2.values-and-their-operators.ipynb)\n",
        "\n",
        "4-Condition. Use an if statement  \n",
        "5-Loops. Write a for or while loop  \n",
        "6-Functions. Write a function  \n",
        "7-Classes and objects. Inheritance, encapsulation, Polymorfism. Define a class. Initialize an object  \n",
        "8-Modules and packages  \n",
        "\n",
        "File input/output  \n",
        "try/except   \n",
        "\n",
        "Run  \n",
        "Debug  \n",
        "Test  \n",
        "Use libraries to build Algorithms. Algorithms to build Program, Software, Project."
      ],
      "metadata": {}
    },
    {
      "cell_type": "markdown",
      "source": [
        "Concepts:\n",
        "non local \n",
        "global\n",
        "@property"
      ],
      "metadata": {}
    },
    {
      "cell_type": "code",
      "source": [
        "from IPython.core.interactiveshell import InteractiveShell\n",
        "InteractiveShell.ast_node_interactivity = \"all\""
      ],
      "outputs": [],
      "execution_count": 33,
      "metadata": {}
    },
    {
      "cell_type": "code",
      "source": [
        "class Tree:\n",
        "    def __init__(self, value):\n",
        "        self.val = value\n",
        "        self.next = None\n",
        "        \n",
        "a = Tree(3)\n",
        "b = Tree(3)\n",
        "a is b"
      ],
      "outputs": [
        {
          "output_type": "execute_result",
          "execution_count": 3,
          "data": {
            "text/plain": [
              "False"
            ]
          },
          "metadata": {}
        }
      ],
      "execution_count": 3,
      "metadata": {}
    },
    {
      "cell_type": "code",
      "source": [
        "Python进阶. 微信\n",
        "decorator\n",
        "metaclass"
      ],
      "outputs": [],
      "execution_count": null,
      "metadata": {}
    },
    {
      "cell_type": "markdown",
      "source": [
        "## Import local packages"
      ],
      "metadata": {}
    },
    {
      "cell_type": "code",
      "source": [
        "import isolation\n",
        "Board"
      ],
      "outputs": [],
      "execution_count": null,
      "metadata": {}
    },
    {
      "cell_type": "code",
      "source": [
        "from custom.planning import Action\n",
        "from custom.utils import Expr"
      ],
      "outputs": [],
      "execution_count": null,
      "metadata": {}
    },
    {
      "cell_type": "markdown",
      "source": [
        "## os and sys"
      ],
      "metadata": {}
    },
    {
      "cell_type": "markdown",
      "source": [
        "/Users/zhutianwei/Library/Mobile Documents/com~apple~CloudDocs/2. Tech Hacker/Essential-ML/  \n",
        "/Volumes/Secomba/zhutianwei/Boxcryptor/iCloud Drive (Mac & PC only)/2. Tech Hacker/Essential-ML"
      ],
      "metadata": {}
    },
    {
      "cell_type": "code",
      "source": [
        "import os\n",
        "import sys"
      ],
      "outputs": [],
      "execution_count": null,
      "metadata": {}
    },
    {
      "cell_type": "code",
      "source": [
        "os.path\n",
        "# os.path.getsize()\n",
        "# os.path.isdir(path)\n",
        "# os.listdir(path)\n",
        "# os.path.join(path, ﬁlename)"
      ],
      "outputs": [],
      "execution_count": null,
      "metadata": {}
    },
    {
      "cell_type": "code",
      "source": [
        "os.getcwd()"
      ],
      "outputs": [],
      "execution_count": null,
      "metadata": {}
    },
    {
      "cell_type": "code",
      "source": [
        "!pwd"
      ],
      "outputs": [],
      "execution_count": null,
      "metadata": {}
    },
    {
      "cell_type": "markdown",
      "source": [
        "A string like that identifies a file is called a path. A relative path starts from the current directory; an absolute path starts from the topmost directory in the file system."
      ],
      "metadata": {}
    },
    {
      "cell_type": "code",
      "source": [
        "os.path.exists('memo.txt')"
      ],
      "outputs": [],
      "execution_count": null,
      "metadata": {}
    },
    {
      "cell_type": "code",
      "source": [
        "os.listdir(os.getcwd())"
      ],
      "outputs": [],
      "execution_count": null,
      "metadata": {}
    },
    {
      "cell_type": "code",
      "source": [
        "os.chdir('/Users/zhutianwei/Library/Mobile Documents/com~apple~CloudDocs/2. Tech Hacker/Essential-ML/data')"
      ],
      "outputs": [],
      "execution_count": null,
      "metadata": {}
    },
    {
      "cell_type": "code",
      "source": [
        "os.path.join('/Users/zhutianwei/Library/Mobile Documents/com~apple~CloudDocs/2. Tech Hacker/Essential-ML/data', 'housing.csv')"
      ],
      "outputs": [],
      "execution_count": null,
      "metadata": {}
    },
    {
      "cell_type": "code",
      "source": [
        "os.path.isdir('/Users/zhutianwei/Library/Mobile Documents/com~apple~CloudDocs/2. Tech Hacker/Essential-ML/data/')"
      ],
      "outputs": [],
      "execution_count": null,
      "metadata": {}
    },
    {
      "cell_type": "code",
      "source": [
        "os.makedirs(housing_path)"
      ],
      "outputs": [],
      "execution_count": null,
      "metadata": {}
    },
    {
      "cell_type": "code",
      "source": [
        "module_path = os.path.abspath(os.path.join('/Users/zhutianwei/Library/Mobile\\ Documents/com\\~apple\\~CloudDocs/2.\\ Tech\\ Hacker/2.\\ AI/1.\\ Artificial\\ Intelligence/1.\\ Projects/Project\\ 2/AIND-Isolation/isolation'))\n",
        "if module_path not in sys.path:\n",
        "    sys.path.append(module_path)"
      ],
      "outputs": [],
      "execution_count": null,
      "metadata": {}
    },
    {
      "cell_type": "code",
      "source": [
        "sys.path"
      ],
      "outputs": [],
      "execution_count": null,
      "metadata": {}
    },
    {
      "cell_type": "markdown",
      "source": [
        "https://www.tutorialsteacher.com/python/sys-module  \n",
        "import sys \n"
      ],
      "metadata": {}
    },
    {
      "cell_type": "markdown",
      "source": [
        "## Keywords\n",
        "\n",
        "https://www.programiz.com/python-programming/keyword-list#is\n",
        "\n",
        "**is** is used in Python for testing object identity. While the == operator is used to test if two variables are equal or not, is is used to test if the two variables refer to the same object.\n",
        "\n",
        "**Void functions** that do not return anything will return a None object automatically. None is also returned by functions in which the program flow does not encounter a return statement. "
      ],
      "metadata": {}
    },
    {
      "cell_type": "code",
      "source": [
        "10 / 2 # 5.0\n",
        "10 // 2 # 5"
      ],
      "outputs": [],
      "execution_count": null,
      "metadata": {}
    },
    {
      "cell_type": "markdown",
      "source": [
        "## Global, local, nonlocal\n",
        "\n",
        "https://www.programiz.com/python-programming/global-local-nonlocal-variables"
      ],
      "metadata": {}
    },
    {
      "cell_type": "markdown",
      "source": [
        "### Global"
      ],
      "metadata": {}
    },
    {
      "cell_type": "code",
      "source": [
        "c = 0 # global variable\n",
        "def add():\n",
        "    global c\n",
        "    c = c + 2 # increment by 2\n",
        "    print(\"Inside add():\", c)\n",
        "\n",
        "add()\n",
        "print(\"In main:\", c)"
      ],
      "outputs": [],
      "execution_count": null,
      "metadata": {}
    },
    {
      "cell_type": "code",
      "source": [
        "globvar = 10\n",
        "def read1():\n",
        "    print(globvar)\n",
        "def write1():\n",
        "    global globvar \n",
        "    globvar = 5\n",
        "    return globvar\n",
        "def write2():\n",
        "    globvar = 15\n",
        "    return globvar\n",
        "\n",
        "write1()"
      ],
      "outputs": [],
      "execution_count": null,
      "metadata": {}
    },
    {
      "cell_type": "code",
      "source": [
        "def outer():\n",
        "    x = \"local\"\n",
        "    \n",
        "    def inner():\n",
        "        nonlocal x\n",
        "        x = \"nonlocal\"\n",
        "        print(\"inner:\", x)\n",
        "    \n",
        "    inner()\n",
        "    print(\"outer:\", x)\n",
        "\n",
        "outer()"
      ],
      "outputs": [],
      "execution_count": null,
      "metadata": {}
    },
    {
      "cell_type": "markdown",
      "source": [
        "## Numbers"
      ],
      "metadata": {}
    },
    {
      "cell_type": "markdown",
      "source": [
        "https://www.programiz.com/python-programming/numbers"
      ],
      "metadata": {}
    },
    {
      "cell_type": "code",
      "source": [
        "x = 3\n",
        "y = complex(x)\n",
        "y"
      ],
      "outputs": [
        {
          "output_type": "execute_result",
          "execution_count": 41,
          "data": {
            "text/plain": [
              "(3+0j)"
            ]
          },
          "metadata": {}
        }
      ],
      "execution_count": 41,
      "metadata": {}
    },
    {
      "cell_type": "code",
      "source": [
        "a = bin(4)\n",
        "type(a)\n",
        "a\n",
        "int(a, 2)"
      ],
      "outputs": [
        {
          "output_type": "execute_result",
          "execution_count": 43,
          "data": {
            "text/plain": [
              "str"
            ]
          },
          "metadata": {}
        },
        {
          "output_type": "execute_result",
          "execution_count": 43,
          "data": {
            "text/plain": [
              "'0b100'"
            ]
          },
          "metadata": {}
        },
        {
          "output_type": "execute_result",
          "execution_count": 43,
          "data": {
            "text/plain": [
              "4"
            ]
          },
          "metadata": {}
        }
      ],
      "execution_count": 43,
      "metadata": {}
    },
    {
      "cell_type": "code",
      "source": [
        "decimal_number = 255\n",
        "\"{:b}\".format(decimal_number)\n",
        "# '11111111'"
      ],
      "outputs": [],
      "execution_count": null,
      "metadata": {}
    },
    {
      "cell_type": "code",
      "source": [
        "# binary 0b or 0B\n",
        "print(\"For 1010, int is:\", int('1010', 2))\n",
        "print(\"For 0b1010, int is:\", int('0b1010', 2))\n",
        "\n",
        "# octal 0o or 0O\n",
        "print(\"For 12, int is:\", int('12', 8))\n",
        "print(\"For 0o12, int is:\", int('0o12', 8))\n",
        "\n",
        "# hexadecimal\n",
        "print(\"For A, int is:\", int('A', 16))\n",
        "print(\"For 0xA, int is:\", int('0xA', 16))"
      ],
      "outputs": [],
      "execution_count": null,
      "metadata": {}
    },
    {
      "cell_type": "code",
      "source": [
        "chr(65)\n",
        "ord('A')"
      ],
      "outputs": [],
      "execution_count": null,
      "metadata": {}
    },
    {
      "cell_type": "code",
      "source": [
        "import fractions as f\n",
        "f.Fraction(1.5)\n"
      ],
      "outputs": [],
      "execution_count": null,
      "metadata": {}
    },
    {
      "cell_type": "markdown",
      "source": [
        "https://www.programiz.com/python-programming/modules/random"
      ],
      "metadata": {}
    },
    {
      "cell_type": "code",
      "source": [
        "import random\n",
        "random.randint(0, 2)\n",
        "random.randrange(0, 2)\n",
        "random.choice(array)"
      ],
      "outputs": [],
      "execution_count": null,
      "metadata": {}
    },
    {
      "cell_type": "markdown",
      "source": [
        "## String\n",
        "https://www.programiz.com/python-programming/methods/string"
      ],
      "metadata": {}
    },
    {
      "cell_type": "code",
      "source": [
        "s = \"I'm the iron man\"\n",
        "len(s)"
      ],
      "outputs": [
        {
          "output_type": "execute_result",
          "execution_count": 32,
          "data": {
            "text/plain": [
              "16"
            ]
          },
          "metadata": {}
        }
      ],
      "execution_count": 32,
      "metadata": {}
    },
    {
      "cell_type": "code",
      "source": [
        "s[::-1]\n",
        "s.find('a') # return -1 if not found\n",
        "s.index('a')"
      ],
      "outputs": [
        {
          "output_type": "execute_result",
          "execution_count": 39,
          "data": {
            "text/plain": [
              "\"nam nori eht m'I\""
            ]
          },
          "metadata": {}
        },
        {
          "output_type": "execute_result",
          "execution_count": 39,
          "data": {
            "text/plain": [
              "14"
            ]
          },
          "metadata": {}
        },
        {
          "output_type": "execute_result",
          "execution_count": 39,
          "data": {
            "text/plain": [
              "14"
            ]
          },
          "metadata": {}
        },
        {
          "output_type": "execute_result",
          "execution_count": 39,
          "data": {
            "text/plain": [
              "True"
            ]
          },
          "metadata": {}
        },
        {
          "output_type": "execute_result",
          "execution_count": 39,
          "data": {
            "text/plain": [
              "True"
            ]
          },
          "metadata": {}
        }
      ],
      "execution_count": 39,
      "metadata": {}
    },
    {
      "cell_type": "code",
      "source": [
        "s.replace('iron','small')\n",
        "\n",
        "song = 'Let it be, let it be, let it be, let it be'\n",
        "'''only two occurences of 'let' is replaced'''\n",
        "song.replace('let', \"don't let\", 2)"
      ],
      "outputs": [],
      "execution_count": null,
      "metadata": {}
    },
    {
      "cell_type": "code",
      "source": [
        "s.upper()\n",
        "s.lower()\n",
        "s.count('the')"
      ],
      "outputs": [],
      "execution_count": null,
      "metadata": {}
    },
    {
      "cell_type": "code",
      "source": [
        "s.startswith(\"I\")\n",
        "s.endswith('man')\n",
        "text = \"programming is easy\"\n",
        "result = text.startswith(('python', 'programming'))"
      ],
      "outputs": [
        {
          "output_type": "execute_result",
          "execution_count": 40,
          "data": {
            "text/plain": [
              "True"
            ]
          },
          "metadata": {}
        },
        {
          "output_type": "execute_result",
          "execution_count": 40,
          "data": {
            "text/plain": [
              "True"
            ]
          },
          "metadata": {}
        }
      ],
      "execution_count": 40,
      "metadata": {}
    },
    {
      "cell_type": "code",
      "source": [
        "ord('A')"
      ],
      "outputs": [],
      "execution_count": null,
      "metadata": {}
    },
    {
      "cell_type": "code",
      "source": [
        "# List and strings\n",
        "s = 'spam'\n",
        "t = list(s)\n",
        "t"
      ],
      "outputs": [],
      "execution_count": null,
      "metadata": {}
    },
    {
      "cell_type": "code",
      "source": [
        "s2 = ' '.join(words)\n",
        "s2\n",
        "# Leading whitepsace are removed\n",
        "s3 = ' xoxo love xoxo   '\n",
        "s3.strip() # return new"
      ],
      "outputs": [],
      "execution_count": null,
      "metadata": {}
    },
    {
      "cell_type": "code",
      "source": [
        "s = 'pining for the fjords'\n",
        "t = s.split()\n",
        "print(t) # ['pining', 'for', 'the', 'fjords']\n",
        "print(t[2]) # the\n",
        "print(t[::-1])"
      ],
      "outputs": [],
      "execution_count": null,
      "metadata": {}
    },
    {
      "cell_type": "code",
      "source": [
        "s = 'spam-spam-spam'\n",
        "s.split('-')"
      ],
      "outputs": [],
      "execution_count": null,
      "metadata": {}
    },
    {
      "cell_type": "code",
      "source": [
        "# example string\n",
        "string = 'cat'\n",
        "width = 5\n",
        "fillchar = '*'\n",
        "\n",
        "# print left justified string\n",
        "string.ljust(width, fillchar)"
      ],
      "outputs": [],
      "execution_count": null,
      "metadata": {}
    },
    {
      "cell_type": "code",
      "source": [
        "s = \"I'm the iron man\"\n",
        "a = s[len(\"I'm\"):]\n",
        "\n",
        "print(s, a, sep='\\n')\n",
        "\n",
        "x = list(enumerate(s))\n",
        "x\n",
        "\n",
        "b = []\n",
        "b.append(s)\n",
        "b"
      ],
      "outputs": [],
      "execution_count": null,
      "metadata": {}
    },
    {
      "cell_type": "code",
      "source": [
        "m = [m]\n",
        "\n",
        "def noman(m):\n",
        "    if m != []:\n",
        "        print('x')\n",
        "noman(m)"
      ],
      "outputs": [],
      "execution_count": null,
      "metadata": {}
    },
    {
      "cell_type": "code",
      "source": [
        "name = \"Monica\"\n",
        "print(name.isalpha())\n",
        "\n",
        "# contains whitespace\n",
        "name = \"Monica Geller\"\n",
        "print(name.isalpha())\n",
        "\n",
        "# contains number\n",
        "name = \"Mo3nicaGell22er\"\n",
        "print(name.isalpha())"
      ],
      "outputs": [],
      "execution_count": null,
      "metadata": {}
    },
    {
      "cell_type": "code",
      "source": [
        "s = \"28212\"\n",
        "print(s.isdigit())\n",
        "\n",
        "# contains alphabets and spaces\n",
        "s = \"Mo3 nicaG el l22er\"\n",
        "print(s.isdigit())"
      ],
      "outputs": [],
      "execution_count": null,
      "metadata": {}
    },
    {
      "cell_type": "code",
      "source": [
        "s = '1242323'\n",
        "print(s.isnumeric())\n",
        "#s = '²3455'\n",
        "\n",
        "s = '\\u00B23455'\n",
        "print(s.isnumeric())\n",
        "# s = '½'\n",
        "\n",
        "s = '\\u00BD'\n",
        "print(s.isnumeric())\n",
        "\n",
        "s = 'python12'\n",
        "print(s.isnumeric())"
      ],
      "outputs": [],
      "execution_count": null,
      "metadata": {}
    },
    {
      "cell_type": "code",
      "source": [
        "name = \"M234onica\"\n",
        "print(name.isalnum())\n",
        "\n",
        "# contains whitespace\n",
        "name = \"M3onica Gell22er \"\n",
        "print(name.isalnum())\n",
        "\n",
        "name = \"Mo3nicaGell22er\"\n",
        "print(name.isalnum())\n",
        "\n",
        "name = \"133\"\n",
        "print(name.isalnum())"
      ],
      "outputs": [],
      "execution_count": null,
      "metadata": {}
    },
    {
      "cell_type": "code",
      "source": [
        "s = \"28212\"\n",
        "print(s.isdecimal())\n",
        "\n",
        "# contains alphabets\n",
        "s = \"32ladk3\"\n",
        "print(s.isdecimal())\n",
        "\n",
        "# contains alphabets and spaces\n",
        "s = \"Mo3 nicaG el l22er\"\n",
        "print(s.isdecimal())"
      ],
      "outputs": [],
      "execution_count": null,
      "metadata": {}
    },
    {
      "cell_type": "code",
      "source": [
        "import random\n",
        "random.randint(0,10)"
      ],
      "outputs": [],
      "execution_count": null,
      "metadata": {}
    },
    {
      "cell_type": "code",
      "source": [
        "def containsSubstring(src, key):\n",
        "    res = []\n",
        "    for word in src:\n",
        "        if key in word:\n",
        "            res.append(word)\n",
        "    return res"
      ],
      "outputs": [],
      "execution_count": null,
      "metadata": {}
    },
    {
      "cell_type": "markdown",
      "source": [
        "## Regular Expression"
      ],
      "metadata": {}
    },
    {
      "cell_type": "code",
      "source": [
        "import re\n",
        "A = ''\n",
        "line = '.-.-....-.-...--.-...-....--...-.-...-.--.------..-...-..-.-.---...-..-..---..-......--..-.--.-...-.--......-.........-..-.----.-.....-....--.-.-.--.-..---..-......-...-..-.--.-.----......-.--.-----..-------.-.-..---.-.-.--..-.-...............--...--....--..-....-.-----.....-...-------.-......-.........-..-..--.-....-...--....-.--.-.....--..-.....--..-.---.--...-.-.-..-.-.....---.-.-.-.----....-..-.....--..----......-...-.--.-...--.....--.....-.......-....---..-..--...-------.--....---..---.....-.-.-....-.-...--..-....---..--.--...-.-.-..-.-.....---.-.-.-.----....-..-.....--..----.'\n",
        "if re.search(A,line):\n",
        "    print('yes')"
      ],
      "outputs": [],
      "execution_count": null,
      "metadata": {}
    },
    {
      "cell_type": "code",
      "source": [
        "import re\n",
        "\n",
        "pattern = '^a...s$'\n",
        "test_string = 'abyss'\n",
        "result = re.match(pattern, test_string)\n",
        "print(result)\n",
        "\n",
        "if result:\n",
        "    print(\"Search successful.\")\n",
        "else:\n",
        "    print(\"Search unsuccessful.\")"
      ],
      "outputs": [],
      "execution_count": null,
      "metadata": {}
    },
    {
      "cell_type": "code",
      "source": [
        "import re\n",
        "string = 'hello 12 hi 89. Howdy 34'\n",
        "pattern = '\\d+'\n",
        "result = re.findall(pattern, string) \n",
        "print(result)"
      ],
      "outputs": [],
      "execution_count": null,
      "metadata": {}
    },
    {
      "cell_type": "markdown",
      "source": [
        "## List\n",
        "\n",
        "Learning python textbook\n",
        "\n",
        "add, remove, select, modify, "
      ],
      "metadata": {}
    },
    {
      "cell_type": "code",
      "source": [
        "l = [1,3,2,2,4,5,6]\n",
        "\n",
        "# for n in l:\n",
        "# for i in range(len(l))\n",
        "# for i, n in enumerate(l)\n",
        "\n",
        "l += 1, # fastest\n",
        "l.append(1) # second fast\n",
        "l += [1] # slowest\n",
        "l\n",
        "\n",
        "l * 2\n",
        "\n",
        "a = [1, 2]\n",
        "b = [3, 4]\n",
        "a.extend(b) # equal to a += b\n",
        "\n",
        "t = ['a', 'b', 'b', 'c']\n",
        "t.pop() # = t.pop(-1)\n",
        "t.remove('b')\n",
        "# del t[1:2]\n",
        "# t.clear()\n",
        "t\n",
        "\n",
        "# min(l)\n",
        "# max(l)\n",
        "# sum(l)"
      ],
      "outputs": [],
      "execution_count": null,
      "metadata": {}
    },
    {
      "cell_type": "code",
      "source": [
        "s = [1,2]\n",
        "s.index(2)"
      ],
      "outputs": [],
      "execution_count": null,
      "metadata": {}
    },
    {
      "cell_type": "code",
      "source": [
        "l = [1,3,2,2,4,5,6]\n",
        "l.sort() \n",
        "l\n",
        "sorted(l) # return a new sorted list.\n",
        "sorted(l, reverse = True) \n",
        "\n",
        "l.reverse()\n",
        "l\n",
        "reversed(l)\n",
        "for n in reversed(l):\n",
        "    print(n)\n",
        "    \n",
        "l[::-1]\n",
        "\n",
        "l.count(2)"
      ],
      "outputs": [],
      "execution_count": null,
      "metadata": {}
    },
    {
      "cell_type": "code",
      "source": [
        "l = [(2, 2), (3, 4), (4, 1), (1, 3)]\n",
        "\n",
        "\n",
        "l.sort(key = lambda x: x[1])\n",
        "sorted(l, key = lambda x: x[1])\n",
        "\n",
        "def takeSecond(elem):\n",
        "    return elem[1]\n",
        "\n",
        "l.sort(key=takeSecond)\n",
        "l\n",
        "\n",
        "sorted(l, key=takeSecond)"
      ],
      "outputs": [],
      "execution_count": null,
      "metadata": {}
    },
    {
      "cell_type": "code",
      "source": [
        "b = a.copy()\n",
        "b[0] = 0\n",
        "print(b, a, sep='\\n')\n",
        "\n",
        "# same result\n",
        "b = a[:]\n",
        "\n",
        "s = [1,2,3]\n",
        "s.insert(2,4) # [1,2,4,3]\n",
        "s"
      ],
      "outputs": [],
      "execution_count": null,
      "metadata": {}
    },
    {
      "cell_type": "markdown",
      "source": [
        "![element-slicling.jpg](attachment:element-slicling.jpg)"
      ],
      "metadata": {}
    },
    {
      "cell_type": "code",
      "source": [
        "s = [1,2,3,4,5,6]\n",
        "s[2:5:2]\n",
        "s[2:5] = [0,0,0]\n",
        "s\n",
        "s[::-1]"
      ],
      "outputs": [],
      "execution_count": null,
      "metadata": {}
    },
    {
      "cell_type": "code",
      "source": [
        "# List comprehensions \n",
        "nums = [0, 1, 2, 3, 4]\n",
        "even_squares = [x ** 2 for x in nums if x % 2 == 0]\n",
        "print(even_squares)  # Prints \"[0, 4, 16]\""
      ],
      "outputs": [],
      "execution_count": null,
      "metadata": {}
    },
    {
      "cell_type": "markdown",
      "source": [
        "## deque\n",
        "\n",
        "https://docs.python.org/3/library/collections.html#collections.deque"
      ],
      "metadata": {}
    },
    {
      "cell_type": "code",
      "source": [
        "from collections import deque\n",
        "x = deque([1,2,3])\n",
        "x\n",
        "x.append(4)\n",
        "x.appendleft(5)\n",
        "x.index(3)\n",
        "\n",
        "# x = sorted(x)\n",
        "# type(x)"
      ],
      "outputs": [
        {
          "output_type": "execute_result",
          "execution_count": 28,
          "data": {
            "text/plain": [
              "deque([1, 2, 3])"
            ]
          },
          "metadata": {}
        },
        {
          "output_type": "execute_result",
          "execution_count": 28,
          "data": {
            "text/plain": [
              "3"
            ]
          },
          "metadata": {}
        }
      ],
      "execution_count": 28,
      "metadata": {}
    },
    {
      "cell_type": "code",
      "source": [
        "x = [1,2,3,4,5]\n",
        "x.index(2)"
      ],
      "outputs": [
        {
          "output_type": "execute_result",
          "execution_count": 15,
          "data": {
            "text/plain": [
              "1"
            ]
          },
          "metadata": {}
        }
      ],
      "execution_count": 15,
      "metadata": {}
    },
    {
      "cell_type": "code",
      "source": [
        "import collections\n",
        "\n",
        "d = collections.deque(range(10))\n",
        "print('Normal        :', d)\n",
        "\n",
        "d = collections.deque(range(10))\n",
        "d.rotate(2)\n",
        "print('Right rotation:', d)\n",
        "\n",
        "d = collections.deque(range(10))\n",
        "d.rotate(-2)\n",
        "print('Left rotation :', d)"
      ],
      "outputs": [
        {
          "output_type": "stream",
          "name": "stdout",
          "text": [
            "Normal        : deque([0, 1, 2, 3, 4, 5, 6, 7, 8, 9])\n",
            "Right rotation: deque([8, 9, 0, 1, 2, 3, 4, 5, 6, 7])\n",
            "Left rotation : deque([2, 3, 4, 5, 6, 7, 8, 9, 0, 1])\n"
          ]
        }
      ],
      "execution_count": 17,
      "metadata": {}
    },
    {
      "cell_type": "markdown",
      "source": [
        "## Priority Queue"
      ],
      "metadata": {}
    },
    {
      "cell_type": "code",
      "source": [
        "from queue import PriorityQueue\n",
        "\n",
        "q = PriorityQueue()\n",
        "q.put(10)\n",
        "q.put(1)\n",
        "q.put(5)\n",
        "\n",
        "q\n",
        "\n",
        "while not q.empty():\n",
        "\tprint(q.get())"
      ],
      "outputs": [
        {
          "output_type": "execute_result",
          "execution_count": 29,
          "data": {
            "text/plain": [
              "<queue.PriorityQueue at 0x10713bef0>"
            ]
          },
          "metadata": {}
        },
        {
          "output_type": "stream",
          "name": "stdout",
          "text": [
            "1\n",
            "5\n",
            "10\n"
          ]
        }
      ],
      "execution_count": 29,
      "metadata": {}
    },
    {
      "cell_type": "markdown",
      "source": [
        "## Heap"
      ],
      "metadata": {}
    },
    {
      "cell_type": "code",
      "source": [
        "import heapq #模块提供了如下几个函数：\n",
        "heapq.heappush(heap, item) #把item添加到heap中（heap是一个列表）\n",
        "heapq.heappop(heap) #把堆顶元素弹出，返回的就是堆顶\n",
        "heapq.heappushpop(heap, item) #先把item加入到堆中，然后再pop，比heappush()再heappop()要快得多\n",
        "heapq.heapreplace(heap, item) #先pop，然后再把item加入到堆中，比heappop()再heappush()要快得多\n",
        "heapq.heapify(list) #将列表进行堆调整\n",
        "heapq.merge(*iterables) #将多个列表合并，并进行堆调整，返回的是合并后的列表的迭代器\n",
        "heapq.nlargest(n, iterable, key=None) #返回最大的n个元素（Top-K问题）\n",
        "heapq.nsmallest(n, iterable, key=None) #返回最小的n个元素（Top-K问题）"
      ],
      "outputs": [],
      "execution_count": null,
      "metadata": {}
    },
    {
      "cell_type": "code",
      "source": [
        "import heapq\n",
        "heap = [1,3,6,4,8,7]\n",
        "heapq.heappush(heap, 5)\n",
        "heapq.heappop(heap)\n",
        "heap\n",
        "\n",
        "heapq.nsmallest(2, heap)\n",
        "\n",
        "l = [14,5,6,2]\n",
        "# heapq.heapify(l)\n",
        "heapq.heappush(l, 4)\n",
        "heapq.nlargest(2, l)"
      ],
      "outputs": [
        {
          "output_type": "execute_result",
          "execution_count": 26,
          "data": {
            "text/plain": [
              "1"
            ]
          },
          "metadata": {}
        },
        {
          "output_type": "execute_result",
          "execution_count": 26,
          "data": {
            "text/plain": [
              "[3, 4, 5, 6, 8, 7]"
            ]
          },
          "metadata": {}
        },
        {
          "output_type": "execute_result",
          "execution_count": 26,
          "data": {
            "text/plain": [
              "[3, 4]"
            ]
          },
          "metadata": {}
        },
        {
          "output_type": "execute_result",
          "execution_count": 26,
          "data": {
            "text/plain": [
              "[14, 6]"
            ]
          },
          "metadata": {}
        }
      ],
      "execution_count": 26,
      "metadata": {}
    },
    {
      "cell_type": "markdown",
      "source": [
        "## Dictionary \n",
        "\n",
        "While values can be of any data type and can repeat, keys must be of immutable type (string, number or tuple with immutable elements) and must be unique."
      ],
      "metadata": {
        "toc-hr-collapsed": false
      }
    },
    {
      "cell_type": "code",
      "source": [
        "d = {'a':10, \n",
        "     'b':1, \n",
        "     'c':22}\n",
        "len(d)\n",
        "\n",
        "d.keys() # dict_keys(['a', 'b', 'c'])\n",
        "d.values() # dict_values([10, 1, 22])\n",
        "d.items() # dict_items([('a', 10), ('b', 1), ('c', 22)])\n",
        "\n",
        "x = sorted(d.items()) \n",
        "\n",
        "for key in d: # = d.keys() Iterates just through the keys, ignoring the values\n",
        "    print(key)\n",
        "    \n",
        "for value in d.values(): # Iterates just through value, ignoring the keys\n",
        "    print(value)\n",
        "    \n",
        "for key, val in d.items():\n",
        "    print(val, key)"
      ],
      "outputs": [],
      "execution_count": null,
      "metadata": {}
    },
    {
      "cell_type": "code",
      "source": [
        "d = {'a':10, \n",
        "     'b':1, \n",
        "     'c':22}\n",
        "\n",
        "for k in d:\n",
        "    if d[k] == 22:\n",
        "        print(k)\n",
        "        \n",
        "list(enumerate(d))"
      ],
      "outputs": [],
      "execution_count": null,
      "metadata": {}
    },
    {
      "cell_type": "code",
      "source": [
        "d = {'a':10, \n",
        "     'b':1, \n",
        "     'c':22}\n",
        "sorted(d.items(), key=lambda x: x[1])"
      ],
      "outputs": [],
      "execution_count": null,
      "metadata": {}
    },
    {
      "cell_type": "code",
      "source": [
        "# empty dictionary\n",
        "my_dict = {}\n",
        "\n",
        "# dictionary with integer keys\n",
        "my_dict = {1: 'apple', \n",
        "           2: 'ball'}\n",
        "print(my_dict)\n",
        "\n",
        "# dictionary with mixed keys\n",
        "my_dict = {'name': 'John', \n",
        "           1: [2, 4, 3]}\n",
        "print(my_dict)\n",
        "\n",
        "# using dict()\n",
        "my_dict = dict({1:'apple', \n",
        "                2:'ball'})\n",
        "print(my_dict)\n",
        "\n",
        "# from sequence having each item as a pair\n",
        "my_dict = dict([(1,'apple'), (2,'ball')])\n",
        "print(my_dict)"
      ],
      "outputs": [],
      "execution_count": null,
      "metadata": {}
    },
    {
      "cell_type": "code",
      "source": [
        "# Both are same \n",
        "d['a']\n",
        "d.get('a', -1) # return 10\n",
        "d.get('d', -1) # return -1 since 'd' is not in the dictionary\n",
        "\n",
        "dic = {1:2}\n",
        "dic[0] #keyerror\n",
        "type(dic.get(0)) #None\n",
        "\n",
        "counts = {'chuck' : 1 , \n",
        "          'annie' : 42, \n",
        "          'jan': 100}\n",
        "\n",
        "x = counts.pop('jan')\n",
        "counts['ss'] = x\n",
        "\n",
        "counts.popitem() #return arbitraty key, value pair\n",
        "        \n",
        "print(counts)\n",
        "\n",
        "# create a dictionary\n",
        "squares = {1:1, \n",
        "           2:4, \n",
        "           3:9, \n",
        "           4:16, \n",
        "           5:25}  \n",
        "\n",
        "# remove a particular item\n",
        "print(squares.pop(4)) # Output: 16\n",
        "\n",
        "print(squares) # Output: {1: 1, 2: 4, 3: 9, 5: 25}\n",
        "\n",
        "# remove an arbitrary item\n",
        "# print(squares.popitem()) # Output: (1, 1)\n",
        "\n",
        "print(squares) # Output: {2: 4, 3: 9, 5: 25}\n",
        "\n",
        "# delete a particular item\n",
        "del squares[5]  \n",
        "\n",
        "print(squares) # Output: {2: 4, 3: 9}\n",
        "\n",
        "# remove all items\n",
        "squares.clear()\n",
        "\n",
        "print(squares) # Output: {}\n",
        "\n",
        "# delete the dictionary itself\n",
        "del squares\n",
        "\n",
        "\n",
        "b = squares.copy()"
      ],
      "outputs": [],
      "execution_count": null,
      "metadata": {}
    },
    {
      "cell_type": "code",
      "source": [
        "europe['italy'] = 'rome'\n",
        "data = dict(zip(list_with_keys, list_with_values)"
      ],
      "outputs": [],
      "execution_count": null,
      "metadata": {}
    },
    {
      "cell_type": "code",
      "source": [
        "marks = {}.fromkeys(['Math','English','Science'], 0)\n",
        "\n",
        "print(marks) # Output: {'English': 0, 'Math': 0, 'Science': 0}\n",
        "\n",
        "for item in marks.items():\n",
        "    print(item)\n",
        "\n",
        "sorted(marks) # Output: ['English', 'Math', 'Science']"
      ],
      "outputs": [],
      "execution_count": null,
      "metadata": {}
    },
    {
      "cell_type": "code",
      "source": [
        "squares = {x: x*x for x in range(6)}\n",
        "\n",
        "print(squares) # Output: {0: 0, 1: 1, 2: 4, 3: 9, 4: 16, 5: 25}"
      ],
      "outputs": [],
      "execution_count": null,
      "metadata": {}
    },
    {
      "cell_type": "code",
      "source": [
        "# Dictionary comprehensions\n",
        "nums = [0, 1, 2, 3, 4]\n",
        "even_num_to_square = {x: x ** 2 for x in nums if x % 2 == 0}\n",
        "print(even_num_to_square)  # Prints \"{0: 0, 2: 4, 4: 16}\""
      ],
      "outputs": [],
      "execution_count": null,
      "metadata": {}
    },
    {
      "cell_type": "code",
      "source": [
        "person = {'name': 'Phill', 'age': 22}\n",
        "\n",
        "age = person.setdefault('age')\n",
        "print('Age = ',age)\n",
        "\n",
        "# key is not in the dictionary\n",
        "salary = person.setdefault('salary')\n",
        "print('salary = ',salary)\n",
        "\n",
        "# key is not in the dictionary\n",
        "# default_value is provided\n",
        "age = person.setdefault('height', 5)\n",
        "print('person = ',person)\n",
        "print('age = ',age)"
      ],
      "outputs": [],
      "execution_count": null,
      "metadata": {}
    },
    {
      "cell_type": "code",
      "source": [
        "d = {1:2,\n",
        "     2:3}\n",
        "d[1] = 4\n",
        "d"
      ],
      "outputs": [],
      "execution_count": null,
      "metadata": {}
    },
    {
      "cell_type": "code",
      "source": [
        "from itertools import groupby\n",
        "\n",
        "for key, group in groupby([1,1,1,1,5,1,1,1,1,4]):\n",
        "    print(key, list(group))"
      ],
      "outputs": [],
      "execution_count": null,
      "metadata": {}
    },
    {
      "cell_type": "code",
      "source": [
        "s = 'abc'\n",
        "dic = {}\n",
        "for c in s:\n",
        "    if c not in dic:\n",
        "        dic[c] = 1\n",
        "    else:\n",
        "        dic[c] += 1"
      ],
      "outputs": [],
      "execution_count": null,
      "metadata": {}
    },
    {
      "cell_type": "markdown",
      "source": [
        "### Counter"
      ],
      "metadata": {}
    },
    {
      "cell_type": "code",
      "source": [
        "from collections import Counter\n",
        "\n",
        "dic = Counter('gallahad') \n",
        "dic\n",
        "for key, value in dic.items():\n",
        "    print(key, value)\n",
        "\n",
        "dic2 = Counter('dahallag')\n",
        "dic2\n",
        "for key, value in dic2.items():\n",
        "    print(key, value)\n",
        "    \n",
        "dic == dic2"
      ],
      "outputs": [],
      "execution_count": null,
      "metadata": {}
    },
    {
      "cell_type": "code",
      "source": [
        "dic = Counter()\n",
        "for word in ['red', 'blue', 'red', 'green', 'blue', 'blue']:\n",
        "     dic[word] += 1\n",
        "dic"
      ],
      "outputs": [],
      "execution_count": null,
      "metadata": {}
    },
    {
      "cell_type": "code",
      "source": [
        "word = ['red', 'blue', 'red', 'green', 'blue', 'blue']\n",
        "dic = Counter(word)\n",
        "dic"
      ],
      "outputs": [],
      "execution_count": null,
      "metadata": {}
    },
    {
      "cell_type": "code",
      "source": [
        "c = Counter(a=4, b=2, c=0, d=-2)\n",
        "c"
      ],
      "outputs": [],
      "execution_count": null,
      "metadata": {}
    },
    {
      "cell_type": "code",
      "source": [
        "dic = defaultdict(int)\n",
        "for word in ['red', 'blue', 'red', 'green', 'blue', 'blue']:\n",
        "     dic[word] += 1\n",
        "dic"
      ],
      "outputs": [],
      "execution_count": null,
      "metadata": {}
    },
    {
      "cell_type": "markdown",
      "source": [
        "### defaultdict"
      ],
      "metadata": {}
    },
    {
      "cell_type": "code",
      "source": [
        "strs = [\"eat\", \"tea\", \"tan\", \"ate\", \"nat\", \"bat\"]\n",
        "dic = {}\n",
        "for s in strs:\n",
        "    tmp = ''.join(sorted(list(s)))\n",
        "    if tmp not in dic:\n",
        "        dic[tmp] = [s]\n",
        "    else:\n",
        "        dic[tmp].append(s)\n",
        "dic"
      ],
      "outputs": [],
      "execution_count": null,
      "metadata": {}
    },
    {
      "cell_type": "code",
      "source": [
        "from collections import defaultdict\n",
        "strs = [\"eat\", \"tea\", \"tan\", \"ate\", \"nat\", \"bat\"]\n",
        "dic = defaultdict(list)\n",
        "for s in strs:\n",
        "    tmp = ''.join(sorted(list(s)))\n",
        "    dic[tmp].append(s)\n",
        "\n",
        "dic"
      ],
      "outputs": [],
      "execution_count": null,
      "metadata": {}
    },
    {
      "cell_type": "code",
      "source": [
        "from collections import defaultdict\n",
        "s = [('yellow', 1), ('blue', 2), ('yellow', 3), ('blue', 4), ('red', 1)]\n",
        "dic = defaultdict(list)\n",
        "for k, v in s:\n",
        "    dic[k].append(v)\n",
        "\n",
        "sorted(dic.items())\n",
        "# [('blue', [2, 4]), ('red', [1]), ('yellow', [1, 3])]"
      ],
      "outputs": [],
      "execution_count": null,
      "metadata": {}
    },
    {
      "cell_type": "code",
      "source": [
        "s = [('yellow', 1), ('blue', 2), ('yellow', 3), ('blue', 4), ('red', 1)]\n",
        "dic = {}\n",
        "for k, v in s:\n",
        "    if k not in dic:\n",
        "        dic[k] = [v]\n",
        "    else:\n",
        "        dic[k].append(v)\n",
        "dic"
      ],
      "outputs": [],
      "execution_count": null,
      "metadata": {}
    },
    {
      "cell_type": "code",
      "source": [
        "from collections import defaultdict\n",
        "\n",
        "default_factory = (lambda: list(range(0,5))\n",
        "d = defaultdict(default_factory)\n"
      ],
      "outputs": [],
      "execution_count": null,
      "metadata": {}
    },
    {
      "cell_type": "markdown",
      "source": [
        "### Ordered Dictionary"
      ],
      "metadata": {}
    },
    {
      "cell_type": "code",
      "source": [
        "from collections import OrderedDict\n",
        "dic = OrderedDict.fromkeys('abcde')\n",
        "dic"
      ],
      "outputs": [],
      "execution_count": null,
      "metadata": {}
    },
    {
      "cell_type": "code",
      "source": [
        "#Move an existing key to either end of an ordered dictionary. \n",
        "#The item is moved to the right end if last is true (the default)(Queue) or to the beginning if last is false (Stack).\n",
        "dic.move_to_end('b')\n",
        "dic"
      ],
      "outputs": [],
      "execution_count": null,
      "metadata": {}
    },
    {
      "cell_type": "code",
      "source": [
        "# The popitem() method for ordered dictionaries returns and removes a (key, value) pair. \n",
        "# The pairs are returned in LIFO order if last is true (Queue) or FIFO order if false (Stack). \n",
        "dic.popitem(last=False)\n",
        "dic"
      ],
      "outputs": [],
      "execution_count": null,
      "metadata": {}
    },
    {
      "cell_type": "code",
      "source": [
        "dic['c']"
      ],
      "outputs": [],
      "execution_count": null,
      "metadata": {}
    },
    {
      "cell_type": "code",
      "source": [
        "# regular unsorted dictionary\n",
        "d = {'banana': 3, 'apple': 4, 'pear': 1, 'orange': 2}\n",
        "\n",
        "# dictionary sorted by key\n",
        "OrderedDict(sorted(d.items(), key=lambda t: t[0]))\n",
        "#OrderedDict([('apple', 4), ('banana', 3), ('orange', 2), ('pear', 1)])\n",
        "\n",
        "# dictionary sorted by value\n",
        "OrderedDict(sorted(d.items(), key=lambda t: t[1]))\n",
        "# OrderedDict([('pear', 1), ('orange', 2), ('banana', 3), ('apple', 4)])"
      ],
      "outputs": [],
      "execution_count": null,
      "metadata": {}
    },
    {
      "cell_type": "code",
      "source": [
        "dic = OrderedDict()\n",
        "dic['a'] = 1\n",
        "dic['c'] = 4\n",
        "dic['b'] = 2\n",
        "len(dic)"
      ],
      "outputs": [],
      "execution_count": null,
      "metadata": {}
    },
    {
      "cell_type": "markdown",
      "source": [
        "## Tuples"
      ],
      "metadata": {}
    },
    {
      "cell_type": "code",
      "source": [
        "# Tuples\n",
        "t = ('a', 'b', 'c', 'd', 'e')\n",
        "t[0]\n",
        "t[1:3]"
      ],
      "outputs": [],
      "execution_count": null,
      "metadata": {}
    },
    {
      "cell_type": "code",
      "source": [
        "list1 = [1,2,3]\n",
        "list2 = [4,5,9]\n",
        "list3 = [5,3,4]\n",
        "x = zip(list1,list2,list3)\n",
        "l = list(x)\n",
        "l\n",
        "    \n",
        "a,b,c = zip(*l)\n",
        "a\n",
        "b\n",
        "c"
      ],
      "outputs": [],
      "execution_count": null,
      "metadata": {}
    },
    {
      "cell_type": "markdown",
      "source": [
        "## Set\n",
        "https://www.programiz.com/python-programming/set"
      ],
      "metadata": {}
    },
    {
      "cell_type": "code",
      "source": [
        "# set do not have duplicates\n",
        "# Output: {1, 2, 3, 4}\n",
        "x = {1,2,3,4,3,2}\n",
        "x\n",
        "\n",
        "# set cannot have mutable items\n",
        "# here [3, 4] is a mutable list\n",
        "# If you uncomment line #12,\n",
        "# this will cause an error.\n",
        "# TypeError: unhashable type: 'list'\n",
        "\n",
        "#my_set = {1, 2, [3, 4]}\n",
        "\n",
        "# we can make set from a list\n",
        "# Output: {1, 2, 3}\n",
        "y = set([1,2,3,2])\n",
        "y\n",
        "\n",
        "a = {1,3}\n",
        "a\n",
        "\n",
        "# add an element\n",
        "# Output: {1, 2, 3}\n",
        "a.add(2)\n",
        "a\n",
        "\n",
        "# add multiple elements\n",
        "# Output: {1, 2, 3, 4}\n",
        "a.update([2,3,4])\n",
        "a\n",
        "\n",
        "# add list and set\n",
        "# Output: {1, 2, 3, 4, 5, 6, 8}\n",
        "a.update([4,5], {1,6,8})\n",
        "a\n",
        "\n",
        "b = a.copy()"
      ],
      "outputs": [],
      "execution_count": null,
      "metadata": {}
    },
    {
      "cell_type": "code",
      "source": [
        "visited = set()\n",
        "visited.add((1,2))\n",
        "visited"
      ],
      "outputs": [
        {
          "output_type": "execute_result",
          "execution_count": 5,
          "data": {
            "text/plain": [
              "{(1, 2)}"
            ]
          },
          "metadata": {}
        }
      ],
      "execution_count": 5,
      "metadata": {}
    },
    {
      "cell_type": "code",
      "source": [
        "dic = {}\n",
        "dic[(1,2)] = 2\n",
        "dic"
      ],
      "outputs": [
        {
          "output_type": "execute_result",
          "execution_count": 7,
          "data": {
            "text/plain": [
              "{(1, 2): 2}"
            ]
          },
          "metadata": {}
        }
      ],
      "execution_count": 7,
      "metadata": {}
    },
    {
      "cell_type": "code",
      "source": [
        "(1,2) + (2,3)"
      ],
      "outputs": [
        {
          "output_type": "execute_result",
          "execution_count": 9,
          "data": {
            "text/plain": [
              "(1, 2, 2, 3)"
            ]
          },
          "metadata": {}
        }
      ],
      "execution_count": 9,
      "metadata": {}
    },
    {
      "cell_type": "markdown",
      "source": [
        "A particular item can be removed from set using methods, discard() and remove().\n",
        "\n",
        "The only difference between the two is that, while using discard() if the item does not exist in the set, it remains unchanged. But remove() will raise an error in such condition.\n",
        "\n",
        "Set being unordered, there is no way of determining which item will be popped. It is completely arbitrary."
      ],
      "metadata": {}
    },
    {
      "cell_type": "code",
      "source": [
        "# initialize my_set\n",
        "my_set = {1, 3, 4, 5, 6}\n",
        "print(my_set)\n",
        "\n",
        "my_set.discard(4)\n",
        "print(my_set) # Output: {1, 3, 5, 6}\n",
        "\n",
        "# discard an element not present in my_set\n",
        "my_set.discard(2)\n",
        "print(my_set) # Output: {1, 3, 5}\n",
        "\n",
        "my_set.remove(6)\n",
        "print(my_set) # Output: {1, 3, 5}\n",
        "\n",
        "# remove an element not present in my_set\n",
        "#my_set.remove(2) # Output: KeyError: 2\n",
        "\n",
        "my_set.clear()\n",
        "print(my_set) #Output: set()"
      ],
      "outputs": [],
      "execution_count": null,
      "metadata": {}
    },
    {
      "cell_type": "code",
      "source": [
        "# Set Union\n",
        "# initialize A and B\n",
        "A = {1, 2, 3, 4, 5}\n",
        "B = {4, 5, 6, 7, 8}\n",
        "\n",
        "# use | operator\n",
        "# Output: {1, 2, 3, 4, 5, 6, 7, 8}\n",
        "print(A | B)"
      ],
      "outputs": [],
      "execution_count": null,
      "metadata": {}
    },
    {
      "cell_type": "code",
      "source": [
        "# Set Intersection\n",
        "# initialize A and B\n",
        "A = {1, 2, 3, 4, 5}\n",
        "B = {4, 5, 6, 7, 8}\n",
        "\n",
        "# use & operator\n",
        "# Output: {4, 5}\n",
        "print(A & B)"
      ],
      "outputs": [],
      "execution_count": null,
      "metadata": {}
    },
    {
      "cell_type": "code",
      "source": [
        "# Set Difference\n",
        "# initialize A and B\n",
        "A = {1, 2, 3, 4, 5}\n",
        "B = {4, 5, 6, 7, 8}\n",
        "\n",
        "# use - operator on A\n",
        "# Output: {1, 2, 3}\n",
        "print(A - B)"
      ],
      "outputs": [],
      "execution_count": null,
      "metadata": {}
    },
    {
      "cell_type": "markdown",
      "source": [
        "![image.png](attachment:image.png)"
      ],
      "metadata": {}
    },
    {
      "cell_type": "code",
      "source": [
        "# Set Symmetric Difference\n",
        "# initialize A and B\n",
        "A = {1, 2, 3, 4, 5}\n",
        "B = {4, 5, 6, 7, 8}\n",
        "\n",
        "# use ^ operator\n",
        "# Output: {1, 2, 3, 6, 7, 8}\n",
        "print(A ^ B)"
      ],
      "outputs": [],
      "execution_count": null,
      "metadata": {}
    },
    {
      "cell_type": "markdown",
      "source": [
        "## Control Flow"
      ],
      "metadata": {}
    },
    {
      "cell_type": "code",
      "source": [
        "l = [1,2,3,4]\n",
        "for i in range(len(l)):\n",
        "    print(i)\n",
        "for n in l:\n",
        "    print(n)\n",
        "for i, n in enumerate(l):\n",
        "    print(i, n)"
      ],
      "outputs": [],
      "execution_count": null,
      "metadata": {}
    },
    {
      "cell_type": "code",
      "source": [
        "l1 = [1,2,3]\n",
        "l2 = [4,5,6]\n",
        "for n in l1:\n",
        "    for x in l2:\n",
        "        if n == 3:\n",
        "            break\n",
        "        print(n, x)"
      ],
      "outputs": [],
      "execution_count": null,
      "metadata": {}
    },
    {
      "cell_type": "code",
      "source": [
        "l = [3,2,3]\n",
        "for n in range(3):\n",
        "    while l:\n",
        "        if l[n] > 2:\n",
        "#             l.pop(0)\n",
        "            print(1)\n",
        "        else:\n",
        "            break"
      ],
      "outputs": [],
      "execution_count": null,
      "metadata": {}
    },
    {
      "cell_type": "code",
      "source": [
        "l = [3,2,3]\n",
        "for n in range(3):\n",
        "    while l:\n",
        "        if l[-1] > 2:\n",
        "            l.pop()\n",
        "            print(l)\n",
        "        else:\n",
        "            break\n",
        "    print(n)"
      ],
      "outputs": [],
      "execution_count": null,
      "metadata": {}
    },
    {
      "cell_type": "markdown",
      "source": [
        "## 操作符"
      ],
      "metadata": {}
    },
    {
      "cell_type": "markdown",
      "source": [
        "针对不同类型的数据，有各自专用的**操作符**。"
      ],
      "metadata": {}
    },
    {
      "cell_type": "markdown",
      "source": [
        "### 数值操作符"
      ],
      "metadata": {}
    },
    {
      "cell_type": "markdown",
      "source": [
        "针对数字进行计算的操作符有加减乘除商余幂：`+`、`-`、`*`、`/`、`//`、`%`、`**`。\n",
        "\n",
        "其中 `+` 和 `-` 可以对单个值进行操作，`-3`；其它的操作符需要有两个值才能操作。\n",
        "\n",
        "从优先级来看，这些操作符中：\n",
        "\n",
        "> * 对两个值进行操作的 `+`、`-` 的优先级最低；\n",
        "> * 稍高的是 `*`、`/`、`//`、`%`；\n",
        "> * 更高的是对单个值进行操作的 `+`、`-`；\n",
        "> * 优先级最高的是 `**`。\n",
        "\n",
        "完整的操作符优先级列表，参见官方文档：\n",
        "\n",
        "> https://docs.python.org/3/reference/expressions.html#operator-precedence\n",
        "\n"
      ],
      "metadata": {}
    },
    {
      "cell_type": "markdown",
      "source": [
        "### 逻辑操作符"
      ],
      "metadata": {}
    },
    {
      "cell_type": "markdown",
      "source": [
        "数值之间还可以使用逻辑操作符，`1 > 2` 返回布尔值 `False`。逻辑操作符有：`<`（小于）、`<=`（小于等于）、`>`（大于）、`>=`（大于等于）、`!=`（不等于）、`==`（等于）。\n",
        "\n",
        "逻辑操作符的优先级，高于布尔值的操作符，低于数值计算的操作符。\n",
        "即：数值计算的操作符优先级最高，其次是逻辑操作符，布尔值的操作符优先级最低。"
      ],
      "metadata": {}
    },
    {
      "cell_type": "code",
      "source": [
        "n = -95\n",
        "n < 0 and (n + 1) % 2 == 0"
      ],
      "outputs": [],
      "execution_count": null,
      "metadata": {}
    },
    {
      "cell_type": "code",
      "source": [
        "a = 3.5\n",
        "b = 3.5\n",
        "\n",
        "a + b == 7"
      ],
      "outputs": [],
      "execution_count": null,
      "metadata": {}
    },
    {
      "cell_type": "markdown",
      "source": [
        "### 布尔值操作符"
      ],
      "metadata": {}
    },
    {
      "cell_type": "markdown",
      "source": [
        "针对布尔值，操作符有`与`、`或`、`非`：`and`、`or`、`not`。\n",
        "\n",
        "它们之中，优先级最低的是或 `or`，然后是与 `and`, 优先级最高的是非 `not`："
      ],
      "metadata": {}
    },
    {
      "cell_type": "code",
      "source": [
        "True and False or not True"
      ],
      "outputs": [],
      "execution_count": null,
      "metadata": {}
    },
    {
      "cell_type": "markdown",
      "source": [
        "最先操作的是 `not`，因为它优先级最高。所以，上面的表达式相当于 `True and False or (not True)`，即相当于 `True and False or False`；\n",
        "\n",
        "然后是 `and`，所以，`True and False or False` 相当于是 `(True and False) or False`，即相当于 `False or False`；\n",
        "\n",
        "于是，最终的值是 `False`。"
      ],
      "metadata": {}
    },
    {
      "cell_type": "markdown",
      "source": [
        "### 字符串操作符"
      ],
      "metadata": {}
    },
    {
      "cell_type": "markdown",
      "source": [
        "针对字符串，有三种操作：\n",
        "\n",
        "> * 拼接：`+` 和 `' '`（后者是空格）\n",
        "> * 拷贝：`*`\n",
        "> * 逻辑运算：`in`、`not in`；以及，`<`、`<=`、`>`、`>=`、`!=`、`==` "
      ],
      "metadata": {}
    },
    {
      "cell_type": "code",
      "source": [
        "'Awesome' + 'Python'\n",
        "'Awesome' 'Python'\n",
        "'Python, ' + 'Awesome! ' * 3\n",
        "'o' in 'Awesome' and 'o' not in 'Python'"
      ],
      "outputs": [],
      "execution_count": null,
      "metadata": {}
    },
    {
      "cell_type": "markdown",
      "source": [
        "字符之间，字符串之间，除了 `==` 和 `!=` 之外，也都可以被逻辑操作符 `<`、`<=`、`>`、`>=` 运算："
      ],
      "metadata": {}
    },
    {
      "cell_type": "code",
      "source": [
        "'a' < 'b'"
      ],
      "outputs": [],
      "execution_count": null,
      "metadata": {}
    },
    {
      "cell_type": "markdown",
      "source": [
        "这是因为字符对应着 Unicode 码，字符在被比较的时候，被比较的是对应的 Unicode 码。"
      ],
      "metadata": {}
    },
    {
      "cell_type": "code",
      "source": [
        "'A' > 'a'\n",
        "ord('A')\n",
        "ord('a')"
      ],
      "outputs": [],
      "execution_count": null,
      "metadata": {}
    },
    {
      "cell_type": "markdown",
      "source": [
        "当字符串被比较的时候，将从两个字符串各自的第一个字符开始逐个比较，“一旦决出胜负马上停止”："
      ],
      "metadata": {}
    },
    {
      "cell_type": "code",
      "source": [
        "'PYTHON' > 'Python 3'"
      ],
      "outputs": [],
      "execution_count": null,
      "metadata": {}
    },
    {
      "cell_type": "markdown",
      "source": [
        "### 列表的操作符"
      ],
      "metadata": {}
    },
    {
      "cell_type": "markdown",
      "source": [
        "数字和字符串（由字符构成的序列）是最基本的数据类型，而我们往往需要批量处理数字和字符串，这样的时候，我们需要**数组**（Array）。不过，在 Python 语言中，它提供了一个**容器**（Container）的概念，用来容纳批量的数据。\n",
        "\n",
        "Python 的容器有很多种 —— 字符串，其实也是容器的一种，它的里面容纳着批量的字符。\n",
        "\n",
        "我们先简单接触一下另外一种容器：**列表**（List）。\n",
        "\n",
        "列表的标示，用方括号 `[]`；举例来说，`[1, 2, 3, 4, 5]` 和 `['ann', 'bob', 'cindy', 'dude', 'eric']`，或者 `['a', 2, 'b', 32, 22, 12]` 都是一个列表。\n",
        "\n",
        "因为列表和字符串一样，都是*有序容器*（容器还有另外一种是无序容器），所以，它们可用的操作符其实相同：\n",
        "\n",
        "> * 拼接：`+` 和 `' '`（后者是空格）\n",
        "> * 拷贝：`*`\n",
        "> * 逻辑运算：`in`、`not in`；以及，`<`、`<=`、`>`、`>=`、`!=`、`==`\n",
        "\n",
        "两个列表在比较时（前提是两个列表中的数据元素类型相同），遵循的还是跟字符串比较相同的规则：“一旦决出胜负马上停止”。但实际上，由于列表中可以包含不同类型的元素，所以，通常情况下没有实际需求对他们进行 “大于、小于” 的比较。（比较时，类型不同会引发 `TypeError`……）"
      ],
      "metadata": {}
    },
    {
      "cell_type": "code",
      "source": [
        "a_list = [1, 2, 3, 4, 5]\n",
        "b_list = [1, 2, 3, 5]\n",
        "c_list = ['ann', 'bob', 'cindy', 'dude', 'eric']\n",
        "a_list > b_list\n",
        "10 not in a_list\n",
        "'ann' in c_list"
      ],
      "outputs": [],
      "execution_count": null,
      "metadata": {}
    },
    {
      "cell_type": "markdown",
      "source": [
        "## 关于布尔值的补充"
      ],
      "metadata": {}
    },
    {
      "cell_type": "markdown",
      "source": [
        "当你看到以下这样的表达式，而后再看看它的结果，你可能会多少有点迷惑："
      ],
      "metadata": {}
    },
    {
      "cell_type": "code",
      "source": [
        "True or 'Python'"
      ],
      "outputs": [],
      "execution_count": null,
      "metadata": {}
    },
    {
      "cell_type": "code",
      "source": [
        "a = 'abc'\n",
        "b = 'abd'\n",
        "a and b\n",
        "a or b\n",
        "'c' and 'd'\n",
        "'c' or 'd'\n",
        "\n",
        "c = []\n",
        "d = [1,2,3]\n",
        "c and d\n",
        "c or d"
      ],
      "outputs": [],
      "execution_count": null,
      "metadata": {}
    },
    {
      "cell_type": "markdown",
      "source": [
        "这是因为 Python 将 `True` 定义为：\n",
        "\n",
        "> By default, an object is considered true unless its class defines either a \\_\\_bool\\_\\_() method that returns `False` or a \\_\\_len\\_\\_() method that returns zero, when called with the object.\n",
        ">\n",
        "> https://docs.python.org/3/library/stdtypes.html#truth-value-testing\n",
        "\n",
        "这一段文字，初学者是看不懂的。但下一段就好理解了：\n",
        "\n",
        "> Here are most of the built-in objects considered `False`:\n",
        "> \n",
        "> > * constants defined to be false: `None` and `False`.\n",
        "> > * zero of any numeric type: `0`, `0.0`, `0j`, `Decimal(0)`, `Fraction(0, 1)`\n",
        "> > * empty sequences and collections: `''`, `()`, `[]`, `{}`, `set()`, `range(0)`\n",
        "\n",
        "所以，`'Python'` 是个非空的字符串，即，不属于是 `empty sequences`，所以它不被认为是 `False`，即，它的布尔值是 `True`\n",
        "\n",
        "于是，这么理解就轻松了：\n",
        "\n",
        "> 每个变量或者常量，除了它们的值之外，同时还相当于有一个对应的布尔值。\n"
      ],
      "metadata": {}
    },
    {
      "cell_type": "code",
      "source": [
        "if '' == True:\n",
        "    print('yes')\n",
        "else:\n",
        "    print('no')"
      ],
      "outputs": [],
      "execution_count": null,
      "metadata": {}
    },
    {
      "cell_type": "code",
      "source": [
        "if '' == False:\n",
        "    print('yes')\n",
        "else:\n",
        "    print('no')"
      ],
      "outputs": [],
      "execution_count": null,
      "metadata": {}
    },
    {
      "cell_type": "code",
      "source": [
        "'' != True"
      ],
      "outputs": [],
      "execution_count": null,
      "metadata": {}
    },
    {
      "cell_type": "code",
      "source": [
        "'' == False"
      ],
      "outputs": [],
      "execution_count": null,
      "metadata": {}
    },
    {
      "cell_type": "markdown",
      "source": [
        "## Built-in functions\n",
        "\n",
        "https://www.programiz.com/python-programming/methods/built-in"
      ],
      "metadata": {}
    },
    {
      "cell_type": "code",
      "source": [
        "print('I love {0} and {1}'.format('bread','butter'))\n",
        "# Output: I love bread and butter\n",
        "\n",
        "print('I love {1} and {0}'.format('bread','butter'))\n",
        "# Output: I love butter and bread\n",
        "\n",
        "print('Hello {name}, {greeting}'.format(greeting = 'Goodmorning', name = 'John'))"
      ],
      "outputs": [],
      "execution_count": null,
      "metadata": {}
    },
    {
      "cell_type": "code",
      "source": [
        "name = 'Ann'\n",
        "age = '22'\n",
        "print(f'{name} is {age} years old.')"
      ],
      "outputs": [],
      "execution_count": null,
      "metadata": {}
    },
    {
      "cell_type": "code",
      "source": [
        "print('hello world\\nss',2,sep='\\n')"
      ],
      "outputs": [],
      "execution_count": null,
      "metadata": {}
    },
    {
      "cell_type": "code",
      "source": [
        "x = 'spam'\n",
        "y = 99\n",
        "z = ['eggs']\n",
        "print(x, y, z)\n",
        "print(x,y,z,sep='\\n')\n"
      ],
      "outputs": [],
      "execution_count": null,
      "metadata": {}
    },
    {
      "cell_type": "code",
      "source": [
        "print('hello\\ngood')"
      ],
      "outputs": [],
      "execution_count": null,
      "metadata": {}
    },
    {
      "cell_type": "code",
      "source": [
        "help()\n",
        "dir()\n",
        "a = input(‘Who are you: ’)\n",
        "# print(‘{} is something'.format(variablename))\n",
        "type(), raw_input(), float(), int()\n",
        "round(1.68, 1) —> 1.7\n",
        "max()\n",
        "sorted()"
      ],
      "outputs": [],
      "execution_count": null,
      "metadata": {}
    },
    {
      "cell_type": "code",
      "source": [
        "abs(-4)"
      ],
      "outputs": [],
      "execution_count": null,
      "metadata": {}
    },
    {
      "cell_type": "code",
      "source": [
        "chr(3)"
      ],
      "outputs": [],
      "execution_count": null,
      "metadata": {}
    },
    {
      "cell_type": "code",
      "source": [
        "ord('A')"
      ],
      "outputs": [],
      "execution_count": null,
      "metadata": {}
    },
    {
      "cell_type": "code",
      "source": [
        "# filter(function, iterative)\n",
        "\n",
        "# Program to filter out only the even items from a list\n",
        "\n",
        "my_list = [1, 5, 4, 6, 8, 11, 3, 12]\n",
        "\n",
        "new_list = list(filter(lambda x: (x%2 == 0) , my_list))\n",
        "\n",
        "# Output: [4, 6, 8, 12]\n",
        "print(new_list)"
      ],
      "outputs": [],
      "execution_count": null,
      "metadata": {}
    },
    {
      "cell_type": "code",
      "source": [
        "# map(function, iterative, more iter...)\n",
        "\n",
        "numbers = (1, 2, 3, 4)\n",
        "result = list(map(lambda x: x*x, numbers))\n",
        "print(result)     "
      ],
      "outputs": [],
      "execution_count": null,
      "metadata": {}
    },
    {
      "cell_type": "code",
      "source": [
        "num1 = [4, 5, 6]\n",
        "num2 = [5, 6, 7]\n",
        "\n",
        "result = list(map(lambda n1, n2: n1+n2, num1, num2))\n",
        "print(result)"
      ],
      "outputs": [],
      "execution_count": null,
      "metadata": {}
    },
    {
      "cell_type": "code",
      "source": [
        "# zip(*iterables)\n",
        "# The zip() function take iterables (can be zero or more), makes iterator that aggregates elements \n",
        "# based on the iterables passed, and returns an iterator of tuples.\n",
        "zip()"
      ],
      "outputs": [],
      "execution_count": null,
      "metadata": {}
    },
    {
      "cell_type": "markdown",
      "source": [
        "any() returns:\n",
        "\n",
        "* True if at least one element of an iterable is true\n",
        "* False if all elements are false or if an iterable is empty"
      ],
      "metadata": {}
    },
    {
      "cell_type": "code",
      "source": [
        "l = [1, 3, 4, 0]\n",
        "print(any(l))\n",
        "\n",
        "l = [0, False]\n",
        "print(any(l))\n",
        "\n",
        "l = [0, False, 5]\n",
        "print(any(l))\n",
        "\n",
        "l = []\n",
        "print(any(l))"
      ],
      "outputs": [],
      "execution_count": null,
      "metadata": {}
    },
    {
      "cell_type": "markdown",
      "source": [
        "The all() method returns:\n",
        "\n",
        "* True - If all elements in an iterable are true  \n",
        "* False - If any element in an iterable is false"
      ],
      "metadata": {}
    },
    {
      "cell_type": "code",
      "source": [
        "# all values true\n",
        "l = [1, 3, 4, 5]\n",
        "print(all(l))\n",
        "\n",
        "# all values false\n",
        "l = [0, False]\n",
        "print(all(l))\n",
        "\n",
        "# one false value\n",
        "l = [1, 3, 4, 0]\n",
        "print(all(l))\n",
        "\n",
        "# one true value\n",
        "l = [0, False, 5]\n",
        "print(all(l))\n",
        "\n",
        "# empty iterable\n",
        "l = []\n",
        "print(all(l))"
      ],
      "outputs": [],
      "execution_count": null,
      "metadata": {}
    },
    {
      "cell_type": "markdown",
      "source": [
        "## Functions"
      ],
      "metadata": {}
    },
    {
      "cell_type": "code",
      "source": [
        "yield\n",
        "\n",
        "keywords"
      ],
      "outputs": [],
      "execution_count": null,
      "metadata": {}
    },
    {
      "cell_type": "markdown",
      "source": [
        "yield()\n",
        "https://stackoverflow.com/questions/231767/what-does-the-yield-keyword-do"
      ],
      "metadata": {}
    },
    {
      "cell_type": "code",
      "source": [
        "# Program to show the use of lambda functions\n",
        "\n",
        "double = lambda x: x * 2\n",
        "\n",
        "# Output: 10\n",
        "print(double(5))"
      ],
      "outputs": [],
      "execution_count": null,
      "metadata": {}
    },
    {
      "cell_type": "code",
      "source": [
        "def function(x, y = 1, z = 2):\n",
        "    return x + y + z\n",
        "\n",
        "function(x=3, z=5)"
      ],
      "outputs": [],
      "execution_count": null,
      "metadata": {}
    },
    {
      "cell_type": "markdown",
      "source": [
        "## Class and Object"
      ],
      "metadata": {}
    },
    {
      "cell_type": "code",
      "source": [
        "class Parrot:\n",
        "    a = 10\n",
        "    # instance attributes\n",
        "    def __init__(self, name, age):\n",
        "        self.name = name\n",
        "        self.age = age\n",
        "    \n",
        "    # instance method\n",
        "    def sing(self, song):\n",
        "        return \"{} sings {}\".format(self.name, song)\n",
        "\n",
        "    def dance(self):\n",
        "        return \"{} is now dancing\".format(self.name)\n",
        "\n",
        "# instantiate the object\n",
        "blu = Parrot(\"Blu\", 10)\n",
        "\n",
        "# call our instance methods\n",
        "print(blu.sing(\"'Happy'\"))\n",
        "print(blu.dance())\n",
        "blu"
      ],
      "outputs": [],
      "execution_count": null,
      "metadata": {}
    },
    {
      "cell_type": "code",
      "source": [
        "class PartyAnimal:\n",
        "    x = 0\n",
        "    name = ''\n",
        "    def __init__(self, nam):\n",
        "        self.name = nam\n",
        "        print(self.name,'constructed')\n",
        "\n",
        "    def party(self) :\n",
        "        self.x = self.x + 1\n",
        "        print(self.name,'party count',self.x)\n",
        "\n",
        "class CricketFan(PartyAnimal):\n",
        "    points = 0\n",
        "    def six(self):\n",
        "        self.points = self.points + 6\n",
        "        self.party()\n",
        "        print(self.name,\"points\",self.points)\n",
        "\n",
        "s = PartyAnimal(\"Sally\")\n",
        "s.party()\n",
        "j = CricketFan(\"Jim\")\n",
        "j.party()\n",
        "j.six()\n",
        "print(dir(j))\n",
        "type(s)"
      ],
      "outputs": [],
      "execution_count": null,
      "metadata": {}
    },
    {
      "cell_type": "code",
      "source": [
        "class MyClass:\n",
        "\t\"This is my second class\"\n",
        "\ta = 10\n",
        "\tb = 2\n",
        "\tdef func(self):\n",
        "\t\tprint('Hello', self.a, self.b)\n",
        "\n",
        "# create a new MyClass\n",
        "ob = MyClass()\n",
        "\n",
        "ob.func()"
      ],
      "outputs": [],
      "execution_count": null,
      "metadata": {}
    },
    {
      "cell_type": "markdown",
      "source": [
        "On the command del c1, this binding is removed and the name c1 is deleted from the corresponding namespace. The object however continues to exist in memory and if no other name is bound to it, it is later automatically destroyed.\n",
        "\n",
        "This automatic destruction of unreferenced objects in Python is also called garbage collection.\n",
        "\n",
        "![image.png](attachment:image.png)"
      ],
      "metadata": {}
    },
    {
      "cell_type": "markdown",
      "source": [
        "### Inheritance"
      ],
      "metadata": {}
    },
    {
      "cell_type": "code",
      "source": [
        "# parent class\n",
        "class Bird:\n",
        "    \n",
        "    def __init__(self):\n",
        "        print(\"Bird is ready\")\n",
        "\n",
        "    def whoisThis(self):\n",
        "        print(\"Bird\")\n",
        "\n",
        "    def swim(self):\n",
        "        print(\"Swim faster\")\n",
        "\n",
        "# child class\n",
        "class Penguin(Bird):\n",
        "\n",
        "    def __init__(self):\n",
        "        # call super() function\n",
        "        super().__init__()\n",
        "        print(\"Penguin is ready\")\n",
        "\n",
        "    def whoisThis(self):\n",
        "        print(\"Penguin\")\n",
        "\n",
        "    def run(self):\n",
        "        print(\"Run faster\")\n",
        "\n",
        "peggy = Penguin()\n",
        "peggy.whoisThis()\n",
        "peggy.swim()\n",
        "peggy.run()"
      ],
      "outputs": [],
      "execution_count": null,
      "metadata": {}
    },
    {
      "cell_type": "code",
      "source": [
        "class Polygon:\n",
        "    def __init__(self, no_of_sides):\n",
        "        self.n = no_of_sides\n",
        "        self.sides = [0 for i in range(no_of_sides)]\n",
        "\n",
        "    def inputSides(self):\n",
        "        self.sides = [float(input(\"Enter side \"+str(i+1)+\" : \")) for i in range(self.n)]\n",
        "\n",
        "    def dispSides(self):\n",
        "        for i in range(self.n):\n",
        "            print(\"Side\",i+1,\"is\",self.sides[i])\n",
        "            \n",
        "c = Polygon(3)\n",
        "c.inputSides()\n",
        "# c.dispSides()"
      ],
      "outputs": [],
      "execution_count": null,
      "metadata": {}
    },
    {
      "cell_type": "code",
      "source": [
        "class Triangle(Polygon):\n",
        "    def __init__(self):\n",
        "        Polygon.__init__(self,3) # super().__init__(3)\n",
        "\n",
        "    def findArea(self):\n",
        "        a, b, c = self.sides\n",
        "        # calculate the semi-perimeter\n",
        "        s = (a + b + c) / 2\n",
        "        area = (s*(s-a)*(s-b)*(s-c)) ** 0.5\n",
        "        print('The area of the triangle is %0.2f' %area)"
      ],
      "outputs": [],
      "execution_count": null,
      "metadata": {}
    },
    {
      "cell_type": "markdown",
      "source": [
        "### Encapsulation\n",
        "\n",
        "Using OOP in Python, we can restrict access to methods and variables. This prevent data from direct modification which is called encapsulation. In Python, we denote private attribute using underscore as prefix i.e single “ _ “ or double “ __“.\n",
        "\n",
        "In the above program, we defined a class Computer. We use ..init..() method to store the maximum selling price of computer. We tried to modify the price. However, we can’t change it because Python treats the __maxprice as private attributes. To change the value, we used a setter function i.e setMaxPrice() which takes price as parameter."
      ],
      "metadata": {}
    },
    {
      "cell_type": "code",
      "source": [
        "class Computer:\n",
        "\n",
        "    def __init__(self):\n",
        "        self.__maxprice = 900\n",
        "\n",
        "    def sell(self):\n",
        "        print(\"Selling Price: {}\".format(self.__maxprice))\n",
        "\n",
        "    def setMaxPrice(self, price):\n",
        "        self.__maxprice = price\n",
        "\n",
        "c = Computer()\n",
        "c.sell()\n",
        "\n",
        "# change the price\n",
        "c.__maxprice = 1000\n",
        "c.sell()\n",
        "\n",
        "# using setter function\n",
        "c.setMaxPrice(1000)\n",
        "c.sell()"
      ],
      "outputs": [],
      "execution_count": null,
      "metadata": {}
    },
    {
      "cell_type": "markdown",
      "source": [
        "#### Private variables"
      ],
      "metadata": {}
    },
    {
      "cell_type": "code",
      "source": [
        "class P:\n",
        "    def __init__(self, name, alias):\n",
        "        self.name = name       # public\n",
        "        self.__alias = alias   # private\n",
        "\n",
        "    def who(self):\n",
        "        print('name  : ', self.name)\n",
        "        print('alias : ', self.__alias)\n",
        "    \n",
        "    def iss(self):\n",
        "        return self.__alias\n",
        "    \n",
        "x = P(name='Alex', alias='amen')\n",
        "print(x._P__alias)\n",
        "print(x.iss())\n"
      ],
      "outputs": [],
      "execution_count": null,
      "metadata": {}
    },
    {
      "cell_type": "code",
      "source": [
        "class P:\n",
        "    def __init__(self, name, alias):\n",
        "        self.name = name       # public\n",
        "        self._alias = alias   # nonpublic\n",
        "\n",
        "    def who(self):\n",
        "        print('name  : ', self.name)\n",
        "        print('alias : ', self._alias)\n",
        "    \n",
        "    def iss(self):\n",
        "        return self._alias\n",
        "    \n",
        "x = P(name='Alex', alias='amen')\n",
        "print(x._alias)\n",
        "print(x.iss())"
      ],
      "outputs": [],
      "execution_count": null,
      "metadata": {}
    },
    {
      "cell_type": "markdown",
      "source": [
        "### Polymorphism"
      ],
      "metadata": {}
    },
    {
      "cell_type": "code",
      "source": [
        "class Parrot:\n",
        "\n",
        "    def fly(self):\n",
        "        print(\"Parrot can fly\")\n",
        "    \n",
        "    def swim(self):\n",
        "        print(\"Parrot can't swim\")\n",
        "\n",
        "class Penguin:\n",
        "\n",
        "    def fly(self):\n",
        "        print(\"Penguin can't fly\")\n",
        "    \n",
        "    def swim(self):\n",
        "        print(\"Penguin can swim\")\n",
        "\n",
        "# common interface\n",
        "def flying_test(bird):\n",
        "    bird.fly()\n",
        "\n",
        "#instantiate objects\n",
        "blu = Parrot()\n",
        "peggy = Penguin()\n",
        "\n",
        "# passing the object\n",
        "flying_test(blu)\n",
        "flying_test(peggy)"
      ],
      "outputs": [],
      "execution_count": null,
      "metadata": {}
    },
    {
      "cell_type": "markdown",
      "source": [
        "We can see that, even though we did not define methods like **inputSides()** or **dispSides()** for class Triangle, we were able to use them.\n",
        "\n",
        "If an attribute is not found in the class, search continues to the base class. This repeats recursively, if the base class is itself derived from other classes.\n",
        "\n",
        "Generally when overriding a base method, we tend to extend the definition rather than simply replace it. The same is being done by calling the method in base class from the one in derived class (calling Polygon.__init__() from __init__() in Triangle).\n",
        "\n",
        "A better option would be to use the built-in function **super()**. So, **super().__init__(3)** is equivalent to **Polygon.__init__(self,3)** and is preferred. You can learn more about the "
      ],
      "metadata": {}
    },
    {
      "cell_type": "markdown",
      "source": [
        "### Generator"
      ],
      "metadata": {}
    },
    {
      "cell_type": "code",
      "source": [
        "# mylist = [x*x for x in range(3)]\n",
        "# for i in mylist:\n",
        "#     print(i)\n",
        "    \n",
        "\n",
        "mygenerator = (x*x for x in range(3))\n",
        "for i in mygenerator:\n",
        "    print(i)\n",
        "    \n",
        "# def createGenerator():\n",
        "#     mylist = range(3)\n",
        "#     for i in mylist:\n",
        "#         yield i*i\n",
        "\n",
        "# mygenerator = createGenerator()\n",
        "print(mygenerator)\n",
        "# for i in mygenerator:\n",
        "#     print(i)\n",
        "    \n",
        "    \n",
        "[*range(3)]"
      ],
      "outputs": [],
      "execution_count": null,
      "metadata": {}
    },
    {
      "cell_type": "code",
      "source": [
        "def x(n):\n",
        "    n = 1\n",
        "    print(n)\n",
        "    return n\n",
        "\n",
        "x(2)\n",
        "# type(x(2))"
      ],
      "outputs": [],
      "execution_count": null,
      "metadata": {}
    },
    {
      "cell_type": "markdown",
      "source": [
        "### Decorators"
      ],
      "metadata": {}
    },
    {
      "cell_type": "code",
      "source": [
        "def inc(x):\n",
        "    return x + 1\n",
        "\n",
        "def dec(x):\n",
        "    return x - 1\n",
        "\n",
        "def operate(func, x):\n",
        "    result = func(x)\n",
        "    return result\n",
        "\n",
        "operate(inc,3)"
      ],
      "outputs": [],
      "execution_count": null,
      "metadata": {}
    },
    {
      "cell_type": "code",
      "source": [
        "def make_pretty(func):\n",
        "    def inner():\n",
        "        print(\"I got decorated\")\n",
        "        func()\n",
        "    return inner\n",
        "\n",
        "def ordinary():\n",
        "    print(\"I am ordinary\")\n",
        "    \n",
        "# ordinary = make_pretty(ordinary)\n",
        "# ordinary()\n",
        "\n",
        "@make_pretty\n",
        "def ordinary():\n",
        "    print(\"I am ordinary\")\n",
        "    \n",
        "# equivalent to \n",
        "# def ordinary():\n",
        "#     print(\"I am ordinary\")\n",
        "# ordinary = make_pretty(ordinary)\n",
        "    \n",
        "ordinary()"
      ],
      "outputs": [],
      "execution_count": null,
      "metadata": {}
    },
    {
      "cell_type": "code",
      "source": [
        "def smart_divide(func):\n",
        "    def inner(a,b):\n",
        "        print(\"I am going to divide\",a,\"and\",b)\n",
        "        if b == 0:\n",
        "            print(\"Whoops! cannot divide\")\n",
        "             return\n",
        "\n",
        "        return func(a,b)\n",
        "    return inner\n",
        "\n",
        "@smart_divide\n",
        "def divide(a,b):\n",
        "    return a/b"
      ],
      "outputs": [],
      "execution_count": null,
      "metadata": {}
    },
    {
      "cell_type": "markdown",
      "source": [
        "*args (Non Keyword Arguments)\n",
        "**kwargs (Keyword Arguments)"
      ],
      "metadata": {}
    },
    {
      "cell_type": "code",
      "source": [
        "def star(func):\n",
        "    def inner(*args, **kwargs):\n",
        "        print(\"*\" * 30)\n",
        "        func(*args, **kwargs)\n",
        "        print(\"*\" * 30)\n",
        "    return inner\n",
        "\n",
        "def percent(func):\n",
        "    def inner(*args, **kwargs):\n",
        "        print(\"%\" * 30)\n",
        "        func(*args, **kwargs)\n",
        "        print(\"%\" * 30)\n",
        "    return inner\n",
        "\n",
        "@star\n",
        "@percent\n",
        "def printer(msg):\n",
        "    print(msg)\n",
        "    \n",
        "# equivalent to\n",
        "# def printer(msg):\n",
        "#     print(msg)\n",
        "# printer = star(percent(printer))\n",
        "\n",
        "printer(\"Hello\")"
      ],
      "outputs": [],
      "execution_count": null,
      "metadata": {}
    },
    {
      "cell_type": "markdown",
      "source": [
        "### @property"
      ],
      "metadata": {}
    },
    {
      "cell_type": "code",
      "source": [
        "class Celsius:\n",
        "    def __init__(self, temperature = 0):\n",
        "        self.set_temperature(temperature)\n",
        "\n",
        "    def to_fahrenheit(self):\n",
        "        return (self.get_temperature() * 1.8) + 32\n",
        "\n",
        "    # new update\n",
        "    def get_temperature(self):\n",
        "        return self._temperature\n",
        "\n",
        "    def set_temperature(self, value):\n",
        "        if value < -273:\n",
        "            raise ValueError(\"Temperature below -273 is not possible\")\n",
        "        self._temperature = value\n",
        "        \n",
        "c = Celsius(37)\n",
        "c.temperature = 23\n",
        "c.get_temperature()"
      ],
      "outputs": [],
      "execution_count": null,
      "metadata": {}
    },
    {
      "cell_type": "code",
      "source": [
        "class Celsius:\n",
        "    def __init__(self, temperature = 0):\n",
        "        self._temperature = temperature\n",
        "\n",
        "    def to_fahrenheit(self):\n",
        "        return (self.temperature * 1.8) + 32\n",
        "\n",
        "    def get_temperature(self):\n",
        "        print(\"Getting value\")\n",
        "        return self._temperature\n",
        "\n",
        "    def set_temperature(self, value):\n",
        "        if value < -273:\n",
        "            raise ValueError(\"Temperature below -273 is not possible\")\n",
        "        print(\"Setting value\")\n",
        "        self._temperature = value\n",
        "\n",
        "    temperature = property(get_temperature,set_temperature)\n",
        "    \n",
        "#     # make empty property\n",
        "#     temperature = property()\n",
        "#     # assign fget\n",
        "#     temperature = temperature.getter(get_temperature)\n",
        "#     # assign fset\n",
        "#     temperature = temperature.setter(set_temperature)\n",
        "\n",
        "c = Celsius()\n",
        "# c.temperature\n",
        "c.to_fahrenheit()"
      ],
      "outputs": [],
      "execution_count": null,
      "metadata": {}
    },
    {
      "cell_type": "markdown",
      "source": [
        "Which is also equivalent to below"
      ],
      "metadata": {}
    },
    {
      "cell_type": "code",
      "source": [
        "class Celsius:\n",
        "    def __init__(self, temperature = 0):\n",
        "        self._temperature = temperature\n",
        "\n",
        "    def to_fahrenheit(self):\n",
        "        return (self.temperature * 1.8) + 32\n",
        "\n",
        "    @property\n",
        "    def temperature(self):\n",
        "        print(\"Getting value\")\n",
        "        return self._temperature\n",
        "\n",
        "    @temperature.setter\n",
        "    def temperature(self, value):\n",
        "        if value < -273:\n",
        "            raise ValueError(\"Temperature below -273 is not possible\")\n",
        "        print(\"Setting value\")\n",
        "        self._temperature = value\n",
        "        \n",
        "c = Celsius()\n",
        "c.to_fahrenheit()\n",
        "# c.temperature "
      ],
      "outputs": [],
      "execution_count": null,
      "metadata": {}
    },
    {
      "cell_type": "code",
      "source": [
        "class Person:\n",
        "    def __init__(self, name): \n",
        "        self._name = name\n",
        "    \n",
        "    @property\n",
        "    def name(self):\n",
        "        print('fetch')\n",
        "        return self._name\n",
        "    \n",
        "    @name.setter\n",
        "    def name(self,value):\n",
        "        print('change')\n",
        "        self_name = value\n",
        "        \n",
        "    @name.deleter\n",
        "    def name(self):\n",
        "        print('remove')\n",
        "        del self._name\n",
        "        \n",
        "bob = Person('Bob Smith')\n",
        "print(bob.name)"
      ],
      "outputs": [],
      "execution_count": null,
      "metadata": {}
    },
    {
      "cell_type": "code",
      "source": [
        "def intro(*d, **data):\n",
        "    print(\"\\nData type of argument:\",type(data))\n",
        "    print(data)\n",
        "    print(d)\n",
        "#     for key, value in data.items():\n",
        "#         print(\"{} is {}\".format(key,value))\n",
        "\n",
        "intro(3,Firstname=\"Sita\", Lastname=\"Sharma\", Age=22, Phone=1234567890)\n",
        "intro(Firstname=\"John\", Lastname=\"Wood\", Email=\"johnwood@nomail.com\", Country=\"Wakanda\", Age=25, Phone=9876543210)"
      ],
      "outputs": [],
      "execution_count": null,
      "metadata": {}
    },
    {
      "cell_type": "code",
      "source": [
        "foo = 100\n",
        " \n",
        "def hello():\n",
        "    print(\"i am from my_module.py\")\n",
        "\n",
        "if __name__ == \"__main__\":\n",
        "    print(\"Executing as main program\")\n",
        "    print(\"Value of __name__ is: \", __name__)\n",
        "    hello()"
      ],
      "outputs": [],
      "execution_count": null,
      "metadata": {}
    },
    {
      "cell_type": "markdown",
      "source": [
        "## File I/O\n",
        "\n",
        "https://www.programiz.com/python-programming/file-operation"
      ],
      "metadata": {}
    },
    {
      "cell_type": "code",
      "source": [
        "with open(\"test.txt\",encoding = 'utf-8') as f:\n",
        "   # perform file operations"
      ],
      "outputs": [],
      "execution_count": null,
      "metadata": {}
    },
    {
      "cell_type": "markdown",
      "source": [
        "## Error Handing\n",
        "\n",
        "https://www.programiz.com/python-programming/exceptions"
      ],
      "metadata": {}
    },
    {
      "cell_type": "code",
      "source": [
        "try:\n",
        "    a = int(input(\"Enter a positive integer: \"))\n",
        "    if a <= 0:\n",
        "        raise ValueError(\"That is not a positive number!\")\n",
        "except ValueError as vs:\n",
        "    print(vs)\n",
        "  "
      ],
      "outputs": [
        {
          "output_type": "stream",
          "name": "stdin",
          "text": [
            "Enter a positive integer:  -1\n"
          ]
        },
        {
          "output_type": "stream",
          "name": "stdout",
          "text": [
            "That is not a positive number!\n"
          ]
        }
      ],
      "execution_count": 30,
      "metadata": {}
    },
    {
      "cell_type": "code",
      "source": [
        "def reciprocal(num):\n",
        "    try:\n",
        "        r = 1/num\n",
        "    except:\n",
        "        print('Exception caught')\n",
        "        return None\n",
        "    return r\n",
        "\n",
        "print(reciprocal(10))\n",
        "print(reciprocal(0))"
      ],
      "outputs": [],
      "execution_count": null,
      "metadata": {}
    },
    {
      "cell_type": "markdown",
      "source": [
        "## Debug\n",
        "Print()  \n",
        "assert  \n",
        "Divide  \n",
        "debugger  \n",
        "\n",
        "1. Do not use a “debugger.” A debugger is like doing a full-body scan on a sick person. You do not get any speciﬁc useful information, and you ﬁnd a whole lot of information that doesn’t help and is just confusing\n",
        "2. The best way to debug a program is to use print to print out the values of variables at points in the program to see where they go wrong.\n",
        "3. Make sure parts of your programs work as you work on them. Do not write massive ﬁle of code before you try to run them. Code a little, run a little, ﬁx a little."
      ],
      "metadata": {}
    },
    {
      "cell_type": "code",
      "source": [
        "def avg(marks):\n",
        "    assert len(marks) != 0\n",
        "    return sum(marks)/len(marks)\n",
        "\n",
        "mark1 = []\n",
        "print(\"Average of mark1:\", avg(mark1))"
      ],
      "outputs": [
        {
          "output_type": "error",
          "ename": "AssertionError",
          "evalue": "",
          "traceback": [
            "\u001b[0;31m---------------------------------------------------------------------------\u001b[0m",
            "\u001b[0;31mAssertionError\u001b[0m                            Traceback (most recent call last)",
            "\u001b[0;32m<ipython-input-1-f99d3eaaaacd>\u001b[0m in \u001b[0;36m<module>\u001b[0;34m\u001b[0m\n\u001b[1;32m      4\u001b[0m \u001b[0;34m\u001b[0m\u001b[0m\n\u001b[1;32m      5\u001b[0m \u001b[0mmark1\u001b[0m \u001b[0;34m=\u001b[0m \u001b[0;34m[\u001b[0m\u001b[0;34m]\u001b[0m\u001b[0;34m\u001b[0m\u001b[0;34m\u001b[0m\u001b[0m\n\u001b[0;32m----> 6\u001b[0;31m \u001b[0mprint\u001b[0m\u001b[0;34m(\u001b[0m\u001b[0;34m\"Average of mark1:\"\u001b[0m\u001b[0;34m,\u001b[0m \u001b[0mavg\u001b[0m\u001b[0;34m(\u001b[0m\u001b[0mmark1\u001b[0m\u001b[0;34m)\u001b[0m\u001b[0;34m)\u001b[0m\u001b[0;34m\u001b[0m\u001b[0;34m\u001b[0m\u001b[0m\n\u001b[0m",
            "\u001b[0;32m<ipython-input-1-f99d3eaaaacd>\u001b[0m in \u001b[0;36mavg\u001b[0;34m(marks)\u001b[0m\n\u001b[1;32m      1\u001b[0m \u001b[0;32mdef\u001b[0m \u001b[0mavg\u001b[0m\u001b[0;34m(\u001b[0m\u001b[0mmarks\u001b[0m\u001b[0;34m)\u001b[0m\u001b[0;34m:\u001b[0m\u001b[0;34m\u001b[0m\u001b[0;34m\u001b[0m\u001b[0m\n\u001b[0;32m----> 2\u001b[0;31m     \u001b[0;32massert\u001b[0m \u001b[0mlen\u001b[0m\u001b[0;34m(\u001b[0m\u001b[0mmarks\u001b[0m\u001b[0;34m)\u001b[0m \u001b[0;34m!=\u001b[0m \u001b[0;36m0\u001b[0m\u001b[0;34m\u001b[0m\u001b[0;34m\u001b[0m\u001b[0m\n\u001b[0m\u001b[1;32m      3\u001b[0m     \u001b[0;32mreturn\u001b[0m \u001b[0msum\u001b[0m\u001b[0;34m(\u001b[0m\u001b[0mmarks\u001b[0m\u001b[0;34m)\u001b[0m\u001b[0;34m/\u001b[0m\u001b[0mlen\u001b[0m\u001b[0;34m(\u001b[0m\u001b[0mmarks\u001b[0m\u001b[0;34m)\u001b[0m\u001b[0;34m\u001b[0m\u001b[0;34m\u001b[0m\u001b[0m\n\u001b[1;32m      4\u001b[0m \u001b[0;34m\u001b[0m\u001b[0m\n\u001b[1;32m      5\u001b[0m \u001b[0mmark1\u001b[0m \u001b[0;34m=\u001b[0m \u001b[0;34m[\u001b[0m\u001b[0;34m]\u001b[0m\u001b[0;34m\u001b[0m\u001b[0;34m\u001b[0m\u001b[0m\n",
            "\u001b[0;31mAssertionError\u001b[0m: "
          ]
        }
      ],
      "execution_count": 1,
      "metadata": {}
    },
    {
      "cell_type": "markdown",
      "source": [
        "## Test"
      ],
      "metadata": {}
    },
    {
      "cell_type": "code",
      "source": [
        "# unittests"
      ],
      "outputs": [],
      "execution_count": null,
      "metadata": {}
    },
    {
      "cell_type": "code",
      "source": [
        "assert sum([1, 2, 3]) == 5, \"Should be 6\""
      ],
      "outputs": [
        {
          "output_type": "error",
          "ename": "AssertionError",
          "evalue": "Should be 6",
          "traceback": [
            "\u001b[0;31m---------------------------------------------------------------------------\u001b[0m",
            "\u001b[0;31mAssertionError\u001b[0m                            Traceback (most recent call last)",
            "\u001b[0;32m<ipython-input-2-670dd62afbd7>\u001b[0m in \u001b[0;36m<module>\u001b[0;34m\u001b[0m\n\u001b[0;32m----> 1\u001b[0;31m \u001b[0;32massert\u001b[0m \u001b[0msum\u001b[0m\u001b[0;34m(\u001b[0m\u001b[0;34m[\u001b[0m\u001b[0;36m1\u001b[0m\u001b[0;34m,\u001b[0m \u001b[0;36m2\u001b[0m\u001b[0;34m,\u001b[0m \u001b[0;36m3\u001b[0m\u001b[0;34m]\u001b[0m\u001b[0;34m)\u001b[0m \u001b[0;34m==\u001b[0m \u001b[0;36m5\u001b[0m\u001b[0;34m,\u001b[0m \u001b[0;34m\"Should be 6\"\u001b[0m\u001b[0;34m\u001b[0m\u001b[0;34m\u001b[0m\u001b[0m\n\u001b[0m",
            "\u001b[0;31mAssertionError\u001b[0m: Should be 6"
          ]
        }
      ],
      "execution_count": 2,
      "metadata": {}
    },
    {
      "cell_type": "code",
      "source": [
        "import unittest\n",
        "\n",
        "class TestSum(unittest.TestCase):\n",
        "\n",
        "    def test_sum(self):\n",
        "        self.assertEqual(sum([1, 2, 3]), 6, \"Should be 6\")\n",
        "\n",
        "    def test_sum_tuple(self):\n",
        "        self.assertEqual(sum((1, 2, 2)), 6, \"Should be 6\")\n",
        "\n",
        "if __name__ == '__main__':\n",
        "    unittest.main()"
      ],
      "outputs": [
        {
          "output_type": "stream",
          "name": "stderr",
          "text": [
            "E\n",
            "======================================================================\n",
            "ERROR: /Users/zhutianwei/Library/Jupyter/runtime/kernel-862f6da8-5d5b-4113-bdde-7f1aabe5ccef (unittest.loader._FailedTest)\n",
            "----------------------------------------------------------------------\n",
            "AttributeError: module '__main__' has no attribute '/Users/zhutianwei/Library/Jupyter/runtime/kernel-862f6da8-5d5b-4113-bdde-7f1aabe5ccef'\n",
            "\n",
            "----------------------------------------------------------------------\n",
            "Ran 1 test in 0.004s\n",
            "\n",
            "FAILED (errors=1)\n"
          ]
        },
        {
          "output_type": "error",
          "ename": "SystemExit",
          "evalue": "True",
          "traceback": [
            "An exception has occurred, use %tb to see the full traceback.\n",
            "\u001b[0;31mSystemExit\u001b[0m\u001b[0;31m:\u001b[0m True\n"
          ]
        },
        {
          "output_type": "stream",
          "name": "stderr",
          "text": [
            "/Users/zhutianwei/anaconda/envs/IntroToTensorFlow/lib/python3.6/site-packages/IPython/core/interactiveshell.py:3304: UserWarning: To exit: use 'exit', 'quit', or Ctrl-D.\n",
            "  warn(\"To exit: use 'exit', 'quit', or Ctrl-D.\", stacklevel=1)\n"
          ]
        }
      ],
      "execution_count": 3,
      "metadata": {}
    },
    {
      "cell_type": "code",
      "source": [
        "import unittest\n",
        "\n",
        "def division_funtion(x, y):\n",
        "    return x / y\n",
        "\n",
        "class TestDivision(unittest.TestCase):\n",
        "    def test_int(self):\n",
        "        self.assertEqual(division_funtion(9, 3), 3)\n",
        "\n",
        "    def test_int2(self):\n",
        "        self.assertEqual(division_funtion(9, 4), 2.25)\n",
        "\n",
        "    def test_float(self):\n",
        "        self.assertEqual(division_funtion(4.2, 3), 1.4)\n",
        "\n",
        "if __name__ == '__main__':\n",
        "    unittest.main()"
      ],
      "outputs": [
        {
          "output_type": "stream",
          "name": "stderr",
          "text": [
            "E\n",
            "======================================================================\n",
            "ERROR: /Users/zhutianwei/Library/Jupyter/runtime/kernel-862f6da8-5d5b-4113-bdde-7f1aabe5ccef (unittest.loader._FailedTest)\n",
            "----------------------------------------------------------------------\n",
            "AttributeError: module '__main__' has no attribute '/Users/zhutianwei/Library/Jupyter/runtime/kernel-862f6da8-5d5b-4113-bdde-7f1aabe5ccef'\n",
            "\n",
            "----------------------------------------------------------------------\n",
            "Ran 1 test in 0.001s\n",
            "\n",
            "FAILED (errors=1)\n"
          ]
        },
        {
          "output_type": "error",
          "ename": "SystemExit",
          "evalue": "True",
          "traceback": [
            "An exception has occurred, use %tb to see the full traceback.\n",
            "\u001b[0;31mSystemExit\u001b[0m\u001b[0;31m:\u001b[0m True\n"
          ]
        },
        {
          "output_type": "stream",
          "name": "stderr",
          "text": [
            "/Users/zhutianwei/anaconda/envs/IntroToTensorFlow/lib/python3.6/site-packages/IPython/core/interactiveshell.py:3304: UserWarning: To exit: use 'exit', 'quit', or Ctrl-D.\n",
            "  warn(\"To exit: use 'exit', 'quit', or Ctrl-D.\", stacklevel=1)\n"
          ]
        }
      ],
      "execution_count": 4,
      "metadata": {}
    },
    {
      "cell_type": "code",
      "source": [
        "class example:\n",
        "    def __init__(self,list1):\n",
        "        self.list = list1\n",
        "    def length():\n",
        "        return self.list.length()\n",
        "    \n",
        "a = example([1,2])\n",
        "a.length()"
      ],
      "outputs": [],
      "execution_count": null,
      "metadata": {}
    },
    {
      "cell_type": "code",
      "source": [
        "a = dict()\n",
        "a"
      ],
      "outputs": [],
      "execution_count": null,
      "metadata": {}
    },
    {
      "cell_type": "code",
      "source": [
        "class NewList(list):\n",
        "    pass\n",
        "        \n",
        "a = NewList()\n",
        "print(a)"
      ],
      "outputs": [],
      "execution_count": null,
      "metadata": {}
    },
    {
      "cell_type": "code",
      "source": [
        "import numpy as np\n",
        "import scipy as sp\n",
        "import math as m\n",
        "\n",
        "# dir(np)\n",
        "# help(np)\n",
        "\n",
        "sp.special.factorial(5)"
      ],
      "outputs": [],
      "execution_count": null,
      "metadata": {}
    }
  ],
  "metadata": {
    "toc-autonumbering": false,
    "toc": {
      "toc_position": {},
      "skip_h1_title": false,
      "number_sections": true,
      "title_cell": "Table of Contents",
      "toc_window_display": false,
      "base_numbering": 1,
      "toc_section_display": true,
      "title_sidebar": "Contents",
      "toc_cell": true,
      "nav_menu": {
        "height": "495px",
        "width": "277px"
      },
      "sideBar": false
    },
    "toc-showcode": false,
    "kernel_info": {
      "name": "python3"
    },
    "language_info": {
      "name": "python",
      "version": "3.7.1",
      "mimetype": "text/x-python",
      "codemirror_mode": {
        "name": "ipython",
        "version": 3
      },
      "pygments_lexer": "ipython3",
      "nbconvert_exporter": "python",
      "file_extension": ".py"
    },
    "kernelspec": {
      "name": "python3",
      "language": "python",
      "display_name": "Python 3"
    },
    "toc-showtags": false,
    "toc-showmarkdowntxt": false,
    "nteract": {
      "version": "0.15.0"
    }
  },
  "nbformat": 4,
  "nbformat_minor": 2
}