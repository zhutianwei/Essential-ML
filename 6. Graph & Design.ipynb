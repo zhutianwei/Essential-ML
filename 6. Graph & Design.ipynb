{
 "cells": [
  {
   "cell_type": "code",
   "execution_count": 1,
   "metadata": {},
   "outputs": [],
   "source": [
    "from IPython.core.interactiveshell import InteractiveShell\n",
    "InteractiveShell.ast_node_interactivity = \"all\""
   ]
  },
  {
   "cell_type": "markdown",
   "metadata": {},
   "source": [
    "### Graph(List, Dict). Queue-BFS, Topological Sorting. O(V+E) O(V+E)"
   ]
  },
  {
   "cell_type": "markdown",
   "metadata": {},
   "source": [
    "## 559. Maximum Depth of N-ary Tree(Amazon 3)"
   ]
  },
  {
   "cell_type": "code",
   "execution_count": null,
   "metadata": {},
   "outputs": [],
   "source": [
    "class Solution:\n",
    "    def maxDepth(self, root):\n",
    "        \"\"\"\n",
    "        :type root: Node\n",
    "        :rtype: int\n",
    "        \"\"\"\n",
    "        if not root: \n",
    "                return 0\n",
    "\n",
    "        def dfs(root):\n",
    "            if not root.children: \n",
    "                return 1\n",
    "            \n",
    "            height = []\n",
    "            for node in root.children:\n",
    "                height.append(dfs(node))\n",
    "                \n",
    "            return max(height) + 1\n",
    "        \n",
    "        return dfs(root)\n",
    "    \n",
    "# class Solution:\n",
    "#     def maxDepth(self, root):\n",
    "#         \"\"\"\n",
    "#         :type root: TreeNode\n",
    "#         :rtype: int\n",
    "#         \"\"\" \n",
    "#         if not root: \n",
    "#             return 0 \n",
    "\n",
    "#         left = self.maxDepth(root.left) \n",
    "#         right = self.maxDepth(root.right) \n",
    "#         return 1 + max(left, right) "
   ]
  },
  {
   "cell_type": "markdown",
   "metadata": {},
   "source": [
    "## Time To Receive Note/Min Time to Wet Tree (Google Phone)\n",
    "https://leetcode.com/discuss/interview-question/394258/ "
   ]
  },
  {
   "cell_type": "code",
   "execution_count": null,
   "metadata": {},
   "outputs": [],
   "source": [
    "class Solution:\n",
    "    def findLongestPath(self, root):\n",
    "        if not root:\n",
    "            return 0\n",
    "        if not root.children:\n",
    "            return 0\n",
    "\n",
    "        res = 0\n",
    "        for node in root.children:\n",
    "            res = max(res, node[1] + self.findLongestPath(node[0]))\n",
    "            \n",
    "        return res\n",
    "    \n",
    "# int findLongestNotePath(Node* root) {\n",
    "#   if (root == nullptr) return 0;\n",
    "#   if (root->children.size() == 0) return 0;\n",
    "#   else{\n",
    "#     int maxPath = 0;\n",
    "#     for (auto c : root->children) {\n",
    "#       maxPath = max(maxPath, c.second + findLongestNotePath(c.first));\n",
    "#     }\n",
    "#     return maxPath;\n",
    "#   }\n",
    "# }"
   ]
  },
  {
   "cell_type": "markdown",
   "metadata": {},
   "source": [
    "## 589. N-ary Tree Preorder Traversal (Google)"
   ]
  },
  {
   "cell_type": "code",
   "execution_count": null,
   "metadata": {},
   "outputs": [],
   "source": [
    "class Solution:\n",
    "    def preorder(self, root):\n",
    "        \"\"\"\n",
    "        :type root: Node\n",
    "        :rtype: List[int]\n",
    "        \"\"\"\n",
    "        if not root:\n",
    "            return []\n",
    "        \n",
    "        res = []    \n",
    "        def addnode(root):\n",
    "            if not root:\n",
    "                return\n",
    "            \n",
    "            res.append(root.val)\n",
    "\n",
    "            for c in root.children:\n",
    "                addnode(c)\n",
    "                    \n",
    "        addnode(root)\n",
    "        return res"
   ]
  },
  {
   "cell_type": "code",
   "execution_count": null,
   "metadata": {},
   "outputs": [],
   "source": [
    "class Solution:\n",
    "    def preorder(self, root):\n",
    "        \"\"\"\n",
    "        :type root: Node\n",
    "        :rtype: List[int]\n",
    "        \"\"\"\n",
    "        if not root:\n",
    "            return []\n",
    "        \n",
    "        stack = [root]\n",
    "        output = []            \n",
    "        while stack:\n",
    "            root = stack.pop()\n",
    "            output.append(root.val)\n",
    "            stack.extend(root.children[::-1])\n",
    "                \n",
    "        return output"
   ]
  },
  {
   "cell_type": "markdown",
   "metadata": {},
   "source": [
    "## 590. N-ary Tree Postorder Traversal"
   ]
  },
  {
   "cell_type": "code",
   "execution_count": null,
   "metadata": {},
   "outputs": [],
   "source": [
    "class Solution:\n",
    "    def postorder(self, root):\n",
    "        \"\"\"\n",
    "        :type root: Node\n",
    "        :rtype: List[int]\n",
    "        \"\"\"\n",
    "        if not root:\n",
    "            return []\n",
    "        \n",
    "        res = []    \n",
    "        def addnode(root):\n",
    "            if not root:\n",
    "                return\n",
    "            \n",
    "            for c in root.children:\n",
    "                addnode(c)\n",
    "                \n",
    "            res.append(root.val)\n",
    "                    \n",
    "        addnode(root)\n",
    "        return res"
   ]
  },
  {
   "cell_type": "markdown",
   "metadata": {},
   "source": [
    "## 133. Clone Graph (Graph, DFS) (Facebook 13, Amazon 5)  \n"
   ]
  },
  {
   "cell_type": "code",
   "execution_count": null,
   "metadata": {},
   "outputs": [],
   "source": [
    "\"\"\"\n",
    "# Definition for a Node.\n",
    "class Node:\n",
    "    def __init__(self, val, neighbors):\n",
    "        self.val = val\n",
    "        self.neighbors = neighbors\n",
    "\"\"\"\n",
    "# DFS\n",
    "class Solution:\n",
    "    # @param node, a undirected graph node\n",
    "    # @return a undirected graph node\n",
    "    def cloneGraph(self, node):\n",
    "        \"\"\"\n",
    "        :type node: Node\n",
    "        :rtype: Node\n",
    "        \"\"\"\n",
    "        \n",
    "        if not node:\n",
    "            return\n",
    "        \n",
    "        visited = {}\n",
    "        \n",
    "        def dfs(node):\n",
    "            if node.val in visited:\n",
    "                return visited[node.val]\n",
    "            \n",
    "            clone = Node(node.val, [])\n",
    "            visited[clone.val] = clone\n",
    "            \n",
    "            clone.neighbors = [dfs(n) for n in node.neighbors]\n",
    "            return clone\n",
    "        \n",
    "        return dfs(node)"
   ]
  },
  {
   "cell_type": "markdown",
   "metadata": {},
   "source": [
    "## Monarchy (Google Phone)"
   ]
  },
  {
   "cell_type": "code",
   "execution_count": 11,
   "metadata": {},
   "outputs": [
    {
     "name": "stdout",
     "output_type": "stream",
     "text": [
      "king\n",
      "Andy\n",
      "Matthew\n",
      "Bob\n",
      "Alex \n",
      "Asha \n",
      "Catherine\n"
     ]
    }
   ],
   "source": [
    "class Monarch:\n",
    "    def __init__(self):\n",
    "        self.name = None\n",
    "        self.childern = []\n",
    "        self.isAlive = True\n",
    "        \n",
    "class Monarchy:\n",
    "    def __init__(self):\n",
    "        self.firstMonarch = None\n",
    "        self.monarchs = {}\n",
    "        \n",
    "    def birth(self, child, parent):\n",
    "        # create monarch\n",
    "        monarch = Monarch()\n",
    "        monarch.name = child\n",
    "        # If it's the first monarch\n",
    "        if not parent and not self.firstMonarch:\n",
    "            self.firstMonarch = monarch\n",
    "        else: \n",
    "            # find parent and add child\n",
    "            if not (parent in self.monarchs):\n",
    "                print(\"Parent not found\")\n",
    "                return\n",
    "            self.monarchs[parent].childern.append(monarch)\n",
    "        # Add the monarch to hash table\n",
    "        self.monarchs[child] = monarch\n",
    "\n",
    "    def death(self, name):\n",
    "        self.monarchs[name].isAlive = False\n",
    "\n",
    "    def preOrder(self, node):\n",
    "        if not node:\n",
    "            return\n",
    "\n",
    "        if node.isAlive:\n",
    "            # don't print dead people :'(\n",
    "            print(node.name)\n",
    "        for child in node.childern:\n",
    "            \n",
    "            self.preOrder(child)\n",
    "\n",
    "    def getOrderOfSuccession(self):\n",
    "        self.preOrder(self.firstMonarch)\n",
    "\n",
    "# Main\n",
    "m = Monarchy()\n",
    "m.birth(\"king\", None)\n",
    "m.birth(\"Andy\", \"king\")\n",
    "m.birth(\"Bob\", \"king\")\n",
    "m.birth(\"Catherine\", \"king\")\n",
    "m.birth(\"Matthew\" , \"Andy\")\n",
    "m.birth(\"Alex \" , \"Bob\")\n",
    "m.birth(\"Asha \" , \"Bob\")\n",
    "m.getOrderOfSuccession()"
   ]
  },
  {
   "cell_type": "markdown",
   "metadata": {},
   "source": [
    "## 1197 Minimum Knight Moves (Google 3)"
   ]
  },
  {
   "cell_type": "code",
   "execution_count": null,
   "metadata": {},
   "outputs": [],
   "source": [
    "class Solution:\n",
    "    def minKnightMoves(self, x: int, y: int) -> int:\n",
    "        moves = [(1,2),(2,1),(2,-1),(1,-2),(-1,-2),(-2,-1),(-2,1),(-1,2)]\n",
    "        \n",
    "        visited = set()\n",
    "        visited.add((0,0))\n",
    "        queue = [(0,0,0)]\n",
    "        \n",
    "        while queue:\n",
    "            vertex = queue.pop(0)\n",
    "            \n",
    "            for move in moves:\n",
    "                i = vertex[0] + move[0]\n",
    "                j = vertex[1] + move[1]\n",
    "                # z = vertex[2] + move[2]\n",
    "                \n",
    "                if -300 <= i <= 300 and -300 <= j <= 300:\n",
    "                    if (i,j) == (x,y):\n",
    "                        return vertex[2] + 1\n",
    "\n",
    "                    if (i,j) not in visited:\n",
    "                        visited.add((i,j))\n",
    "                        queue.append((i,j,vertex[2]+1))\n",
    "                        \n",
    "# class Solution(object):\n",
    "#     memo = {(0, 0): 0}\n",
    "#     queue = [(0, 0, 0)]\n",
    "#     while queue:\n",
    "#         vertex = queue.pop(0)\n",
    "#         for move in ((2, -1), (2, 1), (-2, -1), (-2, 1), (1, -2), (1, 2), (-1, -2), (-1, 2)):\n",
    "#             i = vertex[0]+move[0]\n",
    "#             j = vertex[1]+move[1]\n",
    "            \n",
    "#             if -300 <= i <= 300 and -300 <= j <= 300:\n",
    "#                 if (i, j) not in memo:\n",
    "#                     memo[i,j] = vertex[2]+1\n",
    "#                     queue.append((i, j, vertex[2]+1))\n",
    "#     print(queue)\n",
    "#     def minKnightMoves(self, x, y):\n",
    "#         x = abs(x)\n",
    "#         y = abs(y)\n",
    "#         return self.memo[x,y]"
   ]
  },
  {
   "cell_type": "markdown",
   "metadata": {},
   "source": [
    "## 127 Word Ladder (Graph. BFS) (Amazon 27, Microsoft 6)  \n",
    "O(MN)  \n",
    "O(MN)"
   ]
  },
  {
   "cell_type": "code",
   "execution_count": 7,
   "metadata": {},
   "outputs": [],
   "source": [
    "from collections import defaultdict, deque\n",
    "class Solution(object):\n",
    "    def ladderLength(self, beginWord, endWord, wordList):\n",
    "        \"\"\"\n",
    "        :type beginWord: str\n",
    "        :type endWord: str\n",
    "        :type wordList: List[str]\n",
    "        :rtype: int\n",
    "        \"\"\"\n",
    "\n",
    "        if endWord not in wordList or not endWord or not beginWord or not wordList:\n",
    "            return 0\n",
    "\n",
    "        # Dictionary to hold combination of words that can be formed,\n",
    "        # from any given word. By changing one letter at a time.\n",
    "        dic = defaultdict(list)\n",
    "        for word in wordList:\n",
    "            for i in range(len(beginWord)):\n",
    "                # Key is the generic word\n",
    "                # Value is a list of words which have the same intermediate generic word.\n",
    "                dic[word[:i] + \"*\" + word[i+1:]].append(word)\n",
    "                \n",
    "        print(dic)\n",
    "\n",
    "        queue = deque([(beginWord, 1)])\n",
    "        # Visited to make sure we don't repeat processing same word.\n",
    "        visited = {beginWord: True}\n",
    "        while queue:\n",
    "            cur, level = queue.popleft()      \n",
    "            for i in range(len(beginWord)):\n",
    "                # Intermediate words for current word\n",
    "                potential = cur[:i] + \"*\" + cur[i+1:]\n",
    "\n",
    "                # Next states are all the words which share the same intermediate state.\n",
    "                for word in dic[potential]:\n",
    "                    # If at any point if we find what we are looking for\n",
    "                    # i.e. the end word - we can return with the answer.\n",
    "                    if word == endWord:\n",
    "                        return level + 1\n",
    "                    # Otherwise, add it to the BFS Queue. Also mark it visited\n",
    "                    if word not in visited:\n",
    "                        visited[word] = True\n",
    "                        queue.append((word, level + 1))\n",
    "                dic[potential] = []\n",
    "                \n",
    "        return 0"
   ]
  },
  {
   "cell_type": "code",
   "execution_count": 8,
   "metadata": {},
   "outputs": [
    {
     "name": "stdout",
     "output_type": "stream",
     "text": [
      "defaultdict(<class 'list'>, {'*ot': ['hot', 'dot', 'lot'], 'h*t': ['hot'], 'ho*': ['hot'], 'd*t': ['dot'], 'do*': ['dot', 'dog'], '*og': ['dog', 'log', 'cog'], 'd*g': ['dog'], 'l*t': ['lot'], 'lo*': ['lot', 'log'], 'l*g': ['log'], 'c*g': ['cog'], 'co*': ['cog']})\n"
     ]
    },
    {
     "data": {
      "text/plain": [
       "5"
      ]
     },
     "execution_count": 8,
     "metadata": {},
     "output_type": "execute_result"
    }
   ],
   "source": [
    "s = Solution()\n",
    "s.ladderLength('hit', 'cog', [\"hot\",\"dot\",\"dog\",\"lot\",\"log\",\"cog\"])\n"
   ]
  },
  {
   "cell_type": "code",
   "execution_count": 67,
   "metadata": {},
   "outputs": [
    {
     "data": {
      "text/plain": [
       "5"
      ]
     },
     "execution_count": 67,
     "metadata": {},
     "output_type": "execute_result"
    }
   ],
   "source": [
    "from collections import defaultdict\n",
    "\n",
    "def ladderLength(beginWord, endWord, wordList):\n",
    "    \"\"\"\n",
    "    :type beginWord: str\n",
    "    :type endWord: str\n",
    "    :type wordList: List[str]\n",
    "    :rtype: int\n",
    "    \"\"\"\n",
    "\n",
    "    if endWord not in wordList or not endWord or not beginWord or not wordList:\n",
    "        return 0\n",
    "\n",
    "    # Since all words are of same length.\n",
    "    L = len(beginWord)\n",
    "\n",
    "    # Dictionary to hold combination of words that can be formed,\n",
    "    # from any given word. By changing one letter at a time.\n",
    "    all_combo_dict = defaultdict(list)\n",
    "    for word in wordList:\n",
    "        for i in range(L):\n",
    "            # Key is the generic word\n",
    "            # Value is a list of words which have the same intermediate generic word.\n",
    "            all_combo_dict[word[:i] + \"*\" + word[i+1:]].append(word)\n",
    "\n",
    "\n",
    "    # Queue for BFS\n",
    "    queue = [(beginWord, 1)]\n",
    "    # Visited to make sure we don't repeat processing same word.\n",
    "    visited = {beginWord: True}\n",
    "    while queue:\n",
    "        current_word, level = queue.pop(0)      \n",
    "        for i in range(L):\n",
    "            # Intermediate words for current word\n",
    "            intermediate_word = current_word[:i] + \"*\" + current_word[i+1:]\n",
    "\n",
    "            # Next states are all the words which share the same intermediate state.\n",
    "            for word in all_combo_dict[intermediate_word]:\n",
    "                # If at any point if we find what we are looking for\n",
    "                # i.e. the end word - we can return with the answer.\n",
    "                if word == endWord:\n",
    "                    return level + 1\n",
    "\n",
    "                # Otherwise, add it to the BFS Queue. Also mark it visited\n",
    "                if word not in visited:\n",
    "                    visited[word] = True\n",
    "                    queue.append((word, level + 1))\n",
    "\n",
    "            all_combo_dict[intermediate_word] = []\n",
    "    return 0\n",
    "\n",
    "ladderLength(\"hit\",\"cog\", [\"hot\",\"dot\",\"dog\",\"lot\",\"log\",\"cog\"])"
   ]
  },
  {
   "cell_type": "markdown",
   "metadata": {},
   "source": [
    "## 399. Evaluate Division (Google 3,"
   ]
  },
  {
   "cell_type": "code",
   "execution_count": null,
   "metadata": {},
   "outputs": [],
   "source": [
    "class Solution:    \n",
    "    def calcEquation(self, equations, values, queries):\n",
    "        \"\"\"\n",
    "        :type equations: List[List[str]]\n",
    "        :type values: List[float]\n",
    "        :type queries: List[List[str]]\n",
    "        :rtype: List[float]\n",
    "        \"\"\"\n",
    "        \n",
    "        # 构造图，equations的第一项除以第二项等于value里的对应值，第二项除以第一项等于其倒数\n",
    "        graph = {}\n",
    "        for (x, y), v in zip(equations, values):\n",
    "            if x in graph:\n",
    "                graph[x][y] = v\n",
    "            else:\n",
    "                graph[x] = {y: v}\n",
    "            if y in graph:\n",
    "                graph[y][x] = 1/v\n",
    "            else:\n",
    "                graph[y] = {x: 1/v}\n",
    "        \n",
    "        # dfs找寻从s到t的路径并返回结果叠乘后的边权重即结果\n",
    "        def dfs(first, last):\n",
    "            if first not in graph:\n",
    "                return -1\n",
    "            if first == last:\n",
    "                return 1\n",
    "            if last in graph[first]:\n",
    "                return graph[first][last]\n",
    "            \n",
    "            for node in graph[first].keys():\n",
    "                if node not in visited:\n",
    "                    visited.add(node)  # 添加到已访问避免重复遍历\n",
    "                    res = dfs(node, last)\n",
    "                    if res != -1:\n",
    "                        return graph[first][node] * res\n",
    "            return -1\n",
    "\n",
    "        # 逐个计算query的值\n",
    "        res = []\n",
    "        for first, last in queries:\n",
    "            visited = set()\n",
    "            res.append(dfs(first, last))\n",
    "        return res"
   ]
  },
  {
   "cell_type": "markdown",
   "metadata": {},
   "source": [
    "## 743. Network Delay Time (Google 7 Phone)"
   ]
  },
  {
   "cell_type": "code",
   "execution_count": null,
   "metadata": {},
   "outputs": [],
   "source": [
    "from collections import defaultdict\n",
    "class Solution:\n",
    "    def networkDelayTime(self, times, N, K):\n",
    "        \"\"\"\n",
    "        :type times: List[List[int]]\n",
    "        :type N: int\n",
    "        :type K: int\n",
    "        :rtype: int\n",
    "        \"\"\"\n",
    "\n",
    "        graph = defaultdict(list)\n",
    "        for u, v, w in times:\n",
    "            graph[u].append([v, w])\n",
    "\n",
    "        dist = {}\n",
    "        for node in range(1, N+1):\n",
    "            dist[node] = float('inf')\n",
    "\n",
    "        def dfs(node, elapsed):\n",
    "            if elapsed >= dist[node]: \n",
    "                return\n",
    "            \n",
    "            dist[node] = elapsed\n",
    "            for nei, time in sorted(graph[node], key = lambda x:x[1]):\n",
    "                dfs(nei, elapsed + time)\n",
    "\n",
    "        dfs(K, 0)\n",
    "        ans = max(dist.values())\n",
    "        return ans if ans < float('inf') else -1"
   ]
  },
  {
   "cell_type": "markdown",
   "metadata": {},
   "source": [
    "## 207. Course Schedule. (Graph(List, Dict). Queue-BFS, Topological Sorting) (Amazon 25, Uber 5)  \n",
    "这个问题相当于查找一个循环是否存在于有向图中。如果存在循环，则不存在拓扑排序，因此不可能选取所有课程进行学习。  \n",
    "通过 DFS 进行拓扑排序 - 一个关于Coursera的精彩视频教程（21分钟），介绍拓扑排序的基本概念。  \n",
    "拓扑排序也可以通过 BFS 完成。  \n",
    "\n",
    "本题可约化为：课程安排图是否是 有向无环图(DAG)。即课程间规定了前置条件，但不能构成任何环路，否则课程前置条件将不成立。\n",
    "思路是通过 拓扑排序 判断此课程安排图是否是 有向无环图(DAG)。\n",
    "拓扑排序是对 DAG 的顶点进行排序，使得对每一条有向边(u,v)，均有 u（在排序记录中）比 v 先出现。亦可理解为对某点 v 而言，只有当 v 的所有源点均出现了，v 才能出现。\n",
    "\n",
    "\n",
    "O(V+E)  \n",
    "O(V+E)"
   ]
  },
  {
   "cell_type": "code",
   "execution_count": null,
   "metadata": {},
   "outputs": [],
   "source": [
    "from collections import defaultdict\n",
    "class Solution:\n",
    "    def canFinish(self, vertices, edges):\n",
    "        if vertices <= 0:\n",
    "            return []\n",
    "\n",
    "        res = []\n",
    "        # a. Initialize the graph\n",
    "        indegree = {i: 0 for i in range(vertices)}  # count of incoming edges\n",
    "        graph = defaultdict(list)  # adjacency list graph\n",
    "\n",
    "        # b. Build the graph\n",
    "        for child, parent in edges:\n",
    "            graph[parent].append(child)  # put the child into it's parent's list\n",
    "            indegree[child] += 1  # increment child's inDegree\n",
    "\n",
    "       # c. Find all sources i.e., all vertices with 0 in-degrees\n",
    "        queue = []\n",
    "        for key in indegree:\n",
    "            if indegree[key] == 0:\n",
    "                queue.append(key)\n",
    "\n",
    "      # d. For each source, add it to the sortedOrder and subtract one from all of its children's in-degrees\n",
    "      # if a child's in-degree becomes zero, add it to the sources queue\n",
    "        while queue:\n",
    "            vertex = queue.pop(0)\n",
    "            res.append(vertex)\n",
    "            for child in graph[vertex]:  # get the node's children to decrement their in-degrees\n",
    "                indegree[child] -= 1\n",
    "                if indegree[child] == 0:\n",
    "                    queue.append(child)\n",
    "\n",
    "      # topological sort is not possible as the graph has a cycle\n",
    "        return len(res) == vertices"
   ]
  },
  {
   "cell_type": "code",
   "execution_count": null,
   "metadata": {},
   "outputs": [],
   "source": [
    "class Solution:\n",
    "    def canFinish(self, num, prerequisites):\n",
    "        \"\"\"\n",
    "        :type numCourses: int\n",
    "        :type prerequisites: List[List[int]]\n",
    "        :rtype: bool\n",
    "        \"\"\"\n",
    "        graph = collections.defaultdict(list)\n",
    "        indegrees = [0] * numCourses\n",
    "\n",
    "        for course, pre in prerequisites:\n",
    "            graph[pre].append(course)\n",
    "            indegrees[course] += 1\n",
    "\n",
    "        return self.topologicalSort(graph, indegrees) == numCourses\n",
    "\n",
    "\n",
    "    def topologicalSort(self, graph, indegrees):\n",
    "        count = 0\n",
    "        queue = []\n",
    "        for i in range(len(indegrees)):\n",
    "            if indegrees[i] == 0:\n",
    "                queue.append(i)\n",
    "        while queue:\n",
    "            course = queue.pop()\n",
    "            count += 1\n",
    "            for i in graph[course]:\n",
    "                indegrees[i] -= 1\n",
    "                if indegrees[i] == 0:\n",
    "                    queue.append(i)\n",
    "        return count"
   ]
  },
  {
   "cell_type": "code",
   "execution_count": null,
   "metadata": {},
   "outputs": [],
   "source": [
    "class Solution:\n",
    "    def canFinish(self, numCourses, prerequisites):\n",
    "        \"\"\"\n",
    "        :type numCourses: int\n",
    "        :type prerequisites: List[List[int]]\n",
    "        :rtype: bool\n",
    "        \"\"\"\n",
    "        \n",
    "        indegrees = [0 for i in range(numCourses)]\n",
    "        adjacency = [[] for i in range(numCourses)]\n",
    "        \n",
    "        # Get the indegree and adjacency of every course.\n",
    "        for cur, pre in prerequisites:\n",
    "            indegrees[cur] += 1\n",
    "            adjacency[pre].append(cur)\n",
    "        # Get all the courses with the indegree of 0.\n",
    "        \n",
    "        queue = []\n",
    "        for i in range(len(indegrees)):\n",
    "            if not indegrees[i]: \n",
    "                queue.append(i)\n",
    "        # BFS TopSort.\n",
    "        while queue:\n",
    "            pre = queue.pop(0)\n",
    "            numCourses -= 1\n",
    "            for cur in adjacency[pre]:\n",
    "                indegrees[cur] -= 1\n",
    "                if not indegrees[cur]: \n",
    "                    queue.append(cur)\n",
    "        return not numCourses"
   ]
  },
  {
   "cell_type": "code",
   "execution_count": null,
   "metadata": {},
   "outputs": [],
   "source": [
    "class Solution:\n",
    "    def canFinish(self, num, prerequisites):\n",
    "        \"\"\"\n",
    "        :type numCourses: int\n",
    "        :type prerequisites: List[List[int]]\n",
    "        :rtype: bool\n",
    "        \"\"\"\n",
    "        \n",
    "        graph = [[]] * len(num)\n",
    "        visit = [0] * len(num)\n",
    "        \n",
    "        for x, y in prerequisites:\n",
    "            graph[x].append(y)\n",
    "            \n",
    "        def dfs(i):\n",
    "            if visit[i] == -1:\n",
    "                return False\n",
    "            if visit[i] == 1:\n",
    "                return True\n",
    "            visit[i] = -1\n",
    "            for j in graph[i]:\n",
    "                if not dfs(j):\n",
    "                    return False\n",
    "            visit[i] = 1\n",
    "            return True\n",
    "        \n",
    "        for i in range(num):\n",
    "            if not dfs(i):\n",
    "                return False\n",
    "        return True"
   ]
  },
  {
   "cell_type": "markdown",
   "metadata": {},
   "source": [
    "if node v has not been visited, then mark it as 0.  \n",
    "if node v is being visited, then mark it as -1. If we find a vertex marked as -1 in DFS, then their is a ring.  \n",
    "if node v has been visited, then mark it as 1. If a vertex was marked as 1, then no ring contains v or its successors.  "
   ]
  },
  {
   "cell_type": "markdown",
   "metadata": {},
   "source": [
    "## Course Schedule II"
   ]
  },
  {
   "cell_type": "code",
   "execution_count": null,
   "metadata": {},
   "outputs": [],
   "source": []
  },
  {
   "cell_type": "markdown",
   "metadata": {},
   "source": [
    "## 269. Alien Dictionary (Graph(Dict). Queue-BFS, Topological Sorting) (Facebook 15, Amazon 14, Microsoft 6) (Hard)\n",
    "O(V+E)  \n",
    "O(V+E)"
   ]
  },
  {
   "cell_type": "code",
   "execution_count": 65,
   "metadata": {},
   "outputs": [],
   "source": [
    "from collections import Counter, defaultdict\n",
    "class Solution:\n",
    "    def alienOrder(self, words):\n",
    "        if not words:\n",
    "            return \"\"\n",
    "\n",
    "      # a. Initialize the graph\n",
    "        indegree = Counter()  # count of incoming edges\n",
    "        graph = defaultdict(list)  # adjacency list graph\n",
    "        for word in words:\n",
    "            for character in word:\n",
    "                indegree[character] = 0\n",
    "                graph[character] = []\n",
    "\n",
    "      # b. Build the graph\n",
    "        for i in range(0, len(words)-1):\n",
    "        # find ordering of characters from adjacent words\n",
    "            w1, w2 = words[i], words[i + 1]\n",
    "            for j in range(0, min(len(w1), len(w2))):\n",
    "                parent, child = w1[j], w2[j]\n",
    "                if parent != child:  # if the two characters are different\n",
    "                # put the child into it's parent's list\n",
    "                    graph[parent].append(child)\n",
    "                    indegree[child] += 1  # increment child's inDegree\n",
    "                    break  # only the first different character between the two words will help us find the order\n",
    "        \n",
    "      # c. Find all sources i.e., all vertices with 0 in-degrees\n",
    "        queue = []\n",
    "        for key in indegree:\n",
    "            if indegree[key] == 0:\n",
    "                queue.append(key)\n",
    "\n",
    "      # d. For each source, add it to the sortedOrder and subtract one from all of its children's in-degrees\n",
    "      # if a child's in-degree becomes zero, add it to the sources queue\n",
    "        res = []\n",
    "        while queue:\n",
    "            vertex = queue.pop(0)\n",
    "            res.append(vertex)\n",
    "            for child in graph[vertex]:  # get the node's children to decrement their in-degrees\n",
    "                indegree[child] -= 1\n",
    "                if indegree[child] == 0:\n",
    "                    queue.append(child)\n",
    "\n",
    "      # if sortedOrder doesn't contain all characters, there is a cyclic dependency between characters, therefore, we\n",
    "      # will not be able to find the correct ordering of the characters\n",
    "        if len(res) != len(indegree):\n",
    "            return \"\"\n",
    "\n",
    "        return ''.join(res)"
   ]
  },
  {
   "cell_type": "code",
   "execution_count": 66,
   "metadata": {},
   "outputs": [
    {
     "name": "stdout",
     "output_type": "stream",
     "text": [
      "{'b': 0, 'a': 1, 'c': 2}\n",
      "{'b': ['a'], 'a': ['c', 'c'], 'c': []}\n"
     ]
    },
    {
     "data": {
      "text/plain": [
       "'bac'"
      ]
     },
     "execution_count": 66,
     "metadata": {},
     "output_type": "execute_result"
    }
   ],
   "source": [
    "words = ['ba', 'bc', 'ac', 'cab']\n",
    "s = Solution()\n",
    "s.alienOrder(words)"
   ]
  },
  {
   "cell_type": "markdown",
   "metadata": {},
   "source": [
    "## 684 Redundant Connection (Graph. Union Find) (Amazon 2, Google)"
   ]
  },
  {
   "cell_type": "code",
   "execution_count": null,
   "metadata": {},
   "outputs": [],
   "source": [
    "class Solution:\n",
    "    def findRedundantConnection(self, edges):\n",
    "        def findRoot(x):\n",
    "            if tree[x] == x:\n",
    "                return x\n",
    "            else:\n",
    "                root = findRoot(tree[x])\n",
    "                # tree[x] = root\n",
    "                return root\n",
    "        \n",
    "        tree = [i for i in range(len(edges) + 1)]\n",
    "\n",
    "        for edge in edges:\n",
    "            a = findRoot(edge[0])\n",
    "            b = findRoot(edge[1])\n",
    "            if a != b:\n",
    "                tree[a] = b\n",
    "            else:\n",
    "                return edge\n",
    "\n",
    "               \n",
    "# class Solution:\n",
    "#     def findRedundantConnection(self, edges: List[List[int]]) -> List[int]:\n",
    "#         p = [*range(len(edges) + 1)]      #并查集元素初始化\n",
    "#         print(p)\n",
    "#         def f(x):\n",
    "#             if p[x] != x:       #递归修改所属集合\n",
    "#                 p[x] = f(p[x])\n",
    "#             return p[x]\n",
    "#         for x, y in edges:      #遍历边\n",
    "#             px, py = f(x), f(y)\n",
    "#             if px != py:        #检查集合，如果集合不同就合并\n",
    "#                 p[py] = px\n",
    "#             else:\n",
    "#                 return [x, y]   #集合相同就返回答案"
   ]
  },
  {
   "cell_type": "markdown",
   "metadata": {},
   "source": [
    "685. Redundnat Connection II"
   ]
  },
  {
   "cell_type": "markdown",
   "metadata": {},
   "source": [
    "### Design"
   ]
  },
  {
   "cell_type": "markdown",
   "metadata": {},
   "source": [
    "## 341. Flatten Nested List Iterator (Stack) (Amazon 16)"
   ]
  },
  {
   "cell_type": "code",
   "execution_count": null,
   "metadata": {},
   "outputs": [],
   "source": [
    "# \"\"\"\n",
    "# This is the interface that allows for creating nested lists.\n",
    "# You should not implement it, or speculate about its implementation\n",
    "# \"\"\"\n",
    "#class NestedInteger(object):\n",
    "#    def isInteger(self):\n",
    "#        \"\"\"\n",
    "#        @return True if this NestedInteger holds a single integer, rather than a nested list.\n",
    "#        :rtype bool\n",
    "#        \"\"\"\n",
    "#\n",
    "#    def getInteger(self):\n",
    "#        \"\"\"\n",
    "#        @return the single integer that this NestedInteger holds, if it holds a single integer\n",
    "#        Return None if this NestedInteger holds a nested list\n",
    "#        :rtype int\n",
    "#        \"\"\"\n",
    "#\n",
    "#    def getList(self):\n",
    "#        \"\"\"\n",
    "#        @return the nested list that this NestedInteger holds, if it holds a nested list\n",
    "#        Return None if this NestedInteger holds a single integer\n",
    "#        :rtype List[NestedInteger]\n",
    "#        \"\"\"\n",
    "\n",
    "class NestedIterator:\n",
    "\n",
    "    def __init__(self, nestedList):\n",
    "        \"\"\"\n",
    "        Initialize your data structure here.\n",
    "        :type nestedList: List[NestedInteger]\n",
    "        \"\"\"\n",
    "        self.stack = nestedList[::-1]\n",
    "        \n",
    "    def next(self):\n",
    "        \"\"\"\n",
    "        :rtype: int\n",
    "        \"\"\"\n",
    "        return self.stack.pop().getInteger()\n",
    "        \n",
    "    def hasNext(self):\n",
    "        \"\"\"\n",
    "        :rtype: bool\n",
    "        \"\"\"\n",
    "        while self.stack:\n",
    "            top = self.stack[-1]\n",
    "            if top.isInteger():\n",
    "                return True\n",
    "            self.stack = self.stack[:-1] + top.getList()[::-1]\n",
    "        return False\n",
    "        \n",
    "\n",
    "# Your NestedIterator object will be instantiated and called as such:\n",
    "# i, v = NestedIterator(nestedList), []\n",
    "# while i.hasNext(): v.append(i.next())"
   ]
  },
  {
   "cell_type": "markdown",
   "metadata": {},
   "source": [
    "## 232. Implement Queue using Stacks (Stack) (Microsoft 4)"
   ]
  },
  {
   "cell_type": "code",
   "execution_count": null,
   "metadata": {},
   "outputs": [],
   "source": [
    "from collections import deque\n",
    "class MyQueue:\n",
    "\n",
    "    def __init__(self):\n",
    "        \"\"\"\n",
    "        Initialize your data structure here.\n",
    "        \"\"\"\n",
    "        self.queue = deque()\n",
    "        \n",
    "    def push(self, x: int) -> None:\n",
    "        \"\"\"\n",
    "        Push element x to the back of queue.\n",
    "        \"\"\"\n",
    "        self.queue.append(x)\n",
    "\n",
    "    def pop(self) -> int:\n",
    "        \"\"\"\n",
    "        Removes the element from in front of queue and returns\n",
    "        \"\"\"\n",
    "        return self.queue.popleft()\n",
    "        \n",
    "    def peek(self) -> int:\n",
    "        \"\"\"\n",
    "        Get the front element.\n",
    "        \"\"\"\n",
    "        return self.queue[0]\n",
    "\n",
    "    def empty(self) -> bool:\n",
    "        \"\"\"\n",
    "        Returns whether the queue is empty.\n",
    "        \"\"\"\n",
    "        return len(self.queue) == 0"
   ]
  },
  {
   "cell_type": "code",
   "execution_count": 11,
   "metadata": {},
   "outputs": [
    {
     "data": {
      "text/plain": [
       "True"
      ]
     },
     "execution_count": 11,
     "metadata": {},
     "output_type": "execute_result"
    }
   ],
   "source": [
    "num = [1,2,3]\n",
    "def function(num):\n",
    "    if sum(num)  > 0:\n",
    "        return True\n",
    "    if sum(num) < 0:\n",
    "        return False\n",
    "    \n",
    "function(num)\n",
    "    "
   ]
  },
  {
   "cell_type": "markdown",
   "metadata": {},
   "source": [
    "## 225. Implement Stack using Queues (Queue) (Amazon 4, Microsoft 3)"
   ]
  },
  {
   "cell_type": "code",
   "execution_count": null,
   "metadata": {},
   "outputs": [],
   "source": [
    "from collections import deque\n",
    "class MyStack:\n",
    "\n",
    "    def __init__(self):\n",
    "        \"\"\"\n",
    "        Initialize your data structure here.\n",
    "        \"\"\"\n",
    "        self.stack = deque()\n",
    "\n",
    "    def push(self, x: int) -> None:\n",
    "        \"\"\"\n",
    "        Push element x onto stack.\n",
    "        \"\"\"\n",
    "        self.stack.append(x)\n",
    "        \n",
    "\n",
    "    def pop(self) -> int:\n",
    "        \"\"\"\n",
    "        Removes the element on top of the stack and returns that element.\n",
    "        \"\"\"\n",
    "        return self.stack.pop()\n",
    "\n",
    "    def top(self) -> int:\n",
    "        \"\"\"\n",
    "        Get the top element.\n",
    "        \"\"\"\n",
    "        return self.stack[-1]\n",
    "\n",
    "    def empty(self) -> bool:\n",
    "        \"\"\"\n",
    "        Returns whether the stack is empty.\n",
    "        \"\"\"\n",
    "        return len(self.stack) == 0"
   ]
  },
  {
   "cell_type": "markdown",
   "metadata": {},
   "source": [
    "## (2) 346. Moving Average from Data Stream (Amazon 5)"
   ]
  },
  {
   "cell_type": "code",
   "execution_count": null,
   "metadata": {},
   "outputs": [],
   "source": [
    "class MovingAverage:\n",
    "\n",
    "    def __init__(self, size):\n",
    "        \"\"\"\n",
    "        Initialize your data structure here.\n",
    "        :type size: int\n",
    "        \"\"\"\n",
    "        self.res = []\n",
    "        self.size = size\n",
    "\n",
    "    def next(self, val):\n",
    "        \"\"\"\n",
    "        :type val: int\n",
    "        :rtype: float\n",
    "        \"\"\"\n",
    "        self.res.append(val)\n",
    "        \n",
    "        if len(self.res) <= self.size:\n",
    "            return sum(self.res) / len(self.res)\n",
    "            \n",
    "        else:\n",
    "            self.res.pop(0)\n",
    "            return sum(self.res) / len(self.res)"
   ]
  },
  {
   "cell_type": "markdown",
   "metadata": {},
   "source": [
    "## 348. Design Tic Tac Toc (Matrix) (Amazon 16, Microsoft 6)\n",
    "O(1)  \n",
    "O(N)"
   ]
  },
  {
   "cell_type": "code",
   "execution_count": null,
   "metadata": {},
   "outputs": [],
   "source": [
    "class TicTacToe:\n",
    "    def __init__(self, n):\n",
    "        \"\"\"\n",
    "        Initialize your data structure here.\n",
    "        :type n: int\n",
    "        \"\"\"\n",
    "        self.row = [0] * n\n",
    "        self.col = [0] * n\n",
    "        self.diag = 0\n",
    "        self.undiag = 0\n",
    "        self.n = n\n",
    "        \n",
    "    def move(self, row, col, player):\n",
    "        \"\"\"\n",
    "        Player {player} makes a move at ({row}, {col}).\n",
    "        @param row The row of the board.\n",
    "        @param col The column of the board.\n",
    "        @param player The player, can be either 1 or 2.\n",
    "        @return The current winning condition, can be either:\n",
    "                0: No one wins.\n",
    "                1: Player 1 wins.\n",
    "                2: Player 2 wins.\n",
    "        :type row: int\n",
    "        :type col: int\n",
    "        :type player: int\n",
    "        :rtype: int\n",
    "        \"\"\"\n",
    "        if player == 1:\n",
    "            p = 1\n",
    "        else:\n",
    "            p = -1\n",
    "        \n",
    "        self.row[row] += p\n",
    "        self.col[col] += p\n",
    "        \n",
    "        if row == col:\n",
    "            self.diag += p\n",
    "        if col == self.n - 1 - row:\n",
    "            self.undiag += p\n",
    "            \n",
    "        if (abs(self.row[row]) == self.n or \n",
    "            abs(self.col[col]) == self.n or \n",
    "            abs(self.diag) == self.n or \n",
    "            abs(self.undiag) == self.n):\n",
    "            return player\n",
    "        else:\n",
    "            return 0\n",
    "        \n",
    "# Your TicTacToe object will be instantiated and called as such:\n",
    "# obj = TicTacToe(n)\n",
    "# param_1 = obj.move(row,col,player)"
   ]
  },
  {
   "cell_type": "markdown",
   "metadata": {},
   "source": [
    "## 146. LRU cache (OrderedDict) (Amazon 60, Microsoft 22, Apple 13, Google 7)\n",
    "时间复杂度: O(1)  \n",
    "O(1)"
   ]
  },
  {
   "cell_type": "code",
   "execution_count": null,
   "metadata": {},
   "outputs": [],
   "source": [
    "class LRUCache:\n",
    "    def __init__(self, capacity):\n",
    "        \"\"\"\n",
    "        :type capacity: int\n",
    "        \"\"\"\n",
    "        \n",
    "        self.cache = {}\n",
    "        self.capacity = capacity\n",
    "        self.n = 0\n",
    "\n",
    "    def get(self, key):\n",
    "        \"\"\"\n",
    "        :type key: int\n",
    "        :rtype: int\n",
    "        \"\"\"\n",
    "        \n",
    "        if key in self.cache:\n",
    "            val = self.cache[key]\n",
    "            del self.cache[key]\n",
    "            self.cache[key] = val\n",
    "            return val\n",
    "        else:\n",
    "            return -1\n",
    "        \n",
    "\n",
    "    def put(self, key, value):\n",
    "        \"\"\"\n",
    "        :type key: int\n",
    "        :type value: int\n",
    "        :rtype: None\n",
    "        \"\"\"\n",
    "        \n",
    "        if key in self.cache:\n",
    "            del self.cache[key]\n",
    "            self.cache[key] = value\n",
    "        else:\n",
    "            if self.n < self.capacity:\n",
    "                self.cache[key] = value\n",
    "                self.n += 1\n",
    "            else:\n",
    "                for k in self.cache:\n",
    "                    del self.cache[k]\n",
    "                    break\n",
    "                self.cache[key] = value"
   ]
  },
  {
   "cell_type": "markdown",
   "metadata": {},
   "source": [
    "O(1)  \n",
    "O(capacity)"
   ]
  },
  {
   "cell_type": "code",
   "execution_count": null,
   "metadata": {},
   "outputs": [],
   "source": [
    "from collections import OrderedDict\n",
    "class LRUCache(OrderedDict):\n",
    "\n",
    "    def __init__(self, capacity):\n",
    "        \"\"\"\n",
    "        :type capacity: int\n",
    "        \"\"\"\n",
    "        self.capacity = capacity\n",
    "\n",
    "    def get(self, key):\n",
    "        \"\"\"\n",
    "        :type key: int\n",
    "        :rtype: int\n",
    "        \"\"\"\n",
    "        if key in self:\n",
    "            self.move_to_end(key)        \n",
    "            return self[key]\n",
    "    \n",
    "        return -1\n",
    "\n",
    "    def put(self, key, value):\n",
    "        \"\"\"\n",
    "        :type key: int\n",
    "        :type value: int\n",
    "        :rtype: void\n",
    "        \"\"\"\n",
    "        if key in self:\n",
    "            self.move_to_end(key)\n",
    "            \n",
    "        self[key] = value\n",
    "        \n",
    "        if len(self) > self.capacity:\n",
    "            self.popitem(last = False)\n",
    "\n",
    "# Your LRUCache object will be instantiated and called as such:\n",
    "# obj = LRUCache(capacity)\n",
    "# param_1 = obj.get(key)\n",
    "# obj.put(key,value)"
   ]
  },
  {
   "cell_type": "markdown",
   "metadata": {},
   "source": [
    "## 380. Insert Delete GetRandom O(1) (List, Dict) (Amazon 14, Facebook 6, Microsoft 5)  \n",
    "O(1)  \n",
    "O(N)"
   ]
  },
  {
   "cell_type": "code",
   "execution_count": null,
   "metadata": {},
   "outputs": [],
   "source": [
    "class RandomizedSet:\n",
    "\n",
    "    def __init__(self):\n",
    "        \"\"\"\n",
    "        Initialize your data structure here.\n",
    "        \"\"\"\n",
    "        self.array = []\n",
    "        self.dic = {}\n",
    "\n",
    "    def insert(self, val):\n",
    "        \"\"\"\n",
    "        Inserts a value to the set. Returns true if the set did not already contain the specified element.\n",
    "        :type val: int\n",
    "        :rtype: bool\n",
    "        \"\"\"\n",
    "        if val not in self.dic:\n",
    "            self.array.append(val)\n",
    "            self.dic[val] = self.array.index(val)\n",
    "            return True\n",
    "        \n",
    "        return False\n",
    "        \n",
    "\n",
    "    def remove(self, val):\n",
    "        \"\"\"\n",
    "        Removes a value from the set. Returns true if the set contained the specified element.\n",
    "        :type val: int\n",
    "        :rtype: bool\n",
    "        \"\"\"\n",
    "        if val in self.dic:\n",
    "            index = self.dic[val]\n",
    "            self.array[index] = self.array[-1]\n",
    "            self.dic[self.array[-1]] = index\n",
    "            self.array.pop()\n",
    "            self.dic.pop(val)\n",
    "            \n",
    "            return True\n",
    "        \n",
    "        return False\n",
    "        \n",
    "\n",
    "    def getRandom(self):\n",
    "        \"\"\"\n",
    "        Get a random element from the set.\n",
    "        :rtype: int\n",
    "        \"\"\"\n",
    "        return random.choice(self.array)"
   ]
  },
  {
   "cell_type": "code",
   "execution_count": 17,
   "metadata": {},
   "outputs": [
    {
     "data": {
      "text/plain": [
       "{2: 3}"
      ]
     },
     "execution_count": 17,
     "metadata": {},
     "output_type": "execute_result"
    }
   ],
   "source": [
    "dic = {1:2, 2:3}\n",
    "dic.pop(1, 0)\n",
    "dic"
   ]
  },
  {
   "cell_type": "markdown",
   "metadata": {},
   "source": [
    "## 359. Logger Rate Limiter (Dict) (Google 11)"
   ]
  },
  {
   "cell_type": "code",
   "execution_count": null,
   "metadata": {},
   "outputs": [],
   "source": [
    "class Logger:\n",
    "    def __init__(self):\n",
    "        \"\"\"\n",
    "        Initialize your data structure here.\n",
    "        \"\"\"\n",
    "        self.dic = {}\n",
    "\n",
    "    def shouldPrintMessage(self, timestamp: int, message: str) -> bool:\n",
    "        \"\"\"\n",
    "        Returns true if the message should be printed in the given timestamp, otherwise returns false.\n",
    "        If this method returns false, the message will not be printed.\n",
    "        The timestamp is in seconds granularity.\n",
    "        \"\"\"\n",
    "        if message in self.dic and timestamp - self.dic[message] < 10: \n",
    "                return False\n",
    "    \n",
    "        self.dic[message] = timestamp\n",
    "        return True"
   ]
  },
  {
   "cell_type": "markdown",
   "metadata": {},
   "source": [
    "## 706. Design HashMap (Dict) (Amazon 3, Microsoft 2)"
   ]
  },
  {
   "cell_type": "code",
   "execution_count": null,
   "metadata": {},
   "outputs": [],
   "source": [
    "class MyHashMap:\n",
    "\n",
    "    def __init__(self):\n",
    "        \"\"\"\n",
    "        Initialize your data structure here.\n",
    "        \"\"\"\n",
    "        self.map = {}\n",
    "\n",
    "    def put(self, key: int, value: int) -> None:\n",
    "        \"\"\"\n",
    "        value will always be non-negative.\n",
    "        \"\"\"\n",
    "        self.map[key] = value\n",
    "\n",
    "    def get(self, key: int) -> int:\n",
    "        \"\"\"\n",
    "        Returns the value to which the specified key is mapped, or -1 if this map contains no mapping for the key\n",
    "        \"\"\"\n",
    "        if key not in self.map:\n",
    "            return -1\n",
    "        return self.map[key]\n",
    "\n",
    "    def remove(self, key: int) -> None:\n",
    "        \"\"\"\n",
    "        Removes the mapping of the specified value key if this map contains a mapping for the key\n",
    "        \"\"\"\n",
    "        if key in self.map:\n",
    "            del self.map[key]"
   ]
  },
  {
   "cell_type": "code",
   "execution_count": 3,
   "metadata": {},
   "outputs": [
    {
     "ename": "KeyError",
     "evalue": "3",
     "output_type": "error",
     "traceback": [
      "\u001b[0;31m---------------------------------------------------------------------------\u001b[0m",
      "\u001b[0;31mKeyError\u001b[0m                                  Traceback (most recent call last)",
      "\u001b[0;32m<ipython-input-3-6de9defdc17b>\u001b[0m in \u001b[0;36m<module>\u001b[0;34m\u001b[0m\n\u001b[1;32m      1\u001b[0m \u001b[0mdic\u001b[0m \u001b[0;34m=\u001b[0m \u001b[0;34m{\u001b[0m\u001b[0;36m1\u001b[0m\u001b[0;34m:\u001b[0m\u001b[0;36m2\u001b[0m\u001b[0;34m}\u001b[0m\u001b[0;34m\u001b[0m\u001b[0;34m\u001b[0m\u001b[0m\n\u001b[0;32m----> 2\u001b[0;31m \u001b[0mdic\u001b[0m\u001b[0;34m.\u001b[0m\u001b[0mpop\u001b[0m\u001b[0;34m(\u001b[0m\u001b[0;36m3\u001b[0m\u001b[0;34m)\u001b[0m\u001b[0;34m\u001b[0m\u001b[0;34m\u001b[0m\u001b[0m\n\u001b[0m\u001b[1;32m      3\u001b[0m \u001b[0mdic\u001b[0m\u001b[0;34m\u001b[0m\u001b[0;34m\u001b[0m\u001b[0m\n",
      "\u001b[0;31mKeyError\u001b[0m: 3"
     ]
    }
   ],
   "source": [
    "dic = {1:2}"
   ]
  },
  {
   "cell_type": "markdown",
   "metadata": {},
   "source": [
    "## 981. Time Based Key-Value Store (Dict) (Google 10, Amazon 7)"
   ]
  },
  {
   "cell_type": "code",
   "execution_count": null,
   "metadata": {},
   "outputs": [],
   "source": [
    "# For each key we get or set, we only care about the timestamps and values for that key. We can store this information in a HashMap.\n",
    "# Now, for each key, we can binary search the sorted list of timestamps to find the relevant value for that key.\n",
    "import collections\n",
    "\n",
    "class TimeMap:\n",
    "    def __init__(self):\n",
    "        self.times = collections.defaultdict(list)\n",
    "        self.values = collections.defaultdict(list)\n",
    "\n",
    "    def set(self, key, value, timestamp):\n",
    "        \"\"\"\n",
    "        :type key: str\n",
    "        :type value: str\n",
    "        :type timestamp: int\n",
    "        :rtype: None\n",
    "        \"\"\"\n",
    "        \n",
    "        self.times[key].append(timestamp)\n",
    "        self.values[key].append(value)\n",
    "\n",
    "    def get(self, key, timestamp):\n",
    "        \"\"\"\n",
    "        :type key: str\n",
    "        :type timestamp: int\n",
    "        :rtype: str\n",
    "        \"\"\"\n",
    "        \n",
    "        i = bisect.bisect(self.times[key], timestamp)\n",
    "        return self.values[key][i - 1] if i else ''"
   ]
  },
  {
   "cell_type": "markdown",
   "metadata": {},
   "source": [
    "## 208. Implement Trie (Prefix Tree) (Dict) (Amazon 7, Google 6)\n",
    "\n",
    "O(N)  \n",
    "O(N)"
   ]
  },
  {
   "cell_type": "code",
   "execution_count": null,
   "metadata": {},
   "outputs": [],
   "source": [
    "class TrieNode:\n",
    "    def __init__(self):\n",
    "        \"\"\"\n",
    "        Initialize your data structure here.\n",
    "        \"\"\"\n",
    "        self.childs = {}\n",
    "        self.isWord = False\n",
    "\n",
    "class Trie:\n",
    "    def __init__(self):\n",
    "        self.root = TrieNode()\n",
    "\n",
    "    def insert(self, word):\n",
    "        \"\"\"\n",
    "        Inserts a word into the trie.\n",
    "        :type word: str\n",
    "        :rtype: void\n",
    "        \"\"\"\n",
    "        node = self.root\n",
    "        for c in word:\n",
    "            child = node.childs.get(c)\n",
    "            if not child:\n",
    "                child = TrieNode()\n",
    "                node.childs[c] = child\n",
    "            node = child\n",
    "        node.isWord = True\n",
    "\n",
    "    def search(self, word):\n",
    "        \"\"\"\n",
    "        Returns if the word is in the trie.\n",
    "        :type word: str\n",
    "        :rtype: bool\n",
    "        \"\"\"\n",
    "        node = self.root\n",
    "        for c in word:\n",
    "            child = node.childs.get(c)\n",
    "            if not child:\n",
    "                return False\n",
    "            node = child\n",
    "        return node.isWord\n",
    "\n",
    "\n",
    "    def startsWith(self, prefix):\n",
    "        \"\"\"\n",
    "        Returns if there is any word in the trie\n",
    "        that starts with the given prefix.\n",
    "        :type prefix: str\n",
    "        :rtype: bool\n",
    "        \"\"\"\n",
    "        node = self.root\n",
    "        for c in prefix:\n",
    "            child = node.childs.get(c)\n",
    "            if not child:\n",
    "                return False\n",
    "            node = child\n",
    "        return True\n",
    "\n",
    "# Your Trie object will be instantiated and called as such:\n",
    "# obj = Trie()\n",
    "# obj.insert(word)\n",
    "# param_2 = obj.search(word)\n",
    "# param_3 = obj.startsWith(prefix)"
   ]
  },
  {
   "cell_type": "code",
   "execution_count": 2,
   "metadata": {},
   "outputs": [
    {
     "data": {
      "text/plain": [
       "'\\x7f'"
      ]
     },
     "execution_count": 2,
     "metadata": {},
     "output_type": "execute_result"
    }
   ],
   "source": [
    "chr(127)"
   ]
  },
  {
   "cell_type": "markdown",
   "metadata": {},
   "source": [
    "## 155. Min Stack (List and heapq) (Amazon 16, Microsoft 8, Google 7, Apple 5)\n"
   ]
  },
  {
   "cell_type": "code",
   "execution_count": null,
   "metadata": {},
   "outputs": [],
   "source": [
    "class MinStack:\n",
    "\n",
    "    # 辅助栈和数据栈同步\n",
    "    # 思路简单不容易出错\n",
    "\n",
    "    def __init__(self):\n",
    "        # 数据栈\n",
    "        self.data = []\n",
    "        # 辅助栈\n",
    "        self.helper = []\n",
    "\n",
    "    def push(self, x):\n",
    "        self.data.append(x)\n",
    "        if len(self.helper) == 0 or x <= self.helper[-1]:\n",
    "            self.helper.append(x)\n",
    "        else:\n",
    "            self.helper.append(self.helper[-1])\n",
    "\n",
    "    def pop(self):\n",
    "        self.helper.pop()\n",
    "        return self.data.pop()\n",
    "\n",
    "    def top(self):\n",
    "        return self.data[-1]\n",
    "\n",
    "    def getMin(self):\n",
    "        return self.helper[-1]"
   ]
  },
  {
   "cell_type": "code",
   "execution_count": null,
   "metadata": {},
   "outputs": [],
   "source": [
    "# push O(1) + pop O(lgN) + top O(1) + getMin O(1)  \n",
    "# O(N)\n",
    "from heapq import *\n",
    "\n",
    "class MinStack:\n",
    "    def __init__(self):\n",
    "        \"\"\"\n",
    "        initialize your data structure here.\n",
    "        \"\"\"\n",
    "        self.array = []\n",
    "        self.heap = []\n",
    "\n",
    "    def push(self, x):\n",
    "        \"\"\"\n",
    "        :type x: int\n",
    "        :rtype: None\n",
    "        \"\"\"\n",
    "        \n",
    "        self.array.append(x)\n",
    "        heappush(self.heap,x)\n",
    "\n",
    "    def pop(self):\n",
    "        \"\"\"\n",
    "        :rtype: None\n",
    "        \"\"\"\n",
    "        \n",
    "        val = self.array.pop()\n",
    "        self.heap.remove(val)\n",
    "        heapify(self.heap)\n",
    "\n",
    "    def top(self):\n",
    "        \"\"\"\n",
    "        :rtype: int\n",
    "        \"\"\"\n",
    "        \n",
    "        return self.array[-1]\n",
    "\n",
    "    def getMin(self):\n",
    "        \"\"\"\n",
    "        :rtype: int\n",
    "        \"\"\"\n",
    "        return self.heap[0]\n",
    "\n",
    "# Your MinStack object will be instantiated and called as such:\n",
    "# obj = MinStack()\n",
    "# obj.push(x)\n",
    "# obj.pop()\n",
    "# param_3 = obj.top()\n",
    "# param_4 = obj.getMin()"
   ]
  },
  {
   "cell_type": "code",
   "execution_count": 7,
   "metadata": {},
   "outputs": [
    {
     "ename": "AttributeError",
     "evalue": "'list' object has no attribute 'rfind'",
     "output_type": "error",
     "traceback": [
      "\u001b[0;31m---------------------------------------------------------------------------\u001b[0m",
      "\u001b[0;31mAttributeError\u001b[0m                            Traceback (most recent call last)",
      "\u001b[0;32m<ipython-input-7-983f5a03c335>\u001b[0m in \u001b[0;36m<module>\u001b[0;34m\u001b[0m\n\u001b[1;32m      1\u001b[0m \u001b[0marray\u001b[0m \u001b[0;34m=\u001b[0m \u001b[0;34m[\u001b[0m\u001b[0;36m1\u001b[0m\u001b[0;34m,\u001b[0m\u001b[0;36m2\u001b[0m\u001b[0;34m,\u001b[0m\u001b[0;36m3\u001b[0m\u001b[0;34m]\u001b[0m\u001b[0;34m\u001b[0m\u001b[0;34m\u001b[0m\u001b[0m\n\u001b[0;32m----> 2\u001b[0;31m \u001b[0marray\u001b[0m\u001b[0;34m.\u001b[0m\u001b[0mrfind\u001b[0m\u001b[0;34m(\u001b[0m\u001b[0;36m3\u001b[0m\u001b[0;34m)\u001b[0m\u001b[0;34m\u001b[0m\u001b[0;34m\u001b[0m\u001b[0m\n\u001b[0m",
      "\u001b[0;31mAttributeError\u001b[0m: 'list' object has no attribute 'rfind'"
     ]
    }
   ],
   "source": [
    "array = [1,2,3]\n",
    "array.rfind(3)"
   ]
  },
  {
   "cell_type": "markdown",
   "metadata": {},
   "source": [
    "## 716. Max Stack (List, heapq) (Linkedin 14, Amazon 4, Google Phone)"
   ]
  },
  {
   "cell_type": "code",
   "execution_count": null,
   "metadata": {},
   "outputs": [],
   "source": [
    "import heapq\n",
    "class MaxStack:\n",
    "\n",
    "    def __init__(self):\n",
    "        \"\"\"\n",
    "        initialize your data structure here.\n",
    "        \"\"\"\n",
    "        self.stack = []\n",
    "        self.heap = []\n",
    "\n",
    "    def push(self, x):\n",
    "        \"\"\"\n",
    "        :type x: int\n",
    "        :rtype: None\n",
    "        \"\"\"\n",
    "        \n",
    "        self.stack.append(x)\n",
    "        heapq.heappush(self.heap, -x)\n",
    "\n",
    "    def pop(self):\n",
    "        \"\"\"\n",
    "        :rtype: int\n",
    "        \"\"\"\n",
    "        item = self.stack.pop()\n",
    "        self.heap.remove(-item)\n",
    "        heapq.heapify(self.heap)\n",
    "        return item\n",
    "        \n",
    "    def top(self) :\n",
    "        \"\"\"\n",
    "        :rtype: int\n",
    "        \"\"\"\n",
    "        return self.stack[-1]\n",
    "\n",
    "    def peekMax(self):\n",
    "        \"\"\"\n",
    "        :rtype: int\n",
    "        \"\"\"\n",
    "        return - self.heap[0]\n",
    "\n",
    "    def popMax(self) :\n",
    "        \"\"\"\n",
    "        :rtype: int\n",
    "        \"\"\"\n",
    "#         maxi = - self.heap.pop(0)\n",
    "#         heapq.heapify(self.heap)\n",
    "\n",
    "        maxi = - heapq.heappop(self.heap)\n",
    "        for i in range(len(self.stack)-1, -1,-1):\n",
    "            if self.stack[i] == maxi:\n",
    "                self.stack.pop(i)\n",
    "                return maxi"
   ]
  },
  {
   "cell_type": "markdown",
   "metadata": {},
   "source": [
    "## 295. Find Median From Data Stream (heapq) (Amazon 20) (Hard)\n",
    "\n",
    "O(logN)  \n",
    "O(N)"
   ]
  },
  {
   "cell_type": "code",
   "execution_count": null,
   "metadata": {},
   "outputs": [],
   "source": [
    "from heapq import *\n",
    "class MedianFinder:\n",
    "    def __init__(self):\n",
    "        self.small = []  # the smaller half of the list, max heap (invert min-heap)\n",
    "        self.large = []  # the larger half of the list, min heap\n",
    "\n",
    "    def addNum(self, num):\n",
    "        if len(self.small) == len(self.large):\n",
    "            heappush(self.large, -heappushpop(self.small, -num))\n",
    "        else:\n",
    "            heappush(self.small, -heappushpop(self.large, num))\n",
    "\n",
    "    def findMedian(self):\n",
    "        if len(self.small) == len(self.large):\n",
    "            return (self.large[0] - self.small[0]) / 2\n",
    "        else:\n",
    "            return self.large[0]\n",
    "        \n",
    "# Your MedianFinder object will be instantiated and called as such:\n",
    "# obj = MedianFinder()\n",
    "# obj.addNum(num)\n",
    "# param_2 = obj.findMedian()"
   ]
  },
  {
   "cell_type": "markdown",
   "metadata": {},
   "source": [
    "## 449. Serialize and Deserialize BST (Facebook 3)\n",
    "\n",
    "O(N)  \n",
    "O(N)"
   ]
  },
  {
   "cell_type": "code",
   "execution_count": null,
   "metadata": {},
   "outputs": [],
   "source": [
    "class Codec: \n",
    "    def serialize(self, root):\n",
    "        \"\"\"Encodes a tree to a single string.\n",
    "        \n",
    "        :type root: TreeNode\n",
    "        :rtype: str\n",
    "        \"\"\"\n",
    "        def postorder(root):\n",
    "            return postorder(root.left) + postorder(root.right) + [root.val] if root else []\n",
    "        return ' '.join(map(str, postorder(root)))\n",
    "\n",
    "    def deserialize(self, data):\n",
    "        \"\"\"Decodes your encoded data to tree.\n",
    "        \n",
    "        :type data: str\n",
    "        :rtype: TreeNode\n",
    "        \"\"\"\n",
    "        def helper(lower = float('-inf'), upper = float('inf')):\n",
    "            if not data or data[-1] < lower or data[-1] > upper:\n",
    "                return None\n",
    "            \n",
    "            val = data.pop()\n",
    "            root = TreeNode(val)\n",
    "            root.right = helper(val, upper)\n",
    "            root.left = helper(lower, val)\n",
    "            return root\n",
    "        \n",
    "        data = [int(x) for x in data.split(' ') if x]\n",
    "        return helper()"
   ]
  },
  {
   "cell_type": "code",
   "execution_count": 8,
   "metadata": {},
   "outputs": [
    {
     "data": {
      "text/plain": [
       "'a'"
      ]
     },
     "execution_count": 8,
     "metadata": {},
     "output_type": "execute_result"
    }
   ],
   "source": [
    "''.join(['a'])"
   ]
  },
  {
   "cell_type": "code",
   "execution_count": 11,
   "metadata": {},
   "outputs": [
    {
     "data": {
      "text/plain": [
       "[1, 2]"
      ]
     },
     "execution_count": 11,
     "metadata": {},
     "output_type": "execute_result"
    }
   ],
   "source": [
    "[1] + [2]"
   ]
  },
  {
   "cell_type": "code",
   "execution_count": 12,
   "metadata": {},
   "outputs": [
    {
     "data": {
      "text/plain": [
       "'[4, 3, 2]'"
      ]
     },
     "execution_count": 12,
     "metadata": {},
     "output_type": "execute_result"
    }
   ],
   "source": [
    "str([4,3,2])"
   ]
  },
  {
   "cell_type": "code",
   "execution_count": 15,
   "metadata": {},
   "outputs": [
    {
     "data": {
      "text/plain": [
       "['4', '3', '2']"
      ]
     },
     "execution_count": 15,
     "metadata": {},
     "output_type": "execute_result"
    }
   ],
   "source": [
    "list(map(str, [4,3,2]))"
   ]
  },
  {
   "cell_type": "code",
   "execution_count": 13,
   "metadata": {},
   "outputs": [
    {
     "data": {
      "text/plain": [
       "'4 3 2'"
      ]
     },
     "execution_count": 13,
     "metadata": {},
     "output_type": "execute_result"
    }
   ],
   "source": [
    "' '.join(map(str, [4,3,2]))"
   ]
  },
  {
   "cell_type": "code",
   "execution_count": 14,
   "metadata": {},
   "outputs": [
    {
     "ename": "AttributeError",
     "evalue": "'str' object has no attribute 'pop'",
     "output_type": "error",
     "traceback": [
      "\u001b[0;31m---------------------------------------------------------------------------\u001b[0m",
      "\u001b[0;31mAttributeError\u001b[0m                            Traceback (most recent call last)",
      "\u001b[0;32m<ipython-input-14-90db7ff1c2db>\u001b[0m in \u001b[0;36m<module>\u001b[0;34m\u001b[0m\n\u001b[1;32m      1\u001b[0m \u001b[0ms\u001b[0m \u001b[0;34m=\u001b[0m \u001b[0;34m'2ss'\u001b[0m\u001b[0;34m\u001b[0m\u001b[0;34m\u001b[0m\u001b[0m\n\u001b[0;32m----> 2\u001b[0;31m \u001b[0ms\u001b[0m\u001b[0;34m.\u001b[0m\u001b[0mpop\u001b[0m\u001b[0;34m(\u001b[0m\u001b[0;34m)\u001b[0m\u001b[0;34m\u001b[0m\u001b[0;34m\u001b[0m\u001b[0m\n\u001b[0m",
      "\u001b[0;31mAttributeError\u001b[0m: 'str' object has no attribute 'pop'"
     ]
    }
   ],
   "source": [
    "s = '2ss'\n",
    "s.pop()"
   ]
  },
  {
   "cell_type": "markdown",
   "metadata": {},
   "source": [
    "## 297. Serialize and Deserialize Binary Tree (Queue-BFS) (Facebook 29, Amazon 27, Linkedin 9, Microsoft 9, Google 5)\n",
    "\n",
    "O(N)  \n",
    "O(N)"
   ]
  },
  {
   "cell_type": "code",
   "execution_count": null,
   "metadata": {},
   "outputs": [],
   "source": [
    "# Definition for a binary tree node.\n",
    "# class TreeNode(object):\n",
    "#     def __init__(self, x):\n",
    "#         self.val = x\n",
    "#         self.left = None\n",
    "#         self.right = None\n",
    "\n",
    "class Codec:\n",
    "    def serialize(self, root):\n",
    "        \"\"\"Encodes a tree to a single string.\n",
    "        \n",
    "        :type root: TreeNode\n",
    "        :rtype: str\n",
    "        \"\"\"\n",
    "\n",
    "        s = \"\"\n",
    "        queue = [root]\n",
    "\n",
    "        while queue:\n",
    "            node = queue.pop(0)\n",
    "            if node:\n",
    "                s += str(node.val)\n",
    "                queue.append(node.left)\n",
    "                queue.append(node.right)\n",
    "            else:\n",
    "                s += \"n\"\n",
    "            s += \" \"        \n",
    "        return s\n",
    "\n",
    "    def deserialize(self, data):\n",
    "        \"\"\"Decodes your encoded data to tree.\n",
    "        \n",
    "        :type data: str\n",
    "        :rtype: TreeNode\n",
    "        \"\"\"\n",
    " \n",
    "        data = data.split()\n",
    "#         print(tree)\n",
    "        if data[0] == \"n\":\n",
    "            return None\n",
    "        \n",
    "        \n",
    "        root = TreeNode(int(data[0]))\n",
    "        queue = [root]\n",
    "        i = 1\n",
    "        \n",
    "        while queue:\n",
    "            node = queue.pop(0)\n",
    "            if not node:\n",
    "                continue\n",
    "                \n",
    "            if data[i] != 'n':\n",
    "                node.left = TreeNode(int(data[i]))\n",
    "            else:\n",
    "                node.left = None\n",
    "\n",
    "            if data[i+1] != 'n':\n",
    "                node.right = TreeNode(int(data[i+1]))\n",
    "            else:\n",
    "                node.right = None\n",
    "            \n",
    "            queue.append(node.left)\n",
    "            queue.append(node.right)           \n",
    "            i += 2\n",
    "        return root\n",
    "        \n",
    "\n",
    "# Your Codec object will be instantiated and called as such:\n",
    "# codec = Codec()\n",
    "# codec.deserialize(codec.serialize(root))"
   ]
  },
  {
   "cell_type": "code",
   "execution_count": 17,
   "metadata": {},
   "outputs": [
    {
     "data": {
      "text/plain": [
       "{2: 3}"
      ]
     },
     "execution_count": 17,
     "metadata": {},
     "output_type": "execute_result"
    }
   ],
   "source": [
    "dic = {1:2, 2:3}\n",
    "dic.pop(1, 0)\n",
    "dic"
   ]
  },
  {
   "cell_type": "markdown",
   "metadata": {},
   "source": [
    "## 428. Serialize and Deserialize N-ary Tree (Microsoft 4)\n",
    "O(N)  \n",
    "O(N)"
   ]
  },
  {
   "cell_type": "code",
   "execution_count": null,
   "metadata": {},
   "outputs": [],
   "source": [
    "class Codec:\n",
    "    def serialize(self, root):\n",
    "        if not root:\n",
    "            return {}\n",
    "        \n",
    "        # if not root.children:\n",
    "        #     return root.val\n",
    "        \n",
    "        return {'value': root.val, 'children': [self.serialize(child) for child in root.children]} \n",
    "\n",
    "    def deserialize(self, data):\n",
    "        if not data:\n",
    "            return \n",
    "        \n",
    "        return Node(data['value'], [self.deserialize(child) for child in data['children']])"
   ]
  },
  {
   "cell_type": "markdown",
   "metadata": {},
   "source": [
    "## 431. Encode N-ary Tree to Binary Tree (Microsoft 2)\n",
    "\n",
    "The left child of a binary node is the subtree encoding all the children of the corresponding n-ary node.  \n",
    "The right child of a binary node is a chain of the binary root nodes encoding each sibling of the n-ary node.  \n",
    "Hence the root node has no right binary child, because the root has no sibilings."
   ]
  },
  {
   "cell_type": "code",
   "execution_count": null,
   "metadata": {},
   "outputs": [],
   "source": [
    "class Codec:\n",
    "    def encode(self, root):\n",
    "        if not root:\n",
    "            return None\n",
    "\n",
    "        binary = TreeNode(root.val)                 # create a binary root\n",
    "        if not root.children:\n",
    "            return binary\n",
    "\n",
    "        binary.left = self.encode(root.children[0]) # left child of binary is the encoding of all n-ary children,\n",
    "        node = binary.left                          #     starting with the first child.\n",
    "        for child in root.children[1:]:             # other children of n-ary root are right child of previous child\n",
    "            node.right = self.encode(child)\n",
    "            node = node.right\n",
    "\n",
    "        return binary\n",
    "\n",
    "    def decode(self, data):\n",
    "        if not data:\n",
    "            return None\n",
    "\n",
    "        nary = Node(data.val, [])                   # create n-ary root\n",
    "        node = data.left                            # move to first child of n-ary root\n",
    "        while node:                                 # while more children of n-ary root\n",
    "            nary.children.append(self.decode(node)) # append to list\n",
    "            node = node.right                       # and move to next child\n",
    "            \n",
    "        return nary"
   ]
  },
  {
   "cell_type": "markdown",
   "metadata": {},
   "source": [
    "## 173. Binary Search Tree Iterator (Stack) (Facebook 18, Microsoft 4)\n",
    "O(N)  \n",
    "O(N)"
   ]
  },
  {
   "cell_type": "code",
   "execution_count": null,
   "metadata": {},
   "outputs": [],
   "source": [
    "class BSTIterator:\n",
    "\n",
    "    def __init__(self, root: TreeNode):\n",
    "        self.stack = []\n",
    "        while root:\n",
    "            self.stack.append(root)\n",
    "            root = root.left\n",
    "            \n",
    "    def next(self) -> int:\n",
    "        \"\"\"\n",
    "        @return the next smallest number\n",
    "        \"\"\"\n",
    "        node = self.stack.pop()\n",
    "        tmp = node.right\n",
    "        while tmp:\n",
    "            self.stack.append(tmp)\n",
    "            tmp = tmp.left\n",
    "        return node.val\n",
    "\n",
    "    def hasNext(self) -> bool:\n",
    "        \"\"\"\n",
    "        @return whether we have a next smallest number\n",
    "        \"\"\"\n",
    "        return len(self.stack) > 0"
   ]
  },
  {
   "cell_type": "markdown",
   "metadata": {},
   "source": [
    "## Skip Iterator (Google Phone)\n",
    "https://leetcode.com/discuss/interview-question/341818/Google-or-Skip-Iterator "
   ]
  },
  {
   "cell_type": "code",
   "execution_count": 21,
   "metadata": {},
   "outputs": [],
   "source": [
    "from collections import defaultdict, Counter\n",
    "\n",
    "class SkipIterator:\n",
    "    def __init__(self, nums):\n",
    "        self.nums = deque(nums)\n",
    "        self.cnt = Counter()\n",
    "\n",
    "    def hasNext(self):\n",
    "        return len(self.nums) > 0\n",
    "    \n",
    "    def skip(self, i):\n",
    "        self.cnt[i] += 1\n",
    "\n",
    "    def next(self):\n",
    "        if not self.hasNext():\n",
    "            raise Exception('Error')\n",
    "        \n",
    "        if self.cnt[self.nums[0]] > 0:\n",
    "            self.cnt[self.nums[0]] -= 1\n",
    "            self.nums.popleft()\n",
    "            \n",
    "        return self.nums.popleft()"
   ]
  },
  {
   "cell_type": "code",
   "execution_count": 22,
   "metadata": {},
   "outputs": [
    {
     "data": {
      "text/plain": [
       "True"
      ]
     },
     "execution_count": 22,
     "metadata": {},
     "output_type": "execute_result"
    },
    {
     "data": {
      "text/plain": [
       "2"
      ]
     },
     "execution_count": 22,
     "metadata": {},
     "output_type": "execute_result"
    },
    {
     "data": {
      "text/plain": [
       "3"
      ]
     },
     "execution_count": 22,
     "metadata": {},
     "output_type": "execute_result"
    },
    {
     "data": {
      "text/plain": [
       "6"
      ]
     },
     "execution_count": 22,
     "metadata": {},
     "output_type": "execute_result"
    },
    {
     "data": {
      "text/plain": [
       "5"
      ]
     },
     "execution_count": 22,
     "metadata": {},
     "output_type": "execute_result"
    },
    {
     "data": {
      "text/plain": [
       "7"
      ]
     },
     "execution_count": 22,
     "metadata": {},
     "output_type": "execute_result"
    },
    {
     "data": {
      "text/plain": [
       "-1"
      ]
     },
     "execution_count": 22,
     "metadata": {},
     "output_type": "execute_result"
    },
    {
     "data": {
      "text/plain": [
       "10"
      ]
     },
     "execution_count": 22,
     "metadata": {},
     "output_type": "execute_result"
    },
    {
     "data": {
      "text/plain": [
       "False"
      ]
     },
     "execution_count": 22,
     "metadata": {},
     "output_type": "execute_result"
    },
    {
     "ename": "Exception",
     "evalue": "Error",
     "output_type": "error",
     "traceback": [
      "\u001b[0;31m---------------------------------------------------------------------------\u001b[0m",
      "\u001b[0;31mException\u001b[0m                                 Traceback (most recent call last)",
      "\u001b[0;32m<ipython-input-22-14a4c840adb5>\u001b[0m in \u001b[0;36m<module>\u001b[0;34m\u001b[0m\n\u001b[1;32m     12\u001b[0m \u001b[0mitr\u001b[0m\u001b[0;34m.\u001b[0m\u001b[0mnext\u001b[0m\u001b[0;34m(\u001b[0m\u001b[0;34m)\u001b[0m  \u001b[0;31m#returns 10\u001b[0m\u001b[0;34m\u001b[0m\u001b[0;34m\u001b[0m\u001b[0m\n\u001b[1;32m     13\u001b[0m \u001b[0mitr\u001b[0m\u001b[0;34m.\u001b[0m\u001b[0mhasNext\u001b[0m\u001b[0;34m(\u001b[0m\u001b[0;34m)\u001b[0m \u001b[0;31m# false\u001b[0m\u001b[0;34m\u001b[0m\u001b[0;34m\u001b[0m\u001b[0m\n\u001b[0;32m---> 14\u001b[0;31m \u001b[0mitr\u001b[0m\u001b[0;34m.\u001b[0m\u001b[0mnext\u001b[0m\u001b[0;34m(\u001b[0m\u001b[0;34m)\u001b[0m \u001b[0;31m# error\u001b[0m\u001b[0;34m\u001b[0m\u001b[0;34m\u001b[0m\u001b[0m\n\u001b[0m",
      "\u001b[0;32m<ipython-input-21-2fd4149f8f3a>\u001b[0m in \u001b[0;36mnext\u001b[0;34m(self)\u001b[0m\n\u001b[1;32m     14\u001b[0m     \u001b[0;32mdef\u001b[0m \u001b[0mnext\u001b[0m\u001b[0;34m(\u001b[0m\u001b[0mself\u001b[0m\u001b[0;34m)\u001b[0m\u001b[0;34m:\u001b[0m\u001b[0;34m\u001b[0m\u001b[0;34m\u001b[0m\u001b[0m\n\u001b[1;32m     15\u001b[0m         \u001b[0;32mif\u001b[0m \u001b[0;32mnot\u001b[0m \u001b[0mself\u001b[0m\u001b[0;34m.\u001b[0m\u001b[0mhasNext\u001b[0m\u001b[0;34m(\u001b[0m\u001b[0;34m)\u001b[0m\u001b[0;34m:\u001b[0m\u001b[0;34m\u001b[0m\u001b[0;34m\u001b[0m\u001b[0m\n\u001b[0;32m---> 16\u001b[0;31m             \u001b[0;32mraise\u001b[0m \u001b[0mException\u001b[0m\u001b[0;34m(\u001b[0m\u001b[0;34m'Error'\u001b[0m\u001b[0;34m)\u001b[0m\u001b[0;34m\u001b[0m\u001b[0;34m\u001b[0m\u001b[0m\n\u001b[0m\u001b[1;32m     17\u001b[0m \u001b[0;34m\u001b[0m\u001b[0m\n\u001b[1;32m     18\u001b[0m         \u001b[0;32mif\u001b[0m \u001b[0mself\u001b[0m\u001b[0;34m.\u001b[0m\u001b[0mcnt\u001b[0m\u001b[0;34m[\u001b[0m\u001b[0mself\u001b[0m\u001b[0;34m.\u001b[0m\u001b[0mnums\u001b[0m\u001b[0;34m[\u001b[0m\u001b[0;36m0\u001b[0m\u001b[0;34m]\u001b[0m\u001b[0;34m]\u001b[0m \u001b[0;34m>\u001b[0m \u001b[0;36m0\u001b[0m\u001b[0;34m:\u001b[0m\u001b[0;34m\u001b[0m\u001b[0;34m\u001b[0m\u001b[0m\n",
      "\u001b[0;31mException\u001b[0m: Error"
     ]
    }
   ],
   "source": [
    "itr = SkipIterator([2, 3, 5, 6, 5, 7, 5, -1, 5, 10])\n",
    "itr.hasNext() # true\n",
    "itr.next() # returns 2\n",
    "itr.skip(5)\n",
    "itr.next() # returns 3\n",
    "itr.next() # returns 6 because 5 should be skipped\n",
    "itr.next() # returns 5\n",
    "itr.skip(5)\n",
    "itr.skip(5)\n",
    "itr.next() # returns 7\n",
    "itr.next() # returns -1\n",
    "itr.next()  #returns 10\n",
    "itr.hasNext() # false\n",
    "itr.next() # error\n"
   ]
  },
  {
   "cell_type": "markdown",
   "metadata": {},
   "source": [
    "## Implement Logger (Google Onsite)"
   ]
  },
  {
   "cell_type": "code",
   "execution_count": null,
   "metadata": {},
   "outputs": [],
   "source": [
    "import heapq\n",
    "\n",
    "class Logger:\n",
    "    def __init__(self):\n",
    "        self.store = {}\n",
    "        self.heap = []\n",
    "        \n",
    "    def start(self, pid, ts):\n",
    "        if pid not in self.store:\n",
    "            self.store[pid] = ts\n",
    "        \n",
    "    def end(self, pid, ts):\n",
    "        if pid in self.store:\n",
    "            heapq.heappush(self.heap, (self.store[pid], ts, pid))\n",
    "            del self.store[pid]\n",
    "    \n",
    "    def print(self):\n",
    "        tmp = self.heap[:]\n",
    "        \n",
    "        while len(tmp) > 0:\n",
    "            start, end, pid = heapq.heappop(tmp)\n",
    "            \n",
    "            print('{} started at {} and ended at {}'.format(pid, start, end))"
   ]
  },
  {
   "cell_type": "markdown",
   "metadata": {},
   "source": [
    "## 1146. Snap Array(Google 4 Phone)"
   ]
  },
  {
   "cell_type": "code",
   "execution_count": null,
   "metadata": {},
   "outputs": [],
   "source": [
    "from collections import defaultdict\n",
    "from copy import deepcopy\n",
    "class SnapshotArray:\n",
    "\n",
    "    def __init__(self, length):\n",
    "        \"\"\"\n",
    "        :type length: int\n",
    "        \"\"\"\n",
    "        self.arr = defaultdict(int)\n",
    "        self.snaps = []\n",
    "\n",
    "    def set(self, index, val):\n",
    "        \"\"\"\n",
    "        :type index: int\n",
    "        :type val: int\n",
    "        :rtype: None\n",
    "        \"\"\"\n",
    "        self.arr[index] = val\n",
    "\n",
    "    def snap(self):\n",
    "        \"\"\"\n",
    "        :rtype: int\n",
    "        \"\"\"\n",
    "        self.snaps.append(deepcopy(self.arr))\n",
    "        return len(self.snaps) - 1\n",
    "\n",
    "    def get(self, index, snap_id):\n",
    "        \"\"\"\n",
    "        :type index: int\n",
    "        :type snap_id: int\n",
    "        :rtype: int\n",
    "        \"\"\"\n",
    "        return self.snaps[snap_id][index]  "
   ]
  },
  {
   "cell_type": "markdown",
   "metadata": {},
   "source": [
    "## 843. Guess the Word (Google 12)"
   ]
  },
  {
   "cell_type": "code",
   "execution_count": null,
   "metadata": {},
   "outputs": [],
   "source": [
    "# \"\"\"\n",
    "# This is Master's API interface.\n",
    "# You should not implement it, or speculate about its implementation\n",
    "# \"\"\"\n",
    "# class Master:\n",
    "#     def guess(self, word: str) -> int:\n",
    "\n",
    "class Solution:\n",
    "    def findSecretWord(self, wordlist, master):\n",
    "        \"\"\"\n",
    "        :type wordlist: List[Str]\n",
    "        :type master: Master\n",
    "        :rtype: None\n",
    "        \"\"\"\n",
    "        import random\n",
    "        \n",
    "        new_wordlist = wordlist\n",
    "        while True:\n",
    "            test_word = random.choice(new_wordlist)\n",
    "            matches = master.guess(test_word)\n",
    "\n",
    "            if matches == 6:\n",
    "                return\n",
    "\n",
    "            wordlist = new_wordlist\n",
    "            new_wordlist = []\n",
    "            for word in wordlist:\n",
    "                dist = 0\n",
    "                for i in range(6):\n",
    "                    if word[i] == test_word[i]:\n",
    "                        dist += 1\n",
    "\n",
    "                if matches == dist:\n",
    "                    new_wordlist.append(word)"
   ]
  },
  {
   "cell_type": "markdown",
   "metadata": {},
   "source": [
    "## 855. Examn Room (Google 3)"
   ]
  },
  {
   "cell_type": "markdown",
   "metadata": {},
   "source": [
    "Use a list L to record the index of seats where people sit.    \n",
    "seat():  \n",
    "1. find the biggest distance at the start, at the end and in the middle.  \n",
    "2. insert index of seat  \n",
    "3. return index  "
   ]
  },
  {
   "cell_type": "code",
   "execution_count": null,
   "metadata": {},
   "outputs": [],
   "source": [
    "class ExamRoom:\n",
    "    def __init__(self, N):\n",
    "        self.N = N\n",
    "        self.students = []\n",
    "\n",
    "    def seat(self):\n",
    "        if not self.students: \n",
    "            index = 0\n",
    "        else:\n",
    "            d = self.students[0]\n",
    "            index = 0\n",
    "            for a, b in zip(self.students, self.students[1:]):\n",
    "                if (b - a) // 2 > d:\n",
    "                    d = (b - a) // 2\n",
    "                    index = (b + a) // 2\n",
    "                    \n",
    "            if self.N - 1 - self.students[-1] > d: \n",
    "                index = self.N - 1\n",
    "                \n",
    "        bisect.insort(self.students, index)\n",
    "        return index\n",
    "\n",
    "    def leave(self, p):\n",
    "        self.students.remove(p)"
   ]
  },
  {
   "cell_type": "code",
   "execution_count": null,
   "metadata": {},
   "outputs": [],
   "source": [
    "class ExamRoom:\n",
    "    def __init__(self, N):\n",
    "        self.N = N\n",
    "        self.students = []\n",
    "\n",
    "    def seat(self):\n",
    "        # Let's determine student, the position of the next\n",
    "        # student to sit down.\n",
    "        if not self.students:\n",
    "            student = 0\n",
    "        else:\n",
    "            # Tenatively, dist is the distance to the closest student,\n",
    "            # which is achieved by sitting in the position 'student'.\n",
    "            # We start by considering the left-most seat.\n",
    "            dist, student = self.students[0], 0\n",
    "            for i, s in enumerate(self.students):\n",
    "                if i:\n",
    "                    prev = self.students[i-1]\n",
    "                    # For each pair of adjacent students in positions (prev, s),\n",
    "                    # d is the distance to the closest student;\n",
    "                    # achieved at position prev + d.\n",
    "                    d = (s - prev) // 2\n",
    "                    if d > dist:\n",
    "                        dist, student = d, prev + d\n",
    "\n",
    "            # Considering the right-most seat.\n",
    "            d = self.N - 1 - self.students[-1]\n",
    "            if d > dist:\n",
    "                student = self.N - 1\n",
    "\n",
    "        # Add the student to our sorted list of positions.\n",
    "        bisect.insort(self.students, student)\n",
    "        return student\n",
    "\n",
    "    def leave(self, p):\n",
    "        self.students.remove(p)"
   ]
  },
  {
   "cell_type": "markdown",
   "metadata": {},
   "source": [
    "### Others"
   ]
  },
  {
   "cell_type": "markdown",
   "metadata": {},
   "source": [
    "## 412. Fizz Buzz\n",
    "\n",
    "O(N)"
   ]
  },
  {
   "cell_type": "code",
   "execution_count": null,
   "metadata": {},
   "outputs": [],
   "source": [
    "class Solution:\n",
    "    def fizzBuzz(self, n):\n",
    "        \"\"\"\n",
    "        :type n: int\n",
    "        :rtype: List[str]\n",
    "        \"\"\"\n",
    "        # ans list\n",
    "        ans = []\n",
    "\n",
    "        for num in range(1, n+1):\n",
    "\n",
    "            # divisible_by_3 = (num % 3 == 0)\n",
    "            # divisible_by_5 = (num % 5 == 0)\n",
    "\n",
    "            if num % 3 == 0 and num % 5 == 0:\n",
    "                # Divides by both 3 and 5, add FizzBuzz\n",
    "                ans.append(\"FizzBuzz\")\n",
    "            elif num % 3 == 0:\n",
    "                # Divides by 3, add Fizz\n",
    "                ans.append(\"Fizz\")\n",
    "            elif num % 5 == 0:\n",
    "                # Divides by 5, add Buzz\n",
    "                ans.append(\"Buzz\")\n",
    "            else:\n",
    "                # Not divisible by 3 or 5, add the number\n",
    "                ans.append(str(num))\n",
    "\n",
    "        return ans"
   ]
  },
  {
   "cell_type": "markdown",
   "metadata": {},
   "source": [
    "## 277. Find the Celebrity\n",
    "\n",
    "O(N) O(1)"
   ]
  },
  {
   "cell_type": "code",
   "execution_count": null,
   "metadata": {},
   "outputs": [],
   "source": [
    "class Solution(object):\n",
    "    def findCelebrity(self, n):\n",
    "        \"\"\"\n",
    "        :type n: int\n",
    "        :rtype: int\n",
    "        \"\"\"\n",
    "        res = 0\n",
    "        \n",
    "        # if celebrity > candidate, candidate must change to the celebrity, cause (knows(candidate, celebrity) == True)\n",
    "        # if candidate == celebrity: candidate won't change, cause celebrity knows nobody.\n",
    "        # after the loop, candidate is the only one can be the celebrity\n",
    "        for i in range(1, n):\n",
    "            if knows(res, i):\n",
    "                res = i\n",
    "                \n",
    "        # check people < candidate\n",
    "        for i in range(res):\n",
    "            if knows(res, i) or not(knows(i, res)):\n",
    "                return -1\n",
    "        \n",
    "        # check if people > candidate are all knows the candidate\n",
    "        for i in range(res+1, n):\n",
    "            if not knows(i, res):\n",
    "                return -1\n",
    "            \n",
    "        return res"
   ]
  },
  {
   "cell_type": "markdown",
   "metadata": {},
   "source": [
    "## 171. Excel Sheet Column Number\n",
    "\n",
    "This reverses the string, starts a sum at 0, creates a list of tuples of the index of each character in the reversed string (which corresponds to the exponent) and character itself. Add them up. We take ord(char) to turn the character to an integer, subtract 65 = ord('A') from it, and add one because we want A to equal 1, not 0."
   ]
  },
  {
   "cell_type": "code",
   "execution_count": null,
   "metadata": {},
   "outputs": [],
   "source": [
    "def titleToNumber(s):\n",
    "    s = s[::-1]\n",
    "    sum = 0\n",
    "    for exp, c in enumerate(s):\n",
    "        sum += (ord(c) - 64) * (26 ** exp)\n",
    "    return sum"
   ]
  },
  {
   "cell_type": "code",
   "execution_count": 33,
   "metadata": {},
   "outputs": [
    {
     "data": {
      "text/plain": [
       "'\\x14'"
      ]
     },
     "execution_count": 33,
     "metadata": {},
     "output_type": "execute_result"
    },
    {
     "data": {
      "text/plain": [
       "65"
      ]
     },
     "execution_count": 33,
     "metadata": {},
     "output_type": "execute_result"
    }
   ],
   "source": [
    "chr(20)\n",
    "ord('A')"
   ]
  },
  {
   "cell_type": "markdown",
   "metadata": {},
   "source": [
    "## 904. Fruit Into Baskets (2 Pointers) (Googe 4)\n",
    "Google \n",
    "O(N)\n",
    "\n",
    "What is the length of longest subarray that contains up to two distinct integers?"
   ]
  },
  {
   "cell_type": "code",
   "execution_count": null,
   "metadata": {},
   "outputs": [],
   "source": [
    "class Solution(object):\n",
    "    def totalFruit(self, tree):\n",
    "        ans = i = 0\n",
    "        count = collections.Counter()\n",
    "        for j, x in enumerate(tree):\n",
    "            count[x] += 1\n",
    "            while len(count) >= 3:\n",
    "                count[tree[i]] -= 1\n",
    "                if count[tree[i]] == 0:\n",
    "                    del count[tree[i]]\n",
    "                i += 1\n",
    "            ans = max(ans, j - i + 1)\n",
    "        return ans"
   ]
  },
  {
   "cell_type": "markdown",
   "metadata": {},
   "source": [
    "## 399. Evaluate Division\n",
    "\n",
    "Although this looks like a math problem, we can easily model it with graph.\n",
    "\n",
    "For example:\n",
    "Given:\n",
    "a/b = 2.0, b/c = 3.0\n",
    "We can build a directed graph:\n",
    "a -- 2.0 --> b -- 3.0 --> c\n",
    "If we were asked to find a/c, we have:\n",
    "a/c = a/b * b/c = 2.0 * 3.0\n",
    "In the graph, it is the product of costs of edges.\n",
    "\n",
    "Do notice that, 2 edges need to added into the graph with one given equation,\n",
    "because with a/b we also get result of b/a, which is the reciprocal of a/b.\n",
    "\n",
    "so the previous example also gives edges:\n",
    "c -- 0.333 --> b -- 0.5 --> a\n",
    "\n",
    "Now we know how to model this problem, what we need to do is simply build the\n",
    "graph with given equations, and traverse the graph, either DFS or BFS, to find a path\n",
    "for a given query, and the result is the product of costs of edges on the path.\n",
    "\n",
    "One optimization, which is not implemented in the code, is to \"compress\" paths for\n",
    "past queries, which will make future searches faster. This is the same idea used in\n",
    "compressing paths in union find set. So after a query is conducted and a result is found,\n",
    "we add two edges for this query if these edges are not already in the graph.\n",
    "\n",
    "Given the number of variables N, and number of equations E,\n",
    "building the graph takes O(E), each query takes O(N), space for graph takes O(E)\n",
    "\n",
    "I think if we start to compress paths, the graph will grow to O(N^2), and we\n",
    "can optimize the query to O(1), please correct me if I'm wrong.\n",
    "\n"
   ]
  },
  {
   "cell_type": "code",
   "execution_count": 116,
   "metadata": {},
   "outputs": [],
   "source": [
    "class Solution:\n",
    "    def calcEquation(self, equations, values, queries):\n",
    "\n",
    "        graph = {}\n",
    "        \n",
    "        def build_graph(equations, values):\n",
    "            def add_edge(f, t, value):\n",
    "                if f in graph:\n",
    "                    graph[f].append((t, value))\n",
    "                else:\n",
    "                    graph[f] = [(t, value)]\n",
    "            \n",
    "            for vertices, value in zip(equations, values):\n",
    "                f, t = vertices\n",
    "                add_edge(f, t, value)\n",
    "                add_edge(t, f, 1/value)\n",
    "        \n",
    "        def find_path(query):\n",
    "            b, e = query\n",
    "            \n",
    "            if b not in graph or e not in graph:\n",
    "                return -1.0\n",
    "                \n",
    "            q = [(b, 1.0)]\n",
    "            visited = set()\n",
    "            \n",
    "            while q:\n",
    "                front, cur_product = q.pop(0)\n",
    "                if front == e:\n",
    "                    return cur_product\n",
    "                visited.add(front)\n",
    "                for neighbor, value in graph[front]:\n",
    "                    if neighbor not in visited:\n",
    "                        q.append((neighbor, cur_product*value))\n",
    "            \n",
    "            return -1.0\n",
    "        \n",
    "        build_graph(equations, values)\n",
    "        return [find_path(q) for q in queries]"
   ]
  },
  {
   "cell_type": "code",
   "execution_count": 118,
   "metadata": {},
   "outputs": [
    {
     "name": "stdout",
     "output_type": "stream",
     "text": [
      "vertices= ['a', 'b']\n",
      "value= 2.0\n",
      "vertices= ['b', 'c']\n",
      "value= 3.0\n"
     ]
    },
    {
     "data": {
      "text/plain": [
       "{'a': [('b', 2.0)],\n",
       " 'b': [('a', 0.5), ('c', 3.0)],\n",
       " 'c': [('b', 0.3333333333333333)]}"
      ]
     },
     "execution_count": 118,
     "metadata": {},
     "output_type": "execute_result"
    }
   ],
   "source": [
    "graph = {}\n",
    "        \n",
    "def build_graph(equations, values):\n",
    "    def add_edge(f, t, value):\n",
    "        if f in graph:\n",
    "            graph[f].append((t, value))\n",
    "        else:\n",
    "            graph[f] = [(t, value)]\n",
    "\n",
    "    for vertices, value in zip(equations, values):\n",
    "        print('vertices=', vertices)\n",
    "        print('value=', value)\n",
    "        f, t = vertices\n",
    "        add_edge(f, t, value)\n",
    "        add_edge(t, f, 1/value)\n",
    "        \n",
    "equations = [ [\"a\", \"b\"], [\"b\", \"c\"] ]\n",
    "values = [2.0, 3.0]\n",
    "build_graph(equations, values)\n",
    "graph"
   ]
  },
  {
   "cell_type": "code",
   "execution_count": 125,
   "metadata": {},
   "outputs": [
    {
     "name": "stdout",
     "output_type": "stream",
     "text": [
      "front= a\n",
      "cur_product= 1.0\n",
      "visited {'a'}\n",
      "neighbor= b\n",
      "value= 2.0\n",
      "q= [('b', 2.0)]\n",
      "\n",
      "front= b\n",
      "cur_product= 2.0\n",
      "visited {'b', 'a'}\n",
      "neighbor= a\n",
      "value= 0.5\n",
      "neighbor= c\n",
      "value= 3.0\n",
      "q= [('c', 6.0)]\n",
      "\n",
      "front= c\n",
      "cur_product= 6.0\n"
     ]
    },
    {
     "data": {
      "text/plain": [
       "6.0"
      ]
     },
     "execution_count": 125,
     "metadata": {},
     "output_type": "execute_result"
    }
   ],
   "source": [
    "def find_path(query):\n",
    "            b, e = query\n",
    "            \n",
    "            if b not in graph or e not in graph:\n",
    "                return -1.0\n",
    "                \n",
    "            q = [(b, 1.0)]\n",
    "            visited = set()\n",
    "            \n",
    "            while q:\n",
    "                front, cur_product = q.pop(0)\n",
    "#                 print('front=', front)\n",
    "#                 print('cur_product=', cur_product)\n",
    "                \n",
    "                if front == e:\n",
    "                    return cur_product\n",
    "\n",
    "                visited.add(front)\n",
    "#                 print('visited', visited)\n",
    "                \n",
    "                for neighbor, value in graph[front]:\n",
    "#                     print('neighbor=', neighbor)\n",
    "#                     print('value=', value)\n",
    "                    if neighbor not in visited:\n",
    "                        q.append((neighbor, cur_product*value))\n",
    "#                         print('q=', q) \n",
    "                print()          \n",
    "            return -1.0    \n",
    "query = ['a','c']\n",
    "find_path(query)"
   ]
  },
  {
   "cell_type": "markdown",
   "metadata": {},
   "source": [
    "Recursion"
   ]
  },
  {
   "cell_type": "markdown",
   "metadata": {},
   "source": [
    "## 425. Word Square"
   ]
  },
  {
   "cell_type": "code",
   "execution_count": 142,
   "metadata": {},
   "outputs": [],
   "source": [
    "from collections import defaultdict\n",
    "\n",
    "class Solution:\n",
    "    def wordSquares(self, words):\n",
    "        \"\"\"\n",
    "        :type words: List[str]\n",
    "        :rtype: List[List[str]]\n",
    "        \"\"\"\n",
    "        \n",
    "        n = len(words[0]) # all words same length\n",
    "        output = []\n",
    "        prefixes = defaultdict(list)\n",
    "        \n",
    "        for word in words:\n",
    "            for i in range(len(word)):\n",
    "                prefixes[word[:i]].append(word)\n",
    "                \n",
    "        print(prefixes)        \n",
    "        \n",
    "        def helper(cur):\n",
    "            if len(cur) == n:\n",
    "                print('len=', len(cur))\n",
    "                output.append(cur)\n",
    "                return\n",
    "        \n",
    "            prefix = ''\n",
    "            for word in cur:\n",
    "                prefix += word[len(cur)]\n",
    "                print('prefix=', prefix)\n",
    "\n",
    "            for word in prefixes[prefix]:\n",
    "                helper(cur + [word])\n",
    "                \n",
    "            print()\n",
    "        for word in words:\n",
    "            helper([word])\n",
    "            \n",
    "        return output"
   ]
  },
  {
   "cell_type": "code",
   "execution_count": 143,
   "metadata": {},
   "outputs": [
    {
     "name": "stdout",
     "output_type": "stream",
     "text": [
      "defaultdict(<class 'list'>, {'': ['area', 'lead', 'wall', 'lady', 'ball'], 'a': ['area'], 'ar': ['area'], 'are': ['area'], 'l': ['lead', 'lady'], 'le': ['lead'], 'lea': ['lead'], 'w': ['wall'], 'wa': ['wall'], 'wal': ['wall'], 'la': ['lady'], 'lad': ['lady'], 'b': ['ball'], 'ba': ['ball'], 'bal': ['ball']})\n",
      "prefix= r\n",
      "\n",
      "prefix= e\n",
      "\n",
      "prefix= a\n",
      "prefix= l\n",
      "prefix= le\n",
      "prefix= l\n",
      "prefix= la\n",
      "prefix= lad\n",
      "len= 4\n",
      "\n",
      "\n",
      "\n",
      "prefix= a\n",
      "prefix= d\n",
      "prefix= de\n",
      "\n",
      "\n",
      "prefix= a\n",
      "prefix= l\n",
      "prefix= le\n",
      "prefix= l\n",
      "prefix= la\n",
      "prefix= lad\n",
      "len= 4\n",
      "\n",
      "\n",
      "\n"
     ]
    },
    {
     "data": {
      "text/plain": [
       "[['wall', 'area', 'lead', 'lady'], ['ball', 'area', 'lead', 'lady']]"
      ]
     },
     "execution_count": 143,
     "metadata": {},
     "output_type": "execute_result"
    }
   ],
   "source": [
    "words = [\"area\",\"lead\",\"wall\",\"lady\",\"ball\"]\n",
    "s = Solution()\n",
    "s.wordSquares(words)"
   ]
  },
  {
   "cell_type": "markdown",
   "metadata": {},
   "source": [
    "## 247. Strobogrammatic Number II"
   ]
  },
  {
   "cell_type": "code",
   "execution_count": 8,
   "metadata": {},
   "outputs": [],
   "source": [
    "class Solution:\n",
    "    def findStrobogrammatic(self, n):\n",
    "        nums = n%2 * list('018') or ['']\n",
    "        print('nums=', nums)\n",
    "        while n > 1:\n",
    "            n -= 2\n",
    "            for a, b in '00 11 88 69 96'.split()[n<2:]:\n",
    "                print(a, b)\n",
    "            nums = [a + num + b for a, b in '00 11 88 69 96'.split()[n<2:] for num in nums]\n",
    "        return nums\n",
    "        "
   ]
  },
  {
   "cell_type": "code",
   "execution_count": 9,
   "metadata": {},
   "outputs": [
    {
     "name": "stdout",
     "output_type": "stream",
     "text": [
      "nums= ['']\n",
      "1 1\n",
      "8 8\n",
      "6 9\n",
      "9 6\n"
     ]
    },
    {
     "data": {
      "text/plain": [
       "['11', '88', '69', '96']"
      ]
     },
     "execution_count": 9,
     "metadata": {},
     "output_type": "execute_result"
    }
   ],
   "source": [
    "s = Solution()\n",
    "s.findStrobogrammatic(2)"
   ]
  }
 ],
 "metadata": {
  "kernelspec": {
   "display_name": "Python 3",
   "language": "python",
   "name": "python3"
  },
  "language_info": {
   "codemirror_mode": {
    "name": "ipython",
    "version": 3
   },
   "file_extension": ".py",
   "mimetype": "text/x-python",
   "name": "python",
   "nbconvert_exporter": "python",
   "pygments_lexer": "ipython3",
   "version": "3.8.1"
  }
 },
 "nbformat": 4,
 "nbformat_minor": 4
}
