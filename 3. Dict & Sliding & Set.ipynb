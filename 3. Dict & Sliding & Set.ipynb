{
 "cells": [
  {
   "cell_type": "code",
   "execution_count": 1,
   "metadata": {},
   "outputs": [],
   "source": [
    "from IPython.core.interactiveshell import InteractiveShell\n",
    "InteractiveShell.ast_node_interactivity = \"all\""
   ]
  },
  {
   "cell_type": "markdown",
   "metadata": {},
   "source": [
    "### (String) List. Heap-Sort. Dict. Sliding Window. Set. O(N) O(N)"
   ]
  },
  {
   "cell_type": "markdown",
   "metadata": {},
   "source": [
    "## 1057. Campus Bikes (Google 23)"
   ]
  },
  {
   "cell_type": "code",
   "execution_count": null,
   "metadata": {},
   "outputs": [],
   "source": [
    "class Solution:\n",
    "    def assignBikes(self, workers, bikes):\n",
    "        \"\"\"\n",
    "        :type workers: List[List[int]]\n",
    "        :type bikes: List[List[int]]\n",
    "        :rtype: List[int]\n",
    "        \"\"\"\n",
    "        \n",
    "        dist = []\n",
    "        \n",
    "        for i, w in enumerate(workers):\n",
    "            for j, b in enumerate(bikes):\n",
    "                dist.append((abs(w[0]-b[0]) + abs(w[1]-b[1]), i, j))\n",
    "        \n",
    "        dist.sort(reverse = True)\n",
    "        worker = set()\n",
    "        bike = set()\n",
    "        \n",
    "        res = [0] * len(workers)\n",
    "        \n",
    "        while dist:\n",
    "            d, w, b = dist.pop()\n",
    "            \n",
    "            if w not in worker and b not in bike: # 这个人和车都没有被分配\n",
    "                res[w] = b\n",
    "                \n",
    "                worker.add(w) # 这个worker已经分配了\n",
    "                bike.add(b) # 这个bike已经分配了\n",
    "                \n",
    "        return res"
   ]
  },
  {
   "cell_type": "markdown",
   "metadata": {},
   "source": [
    "## 215. Kth Largest Element in an Array (List. Heap, Quick Sorting, Recursion) (Facebook 10, Amazon 9, Linkedin 5)\n",
    "\n"
   ]
  },
  {
   "cell_type": "code",
   "execution_count": null,
   "metadata": {},
   "outputs": [],
   "source": [
    "# O(nlogk)\n",
    "# O(k)\n",
    "class Solution:\n",
    "    def findKthLargest(self, nums, k):\n",
    "        \"\"\"\n",
    "        :type nums: List[int]\n",
    "        :type k: int\n",
    "        :rtype: int\n",
    "        \"\"\"\n",
    "        return heapq.nlargest(k, nums)[-1]"
   ]
  },
  {
   "cell_type": "code",
   "execution_count": null,
   "metadata": {},
   "outputs": [],
   "source": [
    "# Time Complexity：Heapify用了O(N)，然后一共pop了k个元素，每个元素使用logn的时间复杂，所以一共是O(n + klog(n))\n",
    "# O(n)\n",
    "import heapq\n",
    "class Solution:\n",
    "    def findKthLargest(self, nums, k):\n",
    "        \"\"\"\n",
    "        :type nums: List[int]\n",
    "        :type k: int\n",
    "        :rtype: int\n",
    "        \"\"\"\n",
    "\n",
    "        heap = []\n",
    "        for n in nums:\n",
    "            heapq.heappush(heap, -n)\n",
    "            \n",
    "        for i in range(k):\n",
    "            res = heapq.heappop(heap)\n",
    "            \n",
    "        return -res"
   ]
  },
  {
   "cell_type": "code",
   "execution_count": null,
   "metadata": {},
   "outputs": [],
   "source": [
    "x = (1, [1,2])\n",
    "\n",
    "heap = []\n",
    "import heapq\n",
    "heapq.heappush(heap, (1,[1,2]))\n",
    "heap"
   ]
  },
  {
   "cell_type": "code",
   "execution_count": null,
   "metadata": {},
   "outputs": [],
   "source": [
    "# 时间复杂度: O(N)  \n",
    "# O(1)\n",
    "class Solution:\n",
    "    def findKthLargest(self, nums, k):\n",
    "        \"\"\"\n",
    "        :type nums: List[int]\n",
    "        :type k: int\n",
    "        :rtype: int\n",
    "        \"\"\"\n",
    "        pivot = nums[0]\n",
    "        smaller  = [n for n in nums if n < pivot]\n",
    "        equal = [n for n in nums if n == pivot]\n",
    "        greater = [n for n in nums if n > pivot]\n",
    "\n",
    "        if len(greater) >= k:\n",
    "            return self.findKthLargest(greater, k) #k may be there\n",
    "        elif len(equal) >= (k - len(greater)): # k may be in equal or smaller\n",
    "            return equal[0] # any number from equal\n",
    "        else:\n",
    "            return self.findKthLargest(smaller, k - len(greater) - len(equal))"
   ]
  },
  {
   "cell_type": "markdown",
   "metadata": {},
   "source": [
    "## 973. K Closest Point to Origin (Lists. heap) (Amazon 77, Facebook 35)  \n",
    "O(NlogN)  \n",
    "O(N)"
   ]
  },
  {
   "cell_type": "code",
   "execution_count": null,
   "metadata": {},
   "outputs": [],
   "source": [
    "import heapq\n",
    "class Solution:\n",
    "    def kClosest(self, points, K):\n",
    "        \"\"\"\n",
    "        :type points: List[List[int]]\n",
    "        :type K: int\n",
    "        :rtype: List[List[int]]\n",
    "        \"\"\"\n",
    "        \n",
    "        # dic = {}\n",
    "        # for point in points:       \n",
    "        heap = []\n",
    "        \n",
    "        for n in points:\n",
    "            distance, point = n[0]**2 + n[1]**2, n\n",
    "            heapq.heappush(heap, (distance, point))\n",
    "                                  \n",
    "        res = []\n",
    "        for i in range(K):\n",
    "            distance, point = heapq.heappop(heap)\n",
    "            res.append(point)\n",
    "                           \n",
    "        return res"
   ]
  },
  {
   "cell_type": "code",
   "execution_count": null,
   "metadata": {},
   "outputs": [],
   "source": [
    "class Solution:\n",
    "    def kClosest(self, points, k):\n",
    "        \"\"\"\n",
    "        :type points: List[List[int]]\n",
    "        :type K: int\n",
    "        :rtype: List[List[int]]\n",
    "        \"\"\"\n",
    "        \n",
    "        points.sort(key = lambda p: p[0]**2 + p[1]**2)\n",
    "        return points[:k]"
   ]
  },
  {
   "cell_type": "markdown",
   "metadata": {},
   "source": [
    "## 692. Top K Frequent Words (heap) (Amazon 13)\n",
    "\n",
    "O(N + klogN)  \n",
    "O(N)"
   ]
  },
  {
   "cell_type": "code",
   "execution_count": null,
   "metadata": {},
   "outputs": [],
   "source": [
    "from collections import Counter\n",
    "import heapq\n",
    "class Solution:\n",
    "    def topKFrequent(self, words, k):\n",
    "#         count = Counter(words)\n",
    "        \n",
    "#         for w in words:\n",
    "#             if w in dic:\n",
    "#                 dic[w] += 1\n",
    "#             else:\n",
    "#                 dic[w] = 1\n",
    "                \n",
    "        heap = []\n",
    "        res = []\n",
    "        dic = {}\n",
    "        \n",
    "        for w in words:\n",
    "            if w not in dic:\n",
    "                dic[w] = 1\n",
    "            else:\n",
    "                dic[w] += 1\n",
    "                \n",
    "        for key, value in dic.items():\n",
    "            heapq.heappush(heap,(-value, key))\n",
    "            \n",
    "        for i in range(k):\n",
    "            key, value = heapq.heappop(heap)\n",
    "            res.append(value)\n",
    "        return res\n",
    "        \n",
    "#         heap = [(-freq, word) for word, freq in dic.items()]\n",
    "#         heapq.heapify(heap)\n",
    "        \n",
    "#         return [heapq.heappop(heap)[1] for i in range(k)]"
   ]
  },
  {
   "cell_type": "code",
   "execution_count": null,
   "metadata": {},
   "outputs": [],
   "source": [
    "from collections import Counter\n",
    "class Solution(object):\n",
    "    def topKFrequent(self, words, k):\n",
    "        \"\"\"\n",
    "        :type words: List[str]\n",
    "        :type k: int\n",
    "        :rtype: List[str]\n",
    "        \"\"\"\n",
    "        count = Counter(words)\n",
    "        candidates = sorted(count.keys(), key = lambda x: (-count[x], x))\n",
    "#         print('candidates=', candidates)\n",
    "        return candidates[:k] "
   ]
  },
  {
   "cell_type": "code",
   "execution_count": null,
   "metadata": {},
   "outputs": [],
   "source": [
    "words = [\"i\", \"love\", \"leetcode\", \"i\", \"love\", \"coding\"]\n",
    "k = 2\n",
    "s = Solution()\n",
    "s.topKFrequent(words, k)"
   ]
  },
  {
   "cell_type": "markdown",
   "metadata": {},
   "source": [
    "## 347. Top K Frequent Elements (heap) (Amazon 16, Google 6, Microsoft 6)\n",
    "\n",
    "O(N + klog(n))  \n",
    "O(N)"
   ]
  },
  {
   "cell_type": "code",
   "execution_count": null,
   "metadata": {},
   "outputs": [],
   "source": [
    "import heapq\n",
    "class Solution:\n",
    "    def topKFrequent(self, nums, k):\n",
    "        \n",
    "#         for n in nums:\n",
    "#             if n in dic:\n",
    "#                 dic[n] += 1\n",
    "#             else:\n",
    "#                 dic[n] = 1\n",
    "          \n",
    "        heap = []\n",
    "        res = []\n",
    "        dic = {}\n",
    "        \n",
    "        for n in nums:   \n",
    "            if n not in dic:\n",
    "                dic[n] = 1\n",
    "            else:\n",
    "                dic[n] += 1\n",
    "                \n",
    "        for key, value in dic.items():\n",
    "            heapq.heappush(heap,(-value, key))\n",
    "            \n",
    "        for i in range(k):\n",
    "            key, value = heapq.heappop(heap)\n",
    "            res.append(value)\n",
    "        return res"
   ]
  },
  {
   "cell_type": "code",
   "execution_count": null,
   "metadata": {},
   "outputs": [],
   "source": [
    "import heapq\n",
    "from collections import Counter\n",
    "class Solution:\n",
    "    def topKFrequent(self, nums, k):\n",
    "        \"\"\"\n",
    "        :type nums: List[int]\n",
    "        :type k: int\n",
    "        :rtype: List[int]\n",
    "        \"\"\" \n",
    "        count = Counter(nums)   \n",
    "        return heapq.nlargest(k, count.keys(), key=count.get) "
   ]
  },
  {
   "cell_type": "markdown",
   "metadata": {},
   "source": [
    "## 378. Kth Smallest Element in a Sorted Matrix (heapq) (Amazon 6, Microsoft 3, Facebook 3)"
   ]
  },
  {
   "cell_type": "code",
   "execution_count": null,
   "metadata": {},
   "outputs": [],
   "source": [
    "import heapq\n",
    "class Solution:\n",
    "    def kthSmallest(self, matrix, k):\n",
    "        \"\"\"\n",
    "        :type matrix: List[List[int]]\n",
    "        :type k: int\n",
    "        :rtype: int\n",
    "        \"\"\"\n",
    "        \n",
    "        heap = []\n",
    "        for array in matrix:\n",
    "            for n in array:\n",
    "                heapq.heappush(heap, n)\n",
    "                \n",
    "        for n in range(k):\n",
    "            res = heapq.heappop(heap)\n",
    "            \n",
    "        return res"
   ]
  },
  {
   "cell_type": "code",
   "execution_count": null,
   "metadata": {},
   "outputs": [],
   "source": [
    "import heapq\n",
    "class Solution:\n",
    "    def kthSmallest(self, matrix, k):\n",
    "        \"\"\"\n",
    "        :type matrix: List[List[int]]\n",
    "        :type k: int\n",
    "        :rtype: int\n",
    "        \"\"\"\n",
    "        \n",
    "        array = [y for x in matrix for y in x]\n",
    "        return heapq.nsmallest(k, array)[-1]"
   ]
  },
  {
   "cell_type": "markdown",
   "metadata": {},
   "source": [
    "## 253. Meeting Room II（heapq) (Facebook 26, Amazon 23, Uber 11, Microsoft 8, Google 9)\n",
    "\n",
    "时间复杂度: O(NlogN)  \n",
    "\n",
    "想象一下，现实生活中，先开始的会议还没结束前我们就又要开始一个会议的话，此时我们需要一个新的会议室\n",
    "\n",
    "如果前面一堆先开始的会议都先于我们的新会议开始之前结束了，我们不需要新会议室\n",
    "\n",
    "换句话说，如果前面一堆新开始的会议中结束最早的那个会议如果在新开始的会议之前结束了的话，我们不需要会议室\n",
    "\n",
    "所以我们的思路是，先按照会议开始的时间排序，然后维护一个会议结束时间的最小堆，堆顶就是前面结束最早的那个会议的结束时间\n",
    "\n",
    "那么对于一个新的会议出现时：\n",
    "\n",
    "如果堆顶元素比新会议的开始时间更小的话，我们不需要新会议室。同时因为后面出现的新会议的开始时间更大了，\n",
    "所以目前最先结束的会议永远不可能比后面新出现的会议的开始时间更大，因此我们可以pop目前最先结束的会议，即pop堆顶元素，并且将新会议的结束时间放进堆中\n",
    "\n",
    "如果堆顶元素比新会议的开始时间更大的话，我们知道我们需要一个新的会议室，此时直接将新会议的结束时间放进堆中\n",
    "\n",
    "最终堆的size就是我们需要的会议室数量"
   ]
  },
  {
   "cell_type": "code",
   "execution_count": null,
   "metadata": {},
   "outputs": [],
   "source": [
    "import heapq \n",
    "class Solution:\n",
    "    def minMeetingRooms(self, intervals):\n",
    "        \"\"\"\n",
    "        :type intervals: List[Interval]\n",
    "        :rtype: int\n",
    "        \"\"\"\n",
    "\n",
    "        # If there is no meeting to schedule then no room needs to be allocated.\n",
    "        if not intervals:\n",
    "            return 0\n",
    "\n",
    "        # The heap initialization\n",
    "        heap = []\n",
    "\n",
    "        # Sort the meetings in increasing order of their start time.\n",
    "        intervals.sort()\n",
    "\n",
    "        # Add the first meeting. We have to give a new room to the first meeting.\n",
    "        heapq.heappush(heap, intervals[0][-1])\n",
    "\n",
    "        # For all the remaining meeting rooms\n",
    "        for interval in intervals[1:]:\n",
    "\n",
    "            # If the room due to free up the earliest is free, assign that room to this meeting.\n",
    "            if heap[0] <= interval[0]:\n",
    "                heapq.heapreplace(heap, interval[-1])\n",
    "\n",
    "            # If a new room is to be assigned, then also we add to the heap,\n",
    "            # If an old room is allocated, then also we have to add to the heap with updated end time.\n",
    "            elif heap[0] > interval[0]:\n",
    "                heapq.heappush(heap, interval[-1])\n",
    "\n",
    "        # The size of the heap tells us the minimum rooms required for all the meetings.\n",
    "        return len(heap)"
   ]
  },
  {
   "cell_type": "code",
   "execution_count": null,
   "metadata": {},
   "outputs": [],
   "source": [
    "import heapq \n",
    "class Solution():\n",
    "    def minMeetingRooms(self, lists):\n",
    "        \"\"\"\n",
    "        :type intervals: List[Interval]\n",
    "        :rtype: int\n",
    "        \"\"\"\n",
    "        if not lists:\n",
    "            return 0\n",
    "        \n",
    "        lists.sort()\n",
    "\n",
    "        heap = []  # stores the end time of intervals\n",
    "    \n",
    "        for i in lists:\n",
    "#             print('i =', i)\n",
    "            if heap and i[0] >= heap[0]: \n",
    "                # means two intervals can use the same room\n",
    "                heapq.heapreplace(heap, i[-1])\n",
    "#                 print('heap1 =', heap)\n",
    "\n",
    "            else:\n",
    "                # a new room is allocated\n",
    "                heapq.heappush(heap, i[-1])\n",
    "#                 print('heap2 =', heap)\n",
    "            \n",
    "#             print()\n",
    "\n",
    "        return len(heap)"
   ]
  },
  {
   "cell_type": "code",
   "execution_count": null,
   "metadata": {},
   "outputs": [],
   "source": [
    "s = Solution()\n",
    "intervals = [[0, 30],[5, 10],[15, 20]]\n",
    "s.minMeetingRooms(intervals)"
   ]
  },
  {
   "cell_type": "code",
   "execution_count": null,
   "metadata": {},
   "outputs": [],
   "source": [
    "dic = {'yes':1}\n",
    "dic.pop('s', 0)\n",
    "dic"
   ]
  },
  {
   "cell_type": "markdown",
   "metadata": {},
   "source": [
    "## Sort 2D Array (Matrix. heap) (Google Phone)"
   ]
  },
  {
   "cell_type": "code",
   "execution_count": 20,
   "metadata": {},
   "outputs": [],
   "source": [
    "import heapq\n",
    "\n",
    "def sort(matrix):\n",
    "    \n",
    "    row = len(matrix)\n",
    "    col = len(matrix[0])\n",
    "#     array = matrix[0]\n",
    "#     for i in range(1, len(matrix)):\n",
    "#         array = heapq.merge(array, matrix[i])\n",
    "        \n",
    "#     array = list(heapq.merge(*matrix))\n",
    "\n",
    "    heap = []\n",
    "    \n",
    "    for array in matrix:\n",
    "        for n in array:\n",
    "            heapq.heappush(heap, n)\n",
    "\n",
    "    \n",
    "    for m in range(row):\n",
    "        for n in range(col):\n",
    "            value = heapq.heappop(heap)\n",
    "            matrix[m][n] = value\n",
    "            "
   ]
  },
  {
   "cell_type": "code",
   "execution_count": 21,
   "metadata": {},
   "outputs": [
    {
     "data": {
      "text/plain": [
       "[[1, 2, 3, 4, 5], [6, 7, 8, 9, 12], [12, 14, 15, 17, 18], [19, 21, 23, 25, 27]]"
      ]
     },
     "execution_count": 21,
     "metadata": {},
     "output_type": "execute_result"
    }
   ],
   "source": [
    "import heapq\n",
    "matrix = [[ 5, 12, 17, 21, 23],\n",
    "             [ 1,  2,  4,  6,  8],\n",
    "             [12, 14, 18, 19, 27],\n",
    "             [ 3,  7,  9, 15, 25]]\n",
    "\n",
    "\n",
    "sort(matrix)\n",
    "matrix"
   ]
  },
  {
   "cell_type": "code",
   "execution_count": 19,
   "metadata": {},
   "outputs": [
    {
     "data": {
      "text/plain": [
       "[1, 2, 3, 2, 5, 6, 4, 4]"
      ]
     },
     "execution_count": 19,
     "metadata": {},
     "output_type": "execute_result"
    }
   ],
   "source": [
    "a = [3,2,1,4,5,6,4,2]\n",
    "heapq.heapify(a)\n",
    "\n",
    "a "
   ]
  },
  {
   "cell_type": "markdown",
   "metadata": {},
   "source": [
    "## 315. Count of Smaller Numbers After Self (List) (Google 11)\n",
    "\n",
    "https://docs.python.org/3.0/library/bisect.html\n",
    "\n",
    "O(N^2)"
   ]
  },
  {
   "cell_type": "code",
   "execution_count": null,
   "metadata": {},
   "outputs": [],
   "source": [
    "import bisect\n",
    "class Solution:\n",
    "    def countSmaller(self, nums):\n",
    "        counts = []\n",
    "        done = []\n",
    "        for num in nums[::-1]:\n",
    "            counts.append(bisect.bisect_left(done, num))\n",
    "#             print('counts=', counts)\n",
    "            bisect.insort(done, num)\n",
    "#             print('done=', done)\n",
    "        return counts[::-1]"
   ]
  },
  {
   "cell_type": "code",
   "execution_count": null,
   "metadata": {},
   "outputs": [],
   "source": [
    "s = Solution()\n",
    "nums = [5,2,6,1]\n",
    "s.countSmaller(nums)"
   ]
  },
  {
   "cell_type": "code",
   "execution_count": null,
   "metadata": {},
   "outputs": [],
   "source": [
    "import bisect\n",
    "\n",
    "data = [5,1,5]\n",
    "bisect.bisect(data, 5)"
   ]
  },
  {
   "cell_type": "markdown",
   "metadata": {},
   "source": [
    "## 1. Two Sum (List. Dict) (Amazon 213, Google 109, Apple 72, Microsoft 34, Facebook 32)\n",
    "\n",
    "时间复杂度: O(N)  \n",
    "O(N)"
   ]
  },
  {
   "cell_type": "code",
   "execution_count": null,
   "metadata": {},
   "outputs": [],
   "source": [
    "class Solution:\n",
    "    def twoSum(self, nums, target):\n",
    "        \"\"\"\n",
    "        :type nums: List[int]\n",
    "        :type target: int\n",
    "        :rtype: List[int]\n",
    "        \"\"\"\n",
    "        dic = {}\n",
    "        for i, n in enumerate(nums):\n",
    "            tmp = target - n\n",
    "            if tmp not in dic:\n",
    "                dic[n] = i\n",
    "            else:\n",
    "                return [dic[tmp], i]\n",
    "            \n",
    "x = Solution()\n",
    "x.twoSum([2,7,11,15],13)"
   ]
  },
  {
   "cell_type": "markdown",
   "metadata": {},
   "source": [
    "## 13. Roman to Integer(String. Dic) (Amazon 13, Facebook 6)\n",
    "\n",
    "O(N)  \n",
    "O(1)"
   ]
  },
  {
   "cell_type": "code",
   "execution_count": null,
   "metadata": {},
   "outputs": [],
   "source": [
    "class Solution:\n",
    "    def romanToInt(self, s):\n",
    "        \"\"\"\n",
    "        :type s: str\n",
    "        :rtype: int\n",
    "        \"\"\"\n",
    "        dic = {'I':1, \n",
    "               'V':5, \n",
    "               'X':10, \n",
    "               'L':50, \n",
    "               'C':100, \n",
    "               'D':500, \n",
    "               'M':1000}        \n",
    "        ans = 0\n",
    "        for i in range(len(s)):            \n",
    "            if i < len(s) - 1 and dic[s[i]] < dic[s[i+1]]:                \n",
    "                ans -= dic[s[i]]\n",
    "            else:\n",
    "                ans += dic[s[i]]\n",
    "        return ans"
   ]
  },
  {
   "cell_type": "code",
   "execution_count": null,
   "metadata": {},
   "outputs": [],
   "source": [
    "class Solution:\n",
    "    def romanToInt(self, s):\n",
    "        \"\"\"\n",
    "        :type s: str\n",
    "        :rtype: int\n",
    "        \"\"\"\n",
    "        dic = {\n",
    "            'I': 1,\n",
    "            'V': 5,\n",
    "            'X': 10,\n",
    "            'L': 50,\n",
    "            'C': 100,\n",
    "            'D': 500,\n",
    "            'M': 1000\n",
    "        }\n",
    "        \n",
    "        res = 0\n",
    "        for i in range(len(s)):\n",
    "            if i > 0 and dic[s[i]] > dic[s[i-1]]:\n",
    "                res += dic[s[i]] - 2 * dic[s[i-1]]\n",
    "            else:\n",
    "                res += dic[s[i]]\n",
    "        return res"
   ]
  },
  {
   "cell_type": "markdown",
   "metadata": {},
   "source": [
    "## 12. Integer to Roman (Int. List, Dic) (Amazon 6)\n",
    "\n",
    "O(1)  \n",
    "O(1)"
   ]
  },
  {
   "cell_type": "code",
   "execution_count": null,
   "metadata": {},
   "outputs": [],
   "source": [
    "class Solution:\n",
    "    def intToRoman(self, num):\n",
    "        \"\"\"\n",
    "        :type num: int\n",
    "        :rtype: str\n",
    "        \"\"\"\n",
    "        M = [\"\", \"M\", \"MM\", \"MMM\"];\n",
    "        C = [\"\", \"C\", \"CC\", \"CCC\", \"CD\", \"D\", \"DC\", \"DCC\", \"DCCC\", \"CM\"]\n",
    "        X = [\"\", \"X\", \"XX\", \"XXX\", \"XL\", \"L\", \"LX\", \"LXX\", \"LXXX\", \"XC\"]\n",
    "        I = [\"\", \"I\", \"II\", \"III\", \"IV\", \"V\", \"VI\", \"VII\", \"VIII\", \"IX\"]\n",
    "        return M[num//1000] + C[(num%1000)//100] + X[(num%100)//10] + I[num%10]"
   ]
  },
  {
   "cell_type": "code",
   "execution_count": null,
   "metadata": {},
   "outputs": [],
   "source": [
    "s = Solution()\n",
    "num = 3999\n",
    "s.intToRoman(num)"
   ]
  },
  {
   "cell_type": "code",
   "execution_count": null,
   "metadata": {},
   "outputs": [],
   "source": [
    "3999%10"
   ]
  },
  {
   "cell_type": "code",
   "execution_count": null,
   "metadata": {},
   "outputs": [],
   "source": [
    "class Solution:\n",
    "    def intToRoman(self, num):\n",
    "        \"\"\"\n",
    "        :type num: int\n",
    "        :rtype: str\n",
    "        \"\"\"\n",
    "        lookup = {\n",
    "            'M': 1000, \n",
    "            'CM': 900, \n",
    "            'D': 500, \n",
    "            'CD': 400, \n",
    "            'C': 100, \n",
    "            'XC': 90, \n",
    "            'L': 50, \n",
    "            'XL': 40, \n",
    "            'X': 10, \n",
    "            'IX': 9, \n",
    "            'V': 5, \n",
    "            'IV': 4, \n",
    "            'I': 1 \n",
    "        }\n",
    "        \n",
    "        res = ''\n",
    "        slookup = sorted(lookup.items(), key = lambda x: x[1])[::-1]\n",
    "        for k, v in slookup:\n",
    "            while num >= v:\n",
    "                res += k\n",
    "                num -= v\n",
    "        return res"
   ]
  },
  {
   "cell_type": "code",
   "execution_count": null,
   "metadata": {},
   "outputs": [],
   "source": [
    "s = Solution()\n",
    "s.intToRoman(4)"
   ]
  },
  {
   "cell_type": "markdown",
   "metadata": {},
   "source": [
    "## 819. Most Common Word (String. Dict) (Amazon 35)\n",
    "\n",
    "O(N)  \n",
    "O(P) P个words"
   ]
  },
  {
   "cell_type": "code",
   "execution_count": null,
   "metadata": {},
   "outputs": [],
   "source": [
    "from collections import Counter\n",
    "class Solution:\n",
    "    def mostCommonWord(self, paragraph, banned):\n",
    "        \"\"\"\n",
    "        :type paragraph: str\n",
    "        :type banned: List[str]\n",
    "        :rtype: str\n",
    "        \"\"\"\n",
    "        \n",
    "        for c in \"!?',;.\": \n",
    "            paragraph = paragraph.replace(c, \" \")\n",
    "        \n",
    "        dic = Counter()\n",
    "        res = '' \n",
    "        count = 0\n",
    "        \n",
    "        for word in paragraph.lower().split():\n",
    "            if word in banned:\n",
    "                continue\n",
    "                \n",
    "            if word in dic:\n",
    "                dic[word] += 1\n",
    "                \n",
    "                \n",
    "#             elif word not in dic:\n",
    "#                 dic[word] = 1\n",
    "#             else:\n",
    "#                 dic[word] += 1\n",
    "                \n",
    "            if dic[word] > count:\n",
    "                count = dic[word]\n",
    "                res = word\n",
    "        return res\n",
    "        "
   ]
  },
  {
   "cell_type": "code",
   "execution_count": null,
   "metadata": {},
   "outputs": [],
   "source": [
    "s = Solution()\n",
    "paragraph = \"Bob hit a ball, the hit BALL flew far after it was hit.\"\n",
    "banned = [\"hit\"]\n",
    "s.mostCommonWord(paragraph, banned)"
   ]
  },
  {
   "cell_type": "code",
   "execution_count": null,
   "metadata": {},
   "outputs": [],
   "source": [
    "s = 'Sjks'\n",
    "s.split()\n",
    "s"
   ]
  },
  {
   "cell_type": "code",
   "execution_count": null,
   "metadata": {},
   "outputs": [],
   "source": [
    "paragraph = \"Bob hit a ball, the hit BALL flew far after it was hit.\"\n",
    "for c in \"!?',;.\": \n",
    "    paragraph = paragraph.replace(c, \"\")\n",
    "    \n",
    "paragraph.split()"
   ]
  },
  {
   "cell_type": "markdown",
   "metadata": {},
   "source": [
    "## 136. Single Number (List. Dic, Set) (Amazon 7)\n",
    "\n",
    "O(N)  \n",
    "O(N)"
   ]
  },
  {
   "cell_type": "code",
   "execution_count": null,
   "metadata": {},
   "outputs": [],
   "source": [
    "class Solution:\n",
    "    def singleNumber(self, nums):\n",
    "        \"\"\"\n",
    "        :type nums: List[int]\n",
    "        :rtype: int\n",
    "        \"\"\"\n",
    "        \n",
    "        dic = set()\n",
    "        \n",
    "        for n in nums:\n",
    "            if n not in dic:\n",
    "                dic.add(n)\n",
    "            else:\n",
    "                dic.remove(n)\n",
    "                \n",
    "        for n in dic:\n",
    "            return n\n",
    "        "
   ]
  },
  {
   "cell_type": "code",
   "execution_count": null,
   "metadata": {},
   "outputs": [],
   "source": [
    "class Solution:\n",
    "    def singleNumber(self, nums):\n",
    "        \"\"\"\n",
    "        :type nums: List[int]\n",
    "        :rtype: int\n",
    "        \"\"\"\n",
    "        dic = {}\n",
    "        for n in nums:\n",
    "            if n not in dic:\n",
    "                dic[n] = 1\n",
    "            else:\n",
    "                dic.pop(n)\n",
    "#         return dic.popitem()[0]\n",
    "        for n in dic:\n",
    "            return n"
   ]
  },
  {
   "cell_type": "code",
   "execution_count": null,
   "metadata": {},
   "outputs": [],
   "source": [
    "dic = {0:1, \n",
    "      1:2}\n",
    "dic.keys()[0]"
   ]
  },
  {
   "cell_type": "code",
   "execution_count": 7,
   "metadata": {},
   "outputs": [
    {
     "data": {
      "text/plain": [
       "1"
      ]
     },
     "execution_count": 7,
     "metadata": {},
     "output_type": "execute_result"
    }
   ],
   "source": [
    "2 ^ 3"
   ]
  },
  {
   "cell_type": "code",
   "execution_count": null,
   "metadata": {},
   "outputs": [],
   "source": [
    "def xor(nums):\n",
    "    a = 0\n",
    "    for i in nums:\n",
    "        a ^= i\n",
    "    return a"
   ]
  },
  {
   "cell_type": "markdown",
   "metadata": {},
   "source": [
    "## 389. Find Difference (Google 2 last year)"
   ]
  },
  {
   "cell_type": "code",
   "execution_count": null,
   "metadata": {},
   "outputs": [],
   "source": [
    "from collections import Counter\n",
    "class Solution:\n",
    "    def findTheDifference(self, s, t):\n",
    "        \"\"\"\n",
    "        :type s: str\n",
    "        :type t: str\n",
    "        :rtype: str\n",
    "        \"\"\"\n",
    "        dic = Counter(s)\n",
    "        dic2 = Counter(t)\n",
    "        for c in t:\n",
    "            if dic[c] != dic2[c]:\n",
    "                return c"
   ]
  },
  {
   "cell_type": "markdown",
   "metadata": {},
   "source": [
    "## 1056. Confusing Number (String. Dict) (Google 3 Phone)"
   ]
  },
  {
   "cell_type": "code",
   "execution_count": null,
   "metadata": {},
   "outputs": [],
   "source": [
    "class Solution:\n",
    "    def confusingNumber(self, N):\n",
    "        \"\"\"\n",
    "        :type N: int\n",
    "        :rtype: bool\n",
    "        \"\"\"\n",
    "        \n",
    "        s = str(N)\n",
    "        dic = {'0':'0',\n",
    "               '1':'1',\n",
    "               '8':'8',\n",
    "               '6':'9',\n",
    "               '9':'6'}\n",
    "\n",
    "        notSame = False\n",
    "        \n",
    "        for i in range(0, len(s)):\n",
    "            if s[i] not in dic:\n",
    "                return False\n",
    "            \n",
    "            if dic[s[i]] != s[len(s)-1-i]:\n",
    "                notSame=True\n",
    "        return notSame"
   ]
  },
  {
   "cell_type": "markdown",
   "metadata": {},
   "source": [
    "## 1088. Confusing Number II (String) (Google Phone)"
   ]
  },
  {
   "cell_type": "code",
   "execution_count": null,
   "metadata": {},
   "outputs": [],
   "source": [
    "class Solution:\n",
    "    def confusingNumberII(self, N):\n",
    "        valid = [0,1,6,8,9]\n",
    "        mapping = {0: 0,1: 1,6: 9,8: 8, 9: 6}\n",
    "        \n",
    "        self.count = 0\n",
    "        def backtrack(v, rotation, digit):\n",
    "            if v != rotation:\n",
    "                self.count += 1\n",
    "            \n",
    "            # self.count += v != rotation\n",
    "            for i in valid: \n",
    "                if v*10 + i <= N:\n",
    "                    backtrack(v*10+i, mapping[i]*digit + rotation, digit*10)\n",
    "                    \n",
    "        if N >= 1: \n",
    "            backtrack(1,1,10)\n",
    "        if N >= 6: \n",
    "            backtrack(6,9,10)\n",
    "        if N >= 8: \n",
    "            backtrack(8,8,10)\n",
    "        if N >= 9: \n",
    "            backtrack(9,6,10)\n",
    "            \n",
    "        return self.count "
   ]
  },
  {
   "cell_type": "markdown",
   "metadata": {},
   "source": [
    "## 788. Rotated Digits (Google Phone)"
   ]
  },
  {
   "cell_type": "code",
   "execution_count": null,
   "metadata": {},
   "outputs": [],
   "source": [
    "class Solution:\n",
    "    def rotatedDigits(self, N):\n",
    "        \"\"\"\n",
    "        :type N: int\n",
    "        :rtype: int\n",
    "        \"\"\"\n",
    "        count = 0\n",
    "        for n in range(1, N+1):\n",
    "            ok = False\n",
    "            for c in str(n):\n",
    "                if c in \"2569\":\n",
    "                    ok = True\n",
    "                elif c in \"347\":\n",
    "                    ok = False\n",
    "                    break\n",
    "            if ok:\n",
    "                count += 1\n",
    "        return count"
   ]
  },
  {
   "cell_type": "markdown",
   "metadata": {},
   "source": [
    "## 953. Verifying an Alien Dictionary (String List. Dic) (Facebook 74, Microsoft 2, Google)"
   ]
  },
  {
   "cell_type": "code",
   "execution_count": null,
   "metadata": {},
   "outputs": [],
   "source": [
    "class Solution:\n",
    "    def isAlienSorted(self, words, order):\n",
    "        \"\"\"\n",
    "        :type words: List[str]\n",
    "        :type order: str\n",
    "        :rtype: bool\n",
    "        \"\"\"\n",
    "        \n",
    "        order_index = {c: i for i, c in enumerate(order)}\n",
    "\n",
    "        for i in range(len(words) - 1):\n",
    "            word1 = words[i]\n",
    "            word2 = words[i+1]\n",
    "\n",
    "            # Find the first difference word1[k] != word2[k].\n",
    "            for k in range(min(len(word1), len(word2))):\n",
    "                # If they compare badly, it's not sorted.\n",
    "                if word1[k] != word2[k]:\n",
    "                    if order_index[word1[k]] > order_index[word2[k]]:\n",
    "                        return False\n",
    "                    break\n",
    "            \n",
    "                # If we didn't find a first difference, the\n",
    "                # words are like (\"app\", \"apple\").\n",
    "                if len(word1) > len(word2):\n",
    "                    return False\n",
    "\n",
    "        return True"
   ]
  },
  {
   "cell_type": "markdown",
   "metadata": {},
   "source": [
    "## 560. Subarray Sum Equals K (List, Dict) (Facebook 32, Amazon 12, Microsoft 8)  \n",
    "O(N)  \n",
    "O(N)  \n",
    "2 - 0 = k  \n",
    "3 - 1 = k"
   ]
  },
  {
   "cell_type": "code",
   "execution_count": null,
   "metadata": {},
   "outputs": [],
   "source": [
    "class Solution:\n",
    "    def subarraySum(self, nums, k):\n",
    "        \n",
    "        dic = {0:1}\n",
    "        count = 0\n",
    "        sums = 0\n",
    "        for num in nums:\n",
    "            sums += num\n",
    "            \n",
    "            if sums - k in dic:\n",
    "                count += dic[sums-k]\n",
    "            \n",
    "            if sums not in dic:\n",
    "                dic[sums] = 1\n",
    "            else:\n",
    "                dic[sums] += 1\n",
    "            \n",
    "        return count"
   ]
  },
  {
   "cell_type": "markdown",
   "metadata": {},
   "source": [
    "Let's remember count[V], the number of previous prefix sums with value V. If our newest prefix sum has value W, and W-V == K, then we add count[V] to our answer.\n",
    "\n",
    "This is because at time t, nums[0] + nums[1] + ... + nums[t-1] = W, and there are count[V] indices j with j < t-1 and nums[0] + nums[1] + ... + nums[j] = V. Thus, there are count[V] subarrays nums[j+1] + nums[j+2] + ... + nums[t-1] = K."
   ]
  },
  {
   "cell_type": "code",
   "execution_count": null,
   "metadata": {},
   "outputs": [],
   "source": [
    "from collections import Counter\n",
    "class Solution:\n",
    "    def subarraySum(self, nums, k):\n",
    "        \"\"\"\n",
    "        :type nums: List[int]\n",
    "        :type k: int\n",
    "        :rtype: int\n",
    "        \"\"\"\n",
    "        \n",
    "        dic = Counter()\n",
    "        dic[0] = 1\n",
    "        sums = 0\n",
    "        res = 0\n",
    "        \n",
    "        for n in nums:\n",
    "            sums += n\n",
    "#             print('sums =', sums)\n",
    "            res += dic[sums-k]\n",
    "#             print('ans =', ans)\n",
    "            dic[sums] += 1\n",
    "#             print(f'count{sums}', count[sums])\n",
    "        return res\n",
    "        "
   ]
  },
  {
   "cell_type": "code",
   "execution_count": null,
   "metadata": {},
   "outputs": [],
   "source": [
    "s = Solution()\n",
    "nums = [1,2,3]\n",
    "k = 3\n",
    "s.subarraySum(nums, k)"
   ]
  },
  {
   "cell_type": "markdown",
   "metadata": {},
   "source": [
    "## 957. Prison Cells After N Days (List, Dict) (Amazon 20)\n",
    "\n",
    "时间复杂度: O(1)"
   ]
  },
  {
   "cell_type": "code",
   "execution_count": null,
   "metadata": {},
   "outputs": [],
   "source": [
    "class Solution:\n",
    "    def prisonAfterNDays(self, cells, N):\n",
    "        \"\"\"\n",
    "        :type cells: List[int]\n",
    "        :type N: int\n",
    "        :rtype: List[int]\n",
    "        \"\"\"\n",
    "        cache = {str(cells): 0}\n",
    "        states = [cells]\n",
    "\n",
    "        for i in range(1, N+1):\n",
    "            cells = [0] + [int(cells[i - 1] == cells[i + 1]) for i in range(1, 7)] + [0]\n",
    "#             print('cells =', cells)\n",
    "#             print('i =', i)\n",
    "            \n",
    "            if str(cells) in cache:\n",
    "                \n",
    "                idx = cache[str(cells)]\n",
    "                return states[idx+(N-idx)%(i-idx)] # why?\n",
    "            \n",
    "            cache[str(cells)] = i\n",
    "            states.append(cells)\n",
    "        return cells"
   ]
  },
  {
   "cell_type": "code",
   "execution_count": null,
   "metadata": {},
   "outputs": [],
   "source": [
    "cells = [1,0,0,1,0,0,1,0]\n",
    "N = 16\n",
    "\n",
    "s = Solution()\n",
    "s.prisonAfterNDays(cells, N)"
   ]
  },
  {
   "cell_type": "code",
   "execution_count": null,
   "metadata": {},
   "outputs": [],
   "source": [
    "1 + (1000000000 - 1) % (15 - 1)"
   ]
  },
  {
   "cell_type": "markdown",
   "metadata": {},
   "source": [
    "## 387. First Unique Character in a String (String, Counter) (Amazon 13)\n",
    "\n",
    "O(N)  \n",
    "O(N)"
   ]
  },
  {
   "cell_type": "code",
   "execution_count": null,
   "metadata": {},
   "outputs": [],
   "source": [
    "from collections import Counter\n",
    "class Solution:\n",
    "    def firstUniqChar(self, s):\n",
    "        \"\"\"\n",
    "        :type s: str\n",
    "        :rtype: int\n",
    "        \"\"\"\n",
    "        # build hash map : character and how often it appears\n",
    "        dic = Counter(s)\n",
    "        \n",
    "        # find the index\n",
    "        for i, c in enumerate(s):\n",
    "            if dic[c] == 1:\n",
    "                return i\n",
    "        return -1"
   ]
  },
  {
   "cell_type": "markdown",
   "metadata": {},
   "source": [
    "## 242. Valid Anagram (String, Counter) (Microsoft 4)\n",
    "\n",
    "时间复杂度: O(s+t)  \n",
    "O(s+t)"
   ]
  },
  {
   "cell_type": "code",
   "execution_count": null,
   "metadata": {},
   "outputs": [],
   "source": [
    "from collections import Counter\n",
    "class Solution:\n",
    "    def isAnagram(self, s, t):\n",
    "        \"\"\"\n",
    "        :type s: str\n",
    "        :type t: str\n",
    "        :rtype: bool\n",
    "        \"\"\"\n",
    "        return Counter(s) == Counter(t)"
   ]
  },
  {
   "cell_type": "code",
   "execution_count": null,
   "metadata": {},
   "outputs": [],
   "source": [
    "collections.Counter('ancn')"
   ]
  },
  {
   "cell_type": "code",
   "execution_count": null,
   "metadata": {},
   "outputs": [],
   "source": [
    "class Solution:\n",
    "    def isAnagram(self, s, t):\n",
    "        \"\"\"\n",
    "        :type s: str\n",
    "        :type t: str\n",
    "        :rtype: bool\n",
    "        \"\"\"\n",
    "        dic1 = {}\n",
    "        for i in s:\n",
    "            if i not in dic1:\n",
    "                dic1[i] = 1\n",
    "            else:\n",
    "                dic1[i] += 1\n",
    "                \n",
    "        dic2 = {}\n",
    "        for i in t:\n",
    "            if i not in dic2:\n",
    "                dic2[i] = 1\n",
    "            else:\n",
    "                dic2[i] += 1\n",
    "                \n",
    "        return dic1 == dic2"
   ]
  },
  {
   "cell_type": "code",
   "execution_count": null,
   "metadata": {},
   "outputs": [],
   "source": [
    "a = {1:2, 3:4, 2:3}\n",
    "b = {1:2, 2:3, 3:4}\n",
    "\n",
    "for k in a:\n",
    "    print(k)\n",
    "\n",
    "for k in b:\n",
    "    print(k)\n",
    "    \n",
    "c = {3,4,5}\n",
    "for n in c:\n",
    "    print(n)"
   ]
  },
  {
   "cell_type": "markdown",
   "metadata": {},
   "source": [
    "## 349. Intersection of Two Arrays (List, Set) (Facebook 14)\n",
    "\n",
    "O(M+N)  \n",
    "O(M+N)"
   ]
  },
  {
   "cell_type": "code",
   "execution_count": null,
   "metadata": {},
   "outputs": [],
   "source": [
    "class Solution:\n",
    "    def intersection(self, nums1, nums2):\n",
    "        \"\"\"\n",
    "        :type nums1: List[int]\n",
    "        :type nums2: List[int]\n",
    "        :rtype: List[int]\n",
    "        \"\"\"  \n",
    "        return list(set(nums1) & set(nums2))"
   ]
  },
  {
   "cell_type": "code",
   "execution_count": null,
   "metadata": {},
   "outputs": [],
   "source": [
    "class Solution:\n",
    "    def intersection(self, nums1, nums2):\n",
    "        \"\"\"\n",
    "        :type nums1: List[int]\n",
    "        :type nums2: List[int]\n",
    "        :rtype: List[int]\n",
    "        \"\"\"\n",
    "        res = set()\n",
    "        dic1 = set()\n",
    "        \n",
    "        for n in nums1:\n",
    "            dic1.add(n)    \n",
    "        \n",
    "        for n in nums2:\n",
    "            if n in dic1:\n",
    "                res.add(n)\n",
    "                \n",
    "        return res"
   ]
  },
  {
   "cell_type": "markdown",
   "metadata": {},
   "source": [
    "## 350. Intersection of Two Arrays II (List, Counter) (Facebook 16)  \n",
    "O(N)  \n",
    "O(N)"
   ]
  },
  {
   "cell_type": "code",
   "execution_count": null,
   "metadata": {},
   "outputs": [],
   "source": [
    "from collections import Counter\n",
    "class Solution(object):\n",
    "    def intersect(self, A, B):\n",
    "        \"\"\"\n",
    "        :type nums1: List[int]\n",
    "        :type nums2: List[int]\n",
    "        :rtype: List[int]\n",
    "        \"\"\"  \n",
    "        counts = Counter(A)\n",
    "       \n",
    "        res = []    \n",
    "        for n in B:\n",
    "            if counts[n] > 0:\n",
    "                res.append(n)\n",
    "                counts[n] -= 1\n",
    "\n",
    "        return res"
   ]
  },
  {
   "cell_type": "markdown",
   "metadata": {},
   "source": [
    "## 49. Group Anagrams (String List, defaultdict) (Amazon 25)\n",
    " \n",
    "O(N*KlogK)  \n",
    "O(N*K)"
   ]
  },
  {
   "cell_type": "code",
   "execution_count": null,
   "metadata": {},
   "outputs": [],
   "source": [
    "class Solution:\n",
    "    def groupAnagrams(self, strs):\n",
    "        \"\"\"\n",
    "        :type strs: List[str]\n",
    "        :rtype: List[List[str]]\n",
    "        \"\"\"\n",
    "        dic = {}\n",
    "        for s in strs:\n",
    "            tmp = ''.join(sorted(list(s)))\n",
    "            if tmp not in dic:\n",
    "                dic[tmp] = [s]\n",
    "            else:\n",
    "                dic[tmp].append(s)\n",
    "        return dic.values()"
   ]
  },
  {
   "cell_type": "code",
   "execution_count": null,
   "metadata": {},
   "outputs": [],
   "source": [
    "from collections import defaultdict\n",
    "class Solution:\n",
    "    def groupAnagrams(self, words):\n",
    "        \"\"\"\n",
    "        :type strs: List[str]\n",
    "        :rtype: List[List[str]]\n",
    "        \"\"\"\n",
    "        dic = defaultdict(list)\n",
    "        for s in words:\n",
    "            tmp = ''.join(sorted(list(s)))\n",
    "            dic[tmp].append(s)\n",
    "        return dic.values()"
   ]
  },
  {
   "cell_type": "code",
   "execution_count": null,
   "metadata": {},
   "outputs": [],
   "source": [
    "from collections import Counter, defaultdict\n",
    "dic = defaultdict(int)\n",
    "dic[0]"
   ]
  },
  {
   "cell_type": "code",
   "execution_count": null,
   "metadata": {},
   "outputs": [],
   "source": [
    "s = 'ab  '\n",
    "list(s)"
   ]
  },
  {
   "cell_type": "markdown",
   "metadata": {},
   "source": [
    "## 268. Missing Number (List, Set) (Amazon 8)\n",
    "\n",
    "O(N)  \n",
    "O(N)"
   ]
  },
  {
   "cell_type": "code",
   "execution_count": null,
   "metadata": {},
   "outputs": [],
   "source": [
    "class Solution:\n",
    "    def missingNumber(self, nums):\n",
    "        \"\"\"\n",
    "        :type nums: List[int]\n",
    "        :rtype: int\n",
    "        \"\"\"\n",
    "        set1 = set(nums)\n",
    "        for n in range(len(nums)+1):\n",
    "            if n not in set1:\n",
    "                return n"
   ]
  },
  {
   "cell_type": "code",
   "execution_count": null,
   "metadata": {},
   "outputs": [],
   "source": [
    "array = [1,2,2,4]\n",
    "set1 = set(array)\n",
    "set2 = set([1,2,4])\n",
    "array2 = [1,2,4]\n",
    "\n",
    "array == array2"
   ]
  },
  {
   "cell_type": "markdown",
   "metadata": {},
   "source": [
    "### Sliding Window"
   ]
  },
  {
   "cell_type": "code",
   "execution_count": null,
   "metadata": {},
   "outputs": [],
   "source": [
    "def function(s):\n",
    "    i = 0\n",
    "    while "
   ]
  },
  {
   "cell_type": "markdown",
   "metadata": {},
   "source": [
    "## 30. Substring with Concatenation of All Words (String List. Sliding Window) (Amazon 6, Microsoft 5)"
   ]
  },
  {
   "cell_type": "code",
   "execution_count": null,
   "metadata": {},
   "outputs": [],
   "source": [
    "class Solution\n",
    "\tdef findSubstring(self, s, words):\n",
    "\t\t\"\"\"\n",
    "\t\t:type s: str\n",
    "\t\t:type words: List[str]\n",
    "\t\t:rtype: List[int]\n",
    "\t\t\"\"\"\n",
    "\t\tif not s or len(s)==0 or not words or len(words)==0:\n",
    "\t\t\treturn []\n",
    "\n",
    "\t\tdic, res = {}, []\n",
    "\t\tfor i in words:\n",
    "\t\t\tif i not in dic:\n",
    "\t\t\t\tdic[i] = 1\n",
    "\t\t\telse:\n",
    "\t\t\t\tdic[i] += 1\n",
    "                \n",
    "\t\tone = len(words[0])\n",
    "\t\ttotal = len(words) * one\n",
    "        \n",
    "\t\tfor i in range(len(s) - total + 1):\n",
    "\t\t\ttmp = s[i:i+total]\n",
    "            d = dic.copy()\n",
    "\t\t\t# 将子串和临时字典进行比较\n",
    "\t\t\tfor j in range(0, len(tmp), one):\n",
    "\t\t\t\t# 从子串tmp_str中取出one长度的子串，看是否出现在临时字典中\n",
    "\t\t\t\t# 如果是就将临时字典记录的频率-1，如果不在就跳出循环\n",
    "\t\t\t\tkey = tmp[j:j+one]\n",
    "\t\t\t\tif key in d:\n",
    "\t\t\t\t\td[key] -= 1\n",
    "\t\t\t\t\tif d[key]==0:\n",
    "\t\t\t\t\t    d.pop(key)\n",
    "\t\t\t\telse:\n",
    "\t\t\t\t\tbreak\n",
    "\n",
    "\t\t\tif not d:\n",
    "\t\t\t\tres.append(i)\n",
    "\t\treturn res"
   ]
  },
  {
   "cell_type": "code",
   "execution_count": null,
   "metadata": {},
   "outputs": [],
   "source": [
    "from collections import Counter\n",
    "class Solution:\n",
    "    def findSubstring(self, s: str, words: List[str]) -> List[int]:\n",
    "        \n",
    "        if not s or not words:\n",
    "            return []\n",
    "        \n",
    "        length = len(words[0])\n",
    "        total = len(words) * length\n",
    "        words = Counter(words)\n",
    "        res = []\n",
    "        \n",
    "        for i in range(len(s) - total + 1):\n",
    "            tmp = s[i:i + total]\n",
    "            array = []\n",
    "            for j in range(0, total, length):\n",
    "                array.append(tmp[j:j + length])\n",
    "                \n",
    "            if Counter(array) == words:\n",
    "                res.append(i)\n",
    "                \n",
    "        return res"
   ]
  },
  {
   "cell_type": "code",
   "execution_count": null,
   "metadata": {},
   "outputs": [],
   "source": [
    "class Solution:\n",
    "    def findSubstring(self, s, words):\n",
    "         \"\"\"\n",
    "        :type s: str\n",
    "        :type words: List[str]\n",
    "        :rtype: List[int]\n",
    "        \"\"\"\n",
    "        if not s or not words:\n",
    "            return []\n",
    "        \n",
    "        words.sort()\n",
    "        length = len(words[0])\n",
    "        totallen = len(words) * len(words[0])\n",
    "        res = []\n",
    "        \n",
    "        for i in range(len(s) - totallen + 1):\n",
    "            string = s[i:i + totallen]\n",
    "            List = []\n",
    "            index = 0\n",
    "            \n",
    "            while index < len(string):\n",
    "                List.append(string[index:index + length])\n",
    "                index += length\n",
    "            if sorted(List) == words:\n",
    "                res.append(i)\n",
    "        return res"
   ]
  },
  {
   "cell_type": "markdown",
   "metadata": {},
   "source": [
    "## 3. Longest Substring Without Repeating Characters (String, Pointer, Sliding Window) (Amazon 27, Microsoft 13, Google 11, Facebook 9)\n",
    "- 时间复杂度: O(N)- 空间复杂度: O(N)"
   ]
  },
  {
   "cell_type": "code",
   "execution_count": null,
   "metadata": {},
   "outputs": [],
   "source": [
    "from collections import Counter\n",
    "class Solution:\n",
    "    def lengthOfLongestSubstring(self, s):\n",
    "        \"\"\"\n",
    "        :type s: str\n",
    "        :rtype: int\n",
    "        \"\"\"\n",
    "        \n",
    "        \n",
    "        l = 0\n",
    "        r = 0\n",
    "        counter = 0 # counter 为当前子串中 unique 字符的数量\n",
    "        res = 0\n",
    "        \n",
    "        dic = Counter()\n",
    "        \n",
    "        while r <= len(s) - 1:\n",
    "            if dic[s[r]] > 0:\n",
    "                counter += 1\n",
    "                \n",
    "            dic[s[r]] += 1\n",
    "            r += 1\n",
    "            \n",
    "            while counter:\n",
    "                if dic[s[l]] > 1:\n",
    "                    counter -= 1\n",
    "                    \n",
    "                dic[s[l]] -= 1\n",
    "                l += 1\n",
    "                \n",
    "            res = max(res, r - l)\n",
    "        return res"
   ]
  },
  {
   "cell_type": "markdown",
   "metadata": {},
   "source": [
    "时间复杂度: O(N)  \n",
    "O(N)"
   ]
  },
  {
   "cell_type": "code",
   "execution_count": 102,
   "metadata": {},
   "outputs": [
    {
     "name": "stdout",
     "output_type": "stream",
     "text": [
      "0 0 1\n",
      "0 0 2\n",
      "0 0 3\n",
      "1 1 3\n",
      "2 2 3\n",
      "3 3 3\n",
      "5 5 3\n",
      "7 7 3\n"
     ]
    },
    {
     "data": {
      "text/plain": [
       "3"
      ]
     },
     "execution_count": 102,
     "metadata": {},
     "output_type": "execute_result"
    }
   ],
   "source": [
    "class Solution:\n",
    "    def lengthOfLongestSubstring(self, s):\n",
    "        \"\"\"\n",
    "        :type s: str\n",
    "        :rtype: int\n",
    "        \"\"\"\n",
    "        # start 指针指向的是当前子串首字符在 input 中对应的index\n",
    "        cur = 0 \n",
    "        res = 0\n",
    "        dic = {}\n",
    "        \n",
    "        for i, c in enumerate(s):\n",
    "            cur = max(cur, dic.get(c, -1) + 1) # 找到当前子串新的起点\n",
    "            res = max(res, i - cur + 1) # 当前子串满足条件了，更新结果\n",
    "#             print(dic.get(s[i],-1)+1,start,res)\n",
    "            dic[c] = i # 将当前字符与其在 input 中的 index 记录下来\n",
    "        return res\n",
    "\n",
    "s = Solution()\n",
    "s.lengthOfLongestSubstring('abcabcbb')"
   ]
  },
  {
   "cell_type": "markdown",
   "metadata": {},
   "source": [
    "## 76. Minimum Window Substring (String, Sliding Window) (Facebook 20, Amazon 13, Linkedin 7, Google 7) (Hard)\n",
    "\n",
    "O(s+t)  \n",
    "O(s+t)"
   ]
  },
  {
   "cell_type": "code",
   "execution_count": 93,
   "metadata": {},
   "outputs": [],
   "source": [
    "from collections import Counter\n",
    "class Solution:\n",
    "    def minWindow(self, s, t):\n",
    "        \"\"\"\n",
    "        :type s: str\n",
    "        :type t: str\n",
    "        :rtype: str\n",
    "        \"\"\"\n",
    "        \n",
    "        \n",
    "#         for c in t:\n",
    "#             dic[c] += 1\n",
    "        l = 0\n",
    "        r = 0\n",
    "        \n",
    "        counter = len(t)\n",
    "        min_len = float(\"inf\")\n",
    "        res = \"\"\n",
    "        \n",
    "        dic = Counter(t)\n",
    "        \n",
    "        while r <= len(s) - 1:\n",
    "            if dic[s[r]] > 0:\n",
    "                counter -= 1\n",
    "                \n",
    "            dic[s[r]] -= 1\n",
    "            r += 1\n",
    "            \n",
    "            while counter == 0:\n",
    "                if min_len > r - l:\n",
    "                    min_len = r - l\n",
    "                    res = s[l:r]\n",
    "                    \n",
    "                if dic[s[l]] == 0:\n",
    "                    counter += 1\n",
    "                    \n",
    "                dic[s[l]] += 1\n",
    "                l += 1\n",
    "        return res"
   ]
  },
  {
   "cell_type": "code",
   "execution_count": 94,
   "metadata": {},
   "outputs": [
    {
     "name": "stdout",
     "output_type": "stream",
     "text": [
      "dict_t= Counter({'A': 1, 'B': 1, 'C': 1})\n",
      "required= 3\n",
      "character= A\n",
      "window_counts= {'A': 1}\n",
      "formed= 1\n",
      "\n",
      "character= D\n",
      "window_counts= {'A': 1, 'D': 1}\n",
      "\n",
      "character= O\n",
      "window_counts= {'A': 1, 'D': 1, 'O': 1}\n",
      "\n",
      "character= B\n",
      "window_counts= {'A': 1, 'D': 1, 'O': 1, 'B': 1}\n",
      "formed= 2\n",
      "\n",
      "character= E\n",
      "window_counts= {'A': 1, 'D': 1, 'O': 1, 'B': 1, 'E': 1}\n",
      "\n",
      "character= C\n",
      "window_counts= {'A': 1, 'D': 1, 'O': 1, 'B': 1, 'E': 1, 'C': 1}\n",
      "formed= 3\n",
      "ans= (6, 0, 5)\n",
      "\n",
      "character= O\n",
      "window_counts= {'A': 0, 'D': 1, 'O': 2, 'B': 1, 'E': 1, 'C': 1}\n",
      "\n",
      "character= D\n",
      "window_counts= {'A': 0, 'D': 2, 'O': 2, 'B': 1, 'E': 1, 'C': 1}\n",
      "\n",
      "character= E\n",
      "window_counts= {'A': 0, 'D': 2, 'O': 2, 'B': 1, 'E': 2, 'C': 1}\n",
      "\n",
      "character= B\n",
      "window_counts= {'A': 0, 'D': 2, 'O': 2, 'B': 2, 'E': 2, 'C': 1}\n",
      "\n",
      "character= A\n",
      "window_counts= {'A': 1, 'D': 2, 'O': 2, 'B': 2, 'E': 2, 'C': 1}\n",
      "formed= 3\n",
      "\n",
      "character= N\n",
      "window_counts= {'A': 1, 'D': 1, 'O': 1, 'B': 1, 'E': 1, 'C': 0, 'N': 1}\n",
      "\n",
      "character= C\n",
      "window_counts= {'A': 1, 'D': 1, 'O': 1, 'B': 1, 'E': 1, 'C': 1, 'N': 1}\n",
      "formed= 3\n",
      "ans= (5, 8, 12)\n",
      "ans= (4, 9, 12)\n",
      "\n"
     ]
    },
    {
     "data": {
      "text/plain": [
       "'BANC'"
      ]
     },
     "execution_count": 94,
     "metadata": {},
     "output_type": "execute_result"
    }
   ],
   "source": [
    "a = Solution()\n",
    "s = \"ADOBECODEBANC\"\n",
    "t = \"ABC\"\n",
    "a.minWindow(s,t)"
   ]
  },
  {
   "cell_type": "markdown",
   "metadata": {},
   "source": [
    "## 159. Longest Substring with At Most Two Distinct Characters (String, 2 Pointers, Sliding Window) (Google 2)\n",
    "- 时间复杂度: O(N)- 空间复杂度: O(N)"
   ]
  },
  {
   "cell_type": "code",
   "execution_count": null,
   "metadata": {},
   "outputs": [],
   "source": [
    "from collections import Counter\n",
    "class Solution:\n",
    "    def lengthOfLongestSubstringTwoDistinct(self, s):\n",
    "        \"\"\"\n",
    "        :type s: str\n",
    "        :rtype: int\n",
    "        \"\"\"   \n",
    "        \n",
    "        dic = Counter()\n",
    "        l = 0\n",
    "        r = 0\n",
    "        counter = 0\n",
    "        res = 0\n",
    "        \n",
    "        while r <= len(s) - 1:\n",
    "            if dic[s[r]] == 0:\n",
    "                counter += 1\n",
    "            \n",
    "            dic[s[r]] += 1\n",
    "            r += 1\n",
    "            \n",
    "            while counter > 2:\n",
    "                if dic[s[l]] == 1:\n",
    "                    counter -= 1\n",
    "                dic[s[l]] -= 1\n",
    "                l += 1\n",
    "            res = max(res, r - l)\n",
    "        return res"
   ]
  },
  {
   "cell_type": "markdown",
   "metadata": {},
   "source": [
    "O(N)  \n",
    "O(N)"
   ]
  },
  {
   "cell_type": "code",
   "execution_count": null,
   "metadata": {},
   "outputs": [],
   "source": [
    "from collections import defaultdict\n",
    "class Solution:\n",
    "    def lengthOfLongestSubstringTwoDistinct(self, s):\n",
    "        \"\"\"\n",
    "        :type s: str\n",
    "        :rtype: int\n",
    "        \"\"\"\n",
    "        \n",
    "        n = len(s) \n",
    "        if n < 3:\n",
    "            return n\n",
    "        \n",
    "        # sliding window left and right pointers\n",
    "        left, right = 0, 0\n",
    "        # hashmap character -> its rightmost position \n",
    "        # in the sliding window\n",
    "        hashmap = defaultdict()\n",
    "\n",
    "        max_len = 2\n",
    "        \n",
    "        while right < n:\n",
    "            # slidewindow contains less than 3 characters\n",
    "            if len(hashmap) < 3:\n",
    "                hashmap[s[right]] = right\n",
    "                right += 1\n",
    "\n",
    "            # slidewindow contains 3 characters\n",
    "            if len(hashmap) == 3:\n",
    "                # delete the leftmost character\n",
    "                del_idx = min(hashmap.values())\n",
    "                del hashmap[s[del_idx]]\n",
    "                # move left pointer of the slidewindow\n",
    "                left = del_idx + 1\n",
    "\n",
    "            max_len = max(max_len, right - left)\n",
    "\n",
    "        return max_len"
   ]
  },
  {
   "cell_type": "markdown",
   "metadata": {},
   "source": [
    "## 340 Longest Substring with At Most K(Two) Distinct Characters (String, 2 Pointers, Sliding Window) (Facebook 11, Amazon 9)\n",
    "- 时间复杂度: O(N)- 空间复杂度: O(N)"
   ]
  },
  {
   "cell_type": "code",
   "execution_count": null,
   "metadata": {},
   "outputs": [],
   "source": [
    "from collections import Counter\n",
    "class Solution:\n",
    "    def lengthOfLongestSubstringKDistinct(self, s, k):\n",
    "        \"\"\"\n",
    "        :type s: str\n",
    "        :type k: int\n",
    "        :rtype: int\n",
    "        \"\"\"\n",
    "        dic = Counter()\n",
    "        l = 0\n",
    "        r = 0\n",
    "        counter = 0\n",
    "        res = 0\n",
    "        \n",
    "        while r <= len(s) - 1:\n",
    "            if dic[s[r]] == 0:\n",
    "                counter += 1\n",
    "                \n",
    "            dic[s[r]] += 1\n",
    "            r += 1\n",
    "            \n",
    "            while counter > k:\n",
    "                if dic[s[l]] == 1:\n",
    "                    counter -= 1\n",
    "                dic[s[l]] -= 1\n",
    "                l += 1\n",
    "            res = max(res, r - l)\n",
    "        return res"
   ]
  },
  {
   "cell_type": "markdown",
   "metadata": {},
   "source": [
    "## 209 Minimum Size Subarray Sum (List, 2 Poinsters, Sliding Window) (Amazon 3)"
   ]
  },
  {
   "cell_type": "code",
   "execution_count": null,
   "metadata": {},
   "outputs": [],
   "source": [
    "# sliding window\n",
    "# O(n)\n",
    "class Solution:\n",
    "    def minSubArrayLen(self, s: int, nums: List[int]) -> int:\n",
    "        if not nums : \n",
    "            return 0\n",
    "        \n",
    "        left = 0\n",
    "        cur = 0\n",
    "        res = float(\"inf\")\n",
    "        for right in range(len(nums)):\n",
    "            cur += nums[right]\n",
    "            while cur >= s:\n",
    "                res = min(res, right - left + 1)\n",
    "                cur -= nums[left]\n",
    "                left += 1\n",
    "                \n",
    "        return res if res != float(\"inf\") else 0"
   ]
  },
  {
   "cell_type": "code",
   "execution_count": null,
   "metadata": {},
   "outputs": [],
   "source": [
    "# binary search\n",
    "# O(nlogn)\n",
    "class Solution:\n",
    "    def minSubArrayLen(self, s: int, nums: List[int]) -> int:\n",
    "        if not nums :           \n",
    "            return 0\n",
    "        # 求前缀和\n",
    "        for i in range(1, len(nums)):\n",
    "            nums[i] += nums[i - 1]\n",
    "        #print(nums)\n",
    "        # 总和都小于 s 时候\n",
    "        if nums[-1] < s: return 0\n",
    "        res = float(\"inf\")\n",
    "        nums = [0] + nums\n",
    "        for i in range(1, len(nums)):\n",
    "            if nums[i] - s >= 0:\n",
    "                # 二分查找\n",
    "                loc = bisect.bisect_left(nums, nums[i] - s)\n",
    "                if nums[i] - nums[loc] >= s:\n",
    "                    res = min(res, i - loc)\n",
    "                    continue\n",
    "                if loc > 0:\n",
    "                    res = min(res, i - loc + 1)\n",
    "        return res\n"
   ]
  },
  {
   "cell_type": "markdown",
   "metadata": {},
   "source": [
    "## 202. Happy Number (Int, Set) (Apple 5)\n",
    "\n",
    "O(N)  \n",
    "O(N)"
   ]
  },
  {
   "cell_type": "code",
   "execution_count": null,
   "metadata": {},
   "outputs": [],
   "source": [
    "class Solution:\n",
    "    def isHappy(self, n):\n",
    "        seen = set()\n",
    "        while n not in seen:\n",
    "            seen.add(n)\n",
    "            n = sum([int(x) **2 for x in str(n)])\n",
    "        return n == 1"
   ]
  },
  {
   "cell_type": "markdown",
   "metadata": {},
   "source": [
    "## 771. Jewesl and Stones (Int, Set) (Google 5)\n",
    "\n",
    "O(J+S)  \n",
    "O(J)"
   ]
  },
  {
   "cell_type": "code",
   "execution_count": null,
   "metadata": {},
   "outputs": [],
   "source": [
    "class Solution:\n",
    "    def numJewelsInStones(self, J, S):\n",
    "        \"\"\"\n",
    "        :type J: str\n",
    "        :type S: str\n",
    "        :rtype: int\n",
    "        \"\"\"\n",
    "        Jset = set(J)\n",
    "        return sum(s in Jset for s in S)\n",
    "    \n",
    "s = Solution()\n",
    "s.numJewelsInStones(\"aA\", \"aAAbbbb\")"
   ]
  },
  {
   "cell_type": "code",
   "execution_count": null,
   "metadata": {},
   "outputs": [],
   "source": [
    "J = 'aA'\n",
    "S = 'aAAbbbb'\n",
    "[s in J for s in S]\n",
    "\n",
    "Jset = set(J)\n",
    "Jset"
   ]
  },
  {
   "cell_type": "markdown",
   "metadata": {},
   "source": [
    "## 929. Unique Email Adress (List, Set) (Google 2)\n",
    "O(N)  \n",
    "O(N)"
   ]
  },
  {
   "cell_type": "code",
   "execution_count": null,
   "metadata": {},
   "outputs": [],
   "source": [
    "class Solution:\n",
    "    def numUniqueEmails(self, emails):\n",
    "        \"\"\"\n",
    "        :type emails: List[str]\n",
    "        :rtype: int\n",
    "        \"\"\"\n",
    "        seen = set()\n",
    "        for email in emails:\n",
    "            local, domain = email.split('@')\n",
    "            if '+' in local:\n",
    "                local = local[:local.index('+')]\n",
    "            seen.add(local.replace('.','') + '@' + domain)\n",
    "        return len(seen)"
   ]
  }
 ],
 "metadata": {
  "kernelspec": {
   "display_name": "Python 3",
   "language": "python",
   "name": "python3"
  },
  "language_info": {
   "codemirror_mode": {
    "name": "ipython",
    "version": 3
   },
   "file_extension": ".py",
   "mimetype": "text/x-python",
   "name": "python",
   "nbconvert_exporter": "python",
   "pygments_lexer": "ipython3",
   "version": "3.8.1"
  },
  "toc-autonumbering": true
 },
 "nbformat": 4,
 "nbformat_minor": 4
}
