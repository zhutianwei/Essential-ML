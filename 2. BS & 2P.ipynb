{
 "cells": [
  {
   "cell_type": "code",
   "execution_count": 1,
   "metadata": {},
   "outputs": [],
   "source": [
    "from IPython.core.interactiveshell import InteractiveShell\n",
    "InteractiveShell.ast_node_interactivity = \"all\""
   ]
  },
  {
   "cell_type": "markdown",
   "metadata": {},
   "source": [
    "### List. BS, 2 Pointers"
   ]
  },
  {
   "cell_type": "markdown",
   "metadata": {},
   "source": [
    "## Binary Search (Must be sorted)"
   ]
  },
  {
   "cell_type": "code",
   "execution_count": null,
   "metadata": {},
   "outputs": [],
   "source": [
    "def binarySearch(arr, target):\n",
    "    l , r = 0, len(arr) - 1  \n",
    "    while l <= r:            \n",
    "        mid = (l + r) // 2 # mid = l + (r - l) // 2\n",
    "        if arr[mid] == target:\n",
    "            return mid\n",
    "        if arr[mid] < target:\n",
    "            l = mid + 1\n",
    "        else:\n",
    "            r = mid - 1\n",
    "    return -1"
   ]
  },
  {
   "cell_type": "markdown",
   "metadata": {},
   "source": [
    "##  69. Sqrt(x) (Int, BS) (Amazon 4, Google 2)"
   ]
  },
  {
   "cell_type": "code",
   "execution_count": null,
   "metadata": {},
   "outputs": [],
   "source": [
    "class Solution:\n",
    "    def mySqrt(self, x):        \n",
    "        if x < 2:\n",
    "            return x\n",
    "        \n",
    "        left = 2\n",
    "        right = x // 2\n",
    "        \n",
    "        while left <= right:\n",
    "            mid = left + (right - left) // 2\n",
    "            num = mid * mid\n",
    "            if num == x:\n",
    "                return mid\n",
    "            \n",
    "            if num > x:\n",
    "                right = mid -1\n",
    "            elif num < x:\n",
    "                left = mid + 1\n",
    "            \n",
    "        return right"
   ]
  },
  {
   "cell_type": "code",
   "execution_count": null,
   "metadata": {},
   "outputs": [],
   "source": [
    "class Solution:\n",
    "    def mySqrt(self, x):\n",
    "        if not x:\n",
    "            return 0\n",
    "        \n",
    "        if x < 4:\n",
    "            return 1\n",
    "        \n",
    "        left = 2\n",
    "        right = x // 2\n",
    "        \n",
    "        while left <= right:\n",
    "            mid = left + (right - left) // 2\n",
    "            num = mid * mid\n",
    "            if num == x:\n",
    "                return mid\n",
    "            \n",
    "            if num > x:\n",
    "                right = mid -1\n",
    "            elif num < x:\n",
    "                left = mid + 1\n",
    "            \n",
    "        return right"
   ]
  },
  {
   "cell_type": "markdown",
   "metadata": {},
   "source": [
    "## Sum of Perfect Squares (Google Phone)\n",
    "https://leetcode.com/discuss/interview-question/385489/Google-or-Phone-Screen-or-Sum-of-Perfect-Squares-and-Missing-Ranges "
   ]
  },
  {
   "cell_type": "code",
   "execution_count": 24,
   "metadata": {},
   "outputs": [],
   "source": [
    "class Main:\n",
    "    def square(self, num):\n",
    "        res = 0\n",
    "        for n in range(1, num + 1):\n",
    "            if self.mySqrt(n):\n",
    "                res += n\n",
    "                \n",
    "        return res\n",
    "\n",
    "    def mySqrt(self, x):\n",
    "            if x < 2:\n",
    "                return True\n",
    "\n",
    "            left = 2\n",
    "            right = x // 2\n",
    "\n",
    "            while left <= right:\n",
    "                mid = left + (right - left) // 2\n",
    "                num = mid * mid\n",
    "                if num == x:\n",
    "                    return True\n",
    "\n",
    "                if num > x:\n",
    "                    right = mid -1\n",
    "                elif num < x:\n",
    "                    left = mid + 1\n",
    "\n",
    "            return False"
   ]
  },
  {
   "cell_type": "code",
   "execution_count": 25,
   "metadata": {},
   "outputs": [
    {
     "data": {
      "text/plain": [
       "14"
      ]
     },
     "execution_count": 25,
     "metadata": {},
     "output_type": "execute_result"
    }
   ],
   "source": [
    "s = Main()\n",
    "s.square(10)"
   ]
  },
  {
   "cell_type": "markdown",
   "metadata": {},
   "source": [
    "## Salary Adjustment (Google Phone)  \n",
    "https://leetcode.com/discuss/interview-question/351313/Google-or-Phone-Screen-or-Salary-Adjustment"
   ]
  },
  {
   "cell_type": "code",
   "execution_count": 54,
   "metadata": {},
   "outputs": [],
   "source": [
    "def adjust(array, maxValue):\n",
    "    array.sort(reverse = True)\n",
    "    \n",
    "    for i in range(1, len(array)):\n",
    "        k = (maxValue - sum(array[i:])) // i\n",
    "        if k > array[i]:\n",
    "            return k"
   ]
  },
  {
   "cell_type": "code",
   "execution_count": 55,
   "metadata": {},
   "outputs": [
    {
     "data": {
      "text/plain": [
       "250"
      ]
     },
     "execution_count": 55,
     "metadata": {},
     "output_type": "execute_result"
    }
   ],
   "source": [
    "array = [100, 200, 300, 400]\n",
    "maxValue = 800\n",
    "adjust(array, maxValue)"
   ]
  },
  {
   "cell_type": "markdown",
   "metadata": {},
   "source": [
    "## Array Adjustment (Google Phone)  \n",
    "https://leetcode.com/discuss/interview-question/349612/Google-or-Phone-Screen-or-Array-Adjustment"
   ]
  },
  {
   "cell_type": "code",
   "execution_count": 41,
   "metadata": {},
   "outputs": [],
   "source": [
    "def max_value(nums,val):    \n",
    "    l,r = min(nums), max(nums)\n",
    "    \n",
    "    while l < r:\n",
    "        m = l+ (r-l) // 2\n",
    "        s = 0\n",
    "        for n in nums:\n",
    "            if n >= m:\n",
    "                s+=m\n",
    "            else:\n",
    "                s+=n\n",
    "        if s < val:\n",
    "            l = m+1\n",
    "        elif s > val:\n",
    "            r = m-1\n",
    "            \n",
    "        elif s == val:\n",
    "            return m\n",
    "    return l\n",
    "\n",
    "# def max_value(nums,val):\n",
    "#     l, r = min(nums), max(nums)+1 # O(N)\n",
    "\n",
    "#     while l < r:\n",
    "#         m = l + (r - l) // 2\n",
    "#         s = 0\n",
    "#         for n in nums: # O(N)\n",
    "#             if n >= m:\n",
    "#                 s+=m\n",
    "#             else:\n",
    "#                 s+=n\n",
    "\n",
    "#         if s == val:\n",
    "#             return m\n",
    "        \n",
    "#         elif s < val:\n",
    "#             l = m + 1\n",
    "#         else:\n",
    "#             r = m\n",
    "\n",
    "#     return m"
   ]
  },
  {
   "cell_type": "code",
   "execution_count": 43,
   "metadata": {},
   "outputs": [
    {
     "data": {
      "text/plain": [
       "250"
      ]
     },
     "execution_count": 43,
     "metadata": {},
     "output_type": "execute_result"
    }
   ],
   "source": [
    "nums = [100, 200, 300, 400] #[10, 5, 20, 30] \n",
    "\n",
    "maxValue = 800\n",
    "\n",
    "max_value(nums, maxValue)"
   ]
  },
  {
   "cell_type": "markdown",
   "metadata": {},
   "source": [
    "## 852. Peak Index in a Mountain Array (List, BS) (Google 3)\n",
    "\n",
    "O(logN)  \n",
    "O(1)"
   ]
  },
  {
   "cell_type": "code",
   "execution_count": null,
   "metadata": {},
   "outputs": [],
   "source": [
    "class Solution:\n",
    "    def peakIndexInMountainArray(self, A):\n",
    "        l = 0\n",
    "        r = len(A) - 1\n",
    "        while l <= r:\n",
    "            mid = (l + r) // 2\n",
    "            if A[mid] > A[mid - 1] and A[mid] > A[mid + 1]:\n",
    "                return mid\n",
    "            \n",
    "            if A[mid-1] < A[mid] < A[mid + 1]:\n",
    "                l = mid + 1\n",
    "                \n",
    "            elif A[mid-1] > A[mid] > A[mid + 1]:\n",
    "                r = mid - 1\n",
    "                "
   ]
  },
  {
   "cell_type": "code",
   "execution_count": null,
   "metadata": {},
   "outputs": [],
   "source": [
    "class Solution:\n",
    "    def peakIndexInMountainArray(self, A):\n",
    "        l = 0\n",
    "        r = len(A) - 1\n",
    "        while l <= r:\n",
    "            mid = (l + r) // 2\n",
    "            if A[mid] < A[mid + 1]:\n",
    "                l = mid + 1\n",
    "            elif A[mid] > A[mid + 1]:\n",
    "                r = mid - 1\n",
    "        return l"
   ]
  },
  {
   "cell_type": "markdown",
   "metadata": {},
   "source": [
    "## 34. Find First and Last Position of Element in Sorted Array (List, BS) (Facebook 12, Google 8, Uber 5, Amazon 4)\n",
    "\n",
    "O(logN)  \n",
    "O(N)"
   ]
  },
  {
   "cell_type": "code",
   "execution_count": null,
   "metadata": {},
   "outputs": [],
   "source": [
    "class Solution:\n",
    "    # returns leftmost (or rightmost) index at which `target` should be inserted in sorted\n",
    "    # array `nums` via binary search.\n",
    "    def extreme_insertion_index(self, nums, target, left):\n",
    "        lo = 0\n",
    "        hi = len(nums) - 1\n",
    "\n",
    "        while lo <= hi:\n",
    "            mid = (lo + hi) // 2\n",
    "            if nums[mid] > target or (left and target == nums[mid]):\n",
    "                hi = mid\n",
    "            else:\n",
    "                lo = mid + 1\n",
    "\n",
    "        return lo\n",
    "\n",
    "\n",
    "    def searchRange(self, nums, target):\n",
    "        left_idx = self.extreme_insertion_index(nums, target, True)\n",
    "\n",
    "        # assert that `left_idx` is within the array bounds and that `target`\n",
    "        # is actually in `nums`.\n",
    "        if left_idx == len(nums) or nums[left_idx] != target:\n",
    "            return [-1, -1]\n",
    "\n",
    "        return [left_idx, self.extreme_insertion_index(nums, target, False)-1]"
   ]
  },
  {
   "cell_type": "markdown",
   "metadata": {},
   "source": [
    "## Find the number of occurrences of an element in a sorted array (List. BS) (Google)"
   ]
  },
  {
   "cell_type": "code",
   "execution_count": 13,
   "metadata": {},
   "outputs": [
    {
     "data": {
      "text/plain": [
       "3"
      ]
     },
     "execution_count": 13,
     "metadata": {},
     "output_type": "execute_result"
    }
   ],
   "source": [
    "# public int count(int[] arr, int target) {\n",
    "#     int left = binarySearch(arr, target, true);\n",
    "#     if (left < 0) return 0;\n",
    "#     int right = binarySearch(arr, target, false);\n",
    "#     return right - left + 1;\n",
    "# }\n",
    "\n",
    "# private int binarySearch(int[] arr, int target, boolean leftmost) {\n",
    "#     int lo = 0;\n",
    "#     int hi = arr.length - 1;\n",
    "#     int idx = -1;\n",
    "#     while (lo <= hi) {\n",
    "#         int mid = (lo + hi) >>> 1; \n",
    "\n",
    "#         if (target > arr[mid]) {\n",
    "#             lo = mid + 1;\n",
    "#         } else if (target < arr[mid]) {\n",
    "#             hi = mid - 1;\n",
    "#         } else {\n",
    "#             idx = mid;\n",
    "#             if (leftmost) {\n",
    "#                 hi = mid - 1;\n",
    "#             } else {\n",
    "#                 lo = mid + 1;\n",
    "#             }\n",
    "#         }\n",
    "#     }\n",
    "#     return idx;\n",
    "# }\n",
    "\n",
    "class Solution:\n",
    "    def count(self, arr, target):\n",
    "        def binarySearch(arr, target, leftmost):\n",
    "            l = 0\n",
    "            r = len(arr) - 1\n",
    "            index = -1\n",
    "            while l <= r:\n",
    "                mid = (l + r) // 2\n",
    "                if arr[mid] < target:\n",
    "                    l = mid + 1\n",
    "                    \n",
    "                elif arr[mid] > target:\n",
    "                    r = mid - 1\n",
    "                    \n",
    "                elif arr[mid == target: \n",
    "                    index = mid\n",
    "                    if leftmost:\n",
    "                        r = mid - 1\n",
    "                    else:\n",
    "                        l = mid + 1\n",
    "                        \n",
    "            return index\n",
    "        \n",
    "        \n",
    "        left = binarySearch(arr, target, True)\n",
    "        if left < 0:\n",
    "            return 0\n",
    "        \n",
    "        right = binarySearch(arr, target, False)\n",
    "        return right - left + 1\n",
    "    \n",
    "\n",
    "arr = [4, 4, 8, 8, 8, 15, 16, 23, 23, 42]\n",
    "target = 8\n",
    "s = Solution()\n",
    "s.count(arr, target)"
   ]
  },
  {
   "cell_type": "markdown",
   "metadata": {},
   "source": [
    "## 410. Split Array Largest Sum (List, BS) (Google 31) (Hard)\n",
    "\n",
    "O(logN)  \n",
    "O(1)"
   ]
  },
  {
   "cell_type": "code",
   "execution_count": null,
   "metadata": {},
   "outputs": [],
   "source": [
    "class Solution:\n",
    "    def splitArray(self, nums, m):\n",
    "        \"\"\"\n",
    "        :type nums: List[int]\n",
    "        :type m: int\n",
    "        :rtype: int\n",
    "        \"\"\"    \n",
    "        l = max(nums)\n",
    "#         print('l=',l)\n",
    "        r = sum(nums)\n",
    "#         print('r=',r)\n",
    "        while l <= r:\n",
    "            mid = (l + r) // 2\n",
    "#             print('mid=',mid)\n",
    "            buckets = 1 \n",
    "            sums = 0\n",
    "            for n in nums:\n",
    "                if sums + n > mid:\n",
    "                    buckets += 1\n",
    "                    sums = 0\n",
    "                sums += n\n",
    "                \n",
    "#             print('buckets=', buckets)\n",
    "#             print('sums=', sums)\n",
    "                \n",
    "            if buckets <= m:\n",
    "                r = mid - 1\n",
    "            elif beckets > m:\n",
    "                l = mid + 1\n",
    "        return l"
   ]
  },
  {
   "cell_type": "code",
   "execution_count": 133,
   "metadata": {},
   "outputs": [
    {
     "name": "stdout",
     "output_type": "stream",
     "text": [
      "l= 16\n",
      "r= 32\n",
      "mid= 24\n",
      "buckets= 2\n",
      "sums= 8\n",
      "mid= 20\n",
      "buckets= 2\n",
      "sums= 18\n",
      "mid= 18\n",
      "buckets= 2\n",
      "sums= 18\n",
      "mid= 17\n",
      "buckets= 3\n",
      "sums= 8\n"
     ]
    },
    {
     "data": {
      "text/plain": [
       "18"
      ]
     },
     "execution_count": 133,
     "metadata": {},
     "output_type": "execute_result"
    }
   ],
   "source": [
    "s = Solution()\n",
    "nums = [7,2,5,10,8]\n",
    "m = 2\n",
    "s.splitArray(nums, m)"
   ]
  },
  {
   "cell_type": "markdown",
   "metadata": {},
   "source": [
    "## Divide Chocolate ("
   ]
  },
  {
   "cell_type": "code",
   "execution_count": 19,
   "metadata": {},
   "outputs": [
    {
     "data": {
      "text/plain": [
       "18"
      ]
     },
     "execution_count": 19,
     "metadata": {},
     "output_type": "execute_result"
    }
   ],
   "source": [
    "# class Solution {\n",
    "#     public int splitArray(int[] nums, int m) {\n",
    "#         int low = 0, high = Integer.MAX_VALUE;\n",
    "#         while (low <= high) {\n",
    "#             int mid = low + (high - low) / 2;\n",
    "#             if (canSplit(nums, m, mid)) {\n",
    "#                 low = mid + 1;\n",
    "#             } else {\n",
    "#                 high = mid - 1;\n",
    "#             }\n",
    "#         }\n",
    "#         return high;\n",
    "        \n",
    "#     }\n",
    "    \n",
    "#     // for a certian min sum requirement, check whether this can split into m groups\n",
    "#     private boolean canSplit(int[] nums, int m, int minSum) {\n",
    "#         int count = 0;\n",
    "#         long sum = 0;\n",
    "#         for (int i = 0; i < nums.length; i++) {\n",
    "#             sum += nums[i];\n",
    "#             if (sum >= minSum) {\n",
    "#                 sum = 0;\n",
    "#                 count++;\n",
    "#             }\n",
    "#         }\n",
    "#         return count >= m;\n",
    "#     }\n",
    "# }"
   ]
  },
  {
   "cell_type": "markdown",
   "metadata": {},
   "source": [
    "## 153. Find Minimum in Rotated Sorted Array (List, BS) (Amazon 8, Microsoft 5)\n",
    "\n",
    "O(logN), binary search  \n",
    "O(1)"
   ]
  },
  {
   "cell_type": "code",
   "execution_count": null,
   "metadata": {},
   "outputs": [],
   "source": [
    "class Solution:\n",
    "    def findMin(self, nums):\n",
    "        \"\"\"\n",
    "        :type nums: List[int]\n",
    "        :rtype: int\n",
    "        \"\"\"\n",
    "        if len(nums) == 1:\n",
    "            return nums[0]\n",
    "\n",
    "        l = 0\n",
    "        r = len(nums) - 1\n",
    "\n",
    "        while l <= r:\n",
    "            m = l + (r - l) // 2\n",
    "            if nums[m] > nums[m + 1]:\n",
    "                return nums[m + 1]\n",
    "\n",
    "            if nums[m - 1] > nums[m]:\n",
    "                return nums[m]\n",
    "\n",
    "            if nums[m] > nums[r]:\n",
    "                l = m + 1\n",
    "\n",
    "            elif nums[m] < nums[r]:\n",
    "                r = m - 1"
   ]
  },
  {
   "cell_type": "code",
   "execution_count": null,
   "metadata": {},
   "outputs": [],
   "source": [
    "class Solution:\n",
    "    def findMin(self, nums):\n",
    "        \"\"\"\n",
    "        :type nums: List[int]\n",
    "        :rtype: int\n",
    "        \"\"\"\n",
    "        l = 0\n",
    "        r = len(nums) - 1\n",
    "        while l < r:\n",
    "            m = (l + r) // 2\n",
    "            if nums[m] > nums[r]:\n",
    "                l = m + 1\n",
    "            else:\n",
    "                r = m\n",
    "        return nums[l]"
   ]
  },
  {
   "cell_type": "code",
   "execution_count": null,
   "metadata": {},
   "outputs": [],
   "source": [
    "l = [3,4,5,1,2]"
   ]
  },
  {
   "cell_type": "markdown",
   "metadata": {},
   "source": [
    "## 154. Find Minimum in Rotated Sorted Array II (List, BS) (Amazon 2)\n",
    "O(logN)~O(N)"
   ]
  },
  {
   "cell_type": "code",
   "execution_count": null,
   "metadata": {},
   "outputs": [],
   "source": [
    "class Solution:\n",
    "    def findMin(self, nums):\n",
    "        l = 0\n",
    "        r = len(nums) - 1\n",
    "        while l < r:\n",
    "            m = (l + r) // 2\n",
    "            if nums[m] == nums[r]:\n",
    "                r -= 1\n",
    "            \n",
    "            elif nums[m] > nums[r]:\n",
    "                l = m + 1\n",
    "                \n",
    "            elif nums[m] < nums[r]:\n",
    "                r = m \n",
    "\n",
    "        return nums[l]"
   ]
  },
  {
   "cell_type": "code",
   "execution_count": null,
   "metadata": {},
   "outputs": [],
   "source": [
    "from typing import List\n",
    "\n",
    "\n",
    "class Solution:\n",
    "    def findMin(self, nums: List[int]) -> int:\n",
    "        size = len(nums)\n",
    "        if size == 0:\n",
    "            return Exception('程序出错')\n",
    "\n",
    "        left = 0\n",
    "        right = size - 1\n",
    "        while left < right:\n",
    "            # mid = left + (right - left) // 2\n",
    "            mid = (left + right) >> 1\n",
    "            if nums[mid] > nums[right]:\n",
    "                # mid 肯定不是最小值\n",
    "                # [7,8,9,10,11,1,2,3]\n",
    "                left = mid + 1\n",
    "            elif nums[mid] < nums[right]:\n",
    "                # mid 有可能是最小值\n",
    "                # [7,8,1,2,3]\n",
    "                right = mid\n",
    "            else:\n",
    "                # 都有可能，所以就把 right 排除了\n",
    "                # [1,1,1,1,1,0,1]\n",
    "                assert nums[mid] == nums[right]\n",
    "                right = right - 1\n",
    "        # 无需后处理\n",
    "        return nums[left]"
   ]
  },
  {
   "cell_type": "markdown",
   "metadata": {},
   "source": [
    "## 33. Search in Rotated Sorted Array (List, BS) (Amazon 19, Microsoft 10, Facebook 10, Google 5 Phone)"
   ]
  },
  {
   "cell_type": "code",
   "execution_count": null,
   "metadata": {},
   "outputs": [],
   "source": [
    "# 时间复杂度: O(lgN)   \n",
    "# O(1)\n",
    "class Solution:\n",
    "    def search(self, nums, target):\n",
    "        \"\"\"\n",
    "        :type nums: List[int]\n",
    "        :type target: int\n",
    "        :rtype: int\n",
    "        \"\"\"\n",
    "        \n",
    "        if not nums:\n",
    "            return -1\n",
    "        \n",
    "        l = 0\n",
    "        r = len(nums) - 1\n",
    "        \n",
    "        while l <= r:\n",
    "            mid = l + (r - l) // 2\n",
    "            \n",
    "            if nums[mid] == target:\n",
    "                return mid\n",
    "            \n",
    "            if nums[mid] >= nums[l]:\n",
    "                if nums[l] <= target < nums[mid]:\n",
    "                    r = mid - 1\n",
    "                    \n",
    "                else:\n",
    "                    l = mid + 1\n",
    "                \n",
    "            elif nums[mid] < nums[l]:\n",
    "                if nums[mid] < target <= nums[r]:\n",
    "                    l = mid + 1\n",
    "                    \n",
    "                else:\n",
    "                    r = mid - 1\n",
    "                    \n",
    "        return -1"
   ]
  },
  {
   "cell_type": "code",
   "execution_count": 18,
   "metadata": {},
   "outputs": [],
   "source": [
    "class Solution:\n",
    "    def search(self, nums, target):\n",
    "        \"\"\"\n",
    "        :type nums: List[int]\n",
    "        :type target: int\n",
    "        :rtype: int\n",
    "        \"\"\"\n",
    "        if not nums:\n",
    "            return -1\n",
    "\n",
    "        l = 0 \n",
    "        r = len(nums) - 1\n",
    "\n",
    "        while l <= r:\n",
    "            m = (l + r) // 2\n",
    "#             print('mid =', mid)\n",
    "            if nums[m] == target:\n",
    "                return m\n",
    "\n",
    "            if nums[m] < nums[r]: # nums[mid] <= nums[low]\n",
    "                if nums[m] < target <= nums[r]:\n",
    "#                     print('3')\n",
    "                    l = m + 1\n",
    "                else:\n",
    "#                     print('4')\n",
    "                    r = m - 1\n",
    "        \n",
    "            elif nums[m] >= nums[r]:\n",
    "                if nums[l] <= target < nums[m]:\n",
    "#                     print('1')\n",
    "                    r = m - 1\n",
    "                else:\n",
    "#                     print('2')\n",
    "                    l = m + 1\n",
    "        return -1"
   ]
  },
  {
   "cell_type": "code",
   "execution_count": 19,
   "metadata": {},
   "outputs": [
    {
     "name": "stdout",
     "output_type": "stream",
     "text": [
      "mid = 3\n",
      "2\n",
      "mid = 5\n",
      "1\n",
      "mid = 4\n"
     ]
    },
    {
     "data": {
      "text/plain": [
       "4"
      ]
     },
     "execution_count": 19,
     "metadata": {},
     "output_type": "execute_result"
    }
   ],
   "source": [
    "s = Solution()\n",
    "nums = [4,5,6,7,0,1,2]\n",
    "target = 0\n",
    "s.search(nums, target)"
   ]
  },
  {
   "cell_type": "markdown",
   "metadata": {},
   "source": [
    "## 74. Search a 2D Matrix (List, BS) (Amazon 4)\n",
    "\n",
    "N(log(mn))  \n",
    "O(1)"
   ]
  },
  {
   "cell_type": "code",
   "execution_count": null,
   "metadata": {},
   "outputs": [],
   "source": [
    "class Solution:\n",
    "    def searchMatrix(self, matrix, target):\n",
    "        \"\"\"\n",
    "        :type matrix: List[List[int]]\n",
    "        :type target: int\n",
    "        :rtype: bool\n",
    "        \"\"\"\n",
    "        if not matrix:\n",
    "            return False\n",
    "        \n",
    "        row = len(matrix)\n",
    "        col = len(matrix[0])\n",
    "        \n",
    "        # binary search\n",
    "        l = 0\n",
    "        r = row * col - 1\n",
    "        while l <= r:\n",
    "            m = (l + r) // 2\n",
    "            num = matrix[m // col][m % col]\n",
    "            if num == target:\n",
    "                return True\n",
    "            elif num > target:\n",
    "                r = m - 1\n",
    "            else:\n",
    "                l = m + 1\n",
    "        return False"
   ]
  },
  {
   "cell_type": "code",
   "execution_count": null,
   "metadata": {},
   "outputs": [],
   "source": [
    "for nums in matrix:\n",
    "    l = 0\n",
    "    r = len(nums) - 1\n",
    "    while l <= r:\n",
    "        m = (l + r) // 2\n",
    "        if nums[m] == target:\n",
    "            return True\n",
    "\n",
    "        elif nums[m] < target:\n",
    "            l = m + 1\n",
    "\n",
    "        else:\n",
    "            r = m - 1\n",
    "\n",
    "return False"
   ]
  },
  {
   "cell_type": "markdown",
   "metadata": {},
   "source": [
    "## 540. Single Element in a Sorted Array (List. Binary Search) (Amazon 4, Facebook 4, Microsoft 3)"
   ]
  },
  {
   "cell_type": "code",
   "execution_count": null,
   "metadata": {},
   "outputs": [],
   "source": [
    "class Solution:\n",
    "    def singleNonDuplicate(self, nums):\n",
    "        l = 0\n",
    "        r = len(nums) - 1   \n",
    "        while l < r:\n",
    "            mid = l + (r - l) // 2\n",
    "\n",
    "            # halves_are_even = (hi - mid) % 2 == 0\n",
    "            if nums[mid + 1] == nums[mid]:\n",
    "                if mid % 2:\n",
    "                    r = mid - 1\n",
    "                else:\n",
    "                    l = mid + 2\n",
    "            elif nums[mid - 1] == nums[mid]:\n",
    "                if mid % 2:\n",
    "                    l = mid + 1\n",
    "                else:\n",
    "                    r = mid - 2\n",
    "            else:\n",
    "                return nums[mid]\n",
    "        return nums[l]"
   ]
  },
  {
   "cell_type": "code",
   "execution_count": null,
   "metadata": {},
   "outputs": [],
   "source": [
    "# class Solution:\n",
    "#     def singleNonDuplicate(self, nums):\n",
    "#         \"\"\"\n",
    "#         :type nums: List[int]\n",
    "#         :rtype: int\n",
    "#         \"\"\"\n",
    "        \n",
    "#         a = 0\n",
    "#         for i in nums:\n",
    "#             a ^= i\n",
    "#             print(a)\n",
    "#         return a\n",
    "        \n",
    "#         previous = nums[0]\n",
    "#         cnt = 0\n",
    "#         for i in range(1, len(nums)):\n",
    "#             if nums[i] == previous:\n",
    "#                 cnt += 1\n",
    "\n",
    "#             elif nums[i] != previous and cnt != 0:\n",
    "#                 previous = nums[i]\n",
    "#                 cnt = 0\n",
    "\n",
    "#             elif nums[i] != previous and cnt == 0:\n",
    "#                 return previous\n",
    "\n",
    "#         return nums[-1]\n",
    "\n",
    "    \n",
    "class Solution {\n",
    "    public int singleNonDuplicate(int[] nums) {\n",
    "       int l=0,r=nums.length-1;\n",
    "       while(l<r){\n",
    "           int h=(r+l)/2;\n",
    "           if(h%2==1){\n",
    "               if(nums[h]==nums[h+1])\n",
    "                   r=h-1;\n",
    "               else\n",
    "                   l=h+1;\n",
    "           }else{\n",
    "               if(nums[h]==nums[h+1])\n",
    "                   l=h+2;\n",
    "               else\n",
    "                   r=h;\n",
    "           }\n",
    "       }\n",
    "        return nums[l];\n",
    "    }\n",
    "}"
   ]
  },
  {
   "cell_type": "code",
   "execution_count": null,
   "metadata": {},
   "outputs": [],
   "source": [
    "class Solution:\n",
    "    def singleNonDuplicate(self, nums):\n",
    "        \"\"\"\n",
    "        :type nums: List[int]\n",
    "        :rtype: int\n",
    "        \"\"\"\n",
    "        \n",
    "        previous = nums[0]\n",
    "        cnt = 0\n",
    "        for i in range(1, len(nums)):\n",
    "            if nums[i] == previous:\n",
    "                cnt += 1\n",
    "\n",
    "            elif nums[i] != previous and cnt != 0:\n",
    "                previous = nums[i]\n",
    "                cnt = 0\n",
    "\n",
    "            elif nums[i] != previous and cnt == 0:\n",
    "                return previous\n",
    "\n",
    "        return nums[-1]"
   ]
  },
  {
   "cell_type": "code",
   "execution_count": null,
   "metadata": {},
   "outputs": [],
   "source": [
    "def xor(nums):\n",
    "    a = 0\n",
    "    for i in nums:\n",
    "        a ^= i\n",
    "    return a"
   ]
  },
  {
   "cell_type": "markdown",
   "metadata": {},
   "source": [
    "### Pointers"
   ]
  },
  {
   "cell_type": "markdown",
   "metadata": {},
   "source": [
    "## Min Moves to Obtain String Without 3 Identical Consecutive Letters (Microsoft OA)"
   ]
  },
  {
   "cell_type": "code",
   "execution_count": 45,
   "metadata": {},
   "outputs": [],
   "source": [
    "def solution(s):\n",
    "    moves = 0\n",
    "    \n",
    "    i = 0\n",
    "    while i < len(s):\n",
    "        length = 1\n",
    "        \n",
    "        while i + 1 < len(s) and s[i] == s[i+1]:\n",
    "            length += 1\n",
    "            i += 1\n",
    "            \n",
    "        moves += length // 3 \n",
    "        i += 1\n",
    "        \n",
    "    return moves"
   ]
  },
  {
   "cell_type": "code",
   "execution_count": 46,
   "metadata": {},
   "outputs": [
    {
     "data": {
      "text/plain": [
       "0"
      ]
     },
     "execution_count": 46,
     "metadata": {},
     "output_type": "execute_result"
    }
   ],
   "source": [
    "#array = 'baaabbaabbba'\n",
    "array = 'baababb'\n",
    "solution(array)"
   ]
  },
  {
   "cell_type": "markdown",
   "metadata": {},
   "source": [
    "## 240 Search a 2D Matrix II (2 Pointers) (Amazon 15, Microsoft 8)\n",
    "\n",
    "O(max(M,N))  \n",
    "O(1)"
   ]
  },
  {
   "cell_type": "code",
   "execution_count": null,
   "metadata": {},
   "outputs": [],
   "source": [
    "class Solution:\n",
    "    def searchMatrix(self, matrix, target):\n",
    "        \"\"\"\n",
    "        :type matrix: List[List[int]]\n",
    "        :type target: int\n",
    "        :rtype: bool\n",
    "        \"\"\"\n",
    "        if not matrix:\n",
    "            return False\n",
    "        r = 0\n",
    "        c = len(matrix[0]) - 1\n",
    "        \n",
    "        while r <= len(matrix) - 1 and c >= 0:\n",
    "            if matrix[r][c] == target:\n",
    "                return True\n",
    "                \n",
    "            elif matrix[r][c] > target:\n",
    "                c -= 1\n",
    "            elif matrix[r][c] < target:\n",
    "                r += 1\n",
    "                \n",
    "        return False"
   ]
  },
  {
   "cell_type": "code",
   "execution_count": null,
   "metadata": {},
   "outputs": [],
   "source": [
    "for nums in matrix:\n",
    "    l = 0\n",
    "    r = len(nums) - 1\n",
    "    while l <= r:\n",
    "        m = (l + r) // 2\n",
    "        if nums[m] == target:\n",
    "            return True\n",
    "\n",
    "        elif nums[m] < target:\n",
    "            l = m + 1\n",
    "\n",
    "        else:\n",
    "            r = m - 1\n",
    "\n",
    "return False"
   ]
  },
  {
   "cell_type": "markdown",
   "metadata": {},
   "source": [
    "## Leftmost Column Index of 1 (Google/Facebook Phone)\n",
    "https://leetcode.com/discuss/interview-question/341247/Facebook-or-Leftmost-column-index-of-1  "
   ]
  },
  {
   "cell_type": "code",
   "execution_count": 20,
   "metadata": {},
   "outputs": [],
   "source": [
    "# public class Main {\n",
    "    \n",
    "#     public static int findLeftmostIndexOfOne(int[][] matrix) {\n",
    "#         int rows = matrix.length;\n",
    "#         int cols = matrix[0].length;\n",
    "#         int candidate = -1;\n",
    "#         for (int r = 0, c = cols - 1; r < rows && c >= 0; ) {\n",
    "#             if (matrix[r][c] == 1) {\n",
    "#                 candidate = c;\n",
    "#                 c--;\n",
    "#             } else {\n",
    "#                 r++;\n",
    "#             }\n",
    "#         }\n",
    "#         return candidate;\n",
    "#     }\n",
    "    \n",
    "class Main:\n",
    "    def findLeft(self, matrix):\n",
    "        row = len(matrix)\n",
    "        col = len(matrix[0])\n",
    "    \n",
    "        res = -1\n",
    "    \n",
    "        r = 0\n",
    "        c = col - 1\n",
    "        while r <= row - 1 and c >= 0:\n",
    "            if matrix[r][c] == 1:\n",
    "                res = c\n",
    "                c -= 1\n",
    "            else:\n",
    "                r += 1\n",
    "        return res"
   ]
  },
  {
   "cell_type": "code",
   "execution_count": 21,
   "metadata": {},
   "outputs": [
    {
     "data": {
      "text/plain": [
       "1"
      ]
     },
     "execution_count": 21,
     "metadata": {},
     "output_type": "execute_result"
    }
   ],
   "source": [
    "s = Main()\n",
    "matrix = [[0, 0, 0, 1],\n",
    "          [0, 0, 1, 1],\n",
    "          [0, 1, 1, 1],\n",
    "          [0, 0, 0, 0]]\n",
    "s.findLeft(matrix)"
   ]
  },
  {
   "cell_type": "markdown",
   "metadata": {},
   "source": [
    "## 977. Squares of a Sorted Array (List, 2 Pointers) (Uber 7)\n",
    "\n",
    "O(N)  \n",
    "O(N)"
   ]
  },
  {
   "cell_type": "code",
   "execution_count": null,
   "metadata": {},
   "outputs": [],
   "source": [
    "class Solution:\n",
    "    def sortedSquares(self, nums):\n",
    "        \"\"\"\n",
    "        :type A: List[int]\n",
    "        :rtype: List[int]\n",
    "        \"\"\"\n",
    "        l = 0 \n",
    "        r = len(nums) - 1\n",
    "        end = len(nums) - 1\n",
    "        res = [0] * len(nums)\n",
    "        \n",
    "        while l <= r:\n",
    "            if nums[l]**2 < nums[r]**2:\n",
    "                res[end] = nums[r]**2\n",
    "                end -= 1\n",
    "                r -= 1\n",
    "                \n",
    "            else:\n",
    "                res[end] = nums[l]**2\n",
    "                end -= 1\n",
    "                l += 1\n",
    "                \n",
    "        return res"
   ]
  },
  {
   "cell_type": "code",
   "execution_count": 15,
   "metadata": {},
   "outputs": [],
   "source": [
    "class Solution:\n",
    "    def sortedSquares(self, nums):\n",
    "        \"\"\"\n",
    "        :type A: List[int]\n",
    "        :rtype: List[int]\n",
    "        \"\"\"\n",
    "        res = [0] * len(nums)\n",
    "        l = 0 \n",
    "        r = len(nums) - 1\n",
    "        while l <= r:\n",
    "            if abs(nums[l]) < abs(nums[r]):\n",
    "                res[r - l] = abs(nums[r])**2\n",
    "                r -= 1\n",
    "            else:\n",
    "                res[r - l] = abs(nums[l])**2\n",
    "                l += 1\n",
    "        return res"
   ]
  },
  {
   "cell_type": "markdown",
   "metadata": {},
   "source": [
    "## 88. (5) Merge Sorted Arrays (List, 2 Pointers) (Facebook 18, Microsoft 10, Amazon 8)\n",
    "\n",
    "O(m+n)  \n",
    "O(1)"
   ]
  },
  {
   "cell_type": "code",
   "execution_count": 10,
   "metadata": {},
   "outputs": [],
   "source": [
    "class Solution:\n",
    "    def merge(self, A, m, B, n):\n",
    "        \"\"\"\n",
    "        :type A: List[int]\n",
    "        :type m: int\n",
    "        :type B: List[int]\n",
    "        :type n: int\n",
    "        :rtype: void Do not return anything, modify nums1 in-place instead.\n",
    "        \"\"\"\n",
    "        p1 = m - 1\n",
    "        p2 = n - 1\n",
    "        end = m + n - 1\n",
    "        \n",
    "        while p1 >= 0 and p2 >= 0:\n",
    "#             print('m =', m, 'n =', n)\n",
    "            if A[p1] > B[p2]:\n",
    "                A[end] = A[p1]\n",
    "#                 print('nums1 =', nums1)\n",
    "                end -= 1\n",
    "                p1 -= 1\n",
    "#                 print('m =', m)\n",
    "            else:\n",
    "                A[end] = B[p2]\n",
    "#                 print('nums1 =', nums1)\n",
    "                end -= 1\n",
    "                p2 -= 1\n",
    "#                 print('n =', n)     \n",
    "#             print()\n",
    "        # if p2 > 0:\n",
    "        A[:p2+1] = B[:p2+1]"
   ]
  },
  {
   "cell_type": "code",
   "execution_count": 11,
   "metadata": {},
   "outputs": [
    {
     "name": "stdout",
     "output_type": "stream",
     "text": [
      "m = 3 n = 3\n",
      "nums1 = [1, 2, 3, 0, 0, 6]\n",
      "n = 2\n",
      "\n",
      "m = 3 n = 2\n",
      "nums1 = [1, 2, 3, 0, 5, 6]\n",
      "n = 1\n",
      "\n",
      "m = 3 n = 1\n",
      "nums1 = [1, 2, 3, 3, 5, 6]\n",
      "m = 2\n",
      "\n",
      "m = 2 n = 1\n",
      "nums1 = [1, 2, 2, 3, 5, 6]\n",
      "n = 0\n",
      "\n"
     ]
    },
    {
     "data": {
      "text/plain": [
       "[1, 2, 2, 3, 5, 6]"
      ]
     },
     "execution_count": 11,
     "metadata": {},
     "output_type": "execute_result"
    }
   ],
   "source": [
    "s = Solution()\n",
    "nums1 = [1,2,3,0,0,0]\n",
    "nums2 = [2,5,6]\n",
    "s.merge(nums1,3,nums2,3)\n",
    "nums1"
   ]
  },
  {
   "cell_type": "markdown",
   "metadata": {},
   "source": [
    "Given two sorted arrays, return the merge of the two sorted arrays also in sorted order.\n",
    "\n",
    "Example  \n",
    "Input  \n",
    "arr1[] = {5, 8, 9}  \n",
    "arr2[] = {4, 7, 8}  \n",
    "\n",
    "Output  \n",
    "arr3[] = {4, 5, 7, 8, 8, 9}  "
   ]
  },
  {
   "cell_type": "code",
   "execution_count": null,
   "metadata": {},
   "outputs": [],
   "source": [
    "def merge_arrays(arr1, arr2):\n",
    "    if not arr1:\n",
    "        return arr2\n",
    "    if not arr2:\n",
    "        return arr1\n",
    "    \n",
    "    m = 0\n",
    "    n = 0\n",
    "    end = len(arr1) + len(arr2) - 1\n",
    "    \n",
    "    res = [0] * len(arr2)\n",
    "    \n",
    "    arr3 = [0] * (len(arr1) + len(arr2))\n",
    "    \n",
    "    \n",
    "    print(arr1)\n",
    "    # arr1 = [5,8,9,0,0,0]\n",
    "    \n",
    "    while m <= len(arr1) - 1 and n <= len(arr2) - 1:\n",
    "        if arr1[m] > arr2[n]:\n",
    "            arr3[m+n] = arr2[n]\n",
    "            n +=1\n",
    "        else:\n",
    "            arr3[m+n] = arr1[m]\n",
    "            m +=1\n",
    "    \n",
    "    # print(m)\n",
    "    # print(n)\n",
    "    if m <= len(arr1) - 1:\n",
    "        arr3[m+n:] = arr1[m:]\n",
    "        \n",
    "    if n <= len(arr2) - 1:\n",
    "        arr3[m+n:] = arr2[n:]"
   ]
  },
  {
   "cell_type": "markdown",
   "metadata": {},
   "source": [
    "## 4. Median of Two Sorted Arrays (List, 3 Pointers) (Amazon 14, Google 12, Apple 8, Facebook 5, Microsoft 5) (Hard)\n",
    "\n",
    "O(log(min(m,n)))  \n",
    "O(1)"
   ]
  },
  {
   "cell_type": "code",
   "execution_count": null,
   "metadata": {},
   "outputs": [],
   "source": [
    "class Solution:\n",
    "    #这题很自然地想到归并排序，再取中间数，但是是nlogn的复杂度，题目要求logn\n",
    "    #所以要用二分法来巧妙地进一步降低时间复杂度\n",
    "    #思想就是利用总体中位数的性质和左右中位数之间的关系来把所有的数先分成两堆，然后再在两堆的边界返回答案\n",
    "    def findMedianSortedArrays(self, nums1, nums):\n",
    "        \"\"\"\n",
    "        :type A: List[int]\n",
    "        :type B: List[int]\n",
    "        :rtype: float\n",
    "        \"\"\"\n",
    "        \n",
    "        m = len(nums1)\n",
    "        n = len(nums2)\n",
    "        # 让nums2成为更长的那一个数组\n",
    "        if m>n:\n",
    "            nums1,nums2,m,n = nums2,nums1,n,m\n",
    "        \n",
    "        # 如果两个都为空的异常处理\n",
    "        if n == 0:\n",
    "            raise ValueError\n",
    "\n",
    "        # nums1中index在imid左边的都被分到左堆，nums2中jmid左边的都被分到左堆\n",
    "        imin,imax = 0,m\n",
    "        \n",
    "        # 二分答案\n",
    "        while(imin<=imax):\n",
    "            imid = imin + (imax-imin)//2\n",
    "            # 左堆最大的只有可能是nums1[imid-1],nums2[jmid-1]\n",
    "            # 右堆最小只有可能是nums1[imid],nums2[jmid]\n",
    "            # 让左右堆大致相等需要满足的条件是imid+jmid = m-imid+n-jmid 即 jmid = (m+n-2imid)//2\n",
    "            # 为什么是大致呢？因为有总数为奇数的情况，这里用向下取整数操作，所以如果是奇数，右堆会多1\n",
    "            jmid = (m+n-2*imid)//2 \n",
    "            \n",
    "            # 前面的判断条件只是为了保证不会index out of range\n",
    "            if(imid>0 and nums1[imid-1] > nums2[jmid]):\n",
    "                # imid太大了，这是里精确查找，不是左闭右开，而是双闭区间，所以直接移动一位\n",
    "                imax = imid-1\n",
    "            elif(imid<m and nums2[jmid-1] > nums1[imid]):\n",
    "                imin = imid+1\n",
    "            # 满足条件\n",
    "            else:\n",
    "                # 边界情况处理，都是为了不out of index\n",
    "                # 依次得到左堆最大和右堆最小\n",
    "                if(imid == m): \n",
    "                    minright = nums2[jmid]\n",
    "                elif(jmid == n): \n",
    "                    minright = nums1[imid]\n",
    "                else:\n",
    "                    minright = min(nums1[imid],nums2[jmid])        \n",
    "                    \n",
    "                if(imid == 0): \n",
    "                    maxleft = nums2[jmid-1]\n",
    "                elif(jmid == 0): \n",
    "                    maxleft = nums1[imid-1]\n",
    "                else:\n",
    "                    maxleft = max(nums1[imid-1],nums2[jmid-1])\n",
    "                \n",
    "                # 前面也提过，因为取中间的时候用的是向下取整，所以如果总数是奇数的话，\n",
    "                # 应该是右边个数多一些，边界的minright就是中位数\n",
    "                if((m+n)%2) == 1:\n",
    "                    return minright \n",
    "     \n",
    "                # 否则我们在两个值中间做个平均\n",
    "                return (maxleft + minright)/2"
   ]
  },
  {
   "cell_type": "markdown",
   "metadata": {},
   "source": [
    "O(m+n)  \n",
    "O(1)"
   ]
  },
  {
   "cell_type": "code",
   "execution_count": 54,
   "metadata": {},
   "outputs": [
    {
     "name": "stdout",
     "output_type": "stream",
     "text": [
      "5\n",
      "yes\n"
     ]
    },
    {
     "data": {
      "text/plain": [
       "4"
      ]
     },
     "execution_count": 54,
     "metadata": {},
     "output_type": "execute_result"
    }
   ],
   "source": [
    "class Solution:\n",
    "    def findMedianSortedArrays(self, A, B):\n",
    "        \"\"\"\n",
    "        :type A: List[int]\n",
    "        :type B: List[int]\n",
    "        :rtype: float\n",
    "        \"\"\"\n",
    "        def findKth(A, B, k):\n",
    "            p1 = 0\n",
    "            p2 = 0\n",
    "            m = 0\n",
    "            res = 0\n",
    "            while p1 <= len(A) - 1 and p2 <= len(B) - 1 and m <= k:\n",
    "                if A[p1] < B[p2]:\n",
    "                    res = A[p1]\n",
    "                    p1 += 1\n",
    "                else:\n",
    "                    res = B[p2]\n",
    "                    p2 += 1\n",
    "                m += 1\n",
    "\n",
    "            while p1 <= len(A) -1 and m <= k:\n",
    "                res = A[p1]\n",
    "                p1 += 1\n",
    "                m += 1\n",
    "\n",
    "            while p2 <= len(B) - 1 and m <= k:\n",
    "                res = B[p2]\n",
    "                p2 += 1\n",
    "                m += 1\n",
    "\n",
    "            return res\n",
    "\n",
    "        n = len(A) + len(B)\n",
    "#         print(n)\n",
    "        if n % 2 == 1:\n",
    "#             print('yes')\n",
    "            return findKth(A, B, n // 2)\n",
    "        else:\n",
    "            smaller = findKth(A, B, n // 2 - 1)\n",
    "            bigger = findKth(A, B, n // 2)\n",
    "            return (smaller + bigger) / 2\n",
    "        \n",
    "a = Solution()\n",
    "a.findMedianSortedArrays([1,4,5],[2,6])"
   ]
  },
  {
   "cell_type": "code",
   "execution_count": 4,
   "metadata": {},
   "outputs": [
    {
     "data": {
      "text/plain": [
       "4"
      ]
     },
     "execution_count": 4,
     "metadata": {},
     "output_type": "execute_result"
    }
   ],
   "source": [
    "def findKth(A, B, k):\n",
    "            p1 = 0\n",
    "            p2 = 0\n",
    "            m = 0\n",
    "            res = 0\n",
    "            while p1 <= len(A) - 1 and p2 <= len(B) - 1 and m <= k:\n",
    "                if A[p1] < B[p2]:\n",
    "                    res = A[p1]\n",
    "                    p1 += 1\n",
    "                else:\n",
    "                    res = B[p2]\n",
    "                    p2 += 1\n",
    "                m += 1\n",
    "\n",
    "            while p1 <= len(A) -1 and m <= k:\n",
    "                res = A[p1]\n",
    "                p1 += 1\n",
    "                m += 1\n",
    "\n",
    "            while p2 <= len(B) - 1 and m <= k:\n",
    "                res = B[p2]\n",
    "                p2 += 1\n",
    "                m += 1\n",
    "\n",
    "            return res\n",
    "        \n",
    "findKth([1,3], [2, 4], 3)"
   ]
  },
  {
   "cell_type": "markdown",
   "metadata": {},
   "source": [
    "## 167. Two Sum II - Input Array is Sorted (List, 2 Pointers) (Amazon 10)\n",
    "O(n)  \n",
    "O(1)\n",
    "\n",
    "https://www.hrwhisper.me/leetcode-2-sum-3-sum-4-sum-3-sum-closest-k-sum/"
   ]
  },
  {
   "cell_type": "code",
   "execution_count": null,
   "metadata": {},
   "outputs": [],
   "source": [
    "class Solution:\n",
    "    def twoSum(self, nums, target):\n",
    "        \"\"\"\n",
    "        :type nums: List[int]\n",
    "        :type target: int\n",
    "        :rtype: List[int]\n",
    "        \"\"\"\n",
    "        l = 0\n",
    "        r = len(nums) - 1\n",
    "        while l < r:\n",
    "            if nums[l] + nums[r] == target:\n",
    "                return [l + 1, r + 1]\n",
    "            elif nums[l] + nums[r] > target:\n",
    "                r -= 1\n",
    "            else:\n",
    "                l += 1\n",
    "        return [-1, -1]"
   ]
  },
  {
   "cell_type": "code",
   "execution_count": 9,
   "metadata": {},
   "outputs": [
    {
     "data": {
      "text/plain": [
       "[2, 3]"
      ]
     },
     "execution_count": 9,
     "metadata": {},
     "output_type": "execute_result"
    }
   ],
   "source": [
    "s = (3,2)\n",
    "sorted((3,2))"
   ]
  },
  {
   "cell_type": "markdown",
   "metadata": {},
   "source": [
    "## 15. 3Sum (List, 2 Pointers) (Amazon 32, Facebook 16, Microsoft 7)\n",
    "\n",
    "O(N^2)  \n",
    "O(n)  \n",
    "排序  \n",
    "固定左边，如果左边重复，继续  \n",
    "左右弄边界，去重，针对不同的左右边界情况处理"
   ]
  },
  {
   "cell_type": "code",
   "execution_count": null,
   "metadata": {},
   "outputs": [],
   "source": [
    "# right\n",
    "class Solution:\n",
    "    def threeSum(self, nums):\n",
    "        \"\"\"\n",
    "        :type nums: List[int]\n",
    "        :rtype: List[List[int]]\n",
    "        \"\"\"\n",
    "        nums.sort()\n",
    "        res =[]\n",
    "#         i = 0\n",
    "        \n",
    "        for i in range(len(nums)-2):\n",
    "#             if i == 0 or nums[i] > nums[i-1]:\n",
    "            if i > 0 and nums[i] == nums[i-1]:\n",
    "                continue\n",
    "            \n",
    "            l = i + 1\n",
    "            r = len(nums) - 1\n",
    "\n",
    "            while l < r:\n",
    "                s = nums[i] + nums[l] + nums[r]\n",
    "                if s == 0:\n",
    "                    res.append([nums[i], nums[l], nums[r]])\n",
    "                    l += 1\n",
    "                    r -= 1\n",
    "\n",
    "                    while l < r and nums[l] == nums[l-1]:\n",
    "                        l += 1\n",
    "                    while l < r and nums[r] == nums[r+1]:\n",
    "                        r -= 1\n",
    "                elif s > 0:\n",
    "                    r -=1\n",
    "                else :\n",
    "                    l +=1\n",
    "        return res"
   ]
  },
  {
   "cell_type": "markdown",
   "metadata": {},
   "source": [
    "## 16. 3Sum Closest (List, 2 Pointers) (Amazon 3)\n",
    "O(N^2)  \n",
    "O(1)"
   ]
  },
  {
   "cell_type": "code",
   "execution_count": 13,
   "metadata": {},
   "outputs": [
    {
     "ename": "SyntaxError",
     "evalue": "invalid syntax (<ipython-input-13-d54a57fc2267>, line 29)",
     "output_type": "error",
     "traceback": [
      "\u001b[0;36m  File \u001b[0;32m\"<ipython-input-13-d54a57fc2267>\"\u001b[0;36m, line \u001b[0;32m29\u001b[0m\n\u001b[0;31m    if diff < res_diff\u001b[0m\n\u001b[0m                      ^\u001b[0m\n\u001b[0;31mSyntaxError\u001b[0m\u001b[0;31m:\u001b[0m invalid syntax\n"
     ]
    }
   ],
   "source": [
    "class Solution:\n",
    "    def threeSumClosest(self, nums, target):\n",
    "        \"\"\"\n",
    "        :type nums: List[int]\n",
    "        :rtype: List[List[int]]\n",
    "        \"\"\"\n",
    "        nums.sort()\n",
    "        res = 0\n",
    "        res_diff = float('inf')\n",
    "        for i in range(len(nums)-2):\n",
    "            if i > 0 and nums[i] == nums[i-1]:\n",
    "                continue \n",
    "            \n",
    "            l = i + 1 \n",
    "            r = len(nums) - 1\n",
    "                \n",
    "            while l < r:\n",
    "                s = nums[i] + nums[l] + nums[r]\n",
    "                if s == target:\n",
    "                    return target\n",
    "                elif s > target:\n",
    "                    r -= 1\n",
    "                else:\n",
    "                    l += 1\n",
    "            \n",
    "                if abs(s-target) < res_diff:\n",
    "                    res_diff = abs(s-target)\n",
    "                    res = s\n",
    "\n",
    "        return res"
   ]
  },
  {
   "cell_type": "code",
   "execution_count": null,
   "metadata": {},
   "outputs": [],
   "source": [
    "class Solution:\n",
    "    def threeSumClosest(self, nums, target):\n",
    "        \"\"\"\n",
    "        :type nums: List[int]\n",
    "        :rtype: List[List[int]]\n",
    "        \"\"\"\n",
    "        nums.sort()\n",
    "        res = None\n",
    "        diff = float('inf')\n",
    "        for i in range(len(nums)-2):\n",
    "            if i == 0 or nums[i] > nums[i-1]:\n",
    "                l = i+1 \n",
    "                r = len(nums)-1\n",
    "                \n",
    "            while l < r:\n",
    "                s = nums[i] + nums[l] + nums[r]\n",
    "                if s == target:\n",
    "                    return target\n",
    "                elif s > target:\n",
    "                    r -= 1\n",
    "                    if abs(s-target) < diff:\n",
    "                        diff = abs(s-target)\n",
    "                        res = s\n",
    "                    while l < r and nums[r] == nums[r+1]:\n",
    "                        r -= 1    \n",
    "                else:\n",
    "                    l += 1\n",
    "                    if abs(s-target) < diff:\n",
    "                        diff = abs(s-target)\n",
    "                        res = s\n",
    "                    while l < r and nums[l] == nums[l-1]:\n",
    "                        l += 1 \n",
    "        return res"
   ]
  },
  {
   "cell_type": "markdown",
   "metadata": {},
   "source": [
    "## 18. 4Sum (List, 2 Pointers) (Amazon 4)\n",
    "\n",
    "O(N^3)  \n",
    "O(n)"
   ]
  },
  {
   "cell_type": "code",
   "execution_count": null,
   "metadata": {},
   "outputs": [],
   "source": [
    "class Solution:\n",
    "    def fourSum(self, nums, target):\n",
    "        \"\"\"\n",
    "        :type nums: List[int]\n",
    "        :type target: int\n",
    "        :rtype: List[List[int]]\n",
    "        \"\"\"\n",
    "        nums.sort()\n",
    "        res = []\n",
    "        for i in range(len(nums) - 3):\n",
    "            if i > 0 and nums[i] == nums[i - 1]: \n",
    "                continue\n",
    "                \n",
    "            if nums[i] + nums[i + 1] + nums[i + 2] + nums[i + 3] > target: \n",
    "                break\n",
    "            if nums[i] + nums[i - 3] + nums[i - 2] + nums[i - 1] < target: \n",
    "                continue\n",
    "                \n",
    "            for j in range(i + 1, len(nums) - 2):\n",
    "                if j > i + 1 and nums[j] == nums[j - 1]: \n",
    "                    continue\n",
    "                if nums[i] + nums[j] + nums[j + 1] + nums[j + 2] > target: \n",
    "                    break\n",
    "                if nums[i] + nums[j] + nums[j - 2] + nums[j - 1] < target: \n",
    "                    continue\n",
    "                    \n",
    "                l = j + 1 \n",
    "                r = len(nums) - 1\n",
    "                while l < r:\n",
    "                    s = nums[i] + nums[j] + nums[l] + nums[r]\n",
    "                    if s == target:\n",
    "                        res.append([nums[i], nums[j], nums[l], nums[r]])\n",
    "                        l += 1\n",
    "                        r -= 1\n",
    "                        while l < r and nums[l] == nums[l - 1]: \n",
    "                            l += 1\n",
    "                        while l < r and nums[r] == nums[r + 1]: \n",
    "                            r -= 1\n",
    "                    elif s > target:\n",
    "                        r -= 1\n",
    "                    else:\n",
    "                        l += 1\n",
    "        return res"
   ]
  },
  {
   "cell_type": "code",
   "execution_count": null,
   "metadata": {},
   "outputs": [],
   "source": [
    "class Solution:\n",
    "    def fourSum(self, nums, target):\n",
    "        \"\"\"\n",
    "        :type nums: List[int]\n",
    "        :type target: int\n",
    "        :rtype: List[List[int]]\n",
    "        \"\"\"\n",
    "        nums.sort()\n",
    "        res = []\n",
    "        for i in range(len(nums)):\n",
    "            for j in range(i + 1, len(nums)):\n",
    "                l = j + 1\n",
    "                r = len(nums) - 1\n",
    "                while l < r:\n",
    "                    s = nums[i] + nums[j] + nums[l] + nums[r]\n",
    "                    if s == target:\n",
    "                        if [nums[i], nums[j], nums[l], nums[r]] not in res:\n",
    "                            res.append([nums[i], nums[j], nums[l], nums[r]])\n",
    "                        l += 1\n",
    "                        r -= 1\n",
    "                    elif s > target:\n",
    "                        r -= 1\n",
    "                    else:\n",
    "                        l += 1\n",
    "        return res"
   ]
  },
  {
   "cell_type": "markdown",
   "metadata": {},
   "source": [
    "## 11. (5) Container With Most Water (List, 2 Pointers) (Amazon 11, Google 5)\n",
    "\n",
    "O(N)  \n",
    "O(1)"
   ]
  },
  {
   "cell_type": "code",
   "execution_count": null,
   "metadata": {},
   "outputs": [],
   "source": [
    "class Solution:\n",
    "    def maxArea(self, height):\n",
    "        \"\"\"\n",
    "        :type height: List[int]\n",
    "        :rtype: int\n",
    "        \"\"\"\n",
    "        l = 0\n",
    "        r = len(height) - 1\n",
    "        res = 0\n",
    "        while l < r:\n",
    "            water = min(height[l], height[r]) * (r - l) \n",
    "            res = max(res, water)\n",
    "            if height[l] <= height[r]:\n",
    "                l += 1\n",
    "            elif height[l] > height[r]:\n",
    "                r -= 1\n",
    "#             else:\n",
    "#                 left += 1\n",
    "#                 right -= 1\n",
    "        return res     "
   ]
  },
  {
   "cell_type": "markdown",
   "metadata": {},
   "source": [
    "## 42. (5) Trapping Rain Water (List, 2 Pointers) (Amazon 37, Facebook 17, Microsoft 16, Google 13)"
   ]
  },
  {
   "cell_type": "code",
   "execution_count": 184,
   "metadata": {},
   "outputs": [],
   "source": [
    "class Solution:\n",
    "    def trap(self, height):\n",
    "        \"\"\"\n",
    "        :type height: List[int]\n",
    "        :rtype: int\n",
    "        \"\"\"        \n",
    "        l = 0\n",
    "        r = len(height) - 1\n",
    "        res = 0\n",
    "        \n",
    "        while l < r:\n",
    "            minimum = min(height[l], height[r])\n",
    "#             print('min =', min_height)\n",
    "            while l < r and minimum >= height[l]:\n",
    "                res += minimum - height[l] \n",
    "#                 print('water =', water)\n",
    "                l += 1\n",
    "#                 print('l =', l)\n",
    "\n",
    "            while l < r and minimum >= height[r]:\n",
    "                res += minimum - height[r]\n",
    "#                 print('water =', water)\n",
    "                r -= 1\n",
    "#                 print('r =', r)\n",
    "                \n",
    "#             print()\n",
    "        return res"
   ]
  },
  {
   "cell_type": "code",
   "execution_count": 185,
   "metadata": {},
   "outputs": [
    {
     "name": "stdout",
     "output_type": "stream",
     "text": [
      "min = 0\n",
      "water = 0\n",
      "l = 1\n",
      "\n",
      "min = 1\n",
      "water = 0\n",
      "l = 2\n",
      "water = 1\n",
      "l = 3\n",
      "water = 1\n",
      "r = 10\n",
      "\n",
      "min = 2\n",
      "water = 1\n",
      "l = 4\n",
      "water = 2\n",
      "l = 5\n",
      "water = 4\n",
      "l = 6\n",
      "water = 5\n",
      "l = 7\n",
      "water = 5\n",
      "r = 9\n",
      "water = 6\n",
      "r = 8\n",
      "water = 6\n",
      "r = 7\n",
      "\n"
     ]
    },
    {
     "data": {
      "text/plain": [
       "6"
      ]
     },
     "execution_count": 185,
     "metadata": {},
     "output_type": "execute_result"
    }
   ],
   "source": [
    "s = Solution()\n",
    "s.trap([0,1,0,2,1,0,1,3,2,1,2,1])"
   ]
  },
  {
   "cell_type": "markdown",
   "metadata": {},
   "source": [
    "## 75. Sort Colors (List, 3 Pointers) (Microsoft 5)\n",
    "O(N)  \n",
    "O(1)"
   ]
  },
  {
   "cell_type": "code",
   "execution_count": null,
   "metadata": {},
   "outputs": [],
   "source": [
    "class Solution:\n",
    "    def sortColors(self, nums):\n",
    "        \"\"\"\n",
    "        :type nums: List[int]\n",
    "        :rtype: void Do not return anything, modify nums in-place instead.\n",
    "        \"\"\"\n",
    "        if not nums:\n",
    "            return\n",
    "        \n",
    "        l = 0\n",
    "        cur = 0\n",
    "        r = len(nums) - 1\n",
    "\n",
    "        while cur <= r:\n",
    "            if nums[cur] == 0:\n",
    "                nums[cur], nums[l] = nums[l], nums[cur]\n",
    "                cur += 1\n",
    "                l += 1\n",
    "            elif nums[cur] == 1:\n",
    "                cur += 1\n",
    "            elif nums[cur] == 2:\n",
    "                nums[cur], nums[r] = nums[r], nums[cur]\n",
    "                r -= 1"
   ]
  },
  {
   "cell_type": "markdown",
   "metadata": {},
   "source": [
    "## 280. Wiggle Sort (String)"
   ]
  },
  {
   "cell_type": "code",
   "execution_count": null,
   "metadata": {},
   "outputs": [],
   "source": [
    "class Solution:\n",
    "    def wiggleSort(self, nums: List[int]) -> None:\n",
    "        \"\"\"\n",
    "        Do not return anything, modify nums in-place instead.\n",
    "        \"\"\"\n",
    "        for i in range(len(nums)):\n",
    "            if i % 2 == 0 and nums[i] > nums[i-1] or i % 2 == 1 and nums[i] < nums[i-1]:\n",
    "                nums[i], nums[i-1] = nums[i-1], nums[i]"
   ]
  },
  {
   "cell_type": "markdown",
   "metadata": {},
   "source": [
    "## 125. Valid Palindrome (String. 2 Pointers) (Facebook 34)\n",
    "\n",
    "O(N)  \n",
    "O(1)"
   ]
  },
  {
   "cell_type": "code",
   "execution_count": null,
   "metadata": {},
   "outputs": [],
   "source": [
    "class Solution:\n",
    "    def isPalindrome(self, s):\n",
    "        \"\"\"\n",
    "        :type s: str\n",
    "        :rtype: bool\n",
    "        \"\"\"\n",
    "        l, r = 0, len(s) - 1\n",
    "        while l < r:\n",
    "            if not s[l].isalnum():\n",
    "                l += 1\n",
    "           \n",
    "            elif not s[r].isalnum():\n",
    "                r -= 1\n",
    "            \n",
    "            elif s[l].lower() != s[r].lower():\n",
    "                return False\n",
    "            \n",
    "            else:\n",
    "                l +=1\n",
    "                r -= 1\n",
    "        return True"
   ]
  },
  {
   "cell_type": "code",
   "execution_count": null,
   "metadata": {},
   "outputs": [],
   "source": [
    "class Solution:\n",
    "    def isPalindrome(self, s):\n",
    "        \"\"\"\n",
    "        :type s: str\n",
    "        :rtype: bool\n",
    "        \"\"\"\n",
    "        l, r = 0, len(s)-1\n",
    "        while l < r:\n",
    "            while l < r and not s[l].isalnum():\n",
    "                l += 1\n",
    "            while l < r and not s[r].isalnum():\n",
    "                r -= 1\n",
    "            if s[l].lower() != s[r].lower():\n",
    "                return False\n",
    "            l +=1\n",
    "            r -= 1\n",
    "        return True"
   ]
  },
  {
   "cell_type": "markdown",
   "metadata": {},
   "source": [
    "O(N)  \n",
    "O(1)"
   ]
  },
  {
   "cell_type": "code",
   "execution_count": null,
   "metadata": {},
   "outputs": [],
   "source": [
    "class Solution:\n",
    "    def isPalindrome(self, s):\n",
    "        \"\"\"\n",
    "        :type s: str\n",
    "        :rtype: bool\n",
    "        \"\"\"\n",
    "        if not s:\n",
    "            return True\n",
    "        \n",
    "        strs = []\n",
    "        for c in s:\n",
    "            if c.isalnum():\n",
    "                strs.append(c.lower())\n",
    "                \n",
    "        return strs==strs[::-1]"
   ]
  },
  {
   "cell_type": "code",
   "execution_count": 51,
   "metadata": {},
   "outputs": [],
   "source": [
    "class Solution:\n",
    "    def isPalindrome(self, s):\n",
    "        \"\"\"\n",
    "        :type s: str\n",
    "        :rtype: bool\n",
    "        \"\"\"\n",
    "        s = ''.join(c for c in s if c.isalnum()).lower()\n",
    "        print(s)\n",
    "        return s==s[::-1]\n",
    "    \n",
    "#         s = s.lower()\n",
    "#         n = ''\n",
    "#         for c in s:\n",
    "#             if c.isalnum():\n",
    "#                 n += c\n",
    "                \n",
    "#         print(n)\n",
    "#         return n == n[::-1]\n",
    "\n",
    "#         s = s.lower()\n",
    "#         for c in s:\n",
    "#             if not c.isalnum():\n",
    "#                 s = s.replace(c, '')\n",
    "                \n",
    "#         print(s)\n",
    "#         return s == s[::-1]"
   ]
  },
  {
   "cell_type": "code",
   "execution_count": 52,
   "metadata": {},
   "outputs": [
    {
     "name": "stdout",
     "output_type": "stream",
     "text": [
      "amanaplanacanalpanama\n"
     ]
    },
    {
     "data": {
      "text/plain": [
       "True"
      ]
     },
     "execution_count": 52,
     "metadata": {},
     "output_type": "execute_result"
    }
   ],
   "source": [
    "d = \"A man, a plan, a canal: Panama\"\n",
    "s = Solution()\n",
    "s.isPalindrome(d)"
   ]
  },
  {
   "cell_type": "code",
   "execution_count": 53,
   "metadata": {},
   "outputs": [
    {
     "name": "stdout",
     "output_type": "stream",
     "text": [
      "A\n",
      " \n",
      "m\n",
      "a\n",
      "n\n",
      ",\n",
      " \n",
      "a\n",
      " \n",
      "p\n",
      "l\n",
      "a\n",
      "n\n",
      ",\n",
      " \n",
      "a\n",
      " \n",
      "c\n",
      "a\n",
      "n\n",
      "a\n",
      "l\n",
      ":\n",
      " \n",
      "P\n",
      "a\n",
      "n\n",
      "a\n",
      "m\n",
      "a\n"
     ]
    }
   ],
   "source": [
    "for n in d:\n",
    "    print(n)"
   ]
  },
  {
   "cell_type": "markdown",
   "metadata": {},
   "source": [
    "## 344. Reverse String (String List, 2 Pointers) (Amazon 7)\n",
    "\n",
    "O(N)  \n",
    "O(1)"
   ]
  },
  {
   "cell_type": "code",
   "execution_count": null,
   "metadata": {},
   "outputs": [],
   "source": [
    "class Solution:\n",
    "    def reverseString(self, s):\n",
    "        \"\"\"\n",
    "        :type s: List[str]\n",
    "        :rtype: None Do not return anything, modify s in-place instead.\n",
    "        \"\"\"\n",
    "        l = 0\n",
    "        r = len(s) - 1\n",
    "        while l < r:\n",
    "            s[l], s[r] = s[r], s[l]\n",
    "            l += 1\n",
    "            r -= 1\n",
    "        return s"
   ]
  },
  {
   "cell_type": "markdown",
   "metadata": {},
   "source": [
    "## Bubble Sort"
   ]
  },
  {
   "cell_type": "code",
   "execution_count": 7,
   "metadata": {},
   "outputs": [
    {
     "data": {
      "text/plain": [
       "[2, 3, 5, 6]"
      ]
     },
     "execution_count": 7,
     "metadata": {},
     "output_type": "execute_result"
    }
   ],
   "source": [
    "def bubble_sort(array):\n",
    "    for i in range(len(array)-1):\n",
    "        for j in range(len(array) - i - 1):\n",
    "            if array[j] > array[j + 1]:\n",
    "                array[j], array[j + 1] = array[j + 1], array[j]\n",
    "                \n",
    "    return array\n",
    "                \n",
    "bubble_sort([5,3,2,6])"
   ]
  },
  {
   "cell_type": "markdown",
   "metadata": {},
   "source": [
    "## Quick Sort  \n",
    "O(NlogN)  \n",
    "O(N)"
   ]
  },
  {
   "cell_type": "code",
   "execution_count": 6,
   "metadata": {},
   "outputs": [
    {
     "data": {
      "text/plain": [
       "[2, 3, 5, 6]"
      ]
     },
     "execution_count": 6,
     "metadata": {},
     "output_type": "execute_result"
    }
   ],
   "source": [
    "def quick_sort(array):\n",
    "    if len(array) <= 1:\n",
    "        return array\n",
    "     \n",
    "    pivot = array[0]\n",
    "    smaller = [n for n in array[1:] if n <= pivot]\n",
    "    greater = [n for n in array[1:] if n > pivot]\n",
    "\n",
    "    return quickSort(smaller) + [pivot] + quickSort(greater)    \n",
    "\n",
    "array = [5, 3, 2, 6]\n",
    "quick_sort(array)"
   ]
  },
  {
   "cell_type": "code",
   "execution_count": 4,
   "metadata": {},
   "outputs": [
    {
     "data": {
      "text/plain": [
       "[3]"
      ]
     },
     "execution_count": 4,
     "metadata": {},
     "output_type": "execute_result"
    }
   ],
   "source": [
    "[3] + []"
   ]
  },
  {
   "cell_type": "markdown",
   "metadata": {},
   "source": [
    "## Merge Sort"
   ]
  },
  {
   "cell_type": "code",
   "execution_count": 1,
   "metadata": {},
   "outputs": [
    {
     "data": {
      "text/plain": [
       "[2, 3, 5, 6]"
      ]
     },
     "execution_count": 1,
     "metadata": {},
     "output_type": "execute_result"
    }
   ],
   "source": [
    "def merge_sort(nums):\n",
    "    # bottom cases: empty or list of a single element.\n",
    "    if len(nums) <= 1:\n",
    "        return nums\n",
    "\n",
    "    pivot = len(nums) // 2\n",
    "    left = merge_sort(nums[:pivot])\n",
    "    right = merge_sort(nums[pivot:])\n",
    "    return merge(left, right)\n",
    "\n",
    "\n",
    "def merge(left, right):\n",
    "    l = r = 0\n",
    "    ret = []\n",
    "    while l < len(left) and r < len(right):\n",
    "        if left[l] < right[r]:\n",
    "            ret.append(left[l])\n",
    "            l += 1\n",
    "        else:\n",
    "            ret.append(right[r])\n",
    "            r += 1\n",
    "    \n",
    "    # append what is remained in either of the lists\n",
    "    ret.extend(left[l:])\n",
    "    ret.extend(right[r:])\n",
    "    \n",
    "    return ret\n",
    "\n",
    "array = [5, 3, 2, 6]\n",
    "merge_sort(array)"
   ]
  },
  {
   "cell_type": "code",
   "execution_count": 2,
   "metadata": {},
   "outputs": [
    {
     "ename": "IndexError",
     "evalue": "list index out of range",
     "output_type": "error",
     "traceback": [
      "\u001b[0;31m---------------------------------------------------------------------------\u001b[0m",
      "\u001b[0;31mIndexError\u001b[0m                                Traceback (most recent call last)",
      "\u001b[0;32m<ipython-input-2-da99f3da4cde>\u001b[0m in \u001b[0;36m<module>\u001b[0;34m\u001b[0m\n\u001b[1;32m      1\u001b[0m \u001b[0marray\u001b[0m \u001b[0;34m=\u001b[0m \u001b[0;34m[\u001b[0m\u001b[0;36m1\u001b[0m\u001b[0;34m,\u001b[0m\u001b[0;36m3\u001b[0m\u001b[0;34m]\u001b[0m\u001b[0;34m\u001b[0m\u001b[0;34m\u001b[0m\u001b[0m\n\u001b[0;32m----> 2\u001b[0;31m \u001b[0marray\u001b[0m\u001b[0;34m[\u001b[0m\u001b[0;36m2\u001b[0m\u001b[0;34m]\u001b[0m\u001b[0;34m\u001b[0m\u001b[0;34m\u001b[0m\u001b[0m\n\u001b[0m",
      "\u001b[0;31mIndexError\u001b[0m: list index out of range"
     ]
    }
   ],
   "source": [
    "array = [1,3]\n",
    "array[2]"
   ]
  },
  {
   "cell_type": "markdown",
   "metadata": {},
   "source": [
    "## Cyclic Sort  \n",
    "O(N)  \n",
    "O(1)"
   ]
  },
  {
   "cell_type": "code",
   "execution_count": 10,
   "metadata": {},
   "outputs": [
    {
     "data": {
      "text/plain": [
       "[1, 2, 3, 4, 5, 6]"
      ]
     },
     "execution_count": 10,
     "metadata": {},
     "output_type": "execute_result"
    }
   ],
   "source": [
    "def cyclic_sort(nums): # 1 to n\n",
    "    i = 0\n",
    "    while i <= len(nums) - 1:\n",
    "        j = nums[i] - 1\n",
    "        if nums[i] != nums[j]:\n",
    "            nums[i], nums[j] = nums[j], nums[i]  # swap\n",
    "        else:\n",
    "            i += 1\n",
    "    return nums\n",
    "\n",
    "# nums = [1,3,4,2]\n",
    "# nums = [2, 3, 4, 1, 5, 6]\n",
    "nums = [1, 5, 6, 4, 3, 2]\n",
    "cyclic_sort(nums)"
   ]
  },
  {
   "cell_type": "code",
   "execution_count": null,
   "metadata": {},
   "outputs": [],
   "source": [
    "def cyclic_sort(nums): # 0 to n\n",
    "    i = 0\n",
    "    while i <= len(nums) - 1:\n",
    "        j = nums[i]\n",
    "        if nums[i] != nums[j]:\n",
    "            nums[i], nums[j] = nums[j], nums[i]  # swap\n",
    "        else:\n",
    "            i += 1\n",
    "            \n",
    "    return nums       \n",
    "\n",
    "nums = [3,5,6,2,1,0,4]\n",
    "cyclic_sort(nums)"
   ]
  },
  {
   "cell_type": "markdown",
   "metadata": {},
   "source": [
    "## Reorder array according to the given indexes (Google Phone)   \n",
    "https://leetcode.com/discuss/interview-question/309656/Google-or-Reorder-array-according-to-the-given-indexes"
   ]
  },
  {
   "cell_type": "code",
   "execution_count": null,
   "metadata": {},
   "outputs": [],
   "source": [
    "# Input: nums = [10, 11, 12], indexes = [1, 0, 2]\n",
    "# Output: [11, 10, 12]\n",
    "\n",
    "def sort(A, B):\n",
    "    i = 0\n",
    "    while i <= len(B) - 1:\n",
    "        j = B[i] \n",
    "        if B[i] != B[j]: \n",
    "            B[i], B[j] = B[j], B[i]\n",
    "            A[i], A[j] = A[j], A[i]\n",
    "            \n",
    "        else:\n",
    "            i += 1\n",
    "            \n",
    "    return A      "
   ]
  },
  {
   "cell_type": "code",
   "execution_count": null,
   "metadata": {},
   "outputs": [],
   "source": [
    "A = [24, 56, 74, -23, 87, 91]#[10, 11, 12]\n",
    "B = [1, 2, 3, 0, 4, 5]#[1, 0, 2]\n",
    "\n",
    "# Input: nums = [24, 56, 74, -23, 87, 91], indexes = [1, 2, 3, 0, 4, 5]\n",
    "# Output: [56, 74, -23, 24, 87, 89]\n",
    "sort(A,B)"
   ]
  },
  {
   "cell_type": "markdown",
   "metadata": {},
   "source": [
    "## 287. Find the Duplicate Number (List) (Amazon 7, Microsoft 4)"
   ]
  },
  {
   "cell_type": "code",
   "execution_count": null,
   "metadata": {},
   "outputs": [],
   "source": [
    "class Solution:\n",
    "    def findDuplicate(self, nums):\n",
    "        i = 0\n",
    "        while i <= len(nums) - 1:\n",
    "            if nums[i] != i + 1:\n",
    "                j = nums[i] - 1\n",
    "                if nums[i] != nums[j]:\n",
    "                    nums[i], nums[j] = nums[j], nums[i]  # swap\n",
    "                    \n",
    "                else:  # we have found the duplicate\n",
    "                    return nums[i]\n",
    "            else:\n",
    "                i += 1\n",
    "\n",
    "        return -1"
   ]
  },
  {
   "cell_type": "code",
   "execution_count": null,
   "metadata": {},
   "outputs": [],
   "source": [
    "class Solution:\n",
    "    def findDuplicate(self, nums):\n",
    "        \"\"\"\n",
    "        :type nums: List[int]\n",
    "        :rtype: int\n",
    "        \"\"\"\n",
    "        # The \"tortoise and hare\" step.  We start at the end of the array and try\n",
    "        # to find an intersection point in the cycle.\n",
    "        slow, fast = 0, 0\n",
    "        # Keep advancing 'slow' by one step and 'fast' by two steps until they\n",
    "        # meet inside the loop.\n",
    "        while True:\n",
    "            slow = nums[slow]\n",
    "            fast = nums[nums[fast]]\n",
    "            if slow == fast:\n",
    "                break\n",
    "        # Start up another pointer from the end of the array and march it forward\n",
    "        # until it hits the pointer inside the array.\n",
    "        finder = 0\n",
    "        while True:\n",
    "            slow   = nums[slow]\n",
    "            finder = nums[finder]\n",
    "            # If the two hit, the intersection index is the duplicate element.\n",
    "            if slow == finder:\n",
    "                return slow"
   ]
  },
  {
   "cell_type": "code",
   "execution_count": null,
   "metadata": {},
   "outputs": [],
   "source": [
    "class Solution:\n",
    "    def findDuplicate(self, nums):\n",
    "        seen = set()\n",
    "        for num in nums:\n",
    "            if num in seen:\n",
    "                return num\n",
    "            seen.add(num)"
   ]
  },
  {
   "cell_type": "markdown",
   "metadata": {},
   "source": [
    "## 937. Reorder Data in Log Files (String List) (Amazon 142)\n",
    "\n",
    "O(Alog(A))  \n",
    "O(A)"
   ]
  },
  {
   "cell_type": "code",
   "execution_count": null,
   "metadata": {},
   "outputs": [],
   "source": [
    "class Solution:\n",
    "    def reorderLogFiles(self, logs):\n",
    "        \"\"\"\n",
    "        :type logs: List[str]\n",
    "        :rtype: List[str]\n",
    "        \"\"\"\n",
    "        \n",
    "        def helper(log):\n",
    "            iden, rest = log.split(\" \", 1)\n",
    "            \n",
    "            if rest[0].isalpha():\n",
    "                return (0, rest, iden)\n",
    "            \n",
    "            else:\n",
    "                return (1,)\n",
    "            \n",
    "        return sorted(logs, key = helper)"
   ]
  },
  {
   "cell_type": "code",
   "execution_count": null,
   "metadata": {},
   "outputs": [],
   "source": [
    "logs = [\"a1 9 2 3 1\",\"g1 act car\",\"zo4 4 7\",\"ab1 off key dog\",\"a8 act zoo\"]\n",
    "\n",
    "for log in logs:\n",
    "#     ids, rest = log.split(' ', 1)\n",
    "#     print(ids, ',', type(rest))\n",
    "    s = log.split(' ', 2)\n",
    "    print(s)"
   ]
  },
  {
   "cell_type": "code",
   "execution_count": null,
   "metadata": {},
   "outputs": [],
   "source": [
    "logs = [\"a1 9 2 3 1\",\"g1 act car\",\"zo4 4 7\",\"ab1 off key dog\",\"a8 act zoo\"]\n",
    "\n",
    "for log in logs:\n",
    "    ids = log.split(' ', 1)\n",
    "    print(ids)"
   ]
  },
  {
   "cell_type": "markdown",
   "metadata": {},
   "source": [
    "## Construct Odd Even Array (Google Phone)"
   ]
  },
  {
   "cell_type": "code",
   "execution_count": null,
   "metadata": {},
   "outputs": [],
   "source": [
    "def oddEven(arr):\n",
    "    l = 0\n",
    "    r = len(arr) // 2    \n",
    "    while r <= len(arr) - 1:\n",
    "        arr[l], arr[r] = arr[r], arr[l]\n",
    "        l += 2\n",
    "        r += 1\n",
    "        \n",
    "    for l in range(1, len(arr), 2):\n",
    "        r = l + 2\n",
    "        while r <= len(arr) - 1:\n",
    "            if arr[l] < arr[r]:\n",
    "                arr[l], arr[r] = arr[r], arr[l]\n",
    "            r += 2"
   ]
  },
  {
   "cell_type": "code",
   "execution_count": null,
   "metadata": {},
   "outputs": [],
   "source": [
    "arr = [1, 2, 3, 4, 5, 6, 7]\n",
    "oddEven(arr)\n",
    "arr"
   ]
  },
  {
   "cell_type": "code",
   "execution_count": null,
   "metadata": {},
   "outputs": [],
   "source": [
    "for l in range(1, 7, 2):\n",
    "    r = l + 2\n",
    "    while r <= 6:\n",
    "        print(l, r)\n",
    "        r += 2"
   ]
  },
  {
   "cell_type": "markdown",
   "metadata": {},
   "source": [
    "## Minimum Swaps to Sort Array (Google Phone)"
   ]
  },
  {
   "cell_type": "code",
   "execution_count": null,
   "metadata": {},
   "outputs": [],
   "source": [
    "static int minimumSwaps(int[] a) {\n",
    "        int swap=0;\n",
    "        for(int i=0;i<a.length;i++){\n",
    "            if(i+1!=a[i]){\n",
    "                int t=i;\n",
    "                while(a[t]!=i+1){\n",
    "                    t++;  \n",
    "                }\n",
    "                int temp=a[t];\n",
    "                a[t]=a[i];\n",
    "                a[i]=temp;\n",
    "                swap++;\n",
    "            }\n",
    "        }\n",
    "        return swap;\n",
    "\n",
    "    }"
   ]
  },
  {
   "cell_type": "code",
   "execution_count": null,
   "metadata": {},
   "outputs": [],
   "source": [
    "def minimumSwaps(array):\n",
    "    swap = 0\n",
    "    for i in range(len(array)):\n",
    "        if array[i] != i + 1:\n",
    "            tmp = i\n",
    "            while array[tmp] != i + 1:\n",
    "                tmp += 1\n",
    "                \n",
    "            array[i], array[tmp] = array[tmp], array[i]\n",
    "            swap += 1\n",
    "            \n",
    "    return swap"
   ]
  },
  {
   "cell_type": "code",
   "execution_count": null,
   "metadata": {},
   "outputs": [],
   "source": [
    "public class Solution {\n",
    "    \n",
    "    static int minimumSwaps(int[] array) {\n",
    "        int n = array.length - 1;\n",
    "        int minSwaps = 0;\n",
    "        for (int i = 0; i < n; i++) {\n",
    "            if (i < array[i] - 1) {\n",
    "                swap(array, i, Math.min(n, array[i] - 1));\n",
    "                minSwaps++;\n",
    "                i--;\n",
    "            }\n",
    "        }\n",
    "        return minSwaps;\n",
    "    }\n"
   ]
  },
  {
   "cell_type": "code",
   "execution_count": null,
   "metadata": {},
   "outputs": [],
   "source": [
    "def minimum(array):\n",
    "    swap = 0\n",
    "    for i in range(len(array)):\n",
    "        if i < array[i] - 1:\n",
    "            x = min(len(array)-1, array[i]-1)\n",
    "            array[i], array[x] = array[x], array[i]\n",
    "            swap += 1\n",
    "            i -= 1\n",
    "            \n",
    "    return swap"
   ]
  },
  {
   "cell_type": "code",
   "execution_count": null,
   "metadata": {},
   "outputs": [],
   "source": [
    "def m(array):\n",
    "    swap = 0\n",
    "    idx = 0\n",
    "    for i in range(len(array)):\n",
    "        if array[i] != i + 1:\n",
    "            for j in range(i+1, len(array)):\n",
    "                if array[j] == i + 1:\n",
    "                    idx = j\n",
    "                    break\n",
    "                    \n",
    "            array[i], array[idx] = array[idx], array[i]\n",
    "            swap += 1\n",
    "            \n",
    "    return swap"
   ]
  },
  {
   "cell_type": "code",
   "execution_count": null,
   "metadata": {},
   "outputs": [],
   "source": [
    "def mini(arr):\n",
    "    total_swaps = 0\n",
    "    start = 0\n",
    "    while start < len(arr):\n",
    "        if arr[start] == start + 1:\n",
    "            start += 1\n",
    "            continue\n",
    "        arr[arr[start] - 1], arr[start] = arr[start], arr[arr[start] - 1]\n",
    "        total_swaps += 1\n",
    "    return total_swaps"
   ]
  },
  {
   "cell_type": "code",
   "execution_count": null,
   "metadata": {},
   "outputs": [],
   "source": [
    "import heapq\n",
    "def minSwaps(nums):\n",
    "    dic = {}\n",
    "    for i in range(len(nums)):\n",
    "        dic[nums[i]] = i\n",
    "    \n",
    "    heap = nums[::]\n",
    "    heapq.heapify(heap)\n",
    "\n",
    "    swaps = 0\n",
    "    for i in range(len(nums)):\n",
    "        smallest = heapq.heappop(heap)\n",
    "\n",
    "       # check if previous swappes luckily made the array sorted\n",
    "        if nums[i] != smallest:\n",
    "            cur = nums[i] # needed to update the dic two lines below\n",
    "            nums[i], nums[dic[smallest]] = nums[dic[smallest]], nums[i]\n",
    "            dic[smallest], dic[cur] = dic[cur], dic[smallest]\n",
    "            swaps += 1\n",
    "\n",
    "    return swaps"
   ]
  },
  {
   "cell_type": "code",
   "execution_count": null,
   "metadata": {},
   "outputs": [],
   "source": [
    "array = [5,1,3,2]\n",
    "minSwaps(array)"
   ]
  },
  {
   "cell_type": "code",
   "execution_count": null,
   "metadata": {},
   "outputs": [],
   "source": [
    "def alternatingSort(a):\n",
    "    b = [a[0]] * len(a)\n",
    "    \n",
    "    index = -1\n",
    "    for i in range(1, len(a), 2):\n",
    "        \n",
    "        b[i] = a[index]\n",
    "        index -= 1\n",
    "        \n",
    "    index2 = 1\n",
    "    for i in range(2, len(a), 2):\n",
    "        b[i] = a[index2]\n",
    "        \n",
    "        index2 += 1\n",
    "        \n",
    "    for i in range(0, len(b)-1):\n",
    "        if b[i] >= b[i+1]:\n",
    "            return False\n",
    "    \n",
    "    print(b)\n",
    "    return True "
   ]
  },
  {
   "cell_type": "code",
   "execution_count": 11,
   "metadata": {},
   "outputs": [
    {
     "name": "stdout",
     "output_type": "stream",
     "text": [
      "dic1 Counter({'b': 2, 'a': 1, 'c': 1})\n",
      "dic2 Counter({'d': 1, 'e': 1, 'f': 1})\n"
     ]
    },
    {
     "data": {
      "text/plain": [
       "'adefbbc'"
      ]
     },
     "execution_count": 11,
     "metadata": {},
     "output_type": "execute_result"
    }
   ],
   "source": [
    "from collections import Counter\n",
    "def mergeStrings(s1, s2):\n",
    "    dic1 = Counter(s1)\n",
    "    dic2 = Counter(s2)\n",
    "    \n",
    "    print('dic1', dic1)\n",
    "    print('dic2', dic2)\n",
    "    \n",
    "    res = []\n",
    "    \n",
    "    i = 0\n",
    "    j = 0\n",
    "    while i <= len(s1) -1 and j <= len(s2) -1:\n",
    "        if dic1[s1[i]] == dic2[s2[j]]:\n",
    "            if s1[i] <= s2[j]:\n",
    "                res.append(s1[i])\n",
    "                i += 1\n",
    "\n",
    "            else:\n",
    "                res.append(s2[j])\n",
    "                j += 1\n",
    "                \n",
    "        elif dic1[s1[i]] > dic2[s2[j]]:\n",
    "            res.append(s2[j])\n",
    "            j += 1\n",
    "            \n",
    "        elif dic1[s1[i]] < dic2[s2[j]]:\n",
    "            res.append(s1[i])\n",
    "            i += 1\n",
    "            \n",
    "    while i <= len(s1) - 1:\n",
    "        res.append(s1[i])\n",
    "        i += 1\n",
    "    while j <= len(s2) - 1:\n",
    "        res.append(s2[j])\n",
    "        j += 1\n",
    "            \n",
    "            \n",
    "    return ''.join(res)\n",
    "\n",
    "s1 = 'abbc'\n",
    "s2 = 'def'\n",
    "mergeStrings(s1, s2)"
   ]
  },
  {
   "cell_type": "markdown",
   "metadata": {},
   "source": [
    "## Watering Plants (Google OA)"
   ]
  },
  {
   "cell_type": "markdown",
   "metadata": {},
   "source": [
    "Input: plants = [2, 4, 5, 1, 2], capacity = 6\n",
    "Output: 17\n",
    "Explanation:\n",
    "First you water plants[0] and plants[1] (2 steps).\n",
    "Then you have to go back to refill (2 steps) and water plants[2] and plants[3] (4 steps).\n",
    "Then again you have to refill (4 steps) and water plants[4] (5 steps).\n",
    "So 2 + 2 + 4 + 4 + 5 = 17."
   ]
  },
  {
   "cell_type": "code",
   "execution_count": null,
   "metadata": {},
   "outputs": [],
   "source": [
    "class Solution:\n",
    "    def solution(self, plants, capacity):\n",
    "        cur = capacity\n",
    "        i = 0\n",
    "        res = 0\n",
    "        while i <= len(plants) -1:\n",
    "            if cur >= plants[i]:\n",
    "#                 plants[i] = 0\n",
    "                cur -= plants[i]\n",
    "                res += 1\n",
    "                i += 1\n",
    "                \n",
    "            elif cur < plants[i]:\n",
    "                cur = capacity - plants[i]\n",
    "#                 plants[i] = 0\n",
    "                res += i * 2 + 1\n",
    "                i += 1\n",
    "        \n",
    "        return res"
   ]
  },
  {
   "cell_type": "code",
   "execution_count": null,
   "metadata": {},
   "outputs": [],
   "source": [
    "s = Solution()\n",
    "s.solution([2,2,1,1,2], 3)"
   ]
  },
  {
   "cell_type": "code",
   "execution_count": null,
   "metadata": {},
   "outputs": [],
   "source": [
    "class Solution:\n",
    "    def solution(self, flowers, cap1, cap2):\n",
    "        res = 2\n",
    "        me = cap1\n",
    "        friend = cap2\n",
    "        \n",
    "        mid = len(flowers)//2\n",
    "        \n",
    "        for i in range(mid):\n",
    "            if me < flowers[i]:\n",
    "                me = cap1\n",
    "                res += 1\n",
    "            me -= flowers[i]\n",
    "            \n",
    "        flowers2 = flowers[::-1]\n",
    "        for i in range(len(mid):\n",
    "            if friend < flowers2[i]:\n",
    "                friend = cap2\n",
    "                res += 1\n",
    "            friend -= flowers[i]\n",
    "\n",
    "        if len(flowers) % 2:\n",
    "            if (me + friend) < flowers[mid]:\n",
    "                res += 1\n",
    "                \n",
    "        return res"
   ]
  },
  {
   "cell_type": "code",
   "execution_count": null,
   "metadata": {},
   "outputs": [],
   "source": [
    "flowers = [2,4,5,1,2]\n",
    "s = Solution()\n",
    "s.solution(flowers, 5, 7)"
   ]
  },
  {
   "cell_type": "markdown",
   "metadata": {},
   "source": [
    "## 1007. Minimum Domino Rotations For Equal Row (Google OA)"
   ]
  },
  {
   "cell_type": "code",
   "execution_count": null,
   "metadata": {},
   "outputs": [],
   "source": [
    "class Solution:\n",
    "    def minDominoRotations(self, A: List[int], B: List[int]) -> int:\n",
    "        def qualified_domino(num):\n",
    "            for i in range(len(A)):\n",
    "                if A[i] != num and B[i] != num:\n",
    "                    return False\n",
    "            return True\n",
    "        \n",
    "        if not qualified_domino(A[0]) and not qualified_domino(B[0]):\n",
    "            return -1\n",
    "            \n",
    "        if qualified_domino(A[0]):\n",
    "            return min(len(A)-A.count(A[0]), len(B)-B.count(A[0]))\n",
    "            \n",
    "        if qualified_domino(B[0]):\n",
    "            return min(len(A)-A.count(B[0]), len(B)-B.count(B[0]))"
   ]
  }
 ],
 "metadata": {
  "kernelspec": {
   "display_name": "Python 3",
   "language": "python",
   "name": "python3"
  },
  "language_info": {
   "codemirror_mode": {
    "name": "ipython",
    "version": 3
   },
   "file_extension": ".py",
   "mimetype": "text/x-python",
   "name": "python",
   "nbconvert_exporter": "python",
   "pygments_lexer": "ipython3",
   "version": "3.8.1"
  }
 },
 "nbformat": 4,
 "nbformat_minor": 4
}
